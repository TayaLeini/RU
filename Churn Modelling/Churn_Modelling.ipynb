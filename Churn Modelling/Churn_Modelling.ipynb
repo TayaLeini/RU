{
  "nbformat": 4,
  "nbformat_minor": 0,
  "metadata": {
    "colab": {
      "provenance": []
    },
    "kernelspec": {
      "name": "python3",
      "display_name": "Python 3"
    },
    "language_info": {
      "name": "python"
    }
  },
  "cells": [
    {
      "cell_type": "markdown",
      "source": [
        "# ОПИСАНИЕ ДАННЫХ"
      ],
      "metadata": {
        "id": "AyEvIdbU-ZFG"
      }
    },
    {
      "cell_type": "markdown",
      "source": [
        "Банки стремятся удержать как можно больше активных клиентов. Естественно, им любопытно узнать, удовлетворяются ли потребности их клиентской базы и планируют ли их клиенты покинуть компанию. Если банк подозревает, что его клиент потенциально может склониться к другой компании, банк может принять меры, чтобы убедить клиента остаться (целевая маркетинговая кампания, более личное отношение и т. д.).\n",
        "\n",
        "Цель этой записной книжки — найти наиболее точную и точную модель для прогнозирования того, какие клиенты (тестовые данные) останутся, а какие колеблются и могут планировать покинуть компанию. Мы используем набор данных клиентов банка (10000 строк) с атрибутами, указанными ниже."
      ],
      "metadata": {
        "id": "ER4LdeNz-d3v"
      }
    },
    {
      "cell_type": "markdown",
      "source": [
        "Набор данных имеет следующие атрибуты:\n",
        "\n",
        "Rownumber: уникальный идентификатор для каждой строки.  \n",
        "CustomerID: уникальный идентификатор для каждого клиента  \n",
        "Surname: фамилия клиента  \n",
        "CreditScore: кредитный рейтинг клиента  \n",
        "Geography: Страна происхождения клиента  \n",
        "Gender: Пол клиента  \n",
        "Age: Возраст клиента  \n",
        "Tenure: количество лет, в течение которых клиент работал в банке.  \n",
        "Balance: Баланс клиента на счете  \n",
        "NumOfProducts: количество продуктов клиента.  \n",
        "HasCrCard: Отметьте, есть ли у клиента кредитная карта или нет  \n",
        "IsActiveMember: отметьте, является ли клиент активным членом банка или нет  \n",
        "EstimatedSalary: ориентировочная годовая зарплата клиента в евро.  \n",
        "Exited: целевая переменная, флаг, покинул ли клиент банк или нет  "
      ],
      "metadata": {
        "id": "WsGjWpvD-gEw"
      }
    },
    {
      "cell_type": "markdown",
      "source": [
        "#ИССЛЕДУЕМ ДАННЫЕ"
      ],
      "metadata": {
        "id": "JVJIVVbXE7dj"
      }
    },
    {
      "cell_type": "code",
      "execution_count": 1,
      "metadata": {
        "id": "DHJqO-yBnGU6",
        "colab": {
          "base_uri": "https://localhost:8080/"
        },
        "outputId": "4e8d8ba0-f674-4a23-e3b7-2752997a7fea"
      },
      "outputs": [
        {
          "output_type": "stream",
          "name": "stdout",
          "text": [
            "Mounted at /content/gdrive\n"
          ]
        }
      ],
      "source": [
        "from google.colab import drive\n",
        "drive.mount('/content/gdrive')"
      ]
    },
    {
      "cell_type": "code",
      "source": [
        "pip install --q catboost"
      ],
      "metadata": {
        "id": "E-FBGkbTQ0qp",
        "colab": {
          "base_uri": "https://localhost:8080/"
        },
        "outputId": "1d7268df-a401-412a-bd80-9191b1104ab5"
      },
      "execution_count": 2,
      "outputs": [
        {
          "output_type": "stream",
          "name": "stdout",
          "text": [
            "\u001b[2K     \u001b[90m━━━━━━━━━━━━━━━━━━━━━━━━━━━━━━━━━━━━━━━━\u001b[0m \u001b[32m76.6/76.6 MB\u001b[0m \u001b[31m4.9 MB/s\u001b[0m eta \u001b[36m0:00:00\u001b[0m\n",
            "\u001b[?25h"
          ]
        }
      ]
    },
    {
      "cell_type": "code",
      "source": [
        "import pandas as pd\n",
        "import seaborn as sns\n",
        "import plotly.graph_objects as go\n",
        "import xgboost as xgb\n",
        "import plotly.express as px\n",
        "import matplotlib.pyplot as plt\n",
        "from sklearn.preprocessing import OrdinalEncoder\n",
        "from sklearn.preprocessing import StandardScaler\n",
        "from sklearn.model_selection import train_test_split\n",
        "from sklearn.metrics import roc_auc_score\n",
        "from sklearn.metrics import f1_score\n",
        "from sklearn.metrics import confusion_matrix\n",
        "from sklearn.metrics import roc_curve\n",
        "from sklearn.model_selection import GridSearchCV\n",
        "import numpy as np\n",
        "from sklearn.metrics import accuracy_score\n",
        "from sklearn.metrics import recall_score\n",
        "from sklearn.metrics import precision_score\n",
        "from sklearn.metrics import f1_score\n",
        "from sklearn.metrics import classification_report\n",
        "from sklearn.linear_model import LogisticRegression\n",
        "from sklearn.ensemble import RandomForestClassifier\n",
        "from sklearn.model_selection import StratifiedKFold\n",
        "from catboost import CatBoostClassifier\n",
        "from sklearn.model_selection import cross_val_score\n",
        "from sklearn.model_selection import cross_validate\n",
        "from sklearn.metrics import fbeta_score, make_scorer\n",
        "import lightgbm as lgb\n",
        "from imblearn.over_sampling  import SMOTE"
      ],
      "metadata": {
        "id": "dw0GUO9mqEks"
      },
      "execution_count": 3,
      "outputs": []
    },
    {
      "cell_type": "code",
      "source": [
        "df = pd.read_csv('/content/gdrive/MyDrive/Colab Notebooks/Churn_Modelling.csv')"
      ],
      "metadata": {
        "id": "Y1BuNNxhpwmK"
      },
      "execution_count": 4,
      "outputs": []
    },
    {
      "cell_type": "code",
      "source": [
        "df.info()\n",
        "df.head()"
      ],
      "metadata": {
        "id": "Yo-W1h8eqJ-L",
        "colab": {
          "base_uri": "https://localhost:8080/",
          "height": 605
        },
        "outputId": "3371bb9d-3a82-4dd1-e6b5-0a6530800a93"
      },
      "execution_count": 5,
      "outputs": [
        {
          "output_type": "stream",
          "name": "stdout",
          "text": [
            "<class 'pandas.core.frame.DataFrame'>\n",
            "RangeIndex: 10000 entries, 0 to 9999\n",
            "Data columns (total 14 columns):\n",
            " #   Column           Non-Null Count  Dtype  \n",
            "---  ------           --------------  -----  \n",
            " 0   RowNumber        10000 non-null  int64  \n",
            " 1   CustomerId       10000 non-null  int64  \n",
            " 2   Surname          10000 non-null  object \n",
            " 3   CreditScore      10000 non-null  int64  \n",
            " 4   Geography        10000 non-null  object \n",
            " 5   Gender           10000 non-null  object \n",
            " 6   Age              10000 non-null  int64  \n",
            " 7   Tenure           10000 non-null  int64  \n",
            " 8   Balance          10000 non-null  float64\n",
            " 9   NumOfProducts    10000 non-null  int64  \n",
            " 10  HasCrCard        10000 non-null  int64  \n",
            " 11  IsActiveMember   10000 non-null  int64  \n",
            " 12  EstimatedSalary  10000 non-null  float64\n",
            " 13  Exited           10000 non-null  int64  \n",
            "dtypes: float64(2), int64(9), object(3)\n",
            "memory usage: 1.1+ MB\n"
          ]
        },
        {
          "output_type": "execute_result",
          "data": {
            "text/plain": [
              "   RowNumber  CustomerId   Surname  CreditScore Geography  Gender  Age  \\\n",
              "0          1    15634602  Hargrave          619    France  Female   42   \n",
              "1          2    15647311      Hill          608     Spain  Female   41   \n",
              "2          3    15619304      Onio          502    France  Female   42   \n",
              "3          4    15701354      Boni          699    France  Female   39   \n",
              "4          5    15737888  Mitchell          850     Spain  Female   43   \n",
              "\n",
              "   Tenure    Balance  NumOfProducts  HasCrCard  IsActiveMember  \\\n",
              "0       2       0.00              1          1               1   \n",
              "1       1   83807.86              1          0               1   \n",
              "2       8  159660.80              3          1               0   \n",
              "3       1       0.00              2          0               0   \n",
              "4       2  125510.82              1          1               1   \n",
              "\n",
              "   EstimatedSalary  Exited  \n",
              "0        101348.88       1  \n",
              "1        112542.58       0  \n",
              "2        113931.57       1  \n",
              "3         93826.63       0  \n",
              "4         79084.10       0  "
            ],
            "text/html": [
              "\n",
              "  <div id=\"df-c7fd1c1f-e873-4aa2-8416-43c6c7631d18\">\n",
              "    <div class=\"colab-df-container\">\n",
              "      <div>\n",
              "<style scoped>\n",
              "    .dataframe tbody tr th:only-of-type {\n",
              "        vertical-align: middle;\n",
              "    }\n",
              "\n",
              "    .dataframe tbody tr th {\n",
              "        vertical-align: top;\n",
              "    }\n",
              "\n",
              "    .dataframe thead th {\n",
              "        text-align: right;\n",
              "    }\n",
              "</style>\n",
              "<table border=\"1\" class=\"dataframe\">\n",
              "  <thead>\n",
              "    <tr style=\"text-align: right;\">\n",
              "      <th></th>\n",
              "      <th>RowNumber</th>\n",
              "      <th>CustomerId</th>\n",
              "      <th>Surname</th>\n",
              "      <th>CreditScore</th>\n",
              "      <th>Geography</th>\n",
              "      <th>Gender</th>\n",
              "      <th>Age</th>\n",
              "      <th>Tenure</th>\n",
              "      <th>Balance</th>\n",
              "      <th>NumOfProducts</th>\n",
              "      <th>HasCrCard</th>\n",
              "      <th>IsActiveMember</th>\n",
              "      <th>EstimatedSalary</th>\n",
              "      <th>Exited</th>\n",
              "    </tr>\n",
              "  </thead>\n",
              "  <tbody>\n",
              "    <tr>\n",
              "      <th>0</th>\n",
              "      <td>1</td>\n",
              "      <td>15634602</td>\n",
              "      <td>Hargrave</td>\n",
              "      <td>619</td>\n",
              "      <td>France</td>\n",
              "      <td>Female</td>\n",
              "      <td>42</td>\n",
              "      <td>2</td>\n",
              "      <td>0.00</td>\n",
              "      <td>1</td>\n",
              "      <td>1</td>\n",
              "      <td>1</td>\n",
              "      <td>101348.88</td>\n",
              "      <td>1</td>\n",
              "    </tr>\n",
              "    <tr>\n",
              "      <th>1</th>\n",
              "      <td>2</td>\n",
              "      <td>15647311</td>\n",
              "      <td>Hill</td>\n",
              "      <td>608</td>\n",
              "      <td>Spain</td>\n",
              "      <td>Female</td>\n",
              "      <td>41</td>\n",
              "      <td>1</td>\n",
              "      <td>83807.86</td>\n",
              "      <td>1</td>\n",
              "      <td>0</td>\n",
              "      <td>1</td>\n",
              "      <td>112542.58</td>\n",
              "      <td>0</td>\n",
              "    </tr>\n",
              "    <tr>\n",
              "      <th>2</th>\n",
              "      <td>3</td>\n",
              "      <td>15619304</td>\n",
              "      <td>Onio</td>\n",
              "      <td>502</td>\n",
              "      <td>France</td>\n",
              "      <td>Female</td>\n",
              "      <td>42</td>\n",
              "      <td>8</td>\n",
              "      <td>159660.80</td>\n",
              "      <td>3</td>\n",
              "      <td>1</td>\n",
              "      <td>0</td>\n",
              "      <td>113931.57</td>\n",
              "      <td>1</td>\n",
              "    </tr>\n",
              "    <tr>\n",
              "      <th>3</th>\n",
              "      <td>4</td>\n",
              "      <td>15701354</td>\n",
              "      <td>Boni</td>\n",
              "      <td>699</td>\n",
              "      <td>France</td>\n",
              "      <td>Female</td>\n",
              "      <td>39</td>\n",
              "      <td>1</td>\n",
              "      <td>0.00</td>\n",
              "      <td>2</td>\n",
              "      <td>0</td>\n",
              "      <td>0</td>\n",
              "      <td>93826.63</td>\n",
              "      <td>0</td>\n",
              "    </tr>\n",
              "    <tr>\n",
              "      <th>4</th>\n",
              "      <td>5</td>\n",
              "      <td>15737888</td>\n",
              "      <td>Mitchell</td>\n",
              "      <td>850</td>\n",
              "      <td>Spain</td>\n",
              "      <td>Female</td>\n",
              "      <td>43</td>\n",
              "      <td>2</td>\n",
              "      <td>125510.82</td>\n",
              "      <td>1</td>\n",
              "      <td>1</td>\n",
              "      <td>1</td>\n",
              "      <td>79084.10</td>\n",
              "      <td>0</td>\n",
              "    </tr>\n",
              "  </tbody>\n",
              "</table>\n",
              "</div>\n",
              "      <button class=\"colab-df-convert\" onclick=\"convertToInteractive('df-c7fd1c1f-e873-4aa2-8416-43c6c7631d18')\"\n",
              "              title=\"Convert this dataframe to an interactive table.\"\n",
              "              style=\"display:none;\">\n",
              "        \n",
              "  <svg xmlns=\"http://www.w3.org/2000/svg\" height=\"24px\"viewBox=\"0 0 24 24\"\n",
              "       width=\"24px\">\n",
              "    <path d=\"M0 0h24v24H0V0z\" fill=\"none\"/>\n",
              "    <path d=\"M18.56 5.44l.94 2.06.94-2.06 2.06-.94-2.06-.94-.94-2.06-.94 2.06-2.06.94zm-11 1L8.5 8.5l.94-2.06 2.06-.94-2.06-.94L8.5 2.5l-.94 2.06-2.06.94zm10 10l.94 2.06.94-2.06 2.06-.94-2.06-.94-.94-2.06-.94 2.06-2.06.94z\"/><path d=\"M17.41 7.96l-1.37-1.37c-.4-.4-.92-.59-1.43-.59-.52 0-1.04.2-1.43.59L10.3 9.45l-7.72 7.72c-.78.78-.78 2.05 0 2.83L4 21.41c.39.39.9.59 1.41.59.51 0 1.02-.2 1.41-.59l7.78-7.78 2.81-2.81c.8-.78.8-2.07 0-2.86zM5.41 20L4 18.59l7.72-7.72 1.47 1.35L5.41 20z\"/>\n",
              "  </svg>\n",
              "      </button>\n",
              "      \n",
              "  <style>\n",
              "    .colab-df-container {\n",
              "      display:flex;\n",
              "      flex-wrap:wrap;\n",
              "      gap: 12px;\n",
              "    }\n",
              "\n",
              "    .colab-df-convert {\n",
              "      background-color: #E8F0FE;\n",
              "      border: none;\n",
              "      border-radius: 50%;\n",
              "      cursor: pointer;\n",
              "      display: none;\n",
              "      fill: #1967D2;\n",
              "      height: 32px;\n",
              "      padding: 0 0 0 0;\n",
              "      width: 32px;\n",
              "    }\n",
              "\n",
              "    .colab-df-convert:hover {\n",
              "      background-color: #E2EBFA;\n",
              "      box-shadow: 0px 1px 2px rgba(60, 64, 67, 0.3), 0px 1px 3px 1px rgba(60, 64, 67, 0.15);\n",
              "      fill: #174EA6;\n",
              "    }\n",
              "\n",
              "    [theme=dark] .colab-df-convert {\n",
              "      background-color: #3B4455;\n",
              "      fill: #D2E3FC;\n",
              "    }\n",
              "\n",
              "    [theme=dark] .colab-df-convert:hover {\n",
              "      background-color: #434B5C;\n",
              "      box-shadow: 0px 1px 3px 1px rgba(0, 0, 0, 0.15);\n",
              "      filter: drop-shadow(0px 1px 2px rgba(0, 0, 0, 0.3));\n",
              "      fill: #FFFFFF;\n",
              "    }\n",
              "  </style>\n",
              "\n",
              "      <script>\n",
              "        const buttonEl =\n",
              "          document.querySelector('#df-c7fd1c1f-e873-4aa2-8416-43c6c7631d18 button.colab-df-convert');\n",
              "        buttonEl.style.display =\n",
              "          google.colab.kernel.accessAllowed ? 'block' : 'none';\n",
              "\n",
              "        async function convertToInteractive(key) {\n",
              "          const element = document.querySelector('#df-c7fd1c1f-e873-4aa2-8416-43c6c7631d18');\n",
              "          const dataTable =\n",
              "            await google.colab.kernel.invokeFunction('convertToInteractive',\n",
              "                                                     [key], {});\n",
              "          if (!dataTable) return;\n",
              "\n",
              "          const docLinkHtml = 'Like what you see? Visit the ' +\n",
              "            '<a target=\"_blank\" href=https://colab.research.google.com/notebooks/data_table.ipynb>data table notebook</a>'\n",
              "            + ' to learn more about interactive tables.';\n",
              "          element.innerHTML = '';\n",
              "          dataTable['output_type'] = 'display_data';\n",
              "          await google.colab.output.renderOutput(dataTable, element);\n",
              "          const docLink = document.createElement('div');\n",
              "          docLink.innerHTML = docLinkHtml;\n",
              "          element.appendChild(docLink);\n",
              "        }\n",
              "      </script>\n",
              "    </div>\n",
              "  </div>\n",
              "  "
            ]
          },
          "metadata": {},
          "execution_count": 5
        }
      ]
    },
    {
      "cell_type": "code",
      "source": [
        "pip install --q phik"
      ],
      "metadata": {
        "id": "POo-fmY4qMmc",
        "colab": {
          "base_uri": "https://localhost:8080/"
        },
        "outputId": "9883673d-e518-4159-e588-2f7ed002d570"
      },
      "execution_count": 6,
      "outputs": [
        {
          "output_type": "stream",
          "name": "stdout",
          "text": [
            "\u001b[?25l     \u001b[90m━━━━━━━━━━━━━━━━━━━━━━━━━━━━━━━━━━━━━━━━\u001b[0m \u001b[32m0.0/679.5 KB\u001b[0m \u001b[31m?\u001b[0m eta \u001b[36m-:--:--\u001b[0m\r\u001b[2K     \u001b[91m━━━━━━━━━━━━━━━━━━━━━━━━━━━━━━━━━━━━━\u001b[0m\u001b[91m╸\u001b[0m \u001b[32m675.8/679.5 KB\u001b[0m \u001b[31m22.5 MB/s\u001b[0m eta \u001b[36m0:00:01\u001b[0m\r\u001b[2K     \u001b[90m━━━━━━━━━━━━━━━━━━━━━━━━━━━━━━━━━━━━━━\u001b[0m \u001b[32m679.5/679.5 KB\u001b[0m \u001b[31m14.7 MB/s\u001b[0m eta \u001b[36m0:00:00\u001b[0m\n",
            "\u001b[?25h"
          ]
        }
      ]
    },
    {
      "cell_type": "code",
      "source": [
        "import phik\n",
        "from phik.report import plot_correlation_matrix\n",
        "from phik import report"
      ],
      "metadata": {
        "id": "oAgPPtOuq-9w"
      },
      "execution_count": 7,
      "outputs": []
    },
    {
      "cell_type": "markdown",
      "source": [
        "## ИССЛЕДУЕМ ВАЖНОСТЬ ПАРАМЕТРОВ"
      ],
      "metadata": {
        "id": "VQnxQp2pFHko"
      }
    },
    {
      "cell_type": "code",
      "source": [
        "phik_overview = df.phik_matrix()\n",
        "phik_overview['Exited'].round(2).sort_values()"
      ],
      "metadata": {
        "id": "X1lAsiR_rVKB",
        "colab": {
          "base_uri": "https://localhost:8080/"
        },
        "outputId": "139a0f07-dadb-4d5c-e7f1-0fbb8c519c45"
      },
      "execution_count": 8,
      "outputs": [
        {
          "output_type": "stream",
          "name": "stdout",
          "text": [
            "interval columns not set, guessing: ['RowNumber', 'CustomerId', 'CreditScore', 'Age', 'Tenure', 'Balance', 'NumOfProducts', 'HasCrCard', 'IsActiveMember', 'EstimatedSalary', 'Exited']\n"
          ]
        },
        {
          "output_type": "stream",
          "name": "stderr",
          "text": [
            "/usr/local/lib/python3.8/dist-packages/phik/data_quality.py:59: UserWarning: The number of unique values of variable Surname is large: 2932. Are you sure this is not an interval variable? Analysis for pairs of variables including Surname can be slow.\n",
            "  warnings.warn(\n"
          ]
        },
        {
          "output_type": "execute_result",
          "data": {
            "text/plain": [
              "RowNumber          0.00\n",
              "Surname            0.00\n",
              "HasCrCard          0.00\n",
              "EstimatedSalary    0.00\n",
              "Tenure             0.02\n",
              "CustomerId         0.03\n",
              "CreditScore        0.10\n",
              "Geography          0.10\n",
              "Gender             0.17\n",
              "Balance            0.18\n",
              "IsActiveMember     0.24\n",
              "Age                0.49\n",
              "NumOfProducts      0.57\n",
              "Exited             1.00\n",
              "Name: Exited, dtype: float64"
            ]
          },
          "metadata": {},
          "execution_count": 8
        }
      ]
    },
    {
      "cell_type": "markdown",
      "source": [],
      "metadata": {
        "id": "sCDv8C0cFTkx"
      }
    },
    {
      "cell_type": "markdown",
      "source": [
        "## Определим наличие дубликатов"
      ],
      "metadata": {
        "id": "EFKprbc2FZld"
      }
    },
    {
      "cell_type": "code",
      "source": [
        "df.duplicated().sum()"
      ],
      "metadata": {
        "id": "Djn2ligqsqKT",
        "colab": {
          "base_uri": "https://localhost:8080/"
        },
        "outputId": "53ef540c-21d7-4d87-c11b-731cabcea667"
      },
      "execution_count": 9,
      "outputs": [
        {
          "output_type": "execute_result",
          "data": {
            "text/plain": [
              "0"
            ]
          },
          "metadata": {},
          "execution_count": 9
        }
      ]
    },
    {
      "cell_type": "code",
      "source": [
        "df = df.drop(['RowNumber','Surname','CustomerId'], axis=1)"
      ],
      "metadata": {
        "id": "NdNigoFVtsw6"
      },
      "execution_count": 10,
      "outputs": []
    },
    {
      "cell_type": "markdown",
      "source": [
        "## Посмотрим баланс классов на целевой выборке"
      ],
      "metadata": {
        "id": "UREgAecbFex3"
      }
    },
    {
      "cell_type": "code",
      "source": [
        "df['Exited'].value_counts(normalize=True)"
      ],
      "metadata": {
        "id": "6Gr4JUVJt_Uk",
        "colab": {
          "base_uri": "https://localhost:8080/"
        },
        "outputId": "616f234a-95ac-4bdd-c3ca-eb28d777f3d9"
      },
      "execution_count": 11,
      "outputs": [
        {
          "output_type": "execute_result",
          "data": {
            "text/plain": [
              "0    0.7963\n",
              "1    0.2037\n",
              "Name: Exited, dtype: float64"
            ]
          },
          "metadata": {},
          "execution_count": 11
        }
      ]
    },
    {
      "cell_type": "markdown",
      "source": [
        "## Исследуем важные параметры"
      ],
      "metadata": {
        "id": "mOXN3Pj_Fkck"
      }
    },
    {
      "cell_type": "code",
      "source": [
        "df['NumOfProducts'].value_counts()"
      ],
      "metadata": {
        "id": "hy8AQ3yqsZqZ",
        "colab": {
          "base_uri": "https://localhost:8080/"
        },
        "outputId": "e561c589-9c6c-468a-814e-7994133d5f35"
      },
      "execution_count": 12,
      "outputs": [
        {
          "output_type": "execute_result",
          "data": {
            "text/plain": [
              "1    5084\n",
              "2    4590\n",
              "3     266\n",
              "4      60\n",
              "Name: NumOfProducts, dtype: int64"
            ]
          },
          "metadata": {},
          "execution_count": 12
        }
      ]
    },
    {
      "cell_type": "code",
      "source": [
        "df.groupby(['Exited','NumOfProducts'])['NumOfProducts'].count()"
      ],
      "metadata": {
        "id": "6JkkZ6HkuIuq",
        "colab": {
          "base_uri": "https://localhost:8080/"
        },
        "outputId": "f8a7ea5c-e5f6-4b5b-f537-fe0bab8e74be"
      },
      "execution_count": 13,
      "outputs": [
        {
          "output_type": "execute_result",
          "data": {
            "text/plain": [
              "Exited  NumOfProducts\n",
              "0       1                3675\n",
              "        2                4242\n",
              "        3                  46\n",
              "1       1                1409\n",
              "        2                 348\n",
              "        3                 220\n",
              "        4                  60\n",
              "Name: NumOfProducts, dtype: int64"
            ]
          },
          "metadata": {},
          "execution_count": 13
        }
      ]
    },
    {
      "cell_type": "code",
      "source": [
        "palette_features = ['#E56B51', '#409996']\n",
        "sns.set(rc={'axes.facecolor':'lightgray'}) #background color of all plots\n",
        "\n",
        "plt.figure(figsize=(12,6.5)) \n",
        "plt.title('NumOfProducts', fontsize=15, fontweight='bold', fontname='DejaVu Sans', ha='center')\n",
        "ax = sns.countplot(data = df, x = 'NumOfProducts', hue = 'Exited', palette=palette_features)"
      ],
      "metadata": {
        "id": "RMTbnwQKGlzx",
        "colab": {
          "base_uri": "https://localhost:8080/",
          "height": 439
        },
        "outputId": "802b0c49-104d-41c6-8dcd-d8e2012323d4"
      },
      "execution_count": 14,
      "outputs": [
        {
          "output_type": "display_data",
          "data": {
            "text/plain": [
              "<Figure size 864x468 with 1 Axes>"
            ],
            "image/png": "[encoded data removed]"
          },
          "metadata": {}
        }
      ]
    },
    {
      "cell_type": "markdown",
      "source": [
        "Здесь видно, что клиенты кто остался имеют два продукта в банке"
      ],
      "metadata": {
        "id": "7IiS3WoyFwUq"
      }
    },
    {
      "cell_type": "code",
      "source": [
        "plt.figure(figsize=(8,8))\n",
        "df.NumOfProducts.hist()\n",
        "plt.xlabel('Number of products')\n",
        "plt.ylabel('Count')\n",
        "plt.title(r'Histogram Number of products distribution')\n",
        "plt.show()"
      ],
      "metadata": {
        "id": "FTZlp2qUwj9Q",
        "colab": {
          "base_uri": "https://localhost:8080/",
          "height": 518
        },
        "outputId": "f95c5c3f-25d5-4c31-95bd-a9cb0a0c69c4"
      },
      "execution_count": 15,
      "outputs": [
        {
          "output_type": "display_data",
          "data": {
            "text/plain": [
              "<Figure size 576x576 with 1 Axes>"
            ],
            "image/png": "[encoded data removed]"
          },
          "metadata": {}
        }
      ]
    },
    {
      "cell_type": "code",
      "source": [
        "df.groupby(['Exited','HasCrCard'])['HasCrCard'].count()"
      ],
      "metadata": {
        "id": "1ieRiIuawqxn",
        "colab": {
          "base_uri": "https://localhost:8080/"
        },
        "outputId": "a67a624c-12ac-4224-cfc2-446f5776cc05"
      },
      "execution_count": 16,
      "outputs": [
        {
          "output_type": "execute_result",
          "data": {
            "text/plain": [
              "Exited  HasCrCard\n",
              "0       0            2332\n",
              "        1            5631\n",
              "1       0             613\n",
              "        1            1424\n",
              "Name: HasCrCard, dtype: int64"
            ]
          },
          "metadata": {},
          "execution_count": 16
        }
      ]
    },
    {
      "cell_type": "code",
      "source": [
        "palette_features = ['#E56B51', '#409996']\n",
        "sns.set(rc={'axes.facecolor':'lightgray'}) #background color of all plots\n",
        "\n",
        "plt.figure(figsize=(12,6.5)) \n",
        "plt.title('HasCrCard', fontsize=15, fontweight='bold', fontname='DejaVu Sans', ha='center')\n",
        "ax = sns.countplot(data = df, x = 'HasCrCard', hue = 'Exited', palette=palette_features)"
      ],
      "metadata": {
        "id": "micTHm0aHHKe",
        "colab": {
          "base_uri": "https://localhost:8080/",
          "height": 439
        },
        "outputId": "2776187c-bebf-46c9-920b-73dda87dd84f"
      },
      "execution_count": 17,
      "outputs": [
        {
          "output_type": "display_data",
          "data": {
            "text/plain": [
              "<Figure size 864x468 with 1 Axes>"
            ],
            "image/png": "[encoded data removed]"
          },
          "metadata": {}
        }
      ]
    },
    {
      "cell_type": "markdown",
      "source": [
        "Видно, что количество клиентов ушедших имели меньше кредитных карт"
      ],
      "metadata": {
        "id": "VuPLGizxGKU-"
      }
    },
    {
      "cell_type": "code",
      "source": [
        "df.groupby(['Exited','IsActiveMember'])['IsActiveMember'].count()"
      ],
      "metadata": {
        "id": "BT4zjzNjwyBm",
        "colab": {
          "base_uri": "https://localhost:8080/"
        },
        "outputId": "256f59ea-29d2-46ad-b9cc-eba6f1d87fa1"
      },
      "execution_count": 18,
      "outputs": [
        {
          "output_type": "execute_result",
          "data": {
            "text/plain": [
              "Exited  IsActiveMember\n",
              "0       0                 3547\n",
              "        1                 4416\n",
              "1       0                 1302\n",
              "        1                  735\n",
              "Name: IsActiveMember, dtype: int64"
            ]
          },
          "metadata": {},
          "execution_count": 18
        }
      ]
    },
    {
      "cell_type": "code",
      "source": [
        "palette_features = ['#E56B51', '#409996']\n",
        "sns.set(rc={'axes.facecolor':'lightgray'}) #background color of all plots\n",
        "\n",
        "plt.figure(figsize=(12,6.5)) \n",
        "plt.title('IsActiveMember', fontsize=15, fontweight='bold', fontname='DejaVu Sans', ha='center')\n",
        "ax = sns.countplot(data = df, x = 'IsActiveMember', hue = 'Exited', palette=palette_features)"
      ],
      "metadata": {
        "id": "ze7O7_BDHg-S",
        "colab": {
          "base_uri": "https://localhost:8080/",
          "height": 439
        },
        "outputId": "f5ed7312-4442-4dc5-8be0-1339349c1c44"
      },
      "execution_count": 19,
      "outputs": [
        {
          "output_type": "display_data",
          "data": {
            "text/plain": [
              "<Figure size 864x468 with 1 Axes>"
            ],
            "image/png": "[encoded data removed]"
          },
          "metadata": {}
        }
      ]
    },
    {
      "cell_type": "code",
      "source": [
        "fig = px.box(df, y=\"EstimatedSalary\")\n",
        "fig.show()"
      ],
      "metadata": {
        "id": "LztkOlEZxy9O",
        "colab": {
          "base_uri": "https://localhost:8080/",
          "height": 542
        },
        "outputId": "24b1d3ca-7d5f-45e6-c71d-d81d45854076"
      },
      "execution_count": 20,
      "outputs": [
        {
          "output_type": "display_data",
          "data": {
            "text/html": [
              "<html>\n",
              "<head><meta charset=\"utf-8\" /></head>\n",
              "<body>\n",
              "    <div>            <script src=\"https://cdnjs.cloudflare.com/ajax/libs/mathjax/2.7.5/MathJax.js?config=TeX-AMS-MML_SVG\"></script><script type=\"text/javascript\">if (window.MathJax) {MathJax.Hub.Config({SVG: {font: \"STIX-Web\"}});}</script>                <script type=\"text/javascript\">window.PlotlyConfig = {MathJaxConfig: 'local'};</script>\n",
              "        <script src=\"https://cdn.plot.ly/plotly-2.8.3.min.js\"></script>                <div id=\"fe9887c3-87f4-440e-87f0-b1f3959a11c9\" class=\"plotly-graph-div\" style=\"height:525px; width:100%;\"></div>            <script type=\"text/javascript\">                                    window.PLOTLYENV=window.PLOTLYENV || {};                                    if (document.getElementById(\"fe9887c3-87f4-440e-87f0-b1f3959a11c9\")) {                    Plotly.newPlot(                        \"fe9887c3-87f4-440e-87f0-b1f3959a11c9\",                        [{\"alignmentgroup\":\"True\",\"hovertemplate\":\"EstimatedSalary=%{y}<extra></extra>\",\"legendgroup\":\"\",\"marker\":{\"color\":\"#636efa\"},\"name\":\"\",\"notched\":false,\"offsetgroup\":\"\",\"orientation\":\"v\",\"showlegend\":false,\"x0\":\" \",\"xaxis\":\"x\",\"y\":[101348.88,112542.58,113931.57,93826.63,79084.1,149756.71,10062.8,119346.88,74940.5,71725.73,80181.12,76390.01,26260.98,190857.79,65951.65,64327.26,5097.67,14406.41,158684.81,54724.03,170886.17,138555.46,118913.53,8487.75,187616.16,124508.29,170041.95,38433.35,100187.43,53483.21,140469.38,156731.91,81898.81,34410.55,142033.07,27822.99,114066.77,98453.45,40812.9,178074.04,70154.22,181297.65,94153.83,194365.76,158338.39,126517.46,119708.21,117622.8,90878.13,194099.12,198059.16,86424.57,116978.19,164040.94,40014.76,113410.49,87107.57,45613.75,1643.11,46775.28,84509.57,126494.82,178798.13,99398.36,92840.67,27758.36,110431.51,196673.28,113656.85,18203.0,28373.86,33953.87,44203.55,58426.81,145562.4,22388.0,139161.64,148210.64,194239.63,98301.61,171413.66,136458.19,26019.59,159235.29,1907.66,114675.75,128643.35,151869.35,93251.42,156791.36,174205.22,147132.46,109614.57,172290.61,85982.47,121277.78,64595.25,197276.13,99645.04,6534.18,161848.03,167162.43,41970.72,60536.56,177655.68,30984.59,10054.53,36976.52,71862.79,99449.86,63082.88,27231.26,86797.41,22994.32,101300.94,74169.13,115638.29,31766.3,199725.39,120834.48,38131.77,100130.95,141069.88,198129.36,183646.41,110265.24,8636.05,46824.08,171378.77,167256.35,124226.16,114935.21,35608.88,16459.37,124411.08,34941.23,167784.28,93165.34,75161.25,8590.83,189543.9,180427.24,193318.33,159123.82,126213.84,54141.5,141075.51,24495.03,74836.34,878.87,89520.75,149892.79,180800.42,98646.22,109041.53,17941.16,82996.47,92067.35,104719.66,112687.57,84699.56,83473.82,47125.11,106977.8,55582.54,139874.43,162503.48,196499.96,40721.24,53134.3,164017.89,155996.96,5472.7,112187.11,146457.83,27286.1,130553.47,179351.89,94774.12,8080.85,19482.5,48071.61,174531.27,55470.78,8546.87,95857.18,194945.8,131521.72,196108.51,148564.76,92982.61,17675.36,114996.43,86957.42,128077.8,600.36,43001.46,158591.12,47847.19,10488.44,5978.2,121409.06,146145.93,14374.86,94670.77,179670.31,199304.74,151954.39,142513.5,158264.62,169381.9,169915.02,88852.47,40645.81,60427.3,157959.02,133007.34,176576.62,34888.04,28737.71,98178.57,125010.24,167984.61,4861.72,108872.45,198252.88,26960.31,85746.52,77206.25,61048.53,111981.19,62232.6,156105.03,150135.38,93146.11,33462.94,144375.0,55803.96,89048.46,162812.16,136259.65,124052.97,74158.8,45071.09,62030.06,131953.23,79414.0,199638.56,157577.29,134420.75,99805.99,97932.68,170968.99,57558.95,176713.47,34283.23,198637.34,156917.12,50457.2,140075.55,65323.11,64323.24,14956.44,111879.21,18606.23,123137.01,148528.24,13898.31,81259.25,161051.75,191599.67,48559.19,186339.74,33159.37,93883.53,110899.3,11199.04,189992.97,164255.69,152167.79,33949.67,68143.93,47251.79,25885.72,192633.85,34577.36,161229.84,100816.29,181694.44,79078.91,137316.32,194926.86,51285.49,150401.53,112491.96,73656.38,106636.89,155853.52,162599.51,103737.82,160990.27,15462.84,10334.05,190686.16,94440.45,28257.63,170034.95,31824.29,127166.49,44937.01,188603.07,145111.37,171463.83,182822.5,87213.33,57175.32,120540.83,28714.34,85426.28,46170.75,64448.36,16278.97,182855.42,50404.72,107640.25,134132.65,103480.69,108761.05,179012.3,95145.14,72143.44,19162.89,144680.18,177772.03,5597.94,116828.51,174652.51,2010.98,14109.85,43527.4,86099.23,161574.19,38970.14,127587.22,30380.12,90908.95,138275.01,32171.79,126143.23,129892.93,102416.84,18719.67,61936.22,78358.94,147224.27,160979.66,132298.49,174248.52,123547.28,32790.02,181543.67,2319.96,189543.19,10940.4,199493.38,188193.25,172572.64,189339.6,53512.16,34004.44,10598.29,113428.77,183487.98,187658.09,172459.39,21016.0,122381.02,128123.66,19570.63,188150.6,111020.24,123775.15,146700.22,145251.35,82463.69,15928.49,45886.33,186489.95,162922.65,9262.77,84932.4,71557.12,77405.95,417.41,71405.17,153400.24,371.05,67789.99,145894.9,183840.51,108887.44,154071.27,179291.85,56937.43,112239.03,45909.87,173779.25,125696.26,159585.61,106761.47,129590.18,80006.65,140451.52,187929.43,167155.36,191420.71,11384.45,94898.1,106781.59,159508.52,93524.19,87168.46,8128.32,125518.32,48963.59,98368.24,148584.61,27474.81,76192.21,134600.94,72467.99,199645.45,42749.85,136050.44,73564.44,85578.63,129826.89,119666.0,68052.08,164104.74,80190.36,84126.75,70179.0,118024.1,145704.19,183049.41,120906.83,100433.83,138777.0,124694.99,40084.32,119232.33,43921.36,62222.81,56577.0,164253.35,7666.73,68487.51,199273.98,186062.36,195711.16,36692.17,106920.57,48725.68,167036.94,68777.26,18924.92,71905.77,64833.28,184843.77,176730.02,20629.4,28415.36,77231.27,102750.7,34580.8,183598.77,147358.27,108469.2,20612.82,181196.76,160249.1,110783.28,144995.33,150227.85,53718.28,75248.3,14353.43,130486.57,100127.71,196356.17,9983.88,118974.77,194998.34,134901.34,72924.56,101057.95,142838.64,127059.04,116503.92,54405.79,88721.84,74135.48,111346.22,194902.16,31474.27,21198.39,186976.6,117202.19,143739.29,161811.23,98090.91,71095.41,13107.24,67110.59,88225.02,62256.87,135925.72,177815.87,126471.13,188574.12,119175.45,139093.73,115916.55,96463.25,112349.51,165303.79,166031.08,38411.79,77783.35,29871.79,59747.63,79919.13,76773.53,54018.93,70649.64,59093.39,127569.8,18260.98,73275.96,136129.49,153237.59,106841.12,109078.35,87822.14,126644.98,47414.15,41879.99,75808.1,47911.03,28737.78,2079.2,121562.33,55003.79,193131.42,191932.27,159418.1,191468.78,38913.68,705.18,138490.03,82970.69,76744.72,71244.59,12182.15,141210.5,191763.07,37938.74,74890.58,166698.18,62678.53,67740.08,161519.77,159835.78,30876.84,14858.1,75685.97,144183.1,65170.66,82526.92,169161.46,109291.39,6057.81,77077.14,54954.51,179614.8,35588.07,117356.14,160696.72,147278.43,56594.36,1299.75,25095.03,146326.45,38296.21,164061.6,107811.28,30838.51,9221.78,33738.27,110916.15,169654.57,69829.4,54926.51,94728.49,80393.27,111307.98,19834.32,78397.24,86410.28,172749.65,1002.39,13601.79,77866.91,175296.76,121751.04,89593.26,193437.89,86945.0,183318.79,71154.1,151887.16,75888.65,89566.74,26475.79,126355.8,93839.3,7698.6,145593.85,45042.56,61108.56,57553.98,62674.42,12120.79,50129.87,55022.43,117834.91,168840.23,24234.11,190627.01,156618.38,42334.38,110784.42,173683.0,27046.46,20598.59,104991.28,8996.97,64420.5,145700.22,196335.48,14781.12,108139.23,19287.06,9567.39,132210.49,21600.11,199661.5,124341.49,15766.1,33642.21,117704.65,58803.28,137537.22,131300.68,84174.81,160941.78,143954.99,56297.85,8404.73,30020.09,58137.42,47472.68,19131.71,187288.5,17603.81,67020.03,147802.94,41610.62,44255.65,78416.14,137254.55,151303.48,86333.63,89801.9,29358.57,181600.72,124118.71,38867.46,31106.67,67611.36,77837.63,6078.46,177896.92,123882.73,15304.08,76569.64,120657.32,16436.56,107667.91,95611.47,19799.26,123214.74,71709.12,149066.14,20451.99,32825.5,6232.31,10357.03,147794.63,116973.48,129964.94,92816.86,172114.67,16649.31,144517.19,182038.6,24210.56,172175.9,47578.45,150694.42,177683.02,66088.83,169291.7,117140.41,79510.37,77108.66,9679.28,81753.92,131372.38,25310.82,187925.75,98820.39,64166.7,176924.21,90055.08,72814.31,168290.06,161767.38,44420.18,37147.61,125381.02,149853.89,161435.02,102925.76,70899.27,145936.28,54227.06,59280.79,126952.5,130567.02,73294.48,3937.37,2383.59,14279.44,141300.53,78140.75,117431.1,72008.61,60887.58,194764.83,88705.14,35817.97,31520.4,157908.19,142200.15,182055.36,157552.08,120284.67,24506.95,47271.61,41176.6,9468.64,123880.19,158887.09,117036.38,120415.61,16064.25,52615.62,121210.09,192247.35,68759.57,75937.47,84569.13,190696.35,67468.67,104435.94,47166.55,119899.52,173498.45,93249.26,142917.54,111755.8,108543.21,180345.44,99444.02,109563.28,92568.07,37976.36,103315.74,173952.5,34673.98,46163.44,140676.98,151738.54,14679.81,175544.02,181964.6,136886.86,122218.23,180439.75,190419.81,58685.59,89017.38,50051.42,146041.45,191166.09,103516.08,164825.04,172557.77,84320.94,122662.98,72085.1,110932.24,143635.36,3710.34,179843.33,10643.38,131167.98,10553.31,130928.22,157003.99,138527.56,167032.49,41642.29,9677.0,147012.22,80553.87,30730.95,140134.43,91936.1,178252.63,198674.08,28266.9,92381.01,135180.11,27330.59,125305.34,149648.45,59887.15,45041.32,113316.77,39087.42,7330.59,95463.29,167848.02,93953.84,174227.66,135399.21,195635.3,97508.04,188083.77,116704.25,97614.87,186884.04,131501.72,24302.95,110510.28,108488.33,197015.2,27689.77,9217.55,15068.18,7797.01,4400.32,182025.95,122763.95,38152.01,63163.99,73418.29,17978.68,115136.51,149575.59,60917.24,142548.33,157878.67,12796.43,18657.77,134589.58,10350.74,66013.27,5907.11,74077.91,77294.56,54359.02,156124.93,94820.85,155155.25,128702.1,22745.5,71865.31,84294.82,149139.13,185489.11,176407.15,92027.69,43932.54,115789.25,125777.28,18461.9,79633.38,121542.29,94739.2,93302.29,193793.78,74835.65,56999.9,57236.44,81483.64,26752.56,9200.54,22447.85,189122.89,16161.82,68600.36,447.73,15650.73,149599.62,90304.01,115676.38,38812.67,34338.21,823.36,135482.26,10656.89,116467.35,96823.32,171096.2,79881.39,157862.82,127951.81,191074.11,157333.69,133457.52,130789.6,128373.88,194273.2,5684.17,131043.2,21228.34,43250.3,4389.4,189271.9,102284.2,156774.94,69865.49,85523.24,51219.8,7222.92,23971.33,132173.31,113639.64,39768.59,108732.96,117349.19,78004.5,152417.79,26057.08,79972.09,107125.79,47679.14,134509.47,153265.31,179883.04,138882.98,9855.81,67046.83,56388.63,77764.37,130590.35,151912.49,151083.8,777.37,69454.24,11723.57,91565.25,79616.37,102299.81,104533.51,140765.57,66214.13,139816.1,140139.28,102297.15,145765.83,83912.24,78439.73,6776.92,9903.42,91561.91,4027.02,116111.51,184023.54,67124.48,50070.59,53793.1,45261.47,36721.4,130009.85,175380.77,127847.25,138231.7,48673.18,70668.77,199505.53,169583.18,49063.42,63337.19,60083.11,48606.71,165580.93,194010.12,69263.1,88698.83,63030.97,59668.81,184230.23,64050.19,81853.98,154642.91,145679.6,30781.77,81622.52,196474.35,176276.1,35113.08,64299.82,180969.55,138176.78,86733.61,7418.92,166376.54,140881.2,4460.2,110472.12,86460.28,16500.66,114020.06,131660.31,52449.62,161465.31,20018.79,176318.27,50488.91,30379.6,161326.73,45348.08,180251.68,34925.56,126555.74,187921.3,136390.88,78566.64,166038.27,140385.33,38629.3,24998.75,128815.33,19376.56,31904.31,173179.79,22485.64,196668.51,136506.86,36278.89,163254.39,99654.13,20207.02,4195.84,112340.2,2035.94,132295.95,177383.68,90284.47,61349.37,196466.83,70758.37,13892.57,9684.52,40546.15,136603.42,133172.48,152821.12,147715.83,43169.15,76755.99,73406.04,176728.28,98309.27,6203.66,176791.27,50679.48,150580.88,80120.19,151645.96,55072.32,115068.99,149471.13,46522.68,189995.86,46369.57,30722.52,70810.6,106663.46,175836.03,85646.41,101485.72,191734.67,101839.77,4888.91,193132.98,193518.76,93982.02,197000.92,106837.06,115161.28,196260.3,96404.38,97658.66,49108.23,195651.66,111698.0,171707.93,66721.98,57876.05,177994.81,105125.65,17439.66,172668.39,753.37,98686.4,107047.92,152153.74,34338.04,173878.87,159254.29,54776.64,134594.99,41724.72,110527.71,8996.79,190200.53,115333.43,143619.52,58467.08,12128.69,49872.33,139735.54,60891.8,100862.54,76640.29,126013.58,87347.82,77370.37,62722.44,196257.68,81723.8,31299.71,63495.86,166520.96,150242.44,27345.18,87000.39,44912.7,179978.68,145759.7,14121.61,66232.23,190296.76,172782.69,99128.13,178341.33,146992.24,151314.98,92915.84,58974.0,174627.06,79579.94,50771.16,153537.55,132975.39,85208.93,170214.82,100615.14,186105.99,55119.53,28760.99,171021.44,176678.72,28667.56,197238.03,139994.68,151169.83,118113.64,34453.17,64872.33,10956.82,36885.85,168053.4,155227.0,38409.79,75279.39,158302.59,11525.72,94993.04,173912.29,41139.05,58019.95,164128.41,46998.13,177279.41,75832.53,61094.53,30117.44,179227.12,52110.45,75248.75,184317.74,158553.1,95686.42,71682.54,1790.48,139431.0,118358.54,130827.88,119404.63,162703.0,172665.21,170142.09,73977.23,60906.12,194867.27,193716.56,14633.35,31730.32,20063.63,99792.82,37654.31,192449.02,181208.47,155165.61,121504.18,61569.07,123269.71,31272.14,62825.03,184056.45,48924.73,191111.02,54184.06,64381.33,78770.86,116766.79,32916.29,50972.6,122066.5,65996.9,79577.38,130529.13,172629.67,15216.53,17512.53,131852.01,181945.52,91482.5,77119.45,95611.74,80428.42,163714.92,27375.15,73873.65,139266.48,131772.51,173454.07,67552.71,34765.33,120219.14,90212.38,164975.82,1285.81,83679.46,34548.74,74275.08,7278.57,162053.92,199336.63,62347.71,91711.66,79240.9,76679.6,162511.55,21360.88,54487.43,53931.05,103165.15,146359.81,28370.95,10023.15,192928.82,50485.7,131662.47,152235.3,68093.23,80061.31,149583.67,7631.27,33082.81,121883.87,100722.72,47093.11,177624.01,106149.48,16874.92,54560.79,153605.75,44390.38,63218.85,41626.78,24765.53,28280.8,89043.19,17294.12,126702.41,13123.41,167973.63,125870.79,91972.49,155593.74,67788.49,62615.35,107415.02,166526.26,120107.1,188227.8,91560.63,166495.2,165614.4,86372.24,2755.53,83594.51,103706.41,5924.38,58203.67,49361.84,73585.18,95135.27,38794.57,198926.36,56099.86,117023.08,62083.0,141822.8,185387.14,57461.13,120380.12,133020.9,13589.93,77830.36,136610.02,17160.94,176843.53,114996.33,196990.79,133146.03,185667.72,24020.49,185750.02,178045.97,199857.47,43595.9,122810.53,3440.47,35989.41,17163.75,44506.09,17848.3,76209.56,141476.56,60032.46,100686.11,96429.29,15795.88,116547.31,191260.74,173870.39,117273.35,92277.47,44244.49,78133.48,103402.88,137835.82,20670.1,77469.38,57572.38,75884.65,146955.71,67040.12,178418.35,30807.02,143835.76,130883.9,194343.72,9796.69,47310.24,141148.21,111138.25,114182.07,127560.77,18082.06,136330.26,34121.81,56246.69,191417.42,23317.88,144675.3,175161.05,14928.8,161479.19,133501.94,23703.52,115985.38,43229.2,94862.93,142377.69,135635.25,148487.9,58976.85,76254.83,55857.48,77867.23,22878.16,114469.55,96754.8,125154.57,113597.64,121408.55,109219.43,50230.31,177719.88,131211.86,82152.83,216.27,1713.1,136910.18,20243.97,86043.27,126561.07,64350.8,10472.31,95941.55,125222.36,170950.58,236.45,31517.16,181610.6,156593.09,4272.0,163587.9,175843.68,166164.3,61796.64,21439.49,19225.85,132547.02,62688.55,21760.96,154460.68,8065.0,173365.9,69428.79,12757.14,180426.2,43093.67,68594.0,197996.65,122953.0,76821.24,141400.51,41921.75,175664.25,117916.63,194690.77,166677.35,160131.58,123622.0,113483.96,79618.79,24472.23,177025.79,103349.74,63606.22,14490.79,105080.53,83499.89,143598.7,36091.91,13007.89,6101.41,48314.0,197111.99,110299.78,30114.32,98894.64,49826.68,10074.05,20769.88,163427.18,140068.77,83206.19,111402.97,92873.5,94780.9,16607.15,161954.43,194733.28,163524.7,48260.19,86678.48,3064.65,112124.98,120801.65,52193.23,56636.28,69372.88,164038.07,118982.51,27472.07,36754.13,46416.36,152872.39,165227.23,75927.35,172930.28,36108.5,36202.74,131886.46,133992.36,96658.26,135112.09,163944.18,53843.71,122398.84,64804.04,19370.73,126192.54,135459.02,94815.04,188366.04,178512.52,97906.38,72861.94,195978.86,19448.93,32635.54,171733.22,46176.22,179634.69,191521.32,67998.45,44731.8,124532.9,160968.44,27341.63,53994.64,91633.53,189613.12,60706.33,154767.34,196853.11,195775.48,3086.89,70618.0,55034.02,168035.62,128449.33,199249.29,149474.69,126726.33,147554.26,149399.7,93536.38,58883.91,154271.41,122022.89,50299.14,187800.63,171344.09,40920.59,63940.68,29483.87,179056.23,129273.94,55558.51,23305.85,17128.64,74641.9,154486.01,3185.67,88463.63,65682.93,140586.08,117232.9,116137.01,105533.96,81514.06,164966.27,23631.55,105433.53,90591.15,127014.32,90905.26,8651.92,15467.98,79915.28,69361.95,86935.08,7597.83,116957.6,157884.83,77981.54,126369.55,191973.49,142940.39,48869.67,73131.73,120037.36,193995.37,179453.66,80963.92,15658.99,92708.1,26542.17,65010.74,106892.91,185210.63,4035.46,177805.44,68831.72,114732.62,22299.27,197283.2,179485.96,17699.48,118490.8,133292.94,58170.24,107137.3,145071.33,85495.24,101139.3,10511.13,137916.49,193383.13,189826.96,144113.42,143538.51,77677.14,183717.94,92180.62,28690.9,85891.02,42050.24,110142.34,179269.79,90558.24,162022.47,66926.83,108891.3,71811.9,92223.59,78065.9,59679.9,85000.32,159808.95,129001.3,113557.7,147758.51,28865.59,160607.06,100015.79,54478.52,141677.33,84077.6,106981.03,73551.44,115842.1,107013.59,24938.84,51113.14,33828.64,128875.86,194700.81,158974.45,198182.73,141404.07,4175.68,126876.47,41052.82,105760.01,27937.12,79355.87,102180.27,95719.73,57121.51,162478.11,194808.51,124045.65,17987.4,133653.38,25101.17,33330.89,2401.26,178361.04,162697.93,80607.33,23146.62,89893.6,3173.31,123218.81,74588.41,31288.77,58561.31,148804.36,51117.06,164537.17,61977.82,193362.99,47722.79,18510.41,65057.71,46374.64,42039.67,138192.98,22735.45,186910.74,75285.47,130260.11,15034.93,175709.4,101069.71,153012.13,86173.92,197548.63,37042.8,121085.72,194113.99,101273.23,118711.75,582.53,192381.21,136507.69,138871.12,60728.89,189175.71,102547.56,36706.56,44756.25,132870.15,16287.38,121945.42,131173.9,88669.89,160835.3,24761.36,138526.96,157442.75,105295.77,97782.92,68255.88,108790.95,143706.18,148993.47,95277.15,152956.33,94925.62,87308.18,83978.86,37543.93,104889.3,149705.25,16445.79,54689.16,194913.86,146371.72,156603.7,182566.76,60194.05,36579.53,5862.53,143030.09,62700.08,99017.34,187987.01,123454.62,10921.5,53817.23,81617.4,192298.84,143882.25,53130.41,190454.04,111906.0,113177.95,30529.88,18800.13,46127.7,75585.48,63085.94,74415.2,139889.15,7267.25,186826.22,162149.07,180150.49,83478.12,26163.74,44381.06,136365.0,99294.22,173464.43,127543.81,52526.65,32589.45,47161.25,45424.13,8018.49,195668.0,133167.11,123602.11,186238.85,158668.87,9249.36,116581.1,44688.08,148608.39,188670.9,107067.37,61759.33,192776.64,46735.19,169117.74,89081.41,105227.86,128246.81,94554.74,33823.5,97468.44,164137.36,191313.7,65257.57,178222.77,179445.28,65500.53,97877.92,113051.57,105969.05,122996.76,68087.15,21478.36,158437.73,76551.7,15887.68,33741.84,20652.69,112781.5,119996.95,6981.43,185211.28,78436.36,139048.0,136329.96,14721.8,3430.38,160450.21,1485.27,19720.08,41183.02,139410.08,163691.48,115147.33,74945.11,180363.56,196021.73,125979.36,111421.77,115818.51,179360.76,82351.06,192744.23,113408.47,124641.42,54871.02,98820.09,45570.84,182336.45,118825.56,103372.79,43486.73,40062.99,46175.7,120830.73,5967.09,122134.56,62972.13,174815.54,192841.13,33310.72,72876.43,50911.41,142400.27,48778.46,156361.58,133807.77,179128.69,91810.71,173195.33,182270.88,177130.33,49954.79,141896.74,120661.71,149814.68,41782.7,46172.47,2704.09,6726.53,170764.08,45742.42,162304.59,80883.82,118508.09,69697.74,183575.01,161203.6,143752.77,121894.31,147055.87,172033.57,143774.06,139366.58,81776.84,190998.96,4470.52,135851.3,172372.63,135875.51,128124.7,167023.95,149807.01,54290.62,86013.96,79886.06,141959.11,66680.77,98640.15,142797.5,163581.67,163221.22,12440.44,145551.6,50908.48,30149.21,57769.2,156381.47,178123.86,51112.8,173783.38,174770.14,172063.09,155294.17,40320.3,134260.34,147090.9,132368.47,164741.5,63051.32,199761.29,55725.04,163145.5,57992.49,193093.77,57531.14,77242.19,153046.16,63405.2,106564.88,42763.12,168753.34,19483.35,158646.46,83172.19,76889.79,51554.58,105570.39,79495.01,52583.79,26848.25,10072.55,187296.78,104016.61,151310.16,62810.91,60830.38,116672.02,77304.49,52894.01,116471.43,4539.38,142367.72,110520.48,188258.49,197322.13,80241.14,172814.99,38410.74,17622.82,48021.71,88958.49,116343.09,166102.61,104353.26,115429.32,178106.34,132152.32,21521.38,27431.62,42143.61,106457.11,133831.37,164083.72,159207.34,84487.62,3674.71,12092.03,77475.73,41291.73,343.38,47432.43,127827.18,35633.15,182865.09,169386.81,149073.88,184107.26,22750.17,11950.29,152880.07,175252.78,174303.29,80701.72,198516.2,175756.36,82824.08,179866.01,159899.97,138504.28,127394.67,58961.49,103644.98,119647.7,28465.86,152979.14,190911.02,95794.98,189742.78,188574.08,183872.88,196555.32,112503.24,46864.0,65864.4,125167.92,177519.39,169653.32,118372.55,16481.12,138525.19,14608.0,81548.38,69608.48,68873.8,81102.81,81054.0,74149.77,99503.19,10109.47,58855.85,84402.46,49713.87,133537.53,124615.59,98090.69,42607.69,192434.11,60686.4,49463.44,81431.99,22909.56,65532.17,141053.85,3472.63,102083.78,1801.77,85185.44,119882.7,83715.66,23425.78,77326.78,156150.08,108577.97,133573.29,102057.86,47247.56,114566.47,184464.7,151401.33,70607.1,147074.67,105780.18,109496.45,137739.45,105140.92,113276.46,172531.23,64375.4,28434.44,46941.41,29333.01,193724.51,34967.75,55663.85,55753.12,176962.31,181507.44,61995.57,98349.13,59748.19,159840.51,6656.64,37141.62,37094.75,159475.08,51548.14,58719.63,7861.68,19199.61,178504.29,189016.14,156048.64,52876.41,19653.08,139451.98,128136.29,45206.57,190146.83,158313.87,96670.2,62163.53,88428.41,35908.46,168780.04,191263.76,83052.03,125962.02,164696.27,187011.96,55324.49,34335.55,17004.14,116331.42,22974.01,49725.16,87412.74,26136.89,126554.96,193321.3,90928.02,76510.46,120115.5,197984.58,142977.05,82522.61,150664.97,114153.44,171706.66,119071.56,143007.49,31302.35,71139.8,54122.89,120031.29,104076.51,175853.64,175795.87,15360.91,168460.12,181177.9,58363.94,20276.87,91514.62,76703.1,110887.14,109843.16,12577.21,179365.1,65816.53,124170.9,175015.12,115441.66,128247.03,141914.94,115566.57,175423.69,133447.49,114474.98,52044.66,180290.68,132034.13,20968.88,158735.1,196134.44,22374.97,161668.15,67339.34,56229.72,140991.23,177644.52,142342.55,154559.28,176570.28,191961.83,9452.88,165257.31,169763.89,160663.11,192072.1,93275.61,112269.67,2186.83,43075.7,12368.11,42410.21,190430.81,138394.37,172501.38,197916.43,7035.36,159676.55,80603.99,187599.8,94450.97,143981.27,26450.57,164482.92,84012.81,101192.08,175324.74,197226.32,99504.03,83700.66,28226.15,35321.65,41229.73,78970.58,107890.69,191870.28,7905.06,65731.53,145698.73,50046.25,60830.24,158853.98,111243.09,171014.69,170835.32,47775.34,139297.71,195167.38,160948.87,44965.54,52137.73,109296.18,20092.89,197804.0,118782.06,152876.13,135655.29,103970.58,35786.76,25325.07,18732.84,118522.73,89972.25,187194.15,106785.7,142516.35,73334.43,186612.47,123613.81,31368.08,40066.95,175969.19,10034.77,151167.94,191387.76,51229.17,87351.42,48984.95,182738.0,153535.27,125079.65,162321.26,3414.72,165082.25,52021.39,148256.43,122899.01,10771.46,18255.51,183566.78,175224.12,147913.56,180598.66,186136.48,7455.2,80552.11,25722.28,170996.86,20603.32,141763.26,122284.38,190011.85,128046.98,135662.17,7571.51,23596.24,92727.42,65156.83,60151.77,149097.38,35199.24,129451.29,145134.49,192709.69,139083.7,83629.6,35625.41,35338.96,15602.8,182355.21,89327.67,151903.6,11.58,77519.62,91423.69,106287.77,161800.77,80582.34,185094.48,172586.89,195649.79,145792.01,138510.01,168895.06,97983.44,85167.88,18210.36,13608.18,110457.99,31231.35,141582.66,14666.35,55400.17,174667.65,154189.08,142170.44,94499.06,182081.45,68562.26,88798.02,113781.99,121866.87,150390.57,60708.72,78858.07,56407.42,125698.97,23235.38,75732.25,179861.79,42976.64,10486.69,56794.73,28157.34,152422.91,167033.83,126082.18,181499.77,41967.03,186300.59,85412.54,23343.18,180698.32,136071.05,175149.2,146949.74,88920.68,45098.62,20339.79,108528.74,145560.38,199357.24,43106.17,137508.31,91957.39,120612.11,102921.17,31686.33,180002.42,28407.4,73743.95,186233.26,31728.86,48244.64,113266.28,71178.09,25684.93,29737.14,149922.38,180702.12,27597.59,95025.27,167035.07,116781.71,21170.81,29641.58,116520.07,44220.4,166188.28,140857.76,37024.28,27513.47,17744.72,4423.63,109718.44,107243.31,115288.24,41233.97,52952.24,78955.8,26025.6,174536.17,147311.47,77965.44,5635.63,81310.1,111421.45,190269.21,100950.48,113033.73,120663.57,187192.23,97825.23,169621.69,191557.1,103287.62,167538.66,64869.32,102426.06,107876.2,37294.88,89248.99,91973.63,16870.2,121681.19,33730.43,104786.59,94790.34,28726.07,67057.27,69079.85,179780.74,183572.39,142587.32,177844.06,197634.11,121053.19,149613.77,142.81,131766.67,53311.78,107665.02,109523.88,112132.86,113645.4,180890.4,70974.13,53379.52,158531.01,179267.94,84606.03,56984.58,116912.45,102999.33,132801.57,85455.62,98657.01,107948.72,67944.09,192892.05,187247.56,114722.42,111687.57,184182.25,52759.82,126451.14,12048.67,95804.33,197911.52,182531.74,168002.31,79450.61,60615.83,8643.21,172172.7,174434.06,194930.3,137476.71,94415.6,120376.87,97623.42,66238.23,131710.59,69052.87,56780.97,170072.9,191849.15,84803.76,31840.59,12096.61,44165.84,91406.62,83282.21,198446.91,7554.68,80416.16,164549.74,175477.03,137903.54,93795.86,67997.13,49492.15,35825.18,67494.23,73963.17,145159.26,123850.58,23822.04,45750.21,159773.14,84238.63,72330.46,26767.85,164768.82,1112.76,176680.16,43999.64,140746.13,152790.92,81537.85,7387.8,183038.33,138849.06,170333.38,60416.76,100240.2,2704.98,68815.05,64839.23,144494.94,185510.34,56055.72,155061.97,119817.19,16259.64,184654.87,5278.78,113244.73,8908.0,64490.67,154971.63,155786.39,129084.82,188533.11,13411.67,15733.19,73127.61,101704.19,101986.16,114442.66,15669.17,157486.1,131281.28,197001.15,128881.87,85101.0,149822.04,108040.86,135795.53,25867.67,130483.56,183479.12,77027.34,94141.75,4092.75,109257.59,104617.99,167705.07,103712.05,161242.99,6089.13,159777.37,7919.08,188274.6,27608.12,183569.25,145537.32,164717.95,76357.43,120158.72,151843.54,5698.97,122865.55,152665.85,192131.77,62851.6,140941.47,56767.67,177235.23,86242.18,34215.58,44406.17,165196.65,34542.41,74838.64,36980.54,111676.63,25858.68,177028.0,30990.16,136915.15,108457.99,131609.48,159737.56,142238.54,105890.55,194270.91,105443.47,173899.42,122823.34,13181.37,140780.8,78560.64,185855.21,128276.95,140197.42,32462.39,162253.9,30498.7,90280.7,32615.21,196142.26,16998.72,62980.96,185660.3,77331.77,97338.62,67234.33,143783.28,77661.12,89123.99,70810.8,17550.49,21497.27,124749.08,36051.46,143681.83,150694.58,170487.4,97684.46,53520.03,15200.61,196894.62,4969.13,26229.24,134034.32,198032.93,119882.86,133102.3,176395.02,193179.88,125062.02,143287.58,87236.4,93769.89,88965.46,30793.61,74532.02,113086.08,32574.01,130113.78,104722.47,14559.62,598.8,129697.99,36315.03,1114.12,70954.41,73470.98,91573.19,3154.95,88187.81,118855.26,125256.53,39016.43,145796.49,168816.22,73322.0,113677.53,124607.7,11276.48,136620.64,70523.92,51980.25,113481.02,49025.79,145937.99,25161.61,175753.55,24903.09,169719.35,179565.57,115337.74,48131.92,160828.98,145151.96,196293.76,161653.5,84635.64,159486.76,38596.34,27814.74,183893.31,140803.7,146585.53,40062.29,181300.32,84136.12,197594.34,125953.83,75465.41,177737.07,7144.46,155639.76,162428.05,12457.76,14917.09,182184.09,129984.2,194872.97,117507.11,157527.6,92612.88,74850.84,127413.0,69584.3,198814.24,162643.15,114092.52,68860.3,16150.34,115227.02,170621.55,103099.22,172495.81,38772.82,44946.29,146007.7,145558.42,193312.33,40257.79,46677.9,153887.93,103108.33,58652.23,91624.11,65986.48,113845.19,67607.9,145471.94,124071.71,67502.12,78707.97,171189.83,149381.32,100335.55,152698.24,41192.95,132540.33,96875.52,152305.47,49672.01,133997.53,50454.8,16402.11,67803.83,9241.78,100601.73,98734.15,160574.09,26015.8,187172.54,55763.66,75848.22,40313.47,23864.21,51380.9,93551.36,169415.54,6935.31,25399.7,66256.27,114709.13,158357.97,164815.59,132127.69,146637.45,90256.06,34827.43,22074.48,109805.17,100478.6,97416.34,24207.86,69132.66,9376.89,43046.7,20856.31,187048.72,53420.53,37013.29,89566.64,149913.84,18066.69,26912.34,173511.72,146785.44,1050.33,89587.34,74405.34,54409.48,3647.57,198874.52,53412.54,194867.78,150452.88,57807.05,107534.32,194073.33,126233.18,182354.46,120586.32,50578.4,86575.46,153392.28,115509.59,82176.48,63717.49,198745.94,5719.11,20058.61,170638.98,30607.11,37171.46,42589.33,66799.28,101866.39,49284.0,27445.4,70760.69,104502.02,165407.96,113580.79,45978.39,152012.36,77349.92,47322.05,38772.65,24489.44,14466.08,63142.12,41858.43,127443.82,84151.98,58595.64,37240.11,114522.68,72549.27,176712.59,152855.96,73371.65,70323.68,9663.28,142514.66,118623.94,68400.14,115291.86,170382.99,112946.67,79812.77,19862.78,158610.89,191212.63,61931.21,58043.02,22247.27,31448.52,146875.86,116081.93,73669.94,93959.96,158918.03,198193.75,13160.03,4660.91,180197.74,63023.02,118971.74,154700.61,97577.17,48990.5,140262.96,130189.53,16301.91,126962.41,158750.53,199644.2,144272.71,98320.27,64129.03,181221.09,163809.08,171457.06,15801.02,102950.79,174918.46,193160.25,5831.0,82298.59,130686.59,52885.23,68985.99,35367.19,196241.94,170705.53,126477.41,159618.17,195395.33,168285.85,138052.51,71179.31,55556.3,31705.19,186118.93,195580.28,54113.38,127528.84,60231.74,156878.42,182784.11,129690.5,113860.81,184524.74,36124.98,121316.07,185630.76,71133.12,32020.42,162760.96,175178.56,177099.71,66406.37,59559.81,175750.21,174311.3,171716.81,189362.39,180716.1,116977.89,185105.44,35046.97,36251.0,103174.5,122642.09,122937.57,8757.39,125782.29,122487.73,20066.38,55473.15,38962.94,63795.8,163060.43,26578.69,5066.76,140497.67,146156.98,199316.19,103944.37,138021.36,68621.98,28149.06,135169.76,116537.96,105922.69,88211.12,26900.63,3494.02,113163.17,19324.5,189678.7,26387.71,106276.55,45015.38,173495.77,52581.96,146339.27,182609.97,197890.65,6225.63,123977.86,170195.4,114190.3,27022.57,59457.0,165038.41,154181.41,134960.98,65708.5,117374.22,77703.19,177651.38,60954.45,151924.9,26318.73,147557.71,125918.17,190803.37,11043.54,119100.05,140579.17,37731.95,1852.58,172049.84,133591.11,192751.18,193828.27,55775.72,102280.29,44965.44,170661.02,197145.89,192359.9,141210.18,100557.03,130805.54,92606.98,123956.83,102758.43,94876.65,94811.85,67840.81,4050.57,134665.25,181647.13,33282.84,27965.0,68343.53,198161.07,196858.4,120511.03,30886.35,2743.69,167778.62,132404.64,144423.17,181204.5,182726.22,120880.72,26812.89,66732.63,100834.22,107815.31,34665.79,147093.84,36942.35,16460.77,45610.63,184954.11,47795.43,196789.9,173425.68,36221.18,174738.2,67131.3,165692.03,194691.95,129525.5,146511.2,51752.18,35418.69,57995.74,108152.75,166144.98,101737.8,33326.71,81140.09,140173.17,166513.49,103232.6,120736.04,15832.43,188772.45,114323.66,181534.04,102640.52,158585.17,178722.24,153955.38,65374.86,102986.15,136643.84,77063.63,9633.01,43496.36,24267.28,59354.24,28269.86,143162.34,20199.3,48606.92,89013.67,59890.29,106655.88,156439.56,24176.44,43507.1,132005.85,80496.71,88947.56,12639.67,94248.16,11865.76,141449.86,149457.81,119814.25,24924.92,139481.53,41268.65,1351.41,147489.76,111175.09,95963.14,43128.95,137674.96,153383.54,96660.76,115818.16,37898.5,145222.93,41219.09,59249.83,116747.62,116249.72,61257.83,141798.98,102638.35,13210.56,35550.97,104469.06,142935.83,195486.28,63170.0,58320.06,177747.03,19632.64,18424.24,18897.78,97879.02,63197.88,75860.01,78622.46,23598.23,13460.27,19998.31,185075.63,135815.38,44251.33,136349.55,52693.99,93767.03,197866.55,126812.85,79503.05,129936.53,175094.62,130379.5,153228.0,111285.85,49553.38,98015.85,88481.32,66879.27,24802.77,21312.16,190263.78,72873.33,57764.65,110273.84,55500.17,57541.08,90384.26,120694.35,178028.96,180990.29,155407.21,33676.48,89666.28,127558.26,77272.62,107665.68,184044.8,91510.71,87363.56,117505.07,180626.68,93478.96,114672.64,13387.88,173240.52,27557.18,5552.37,88307.87,33879.26,181429.87,102655.31,96555.42,189366.03,12847.61,143433.33,183983.82,169137.24,163365.85,123181.44,16447.6,173948.4,192154.66,198224.38,67202.74,68789.93,147964.99,161069.73,127749.61,191914.37,185791.9,184570.04,130446.65,82867.55,187632.22,56759.79,34180.33,158545.25,182337.98,84175.34,22197.8,189641.11,154491.39,90020.74,197264.35,31933.06,8755.69,52820.13,20008.46,34607.14,177384.45,165702.64,167889.1,133122.62,140454.14,59938.81,12016.79,81251.24,134169.85,94888.6,175696.16,96758.58,128019.48,146895.36,139356.3,2923.61,121232.51,2053.42,6382.46,158750.13,74028.36,44099.75,17323.0,175043.69,146388.85,2465.8,47799.15,165562.84,72927.68,38270.47,120893.07,188377.21,55902.93,4523.74,102195.16,60843.09,25548.47,134462.29,132702.64,75698.44,105642.43,102153.75,166677.54,24218.65,117122.5,51871.95,84321.03,160213.27,88695.19,6123.15,167749.54,71638.0,198064.52,54914.92,190659.17,51637.67,119333.38,127095.14,93541.14,89289.54,108762.16,28238.25,34130.43,7926.35,27330.27,79997.14,50213.81,60920.03,197699.8,92809.73,163516.16,62449.07,115800.1,110359.68,78695.68,128378.04,155248.62,123499.27,99920.41,53289.49,67622.34,11783.1,62402.38,186235.98,79005.95,144870.28,95481.0,820.46,174777.98,8991.17,2797.27,22303.17,197562.08,23067.97,190294.12,113167.17,124777.14,124625.08,49599.27,151411.5,122964.18,57088.97,7820.78,149188.41,134638.97,184980.23,122373.42,80215.2,14081.64,199390.45,7667.48,74965.61,30583.95,149682.78,92664.09,138423.1,3148.2,197933.5,37341.17,79577.4,197602.29,87537.32,41623.59,168280.95,125986.18,548.52,96088.54,107787.42,20510.79,192026.02,118188.15,189540.95,63736.17,95740.37,127939.19,193438.69,90655.94,12067.39,54191.38,58667.16,35687.43,14288.93,247.36,78111.84,79547.39,193266.72,105028.46,116106.52,53179.21,140947.05,171837.06,123437.05,197519.66,183058.51,22710.72,69303.15,63705.9,116429.51,58381.77,177378.66,35450.53,164621.43,174435.48,94047.75,119087.25,184800.27,75035.48,62703.38,190882.69,91981.85,91881.29,7118.02,11710.4,25904.12,86911.49,10958.18,5790.9,42855.97,78915.68,81409.0,179252.73,42171.13,58965.04,102681.32,125553.52,53478.02,198376.02,105525.36,47349.0,178822.32,72127.83,163504.33,190623.02,140758.07,132374.41,53949.98,121982.73,136983.77,114371.33,62389.35,24435.77,10908.33,90977.48,81062.93,61230.83,126837.72,115668.53,38819.45,86994.54,195204.99,131301.74,100835.19,198969.78,41542.95,118272.07,69586.27,149629.13,146680.25,132809.18,28707.69,104706.29,75335.68,136827.96,139065.94,70179.91,116160.04,83008.49,188484.52,133699.82,72172.13,191057.76,48233.75,79178.31,162347.05,7611.61,88890.05,63833.09,78310.04,37898.91,179521.24,130726.96,198714.29,89543.25,2423.9,180326.83,166305.16,29883.63,192029.19,1710.89,135163.76,84927.42,149912.28,88206.04,163667.56,100153.43,32275.09,65501.91,189392.66,116069.24,139861.53,144184.06,157888.5,71911.3,45033.75,150465.93,126381.6,90189.72,122433.09,123825.83,11426.7,114951.42,184636.05,91055.27,93991.65,116511.12,190631.23,199970.74,139947.17,8816.37,135650.72,24577.34,131249.46,140126.17,168219.75,171867.08,70613.52,117946.3,84872.66,60590.72,8444.5,159132.83,76998.69,55835.66,177524.19,45985.52,60297.72,194421.12,93568.77,34702.92,54473.6,113943.17,153727.32,19116.97,112554.68,47318.75,36690.49,106918.67,194563.65,91086.73,108008.65,172363.52,178587.36,31907.44,18922.18,147222.95,1474.79,24924.92,46884.1,128918.42,105291.26,145381.65,103792.53,71121.04,52327.57,197428.64,83210.84,193099.43,193008.52,157567.37,108977.5,147759.84,27528.4,36479.27,31726.76,96398.51,139558.6,95007.8,101663.47,106197.44,48466.89,151978.36,13288.46,22666.77,102391.06,67830.2,92090.36,141023.01,104222.8,196395.05,6866.31,77737.86,106116.84,117948.0,184581.68,199378.58,12483.39,22404.64,92887.06,145157.97,134889.95,109309.29,169964.12,26327.42,55072.93,68574.88,41671.81,12409.01,68367.18,74564.41,26843.76,156774.75,46019.43,145411.39,158268.84,74637.57,28391.52,144385.54,95181.06,15627.51,148477.57,79957.95,102763.69,129654.22,40652.33,178291.09,131906.44,118607.4,13848.58,170903.4,13161.66,79304.38,121402.53,23305.01,74510.65,55601.44,134526.87,195424.01,59563.49,34595.58,60036.99,193021.49,48108.72,79082.76,37914.12,74593.84,82967.97,193441.23,191790.29,92455.96,155231.55,9217.92,87941.85,187508.06,171519.06,27012.0,70916.0,73073.68,88783.59,145524.36,21333.22,46675.51,4802.25,102975.72,175071.29,131970.86,14174.09,15378.75,179797.79,93917.68,99490.01,46415.09,151815.76,14865.05,188007.99,98175.74,106851.7,75204.21,141872.05,7103.71,9241.83,149517.71,196079.32,166165.93,55724.24,131768.98,13858.95,82774.07,55389.59,82336.73,163225.48,135536.72,82422.97,194660.78,55347.28,16717.11,160277.65,175905.97,66040.83,92198.05,134625.09,50974.57,171922.72,83058.14,188382.77,198030.24,1055.66,133173.19,189875.83,31802.92,132649.85,53067.83,961.57,71333.44,16658.76,74878.22,112104.55,48421.4,170320.58,37688.31,136592.24,48640.77,89773.45,42131.26,186523.72,41758.9,199256.98,153482.91,21177.1,138743.86,25881.0,66469.2,142670.61,103563.23,69101.23,59475.35,135287.74,38773.74,138396.32,110718.02,118545.49,123207.17,99984.86,58332.91,50906.65,127623.36,169665.79,194144.45,35673.42,177397.49,159677.46,153566.97,52411.99,79222.02,32589.89,93777.61,112549.99,191063.36,153810.41,105886.77,96131.47,15120.86,16989.77,143133.18,93336.93,9972.64,30579.82,199775.67,179908.71,101667.0,171430.16,112973.34,190746.38,187689.91,153229.19,14217.77,64849.74,160122.66,138160.11,64286.39,80178.54,101319.76,92794.61,63708.07,110782.88,10779.69,183289.22,66526.01,123697.95,155700.15,82081.35,121747.96,172810.51,159584.81,108402.54,77330.35,21007.96,9398.45,182156.81,110525.6,51536.99,49722.34,66119.07,37160.28,197923.05,65166.6,49326.07,42495.81,148087.62,9641.4,164844.37,132959.33,135088.58,4441.54,174916.85,1795.93,180249.94,153604.44,189703.65,66393.89,30709.03,71009.84,143049.72,1561.58,49707.85,29837.65,9041.71,198017.05,143481.85,146372.51,101905.34,134767.13,103573.96,139259.54,187776.49,8059.44,124354.92,109135.11,82222.86,136767.16,155516.35,144584.29,164806.89,109153.04,86190.34,106040.97,168008.17,33350.26,119565.34,188492.82,165378.66,14178.73,97847.05,118959.64,50664.07,152996.89,19458.75,115268.86,25843.7,147662.33,134878.34,35795.85,66462.79,69578.49,103182.46,177017.39,53217.3,162756.29,42181.68,31714.08,25017.28,104272.04,84300.4,136877.24,199409.19,163147.99,136497.28,10070.4,190068.53,58309.54,76946.6,54129.86,52990.7,161854.98,172141.33,124429.19,24983.39,86699.98,125440.11,9443.15,195877.06,105409.31,100403.05,48502.88,47019.66,48249.88,84358.71,145986.35,88550.28,3061.0,43196.5,55775.84,134077.71,198490.33,116052.92,123202.99,85129.77,180598.86,198694.2,42934.43,114793.45,63297.7,61820.41,102246.0,154882.79,140723.05,72852.74,85733.33,162597.15,74379.57,173117.22,66485.26,92811.2,46635.11,124830.11,167087.34,163625.56,172129.26,163141.18,94003.11,138351.68,34164.05,97794.71,75786.55,136812.02,84361.72,2766.63,163185.76,180598.28,69849.55,19921.72,147606.71,126160.24,47046.72,143668.58,152577.62,191350.48,14234.31,77906.87,57320.92,27145.73,26912.72,26476.18,79329.7,13464.64,114149.8,135171.6,1187.88,184564.67,33391.38,9238.35,28029.54,42790.29,77142.42,146219.9,70127.93,132104.76,90437.87,113926.31,12050.77,64345.61,199242.65,75578.67,43435.43,183239.71,146213.75,40315.27,16966.73,80608.12,19233.41,135382.23,80410.68,17696.22,17974.08,180712.28,56323.21,77550.18,166957.82,184243.25,114072.91,153917.41,4176.17,142963.29,76844.23,159742.33,177944.64,166678.28,44904.26,10625.91,169781.45,49848.86,51467.92,735.79,182495.7,118740.37,13813.24,130500.65,14152.15,66963.15,93261.69,196582.28,43024.64,130001.13,12106.82,42556.33,197961.93,12538.92,35140.49,117626.9,62454.01,109089.04,142331.39,193209.11,47832.82,70174.03,176768.59,129392.75,97893.32,176142.09,114093.73,158323.81,25514.77,61513.87,59553.34,110253.2,148769.08,8236.78,11407.58,49684.09,68064.83,163911.32,944.41,185547.71,140509.86,164652.02,73641.86,40321.87,173844.89,145613.17,174971.64,131834.75,110498.1,196241.43,194667.92,83093.25,52545.24,59571.5,99818.31,172967.87,178616.73,159649.44,60941.27,178342.63,191545.65,117977.45,49637.65,13921.82,173197.12,137696.25,80698.54,73018.74,79649.62,166194.53,102530.35,74265.38,125898.39,83681.2,99505.75,92748.16,28092.77,126145.08,188593.98,56410.17,84694.49,195429.92,137898.57,78774.36,148779.41,35300.08,197077.36,70140.8,196288.46,1557.82,23970.13,180243.56,148977.72,39934.41,133031.96,52856.88,937.15,193022.44,37490.84,111558.7,5669.31,68106.29,101834.58,73151.25,37196.15,7819.76,23129.46,189680.79,66586.56,2920.63,87684.93,199418.02,28515.17,92916.53,198313.69,36308.93,41730.37,31399.4,60192.14,29062.25,28805.09,133814.28,151902.78,167376.26,31022.56,188997.08,2085.32,70399.71,195771.95,166475.44,84106.17,81436.68,83256.26,117523.41,79476.63,173052.19,100995.68,122782.5,11631.34,168303.55,9308.1,153157.97,75408.24,153356.8,152987.42,5557.88,194313.93,94767.77,1540.89,5036.39,71776.76,23481.69,143022.31,161407.48,125939.22,76611.33,136985.08,140937.91,48161.18,130041.45,91652.43,125961.48,73225.31,20460.2,81602.02,8742.91,145789.71,129576.99,190040.29,87771.06,39519.53,190035.83,148948.52,184691.77,143458.31,27166.75,159456.87,70454.79,95421.0,187985.85,92621.9,150836.98,90177.3,34416.79,85231.88,118983.18,111868.23,83056.22,1676.92,32089.57,13455.43,24865.54,117644.36,98897.32,106174.7,46386.37,185054.14,47997.39,130846.79,40861.55,171840.24,101455.07,90747.94,2048.55,84421.34,78698.09,168544.85,39351.64,28204.98,22375.14,134942.45,134901.57,8693.8,42437.75,5893.23,36242.19,90076.85,150507.43,87422.15,192867.4,175674.01,72496.05,145250.43,180712.52,180622.43,86306.75,150156.82,101617.43,85424.34,197221.81,70196.57,110440.5,124389.61,3183.15,146723.72,2139.25,69228.2,115462.27,62375.1,91829.17,182547.04,14725.36,126996.67,133991.11,169920.92,80259.67,191035.18,40421.87,155643.04,78670.52,104240.77,95957.09,59595.66,46266.63,189085.07,123954.15,129803.08,18761.92,43540.59,62193.92,129130.09,16146.0,22442.13,78194.37,124297.32,104648.58,166423.66,157137.23,34134.14,112520.07,128481.5,16491.64,132979.43,196645.87,127506.76,147930.46,179689.05,2619.64,166799.93,133516.51,163736.09,179488.41,113291.75,64907.48,141364.27,101141.28,183490.99,4798.12,131807.14,97192.76,164128.58,176809.87,110059.38,108398.63,47117.03,124720.68,53328.7,82634.41,147059.16,141946.92,123583.85,155915.24,29076.27,97382.8,57643.55,66006.75,72350.47,197789.83,65520.74,31825.84,185561.89,25803.59,154337.47,138145.62,51565.98,71323.23,38882.34,676.06,72203.8,174094.24,2150.22,177783.04,44363.42,96847.91,148579.43,38308.34,142538.31,153122.58,169505.83,57929.9,175399.14,107964.36,94263.44,155921.81,137995.66,179631.85,166586.99,115116.35,23881.62,105837.38,101418.05,182266.01,28698.17,50422.36,151336.96,112979.6,36371.27,52166.25,147261.58,88724.49,190531.77,199953.33,144290.97,130514.78,53954.24,169802.73,146851.73,96832.82,57553.02,74800.99,192542.17,72990.62,31050.02,52795.56,27435.41,150266.81,40299.23,149369.41,120250.58,84760.32,156424.4,109355.73,184936.77,36560.51,165693.06,163666.85,35644.79,188203.58,6120.84,164484.78,164268.28,140136.1,121084.27,35156.54,103159.11,74858.3,91556.57,199203.21,27011.8,188637.05,61581.2,197529.23,182258.17,80778.5,155394.52,3408.7,19367.98,62282.99,65396.79,139712.81,60972.84,1375.46,22191.82,8973.67,118502.34,161802.82,90494.72,15470.91,65147.27,157886.6,85439.73,54038.62,25684.85,186116.54,166830.71,27886.06,5768.32,80575.44,68987.55,27097.82,199320.77,5566.6,133871.83,152843.53,41800.18,92053.75,100717.54,42935.15,149170.92,107499.39,153342.38,107825.08,47952.45,131007.18,33143.04,123304.62,141970.02,37136.15,199293.01,161388.22,70532.53,144290.25,96069.82,185662.84,17913.25,101039.53,156953.54,28276.83,84049.16,147822.44,9497.99,87067.73,23237.25,27239.28,151481.86,114669.79,116748.14,90877.76,133692.88,30662.91,191395.88,106648.58,50899.91,115452.51,64139.1,22030.72,38434.73,42774.84,158973.77,34551.35,101515.76,9561.73,168313.17,55100.09,31830.06,71519.4,32599.35,139946.68,110468.51,74042.0,151871.84,199693.84,58907.08,103799.77,93835.64,156425.57,123723.83,199464.08,83084.33,25488.43,9596.4,70370.24,86330.32,168507.68,111605.9,143317.42,27619.06,146573.66,69055.45,54453.72,33524.6,135083.73,137439.34,11205.5,60176.1,29552.7,188795.85,11638.17,93155.75,48986.18,116951.1,137041.26,44653.5,104035.41,110593.62,36099.7,12470.3,95403.41,151757.81,47536.46,101274.17,140268.45,11663.09,150784.29,119400.08,126188.42,89983.02,29761.29,27073.81,96399.67,45422.89,108699.59,38967.29,116466.19,17993.43,43250.54,125240.8,191415.94,90860.97,141872.52,49418.87,170426.65,51016.02,81175.25,99106.97,79134.78,163550.58,67769.94,126592.01,89602.81,179421.84,156906.15,168486.02,132730.07,39057.67,174606.35,79259.77,168515.61,161125.67,77878.62,80823.02,119348.28,178331.36,119174.88,82662.73,40441.1,109881.71,157937.35,38276.84,65222.48,2181.94,156249.06,45591.23,79458.12,103042.2,70209.83,176743.51,10703.53,151425.82,3894.34,28861.69,177703.15,136649.8,175894.24,76257.46,193668.49,125671.29,174098.28,187866.21,100862.36,10804.04,170893.85,22698.56,89822.48,175262.49,15705.27,170025.43,17242.79,79734.23,92712.97,99689.48,93336.3,175893.53,42840.18,140298.24,144000.59,113408.11,96420.58,125806.3,65720.92,31002.03,158248.71,94677.83,17257.72,101397.86,84870.23,183515.13,75969.19,146379.3,127154.8,2019.78,197885.72,138017.68,170984.97,55859.27,4459.5,102135.92,112771.95,32903.93,162260.93,87959.83,166476.95,25438.87,157230.06,197305.91,44435.76,181051.99,159069.37,155485.24,43852.05,140071.57,49089.36,55893.37,192660.55,137028.51,34430.16,108409.17,145325.32,81425.61,51553.43,52795.15,84270.09,145011.62,66245.44,36446.74,137136.29,117323.31,74157.71,104253.56,2748.72,195937.16,22101.86,126535.92,44692.63,112442.63,66331.01,16657.68,20081.3,93820.49,130795.52,160129.99,189969.91,9712.52,196062.01,125710.53,23054.51,170679.74,181258.76,22835.13,102397.22,115950.96,15876.52,117690.58,173792.77,80992.8,189398.18,56787.8,148309.98,179673.11,138470.21,163798.41,33693.78,48545.1,123427.98,174183.44,17938.0,90059.04,137694.23,65039.9,162858.29,35701.06,18826.06,130086.47,143360.56,159920.92,12099.67,53087.98,142839.82,178.19,105618.14,24734.25,82245.67,177695.67,107961.11,55207.41,182633.63,51587.04,115403.31,186392.99,44374.44,84033.35,82276.62,177528.92,56850.92,47972.65,104982.39,133535.29,25571.37,96075.55,81634.45,165008.97,138191.81,99136.49,63584.55,160532.88,162683.06,134878.19,134626.3,175480.93,174337.68,172524.51,25395.83,184856.89,182624.93,192505.62,112507.63,177295.92,12465.51,36122.96,37836.64,34747.43,131097.9,105280.55,149653.81,139390.99,132436.71,179705.13,15796.66,142754.71,2578.43,88992.05,32936.44,39122.58,191092.62,129149.06,13218.6,160589.18,179657.83,44335.54,29217.37,43651.49,159654.0,17992.94,141501.45,93825.78,41852.24,97629.31,37065.66,38614.69,87816.86,184866.86,160176.47,164357.1,17818.33,142680.64,85081.09,176450.19,121967.88,127187.04,108313.34,57205.55,157891.86,86927.53,107753.07,82158.14,29135.89,17095.49,100447.53,83470.4,121846.81,129107.59,54726.43,116141.72,124872.42,186438.86,134281.11,91044.47,74320.75,9704.66,128600.49,6468.24,57898.58,192120.66,164213.53,117547.76,26149.25,9181.66,166588.76,195053.58,85787.31,102428.51,71175.94,166440.32,148848.76,140286.69,104220.5,70778.63,65868.28,171482.56,143204.41,28427.84,78387.32,161076.92,54277.45,137180.95,21063.71,152210.81,88890.75,190534.76,83090.35,141426.78,51358.66,88703.04,116696.77,7156.09,49161.12,126743.33,65390.46,138835.91,36154.66,59755.14,125302.64,94274.72,102260.16,136028.97,110114.38,100442.22,193597.94,1871.25,42831.11,182156.86,151648.66,146738.83,12148.2,118029.09,50783.88,129891.66,9904.63,63213.31,137565.87,17185.95,143783.46,36823.28,154957.66,31892.82,191084.4,179718.17,159823.16,114110.97,60993.23,66408.01,136398.9,140709.25,8555.73,115022.94,187638.34,3829.13,119357.93,192175.52,128841.31,150422.35,188187.05,1775.52,85086.78,3797.79,150856.38,90537.47,166370.81,178994.13,195681.43,53277.15,172490.78,11819.84,82900.25,82709.8,180593.45,172363.41,91195.12,108987.25,44265.28,116613.26,148527.56,84239.46,62002.04,46044.48,169669.33,156346.84,157711.18,89087.4,8742.36,117038.96,164241.67,137720.56,106.67,1539.21,59659.53,173586.63,126033.9,62808.93,147007.33,196261.64,44560.17,18917.95,4525.4,93112.2,9658.41,182627.25,13177.4,43568.31,117830.57,117396.25,96929.24,36275.94,116706.0,168080.53,25887.89,122488.59,113171.61,100365.51,124151.37,112664.24,183494.87,198810.65,131259.6,116471.14,15336.4,99593.28,170514.21,34265.08,106977.53,164287.86,25292.53,51820.87,81452.29,1354.25,71379.92,154137.33,64308.49,31613.35,27738.01,163570.25,193878.51,147545.65,195906.59,178458.86,156125.72,11159.19,45738.94,140650.19,4733.94,10579.72,179655.87,77502.56,145759.93,56246.72,151335.24,179833.45,191627.85,173016.46,58469.75,28038.28,159576.75,151280.96,139953.94,105407.79,56865.62,198072.16,137791.18,103787.28,30912.89,78651.55,123309.57,174118.93,85736.26,121138.77,84199.78,181224.56,141230.07,158111.71,130639.01,17040.82,25662.27,193360.69,121485.1,162452.65,141137.53,185541.2,118383.18,8214.41,46521.45,10772.13,199290.68,85983.54,129870.93,63158.22,171070.52,53222.15,179834.45,114514.64,139162.15,50249.16,113469.65,147484.13,191448.96,119381.41,33277.31,73107.53,96590.39,6923.11,176403.33,64349.6,116097.26,29861.13,48426.98,32770.56,117060.2,136197.65,27438.83,192156.54,69409.37,58440.43,192519.39,144874.67,175373.46,440.2,76637.38,49480.66,10417.87,67976.57,140929.98,47139.06,126241.4,22614.19,48498.19,103511.26,122073.48,65535.56,160060.9,155879.57,194416.58,21630.21,157143.61,52796.31,121798.52,41104.82,10604.48,78563.66,170821.43,113266.09,171768.76,54416.18,130755.34,141180.66,183421.76,132770.11,24400.37,180318.6,111565.45,2002.5,82565.01,121789.3,193785.87,64593.07,196993.69,175518.31,17268.02,60901.72,100750.03,195224.91,3510.18,81250.79,91844.14,80676.83,129912.74,142029.17,137651.6,33877.29,78744.39,96734.46,164756.81,164394.65,162501.83,10541.38,59325.21,178187.28,142626.49,181893.31,156858.2,33074.51,50072.94,111340.36,100496.84,101371.05,180934.67,105152.17,706.5,101168.9,6795.61,196111.35,171960.76,177497.4,147995.96,36209.1,143614.01,14828.54,154775.7,70529.0,57896.27,69759.91,89938.08,89578.32,73464.88,138542.87,161888.63,86937.2,42241.54,121207.66,102930.46,65121.63,78498.04,104769.96,96498.14,38691.34,164804.02,104152.65,88866.92,129890.94,179258.67,72051.44,74580.8,123995.15,38960.59,94951.27,56642.97,50783.1,9149.96,21006.1,33759.41,196622.28,176353.87,176943.59,177966.24,162198.32,197643.24,60420.07,70550.0,198798.44,126310.39,64515.5,158580.05,129353.21,137273.97,171575.54,96528.0,64421.02,158444.61,66548.58,108008.05,128268.39,37464.0,157381.14,194257.11,139059.05,40893.61,40261.49,46203.31,13126.9,165675.01,5459.07,131919.48,182372.35,147600.54,92865.41,67142.97,65611.01,138564.48,187391.02,33656.35,100618.17,198134.9,50368.87,108787.0,33099.41,124550.88,5159.21,48228.1,108798.36,21085.12,28922.25,62514.65,177506.66,90605.05,132029.95,176903.35,29239.29,153662.88,154389.18,166224.39,21646.2,171037.63,112649.22,193014.26,118120.88,25650.04,113048.79,87372.49,146651.99,8227.91,57034.35,93003.21,165574.54,13566.48,82796.29,119830.08,72155.85,62762.12,183235.33,105206.48,22512.44,122305.91,173617.09,160670.37,158958.9,93073.04,67238.01,172576.56,122580.48,149043.78,105218.45,78463.99,160849.43,87834.24,166317.71,137309.06,166984.44,166996.46,188022.44,194467.23,125449.47,137452.57,123475.88,38941.44,177852.57,31532.96,136377.21,130541.1,65636.92,193305.35,47307.9,100809.99,109145.2,91167.19,175295.89,127433.47,71167.17,111184.67,141756.32,72678.75,172832.9,158086.33,168184.62,72950.14,48378.4,23135.65,65675.47,170676.67,27366.77,152479.64,105383.49,48189.94,100324.01,65657.29,17682.02,111342.66,134158.09,79176.09,83103.46,63908.86,90896.04,76076.2,103902.11,142223.94,147533.09,169156.64,141242.57,149458.73,86950.72,176925.69,40357.39,26687.22,78702.98,176163.74,4896.11,114899.13,92220.12,6251.3,43018.82,27548.06,120454.2,133961.19,131753.97,38019.74,28144.07,45959.86,189528.72,170481.98,94845.45,161253.08,115260.72,60721.4,121365.45,101693.73,54132.93,10666.05,41227.67,10712.82,98912.69,197202.48,150720.39,74780.13,79377.45,8763.87,177112.7,85016.64,88689.4,95985.64,166792.71,68730.91,146891.07,148727.42,43134.58,40318.33,97633.93,65069.03,166335.0,121904.44,175235.99,56185.05,131625.14,152323.04,165840.94,176692.65,121904.14,123663.63,119644.59,66825.33,94875.03,76304.73,39755.0,180142.42,83238.4,5078.9,132424.69,109057.56,115676.61,149401.33,89891.4,82500.84,6416.92,189428.75,178833.34,42766.03,90883.12,80619.09,120646.4,41409.36,112317.89,152128.36,177670.57,189159.97,159403.68,149536.15,155492.87,24847.02,115387.4,171971.25,126106.4,28228.35,138113.71,43018.98,83611.45,118863.38,91947.74,94488.82,47058.21,44719.5,174478.54,45611.51,73853.94,196517.43,92914.67,31372.91,109733.73,36083.96,188435.38,169963.2,69320.97,36145.53,137702.01,71594.26,65565.92,101828.39,39546.32,110805.79,2168.13,190067.12,77789.01,127654.37,79602.86,80619.17,160346.3,109638.78,1276.87,49374.82,31580.8,20560.69,84584.69,15246.83,32607.77,155846.69,3232.82,177668.55,134441.6,111032.79,45214.04,67208.3,80985.88,167573.06,160110.65,127825.25,123535.05,41595.3,97628.08,91359.79,97755.29,182528.44,142956.48,10789.3,130461.09,190994.48,159463.8,57589.29,40437.67,56459.45,39920.0,148798.45,63737.19,154997.64,34777.23,93718.16,133112.41,175479.92,96.27,30804.68,197193.49,96792.15,132719.8,112157.31,38015.34,164018.98,46774.94,189664.43,26106.39,191535.11,158937.55,25222.6,29296.74,54394.28,9234.06,26796.73,11796.89,128461.29,14278.18,46811.77,109393.19,3966.5,63173.64,66367.33,16274.67,180553.48,107563.16,100941.57,110230.4,142331.85,199099.51,85890.16,143938.27,131644.41,112395.98,71856.3,35770.84,124364.63,78101.29,143096.49,14073.11,47388.41,72306.07,184839.7,47886.44,130474.03,73181.39,65706.86,104379.36,192146.63,66977.68,158742.81,189414.74,159130.32,97640.2,86022.09,10014.72,17384.21,143315.57,31669.18,12761.16,93429.95,42012.55,15798.7,56408.14,4696.44,25042.1,130442.08,136521.82,199108.88,124596.63,134394.78,144275.39,123410.23,143298.06,129562.74,4595.05,146715.07,163558.36,6947.09,9170.54,199674.83,157166.79,46072.52,3524.69,45563.94,59103.13,189558.44,45779.9,21859.06,162699.7,8567.18,132943.88,12916.32,128799.86,99347.8,40980.87,40368.65,94738.54,88842.8,136934.91,109356.53,199635.93,158408.23,95936.84,126688.83,150850.29,27802.0,32430.94,137332.37,28601.68,108411.66,122518.5,9015.07,94433.08,110371.84,141364.62,16245.25,108348.94,171668.2,67364.42,107867.38,194310.1,33950.08,197588.32,428.23,34948.77,82084.3,64804.59,83556.65,71926.28,122925.44,13133.88,62845.64,28411.23,28640.92,156787.34,125307.87,131736.23,128262.14,91366.42,82290.81,66190.21,23920.65,45438.38,93360.35,14496.67,168521.72,103318.44,87219.41,197490.39,126812.63,94283.09,46857.52,81491.7,129107.97,49732.9,88728.47,86981.45,3740.93,67949.32,147636.46,188891.96,25482.62,18391.93,140168.36,161064.29,183542.08,194238.92,7900.46,51424.29,152450.84,55816.2,32909.13,100637.07,142911.99,26287.21,60775.76,146257.77,28332.0,100919.19,102591.9,25554.4,152107.93,69381.05,101728.46,89040.61,16910.98,150468.35,177613.19,120672.09,77142.85,127804.66,158344.63,167179.48,15404.64,156036.19,144725.14,22558.74,147342.03,85470.45,194656.11,48505.1,101491.23,164117.69,124626.57,34490.06,90967.37,24208.84,174873.09,170262.97,112289.06,93783.0,150026.79,102036.82,898.51,95124.4,11514.39,27468.72,37092.43,171587.9,80828.78,169287.99,13197.44,54439.53,38186.85,27274.6,65758.19,97767.63,115468.84,98293.14,182059.28,128538.05,108841.83,18581.84,146821.42,100727.68,39356.38,169921.11,42364.75,28823.04,182436.81,115700.2,16725.53,56875.76,56214.09,193412.05,83263.04,13404.4,184474.15,121124.53,152567.75,10722.54,58010.98,163440.8,102606.92,80591.18,177362.45,120257.7,180622.02,130404.53,147797.54,57844.26,162523.66,54495.82,169183.66,80262.91,8751.59,102628.98,94823.95,90821.66,153194.32,87310.59,146411.41,74048.1,23386.77,92898.17,45956.05,71738.56,103560.98,52367.29,152916.05,4410.77,74771.22,193817.63,26793.82,32526.64,824.0,85250.77,83508.93,173599.38,79342.31,57600.66,56191.99,6770.44,101694.67,69113.14,172674.36,26606.28,53353.36,63747.51,190112.05,110317.39,148623.43,125253.46,101954.78,168462.26,26215.85,97045.32,53534.8,8949.2,163116.75,140745.91,171515.84,150803.44,76884.05,170454.93,143104.3,55701.62,186370.3,24275.32,50774.81,154279.87,68462.59,91036.74,83681.97,199484.96,152491.22,134875.37,184366.14,189839.93,175643.44,3268.17,47089.72,46562.02,62487.97,181598.25,64815.05,70196.23,160383.47,35848.12,87278.48,94498.82,133486.36,73107.6,195333.98,121525.48,173843.21,185227.42,125244.18,163113.41,123006.91,40463.03,131363.57,188305.85,143994.86,89368.59,158365.89,78753.12,100408.31,24677.54,39570.78,155665.76,168294.27,87908.01,191198.92,191207.03,128954.05,59905.29,162012.6,19231.98,175749.36,60533.96,137508.42,189430.86,6723.66,41371.68,125140.72,143683.75,170770.44,157397.57,50595.15,50390.98,163150.03,138280.17,135067.02,163534.75,86657.48,162087.82,28879.3,169203.51,102426.12,54676.1,18369.33,159888.1,167636.15,138889.15,199392.14,189560.43,17375.27,140225.14,61018.85,51907.72,47018.75,33700.52,59636.43,157147.59,191393.26,199862.75,20016.59,30635.52,117832.88,22497.1,747.88,76870.81,107848.24,103726.71,178268.36,126281.83,196651.72,5962.3,21928.81,127022.87,162763.01,113950.51,104930.46,52337.97,179964.55,83753.64,182913.95,166720.28,192721.98,180241.44,48475.12,126551.48,64872.55,98031.53,93524.22,56991.66,183980.56,130234.63,32454.26,75396.43,167756.45,24799.47,60429.43,74241.09,78310.82,119419.37,91305.77,25136.95,193880.6,47856.78,4491.77,101311.95,38830.72,26817.23,199727.72,67445.85,161002.29,20778.39,41042.4,67484.16,121763.68,157358.43,110275.17,43801.27,9085.0,143086.09,100556.98,140000.29,186775.25,133570.43,154990.58,27654.44,137763.93,25723.73,186285.52,142208.5,169862.01,41365.85,30812.84,155023.93,159416.58,76259.23,105965.25,50743.83,147720.27,167387.36,95159.13,4654.28,130376.68,173486.39,93881.75,36376.97,128499.94,105898.69,11959.03,98810.78,65906.07,151516.7,37214.39,92033.98,195692.3,6342.84,95148.28,21215.67,19700.24,134396.64,135077.01,133600.89,99922.08,41399.33,159344.43,18364.19,98162.44,84663.21,36536.93,79101.67,16644.16,158420.14,48988.28,96862.56,96366.7,146123.19,135178.91,158615.41,71433.88,55672.09,150218.11,162734.31,21228.71,62027.9,60988.21,108675.01,72643.95,9241.52,153080.4,72196.57,199527.34,156598.23,74917.64,111249.62,59115.77,148218.86,77142.32,67484.6,63452.18,103660.31,163191.99,62905.29,44323.22,97938.59,126565.21,185360.4,183229.02,106024.02,167810.26,138536.09,184520.0,20492.16,134676.72,138478.2,125557.95,82969.61,158071.69,43615.67,119969.99,140201.21,80792.83,141359.11,23344.94,5075.17,95500.98,79082.62,199805.63,52709.55,56583.88,3385.04,12537.42,64722.61,75246.21,198929.84,69011.66,52404.47,163641.53,154598.56,173989.47,61315.37,143393.24,124210.53,151460.84,20734.81,43705.56,180736.24,104170.48,27867.59,55387.28,196332.45,116046.22,93874.87,76614.04,6076.62,122221.71,24156.03,135394.62,91340.02,146090.38,172096.08,135034.57,84008.66,91763.67,137001.1,106799.49,10494.64,79866.73,186172.85,91673.6,18458.2,8342.35,138578.37,38129.22,107155.4,29792.11,7063.6,21645.06,137079.86,172718.35,106691.02,72274.84,32246.63,80552.36,16733.59,1235.49,50168.41,33687.9,178705.45,66810.48,45859.55,63846.36,100236.02,19645.65,178393.68,78591.15,124954.56,3756.65,152723.23,187597.98,70381.49,156792.89,35534.68,151256.22,51011.29,111190.53,69664.35,63233.02,40855.79,95673.05,80234.14,189051.59,145490.85,196278.32,162889.1,174667.58,3476.38,19344.92,95270.83,107759.31,118368.2,52484.01,178153.65,49915.52,33747.03,59961.81,18613.52,198894.42,57014.17,131729.52,79169.73,106472.34,17013.54,150661.42,86622.56,115767.93,141998.89,182787.17,187915.7,133267.78,137476.09,77146.14,183271.15,26362.4,153373.71,70705.58,119759.24,42392.24,34670.62,82106.19,171774.5,149772.61,38866.85,35179.18,41788.37,17376.57,199428.19,16922.28,178291.89,152290.28,126809.15,40385.61,34350.54,199005.88,52629.73,180012.39,35342.33,109291.22,62746.54,173273.2,54340.24,19302.78,10883.52,17298.72,115779.48,93228.86,148704.77,150475.14,40914.32,38587.7,171260.66,94187.47,145900.89,152298.28,99828.45,34743.98,121189.3,129660.59,145477.36,151822.66,49656.24,73856.28,116757.0,16319.56,90273.85,161344.13,121061.89,69531.22,3756.23,114448.13,144045.08,58781.11,179227.52,127332.33,86642.38,184178.29,9551.49,56053.06,1118.31,195732.04,175070.94,112331.19,43956.83,115994.52,166682.57,99843.98,141175.18,175910.95,176984.34,43480.63,155047.11,176137.2,154843.4,8214.46,147075.69,116495.55,31165.06,192127.22,137491.23,186841.71,86776.38,72073.72,10662.58,91001.02,20555.21,123164.97,143463.28,92131.54,77178.42,193650.16,52861.89,35896.75,149418.41,46253.65,86609.37,91943.94,128892.36,44830.71,84508.44,84760.7,147661.47,82393.08,135995.58,159800.16,14379.01,74322.85,189016.24,136435.75,78488.39,113695.99,54628.11,150835.21,158891.79,160523.33,180595.02,16618.76,79919.97,186489.14,51999.5,121299.14,144593.3,178752.73,94148.3,77414.45,63236.97,108645.85,95153.24,136079.64,98273.01,113505.93,52525.15,194617.98,152541.89,142903.44,182257.61,135431.72,175697.87,59061.25,131283.6,152499.8,15523.09,186418.85,32262.28,128052.29,181419.29,109783.29,181879.56,74260.16,49865.04,103608.06,167564.82,41816.49,179066.58,109184.24,199841.32,83617.17,84863.85,114775.53,103557.93,85028.36,153064.87,38784.42,186526.12,28789.94,45038.29,150245.81,57762.0,4292.72,173365.89,119484.01,121821.16,151733.43,53784.22,62733.05,17671.78,188905.43,113079.19,83997.79,125424.42,143194.05,93132.61,76038.38,168658.3,108419.41,171657.57,22357.25,193903.06,141926.43,104079.62,93832.33,1568.91,60778.11,16119.96,60375.18,187946.55,195563.99,38196.24,179435.21,93208.22,61531.86,92826.35,23140.28,74287.53,101102.39,126933.73,68408.74,155356.34,3234.8,195209.4,169149.38,68075.14,93707.8,156153.27,58601.61,114448.77,126551.65,112350.21,185808.7,118235.52,183051.6,27922.45,196476.19,190429.52,35034.15,66389.43,107615.43,99692.65,88729.22,173321.65,139463.57,3769.71,149946.43,135768.25,31708.53,151677.31,170518.83,196582.19,3298.65,162878.96,64014.24,26257.01,126794.56,164162.44,179206.92,18254.75,83949.68,22684.78,7953.62,143952.24,158032.5,199104.52,87566.97,170563.73,157871.55,93203.43,54398.56,168779.47,1140.02,186476.91,29023.03,60021.34,180456.8,132498.39,109608.81,98570.01,160546.58,6139.74,6930.17,10674.62,71159.84,62413.01,166386.22,133086.45,192933.37,71359.78,79270.02,29583.48,88680.65,134691.2,75574.48,30252.3,111324.41,105425.18,36193.07,93081.87,107625.46,152733.89,110421.31,48486.25,72993.67,25744.13,46807.62,26772.04,150057.2,56028.79,147693.92,174032.0,153698.65,108301.45,22929.08,102665.92,56139.09,88391.29,149195.44,143357.03,168359.98,77335.75,93148.93,36687.11,146703.36,115927.85,104189.46,9902.39,16645.77,180134.88,148098.95,38798.79,153295.0,100687.67,111442.71,136902.01,105732.9,35884.91,73489.15,110114.19,40145.28,146398.51,160526.36,173516.71,88396.6,185821.41,108098.28,162267.91,193135.25,168034.9,163295.87,159553.27,99800.87,40250.82,83335.78,48382.4,165990.44,9002.8,188156.34,186785.01,184259.6,57817.84,144660.42,163112.9,136301.1,36176.63,65769.3,174123.16,161304.68,109394.62,190155.13,61450.96,8673.43,125912.77,151349.35,67972.45,71139.31,86350.97,118648.12,100995.11,147100.72,155495.63,196875.87,63176.77,105221.76,131924.38,23132.73,161428.25,181794.86,86634.3,29937.75,140130.22,17536.82,53157.16,143585.29,72402.0,39891.84,89804.83,136491.72,35593.18,58268.2,101778.9,185123.09,119927.81,195033.07,86480.29,198766.61,185144.08,3729.89,18988.58,119313.74,62627.55,197266.58,199992.48,16403.41,78854.57,189310.27,78088.17,19842.18,103305.01,116124.28,142730.27,58076.52,186123.57,29664.45,147963.07,38466.39,143301.49,31422.69,121505.61,89874.82,72500.68,182692.8,4993.94,124964.82,161971.42,39488.04,55313.44,187811.71,184514.01,121311.12,12873.39,157238.05,123242.11,184399.76,57323.18,68293.93,10288.24,179446.31,141453.62,93151.77,6554.97,38570.13,131048.36,127068.92,51721.52,46156.87,192950.6,180932.46,19596.73,46786.92,175820.91,198208.0,55362.45,47675.29,61326.43,71672.86,101168.3,144880.81,115037.67,187280.51,183540.22,28531.81,42730.12,104721.5,65219.85,118929.64,70563.9,139435.12,170347.1,131553.82,138344.7,169894.4,9770.97,74176.71,112668.06,186275.7,98463.99,2746.41,10928.3,91346.03,139844.04,105052.9,144366.83,19605.18,80483.76,154344.0,93503.02,153036.97,98029.58,193018.71,60810.64,87071.18,164064.44,4554.67,119924.8,170360.11,69850.04,47298.95,45443.68,198715.27,115611.97,40333.94,105997.25,134851.12,61666.87,196574.48,111097.39,48201.64,135096.78,15650.89,34097.22,174822.74,85937.52,49185.57,77742.38,34436.83,88279.6,157549.6,173386.95,82782.08,187758.5,176547.8,56585.2,125762.95,113868.4,24780.13,120259.41,175398.34,86767.48,71216.6,85240.61,160529.71,102806.6,144134.64,184017.98,195896.59,126722.57,176883.42,122960.98,9607.1,152643.48,95551.22,141860.62,76642.68,52301.15,29388.02,193408.43,58632.37,191076.22,645.61,144390.75,193580.32,126761.2,62368.33,131718.12,91098.76,67508.01,12156.93,65089.38,62370.67,18826.34,3342.62,178626.07,32845.32,134732.99,106095.82,57380.13,25951.91,69414.13,96123.72,119425.94,120138.27,150548.5,142492.04,14357.0,129569.92,55972.56,59497.01,181928.25,102517.83,88827.67,14161.3,56908.41,184474.72,94912.78,73069.59,136602.8,150093.32,168186.11,146230.63,79314.1,77965.67,128745.69,194767.3,10672.54,10627.21,122268.75,65482.94,146134.68,123300.38,122925.4,127744.02,118319.5,17104.0,164608.98,152108.47,23399.58,94711.43,7312.25,41876.98,96881.32,102402.91,176763.27,23548.45,33450.11,19658.43,104678.78,143203.78,6975.02,153771.8,85902.39,188037.76,52710.7,17034.37,131304.45,172576.43,99019.65,190160.04,3025.49,34689.77,2305.27,113228.82,171099.22,62023.1,36923.67,112256.57,198830.98,197963.46,31635.99,49594.02,170483.9,40339.9,3218.71,68569.89,29176.04,46758.42,171060.01,93550.53,89405.26,169804.4,83253.05,195813.81,121568.37,92144.09,126307.25,130784.2,166694.93,44001.11,185992.36,178997.89,141558.04,47921.22,104902.68,68479.6,1271.51,29346.1,184118.73,96013.5,103713.93,46632.87,135334.24,13482.28,130075.07,143544.48,187826.11,167058.75,79928.41,6075.36,43821.56,32125.98,141679.73,84133.48,9692.58,20708.6,85644.06,107674.3,134822.05,4606.97,51362.82,39704.14,195638.13,86413.11,116385.24,182076.97,67879.8,11417.26,65998.26,114774.35,126153.24,176091.31,87352.43,107074.81,69157.93,149970.59,153288.97,147700.78,188657.97,103764.55,140934.57,15118.2,63202.0,16081.62,523.0,181757.19,1173.23,86587.37,109545.56,174431.01,119368.99,23315.59,67539.85,185201.58,131827.15,10842.46,23768.01,117616.29,174027.3,115091.38,106340.66,198103.32,175314.87,150679.65,110043.88,194890.33,112366.98,167289.82,182099.71,49373.97,861.4,81718.37,49324.03,9751.03,78899.22,13889.73,11467.38,130789.15,108665.89,160303.08,115287.99,139094.12,20515.72,36642.65,104382.11,146448.01,166650.9,164223.7,149331.01,73066.72,15378.23,53072.49,3159.15,125920.54,124113.04,93716.38,155799.86,8814.69,164453.98,87803.32,183617.32,53584.03,1950.93,175025.27,13018.96,42537.59,62989.82,71692.8,823.96,169469.3,150159.95,32063.3,68794.15,75084.96,114685.92,143665.44,51099.56,5408.74,103006.27,44147.95,149278.96,193009.21,74898.8,116253.1,19374.08,64516.8,34475.14,57061.71,32301.88,136859.55,69244.24,156309.52,4989.33,190194.95,3529.72,81778.72,39297.48,176614.86,108684.65,145764.4,42135.28,16929.41,104393.78,192717.57,59650.42,63729.72,73679.59,174969.92,1703.58,163181.62,52319.26,51672.08,145355.11,51711.57,149535.97,94105.0,155905.79,138380.11,97734.3,173576.71,27596.39,16897.19,36895.99,113046.81,129933.5,133091.32,106282.74,57862.88,12628.61,198914.8,109127.54,22487.45,46791.09,158697.28,194138.36,35177.31,157015.5,136551.25,96517.97,93629.66,96097.65,156476.36,42964.63,122021.33,56311.39,150685.52,177740.58,71492.28,104492.83,47729.33,97593.16,186869.58,135227.23,135244.87,179473.26,50610.62,75232.02,89205.54,61761.77,103921.43,198802.9,9617.24,187905.12,121440.8,36292.94,20432.09,187051.23,148689.13,125445.8,22736.06,54947.51,167984.72,4802.27,72909.75,185488.81,88407.51,184544.59,136539.13,85045.92,85421.48,119903.2,138780.89,14789.9,131964.66,178709.98,20344.84,172852.06,103945.58,183656.12,10333.78,122109.58,125041.52,140003.0,183171.47,61128.29,52462.25,50839.85,61240.87,127429.56,68343.08,126511.94,8559.66,147822.81,39288.11,85179.48,190019.61,96405.88,83342.73,161333.13,81292.33,177747.72,187980.21,177235.21,29835.37,80204.38,189268.81,85411.01,154360.97,84460.18,65618.01,112928.74,142210.94,82559.77,127388.06,10160.23,64242.31,198355.28,79323.61,24113.91,41921.06,107472.99,143859.66,104120.17,79792.3,154639.72,57850.1,62868.33,92357.21,161083.53,91429.74,117031.2,44857.4,36483.52,34045.61,59981.62,152944.39,66979.06,28797.32,51670.82,41865.72,96015.53,103914.4,89199.51,48849.89,197444.69,145160.96,52309.8,50695.93,157891.11,181850.74,51345.39,137519.92,49653.37,55867.38,172749.4,90607.31,130861.95,5558.47,121537.91,57128.78,19409.77,88604.89,479.54,173837.54,487.3,35600.25,166929.43,98998.61,54229.74,105720.09,121151.46,154844.22,18785.48,64771.61,16250.61,131093.99,129188.18,47428.73,132973.21,84908.2,57338.56,161579.85,122625.68,52909.87,170226.47,191757.65,66652.75,195977.75,69056.26,12920.43,138552.74,22832.71,61811.1,191604.27,25445.0,129964.56,6209.51,134794.02,57549.65,28367.21,51703.09,66602.7,2739.71,69227.42,31445.03,150037.19,111448.92,51226.32,53581.14,149697.78,160348.31,154641.91,104331.76,135630.32,65361.66,56176.31,60059.47,51364.56,118752.6,116848.79,45026.23,189657.26,57213.46,63687.06,58761.33,14187.78,145115.95,187718.26,27150.35,111622.76,27244.35,57029.66,25183.01,129980.93,118716.63,20134.07,190208.23,68021.9,110881.56,132480.75,7032.95,27862.58,87008.17,27411.19,46395.21,194245.29,151317.27,118142.79,138700.75,6035.51,41263.69,63185.05,92536.0,158736.07,18633.4,71830.1,19525.65,110953.33,4466.21,105818.51,149558.83,4070.28,132741.13,61251.25,91347.76,171045.31,155850.4,27380.99,154208.96,93624.55,64746.07,82815.93,27308.58,104876.8,151316.37,91817.38,125311.17,14868.94,196112.45,24093.4,66263.87,100304.13,167909.52,16246.59,103603.65,7680.23,95215.73,148172.94,124382.9,159311.46,6787.48,197297.77,21556.95,56518.0,158840.99,126396.01,148087.88,33701.5,84622.37,185580.89,62768.8,38829.11,110748.88,54083.8,88658.73,177938.52,174235.06,82696.84,142415.97,62811.03,25339.29,176487.05,49833.5,55829.25,155823.2,60622.61,174196.68,56905.38,101178.85,73857.94,102325.19,55356.39,131284.93,88080.43,93266.01,75562.47,153747.73,163830.64,103456.47,95655.16,138350.74,31190.42,167553.06,59604.45,162223.67,196549.85,120373.84,92149.64,178361.48,170998.83,77216.48,121164.6,141841.31,104000.06,191419.32,28188.96,60407.93,130489.37,193040.32,109742.8,74760.32,61936.1,78650.95,168023.6,5571.59,118591.67,7824.31,38153.19,180829.99,143960.72,8788.35,103557.85,147168.28,58844.84,18094.96,162515.17,157921.25,68701.73,186778.89,66561.6,64831.36,6589.16,165370.66,184758.17,13911.27,34857.46,156192.43,53874.67,100183.05,4493.12,130610.78,63340.65,180066.59,95273.73,53511.74,109685.61,75664.56,71972.95,23702.42,112572.02,62424.46,131238.37,184350.78,13999.64,168152.76,35640.12,120088.17,74346.11,2955.46,146504.35,149602.54,53020.9,41788.25,74849.46,134417.31,75837.58,54869.54,35356.46,122141.13,119439.66,81999.53,120594.85,120770.75,134790.74,100137.7,158325.87,70007.67,88659.07,190889.13,56646.28,32999.1,178235.37,25448.31,84871.99,157822.54,84383.22,119216.46,82547.01,86764.46,197372.13,82872.64,129563.86,135388.89,4497.55,67885.37,111471.55,134407.93,108258.22,197528.62,139761.25,136119.96,197812.16,51972.92,99341.87,171345.02,119056.68,172601.62,104936.88,159044.1,83263.06,130910.78,126336.72,27980.8,47880.71,73882.49,162960.05,68807.47,144039.05,151192.18,120225.62,56118.81,130853.03,185156.94,35671.45,59568.24,139911.58,56770.76,157564.75,131473.31,90424.09,156660.21,88372.69,46200.71,160548.12,1262.83,188639.28,14665.28,156868.21,30461.55,123885.88,60688.38,21785.91,188135.69,154364.66,61312.15,47454.93,121102.9,137419.87,157664.02,148689.65,39789.62,165162.4,137674.55,101371.72,65066.48,107876.91,111180.3,115650.63,165035.17,193746.55,58458.26,52332.85,75959.1,123.07,167066.95,117572.59,7166.71,137173.39,116442.42,32421.32,104665.79,44215.86,20164.47,26691.31,107955.67,150048.37,192255.15,173245.68,121457.88,104804.74,69767.14,178373.43,99924.04,49594.19,186071.14,77511.45,54816.57,61290.99,191821.35,156768.45,73731.32,122190.22,123509.01,8199.5,14113.11,51705.01,161937.62,120892.96,65035.02,164257.37,51987.99,10899.63,177355.8,63889.1,176433.6,81313.51,13998.88,5771.56,42693.65,90839.61,54144.01,184312.88,20306.79,128256.18,182720.07,4082.52,102233.73,132002.83,126838.7,181461.46,195325.74,29132.43,131804.86,173784.04,26249.86,182650.15,196582.55,141977.54,55313.51,62944.75,72375.03,188324.01,133403.07,157378.5,101240.08,102502.5,37577.66,83456.67,199420.41,24748.89,121765.0,113666.48,134110.93,183095.87,159891.03,8316.19,63736.36,94715.24,68695.38,36899.62,182775.08,62390.59,76042.48,70956.75,67311.12,110454.46,88479.02,122639.73,79723.78,97677.52,100720.02,104730.52,22499.29,28257.89,109988.09,149991.32,45180.8,181605.85,126469.09,160810.85,88146.86,88333.74,90174.83,81298.09,60013.17,100940.91,12599.94,128590.73,23180.37,55796.83,152097.02,162443.05,55551.26,109496.69,72105.63,41815.22,74005.04,70224.34,145528.22,124486.28,10078.02,164967.21,91149.48,103379.31,128049.34,54342.83,13614.01,35521.63,40496.72,91903.9,178667.7,32202.61,117034.32,163746.09,20346.69,84710.65,120531.31,152273.57,144345.58,96961.0,170307.43,29880.99,195104.91,187756.24,67599.69,105983.09,25980.42,112222.64,59864.96,42581.09,4777.23,178038.17,128521.16,109029.72,2267.88,55054.48,76456.17,75478.95,179144.54,193471.74,103570.8,102628.56,55772.04,192070.16,144808.37,5008.23,173680.39,115753.94,38928.48,174381.23,49829.8,76169.68,133465.57,38761.61,176779.46,13159.9,48217.97,134964.85,184221.11,19264.33,92797.23,33114.24,154347.95,184842.21,155743.48,88815.25,193747.57,116548.02,166324.79,40199.01,51919.04,73329.08,145387.05,140763.18,67979.35,133051.64,86791.9,47579.25,151623.71,164039.51,16528.4,66753.1,19244.58,103832.58,502.7,1408.68,5985.36,37460.05,30396.43,2498.67,55346.14,148330.97,59237.72,48644.94,140759.03,107712.42,181718.73,37054.65,173940.59,99298.8,62933.03,55287.84,48197.06,178642.73,8282.22,33300.56,76515.79,33680.56,168886.39,191746.23,93091.02,23904.52,15807.07,83773.02,90162.35,36639.25,139469.11,198402.37,194584.48,159629.64,34231.48,69643.31,90270.16,47848.56,162865.52,168650.4,54372.37,133897.32,147878.05,118313.38,181224.24,7921.57,5708.19,56756.52,4121.04,97213.09,12799.23,50400.32,41447.86,185543.35,189988.65,170819.01,85547.33,137037.97,19283.14,169425.3,132038.65,3626.47,50881.51,149170.25,182505.68,194072.56,9209.21,167931.81,123096.56,3965.69,87711.61,49667.28,136675.22,35865.44,26136.13,33373.26,10096.25,188782.3,79775.19,152740.16,5791.85,13182.43,187551.24,110560.14,63795.62,62086.62,12483.56,10963.04,8247.0,156260.08,26927.69,84782.42,19842.11,95393.43,133995.59,108003.38,99154.86,49503.5,196533.72,188426.13,171340.68,79071.89,20940.76,34774.26,6865.41,51143.43,47031.4,47160.01,158666.99,65464.66,78255.86,103548.25,89609.26,193476.04,5199.02,52827.51,86507.88,100423.88,175611.5,19282.85,27448.33,183963.34,45113.92,110776.01,183042.2,161571.79,166692.03,71173.64,5353.12,86019.48,86383.82,31641.52,70548.96,24411.02,122254.86,186035.72,73133.82,187734.49,111590.35,15859.95,61324.87,176868.89,98896.06,108739.15,12266.06,163317.5,182247.77,168261.4,158590.66,102566.46,141827.83,161671.15,192013.23,127875.1,60811.56,131177.22,130862.11,72970.93,28123.99,140754.19,166650.32,45507.24,112202.64,37140.2,178256.58,100982.93,109626.13,99251.24,143345.69,59653.03,196864.61,109960.4,127256.7,1099.95,146192.4,48553.77,144407.1,195760.53,44827.47,88743.99,88837.11,62112.7,163563.07,174800.31,42429.88,82647.65,134175.15,92243.94,6175.53,29213.63,67214.02,169037.84,188809.23,79408.17,89222.66,86079.67,12944.17,166516.84,126419.8,89103.05,132973.17,93122.41,167522.19,157239.6,107429.71,75304.09,182944.47,5983.7,163655.01,89385.92,168773.54,96864.36,134455.84,28368.37,103898.59,63239.65,170138.68,3837.08,92977.75,191368.37,104889.2,60285.3,180693.61,126475.79,133535.99,87412.24,164886.64,116238.39,138051.19,101617.64,1985.41,165626.6,177784.68,65765.22,50759.8,163216.48,74850.93,23491.09,134272.57,155721.15,147230.77,133210.44,18986.12,100507.81,59346.4,95372.64,31805.49,51959.82,130824.57,157694.76,933.38,2560.11,12905.89,176692.87,102908.63,41291.05,119127.06,126434.61,103901.35,85153.0,12493.61,167336.78,186180.42,88566.9,172526.9,137985.69,19793.73,107874.39,171995.34,61829.89,31728.35,155221.05,130866.95,62199.78,24255.21,64679.07,88120.78,66463.62,15142.1,102908.91,48170.57,11597.69,172450.04,184061.17,21038.58,109538.35,129192.55,146516.86,181430.91,121451.21,131712.51,53294.17,96546.55,184524.65,195259.31,172618.52,59259.44,25899.21,3749.0,101918.96,57802.62,142454.77,143829.54,44114.88,186948.35,173629.78,49133.45,178122.71,20893.61,41303.29,199808.1,180490.53,87400.53,73686.75,172497.73,89286.29,180082.7,22102.25,76068.95,32159.46,159557.28,107673.35,33607.72,141035.65,115719.08,86128.21,147668.64,177480.45,190937.09,84531.79,161133.4,185555.63,33075.24,39806.75,26389.92,12162.76,167237.94,52067.37,184006.36,582.59,143274.41,54474.48,121428.2,79704.12,41055.71,41590.4,54019.93,76053.07,184977.2,127678.95,1243.97,76326.67,145338.61,57751.21,138880.24,136120.29,167621.18,173276.62,99661.46,66333.56,70240.79,113553.42,690.84,98802.76,130661.95,116378.82,186052.15,100101.06,169952.82,61792.76,37973.13,188974.81,86334.64,152845.99,146652.11,45482.04,168816.73,59297.34,125848.88,76264.27,3939.87,15306.29,58214.79,35877.03,21254.06,24533.89,23531.5,89099.18,807.06,121592.5,4700.66,161909.95,90389.61,2919.21,99086.74,163170.32,72757.33,73286.8,146056.29,167673.37,146011.55,103381.47,83022.92,46041.08,182843.24,171364.18,183399.12,152883.95,50560.45,54702.66,78365.75,68666.63,151375.73,19959.67,26955.72,76267.59,100998.5,191070.01,176858.5,45325.26,190958.48,78896.59,121964.46,11144.4,144181.48,32757.55,80320.3,185830.72,160095.31,52198.84,31811.44,104181.78,67667.19,193974.47,198055.94,43249.67,55218.02,131305.37,43117.1,186655.11,33266.29,555.28,150944.31,72846.58,35279.74,2101.89,94949.84,99061.75,74692.06,116692.8,32824.15,139607.61,115525.13,20955.03,52341.15,159813.18,169935.46,146033.52,153122.73,60335.24,163757.29,156648.81,176471.78,5388.3,93332.64,71192.82,170309.19,109794.31,166310.82,126728.27,30338.94,37935.83,25329.48,49676.33,169498.61,26500.29,166458.41,181294.39,21768.21,72849.29,24499.97,98994.92,141446.01,77864.41,115115.32,168605.96,38550.4,160618.61,3701.63,88659.44,44273.91,156495.39,182988.94,175082.2,148811.14,85901.09,199255.32,107973.44,128028.6,104610.86,69676.55,35982.42,117939.17,95140.62,167682.57,56562.57,90305.97,109895.16,1843.24,102747.02,97465.89,105352.55,85801.77,69370.05,176945.96,21597.2,152039.67,111893.09,195074.62,15959.01,72628.84,64157.24,23860.5,85687.09,179451.42,93180.09,157097.09,80344.96,26080.54,31406.93,32044.64,132734.87,61602.42,41304.44,57962.41,42862.82,152992.04,91193.65,130132.41,88751.45,104118.93,42028.16,75632.78,53710.23,13066.3,152417.97,3299.01,198091.81,103934.12,70403.65,102179.86,30375.18,184796.84,166264.89,88391.97,115186.97,13935.53,83910.4,34712.34,13871.34,139494.75,140724.64,20682.46,124202.26,159638.77,171056.65,25333.03,29372.62,38533.79,156122.13,57904.22,31257.1,193214.05,137757.69,13308.2,132861.9,125083.29,12405.2,37697.29,105599.65,142783.98,168412.07,184036.47,48478.47,3896.08,132370.75,128260.86,106534.15,102515.42,83643.87,138906.85,29995.83,164081.42,187976.88,158171.36,155711.64,85890.75,83844.79,41777.9,81908.09,139377.24,73562.05,165786.1,174921.91,120790.02,56092.51,158816.03,125660.99,128400.62,107181.22,77203.72,129740.11,187604.97,184754.26,63981.37,192831.67,70849.47,27914.95,173568.3,9324.31,26628.88,145601.8,144496.07,11779.98,83983.39,123318.37,65481.86,47728.0,59195.05,98060.51,90106.94,13549.34,113436.08,42442.21,68297.61,80134.65,96051.1,80682.35,111149.98,182612.38,109201.43,151146.67,93901.61,36342.79,98302.57,84972.9,108747.12,21862.19,121551.93,177065.24,140460.01,35337.31,193502.93,32174.03,5811.9,149593.61,37439.9,142763.51,45038.74,172097.4,180344.69,37392.56,36864.05,132418.59,60894.26,143913.33,172240.27,86619.77,164074.89,69039.43,132468.76,65316.5,57164.19,34397.08,177431.59,142009.46,80618.47,124218.27,85286.3,40889.14,107236.87,168085.97,146663.43,4791.8,120819.58,114539.67,154000.99,137980.58,83343.73,82195.15,149550.95,197688.5,72929.96,171045.35,27731.05,126131.9,103931.49,147635.33,61961.57,125435.47,42240.54,57942.88,153419.62,189727.12,165385.55,19687.99,39473.63,144723.38,194895.57,77271.91,105096.82,176780.39,153786.46,43612.06,79479.74,92320.37,193201.86,126353.13,135008.92,17135.6,60651.77,188343.05,23291.83,64443.75,287.99,137961.41,72169.95,39608.58,175458.21,89524.83,13221.25,102889.34,166468.21,27149.27,59601.15,22026.18,153059.62,167313.07,12833.96,197582.79,4033.39,125877.22,176913.42,105476.65,59172.42,108731.02,175310.38,38170.04,105887.04,95625.03,9541.15,148516.79,113907.8,164647.72,98621.04,37479.97,15846.42,5104.08,61937.6,170008.74,165000.68,76197.05,118045.98,157360.9,196226.38,44384.57,72993.65,124571.09,43640.16,31121.42,22372.78,170338.35,158845.49,67926.18,194783.12,176036.01,198826.03,168683.57,6936.27,179230.23,103421.91,147578.26,130504.49,16149.13,118862.08,143397.14,137959.0,93702.96,172939.3,108162.13,35896.09,104852.6,188850.89,28615.8,172001.44,60116.57,170528.63,189683.7,49734.94,121529.59,71071.47,142995.32,13054.25,89402.54,111241.37,119638.85,151581.79,73881.68,176902.83,7034.94,122547.58,161559.12,137510.41,185366.56,182224.14,42581.04,31921.95,102460.84,109681.29,106345.05,102472.9,36249.76,32996.89,195123.94,57014.43,159483.76,100929.59,12513.07,74900.9,137111.89,60212.51,187343.4,183284.53,8125.39,103220.56,96885.19,8877.06,147530.06,33389.42,45309.24,35230.61,59816.41,69080.46,143450.61,40774.01,99377.27,133617.43,101495.0,119333.95,167682.37,152884.85,70400.86,65413.41,182728.8,81442.6,144251.38,40207.06,54530.51,32683.88,104703.96,26907.43,180591.32,60905.51,47777.15,108222.68,3554.63,78616.92,100566.81,183259.35,159131.21,160976.85,42933.26,91291.2,52471.36,108804.28,122449.18,41682.3,148887.69,137784.25,190573.91,102076.03,56307.51,49775.58,4395.45,28461.29,28184.7,3149.1,194273.12,148537.07,116378.31,6761.84,81995.92,14392.68,468.94,122379.54,13228.93,154002.02,112777.38,128528.83,170122.22,2803.89,181918.26,115241.96,129956.13,45858.49,131083.56,46422.46,57675.88,169741.96,26022.37,125334.16,21343.74,139971.01,47455.82,55593.8,191756.54,76373.38,169278.51,136909.88,54865.92,156529.44,113482.2,63446.47,13624.02,148814.54,65567.91,6409.55,126997.53,171762.87,129031.19,182691.31,12351.01,135123.96,181490.42,186490.37,41248.8,116267.28,9201.53,80630.32,159165.7,86490.09,197572.41,105159.89,40807.26,143.34,125823.79,138465.7,44008.91,66893.28,76503.06,56784.11,175657.55,105155.66,47468.56,64729.51,101108.85,140938.95,37662.49,86414.41,41820.65,127734.16,123872.0,113050.92,131389.39,26589.56,195463.35,108876.75,136054.45,182262.66,129209.09,64853.51,148989.15,71047.51,185341.63,137793.35,198317.23,162137.5,109688.82,36320.87,31384.86,114083.73,163331.65,50777.77,30772.86,113796.15,188729.08,86701.4,153129.22,19825.09,12186.83,86920.97,35408.77,165576.55,48226.76,199454.37,118749.58,151623.91,172097.95,87677.15,21858.28,123866.28,74694.41,16770.31,49424.6,172031.22,183021.06,73979.85,26265.18,24857.25,167969.15,189307.7,99770.3,119712.78,168607.74,83087.13,130664.79,133267.69,67029.82,141031.08,125110.02,117832.39,198817.72,146411.6,131312.56,141652.2,64477.25,191215.61,37090.44,57517.71,63241.21,44567.83,135337.11,33964.03,61623.19,168989.77,74425.41,178929.84,101382.86,180769.55,92378.54,38252.25,146111.35,72350.17,48242.38,148305.82,8270.06,41549.64,138656.81,12510.53,43889.41,192800.25,75762.0,9854.72,115724.78,106303.4,183868.01,153895.46,66695.71,173851.11,177423.02,109096.71,166656.18,176921.0,98413.1,77500.81,119747.08,160387.98,193715.0,28045.77,150757.35,82252.28,154395.56,83866.35,39830.1,12429.22,18772.5,9574.83,188486.94,64716.08,84749.96,180551.76,60907.49,174107.04,110405.9,187636.06,66580.13,178779.52,70783.61,46772.36,163327.27,103760.53,107839.03,32900.41,193984.6,140889.32,125646.82,20344.02,174268.87,108500.66,83247.14,121840.2,132908.07,100075.1,119327.75,136737.13,22356.97,10137.34,158379.25,94570.56,980.93,95583.45,86044.98,166236.38,5240.53,150684.23,129508.96,70665.16,102085.35,195052.12,93739.71,65612.12,160095.48,49506.82,92406.22,7415.96,25059.06,116816.54,144078.02,126675.62,183682.09,166850.57,27359.19,101314.65,27979.16,109470.34,93713.13,74870.99,192387.51,73457.55,61120.75,90964.54,116969.73,92118.75,48357.9,197325.4,135853.62,169122.54,164170.46,199909.32,83295.09,39382.06,184748.23,62280.91,196794.11,144682.17,196342.66,41516.44,112026.1,52035.29,185466.85,80149.27,170980.86,185827.74,113407.26,67734.79,3363.36,135757.27,22314.55,129526.57,37266.43,60017.46,153015.42,54209.02,114603.96,165849.49,16392.72,162719.69,107112.25,41823.22,99907.29,178229.04,22095.73,197861.16,138328.24,137276.83,21834.4,119890.86,24564.7,10209.8,83449.65,81508.1,32626.21,43982.41,124874.23,118324.75,22113.93,31962.77,105746.94,39925.52,127630.88,28778.98,10008.68,24482.16,98618.79,16281.94,121239.65,42669.37,164924.11,157337.29,153831.6,168781.8,168469.65,170829.87,86207.49,61164.45,133287.73,77128.23,77660.03,56897.1,72945.32,45418.12,158527.45,111312.96,138759.15,190588.59,79099.64,138613.21,194230.82,110252.53,106117.3,169642.13,116179.92,91.75,187839.9,121098.65,30972.06,30314.04,14479.29,196395.25,19512.38,72318.77,96615.23,30772.22,161217.18,66795.78,123969.64,13783.77,168924.41,134778.01,119782.89,52167.97,167689.56,140800.66,19823.02,72969.9,143711.02,180862.26,125658.28,125870.5,15126.32,22457.25,82614.89,32919.42,126223.84,112010.02,180962.32,128882.66,177614.17,174570.55,178373.93,103396.08,59129.72,683.37,145567.34,48137.08,90876.95,198543.09,106202.07,166896.01,74804.36,116971.05,163783.0,70221.13,107841.77,79623.28,138399.67,182765.14,186648.19,149587.92,129050.67,47764.99,172792.43,64436.16,167461.5,98348.66,41536.59,72462.25,112465.19,64511.44,91830.75,190806.36,112311.15,72276.24,84920.49,17348.56,82870.75,32080.69,120512.08,179032.68,95623.28,110035.88,168822.01,77705.75,49815.62,65632.33,169361.89,4721.3,23974.85,199929.17,40023.7,72946.95,170421.13,58879.11,25059.05,29909.84,158043.11,14032.62,49809.88,28806.32,90490.33,75825.57,158336.36,143454.95,117279.49,114283.33,994.86,124795.84,77592.8,105986.01,33606.52,134188.11,159718.27,85148.78,119059.13,122998.26,117841.06,160593.41,174189.04,68260.27,58854.88,87994.95,150659.35,109098.39,104112.0,122949.71,21807.16,32319.93,190457.87,177738.98,80425.65,9445.42,174825.57,175743.92,54949.73,183752.91,46038.28,78941.59,198398.68,188892.19,169286.74,145004.39,55809.92,54272.12,192440.54,103697.57,119110.03,194681.6,158948.63,165122.55,189402.71,158027.57,3815.48,162809.2,89519.47,25165.36,126012.57,20109.21,58257.23,172269.21,29818.2,114659.81,147184.74,15039.41,76621.49,92985.78,6009.27,191370.97,188225.67,11743.89,136846.75,164248.33,154631.35,149665.65,91574.92,127233.39,56650.47,84644.76,148238.16,193502.9,38020.05,176750.81,176580.63,133059.15,100843.82,30484.19,42330.58,193309.58,112813.79,68008.85,132673.22,22001.91,100200.4,122604.44,100564.37,5419.31,123587.83,13935.32,87060.77,4859.59,21085.17,26733.86,89734.7,179540.73,173219.09,37411.35,80852.11,43174.49,70927.11,54265.55,41872.17,15068.53,25950.49,197727.14,79555.08,15607.27,134612.48,159830.58,162961.79,192427.16,92647.94,180022.39,183584.14,28750.67,74846.67,89729.3,61843.73,24770.22,80587.27,116286.25,129333.69,129372.94,18149.03,168369.37,67431.28,177092.16,93736.69,131647.31,175722.31,85606.83,64945.57,190347.72,100791.36,167873.49,25289.23,20388.77,145089.64,179093.26,16025.17,9087.81,21472.42,146752.67,132562.23,139537.43,133672.61,38984.37,115217.59,93844.82,22068.83,123846.07,172638.13,1591.19,91775.51,153920.22,71420.16,172149.76,54706.75,183358.21,57098.0,156910.46,130224.73,13946.66,38652.96,140041.78,166187.1,139919.38,28137.03,50368.63,94978.1,69903.93,177607.77,196731.08,65234.6,186281.0,111573.3,196767.83,72985.61,143265.65,159268.67,54448.41,31928.5,21793.59,21903.62,49405.93,154908.52,182867.84,16957.45,93717.55,61636.22,95864.5,167400.29,131534.96,92934.41,119808.64,9439.31,18732.91,160162.42,53630.9,36405.21,61446.92,194686.78,134483.07,37769.98,2382.61,106826.92,39511.61,196371.13,122506.78,61994.2,192464.21,5194.95,198256.15,62634.94,114006.35,107994.99,48571.14,76016.49,180808.39,4225.11,135841.35,183536.24,88791.83,63732.9,1364.54,149184.15,53394.12,97910.06,101433.76,116944.3,113267.48,181449.51,179913.98,98586.14,120321.09,100538.8,98931.5,194493.57,143628.31,167030.51,77786.37,81014.5,41866.26,11302.7,149384.43,169303.65,37264.11,19515.48,103068.22,134459.12,70496.66,175877.7,106390.01,52138.49,18522.91,32231.6,174225.88,102021.39,31484.76,82469.06,110900.43,105105.35,12674.68,93255.85,145299.5,47139.44,167723.25,185900.88,85876.67,1787.85,23231.93,187740.04,100060.54,80130.54,132467.54,96202.44,94977.3,178827.3,192852.67,177238.35,199753.97,66193.61,181270.84,25407.59,20973.8,76544.9,110509.9,164247.51,105149.8,55868.97,178747.43,134720.51,978.66,183387.12,155876.06,119259.34,133720.57,170634.49,125692.07,19150.14,86894.67,57975.8,82938.99,79189.4,5177.62,44510.26,190611.92,177834.79,119446.64,50267.69,144849.1,81901.6,42576.86,87609.5,82820.85,155144.12,9578.24,170392.59,3946.29,102184.66,75609.84,26170.08,144727.45,58134.97,94620.0,108764.69,149503.54,120314.75,44205.95,6129.61,126796.69,27509.52,42143.55,87985.2,81884.8,2705.31,30546.4,149402.59,118429.02,58442.25,30414.17,58814.41,155304.53,187943.6,43036.6,26543.28,171928.04,35611.35,19047.23,39820.13,129013.59,113810.12,34749.65,56268.98,46630.47,124906.59,134869.93,36697.48,172200.91,137136.46,57594.78,36548.0,182960.46,42117.9,199478.05,91092.84,14090.4,178267.07,85808.22,109659.12,161642.08,3830.59,146636.44,144413.92,65801.44,192486.24,120852.85,146191.82,148412.24,164119.35,163457.55,144978.47,67288.89,103269.0,106969.98,117632.63,189777.66,66032.65,98661.27,74687.37,149604.18,79888.78,138775.69,154695.57,168834.38,105817.63,48682.1,147955.91,56185.98,81861.1,69826.8,118059.19,112333.22,14546.76,126172.11,3560.0,88878.15,84605.0,78268.61,120668.46,10063.75,163989.66,60584.33,94170.84,167181.77,38914.51,91196.67,85869.89,57337.79,175347.28,63092.65,109742.55,124489.88,56971.41,130752.01,191457.06,96442.86,122584.29,57215.85,195940.96,105448.74,37870.29,52534.81,141533.19,50568.02,26116.82,152054.33,1528.4,127939.26,2605.65,57841.89,186995.17,5549.11,11682.36,106939.34,53172.02,114388.98,2151.17,183492.9,76582.95,104217.96,8982.75,9984.4,19500.1,79146.36,191694.77,59645.24,55207.88,166177.3,136356.97,148611.52,85516.37,55120.79,131778.58,153269.98,164864.67,20367.68,39542.0,19412.8,127977.66,20508.85,176244.87,105013.63,27597.76,121073.23,101089.76,114258.18,22762.23,7008.65,81299.17,147521.35,6177.83,59374.82,157648.12,75685.59,136540.09,97939.4,36267.21,186064.34,176152.7,82117.2,151925.25,142287.65,36557.55,129975.34,21967.15,53477.76,178067.33,171039.56,150802.41,82951.12,57064.57,45755.0,176882.08,88838.14,88592.8,26261.42,29586.73,172321.21,158036.72,115733.16,59927.99,44377.65,79691.4,51503.51,62830.97,90346.1,40467.82,51620.94,65466.93,667.66,172437.12,106061.47,177622.38,191520.5,95686.6,173776.5,113089.43,149614.81,99537.68,97893.4,90.07,161154.85,332.81,66285.18,163477.22,170332.67,126144.96,53437.1,26920.43,52314.71,116885.59,126263.97,64613.81,89216.29,83419.15,123998.52,96985.58,146154.06,18471.86,95009.6,121175.86,77047.78,158049.9,147040.25,142566.75,185483.24,155870.82,121555.51,40223.74,75503.6,186942.49,117173.8,3453.4,48876.84,11830.53,162820.6,36540.63,6959.0,10828.78,80272.06,22184.14,186335.07,105715.01,68393.64,82868.34,196257.67,93439.75,150319.49,46523.6,199138.84,79559.02,116893.87,153983.99,63531.19,126253.31,73922.95,64679.3,157072.91,108377.82,88827.31,37674.47,106327.85,84475.13,33998.7,20491.15,197827.06,96687.25,46044.7,98949.85,185599.34,198341.15,119348.76,149614.17,12328.08,33245.97,2243.41,86786.41,12706.67,41295.1,177357.16,190663.89,115262.54,170099.23,189143.94,163257.44,95562.81,75272.63,20881.96,161845.81,49978.67,107292.91,32863.24,179608.96,70223.22,77951.84,55043.93,101677.46,79366.98,8037.03,176254.12,192743.06,56793.02,187900.12,92920.04,140166.95,155782.89,186574.68,3258.6,106714.28,144532.85,13591.52,74854.97,125451.01,149740.22,17355.36,50294.09,156394.74,77977.69,43678.06,13906.34,12766.74,51308.54,127444.14,72577.33,82438.13,60485.98,132798.78,71823.15,117144.15,141706.43,54517.25,183147.17,138360.29,79580.56,157458.61,171770.58,104263.82,167183.07,70774.97,114869.56,109159.58,59351.68,199657.46,121151.1,26342.33,102799.14,90928.48,141152.28,105568.6,183045.46,194792.42,21852.91,78250.13,47114.18,33230.37,114279.63,38802.03,72504.76,43943.09,68141.92,109179.89,48224.72,61538.43,94544.88,2850.01,163484.8,129629.41,133141.34,188078.55,174729.3,78700.03,198269.08,55266.96,51636.7,198251.52,171442.36,49778.79,19262.05,32349.29,137402.27,64038.34,68814.23,173632.92,128384.11,99475.95,89935.73,94142.35,171681.86,8222.96,170409.45,46555.15,161655.55,74267.35,34101.06,109572.58,106642.97,18897.29,189607.71,148750.16,105279.74,167916.35,8646.58,124592.84,50016.17,125422.66,81123.59,80408.59,146366.08,24402.87,60552.44,76476.05,92075.01,184125.1,96170.38,98208.62,157932.75,3497.43,51387.1,50123.44,180329.83,13238.93,167554.86,51454.06,19842.22,38315.04,187816.59,197148.24,163471.01,653.58,45414.09,45445.78,139024.31,168034.83,25669.1,8207.36,16281.68,14083.12,30165.06,39451.09,60270.87,22527.27,175072.47,114565.35,48930.8,187008.45,113581.85,124095.69,49054.1,80593.49,183044.86,159938.82,95483.48,198069.71,61793.47,86383.61,144099.48,155641.46,135784.94,123982.14,193130.55,145215.96,164741.81,72168.53,95022.02,23766.4,119374.74,139049.24,180844.81,143980.29,137392.77,123646.57,158054.49,105784.85,738.88,64539.64,79871.16,190776.83,6985.34,85522.84,149370.93,188516.45,2444.29,19762.88,172646.88,33501.98,114858.9,162668.33,161241.65,114957.22,18708.76,105305.72,58111.71,135502.77,10792.42,123866.43,129181.27,6847.73,138361.48,166707.22,107221.03,73124.53,12913.92,44351.77,96444.88,60739.16,118570.53,97057.28,3449.22,37605.9,117369.52,100598.98,17802.42,91094.46,120853.83,107124.17,59207.41,136869.31,113308.29,159334.93,20393.44,158590.25,23101.13,112585.19,119377.36,166472.81,171552.02,157474.1,13549.24,196526.55,84419.78,24991.92,191608.97,2988.28,99595.67,53445.17,115146.4,151325.24,51695.41,96833.0,34047.54,1914.41,49337.84,179436.6,53667.08,69384.71,195192.4,29179.52,167773.55,96270.64,101699.77,42085.58,92888.52,38190.78],\"y0\":\" \",\"yaxis\":\"y\",\"type\":\"box\"}],                        {\"template\":{\"data\":{\"bar\":[{\"error_x\":{\"color\":\"#2a3f5f\"},\"error_y\":{\"color\":\"#2a3f5f\"},\"marker\":{\"line\":{\"color\":\"#E5ECF6\",\"width\":0.5},\"pattern\":{\"fillmode\":\"overlay\",\"size\":10,\"solidity\":0.2}},\"type\":\"bar\"}],\"barpolar\":[{\"marker\":{\"line\":{\"color\":\"#E5ECF6\",\"width\":0.5},\"pattern\":{\"fillmode\":\"overlay\",\"size\":10,\"solidity\":0.2}},\"type\":\"barpolar\"}],\"carpet\":[{\"aaxis\":{\"endlinecolor\":\"#2a3f5f\",\"gridcolor\":\"white\",\"linecolor\":\"white\",\"minorgridcolor\":\"white\",\"startlinecolor\":\"#2a3f5f\"},\"baxis\":{\"endlinecolor\":\"#2a3f5f\",\"gridcolor\":\"white\",\"linecolor\":\"white\",\"minorgridcolor\":\"white\",\"startlinecolor\":\"#2a3f5f\"},\"type\":\"carpet\"}],\"choropleth\":[{\"colorbar\":{\"outlinewidth\":0,\"ticks\":\"\"},\"type\":\"choropleth\"}],\"contour\":[{\"colorbar\":{\"outlinewidth\":0,\"ticks\":\"\"},\"colorscale\":[[0.0,\"#0d0887\"],[0.1111111111111111,\"#46039f\"],[0.2222222222222222,\"#7201a8\"],[0.3333333333333333,\"#9c179e\"],[0.4444444444444444,\"#bd3786\"],[0.5555555555555556,\"#d8576b\"],[0.6666666666666666,\"#ed7953\"],[0.7777777777777778,\"#fb9f3a\"],[0.8888888888888888,\"#fdca26\"],[1.0,\"#f0f921\"]],\"type\":\"contour\"}],\"contourcarpet\":[{\"colorbar\":{\"outlinewidth\":0,\"ticks\":\"\"},\"type\":\"contourcarpet\"}],\"heatmap\":[{\"colorbar\":{\"outlinewidth\":0,\"ticks\":\"\"},\"colorscale\":[[0.0,\"#0d0887\"],[0.1111111111111111,\"#46039f\"],[0.2222222222222222,\"#7201a8\"],[0.3333333333333333,\"#9c179e\"],[0.4444444444444444,\"#bd3786\"],[0.5555555555555556,\"#d8576b\"],[0.6666666666666666,\"#ed7953\"],[0.7777777777777778,\"#fb9f3a\"],[0.8888888888888888,\"#fdca26\"],[1.0,\"#f0f921\"]],\"type\":\"heatmap\"}],\"heatmapgl\":[{\"colorbar\":{\"outlinewidth\":0,\"ticks\":\"\"},\"colorscale\":[[0.0,\"#0d0887\"],[0.1111111111111111,\"#46039f\"],[0.2222222222222222,\"#7201a8\"],[0.3333333333333333,\"#9c179e\"],[0.4444444444444444,\"#bd3786\"],[0.5555555555555556,\"#d8576b\"],[0.6666666666666666,\"#ed7953\"],[0.7777777777777778,\"#fb9f3a\"],[0.8888888888888888,\"#fdca26\"],[1.0,\"#f0f921\"]],\"type\":\"heatmapgl\"}],\"histogram\":[{\"marker\":{\"pattern\":{\"fillmode\":\"overlay\",\"size\":10,\"solidity\":0.2}},\"type\":\"histogram\"}],\"histogram2d\":[{\"colorbar\":{\"outlinewidth\":0,\"ticks\":\"\"},\"colorscale\":[[0.0,\"#0d0887\"],[0.1111111111111111,\"#46039f\"],[0.2222222222222222,\"#7201a8\"],[0.3333333333333333,\"#9c179e\"],[0.4444444444444444,\"#bd3786\"],[0.5555555555555556,\"#d8576b\"],[0.6666666666666666,\"#ed7953\"],[0.7777777777777778,\"#fb9f3a\"],[0.8888888888888888,\"#fdca26\"],[1.0,\"#f0f921\"]],\"type\":\"histogram2d\"}],\"histogram2dcontour\":[{\"colorbar\":{\"outlinewidth\":0,\"ticks\":\"\"},\"colorscale\":[[0.0,\"#0d0887\"],[0.1111111111111111,\"#46039f\"],[0.2222222222222222,\"#7201a8\"],[0.3333333333333333,\"#9c179e\"],[0.4444444444444444,\"#bd3786\"],[0.5555555555555556,\"#d8576b\"],[0.6666666666666666,\"#ed7953\"],[0.7777777777777778,\"#fb9f3a\"],[0.8888888888888888,\"#fdca26\"],[1.0,\"#f0f921\"]],\"type\":\"histogram2dcontour\"}],\"mesh3d\":[{\"colorbar\":{\"outlinewidth\":0,\"ticks\":\"\"},\"type\":\"mesh3d\"}],\"parcoords\":[{\"line\":{\"colorbar\":{\"outlinewidth\":0,\"ticks\":\"\"}},\"type\":\"parcoords\"}],\"pie\":[{\"automargin\":true,\"type\":\"pie\"}],\"scatter\":[{\"marker\":{\"colorbar\":{\"outlinewidth\":0,\"ticks\":\"\"}},\"type\":\"scatter\"}],\"scatter3d\":[{\"line\":{\"colorbar\":{\"outlinewidth\":0,\"ticks\":\"\"}},\"marker\":{\"colorbar\":{\"outlinewidth\":0,\"ticks\":\"\"}},\"type\":\"scatter3d\"}],\"scattercarpet\":[{\"marker\":{\"colorbar\":{\"outlinewidth\":0,\"ticks\":\"\"}},\"type\":\"scattercarpet\"}],\"scattergeo\":[{\"marker\":{\"colorbar\":{\"outlinewidth\":0,\"ticks\":\"\"}},\"type\":\"scattergeo\"}],\"scattergl\":[{\"marker\":{\"colorbar\":{\"outlinewidth\":0,\"ticks\":\"\"}},\"type\":\"scattergl\"}],\"scattermapbox\":[{\"marker\":{\"colorbar\":{\"outlinewidth\":0,\"ticks\":\"\"}},\"type\":\"scattermapbox\"}],\"scatterpolar\":[{\"marker\":{\"colorbar\":{\"outlinewidth\":0,\"ticks\":\"\"}},\"type\":\"scatterpolar\"}],\"scatterpolargl\":[{\"marker\":{\"colorbar\":{\"outlinewidth\":0,\"ticks\":\"\"}},\"type\":\"scatterpolargl\"}],\"scatterternary\":[{\"marker\":{\"colorbar\":{\"outlinewidth\":0,\"ticks\":\"\"}},\"type\":\"scatterternary\"}],\"surface\":[{\"colorbar\":{\"outlinewidth\":0,\"ticks\":\"\"},\"colorscale\":[[0.0,\"#0d0887\"],[0.1111111111111111,\"#46039f\"],[0.2222222222222222,\"#7201a8\"],[0.3333333333333333,\"#9c179e\"],[0.4444444444444444,\"#bd3786\"],[0.5555555555555556,\"#d8576b\"],[0.6666666666666666,\"#ed7953\"],[0.7777777777777778,\"#fb9f3a\"],[0.8888888888888888,\"#fdca26\"],[1.0,\"#f0f921\"]],\"type\":\"surface\"}],\"table\":[{\"cells\":{\"fill\":{\"color\":\"#EBF0F8\"},\"line\":{\"color\":\"white\"}},\"header\":{\"fill\":{\"color\":\"#C8D4E3\"},\"line\":{\"color\":\"white\"}},\"type\":\"table\"}]},\"layout\":{\"annotationdefaults\":{\"arrowcolor\":\"#2a3f5f\",\"arrowhead\":0,\"arrowwidth\":1},\"autotypenumbers\":\"strict\",\"coloraxis\":{\"colorbar\":{\"outlinewidth\":0,\"ticks\":\"\"}},\"colorscale\":{\"diverging\":[[0,\"#8e0152\"],[0.1,\"#c51b7d\"],[0.2,\"#de77ae\"],[0.3,\"#f1b6da\"],[0.4,\"#fde0ef\"],[0.5,\"#f7f7f7\"],[0.6,\"#e6f5d0\"],[0.7,\"#b8e186\"],[0.8,\"#7fbc41\"],[0.9,\"#4d9221\"],[1,\"#276419\"]],\"sequential\":[[0.0,\"#0d0887\"],[0.1111111111111111,\"#46039f\"],[0.2222222222222222,\"#7201a8\"],[0.3333333333333333,\"#9c179e\"],[0.4444444444444444,\"#bd3786\"],[0.5555555555555556,\"#d8576b\"],[0.6666666666666666,\"#ed7953\"],[0.7777777777777778,\"#fb9f3a\"],[0.8888888888888888,\"#fdca26\"],[1.0,\"#f0f921\"]],\"sequentialminus\":[[0.0,\"#0d0887\"],[0.1111111111111111,\"#46039f\"],[0.2222222222222222,\"#7201a8\"],[0.3333333333333333,\"#9c179e\"],[0.4444444444444444,\"#bd3786\"],[0.5555555555555556,\"#d8576b\"],[0.6666666666666666,\"#ed7953\"],[0.7777777777777778,\"#fb9f3a\"],[0.8888888888888888,\"#fdca26\"],[1.0,\"#f0f921\"]]},\"colorway\":[\"#636efa\",\"#EF553B\",\"#00cc96\",\"#ab63fa\",\"#FFA15A\",\"#19d3f3\",\"#FF6692\",\"#B6E880\",\"#FF97FF\",\"#FECB52\"],\"font\":{\"color\":\"#2a3f5f\"},\"geo\":{\"bgcolor\":\"white\",\"lakecolor\":\"white\",\"landcolor\":\"#E5ECF6\",\"showlakes\":true,\"showland\":true,\"subunitcolor\":\"white\"},\"hoverlabel\":{\"align\":\"left\"},\"hovermode\":\"closest\",\"mapbox\":{\"style\":\"light\"},\"paper_bgcolor\":\"white\",\"plot_bgcolor\":\"#E5ECF6\",\"polar\":{\"angularaxis\":{\"gridcolor\":\"white\",\"linecolor\":\"white\",\"ticks\":\"\"},\"bgcolor\":\"#E5ECF6\",\"radialaxis\":{\"gridcolor\":\"white\",\"linecolor\":\"white\",\"ticks\":\"\"}},\"scene\":{\"xaxis\":{\"backgroundcolor\":\"#E5ECF6\",\"gridcolor\":\"white\",\"gridwidth\":2,\"linecolor\":\"white\",\"showbackground\":true,\"ticks\":\"\",\"zerolinecolor\":\"white\"},\"yaxis\":{\"backgroundcolor\":\"#E5ECF6\",\"gridcolor\":\"white\",\"gridwidth\":2,\"linecolor\":\"white\",\"showbackground\":true,\"ticks\":\"\",\"zerolinecolor\":\"white\"},\"zaxis\":{\"backgroundcolor\":\"#E5ECF6\",\"gridcolor\":\"white\",\"gridwidth\":2,\"linecolor\":\"white\",\"showbackground\":true,\"ticks\":\"\",\"zerolinecolor\":\"white\"}},\"shapedefaults\":{\"line\":{\"color\":\"#2a3f5f\"}},\"ternary\":{\"aaxis\":{\"gridcolor\":\"white\",\"linecolor\":\"white\",\"ticks\":\"\"},\"baxis\":{\"gridcolor\":\"white\",\"linecolor\":\"white\",\"ticks\":\"\"},\"bgcolor\":\"#E5ECF6\",\"caxis\":{\"gridcolor\":\"white\",\"linecolor\":\"white\",\"ticks\":\"\"}},\"title\":{\"x\":0.05},\"xaxis\":{\"automargin\":true,\"gridcolor\":\"white\",\"linecolor\":\"white\",\"ticks\":\"\",\"title\":{\"standoff\":15},\"zerolinecolor\":\"white\",\"zerolinewidth\":2},\"yaxis\":{\"automargin\":true,\"gridcolor\":\"white\",\"linecolor\":\"white\",\"ticks\":\"\",\"title\":{\"standoff\":15},\"zerolinecolor\":\"white\",\"zerolinewidth\":2}}},\"xaxis\":{\"anchor\":\"y\",\"domain\":[0.0,1.0]},\"yaxis\":{\"anchor\":\"x\",\"domain\":[0.0,1.0],\"title\":{\"text\":\"EstimatedSalary\"}},\"legend\":{\"tracegroupgap\":0},\"margin\":{\"t\":60},\"boxmode\":\"group\"},                        {\"responsive\": true}                    ).then(function(){\n",
              "                            \n",
              "var gd = document.getElementById('fe9887c3-87f4-440e-87f0-b1f3959a11c9');\n",
              "var x = new MutationObserver(function (mutations, observer) {{\n",
              "        var display = window.getComputedStyle(gd).display;\n",
              "        if (!display || display === 'none') {{\n",
              "            console.log([gd, 'removed!']);\n",
              "            Plotly.purge(gd);\n",
              "            observer.disconnect();\n",
              "        }}\n",
              "}});\n",
              "\n",
              "// Listen for the removal of the full notebook cells\n",
              "var notebookContainer = gd.closest('#notebook-container');\n",
              "if (notebookContainer) {{\n",
              "    x.observe(notebookContainer, {childList: true});\n",
              "}}\n",
              "\n",
              "// Listen for the clearing of the current output cell\n",
              "var outputEl = gd.closest('.output');\n",
              "if (outputEl) {{\n",
              "    x.observe(outputEl, {childList: true});\n",
              "}}\n",
              "\n",
              "                        })                };                            </script>        </div>\n",
              "</body>\n",
              "</html>"
            ]
          },
          "metadata": {}
        }
      ]
    },
    {
      "cell_type": "code",
      "source": [
        "fig = go.Figure(data=[go.Pie(labels=df['Geography'].value_counts().index, values=df['Geography'].value_counts(),\n",
        "                             textinfo='label+percent' )])\n",
        "fig.show()"
      ],
      "metadata": {
        "id": "Y6jQi_JlxTan",
        "colab": {
          "base_uri": "https://localhost:8080/",
          "height": 542
        },
        "outputId": "2968edef-0155-453a-8ddf-65a668523d76"
      },
      "execution_count": 22,
      "outputs": [
        {
          "output_type": "display_data",
          "data": {
            "text/html": [
              "<html>\n",
              "<head><meta charset=\"utf-8\" /></head>\n",
              "<body>\n",
              "    <div>            <script src=\"https://cdnjs.cloudflare.com/ajax/libs/mathjax/2.7.5/MathJax.js?config=TeX-AMS-MML_SVG\"></script><script type=\"text/javascript\">if (window.MathJax) {MathJax.Hub.Config({SVG: {font: \"STIX-Web\"}});}</script>                <script type=\"text/javascript\">window.PlotlyConfig = {MathJaxConfig: 'local'};</script>\n",
              "        <script src=\"https://cdn.plot.ly/plotly-2.8.3.min.js\"></script>                <div id=\"e18cbbaf-6c9e-4a64-a075-c720cb9721c6\" class=\"plotly-graph-div\" style=\"height:525px; width:100%;\"></div>            <script type=\"text/javascript\">                                    window.PLOTLYENV=window.PLOTLYENV || {};                                    if (document.getElementById(\"e18cbbaf-6c9e-4a64-a075-c720cb9721c6\")) {                    Plotly.newPlot(                        \"e18cbbaf-6c9e-4a64-a075-c720cb9721c6\",                        [{\"labels\":[\"France\",\"Germany\",\"Spain\"],\"textinfo\":\"label+percent\",\"values\":[5014,2509,2477],\"type\":\"pie\"}],                        {\"template\":{\"data\":{\"bar\":[{\"error_x\":{\"color\":\"#2a3f5f\"},\"error_y\":{\"color\":\"#2a3f5f\"},\"marker\":{\"line\":{\"color\":\"#E5ECF6\",\"width\":0.5},\"pattern\":{\"fillmode\":\"overlay\",\"size\":10,\"solidity\":0.2}},\"type\":\"bar\"}],\"barpolar\":[{\"marker\":{\"line\":{\"color\":\"#E5ECF6\",\"width\":0.5},\"pattern\":{\"fillmode\":\"overlay\",\"size\":10,\"solidity\":0.2}},\"type\":\"barpolar\"}],\"carpet\":[{\"aaxis\":{\"endlinecolor\":\"#2a3f5f\",\"gridcolor\":\"white\",\"linecolor\":\"white\",\"minorgridcolor\":\"white\",\"startlinecolor\":\"#2a3f5f\"},\"baxis\":{\"endlinecolor\":\"#2a3f5f\",\"gridcolor\":\"white\",\"linecolor\":\"white\",\"minorgridcolor\":\"white\",\"startlinecolor\":\"#2a3f5f\"},\"type\":\"carpet\"}],\"choropleth\":[{\"colorbar\":{\"outlinewidth\":0,\"ticks\":\"\"},\"type\":\"choropleth\"}],\"contour\":[{\"colorbar\":{\"outlinewidth\":0,\"ticks\":\"\"},\"colorscale\":[[0.0,\"#0d0887\"],[0.1111111111111111,\"#46039f\"],[0.2222222222222222,\"#7201a8\"],[0.3333333333333333,\"#9c179e\"],[0.4444444444444444,\"#bd3786\"],[0.5555555555555556,\"#d8576b\"],[0.6666666666666666,\"#ed7953\"],[0.7777777777777778,\"#fb9f3a\"],[0.8888888888888888,\"#fdca26\"],[1.0,\"#f0f921\"]],\"type\":\"contour\"}],\"contourcarpet\":[{\"colorbar\":{\"outlinewidth\":0,\"ticks\":\"\"},\"type\":\"contourcarpet\"}],\"heatmap\":[{\"colorbar\":{\"outlinewidth\":0,\"ticks\":\"\"},\"colorscale\":[[0.0,\"#0d0887\"],[0.1111111111111111,\"#46039f\"],[0.2222222222222222,\"#7201a8\"],[0.3333333333333333,\"#9c179e\"],[0.4444444444444444,\"#bd3786\"],[0.5555555555555556,\"#d8576b\"],[0.6666666666666666,\"#ed7953\"],[0.7777777777777778,\"#fb9f3a\"],[0.8888888888888888,\"#fdca26\"],[1.0,\"#f0f921\"]],\"type\":\"heatmap\"}],\"heatmapgl\":[{\"colorbar\":{\"outlinewidth\":0,\"ticks\":\"\"},\"colorscale\":[[0.0,\"#0d0887\"],[0.1111111111111111,\"#46039f\"],[0.2222222222222222,\"#7201a8\"],[0.3333333333333333,\"#9c179e\"],[0.4444444444444444,\"#bd3786\"],[0.5555555555555556,\"#d8576b\"],[0.6666666666666666,\"#ed7953\"],[0.7777777777777778,\"#fb9f3a\"],[0.8888888888888888,\"#fdca26\"],[1.0,\"#f0f921\"]],\"type\":\"heatmapgl\"}],\"histogram\":[{\"marker\":{\"pattern\":{\"fillmode\":\"overlay\",\"size\":10,\"solidity\":0.2}},\"type\":\"histogram\"}],\"histogram2d\":[{\"colorbar\":{\"outlinewidth\":0,\"ticks\":\"\"},\"colorscale\":[[0.0,\"#0d0887\"],[0.1111111111111111,\"#46039f\"],[0.2222222222222222,\"#7201a8\"],[0.3333333333333333,\"#9c179e\"],[0.4444444444444444,\"#bd3786\"],[0.5555555555555556,\"#d8576b\"],[0.6666666666666666,\"#ed7953\"],[0.7777777777777778,\"#fb9f3a\"],[0.8888888888888888,\"#fdca26\"],[1.0,\"#f0f921\"]],\"type\":\"histogram2d\"}],\"histogram2dcontour\":[{\"colorbar\":{\"outlinewidth\":0,\"ticks\":\"\"},\"colorscale\":[[0.0,\"#0d0887\"],[0.1111111111111111,\"#46039f\"],[0.2222222222222222,\"#7201a8\"],[0.3333333333333333,\"#9c179e\"],[0.4444444444444444,\"#bd3786\"],[0.5555555555555556,\"#d8576b\"],[0.6666666666666666,\"#ed7953\"],[0.7777777777777778,\"#fb9f3a\"],[0.8888888888888888,\"#fdca26\"],[1.0,\"#f0f921\"]],\"type\":\"histogram2dcontour\"}],\"mesh3d\":[{\"colorbar\":{\"outlinewidth\":0,\"ticks\":\"\"},\"type\":\"mesh3d\"}],\"parcoords\":[{\"line\":{\"colorbar\":{\"outlinewidth\":0,\"ticks\":\"\"}},\"type\":\"parcoords\"}],\"pie\":[{\"automargin\":true,\"type\":\"pie\"}],\"scatter\":[{\"marker\":{\"colorbar\":{\"outlinewidth\":0,\"ticks\":\"\"}},\"type\":\"scatter\"}],\"scatter3d\":[{\"line\":{\"colorbar\":{\"outlinewidth\":0,\"ticks\":\"\"}},\"marker\":{\"colorbar\":{\"outlinewidth\":0,\"ticks\":\"\"}},\"type\":\"scatter3d\"}],\"scattercarpet\":[{\"marker\":{\"colorbar\":{\"outlinewidth\":0,\"ticks\":\"\"}},\"type\":\"scattercarpet\"}],\"scattergeo\":[{\"marker\":{\"colorbar\":{\"outlinewidth\":0,\"ticks\":\"\"}},\"type\":\"scattergeo\"}],\"scattergl\":[{\"marker\":{\"colorbar\":{\"outlinewidth\":0,\"ticks\":\"\"}},\"type\":\"scattergl\"}],\"scattermapbox\":[{\"marker\":{\"colorbar\":{\"outlinewidth\":0,\"ticks\":\"\"}},\"type\":\"scattermapbox\"}],\"scatterpolar\":[{\"marker\":{\"colorbar\":{\"outlinewidth\":0,\"ticks\":\"\"}},\"type\":\"scatterpolar\"}],\"scatterpolargl\":[{\"marker\":{\"colorbar\":{\"outlinewidth\":0,\"ticks\":\"\"}},\"type\":\"scatterpolargl\"}],\"scatterternary\":[{\"marker\":{\"colorbar\":{\"outlinewidth\":0,\"ticks\":\"\"}},\"type\":\"scatterternary\"}],\"surface\":[{\"colorbar\":{\"outlinewidth\":0,\"ticks\":\"\"},\"colorscale\":[[0.0,\"#0d0887\"],[0.1111111111111111,\"#46039f\"],[0.2222222222222222,\"#7201a8\"],[0.3333333333333333,\"#9c179e\"],[0.4444444444444444,\"#bd3786\"],[0.5555555555555556,\"#d8576b\"],[0.6666666666666666,\"#ed7953\"],[0.7777777777777778,\"#fb9f3a\"],[0.8888888888888888,\"#fdca26\"],[1.0,\"#f0f921\"]],\"type\":\"surface\"}],\"table\":[{\"cells\":{\"fill\":{\"color\":\"#EBF0F8\"},\"line\":{\"color\":\"white\"}},\"header\":{\"fill\":{\"color\":\"#C8D4E3\"},\"line\":{\"color\":\"white\"}},\"type\":\"table\"}]},\"layout\":{\"annotationdefaults\":{\"arrowcolor\":\"#2a3f5f\",\"arrowhead\":0,\"arrowwidth\":1},\"autotypenumbers\":\"strict\",\"coloraxis\":{\"colorbar\":{\"outlinewidth\":0,\"ticks\":\"\"}},\"colorscale\":{\"diverging\":[[0,\"#8e0152\"],[0.1,\"#c51b7d\"],[0.2,\"#de77ae\"],[0.3,\"#f1b6da\"],[0.4,\"#fde0ef\"],[0.5,\"#f7f7f7\"],[0.6,\"#e6f5d0\"],[0.7,\"#b8e186\"],[0.8,\"#7fbc41\"],[0.9,\"#4d9221\"],[1,\"#276419\"]],\"sequential\":[[0.0,\"#0d0887\"],[0.1111111111111111,\"#46039f\"],[0.2222222222222222,\"#7201a8\"],[0.3333333333333333,\"#9c179e\"],[0.4444444444444444,\"#bd3786\"],[0.5555555555555556,\"#d8576b\"],[0.6666666666666666,\"#ed7953\"],[0.7777777777777778,\"#fb9f3a\"],[0.8888888888888888,\"#fdca26\"],[1.0,\"#f0f921\"]],\"sequentialminus\":[[0.0,\"#0d0887\"],[0.1111111111111111,\"#46039f\"],[0.2222222222222222,\"#7201a8\"],[0.3333333333333333,\"#9c179e\"],[0.4444444444444444,\"#bd3786\"],[0.5555555555555556,\"#d8576b\"],[0.6666666666666666,\"#ed7953\"],[0.7777777777777778,\"#fb9f3a\"],[0.8888888888888888,\"#fdca26\"],[1.0,\"#f0f921\"]]},\"colorway\":[\"#636efa\",\"#EF553B\",\"#00cc96\",\"#ab63fa\",\"#FFA15A\",\"#19d3f3\",\"#FF6692\",\"#B6E880\",\"#FF97FF\",\"#FECB52\"],\"font\":{\"color\":\"#2a3f5f\"},\"geo\":{\"bgcolor\":\"white\",\"lakecolor\":\"white\",\"landcolor\":\"#E5ECF6\",\"showlakes\":true,\"showland\":true,\"subunitcolor\":\"white\"},\"hoverlabel\":{\"align\":\"left\"},\"hovermode\":\"closest\",\"mapbox\":{\"style\":\"light\"},\"paper_bgcolor\":\"white\",\"plot_bgcolor\":\"#E5ECF6\",\"polar\":{\"angularaxis\":{\"gridcolor\":\"white\",\"linecolor\":\"white\",\"ticks\":\"\"},\"bgcolor\":\"#E5ECF6\",\"radialaxis\":{\"gridcolor\":\"white\",\"linecolor\":\"white\",\"ticks\":\"\"}},\"scene\":{\"xaxis\":{\"backgroundcolor\":\"#E5ECF6\",\"gridcolor\":\"white\",\"gridwidth\":2,\"linecolor\":\"white\",\"showbackground\":true,\"ticks\":\"\",\"zerolinecolor\":\"white\"},\"yaxis\":{\"backgroundcolor\":\"#E5ECF6\",\"gridcolor\":\"white\",\"gridwidth\":2,\"linecolor\":\"white\",\"showbackground\":true,\"ticks\":\"\",\"zerolinecolor\":\"white\"},\"zaxis\":{\"backgroundcolor\":\"#E5ECF6\",\"gridcolor\":\"white\",\"gridwidth\":2,\"linecolor\":\"white\",\"showbackground\":true,\"ticks\":\"\",\"zerolinecolor\":\"white\"}},\"shapedefaults\":{\"line\":{\"color\":\"#2a3f5f\"}},\"ternary\":{\"aaxis\":{\"gridcolor\":\"white\",\"linecolor\":\"white\",\"ticks\":\"\"},\"baxis\":{\"gridcolor\":\"white\",\"linecolor\":\"white\",\"ticks\":\"\"},\"bgcolor\":\"#E5ECF6\",\"caxis\":{\"gridcolor\":\"white\",\"linecolor\":\"white\",\"ticks\":\"\"}},\"title\":{\"x\":0.05},\"xaxis\":{\"automargin\":true,\"gridcolor\":\"white\",\"linecolor\":\"white\",\"ticks\":\"\",\"title\":{\"standoff\":15},\"zerolinecolor\":\"white\",\"zerolinewidth\":2},\"yaxis\":{\"automargin\":true,\"gridcolor\":\"white\",\"linecolor\":\"white\",\"ticks\":\"\",\"title\":{\"standoff\":15},\"zerolinecolor\":\"white\",\"zerolinewidth\":2}}}},                        {\"responsive\": true}                    ).then(function(){\n",
              "                            \n",
              "var gd = document.getElementById('e18cbbaf-6c9e-4a64-a075-c720cb9721c6');\n",
              "var x = new MutationObserver(function (mutations, observer) {{\n",
              "        var display = window.getComputedStyle(gd).display;\n",
              "        if (!display || display === 'none') {{\n",
              "            console.log([gd, 'removed!']);\n",
              "            Plotly.purge(gd);\n",
              "            observer.disconnect();\n",
              "        }}\n",
              "}});\n",
              "\n",
              "// Listen for the removal of the full notebook cells\n",
              "var notebookContainer = gd.closest('#notebook-container');\n",
              "if (notebookContainer) {{\n",
              "    x.observe(notebookContainer, {childList: true});\n",
              "}}\n",
              "\n",
              "// Listen for the clearing of the current output cell\n",
              "var outputEl = gd.closest('.output');\n",
              "if (outputEl) {{\n",
              "    x.observe(outputEl, {childList: true});\n",
              "}}\n",
              "\n",
              "                        })                };                            </script>        </div>\n",
              "</body>\n",
              "</html>"
            ]
          },
          "metadata": {}
        }
      ]
    },
    {
      "cell_type": "code",
      "source": [
        "pd.pivot_table(df, index= ['Exited'], columns=['Geography'], values='Balance', aggfunc = ['median'])"
      ],
      "metadata": {
        "id": "z5MR4sOPy8BV",
        "colab": {
          "base_uri": "https://localhost:8080/",
          "height": 173
        },
        "outputId": "cf69edff-c456-49ad-ef5e-657ee5120749"
      },
      "execution_count": 21,
      "outputs": [
        {
          "output_type": "execute_result",
          "data": {
            "text/plain": [
              "             median                     \n",
              "Geography    France    Germany     Spain\n",
              "Exited                                  \n",
              "0          49853.57  120252.02      0.00\n",
              "1          80376.46  118951.22  79035.95"
            ],
            "text/html": [
              "\n",
              "  <div id=\"df-45617bd5-19ed-44c7-bceb-6520d6ac3c92\">\n",
              "    <div class=\"colab-df-container\">\n",
              "      <div>\n",
              "<style scoped>\n",
              "    .dataframe tbody tr th:only-of-type {\n",
              "        vertical-align: middle;\n",
              "    }\n",
              "\n",
              "    .dataframe tbody tr th {\n",
              "        vertical-align: top;\n",
              "    }\n",
              "\n",
              "    .dataframe thead tr th {\n",
              "        text-align: left;\n",
              "    }\n",
              "\n",
              "    .dataframe thead tr:last-of-type th {\n",
              "        text-align: right;\n",
              "    }\n",
              "</style>\n",
              "<table border=\"1\" class=\"dataframe\">\n",
              "  <thead>\n",
              "    <tr>\n",
              "      <th></th>\n",
              "      <th colspan=\"3\" halign=\"left\">median</th>\n",
              "    </tr>\n",
              "    <tr>\n",
              "      <th>Geography</th>\n",
              "      <th>France</th>\n",
              "      <th>Germany</th>\n",
              "      <th>Spain</th>\n",
              "    </tr>\n",
              "    <tr>\n",
              "      <th>Exited</th>\n",
              "      <th></th>\n",
              "      <th></th>\n",
              "      <th></th>\n",
              "    </tr>\n",
              "  </thead>\n",
              "  <tbody>\n",
              "    <tr>\n",
              "      <th>0</th>\n",
              "      <td>49853.57</td>\n",
              "      <td>120252.02</td>\n",
              "      <td>0.00</td>\n",
              "    </tr>\n",
              "    <tr>\n",
              "      <th>1</th>\n",
              "      <td>80376.46</td>\n",
              "      <td>118951.22</td>\n",
              "      <td>79035.95</td>\n",
              "    </tr>\n",
              "  </tbody>\n",
              "</table>\n",
              "</div>\n",
              "      <button class=\"colab-df-convert\" onclick=\"convertToInteractive('df-45617bd5-19ed-44c7-bceb-6520d6ac3c92')\"\n",
              "              title=\"Convert this dataframe to an interactive table.\"\n",
              "              style=\"display:none;\">\n",
              "        \n",
              "  <svg xmlns=\"http://www.w3.org/2000/svg\" height=\"24px\"viewBox=\"0 0 24 24\"\n",
              "       width=\"24px\">\n",
              "    <path d=\"M0 0h24v24H0V0z\" fill=\"none\"/>\n",
              "    <path d=\"M18.56 5.44l.94 2.06.94-2.06 2.06-.94-2.06-.94-.94-2.06-.94 2.06-2.06.94zm-11 1L8.5 8.5l.94-2.06 2.06-.94-2.06-.94L8.5 2.5l-.94 2.06-2.06.94zm10 10l.94 2.06.94-2.06 2.06-.94-2.06-.94-.94-2.06-.94 2.06-2.06.94z\"/><path d=\"M17.41 7.96l-1.37-1.37c-.4-.4-.92-.59-1.43-.59-.52 0-1.04.2-1.43.59L10.3 9.45l-7.72 7.72c-.78.78-.78 2.05 0 2.83L4 21.41c.39.39.9.59 1.41.59.51 0 1.02-.2 1.41-.59l7.78-7.78 2.81-2.81c.8-.78.8-2.07 0-2.86zM5.41 20L4 18.59l7.72-7.72 1.47 1.35L5.41 20z\"/>\n",
              "  </svg>\n",
              "      </button>\n",
              "      \n",
              "  <style>\n",
              "    .colab-df-container {\n",
              "      display:flex;\n",
              "      flex-wrap:wrap;\n",
              "      gap: 12px;\n",
              "    }\n",
              "\n",
              "    .colab-df-convert {\n",
              "      background-color: #E8F0FE;\n",
              "      border: none;\n",
              "      border-radius: 50%;\n",
              "      cursor: pointer;\n",
              "      display: none;\n",
              "      fill: #1967D2;\n",
              "      height: 32px;\n",
              "      padding: 0 0 0 0;\n",
              "      width: 32px;\n",
              "    }\n",
              "\n",
              "    .colab-df-convert:hover {\n",
              "      background-color: #E2EBFA;\n",
              "      box-shadow: 0px 1px 2px rgba(60, 64, 67, 0.3), 0px 1px 3px 1px rgba(60, 64, 67, 0.15);\n",
              "      fill: #174EA6;\n",
              "    }\n",
              "\n",
              "    [theme=dark] .colab-df-convert {\n",
              "      background-color: #3B4455;\n",
              "      fill: #D2E3FC;\n",
              "    }\n",
              "\n",
              "    [theme=dark] .colab-df-convert:hover {\n",
              "      background-color: #434B5C;\n",
              "      box-shadow: 0px 1px 3px 1px rgba(0, 0, 0, 0.15);\n",
              "      filter: drop-shadow(0px 1px 2px rgba(0, 0, 0, 0.3));\n",
              "      fill: #FFFFFF;\n",
              "    }\n",
              "  </style>\n",
              "\n",
              "      <script>\n",
              "        const buttonEl =\n",
              "          document.querySelector('#df-45617bd5-19ed-44c7-bceb-6520d6ac3c92 button.colab-df-convert');\n",
              "        buttonEl.style.display =\n",
              "          google.colab.kernel.accessAllowed ? 'block' : 'none';\n",
              "\n",
              "        async function convertToInteractive(key) {\n",
              "          const element = document.querySelector('#df-45617bd5-19ed-44c7-bceb-6520d6ac3c92');\n",
              "          const dataTable =\n",
              "            await google.colab.kernel.invokeFunction('convertToInteractive',\n",
              "                                                     [key], {});\n",
              "          if (!dataTable) return;\n",
              "\n",
              "          const docLinkHtml = 'Like what you see? Visit the ' +\n",
              "            '<a target=\"_blank\" href=https://colab.research.google.com/notebooks/data_table.ipynb>data table notebook</a>'\n",
              "            + ' to learn more about interactive tables.';\n",
              "          element.innerHTML = '';\n",
              "          dataTable['output_type'] = 'display_data';\n",
              "          await google.colab.output.renderOutput(dataTable, element);\n",
              "          const docLink = document.createElement('div');\n",
              "          docLink.innerHTML = docLinkHtml;\n",
              "          element.appendChild(docLink);\n",
              "        }\n",
              "      </script>\n",
              "    </div>\n",
              "  </div>\n",
              "  "
            ]
          },
          "metadata": {},
          "execution_count": 21
        }
      ]
    },
    {
      "cell_type": "markdown",
      "source": [
        "В Испании много клиентов с нулевым балансом"
      ],
      "metadata": {
        "id": "Rt3TQIYzUmUy"
      }
    },
    {
      "cell_type": "code",
      "source": [
        "palette_features = ['#E56B51', '#409996']\n",
        "sns.set(rc={'axes.facecolor':'lightgray'}) #background color of all plots\n",
        "\n",
        "plt.figure(figsize=(12,6.5)) \n",
        "plt.title('Geography', fontsize=15, fontweight='bold', fontname='DejaVu Sans', ha='center')\n",
        "ax = sns.countplot(data = df, x = 'Geography', hue = 'Exited', palette=palette_features)"
      ],
      "metadata": {
        "id": "7iyVik0_r67M",
        "colab": {
          "base_uri": "https://localhost:8080/",
          "height": 439
        },
        "outputId": "935dd698-3c74-4d67-eb83-59bd4b5440f3"
      },
      "execution_count": 23,
      "outputs": [
        {
          "output_type": "display_data",
          "data": {
            "text/plain": [
              "<Figure size 864x468 with 1 Axes>"
            ],
            "image/png": "[encoded data removed]"
          },
          "metadata": {}
        }
      ]
    },
    {
      "cell_type": "markdown",
      "source": [
        "По графику видно, что больше всего клиентов банка из Франции, больший отток клиентов из Германии."
      ],
      "metadata": {
        "id": "x9-Ui6nSI7Fj"
      }
    },
    {
      "cell_type": "code",
      "source": [
        "df.groupby(['Exited'],as_index = False)['Age'].median()"
      ],
      "metadata": {
        "id": "ssHmuPTPtWF-",
        "colab": {
          "base_uri": "https://localhost:8080/",
          "height": 111
        },
        "outputId": "6240c3eb-67f8-487b-8be4-c0c8df98c866"
      },
      "execution_count": 24,
      "outputs": [
        {
          "output_type": "execute_result",
          "data": {
            "text/plain": [
              "   Exited   Age\n",
              "0       0  36.0\n",
              "1       1  45.0"
            ],
            "text/html": [
              "\n",
              "  <div id=\"df-5b3fc3b1-3ad2-4d9b-8c0c-08e7d11d42bb\">\n",
              "    <div class=\"colab-df-container\">\n",
              "      <div>\n",
              "<style scoped>\n",
              "    .dataframe tbody tr th:only-of-type {\n",
              "        vertical-align: middle;\n",
              "    }\n",
              "\n",
              "    .dataframe tbody tr th {\n",
              "        vertical-align: top;\n",
              "    }\n",
              "\n",
              "    .dataframe thead th {\n",
              "        text-align: right;\n",
              "    }\n",
              "</style>\n",
              "<table border=\"1\" class=\"dataframe\">\n",
              "  <thead>\n",
              "    <tr style=\"text-align: right;\">\n",
              "      <th></th>\n",
              "      <th>Exited</th>\n",
              "      <th>Age</th>\n",
              "    </tr>\n",
              "  </thead>\n",
              "  <tbody>\n",
              "    <tr>\n",
              "      <th>0</th>\n",
              "      <td>0</td>\n",
              "      <td>36.0</td>\n",
              "    </tr>\n",
              "    <tr>\n",
              "      <th>1</th>\n",
              "      <td>1</td>\n",
              "      <td>45.0</td>\n",
              "    </tr>\n",
              "  </tbody>\n",
              "</table>\n",
              "</div>\n",
              "      <button class=\"colab-df-convert\" onclick=\"convertToInteractive('df-5b3fc3b1-3ad2-4d9b-8c0c-08e7d11d42bb')\"\n",
              "              title=\"Convert this dataframe to an interactive table.\"\n",
              "              style=\"display:none;\">\n",
              "        \n",
              "  <svg xmlns=\"http://www.w3.org/2000/svg\" height=\"24px\"viewBox=\"0 0 24 24\"\n",
              "       width=\"24px\">\n",
              "    <path d=\"M0 0h24v24H0V0z\" fill=\"none\"/>\n",
              "    <path d=\"M18.56 5.44l.94 2.06.94-2.06 2.06-.94-2.06-.94-.94-2.06-.94 2.06-2.06.94zm-11 1L8.5 8.5l.94-2.06 2.06-.94-2.06-.94L8.5 2.5l-.94 2.06-2.06.94zm10 10l.94 2.06.94-2.06 2.06-.94-2.06-.94-.94-2.06-.94 2.06-2.06.94z\"/><path d=\"M17.41 7.96l-1.37-1.37c-.4-.4-.92-.59-1.43-.59-.52 0-1.04.2-1.43.59L10.3 9.45l-7.72 7.72c-.78.78-.78 2.05 0 2.83L4 21.41c.39.39.9.59 1.41.59.51 0 1.02-.2 1.41-.59l7.78-7.78 2.81-2.81c.8-.78.8-2.07 0-2.86zM5.41 20L4 18.59l7.72-7.72 1.47 1.35L5.41 20z\"/>\n",
              "  </svg>\n",
              "      </button>\n",
              "      \n",
              "  <style>\n",
              "    .colab-df-container {\n",
              "      display:flex;\n",
              "      flex-wrap:wrap;\n",
              "      gap: 12px;\n",
              "    }\n",
              "\n",
              "    .colab-df-convert {\n",
              "      background-color: #E8F0FE;\n",
              "      border: none;\n",
              "      border-radius: 50%;\n",
              "      cursor: pointer;\n",
              "      display: none;\n",
              "      fill: #1967D2;\n",
              "      height: 32px;\n",
              "      padding: 0 0 0 0;\n",
              "      width: 32px;\n",
              "    }\n",
              "\n",
              "    .colab-df-convert:hover {\n",
              "      background-color: #E2EBFA;\n",
              "      box-shadow: 0px 1px 2px rgba(60, 64, 67, 0.3), 0px 1px 3px 1px rgba(60, 64, 67, 0.15);\n",
              "      fill: #174EA6;\n",
              "    }\n",
              "\n",
              "    [theme=dark] .colab-df-convert {\n",
              "      background-color: #3B4455;\n",
              "      fill: #D2E3FC;\n",
              "    }\n",
              "\n",
              "    [theme=dark] .colab-df-convert:hover {\n",
              "      background-color: #434B5C;\n",
              "      box-shadow: 0px 1px 3px 1px rgba(0, 0, 0, 0.15);\n",
              "      filter: drop-shadow(0px 1px 2px rgba(0, 0, 0, 0.3));\n",
              "      fill: #FFFFFF;\n",
              "    }\n",
              "  </style>\n",
              "\n",
              "      <script>\n",
              "        const buttonEl =\n",
              "          document.querySelector('#df-5b3fc3b1-3ad2-4d9b-8c0c-08e7d11d42bb button.colab-df-convert');\n",
              "        buttonEl.style.display =\n",
              "          google.colab.kernel.accessAllowed ? 'block' : 'none';\n",
              "\n",
              "        async function convertToInteractive(key) {\n",
              "          const element = document.querySelector('#df-5b3fc3b1-3ad2-4d9b-8c0c-08e7d11d42bb');\n",
              "          const dataTable =\n",
              "            await google.colab.kernel.invokeFunction('convertToInteractive',\n",
              "                                                     [key], {});\n",
              "          if (!dataTable) return;\n",
              "\n",
              "          const docLinkHtml = 'Like what you see? Visit the ' +\n",
              "            '<a target=\"_blank\" href=https://colab.research.google.com/notebooks/data_table.ipynb>data table notebook</a>'\n",
              "            + ' to learn more about interactive tables.';\n",
              "          element.innerHTML = '';\n",
              "          dataTable['output_type'] = 'display_data';\n",
              "          await google.colab.output.renderOutput(dataTable, element);\n",
              "          const docLink = document.createElement('div');\n",
              "          docLink.innerHTML = docLinkHtml;\n",
              "          element.appendChild(docLink);\n",
              "        }\n",
              "      </script>\n",
              "    </div>\n",
              "  </div>\n",
              "  "
            ]
          },
          "metadata": {},
          "execution_count": 24
        }
      ]
    },
    {
      "cell_type": "code",
      "source": [
        "plt.figure(figsize=(8,8))\n",
        "df.Age.loc[df['Exited']==0].hist()\n",
        "df.Age.loc[df['Exited']==1].hist()\n",
        "plt.xlabel('Age')\n",
        "plt.ylabel('Count')\n",
        "plt.title(r'Histogram Age distribution')\n",
        "plt.legend(title='Legend', loc='upper right', labels=['Remaining clients', 'Exited clients'])\n",
        "plt.show()"
      ],
      "metadata": {
        "id": "d7EMNmSauabw",
        "colab": {
          "base_uri": "https://localhost:8080/",
          "height": 518
        },
        "outputId": "ef493a89-1fa5-4152-ad17-5758a210877f"
      },
      "execution_count": 35,
      "outputs": [
        {
          "output_type": "display_data",
          "data": {
            "text/plain": [
              "<Figure size 576x576 with 1 Axes>"
            ],
            "image/png": "[encoded data removed]"
          },
          "metadata": {}
        }
      ]
    },
    {
      "cell_type": "code",
      "source": [
        "palette_features = ['#E56B51', '#409996']\n",
        "sns.set(rc={'axes.facecolor':'lightgray'})\n",
        "plt.figure(figsize=(12,6.5)) \n",
        "plt.title('Age', fontsize=15, fontweight='bold', fontname='DejaVu Sans', ha='center')\n",
        "ax = sns.boxplot(x = df['Exited'], y = 'Age', data = df, palette=palette_features)"
      ],
      "metadata": {
        "colab": {
          "base_uri": "https://localhost:8080/",
          "height": 456
        },
        "id": "Rn5a1ztMvpfI",
        "outputId": "5a1690f0-a1fe-41e2-c67f-a35208cbdfa9"
      },
      "execution_count": null,
      "outputs": [
        {
          "output_type": "stream",
          "name": "stderr",
          "text": [
            "WARNING:matplotlib.font_manager:findfont: Font family ['Helvetica'] not found. Falling back to DejaVu Sans.\n"
          ]
        },
        {
          "output_type": "display_data",
          "data": {
            "text/plain": [
              "<Figure size 864x468 with 1 Axes>"
            ],
            "image/png": "[encoded data removed]"
          },
          "metadata": {}
        }
      ]
    },
    {
      "cell_type": "markdown",
      "source": [
        "С банком остают всреднем более молодые люди"
      ],
      "metadata": {
        "id": "v3kaD379JYxm"
      }
    },
    {
      "cell_type": "code",
      "source": [
        "df.groupby(['Exited','Gender'])['Gender'].count()"
      ],
      "metadata": {
        "colab": {
          "base_uri": "https://localhost:8080/"
        },
        "id": "-pj-XLE0w7qO",
        "outputId": "ebc66670-b9d5-47af-b4c9-848661f56cd5"
      },
      "execution_count": 26,
      "outputs": [
        {
          "output_type": "execute_result",
          "data": {
            "text/plain": [
              "Exited  Gender\n",
              "0       Female    3404\n",
              "        Male      4559\n",
              "1       Female    1139\n",
              "        Male       898\n",
              "Name: Gender, dtype: int64"
            ]
          },
          "metadata": {},
          "execution_count": 26
        }
      ]
    },
    {
      "cell_type": "code",
      "source": [
        "df.groupby(['Gender'])[['Exited']].mean()"
      ],
      "metadata": {
        "id": "Terx1yzU6_-X",
        "colab": {
          "base_uri": "https://localhost:8080/",
          "height": 142
        },
        "outputId": "c2f5fbc9-1940-49fd-d296-f6b0fc12f548"
      },
      "execution_count": 38,
      "outputs": [
        {
          "output_type": "execute_result",
          "data": {
            "text/plain": [
              "          Exited\n",
              "Gender          \n",
              "Female  0.250715\n",
              "Male    0.164559"
            ],
            "text/html": [
              "\n",
              "  <div id=\"df-efe62038-1ca4-4fa2-bab9-3656dccc6fea\">\n",
              "    <div class=\"colab-df-container\">\n",
              "      <div>\n",
              "<style scoped>\n",
              "    .dataframe tbody tr th:only-of-type {\n",
              "        vertical-align: middle;\n",
              "    }\n",
              "\n",
              "    .dataframe tbody tr th {\n",
              "        vertical-align: top;\n",
              "    }\n",
              "\n",
              "    .dataframe thead th {\n",
              "        text-align: right;\n",
              "    }\n",
              "</style>\n",
              "<table border=\"1\" class=\"dataframe\">\n",
              "  <thead>\n",
              "    <tr style=\"text-align: right;\">\n",
              "      <th></th>\n",
              "      <th>Exited</th>\n",
              "    </tr>\n",
              "    <tr>\n",
              "      <th>Gender</th>\n",
              "      <th></th>\n",
              "    </tr>\n",
              "  </thead>\n",
              "  <tbody>\n",
              "    <tr>\n",
              "      <th>Female</th>\n",
              "      <td>0.250715</td>\n",
              "    </tr>\n",
              "    <tr>\n",
              "      <th>Male</th>\n",
              "      <td>0.164559</td>\n",
              "    </tr>\n",
              "  </tbody>\n",
              "</table>\n",
              "</div>\n",
              "      <button class=\"colab-df-convert\" onclick=\"convertToInteractive('df-efe62038-1ca4-4fa2-bab9-3656dccc6fea')\"\n",
              "              title=\"Convert this dataframe to an interactive table.\"\n",
              "              style=\"display:none;\">\n",
              "        \n",
              "  <svg xmlns=\"http://www.w3.org/2000/svg\" height=\"24px\"viewBox=\"0 0 24 24\"\n",
              "       width=\"24px\">\n",
              "    <path d=\"M0 0h24v24H0V0z\" fill=\"none\"/>\n",
              "    <path d=\"M18.56 5.44l.94 2.06.94-2.06 2.06-.94-2.06-.94-.94-2.06-.94 2.06-2.06.94zm-11 1L8.5 8.5l.94-2.06 2.06-.94-2.06-.94L8.5 2.5l-.94 2.06-2.06.94zm10 10l.94 2.06.94-2.06 2.06-.94-2.06-.94-.94-2.06-.94 2.06-2.06.94z\"/><path d=\"M17.41 7.96l-1.37-1.37c-.4-.4-.92-.59-1.43-.59-.52 0-1.04.2-1.43.59L10.3 9.45l-7.72 7.72c-.78.78-.78 2.05 0 2.83L4 21.41c.39.39.9.59 1.41.59.51 0 1.02-.2 1.41-.59l7.78-7.78 2.81-2.81c.8-.78.8-2.07 0-2.86zM5.41 20L4 18.59l7.72-7.72 1.47 1.35L5.41 20z\"/>\n",
              "  </svg>\n",
              "      </button>\n",
              "      \n",
              "  <style>\n",
              "    .colab-df-container {\n",
              "      display:flex;\n",
              "      flex-wrap:wrap;\n",
              "      gap: 12px;\n",
              "    }\n",
              "\n",
              "    .colab-df-convert {\n",
              "      background-color: #E8F0FE;\n",
              "      border: none;\n",
              "      border-radius: 50%;\n",
              "      cursor: pointer;\n",
              "      display: none;\n",
              "      fill: #1967D2;\n",
              "      height: 32px;\n",
              "      padding: 0 0 0 0;\n",
              "      width: 32px;\n",
              "    }\n",
              "\n",
              "    .colab-df-convert:hover {\n",
              "      background-color: #E2EBFA;\n",
              "      box-shadow: 0px 1px 2px rgba(60, 64, 67, 0.3), 0px 1px 3px 1px rgba(60, 64, 67, 0.15);\n",
              "      fill: #174EA6;\n",
              "    }\n",
              "\n",
              "    [theme=dark] .colab-df-convert {\n",
              "      background-color: #3B4455;\n",
              "      fill: #D2E3FC;\n",
              "    }\n",
              "\n",
              "    [theme=dark] .colab-df-convert:hover {\n",
              "      background-color: #434B5C;\n",
              "      box-shadow: 0px 1px 3px 1px rgba(0, 0, 0, 0.15);\n",
              "      filter: drop-shadow(0px 1px 2px rgba(0, 0, 0, 0.3));\n",
              "      fill: #FFFFFF;\n",
              "    }\n",
              "  </style>\n",
              "\n",
              "      <script>\n",
              "        const buttonEl =\n",
              "          document.querySelector('#df-efe62038-1ca4-4fa2-bab9-3656dccc6fea button.colab-df-convert');\n",
              "        buttonEl.style.display =\n",
              "          google.colab.kernel.accessAllowed ? 'block' : 'none';\n",
              "\n",
              "        async function convertToInteractive(key) {\n",
              "          const element = document.querySelector('#df-efe62038-1ca4-4fa2-bab9-3656dccc6fea');\n",
              "          const dataTable =\n",
              "            await google.colab.kernel.invokeFunction('convertToInteractive',\n",
              "                                                     [key], {});\n",
              "          if (!dataTable) return;\n",
              "\n",
              "          const docLinkHtml = 'Like what you see? Visit the ' +\n",
              "            '<a target=\"_blank\" href=https://colab.research.google.com/notebooks/data_table.ipynb>data table notebook</a>'\n",
              "            + ' to learn more about interactive tables.';\n",
              "          element.innerHTML = '';\n",
              "          dataTable['output_type'] = 'display_data';\n",
              "          await google.colab.output.renderOutput(dataTable, element);\n",
              "          const docLink = document.createElement('div');\n",
              "          docLink.innerHTML = docLinkHtml;\n",
              "          element.appendChild(docLink);\n",
              "        }\n",
              "      </script>\n",
              "    </div>\n",
              "  </div>\n",
              "  "
            ]
          },
          "metadata": {},
          "execution_count": 38
        }
      ]
    },
    {
      "cell_type": "code",
      "source": [
        "palette_features = ['#E56B51', '#409996']\n",
        "sns.set(rc={'axes.facecolor':'lightgray'}) #background color of all plots\n",
        "\n",
        "plt.figure(figsize=(12,6.5)) \n",
        "plt.title('Gender', fontsize=15, fontweight='bold', fontname='DejaVu Sans', ha='center')\n",
        "ax = sns.countplot(data = df, x = 'Gender', hue = 'Exited', palette=palette_features)"
      ],
      "metadata": {
        "colab": {
          "base_uri": "https://localhost:8080/",
          "height": 439
        },
        "id": "tf3QU6sqVD1X",
        "outputId": "6f1a543a-1904-4f83-e26c-bc6149fb04e8"
      },
      "execution_count": 28,
      "outputs": [
        {
          "output_type": "display_data",
          "data": {
            "text/plain": [
              "<Figure size 864x468 with 1 Axes>"
            ],
            "image/png": "[encoded data removed]"
          },
          "metadata": {}
        }
      ]
    },
    {
      "cell_type": "markdown",
      "source": [
        "Женщины чаще прекращают работу с банком. 25% женщин уходят, мужчин уходит 16%"
      ],
      "metadata": {
        "id": "4kwUmJNOU-VV"
      }
    },
    {
      "cell_type": "code",
      "source": [
        "fig = px.box(df, y=\"Balance\")\n",
        "fig.show()"
      ],
      "metadata": {
        "colab": {
          "base_uri": "https://localhost:8080/",
          "height": 542
        },
        "id": "vdiTNIZsv1I0",
        "outputId": "a25a76e8-4edb-415c-85ae-1177d10a60f4"
      },
      "execution_count": null,
      "outputs": [
        {
          "output_type": "display_data",
          "data": {
            "text/html": [
              "<html>\n",
              "<head><meta charset=\"utf-8\" /></head>\n",
              "<body>\n",
              "    <div>            <script src=\"https://cdnjs.cloudflare.com/ajax/libs/mathjax/2.7.5/MathJax.js?config=TeX-AMS-MML_SVG\"></script><script type=\"text/javascript\">if (window.MathJax) {MathJax.Hub.Config({SVG: {font: \"STIX-Web\"}});}</script>                <script type=\"text/javascript\">window.PlotlyConfig = {MathJaxConfig: 'local'};</script>\n",
              "        <script src=\"https://cdn.plot.ly/plotly-2.8.3.min.js\"></script>                <div id=\"0f105a7a-dbeb-472a-9afe-cdf50f42e1c2\" class=\"plotly-graph-div\" style=\"height:525px; width:100%;\"></div>            <script type=\"text/javascript\">                                    window.PLOTLYENV=window.PLOTLYENV || {};                                    if (document.getElementById(\"0f105a7a-dbeb-472a-9afe-cdf50f42e1c2\")) {                    Plotly.newPlot(                        \"0f105a7a-dbeb-472a-9afe-cdf50f42e1c2\",                        [{\"alignmentgroup\":\"True\",\"hovertemplate\":\"Balance=%{y}<extra></extra>\",\"legendgroup\":\"\",\"marker\":{\"color\":\"#636efa\"},\"name\":\"\",\"notched\":false,\"offsetgroup\":\"\",\"orientation\":\"v\",\"showlegend\":false,\"x0\":\" \",\"xaxis\":\"x\",\"y\":[0.0,83807.86,159660.8,0.0,125510.82,113755.78,0.0,115046.74,142051.07,134603.88,102016.72,0.0,0.0,0.0,0.0,143129.41,132602.88,0.0,0.0,0.0,0.0,0.0,0.0,0.0,0.0,0.0,136815.64,0.0,141349.43,59697.17,0.0,85311.7,110112.54,0.0,0.0,134264.04,145260.23,76548.6,0.0,70349.48,0.0,122522.32,117419.35,131394.56,155931.11,109421.13,112045.67,137843.8,103391.38,103769.22,116363.37,146050.97,0.0,125561.97,98495.72,125211.92,127864.4,75888.2,0.0,40685.92,136857.0,152328.88,56084.69,78707.16,109166.37,169831.46,101633.04,123180.01,150725.53,98373.26,133745.44,0.0,163607.18,157780.84,0.0,178718.19,0.0,0.0,77253.22,122189.66,96645.54,0.0,0.0,90307.62,0.0,0.0,121681.82,0.0,0.0,81623.67,0.0,118626.55,0.0,0.0,0.0,176273.95,102827.44,97086.4,0.0,0.0,0.0,0.0,82674.15,0.0,0.0,107073.27,88938.62,99806.85,150092.8,92833.89,90536.81,108055.1,100238.35,106190.55,154475.54,132351.29,167864.4,0.0,107818.63,185173.81,129433.34,120193.42,0.0,126384.42,0.0,152603.45,0.0,148507.24,0.0,101827.07,0.0,130862.43,122570.87,0.0,124828.46,144895.05,63663.93,133463.1,213146.2,129490.36,137452.09,0.0,125851.93,0.0,40915.55,113157.22,138296.94,106967.18,120681.63,0.0,0.0,0.0,0.0,127609.59,0.0,0.0,0.0,0.0,97259.25,123246.7,101060.25,0.0,108007.36,0.0,133702.89,125189.75,113034.22,109013.23,0.0,57929.81,130114.39,95826.49,129608.57,169462.09,0.0,133868.21,0.0,190479.48,101993.12,161608.81,122311.21,0.0,162150.42,0.0,0.0,0.0,99010.67,0.0,0.0,111388.18,56214.85,84327.77,0.0,93012.89,61710.44,174790.15,0.0,107720.64,0.0,96423.84,141040.01,105420.18,0.0,129022.06,176666.62,0.0,89763.84,134954.53,0.0,106376.85,161814.64,0.0,0.0,63095.01,118287.01,106854.21,49512.55,0.0,105799.32,0.0,114722.05,0.0,0.0,0.0,99564.22,170557.91,0.0,74596.15,96888.39,130830.22,0.0,0.0,0.0,119714.25,113978.97,100160.75,0.0,116220.5,0.0,81173.83,0.0,116803.8,105961.68,117411.6,0.0,123497.58,152400.51,0.0,103097.85,126418.14,77846.9,0.0,0.0,79731.91,0.0,0.0,0.0,37266.67,127992.25,54901.01,108748.08,99906.19,184686.41,110654.02,79019.8,99240.51,0.0,0.0,0.0,52436.2,0.0,100337.96,149297.19,0.0,145605.44,0.0,0.0,0.0,84026.86,0.0,0.0,0.0,138718.92,118274.71,174185.98,113208.86,103907.28,119023.28,166297.89,0.0,63227.0,94521.17,0.0,112822.26,0.0,135903.33,125169.26,0.0,149117.31,0.0,0.0,132311.71,0.0,0.0,118082.89,119266.69,0.0,156847.29,137104.47,78398.69,0.0,63669.42,0.0,135296.33,153804.44,0.0,147069.78,0.0,0.0,95741.75,145965.33,141441.75,139290.41,0.0,0.0,144428.87,0.0,95441.27,144848.74,116244.14,0.0,146502.07,117028.6,112013.81,108269.37,182123.79,150923.74,0.0,165272.13,115301.31,129502.49,118342.26,0.0,0.0,0.0,0.0,106937.05,170331.37,114510.85,0.0,107594.11,81273.13,169399.6,0.0,187841.99,0.0,126776.3,126436.29,101960.74,0.0,0.0,150842.93,102535.57,99027.61,0.0,0.0,87271.41,102742.91,40105.51,152265.43,141947.67,106307.91,107884.81,125013.72,58469.37,0.0,117231.63,152390.26,34013.63,0.0,0.0,101583.11,77168.87,124695.72,105934.96,0.0,0.0,0.0,0.0,161525.96,147199.07,183102.29,127209.0,0.0,97378.54,136925.09,54503.55,155726.85,0.0,135842.41,63349.75,129499.42,0.0,70438.01,0.0,0.0,141434.04,0.0,152958.29,138306.34,0.0,0.0,124328.84,181461.48,0.0,0.0,110368.03,89588.35,0.0,0.0,115924.89,0.0,111756.5,0.0,0.0,162923.85,124576.65,80793.58,71340.09,99282.63,137946.39,127892.57,101084.36,114754.08,0.0,99286.98,79871.02,104088.59,168190.33,85679.25,0.0,0.0,121551.58,122220.19,116528.15,77780.29,0.0,125832.2,68065.8,127299.34,174937.64,0.0,110071.1,139432.37,127357.76,0.0,0.0,0.0,95556.31,0.0,111681.98,0.0,108738.71,133950.37,0.0,89968.69,0.0,130878.75,0.0,0.0,134169.62,149762.08,93844.69,0.0,0.0,141078.37,117992.59,100812.33,0.0,80262.6,156478.62,0.0,0.0,115217.99,0.0,155470.55,0.0,135096.77,0.0,180075.22,97541.24,156067.05,81550.94,0.0,170061.92,92310.54,169089.38,80613.93,121581.56,0.0,0.0,0.0,85891.55,77637.35,0.0,0.0,116927.89,137326.65,0.0,0.0,67238.98,86569.76,0.0,133598.4,136188.78,0.0,0.0,120092.52,101238.24,89685.92,211774.31,131317.48,93722.73,101160.99,120320.54,0.0,0.0,0.0,152827.99,64097.75,119035.35,135219.57,93694.42,59408.63,114354.95,0.0,128173.9,0.0,114931.35,111071.36,151226.18,0.0,64740.12,169312.13,0.0,112652.08,0.0,143964.36,122451.46,0.0,65253.07,106901.94,128509.63,0.0,129834.67,154962.99,138241.9,91536.93,0.0,0.0,105204.01,152968.73,158261.68,0.0,121021.05,0.0,0.0,137715.66,121192.22,0.0,100486.18,0.0,92566.53,0.0,110929.96,0.0,138901.61,123217.66,0.0,0.0,0.0,108431.87,0.0,72392.41,119741.77,100946.71,170491.84,0.0,0.0,157296.02,144606.22,134811.3,115897.12,82034.0,174318.13,114206.84,0.0,111574.41,162448.69,148249.54,0.0,123709.46,0.0,0.0,150525.8,0.0,0.0,0.0,0.0,111018.98,129755.99,0.0,129555.7,87202.38,146133.39,0.0,170184.99,140745.33,139070.51,0.0,114193.24,167878.5,141616.55,145747.67,129120.64,110349.82,141325.56,78653.84,0.0,142253.65,0.0,115988.86,75592.43,164113.04,67996.23,0.0,0.0,138778.15,147832.15,135438.4,116060.08,112564.62,125406.58,135134.99,133102.92,42157.08,0.0,82259.29,0.0,0.0,0.0,0.0,150461.07,133994.52,164870.81,121702.73,193858.2,131039.97,113829.45,0.0,81877.38,116326.07,0.0,0.0,0.0,0.0,127070.73,0.0,122549.64,176099.13,122388.38,0.0,0.0,118879.35,0.0,0.0,88736.44,102703.62,0.0,0.0,97318.25,128468.69,133432.59,141782.57,135125.28,178820.91,112212.14,126674.81,136294.97,66392.64,122552.34,76408.85,145071.24,0.0,109730.22,0.0,64119.38,106138.33,0.0,181656.51,0.0,95128.86,126615.94,0.0,76190.48,168286.81,88109.81,0.0,0.0,123971.51,148116.48,116269.01,120599.21,144260.5,86605.5,0.0,58629.97,0.0,0.0,0.0,209767.31,129634.25,0.0,169824.46,97530.25,145988.65,0.0,0.0,137494.28,0.0,147360.0,0.0,125167.02,121152.05,128981.07,0.0,151858.98,114628.4,0.0,95059.02,128736.39,156325.38,105405.97,88915.37,0.0,0.0,160980.03,177619.71,62276.99,127559.97,0.0,95523.16,107749.03,110777.26,166733.92,157120.86,127160.78,0.0,156091.97,98668.18,134022.06,124151.09,77253.5,114292.48,140080.32,135277.96,0.0,115920.62,119782.72,114715.71,129748.54,129722.57,0.0,139180.2,113599.74,134944.0,116922.25,118945.09,0.0,119182.73,0.0,71264.02,0.0,0.0,116313.57,92140.15,0.0,177640.09,0.0,167997.6,82275.35,0.0,111962.99,131736.88,0.0,108239.11,98444.19,114540.38,187530.66,133636.16,0.0,84745.03,120599.38,0.0,127771.35,0.0,0.0,0.0,167772.96,95845.6,0.0,134714.7,0.0,122384.22,0.0,157993.15,0.0,123331.36,75263.16,137824.03,132578.92,156021.31,0.0,137453.43,0.0,164284.72,0.0,0.0,112373.49,0.0,0.0,0.0,154333.82,111432.77,0.0,137390.11,0.0,111642.08,0.0,83543.37,145338.76,186796.37,58641.43,0.0,137148.68,80001.23,86402.52,0.0,122874.74,97544.29,170826.55,97133.92,153895.65,0.0,0.0,0.0,134956.02,143637.58,147506.25,0.0,190227.46,172448.77,113980.21,0.0,0.0,76968.12,88293.13,170833.46,108122.39,0.0,0.0,129818.39,163943.89,0.0,101430.3,117301.66,173340.83,0.0,134348.57,105525.65,0.0,0.0,106192.1,45144.43,92113.61,0.0,128366.44,0.0,106545.53,145618.37,141541.25,57017.06,0.0,0.0,125884.95,61825.5,0.0,0.0,102967.41,171770.55,93051.64,161064.64,90612.34,145105.64,0.0,0.0,174912.72,104947.72,135213.71,0.0,116229.85,111201.41,0.0,131899.0,124525.52,0.0,0.0,47134.75,0.0,0.0,0.0,0.0,0.0,138657.08,70302.48,101609.01,0.0,130170.82,133802.29,106234.02,132628.98,103522.75,192390.52,0.0,0.0,0.0,109922.61,128605.32,0.0,68598.56,106518.52,0.0,0.0,121326.42,67226.37,82931.85,0.0,118590.41,145981.87,73309.38,130796.33,151607.56,111577.01,107042.74,156371.61,129605.99,0.0,0.0,132576.25,129101.3,108822.4,137948.51,100433.8,96134.11,115888.04,124626.07,139810.34,0.0,84496.71,116854.71,138333.03,0.0,78992.75,97257.41,122453.37,112940.07,132558.26,0.0,133297.24,0.0,197041.8,71497.79,0.0,128100.28,124532.78,82293.82,142120.91,151839.26,149620.88,168197.66,93147.0,97440.02,65046.08,95357.49,123105.88,0.0,0.0,121286.27,167738.82,104091.29,121980.56,0.0,50880.98,175159.9,105514.69,116497.31,0.0,99824.45,0.0,0.0,0.0,122964.88,0.0,0.0,0.0,89634.69,95710.11,139706.31,103909.86,0.0,173434.9,102238.01,179380.74,0.0,108691.95,0.0,0.0,133377.8,0.0,0.0,116537.6,0.0,0.0,130131.08,0.0,0.0,107316.09,0.0,83181.29,0.0,153946.14,0.0,135483.17,0.0,119624.54,121132.26,0.0,0.0,54817.55,107949.45,0.0,80816.45,98205.77,94684.27,141604.76,0.0,0.0,122949.14,81677.22,80293.98,155413.06,0.0,67111.65,103818.43,0.0,152169.12,0.0,214346.96,0.0,113348.14,170935.94,103023.26,0.0,0.0,111855.04,140348.56,0.0,145512.84,146720.98,107209.73,130933.74,0.0,89772.3,0.0,0.0,0.0,100749.5,0.0,0.0,123981.31,91622.42,126195.81,94267.9,0.0,0.0,0.0,100717.85,0.0,141581.71,0.0,148586.64,0.0,0.0,123403.85,0.0,106511.85,0.0,135549.9,110555.37,0.0,185891.54,130854.59,92578.14,132312.06,144976.5,87070.23,0.0,115414.19,91070.43,117412.19,90018.45,0.0,112414.81,158456.76,0.0,149641.53,122528.18,143734.01,155663.31,0.0,101736.66,125822.21,0.0,0.0,0.0,157791.07,0.0,0.0,181627.14,109679.72,96652.86,190008.32,0.0,0.0,148962.76,0.0,131344.52,101713.84,0.0,0.0,137963.07,129938.07,151421.44,135643.0,122773.5,152303.8,0.0,79415.67,125801.03,0.0,0.0,104817.41,0.0,67495.04,164850.54,154776.42,143124.63,0.0,0.0,102133.38,79932.41,120711.73,122717.53,92363.3,203715.15,0.0,0.0,0.0,0.0,93460.47,0.0,40224.7,168069.73,0.0,130538.77,132623.6,103465.02,126547.8,128262.72,169742.64,0.0,150795.81,129855.72,146098.43,0.0,0.0,65643.3,0.0,104584.16,0.0,99785.28,127655.22,0.0,101257.16,0.0,121313.88,0.0,81523.38,128252.66,0.0,0.0,0.0,0.0,0.0,0.0,0.0,0.0,145541.56,0.0,124601.58,115182.84,163789.49,65733.41,0.0,128486.11,109663.47,88324.31,146445.24,0.0,0.0,109949.05,78653.05,107850.82,83765.35,143773.07,116227.27,103471.52,0.0,137492.35,0.0,129829.59,146329.57,114027.7,146580.69,132122.42,81553.93,0.0,0.0,0.0,0.0,175214.71,125534.51,97705.99,126817.65,46870.43,0.0,120094.93,0.0,0.0,104356.94,147004.34,73023.17,173432.55,165679.92,104678.62,116973.26,0.0,126732.85,148481.09,137654.05,115315.04,99095.73,165610.41,0.0,161628.66,146605.27,113488.68,77002.2,0.0,0.0,0.0,182364.53,0.0,149364.58,127450.14,162278.32,152212.88,161993.89,131468.44,102980.44,143321.97,130404.92,0.0,87505.47,133634.02,151233.62,70263.83,0.0,57657.49,153572.31,134752.08,83132.09,0.0,134096.53,118100.59,76915.4,81576.75,0.0,118327.17,124857.69,90971.85,153147.75,65942.26,0.0,0.0,100912.19,0.0,0.0,0.0,124439.49,0.0,0.0,58781.76,159453.64,142721.52,167795.6,128345.69,165260.98,118233.81,0.0,0.0,143452.74,145018.49,82407.51,79460.98,0.0,126473.99,133537.1,164978.01,128029.72,97403.18,176845.41,0.0,81589.04,119507.58,0.0,94443.77,0.0,92199.84,0.0,135756.96,120633.42,134542.73,0.0,0.0,0.0,154344.49,0.0,189026.53,120764.08,97975.82,0.0,113270.2,0.0,124548.99,201696.07,0.0,114203.47,0.0,125437.64,0.0,64897.75,0.0,135555.66,107764.75,117307.44,73700.12,60603.4,40169.88,92041.87,130483.95,0.0,0.0,151097.28,67563.31,112808.18,0.0,86459.8,118633.08,159441.27,0.0,125212.65,88656.37,146033.62,120268.13,0.0,0.0,135070.58,0.0,0.0,122550.05,0.0,130306.49,0.0,90350.77,128747.69,126873.52,108424.19,0.0,84350.07,0.0,84958.6,99097.36,136622.55,156771.68,167658.33,0.0,109483.54,134504.78,114427.86,83888.54,110029.77,127523.75,139762.13,91611.12,109471.79,150500.64,101609.77,0.0,78892.23,82344.84,0.0,0.0,127706.33,124349.34,0.0,119336.29,0.0,104217.3,0.0,144757.02,0.0,0.0,0.0,0.0,100169.51,145731.83,110802.03,120392.99,135067.52,136556.44,0.0,99587.43,0.0,70731.07,109342.82,0.0,0.0,78247.31,117561.49,88980.32,0.0,103560.57,113308.84,0.0,63763.49,169988.35,180303.24,0.0,120656.86,61592.14,164701.68,80780.16,0.0,154221.37,0.0,101641.14,0.0,92786.66,131081.66,98014.74,0.0,97460.1,104077.19,0.0,0.0,0.0,93656.95,121345.88,141675.23,0.0,102365.49,0.0,0.0,0.0,101868.51,0.0,112392.45,106570.34,0.0,81947.76,144162.3,86350.87,158623.14,0.0,132403.56,0.0,134985.66,0.0,103772.45,133040.32,0.0,0.0,0.0,71460.67,133214.13,96558.66,93806.31,0.0,124043.8,131694.97,0.0,106266.8,0.0,0.0,139840.36,0.0,124098.54,145807.59,0.0,107508.93,0.0,145980.23,212778.2,152522.47,168964.77,0.0,0.0,98266.3,113000.92,137060.88,112146.12,129307.32,163975.09,0.0,158414.85,92072.68,88243.29,0.0,59486.31,0.0,0.0,0.0,119278.01,158741.43,140596.95,0.0,90432.92,104783.81,77992.97,110822.9,119624.6,109052.59,139129.44,152324.66,0.0,127480.58,115029.4,114005.78,116646.76,110864.38,156267.59,109528.28,102482.76,115563.71,0.0,95624.36,0.0,160376.61,37702.79,118273.83,131082.17,94456.0,0.0,0.0,93791.38,0.0,0.0,155973.13,89409.95,97854.37,0.0,60280.62,135216.8,124923.35,0.0,188614.07,62321.62,120782.7,115961.58,115062.61,160602.25,108825.34,166287.85,152663.77,80844.69,97001.36,0.0,122524.61,132292.63,0.0,91502.99,0.0,59385.98,0.0,97956.5,0.0,0.0,141223.68,151762.74,141749.74,75075.14,165686.11,0.0,0.0,0.0,0.0,92961.61,0.0,130812.91,107174.58,152677.48,132005.77,0.0,0.0,127305.5,0.0,0.0,0.0,170291.22,102562.23,111061.01,0.0,124379.14,0.0,57745.76,129293.74,0.0,150777.1,0.0,0.0,108632.48,153861.1,100374.58,0.0,61196.54,116891.72,133656.91,92911.52,119825.75,111852.84,106683.52,139022.24,148571.07,0.0,129776.72,0.0,0.0,0.0,0.0,114739.92,122545.65,0.0,131908.35,105722.69,0.0,0.0,0.0,82767.42,87842.98,133261.13,0.0,97925.11,0.0,140453.91,117356.19,0.0,137204.77,0.0,0.0,54098.18,0.0,113758.48,0.0,118636.92,0.0,95488.82,110829.52,144244.59,122021.92,0.0,0.0,0.0,85839.62,96974.97,148172.44,0.0,0.0,0.0,0.0,134766.85,123210.56,139887.01,149961.11,152880.97,108589.47,0.0,56674.48,0.0,0.0,105663.56,0.0,100683.54,0.0,139541.58,121801.72,112281.7,0.0,93499.82,132255.99,0.0,0.0,121973.28,99462.8,165878.76,117494.27,138577.34,0.0,107525.07,139224.92,121453.63,0.0,77354.37,0.0,79259.99,116295.29,0.0,74309.81,152797.9,133701.07,114430.18,127504.57,84113.41,101126.66,103564.83,0.0,168178.21,143903.11,129753.69,0.0,110641.18,166909.2,154139.45,97459.06,0.0,112088.04,0.0,0.0,141038.57,84468.67,118520.26,142663.46,118627.16,137523.02,110976.23,107283.4,0.0,124314.45,95858.37,0.0,0.0,0.0,117707.18,135289.33,174060.46,114446.84,0.0,157848.53,0.0,0.0,108071.36,14262.8,102749.72,161757.87,0.0,95698.79,124969.13,93960.35,88308.87,0.0,0.0,112935.87,98567.1,180530.51,140931.57,148913.72,0.0,0.0,0.0,115335.32,0.0,0.0,134678.13,0.0,90547.48,103324.78,114590.58,91286.51,163340.12,150900.29,124577.33,0.0,91292.7,93716.72,111723.08,110765.68,173459.45,169649.73,0.0,116917.07,0.0,0.0,0.0,130627.66,56580.95,142316.14,0.0,152759.0,109733.2,117444.51,76001.57,107747.57,0.0,134997.49,0.0,0.0,0.0,64345.21,141665.63,0.0,136624.6,161209.66,95010.92,167545.32,109044.6,122031.55,27755.97,118560.55,0.0,0.0,97840.72,158651.29,175303.06,96950.21,123859.6,0.0,0.0,85227.84,97786.08,128135.99,0.0,85996.19,0.0,104502.11,95772.97,98108.79,131607.28,63127.41,0.0,0.0,140355.56,0.0,0.0,107418.27,0.0,0.0,167557.12,117300.02,0.0,143672.9,0.0,0.0,76798.92,0.0,115309.75,178171.04,0.0,0.0,127258.79,0.0,0.0,0.0,0.0,0.0,107569.96,134874.4,0.0,0.0,0.0,0.0,70105.87,0.0,78939.15,105128.85,113836.27,0.0,100900.5,129248.11,109118.05,0.0,0.0,126397.66,108546.16,148061.89,122277.87,0.0,0.0,152899.24,134388.11,109740.62,92366.72,129109.02,0.0,105102.5,111375.32,0.0,150412.14,156660.72,90957.81,104960.46,117052.82,88915.85,148071.39,152182.83,0.0,130056.23,95039.73,0.0,0.0,112773.73,123806.28,144453.75,94667.29,0.0,174397.21,108888.24,118803.35,171137.62,0.0,136678.52,135515.76,177799.83,143542.36,147487.23,97764.41,0.0,139480.18,0.0,140553.46,0.0,141162.08,65848.36,83319.28,0.0,129731.64,0.0,0.0,0.0,107106.33,0.0,0.0,105303.73,165798.1,0.0,126495.57,116393.59,81733.74,0.0,106171.68,96020.86,0.0,181671.16,185709.28,134250.17,0.0,95671.75,0.0,142151.75,127823.93,144164.29,63492.94,0.0,0.0,106134.46,127269.75,124493.03,0.0,146547.78,99610.92,117837.43,168522.37,117337.54,108131.53,136496.12,116324.53,75470.23,172646.82,0.0,160358.68,98415.37,57809.32,128743.8,130806.42,123971.16,0.0,0.0,0.0,0.0,0.0,156297.58,0.0,123372.3,92171.35,0.0,148375.19,0.0,147422.44,173962.32,0.0,145215.43,167539.97,94968.97,106116.5,0.0,0.0,0.0,120018.86,112541.54,166118.45,102882.4,0.0,106881.5,120727.97,169832.57,0.0,113599.42,0.0,0.0,0.0,0.0,146282.79,119413.62,122084.63,103060.63,0.0,0.0,110483.86,120718.28,36566.96,108601.0,0.0,0.0,0.0,0.0,141136.62,108231.37,0.0,144855.34,68432.45,136855.24,44020.89,133060.63,0.0,0.0,97665.61,185013.02,0.0,65971.61,150463.11,0.0,0.0,136425.18,250898.09,146798.81,0.0,128486.91,0.0,143407.29,0.0,76165.65,0.0,0.0,90560.3,62391.22,0.0,0.0,123378.2,99836.47,161434.36,0.0,138311.76,0.0,0.0,101744.84,0.0,125456.07,0.0,0.0,0.0,0.0,118449.21,0.0,178095.55,109175.14,127785.17,0.0,0.0,134260.36,69143.91,100054.77,0.0,116248.88,86053.52,123157.95,63438.91,95295.39,133550.67,106871.81,105266.32,105229.53,102768.42,0.0,112689.95,122334.26,0.0,137847.41,122486.47,101286.11,0.0,101247.06,86977.96,0.0,110123.59,178111.82,126306.64,100768.77,0.0,0.0,118991.79,140997.26,0.0,166824.59,76322.69,0.0,149083.7,0.0,0.0,126588.81,143249.67,81844.91,0.0,190298.89,117212.18,0.0,139848.17,101861.36,167455.66,0.0,116360.07,88466.82,0.0,123642.36,0.0,72286.84,0.0,109681.61,145018.64,0.0,187487.63,165692.91,137648.41,118560.0,164385.53,108286.5,0.0,0.0,118079.47,127283.78,0.0,141389.06,130091.5,143744.77,97408.03,111927.45,0.0,0.0,0.0,188285.68,109705.52,0.0,127122.79,98241.04,170840.08,87541.06,62610.96,0.0,113328.93,104832.49,102289.85,125227.82,140510.89,132253.22,39043.29,0.0,99685.06,125385.49,131365.37,98308.51,0.0,140856.16,0.0,172274.01,0.0,122447.76,0.0,157559.59,126550.7,158584.82,163569.61,0.0,127211.45,118199.97,101014.08,119208.85,0.0,53772.73,0.0,138878.81,130922.81,0.0,0.0,130866.19,187257.94,0.0,147733.64,0.0,163139.27,0.0,119540.15,129553.76,0.0,66101.89,140431.98,0.0,0.0,0.0,116471.43,0.0,123785.24,0.0,88758.95,153611.83,112044.72,123826.07,106804.26,0.0,68892.77,0.0,125827.43,0.0,0.0,148495.64,133043.66,74989.58,60263.23,129370.91,157955.83,0.0,70729.17,0.0,0.0,90721.52,0.0,57784.22,131765.72,0.0,110022.74,131569.63,164523.5,114330.95,135923.16,0.0,0.0,124693.48,147936.42,0.0,126558.92,106938.11,140002.35,123444.72,147107.91,128514.84,0.0,106756.01,0.0,0.0,155393.32,110414.48,0.0,157098.52,85626.6,93796.42,0.0,125268.03,148143.84,115545.33,0.0,44928.88,0.0,162442.35,0.0,96213.82,156569.43,0.0,0.0,110463.25,154575.76,0.0,0.0,147037.32,119276.31,108664.85,0.0,163034.82,93059.34,179581.31,113625.93,119961.48,129209.48,137227.04,119024.75,74623.5,157929.45,92606.86,127862.93,0.0,142711.81,0.0,163159.85,108586.86,110624.99,154846.24,122917.71,0.0,82787.93,102500.34,0.0,159492.79,0.0,118241.02,113090.4,65763.57,125537.38,94263.91,133434.57,0.0,0.0,94748.76,98640.74,74681.9,0.0,179915.85,128207.23,132739.26,0.0,120509.81,124547.13,0.0,88815.56,82231.51,184715.86,0.0,0.0,147972.19,0.0,170008.84,0.0,0.0,95386.82,90373.28,133467.77,0.0,96288.26,91547.84,138292.64,0.0,71667.74,118994.84,0.0,145610.07,138162.81,135020.21,0.0,135161.67,0.0,94486.47,117640.39,111379.55,0.0,136820.99,98752.51,158266.42,105599.67,0.0,0.0,139723.9,141806.46,132571.67,180516.9,0.0,92805.72,0.0,135309.36,128917.84,56580.93,131390.75,0.0,0.0,97361.66,0.0,0.0,0.0,0.0,0.0,102714.65,67816.72,81710.46,75237.54,124023.18,100727.5,107238.85,0.0,139994.66,126224.87,145751.03,0.0,121166.89,0.0,0.0,70655.48,129901.21,125470.81,169406.33,0.0,107041.3,95153.77,145166.09,0.0,65962.63,140418.81,139799.63,171787.84,149238.97,163146.46,0.0,0.0,61482.47,145150.28,126670.37,84390.8,89728.86,0.0,118628.8,0.0,96863.13,142263.45,0.0,0.0,0.0,122724.37,174902.26,0.0,108914.17,98052.66,123873.19,111920.13,0.0,0.0,0.0,75150.34,0.0,114753.76,0.0,111871.93,0.0,135927.06,0.0,0.0,57037.74,0.0,79468.96,121063.85,118537.47,0.0,105082.07,0.0,0.0,104702.65,95813.76,167026.61,102453.26,148045.45,0.0,0.0,0.0,104498.79,0.0,0.0,149542.52,87946.39,68639.57,148826.32,0.0,108166.09,103214.71,134760.21,0.0,90124.64,0.0,87361.02,111257.59,131583.59,95020.8,0.0,80242.37,0.0,0.0,122661.39,0.0,0.0,0.0,0.0,81742.84,0.0,145127.85,148912.44,0.0,89900.24,119027.28,105222.86,0.0,116114.93,187911.55,0.0,144432.04,77065.9,180520.29,0.0,130024.87,110086.69,174853.46,108724.98,91285.13,0.0,110610.41,102994.04,59893.85,149318.55,116409.55,127760.07,132591.36,0.0,113402.14,0.0,0.0,0.0,136953.47,0.0,0.0,123863.64,120811.89,148430.55,47869.69,150926.99,103163.35,130206.28,136674.51,200322.45,0.0,80927.56,0.0,0.0,142574.71,160426.07,116160.23,98683.47,118829.03,118870.92,0.0,0.0,107192.38,108010.78,0.0,129837.72,106458.31,97009.15,122929.42,152296.83,0.0,0.0,128993.76,0.0,185267.45,0.0,116805.82,129750.68,129177.01,82506.72,107247.69,0.0,157780.93,172170.36,0.0,0.0,75361.44,0.0,0.0,98263.46,0.0,109308.79,0.0,164365.44,98800.0,193125.85,51522.75,84284.48,0.0,119889.84,137910.45,0.0,100116.82,166082.15,0.0,0.0,148595.55,94078.97,0.0,0.0,164948.98,140549.4,152509.25,191864.51,96418.09,131945.94,0.0,142910.15,0.0,146311.58,87894.26,97445.49,0.0,0.0,154485.74,115625.07,108396.67,65095.41,103018.45,84764.79,0.0,115680.81,0.0,73088.06,150905.03,143054.85,0.0,0.0,99948.45,115451.05,108235.91,0.0,98795.61,0.0,0.0,0.0,113146.98,162532.14,92053.44,0.0,0.0,104944.1,0.0,0.0,107879.04,110356.42,0.0,109783.69,149777.0,104339.56,85818.18,212692.97,89696.84,0.0,68067.24,148564.66,136354.16,122214.0,0.0,119684.88,135139.33,146100.75,123110.9,111760.4,110728.39,121558.46,120623.21,114713.57,103457.76,101134.87,78136.36,0.0,133446.34,0.0,108076.33,131354.25,62974.64,143340.44,116993.43,58662.92,128808.65,137555.44,142393.11,0.0,125785.23,136444.25,121527.4,144696.75,0.0,0.0,128140.17,120383.41,0.0,129735.3,185078.26,0.0,0.0,0.0,144591.96,0.0,0.0,0.0,100194.44,145295.31,106070.29,120621.89,0.0,0.0,0.0,171283.91,0.0,128218.47,0.0,77776.39,124978.19,0.0,0.0,109799.55,0.0,125397.21,0.0,111347.37,104291.41,94867.18,0.0,135703.59,106453.53,132412.38,124401.6,118022.06,82531.11,184552.12,127278.31,0.0,0.0,184244.86,59669.43,79543.59,151553.19,166527.88,150329.15,121911.59,156773.78,127864.26,113709.28,79974.55,0.0,0.0,0.0,144427.96,99263.09,79368.87,0.0,0.0,0.0,125095.94,162485.8,95668.82,0.0,0.0,0.0,74197.38,89688.94,103121.33,0.0,120170.07,149136.31,141136.79,152341.55,120026.98,132168.28,85200.82,84903.33,0.0,0.0,0.0,121535.18,116662.96,0.0,124829.16,155180.56,108262.87,0.0,0.0,0.0,99812.88,132164.26,103583.05,142406.43,99842.5,0.0,0.0,81042.42,0.0,0.0,199689.49,142645.43,0.0,110219.14,0.0,0.0,0.0,142072.02,0.0,149564.61,0.0,153366.13,76467.16,121508.28,0.0,73211.12,0.0,0.0,92674.94,96196.24,114391.62,80262.66,173331.52,147285.52,119785.47,140137.15,107467.56,98218.04,133607.75,0.0,95139.41,0.0,0.0,0.0,97331.19,139265.63,0.0,168094.01,131563.88,0.0,0.0,0.0,107363.29,94493.03,170214.23,139781.06,0.0,148610.41,170241.7,128306.83,0.0,0.0,175454.0,0.0,100885.93,93320.8,63176.44,139451.67,49113.75,123906.22,0.0,0.0,131441.51,0.0,136325.48,113150.44,0.0,0.0,102785.16,83264.28,72252.64,148051.52,138489.66,0.0,111589.33,122104.79,96106.83,115930.87,124513.66,0.0,0.0,0.0,100988.39,118577.24,0.0,0.0,0.0,0.0,0.0,113311.11,0.0,0.0,124365.42,147249.29,103688.19,138740.24,111900.14,152760.24,143966.3,141556.96,0.0,0.0,0.0,0.0,0.0,0.0,162560.32,123229.46,76665.71,140278.99,0.0,115764.32,131142.53,68375.27,117833.3,0.0,0.0,0.0,111093.01,132657.55,128882.49,69129.59,0.0,121404.64,131355.3,102097.33,154863.15,99945.93,121704.32,0.0,138782.76,0.0,136291.71,107856.57,108348.66,93871.95,0.0,125860.2,172713.44,0.0,0.0,130786.92,112367.34,91091.06,106198.5,142669.93,112833.35,0.0,0.0,104336.43,104305.74,140187.1,0.0,114959.12,164704.38,119096.55,0.0,0.0,0.0,115465.28,0.0,184926.61,85957.88,114084.6,166930.76,0.0,0.0,107193.82,116275.12,0.0,91068.56,123049.21,0.0,0.0,137781.65,108128.96,105317.73,80569.73,174852.89,89158.94,0.0,89800.14,101207.75,106086.42,0.0,0.0,101440.36,0.0,106603.74,130420.2,0.0,45022.23,74298.43,133003.03,0.0,136689.66,0.0,0.0,102520.37,0.0,0.0,88382.01,115049.15,104796.54,123082.08,0.0,0.0,0.0,88311.48,0.0,71872.19,110046.93,104430.08,0.0,138653.51,102575.04,137780.74,0.0,0.0,105209.54,109570.21,118715.86,0.0,153393.18,132603.36,0.0,129398.01,0.0,151352.74,136836.49,91592.06,0.0,0.0,0.0,165536.28,62482.95,68155.59,55853.33,0.0,79589.43,100880.76,174330.35,143390.51,91415.76,134366.42,0.0,88786.81,96814.46,160680.41,0.0,0.0,145537.21,0.0,0.0,119370.11,0.0,134381.52,114888.74,149332.48,105061.74,0.0,0.0,0.0,155062.8,88798.34,0.0,143139.87,0.0,107027.52,140720.93,80964.57,178585.46,135889.13,134919.85,115130.34,138190.13,131519.49,0.0,126935.98,133707.09,97893.2,127900.03,143835.47,0.0,0.0,0.0,129596.77,0.0,110407.44,0.0,142015.76,81370.07,69329.47,116755.5,83870.33,130694.89,117451.47,206868.78,111695.62,137285.26,149218.39,0.0,0.0,130701.29,0.0,167949.48,131254.81,0.0,0.0,86656.13,114737.26,0.0,0.0,119817.33,130806.99,0.0,0.0,80931.75,0.0,132178.67,0.0,0.0,164769.02,107233.85,176227.07,109949.39,0.0,117738.81,133292.45,160474.59,0.0,154393.43,110827.49,145750.45,109044.3,75170.54,0.0,105795.9,0.0,0.0,0.0,118097.87,172693.54,129440.3,0.0,96471.2,0.0,140197.18,0.0,135946.26,0.0,81290.02,0.0,113715.36,168883.08,143421.74,153644.39,109330.06,115095.88,0.0,183276.32,68193.72,0.0,139729.54,98365.33,0.0,122453.97,132174.41,0.0,0.0,104349.45,138881.04,116968.91,105346.03,136623.19,0.0,0.0,0.0,124445.52,68999.66,85768.42,0.0,100628.0,0.0,0.0,0.0,0.0,125647.36,100375.39,0.0,171922.72,146810.99,109032.23,0.0,0.0,128653.59,80387.81,0.0,108508.82,155978.17,0.0,121175.56,89349.47,86131.71,102346.86,121263.62,0.0,0.0,0.0,149726.08,0.0,161274.05,0.0,103138.17,109628.44,0.0,97286.16,118004.26,85534.83,0.0,95140.44,0.0,0.0,75900.84,126619.27,111833.47,0.0,238387.56,108698.96,112687.69,81556.89,136596.85,98807.45,0.0,0.0,107499.7,0.0,0.0,0.0,176024.05,0.0,127631.62,0.0,109819.16,138734.94,111363.1,0.0,143988.0,118838.75,161637.75,133793.89,71553.83,0.0,0.0,0.0,64667.95,121164.11,0.0,98903.06,104158.84,0.0,139529.93,0.0,64646.7,0.0,0.0,118894.22,0.0,0.0,68213.99,0.0,139196.0,0.0,126345.55,0.0,0.0,0.0,0.0,129278.43,119558.35,92467.58,0.0,0.0,0.0,99340.83,0.0,126833.79,109676.52,0.0,134729.99,98431.37,130368.31,123974.96,138082.16,129855.32,132308.22,155447.65,124268.64,176311.36,99886.42,0.0,0.0,85089.3,134318.21,75395.53,116765.7,0.0,111501.66,76595.08,160541.36,129728.6,0.0,130929.02,116800.25,101016.53,0.0,190566.65,0.0,97067.69,92208.54,186347.97,103176.62,0.0,77270.08,111911.63,94216.05,0.0,0.0,106770.82,138089.97,133191.19,0.0,74135.85,99208.46,92242.34,108380.72,91893.32,85757.93,0.0,96759.42,0.0,0.0,0.0,0.0,132150.26,0.0,175443.75,78990.15,113743.37,157624.84,125163.62,0.0,0.0,80922.75,193354.86,107648.94,131769.04,138992.48,113899.92,114450.32,0.0,0.0,63609.92,0.0,75497.51,0.0,0.0,0.0,117704.73,130463.55,46161.18,0.0,110182.54,0.0,117221.15,0.0,79120.27,177069.24,61636.97,0.0,104414.03,159732.02,89437.03,0.0,0.0,0.0,142400.77,88011.4,0.0,154870.28,0.0,0.0,118402.25,87374.88,105397.8,125341.69,129164.88,141004.46,0.0,89079.41,103604.31,182705.05,0.0,94598.48,188241.05,0.0,0.0,117469.91,80790.74,107735.93,133379.41,168066.87,69014.49,0.0,98548.62,0.0,76554.06,0.0,107375.82,122417.17,0.0,97188.62,61297.05,112666.67,0.0,157842.07,91443.75,110148.49,53299.96,0.0,0.0,70233.74,0.0,75212.28,41299.03,83286.56,0.0,0.0,85668.59,57327.04,0.0,69609.85,129269.27,0.0,165350.61,152105.57,0.0,106290.64,100548.67,106344.95,137482.19,116465.53,0.0,0.0,127637.92,0.0,0.0,81951.74,147531.82,0.0,135120.72,0.0,0.0,0.0,0.0,0.0,28082.95,0.0,111087.5,0.0,127120.07,115651.6,77743.01,0.0,71996.09,61581.97,0.0,0.0,87873.39,105617.73,0.0,148770.61,94901.09,174851.9,0.0,120847.11,0.0,0.0,103267.8,109699.08,135133.39,0.0,137649.47,113567.94,0.0,141547.26,62055.17,131156.76,134837.58,0.0,104784.23,0.0,156948.41,147751.75,124619.33,124182.21,142028.36,0.0,125837.86,117160.32,0.0,97565.74,0.0,104833.79,101675.22,0.0,0.0,174701.05,71142.77,108805.42,0.0,0.0,116037.76,0.0,80673.96,124640.51,182275.23,98635.77,0.0,0.0,79757.21,53053.76,120911.75,115285.85,0.0,221532.8,105056.13,88363.03,123757.52,123959.97,114822.64,145219.3,106807.64,148159.71,99745.95,156282.79,0.0,0.0,0.0,0.0,121376.15,111582.11,129417.82,0.0,0.0,0.0,94607.08,131368.3,166883.07,0.0,172812.72,126606.63,134950.19,96956.1,107601.79,92060.06,0.0,0.0,137688.71,85845.43,125552.96,167298.42,55732.92,110689.07,98544.11,178317.6,115713.84,143267.14,89750.21,116576.45,143001.5,157761.56,0.0,103430.11,0.0,0.0,115115.38,122501.28,0.0,0.0,146758.24,0.0,0.0,110738.89,94203.8,105792.49,153198.23,0.0,61811.23,101116.06,74458.25,142871.27,98585.94,0.0,0.0,80764.03,144801.97,0.0,110053.62,118890.81,0.0,151218.98,150507.21,0.0,131023.76,122314.5,0.0,0.0,111739.4,113882.31,98148.61,0.0,59271.82,0.0,0.0,69413.44,160599.06,0.0,147803.48,0.0,170228.59,133111.73,0.0,176139.5,0.0,110245.13,0.0,158719.57,160979.68,123557.65,0.0,0.0,112896.86,120962.13,96048.55,0.0,185063.7,118064.93,0.0,0.0,149131.03,0.0,0.0,125512.98,83492.07,0.0,0.0,125739.26,98592.88,141789.15,112949.71,105057.33,89087.89,147435.96,154439.86,73054.37,124678.35,152576.25,152243.57,0.0,88120.97,143930.92,0.0,137059.05,186558.55,115654.47,0.0,126152.84,105701.91,0.0,157094.78,113228.38,0.0,108432.88,0.0,120702.67,0.0,0.0,139106.19,101851.8,130935.56,116509.99,93124.04,111578.18,0.0,86546.29,0.0,129669.32,0.0,164557.95,0.0,118989.92,0.0,0.0,79259.75,112230.38,118129.87,86824.09,128306.7,117641.43,125734.2,103302.37,0.0,82696.09,145471.37,101506.66,156265.31,128554.98,139959.55,132944.53,0.0,0.0,93547.23,152302.72,147674.26,148021.12,0.0,142360.62,151027.56,138843.7,109958.15,138857.59,105426.5,149155.53,135096.05,170890.05,89122.3,78126.28,123894.43,0.0,106913.43,127845.83,0.0,106397.75,0.0,0.0,166492.48,0.0,114493.68,126104.98,124425.99,0.0,0.0,0.0,101140.76,150844.94,115024.5,131286.46,0.0,141267.67,137761.55,0.0,98064.97,114519.57,101012.77,0.0,82291.1,84719.98,0.0,104386.53,128131.73,122806.95,0.0,112510.89,117056.46,131778.66,70784.27,0.0,0.0,0.0,140752.06,92126.26,93148.74,110132.55,0.0,122227.71,121647.54,110597.76,120731.39,0.0,0.0,153722.47,114088.32,0.0,0.0,152532.3,0.0,143292.95,149144.61,127157.04,84673.17,135962.4,151691.44,88335.05,139859.23,43134.65,99580.13,110717.38,0.0,0.0,0.0,108197.11,0.0,104450.86,0.0,0.0,0.0,0.0,116099.82,111169.91,0.0,123616.43,155619.58,89558.39,0.0,131938.92,151772.63,0.0,0.0,0.0,97700.02,0.0,103244.86,147833.3,0.0,0.0,0.0,84521.48,91938.31,124240.93,0.0,157084.99,108244.82,0.0,82161.7,104568.41,119912.46,68881.59,0.0,86376.29,150840.03,155059.1,0.0,78128.13,98899.76,0.0,160982.89,87926.24,0.0,79385.21,127997.83,168396.34,134896.03,0.0,94238.75,0.0,0.0,212696.32,0.0,139153.68,0.0,0.0,0.0,92887.13,0.0,83442.98,144773.29,111973.97,178032.53,140007.19,98400.61,0.0,108924.33,132835.56,0.0,118334.44,81732.88,121411.9,121455.65,0.0,0.0,117989.76,0.0,137411.29,73688.2,122330.7,99906.89,0.0,167664.83,141525.55,124832.51,132121.71,0.0,78539.84,123770.46,0.0,116150.65,160729.1,88378.6,182888.08,0.0,0.0,85600.08,0.0,0.0,95001.33,113873.22,0.0,74896.92,89492.62,128718.78,0.0,0.0,144954.75,0.0,94001.61,0.0,0.0,0.0,0.0,0.0,0.0,0.0,0.0,141546.35,141528.88,109805.3,86614.06,91680.1,38848.19,153639.11,0.0,123870.07,0.0,46323.57,162039.78,110928.51,0.0,114421.55,130036.21,151510.17,0.0,0.0,83568.55,139972.18,100212.13,90217.07,0.0,124067.32,0.0,162082.31,117306.69,122889.88,148790.61,180226.24,104857.19,166833.86,102936.72,108736.52,129974.79,85982.07,134397.61,137841.53,100260.88,139822.11,123151.51,95331.83,0.0,138162.41,0.0,126066.26,96763.89,0.0,139561.46,0.0,0.0,172463.45,107798.85,70181.48,177997.07,0.0,0.0,0.0,0.0,123200.78,0.0,0.0,137742.9,116270.72,113220.2,0.0,115895.22,121730.49,113811.85,136214.08,146200.01,106242.67,0.0,0.0,24043.45,0.0,132287.92,0.0,0.0,90322.99,0.0,131283.11,131659.59,120952.74,153166.17,53291.86,167924.95,86394.14,0.0,0.0,0.0,158978.79,100431.84,0.0,150358.97,114347.85,0.0,134007.9,98899.91,0.0,137430.82,0.0,0.0,188976.89,0.0,75990.97,0.0,112181.08,97208.46,0.0,0.0,150856.79,146748.07,0.0,0.0,148863.17,0.0,0.0,153360.02,92055.36,124723.92,103033.83,0.0,0.0,0.0,0.0,116726.22,113923.81,0.0,0.0,0.0,0.0,121827.43,0.0,125389.7,103895.31,111128.04,0.0,0.0,0.0,151242.48,0.0,129709.62,83347.25,84121.04,0.0,102338.19,87375.78,0.0,104677.09,121669.23,108407.34,154969.79,141829.67,0.0,109162.82,87471.63,147229.65,0.0,182532.23,0.0,160903.2,138053.79,153548.12,149085.9,95231.91,0.0,85109.21,125338.8,0.0,106831.69,159597.45,147361.57,176134.54,0.0,0.0,84055.43,0.0,174088.3,199229.14,0.0,0.0,78833.15,0.0,0.0,102540.61,0.0,0.0,129401.87,0.0,0.0,0.0,106702.94,139584.57,121016.23,0.0,118210.42,0.0,148654.84,136963.12,137774.11,111156.52,121237.65,97234.58,0.0,0.0,97382.53,103108.8,0.0,131852.81,0.0,107553.33,0.0,161806.09,0.0,0.0,128243.03,126645.13,62094.71,112291.34,89188.83,0.0,109161.25,0.0,0.0,0.0,0.0,158271.74,96951.21,121863.61,83495.11,146566.01,0.0,186101.18,0.0,107494.86,0.0,146943.38,0.0,125130.28,0.0,0.0,0.0,0.0,0.0,0.0,0.0,150685.79,141359.37,0.0,94631.26,118336.14,0.0,0.0,124233.24,51116.26,91869.69,122338.43,0.0,0.0,86270.93,0.0,117289.92,0.0,153663.27,0.0,123599.49,0.0,134208.25,0.0,98556.89,0.0,0.0,134593.79,0.0,68781.82,137464.04,147307.91,0.0,145754.91,0.0,112610.77,71481.79,0.0,77826.8,87140.85,132002.7,178011.5,102954.68,123783.25,101802.67,148659.48,142724.48,112152.89,89550.85,75915.75,118889.66,118788.57,156555.54,99141.86,61211.18,128932.4,0.0,80728.15,127660.46,106070.89,137560.38,111905.43,126212.64,0.0,111835.94,0.0,99705.69,0.0,108895.93,154669.77,128061.0,0.0,0.0,190678.02,0.0,0.0,136712.91,154733.97,112609.91,115462.44,133501.36,58668.02,89118.26,0.0,76510.52,140694.78,95448.32,91562.99,72541.48,120867.18,0.0,157320.51,0.0,139676.95,0.0,0.0,0.0,103000.94,134237.07,118235.7,0.0,0.0,115442.19,0.0,0.0,0.0,115557.0,166518.63,135370.12,92877.33,102073.67,97042.6,0.0,108528.07,79064.85,74274.87,0.0,100421.1,84006.88,0.0,0.0,80293.81,125437.14,0.0,0.0,127536.44,0.0,82794.18,108117.1,0.0,61688.61,0.0,0.0,159304.07,138664.24,126362.57,160652.45,183572.84,88421.81,0.0,112871.19,60880.68,0.0,101455.7,88084.13,0.0,127197.14,0.0,83456.79,98298.18,0.0,86911.8,139707.28,0.0,142876.98,146301.31,47364.45,0.0,58137.08,179886.41,107637.97,167685.56,136525.99,52106.33,0.0,104930.38,106434.94,112803.92,120530.34,113641.49,145081.72,0.0,135842.89,112203.25,129895.19,149049.92,153279.39,41473.33,0.0,113193.51,113174.21,0.0,164951.56,153325.1,134032.01,125445.04,126077.43,0.0,90371.09,0.0,142802.02,90537.16,0.0,156123.73,0.0,141074.59,0.0,117899.95,0.0,166257.96,0.0,169362.43,205962.0,0.0,126061.51,105627.95,100606.02,0.0,0.0,138171.1,139395.08,0.0,0.0,109062.28,89994.71,0.0,103996.74,175111.11,66079.45,148055.74,0.0,0.0,0.0,95994.98,0.0,110741.56,0.0,0.0,0.0,96947.58,0.0,109786.82,0.0,0.0,102721.49,69478.57,156674.2,174506.1,166070.48,105957.44,0.0,110340.68,0.0,135870.01,0.0,0.0,0.0,85704.95,0.0,105435.74,0.0,108513.25,156687.1,150604.52,155114.9,0.0,91216.0,141784.02,127763.24,0.0,82613.56,69423.52,86167.82,0.0,131406.56,121898.82,77487.2,0.0,164450.94,138705.02,132730.17,0.0,0.0,116498.22,0.0,139979.07,127216.31,0.0,148222.65,0.0,0.0,134152.29,111537.23,119565.92,0.0,0.0,121063.8,124995.98,0.0,86891.84,0.0,78022.61,154495.79,189443.72,152926.6,142989.69,115371.94,0.0,178056.54,206014.94,0.0,101191.83,0.0,0.0,0.0,0.0,149814.54,115617.24,0.0,113657.41,138160.0,117700.86,0.0,122506.38,0.0,0.0,166501.17,89743.05,0.0,0.0,0.0,0.0,98894.39,168735.74,0.0,133201.17,0.0,127237.25,117864.85,153469.26,93911.3,76597.79,79927.36,0.0,40172.91,115195.58,116644.29,180293.84,139872.81,34547.82,0.0,96462.25,130334.35,119688.81,0.0,0.0,71187.24,0.0,0.0,0.0,136422.41,0.0,0.0,0.0,153238.88,0.0,47536.4,0.0,142882.49,0.0,160566.11,131935.51,127678.8,105214.58,139859.54,0.0,112324.45,134497.27,120171.58,106012.2,0.0,0.0,0.0,0.0,119839.69,0.0,92219.21,142055.41,29602.08,0.0,0.0,0.0,141803.77,0.0,0.0,126589.12,108393.35,115643.58,132876.23,110949.41,130666.2,103821.47,0.0,0.0,132187.73,98649.55,126444.08,154159.51,0.0,129250.0,0.0,167733.51,56116.3,141581.08,139675.07,66201.96,0.0,133658.24,136202.78,131778.08,0.0,0.0,42712.87,0.0,0.0,142631.54,141204.65,131402.21,92636.96,0.0,102088.68,0.0,134887.53,0.0,159900.38,102278.79,0.0,0.0,0.0,76989.97,0.0,0.0,114491.82,144768.94,145056.59,117206.3,138014.4,128352.59,112568.31,0.0,176958.46,99167.54,103210.27,104478.12,125921.37,0.0,80697.44,161887.81,109558.36,124271.26,0.0,190569.23,143923.96,96542.16,0.0,139825.56,111769.14,0.0,113672.18,147256.86,107023.03,125529.55,0.0,131834.8,0.0,99529.7,0.0,107303.72,72783.42,0.0,0.0,115743.6,161256.53,0.0,0.0,0.0,162261.01,74896.33,0.0,144037.6,93522.2,0.0,0.0,106922.92,112972.57,123042.0,100488.92,123322.15,0.0,68683.68,59532.18,140260.36,88302.65,0.0,114655.58,148283.94,0.0,0.0,123916.67,0.0,0.0,165896.0,0.0,111168.97,103549.24,0.0,103804.97,165901.59,119152.1,122950.31,0.0,133384.66,0.0,0.0,158411.95,122028.65,0.0,128751.65,133436.52,123177.01,0.0,120328.88,130147.98,92716.96,0.0,0.0,76914.21,106045.92,103133.26,145974.79,0.0,0.0,0.0,0.0,0.0,139183.06,0.0,74974.89,61691.45,121952.75,0.0,0.0,0.0,80107.83,0.0,147856.82,0.0,65407.16,114233.18,0.0,187602.18,156834.34,0.0,157498.9,0.0,0.0,0.0,0.0,130274.22,0.0,149379.66,0.0,100829.94,96408.98,0.0,0.0,0.0,149105.08,0.0,0.0,0.0,90218.11,87347.7,0.0,137811.75,105563.0,0.0,0.0,91125.75,0.0,0.0,135120.56,0.0,0.0,86837.95,100446.57,0.0,0.0,0.0,114512.59,136364.46,106260.67,146126.75,111284.53,121056.63,128270.56,0.0,0.0,0.0,191775.65,0.0,85141.79,126392.18,0.0,129860.37,127642.44,0.0,125584.17,50911.21,91955.61,84266.44,147149.59,0.0,104822.45,146766.72,148745.92,0.0,0.0,0.0,135203.81,93301.97,96341.0,165326.2,0.0,99786.2,114440.24,141573.55,0.0,133676.65,147493.7,0.0,0.0,95022.57,0.0,0.0,149713.61,107963.38,0.0,0.0,0.0,0.0,102017.25,0.0,0.0,96674.55,81811.71,79281.61,0.0,122314.39,140733.74,116933.11,165445.04,123805.03,107548.94,111634.29,109153.96,0.0,86055.17,98438.23,0.0,144705.87,0.0,91612.91,0.0,0.0,192122.84,179904.0,178058.06,176166.56,156864.2,0.0,0.0,0.0,161588.89,109349.29,0.0,0.0,0.0,152335.7,124662.54,91522.04,0.0,62052.28,107871.72,99472.76,128039.01,0.0,114634.63,56738.47,90355.12,115725.24,114327.59,100762.64,0.0,89039.9,78829.53,112372.96,122029.15,157829.12,108377.75,95507.12,127146.68,133811.78,121092.47,126979.75,144235.73,152582.2,172478.15,126477.42,97473.87,138053.67,164003.05,0.0,0.0,122486.11,0.0,53667.44,0.0,109327.65,121151.05,101043.63,83501.66,80462.24,0.0,109093.41,140355.6,0.0,130170.82,0.0,109542.29,33563.95,148795.17,0.0,174126.75,0.0,106405.03,0.0,128393.29,127841.52,137295.19,155828.22,0.0,144351.86,106365.29,127801.88,122793.96,113525.84,136100.69,0.0,140916.81,0.0,121365.39,0.0,0.0,93578.68,0.0,115409.6,90791.69,123681.32,92436.86,167194.36,0.0,160838.13,0.0,144470.77,0.0,130169.27,0.0,81076.8,0.0,101465.31,0.0,113865.23,87603.35,120037.96,0.0,121205.15,75408.33,0.0,0.0,0.0,121818.84,0.0,141806.0,61354.14,124954.94,95039.12,103417.74,0.0,43028.77,119638.21,122689.51,0.0,73179.34,171913.87,0.0,92659.2,137239.17,102955.14,65190.29,96863.52,154983.98,106819.65,128578.52,126473.33,110570.78,0.0,0.0,0.0,0.0,111099.79,0.0,100913.57,0.0,16893.59,122267.85,125685.79,127397.34,105271.56,115265.14,0.0,0.0,139542.82,111512.75,148466.93,0.0,108155.49,0.0,84622.13,146997.64,0.0,98590.25,0.0,134980.74,108078.56,0.0,0.0,106836.67,102490.27,112746.54,125487.89,142862.21,0.0,0.0,79388.33,0.0,0.0,107784.65,142880.28,149571.94,142767.39,121537.71,0.0,0.0,89838.71,103399.87,0.0,136855.94,0.0,140891.46,0.0,89364.91,146011.4,0.0,145294.08,106000.12,0.0,0.0,104508.77,127539.3,0.0,96891.46,78535.25,112712.17,119618.42,0.0,74963.5,138023.79,0.0,185513.67,185648.56,102286.6,128015.83,39539.39,0.0,77608.46,141462.13,0.0,131691.33,93833.86,137933.39,105770.14,0.0,0.0,166328.65,164307.77,163965.69,125608.72,0.0,118433.94,98488.08,0.0,98362.35,144237.91,0.0,0.0,105767.28,0.0,0.0,0.0,134467.26,138515.02,128647.98,121858.98,0.0,120108.56,196853.62,121418.62,0.0,0.0,97495.8,0.0,127343.4,158633.61,0.0,183744.98,0.0,0.0,79962.92,0.0,0.0,140956.99,0.0,0.0,145241.63,138008.06,0.0,0.0,0.0,0.0,0.0,127570.93,0.0,107812.67,91560.58,121303.77,161546.68,128415.45,57530.06,0.0,142243.54,138341.51,0.0,0.0,0.0,146466.46,0.0,0.0,0.0,120307.58,87637.26,94652.04,114415.84,0.0,84315.02,0.0,93955.83,67087.69,101528.61,110824.52,0.0,179960.2,134006.77,121532.17,0.0,0.0,129717.3,94762.16,155196.17,129514.99,113386.36,0.0,172196.23,97612.12,104719.94,0.0,139592.98,0.0,139096.85,140301.72,0.0,0.0,111233.09,0.0,147737.63,0.0,125725.02,128289.7,0.0,88826.07,143443.61,0.0,0.0,149134.46,124119.54,116822.7,103219.47,0.0,81954.6,95196.26,0.0,0.0,136555.01,0.0,119452.03,0.0,69881.09,0.0,0.0,0.0,204223.03,110314.21,163760.82,141069.18,115934.74,151457.88,154206.07,89928.99,89182.09,79706.25,0.0,0.0,117799.28,0.0,0.0,146422.22,150186.22,100275.88,0.0,147493.89,0.0,0.0,121823.4,0.0,113688.63,100471.34,100032.52,0.0,116358.0,163549.63,99183.9,131955.07,134177.06,0.0,0.0,0.0,94348.94,155584.21,0.0,0.0,170661.47,185544.36,52831.13,97750.07,114007.5,104308.77,84719.13,0.0,140236.98,0.0,75302.85,0.0,104760.82,0.0,113693.0,174180.39,115766.26,0.0,0.0,121215.9,144677.19,115350.63,105683.63,135179.49,117551.23,157404.02,77910.23,110942.9,0.0,179305.09,150593.59,123815.86,0.0,69385.17,138032.15,0.0,0.0,143500.82,119670.18,99106.73,120135.55,0.0,120905.03,0.0,102277.52,125292.53,0.0,101629.3,171937.27,0.0,0.0,0.0,129743.75,0.0,151191.31,102630.13,114023.64,124227.14,0.0,80285.16,175477.15,132144.35,136911.07,133299.67,0.0,117691.0,0.0,0.0,133199.71,135506.58,127154.14,0.0,49508.79,0.0,75051.49,123925.23,0.0,153819.58,0.0,0.0,70417.79,111484.88,146343.98,160541.0,130274.26,98993.02,0.0,141827.33,110054.45,0.0,0.0,98088.09,118317.27,0.0,99774.5,0.0,0.0,133806.54,0.0,124993.29,157622.58,126111.61,161651.37,142856.95,111100.98,102918.38,0.0,0.0,0.0,125265.61,82500.28,175754.87,109387.33,100443.36,83102.72,0.0,0.0,0.0,115290.27,0.0,140197.71,105245.34,0.0,0.0,142296.13,99097.33,171069.39,0.0,102523.88,0.0,143391.07,106022.73,0.0,128960.21,0.0,0.0,0.0,126442.59,0.0,127261.35,0.0,0.0,0.0,73481.05,160515.37,149525.34,166522.78,135536.5,120481.69,103421.32,135658.73,0.0,191402.82,94504.35,126147.84,0.0,0.0,87624.03,153697.53,0.0,0.0,116585.97,134464.58,83008.31,113635.16,0.0,122552.48,118899.45,99713.87,0.0,134208.22,85906.65,137714.25,160777.9,0.0,0.0,102585.88,102556.18,126772.57,158373.23,0.0,141927.1,109876.82,0.0,111369.79,116969.35,136729.51,152086.15,0.0,127289.28,119852.01,0.0,0.0,0.0,117183.74,129907.63,0.0,145387.32,124616.23,0.0,95808.19,0.0,0.0,117152.3,106250.72,111837.78,97023.21,137687.72,113348.5,122109.78,120452.4,0.0,65812.35,54428.37,0.0,0.0,143279.58,103846.65,125190.86,0.0,38340.02,123802.98,96651.03,0.0,0.0,133237.21,142105.35,166115.42,81070.34,0.0,123835.52,123401.43,169377.31,130015.24,0.0,133936.04,114543.27,119794.67,0.0,0.0,0.0,157138.99,0.0,136733.24,82498.14,151914.93,80090.93,83739.32,181166.44,130588.82,0.0,94126.67,0.0,148045.68,0.0,0.0,168165.84,72835.56,0.0,123212.08,0.0,0.0,119501.88,144550.83,126729.41,119984.07,0.0,0.0,121490.05,91897.8,139443.75,144961.97,126041.02,69459.05,198338.77,0.0,109196.66,134168.5,0.0,0.0,0.0,0.0,120100.41,0.0,0.0,0.0,0.0,0.0,0.0,0.0,0.0,135559.8,150355.35,0.0,133489.12,105489.31,60205.2,0.0,0.0,0.0,0.0,0.0,0.0,112333.63,116936.81,117721.02,165896.22,153656.85,94164.0,0.0,191808.73,152199.33,125396.24,104405.54,133801.49,0.0,0.0,100047.33,109848.6,127849.38,0.0,95947.76,0.0,137638.69,0.0,0.0,0.0,0.0,89416.99,0.0,0.0,143262.04,119656.45,132954.64,105206.7,0.0,83061.26,147650.68,73348.56,0.0,0.0,116320.68,0.0,0.0,0.0,66250.71,95675.62,92616.64,0.0,0.0,100565.94,190305.78,118536.4,127649.64,165358.77,0.0,78249.53,125193.96,0.0,154007.21,133214.88,146202.93,0.0,90963.49,0.0,0.0,114386.85,0.0,0.0,0.0,137260.78,111060.05,124447.73,0.0,0.0,135310.41,0.0,0.0,0.0,139393.19,0.0,104258.8,0.0,113447.01,0.0,111063.73,161378.02,82766.43,0.0,104267.7,91718.8,63488.7,12459.19,159863.9,104592.55,132088.59,0.0,120654.68,0.0,83772.95,172325.67,117685.31,0.0,0.0,0.0,135871.5,0.0,128504.76,0.0,56228.25,98792.4,181768.32,101198.01,0.0,0.0,0.0,139064.06,104508.1,113948.58,0.0,0.0,0.0,117524.72,160389.82,0.0,125547.53,92783.68,97036.22,0.0,0.0,102145.13,113452.66,155681.72,127475.24,0.0,112751.13,0.0,144889.18,0.0,150126.44,69712.74,0.0,0.0,117438.92,119315.75,89571.59,102251.57,118546.71,0.0,103257.14,124209.02,0.0,150302.84,108653.93,85325.93,0.0,135776.36,131411.24,0.0,0.0,106431.97,90305.76,117466.03,148884.47,91115.76,77373.87,104744.89,0.0,91538.51,0.0,185734.75,143396.54,125909.85,0.0,154525.7,0.0,100654.8,83325.77,110934.54,113680.54,117020.08,145359.99,151391.68,123935.35,0.0,70291.02,166031.45,96643.32,0.0,0.0,0.0,0.0,0.0,97268.1,0.0,76296.81,0.0,64497.94,0.0,0.0,0.0,0.0,0.0,0.0,134249.7,0.0,105443.68,0.0,0.0,0.0,86147.46,96939.06,106758.6,112528.65,116563.58,0.0,0.0,141786.78,136416.82,0.0,133245.52,90757.64,92350.36,78778.49,102143.93,0.0,98459.6,114603.76,0.0,148074.79,0.0,108004.64,107712.57,0.0,0.0,145303.52,138476.41,127471.56,156551.63,97092.87,0.0,129312.79,100315.1,81684.97,88827.53,152092.44,0.0,0.0,102406.76,109130.96,0.0,75242.28,0.0,0.0,129142.54,0.0,139129.92,0.0,66483.32,62389.03,0.0,91857.66,0.0,0.0,176173.52,0.0,131834.76,92347.96,0.0,95297.11,0.0,0.0,123845.36,143426.34,0.0,112708.2,100013.51,208165.53,0.0,0.0,0.0,121685.31,111525.02,0.0,113546.3,95696.52,88963.31,144880.34,136576.02,63093.01,132271.12,88814.4,90594.55,141816.25,138547.97,52192.08,124976.19,0.0,104356.38,150315.92,129299.28,140950.92,128065.12,107433.48,117468.67,0.0,0.0,0.0,0.0,153040.03,142084.04,0.0,112079.58,132044.6,66582.81,0.0,0.0,0.0,102895.1,0.0,117578.35,198546.1,0.0,0.0,116623.31,0.0,0.0,0.0,105770.7,0.0,94435.45,112889.91,0.0,127940.47,129745.1,0.0,0.0,141535.52,139914.27,120243.49,91835.16,0.0,67178.19,0.0,115378.94,127786.28,0.0,64900.32,109172.88,0.0,114091.38,0.0,0.0,145933.27,131504.73,107926.02,112281.6,0.0,0.0,0.0,124781.67,132865.56,129055.13,96166.88,165298.12,0.0,120682.53,102773.15,144386.32,104449.8,137102.65,142475.87,0.0,103195.2,112070.44,0.0,96473.59,0.0,108437.89,153195.59,96877.21,0.0,0.0,95452.89,63873.56,148298.59,0.0,143258.85,121342.24,99152.73,0.0,68423.89,0.0,79656.81,0.0,110240.04,125321.84,0.0,84378.9,0.0,136281.41,119380.37,108716.59,0.0,0.0,106596.29,99546.25,0.0,0.0,112615.86,0.0,0.0,0.0,75381.15,0.0,0.0,0.0,123086.39,0.0,0.0,109472.47,155766.05,101985.81,96019.5,0.0,0.0,147900.43,100755.66,0.0,83036.05,125427.37,98202.76,72509.91,140393.65,142644.64,23503.31,145729.71,122295.17,0.0,119799.27,163708.58,61687.33,79144.34,0.0,104848.68,0.0,0.0,0.0,146652.01,0.0,0.0,130622.34,187013.13,0.0,0.0,0.0,98862.54,0.0,98443.14,0.0,0.0,123575.51,0.0,105239.1,110993.79,0.0,157691.98,105245.21,0.0,117687.35,0.0,123067.63,0.0,0.0,101457.14,100549.43,174588.8,121161.57,0.0,90063.74,0.0,134936.97,110495.27,133200.09,82596.8,103837.75,0.0,93590.47,104149.66,114141.64,117153.0,156353.46,175534.78,135637.0,0.0,0.0,0.0,83415.04,141859.12,132767.66,110635.32,177657.35,157777.58,107915.94,86568.75,137755.76,137262.71,0.0,0.0,0.0,116309.01,131244.65,125155.83,140691.08,58820.32,105099.45,0.0,168372.52,94682.56,0.0,0.0,0.0,146329.73,0.0,167962.7,0.0,0.0,0.0,116967.68,0.0,0.0,93244.42,0.0,0.0,0.0,80442.06,150561.03,0.0,125474.44,127076.68,0.0,128650.11,145580.61,0.0,144900.58,0.0,97588.6,0.0,0.0,122200.31,151709.33,0.0,122134.4,137260.45,88594.14,0.0,127205.32,96997.09,0.0,142200.19,160761.41,0.0,0.0,0.0,116234.61,155143.52,0.0,0.0,84009.47,139246.22,170113.0,0.0,145578.28,126273.95,162482.76,0.0,87814.89,113858.95,87612.64,0.0,106648.98,0.0,103653.51,116880.53,97990.49,150635.3,0.0,129674.89,0.0,83568.26,178144.91,147137.74,0.0,114370.41,108289.28,149887.49,170172.9,0.0,0.0,64808.32,62732.65,0.0,95167.55,152508.99,134644.19,0.0,51293.47,0.0,116622.73,0.0,198113.86,85646.81,0.0,141234.98,0.0,77641.99,0.0,117304.29,0.0,92340.69,146780.52,144974.55,0.0,0.0,0.0,115137.26,101952.97,164649.52,0.0,91956.49,0.0,123938.6,123571.77,120777.88,90248.79,0.0,0.0,106396.48,104887.43,72079.71,0.0,0.0,99844.68,0.0,156815.71,146034.74,152283.39,118897.1,96781.39,102772.67,0.0,0.0,150578.0,0.0,0.0,0.0,163548.07,148580.12,96709.07,106011.59,135650.88,111362.76,39344.83,130809.77,133009.51,135337.49,112536.57,122570.69,63562.02,0.0,100368.63,0.0,136082.0,114169.16,47884.92,0.0,0.0,202904.64,0.0,161807.18,110791.97,0.0,108755.0,0.0,0.0,117294.12,102251.14,0.0,0.0,132057.92,0.0,114285.2,0.0,76087.98,160272.27,114552.6,102000.17,0.0,137853.0,0.0,162318.61,140292.58,0.0,0.0,0.0,126431.54,123475.04,97652.96,0.0,137455.99,0.0,99046.31,0.0,105907.42,97720.35,0.0,97392.18,0.0,152812.58,139301.68,76319.64,125919.35,124348.38,117199.8,148384.64,113905.48,133476.09,117879.32,0.0,122359.5,0.0,108585.35,145875.74,121542.57,109508.68,146407.11,0.0,112330.83,90413.12,105302.66,0.0,0.0,121520.36,103960.38,102945.01,92760.55,0.0,134590.21,104255.03,0.0,0.0,0.0,121399.98,147127.81,125927.51,0.0,111599.32,0.0,0.0,114212.6,0.0,115251.64,0.0,107571.61,0.0,152367.21,130969.77,97738.97,0.0,113794.22,128396.33,118207.69,124730.26,0.0,136298.65,0.0,0.0,0.0,125724.95,0.0,0.0,0.0,95872.86,0.0,0.0,74260.03,123407.69,123783.91,0.0,153880.15,0.0,106301.85,0.0,0.0,138076.47,135422.31,0.0,126875.62,96381.68,119703.1,152102.18,127675.39,133776.86,72788.03,76226.9,163630.76,0.0,0.0,155423.17,98710.89,0.0,126683.8,140700.61,168078.83,107726.93,0.0,0.0,35741.69,98268.84,133800.98,125682.79,0.0,130428.78,0.0,0.0,0.0,137138.2,73112.95,152347.01,115144.68,0.0,137817.52,157332.26,0.0,124586.93,116980.78,128398.38,0.0,137657.25,167259.44,0.0,119009.57,80002.33,140211.88,118742.74,138207.08,148636.21,178827.79,83134.3,121513.31,95900.04,112543.42,0.0,141751.82,124140.57,116546.59,0.0,157576.47,0.0,141428.99,127510.99,0.0,0.0,81818.49,100895.54,63832.43,0.0,116085.06,0.0,0.0,115761.51,0.0,139626.01,0.0,115576.44,0.0,77647.6,0.0,148962.46,0.0,0.0,80542.81,0.0,0.0,102050.47,0.0,114948.76,136000.45,156001.68,147974.16,0.0,90402.77,0.0,0.0,0.0,162701.65,0.0,0.0,82453.96,100107.99,0.0,83348.89,96553.52,201009.64,125167.74,0.0,153313.67,0.0,125879.29,170057.62,0.0,131326.47,128472.8,160485.16,84445.68,115409.18,62400.48,143054.56,133628.09,107135.04,0.0,151659.52,0.0,155903.82,82940.25,112650.89,0.0,95853.39,82228.67,0.0,163700.78,106328.08,152992.91,116439.65,101352.78,0.0,105609.17,0.0,0.0,103894.38,139834.93,112518.71,115895.42,146408.68,165363.31,0.0,71843.15,105492.53,183027.25,131968.57,104118.5,0.0,125023.1,74323.2,109346.13,0.0,109698.41,0.0,127758.09,102645.48,93249.4,0.0,87779.83,0.0,138131.34,70362.52,0.0,168286.58,86102.27,115142.9,126597.89,0.0,157989.21,187997.15,172192.49,133105.47,0.0,0.0,0.0,192407.97,107199.75,115796.7,164858.18,117633.28,0.0,0.0,126663.51,140273.47,0.0,153344.72,123943.18,0.0,98630.31,58036.33,0.0,109200.74,0.0,0.0,0.0,83173.98,0.0,0.0,82559.42,73494.21,132450.24,128663.9,79951.9,132508.3,120530.13,74988.59,94722.88,0.0,71269.89,98612.1,138033.55,91621.69,140014.42,126815.97,139663.37,0.0,165312.27,0.0,0.0,123699.28,97325.15,97041.16,0.0,104129.24,0.0,104367.5,135369.71,112119.48,123760.68,0.0,0.0,0.0,0.0,0.0,0.0,0.0,152160.21,0.0,0.0,0.0,172381.8,106116.56,141952.07,0.0,138497.84,0.0,124213.36,126872.6,0.0,0.0,120923.52,142643.54,79857.64,95502.21,0.0,197715.93,85859.76,85304.27,132371.3,0.0,0.0,79896.0,0.0,0.0,0.0,146587.3,0.0,0.0,109109.33,0.0,0.0,142147.32,0.0,0.0,0.0,109106.8,112262.84,0.0,0.0,144238.7,159397.75,125385.01,69365.25,155271.83,197200.04,144837.79,0.0,0.0,163085.79,125903.22,154377.3,107511.52,127406.5,143656.55,138106.75,128940.24,114453.58,0.0,0.0,131762.94,0.0,150300.65,108935.39,135847.47,109908.06,142946.18,104339.11,157274.36,98848.19,105103.33,0.0,127120.62,0.0,129118.5,0.0,0.0,146053.66,124577.15,151012.55,216109.88,144318.97,0.0,0.0,27517.15,147092.65,92246.14,0.0,148897.02,0.0,0.0,138335.96,92895.56,160736.63,0.0,0.0,107141.27,0.0,132446.08,92053.0,96798.79,134498.54,132387.91,147171.2,100524.69,0.0,138214.5,0.0,0.0,0.0,128743.55,122647.32,79263.9,0.0,121389.78,123906.55,143006.7,157597.61,127117.8,117103.26,102989.83,145118.83,126076.24,0.0,0.0,98186.7,0.0,0.0,0.0,129335.65,75801.74,0.0,159316.64,96479.81,117726.33,0.0,122351.29,0.0,0.0,0.0,0.0,132598.38,119272.29,0.0,0.0,106415.57,0.0,127772.1,104631.67,0.0,0.0,118050.79,0.0,136093.74,88477.36,161572.24,126608.37,68332.96,179852.26,0.0,104763.41,88541.57,162888.73,0.0,0.0,0.0,0.0,0.0,0.0,92474.05,0.0,115479.48,87098.91,86351.85,0.0,148843.56,163714.52,0.0,94153.56,162702.35,129255.2,90605.29,0.0,102787.42,120145.96,63723.78,159203.71,0.0,0.0,0.0,0.0,162691.16,127806.91,157960.49,139493.25,87096.82,84944.58,160139.59,0.0,0.0,0.0,0.0,94615.11,90727.79,119545.48,118311.76,129574.98,148163.57,117154.9,154251.67,0.0,65667.79,0.0,50194.59,96748.89,0.0,132667.17,0.0,127087.06,125566.9,106074.89,137367.94,157658.36,114422.85,103154.66,0.0,149592.14,133903.12,84587.9,197436.82,104254.27,140133.08,0.0,136980.23,120568.41,43658.33,0.0,0.0,72092.95,0.0,0.0,181821.96,90920.75,0.0,0.0,0.0,0.0,0.0,94920.71,113939.36,0.0,0.0,110666.42,0.0,141819.02,156974.26,151215.34,116318.23,113882.33,0.0,127253.98,100062.39,0.0,126605.14,106942.08,0.0,88594.93,123737.04,110752.15,0.0,0.0,0.0,0.0,0.0,125889.3,78314.63,206329.65,145536.9,77082.65,145081.73,115897.73,108058.07,191523.09,0.0,91187.9,0.0,113958.55,147167.25,82916.48,0.0,0.0,57098.96,115341.19,165257.2,0.0,0.0,68799.72,116120.19,0.0,84102.11,0.0,0.0,0.0,0.0,104013.79,120822.86,128389.12,102800.72,135470.9,90145.04,0.0,161801.47,99660.13,123081.84,102870.93,151105.68,163856.76,0.0,127290.61,180614.04,55053.62,96110.22,106521.49,82255.51,0.0,102395.79,118201.41,44582.07,0.0,0.0,105522.06,123936.54,0.0,119499.42,135814.7,0.0,106259.63,0.0,115463.16,0.0,120233.83,0.0,81132.21,122196.99,112290.22,0.0,0.0,154409.74,0.0,132759.8,76705.87,0.0,0.0,0.0,125961.74,49572.73,103015.12,0.0,104001.38,87116.71,82547.11,0.0,121325.84,111167.7,139714.4,139875.2,113063.83,138340.06,114974.24,0.0,0.0,117325.54,0.0,0.0,0.0,0.0,0.0,0.0,0.0,78737.61,182876.88,130023.38,152606.82,0.0,167268.98,167831.88,144287.6,151855.33,0.0,0.0,155994.15,147527.03,0.0,100267.03,83287.05,0.0,0.0,117438.17,121235.05,129965.18,150836.92,0.0,163894.35,0.0,0.0,0.0,87967.42,0.0,0.0,121093.29,121691.54,0.0,154121.32,0.0,0.0,0.0,165048.5,0.0,127638.35,0.0,135290.42,170252.05,108269.2,0.0,145623.36,145809.53,130334.84,0.0,0.0,0.0,0.0,111009.32,0.0,157371.54,0.0,134560.62,0.0,72373.62,109564.1,132116.13,101195.23,149436.73,130682.11,115280.49,129944.39,0.0,0.0,151802.29,0.0,138731.95,155621.08,150005.38,0.0,64430.06,106261.63,0.0,132670.53,0.0,117314.92,145874.35,146777.44,109978.83,0.0,108881.73,0.0,112957.26,103362.14,89015.61,133618.01,93680.43,97486.15,137794.18,101928.51,0.0,0.0,79585.96,161884.99,129068.54,0.0,132623.76,121461.87,175307.32,136658.61,146584.19,0.0,131414.76,0.0,99441.21,0.0,0.0,0.0,181110.13,100476.46,51949.95,121063.49,88441.64,127023.39,144147.68,173306.13,0.0,106425.75,135392.31,0.0,152685.4,82083.52,131629.17,0.0,108477.27,114779.35,57568.94,0.0,0.0,0.0,110559.46,0.0,0.0,0.0,128152.82,120961.5,129472.33,105000.23,109339.17,55328.4,72012.76,110480.48,132439.99,0.0,94108.54,105173.99,0.0,131959.86,0.0,122952.9,107379.68,122641.56,0.0,124037.28,117565.03,133189.4,120252.02,152264.81,105069.98,115076.06,0.0,117280.23,110540.43,135095.47,187861.18,124655.59,0.0,134105.01,0.0,0.0,83693.34,114631.23,128601.98,91258.52,70416.75,0.0,0.0,0.0,88294.6,0.0,93577.3,136650.89,98765.84,84309.57,136258.06,0.0,131160.85,145222.99,98141.57,0.0,102282.61,116121.84,190066.54,149349.58,155176.83,98986.28,147726.98,0.0,144852.06,89299.81,0.0,97663.16,95161.75,154586.92,127095.14,92526.15,107362.8,0.0,127286.04,0.0,0.0,139930.18,77949.69,121405.04,124580.69,133087.76,0.0,0.0,0.0,103741.14,98877.95,105843.26,77526.66,0.0,0.0,105264.88,0.0,110150.43,0.0,0.0,0.0,138166.3,122265.24,133295.98,0.0,148326.09,68927.57,139914.6,118723.11,106957.28,190238.93,113537.73,101090.27,0.0,0.0,0.0,168920.75,111589.67,172310.33,118028.35,147910.3,131287.36,121276.32,109869.32,97435.85,0.0,133853.27,109528.16,84607.34,101438.0,0.0,113657.83,189318.16,99513.91,97585.32,0.0,0.0,136659.74,85755.86,0.0,0.0,51690.89,0.0,111669.68,154741.45,125681.51,155303.71,140681.68,71902.52,146606.6,123949.75,144753.21,91285.22,0.0,125850.53,108116.66,0.0,67639.56,150200.23,141287.15,0.0,0.0,0.0,97157.96,0.0,125241.17,128966.13,152581.06,0.0,142688.57,130089.56,0.0,117094.02,0.0,0.0,0.0,90218.9,194532.66,169743.83,0.0,155973.88,129321.44,138650.49,136487.86,0.0,38617.2,0.0,82909.14,145151.4,147187.84,0.0,108185.81,0.0,0.0,0.0,105918.1,0.0,0.0,0.0,59972.26,157228.61,0.0,0.0,210433.08,102452.71,0.0,142987.46,143330.56,0.0,120165.4,0.0,0.0,66573.17,102833.46,164757.56,153610.61,0.0,0.0,169025.83,153455.72,0.0,153972.89,114609.55,143625.83,116520.28,80926.02,166594.78,115465.98,0.0,0.0,92618.62,141825.88,149594.02,130051.66,0.0,0.0,158468.76,161889.79,133681.78,0.0,187294.46,0.0,0.0,119706.22,0.0,138523.2,90778.76,99353.42,111524.49,128645.67,117458.51,129189.15,121260.19,94231.13,0.0,163757.06,0.0,0.0,141005.47,105356.09,0.0,85897.95,0.0,164672.66,99169.67,0.0,0.0,124053.03,0.0,103499.09,151766.71,0.0,101486.96,123601.56,127201.58,144962.74,0.0,122017.19,100262.88,117302.62,135984.15,0.0,160997.54,128389.63,0.0,130554.51,90212.0,71996.29,85615.66,62339.81,142319.03,0.0,0.0,87413.19,0.0,0.0,97560.16,141787.31,129934.64,166178.02,163097.55,0.0,0.0,151958.19,0.0,118400.91,0.0,116322.27,0.0,0.0,143138.91,0.0,0.0,129804.17,108308.11,110153.27,116377.48,117791.06,0.0,105419.73,99219.47,119327.93,83947.12,99883.16,165438.26,156111.24,111095.58,119963.45,0.0,153137.74,156111.08,113014.7,132615.73,102016.38,0.0,0.0,0.0,0.0,80380.24,108909.12,90865.8,99799.76,200724.96,140363.95,151844.64,0.0,133231.48,0.0,126598.99,113317.1,0.0,93173.88,0.0,105007.31,0.0,0.0,131593.85,119530.52,118614.6,95829.13,0.0,0.0,153590.73,0.0,113109.52,130557.24,93183.19,151933.63,125495.64,0.0,118547.72,97792.21,0.0,0.0,167181.01,121355.19,0.0,0.0,113226.47,118392.75,145262.54,163505.16,118114.28,108449.23,0.0,103294.56,0.0,0.0,0.0,119919.12,0.0,0.0,0.0,0.0,0.0,0.0,0.0,128744.04,137727.34,106731.58,123544.21,133968.96,126534.6,0.0,87609.68,0.0,0.0,0.0,108960.0,0.0,144953.31,103544.88,0.0,0.0,101487.18,105355.81,77967.5,0.0,0.0,120047.77,175464.85,79475.3,167735.69,0.0,74385.98,94754.0,0.0,86920.86,132077.48,127847.86,0.0,176702.36,83555.58,0.0,0.0,0.0,0.0,96858.35,0.0,0.0,132796.04,154970.54,88902.21,98738.92,0.0,0.0,137456.28,0.0,73937.02,158621.04,113257.2,0.0,116536.43,0.0,101070.69,0.0,127331.46,0.0,0.0,105969.42,119547.46,0.0,138668.18,51582.5,0.0,169902.92,87262.4,0.0,0.0,0.0,0.0,0.0,0.0,0.0,0.0,150348.37,115074.02,0.0,99986.98,110357.0,166685.92,95312.8,202443.47,109493.62,88977.39,104982.57,154110.99,185714.28,116022.53,0.0,164011.48,0.0,101514.89,0.0,0.0,134599.33,147511.26,78396.08,0.0,110581.29,151836.36,83624.55,148197.15,122924.75,72594.0,115221.36,117808.74,147754.68,0.0,113292.17,0.0,115163.38,118098.62,0.0,0.0,120825.7,0.0,0.0,133845.28,0.0,108541.04,0.0,0.0,113817.06,137300.23,158024.38,127837.54,161533.0,161171.7,80958.36,0.0,146193.6,0.0,115021.76,126773.43,92889.91,0.0,146622.35,131038.14,88820.29,115406.97,132951.92,108891.7,141788.63,116954.32,90450.0,125997.22,0.0,0.0,0.0,144637.86,86616.35,0.0,127924.25,0.0,131240.61,0.0,120046.74,97819.36,62979.93,0.0,161450.03,0.0,119496.25,0.0,43772.66,100249.41,0.0,108028.08,53013.29,0.0,122088.67,90544.0,0.0,141252.18,147813.05,134140.68,0.0,0.0,128548.49,122198.21,145177.84,94222.53,143212.22,0.0,143350.41,130931.83,137851.31,0.0,0.0,0.0,140614.15,118680.57,122917.69,0.0,131754.11,0.0,0.0,119948.09,0.0,0.0,0.0,97266.1,113690.83,99056.22,0.0,116338.68,97339.99,0.0,137592.31,108760.27,128770.88,0.0,44054.84,119657.53,108797.63,0.0,102025.32,122446.61,158786.67,125689.29,154640.41,146710.76,136709.35,129305.09,0.0,0.0,82844.33,0.0,0.0,76692.22,117715.84,87105.32,0.0,69311.16,0.0,66948.67,0.0,128410.71,99897.53,0.0,152622.34,0.0,138227.19,111395.53,84386.57,0.0,174673.65,0.0,109019.65,107906.75,128914.97,111179.83,124099.13,122471.09,134692.4,123816.5,106288.54,127723.25,145843.82,148200.72,104145.65,142755.25,81245.79,168560.46,0.0,132193.94,0.0,139330.1,0.0,0.0,134571.5,143829.2,0.0,133444.97,104753.84,116574.84,0.0,176914.8,68348.18,0.0,56726.83,65269.23,66220.17,0.0,96147.55,0.0,0.0,145330.43,0.0,124192.28,111288.18,107805.67,103700.69,0.0,0.0,87739.08,133313.34,0.0,154902.66,0.0,112595.85,119695.75,0.0,0.0,152614.51,131647.01,96654.72,137583.04,62717.84,95377.13,135936.1,161591.11,142382.03,0.0,0.0,127043.09,0.0,78885.88,95922.9,0.0,91711.59,110031.09,81210.72,122947.92,182065.85,0.0,69974.66,123711.73,76495.04,0.0,0.0,121874.89,0.0,188455.19,99045.93,0.0,205770.78,79340.95,138456.03,0.0,101099.9,0.0,109219.83,123276.69,113034.31,0.0,129548.5,74812.84,0.0,0.0,153538.13,0.0,0.0,155619.36,159693.9,171653.17,47685.47,0.0,0.0,123692.0,148853.29,133161.95,143221.35,0.0,0.0,0.0,126265.88,0.0,112713.34,141173.03,0.0,0.0,118866.36,0.0,0.0,92316.31,122185.53,123345.85,73070.18,0.0,95120.59,102800.65,97072.42,132876.55,0.0,0.0,0.0,0.0,51962.91,98759.89,156570.86,0.0,159024.71,73493.17,0.0,69617.36,136526.26,113736.27,106723.28,138847.9,0.0,107868.14,96926.12,77599.23,178787.54,0.0,129668.43,146178.13,0.0,0.0,154763.21,116251.24,0.0,100954.88,124620.01,0.0,112701.04,84692.5,108204.52,86449.39,0.0,73194.99,124593.23,119655.77,121765.37,110837.73,99835.17,91057.37,0.0,149400.27,89111.63,132527.9,114997.42,161798.53,96129.32,0.0,133050.97,120124.35,0.0,133705.74,0.0,0.0,152805.05,151701.45,0.0,112465.06,156007.09,132405.52,142662.68,102603.3,0.0,0.0,105000.85,0.0,69518.95,126145.54,138937.35,113581.98,112572.39,114514.71,0.0,0.0,84906.45,126816.18,105249.76,0.0,109387.9,122478.51,137732.23,157866.77,0.0,136789.14,0.0,144684.03,107065.31,91301.72,207034.96,0.0,0.0,0.0,0.0,0.0,0.0,0.0,92472.1,0.0,127738.75,101242.98,92599.55,0.0,0.0,82373.94,141356.47,0.0,72664.0,123365.34,121898.58,0.0,103696.97,0.0,74129.18,0.0,185379.02,118087.68,109402.13,130367.87,108410.87,90408.16,90425.15,140094.59,0.0,95439.4,204017.4,0.0,137115.16,134740.19,0.0,98955.87,49157.09,130240.33,108019.27,126725.25,96693.66,129810.6,156652.13,0.0,130661.96,0.0,0.0,130747.1,106629.49,112029.83,130575.26,96679.71,0.0,171740.69,0.0,100116.67,120596.93,0.0,95984.69,142557.11,0.0,0.0,143644.16,132129.72,0.0,183555.24,91902.56,156218.19,93259.57,168085.38,107714.74,117852.26,0.0,84474.62,0.0,126803.34,0.0,68806.84,115141.18,0.0,90723.36,151249.45,0.0,94752.49,0.0,0.0,132084.66,0.0,0.0,45472.28,0.0,130229.71,123948.85,127415.85,110067.71,65521.2,0.0,0.0,155736.42,0.0,118307.57,0.0,103099.17,0.0,125789.69,109646.83,127187.86,0.0,0.0,130385.82,107787.47,99325.04,0.0,123764.95,128264.03,86006.21,57068.43,103607.24,99004.24,0.0,147386.72,93608.28,0.0,119496.87,0.0,0.0,0.0,152885.77,99607.37,137003.68,122831.58,99811.44,154712.58,0.0,147687.24,0.0,127009.83,124737.96,179356.28,0.0,127320.36,125175.58,186788.96,148556.74,128644.46,127476.73,159561.93,112419.92,129991.76,0.0,0.0,0.0,89175.06,0.0,162390.52,190353.08,0.0,0.0,139180.97,114435.47,149950.19,126115.6,111396.97,115007.08,102141.9,133686.52,120879.73,0.0,82321.88,0.0,116474.28,132352.69,182491.57,0.0,120787.18,130181.47,88348.43,0.0,146186.28,0.0,104488.17,109196.67,80538.56,109026.8,61319.63,0.0,0.0,177822.03,110939.3,165413.43,77805.66,0.0,175575.95,124197.22,0.0,160132.75,70258.88,162657.64,132217.45,148042.97,92855.02,129289.98,100252.18,107592.89,113096.41,0.0,149940.04,121438.58,0.0,0.0,148874.01,68138.37,110080.3,0.0,114268.85,117412.35,0.0,0.0,35549.81,0.0,136492.92,123675.69,139532.34,178713.98,0.0,89086.31,96143.47,32197.64,0.0,0.0,0.0,0.0,140306.38,0.0,0.0,74483.97,0.0,0.0,152303.66,159904.79,0.0,99557.94,116886.59,142188.2,149961.99,0.0,0.0,0.0,28649.64,81025.6,0.0,152462.79,0.0,155519.59,118851.05,92899.27,0.0,75263.7,147904.31,106640.5,90696.78,175509.8,0.0,0.0,114321.28,95560.04,88379.81,85915.52,72309.3,0.0,0.0,0.0,0.0,0.0,133844.22,154872.08,0.0,116121.67,107104.5,71026.77,0.0,0.0,0.0,0.0,0.0,145644.05,129667.77,109341.87,0.0,0.0,0.0,87485.67,0.0,53369.13,0.0,146679.77,112499.42,48387.0,68079.8,160133.88,66190.33,0.0,123761.68,122325.58,0.0,138912.17,0.0,128524.19,0.0,0.0,132934.89,150805.17,0.0,0.0,165969.26,124495.98,141559.5,114756.14,0.0,155393.98,0.0,128663.81,113522.64,0.0,0.0,79035.95,0.0,141918.09,107944.33,0.0,120043.13,125191.69,96399.31,0.0,76961.6,98675.74,126817.13,121394.42,106059.4,112755.34,0.0,0.0,145400.69,72647.64,0.0,96340.81,0.0,124450.36,113877.23,0.0,148667.81,0.0,111065.93,0.0,158697.61,0.0,0.0,90044.32,84651.79,102128.27,148846.39,154953.94,108883.29,112070.86,131354.39,132746.2,0.0,125211.55,0.0,139422.37,0.0,157099.47,0.0,83600.24,0.0,81795.74,129378.32,0.0,0.0,99339.0,0.0,74430.1,91241.85,99092.45,0.0,100062.16,98723.67,0.0,128760.32,144772.69,0.0,71281.29,117035.89,0.0,3768.69,108913.84,101100.22,110615.47,152143.89,121797.09,109798.25,122403.24,145860.98,0.0,0.0,105086.74,114991.45,96769.04,0.0,0.0,132725.1,0.0,0.0,0.0,84557.82,93817.41,113913.53,140406.68,105229.34,0.0,137891.35,0.0,0.0,165252.52,0.0,0.0,0.0,122034.4,0.0,118962.58,0.0,71379.53,171178.25,131307.11,0.0,87099.85,183135.39,0.0,0.0,0.0,0.0,72535.45,128137.42,0.0,115915.53,0.0,0.0,107000.49,0.0,0.0,152806.74,92887.06,0.0,114940.67,140641.26,71816.74,0.0,165282.42,143145.87,114731.76,113909.69,116695.27,0.0,0.0,0.0,93978.96,121968.11,97324.91,0.0,0.0,0.0,145155.37,137222.77,0.0,114268.22,0.0,0.0,150490.32,160858.13,170288.38,111568.01,83889.03,171982.95,0.0,137624.4,121159.65,0.0,0.0,91184.01,0.0,144027.8,0.0,140170.61,62092.9,0.0,0.0,0.0,103516.87,0.0,0.0,0.0,0.0,85162.26,143061.88,0.0,137388.01,137712.01,106901.42,105603.21,150679.71,108300.27,52016.08,60515.13,158584.28,118812.5,0.0,0.0,91219.29,0.0,76318.64,0.0,0.0,111432.13,150148.51,38550.06,119013.86,111213.64,71097.23,109632.85,148368.02,148600.91,71083.98,139625.34,0.0,0.0,81564.1,0.0,124540.28,133616.39,101648.5,124281.84,0.0,0.0,183613.66,136186.44,137682.68,106005.54,152310.55,0.0,134446.04,142289.28,0.0,0.0,149003.76,131341.46,77919.78,0.0,108309.0,0.0,0.0,115462.02,0.0,122739.1,0.0,113781.5,0.0,0.0,128284.45,120591.19,0.0,166968.28,0.0,0.0,0.0,71667.97,82729.47,0.0,0.0,0.0,129626.19,114035.39,151922.94,0.0,107751.68,0.0,101179.23,0.0,0.0,0.0,58571.18,153058.64,98270.34,130788.71,99165.84,0.0,0.0,115636.05,185932.18,72549.0,0.0,0.0,0.0,121890.06,99786.07,0.0,115084.53,0.0,127661.69,118907.6,77627.33,160625.17,0.0,124266.86,127974.06,0.0,0.0,104911.35,0.0,0.0,110646.54,0.0,126704.49,0.0,84560.04,0.0,129893.56,167385.81,0.0,105858.71,123070.89,0.0,0.0,0.0,125141.24,96173.17,0.0,0.0,0.0,127543.11,0.0,0.0,103101.56,126113.28,40488.76,137389.77,85146.36,129828.58,80214.36,0.0,141796.43,195238.29,111348.15,0.0,0.0,64404.26,154309.67,129431.36,134204.67,0.0,0.0,0.0,116711.06,0.0,54980.81,99773.85,101231.77,117070.21,73314.04,0.0,212314.03,136067.82,109052.04,79126.17,0.0,108308.0,102290.56,102025.08,113383.07,102541.1,0.0,0.0,109941.51,141749.68,0.0,0.0,85146.48,134066.1,0.0,0.0,87619.29,0.0,0.0,0.0,103409.16,123040.38,108128.52,169023.33,0.0,0.0,0.0,222267.63,144090.42,114835.43,0.0,145030.92,71240.3,138772.15,93617.07,0.0,0.0,74237.2,127421.78,61274.7,106486.66,73194.52,146498.76,0.0,0.0,0.0,120355.0,117265.21,0.0,0.0,109974.22,98009.13,0.0,0.0,171671.9,0.0,0.0,128213.96,116197.65,0.0,86607.39,0.0,98854.34,0.0,0.0,97338.19,0.0,0.0,131698.57,130110.45,0.0,165149.13,101707.8,105588.66,111336.89,78391.17,0.0,0.0,144326.09,101278.25,108711.57,108555.07,146781.24,0.0,0.0,0.0,0.0,103291.25,209490.21,0.0,0.0,0.0,0.0,0.0,149405.18,191665.21,0.0,135071.12,0.0,0.0,181804.34,47020.65,128518.98,142658.04,120150.39,81905.95,137998.2,123126.29,0.0,135645.29,122449.31,161766.87,0.0,123187.51,150956.71,105021.28,0.0,133204.91,0.0,115488.52,0.0,0.0,0.0,0.0,130565.02,91328.71,0.0,81310.34,107136.6,0.0,0.0,0.0,108477.49,144757.97,0.0,113110.26,106414.57,106920.91,0.0,131513.26,0.0,134320.23,79715.36,74306.19,0.0,126428.38,99640.89,66338.68,0.0,128226.37,0.0,0.0,0.0,0.0,122168.65,178074.33,135078.41,69434.4,0.0,0.0,122726.56,164496.99,0.0,150219.41,187534.79,0.0,0.0,103108.17,96486.57,90560.48,131764.96,92476.88,152076.93,0.0,0.0,43504.42,0.0,0.0,93569.86,102486.21,0.0,114346.3,110203.77,128362.59,143888.22,170600.78,0.0,0.0,75339.64,122038.34,0.0,186825.57,124788.18,0.0,0.0,138553.57,0.0,105387.89,95053.1,0.0,0.0,137361.96,158537.42,0.0,143595.87,169947.41,148167.83,0.0,48023.83,155655.46,0.0,0.0,0.0,121240.76,0.0,0.0,129847.75,118772.71,0.0,105163.88,0.0,0.0,0.0,93934.63,117866.92,0.0,122857.46,0.0,127103.97,0.0,96402.96,132512.26,107604.66,0.0,0.0,120875.23,71786.9,113143.12,150777.72,174894.53,0.0,160416.56,91246.53,0.0,0.0,98775.23,139756.12,177626.77,0.0,0.0,0.0,152496.82,0.0,112930.28,113674.2,0.0,144450.58,171236.3,96776.49,145984.92,96353.8,0.0,115777.23,122822.0,0.0,0.0,79450.09,122394.0,0.0,134378.89,0.0,88161.85,142412.13,121030.9,165982.43,0.0,206663.75,94661.53,174400.36,123428.69,175735.5,78381.13,115345.86,118613.34,109960.06,142703.4,121729.42,0.0,139496.35,0.0,138521.83,0.0,83727.68,0.0,0.0,124179.3,128829.25,171490.78,0.0,0.0,0.0,0.0,160818.08,156367.6,121669.93,133970.22,0.0,96127.27,121907.97,0.0,0.0,77701.64,0.0,0.0,113922.44,183997.7,0.0,0.0,89799.46,0.0,85660.96,115569.21,81828.22,132694.73,108867.0,0.0,0.0,96152.68,153855.52,0.0,141334.95,104584.11,98173.02,0.0,135157.05,171601.27,179539.2,80615.46,0.0,126285.73,137964.51,159434.03,113574.61,0.0,124573.33,105864.6,104552.61,0.0,0.0,0.0,119492.88,130499.09,140576.11,91025.58,0.0,125877.65,45752.78,121778.71,127948.57,0.0,115286.68,62078.21,0.0,175406.13,131643.25,151739.65,93616.35,138597.54,0.0,0.0,85225.21,148749.29,130013.12,0.0,0.0,111729.47,180169.44,0.0,0.0,0.0,0.0,0.0,103914.17,88772.87,0.0,131184.67,117810.79,0.0,92466.21,102741.15,178755.84,0.0,146602.25,0.0,0.0,115702.67,137655.31,0.0,59877.33,100082.14,107304.39,0.0,96032.22,0.0,144553.5,86172.81,0.0,87212.8,0.0,130700.92,0.0,0.0,0.0,171325.98,92930.92,0.0,77556.79,102874.28,146093.39,0.0,79811.72,105473.74,121927.92,61671.19,149363.12,152309.37,0.0,111629.29,0.0,96296.78,95830.43,135919.33,185966.64,0.0,0.0,92244.83,112727.06,100359.54,105301.5,112994.65,89025.88,95478.17,0.0,119127.46,128206.79,0.0,71433.08,118214.32,102258.11,151963.26,163764.84,128551.36,118158.74,118520.41,0.0,163823.37,104469.58,0.0,0.0,141726.88,137852.96,0.0,154100.3,0.0,0.0,0.0,140004.96,127132.96,0.0,125328.56,0.0,139986.65,119787.76,107556.06,0.0,0.0,142705.95,0.0,0.0,161613.94,116353.2,60013.81,0.0,144272.07,0.0,117696.67,79954.61,149989.39,124339.9,135759.4,0.0,83074.0,141792.61,0.0,0.0,106870.12,120962.59,0.0,0.0,110527.17,133723.43,112670.48,0.0,116084.32,0.0,0.0,0.0,82441.75,0.0,134171.8,0.0,0.0,124442.38,0.0,0.0,108862.76,141099.43,128843.67,86843.61,120074.97,130231.8,0.0,109724.38,111743.43,121309.17,82697.28,44301.43,138317.94,120688.61,176913.52,89047.14,114318.78,0.0,94753.55,0.0,0.0,106520.73,134006.39,132837.7,120549.29,139432.55,80895.44,0.0,171646.76,109121.71,109844.81,140931.82,0.0,0.0,101543.51,102708.77,149000.91,83459.86,75893.11,167395.6,0.0,71283.09,0.0,0.0,104016.88,127616.56,154737.88,0.0,125476.31,176511.08,110783.28,141642.92,0.0,0.0,75681.52,0.0,0.0,161111.45,0.0,72494.69,133964.3,0.0,0.0,157201.48,95679.29,106230.92,0.0,81231.85,81480.27,73059.38,117559.05,186445.31,137657.71,133889.35,134562.8,100781.75,174356.13,190125.43,146266.0,164046.1,123536.52,0.0,171848.38,0.0,139562.05,0.0,168001.34,0.0,123356.63,0.0,125845.66,45408.85,125977.81,147262.11,133767.19,108806.96,106036.52,0.0,0.0,0.0,82182.1,0.0,76817.0,142550.25,0.0,103711.56,0.0,128369.75,0.0,0.0,166133.28,148214.36,121206.96,0.0,127552.85,159458.53,102085.72,142537.18,182781.74,0.0,0.0,0.0,152063.59,110997.76,148942.0,0.0,84438.57,93920.47,158713.08,0.0,123204.88,72945.29,178742.71,0.0,0.0,0.0,0.0,0.0,140121.17,132906.88,179334.83,137179.39,0.0,119960.29,127414.55,0.0,137409.19,0.0,0.0,0.0,112494.99,78133.15,0.0,145553.07,123593.22,0.0,146286.22,111827.27,0.0,94416.78,91549.78,59568.57,94464.81,0.0,95368.14,102185.42,144875.71,0.0,0.0,113291.05,0.0,0.0,111677.88,131101.04,76101.81,0.0,92510.9,0.0,77652.4,98360.03,115518.07,27288.43,0.0,0.0,0.0,131996.66,121580.42,132436.34,0.0,107978.4,78119.59,98684.15,0.0,0.0,129264.05,131753.41,0.0,0.0,57422.62,0.0,144094.2,147510.34,161592.76,0.0,0.0,75225.53,0.0,87542.89,144581.96,122568.05,172231.93,171932.26,0.0,0.0,111798.06,0.0,79336.61,120916.52,142905.51,0.0,96834.78,105261.76,123544.0,127913.71,95328.6,73218.89,0.0,149995.72,123674.28,124125.26,159035.45,0.0,156811.74,0.0,0.0,150555.83,109137.12,158351.02,0.0,0.0,0.0,0.0,0.0,0.0,0.0,0.0,82729.49,142765.24,121172.97,132932.14,123374.46,161371.5,0.0,79563.36,0.0,138232.24,0.0,81571.05,0.0,95927.04,116932.59,0.0,79551.12,116416.94,88141.1,177729.13,0.0,123912.78,0.0,0.0,108306.44,102962.62,103502.22,119654.44,183768.47,0.0,0.0,140900.97,94049.92,98926.4,142872.36,46057.96,119769.77,143244.97,79562.98,0.0,0.0,96659.64,0.0,165947.99,92676.3,83195.12,129387.94,0.0,130233.14,123502.53,140894.06,163867.86,0.0,93816.7,0.0,0.0,114668.89,146756.68,150213.71,111183.53,99816.46,0.0,0.0,0.0,0.0,0.0,86714.06,0.0,132838.07,128707.31,0.0,0.0,123192.12,115248.11,59360.77,0.0,112668.7,138503.51,0.0,0.0,0.0,0.0,157267.95,133871.05,141989.27,0.0,0.0,46388.16,148666.99,115101.5,148363.38,0.0,144102.32,128876.71,118448.15,0.0,0.0,0.0,135979.01,117271.8,0.0,0.0,0.0,129205.49,0.0,0.0,104015.54,0.0,0.0,103873.39,112383.03,117731.79,135827.33,114135.17,0.0,118756.62,98382.72,100520.92,79858.13,0.0,95052.29,177728.55,83116.68,111565.91,83015.71,124511.01,130652.52,0.0,0.0,121854.45,0.0,86893.28,79523.13,131033.76,89939.62,95727.05,0.0,155047.56,0.0,118569.03,0.0,0.0,0.0,0.0,130461.02,0.0,0.0,0.0,0.0,61172.04,90194.34,95508.2,99967.76,101470.29,70541.06,112211.61,154543.98,111098.85,131873.07,137275.36,153316.14,0.0,121250.04,109578.04,53573.18,58003.41,113000.66,0.0,0.0,139973.65,151290.16,121498.11,103515.39,0.0,0.0,106687.76,0.0,0.0,106089.2,69608.14,0.0,96202.32,0.0,0.0,127818.52,0.0,137318.42,0.0,55776.39,84421.62,83161.65,0.0,87807.29,0.0,0.0,0.0,95293.86,92847.59,0.0,0.0,0.0,0.0,0.0,0.0,68345.86,76656.4,0.0,0.0,60374.98,0.0,88046.88,0.0,0.0,0.0,129968.67,157731.6,0.0,89276.48,138825.19,103729.79,75499.24,169445.4,111359.55,142388.61,123311.39,115532.52,167273.71,77886.53,135795.63,97514.07,127545.56,106160.37,0.0,143680.47,124483.53,86006.3,111094.05,0.0,0.0,0.0,115171.71,111543.26,137936.94,122304.65,120586.54,0.0,46520.69,105473.74,0.0,115730.71,145396.49,131078.42,128298.74,165526.71,83714.41,0.0,125540.05,100254.76,0.0,138150.57,0.0,95984.21,0.0,136858.42,102609.0,0.0,0.0,77356.92,110923.15,151675.65,0.0,0.0,0.0,80204.11,0.0,0.0,115587.49,106968.96,0.0,139659.04,86038.21,102773.2,0.0,70754.18,122781.51,0.0,153545.11,121629.22,167983.17,81153.82,99760.84,125890.72,0.0,119148.55,72948.58,133974.36,154483.98,98627.13,136770.67,95252.72,117413.95,137986.58,143571.52,121197.64,121626.9,84440.1,0.0,0.0,140356.7,0.0,92224.56,0.0,121355.99,109003.26,147341.43,102983.91,96252.98,0.0,155879.09,142929.16,64082.09,0.0,0.0,0.0,118336.95,168253.21,101979.16,164902.43,0.0,111812.52,0.0,119755.0,119556.1,119349.69,139528.23,94773.11,108345.22,166939.88,174571.36,71829.34,0.0,76769.68,104614.29,0.0,128927.93,110941.93,99250.08,0.0,0.0,0.0,0.0,0.0,104682.83,118886.55,156823.7,124216.93,144258.52,128793.63,126315.26,0.0,0.0,0.0,115341.55,99162.29,156848.13,105736.32,200117.76,62212.29,0.0,0.0,151532.4,121523.51,0.0,0.0,68238.51,136808.53,92398.08,143566.12,0.0,127728.24,0.0,119658.49,0.0,149879.66,119859.52,104533.24,145382.61,121231.39,141078.57,108465.65,70657.61,120105.43,129646.91,191091.74,0.0,0.0,131433.33,137937.95,0.0,0.0,0.0,93143.39,0.0,112544.45,123034.43,0.0,119278.44,0.0,0.0,169312.72,106506.77,128412.61,118356.89,137479.13,0.0,105229.72,148088.11,0.0,126679.69,90826.27,143582.89,125712.2,0.0,155187.3,0.0,155455.43,100480.53,0.0,127585.98,101891.1,0.0,0.0,128929.88,121681.91,139603.22,0.0,0.0,91760.11,93925.3,175739.36,0.0,170295.04,101579.28,118793.6,115282.3,107980.37,133866.22,102723.35,0.0,193213.02,117005.55,132862.59,0.0,204510.94,65349.71,139753.35,0.0,107959.39,195926.39,0.0,87772.52,71018.6,111096.91,166776.6,101266.51,134796.87,0.0,118588.83,160454.15,0.0,0.0,91132.18,0.0,0.0,0.0,113113.12,0.0,190409.34,0.0,0.0,83503.11,139687.66,137301.87,129845.26,0.0,125489.4,0.0,155417.61,0.0,85216.61,0.0,0.0,113607.47,104552.72,0.0,0.0,126524.11,117593.48,83199.05,125920.98,118469.38,153537.57,0.0,151027.05,144751.81,155739.76,0.0,122531.86,113957.01,103377.81,0.0,93017.47,90022.85,74371.49,152039.7,137145.12,0.0,90602.42,123841.49,183579.54,180307.73,0.0,0.0,35016.6,88381.21,0.0,155060.41,0.0,0.0,57369.61,0.0,75075.31,130142.79],\"y0\":\" \",\"yaxis\":\"y\",\"type\":\"box\"}],                        {\"template\":{\"data\":{\"bar\":[{\"error_x\":{\"color\":\"#2a3f5f\"},\"error_y\":{\"color\":\"#2a3f5f\"},\"marker\":{\"line\":{\"color\":\"#E5ECF6\",\"width\":0.5},\"pattern\":{\"fillmode\":\"overlay\",\"size\":10,\"solidity\":0.2}},\"type\":\"bar\"}],\"barpolar\":[{\"marker\":{\"line\":{\"color\":\"#E5ECF6\",\"width\":0.5},\"pattern\":{\"fillmode\":\"overlay\",\"size\":10,\"solidity\":0.2}},\"type\":\"barpolar\"}],\"carpet\":[{\"aaxis\":{\"endlinecolor\":\"#2a3f5f\",\"gridcolor\":\"white\",\"linecolor\":\"white\",\"minorgridcolor\":\"white\",\"startlinecolor\":\"#2a3f5f\"},\"baxis\":{\"endlinecolor\":\"#2a3f5f\",\"gridcolor\":\"white\",\"linecolor\":\"white\",\"minorgridcolor\":\"white\",\"startlinecolor\":\"#2a3f5f\"},\"type\":\"carpet\"}],\"choropleth\":[{\"colorbar\":{\"outlinewidth\":0,\"ticks\":\"\"},\"type\":\"choropleth\"}],\"contour\":[{\"colorbar\":{\"outlinewidth\":0,\"ticks\":\"\"},\"colorscale\":[[0.0,\"#0d0887\"],[0.1111111111111111,\"#46039f\"],[0.2222222222222222,\"#7201a8\"],[0.3333333333333333,\"#9c179e\"],[0.4444444444444444,\"#bd3786\"],[0.5555555555555556,\"#d8576b\"],[0.6666666666666666,\"#ed7953\"],[0.7777777777777778,\"#fb9f3a\"],[0.8888888888888888,\"#fdca26\"],[1.0,\"#f0f921\"]],\"type\":\"contour\"}],\"contourcarpet\":[{\"colorbar\":{\"outlinewidth\":0,\"ticks\":\"\"},\"type\":\"contourcarpet\"}],\"heatmap\":[{\"colorbar\":{\"outlinewidth\":0,\"ticks\":\"\"},\"colorscale\":[[0.0,\"#0d0887\"],[0.1111111111111111,\"#46039f\"],[0.2222222222222222,\"#7201a8\"],[0.3333333333333333,\"#9c179e\"],[0.4444444444444444,\"#bd3786\"],[0.5555555555555556,\"#d8576b\"],[0.6666666666666666,\"#ed7953\"],[0.7777777777777778,\"#fb9f3a\"],[0.8888888888888888,\"#fdca26\"],[1.0,\"#f0f921\"]],\"type\":\"heatmap\"}],\"heatmapgl\":[{\"colorbar\":{\"outlinewidth\":0,\"ticks\":\"\"},\"colorscale\":[[0.0,\"#0d0887\"],[0.1111111111111111,\"#46039f\"],[0.2222222222222222,\"#7201a8\"],[0.3333333333333333,\"#9c179e\"],[0.4444444444444444,\"#bd3786\"],[0.5555555555555556,\"#d8576b\"],[0.6666666666666666,\"#ed7953\"],[0.7777777777777778,\"#fb9f3a\"],[0.8888888888888888,\"#fdca26\"],[1.0,\"#f0f921\"]],\"type\":\"heatmapgl\"}],\"histogram\":[{\"marker\":{\"pattern\":{\"fillmode\":\"overlay\",\"size\":10,\"solidity\":0.2}},\"type\":\"histogram\"}],\"histogram2d\":[{\"colorbar\":{\"outlinewidth\":0,\"ticks\":\"\"},\"colorscale\":[[0.0,\"#0d0887\"],[0.1111111111111111,\"#46039f\"],[0.2222222222222222,\"#7201a8\"],[0.3333333333333333,\"#9c179e\"],[0.4444444444444444,\"#bd3786\"],[0.5555555555555556,\"#d8576b\"],[0.6666666666666666,\"#ed7953\"],[0.7777777777777778,\"#fb9f3a\"],[0.8888888888888888,\"#fdca26\"],[1.0,\"#f0f921\"]],\"type\":\"histogram2d\"}],\"histogram2dcontour\":[{\"colorbar\":{\"outlinewidth\":0,\"ticks\":\"\"},\"colorscale\":[[0.0,\"#0d0887\"],[0.1111111111111111,\"#46039f\"],[0.2222222222222222,\"#7201a8\"],[0.3333333333333333,\"#9c179e\"],[0.4444444444444444,\"#bd3786\"],[0.5555555555555556,\"#d8576b\"],[0.6666666666666666,\"#ed7953\"],[0.7777777777777778,\"#fb9f3a\"],[0.8888888888888888,\"#fdca26\"],[1.0,\"#f0f921\"]],\"type\":\"histogram2dcontour\"}],\"mesh3d\":[{\"colorbar\":{\"outlinewidth\":0,\"ticks\":\"\"},\"type\":\"mesh3d\"}],\"parcoords\":[{\"line\":{\"colorbar\":{\"outlinewidth\":0,\"ticks\":\"\"}},\"type\":\"parcoords\"}],\"pie\":[{\"automargin\":true,\"type\":\"pie\"}],\"scatter\":[{\"marker\":{\"colorbar\":{\"outlinewidth\":0,\"ticks\":\"\"}},\"type\":\"scatter\"}],\"scatter3d\":[{\"line\":{\"colorbar\":{\"outlinewidth\":0,\"ticks\":\"\"}},\"marker\":{\"colorbar\":{\"outlinewidth\":0,\"ticks\":\"\"}},\"type\":\"scatter3d\"}],\"scattercarpet\":[{\"marker\":{\"colorbar\":{\"outlinewidth\":0,\"ticks\":\"\"}},\"type\":\"scattercarpet\"}],\"scattergeo\":[{\"marker\":{\"colorbar\":{\"outlinewidth\":0,\"ticks\":\"\"}},\"type\":\"scattergeo\"}],\"scattergl\":[{\"marker\":{\"colorbar\":{\"outlinewidth\":0,\"ticks\":\"\"}},\"type\":\"scattergl\"}],\"scattermapbox\":[{\"marker\":{\"colorbar\":{\"outlinewidth\":0,\"ticks\":\"\"}},\"type\":\"scattermapbox\"}],\"scatterpolar\":[{\"marker\":{\"colorbar\":{\"outlinewidth\":0,\"ticks\":\"\"}},\"type\":\"scatterpolar\"}],\"scatterpolargl\":[{\"marker\":{\"colorbar\":{\"outlinewidth\":0,\"ticks\":\"\"}},\"type\":\"scatterpolargl\"}],\"scatterternary\":[{\"marker\":{\"colorbar\":{\"outlinewidth\":0,\"ticks\":\"\"}},\"type\":\"scatterternary\"}],\"surface\":[{\"colorbar\":{\"outlinewidth\":0,\"ticks\":\"\"},\"colorscale\":[[0.0,\"#0d0887\"],[0.1111111111111111,\"#46039f\"],[0.2222222222222222,\"#7201a8\"],[0.3333333333333333,\"#9c179e\"],[0.4444444444444444,\"#bd3786\"],[0.5555555555555556,\"#d8576b\"],[0.6666666666666666,\"#ed7953\"],[0.7777777777777778,\"#fb9f3a\"],[0.8888888888888888,\"#fdca26\"],[1.0,\"#f0f921\"]],\"type\":\"surface\"}],\"table\":[{\"cells\":{\"fill\":{\"color\":\"#EBF0F8\"},\"line\":{\"color\":\"white\"}},\"header\":{\"fill\":{\"color\":\"#C8D4E3\"},\"line\":{\"color\":\"white\"}},\"type\":\"table\"}]},\"layout\":{\"annotationdefaults\":{\"arrowcolor\":\"#2a3f5f\",\"arrowhead\":0,\"arrowwidth\":1},\"autotypenumbers\":\"strict\",\"coloraxis\":{\"colorbar\":{\"outlinewidth\":0,\"ticks\":\"\"}},\"colorscale\":{\"diverging\":[[0,\"#8e0152\"],[0.1,\"#c51b7d\"],[0.2,\"#de77ae\"],[0.3,\"#f1b6da\"],[0.4,\"#fde0ef\"],[0.5,\"#f7f7f7\"],[0.6,\"#e6f5d0\"],[0.7,\"#b8e186\"],[0.8,\"#7fbc41\"],[0.9,\"#4d9221\"],[1,\"#276419\"]],\"sequential\":[[0.0,\"#0d0887\"],[0.1111111111111111,\"#46039f\"],[0.2222222222222222,\"#7201a8\"],[0.3333333333333333,\"#9c179e\"],[0.4444444444444444,\"#bd3786\"],[0.5555555555555556,\"#d8576b\"],[0.6666666666666666,\"#ed7953\"],[0.7777777777777778,\"#fb9f3a\"],[0.8888888888888888,\"#fdca26\"],[1.0,\"#f0f921\"]],\"sequentialminus\":[[0.0,\"#0d0887\"],[0.1111111111111111,\"#46039f\"],[0.2222222222222222,\"#7201a8\"],[0.3333333333333333,\"#9c179e\"],[0.4444444444444444,\"#bd3786\"],[0.5555555555555556,\"#d8576b\"],[0.6666666666666666,\"#ed7953\"],[0.7777777777777778,\"#fb9f3a\"],[0.8888888888888888,\"#fdca26\"],[1.0,\"#f0f921\"]]},\"colorway\":[\"#636efa\",\"#EF553B\",\"#00cc96\",\"#ab63fa\",\"#FFA15A\",\"#19d3f3\",\"#FF6692\",\"#B6E880\",\"#FF97FF\",\"#FECB52\"],\"font\":{\"color\":\"#2a3f5f\"},\"geo\":{\"bgcolor\":\"white\",\"lakecolor\":\"white\",\"landcolor\":\"#E5ECF6\",\"showlakes\":true,\"showland\":true,\"subunitcolor\":\"white\"},\"hoverlabel\":{\"align\":\"left\"},\"hovermode\":\"closest\",\"mapbox\":{\"style\":\"light\"},\"paper_bgcolor\":\"white\",\"plot_bgcolor\":\"#E5ECF6\",\"polar\":{\"angularaxis\":{\"gridcolor\":\"white\",\"linecolor\":\"white\",\"ticks\":\"\"},\"bgcolor\":\"#E5ECF6\",\"radialaxis\":{\"gridcolor\":\"white\",\"linecolor\":\"white\",\"ticks\":\"\"}},\"scene\":{\"xaxis\":{\"backgroundcolor\":\"#E5ECF6\",\"gridcolor\":\"white\",\"gridwidth\":2,\"linecolor\":\"white\",\"showbackground\":true,\"ticks\":\"\",\"zerolinecolor\":\"white\"},\"yaxis\":{\"backgroundcolor\":\"#E5ECF6\",\"gridcolor\":\"white\",\"gridwidth\":2,\"linecolor\":\"white\",\"showbackground\":true,\"ticks\":\"\",\"zerolinecolor\":\"white\"},\"zaxis\":{\"backgroundcolor\":\"#E5ECF6\",\"gridcolor\":\"white\",\"gridwidth\":2,\"linecolor\":\"white\",\"showbackground\":true,\"ticks\":\"\",\"zerolinecolor\":\"white\"}},\"shapedefaults\":{\"line\":{\"color\":\"#2a3f5f\"}},\"ternary\":{\"aaxis\":{\"gridcolor\":\"white\",\"linecolor\":\"white\",\"ticks\":\"\"},\"baxis\":{\"gridcolor\":\"white\",\"linecolor\":\"white\",\"ticks\":\"\"},\"bgcolor\":\"#E5ECF6\",\"caxis\":{\"gridcolor\":\"white\",\"linecolor\":\"white\",\"ticks\":\"\"}},\"title\":{\"x\":0.05},\"xaxis\":{\"automargin\":true,\"gridcolor\":\"white\",\"linecolor\":\"white\",\"ticks\":\"\",\"title\":{\"standoff\":15},\"zerolinecolor\":\"white\",\"zerolinewidth\":2},\"yaxis\":{\"automargin\":true,\"gridcolor\":\"white\",\"linecolor\":\"white\",\"ticks\":\"\",\"title\":{\"standoff\":15},\"zerolinecolor\":\"white\",\"zerolinewidth\":2}}},\"xaxis\":{\"anchor\":\"y\",\"domain\":[0.0,1.0]},\"yaxis\":{\"anchor\":\"x\",\"domain\":[0.0,1.0],\"title\":{\"text\":\"Balance\"}},\"legend\":{\"tracegroupgap\":0},\"margin\":{\"t\":60},\"boxmode\":\"group\"},                        {\"responsive\": true}                    ).then(function(){\n",
              "                            \n",
              "var gd = document.getElementById('0f105a7a-dbeb-472a-9afe-cdf50f42e1c2');\n",
              "var x = new MutationObserver(function (mutations, observer) {{\n",
              "        var display = window.getComputedStyle(gd).display;\n",
              "        if (!display || display === 'none') {{\n",
              "            console.log([gd, 'removed!']);\n",
              "            Plotly.purge(gd);\n",
              "            observer.disconnect();\n",
              "        }}\n",
              "}});\n",
              "\n",
              "// Listen for the removal of the full notebook cells\n",
              "var notebookContainer = gd.closest('#notebook-container');\n",
              "if (notebookContainer) {{\n",
              "    x.observe(notebookContainer, {childList: true});\n",
              "}}\n",
              "\n",
              "// Listen for the clearing of the current output cell\n",
              "var outputEl = gd.closest('.output');\n",
              "if (outputEl) {{\n",
              "    x.observe(outputEl, {childList: true});\n",
              "}}\n",
              "\n",
              "                        })                };                            </script>        </div>\n",
              "</body>\n",
              "</html>"
            ]
          },
          "metadata": {}
        }
      ]
    },
    {
      "cell_type": "markdown",
      "source": [],
      "metadata": {
        "id": "4NTphgkqWszw"
      }
    },
    {
      "cell_type": "code",
      "source": [
        "plt.figure(figsize=(8,8))\n",
        "df.CreditScore.hist()\n",
        "df.CreditScore.loc[df['Exited']==1].hist()\n",
        "plt.xlabel('CreditScore')\n",
        "plt.ylabel('Count')\n",
        "plt.title(r'Histogram CreditScore distribution')\n",
        "plt.legend(title='Legend', loc='upper left', labels=['Total clients', 'Exited clients'])\n",
        "plt.show()"
      ],
      "metadata": {
        "colab": {
          "base_uri": "https://localhost:8080/",
          "height": 518
        },
        "id": "GT54-qHE7Pw6",
        "outputId": "ab1f2fea-0fe5-49bc-8ed8-6a7b2cbe8cec"
      },
      "execution_count": 39,
      "outputs": [
        {
          "output_type": "display_data",
          "data": {
            "text/plain": [
              "<Figure size 576x576 with 1 Axes>"
            ],
            "image/png": "[encoded data removed]"
          },
          "metadata": {}
        }
      ]
    },
    {
      "cell_type": "markdown",
      "source": [
        "Люди уходят из банка с любым score, с самым низким уходят все"
      ],
      "metadata": {
        "id": "f5EaRnIAXYLu"
      }
    },
    {
      "cell_type": "markdown",
      "source": [
        "## Построим корреляцию"
      ],
      "metadata": {
        "id": "958ScZxpXn6F"
      }
    },
    {
      "cell_type": "code",
      "source": [
        "corr=df.corr().round(3)"
      ],
      "metadata": {
        "id": "V8Dhdtr58R-6"
      },
      "execution_count": 42,
      "outputs": []
    },
    {
      "cell_type": "code",
      "source": [
        "corr"
      ],
      "metadata": {
        "colab": {
          "base_uri": "https://localhost:8080/",
          "height": 328
        },
        "id": "5A0Wz1UX-DrA",
        "outputId": "61c7d7a1-4d3b-48b5-cbff-d795a281d759"
      },
      "execution_count": 43,
      "outputs": [
        {
          "output_type": "execute_result",
          "data": {
            "text/plain": [
              "                 CreditScore    Age  Tenure  Balance  NumOfProducts  \\\n",
              "CreditScore            1.000 -0.004   0.001    0.006          0.012   \n",
              "Age                   -0.004  1.000  -0.010    0.028         -0.031   \n",
              "Tenure                 0.001 -0.010   1.000   -0.012          0.013   \n",
              "Balance                0.006  0.028  -0.012    1.000         -0.304   \n",
              "NumOfProducts          0.012 -0.031   0.013   -0.304          1.000   \n",
              "HasCrCard             -0.005 -0.012   0.023   -0.015          0.003   \n",
              "IsActiveMember         0.026  0.085  -0.028   -0.010          0.010   \n",
              "EstimatedSalary       -0.001 -0.007   0.008    0.013          0.014   \n",
              "Exited                -0.027  0.285  -0.014    0.119         -0.048   \n",
              "\n",
              "                 HasCrCard  IsActiveMember  EstimatedSalary  Exited  \n",
              "CreditScore         -0.005           0.026           -0.001  -0.027  \n",
              "Age                 -0.012           0.085           -0.007   0.285  \n",
              "Tenure               0.023          -0.028            0.008  -0.014  \n",
              "Balance             -0.015          -0.010            0.013   0.119  \n",
              "NumOfProducts        0.003           0.010            0.014  -0.048  \n",
              "HasCrCard            1.000          -0.012           -0.010  -0.007  \n",
              "IsActiveMember      -0.012           1.000           -0.011  -0.156  \n",
              "EstimatedSalary     -0.010          -0.011            1.000   0.012  \n",
              "Exited              -0.007          -0.156            0.012   1.000  "
            ],
            "text/html": [
              "\n",
              "  <div id=\"df-308c153d-8d33-4064-9835-f01dcf638cb6\">\n",
              "    <div class=\"colab-df-container\">\n",
              "      <div>\n",
              "<style scoped>\n",
              "    .dataframe tbody tr th:only-of-type {\n",
              "        vertical-align: middle;\n",
              "    }\n",
              "\n",
              "    .dataframe tbody tr th {\n",
              "        vertical-align: top;\n",
              "    }\n",
              "\n",
              "    .dataframe thead th {\n",
              "        text-align: right;\n",
              "    }\n",
              "</style>\n",
              "<table border=\"1\" class=\"dataframe\">\n",
              "  <thead>\n",
              "    <tr style=\"text-align: right;\">\n",
              "      <th></th>\n",
              "      <th>CreditScore</th>\n",
              "      <th>Age</th>\n",
              "      <th>Tenure</th>\n",
              "      <th>Balance</th>\n",
              "      <th>NumOfProducts</th>\n",
              "      <th>HasCrCard</th>\n",
              "      <th>IsActiveMember</th>\n",
              "      <th>EstimatedSalary</th>\n",
              "      <th>Exited</th>\n",
              "    </tr>\n",
              "  </thead>\n",
              "  <tbody>\n",
              "    <tr>\n",
              "      <th>CreditScore</th>\n",
              "      <td>1.000</td>\n",
              "      <td>-0.004</td>\n",
              "      <td>0.001</td>\n",
              "      <td>0.006</td>\n",
              "      <td>0.012</td>\n",
              "      <td>-0.005</td>\n",
              "      <td>0.026</td>\n",
              "      <td>-0.001</td>\n",
              "      <td>-0.027</td>\n",
              "    </tr>\n",
              "    <tr>\n",
              "      <th>Age</th>\n",
              "      <td>-0.004</td>\n",
              "      <td>1.000</td>\n",
              "      <td>-0.010</td>\n",
              "      <td>0.028</td>\n",
              "      <td>-0.031</td>\n",
              "      <td>-0.012</td>\n",
              "      <td>0.085</td>\n",
              "      <td>-0.007</td>\n",
              "      <td>0.285</td>\n",
              "    </tr>\n",
              "    <tr>\n",
              "      <th>Tenure</th>\n",
              "      <td>0.001</td>\n",
              "      <td>-0.010</td>\n",
              "      <td>1.000</td>\n",
              "      <td>-0.012</td>\n",
              "      <td>0.013</td>\n",
              "      <td>0.023</td>\n",
              "      <td>-0.028</td>\n",
              "      <td>0.008</td>\n",
              "      <td>-0.014</td>\n",
              "    </tr>\n",
              "    <tr>\n",
              "      <th>Balance</th>\n",
              "      <td>0.006</td>\n",
              "      <td>0.028</td>\n",
              "      <td>-0.012</td>\n",
              "      <td>1.000</td>\n",
              "      <td>-0.304</td>\n",
              "      <td>-0.015</td>\n",
              "      <td>-0.010</td>\n",
              "      <td>0.013</td>\n",
              "      <td>0.119</td>\n",
              "    </tr>\n",
              "    <tr>\n",
              "      <th>NumOfProducts</th>\n",
              "      <td>0.012</td>\n",
              "      <td>-0.031</td>\n",
              "      <td>0.013</td>\n",
              "      <td>-0.304</td>\n",
              "      <td>1.000</td>\n",
              "      <td>0.003</td>\n",
              "      <td>0.010</td>\n",
              "      <td>0.014</td>\n",
              "      <td>-0.048</td>\n",
              "    </tr>\n",
              "    <tr>\n",
              "      <th>HasCrCard</th>\n",
              "      <td>-0.005</td>\n",
              "      <td>-0.012</td>\n",
              "      <td>0.023</td>\n",
              "      <td>-0.015</td>\n",
              "      <td>0.003</td>\n",
              "      <td>1.000</td>\n",
              "      <td>-0.012</td>\n",
              "      <td>-0.010</td>\n",
              "      <td>-0.007</td>\n",
              "    </tr>\n",
              "    <tr>\n",
              "      <th>IsActiveMember</th>\n",
              "      <td>0.026</td>\n",
              "      <td>0.085</td>\n",
              "      <td>-0.028</td>\n",
              "      <td>-0.010</td>\n",
              "      <td>0.010</td>\n",
              "      <td>-0.012</td>\n",
              "      <td>1.000</td>\n",
              "      <td>-0.011</td>\n",
              "      <td>-0.156</td>\n",
              "    </tr>\n",
              "    <tr>\n",
              "      <th>EstimatedSalary</th>\n",
              "      <td>-0.001</td>\n",
              "      <td>-0.007</td>\n",
              "      <td>0.008</td>\n",
              "      <td>0.013</td>\n",
              "      <td>0.014</td>\n",
              "      <td>-0.010</td>\n",
              "      <td>-0.011</td>\n",
              "      <td>1.000</td>\n",
              "      <td>0.012</td>\n",
              "    </tr>\n",
              "    <tr>\n",
              "      <th>Exited</th>\n",
              "      <td>-0.027</td>\n",
              "      <td>0.285</td>\n",
              "      <td>-0.014</td>\n",
              "      <td>0.119</td>\n",
              "      <td>-0.048</td>\n",
              "      <td>-0.007</td>\n",
              "      <td>-0.156</td>\n",
              "      <td>0.012</td>\n",
              "      <td>1.000</td>\n",
              "    </tr>\n",
              "  </tbody>\n",
              "</table>\n",
              "</div>\n",
              "      <button class=\"colab-df-convert\" onclick=\"convertToInteractive('df-308c153d-8d33-4064-9835-f01dcf638cb6')\"\n",
              "              title=\"Convert this dataframe to an interactive table.\"\n",
              "              style=\"display:none;\">\n",
              "        \n",
              "  <svg xmlns=\"http://www.w3.org/2000/svg\" height=\"24px\"viewBox=\"0 0 24 24\"\n",
              "       width=\"24px\">\n",
              "    <path d=\"M0 0h24v24H0V0z\" fill=\"none\"/>\n",
              "    <path d=\"M18.56 5.44l.94 2.06.94-2.06 2.06-.94-2.06-.94-.94-2.06-.94 2.06-2.06.94zm-11 1L8.5 8.5l.94-2.06 2.06-.94-2.06-.94L8.5 2.5l-.94 2.06-2.06.94zm10 10l.94 2.06.94-2.06 2.06-.94-2.06-.94-.94-2.06-.94 2.06-2.06.94z\"/><path d=\"M17.41 7.96l-1.37-1.37c-.4-.4-.92-.59-1.43-.59-.52 0-1.04.2-1.43.59L10.3 9.45l-7.72 7.72c-.78.78-.78 2.05 0 2.83L4 21.41c.39.39.9.59 1.41.59.51 0 1.02-.2 1.41-.59l7.78-7.78 2.81-2.81c.8-.78.8-2.07 0-2.86zM5.41 20L4 18.59l7.72-7.72 1.47 1.35L5.41 20z\"/>\n",
              "  </svg>\n",
              "      </button>\n",
              "      \n",
              "  <style>\n",
              "    .colab-df-container {\n",
              "      display:flex;\n",
              "      flex-wrap:wrap;\n",
              "      gap: 12px;\n",
              "    }\n",
              "\n",
              "    .colab-df-convert {\n",
              "      background-color: #E8F0FE;\n",
              "      border: none;\n",
              "      border-radius: 50%;\n",
              "      cursor: pointer;\n",
              "      display: none;\n",
              "      fill: #1967D2;\n",
              "      height: 32px;\n",
              "      padding: 0 0 0 0;\n",
              "      width: 32px;\n",
              "    }\n",
              "\n",
              "    .colab-df-convert:hover {\n",
              "      background-color: #E2EBFA;\n",
              "      box-shadow: 0px 1px 2px rgba(60, 64, 67, 0.3), 0px 1px 3px 1px rgba(60, 64, 67, 0.15);\n",
              "      fill: #174EA6;\n",
              "    }\n",
              "\n",
              "    [theme=dark] .colab-df-convert {\n",
              "      background-color: #3B4455;\n",
              "      fill: #D2E3FC;\n",
              "    }\n",
              "\n",
              "    [theme=dark] .colab-df-convert:hover {\n",
              "      background-color: #434B5C;\n",
              "      box-shadow: 0px 1px 3px 1px rgba(0, 0, 0, 0.15);\n",
              "      filter: drop-shadow(0px 1px 2px rgba(0, 0, 0, 0.3));\n",
              "      fill: #FFFFFF;\n",
              "    }\n",
              "  </style>\n",
              "\n",
              "      <script>\n",
              "        const buttonEl =\n",
              "          document.querySelector('#df-308c153d-8d33-4064-9835-f01dcf638cb6 button.colab-df-convert');\n",
              "        buttonEl.style.display =\n",
              "          google.colab.kernel.accessAllowed ? 'block' : 'none';\n",
              "\n",
              "        async function convertToInteractive(key) {\n",
              "          const element = document.querySelector('#df-308c153d-8d33-4064-9835-f01dcf638cb6');\n",
              "          const dataTable =\n",
              "            await google.colab.kernel.invokeFunction('convertToInteractive',\n",
              "                                                     [key], {});\n",
              "          if (!dataTable) return;\n",
              "\n",
              "          const docLinkHtml = 'Like what you see? Visit the ' +\n",
              "            '<a target=\"_blank\" href=https://colab.research.google.com/notebooks/data_table.ipynb>data table notebook</a>'\n",
              "            + ' to learn more about interactive tables.';\n",
              "          element.innerHTML = '';\n",
              "          dataTable['output_type'] = 'display_data';\n",
              "          await google.colab.output.renderOutput(dataTable, element);\n",
              "          const docLink = document.createElement('div');\n",
              "          docLink.innerHTML = docLinkHtml;\n",
              "          element.appendChild(docLink);\n",
              "        }\n",
              "      </script>\n",
              "    </div>\n",
              "  </div>\n",
              "  "
            ]
          },
          "metadata": {},
          "execution_count": 43
        }
      ]
    },
    {
      "cell_type": "code",
      "source": [
        "fig = px.imshow(corr, text_auto=True, height=800, width=800)\n",
        "fig.show()"
      ],
      "metadata": {
        "colab": {
          "base_uri": "https://localhost:8080/",
          "height": 817
        },
        "id": "q46N56Cj9xf2",
        "outputId": "8470bd89-adee-4637-c0c5-a8b64ef5f337"
      },
      "execution_count": 44,
      "outputs": [
        {
          "output_type": "display_data",
          "data": {
            "text/html": [
              "<html>\n",
              "<head><meta charset=\"utf-8\" /></head>\n",
              "<body>\n",
              "    <div>            <script src=\"https://cdnjs.cloudflare.com/ajax/libs/mathjax/2.7.5/MathJax.js?config=TeX-AMS-MML_SVG\"></script><script type=\"text/javascript\">if (window.MathJax) {MathJax.Hub.Config({SVG: {font: \"STIX-Web\"}});}</script>                <script type=\"text/javascript\">window.PlotlyConfig = {MathJaxConfig: 'local'};</script>\n",
              "        <script src=\"https://cdn.plot.ly/plotly-2.8.3.min.js\"></script>                <div id=\"b7d39325-97ba-4fbb-8379-6b63c62695d3\" class=\"plotly-graph-div\" style=\"height:800px; width:800px;\"></div>            <script type=\"text/javascript\">                                    window.PLOTLYENV=window.PLOTLYENV || {};                                    if (document.getElementById(\"b7d39325-97ba-4fbb-8379-6b63c62695d3\")) {                    Plotly.newPlot(                        \"b7d39325-97ba-4fbb-8379-6b63c62695d3\",                        [{\"coloraxis\":\"coloraxis\",\"name\":\"0\",\"texttemplate\":\"%{z}\",\"x\":[\"CreditScore\",\"Age\",\"Tenure\",\"Balance\",\"NumOfProducts\",\"HasCrCard\",\"IsActiveMember\",\"EstimatedSalary\",\"Exited\"],\"y\":[\"CreditScore\",\"Age\",\"Tenure\",\"Balance\",\"NumOfProducts\",\"HasCrCard\",\"IsActiveMember\",\"EstimatedSalary\",\"Exited\"],\"z\":[[1.0,-0.004,0.001,0.006,0.012,-0.005,0.026,-0.001,-0.027],[-0.004,1.0,-0.01,0.028,-0.031,-0.012,0.085,-0.007,0.285],[0.001,-0.01,1.0,-0.012,0.013,0.023,-0.028,0.008,-0.014],[0.006,0.028,-0.012,1.0,-0.304,-0.015,-0.01,0.013,0.119],[0.012,-0.031,0.013,-0.304,1.0,0.003,0.01,0.014,-0.048],[-0.005,-0.012,0.023,-0.015,0.003,1.0,-0.012,-0.01,-0.007],[0.026,0.085,-0.028,-0.01,0.01,-0.012,1.0,-0.011,-0.156],[-0.001,-0.007,0.008,0.013,0.014,-0.01,-0.011,1.0,0.012],[-0.027,0.285,-0.014,0.119,-0.048,-0.007,-0.156,0.012,1.0]],\"type\":\"heatmap\",\"xaxis\":\"x\",\"yaxis\":\"y\",\"hovertemplate\":\"x: %{x}<br>y: %{y}<br>color: %{z}<extra></extra>\"}],                        {\"template\":{\"data\":{\"bar\":[{\"error_x\":{\"color\":\"#2a3f5f\"},\"error_y\":{\"color\":\"#2a3f5f\"},\"marker\":{\"line\":{\"color\":\"#E5ECF6\",\"width\":0.5},\"pattern\":{\"fillmode\":\"overlay\",\"size\":10,\"solidity\":0.2}},\"type\":\"bar\"}],\"barpolar\":[{\"marker\":{\"line\":{\"color\":\"#E5ECF6\",\"width\":0.5},\"pattern\":{\"fillmode\":\"overlay\",\"size\":10,\"solidity\":0.2}},\"type\":\"barpolar\"}],\"carpet\":[{\"aaxis\":{\"endlinecolor\":\"#2a3f5f\",\"gridcolor\":\"white\",\"linecolor\":\"white\",\"minorgridcolor\":\"white\",\"startlinecolor\":\"#2a3f5f\"},\"baxis\":{\"endlinecolor\":\"#2a3f5f\",\"gridcolor\":\"white\",\"linecolor\":\"white\",\"minorgridcolor\":\"white\",\"startlinecolor\":\"#2a3f5f\"},\"type\":\"carpet\"}],\"choropleth\":[{\"colorbar\":{\"outlinewidth\":0,\"ticks\":\"\"},\"type\":\"choropleth\"}],\"contour\":[{\"colorbar\":{\"outlinewidth\":0,\"ticks\":\"\"},\"colorscale\":[[0.0,\"#0d0887\"],[0.1111111111111111,\"#46039f\"],[0.2222222222222222,\"#7201a8\"],[0.3333333333333333,\"#9c179e\"],[0.4444444444444444,\"#bd3786\"],[0.5555555555555556,\"#d8576b\"],[0.6666666666666666,\"#ed7953\"],[0.7777777777777778,\"#fb9f3a\"],[0.8888888888888888,\"#fdca26\"],[1.0,\"#f0f921\"]],\"type\":\"contour\"}],\"contourcarpet\":[{\"colorbar\":{\"outlinewidth\":0,\"ticks\":\"\"},\"type\":\"contourcarpet\"}],\"heatmap\":[{\"colorbar\":{\"outlinewidth\":0,\"ticks\":\"\"},\"colorscale\":[[0.0,\"#0d0887\"],[0.1111111111111111,\"#46039f\"],[0.2222222222222222,\"#7201a8\"],[0.3333333333333333,\"#9c179e\"],[0.4444444444444444,\"#bd3786\"],[0.5555555555555556,\"#d8576b\"],[0.6666666666666666,\"#ed7953\"],[0.7777777777777778,\"#fb9f3a\"],[0.8888888888888888,\"#fdca26\"],[1.0,\"#f0f921\"]],\"type\":\"heatmap\"}],\"heatmapgl\":[{\"colorbar\":{\"outlinewidth\":0,\"ticks\":\"\"},\"colorscale\":[[0.0,\"#0d0887\"],[0.1111111111111111,\"#46039f\"],[0.2222222222222222,\"#7201a8\"],[0.3333333333333333,\"#9c179e\"],[0.4444444444444444,\"#bd3786\"],[0.5555555555555556,\"#d8576b\"],[0.6666666666666666,\"#ed7953\"],[0.7777777777777778,\"#fb9f3a\"],[0.8888888888888888,\"#fdca26\"],[1.0,\"#f0f921\"]],\"type\":\"heatmapgl\"}],\"histogram\":[{\"marker\":{\"pattern\":{\"fillmode\":\"overlay\",\"size\":10,\"solidity\":0.2}},\"type\":\"histogram\"}],\"histogram2d\":[{\"colorbar\":{\"outlinewidth\":0,\"ticks\":\"\"},\"colorscale\":[[0.0,\"#0d0887\"],[0.1111111111111111,\"#46039f\"],[0.2222222222222222,\"#7201a8\"],[0.3333333333333333,\"#9c179e\"],[0.4444444444444444,\"#bd3786\"],[0.5555555555555556,\"#d8576b\"],[0.6666666666666666,\"#ed7953\"],[0.7777777777777778,\"#fb9f3a\"],[0.8888888888888888,\"#fdca26\"],[1.0,\"#f0f921\"]],\"type\":\"histogram2d\"}],\"histogram2dcontour\":[{\"colorbar\":{\"outlinewidth\":0,\"ticks\":\"\"},\"colorscale\":[[0.0,\"#0d0887\"],[0.1111111111111111,\"#46039f\"],[0.2222222222222222,\"#7201a8\"],[0.3333333333333333,\"#9c179e\"],[0.4444444444444444,\"#bd3786\"],[0.5555555555555556,\"#d8576b\"],[0.6666666666666666,\"#ed7953\"],[0.7777777777777778,\"#fb9f3a\"],[0.8888888888888888,\"#fdca26\"],[1.0,\"#f0f921\"]],\"type\":\"histogram2dcontour\"}],\"mesh3d\":[{\"colorbar\":{\"outlinewidth\":0,\"ticks\":\"\"},\"type\":\"mesh3d\"}],\"parcoords\":[{\"line\":{\"colorbar\":{\"outlinewidth\":0,\"ticks\":\"\"}},\"type\":\"parcoords\"}],\"pie\":[{\"automargin\":true,\"type\":\"pie\"}],\"scatter\":[{\"marker\":{\"colorbar\":{\"outlinewidth\":0,\"ticks\":\"\"}},\"type\":\"scatter\"}],\"scatter3d\":[{\"line\":{\"colorbar\":{\"outlinewidth\":0,\"ticks\":\"\"}},\"marker\":{\"colorbar\":{\"outlinewidth\":0,\"ticks\":\"\"}},\"type\":\"scatter3d\"}],\"scattercarpet\":[{\"marker\":{\"colorbar\":{\"outlinewidth\":0,\"ticks\":\"\"}},\"type\":\"scattercarpet\"}],\"scattergeo\":[{\"marker\":{\"colorbar\":{\"outlinewidth\":0,\"ticks\":\"\"}},\"type\":\"scattergeo\"}],\"scattergl\":[{\"marker\":{\"colorbar\":{\"outlinewidth\":0,\"ticks\":\"\"}},\"type\":\"scattergl\"}],\"scattermapbox\":[{\"marker\":{\"colorbar\":{\"outlinewidth\":0,\"ticks\":\"\"}},\"type\":\"scattermapbox\"}],\"scatterpolar\":[{\"marker\":{\"colorbar\":{\"outlinewidth\":0,\"ticks\":\"\"}},\"type\":\"scatterpolar\"}],\"scatterpolargl\":[{\"marker\":{\"colorbar\":{\"outlinewidth\":0,\"ticks\":\"\"}},\"type\":\"scatterpolargl\"}],\"scatterternary\":[{\"marker\":{\"colorbar\":{\"outlinewidth\":0,\"ticks\":\"\"}},\"type\":\"scatterternary\"}],\"surface\":[{\"colorbar\":{\"outlinewidth\":0,\"ticks\":\"\"},\"colorscale\":[[0.0,\"#0d0887\"],[0.1111111111111111,\"#46039f\"],[0.2222222222222222,\"#7201a8\"],[0.3333333333333333,\"#9c179e\"],[0.4444444444444444,\"#bd3786\"],[0.5555555555555556,\"#d8576b\"],[0.6666666666666666,\"#ed7953\"],[0.7777777777777778,\"#fb9f3a\"],[0.8888888888888888,\"#fdca26\"],[1.0,\"#f0f921\"]],\"type\":\"surface\"}],\"table\":[{\"cells\":{\"fill\":{\"color\":\"#EBF0F8\"},\"line\":{\"color\":\"white\"}},\"header\":{\"fill\":{\"color\":\"#C8D4E3\"},\"line\":{\"color\":\"white\"}},\"type\":\"table\"}]},\"layout\":{\"annotationdefaults\":{\"arrowcolor\":\"#2a3f5f\",\"arrowhead\":0,\"arrowwidth\":1},\"autotypenumbers\":\"strict\",\"coloraxis\":{\"colorbar\":{\"outlinewidth\":0,\"ticks\":\"\"}},\"colorscale\":{\"diverging\":[[0,\"#8e0152\"],[0.1,\"#c51b7d\"],[0.2,\"#de77ae\"],[0.3,\"#f1b6da\"],[0.4,\"#fde0ef\"],[0.5,\"#f7f7f7\"],[0.6,\"#e6f5d0\"],[0.7,\"#b8e186\"],[0.8,\"#7fbc41\"],[0.9,\"#4d9221\"],[1,\"#276419\"]],\"sequential\":[[0.0,\"#0d0887\"],[0.1111111111111111,\"#46039f\"],[0.2222222222222222,\"#7201a8\"],[0.3333333333333333,\"#9c179e\"],[0.4444444444444444,\"#bd3786\"],[0.5555555555555556,\"#d8576b\"],[0.6666666666666666,\"#ed7953\"],[0.7777777777777778,\"#fb9f3a\"],[0.8888888888888888,\"#fdca26\"],[1.0,\"#f0f921\"]],\"sequentialminus\":[[0.0,\"#0d0887\"],[0.1111111111111111,\"#46039f\"],[0.2222222222222222,\"#7201a8\"],[0.3333333333333333,\"#9c179e\"],[0.4444444444444444,\"#bd3786\"],[0.5555555555555556,\"#d8576b\"],[0.6666666666666666,\"#ed7953\"],[0.7777777777777778,\"#fb9f3a\"],[0.8888888888888888,\"#fdca26\"],[1.0,\"#f0f921\"]]},\"colorway\":[\"#636efa\",\"#EF553B\",\"#00cc96\",\"#ab63fa\",\"#FFA15A\",\"#19d3f3\",\"#FF6692\",\"#B6E880\",\"#FF97FF\",\"#FECB52\"],\"font\":{\"color\":\"#2a3f5f\"},\"geo\":{\"bgcolor\":\"white\",\"lakecolor\":\"white\",\"landcolor\":\"#E5ECF6\",\"showlakes\":true,\"showland\":true,\"subunitcolor\":\"white\"},\"hoverlabel\":{\"align\":\"left\"},\"hovermode\":\"closest\",\"mapbox\":{\"style\":\"light\"},\"paper_bgcolor\":\"white\",\"plot_bgcolor\":\"#E5ECF6\",\"polar\":{\"angularaxis\":{\"gridcolor\":\"white\",\"linecolor\":\"white\",\"ticks\":\"\"},\"bgcolor\":\"#E5ECF6\",\"radialaxis\":{\"gridcolor\":\"white\",\"linecolor\":\"white\",\"ticks\":\"\"}},\"scene\":{\"xaxis\":{\"backgroundcolor\":\"#E5ECF6\",\"gridcolor\":\"white\",\"gridwidth\":2,\"linecolor\":\"white\",\"showbackground\":true,\"ticks\":\"\",\"zerolinecolor\":\"white\"},\"yaxis\":{\"backgroundcolor\":\"#E5ECF6\",\"gridcolor\":\"white\",\"gridwidth\":2,\"linecolor\":\"white\",\"showbackground\":true,\"ticks\":\"\",\"zerolinecolor\":\"white\"},\"zaxis\":{\"backgroundcolor\":\"#E5ECF6\",\"gridcolor\":\"white\",\"gridwidth\":2,\"linecolor\":\"white\",\"showbackground\":true,\"ticks\":\"\",\"zerolinecolor\":\"white\"}},\"shapedefaults\":{\"line\":{\"color\":\"#2a3f5f\"}},\"ternary\":{\"aaxis\":{\"gridcolor\":\"white\",\"linecolor\":\"white\",\"ticks\":\"\"},\"baxis\":{\"gridcolor\":\"white\",\"linecolor\":\"white\",\"ticks\":\"\"},\"bgcolor\":\"#E5ECF6\",\"caxis\":{\"gridcolor\":\"white\",\"linecolor\":\"white\",\"ticks\":\"\"}},\"title\":{\"x\":0.05},\"xaxis\":{\"automargin\":true,\"gridcolor\":\"white\",\"linecolor\":\"white\",\"ticks\":\"\",\"title\":{\"standoff\":15},\"zerolinecolor\":\"white\",\"zerolinewidth\":2},\"yaxis\":{\"automargin\":true,\"gridcolor\":\"white\",\"linecolor\":\"white\",\"ticks\":\"\",\"title\":{\"standoff\":15},\"zerolinecolor\":\"white\",\"zerolinewidth\":2}}},\"xaxis\":{\"anchor\":\"y\",\"domain\":[0.0,1.0],\"scaleanchor\":\"y\",\"constrain\":\"domain\"},\"yaxis\":{\"anchor\":\"x\",\"domain\":[0.0,1.0],\"autorange\":\"reversed\",\"constrain\":\"domain\"},\"coloraxis\":{\"colorscale\":[[0.0,\"#0d0887\"],[0.1111111111111111,\"#46039f\"],[0.2222222222222222,\"#7201a8\"],[0.3333333333333333,\"#9c179e\"],[0.4444444444444444,\"#bd3786\"],[0.5555555555555556,\"#d8576b\"],[0.6666666666666666,\"#ed7953\"],[0.7777777777777778,\"#fb9f3a\"],[0.8888888888888888,\"#fdca26\"],[1.0,\"#f0f921\"]]},\"margin\":{\"t\":60},\"height\":800,\"width\":800},                        {\"responsive\": true}                    ).then(function(){\n",
              "                            \n",
              "var gd = document.getElementById('b7d39325-97ba-4fbb-8379-6b63c62695d3');\n",
              "var x = new MutationObserver(function (mutations, observer) {{\n",
              "        var display = window.getComputedStyle(gd).display;\n",
              "        if (!display || display === 'none') {{\n",
              "            console.log([gd, 'removed!']);\n",
              "            Plotly.purge(gd);\n",
              "            observer.disconnect();\n",
              "        }}\n",
              "}});\n",
              "\n",
              "// Listen for the removal of the full notebook cells\n",
              "var notebookContainer = gd.closest('#notebook-container');\n",
              "if (notebookContainer) {{\n",
              "    x.observe(notebookContainer, {childList: true});\n",
              "}}\n",
              "\n",
              "// Listen for the clearing of the current output cell\n",
              "var outputEl = gd.closest('.output');\n",
              "if (outputEl) {{\n",
              "    x.observe(outputEl, {childList: true});\n",
              "}}\n",
              "\n",
              "                        })                };                            </script>        </div>\n",
              "</body>\n",
              "</html>"
            ]
          },
          "metadata": {}
        }
      ]
    },
    {
      "cell_type": "markdown",
      "source": [
        "Корреляция целевого признака с остаольными слабая. Самая большая корреляция с возрастом."
      ],
      "metadata": {
        "id": "II-5ZaqrYTR0"
      }
    },
    {
      "cell_type": "markdown",
      "source": [
        "#Кодируем данные"
      ],
      "metadata": {
        "id": "VFoRSiV3NQGW"
      }
    },
    {
      "cell_type": "code",
      "source": [
        "cat_columns = list(df.select_dtypes(include=['object']).columns)"
      ],
      "metadata": {
        "id": "ydhPG6OgMWnW"
      },
      "execution_count": 45,
      "outputs": []
    },
    {
      "cell_type": "code",
      "source": [
        "enc = OrdinalEncoder()\n",
        "df.loc[:,cat_columns] = enc.fit_transform(df.loc[:,cat_columns])"
      ],
      "metadata": {
        "id": "ksD988DU90tY"
      },
      "execution_count": 46,
      "outputs": []
    },
    {
      "cell_type": "code",
      "source": [
        "df.info()\n",
        "df"
      ],
      "metadata": {
        "colab": {
          "base_uri": "https://localhost:8080/",
          "height": 725
        },
        "id": "ClR5k7SaNxPp",
        "outputId": "da516ede-8861-4319-acbb-0971078b1604"
      },
      "execution_count": 47,
      "outputs": [
        {
          "output_type": "stream",
          "name": "stdout",
          "text": [
            "<class 'pandas.core.frame.DataFrame'>\n",
            "RangeIndex: 10000 entries, 0 to 9999\n",
            "Data columns (total 11 columns):\n",
            " #   Column           Non-Null Count  Dtype  \n",
            "---  ------           --------------  -----  \n",
            " 0   CreditScore      10000 non-null  int64  \n",
            " 1   Geography        10000 non-null  float64\n",
            " 2   Gender           10000 non-null  float64\n",
            " 3   Age              10000 non-null  int64  \n",
            " 4   Tenure           10000 non-null  int64  \n",
            " 5   Balance          10000 non-null  float64\n",
            " 6   NumOfProducts    10000 non-null  int64  \n",
            " 7   HasCrCard        10000 non-null  int64  \n",
            " 8   IsActiveMember   10000 non-null  int64  \n",
            " 9   EstimatedSalary  10000 non-null  float64\n",
            " 10  Exited           10000 non-null  int64  \n",
            "dtypes: float64(4), int64(7)\n",
            "memory usage: 859.5 KB\n"
          ]
        },
        {
          "output_type": "execute_result",
          "data": {
            "text/plain": [
              "      CreditScore  Geography  Gender  Age  Tenure    Balance  NumOfProducts  \\\n",
              "0             619        0.0     0.0   42       2       0.00              1   \n",
              "1             608        2.0     0.0   41       1   83807.86              1   \n",
              "2             502        0.0     0.0   42       8  159660.80              3   \n",
              "3             699        0.0     0.0   39       1       0.00              2   \n",
              "4             850        2.0     0.0   43       2  125510.82              1   \n",
              "...           ...        ...     ...  ...     ...        ...            ...   \n",
              "9995          771        0.0     1.0   39       5       0.00              2   \n",
              "9996          516        0.0     1.0   35      10   57369.61              1   \n",
              "9997          709        0.0     0.0   36       7       0.00              1   \n",
              "9998          772        1.0     1.0   42       3   75075.31              2   \n",
              "9999          792        0.0     0.0   28       4  130142.79              1   \n",
              "\n",
              "      HasCrCard  IsActiveMember  EstimatedSalary  Exited  \n",
              "0             1               1        101348.88       1  \n",
              "1             0               1        112542.58       0  \n",
              "2             1               0        113931.57       1  \n",
              "3             0               0         93826.63       0  \n",
              "4             1               1         79084.10       0  \n",
              "...         ...             ...              ...     ...  \n",
              "9995          1               0         96270.64       0  \n",
              "9996          1               1        101699.77       0  \n",
              "9997          0               1         42085.58       1  \n",
              "9998          1               0         92888.52       1  \n",
              "9999          1               0         38190.78       0  \n",
              "\n",
              "[10000 rows x 11 columns]"
            ],
            "text/html": [
              "\n",
              "  <div id=\"df-8d2b1940-9830-4eeb-aeaa-15383cf6d3f5\">\n",
              "    <div class=\"colab-df-container\">\n",
              "      <div>\n",
              "<style scoped>\n",
              "    .dataframe tbody tr th:only-of-type {\n",
              "        vertical-align: middle;\n",
              "    }\n",
              "\n",
              "    .dataframe tbody tr th {\n",
              "        vertical-align: top;\n",
              "    }\n",
              "\n",
              "    .dataframe thead th {\n",
              "        text-align: right;\n",
              "    }\n",
              "</style>\n",
              "<table border=\"1\" class=\"dataframe\">\n",
              "  <thead>\n",
              "    <tr style=\"text-align: right;\">\n",
              "      <th></th>\n",
              "      <th>CreditScore</th>\n",
              "      <th>Geography</th>\n",
              "      <th>Gender</th>\n",
              "      <th>Age</th>\n",
              "      <th>Tenure</th>\n",
              "      <th>Balance</th>\n",
              "      <th>NumOfProducts</th>\n",
              "      <th>HasCrCard</th>\n",
              "      <th>IsActiveMember</th>\n",
              "      <th>EstimatedSalary</th>\n",
              "      <th>Exited</th>\n",
              "    </tr>\n",
              "  </thead>\n",
              "  <tbody>\n",
              "    <tr>\n",
              "      <th>0</th>\n",
              "      <td>619</td>\n",
              "      <td>0.0</td>\n",
              "      <td>0.0</td>\n",
              "      <td>42</td>\n",
              "      <td>2</td>\n",
              "      <td>0.00</td>\n",
              "      <td>1</td>\n",
              "      <td>1</td>\n",
              "      <td>1</td>\n",
              "      <td>101348.88</td>\n",
              "      <td>1</td>\n",
              "    </tr>\n",
              "    <tr>\n",
              "      <th>1</th>\n",
              "      <td>608</td>\n",
              "      <td>2.0</td>\n",
              "      <td>0.0</td>\n",
              "      <td>41</td>\n",
              "      <td>1</td>\n",
              "      <td>83807.86</td>\n",
              "      <td>1</td>\n",
              "      <td>0</td>\n",
              "      <td>1</td>\n",
              "      <td>112542.58</td>\n",
              "      <td>0</td>\n",
              "    </tr>\n",
              "    <tr>\n",
              "      <th>2</th>\n",
              "      <td>502</td>\n",
              "      <td>0.0</td>\n",
              "      <td>0.0</td>\n",
              "      <td>42</td>\n",
              "      <td>8</td>\n",
              "      <td>159660.80</td>\n",
              "      <td>3</td>\n",
              "      <td>1</td>\n",
              "      <td>0</td>\n",
              "      <td>113931.57</td>\n",
              "      <td>1</td>\n",
              "    </tr>\n",
              "    <tr>\n",
              "      <th>3</th>\n",
              "      <td>699</td>\n",
              "      <td>0.0</td>\n",
              "      <td>0.0</td>\n",
              "      <td>39</td>\n",
              "      <td>1</td>\n",
              "      <td>0.00</td>\n",
              "      <td>2</td>\n",
              "      <td>0</td>\n",
              "      <td>0</td>\n",
              "      <td>93826.63</td>\n",
              "      <td>0</td>\n",
              "    </tr>\n",
              "    <tr>\n",
              "      <th>4</th>\n",
              "      <td>850</td>\n",
              "      <td>2.0</td>\n",
              "      <td>0.0</td>\n",
              "      <td>43</td>\n",
              "      <td>2</td>\n",
              "      <td>125510.82</td>\n",
              "      <td>1</td>\n",
              "      <td>1</td>\n",
              "      <td>1</td>\n",
              "      <td>79084.10</td>\n",
              "      <td>0</td>\n",
              "    </tr>\n",
              "    <tr>\n",
              "      <th>...</th>\n",
              "      <td>...</td>\n",
              "      <td>...</td>\n",
              "      <td>...</td>\n",
              "      <td>...</td>\n",
              "      <td>...</td>\n",
              "      <td>...</td>\n",
              "      <td>...</td>\n",
              "      <td>...</td>\n",
              "      <td>...</td>\n",
              "      <td>...</td>\n",
              "      <td>...</td>\n",
              "    </tr>\n",
              "    <tr>\n",
              "      <th>9995</th>\n",
              "      <td>771</td>\n",
              "      <td>0.0</td>\n",
              "      <td>1.0</td>\n",
              "      <td>39</td>\n",
              "      <td>5</td>\n",
              "      <td>0.00</td>\n",
              "      <td>2</td>\n",
              "      <td>1</td>\n",
              "      <td>0</td>\n",
              "      <td>96270.64</td>\n",
              "      <td>0</td>\n",
              "    </tr>\n",
              "    <tr>\n",
              "      <th>9996</th>\n",
              "      <td>516</td>\n",
              "      <td>0.0</td>\n",
              "      <td>1.0</td>\n",
              "      <td>35</td>\n",
              "      <td>10</td>\n",
              "      <td>57369.61</td>\n",
              "      <td>1</td>\n",
              "      <td>1</td>\n",
              "      <td>1</td>\n",
              "      <td>101699.77</td>\n",
              "      <td>0</td>\n",
              "    </tr>\n",
              "    <tr>\n",
              "      <th>9997</th>\n",
              "      <td>709</td>\n",
              "      <td>0.0</td>\n",
              "      <td>0.0</td>\n",
              "      <td>36</td>\n",
              "      <td>7</td>\n",
              "      <td>0.00</td>\n",
              "      <td>1</td>\n",
              "      <td>0</td>\n",
              "      <td>1</td>\n",
              "      <td>42085.58</td>\n",
              "      <td>1</td>\n",
              "    </tr>\n",
              "    <tr>\n",
              "      <th>9998</th>\n",
              "      <td>772</td>\n",
              "      <td>1.0</td>\n",
              "      <td>1.0</td>\n",
              "      <td>42</td>\n",
              "      <td>3</td>\n",
              "      <td>75075.31</td>\n",
              "      <td>2</td>\n",
              "      <td>1</td>\n",
              "      <td>0</td>\n",
              "      <td>92888.52</td>\n",
              "      <td>1</td>\n",
              "    </tr>\n",
              "    <tr>\n",
              "      <th>9999</th>\n",
              "      <td>792</td>\n",
              "      <td>0.0</td>\n",
              "      <td>0.0</td>\n",
              "      <td>28</td>\n",
              "      <td>4</td>\n",
              "      <td>130142.79</td>\n",
              "      <td>1</td>\n",
              "      <td>1</td>\n",
              "      <td>0</td>\n",
              "      <td>38190.78</td>\n",
              "      <td>0</td>\n",
              "    </tr>\n",
              "  </tbody>\n",
              "</table>\n",
              "<p>10000 rows × 11 columns</p>\n",
              "</div>\n",
              "      <button class=\"colab-df-convert\" onclick=\"convertToInteractive('df-8d2b1940-9830-4eeb-aeaa-15383cf6d3f5')\"\n",
              "              title=\"Convert this dataframe to an interactive table.\"\n",
              "              style=\"display:none;\">\n",
              "        \n",
              "  <svg xmlns=\"http://www.w3.org/2000/svg\" height=\"24px\"viewBox=\"0 0 24 24\"\n",
              "       width=\"24px\">\n",
              "    <path d=\"M0 0h24v24H0V0z\" fill=\"none\"/>\n",
              "    <path d=\"M18.56 5.44l.94 2.06.94-2.06 2.06-.94-2.06-.94-.94-2.06-.94 2.06-2.06.94zm-11 1L8.5 8.5l.94-2.06 2.06-.94-2.06-.94L8.5 2.5l-.94 2.06-2.06.94zm10 10l.94 2.06.94-2.06 2.06-.94-2.06-.94-.94-2.06-.94 2.06-2.06.94z\"/><path d=\"M17.41 7.96l-1.37-1.37c-.4-.4-.92-.59-1.43-.59-.52 0-1.04.2-1.43.59L10.3 9.45l-7.72 7.72c-.78.78-.78 2.05 0 2.83L4 21.41c.39.39.9.59 1.41.59.51 0 1.02-.2 1.41-.59l7.78-7.78 2.81-2.81c.8-.78.8-2.07 0-2.86zM5.41 20L4 18.59l7.72-7.72 1.47 1.35L5.41 20z\"/>\n",
              "  </svg>\n",
              "      </button>\n",
              "      \n",
              "  <style>\n",
              "    .colab-df-container {\n",
              "      display:flex;\n",
              "      flex-wrap:wrap;\n",
              "      gap: 12px;\n",
              "    }\n",
              "\n",
              "    .colab-df-convert {\n",
              "      background-color: #E8F0FE;\n",
              "      border: none;\n",
              "      border-radius: 50%;\n",
              "      cursor: pointer;\n",
              "      display: none;\n",
              "      fill: #1967D2;\n",
              "      height: 32px;\n",
              "      padding: 0 0 0 0;\n",
              "      width: 32px;\n",
              "    }\n",
              "\n",
              "    .colab-df-convert:hover {\n",
              "      background-color: #E2EBFA;\n",
              "      box-shadow: 0px 1px 2px rgba(60, 64, 67, 0.3), 0px 1px 3px 1px rgba(60, 64, 67, 0.15);\n",
              "      fill: #174EA6;\n",
              "    }\n",
              "\n",
              "    [theme=dark] .colab-df-convert {\n",
              "      background-color: #3B4455;\n",
              "      fill: #D2E3FC;\n",
              "    }\n",
              "\n",
              "    [theme=dark] .colab-df-convert:hover {\n",
              "      background-color: #434B5C;\n",
              "      box-shadow: 0px 1px 3px 1px rgba(0, 0, 0, 0.15);\n",
              "      filter: drop-shadow(0px 1px 2px rgba(0, 0, 0, 0.3));\n",
              "      fill: #FFFFFF;\n",
              "    }\n",
              "  </style>\n",
              "\n",
              "      <script>\n",
              "        const buttonEl =\n",
              "          document.querySelector('#df-8d2b1940-9830-4eeb-aeaa-15383cf6d3f5 button.colab-df-convert');\n",
              "        buttonEl.style.display =\n",
              "          google.colab.kernel.accessAllowed ? 'block' : 'none';\n",
              "\n",
              "        async function convertToInteractive(key) {\n",
              "          const element = document.querySelector('#df-8d2b1940-9830-4eeb-aeaa-15383cf6d3f5');\n",
              "          const dataTable =\n",
              "            await google.colab.kernel.invokeFunction('convertToInteractive',\n",
              "                                                     [key], {});\n",
              "          if (!dataTable) return;\n",
              "\n",
              "          const docLinkHtml = 'Like what you see? Visit the ' +\n",
              "            '<a target=\"_blank\" href=https://colab.research.google.com/notebooks/data_table.ipynb>data table notebook</a>'\n",
              "            + ' to learn more about interactive tables.';\n",
              "          element.innerHTML = '';\n",
              "          dataTable['output_type'] = 'display_data';\n",
              "          await google.colab.output.renderOutput(dataTable, element);\n",
              "          const docLink = document.createElement('div');\n",
              "          docLink.innerHTML = docLinkHtml;\n",
              "          element.appendChild(docLink);\n",
              "        }\n",
              "      </script>\n",
              "    </div>\n",
              "  </div>\n",
              "  "
            ]
          },
          "metadata": {},
          "execution_count": 47
        }
      ]
    },
    {
      "cell_type": "markdown",
      "source": [
        "## Масшатабируем данные"
      ],
      "metadata": {
        "id": "KNuq598uYquG"
      }
    },
    {
      "cell_type": "code",
      "source": [
        "pd.options.mode.chained_assignment = None\n",
        "\n",
        "numeric = ['CreditScore', 'Age', 'Balance', 'EstimatedSalary']\n",
        "\n",
        "scaler = StandardScaler()\n",
        "scaler.fit(df[numeric]) \n",
        "\n",
        "df[numeric] = scaler.transform(df[numeric])"
      ],
      "metadata": {
        "id": "ApidHJUSNMYA"
      },
      "execution_count": 48,
      "outputs": []
    },
    {
      "cell_type": "markdown",
      "source": [
        "## Делим данные для модели"
      ],
      "metadata": {
        "id": "WiJEAcUJYyLZ"
      }
    },
    {
      "cell_type": "code",
      "source": [
        "features = df.drop('Exited', axis=1)\n",
        "target = df['Exited']"
      ],
      "metadata": {
        "id": "PQcmeL_zOfxo"
      },
      "execution_count": 49,
      "outputs": []
    },
    {
      "cell_type": "markdown",
      "source": [
        "Доработаем баланс классов"
      ],
      "metadata": {
        "id": "N-C81mo0Y4G2"
      }
    },
    {
      "cell_type": "code",
      "source": [
        "smt = SMOTE()\n",
        "features_res , target_res  = smt.fit_resample(features,target)\n",
        "target_res.value_counts()"
      ],
      "metadata": {
        "colab": {
          "base_uri": "https://localhost:8080/"
        },
        "id": "xtOomoSq_ROf",
        "outputId": "bda8797e-9c2a-4611-fc95-d20d610fd143"
      },
      "execution_count": 50,
      "outputs": [
        {
          "output_type": "execute_result",
          "data": {
            "text/plain": [
              "1    7963\n",
              "0    7963\n",
              "Name: Exited, dtype: int64"
            ]
          },
          "metadata": {},
          "execution_count": 50
        }
      ]
    },
    {
      "cell_type": "code",
      "source": [
        "features_train, features_test, target_train, target_test = train_test_split (features_res , target_res, random_state=42, test_size=0.25)"
      ],
      "metadata": {
        "id": "_9nrM_jtO-J-"
      },
      "execution_count": 51,
      "outputs": []
    },
    {
      "cell_type": "markdown",
      "source": [
        "#Построим модели"
      ],
      "metadata": {
        "id": "nhpKgqSDQTPs"
      }
    },
    {
      "cell_type": "markdown",
      "source": [
        "## LogisticRegression"
      ],
      "metadata": {
        "id": "nn0w0SfaEW8i"
      }
    },
    {
      "cell_type": "code",
      "source": [
        "skf = StratifiedKFold(n_splits=5, shuffle= True, random_state= 42)"
      ],
      "metadata": {
        "id": "J2hTgFMWpap9"
      },
      "execution_count": 52,
      "outputs": []
    },
    {
      "cell_type": "code",
      "source": [
        "lr = LogisticRegression(random_state=42)"
      ],
      "metadata": {
        "id": "yVjKWB8hUsDC"
      },
      "execution_count": 53,
      "outputs": []
    },
    {
      "cell_type": "markdown",
      "source": [
        "Подбираем гиперпараметры с помощью GridSearchCV"
      ],
      "metadata": {
        "id": "GoiCjimOdV26"
      }
    },
    {
      "cell_type": "code",
      "source": [
        "params_lr = {\"C\":np.logspace(-3,3,7)}\n",
        "best_lr = GridSearchCV(estimator= lr, param_grid= params_lr, \n",
        "                         cv= skf, verbose= True, n_jobs= -1,scoring='f1')"
      ],
      "metadata": {
        "id": "v8B7GWozpTq4"
      },
      "execution_count": 54,
      "outputs": []
    },
    {
      "cell_type": "code",
      "source": [
        "best_lr.fit(features_train, target_train)"
      ],
      "metadata": {
        "colab": {
          "base_uri": "https://localhost:8080/"
        },
        "outputId": "0e2ad605-991f-4f09-8912-aece0b9c97a2",
        "id": "K67QWm5FpTq6"
      },
      "execution_count": 55,
      "outputs": [
        {
          "output_type": "stream",
          "name": "stdout",
          "text": [
            "Fitting 5 folds for each of 7 candidates, totalling 35 fits\n"
          ]
        },
        {
          "output_type": "execute_result",
          "data": {
            "text/plain": [
              "GridSearchCV(cv=StratifiedKFold(n_splits=5, random_state=42, shuffle=True),\n",
              "             estimator=LogisticRegression(random_state=42), n_jobs=-1,\n",
              "             param_grid={'C': array([1.e-03, 1.e-02, 1.e-01, 1.e+00, 1.e+01, 1.e+02, 1.e+03])},\n",
              "             scoring='f1', verbose=True)"
            ]
          },
          "metadata": {},
          "execution_count": 55
        }
      ]
    },
    {
      "cell_type": "code",
      "source": [
        "lr_gs_best_params = best_lr.best_params_"
      ],
      "metadata": {
        "id": "IgmqXAlepTq8"
      },
      "execution_count": 56,
      "outputs": []
    },
    {
      "cell_type": "code",
      "source": [
        "best_lr.best_score_"
      ],
      "metadata": {
        "colab": {
          "base_uri": "https://localhost:8080/"
        },
        "outputId": "5c3ac257-66ff-40e8-ff7d-d51e868f819c",
        "id": "F5heqgIopTq8"
      },
      "execution_count": 57,
      "outputs": [
        {
          "output_type": "execute_result",
          "data": {
            "text/plain": [
              "0.7176393983211746"
            ]
          },
          "metadata": {},
          "execution_count": 57
        }
      ]
    },
    {
      "cell_type": "code",
      "source": [
        "lr = LogisticRegression(random_state=42, **lr_gs_best_params)"
      ],
      "metadata": {
        "id": "ptmEE9OaV3R7"
      },
      "execution_count": 58,
      "outputs": []
    },
    {
      "cell_type": "code",
      "source": [
        "lr.fit(features_train,target_train)\n",
        "pred_lr = lr.predict(features_test)"
      ],
      "metadata": {
        "id": "Coai2Io-j8A7"
      },
      "execution_count": 59,
      "outputs": []
    },
    {
      "cell_type": "code",
      "source": [
        "print(classification_report(target_test, pred_lr))"
      ],
      "metadata": {
        "colab": {
          "base_uri": "https://localhost:8080/"
        },
        "id": "fx1CfveSFFjn",
        "outputId": "2f8a4859-4a81-4d19-c812-b3c7ca575547"
      },
      "execution_count": 60,
      "outputs": [
        {
          "output_type": "stream",
          "name": "stdout",
          "text": [
            "              precision    recall  f1-score   support\n",
            "\n",
            "           0       0.72      0.71      0.72      2036\n",
            "           1       0.70      0.71      0.71      1946\n",
            "\n",
            "    accuracy                           0.71      3982\n",
            "   macro avg       0.71      0.71      0.71      3982\n",
            "weighted avg       0.71      0.71      0.71      3982\n",
            "\n"
          ]
        }
      ]
    },
    {
      "cell_type": "code",
      "source": [
        "lr_accuracy = accuracy_score(target_test, pred_lr)\n",
        "lr_precision = precision_score(target_test, pred_lr)\n",
        "lr_recall = recall_score(target_test, pred_lr)\n",
        "lr_f1 = f1_score(target_test, pred_lr)"
      ],
      "metadata": {
        "id": "Dyai_PkrFC8A"
      },
      "execution_count": 61,
      "outputs": []
    },
    {
      "cell_type": "code",
      "source": [
        "print(f'Logistic Redression \\n accuracy: {lr_accuracy} \\n precision: {lr_precision} \\n recall: {lr_recall} \\n f1: {lr_f1}')"
      ],
      "metadata": {
        "colab": {
          "base_uri": "https://localhost:8080/"
        },
        "id": "Yt9UKO_rGaJS",
        "outputId": "c32f3cf5-6511-433e-f3cd-4933daa388da"
      },
      "execution_count": 62,
      "outputs": [
        {
          "output_type": "stream",
          "name": "stdout",
          "text": [
            "Logistic Redression \n",
            " accuracy: 0.7124560522350578 \n",
            " precision: 0.7027848101265822 \n",
            " recall: 0.7132579650565262 \n",
            " f1: 0.7079826574853353\n"
          ]
        }
      ]
    },
    {
      "cell_type": "markdown",
      "source": [
        "Получили метрики на невысоком уровне"
      ],
      "metadata": {
        "id": "Xvz7iH6iZPv0"
      }
    },
    {
      "cell_type": "code",
      "source": [
        "confusion_matrix(target_test, pred_lr)\n",
        "\n",
        "\n",
        "cf_matrix_lr = confusion_matrix(target_test, pred_lr)\n",
        "print(cf_matrix_lr)\n",
        "\n",
        "ax = sns.heatmap(cf_matrix_lr/np.sum(cf_matrix_lr), annot=True, fmt='.2%', cmap='binary')\n",
        "ax.set_title('LogisticRegression\\n\\n');\n",
        "ax.set_xlabel('\\nPredicted Values')\n",
        "ax.set_ylabel('Actual Values ');\n",
        "\n",
        "ax.xaxis.set_ticklabels(['0','1'])\n",
        "ax.yaxis.set_ticklabels(['0','1'])\n",
        "\n",
        "plt.show()"
      ],
      "metadata": {
        "colab": {
          "base_uri": "https://localhost:8080/",
          "height": 380
        },
        "id": "LrPzUDmdF4za",
        "outputId": "e7932276-13d1-426b-e826-41e06d48fc52"
      },
      "execution_count": 63,
      "outputs": [
        {
          "output_type": "stream",
          "name": "stdout",
          "text": [
            "[[1449  587]\n",
            " [ 558 1388]]\n"
          ]
        },
        {
          "output_type": "display_data",
          "data": {
            "text/plain": [
              "<Figure size 432x288 with 2 Axes>"
            ],
            "image/png": "[encoded data removed]"
          },
          "metadata": {}
        }
      ]
    },
    {
      "cell_type": "code",
      "source": [
        "lr_auc_score=roc_auc_score(target_test,lr.predict(features_test))\n",
        "fpr,tpr,thresholds=roc_curve(target_test,lr.predict_proba(features_test)[:,1])\n",
        "plt.figure(figsize=(10,7))\n",
        "plt.plot(fpr,tpr,label=\"AUC(Area=%0.2f)\"%lr_auc_score)\n",
        "plt.plot([0,1],\"r--\")\n",
        "plt.xlim([0.0,1.0])\n",
        "plt.ylim([0.0,1.05])\n",
        "plt.xlabel(\"False Positive\")\n",
        "plt.ylabel(\"True Positive\")\n",
        "plt.title(\"ROC Random Forrest\")\n",
        "plt.show()"
      ],
      "metadata": {
        "colab": {
          "base_uri": "https://localhost:8080/",
          "height": 464
        },
        "id": "iFz_I3kco3wQ",
        "outputId": "32765de2-9ee4-4b1b-d458-9ec35d24d6c3"
      },
      "execution_count": 64,
      "outputs": [
        {
          "output_type": "display_data",
          "data": {
            "text/plain": [
              "<Figure size 720x504 with 1 Axes>"
            ],
            "image/png": "[encoded data removed]"
          },
          "metadata": {}
        }
      ]
    },
    {
      "cell_type": "code",
      "source": [
        "lr_auc_score"
      ],
      "metadata": {
        "colab": {
          "base_uri": "https://localhost:8080/"
        },
        "id": "v-0zfgHKaVYR",
        "outputId": "3e6e94db-3810-4829-d0a4-492ed113f08e"
      },
      "execution_count": 65,
      "outputs": [
        {
          "output_type": "execute_result",
          "data": {
            "text/plain": [
              "0.7124737762414263"
            ]
          },
          "metadata": {},
          "execution_count": 65
        }
      ]
    },
    {
      "cell_type": "markdown",
      "source": [
        "Значение roc_auc так же на невымоком уровне"
      ],
      "metadata": {
        "id": "pJnHm5HRaOyE"
      }
    },
    {
      "cell_type": "markdown",
      "source": [
        "## RandomForestClassifier"
      ],
      "metadata": {
        "id": "4KR4lENKEbiO"
      }
    },
    {
      "cell_type": "markdown",
      "source": [
        "\n",
        "Подбираем параметры с помощь GridSearchCV"
      ],
      "metadata": {
        "id": "U5Ddx8nda2fx"
      }
    },
    {
      "cell_type": "code",
      "source": [
        "rf = RandomForestClassifier(random_state=42)\n",
        "params = {'max_depth': [10,20, 30,40,50],\n",
        "         'min_samples_leaf': [3,6,9],\n",
        "          'n_estimators': [100,200,300]}\n",
        "best_tree = GridSearchCV(estimator= rf, param_grid= params, \n",
        "                         cv= skf, verbose= True, n_jobs= -1,scoring='f1')"
      ],
      "metadata": {
        "id": "nzpl4HlJXZyR"
      },
      "execution_count": 66,
      "outputs": []
    },
    {
      "cell_type": "code",
      "source": [
        "best_tree.fit(features_train, target_train)"
      ],
      "metadata": {
        "colab": {
          "base_uri": "https://localhost:8080/"
        },
        "id": "izG54bbMYK8F",
        "outputId": "e0481eba-8c41-4353-8b13-28c865adcc31"
      },
      "execution_count": 67,
      "outputs": [
        {
          "output_type": "stream",
          "name": "stdout",
          "text": [
            "Fitting 5 folds for each of 45 candidates, totalling 225 fits\n"
          ]
        },
        {
          "output_type": "execute_result",
          "data": {
            "text/plain": [
              "GridSearchCV(cv=StratifiedKFold(n_splits=5, random_state=42, shuffle=True),\n",
              "             estimator=RandomForestClassifier(random_state=42), n_jobs=-1,\n",
              "             param_grid={'max_depth': [10, 20, 30, 40, 50],\n",
              "                         'min_samples_leaf': [3, 6, 9],\n",
              "                         'n_estimators': [100, 200, 300]},\n",
              "             scoring='f1', verbose=True)"
            ]
          },
          "metadata": {},
          "execution_count": 67
        }
      ]
    },
    {
      "cell_type": "code",
      "source": [
        "rf_gs_best_params = best_tree.best_params_"
      ],
      "metadata": {
        "id": "WtN2OdM2YS1z"
      },
      "execution_count": 69,
      "outputs": []
    },
    {
      "cell_type": "code",
      "source": [
        "best_tree.best_score_"
      ],
      "metadata": {
        "colab": {
          "base_uri": "https://localhost:8080/"
        },
        "id": "Dn5rkpscYbGs",
        "outputId": "183ef532-24ad-4385-9725-86be9b3742e2"
      },
      "execution_count": 70,
      "outputs": [
        {
          "output_type": "execute_result",
          "data": {
            "text/plain": [
              "0.8771684576710502"
            ]
          },
          "metadata": {},
          "execution_count": 70
        }
      ]
    },
    {
      "cell_type": "markdown",
      "source": [
        "Получили значение f1 лучше чем на предыдущей модели"
      ],
      "metadata": {
        "id": "ttV1R28MbFZT"
      }
    },
    {
      "cell_type": "code",
      "source": [
        "pip install --q optuna"
      ],
      "metadata": {
        "colab": {
          "base_uri": "https://localhost:8080/"
        },
        "id": "NIsZumjcZfax",
        "outputId": "ed40d919-a559-4e12-888a-2d155e1942d5"
      },
      "execution_count": 71,
      "outputs": [
        {
          "output_type": "stream",
          "name": "stdout",
          "text": [
            "\u001b[2K     \u001b[90m━━━━━━━━━━━━━━━━━━━━━━━━━━━━━━━━━━━━━━\u001b[0m \u001b[32m348.5/348.5 KB\u001b[0m \u001b[31m10.7 MB/s\u001b[0m eta \u001b[36m0:00:00\u001b[0m\n",
            "\u001b[2K     \u001b[90m━━━━━━━━━━━━━━━━━━━━━━━━━━━━━━━━━━━━━━\u001b[0m \u001b[32m210.4/210.4 KB\u001b[0m \u001b[31m21.1 MB/s\u001b[0m eta \u001b[36m0:00:00\u001b[0m\n",
            "\u001b[2K     \u001b[90m━━━━━━━━━━━━━━━━━━━━━━━━━━━━━━━━━━━━━━━━\u001b[0m \u001b[32m81.0/81.0 KB\u001b[0m \u001b[31m9.5 MB/s\u001b[0m eta \u001b[36m0:00:00\u001b[0m\n",
            "\u001b[2K     \u001b[90m━━━━━━━━━━━━━━━━━━━━━━━━━━━━━━━━━━━━━━━━\u001b[0m \u001b[32m78.7/78.7 KB\u001b[0m \u001b[31m9.3 MB/s\u001b[0m eta \u001b[36m0:00:00\u001b[0m\n",
            "\u001b[2K     \u001b[90m━━━━━━━━━━━━━━━━━━━━━━━━━━━━━━━━━━━━━━━━\u001b[0m \u001b[32m50.0/50.0 KB\u001b[0m \u001b[31m5.1 MB/s\u001b[0m eta \u001b[36m0:00:00\u001b[0m\n",
            "\u001b[2K     \u001b[90m━━━━━━━━━━━━━━━━━━━━━━━━━━━━━━━━━━━━━━\u001b[0m \u001b[32m147.1/147.1 KB\u001b[0m \u001b[31m14.1 MB/s\u001b[0m eta \u001b[36m0:00:00\u001b[0m\n",
            "\u001b[?25h  Preparing metadata (setup.py) ... \u001b[?25l\u001b[?25hdone\n",
            "\u001b[2K     \u001b[90m━━━━━━━━━━━━━━━━━━━━━━━━━━━━━━━━━━━━━━\u001b[0m \u001b[32m112.7/112.7 KB\u001b[0m \u001b[31m12.4 MB/s\u001b[0m eta \u001b[36m0:00:00\u001b[0m\n",
            "\u001b[?25h  Building wheel for pyperclip (setup.py) ... \u001b[?25l\u001b[?25hdone\n"
          ]
        }
      ]
    },
    {
      "cell_type": "markdown",
      "source": [
        "Подбираем гиперпараметры с помощью optuna"
      ],
      "metadata": {
        "id": "FmVt8YNgbThb"
      }
    },
    {
      "cell_type": "code",
      "source": [
        "import optuna\n",
        "param_rf = {\n",
        "            \"max_depth\": optuna.distributions.IntDistribution (2, 80),\n",
        "            'min_samples_leaf': optuna.distributions.IntDistribution (2,40),\n",
        "            'n_estimators': optuna.distributions.IntDistribution (50,500)\n",
        "            }\n",
        "optuna_search = optuna.integration.OptunaSearchCV(rf,param_rf, cv=3, scoring='f1',n_jobs=-1,n_trials=100)\n",
        "optuna_search.fit(features_train, target_train)"
      ],
      "metadata": {
        "colab": {
          "base_uri": "https://localhost:8080/"
        },
        "id": "x2r-bpoMYdSk",
        "outputId": "73f8819e-a907-4721-c963-0253d816ca50"
      },
      "execution_count": 72,
      "outputs": [
        {
          "output_type": "stream",
          "name": "stderr",
          "text": [
            "<ipython-input-72-3ec0a18bed29>:7: ExperimentalWarning:\n",
            "\n",
            "OptunaSearchCV is experimental (supported from v0.17.0). The interface can change in the future.\n",
            "\n",
            "\u001b[32m[I 2023-01-13 09:26:55,823]\u001b[0m A new study created in memory with name: no-name-403b537b-a145-419e-b1a0-b401ccc2c531\u001b[0m\n",
            "\u001b[32m[I 2023-01-13 09:26:57,918]\u001b[0m Trial 0 finished with value: 0.8011454485124551 and parameters: {'max_depth': 3, 'min_samples_leaf': 13, 'n_estimators': 65}. Best is trial 0 with value: 0.8011454485124551.\u001b[0m\n",
            "\u001b[32m[I 2023-01-13 09:27:03,571]\u001b[0m Trial 1 finished with value: 0.8290606956001357 and parameters: {'max_depth': 27, 'min_samples_leaf': 38, 'n_estimators': 170}. Best is trial 1 with value: 0.8290606956001357.\u001b[0m\n",
            "\u001b[32m[I 2023-01-13 09:27:15,583]\u001b[0m Trial 2 finished with value: 0.8239540615333475 and parameters: {'max_depth': 6, 'min_samples_leaf': 31, 'n_estimators': 334}. Best is trial 1 with value: 0.8290606956001357.\u001b[0m\n",
            "\u001b[32m[I 2023-01-13 09:27:26,548]\u001b[0m Trial 4 finished with value: 0.8464930076448721 and parameters: {'max_depth': 24, 'min_samples_leaf': 14, 'n_estimators': 89}. Best is trial 4 with value: 0.8464930076448721.\u001b[0m\n",
            "\u001b[32m[I 2023-01-13 09:27:50,104]\u001b[0m Trial 3 finished with value: 0.8340668953269003 and parameters: {'max_depth': 43, 'min_samples_leaf': 29, 'n_estimators': 464}. Best is trial 4 with value: 0.8464930076448721.\u001b[0m\n",
            "\u001b[32m[I 2023-01-13 09:27:53,241]\u001b[0m Trial 5 finished with value: 0.8341325120898727 and parameters: {'max_depth': 49, 'min_samples_leaf': 29, 'n_estimators': 222}. Best is trial 4 with value: 0.8464930076448721.\u001b[0m\n",
            "\u001b[32m[I 2023-01-13 09:28:12,113]\u001b[0m Trial 6 finished with value: 0.8576414512765097 and parameters: {'max_depth': 42, 'min_samples_leaf': 8, 'n_estimators': 263}. Best is trial 6 with value: 0.8576414512765097.\u001b[0m\n",
            "\u001b[32m[I 2023-01-13 09:28:13,273]\u001b[0m Trial 7 finished with value: 0.8239903263048077 and parameters: {'max_depth': 6, 'min_samples_leaf': 34, 'n_estimators': 375}. Best is trial 6 with value: 0.8576414512765097.\u001b[0m\n",
            "\u001b[32m[I 2023-01-13 09:28:18,282]\u001b[0m Trial 9 finished with value: 0.8515550184620423 and parameters: {'max_depth': 21, 'min_samples_leaf': 10, 'n_estimators': 92}. Best is trial 6 with value: 0.8576414512765097.\u001b[0m\n",
            "\u001b[32m[I 2023-01-13 09:28:34,939]\u001b[0m Trial 10 finished with value: 0.8805262216498625 and parameters: {'max_depth': 76, 'min_samples_leaf': 2, 'n_estimators': 179}. Best is trial 10 with value: 0.8805262216498625.\u001b[0m\n",
            "\u001b[32m[I 2023-01-13 09:28:34,960]\u001b[0m Trial 8 finished with value: 0.8429210960512185 and parameters: {'max_depth': 50, 'min_samples_leaf': 17, 'n_estimators': 346}. Best is trial 10 with value: 0.8805262216498625.\u001b[0m\n",
            "\u001b[32m[I 2023-01-13 09:28:50,152]\u001b[0m Trial 12 finished with value: 0.8813919948844524 and parameters: {'max_depth': 78, 'min_samples_leaf': 2, 'n_estimators': 205}. Best is trial 12 with value: 0.8813919948844524.\u001b[0m\n",
            "\u001b[32m[I 2023-01-13 09:28:50,813]\u001b[0m Trial 11 finished with value: 0.8731496446219 and parameters: {'max_depth': 79, 'min_samples_leaf': 3, 'n_estimators': 219}. Best is trial 12 with value: 0.8813919948844524.\u001b[0m\n",
            "\u001b[32m[I 2023-01-13 09:28:59,275]\u001b[0m Trial 13 finished with value: 0.8804512388783451 and parameters: {'max_depth': 78, 'min_samples_leaf': 2, 'n_estimators': 166}. Best is trial 12 with value: 0.8813919948844524.\u001b[0m\n",
            "\u001b[32m[I 2023-01-13 09:28:59,744]\u001b[0m Trial 14 finished with value: 0.8734191100978964 and parameters: {'max_depth': 80, 'min_samples_leaf': 3, 'n_estimators': 162}. Best is trial 12 with value: 0.8813919948844524.\u001b[0m\n",
            "\u001b[32m[I 2023-01-13 09:29:06,683]\u001b[0m Trial 15 finished with value: 0.8406468645539037 and parameters: {'max_depth': 65, 'min_samples_leaf': 20, 'n_estimators': 163}. Best is trial 12 with value: 0.8813919948844524.\u001b[0m\n",
            "\u001b[32m[I 2023-01-13 09:29:13,342]\u001b[0m Trial 16 finished with value: 0.8410422363179565 and parameters: {'max_depth': 63, 'min_samples_leaf': 19, 'n_estimators': 287}. Best is trial 12 with value: 0.8813919948844524.\u001b[0m\n",
            "\u001b[32m[I 2023-01-13 09:29:23,907]\u001b[0m Trial 17 finished with value: 0.8578207202427524 and parameters: {'max_depth': 64, 'min_samples_leaf': 8, 'n_estimators': 287}. Best is trial 12 with value: 0.8813919948844524.\u001b[0m\n",
            "\u001b[32m[I 2023-01-13 09:29:25,453]\u001b[0m Trial 18 finished with value: 0.8371928910546599 and parameters: {'max_depth': 65, 'min_samples_leaf': 24, 'n_estimators': 220}. Best is trial 12 with value: 0.8813919948844524.\u001b[0m\n",
            "\u001b[32m[I 2023-01-13 09:29:30,710]\u001b[0m Trial 19 finished with value: 0.8368971254441174 and parameters: {'max_depth': 67, 'min_samples_leaf': 24, 'n_estimators': 125}. Best is trial 12 with value: 0.8813919948844524.\u001b[0m\n",
            "\u001b[32m[I 2023-01-13 09:29:33,081]\u001b[0m Trial 20 finished with value: 0.8606291940377443 and parameters: {'max_depth': 73, 'min_samples_leaf': 7, 'n_estimators': 121}. Best is trial 12 with value: 0.8813919948844524.\u001b[0m\n",
            "\u001b[32m[I 2023-01-13 09:29:48,258]\u001b[0m Trial 22 finished with value: 0.8802157813440458 and parameters: {'max_depth': 55, 'min_samples_leaf': 2, 'n_estimators': 182}. Best is trial 12 with value: 0.8813919948844524.\u001b[0m\n",
            "\u001b[32m[I 2023-01-13 09:30:06,256]\u001b[0m Trial 21 finished with value: 0.8641666752587295 and parameters: {'max_depth': 72, 'min_samples_leaf': 6, 'n_estimators': 460}. Best is trial 12 with value: 0.8813919948844524.\u001b[0m\n",
            "\u001b[32m[I 2023-01-13 09:30:08,456]\u001b[0m Trial 23 finished with value: 0.863995683142542 and parameters: {'max_depth': 72, 'min_samples_leaf': 6, 'n_estimators': 248}. Best is trial 12 with value: 0.8813919948844524.\u001b[0m\n",
            "\u001b[32m[I 2023-01-13 09:30:19,883]\u001b[0m Trial 25 finished with value: 0.8519311228325123 and parameters: {'max_depth': 57, 'min_samples_leaf': 11, 'n_estimators': 131}. Best is trial 12 with value: 0.8813919948844524.\u001b[0m\n",
            "\u001b[32m[I 2023-01-13 09:30:23,892]\u001b[0m Trial 24 finished with value: 0.8507639344687808 and parameters: {'max_depth': 74, 'min_samples_leaf': 12, 'n_estimators': 249}. Best is trial 12 with value: 0.8813919948844524.\u001b[0m\n",
            "\u001b[32m[I 2023-01-13 09:30:32,534]\u001b[0m Trial 26 finished with value: 0.881140652221836 and parameters: {'max_depth': 80, 'min_samples_leaf': 2, 'n_estimators': 196}. Best is trial 12 with value: 0.8813919948844524.\u001b[0m\n",
            "\u001b[32m[I 2023-01-13 09:30:41,768]\u001b[0m Trial 27 finished with value: 0.8808290521478654 and parameters: {'max_depth': 80, 'min_samples_leaf': 2, 'n_estimators': 194}. Best is trial 12 with value: 0.8813919948844524.\u001b[0m\n",
            "\u001b[32m[I 2023-01-13 09:30:48,948]\u001b[0m Trial 28 finished with value: 0.8655324854737013 and parameters: {'max_depth': 57, 'min_samples_leaf': 5, 'n_estimators': 192}. Best is trial 12 with value: 0.8813919948844524.\u001b[0m\n",
            "\u001b[32m[I 2023-01-13 09:30:52,440]\u001b[0m Trial 29 finished with value: 0.8448112885095953 and parameters: {'max_depth': 32, 'min_samples_leaf': 16, 'n_estimators': 207}. Best is trial 12 with value: 0.8813919948844524.\u001b[0m\n",
            "\u001b[32m[I 2023-01-13 09:31:03,846]\u001b[0m Trial 30 finished with value: 0.8469812466976969 and parameters: {'max_depth': 36, 'min_samples_leaf': 15, 'n_estimators': 315}. Best is trial 12 with value: 0.8813919948844524.\u001b[0m\n",
            "\u001b[32m[I 2023-01-13 09:31:07,638]\u001b[0m Trial 31 finished with value: 0.8530096860782516 and parameters: {'max_depth': 68, 'min_samples_leaf': 10, 'n_estimators': 311}. Best is trial 12 with value: 0.8813919948844524.\u001b[0m\n",
            "\u001b[32m[I 2023-01-13 09:31:12,452]\u001b[0m Trial 32 finished with value: 0.8710568033473759 and parameters: {'max_depth': 80, 'min_samples_leaf': 4, 'n_estimators': 137}. Best is trial 12 with value: 0.8813919948844524.\u001b[0m\n",
            "\u001b[32m[I 2023-01-13 09:31:15,344]\u001b[0m Trial 34 finished with value: 0.8291761367464495 and parameters: {'max_depth': 76, 'min_samples_leaf': 40, 'n_estimators': 75}. Best is trial 12 with value: 0.8813919948844524.\u001b[0m\n",
            "\u001b[32m[I 2023-01-13 09:31:16,346]\u001b[0m Trial 33 finished with value: 0.8711526691025734 and parameters: {'max_depth': 74, 'min_samples_leaf': 4, 'n_estimators': 138}. Best is trial 12 with value: 0.8813919948844524.\u001b[0m\n",
            "\u001b[32m[I 2023-01-13 09:31:18,751]\u001b[0m Trial 36 finished with value: 0.8538273212565158 and parameters: {'max_depth': 70, 'min_samples_leaf': 9, 'n_estimators': 50}. Best is trial 12 with value: 0.8813919948844524.\u001b[0m\n",
            "\u001b[32m[I 2023-01-13 09:31:27,687]\u001b[0m Trial 35 finished with value: 0.8645678133484457 and parameters: {'max_depth': 71, 'min_samples_leaf': 5, 'n_estimators': 237}. Best is trial 12 with value: 0.8813919948844524.\u001b[0m\n",
            "\u001b[32m[I 2023-01-13 09:31:32,442]\u001b[0m Trial 37 finished with value: 0.8805188019416713 and parameters: {'max_depth': 59, 'min_samples_leaf': 2, 'n_estimators': 246}. Best is trial 12 with value: 0.8813919948844524.\u001b[0m\n",
            "\u001b[32m[I 2023-01-13 09:31:38,347]\u001b[0m Trial 38 finished with value: 0.8808290521478654 and parameters: {'max_depth': 60, 'min_samples_leaf': 2, 'n_estimators': 194}. Best is trial 12 with value: 0.8813919948844524.\u001b[0m\n",
            "\u001b[32m[I 2023-01-13 09:31:42,257]\u001b[0m Trial 39 finished with value: 0.8595454887147099 and parameters: {'max_depth': 77, 'min_samples_leaf': 7, 'n_estimators': 200}. Best is trial 12 with value: 0.8813919948844524.\u001b[0m\n",
            "\u001b[32m[I 2023-01-13 09:31:49,512]\u001b[0m Trial 40 finished with value: 0.8596227358671239 and parameters: {'max_depth': 50, 'min_samples_leaf': 7, 'n_estimators': 206}. Best is trial 12 with value: 0.8813919948844524.\u001b[0m\n",
            "\u001b[32m[I 2023-01-13 09:31:55,127]\u001b[0m Trial 42 finished with value: 0.8792716759845026 and parameters: {'max_depth': 61, 'min_samples_leaf': 2, 'n_estimators': 104}. Best is trial 12 with value: 0.8813919948844524.\u001b[0m\n",
            "\u001b[32m[I 2023-01-13 09:31:56,882]\u001b[0m Trial 41 finished with value: 0.8655194470891531 and parameters: {'max_depth': 50, 'min_samples_leaf': 5, 'n_estimators': 271}. Best is trial 12 with value: 0.8813919948844524.\u001b[0m\n",
            "\u001b[32m[I 2023-01-13 09:32:03,327]\u001b[0m Trial 43 finished with value: 0.8473931719750342 and parameters: {'max_depth': 76, 'min_samples_leaf': 13, 'n_estimators': 179}. Best is trial 12 with value: 0.8813919948844524.\u001b[0m\n",
            "\u001b[32m[I 2023-01-13 09:32:05,111]\u001b[0m Trial 44 finished with value: 0.8709538297573277 and parameters: {'max_depth': 76, 'min_samples_leaf': 4, 'n_estimators': 160}. Best is trial 12 with value: 0.8813919948844524.\u001b[0m\n",
            "\u001b[32m[I 2023-01-13 09:32:09,456]\u001b[0m Trial 45 finished with value: 0.8306963593822768 and parameters: {'max_depth': 16, 'min_samples_leaf': 34, 'n_estimators': 153}. Best is trial 12 with value: 0.8813919948844524.\u001b[0m\n",
            "\u001b[32m[I 2023-01-13 09:32:14,175]\u001b[0m Trial 46 finished with value: 0.8316434999463634 and parameters: {'max_depth': 13, 'min_samples_leaf': 32, 'n_estimators': 225}. Best is trial 12 with value: 0.8813919948844524.\u001b[0m\n",
            "\u001b[32m[I 2023-01-13 09:32:20,875]\u001b[0m Trial 47 finished with value: 0.8551790752161642 and parameters: {'max_depth': 46, 'min_samples_leaf': 9, 'n_estimators': 223}. Best is trial 12 with value: 0.8813919948844524.\u001b[0m\n",
            "\u001b[32m[I 2023-01-13 09:32:24,084]\u001b[0m Trial 48 finished with value: 0.854489576559 and parameters: {'max_depth': 80, 'min_samples_leaf': 9, 'n_estimators': 190}. Best is trial 12 with value: 0.8813919948844524.\u001b[0m\n",
            "\u001b[32m[I 2023-01-13 09:32:45,366]\u001b[0m Trial 50 finished with value: 0.8739552705661708 and parameters: {'max_depth': 68, 'min_samples_leaf': 3, 'n_estimators': 400}. Best is trial 12 with value: 0.8813919948844524.\u001b[0m\n",
            "\u001b[32m[I 2023-01-13 09:32:47,456]\u001b[0m Trial 49 finished with value: 0.8739085805328454 and parameters: {'max_depth': 80, 'min_samples_leaf': 3, 'n_estimators': 498}. Best is trial 12 with value: 0.8813919948844524.\u001b[0m\n",
            "\u001b[32m[I 2023-01-13 09:32:51,641]\u001b[0m Trial 51 finished with value: 0.8353669107625641 and parameters: {'max_depth': 54, 'min_samples_leaf': 23, 'n_estimators': 148}. Best is trial 12 with value: 0.8813919948844524.\u001b[0m\n",
            "\u001b[32m[I 2023-01-13 09:33:01,129]\u001b[0m Trial 52 finished with value: 0.880663959355882 and parameters: {'max_depth': 59, 'min_samples_leaf': 2, 'n_estimators': 249}. Best is trial 12 with value: 0.8813919948844524.\u001b[0m\n",
            "\u001b[32m[I 2023-01-13 09:33:05,968]\u001b[0m Trial 53 finished with value: 0.8803736033426265 and parameters: {'max_depth': 61, 'min_samples_leaf': 2, 'n_estimators': 258}. Best is trial 12 with value: 0.8813919948844524.\u001b[0m\n",
            "\u001b[32m[I 2023-01-13 09:33:10,755]\u001b[0m Trial 54 finished with value: 0.8803163094702945 and parameters: {'max_depth': 37, 'min_samples_leaf': 2, 'n_estimators': 175}. Best is trial 12 with value: 0.8813919948844524.\u001b[0m\n",
            "\u001b[32m[I 2023-01-13 09:33:22,242]\u001b[0m Trial 55 finished with value: 0.8640956904345211 and parameters: {'max_depth': 69, 'min_samples_leaf': 6, 'n_estimators': 279}. Best is trial 12 with value: 0.8813919948844524.\u001b[0m\n",
            "\u001b[32m[I 2023-01-13 09:33:27,365]\u001b[0m Trial 56 finished with value: 0.863999337712143 and parameters: {'max_depth': 45, 'min_samples_leaf': 6, 'n_estimators': 288}. Best is trial 12 with value: 0.8813919948844524.\u001b[0m\n",
            "\u001b[32m[I 2023-01-13 09:33:33,946]\u001b[0m Trial 57 finished with value: 0.8704115471023727 and parameters: {'max_depth': 45, 'min_samples_leaf': 4, 'n_estimators': 208}. Best is trial 12 with value: 0.8813919948844524.\u001b[0m\n",
            "\u001b[32m[I 2023-01-13 09:33:40,038]\u001b[0m Trial 58 finished with value: 0.8703287820289086 and parameters: {'max_depth': 66, 'min_samples_leaf': 4, 'n_estimators': 228}. Best is trial 12 with value: 0.8813919948844524.\u001b[0m\n",
            "\u001b[32m[I 2023-01-13 09:33:43,706]\u001b[0m Trial 59 finished with value: 0.8580027291199607 and parameters: {'max_depth': 66, 'min_samples_leaf': 8, 'n_estimators': 174}. Best is trial 12 with value: 0.8813919948844524.\u001b[0m\n",
            "\u001b[32m[I 2023-01-13 09:33:46,734]\u001b[0m Trial 60 finished with value: 0.8610378853821931 and parameters: {'max_depth': 74, 'min_samples_leaf': 7, 'n_estimators': 105}. Best is trial 12 with value: 0.8813919948844524.\u001b[0m\n",
            "\u001b[32m[I 2023-01-13 09:33:49,537]\u001b[0m Trial 61 finished with value: 0.8654608232335566 and parameters: {'max_depth': 74, 'min_samples_leaf': 5, 'n_estimators': 113}. Best is trial 12 with value: 0.8813919948844524.\u001b[0m\n",
            "\u001b[32m[I 2023-01-13 09:34:00,497]\u001b[0m Trial 62 finished with value: 0.8805211826475349 and parameters: {'max_depth': 58, 'min_samples_leaf': 2, 'n_estimators': 251}. Best is trial 12 with value: 0.8813919948844524.\u001b[0m\n",
            "\u001b[32m[I 2023-01-13 09:34:03,307]\u001b[0m Trial 63 finished with value: 0.8805211826475349 and parameters: {'max_depth': 62, 'min_samples_leaf': 2, 'n_estimators': 251}. Best is trial 12 with value: 0.8813919948844524.\u001b[0m\n",
            "\u001b[32m[I 2023-01-13 09:34:13,704]\u001b[0m Trial 65 finished with value: 0.8745013743981499 and parameters: {'max_depth': 54, 'min_samples_leaf': 3, 'n_estimators': 195}. Best is trial 12 with value: 0.8813919948844524.\u001b[0m\n",
            "\u001b[32m[I 2023-01-13 09:34:14,665]\u001b[0m Trial 64 finished with value: 0.8740029793000529 and parameters: {'max_depth': 53, 'min_samples_leaf': 3, 'n_estimators': 264}. Best is trial 12 with value: 0.8813919948844524.\u001b[0m\n",
            "\u001b[32m[I 2023-01-13 09:34:27,133]\u001b[0m Trial 67 finished with value: 0.8344644635041901 and parameters: {'max_depth': 63, 'min_samples_leaf': 27, 'n_estimators': 304}. Best is trial 12 with value: 0.8813919948844524.\u001b[0m\n",
            "\u001b[32m[I 2023-01-13 09:34:29,451]\u001b[0m Trial 66 finished with value: 0.8647821068104834 and parameters: {'max_depth': 77, 'min_samples_leaf': 5, 'n_estimators': 309}. Best is trial 12 with value: 0.8813919948844524.\u001b[0m\n",
            "\u001b[32m[I 2023-01-13 09:34:37,897]\u001b[0m Trial 68 finished with value: 0.8644666339441839 and parameters: {'max_depth': 78, 'min_samples_leaf': 5, 'n_estimators': 214}. Best is trial 12 with value: 0.8813919948844524.\u001b[0m\n",
            "\u001b[32m[I 2023-01-13 09:34:40,271]\u001b[0m Trial 69 finished with value: 0.8519560937367946 and parameters: {'max_depth': 72, 'min_samples_leaf': 11, 'n_estimators': 233}. Best is trial 12 with value: 0.8813919948844524.\u001b[0m\n",
            "\u001b[32m[I 2023-01-13 09:34:50,321]\u001b[0m Trial 70 finished with value: 0.8740419549128772 and parameters: {'max_depth': 71, 'min_samples_leaf': 3, 'n_estimators': 237}. Best is trial 12 with value: 0.8813919948844524.\u001b[0m\n",
            "\u001b[32m[I 2023-01-13 09:34:57,965]\u001b[0m Trial 71 finished with value: 0.8630374763030773 and parameters: {'max_depth': 58, 'min_samples_leaf': 6, 'n_estimators': 357}. Best is trial 12 with value: 0.8813919948844524.\u001b[0m\n",
            "\u001b[32m[I 2023-01-13 09:35:04,134]\u001b[0m Trial 72 finished with value: 0.8808689910833704 and parameters: {'max_depth': 63, 'min_samples_leaf': 2, 'n_estimators': 254}. Best is trial 12 with value: 0.8813919948844524.\u001b[0m\n",
            "\u001b[32m[I 2023-01-13 09:35:11,927]\u001b[0m Trial 73 finished with value: 0.8806710425402714 and parameters: {'max_depth': 64, 'min_samples_leaf': 2, 'n_estimators': 253}. Best is trial 12 with value: 0.8813919948844524.\u001b[0m\n",
            "\u001b[32m[I 2023-01-13 09:35:14,207]\u001b[0m Trial 74 finished with value: 0.880116672545031 and parameters: {'max_depth': 62, 'min_samples_leaf': 2, 'n_estimators': 184}. Best is trial 12 with value: 0.8813919948844524.\u001b[0m\n",
            "\u001b[32m[I 2023-01-13 09:35:21,493]\u001b[0m Trial 75 finished with value: 0.8702036375053673 and parameters: {'max_depth': 69, 'min_samples_leaf': 4, 'n_estimators': 183}. Best is trial 12 with value: 0.8813919948844524.\u001b[0m\n",
            "\u001b[32m[I 2023-01-13 09:35:25,497]\u001b[0m Trial 76 finished with value: 0.8699628025641525 and parameters: {'max_depth': 69, 'min_samples_leaf': 4, 'n_estimators': 215}. Best is trial 12 with value: 0.8813919948844524.\u001b[0m\n",
            "\u001b[32m[I 2023-01-13 09:35:31,966]\u001b[0m Trial 77 finished with value: 0.8712986019448751 and parameters: {'max_depth': 78, 'min_samples_leaf': 4, 'n_estimators': 201}. Best is trial 12 with value: 0.8813919948844524.\u001b[0m\n",
            "\u001b[32m[I 2023-01-13 09:35:35,735]\u001b[0m Trial 78 finished with value: 0.8595454887147099 and parameters: {'max_depth': 65, 'min_samples_leaf': 7, 'n_estimators': 200}. Best is trial 12 with value: 0.8813919948844524.\u001b[0m\n",
            "\u001b[32m[I 2023-01-13 09:35:40,547]\u001b[0m Trial 79 finished with value: 0.8585363358056619 and parameters: {'max_depth': 65, 'min_samples_leaf': 8, 'n_estimators': 167}. Best is trial 12 with value: 0.8813919948844524.\u001b[0m\n",
            "\u001b[32m[I 2023-01-13 09:35:44,190]\u001b[0m Trial 80 finished with value: 0.8587722906029205 and parameters: {'max_depth': 75, 'min_samples_leaf': 8, 'n_estimators': 166}. Best is trial 12 with value: 0.8813919948844524.\u001b[0m\n",
            "\u001b[32m[I 2023-01-13 09:35:54,100]\u001b[0m Trial 81 finished with value: 0.8743574040003849 and parameters: {'max_depth': 60, 'min_samples_leaf': 3, 'n_estimators': 240}. Best is trial 12 with value: 0.8813919948844524.\u001b[0m\n",
            "\u001b[32m[I 2023-01-13 09:36:03,132]\u001b[0m Trial 82 finished with value: 0.8812198408302115 and parameters: {'max_depth': 59, 'min_samples_leaf': 2, 'n_estimators': 242}. Best is trial 12 with value: 0.8813919948844524.\u001b[0m\n",
            "\u001b[32m[I 2023-01-13 09:36:16,347]\u001b[0m Trial 83 finished with value: 0.8815233448846488 and parameters: {'max_depth': 52, 'min_samples_leaf': 2, 'n_estimators': 295}. Best is trial 83 with value: 0.8815233448846488.\u001b[0m\n",
            "\u001b[32m[I 2023-01-13 09:36:22,523]\u001b[0m Trial 84 finished with value: 0.8808555522404399 and parameters: {'max_depth': 56, 'min_samples_leaf': 2, 'n_estimators': 292}. Best is trial 83 with value: 0.8815233448846488.\u001b[0m\n",
            "\u001b[32m[I 2023-01-13 09:36:33,812]\u001b[0m Trial 85 finished with value: 0.8740948376709353 and parameters: {'max_depth': 56, 'min_samples_leaf': 3, 'n_estimators': 276}. Best is trial 83 with value: 0.8815233448846488.\u001b[0m\n",
            "\u001b[32m[I 2023-01-13 09:36:37,293]\u001b[0m Trial 86 finished with value: 0.8414325575404774 and parameters: {'max_depth': 56, 'min_samples_leaf': 19, 'n_estimators': 329}. Best is trial 83 with value: 0.8815233448846488.\u001b[0m\n",
            "\u001b[32m[I 2023-01-13 09:36:46,953]\u001b[0m Trial 87 finished with value: 0.8417092437059921 and parameters: {'max_depth': 48, 'min_samples_leaf': 18, 'n_estimators': 294}. Best is trial 83 with value: 0.8815233448846488.\u001b[0m\n",
            "\u001b[32m[I 2023-01-13 09:36:52,309]\u001b[0m Trial 88 finished with value: 0.8642072568690752 and parameters: {'max_depth': 52, 'min_samples_leaf': 6, 'n_estimators': 298}. Best is trial 83 with value: 0.8815233448846488.\u001b[0m\n",
            "\u001b[32m[I 2023-01-13 09:37:03,989]\u001b[0m Trial 89 finished with value: 0.8635760749789471 and parameters: {'max_depth': 52, 'min_samples_leaf': 6, 'n_estimators': 326}. Best is trial 83 with value: 0.8815233448846488.\u001b[0m\n",
            "\u001b[32m[I 2023-01-13 09:37:09,547]\u001b[0m Trial 90 finished with value: 0.8654020163889493 and parameters: {'max_depth': 51, 'min_samples_leaf': 5, 'n_estimators': 325}. Best is trial 83 with value: 0.8815233448846488.\u001b[0m\n",
            "\u001b[32m[I 2023-01-13 09:37:18,586]\u001b[0m Trial 91 finished with value: 0.8745724627633488 and parameters: {'max_depth': 39, 'min_samples_leaf': 3, 'n_estimators': 266}. Best is trial 83 with value: 0.8815233448846488.\u001b[0m\n",
            "\u001b[32m[I 2023-01-13 09:37:24,618]\u001b[0m Trial 92 finished with value: 0.8801650645293893 and parameters: {'max_depth': 59, 'min_samples_leaf': 2, 'n_estimators': 268}. Best is trial 83 with value: 0.8815233448846488.\u001b[0m\n",
            "\u001b[32m[I 2023-01-13 09:37:34,102]\u001b[0m Trial 93 finished with value: 0.8804506541342613 and parameters: {'max_depth': 60, 'min_samples_leaf': 2, 'n_estimators': 277}. Best is trial 83 with value: 0.8815233448846488.\u001b[0m\n",
            "\u001b[32m[I 2023-01-13 09:37:42,953]\u001b[0m Trial 94 finished with value: 0.87067797940015 and parameters: {'max_depth': 60, 'min_samples_leaf': 4, 'n_estimators': 344}. Best is trial 83 with value: 0.8815233448846488.\u001b[0m\n",
            "\u001b[32m[I 2023-01-13 09:37:53,350]\u001b[0m Trial 95 finished with value: 0.8709146756710892 and parameters: {'max_depth': 48, 'min_samples_leaf': 4, 'n_estimators': 343}. Best is trial 83 with value: 0.8815233448846488.\u001b[0m\n",
            "\u001b[32m[I 2023-01-13 09:37:58,059]\u001b[0m Trial 96 finished with value: 0.8738866637705512 and parameters: {'max_depth': 48, 'min_samples_leaf': 3, 'n_estimators': 258}. Best is trial 83 with value: 0.8815233448846488.\u001b[0m\n",
            "\u001b[32m[I 2023-01-13 09:38:08,157]\u001b[0m Trial 97 finished with value: 0.8809846367603121 and parameters: {'max_depth': 56, 'min_samples_leaf': 2, 'n_estimators': 228}. Best is trial 83 with value: 0.8815233448846488.\u001b[0m\n",
            "\u001b[32m[I 2023-01-13 09:38:12,352]\u001b[0m Trial 98 finished with value: 0.8813263218643991 and parameters: {'max_depth': 63, 'min_samples_leaf': 2, 'n_estimators': 218}. Best is trial 83 with value: 0.8815233448846488.\u001b[0m\n",
            "\u001b[32m[I 2023-01-13 09:38:17,462]\u001b[0m Trial 99 finished with value: 0.8651585742147772 and parameters: {'max_depth': 57, 'min_samples_leaf': 5, 'n_estimators': 228}. Best is trial 83 with value: 0.8815233448846488.\u001b[0m\n"
          ]
        },
        {
          "output_type": "execute_result",
          "data": {
            "text/plain": [
              "OptunaSearchCV(cv=3, estimator=RandomForestClassifier(random_state=42),\n",
              "               n_jobs=-1, n_trials=100,\n",
              "               param_distributions={'max_depth': IntDistribution(high=80, log=False, low=2, step=1),\n",
              "                                    'min_samples_leaf': IntDistribution(high=40, log=False, low=2, step=1),\n",
              "                                    'n_estimators': IntDistribution(high=500, log=False, low=50, step=1)},\n",
              "               scoring='f1')"
            ]
          },
          "metadata": {},
          "execution_count": 72
        }
      ]
    },
    {
      "cell_type": "code",
      "source": [
        "optuna_search.best_score_"
      ],
      "metadata": {
        "colab": {
          "base_uri": "https://localhost:8080/"
        },
        "id": "N1_cEw5Za1g8",
        "outputId": "c9376df3-5251-4bab-cb93-2c891dc6ea86"
      },
      "execution_count": 73,
      "outputs": [
        {
          "output_type": "execute_result",
          "data": {
            "text/plain": [
              "0.8815233448846488"
            ]
          },
          "metadata": {},
          "execution_count": 73
        }
      ]
    },
    {
      "cell_type": "markdown",
      "source": [
        "Получили f1 еще лучше, будем использовать гиперпараметры полученные в ней"
      ],
      "metadata": {
        "id": "xc-qNwymbfPT"
      }
    },
    {
      "cell_type": "code",
      "source": [
        "rf_best_params = optuna_search.best_params_"
      ],
      "metadata": {
        "id": "8e49or7zbW5c"
      },
      "execution_count": 74,
      "outputs": []
    },
    {
      "cell_type": "code",
      "source": [
        "rf_optuna = RandomForestClassifier(random_state=42, **rf_best_params)"
      ],
      "metadata": {
        "id": "6fEx2S5UY8Se"
      },
      "execution_count": 75,
      "outputs": []
    },
    {
      "cell_type": "code",
      "source": [
        "rf_optuna.fit(features_train,target_train)\n",
        "pred_rf = rf_optuna.predict(features_test)"
      ],
      "metadata": {
        "id": "0jjwhwYVY8wU"
      },
      "execution_count": 76,
      "outputs": []
    },
    {
      "cell_type": "code",
      "source": [
        "print(classification_report(target_test, pred_rf))"
      ],
      "metadata": {
        "colab": {
          "base_uri": "https://localhost:8080/"
        },
        "outputId": "093820cd-6b0b-4a0e-8b58-898abd9b35ee",
        "id": "DK-VAUTpY8wW"
      },
      "execution_count": 77,
      "outputs": [
        {
          "output_type": "stream",
          "name": "stdout",
          "text": [
            "              precision    recall  f1-score   support\n",
            "\n",
            "           0       0.89      0.88      0.88      2036\n",
            "           1       0.88      0.89      0.88      1946\n",
            "\n",
            "    accuracy                           0.88      3982\n",
            "   macro avg       0.88      0.88      0.88      3982\n",
            "weighted avg       0.88      0.88      0.88      3982\n",
            "\n"
          ]
        }
      ]
    },
    {
      "cell_type": "code",
      "source": [
        "rf_accuracy = accuracy_score(target_test, pred_rf)\n",
        "rf_precision = precision_score(target_test, pred_rf)\n",
        "rf_recall = recall_score(target_test, pred_rf)\n",
        "rf_f1 = f1_score(target_test, pred_rf)"
      ],
      "metadata": {
        "id": "NhRGuIbIY8wY"
      },
      "execution_count": 78,
      "outputs": []
    },
    {
      "cell_type": "code",
      "source": [
        "print(f'Random Forrest \\n accuracy: {rf_accuracy} \\n precision: {rf_precision} \\n recall: {rf_recall} \\n f1: {rf_f1}')"
      ],
      "metadata": {
        "colab": {
          "base_uri": "https://localhost:8080/"
        },
        "outputId": "58f2740e-9eb0-4f6e-d374-aa3fe754e830",
        "id": "47yJIjM2Y8wY"
      },
      "execution_count": 79,
      "outputs": [
        {
          "output_type": "stream",
          "name": "stdout",
          "text": [
            "Random Forrest \n",
            " accuracy: 0.8829733802109493 \n",
            " precision: 0.8763987792472024 \n",
            " recall: 0.8854059609455293 \n",
            " f1: 0.8808793456032719\n"
          ]
        }
      ]
    },
    {
      "cell_type": "markdown",
      "source": [
        "Получили довольно высокие значение метрик, посмотрим результаты на другой модели"
      ],
      "metadata": {
        "id": "pANqDiKwbvBi"
      }
    },
    {
      "cell_type": "code",
      "source": [
        "confusion_matrix(target_test, pred_rf)\n",
        "\n",
        "\n",
        "cf_matrix_rf = confusion_matrix(target_test, pred_rf)\n",
        "print(cf_matrix_rf)\n",
        "\n",
        "ax = sns.heatmap(cf_matrix_rf/np.sum(cf_matrix_rf), annot=True, fmt='.2%', cmap='binary')\n",
        "ax.set_title('Random Forrest\\n\\n');\n",
        "ax.set_xlabel('\\nPredicted Values')\n",
        "ax.set_ylabel('Actual Values ');\n",
        "\n",
        "ax.xaxis.set_ticklabels(['0','1'])\n",
        "ax.yaxis.set_ticklabels(['0','1'])\n",
        "\n",
        "plt.show()"
      ],
      "metadata": {
        "colab": {
          "base_uri": "https://localhost:8080/",
          "height": 380
        },
        "outputId": "ed6db005-41b8-4ae3-a520-8bf6bea1e67f",
        "id": "xYUzqKHlY8wZ"
      },
      "execution_count": 80,
      "outputs": [
        {
          "output_type": "stream",
          "name": "stdout",
          "text": [
            "[[1793  243]\n",
            " [ 223 1723]]\n"
          ]
        },
        {
          "output_type": "display_data",
          "data": {
            "text/plain": [
              "<Figure size 432x288 with 2 Axes>"
            ],
            "image/png": "[encoded data removed]"
          },
          "metadata": {}
        }
      ]
    },
    {
      "cell_type": "code",
      "source": [
        "rf_optuna_auc_score=roc_auc_score(target_test,rf_optuna.predict(features_test))\n",
        "fpr,tpr,thresholds=roc_curve(target_test,rf_optuna.predict_proba(features_test)[:,1])\n",
        "plt.figure(figsize=(10,7))\n",
        "plt.plot(fpr,tpr,label=\"AUC(Area=%0.2f)\"%rf_optuna_auc_score)\n",
        "plt.plot([0,1],\"r--\")\n",
        "plt.xlim([0.0,1.0])\n",
        "plt.ylim([0.0,1.05])\n",
        "plt.xlabel(\"False Positive\")\n",
        "plt.ylabel(\"True Positive\")\n",
        "plt.title(\"ROC Random Forrest\")\n",
        "plt.show()"
      ],
      "metadata": {
        "colab": {
          "base_uri": "https://localhost:8080/",
          "height": 464
        },
        "id": "1gMFN8VUol_I",
        "outputId": "765aec78-6092-420b-8974-9f371c736955"
      },
      "execution_count": 81,
      "outputs": [
        {
          "output_type": "display_data",
          "data": {
            "text/plain": [
              "<Figure size 720x504 with 1 Axes>"
            ],
            "image/png": "[encoded data removed]"
          },
          "metadata": {}
        }
      ]
    },
    {
      "cell_type": "code",
      "source": [
        "rf_optuna_auc_score"
      ],
      "metadata": {
        "colab": {
          "base_uri": "https://localhost:8080/"
        },
        "id": "2850i3s-b8pv",
        "outputId": "0800a0b4-226a-4ba0-b6ed-68fd3b8c5f6e"
      },
      "execution_count": 82,
      "outputs": [
        {
          "output_type": "execute_result",
          "data": {
            "text/plain": [
              "0.8830271455022342"
            ]
          },
          "metadata": {},
          "execution_count": 82
        }
      ]
    },
    {
      "cell_type": "markdown",
      "source": [
        "Получили roc_auc значительно выше"
      ],
      "metadata": {
        "id": "3SI-yVjtcIxX"
      }
    },
    {
      "cell_type": "markdown",
      "source": [
        "## LGBMClassifier"
      ],
      "metadata": {
        "id": "Afz6Uw_tEjCv"
      }
    },
    {
      "cell_type": "code",
      "source": [
        "import optuna"
      ],
      "metadata": {
        "id": "s_VwEtcGAR4G"
      },
      "execution_count": 83,
      "outputs": []
    },
    {
      "cell_type": "code",
      "source": [
        "import lightgbm as lgb\n",
        "lgbm = lgb.LGBMClassifier()"
      ],
      "metadata": {
        "id": "BRUm5o3KBc6X"
      },
      "execution_count": 84,
      "outputs": []
    },
    {
      "cell_type": "code",
      "source": [
        "\n",
        "param = {\n",
        "        \"lambda_l1\": optuna.distributions.FloatDistribution(1e-8, 10.0, log=True),\n",
        "        \"lambda_l2\": optuna.distributions.FloatDistribution(1e-8, 10.0, log=True),\n",
        "        \"num_leaves\": optuna.distributions.IntDistribution(2, 256),\n",
        "        \"feature_fraction\": optuna.distributions.FloatDistribution(0.4, 1.0),\n",
        "        \"bagging_fraction\": optuna.distributions.FloatDistribution(0.4, 1.0),\n",
        "        \"bagging_freq\": optuna.distributions.IntDistribution(1, 7),\n",
        "        \"min_child_samples\": optuna.distributions.IntDistribution(5, 100)}\n",
        "\n",
        "optuna_search = optuna.integration.OptunaSearchCV(lgbm,param, cv=3, scoring='f1',n_jobs=-1,n_trials=100)\n",
        "optuna_search.fit(features_train, target_train)"
      ],
      "metadata": {
        "colab": {
          "base_uri": "https://localhost:8080/"
        },
        "id": "_zitNDFtjNXe",
        "outputId": "7845fc4f-3715-4a89-cce4-4d5e4438ae8c"
      },
      "execution_count": 85,
      "outputs": [
        {
          "output_type": "stream",
          "name": "stderr",
          "text": [
            "<ipython-input-85-3b570e74ed1d>:10: ExperimentalWarning:\n",
            "\n",
            "OptunaSearchCV is experimental (supported from v0.17.0). The interface can change in the future.\n",
            "\n",
            "\u001b[32m[I 2023-01-13 09:38:31,475]\u001b[0m A new study created in memory with name: no-name-fd0c8308-eaf3-43e2-b844-84931f47e457\u001b[0m\n",
            "\u001b[32m[I 2023-01-13 09:38:36,149]\u001b[0m Trial 0 finished with value: 0.8745573199066065 and parameters: {'lambda_l1': 0.4939479230397397, 'lambda_l2': 0.015005881416273452, 'num_leaves': 256, 'feature_fraction': 0.8240020313105787, 'bagging_fraction': 0.4107785649100511, 'bagging_freq': 7, 'min_child_samples': 40}. Best is trial 0 with value: 0.8745573199066065.\u001b[0m\n",
            "\u001b[32m[I 2023-01-13 09:38:36,888]\u001b[0m Trial 1 finished with value: 0.8922587239438954 and parameters: {'lambda_l1': 6.582446123256998e-08, 'lambda_l2': 2.9252411604073648e-08, 'num_leaves': 236, 'feature_fraction': 0.7781221349799631, 'bagging_fraction': 0.9399486937181392, 'bagging_freq': 7, 'min_child_samples': 77}. Best is trial 1 with value: 0.8922587239438954.\u001b[0m\n",
            "\u001b[32m[I 2023-01-13 09:38:43,016]\u001b[0m Trial 2 finished with value: 0.8937583696728982 and parameters: {'lambda_l1': 4.6976349506204616e-08, 'lambda_l2': 3.017523947975473e-08, 'num_leaves': 216, 'feature_fraction': 0.5001525706227818, 'bagging_fraction': 0.8290560039461636, 'bagging_freq': 7, 'min_child_samples': 37}. Best is trial 2 with value: 0.8937583696728982.\u001b[0m\n",
            "\u001b[32m[I 2023-01-13 09:38:46,466]\u001b[0m Trial 4 finished with value: 0.877575994719241 and parameters: {'lambda_l1': 1.743253925700057e-06, 'lambda_l2': 5.4383902937450056e-08, 'num_leaves': 200, 'feature_fraction': 0.8384990961735015, 'bagging_fraction': 0.7248941151465687, 'bagging_freq': 7, 'min_child_samples': 99}. Best is trial 2 with value: 0.8937583696728982.\u001b[0m\n",
            "\u001b[32m[I 2023-01-13 09:38:49,013]\u001b[0m Trial 5 finished with value: 0.867588122176 and parameters: {'lambda_l1': 2.7080811462367355e-07, 'lambda_l2': 0.0007824085757157429, 'num_leaves': 255, 'feature_fraction': 0.47382296122209594, 'bagging_fraction': 0.4557468954344871, 'bagging_freq': 4, 'min_child_samples': 96}. Best is trial 2 with value: 0.8937583696728982.\u001b[0m\n",
            "\u001b[32m[I 2023-01-13 09:38:49,450]\u001b[0m Trial 3 finished with value: 0.8901743021399108 and parameters: {'lambda_l1': 0.0002847265643404144, 'lambda_l2': 0.09869959611913087, 'num_leaves': 228, 'feature_fraction': 0.743189435168496, 'bagging_fraction': 0.49628661772467425, 'bagging_freq': 7, 'min_child_samples': 6}. Best is trial 2 with value: 0.8937583696728982.\u001b[0m\n",
            "\u001b[32m[I 2023-01-13 09:38:53,823]\u001b[0m Trial 7 finished with value: 0.8818785481575778 and parameters: {'lambda_l1': 0.000570246784363827, 'lambda_l2': 4.482631624351034e-08, 'num_leaves': 142, 'feature_fraction': 0.9215396903227413, 'bagging_fraction': 0.4297859915068222, 'bagging_freq': 3, 'min_child_samples': 36}. Best is trial 2 with value: 0.8937583696728982.\u001b[0m\n",
            "\u001b[32m[I 2023-01-13 09:38:58,035]\u001b[0m Trial 8 finished with value: 0.8869855988440506 and parameters: {'lambda_l1': 4.238862954145971e-07, 'lambda_l2': 1.5924346297176408, 'num_leaves': 111, 'feature_fraction': 0.5175788727543509, 'bagging_fraction': 0.8840876422213078, 'bagging_freq': 3, 'min_child_samples': 88}. Best is trial 2 with value: 0.8937583696728982.\u001b[0m\n",
            "\u001b[32m[I 2023-01-13 09:38:58,926]\u001b[0m Trial 6 finished with value: 0.8918560313401623 and parameters: {'lambda_l1': 1.2563136735090617e-07, 'lambda_l2': 2.8223504489498913e-07, 'num_leaves': 236, 'feature_fraction': 0.8035678331145257, 'bagging_fraction': 0.7311038680495603, 'bagging_freq': 7, 'min_child_samples': 27}. Best is trial 2 with value: 0.8937583696728982.\u001b[0m\n",
            "\u001b[32m[I 2023-01-13 09:39:02,901]\u001b[0m Trial 10 finished with value: 0.8789627151273338 and parameters: {'lambda_l1': 0.6162044964107068, 'lambda_l2': 1.6847285040361516e-05, 'num_leaves': 233, 'feature_fraction': 0.9124588209799084, 'bagging_fraction': 0.5636828024371815, 'bagging_freq': 3, 'min_child_samples': 60}. Best is trial 2 with value: 0.8937583696728982.\u001b[0m\n",
            "\u001b[32m[I 2023-01-13 09:39:05,106]\u001b[0m Trial 11 finished with value: 0.887360106407979 and parameters: {'lambda_l1': 5.599846573380479e-05, 'lambda_l2': 8.767458490642541e-06, 'num_leaves': 24, 'feature_fraction': 0.5717462898904796, 'bagging_fraction': 0.8333535683068565, 'bagging_freq': 1, 'min_child_samples': 61}. Best is trial 2 with value: 0.8937583696728982.\u001b[0m\n",
            "\u001b[32m[I 2023-01-13 09:39:05,468]\u001b[0m Trial 9 finished with value: 0.8903502824175146 and parameters: {'lambda_l1': 0.00021875804526195965, 'lambda_l2': 1.022657294481455e-06, 'num_leaves': 162, 'feature_fraction': 0.5088917523129189, 'bagging_fraction': 0.6861082595460577, 'bagging_freq': 6, 'min_child_samples': 28}. Best is trial 2 with value: 0.8937583696728982.\u001b[0m\n",
            "\u001b[32m[I 2023-01-13 09:39:10,646]\u001b[0m Trial 12 finished with value: 0.8906241587476926 and parameters: {'lambda_l1': 1.5214714590544216e-08, 'lambda_l2': 1.0124273379199352e-08, 'num_leaves': 176, 'feature_fraction': 0.6325349937855933, 'bagging_fraction': 0.979677776150034, 'bagging_freq': 5, 'min_child_samples': 77}. Best is trial 2 with value: 0.8937583696728982.\u001b[0m\n",
            "\u001b[32m[I 2023-01-13 09:39:11,242]\u001b[0m Trial 13 finished with value: 0.8932190384909221 and parameters: {'lambda_l1': 2.2732645941540405e-08, 'lambda_l2': 1.7079036190761725e-08, 'num_leaves': 186, 'feature_fraction': 0.6349475276372981, 'bagging_fraction': 0.9912806377130445, 'bagging_freq': 5, 'min_child_samples': 79}. Best is trial 2 with value: 0.8937583696728982.\u001b[0m\n",
            "\u001b[32m[I 2023-01-13 09:39:15,284]\u001b[0m Trial 14 finished with value: 0.8911522142600665 and parameters: {'lambda_l1': 1.0221346256470106e-08, 'lambda_l2': 6.606339624264847e-05, 'num_leaves': 105, 'feature_fraction': 0.4037139544000168, 'bagging_fraction': 0.99778580216378, 'bagging_freq': 5, 'min_child_samples': 74}. Best is trial 2 with value: 0.8937583696728982.\u001b[0m\n",
            "\u001b[32m[I 2023-01-13 09:39:16,237]\u001b[0m Trial 15 finished with value: 0.8885503528239219 and parameters: {'lambda_l1': 5.573623517351504e-06, 'lambda_l2': 4.7609238586551634e-06, 'num_leaves': 99, 'feature_fraction': 0.40121394876167543, 'bagging_fraction': 0.812960470007164, 'bagging_freq': 5, 'min_child_samples': 50}. Best is trial 2 with value: 0.8937583696728982.\u001b[0m\n",
            "\u001b[32m[I 2023-01-13 09:39:21,561]\u001b[0m Trial 16 finished with value: 0.8926699195935178 and parameters: {'lambda_l1': 6.643811133399413e-06, 'lambda_l2': 1.2099312793949917e-06, 'num_leaves': 190, 'feature_fraction': 0.6581443081690624, 'bagging_fraction': 0.8050806190078025, 'bagging_freq': 5, 'min_child_samples': 44}. Best is trial 2 with value: 0.8937583696728982.\u001b[0m\n",
            "\u001b[32m[I 2023-01-13 09:39:25,783]\u001b[0m Trial 18 finished with value: 0.8935879872220932 and parameters: {'lambda_l1': 0.03084060859360759, 'lambda_l2': 0.00019781478883010707, 'num_leaves': 59, 'feature_fraction': 0.5806349967773887, 'bagging_fraction': 0.8999499741787245, 'bagging_freq': 6, 'min_child_samples': 13}. Best is trial 2 with value: 0.8937583696728982.\u001b[0m\n",
            "\u001b[32m[I 2023-01-13 09:39:26,853]\u001b[0m Trial 17 finished with value: 0.8990461522038679 and parameters: {'lambda_l1': 0.008815482523355062, 'lambda_l2': 7.834343989003051e-07, 'num_leaves': 197, 'feature_fraction': 0.6393840216842726, 'bagging_fraction': 0.9159344185714002, 'bagging_freq': 6, 'min_child_samples': 11}. Best is trial 17 with value: 0.8990461522038679.\u001b[0m\n",
            "\u001b[32m[I 2023-01-13 09:39:28,249]\u001b[0m Trial 19 finished with value: 0.8891892404979517 and parameters: {'lambda_l1': 0.014931581993247255, 'lambda_l2': 0.0007799214538392654, 'num_leaves': 53, 'feature_fraction': 0.5606333058689008, 'bagging_fraction': 0.6208030839116299, 'bagging_freq': 6, 'min_child_samples': 8}. Best is trial 17 with value: 0.8990461522038679.\u001b[0m\n",
            "\u001b[32m[I 2023-01-13 09:39:30,168]\u001b[0m Trial 21 finished with value: 0.8764120665225431 and parameters: {'lambda_l1': 9.306614902853184, 'lambda_l2': 2.876539956083859e-07, 'num_leaves': 210, 'feature_fraction': 0.7181954704231714, 'bagging_fraction': 0.87318058427469, 'bagging_freq': 1, 'min_child_samples': 19}. Best is trial 17 with value: 0.8990461522038679.\u001b[0m\n",
            "\u001b[32m[I 2023-01-13 09:39:32,830]\u001b[0m Trial 22 finished with value: 0.8966361360244384 and parameters: {'lambda_l1': 0.007019638469729571, 'lambda_l2': 5.9639395639527985e-05, 'num_leaves': 58, 'feature_fraction': 0.5864333726883622, 'bagging_fraction': 0.9019313532859756, 'bagging_freq': 6, 'min_child_samples': 17}. Best is trial 17 with value: 0.8990461522038679.\u001b[0m\n",
            "\u001b[32m[I 2023-01-13 09:39:33,654]\u001b[0m Trial 20 finished with value: 0.8955618331838514 and parameters: {'lambda_l1': 0.009420109441094377, 'lambda_l2': 2.733112808693976e-07, 'num_leaves': 206, 'feature_fraction': 0.7041649613424429, 'bagging_fraction': 0.7697917170363443, 'bagging_freq': 6, 'min_child_samples': 21}. Best is trial 17 with value: 0.8990461522038679.\u001b[0m\n",
            "\u001b[32m[I 2023-01-13 09:39:34,277]\u001b[0m Trial 24 finished with value: 0.8309983019144521 and parameters: {'lambda_l1': 0.007233770087598143, 'lambda_l2': 0.004338708397121873, 'num_leaves': 3, 'feature_fraction': 0.6762422608035208, 'bagging_fraction': 0.7881723179361537, 'bagging_freq': 6, 'min_child_samples': 20}. Best is trial 17 with value: 0.8990461522038679.\u001b[0m\n",
            "\u001b[32m[I 2023-01-13 09:39:37,505]\u001b[0m Trial 23 finished with value: 0.8939095163584634 and parameters: {'lambda_l1': 0.0052680286610196385, 'lambda_l2': 4.3653039430888296e-07, 'num_leaves': 142, 'feature_fraction': 0.4561970663376942, 'bagging_fraction': 0.7661862235075796, 'bagging_freq': 6, 'min_child_samples': 21}. Best is trial 17 with value: 0.8990461522038679.\u001b[0m\n",
            "\u001b[32m[I 2023-01-13 09:39:40,302]\u001b[0m Trial 25 finished with value: 0.8978692467543473 and parameters: {'lambda_l1': 0.002060232245742913, 'lambda_l2': 5.6759206057498263e-05, 'num_leaves': 148, 'feature_fraction': 0.7118083783781309, 'bagging_fraction': 0.9360939408015748, 'bagging_freq': 4, 'min_child_samples': 18}. Best is trial 17 with value: 0.8990461522038679.\u001b[0m\n",
            "\u001b[32m[I 2023-01-13 09:39:41,030]\u001b[0m Trial 26 finished with value: 0.8949753326263777 and parameters: {'lambda_l1': 0.10163802864150076, 'lambda_l2': 2.5187944521814878e-05, 'num_leaves': 78, 'feature_fraction': 0.605997891689368, 'bagging_fraction': 0.9389618926469635, 'bagging_freq': 4, 'min_child_samples': 15}. Best is trial 17 with value: 0.8990461522038679.\u001b[0m\n",
            "\u001b[32m[I 2023-01-13 09:39:43,902]\u001b[0m Trial 27 finished with value: 0.8963352954665172 and parameters: {'lambda_l1': 0.11586521977215952, 'lambda_l2': 3.634588750188284e-05, 'num_leaves': 81, 'feature_fraction': 0.6034683493189628, 'bagging_fraction': 0.936561103906266, 'bagging_freq': 4, 'min_child_samples': 13}. Best is trial 17 with value: 0.8990461522038679.\u001b[0m\n",
            "\u001b[32m[I 2023-01-13 09:39:48,190]\u001b[0m Trial 28 finished with value: 0.895341587555699 and parameters: {'lambda_l1': 0.0008778916651456462, 'lambda_l2': 0.00011794813948611003, 'num_leaves': 160, 'feature_fraction': 0.9973061745585923, 'bagging_fraction': 0.9283571690061141, 'bagging_freq': 2, 'min_child_samples': 31}. Best is trial 17 with value: 0.8990461522038679.\u001b[0m\n",
            "\u001b[32m[I 2023-01-13 09:39:52,241]\u001b[0m Trial 29 finished with value: 0.8984866313809853 and parameters: {'lambda_l1': 0.0019372297523766345, 'lambda_l2': 0.00014286400155115637, 'num_leaves': 163, 'feature_fraction': 0.7547321423515769, 'bagging_fraction': 0.8824973263133118, 'bagging_freq': 2, 'min_child_samples': 29}. Best is trial 17 with value: 0.8990461522038679.\u001b[0m\n",
            "\u001b[32m[I 2023-01-13 09:39:55,880]\u001b[0m Trial 30 finished with value: 0.8982632928961772 and parameters: {'lambda_l1': 0.0018647719648340433, 'lambda_l2': 0.016079662556646338, 'num_leaves': 118, 'feature_fraction': 0.7527070608916615, 'bagging_fraction': 0.8583604276309937, 'bagging_freq': 2, 'min_child_samples': 6}. Best is trial 17 with value: 0.8990461522038679.\u001b[0m\n",
            "\u001b[32m[I 2023-01-13 09:39:59,128]\u001b[0m Trial 31 finished with value: 0.8954830116879444 and parameters: {'lambda_l1': 0.0017877607726641176, 'lambda_l2': 0.017613001973994544, 'num_leaves': 128, 'feature_fraction': 0.8344299848084131, 'bagging_fraction': 0.8683328572921712, 'bagging_freq': 2, 'min_child_samples': 5}. Best is trial 17 with value: 0.8990461522038679.\u001b[0m\n",
            "\u001b[32m[I 2023-01-13 09:40:01,535]\u001b[0m Trial 32 finished with value: 0.8971919939118252 and parameters: {'lambda_l1': 0.0021964306665254217, 'lambda_l2': 0.02073054263302888, 'num_leaves': 126, 'feature_fraction': 0.7496514689979846, 'bagging_fraction': 0.870863475303806, 'bagging_freq': 2, 'min_child_samples': 5}. Best is trial 17 with value: 0.8990461522038679.\u001b[0m\n",
            "\u001b[32m[I 2023-01-13 09:40:05,778]\u001b[0m Trial 33 finished with value: 0.8991623723690919 and parameters: {'lambda_l1': 5.920530068718497e-05, 'lambda_l2': 0.006651011969813974, 'num_leaves': 165, 'feature_fraction': 0.760530060000659, 'bagging_fraction': 0.8633478450393209, 'bagging_freq': 2, 'min_child_samples': 11}. Best is trial 33 with value: 0.8991623723690919.\u001b[0m\n",
            "\u001b[32m[I 2023-01-13 09:40:07,560]\u001b[0m Trial 34 finished with value: 0.8979468036172148 and parameters: {'lambda_l1': 8.65789086648008e-05, 'lambda_l2': 0.0022781576799283105, 'num_leaves': 166, 'feature_fraction': 0.7593368953002486, 'bagging_fraction': 0.8556729975345629, 'bagging_freq': 2, 'min_child_samples': 28}. Best is trial 33 with value: 0.8991623723690919.\u001b[0m\n",
            "\u001b[32m[I 2023-01-13 09:40:12,617]\u001b[0m Trial 35 finished with value: 0.897162577840574 and parameters: {'lambda_l1': 5.497652611365303e-05, 'lambda_l2': 0.15561173453346816, 'num_leaves': 177, 'feature_fraction': 0.7743043385588495, 'bagging_fraction': 0.8308787962416958, 'bagging_freq': 2, 'min_child_samples': 12}. Best is trial 33 with value: 0.8991623723690919.\u001b[0m\n",
            "\u001b[32m[I 2023-01-13 09:40:14,172]\u001b[0m Trial 36 finished with value: 0.8984401426856078 and parameters: {'lambda_l1': 3.4563434204349356e-05, 'lambda_l2': 0.16889352908608307, 'num_leaves': 180, 'feature_fraction': 0.7992839565503616, 'bagging_fraction': 0.8345389171192861, 'bagging_freq': 1, 'min_child_samples': 12}. Best is trial 33 with value: 0.8991623723690919.\u001b[0m\n",
            "\u001b[32m[I 2023-01-13 09:40:17,101]\u001b[0m Trial 38 finished with value: 0.8832517151774839 and parameters: {'lambda_l1': 1.4666592008952509e-05, 'lambda_l2': 9.608056775708304, 'num_leaves': 223, 'feature_fraction': 0.8704361749864229, 'bagging_fraction': 0.6601410420014892, 'bagging_freq': 1, 'min_child_samples': 34}. Best is trial 33 with value: 0.8991623723690919.\u001b[0m\n",
            "\u001b[32m[I 2023-01-13 09:40:17,586]\u001b[0m Trial 37 finished with value: 0.8936638009785421 and parameters: {'lambda_l1': 2.0778346610529378e-05, 'lambda_l2': 0.1212643260008974, 'num_leaves': 119, 'feature_fraction': 0.8839075512041159, 'bagging_fraction': 0.6616051507073977, 'bagging_freq': 1, 'min_child_samples': 10}. Best is trial 33 with value: 0.8991623723690919.\u001b[0m\n",
            "\u001b[32m[I 2023-01-13 09:40:20,826]\u001b[0m Trial 39 finished with value: 0.8915239178620573 and parameters: {'lambda_l1': 0.00017968636664153652, 'lambda_l2': 0.11474725392321952, 'num_leaves': 200, 'feature_fraction': 0.8045137930162516, 'bagging_fraction': 0.7461602888668265, 'bagging_freq': 1, 'min_child_samples': 44}. Best is trial 33 with value: 0.8991623723690919.\u001b[0m\n",
            "\u001b[32m[I 2023-01-13 09:40:21,631]\u001b[0m Trial 40 finished with value: 0.8914960274087816 and parameters: {'lambda_l1': 1.4655887947197622e-06, 'lambda_l2': 0.424725348158795, 'num_leaves': 195, 'feature_fraction': 0.8172782052311627, 'bagging_fraction': 0.7376249598049267, 'bagging_freq': 3, 'min_child_samples': 42}. Best is trial 33 with value: 0.8991623723690919.\u001b[0m\n",
            "\u001b[32m[I 2023-01-13 09:40:27,759]\u001b[0m Trial 42 finished with value: 0.8968447953608784 and parameters: {'lambda_l1': 0.0003055129132961194, 'lambda_l2': 0.00796286723180216, 'num_leaves': 148, 'feature_fraction': 0.7260363786679285, 'bagging_fraction': 0.9684076163951092, 'bagging_freq': 2, 'min_child_samples': 10}. Best is trial 33 with value: 0.8991623723690919.\u001b[0m\n",
            "\u001b[32m[I 2023-01-13 09:40:27,997]\u001b[0m Trial 41 finished with value: 0.8948543385818236 and parameters: {'lambda_l1': 1.728443519397142e-06, 'lambda_l2': 0.5404883816415798, 'num_leaves': 251, 'feature_fraction': 0.8004993121327288, 'bagging_fraction': 0.9711607487893377, 'bagging_freq': 3, 'min_child_samples': 24}. Best is trial 33 with value: 0.8991623723690919.\u001b[0m\n",
            "\u001b[32m[I 2023-01-13 09:40:34,090]\u001b[0m Trial 44 finished with value: 0.8972435406493151 and parameters: {'lambda_l1': 0.0006960371730685027, 'lambda_l2': 0.0009877446700356364, 'num_leaves': 171, 'feature_fraction': 0.6788823041039911, 'bagging_fraction': 0.8456599861860276, 'bagging_freq': 2, 'min_child_samples': 23}. Best is trial 33 with value: 0.8991623723690919.\u001b[0m\n",
            "\u001b[32m[I 2023-01-13 09:40:35,104]\u001b[0m Trial 43 finished with value: 0.8973212998480403 and parameters: {'lambda_l1': 0.0007934228708538131, 'lambda_l2': 0.04173723278779042, 'num_leaves': 249, 'feature_fraction': 0.782779420753289, 'bagging_fraction': 0.908256295114336, 'bagging_freq': 3, 'min_child_samples': 23}. Best is trial 33 with value: 0.8991623723690919.\u001b[0m\n",
            "\u001b[32m[I 2023-01-13 09:40:41,266]\u001b[0m Trial 45 finished with value: 0.8975377046891927 and parameters: {'lambda_l1': 0.00012311619576254337, 'lambda_l2': 0.016421848607201354, 'num_leaves': 155, 'feature_fraction': 0.8610695540955856, 'bagging_fraction': 0.9026902461054197, 'bagging_freq': 1, 'min_child_samples': 7}. Best is trial 33 with value: 0.8991623723690919.\u001b[0m\n",
            "\u001b[32m[I 2023-01-13 09:40:41,621]\u001b[0m Trial 46 finished with value: 0.8962989626582728 and parameters: {'lambda_l1': 0.03252670453306277, 'lambda_l2': 0.03614805385092012, 'num_leaves': 138, 'feature_fraction': 0.7417061787386009, 'bagging_fraction': 0.9022992637244333, 'bagging_freq': 1, 'min_child_samples': 5}. Best is trial 33 with value: 0.8991623723690919.\u001b[0m\n",
            "\u001b[32m[I 2023-01-13 09:40:46,909]\u001b[0m Trial 47 finished with value: 0.8965555053663298 and parameters: {'lambda_l1': 0.06272578424007123, 'lambda_l2': 0.04087047299926662, 'num_leaves': 138, 'feature_fraction': 0.7377286840493559, 'bagging_fraction': 0.8160273207401266, 'bagging_freq': 1, 'min_child_samples': 14}. Best is trial 33 with value: 0.8991623723690919.\u001b[0m\n",
            "\u001b[32m[I 2023-01-13 09:40:48,328]\u001b[0m Trial 48 finished with value: 0.8976999310094756 and parameters: {'lambda_l1': 2.8705069851773756e-05, 'lambda_l2': 0.0004011204279456388, 'num_leaves': 182, 'feature_fraction': 0.6772053557896763, 'bagging_fraction': 0.8332504883972978, 'bagging_freq': 2, 'min_child_samples': 15}. Best is trial 33 with value: 0.8991623723690919.\u001b[0m\n",
            "\u001b[32m[I 2023-01-13 09:40:50,131]\u001b[0m Trial 49 finished with value: 0.8875302856444042 and parameters: {'lambda_l1': 0.2704810790855256, 'lambda_l2': 0.0004230115774514462, 'num_leaves': 182, 'feature_fraction': 0.6841682908515203, 'bagging_fraction': 0.5235990350955567, 'bagging_freq': 2, 'min_child_samples': 33}. Best is trial 33 with value: 0.8991623723690919.\u001b[0m\n",
            "\u001b[32m[I 2023-01-13 09:40:54,775]\u001b[0m Trial 50 finished with value: 0.894425598653898 and parameters: {'lambda_l1': 0.5159619328008987, 'lambda_l2': 0.002793437276727658, 'num_leaves': 215, 'feature_fraction': 0.7853081471773398, 'bagging_fraction': 0.7965313265437358, 'bagging_freq': 7, 'min_child_samples': 32}. Best is trial 33 with value: 0.8991623723690919.\u001b[0m\n",
            "\u001b[32m[I 2023-01-13 09:40:56,907]\u001b[0m Trial 51 finished with value: 0.8921165515872577 and parameters: {'lambda_l1': 5.8672829891744496e-06, 'lambda_l2': 1.487341446307414, 'num_leaves': 222, 'feature_fraction': 0.6450794317976362, 'bagging_fraction': 0.8010867601535597, 'bagging_freq': 7, 'min_child_samples': 28}. Best is trial 33 with value: 0.8991623723690919.\u001b[0m\n",
            "\u001b[32m[I 2023-01-13 09:41:00,835]\u001b[0m Trial 52 finished with value: 0.8964682807217134 and parameters: {'lambda_l1': 7.556743624681884e-05, 'lambda_l2': 0.0013485908231071228, 'num_leaves': 166, 'feature_fraction': 0.763983556231942, 'bagging_fraction': 0.8467806245129472, 'bagging_freq': 3, 'min_child_samples': 27}. Best is trial 33 with value: 0.8991623723690919.\u001b[0m\n",
            "\u001b[32m[I 2023-01-13 09:41:01,714]\u001b[0m Trial 53 finished with value: 0.89718817321647 and parameters: {'lambda_l1': 8.522650150958324e-05, 'lambda_l2': 0.0019171203375310416, 'num_leaves': 166, 'feature_fraction': 0.7688649000603636, 'bagging_fraction': 0.849983241052018, 'bagging_freq': 3, 'min_child_samples': 38}. Best is trial 33 with value: 0.8991623723690919.\u001b[0m\n",
            "\u001b[32m[I 2023-01-13 09:41:04,871]\u001b[0m Trial 54 finished with value: 0.8921637436164578 and parameters: {'lambda_l1': 0.0034103396380154726, 'lambda_l2': 0.006425713982475272, 'num_leaves': 169, 'feature_fraction': 0.8465576663949033, 'bagging_fraction': 0.8508364414343949, 'bagging_freq': 2, 'min_child_samples': 51}. Best is trial 33 with value: 0.8991623723690919.\u001b[0m\n",
            "\u001b[32m[I 2023-01-13 09:41:06,173]\u001b[0m Trial 55 finished with value: 0.8937452636089652 and parameters: {'lambda_l1': 0.003551985740910769, 'lambda_l2': 0.005797006913832842, 'num_leaves': 157, 'feature_fraction': 0.8507374218780406, 'bagging_fraction': 0.954904640845994, 'bagging_freq': 2, 'min_child_samples': 52}. Best is trial 33 with value: 0.8991623723690919.\u001b[0m\n",
            "\u001b[32m[I 2023-01-13 09:41:08,245]\u001b[0m Trial 56 finished with value: 0.891717951296946 and parameters: {'lambda_l1': 0.0003920380742793572, 'lambda_l2': 5.198724159928207e-06, 'num_leaves': 155, 'feature_fraction': 0.5388573694155177, 'bagging_fraction': 0.9586759621549352, 'bagging_freq': 2, 'min_child_samples': 66}. Best is trial 33 with value: 0.8991623723690919.\u001b[0m\n",
            "\u001b[32m[I 2023-01-13 09:41:09,079]\u001b[0m Trial 57 finished with value: 0.8864585464516298 and parameters: {'lambda_l1': 0.0003461227585445187, 'lambda_l2': 6.171560927411137e-08, 'num_leaves': 190, 'feature_fraction': 0.9067911138379348, 'bagging_fraction': 0.7060901554756992, 'bagging_freq': 1, 'min_child_samples': 64}. Best is trial 33 with value: 0.8991623723690919.\u001b[0m\n",
            "\u001b[32m[I 2023-01-13 09:41:13,105]\u001b[0m Trial 58 finished with value: 0.893342622292507 and parameters: {'lambda_l1': 0.016773980645669585, 'lambda_l2': 9.335177942497764e-08, 'num_leaves': 116, 'feature_fraction': 0.8223121893123941, 'bagging_fraction': 0.8807366290147012, 'bagging_freq': 1, 'min_child_samples': 9}. Best is trial 33 with value: 0.8991623723690919.\u001b[0m\n",
            "\u001b[32m[I 2023-01-13 09:41:13,798]\u001b[0m Trial 59 finished with value: 0.8954476141552377 and parameters: {'lambda_l1': 0.01725580562388789, 'lambda_l2': 0.36538674675624394, 'num_leaves': 117, 'feature_fraction': 0.6981085485184475, 'bagging_fraction': 0.8816750602106294, 'bagging_freq': 4, 'min_child_samples': 10}. Best is trial 33 with value: 0.8991623723690919.\u001b[0m\n",
            "\u001b[32m[I 2023-01-13 09:41:20,172]\u001b[0m Trial 60 finished with value: 0.8965137384324081 and parameters: {'lambda_l1': 7.914927926530816e-07, 'lambda_l2': 0.2658299915939782, 'num_leaves': 204, 'feature_fraction': 0.7551913296221472, 'bagging_fraction': 0.7760758624450227, 'bagging_freq': 4, 'min_child_samples': 17}. Best is trial 33 with value: 0.8991623723690919.\u001b[0m\n",
            "\u001b[32m[I 2023-01-13 09:41:21,043]\u001b[0m Trial 61 finished with value: 0.8957778922393874 and parameters: {'lambda_l1': 5.580831314950929e-07, 'lambda_l2': 0.0001541659622837221, 'num_leaves': 203, 'feature_fraction': 0.7528608051432139, 'bagging_fraction': 0.7733203400516482, 'bagging_freq': 3, 'min_child_samples': 17}. Best is trial 33 with value: 0.8991623723690919.\u001b[0m\n",
            "\u001b[32m[I 2023-01-13 09:41:26,130]\u001b[0m Trial 62 finished with value: 0.897715844667201 and parameters: {'lambda_l1': 0.0014185181672600898, 'lambda_l2': 0.0001542017618430878, 'num_leaves': 149, 'feature_fraction': 0.7219178858197728, 'bagging_fraction': 0.9230389224183604, 'bagging_freq': 3, 'min_child_samples': 17}. Best is trial 33 with value: 0.8991623723690919.\u001b[0m\n",
            "\u001b[32m[I 2023-01-13 09:41:26,827]\u001b[0m Trial 63 finished with value: 0.8969518210701687 and parameters: {'lambda_l1': 0.0011066972945307416, 'lambda_l2': 0.0006764343830173013, 'num_leaves': 147, 'feature_fraction': 0.703020248812168, 'bagging_fraction': 0.9189546962593736, 'bagging_freq': 5, 'min_child_samples': 25}. Best is trial 33 with value: 0.8991623723690919.\u001b[0m\n",
            "\u001b[32m[I 2023-01-13 09:41:30,378]\u001b[0m Trial 64 finished with value: 0.8958514894071827 and parameters: {'lambda_l1': 3.318908157607334e-05, 'lambda_l2': 2.289152870937563e-06, 'num_leaves': 98, 'feature_fraction': 0.7089985062935723, 'bagging_fraction': 0.9197150412666807, 'bagging_freq': 5, 'min_child_samples': 25}. Best is trial 33 with value: 0.8991623723690919.\u001b[0m\n",
            "\u001b[32m[I 2023-01-13 09:41:31,943]\u001b[0m Trial 65 finished with value: 0.8966177732972849 and parameters: {'lambda_l1': 3.8710156230467914e-05, 'lambda_l2': 1.0330102809363254e-05, 'num_leaves': 132, 'feature_fraction': 0.6532297228061809, 'bagging_fraction': 0.9488059771314233, 'bagging_freq': 2, 'min_child_samples': 11}. Best is trial 33 with value: 0.8991623723690919.\u001b[0m\n",
            "\u001b[32m[I 2023-01-13 09:41:35,534]\u001b[0m Trial 66 finished with value: 0.8972943625232279 and parameters: {'lambda_l1': 9.985634848118733e-06, 'lambda_l2': 0.003138389176178145, 'num_leaves': 133, 'feature_fraction': 0.6577104034801121, 'bagging_fraction': 0.9493910753333874, 'bagging_freq': 2, 'min_child_samples': 12}. Best is trial 33 with value: 0.8991623723690919.\u001b[0m\n",
            "\u001b[32m[I 2023-01-13 09:41:38,649]\u001b[0m Trial 67 finished with value: 0.8981946924188776 and parameters: {'lambda_l1': 1.3032797706466156e-05, 'lambda_l2': 7.679365452996946e-05, 'num_leaves': 175, 'feature_fraction': 0.7323738520144506, 'bagging_fraction': 0.9941324379928812, 'bagging_freq': 4, 'min_child_samples': 20}. Best is trial 33 with value: 0.8991623723690919.\u001b[0m\n",
            "\u001b[32m[I 2023-01-13 09:41:41,839]\u001b[0m Trial 68 finished with value: 0.8952859700674187 and parameters: {'lambda_l1': 0.0001409217430762744, 'lambda_l2': 5.268985020533355e-05, 'num_leaves': 177, 'feature_fraction': 0.6180464590921193, 'bagging_fraction': 0.864184669740841, 'bagging_freq': 4, 'min_child_samples': 20}. Best is trial 33 with value: 0.8991623723690919.\u001b[0m\n",
            "\u001b[32m[I 2023-01-13 09:41:44,671]\u001b[0m Trial 69 finished with value: 0.8968263293713994 and parameters: {'lambda_l1': 3.1851364243170595e-06, 'lambda_l2': 0.06255189357274285, 'num_leaves': 195, 'feature_fraction': 0.7945480505120099, 'bagging_fraction': 0.9962292170714357, 'bagging_freq': 1, 'min_child_samples': 30}. Best is trial 33 with value: 0.8991623723690919.\u001b[0m\n",
            "\u001b[32m[I 2023-01-13 09:41:45,121]\u001b[0m Trial 70 finished with value: 0.883423166890635 and parameters: {'lambda_l1': 8.718894391382092e-08, 'lambda_l2': 0.06861219706165875, 'num_leaves': 192, 'feature_fraction': 0.8005858485837839, 'bagging_fraction': 0.40483107156365306, 'bagging_freq': 1, 'min_child_samples': 30}. Best is trial 33 with value: 0.8991623723690919.\u001b[0m\n",
            "\u001b[32m[I 2023-01-13 09:41:47,618]\u001b[0m Trial 71 finished with value: 0.8862082249177344 and parameters: {'lambda_l1': 1.465861008330098e-07, 'lambda_l2': 0.009167241323785373, 'num_leaves': 185, 'feature_fraction': 0.7299927103860234, 'bagging_fraction': 0.8894160987405074, 'bagging_freq': 2, 'min_child_samples': 88}. Best is trial 33 with value: 0.8991623723690919.\u001b[0m\n",
            "\u001b[32m[I 2023-01-13 09:41:52,297]\u001b[0m Trial 72 finished with value: 0.8989861062807218 and parameters: {'lambda_l1': 0.0030332115145799794, 'lambda_l2': 0.00877439065694655, 'num_leaves': 177, 'feature_fraction': 0.7324251669679439, 'bagging_fraction': 0.9820769047487123, 'bagging_freq': 4, 'min_child_samples': 7}. Best is trial 33 with value: 0.8991623723690919.\u001b[0m\n",
            "\u001b[32m[I 2023-01-13 09:41:54,704]\u001b[0m Trial 73 finished with value: 0.899243839737701 and parameters: {'lambda_l1': 0.002492396096825746, 'lambda_l2': 9.907281705291331e-05, 'num_leaves': 174, 'feature_fraction': 0.773352488505102, 'bagging_fraction': 0.9812436362762804, 'bagging_freq': 4, 'min_child_samples': 8}. Best is trial 73 with value: 0.899243839737701.\u001b[0m\n",
            "\u001b[32m[I 2023-01-13 09:41:59,386]\u001b[0m Trial 74 finished with value: 0.8992212334126045 and parameters: {'lambda_l1': 1.6960714396132393e-05, 'lambda_l2': 0.012523102997445789, 'num_leaves': 172, 'feature_fraction': 0.7723912858797211, 'bagging_fraction': 0.9806670052827132, 'bagging_freq': 4, 'min_child_samples': 7}. Best is trial 73 with value: 0.899243839737701.\u001b[0m\n",
            "\u001b[32m[I 2023-01-13 09:42:01,977]\u001b[0m Trial 75 finished with value: 0.8992688772478634 and parameters: {'lambda_l1': 0.0047657150339758285, 'lambda_l2': 1.761665883551825e-05, 'num_leaves': 172, 'feature_fraction': 0.8205409097418465, 'bagging_fraction': 0.9729445466749844, 'bagging_freq': 4, 'min_child_samples': 8}. Best is trial 75 with value: 0.8992688772478634.\u001b[0m\n",
            "\u001b[32m[I 2023-01-13 09:42:07,173]\u001b[0m Trial 76 finished with value: 0.8975239645993023 and parameters: {'lambda_l1': 0.011698245046774827, 'lambda_l2': 0.024961418089080374, 'num_leaves': 183, 'feature_fraction': 0.8212965963599488, 'bagging_fraction': 0.9662885457893584, 'bagging_freq': 4, 'min_child_samples': 6}. Best is trial 75 with value: 0.8992688772478634.\u001b[0m\n",
            "\u001b[32m[I 2023-01-13 09:42:08,952]\u001b[0m Trial 77 finished with value: 0.8979294975736054 and parameters: {'lambda_l1': 0.010673583683662937, 'lambda_l2': 2.242218123716608e-05, 'num_leaves': 161, 'feature_fraction': 0.8153680049090781, 'bagging_fraction': 0.9680144927474337, 'bagging_freq': 4, 'min_child_samples': 8}. Best is trial 75 with value: 0.8992688772478634.\u001b[0m\n",
            "\u001b[32m[I 2023-01-13 09:42:13,718]\u001b[0m Trial 78 finished with value: 0.8983974140530009 and parameters: {'lambda_l1': 0.004673341105274469, 'lambda_l2': 1.681391352943441e-05, 'num_leaves': 161, 'feature_fraction': 0.7785495985384365, 'bagging_fraction': 0.9846836242385723, 'bagging_freq': 4, 'min_child_samples': 8}. Best is trial 75 with value: 0.8992688772478634.\u001b[0m\n",
            "\u001b[32m[I 2023-01-13 09:42:15,767]\u001b[0m Trial 79 finished with value: 0.897034089698063 and parameters: {'lambda_l1': 0.004068530216454988, 'lambda_l2': 0.00030956492562207163, 'num_leaves': 173, 'feature_fraction': 0.7730466934154584, 'bagging_fraction': 0.9856720182096774, 'bagging_freq': 4, 'min_child_samples': 14}. Best is trial 75 with value: 0.8992688772478634.\u001b[0m\n",
            "\u001b[32m[I 2023-01-13 09:42:20,266]\u001b[0m Trial 81 finished with value: 0.8948963786372398 and parameters: {'lambda_l1': 0.03401567800827632, 'lambda_l2': 7.925754430007956e-07, 'num_leaves': 190, 'feature_fraction': 0.8918247051259653, 'bagging_fraction': 0.9363020334441591, 'bagging_freq': 5, 'min_child_samples': 48}. Best is trial 75 with value: 0.8992688772478634.\u001b[0m\n",
            "\u001b[32m[I 2023-01-13 09:42:21,839]\u001b[0m Trial 80 finished with value: 0.8983680374257988 and parameters: {'lambda_l1': 0.03413466538457912, 'lambda_l2': 0.00023951262440364442, 'num_leaves': 211, 'feature_fraction': 0.8835335398300199, 'bagging_fraction': 0.9377497813059789, 'bagging_freq': 5, 'min_child_samples': 14}. Best is trial 75 with value: 0.8992688772478634.\u001b[0m\n",
            "\u001b[32m[I 2023-01-13 09:42:29,635]\u001b[0m Trial 82 finished with value: 0.8965290320394582 and parameters: {'lambda_l1': 0.005349036882340821, 'lambda_l2': 1.6915770514542733e-05, 'num_leaves': 179, 'feature_fraction': 0.783843072862463, 'bagging_fraction': 0.9871562036622676, 'bagging_freq': 5, 'min_child_samples': 8}. Best is trial 75 with value: 0.8992688772478634.\u001b[0m\n",
            "\u001b[32m[I 2023-01-13 09:42:30,836]\u001b[0m Trial 83 finished with value: 0.8988488806375262 and parameters: {'lambda_l1': 0.0026591185710816796, 'lambda_l2': 1.2032727189154635e-05, 'num_leaves': 161, 'feature_fraction': 0.7838592607737864, 'bagging_fraction': 0.9809343550520446, 'bagging_freq': 4, 'min_child_samples': 8}. Best is trial 75 with value: 0.8992688772478634.\u001b[0m\n",
            "\u001b[32m[I 2023-01-13 09:42:36,505]\u001b[0m Trial 84 finished with value: 0.8965326978221869 and parameters: {'lambda_l1': 0.0026134665797583633, 'lambda_l2': 8.536332561560764e-06, 'num_leaves': 162, 'feature_fraction': 0.7867825364736479, 'bagging_fraction': 0.9768267265092382, 'bagging_freq': 4, 'min_child_samples': 10}. Best is trial 75 with value: 0.8992688772478634.\u001b[0m\n",
            "\u001b[32m[I 2023-01-13 09:42:37,225]\u001b[0m Trial 85 finished with value: 0.8959170492625265 and parameters: {'lambda_l1': 0.0005412042694912171, 'lambda_l2': 4.933850655287636e-06, 'num_leaves': 151, 'feature_fraction': 0.8026097386565739, 'bagging_fraction': 0.9542446133345686, 'bagging_freq': 4, 'min_child_samples': 11}. Best is trial 75 with value: 0.8992688772478634.\u001b[0m\n",
            "\u001b[32m[I 2023-01-13 09:42:44,382]\u001b[0m Trial 86 finished with value: 0.8961472995396464 and parameters: {'lambda_l1': 0.0005193263921350825, 'lambda_l2': 4.3300134264612216e-06, 'num_leaves': 196, 'feature_fraction': 0.8300903376843153, 'bagging_fraction': 0.9990739588154836, 'bagging_freq': 4, 'min_child_samples': 12}. Best is trial 75 with value: 0.8992688772478634.\u001b[0m\n",
            "\u001b[32m[I 2023-01-13 09:42:45,162]\u001b[0m Trial 87 finished with value: 0.898568277506801 and parameters: {'lambda_l1': 0.001346747849030235, 'lambda_l2': 8.80890441445297e-05, 'num_leaves': 199, 'feature_fraction': 0.742139501250292, 'bagging_fraction': 0.9157225526797089, 'bagging_freq': 3, 'min_child_samples': 5}. Best is trial 75 with value: 0.8992688772478634.\u001b[0m\n",
            "\u001b[32m[I 2023-01-13 09:42:51,089]\u001b[0m Trial 88 finished with value: 0.8977377628349293 and parameters: {'lambda_l1': 0.0014511621876111501, 'lambda_l2': 0.00011343814546733099, 'num_leaves': 171, 'feature_fraction': 0.739387907621592, 'bagging_fraction': 0.9154460859051504, 'bagging_freq': 3, 'min_child_samples': 15}. Best is trial 75 with value: 0.8992688772478634.\u001b[0m\n",
            "\u001b[32m[I 2023-01-13 09:42:52,161]\u001b[0m Trial 89 finished with value: 0.8998985558237101 and parameters: {'lambda_l1': 0.00024112850792868678, 'lambda_l2': 8.076924371208832e-05, 'num_leaves': 171, 'feature_fraction': 0.7514658379019813, 'bagging_fraction': 0.912587864103261, 'bagging_freq': 3, 'min_child_samples': 5}. Best is trial 89 with value: 0.8998985558237101.\u001b[0m\n",
            "\u001b[32m[I 2023-01-13 09:42:59,341]\u001b[0m Trial 90 finished with value: 0.8970922642733038 and parameters: {'lambda_l1': 0.02058509203977166, 'lambda_l2': 3.630850030880438e-05, 'num_leaves': 212, 'feature_fraction': 0.763990241119409, 'bagging_fraction': 0.8946492426013102, 'bagging_freq': 3, 'min_child_samples': 5}. Best is trial 89 with value: 0.8998985558237101.\u001b[0m\n",
            "\u001b[32m[I 2023-01-13 09:43:01,125]\u001b[0m Trial 91 finished with value: 0.8992663908991904 and parameters: {'lambda_l1': 0.0002384597771381881, 'lambda_l2': 2.528008305684066e-06, 'num_leaves': 229, 'feature_fraction': 0.7172414904733607, 'bagging_fraction': 0.8972285111037672, 'bagging_freq': 3, 'min_child_samples': 5}. Best is trial 89 with value: 0.8998985558237101.\u001b[0m\n",
            "\u001b[32m[I 2023-01-13 09:43:06,385]\u001b[0m Trial 92 finished with value: 0.8987123627476366 and parameters: {'lambda_l1': 0.007779105107373685, 'lambda_l2': 0.000612300828307877, 'num_leaves': 186, 'feature_fraction': 0.6868941313070702, 'bagging_fraction': 0.9722237907629845, 'bagging_freq': 4, 'min_child_samples': 7}. Best is trial 89 with value: 0.8998985558237101.\u001b[0m\n",
            "\u001b[32m[I 2023-01-13 09:43:09,413]\u001b[0m Trial 93 finished with value: 0.8991361822938546 and parameters: {'lambda_l1': 0.00843655997073274, 'lambda_l2': 1.907501780537981e-06, 'num_leaves': 231, 'feature_fraction': 0.6896306482743358, 'bagging_fraction': 0.9745579650949464, 'bagging_freq': 3, 'min_child_samples': 7}. Best is trial 89 with value: 0.8998985558237101.\u001b[0m\n",
            "\u001b[32m[I 2023-01-13 09:43:14,433]\u001b[0m Trial 94 finished with value: 0.8966571172070781 and parameters: {'lambda_l1': 0.0875083093707809, 'lambda_l2': 1.9389560778370437e-06, 'num_leaves': 225, 'feature_fraction': 0.6289787843130349, 'bagging_fraction': 0.9452528558686839, 'bagging_freq': 4, 'min_child_samples': 7}. Best is trial 89 with value: 0.8998985558237101.\u001b[0m\n",
            "\u001b[32m[I 2023-01-13 09:43:17,793]\u001b[0m Trial 95 finished with value: 0.8981027568911575 and parameters: {'lambda_l1': 0.0002138210610017814, 'lambda_l2': 1.8261828613404005e-06, 'num_leaves': 231, 'feature_fraction': 0.6982264966162136, 'bagging_fraction': 0.9470694396049588, 'bagging_freq': 3, 'min_child_samples': 8}. Best is trial 89 with value: 0.8998985558237101.\u001b[0m\n",
            "\u001b[32m[I 2023-01-13 09:43:22,461]\u001b[0m Trial 96 finished with value: 0.8966617231978242 and parameters: {'lambda_l1': 0.00019431406268935122, 'lambda_l2': 5.887087693554706e-07, 'num_leaves': 218, 'feature_fraction': 0.7109855166723735, 'bagging_fraction': 0.6042153953445265, 'bagging_freq': 3, 'min_child_samples': 9}. Best is trial 89 with value: 0.8998985558237101.\u001b[0m\n",
            "\u001b[32m[I 2023-01-13 09:43:24,812]\u001b[0m Trial 98 finished with value: 0.873990901121934 and parameters: {'lambda_l1': 0.0026254727000435416, 'lambda_l2': 9.045489447187997e-06, 'num_leaves': 240, 'feature_fraction': 0.9608369508076419, 'bagging_fraction': 0.4288665880312658, 'bagging_freq': 4, 'min_child_samples': 56}. Best is trial 89 with value: 0.8998985558237101.\u001b[0m\n",
            "\u001b[32m[I 2023-01-13 09:43:26,120]\u001b[0m Trial 97 finished with value: 0.8985100754551455 and parameters: {'lambda_l1': 0.0008657022906195923, 'lambda_l2': 3.0676133183856583e-07, 'num_leaves': 220, 'feature_fraction': 0.7151450661603741, 'bagging_fraction': 0.9284816390509348, 'bagging_freq': 3, 'min_child_samples': 10}. Best is trial 89 with value: 0.8998985558237101.\u001b[0m\n",
            "\u001b[32m[I 2023-01-13 09:43:28,710]\u001b[0m Trial 99 finished with value: 0.897276683775253 and parameters: {'lambda_l1': 0.0008900267152497106, 'lambda_l2': 3.886711881346846e-06, 'num_leaves': 240, 'feature_fraction': 0.668726877564078, 'bagging_fraction': 0.9617339850117442, 'bagging_freq': 4, 'min_child_samples': 16}. Best is trial 89 with value: 0.8998985558237101.\u001b[0m\n"
          ]
        },
        {
          "output_type": "execute_result",
          "data": {
            "text/plain": [
              "OptunaSearchCV(cv=3, estimator=LGBMClassifier(), n_jobs=-1, n_trials=100,\n",
              "               param_distributions={'bagging_fraction': FloatDistribution(high=1.0, log=False, low=0.4, step=None),\n",
              "                                    'bagging_freq': IntDistribution(high=7, log=False, low=1, step=1),\n",
              "                                    'feature_fraction': FloatDistribution(high=1.0, log=False, low=0.4, step=None),\n",
              "                                    'lambda_l1': FloatDistribution(high=10.0, log=True, low=1e-08, step=None),\n",
              "                                    'lambda_l2': FloatDistribution(high=10.0, log=True, low=1e-08, step=None),\n",
              "                                    'min_child_samples': IntDistribution(high=100, log=False, low=5, step=1),\n",
              "                                    'num_leaves': IntDistribution(high=256, log=False, low=2, step=1)},\n",
              "               scoring='f1')"
            ]
          },
          "metadata": {},
          "execution_count": 85
        }
      ]
    },
    {
      "cell_type": "code",
      "source": [
        "optuna_search.best_score_"
      ],
      "metadata": {
        "colab": {
          "base_uri": "https://localhost:8080/"
        },
        "id": "SdyzvSzpiaG4",
        "outputId": "6a2610b6-b601-4319-8c14-8519c8cebbbc"
      },
      "execution_count": 86,
      "outputs": [
        {
          "output_type": "execute_result",
          "data": {
            "text/plain": [
              "0.8998985558237101"
            ]
          },
          "metadata": {},
          "execution_count": 86
        }
      ]
    },
    {
      "cell_type": "markdown",
      "source": [
        "Получили высокое значение f1 для модели"
      ],
      "metadata": {
        "id": "fNNu86JmcXTj"
      }
    },
    {
      "cell_type": "code",
      "source": [
        "lgbm_best_params = optuna_search.best_params_"
      ],
      "metadata": {
        "id": "yYBQp2Kmj6Tp"
      },
      "execution_count": 87,
      "outputs": []
    },
    {
      "cell_type": "code",
      "source": [
        "lgbm_optuna = lgb.LGBMClassifier(random_state=42, **lgbm_best_params)"
      ],
      "metadata": {
        "id": "amUvjrn8eo-c"
      },
      "execution_count": 88,
      "outputs": []
    },
    {
      "cell_type": "code",
      "source": [
        "lgbm_optuna.fit(features_train,target_train)\n",
        "pred_lgbm = lgbm_optuna.predict(features_test)"
      ],
      "metadata": {
        "id": "K9NBVBVPepSg"
      },
      "execution_count": 89,
      "outputs": []
    },
    {
      "cell_type": "code",
      "source": [
        "print(classification_report(target_test, pred_rf))"
      ],
      "metadata": {
        "colab": {
          "base_uri": "https://localhost:8080/"
        },
        "outputId": "5a318531-87a5-407a-b88b-c6d8f4f742d6",
        "id": "7EwErh1repSg"
      },
      "execution_count": 90,
      "outputs": [
        {
          "output_type": "stream",
          "name": "stdout",
          "text": [
            "              precision    recall  f1-score   support\n",
            "\n",
            "           0       0.89      0.88      0.88      2036\n",
            "           1       0.88      0.89      0.88      1946\n",
            "\n",
            "    accuracy                           0.88      3982\n",
            "   macro avg       0.88      0.88      0.88      3982\n",
            "weighted avg       0.88      0.88      0.88      3982\n",
            "\n"
          ]
        }
      ]
    },
    {
      "cell_type": "code",
      "source": [
        "lgbm_accuracy = accuracy_score(target_test, pred_lgbm)\n",
        "lgbm_precision = precision_score(target_test, pred_lgbm)\n",
        "lgbm_recall = recall_score(target_test, pred_lgbm)\n",
        "lgbm_f1 = f1_score(target_test, pred_lgbm)"
      ],
      "metadata": {
        "id": "F5lhFCWVepSi"
      },
      "execution_count": 91,
      "outputs": []
    },
    {
      "cell_type": "code",
      "source": [
        "print(f'LightGBM \\n accuracy: {lgbm_accuracy} \\n precision: {lgbm_precision} \\n recall: {lgbm_recall} \\n f1: {lgbm_f1}')"
      ],
      "metadata": {
        "colab": {
          "base_uri": "https://localhost:8080/"
        },
        "outputId": "f04be98e-7a86-4a04-a130-44f9dc240e77",
        "id": "DBKQrnuUepSi"
      },
      "execution_count": 92,
      "outputs": [
        {
          "output_type": "stream",
          "name": "stdout",
          "text": [
            "LightGBM \n",
            " accuracy: 0.907835258663988 \n",
            " precision: 0.9179460031762837 \n",
            " recall: 0.8910585817060637 \n",
            " f1: 0.9043024771838332\n"
          ]
        }
      ]
    },
    {
      "cell_type": "markdown",
      "source": [
        "Значение на тестовой выборке еще немного лучше"
      ],
      "metadata": {
        "id": "iVJShx-GjEAU"
      }
    },
    {
      "cell_type": "code",
      "source": [
        "confusion_matrix(target_test, pred_lgbm)\n",
        "\n",
        "\n",
        "cf_matrix_lgbm = confusion_matrix(target_test, pred_lgbm)\n",
        "print(cf_matrix_lgbm)\n",
        "\n",
        "ax = sns.heatmap(cf_matrix_lgbm/np.sum(cf_matrix_lgbm), annot=True, fmt='.2%', cmap='binary')\n",
        "ax.set_title('LightGBM\\n\\n');\n",
        "ax.set_xlabel('\\nPredicted Values')\n",
        "ax.set_ylabel('Actual Values ');\n",
        "\n",
        "ax.xaxis.set_ticklabels(['0','1'])\n",
        "ax.yaxis.set_ticklabels(['0','1'])\n",
        "\n",
        "plt.show()"
      ],
      "metadata": {
        "colab": {
          "base_uri": "https://localhost:8080/",
          "height": 380
        },
        "outputId": "b492d911-e9a6-4f18-f3fe-bc3d2b779352",
        "id": "or1fJtaxepSj"
      },
      "execution_count": 94,
      "outputs": [
        {
          "output_type": "stream",
          "name": "stdout",
          "text": [
            "[[1881  155]\n",
            " [ 212 1734]]\n"
          ]
        },
        {
          "output_type": "display_data",
          "data": {
            "text/plain": [
              "<Figure size 432x288 with 2 Axes>"
            ],
            "image/png": "[encoded data removed]"
          },
          "metadata": {}
        }
      ]
    },
    {
      "cell_type": "code",
      "source": [
        "lgbm_auc_score=roc_auc_score(target_test,lgbm_optuna.predict(features_test))\n",
        "fpr,tpr,thresholds=roc_curve(target_test,lgbm_optuna.predict_proba(features_test)[:,1])\n",
        "plt.figure(figsize=(10,7))\n",
        "plt.plot(fpr,tpr,label=\"AUC(Area=%0.2f)\"%lgbm_auc_score)\n",
        "plt.plot([0,1],\"r--\")\n",
        "plt.xlim([0.0,1.0])\n",
        "plt.ylim([0.0,1.05])\n",
        "plt.xlabel(\"False Positive\")\n",
        "plt.ylabel(\"True Positive\")\n",
        "plt.title(\"ROC LGBM\")\n",
        "plt.show()"
      ],
      "metadata": {
        "colab": {
          "base_uri": "https://localhost:8080/",
          "height": 464
        },
        "id": "sq7fei0aoDP8",
        "outputId": "72ac4dfa-2a07-4a01-c8da-ee17e42609ea"
      },
      "execution_count": 95,
      "outputs": [
        {
          "output_type": "display_data",
          "data": {
            "text/plain": [
              "<Figure size 720x504 with 1 Axes>"
            ],
            "image/png": "[encoded data removed]"
          },
          "metadata": {}
        }
      ]
    },
    {
      "cell_type": "markdown",
      "source": [
        "# Свод по моделям"
      ],
      "metadata": {
        "id": "J1S8tB-al3sL"
      }
    },
    {
      "cell_type": "code",
      "source": [
        "model_1 = {'accuracy': lr_accuracy.round(2),\n",
        "           'precision': lr_precision.round(2),\n",
        "           'recall': lr_recall.round(2),\n",
        "           'f1': lr_f1.round(2)}\n",
        "model_2 = {'accuracy': lgbm_accuracy.round(2),\n",
        "           'precision': lgbm_precision.round(2),\n",
        "           'recall': lgbm_recall.round(2),\n",
        "           'f1': lgbm_f1.round(2)}\n",
        "model_3 = {'accuracy': rf_accuracy.round(2),\n",
        "           'precision': rf_precision.round(2),\n",
        "           'recall': rf_recall.round(2),\n",
        "           'f1': rf_f1.round(2)}\n"
      ],
      "metadata": {
        "id": "3Fe9BIDeHAtM"
      },
      "execution_count": 96,
      "outputs": []
    },
    {
      "cell_type": "code",
      "source": [
        "Models = pd.DataFrame([model_1, model_2, model_3], \n",
        "                      index=['Logistic Regression', 'Random Forrest', 'LightGBM'])"
      ],
      "metadata": {
        "id": "1hKh5nVCmE0h"
      },
      "execution_count": 97,
      "outputs": []
    },
    {
      "cell_type": "code",
      "source": [
        "Models"
      ],
      "metadata": {
        "colab": {
          "base_uri": "https://localhost:8080/",
          "height": 142
        },
        "id": "MeYkWA8xmFmD",
        "outputId": "62f47701-f6ae-4d96-a051-5a765d11e918"
      },
      "execution_count": 98,
      "outputs": [
        {
          "output_type": "execute_result",
          "data": {
            "text/plain": [
              "                     accuracy  precision  recall    f1\n",
              "Logistic Regression      0.71       0.70    0.71  0.71\n",
              "Random Forrest           0.91       0.92    0.89  0.90\n",
              "LightGBM                 0.88       0.88    0.89  0.88"
            ],
            "text/html": [
              "\n",
              "  <div id=\"df-30a1d737-0349-420e-8e44-f42880c3a59a\">\n",
              "    <div class=\"colab-df-container\">\n",
              "      <div>\n",
              "<style scoped>\n",
              "    .dataframe tbody tr th:only-of-type {\n",
              "        vertical-align: middle;\n",
              "    }\n",
              "\n",
              "    .dataframe tbody tr th {\n",
              "        vertical-align: top;\n",
              "    }\n",
              "\n",
              "    .dataframe thead th {\n",
              "        text-align: right;\n",
              "    }\n",
              "</style>\n",
              "<table border=\"1\" class=\"dataframe\">\n",
              "  <thead>\n",
              "    <tr style=\"text-align: right;\">\n",
              "      <th></th>\n",
              "      <th>accuracy</th>\n",
              "      <th>precision</th>\n",
              "      <th>recall</th>\n",
              "      <th>f1</th>\n",
              "    </tr>\n",
              "  </thead>\n",
              "  <tbody>\n",
              "    <tr>\n",
              "      <th>Logistic Regression</th>\n",
              "      <td>0.71</td>\n",
              "      <td>0.70</td>\n",
              "      <td>0.71</td>\n",
              "      <td>0.71</td>\n",
              "    </tr>\n",
              "    <tr>\n",
              "      <th>Random Forrest</th>\n",
              "      <td>0.91</td>\n",
              "      <td>0.92</td>\n",
              "      <td>0.89</td>\n",
              "      <td>0.90</td>\n",
              "    </tr>\n",
              "    <tr>\n",
              "      <th>LightGBM</th>\n",
              "      <td>0.88</td>\n",
              "      <td>0.88</td>\n",
              "      <td>0.89</td>\n",
              "      <td>0.88</td>\n",
              "    </tr>\n",
              "  </tbody>\n",
              "</table>\n",
              "</div>\n",
              "      <button class=\"colab-df-convert\" onclick=\"convertToInteractive('df-30a1d737-0349-420e-8e44-f42880c3a59a')\"\n",
              "              title=\"Convert this dataframe to an interactive table.\"\n",
              "              style=\"display:none;\">\n",
              "        \n",
              "  <svg xmlns=\"http://www.w3.org/2000/svg\" height=\"24px\"viewBox=\"0 0 24 24\"\n",
              "       width=\"24px\">\n",
              "    <path d=\"M0 0h24v24H0V0z\" fill=\"none\"/>\n",
              "    <path d=\"M18.56 5.44l.94 2.06.94-2.06 2.06-.94-2.06-.94-.94-2.06-.94 2.06-2.06.94zm-11 1L8.5 8.5l.94-2.06 2.06-.94-2.06-.94L8.5 2.5l-.94 2.06-2.06.94zm10 10l.94 2.06.94-2.06 2.06-.94-2.06-.94-.94-2.06-.94 2.06-2.06.94z\"/><path d=\"M17.41 7.96l-1.37-1.37c-.4-.4-.92-.59-1.43-.59-.52 0-1.04.2-1.43.59L10.3 9.45l-7.72 7.72c-.78.78-.78 2.05 0 2.83L4 21.41c.39.39.9.59 1.41.59.51 0 1.02-.2 1.41-.59l7.78-7.78 2.81-2.81c.8-.78.8-2.07 0-2.86zM5.41 20L4 18.59l7.72-7.72 1.47 1.35L5.41 20z\"/>\n",
              "  </svg>\n",
              "      </button>\n",
              "      \n",
              "  <style>\n",
              "    .colab-df-container {\n",
              "      display:flex;\n",
              "      flex-wrap:wrap;\n",
              "      gap: 12px;\n",
              "    }\n",
              "\n",
              "    .colab-df-convert {\n",
              "      background-color: #E8F0FE;\n",
              "      border: none;\n",
              "      border-radius: 50%;\n",
              "      cursor: pointer;\n",
              "      display: none;\n",
              "      fill: #1967D2;\n",
              "      height: 32px;\n",
              "      padding: 0 0 0 0;\n",
              "      width: 32px;\n",
              "    }\n",
              "\n",
              "    .colab-df-convert:hover {\n",
              "      background-color: #E2EBFA;\n",
              "      box-shadow: 0px 1px 2px rgba(60, 64, 67, 0.3), 0px 1px 3px 1px rgba(60, 64, 67, 0.15);\n",
              "      fill: #174EA6;\n",
              "    }\n",
              "\n",
              "    [theme=dark] .colab-df-convert {\n",
              "      background-color: #3B4455;\n",
              "      fill: #D2E3FC;\n",
              "    }\n",
              "\n",
              "    [theme=dark] .colab-df-convert:hover {\n",
              "      background-color: #434B5C;\n",
              "      box-shadow: 0px 1px 3px 1px rgba(0, 0, 0, 0.15);\n",
              "      filter: drop-shadow(0px 1px 2px rgba(0, 0, 0, 0.3));\n",
              "      fill: #FFFFFF;\n",
              "    }\n",
              "  </style>\n",
              "\n",
              "      <script>\n",
              "        const buttonEl =\n",
              "          document.querySelector('#df-30a1d737-0349-420e-8e44-f42880c3a59a button.colab-df-convert');\n",
              "        buttonEl.style.display =\n",
              "          google.colab.kernel.accessAllowed ? 'block' : 'none';\n",
              "\n",
              "        async function convertToInteractive(key) {\n",
              "          const element = document.querySelector('#df-30a1d737-0349-420e-8e44-f42880c3a59a');\n",
              "          const dataTable =\n",
              "            await google.colab.kernel.invokeFunction('convertToInteractive',\n",
              "                                                     [key], {});\n",
              "          if (!dataTable) return;\n",
              "\n",
              "          const docLinkHtml = 'Like what you see? Visit the ' +\n",
              "            '<a target=\"_blank\" href=https://colab.research.google.com/notebooks/data_table.ipynb>data table notebook</a>'\n",
              "            + ' to learn more about interactive tables.';\n",
              "          element.innerHTML = '';\n",
              "          dataTable['output_type'] = 'display_data';\n",
              "          await google.colab.output.renderOutput(dataTable, element);\n",
              "          const docLink = document.createElement('div');\n",
              "          docLink.innerHTML = docLinkHtml;\n",
              "          element.appendChild(docLink);\n",
              "        }\n",
              "      </script>\n",
              "    </div>\n",
              "  </div>\n",
              "  "
            ]
          },
          "metadata": {},
          "execution_count": 98
        }
      ]
    },
    {
      "cell_type": "markdown",
      "source": [
        "# ВЫВОД"
      ],
      "metadata": {
        "id": "PazzFhDucor5"
      }
    },
    {
      "cell_type": "markdown",
      "source": [
        "Мы обучили три модели с подбором гиперпараметров двумя способами optuna и GridSearchCV. Optuna показала себя лучше. Лучшая модель среди всех оказалась RandomForrest по всем метрикам."
      ],
      "metadata": {
        "id": "jMM4dEiyctgf"
      }
    },
    {
      "cell_type": "code",
      "source": [],
      "metadata": {
        "id": "71uyaDQ5jG08"
      },
      "execution_count": null,
      "outputs": []
    }
  ]
}