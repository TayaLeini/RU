{
  "nbformat": 4,
  "nbformat_minor": 0,
  "metadata": {
    "colab": {
      "provenance": []
    },
    "kernelspec": {
      "name": "python3",
      "display_name": "Python 3"
    },
    "language_info": {
      "name": "python"
    }
  },
  "cells": [
    {
      "cell_type": "markdown",
      "source": [
        "# ОПИСАНИЕ ДАННЫХ"
      ],
      "metadata": {
        "id": "AyEvIdbU-ZFG"
      }
    },
    {
      "cell_type": "markdown",
      "source": [
        "Банки стремятся удержать как можно больше активных клиентов. Естественно, им любопытно узнать, удовлетворяются ли потребности их клиентской базы и планируют ли их клиенты покинуть компанию. Если банк подозревает, что его клиент потенциально может склониться к другой компании, банк может принять меры, чтобы убедить клиента остаться (целевая маркетинговая кампания, более личное отношение и т. д.).\n",
        "\n",
        "Цель этой записной книжки — найти наиболее точную и точную модель для прогнозирования того, какие клиенты (тестовые данные) останутся, а какие колеблются и могут планировать покинуть компанию. Мы используем набор данных клиентов банка (10000 строк) с атрибутами, указанными ниже."
      ],
      "metadata": {
        "id": "ER4LdeNz-d3v"
      }
    },
    {
      "cell_type": "markdown",
      "source": [
        "Набор данных имеет следующие атрибуты:\n",
        "\n",
        "* Rownumber: уникальный идентификатор для каждой строки.  \n",
        "* CustomerID: уникальный идентификатор для каждого клиента  \n",
        "* Surname: фамилия клиента  \n",
        "* CreditScore: кредитный рейтинг клиента  \n",
        "* Geography: Страна происхождения клиента  \n",
        "* Gender: Пол клиента  \n",
        "* Age: Возраст клиента  \n",
        "* Tenure: количество лет, в течение которых клиент работал в банке.  \n",
        "* Balance: Баланс клиента на счете  \n",
        "* NumOfProducts: количество продуктов клиента.  \n",
        "* HasCrCard: Отметьте, есть ли у клиента кредитная карта или нет  \n",
        "* IsActiveMember: отметьте, является ли клиент активным членом банка или нет  \n",
        "* EstimatedSalary: ориентировочная годовая зарплата клиента в евро.  \n",
        "* Exited: целевая переменная, флаг, покинул ли клиент банк или нет  "
      ],
      "metadata": {
        "id": "WsGjWpvD-gEw"
      }
    },
    {
      "cell_type": "markdown",
      "source": [
        "#ИССЛЕДУЕМ ДАННЫЕ"
      ],
      "metadata": {
        "id": "JVJIVVbXE7dj"
      }
    },
    {
      "cell_type": "code",
      "execution_count": 1,
      "metadata": {
        "id": "DHJqO-yBnGU6",
        "colab": {
          "base_uri": "https://localhost:8080/"
        },
        "outputId": "e574809c-3eff-4053-dd6b-a7ce6267c6bd"
      },
      "outputs": [
        {
          "output_type": "stream",
          "name": "stdout",
          "text": [
            "Mounted at /content/gdrive\n"
          ]
        }
      ],
      "source": [
        "from google.colab import drive\n",
        "drive.mount('/content/gdrive')"
      ]
    },
    {
      "cell_type": "code",
      "source": [
        "pip install --q catboost"
      ],
      "metadata": {
        "id": "E-FBGkbTQ0qp",
        "colab": {
          "base_uri": "https://localhost:8080/"
        },
        "outputId": "296dfedb-108a-4301-d135-6b9a1d2846a5"
      },
      "execution_count": 2,
      "outputs": [
        {
          "output_type": "stream",
          "name": "stdout",
          "text": [
            "\u001b[2K     \u001b[90m━━━━━━━━━━━━━━━━━━━━━━━━━━━━━━━━━━━━━━━━\u001b[0m \u001b[32m76.6/76.6 MB\u001b[0m \u001b[31m8.6 MB/s\u001b[0m eta \u001b[36m0:00:00\u001b[0m\n",
            "\u001b[?25h"
          ]
        }
      ]
    },
    {
      "cell_type": "code",
      "source": [
        "import lightgbm as lgb\n",
        "import matplotlib.pyplot as plt\n",
        "import numpy as np\n",
        "import pandas as pd\n",
        "import plotly.express as px\n",
        "import plotly.graph_objects as go\n",
        "import seaborn as sns\n",
        "import xgboost as xgb\n",
        "from catboost import CatBoostClassifier\n",
        "from imblearn.over_sampling  import SMOTE\n",
        "from sklearn.ensemble import RandomForestClassifier\n",
        "from sklearn.linear_model import LogisticRegression\n",
        "from sklearn.metrics import accuracy_score\n",
        "from sklearn.metrics import classification_report\n",
        "from sklearn.metrics import confusion_matrix\n",
        "from sklearn.metrics import f1_score\n",
        "from sklearn.metrics import f1_score\n",
        "from sklearn.metrics import fbeta_score, make_scorer\n",
        "from sklearn.metrics import precision_score\n",
        "from sklearn.metrics import recall_score\n",
        "from sklearn.metrics import roc_auc_score\n",
        "from sklearn.metrics import roc_curve\n",
        "from sklearn.model_selection import GridSearchCV\n",
        "from sklearn.model_selection import StratifiedKFold\n",
        "from sklearn.model_selection import cross_val_score\n",
        "from sklearn.model_selection import cross_validate\n",
        "from sklearn.model_selection import train_test_split\n",
        "from sklearn.preprocessing import OrdinalEncoder\n",
        "from sklearn.preprocessing import StandardScaler"
      ],
      "metadata": {
        "id": "dw0GUO9mqEks"
      },
      "execution_count": 3,
      "outputs": []
    },
    {
      "cell_type": "code",
      "source": [
        "df = pd.read_csv('/content/gdrive/MyDrive/Colab Notebooks/Churn_Modelling.csv')"
      ],
      "metadata": {
        "id": "Y1BuNNxhpwmK"
      },
      "execution_count": 4,
      "outputs": []
    },
    {
      "cell_type": "code",
      "source": [
        "df.info()\n",
        "df.head()"
      ],
      "metadata": {
        "id": "Yo-W1h8eqJ-L",
        "colab": {
          "base_uri": "https://localhost:8080/",
          "height": 605
        },
        "outputId": "56ccfdd1-e052-4479-fd37-6158d76cb0be"
      },
      "execution_count": 5,
      "outputs": [
        {
          "output_type": "stream",
          "name": "stdout",
          "text": [
            "<class 'pandas.core.frame.DataFrame'>\n",
            "RangeIndex: 10000 entries, 0 to 9999\n",
            "Data columns (total 14 columns):\n",
            " #   Column           Non-Null Count  Dtype  \n",
            "---  ------           --------------  -----  \n",
            " 0   RowNumber        10000 non-null  int64  \n",
            " 1   CustomerId       10000 non-null  int64  \n",
            " 2   Surname          10000 non-null  object \n",
            " 3   CreditScore      10000 non-null  int64  \n",
            " 4   Geography        10000 non-null  object \n",
            " 5   Gender           10000 non-null  object \n",
            " 6   Age              10000 non-null  int64  \n",
            " 7   Tenure           10000 non-null  int64  \n",
            " 8   Balance          10000 non-null  float64\n",
            " 9   NumOfProducts    10000 non-null  int64  \n",
            " 10  HasCrCard        10000 non-null  int64  \n",
            " 11  IsActiveMember   10000 non-null  int64  \n",
            " 12  EstimatedSalary  10000 non-null  float64\n",
            " 13  Exited           10000 non-null  int64  \n",
            "dtypes: float64(2), int64(9), object(3)\n",
            "memory usage: 1.1+ MB\n"
          ]
        },
        {
          "output_type": "execute_result",
          "data": {
            "text/plain": [
              "   RowNumber  CustomerId   Surname  CreditScore Geography  Gender  Age  \\\n",
              "0          1    15634602  Hargrave          619    France  Female   42   \n",
              "1          2    15647311      Hill          608     Spain  Female   41   \n",
              "2          3    15619304      Onio          502    France  Female   42   \n",
              "3          4    15701354      Boni          699    France  Female   39   \n",
              "4          5    15737888  Mitchell          850     Spain  Female   43   \n",
              "\n",
              "   Tenure    Balance  NumOfProducts  HasCrCard  IsActiveMember  \\\n",
              "0       2       0.00              1          1               1   \n",
              "1       1   83807.86              1          0               1   \n",
              "2       8  159660.80              3          1               0   \n",
              "3       1       0.00              2          0               0   \n",
              "4       2  125510.82              1          1               1   \n",
              "\n",
              "   EstimatedSalary  Exited  \n",
              "0        101348.88       1  \n",
              "1        112542.58       0  \n",
              "2        113931.57       1  \n",
              "3         93826.63       0  \n",
              "4         79084.10       0  "
            ],
            "text/html": [
              "\n",
              "  <div id=\"df-81c5a509-55a7-422e-b953-08a25b825747\">\n",
              "    <div class=\"colab-df-container\">\n",
              "      <div>\n",
              "<style scoped>\n",
              "    .dataframe tbody tr th:only-of-type {\n",
              "        vertical-align: middle;\n",
              "    }\n",
              "\n",
              "    .dataframe tbody tr th {\n",
              "        vertical-align: top;\n",
              "    }\n",
              "\n",
              "    .dataframe thead th {\n",
              "        text-align: right;\n",
              "    }\n",
              "</style>\n",
              "<table border=\"1\" class=\"dataframe\">\n",
              "  <thead>\n",
              "    <tr style=\"text-align: right;\">\n",
              "      <th></th>\n",
              "      <th>RowNumber</th>\n",
              "      <th>CustomerId</th>\n",
              "      <th>Surname</th>\n",
              "      <th>CreditScore</th>\n",
              "      <th>Geography</th>\n",
              "      <th>Gender</th>\n",
              "      <th>Age</th>\n",
              "      <th>Tenure</th>\n",
              "      <th>Balance</th>\n",
              "      <th>NumOfProducts</th>\n",
              "      <th>HasCrCard</th>\n",
              "      <th>IsActiveMember</th>\n",
              "      <th>EstimatedSalary</th>\n",
              "      <th>Exited</th>\n",
              "    </tr>\n",
              "  </thead>\n",
              "  <tbody>\n",
              "    <tr>\n",
              "      <th>0</th>\n",
              "      <td>1</td>\n",
              "      <td>15634602</td>\n",
              "      <td>Hargrave</td>\n",
              "      <td>619</td>\n",
              "      <td>France</td>\n",
              "      <td>Female</td>\n",
              "      <td>42</td>\n",
              "      <td>2</td>\n",
              "      <td>0.00</td>\n",
              "      <td>1</td>\n",
              "      <td>1</td>\n",
              "      <td>1</td>\n",
              "      <td>101348.88</td>\n",
              "      <td>1</td>\n",
              "    </tr>\n",
              "    <tr>\n",
              "      <th>1</th>\n",
              "      <td>2</td>\n",
              "      <td>15647311</td>\n",
              "      <td>Hill</td>\n",
              "      <td>608</td>\n",
              "      <td>Spain</td>\n",
              "      <td>Female</td>\n",
              "      <td>41</td>\n",
              "      <td>1</td>\n",
              "      <td>83807.86</td>\n",
              "      <td>1</td>\n",
              "      <td>0</td>\n",
              "      <td>1</td>\n",
              "      <td>112542.58</td>\n",
              "      <td>0</td>\n",
              "    </tr>\n",
              "    <tr>\n",
              "      <th>2</th>\n",
              "      <td>3</td>\n",
              "      <td>15619304</td>\n",
              "      <td>Onio</td>\n",
              "      <td>502</td>\n",
              "      <td>France</td>\n",
              "      <td>Female</td>\n",
              "      <td>42</td>\n",
              "      <td>8</td>\n",
              "      <td>159660.80</td>\n",
              "      <td>3</td>\n",
              "      <td>1</td>\n",
              "      <td>0</td>\n",
              "      <td>113931.57</td>\n",
              "      <td>1</td>\n",
              "    </tr>\n",
              "    <tr>\n",
              "      <th>3</th>\n",
              "      <td>4</td>\n",
              "      <td>15701354</td>\n",
              "      <td>Boni</td>\n",
              "      <td>699</td>\n",
              "      <td>France</td>\n",
              "      <td>Female</td>\n",
              "      <td>39</td>\n",
              "      <td>1</td>\n",
              "      <td>0.00</td>\n",
              "      <td>2</td>\n",
              "      <td>0</td>\n",
              "      <td>0</td>\n",
              "      <td>93826.63</td>\n",
              "      <td>0</td>\n",
              "    </tr>\n",
              "    <tr>\n",
              "      <th>4</th>\n",
              "      <td>5</td>\n",
              "      <td>15737888</td>\n",
              "      <td>Mitchell</td>\n",
              "      <td>850</td>\n",
              "      <td>Spain</td>\n",
              "      <td>Female</td>\n",
              "      <td>43</td>\n",
              "      <td>2</td>\n",
              "      <td>125510.82</td>\n",
              "      <td>1</td>\n",
              "      <td>1</td>\n",
              "      <td>1</td>\n",
              "      <td>79084.10</td>\n",
              "      <td>0</td>\n",
              "    </tr>\n",
              "  </tbody>\n",
              "</table>\n",
              "</div>\n",
              "      <button class=\"colab-df-convert\" onclick=\"convertToInteractive('df-81c5a509-55a7-422e-b953-08a25b825747')\"\n",
              "              title=\"Convert this dataframe to an interactive table.\"\n",
              "              style=\"display:none;\">\n",
              "        \n",
              "  <svg xmlns=\"http://www.w3.org/2000/svg\" height=\"24px\"viewBox=\"0 0 24 24\"\n",
              "       width=\"24px\">\n",
              "    <path d=\"M0 0h24v24H0V0z\" fill=\"none\"/>\n",
              "    <path d=\"M18.56 5.44l.94 2.06.94-2.06 2.06-.94-2.06-.94-.94-2.06-.94 2.06-2.06.94zm-11 1L8.5 8.5l.94-2.06 2.06-.94-2.06-.94L8.5 2.5l-.94 2.06-2.06.94zm10 10l.94 2.06.94-2.06 2.06-.94-2.06-.94-.94-2.06-.94 2.06-2.06.94z\"/><path d=\"M17.41 7.96l-1.37-1.37c-.4-.4-.92-.59-1.43-.59-.52 0-1.04.2-1.43.59L10.3 9.45l-7.72 7.72c-.78.78-.78 2.05 0 2.83L4 21.41c.39.39.9.59 1.41.59.51 0 1.02-.2 1.41-.59l7.78-7.78 2.81-2.81c.8-.78.8-2.07 0-2.86zM5.41 20L4 18.59l7.72-7.72 1.47 1.35L5.41 20z\"/>\n",
              "  </svg>\n",
              "      </button>\n",
              "      \n",
              "  <style>\n",
              "    .colab-df-container {\n",
              "      display:flex;\n",
              "      flex-wrap:wrap;\n",
              "      gap: 12px;\n",
              "    }\n",
              "\n",
              "    .colab-df-convert {\n",
              "      background-color: #E8F0FE;\n",
              "      border: none;\n",
              "      border-radius: 50%;\n",
              "      cursor: pointer;\n",
              "      display: none;\n",
              "      fill: #1967D2;\n",
              "      height: 32px;\n",
              "      padding: 0 0 0 0;\n",
              "      width: 32px;\n",
              "    }\n",
              "\n",
              "    .colab-df-convert:hover {\n",
              "      background-color: #E2EBFA;\n",
              "      box-shadow: 0px 1px 2px rgba(60, 64, 67, 0.3), 0px 1px 3px 1px rgba(60, 64, 67, 0.15);\n",
              "      fill: #174EA6;\n",
              "    }\n",
              "\n",
              "    [theme=dark] .colab-df-convert {\n",
              "      background-color: #3B4455;\n",
              "      fill: #D2E3FC;\n",
              "    }\n",
              "\n",
              "    [theme=dark] .colab-df-convert:hover {\n",
              "      background-color: #434B5C;\n",
              "      box-shadow: 0px 1px 3px 1px rgba(0, 0, 0, 0.15);\n",
              "      filter: drop-shadow(0px 1px 2px rgba(0, 0, 0, 0.3));\n",
              "      fill: #FFFFFF;\n",
              "    }\n",
              "  </style>\n",
              "\n",
              "      <script>\n",
              "        const buttonEl =\n",
              "          document.querySelector('#df-81c5a509-55a7-422e-b953-08a25b825747 button.colab-df-convert');\n",
              "        buttonEl.style.display =\n",
              "          google.colab.kernel.accessAllowed ? 'block' : 'none';\n",
              "\n",
              "        async function convertToInteractive(key) {\n",
              "          const element = document.querySelector('#df-81c5a509-55a7-422e-b953-08a25b825747');\n",
              "          const dataTable =\n",
              "            await google.colab.kernel.invokeFunction('convertToInteractive',\n",
              "                                                     [key], {});\n",
              "          if (!dataTable) return;\n",
              "\n",
              "          const docLinkHtml = 'Like what you see? Visit the ' +\n",
              "            '<a target=\"_blank\" href=https://colab.research.google.com/notebooks/data_table.ipynb>data table notebook</a>'\n",
              "            + ' to learn more about interactive tables.';\n",
              "          element.innerHTML = '';\n",
              "          dataTable['output_type'] = 'display_data';\n",
              "          await google.colab.output.renderOutput(dataTable, element);\n",
              "          const docLink = document.createElement('div');\n",
              "          docLink.innerHTML = docLinkHtml;\n",
              "          element.appendChild(docLink);\n",
              "        }\n",
              "      </script>\n",
              "    </div>\n",
              "  </div>\n",
              "  "
            ]
          },
          "metadata": {},
          "execution_count": 5
        }
      ]
    },
    {
      "cell_type": "code",
      "source": [
        "pip install --q phik"
      ],
      "metadata": {
        "id": "POo-fmY4qMmc",
        "colab": {
          "base_uri": "https://localhost:8080/"
        },
        "outputId": "fba9069d-59e2-4fd6-9ad7-c265c0d67427"
      },
      "execution_count": 6,
      "outputs": [
        {
          "output_type": "stream",
          "name": "stdout",
          "text": [
            "\u001b[?25l     \u001b[90m━━━━━━━━━━━━━━━━━━━━━━━━━━━━━━━━━━━━━━━━\u001b[0m \u001b[32m0.0/679.5 KB\u001b[0m \u001b[31m?\u001b[0m eta \u001b[36m-:--:--\u001b[0m\r\u001b[2K     \u001b[90m━━━━━━━━━━━━━━━━━━━━━━━━━━━━━━━━━━━━━━\u001b[0m \u001b[32m679.5/679.5 KB\u001b[0m \u001b[31m30.9 MB/s\u001b[0m eta \u001b[36m0:00:00\u001b[0m\n",
            "\u001b[?25h"
          ]
        }
      ]
    },
    {
      "cell_type": "code",
      "source": [
        "import phik\n",
        "from phik.report import plot_correlation_matrix\n",
        "from phik import report"
      ],
      "metadata": {
        "id": "oAgPPtOuq-9w"
      },
      "execution_count": 7,
      "outputs": []
    },
    {
      "cell_type": "markdown",
      "source": [
        "## ИССЛЕДУЕМ ВАЖНОСТЬ ПАРАМЕТРОВ"
      ],
      "metadata": {
        "id": "VQnxQp2pFHko"
      }
    },
    {
      "cell_type": "code",
      "source": [
        "phik_overview = df.phik_matrix()\n",
        "phik_overview['Exited'].round(2).sort_values()"
      ],
      "metadata": {
        "id": "X1lAsiR_rVKB",
        "colab": {
          "base_uri": "https://localhost:8080/"
        },
        "outputId": "5d97f937-46c0-4fac-ee0b-7f1af4d885a9"
      },
      "execution_count": 8,
      "outputs": [
        {
          "output_type": "stream",
          "name": "stdout",
          "text": [
            "interval columns not set, guessing: ['RowNumber', 'CustomerId', 'CreditScore', 'Age', 'Tenure', 'Balance', 'NumOfProducts', 'HasCrCard', 'IsActiveMember', 'EstimatedSalary', 'Exited']\n"
          ]
        },
        {
          "output_type": "stream",
          "name": "stderr",
          "text": [
            "/usr/local/lib/python3.8/dist-packages/phik/data_quality.py:59: UserWarning: The number of unique values of variable Surname is large: 2932. Are you sure this is not an interval variable? Analysis for pairs of variables including Surname can be slow.\n",
            "  warnings.warn(\n"
          ]
        },
        {
          "output_type": "execute_result",
          "data": {
            "text/plain": [
              "RowNumber          0.00\n",
              "Surname            0.00\n",
              "HasCrCard          0.00\n",
              "EstimatedSalary    0.00\n",
              "Tenure             0.02\n",
              "CustomerId         0.03\n",
              "CreditScore        0.10\n",
              "Geography          0.10\n",
              "Gender             0.17\n",
              "Balance            0.18\n",
              "IsActiveMember     0.24\n",
              "Age                0.49\n",
              "NumOfProducts      0.57\n",
              "Exited             1.00\n",
              "Name: Exited, dtype: float64"
            ]
          },
          "metadata": {},
          "execution_count": 8
        }
      ]
    },
    {
      "cell_type": "markdown",
      "source": [
        "## Определим наличие дубликатов"
      ],
      "metadata": {
        "id": "EFKprbc2FZld"
      }
    },
    {
      "cell_type": "code",
      "source": [
        "df.duplicated().sum()"
      ],
      "metadata": {
        "id": "Djn2ligqsqKT",
        "colab": {
          "base_uri": "https://localhost:8080/"
        },
        "outputId": "0b2657a8-230a-4965-d3ac-eae2c6dfabff"
      },
      "execution_count": 9,
      "outputs": [
        {
          "output_type": "execute_result",
          "data": {
            "text/plain": [
              "0"
            ]
          },
          "metadata": {},
          "execution_count": 9
        }
      ]
    },
    {
      "cell_type": "code",
      "source": [
        "df = df.drop(['RowNumber','Surname','CustomerId'], axis=1)"
      ],
      "metadata": {
        "id": "NdNigoFVtsw6"
      },
      "execution_count": 10,
      "outputs": []
    },
    {
      "cell_type": "markdown",
      "source": [
        "## Посмотрим баланс классов на целевой выборке"
      ],
      "metadata": {
        "id": "UREgAecbFex3"
      }
    },
    {
      "cell_type": "code",
      "source": [
        "df['Exited'].value_counts(normalize=True)"
      ],
      "metadata": {
        "id": "6Gr4JUVJt_Uk",
        "colab": {
          "base_uri": "https://localhost:8080/"
        },
        "outputId": "604a76d1-8f09-420d-d48a-1adf4ea5b113"
      },
      "execution_count": 11,
      "outputs": [
        {
          "output_type": "execute_result",
          "data": {
            "text/plain": [
              "0    0.7963\n",
              "1    0.2037\n",
              "Name: Exited, dtype: float64"
            ]
          },
          "metadata": {},
          "execution_count": 11
        }
      ]
    },
    {
      "cell_type": "markdown",
      "source": [
        "## Исследуем важные параметры"
      ],
      "metadata": {
        "id": "mOXN3Pj_Fkck"
      }
    },
    {
      "cell_type": "code",
      "source": [
        "df['NumOfProducts'].value_counts()"
      ],
      "metadata": {
        "id": "hy8AQ3yqsZqZ",
        "colab": {
          "base_uri": "https://localhost:8080/"
        },
        "outputId": "ccdbd8bb-fedb-4167-dfbf-0249e1958b99"
      },
      "execution_count": 12,
      "outputs": [
        {
          "output_type": "execute_result",
          "data": {
            "text/plain": [
              "1    5084\n",
              "2    4590\n",
              "3     266\n",
              "4      60\n",
              "Name: NumOfProducts, dtype: int64"
            ]
          },
          "metadata": {},
          "execution_count": 12
        }
      ]
    },
    {
      "cell_type": "code",
      "source": [
        "df.groupby(['Exited','NumOfProducts'])['NumOfProducts'].count()"
      ],
      "metadata": {
        "id": "6JkkZ6HkuIuq",
        "colab": {
          "base_uri": "https://localhost:8080/"
        },
        "outputId": "f702538c-16c3-4f7b-e1c7-45e1bebbb36a"
      },
      "execution_count": 13,
      "outputs": [
        {
          "output_type": "execute_result",
          "data": {
            "text/plain": [
              "Exited  NumOfProducts\n",
              "0       1                3675\n",
              "        2                4242\n",
              "        3                  46\n",
              "1       1                1409\n",
              "        2                 348\n",
              "        3                 220\n",
              "        4                  60\n",
              "Name: NumOfProducts, dtype: int64"
            ]
          },
          "metadata": {},
          "execution_count": 13
        }
      ]
    },
    {
      "cell_type": "code",
      "source": [
        "palette_features = ['#E56B51', '#409996']\n",
        "sns.set(rc={'axes.facecolor':'lightgray'}) #background color of all plots\n",
        "\n",
        "plt.figure(figsize=(12,6.5)) \n",
        "plt.title('NumOfProducts', fontsize=15, fontweight='bold', fontname='DejaVu Sans', ha='center')\n",
        "ax = sns.countplot(data = df, x = 'NumOfProducts', hue = 'Exited', palette=palette_features)"
      ],
      "metadata": {
        "id": "RMTbnwQKGlzx",
        "colab": {
          "base_uri": "https://localhost:8080/",
          "height": 439
        },
        "outputId": "0d44569e-9f81-4830-9d0c-adc9dadaa337"
      },
      "execution_count": 14,
      "outputs": [
        {
          "output_type": "display_data",
          "data": {
            "text/plain": [
              "<Figure size 864x468 with 1 Axes>"
            ],
            "image/png": "[encoded data removed]"
          },
          "metadata": {}
        }
      ]
    },
    {
      "cell_type": "markdown",
      "source": [
        "Здесь видно, что клиенты кто остался имеют два продукта в банке"
      ],
      "metadata": {
        "id": "7IiS3WoyFwUq"
      }
    },
    {
      "cell_type": "code",
      "source": [
        "plt.figure(figsize=(8,8))\n",
        "df.NumOfProducts.hist()\n",
        "plt.xlabel('Number of products')\n",
        "plt.ylabel('Count')\n",
        "plt.title(r'Histogram Number of products distribution')\n",
        "plt.show()"
      ],
      "metadata": {
        "id": "FTZlp2qUwj9Q",
        "colab": {
          "base_uri": "https://localhost:8080/",
          "height": 518
        },
        "outputId": "c3942d19-f8a6-4f5e-9b2c-5598763ec786"
      },
      "execution_count": 15,
      "outputs": [
        {
          "output_type": "display_data",
          "data": {
            "text/plain": [
              "<Figure size 576x576 with 1 Axes>"
            ],
            "image/png": "[encoded data removed]"
          },
          "metadata": {}
        }
      ]
    },
    {
      "cell_type": "code",
      "source": [
        "df.groupby(['Exited','HasCrCard'])['HasCrCard'].count()"
      ],
      "metadata": {
        "id": "1ieRiIuawqxn",
        "colab": {
          "base_uri": "https://localhost:8080/"
        },
        "outputId": "69cca804-12af-43a8-bdd2-56103093b00c"
      },
      "execution_count": 16,
      "outputs": [
        {
          "output_type": "execute_result",
          "data": {
            "text/plain": [
              "Exited  HasCrCard\n",
              "0       0            2332\n",
              "        1            5631\n",
              "1       0             613\n",
              "        1            1424\n",
              "Name: HasCrCard, dtype: int64"
            ]
          },
          "metadata": {},
          "execution_count": 16
        }
      ]
    },
    {
      "cell_type": "code",
      "source": [
        "palette_features = ['#E56B51', '#409996']\n",
        "sns.set(rc={'axes.facecolor':'lightgray'}) #background color of all plots\n",
        "\n",
        "plt.figure(figsize=(12,6.5)) \n",
        "plt.title('Has Credit Card', fontsize=15, fontweight='bold', fontname='DejaVu Sans', ha='center')\n",
        "ax = sns.countplot(data = df, x = 'HasCrCard', hue = 'Exited', palette=palette_features)"
      ],
      "metadata": {
        "id": "micTHm0aHHKe",
        "colab": {
          "base_uri": "https://localhost:8080/",
          "height": 439
        },
        "outputId": "987135e3-671e-4075-9d8c-283d1db7b4ba"
      },
      "execution_count": 17,
      "outputs": [
        {
          "output_type": "display_data",
          "data": {
            "text/plain": [
              "<Figure size 864x468 with 1 Axes>"
            ],
            "image/png": "[encoded data removed]"
          },
          "metadata": {}
        }
      ]
    },
    {
      "cell_type": "markdown",
      "source": [
        "Видно, что количество клиентов ушедших имели меньше кредитных карт"
      ],
      "metadata": {
        "id": "VuPLGizxGKU-"
      }
    },
    {
      "cell_type": "code",
      "source": [
        "df.groupby(['Exited','IsActiveMember'])['IsActiveMember'].count()"
      ],
      "metadata": {
        "id": "BT4zjzNjwyBm",
        "colab": {
          "base_uri": "https://localhost:8080/"
        },
        "outputId": "2bcbc31d-58d6-4ffa-c6c5-7a267f3a5551"
      },
      "execution_count": 18,
      "outputs": [
        {
          "output_type": "execute_result",
          "data": {
            "text/plain": [
              "Exited  IsActiveMember\n",
              "0       0                 3547\n",
              "        1                 4416\n",
              "1       0                 1302\n",
              "        1                  735\n",
              "Name: IsActiveMember, dtype: int64"
            ]
          },
          "metadata": {},
          "execution_count": 18
        }
      ]
    },
    {
      "cell_type": "code",
      "source": [
        "palette_features = ['#E56B51', '#409996']\n",
        "sns.set(rc={'axes.facecolor':'lightgray'}) #background color of all plots\n",
        "\n",
        "plt.figure(figsize=(12,6.5)) \n",
        "plt.title('Is Active Member', fontsize=15, fontweight='bold', fontname='DejaVu Sans', ha='center')\n",
        "ax = sns.countplot(data = df, x = 'IsActiveMember', hue = 'Exited', palette=palette_features)"
      ],
      "metadata": {
        "id": "ze7O7_BDHg-S",
        "colab": {
          "base_uri": "https://localhost:8080/",
          "height": 439
        },
        "outputId": "2b6851bc-decb-4003-a5fd-01355234d2a5"
      },
      "execution_count": 19,
      "outputs": [
        {
          "output_type": "display_data",
          "data": {
            "text/plain": [
              "<Figure size 864x468 with 1 Axes>"
            ],
            "image/png": "[encoded data removed]"
          },
          "metadata": {}
        }
      ]
    },
    {
      "cell_type": "code",
      "source": [
        "plt.figure(figsize=(8,6.5))\n",
        "plt.title('Boxplot Estimated Salary', fontsize=15, fontweight='bold', fontname='DejaVu Sans', ha='center')\n",
        "sns.boxplot(data = df, y=\"EstimatedSalary\")\n",
        "plt.show()"
      ],
      "metadata": {
        "colab": {
          "base_uri": "https://localhost:8080/",
          "height": 402
        },
        "id": "wCI3V8NyV3IC",
        "outputId": "2e218fbc-c82d-4908-a57e-51332394ebd1"
      },
      "execution_count": 20,
      "outputs": [
        {
          "output_type": "display_data",
          "data": {
            "text/plain": [
              "<Figure size 576x468 with 1 Axes>"
            ],
            "image/png": "[encoded data removed]"
          },
          "metadata": {}
        }
      ]
    },
    {
      "cell_type": "code",
      "source": [
        "fig, ax = plt.subplots(figsize =(8, 9))\n",
        "ax.pie(df['Geography'].value_counts(), labels=df['Geography'].value_counts().index, autopct='%1.1f%%',\n",
        "        shadow=True, startangle=90, pctdistance=0.8,labeldistance=0.1, rotatelabels=True,textprops={'fontsize': 14},radius=1.1)\n",
        "plt.title('Pie chart of clients Geography', fontsize=15, fontweight='bold', fontname='DejaVu Sans', ha='center')\n",
        "plt.show()"
      ],
      "metadata": {
        "colab": {
          "base_uri": "https://localhost:8080/",
          "height": 495
        },
        "id": "L-xixzzeWGJc",
        "outputId": "57c6b68c-242b-4e50-94e4-db058e08514c"
      },
      "execution_count": 21,
      "outputs": [
        {
          "output_type": "display_data",
          "data": {
            "text/plain": [
              "<Figure size 576x648 with 1 Axes>"
            ],
            "image/png": "[encoded data removed]"
          },
          "metadata": {}
        }
      ]
    },
    {
      "cell_type": "code",
      "source": [
        "pd.pivot_table(df, index= ['Exited'], columns=['Geography'], values='Balance', aggfunc = ['median'])"
      ],
      "metadata": {
        "id": "z5MR4sOPy8BV",
        "colab": {
          "base_uri": "https://localhost:8080/",
          "height": 173
        },
        "outputId": "9063e0c4-de81-4eb6-d630-93574d42a063"
      },
      "execution_count": 22,
      "outputs": [
        {
          "output_type": "execute_result",
          "data": {
            "text/plain": [
              "             median                     \n",
              "Geography    France    Germany     Spain\n",
              "Exited                                  \n",
              "0          49853.57  120252.02      0.00\n",
              "1          80376.46  118951.22  79035.95"
            ],
            "text/html": [
              "\n",
              "  <div id=\"df-3f206d5a-0b1c-4c06-b92b-4b45b4e87642\">\n",
              "    <div class=\"colab-df-container\">\n",
              "      <div>\n",
              "<style scoped>\n",
              "    .dataframe tbody tr th:only-of-type {\n",
              "        vertical-align: middle;\n",
              "    }\n",
              "\n",
              "    .dataframe tbody tr th {\n",
              "        vertical-align: top;\n",
              "    }\n",
              "\n",
              "    .dataframe thead tr th {\n",
              "        text-align: left;\n",
              "    }\n",
              "\n",
              "    .dataframe thead tr:last-of-type th {\n",
              "        text-align: right;\n",
              "    }\n",
              "</style>\n",
              "<table border=\"1\" class=\"dataframe\">\n",
              "  <thead>\n",
              "    <tr>\n",
              "      <th></th>\n",
              "      <th colspan=\"3\" halign=\"left\">median</th>\n",
              "    </tr>\n",
              "    <tr>\n",
              "      <th>Geography</th>\n",
              "      <th>France</th>\n",
              "      <th>Germany</th>\n",
              "      <th>Spain</th>\n",
              "    </tr>\n",
              "    <tr>\n",
              "      <th>Exited</th>\n",
              "      <th></th>\n",
              "      <th></th>\n",
              "      <th></th>\n",
              "    </tr>\n",
              "  </thead>\n",
              "  <tbody>\n",
              "    <tr>\n",
              "      <th>0</th>\n",
              "      <td>49853.57</td>\n",
              "      <td>120252.02</td>\n",
              "      <td>0.00</td>\n",
              "    </tr>\n",
              "    <tr>\n",
              "      <th>1</th>\n",
              "      <td>80376.46</td>\n",
              "      <td>118951.22</td>\n",
              "      <td>79035.95</td>\n",
              "    </tr>\n",
              "  </tbody>\n",
              "</table>\n",
              "</div>\n",
              "      <button class=\"colab-df-convert\" onclick=\"convertToInteractive('df-3f206d5a-0b1c-4c06-b92b-4b45b4e87642')\"\n",
              "              title=\"Convert this dataframe to an interactive table.\"\n",
              "              style=\"display:none;\">\n",
              "        \n",
              "  <svg xmlns=\"http://www.w3.org/2000/svg\" height=\"24px\"viewBox=\"0 0 24 24\"\n",
              "       width=\"24px\">\n",
              "    <path d=\"M0 0h24v24H0V0z\" fill=\"none\"/>\n",
              "    <path d=\"M18.56 5.44l.94 2.06.94-2.06 2.06-.94-2.06-.94-.94-2.06-.94 2.06-2.06.94zm-11 1L8.5 8.5l.94-2.06 2.06-.94-2.06-.94L8.5 2.5l-.94 2.06-2.06.94zm10 10l.94 2.06.94-2.06 2.06-.94-2.06-.94-.94-2.06-.94 2.06-2.06.94z\"/><path d=\"M17.41 7.96l-1.37-1.37c-.4-.4-.92-.59-1.43-.59-.52 0-1.04.2-1.43.59L10.3 9.45l-7.72 7.72c-.78.78-.78 2.05 0 2.83L4 21.41c.39.39.9.59 1.41.59.51 0 1.02-.2 1.41-.59l7.78-7.78 2.81-2.81c.8-.78.8-2.07 0-2.86zM5.41 20L4 18.59l7.72-7.72 1.47 1.35L5.41 20z\"/>\n",
              "  </svg>\n",
              "      </button>\n",
              "      \n",
              "  <style>\n",
              "    .colab-df-container {\n",
              "      display:flex;\n",
              "      flex-wrap:wrap;\n",
              "      gap: 12px;\n",
              "    }\n",
              "\n",
              "    .colab-df-convert {\n",
              "      background-color: #E8F0FE;\n",
              "      border: none;\n",
              "      border-radius: 50%;\n",
              "      cursor: pointer;\n",
              "      display: none;\n",
              "      fill: #1967D2;\n",
              "      height: 32px;\n",
              "      padding: 0 0 0 0;\n",
              "      width: 32px;\n",
              "    }\n",
              "\n",
              "    .colab-df-convert:hover {\n",
              "      background-color: #E2EBFA;\n",
              "      box-shadow: 0px 1px 2px rgba(60, 64, 67, 0.3), 0px 1px 3px 1px rgba(60, 64, 67, 0.15);\n",
              "      fill: #174EA6;\n",
              "    }\n",
              "\n",
              "    [theme=dark] .colab-df-convert {\n",
              "      background-color: #3B4455;\n",
              "      fill: #D2E3FC;\n",
              "    }\n",
              "\n",
              "    [theme=dark] .colab-df-convert:hover {\n",
              "      background-color: #434B5C;\n",
              "      box-shadow: 0px 1px 3px 1px rgba(0, 0, 0, 0.15);\n",
              "      filter: drop-shadow(0px 1px 2px rgba(0, 0, 0, 0.3));\n",
              "      fill: #FFFFFF;\n",
              "    }\n",
              "  </style>\n",
              "\n",
              "      <script>\n",
              "        const buttonEl =\n",
              "          document.querySelector('#df-3f206d5a-0b1c-4c06-b92b-4b45b4e87642 button.colab-df-convert');\n",
              "        buttonEl.style.display =\n",
              "          google.colab.kernel.accessAllowed ? 'block' : 'none';\n",
              "\n",
              "        async function convertToInteractive(key) {\n",
              "          const element = document.querySelector('#df-3f206d5a-0b1c-4c06-b92b-4b45b4e87642');\n",
              "          const dataTable =\n",
              "            await google.colab.kernel.invokeFunction('convertToInteractive',\n",
              "                                                     [key], {});\n",
              "          if (!dataTable) return;\n",
              "\n",
              "          const docLinkHtml = 'Like what you see? Visit the ' +\n",
              "            '<a target=\"_blank\" href=https://colab.research.google.com/notebooks/data_table.ipynb>data table notebook</a>'\n",
              "            + ' to learn more about interactive tables.';\n",
              "          element.innerHTML = '';\n",
              "          dataTable['output_type'] = 'display_data';\n",
              "          await google.colab.output.renderOutput(dataTable, element);\n",
              "          const docLink = document.createElement('div');\n",
              "          docLink.innerHTML = docLinkHtml;\n",
              "          element.appendChild(docLink);\n",
              "        }\n",
              "      </script>\n",
              "    </div>\n",
              "  </div>\n",
              "  "
            ]
          },
          "metadata": {},
          "execution_count": 22
        }
      ]
    },
    {
      "cell_type": "markdown",
      "source": [
        "В Испании много клиентов с нулевым балансом"
      ],
      "metadata": {
        "id": "Rt3TQIYzUmUy"
      }
    },
    {
      "cell_type": "code",
      "source": [
        "palette_features = ['#E56B51', '#409996']\n",
        "sns.set(rc={'axes.facecolor':'lightgray'}) #background color of all plots\n",
        "\n",
        "plt.figure(figsize=(12,6.5)) \n",
        "plt.title('Geography', fontsize=15, fontweight='bold', fontname='DejaVu Sans', ha='center')\n",
        "ax = sns.countplot(data = df, x = 'Geography', hue = 'Exited', palette=palette_features)"
      ],
      "metadata": {
        "id": "7iyVik0_r67M",
        "colab": {
          "base_uri": "https://localhost:8080/",
          "height": 439
        },
        "outputId": "e0b2ef40-0f2b-43c8-c739-1a427d41532b"
      },
      "execution_count": 23,
      "outputs": [
        {
          "output_type": "display_data",
          "data": {
            "text/plain": [
              "<Figure size 864x468 with 1 Axes>"
            ],
            "image/png": "[encoded data removed]"
          },
          "metadata": {}
        }
      ]
    },
    {
      "cell_type": "markdown",
      "source": [
        "По графику видно, что больше всего клиентов банка из Франции, больший отток клиентов из Германии."
      ],
      "metadata": {
        "id": "x9-Ui6nSI7Fj"
      }
    },
    {
      "cell_type": "code",
      "source": [
        "df.groupby(['Exited'],as_index = False)['Age'].median()"
      ],
      "metadata": {
        "id": "ssHmuPTPtWF-",
        "colab": {
          "base_uri": "https://localhost:8080/",
          "height": 111
        },
        "outputId": "f56b601a-0b00-4655-ddde-bedd6f6123cb"
      },
      "execution_count": 24,
      "outputs": [
        {
          "output_type": "execute_result",
          "data": {
            "text/plain": [
              "   Exited   Age\n",
              "0       0  36.0\n",
              "1       1  45.0"
            ],
            "text/html": [
              "\n",
              "  <div id=\"df-6397d775-a2fb-41a5-b316-2d3d5a7bc5b4\">\n",
              "    <div class=\"colab-df-container\">\n",
              "      <div>\n",
              "<style scoped>\n",
              "    .dataframe tbody tr th:only-of-type {\n",
              "        vertical-align: middle;\n",
              "    }\n",
              "\n",
              "    .dataframe tbody tr th {\n",
              "        vertical-align: top;\n",
              "    }\n",
              "\n",
              "    .dataframe thead th {\n",
              "        text-align: right;\n",
              "    }\n",
              "</style>\n",
              "<table border=\"1\" class=\"dataframe\">\n",
              "  <thead>\n",
              "    <tr style=\"text-align: right;\">\n",
              "      <th></th>\n",
              "      <th>Exited</th>\n",
              "      <th>Age</th>\n",
              "    </tr>\n",
              "  </thead>\n",
              "  <tbody>\n",
              "    <tr>\n",
              "      <th>0</th>\n",
              "      <td>0</td>\n",
              "      <td>36.0</td>\n",
              "    </tr>\n",
              "    <tr>\n",
              "      <th>1</th>\n",
              "      <td>1</td>\n",
              "      <td>45.0</td>\n",
              "    </tr>\n",
              "  </tbody>\n",
              "</table>\n",
              "</div>\n",
              "      <button class=\"colab-df-convert\" onclick=\"convertToInteractive('df-6397d775-a2fb-41a5-b316-2d3d5a7bc5b4')\"\n",
              "              title=\"Convert this dataframe to an interactive table.\"\n",
              "              style=\"display:none;\">\n",
              "        \n",
              "  <svg xmlns=\"http://www.w3.org/2000/svg\" height=\"24px\"viewBox=\"0 0 24 24\"\n",
              "       width=\"24px\">\n",
              "    <path d=\"M0 0h24v24H0V0z\" fill=\"none\"/>\n",
              "    <path d=\"M18.56 5.44l.94 2.06.94-2.06 2.06-.94-2.06-.94-.94-2.06-.94 2.06-2.06.94zm-11 1L8.5 8.5l.94-2.06 2.06-.94-2.06-.94L8.5 2.5l-.94 2.06-2.06.94zm10 10l.94 2.06.94-2.06 2.06-.94-2.06-.94-.94-2.06-.94 2.06-2.06.94z\"/><path d=\"M17.41 7.96l-1.37-1.37c-.4-.4-.92-.59-1.43-.59-.52 0-1.04.2-1.43.59L10.3 9.45l-7.72 7.72c-.78.78-.78 2.05 0 2.83L4 21.41c.39.39.9.59 1.41.59.51 0 1.02-.2 1.41-.59l7.78-7.78 2.81-2.81c.8-.78.8-2.07 0-2.86zM5.41 20L4 18.59l7.72-7.72 1.47 1.35L5.41 20z\"/>\n",
              "  </svg>\n",
              "      </button>\n",
              "      \n",
              "  <style>\n",
              "    .colab-df-container {\n",
              "      display:flex;\n",
              "      flex-wrap:wrap;\n",
              "      gap: 12px;\n",
              "    }\n",
              "\n",
              "    .colab-df-convert {\n",
              "      background-color: #E8F0FE;\n",
              "      border: none;\n",
              "      border-radius: 50%;\n",
              "      cursor: pointer;\n",
              "      display: none;\n",
              "      fill: #1967D2;\n",
              "      height: 32px;\n",
              "      padding: 0 0 0 0;\n",
              "      width: 32px;\n",
              "    }\n",
              "\n",
              "    .colab-df-convert:hover {\n",
              "      background-color: #E2EBFA;\n",
              "      box-shadow: 0px 1px 2px rgba(60, 64, 67, 0.3), 0px 1px 3px 1px rgba(60, 64, 67, 0.15);\n",
              "      fill: #174EA6;\n",
              "    }\n",
              "\n",
              "    [theme=dark] .colab-df-convert {\n",
              "      background-color: #3B4455;\n",
              "      fill: #D2E3FC;\n",
              "    }\n",
              "\n",
              "    [theme=dark] .colab-df-convert:hover {\n",
              "      background-color: #434B5C;\n",
              "      box-shadow: 0px 1px 3px 1px rgba(0, 0, 0, 0.15);\n",
              "      filter: drop-shadow(0px 1px 2px rgba(0, 0, 0, 0.3));\n",
              "      fill: #FFFFFF;\n",
              "    }\n",
              "  </style>\n",
              "\n",
              "      <script>\n",
              "        const buttonEl =\n",
              "          document.querySelector('#df-6397d775-a2fb-41a5-b316-2d3d5a7bc5b4 button.colab-df-convert');\n",
              "        buttonEl.style.display =\n",
              "          google.colab.kernel.accessAllowed ? 'block' : 'none';\n",
              "\n",
              "        async function convertToInteractive(key) {\n",
              "          const element = document.querySelector('#df-6397d775-a2fb-41a5-b316-2d3d5a7bc5b4');\n",
              "          const dataTable =\n",
              "            await google.colab.kernel.invokeFunction('convertToInteractive',\n",
              "                                                     [key], {});\n",
              "          if (!dataTable) return;\n",
              "\n",
              "          const docLinkHtml = 'Like what you see? Visit the ' +\n",
              "            '<a target=\"_blank\" href=https://colab.research.google.com/notebooks/data_table.ipynb>data table notebook</a>'\n",
              "            + ' to learn more about interactive tables.';\n",
              "          element.innerHTML = '';\n",
              "          dataTable['output_type'] = 'display_data';\n",
              "          await google.colab.output.renderOutput(dataTable, element);\n",
              "          const docLink = document.createElement('div');\n",
              "          docLink.innerHTML = docLinkHtml;\n",
              "          element.appendChild(docLink);\n",
              "        }\n",
              "      </script>\n",
              "    </div>\n",
              "  </div>\n",
              "  "
            ]
          },
          "metadata": {},
          "execution_count": 24
        }
      ]
    },
    {
      "cell_type": "code",
      "source": [
        "plt.figure(figsize=(8,8))\n",
        "df.Age.loc[df['Exited']==0].hist()\n",
        "df.Age.loc[df['Exited']==1].hist()\n",
        "plt.xlabel('Age')\n",
        "plt.ylabel('Count')\n",
        "plt.title(r'Histogram Age distribution')\n",
        "plt.legend(title='Legend', loc='upper right', labels=['Remaining clients', 'Exited clients'])\n",
        "plt.show()"
      ],
      "metadata": {
        "id": "d7EMNmSauabw",
        "colab": {
          "base_uri": "https://localhost:8080/",
          "height": 518
        },
        "outputId": "9c7a0327-1753-4701-fddc-2c595ca37ae9"
      },
      "execution_count": 25,
      "outputs": [
        {
          "output_type": "display_data",
          "data": {
            "text/plain": [
              "<Figure size 576x576 with 1 Axes>"
            ],
            "image/png": "[encoded data removed]"
          },
          "metadata": {}
        }
      ]
    },
    {
      "cell_type": "code",
      "source": [
        "palette_features = ['#E56B51', '#409996']\n",
        "sns.set(rc={'axes.facecolor':'lightgray'})\n",
        "plt.figure(figsize=(12,6.5)) \n",
        "plt.title('Age', fontsize=15, fontweight='bold', fontname='DejaVu Sans', ha='center')\n",
        "ax = sns.boxplot(x = df['Exited'], y = 'Age', data = df, palette=palette_features)"
      ],
      "metadata": {
        "colab": {
          "base_uri": "https://localhost:8080/",
          "height": 439
        },
        "id": "Rn5a1ztMvpfI",
        "outputId": "099e6816-bbcc-4d17-fb1f-df8e29409e88"
      },
      "execution_count": 26,
      "outputs": [
        {
          "output_type": "display_data",
          "data": {
            "text/plain": [
              "<Figure size 864x468 with 1 Axes>"
            ],
            "image/png": "[encoded data removed]"
          },
          "metadata": {}
        }
      ]
    },
    {
      "cell_type": "markdown",
      "source": [
        "С банком остают всреднем более молодые люди"
      ],
      "metadata": {
        "id": "v3kaD379JYxm"
      }
    },
    {
      "cell_type": "code",
      "source": [
        "df.groupby(['Exited','Gender'])['Gender'].count()"
      ],
      "metadata": {
        "colab": {
          "base_uri": "https://localhost:8080/"
        },
        "id": "-pj-XLE0w7qO",
        "outputId": "0034f39a-c92e-45bc-ac02-ca0d753350fd"
      },
      "execution_count": 27,
      "outputs": [
        {
          "output_type": "execute_result",
          "data": {
            "text/plain": [
              "Exited  Gender\n",
              "0       Female    3404\n",
              "        Male      4559\n",
              "1       Female    1139\n",
              "        Male       898\n",
              "Name: Gender, dtype: int64"
            ]
          },
          "metadata": {},
          "execution_count": 27
        }
      ]
    },
    {
      "cell_type": "code",
      "source": [
        "df.groupby(['Gender'])[['Exited']].mean()"
      ],
      "metadata": {
        "id": "Terx1yzU6_-X",
        "colab": {
          "base_uri": "https://localhost:8080/",
          "height": 142
        },
        "outputId": "308ef5c3-e94f-415b-d2a5-216dfad74293"
      },
      "execution_count": 28,
      "outputs": [
        {
          "output_type": "execute_result",
          "data": {
            "text/plain": [
              "          Exited\n",
              "Gender          \n",
              "Female  0.250715\n",
              "Male    0.164559"
            ],
            "text/html": [
              "\n",
              "  <div id=\"df-e5df51dc-9cdd-450d-8045-b30e660520dc\">\n",
              "    <div class=\"colab-df-container\">\n",
              "      <div>\n",
              "<style scoped>\n",
              "    .dataframe tbody tr th:only-of-type {\n",
              "        vertical-align: middle;\n",
              "    }\n",
              "\n",
              "    .dataframe tbody tr th {\n",
              "        vertical-align: top;\n",
              "    }\n",
              "\n",
              "    .dataframe thead th {\n",
              "        text-align: right;\n",
              "    }\n",
              "</style>\n",
              "<table border=\"1\" class=\"dataframe\">\n",
              "  <thead>\n",
              "    <tr style=\"text-align: right;\">\n",
              "      <th></th>\n",
              "      <th>Exited</th>\n",
              "    </tr>\n",
              "    <tr>\n",
              "      <th>Gender</th>\n",
              "      <th></th>\n",
              "    </tr>\n",
              "  </thead>\n",
              "  <tbody>\n",
              "    <tr>\n",
              "      <th>Female</th>\n",
              "      <td>0.250715</td>\n",
              "    </tr>\n",
              "    <tr>\n",
              "      <th>Male</th>\n",
              "      <td>0.164559</td>\n",
              "    </tr>\n",
              "  </tbody>\n",
              "</table>\n",
              "</div>\n",
              "      <button class=\"colab-df-convert\" onclick=\"convertToInteractive('df-e5df51dc-9cdd-450d-8045-b30e660520dc')\"\n",
              "              title=\"Convert this dataframe to an interactive table.\"\n",
              "              style=\"display:none;\">\n",
              "        \n",
              "  <svg xmlns=\"http://www.w3.org/2000/svg\" height=\"24px\"viewBox=\"0 0 24 24\"\n",
              "       width=\"24px\">\n",
              "    <path d=\"M0 0h24v24H0V0z\" fill=\"none\"/>\n",
              "    <path d=\"M18.56 5.44l.94 2.06.94-2.06 2.06-.94-2.06-.94-.94-2.06-.94 2.06-2.06.94zm-11 1L8.5 8.5l.94-2.06 2.06-.94-2.06-.94L8.5 2.5l-.94 2.06-2.06.94zm10 10l.94 2.06.94-2.06 2.06-.94-2.06-.94-.94-2.06-.94 2.06-2.06.94z\"/><path d=\"M17.41 7.96l-1.37-1.37c-.4-.4-.92-.59-1.43-.59-.52 0-1.04.2-1.43.59L10.3 9.45l-7.72 7.72c-.78.78-.78 2.05 0 2.83L4 21.41c.39.39.9.59 1.41.59.51 0 1.02-.2 1.41-.59l7.78-7.78 2.81-2.81c.8-.78.8-2.07 0-2.86zM5.41 20L4 18.59l7.72-7.72 1.47 1.35L5.41 20z\"/>\n",
              "  </svg>\n",
              "      </button>\n",
              "      \n",
              "  <style>\n",
              "    .colab-df-container {\n",
              "      display:flex;\n",
              "      flex-wrap:wrap;\n",
              "      gap: 12px;\n",
              "    }\n",
              "\n",
              "    .colab-df-convert {\n",
              "      background-color: #E8F0FE;\n",
              "      border: none;\n",
              "      border-radius: 50%;\n",
              "      cursor: pointer;\n",
              "      display: none;\n",
              "      fill: #1967D2;\n",
              "      height: 32px;\n",
              "      padding: 0 0 0 0;\n",
              "      width: 32px;\n",
              "    }\n",
              "\n",
              "    .colab-df-convert:hover {\n",
              "      background-color: #E2EBFA;\n",
              "      box-shadow: 0px 1px 2px rgba(60, 64, 67, 0.3), 0px 1px 3px 1px rgba(60, 64, 67, 0.15);\n",
              "      fill: #174EA6;\n",
              "    }\n",
              "\n",
              "    [theme=dark] .colab-df-convert {\n",
              "      background-color: #3B4455;\n",
              "      fill: #D2E3FC;\n",
              "    }\n",
              "\n",
              "    [theme=dark] .colab-df-convert:hover {\n",
              "      background-color: #434B5C;\n",
              "      box-shadow: 0px 1px 3px 1px rgba(0, 0, 0, 0.15);\n",
              "      filter: drop-shadow(0px 1px 2px rgba(0, 0, 0, 0.3));\n",
              "      fill: #FFFFFF;\n",
              "    }\n",
              "  </style>\n",
              "\n",
              "      <script>\n",
              "        const buttonEl =\n",
              "          document.querySelector('#df-e5df51dc-9cdd-450d-8045-b30e660520dc button.colab-df-convert');\n",
              "        buttonEl.style.display =\n",
              "          google.colab.kernel.accessAllowed ? 'block' : 'none';\n",
              "\n",
              "        async function convertToInteractive(key) {\n",
              "          const element = document.querySelector('#df-e5df51dc-9cdd-450d-8045-b30e660520dc');\n",
              "          const dataTable =\n",
              "            await google.colab.kernel.invokeFunction('convertToInteractive',\n",
              "                                                     [key], {});\n",
              "          if (!dataTable) return;\n",
              "\n",
              "          const docLinkHtml = 'Like what you see? Visit the ' +\n",
              "            '<a target=\"_blank\" href=https://colab.research.google.com/notebooks/data_table.ipynb>data table notebook</a>'\n",
              "            + ' to learn more about interactive tables.';\n",
              "          element.innerHTML = '';\n",
              "          dataTable['output_type'] = 'display_data';\n",
              "          await google.colab.output.renderOutput(dataTable, element);\n",
              "          const docLink = document.createElement('div');\n",
              "          docLink.innerHTML = docLinkHtml;\n",
              "          element.appendChild(docLink);\n",
              "        }\n",
              "      </script>\n",
              "    </div>\n",
              "  </div>\n",
              "  "
            ]
          },
          "metadata": {},
          "execution_count": 28
        }
      ]
    },
    {
      "cell_type": "code",
      "source": [
        "palette_features = ['#E56B51', '#409996']\n",
        "sns.set(rc={'axes.facecolor':'lightgray'}) #background color of all plots\n",
        "\n",
        "plt.figure(figsize=(12,6.5)) \n",
        "plt.title('Gender', fontsize=15, fontweight='bold', fontname='DejaVu Sans', ha='center')\n",
        "ax = sns.countplot(data = df, x = 'Gender', hue = 'Exited', palette=palette_features)"
      ],
      "metadata": {
        "colab": {
          "base_uri": "https://localhost:8080/",
          "height": 439
        },
        "id": "tf3QU6sqVD1X",
        "outputId": "7148f868-83b9-45d2-dc50-0badef0c453d"
      },
      "execution_count": 29,
      "outputs": [
        {
          "output_type": "display_data",
          "data": {
            "text/plain": [
              "<Figure size 864x468 with 1 Axes>"
            ],
            "image/png": "[encoded data removed]"
          },
          "metadata": {}
        }
      ]
    },
    {
      "cell_type": "markdown",
      "source": [
        "Женщины чаще прекращают работу с банком. 25% женщин уходят, мужчин уходит 16%"
      ],
      "metadata": {
        "id": "4kwUmJNOU-VV"
      }
    },
    {
      "cell_type": "code",
      "source": [
        "plt.figure(figsize=(8,6.5))\n",
        "plt.title('Boxplot clients balance', fontsize=15, fontweight='bold', fontname='DejaVu Sans', ha='center')\n",
        "sns.boxplot(data = df, y=\"Balance\")\n",
        "plt.show()"
      ],
      "metadata": {
        "colab": {
          "base_uri": "https://localhost:8080/",
          "height": 402
        },
        "id": "G4fi9A5jW4so",
        "outputId": "3d4f303c-9284-4777-ac8d-e7a2bfe644b9"
      },
      "execution_count": 30,
      "outputs": [
        {
          "output_type": "display_data",
          "data": {
            "text/plain": [
              "<Figure size 576x468 with 1 Axes>"
            ],
            "image/png": "[encoded data removed]"
          },
          "metadata": {}
        }
      ]
    },
    {
      "cell_type": "code",
      "source": [
        "plt.figure(figsize=(8,8))\n",
        "df.CreditScore.hist()\n",
        "df.CreditScore.loc[df['Exited']==1].hist()\n",
        "plt.xlabel('CreditScore')\n",
        "plt.ylabel('Count')\n",
        "plt.title(r'Histogram CreditScore distribution')\n",
        "plt.legend(title='Legend', loc='upper left', labels=['Total clients', 'Exited clients'])\n",
        "plt.show()"
      ],
      "metadata": {
        "colab": {
          "base_uri": "https://localhost:8080/",
          "height": 518
        },
        "id": "GT54-qHE7Pw6",
        "outputId": "1751a29e-51c8-4b11-9e70-c3db3c2b2747"
      },
      "execution_count": 31,
      "outputs": [
        {
          "output_type": "display_data",
          "data": {
            "text/plain": [
              "<Figure size 576x576 with 1 Axes>"
            ],
            "image/png": "[encoded data removed]"
          },
          "metadata": {}
        }
      ]
    },
    {
      "cell_type": "markdown",
      "source": [
        "Люди уходят из банка с любым score, с самым низким уходят все"
      ],
      "metadata": {
        "id": "f5EaRnIAXYLu"
      }
    },
    {
      "cell_type": "markdown",
      "source": [
        "## Построим корреляцию"
      ],
      "metadata": {
        "id": "958ScZxpXn6F"
      }
    },
    {
      "cell_type": "code",
      "source": [
        "corr = df.corr().round(3)\n",
        "corr['Exited']"
      ],
      "metadata": {
        "id": "V8Dhdtr58R-6",
        "colab": {
          "base_uri": "https://localhost:8080/"
        },
        "outputId": "1c746cea-5bcb-4b44-9524-877b19c2c39f"
      },
      "execution_count": 32,
      "outputs": [
        {
          "output_type": "execute_result",
          "data": {
            "text/plain": [
              "CreditScore       -0.027\n",
              "Age                0.285\n",
              "Tenure            -0.014\n",
              "Balance            0.119\n",
              "NumOfProducts     -0.048\n",
              "HasCrCard         -0.007\n",
              "IsActiveMember    -0.156\n",
              "EstimatedSalary    0.012\n",
              "Exited             1.000\n",
              "Name: Exited, dtype: float64"
            ]
          },
          "metadata": {},
          "execution_count": 32
        }
      ]
    },
    {
      "cell_type": "code",
      "source": [
        "plt.figure(figsize=(16, 6))\n",
        "heatmap = sns.heatmap(df.corr(), vmin=-1, vmax=1, annot=True)\n",
        "heatmap.set_title('Correlation Heatmap', fontdict={'fontsize':12}, pad=12);"
      ],
      "metadata": {
        "colab": {
          "base_uri": "https://localhost:8080/",
          "height": 479
        },
        "id": "HAImILyy7hMc",
        "outputId": "5f88e731-e309-4879-a4ad-18ffe802fdcd"
      },
      "execution_count": 33,
      "outputs": [
        {
          "output_type": "display_data",
          "data": {
            "text/plain": [
              "<Figure size 1152x432 with 2 Axes>"
            ],
            "image/png": "[encoded data removed]"
          },
          "metadata": {}
        }
      ]
    },
    {
      "cell_type": "markdown",
      "source": [
        "Корреляция целевого признака с остаольными слабая. Самая большая корреляция с возрастом."
      ],
      "metadata": {
        "id": "II-5ZaqrYTR0"
      }
    },
    {
      "cell_type": "markdown",
      "source": [
        "#Кодируем данные"
      ],
      "metadata": {
        "id": "VFoRSiV3NQGW"
      }
    },
    {
      "cell_type": "code",
      "source": [
        "cat_columns = list(df.select_dtypes(include=['object']).columns)"
      ],
      "metadata": {
        "id": "ydhPG6OgMWnW"
      },
      "execution_count": 34,
      "outputs": []
    },
    {
      "cell_type": "code",
      "source": [
        "enc = OrdinalEncoder()\n",
        "df.loc[:,cat_columns] = enc.fit_transform(df.loc[:,cat_columns])"
      ],
      "metadata": {
        "id": "ksD988DU90tY"
      },
      "execution_count": 35,
      "outputs": []
    },
    {
      "cell_type": "code",
      "source": [
        "df.info()\n",
        "df"
      ],
      "metadata": {
        "colab": {
          "base_uri": "https://localhost:8080/",
          "height": 725
        },
        "id": "ClR5k7SaNxPp",
        "outputId": "b4658017-e0cc-4bec-a4dc-f5e97cb307fc"
      },
      "execution_count": 36,
      "outputs": [
        {
          "output_type": "stream",
          "name": "stdout",
          "text": [
            "<class 'pandas.core.frame.DataFrame'>\n",
            "RangeIndex: 10000 entries, 0 to 9999\n",
            "Data columns (total 11 columns):\n",
            " #   Column           Non-Null Count  Dtype  \n",
            "---  ------           --------------  -----  \n",
            " 0   CreditScore      10000 non-null  int64  \n",
            " 1   Geography        10000 non-null  float64\n",
            " 2   Gender           10000 non-null  float64\n",
            " 3   Age              10000 non-null  int64  \n",
            " 4   Tenure           10000 non-null  int64  \n",
            " 5   Balance          10000 non-null  float64\n",
            " 6   NumOfProducts    10000 non-null  int64  \n",
            " 7   HasCrCard        10000 non-null  int64  \n",
            " 8   IsActiveMember   10000 non-null  int64  \n",
            " 9   EstimatedSalary  10000 non-null  float64\n",
            " 10  Exited           10000 non-null  int64  \n",
            "dtypes: float64(4), int64(7)\n",
            "memory usage: 859.5 KB\n"
          ]
        },
        {
          "output_type": "execute_result",
          "data": {
            "text/plain": [
              "      CreditScore  Geography  Gender  Age  Tenure    Balance  NumOfProducts  \\\n",
              "0             619        0.0     0.0   42       2       0.00              1   \n",
              "1             608        2.0     0.0   41       1   83807.86              1   \n",
              "2             502        0.0     0.0   42       8  159660.80              3   \n",
              "3             699        0.0     0.0   39       1       0.00              2   \n",
              "4             850        2.0     0.0   43       2  125510.82              1   \n",
              "...           ...        ...     ...  ...     ...        ...            ...   \n",
              "9995          771        0.0     1.0   39       5       0.00              2   \n",
              "9996          516        0.0     1.0   35      10   57369.61              1   \n",
              "9997          709        0.0     0.0   36       7       0.00              1   \n",
              "9998          772        1.0     1.0   42       3   75075.31              2   \n",
              "9999          792        0.0     0.0   28       4  130142.79              1   \n",
              "\n",
              "      HasCrCard  IsActiveMember  EstimatedSalary  Exited  \n",
              "0             1               1        101348.88       1  \n",
              "1             0               1        112542.58       0  \n",
              "2             1               0        113931.57       1  \n",
              "3             0               0         93826.63       0  \n",
              "4             1               1         79084.10       0  \n",
              "...         ...             ...              ...     ...  \n",
              "9995          1               0         96270.64       0  \n",
              "9996          1               1        101699.77       0  \n",
              "9997          0               1         42085.58       1  \n",
              "9998          1               0         92888.52       1  \n",
              "9999          1               0         38190.78       0  \n",
              "\n",
              "[10000 rows x 11 columns]"
            ],
            "text/html": [
              "\n",
              "  <div id=\"df-9c2f85c7-a4e6-4ba3-b264-67fb95085bdd\">\n",
              "    <div class=\"colab-df-container\">\n",
              "      <div>\n",
              "<style scoped>\n",
              "    .dataframe tbody tr th:only-of-type {\n",
              "        vertical-align: middle;\n",
              "    }\n",
              "\n",
              "    .dataframe tbody tr th {\n",
              "        vertical-align: top;\n",
              "    }\n",
              "\n",
              "    .dataframe thead th {\n",
              "        text-align: right;\n",
              "    }\n",
              "</style>\n",
              "<table border=\"1\" class=\"dataframe\">\n",
              "  <thead>\n",
              "    <tr style=\"text-align: right;\">\n",
              "      <th></th>\n",
              "      <th>CreditScore</th>\n",
              "      <th>Geography</th>\n",
              "      <th>Gender</th>\n",
              "      <th>Age</th>\n",
              "      <th>Tenure</th>\n",
              "      <th>Balance</th>\n",
              "      <th>NumOfProducts</th>\n",
              "      <th>HasCrCard</th>\n",
              "      <th>IsActiveMember</th>\n",
              "      <th>EstimatedSalary</th>\n",
              "      <th>Exited</th>\n",
              "    </tr>\n",
              "  </thead>\n",
              "  <tbody>\n",
              "    <tr>\n",
              "      <th>0</th>\n",
              "      <td>619</td>\n",
              "      <td>0.0</td>\n",
              "      <td>0.0</td>\n",
              "      <td>42</td>\n",
              "      <td>2</td>\n",
              "      <td>0.00</td>\n",
              "      <td>1</td>\n",
              "      <td>1</td>\n",
              "      <td>1</td>\n",
              "      <td>101348.88</td>\n",
              "      <td>1</td>\n",
              "    </tr>\n",
              "    <tr>\n",
              "      <th>1</th>\n",
              "      <td>608</td>\n",
              "      <td>2.0</td>\n",
              "      <td>0.0</td>\n",
              "      <td>41</td>\n",
              "      <td>1</td>\n",
              "      <td>83807.86</td>\n",
              "      <td>1</td>\n",
              "      <td>0</td>\n",
              "      <td>1</td>\n",
              "      <td>112542.58</td>\n",
              "      <td>0</td>\n",
              "    </tr>\n",
              "    <tr>\n",
              "      <th>2</th>\n",
              "      <td>502</td>\n",
              "      <td>0.0</td>\n",
              "      <td>0.0</td>\n",
              "      <td>42</td>\n",
              "      <td>8</td>\n",
              "      <td>159660.80</td>\n",
              "      <td>3</td>\n",
              "      <td>1</td>\n",
              "      <td>0</td>\n",
              "      <td>113931.57</td>\n",
              "      <td>1</td>\n",
              "    </tr>\n",
              "    <tr>\n",
              "      <th>3</th>\n",
              "      <td>699</td>\n",
              "      <td>0.0</td>\n",
              "      <td>0.0</td>\n",
              "      <td>39</td>\n",
              "      <td>1</td>\n",
              "      <td>0.00</td>\n",
              "      <td>2</td>\n",
              "      <td>0</td>\n",
              "      <td>0</td>\n",
              "      <td>93826.63</td>\n",
              "      <td>0</td>\n",
              "    </tr>\n",
              "    <tr>\n",
              "      <th>4</th>\n",
              "      <td>850</td>\n",
              "      <td>2.0</td>\n",
              "      <td>0.0</td>\n",
              "      <td>43</td>\n",
              "      <td>2</td>\n",
              "      <td>125510.82</td>\n",
              "      <td>1</td>\n",
              "      <td>1</td>\n",
              "      <td>1</td>\n",
              "      <td>79084.10</td>\n",
              "      <td>0</td>\n",
              "    </tr>\n",
              "    <tr>\n",
              "      <th>...</th>\n",
              "      <td>...</td>\n",
              "      <td>...</td>\n",
              "      <td>...</td>\n",
              "      <td>...</td>\n",
              "      <td>...</td>\n",
              "      <td>...</td>\n",
              "      <td>...</td>\n",
              "      <td>...</td>\n",
              "      <td>...</td>\n",
              "      <td>...</td>\n",
              "      <td>...</td>\n",
              "    </tr>\n",
              "    <tr>\n",
              "      <th>9995</th>\n",
              "      <td>771</td>\n",
              "      <td>0.0</td>\n",
              "      <td>1.0</td>\n",
              "      <td>39</td>\n",
              "      <td>5</td>\n",
              "      <td>0.00</td>\n",
              "      <td>2</td>\n",
              "      <td>1</td>\n",
              "      <td>0</td>\n",
              "      <td>96270.64</td>\n",
              "      <td>0</td>\n",
              "    </tr>\n",
              "    <tr>\n",
              "      <th>9996</th>\n",
              "      <td>516</td>\n",
              "      <td>0.0</td>\n",
              "      <td>1.0</td>\n",
              "      <td>35</td>\n",
              "      <td>10</td>\n",
              "      <td>57369.61</td>\n",
              "      <td>1</td>\n",
              "      <td>1</td>\n",
              "      <td>1</td>\n",
              "      <td>101699.77</td>\n",
              "      <td>0</td>\n",
              "    </tr>\n",
              "    <tr>\n",
              "      <th>9997</th>\n",
              "      <td>709</td>\n",
              "      <td>0.0</td>\n",
              "      <td>0.0</td>\n",
              "      <td>36</td>\n",
              "      <td>7</td>\n",
              "      <td>0.00</td>\n",
              "      <td>1</td>\n",
              "      <td>0</td>\n",
              "      <td>1</td>\n",
              "      <td>42085.58</td>\n",
              "      <td>1</td>\n",
              "    </tr>\n",
              "    <tr>\n",
              "      <th>9998</th>\n",
              "      <td>772</td>\n",
              "      <td>1.0</td>\n",
              "      <td>1.0</td>\n",
              "      <td>42</td>\n",
              "      <td>3</td>\n",
              "      <td>75075.31</td>\n",
              "      <td>2</td>\n",
              "      <td>1</td>\n",
              "      <td>0</td>\n",
              "      <td>92888.52</td>\n",
              "      <td>1</td>\n",
              "    </tr>\n",
              "    <tr>\n",
              "      <th>9999</th>\n",
              "      <td>792</td>\n",
              "      <td>0.0</td>\n",
              "      <td>0.0</td>\n",
              "      <td>28</td>\n",
              "      <td>4</td>\n",
              "      <td>130142.79</td>\n",
              "      <td>1</td>\n",
              "      <td>1</td>\n",
              "      <td>0</td>\n",
              "      <td>38190.78</td>\n",
              "      <td>0</td>\n",
              "    </tr>\n",
              "  </tbody>\n",
              "</table>\n",
              "<p>10000 rows × 11 columns</p>\n",
              "</div>\n",
              "      <button class=\"colab-df-convert\" onclick=\"convertToInteractive('df-9c2f85c7-a4e6-4ba3-b264-67fb95085bdd')\"\n",
              "              title=\"Convert this dataframe to an interactive table.\"\n",
              "              style=\"display:none;\">\n",
              "        \n",
              "  <svg xmlns=\"http://www.w3.org/2000/svg\" height=\"24px\"viewBox=\"0 0 24 24\"\n",
              "       width=\"24px\">\n",
              "    <path d=\"M0 0h24v24H0V0z\" fill=\"none\"/>\n",
              "    <path d=\"M18.56 5.44l.94 2.06.94-2.06 2.06-.94-2.06-.94-.94-2.06-.94 2.06-2.06.94zm-11 1L8.5 8.5l.94-2.06 2.06-.94-2.06-.94L8.5 2.5l-.94 2.06-2.06.94zm10 10l.94 2.06.94-2.06 2.06-.94-2.06-.94-.94-2.06-.94 2.06-2.06.94z\"/><path d=\"M17.41 7.96l-1.37-1.37c-.4-.4-.92-.59-1.43-.59-.52 0-1.04.2-1.43.59L10.3 9.45l-7.72 7.72c-.78.78-.78 2.05 0 2.83L4 21.41c.39.39.9.59 1.41.59.51 0 1.02-.2 1.41-.59l7.78-7.78 2.81-2.81c.8-.78.8-2.07 0-2.86zM5.41 20L4 18.59l7.72-7.72 1.47 1.35L5.41 20z\"/>\n",
              "  </svg>\n",
              "      </button>\n",
              "      \n",
              "  <style>\n",
              "    .colab-df-container {\n",
              "      display:flex;\n",
              "      flex-wrap:wrap;\n",
              "      gap: 12px;\n",
              "    }\n",
              "\n",
              "    .colab-df-convert {\n",
              "      background-color: #E8F0FE;\n",
              "      border: none;\n",
              "      border-radius: 50%;\n",
              "      cursor: pointer;\n",
              "      display: none;\n",
              "      fill: #1967D2;\n",
              "      height: 32px;\n",
              "      padding: 0 0 0 0;\n",
              "      width: 32px;\n",
              "    }\n",
              "\n",
              "    .colab-df-convert:hover {\n",
              "      background-color: #E2EBFA;\n",
              "      box-shadow: 0px 1px 2px rgba(60, 64, 67, 0.3), 0px 1px 3px 1px rgba(60, 64, 67, 0.15);\n",
              "      fill: #174EA6;\n",
              "    }\n",
              "\n",
              "    [theme=dark] .colab-df-convert {\n",
              "      background-color: #3B4455;\n",
              "      fill: #D2E3FC;\n",
              "    }\n",
              "\n",
              "    [theme=dark] .colab-df-convert:hover {\n",
              "      background-color: #434B5C;\n",
              "      box-shadow: 0px 1px 3px 1px rgba(0, 0, 0, 0.15);\n",
              "      filter: drop-shadow(0px 1px 2px rgba(0, 0, 0, 0.3));\n",
              "      fill: #FFFFFF;\n",
              "    }\n",
              "  </style>\n",
              "\n",
              "      <script>\n",
              "        const buttonEl =\n",
              "          document.querySelector('#df-9c2f85c7-a4e6-4ba3-b264-67fb95085bdd button.colab-df-convert');\n",
              "        buttonEl.style.display =\n",
              "          google.colab.kernel.accessAllowed ? 'block' : 'none';\n",
              "\n",
              "        async function convertToInteractive(key) {\n",
              "          const element = document.querySelector('#df-9c2f85c7-a4e6-4ba3-b264-67fb95085bdd');\n",
              "          const dataTable =\n",
              "            await google.colab.kernel.invokeFunction('convertToInteractive',\n",
              "                                                     [key], {});\n",
              "          if (!dataTable) return;\n",
              "\n",
              "          const docLinkHtml = 'Like what you see? Visit the ' +\n",
              "            '<a target=\"_blank\" href=https://colab.research.google.com/notebooks/data_table.ipynb>data table notebook</a>'\n",
              "            + ' to learn more about interactive tables.';\n",
              "          element.innerHTML = '';\n",
              "          dataTable['output_type'] = 'display_data';\n",
              "          await google.colab.output.renderOutput(dataTable, element);\n",
              "          const docLink = document.createElement('div');\n",
              "          docLink.innerHTML = docLinkHtml;\n",
              "          element.appendChild(docLink);\n",
              "        }\n",
              "      </script>\n",
              "    </div>\n",
              "  </div>\n",
              "  "
            ]
          },
          "metadata": {},
          "execution_count": 36
        }
      ]
    },
    {
      "cell_type": "markdown",
      "source": [
        "## Масшатабируем данные"
      ],
      "metadata": {
        "id": "KNuq598uYquG"
      }
    },
    {
      "cell_type": "code",
      "source": [
        "pd.options.mode.chained_assignment = None\n",
        "\n",
        "numeric = ['CreditScore', 'Age', 'Balance', 'EstimatedSalary']\n",
        "\n",
        "scaler = StandardScaler()\n",
        "scaler.fit(df[numeric]) \n",
        "\n",
        "df[numeric] = scaler.transform(df[numeric])"
      ],
      "metadata": {
        "id": "ApidHJUSNMYA"
      },
      "execution_count": 37,
      "outputs": []
    },
    {
      "cell_type": "markdown",
      "source": [
        "## Делим данные для модели"
      ],
      "metadata": {
        "id": "WiJEAcUJYyLZ"
      }
    },
    {
      "cell_type": "code",
      "source": [
        "features = df.drop('Exited', axis=1)\n",
        "target = df['Exited']"
      ],
      "metadata": {
        "id": "PQcmeL_zOfxo"
      },
      "execution_count": 38,
      "outputs": []
    },
    {
      "cell_type": "markdown",
      "source": [
        "Доработаем баланс классов"
      ],
      "metadata": {
        "id": "N-C81mo0Y4G2"
      }
    },
    {
      "cell_type": "code",
      "source": [
        "smt = SMOTE()\n",
        "features_res , target_res  = smt.fit_resample(features,target)\n",
        "target_res.value_counts()"
      ],
      "metadata": {
        "colab": {
          "base_uri": "https://localhost:8080/"
        },
        "id": "xtOomoSq_ROf",
        "outputId": "b39eeada-9aae-43e8-fb2e-269b23c799bf"
      },
      "execution_count": 39,
      "outputs": [
        {
          "output_type": "execute_result",
          "data": {
            "text/plain": [
              "1    7963\n",
              "0    7963\n",
              "Name: Exited, dtype: int64"
            ]
          },
          "metadata": {},
          "execution_count": 39
        }
      ]
    },
    {
      "cell_type": "code",
      "source": [
        "features_train, features_test, target_train, target_test = train_test_split (features_res , target_res, random_state=42, test_size=0.25)"
      ],
      "metadata": {
        "id": "_9nrM_jtO-J-"
      },
      "execution_count": 40,
      "outputs": []
    },
    {
      "cell_type": "markdown",
      "source": [
        "#Построим модели"
      ],
      "metadata": {
        "id": "nhpKgqSDQTPs"
      }
    },
    {
      "cell_type": "markdown",
      "source": [
        "## LogisticRegression"
      ],
      "metadata": {
        "id": "nn0w0SfaEW8i"
      }
    },
    {
      "cell_type": "code",
      "source": [
        "skf = StratifiedKFold(n_splits=5, shuffle= True, random_state= 42)"
      ],
      "metadata": {
        "id": "J2hTgFMWpap9"
      },
      "execution_count": 41,
      "outputs": []
    },
    {
      "cell_type": "code",
      "source": [
        "lr = LogisticRegression(random_state=42)"
      ],
      "metadata": {
        "id": "yVjKWB8hUsDC"
      },
      "execution_count": 42,
      "outputs": []
    },
    {
      "cell_type": "markdown",
      "source": [
        "Подбираем гиперпараметры с помощью GridSearchCV"
      ],
      "metadata": {
        "id": "GoiCjimOdV26"
      }
    },
    {
      "cell_type": "code",
      "source": [
        "params_lr = {\"C\":np.logspace(-3,3,7)}\n",
        "best_lr = GridSearchCV(estimator= lr, param_grid= params_lr, \n",
        "                         cv= skf, verbose= True, n_jobs= -1,scoring='f1')"
      ],
      "metadata": {
        "id": "v8B7GWozpTq4"
      },
      "execution_count": 43,
      "outputs": []
    },
    {
      "cell_type": "code",
      "source": [
        "best_lr.fit(features_train, target_train)"
      ],
      "metadata": {
        "colab": {
          "base_uri": "https://localhost:8080/"
        },
        "outputId": "80755a86-760c-4ca4-edb9-22b8db9e41e0",
        "id": "K67QWm5FpTq6"
      },
      "execution_count": 44,
      "outputs": [
        {
          "output_type": "stream",
          "name": "stdout",
          "text": [
            "Fitting 5 folds for each of 7 candidates, totalling 35 fits\n"
          ]
        },
        {
          "output_type": "execute_result",
          "data": {
            "text/plain": [
              "GridSearchCV(cv=StratifiedKFold(n_splits=5, random_state=42, shuffle=True),\n",
              "             estimator=LogisticRegression(random_state=42), n_jobs=-1,\n",
              "             param_grid={'C': array([1.e-03, 1.e-02, 1.e-01, 1.e+00, 1.e+01, 1.e+02, 1.e+03])},\n",
              "             scoring='f1', verbose=True)"
            ]
          },
          "metadata": {},
          "execution_count": 44
        }
      ]
    },
    {
      "cell_type": "code",
      "source": [
        "lr_gs_best_params = best_lr.best_params_"
      ],
      "metadata": {
        "id": "IgmqXAlepTq8"
      },
      "execution_count": 45,
      "outputs": []
    },
    {
      "cell_type": "code",
      "source": [
        "best_lr.best_score_"
      ],
      "metadata": {
        "colab": {
          "base_uri": "https://localhost:8080/"
        },
        "outputId": "cfc939bb-95fd-4679-c6b3-612275ec98eb",
        "id": "F5heqgIopTq8"
      },
      "execution_count": 46,
      "outputs": [
        {
          "output_type": "execute_result",
          "data": {
            "text/plain": [
              "0.7220329645820418"
            ]
          },
          "metadata": {},
          "execution_count": 46
        }
      ]
    },
    {
      "cell_type": "code",
      "source": [
        "lr = LogisticRegression(random_state=42, **lr_gs_best_params)"
      ],
      "metadata": {
        "id": "ptmEE9OaV3R7"
      },
      "execution_count": 47,
      "outputs": []
    },
    {
      "cell_type": "code",
      "source": [
        "lr.fit(features_train,target_train)\n",
        "pred_lr = lr.predict(features_test)"
      ],
      "metadata": {
        "id": "Coai2Io-j8A7"
      },
      "execution_count": 48,
      "outputs": []
    },
    {
      "cell_type": "code",
      "source": [
        "print(classification_report(target_test, pred_lr))"
      ],
      "metadata": {
        "colab": {
          "base_uri": "https://localhost:8080/"
        },
        "id": "fx1CfveSFFjn",
        "outputId": "b567f46d-c21d-42cf-c7da-cb08c991045b"
      },
      "execution_count": 49,
      "outputs": [
        {
          "output_type": "stream",
          "name": "stdout",
          "text": [
            "              precision    recall  f1-score   support\n",
            "\n",
            "           0       0.73      0.71      0.72      2036\n",
            "           1       0.71      0.72      0.72      1946\n",
            "\n",
            "    accuracy                           0.72      3982\n",
            "   macro avg       0.72      0.72      0.72      3982\n",
            "weighted avg       0.72      0.72      0.72      3982\n",
            "\n"
          ]
        }
      ]
    },
    {
      "cell_type": "code",
      "source": [
        "lr_accuracy = accuracy_score(target_test, pred_lr)\n",
        "lr_precision = precision_score(target_test, pred_lr)\n",
        "lr_recall = recall_score(target_test, pred_lr)\n",
        "lr_f1 = f1_score(target_test, pred_lr)"
      ],
      "metadata": {
        "id": "Dyai_PkrFC8A"
      },
      "execution_count": 50,
      "outputs": []
    },
    {
      "cell_type": "code",
      "source": [
        "print(f'Logistic Redression \\n accuracy: {lr_accuracy} \\n precision: {lr_precision} \\n recall: {lr_recall} \\n f1: {lr_f1}')"
      ],
      "metadata": {
        "colab": {
          "base_uri": "https://localhost:8080/"
        },
        "id": "Yt9UKO_rGaJS",
        "outputId": "b46f7bc1-3d5d-4957-b48f-7ed1611e7f7e"
      },
      "execution_count": 51,
      "outputs": [
        {
          "output_type": "stream",
          "name": "stdout",
          "text": [
            "Logistic Redression \n",
            " accuracy: 0.7189854344550477 \n",
            " precision: 0.7078934137757668 \n",
            " recall: 0.723535457348407 \n",
            " f1: 0.7156289707750955\n"
          ]
        }
      ]
    },
    {
      "cell_type": "markdown",
      "source": [
        "Получили метрики на невысоком уровне"
      ],
      "metadata": {
        "id": "Xvz7iH6iZPv0"
      }
    },
    {
      "cell_type": "code",
      "source": [
        "confusion_matrix(target_test, pred_lr)\n",
        "\n",
        "\n",
        "cf_matrix_lr = confusion_matrix(target_test, pred_lr)\n",
        "print(cf_matrix_lr)\n",
        "\n",
        "ax = sns.heatmap(cf_matrix_lr/np.sum(cf_matrix_lr), annot=True, fmt='.2%', cmap='binary')\n",
        "ax.set_title('LogisticRegression\\n\\n');\n",
        "ax.set_xlabel('\\nPredicted Values')\n",
        "ax.set_ylabel('Actual Values ');\n",
        "\n",
        "ax.xaxis.set_ticklabels(['0','1'])\n",
        "ax.yaxis.set_ticklabels(['0','1'])\n",
        "\n",
        "plt.show()"
      ],
      "metadata": {
        "colab": {
          "base_uri": "https://localhost:8080/",
          "height": 380
        },
        "id": "LrPzUDmdF4za",
        "outputId": "c67c3a6a-1d98-4f98-bbf4-077108c96757"
      },
      "execution_count": 52,
      "outputs": [
        {
          "output_type": "stream",
          "name": "stdout",
          "text": [
            "[[1455  581]\n",
            " [ 538 1408]]\n"
          ]
        },
        {
          "output_type": "display_data",
          "data": {
            "text/plain": [
              "<Figure size 432x288 with 2 Axes>"
            ],
            "image/png": "[encoded data removed]"
          },
          "metadata": {}
        }
      ]
    },
    {
      "cell_type": "code",
      "source": [
        "lr_auc_score=roc_auc_score(target_test,lr.predict(features_test))\n",
        "fpr,tpr,thresholds=roc_curve(target_test,lr.predict_proba(features_test)[:,1])\n",
        "plt.figure(figsize=(10,7))\n",
        "plt.plot(fpr,tpr,label=\"AUC(Area=%0.2f)\"%lr_auc_score)\n",
        "plt.plot([0,1],\"r--\")\n",
        "plt.xlim([0.0,1.0])\n",
        "plt.ylim([0.0,1.05])\n",
        "plt.xlabel(\"False Positive\")\n",
        "plt.ylabel(\"True Positive\")\n",
        "plt.title(\"ROC Random Forrest\")\n",
        "plt.show()"
      ],
      "metadata": {
        "colab": {
          "base_uri": "https://localhost:8080/",
          "height": 464
        },
        "id": "iFz_I3kco3wQ",
        "outputId": "429811d2-4e89-409c-cd59-2bd0a09604bc"
      },
      "execution_count": 53,
      "outputs": [
        {
          "output_type": "display_data",
          "data": {
            "text/plain": [
              "<Figure size 720x504 with 1 Axes>"
            ],
            "image/png": "[encoded data removed]"
          },
          "metadata": {}
        }
      ]
    },
    {
      "cell_type": "code",
      "source": [
        "lr_auc_score"
      ],
      "metadata": {
        "colab": {
          "base_uri": "https://localhost:8080/"
        },
        "id": "v-0zfgHKaVYR",
        "outputId": "8d31d4ca-3564-406c-e14f-450611208726"
      },
      "execution_count": 54,
      "outputs": [
        {
          "output_type": "execute_result",
          "data": {
            "text/plain": [
              "0.7190859997940463"
            ]
          },
          "metadata": {},
          "execution_count": 54
        }
      ]
    },
    {
      "cell_type": "markdown",
      "source": [
        "Значение roc_auc так же на невымоком уровне"
      ],
      "metadata": {
        "id": "pJnHm5HRaOyE"
      }
    },
    {
      "cell_type": "markdown",
      "source": [
        "## RandomForestClassifier"
      ],
      "metadata": {
        "id": "4KR4lENKEbiO"
      }
    },
    {
      "cell_type": "markdown",
      "source": [
        "\n",
        "Подбираем параметры с помощь GridSearchCV"
      ],
      "metadata": {
        "id": "U5Ddx8nda2fx"
      }
    },
    {
      "cell_type": "code",
      "source": [
        "rf = RandomForestClassifier(random_state=42)\n",
        "params = {'max_depth': [10,20, 30,40,50],\n",
        "         'min_samples_leaf': [3,6,9],\n",
        "          'n_estimators': [100,200,300]}\n",
        "best_tree = GridSearchCV(estimator= rf, param_grid= params, \n",
        "                         cv= skf, verbose= True, n_jobs= -1,scoring='f1')"
      ],
      "metadata": {
        "id": "nzpl4HlJXZyR"
      },
      "execution_count": 55,
      "outputs": []
    },
    {
      "cell_type": "code",
      "source": [
        "best_tree.fit(features_train, target_train)"
      ],
      "metadata": {
        "colab": {
          "base_uri": "https://localhost:8080/"
        },
        "id": "izG54bbMYK8F",
        "outputId": "ffe73ef4-b66b-4918-df67-28753c71dae7"
      },
      "execution_count": 56,
      "outputs": [
        {
          "output_type": "stream",
          "name": "stdout",
          "text": [
            "Fitting 5 folds for each of 45 candidates, totalling 225 fits\n"
          ]
        },
        {
          "output_type": "execute_result",
          "data": {
            "text/plain": [
              "GridSearchCV(cv=StratifiedKFold(n_splits=5, random_state=42, shuffle=True),\n",
              "             estimator=RandomForestClassifier(random_state=42), n_jobs=-1,\n",
              "             param_grid={'max_depth': [10, 20, 30, 40, 50],\n",
              "                         'min_samples_leaf': [3, 6, 9],\n",
              "                         'n_estimators': [100, 200, 300]},\n",
              "             scoring='f1', verbose=True)"
            ]
          },
          "metadata": {},
          "execution_count": 56
        }
      ]
    },
    {
      "cell_type": "code",
      "source": [
        "rf_gs_best_params = best_tree.best_params_"
      ],
      "metadata": {
        "id": "WtN2OdM2YS1z"
      },
      "execution_count": 57,
      "outputs": []
    },
    {
      "cell_type": "code",
      "source": [
        "best_tree.best_score_"
      ],
      "metadata": {
        "colab": {
          "base_uri": "https://localhost:8080/"
        },
        "id": "Dn5rkpscYbGs",
        "outputId": "751cbab0-1ab4-43ee-82d0-23859df33218"
      },
      "execution_count": 58,
      "outputs": [
        {
          "output_type": "execute_result",
          "data": {
            "text/plain": [
              "0.8731420566468714"
            ]
          },
          "metadata": {},
          "execution_count": 58
        }
      ]
    },
    {
      "cell_type": "markdown",
      "source": [
        "Получили значение f1 лучше чем на предыдущей модели"
      ],
      "metadata": {
        "id": "ttV1R28MbFZT"
      }
    },
    {
      "cell_type": "code",
      "source": [
        "pip install --q optuna"
      ],
      "metadata": {
        "colab": {
          "base_uri": "https://localhost:8080/"
        },
        "id": "NIsZumjcZfax",
        "outputId": "69f1edc3-46fa-4045-a89a-62aa1d8a0b49"
      },
      "execution_count": 59,
      "outputs": [
        {
          "output_type": "stream",
          "name": "stdout",
          "text": [
            "\u001b[2K     \u001b[90m━━━━━━━━━━━━━━━━━━━━━━━━━━━━━━━━━━━━━━\u001b[0m \u001b[32m348.5/348.5 KB\u001b[0m \u001b[31m19.2 MB/s\u001b[0m eta \u001b[36m0:00:00\u001b[0m\n",
            "\u001b[2K     \u001b[90m━━━━━━━━━━━━━━━━━━━━━━━━━━━━━━━━━━━━━━\u001b[0m \u001b[32m210.6/210.6 KB\u001b[0m \u001b[31m16.5 MB/s\u001b[0m eta \u001b[36m0:00:00\u001b[0m\n",
            "\u001b[2K     \u001b[90m━━━━━━━━━━━━━━━━━━━━━━━━━━━━━━━━━━━━━━━━\u001b[0m \u001b[32m81.0/81.0 KB\u001b[0m \u001b[31m9.3 MB/s\u001b[0m eta \u001b[36m0:00:00\u001b[0m\n",
            "\u001b[2K     \u001b[90m━━━━━━━━━━━━━━━━━━━━━━━━━━━━━━━━━━━━━━━━\u001b[0m \u001b[32m78.7/78.7 KB\u001b[0m \u001b[31m8.5 MB/s\u001b[0m eta \u001b[36m0:00:00\u001b[0m\n",
            "\u001b[2K     \u001b[90m━━━━━━━━━━━━━━━━━━━━━━━━━━━━━━━━━━━━━━\u001b[0m \u001b[32m147.1/147.1 KB\u001b[0m \u001b[31m13.1 MB/s\u001b[0m eta \u001b[36m0:00:00\u001b[0m\n",
            "\u001b[2K     \u001b[90m━━━━━━━━━━━━━━━━━━━━━━━━━━━━━━━━━━━━━━━━\u001b[0m \u001b[32m50.0/50.0 KB\u001b[0m \u001b[31m4.7 MB/s\u001b[0m eta \u001b[36m0:00:00\u001b[0m\n",
            "\u001b[?25h  Preparing metadata (setup.py) ... \u001b[?25l\u001b[?25hdone\n",
            "\u001b[2K     \u001b[90m━━━━━━━━━━━━━━━━━━━━━━━━━━━━━━━━━━━━━━\u001b[0m \u001b[32m112.7/112.7 KB\u001b[0m \u001b[31m12.0 MB/s\u001b[0m eta \u001b[36m0:00:00\u001b[0m\n",
            "\u001b[?25h  Building wheel for pyperclip (setup.py) ... \u001b[?25l\u001b[?25hdone\n"
          ]
        }
      ]
    },
    {
      "cell_type": "markdown",
      "source": [
        "Подбираем гиперпараметры с помощью optuna"
      ],
      "metadata": {
        "id": "FmVt8YNgbThb"
      }
    },
    {
      "cell_type": "code",
      "source": [
        "import optuna\n",
        "param_rf = {\n",
        "            \"max_depth\": optuna.distributions.IntDistribution (2, 80),\n",
        "            'min_samples_leaf': optuna.distributions.IntDistribution (2,40),\n",
        "            'n_estimators': optuna.distributions.IntDistribution (50,500)\n",
        "            }\n",
        "optuna_search = optuna.integration.OptunaSearchCV(rf,param_rf, cv=3, scoring='f1',n_jobs=-1,n_trials=100)\n",
        "optuna_search.fit(features_train, target_train)"
      ],
      "metadata": {
        "colab": {
          "base_uri": "https://localhost:8080/"
        },
        "id": "x2r-bpoMYdSk",
        "outputId": "8f937682-83cc-40e5-b638-22e035ee45f5"
      },
      "execution_count": 60,
      "outputs": [
        {
          "output_type": "stream",
          "name": "stderr",
          "text": [
            "<ipython-input-60-3ec0a18bed29>:7: ExperimentalWarning: OptunaSearchCV is experimental (supported from v0.17.0). The interface can change in the future.\n",
            "  optuna_search = optuna.integration.OptunaSearchCV(rf,param_rf, cv=3, scoring='f1',n_jobs=-1,n_trials=100)\n",
            "\u001b[32m[I 2023-01-15 10:26:53,889]\u001b[0m A new study created in memory with name: no-name-4273e999-8305-4004-bd62-987df057b190\u001b[0m\n",
            "\u001b[32m[I 2023-01-15 10:27:16,667]\u001b[0m Trial 1 finished with value: 0.8318545641824423 and parameters: {'max_depth': 19, 'min_samples_leaf': 27, 'n_estimators': 310}. Best is trial 1 with value: 0.8318545641824423.\u001b[0m\n",
            "\u001b[32m[I 2023-01-15 10:27:16,715]\u001b[0m Trial 0 finished with value: 0.823531312269885 and parameters: {'max_depth': 9, 'min_samples_leaf': 39, 'n_estimators': 326}. Best is trial 1 with value: 0.8318545641824423.\u001b[0m\n",
            "\u001b[32m[I 2023-01-15 10:27:27,385]\u001b[0m Trial 2 finished with value: 0.8271751159267068 and parameters: {'max_depth': 38, 'min_samples_leaf': 33, 'n_estimators': 119}. Best is trial 1 with value: 0.8318545641824423.\u001b[0m\n",
            "\u001b[32m[I 2023-01-15 10:27:37,113]\u001b[0m Trial 4 finished with value: 0.8314447777487421 and parameters: {'max_depth': 79, 'min_samples_leaf': 26, 'n_estimators': 181}. Best is trial 1 with value: 0.8318545641824423.\u001b[0m\n",
            "\u001b[32m[I 2023-01-15 10:27:46,324]\u001b[0m Trial 3 finished with value: 0.8452601720008496 and parameters: {'max_depth': 13, 'min_samples_leaf': 12, 'n_estimators': 466}. Best is trial 3 with value: 0.8452601720008496.\u001b[0m\n",
            "\u001b[32m[I 2023-01-15 10:27:54,619]\u001b[0m Trial 5 finished with value: 0.8477984206115767 and parameters: {'max_depth': 47, 'min_samples_leaf': 10, 'n_estimators': 364}. Best is trial 5 with value: 0.8477984206115767.\u001b[0m\n",
            "\u001b[32m[I 2023-01-15 10:28:06,097]\u001b[0m Trial 7 finished with value: 0.8477447097774418 and parameters: {'max_depth': 79, 'min_samples_leaf': 10, 'n_estimators': 239}. Best is trial 5 with value: 0.8477984206115767.\u001b[0m\n",
            "\u001b[32m[I 2023-01-15 10:28:09,279]\u001b[0m Trial 6 finished with value: 0.8534705712435375 and parameters: {'max_depth': 40, 'min_samples_leaf': 8, 'n_estimators': 473}. Best is trial 6 with value: 0.8534705712435375.\u001b[0m\n",
            "\u001b[32m[I 2023-01-15 10:28:12,868]\u001b[0m Trial 9 finished with value: 0.8534052091489999 and parameters: {'max_depth': 15, 'min_samples_leaf': 8, 'n_estimators': 73}. Best is trial 6 with value: 0.8534705712435375.\u001b[0m\n",
            "\u001b[32m[I 2023-01-15 10:28:17,013]\u001b[0m Trial 10 finished with value: 0.8595518492905206 and parameters: {'max_depth': 73, 'min_samples_leaf': 5, 'n_estimators': 83}. Best is trial 10 with value: 0.8595518492905206.\u001b[0m\n",
            "\u001b[32m[I 2023-01-15 10:28:20,468]\u001b[0m Trial 11 finished with value: 0.8740272370218914 and parameters: {'max_depth': 61, 'min_samples_leaf': 2, 'n_estimators': 61}. Best is trial 11 with value: 0.8740272370218914.\u001b[0m\n",
            "\u001b[32m[I 2023-01-15 10:28:23,821]\u001b[0m Trial 8 finished with value: 0.831239359228613 and parameters: {'max_depth': 42, 'min_samples_leaf': 26, 'n_estimators': 425}. Best is trial 11 with value: 0.8740272370218914.\u001b[0m\n",
            "\u001b[32m[I 2023-01-15 10:28:24,355]\u001b[0m Trial 12 finished with value: 0.8734042080124512 and parameters: {'max_depth': 61, 'min_samples_leaf': 2, 'n_estimators': 70}. Best is trial 11 with value: 0.8740272370218914.\u001b[0m\n",
            "\u001b[32m[I 2023-01-15 10:28:26,814]\u001b[0m Trial 13 finished with value: 0.867493247963739 and parameters: {'max_depth': 63, 'min_samples_leaf': 3, 'n_estimators': 54}. Best is trial 11 with value: 0.8740272370218914.\u001b[0m\n",
            "\u001b[32m[I 2023-01-15 10:28:33,463]\u001b[0m Trial 14 finished with value: 0.8750617849574512 and parameters: {'max_depth': 62, 'min_samples_leaf': 2, 'n_estimators': 165}. Best is trial 14 with value: 0.8750617849574512.\u001b[0m\n",
            "\u001b[32m[I 2023-01-15 10:28:34,243]\u001b[0m Trial 15 finished with value: 0.8406044713747943 and parameters: {'max_depth': 58, 'min_samples_leaf': 16, 'n_estimators': 164}. Best is trial 14 with value: 0.8750617849574512.\u001b[0m\n",
            "\u001b[32m[I 2023-01-15 10:28:40,531]\u001b[0m Trial 16 finished with value: 0.8402075423366876 and parameters: {'max_depth': 62, 'min_samples_leaf': 16, 'n_estimators': 157}. Best is trial 14 with value: 0.8750617849574512.\u001b[0m\n",
            "\u001b[32m[I 2023-01-15 10:28:44,197]\u001b[0m Trial 17 finished with value: 0.8396989811221752 and parameters: {'max_depth': 54, 'min_samples_leaf': 17, 'n_estimators': 222}. Best is trial 14 with value: 0.8750617849574512.\u001b[0m\n",
            "\u001b[32m[I 2023-01-15 10:28:50,173]\u001b[0m Trial 18 finished with value: 0.8402940278830849 and parameters: {'max_depth': 28, 'min_samples_leaf': 17, 'n_estimators': 218}. Best is trial 14 with value: 0.8750617849574512.\u001b[0m\n",
            "\u001b[32m[I 2023-01-15 10:28:50,721]\u001b[0m Trial 19 finished with value: 0.8599990486712826 and parameters: {'max_depth': 27, 'min_samples_leaf': 5, 'n_estimators': 127}. Best is trial 14 with value: 0.8750617849574512.\u001b[0m\n",
            "\u001b[32m[I 2023-01-15 10:28:55,629]\u001b[0m Trial 20 finished with value: 0.8345229060594362 and parameters: {'max_depth': 70, 'min_samples_leaf': 22, 'n_estimators': 124}. Best is trial 14 with value: 0.8750617849574512.\u001b[0m\n",
            "\u001b[32m[I 2023-01-15 10:29:01,155]\u001b[0m Trial 22 finished with value: 0.8737237017158773 and parameters: {'max_depth': 52, 'min_samples_leaf': 2, 'n_estimators': 91}. Best is trial 14 with value: 0.8750617849574512.\u001b[0m\n",
            "\u001b[32m[I 2023-01-15 10:29:07,688]\u001b[0m Trial 21 finished with value: 0.8745130378902823 and parameters: {'max_depth': 70, 'min_samples_leaf': 2, 'n_estimators': 261}. Best is trial 14 with value: 0.8750617849574512.\u001b[0m\n",
            "\u001b[32m[I 2023-01-15 10:29:08,899]\u001b[0m Trial 23 finished with value: 0.8741790118064738 and parameters: {'max_depth': 51, 'min_samples_leaf': 2, 'n_estimators': 101}. Best is trial 14 with value: 0.8750617849574512.\u001b[0m\n",
            "\u001b[32m[I 2023-01-15 10:29:21,464]\u001b[0m Trial 24 finished with value: 0.8594040297850117 and parameters: {'max_depth': 70, 'min_samples_leaf': 6, 'n_estimators': 272}. Best is trial 14 with value: 0.8750617849574512.\u001b[0m\n",
            "\u001b[32m[I 2023-01-15 10:29:22,557]\u001b[0m Trial 25 finished with value: 0.8591402638309837 and parameters: {'max_depth': 69, 'min_samples_leaf': 6, 'n_estimators': 270}. Best is trial 14 with value: 0.8750617849574512.\u001b[0m\n",
            "\u001b[32m[I 2023-01-15 10:29:30,450]\u001b[0m Trial 26 finished with value: 0.8450928755226648 and parameters: {'max_depth': 49, 'min_samples_leaf': 12, 'n_estimators': 190}. Best is trial 14 with value: 0.8750617849574512.\u001b[0m\n",
            "\u001b[32m[I 2023-01-15 10:29:31,900]\u001b[0m Trial 27 finished with value: 0.8415044331961696 and parameters: {'max_depth': 49, 'min_samples_leaf': 14, 'n_estimators': 199}. Best is trial 14 with value: 0.8750617849574512.\u001b[0m\n",
            "\u001b[32m[I 2023-01-15 10:29:38,384]\u001b[0m Trial 29 finished with value: 0.8368713833236251 and parameters: {'max_depth': 56, 'min_samples_leaf': 20, 'n_estimators': 147}. Best is trial 14 with value: 0.8750617849574512.\u001b[0m\n",
            "\u001b[32m[I 2023-01-15 10:29:47,248]\u001b[0m Trial 28 finished with value: 0.8439491374341932 and parameters: {'max_depth': 32, 'min_samples_leaf': 13, 'n_estimators': 369}. Best is trial 14 with value: 0.8750617849574512.\u001b[0m\n",
            "\u001b[32m[I 2023-01-15 10:29:52,130]\u001b[0m Trial 30 finished with value: 0.8276382643988051 and parameters: {'max_depth': 34, 'min_samples_leaf': 34, 'n_estimators': 340}. Best is trial 14 with value: 0.8750617849574512.\u001b[0m\n",
            "\u001b[32m[I 2023-01-15 10:29:57,812]\u001b[0m Trial 32 finished with value: 0.8742767699672461 and parameters: {'max_depth': 65, 'min_samples_leaf': 2, 'n_estimators': 102}. Best is trial 14 with value: 0.8750617849574512.\u001b[0m\n",
            "\u001b[32m[I 2023-01-15 10:29:59,612]\u001b[0m Trial 31 finished with value: 0.824802266528638 and parameters: {'max_depth': 65, 'min_samples_leaf': 38, 'n_estimators': 306}. Best is trial 14 with value: 0.8750617849574512.\u001b[0m\n",
            "\u001b[32m[I 2023-01-15 10:30:00,974]\u001b[0m Trial 33 finished with value: 0.7975278163804562 and parameters: {'max_depth': 3, 'min_samples_leaf': 4, 'n_estimators': 126}. Best is trial 14 with value: 0.8750617849574512.\u001b[0m\n",
            "\u001b[32m[I 2023-01-15 10:30:05,398]\u001b[0m Trial 34 finished with value: 0.8641000667156625 and parameters: {'max_depth': 75, 'min_samples_leaf': 4, 'n_estimators': 107}. Best is trial 14 with value: 0.8750617849574512.\u001b[0m\n",
            "\u001b[32m[I 2023-01-15 10:30:06,325]\u001b[0m Trial 35 finished with value: 0.8560003170292809 and parameters: {'max_depth': 74, 'min_samples_leaf': 7, 'n_estimators': 102}. Best is trial 14 with value: 0.8750617849574512.\u001b[0m\n",
            "\u001b[32m[I 2023-01-15 10:30:17,229]\u001b[0m Trial 36 finished with value: 0.8509567152765585 and parameters: {'max_depth': 44, 'min_samples_leaf': 9, 'n_estimators': 238}. Best is trial 14 with value: 0.8750617849574512.\u001b[0m\n",
            "\u001b[32m[I 2023-01-15 10:30:18,348]\u001b[0m Trial 37 finished with value: 0.8519485170946242 and parameters: {'max_depth': 66, 'min_samples_leaf': 8, 'n_estimators': 242}. Best is trial 14 with value: 0.8750617849574512.\u001b[0m\n",
            "\u001b[32m[I 2023-01-15 10:30:25,509]\u001b[0m Trial 39 finished with value: 0.8479956211909455 and parameters: {'max_depth': 56, 'min_samples_leaf': 10, 'n_estimators': 148}. Best is trial 14 with value: 0.8750617849574512.\u001b[0m\n",
            "\u001b[32m[I 2023-01-15 10:30:25,520]\u001b[0m Trial 38 finished with value: 0.8459158334831801 and parameters: {'max_depth': 66, 'min_samples_leaf': 11, 'n_estimators': 171}. Best is trial 14 with value: 0.8750617849574512.\u001b[0m\n",
            "\u001b[32m[I 2023-01-15 10:30:38,068]\u001b[0m Trial 40 finished with value: 0.8280572573809257 and parameters: {'max_depth': 59, 'min_samples_leaf': 30, 'n_estimators': 297}. Best is trial 14 with value: 0.8750617849574512.\u001b[0m\n",
            "\u001b[32m[I 2023-01-15 10:30:41,374]\u001b[0m Trial 42 finished with value: 0.8732482603100578 and parameters: {'max_depth': 51, 'min_samples_leaf': 2, 'n_estimators': 60}. Best is trial 14 with value: 0.8750617849574512.\u001b[0m\n",
            "\u001b[32m[I 2023-01-15 10:30:42,936]\u001b[0m Trial 41 finished with value: 0.8284168343134826 and parameters: {'max_depth': 77, 'min_samples_leaf': 30, 'n_estimators': 419}. Best is trial 14 with value: 0.8750617849574512.\u001b[0m\n",
            "\u001b[32m[I 2023-01-15 10:30:44,070]\u001b[0m Trial 43 finished with value: 0.8619498348831757 and parameters: {'max_depth': 79, 'min_samples_leaf': 4, 'n_estimators': 50}. Best is trial 14 with value: 0.8750617849574512.\u001b[0m\n",
            "\u001b[32m[I 2023-01-15 10:30:47,663]\u001b[0m Trial 44 finished with value: 0.8645513473690292 and parameters: {'max_depth': 68, 'min_samples_leaf': 4, 'n_estimators': 88}. Best is trial 14 with value: 0.8750617849574512.\u001b[0m\n",
            "\u001b[32m[I 2023-01-15 10:30:48,587]\u001b[0m Trial 45 finished with value: 0.8565862834575172 and parameters: {'max_depth': 46, 'min_samples_leaf': 6, 'n_estimators': 86}. Best is trial 14 with value: 0.8750617849574512.\u001b[0m\n",
            "\u001b[32m[I 2023-01-15 10:30:55,288]\u001b[0m Trial 46 finished with value: 0.8741342648304649 and parameters: {'max_depth': 59, 'min_samples_leaf': 2, 'n_estimators': 136}. Best is trial 14 with value: 0.8750617849574512.\u001b[0m\n",
            "\u001b[32m[I 2023-01-15 10:30:56,334]\u001b[0m Trial 47 finished with value: 0.8744742226272413 and parameters: {'max_depth': 61, 'min_samples_leaf': 2, 'n_estimators': 139}. Best is trial 14 with value: 0.8750617849574512.\u001b[0m\n",
            "\u001b[32m[I 2023-01-15 10:31:01,809]\u001b[0m Trial 49 finished with value: 0.8566128251912083 and parameters: {'max_depth': 72, 'min_samples_leaf': 7, 'n_estimators': 108}. Best is trial 14 with value: 0.8750617849574512.\u001b[0m\n",
            "\u001b[32m[I 2023-01-15 10:31:06,111]\u001b[0m Trial 48 finished with value: 0.8744244164306377 and parameters: {'max_depth': 59, 'min_samples_leaf': 2, 'n_estimators': 193}. Best is trial 14 with value: 0.8750617849574512.\u001b[0m\n",
            "\u001b[32m[I 2023-01-15 10:31:12,687]\u001b[0m Trial 50 finished with value: 0.8645981213811252 and parameters: {'max_depth': 63, 'min_samples_leaf': 4, 'n_estimators': 204}. Best is trial 14 with value: 0.8750617849574512.\u001b[0m\n",
            "\u001b[32m[I 2023-01-15 10:31:16,857]\u001b[0m Trial 51 finished with value: 0.8612812441403124 and parameters: {'max_depth': 64, 'min_samples_leaf': 5, 'n_estimators': 206}. Best is trial 14 with value: 0.8750617849574512.\u001b[0m\n",
            "\u001b[32m[I 2023-01-15 10:31:22,139]\u001b[0m Trial 52 finished with value: 0.8745896793570079 and parameters: {'max_depth': 54, 'min_samples_leaf': 2, 'n_estimators': 170}. Best is trial 14 with value: 0.8750617849574512.\u001b[0m\n",
            "\u001b[32m[I 2023-01-15 10:31:26,898]\u001b[0m Trial 53 finished with value: 0.8742759577609366 and parameters: {'max_depth': 54, 'min_samples_leaf': 2, 'n_estimators': 180}. Best is trial 14 with value: 0.8750617849574512.\u001b[0m\n",
            "\u001b[32m[I 2023-01-15 10:31:31,121]\u001b[0m Trial 54 finished with value: 0.8533605205520564 and parameters: {'max_depth': 55, 'min_samples_leaf': 8, 'n_estimators': 180}. Best is trial 14 with value: 0.8750617849574512.\u001b[0m\n",
            "\u001b[32m[I 2023-01-15 10:31:36,227]\u001b[0m Trial 55 finished with value: 0.8572484982813062 and parameters: {'max_depth': 59, 'min_samples_leaf': 7, 'n_estimators': 170}. Best is trial 14 with value: 0.8750617849574512.\u001b[0m\n",
            "\u001b[32m[I 2023-01-15 10:31:47,705]\u001b[0m Trial 56 finished with value: 0.8681908056275832 and parameters: {'max_depth': 61, 'min_samples_leaf': 3, 'n_estimators': 254}. Best is trial 14 with value: 0.8750617849574512.\u001b[0m\n",
            "\u001b[32m[I 2023-01-15 10:31:51,818]\u001b[0m Trial 57 finished with value: 0.8682429861418184 and parameters: {'max_depth': 61, 'min_samples_leaf': 3, 'n_estimators': 253}. Best is trial 14 with value: 0.8750617849574512.\u001b[0m\n",
            "\u001b[32m[I 2023-01-15 10:31:55,225]\u001b[0m Trial 58 finished with value: 0.8608377615940902 and parameters: {'max_depth': 67, 'min_samples_leaf': 5, 'n_estimators': 143}. Best is trial 14 with value: 0.8750617849574512.\u001b[0m\n",
            "\u001b[32m[I 2023-01-15 10:31:59,747]\u001b[0m Trial 59 finished with value: 0.8587779024432661 and parameters: {'max_depth': 67, 'min_samples_leaf': 6, 'n_estimators': 153}. Best is trial 14 with value: 0.8750617849574512.\u001b[0m\n",
            "\u001b[32m[I 2023-01-15 10:32:06,564]\u001b[0m Trial 60 finished with value: 0.8599963303419683 and parameters: {'max_depth': 40, 'min_samples_leaf': 6, 'n_estimators': 223}. Best is trial 14 with value: 0.8750617849574512.\u001b[0m\n",
            "\u001b[32m[I 2023-01-15 10:32:08,857]\u001b[0m Trial 61 finished with value: 0.8337360823030681 and parameters: {'max_depth': 71, 'min_samples_leaf': 24, 'n_estimators': 213}. Best is trial 14 with value: 0.8750617849574512.\u001b[0m\n",
            "\u001b[32m[I 2023-01-15 10:32:16,794]\u001b[0m Trial 62 finished with value: 0.8739230206046534 and parameters: {'max_depth': 53, 'min_samples_leaf': 2, 'n_estimators': 183}. Best is trial 14 with value: 0.8750617849574512.\u001b[0m\n",
            "\u001b[32m[I 2023-01-15 10:32:19,605]\u001b[0m Trial 63 finished with value: 0.8742415970149285 and parameters: {'max_depth': 53, 'min_samples_leaf': 2, 'n_estimators': 191}. Best is trial 14 with value: 0.8750617849574512.\u001b[0m\n",
            "\u001b[32m[I 2023-01-15 10:32:23,263]\u001b[0m Trial 64 finished with value: 0.8685078250304706 and parameters: {'max_depth': 57, 'min_samples_leaf': 3, 'n_estimators': 118}. Best is trial 14 with value: 0.8750617849574512.\u001b[0m\n",
            "\u001b[32m[I 2023-01-15 10:32:28,373]\u001b[0m Trial 65 finished with value: 0.8682916374422595 and parameters: {'max_depth': 58, 'min_samples_leaf': 3, 'n_estimators': 162}. Best is trial 14 with value: 0.8750617849574512.\u001b[0m\n",
            "\u001b[32m[I 2023-01-15 10:32:32,040]\u001b[0m Trial 66 finished with value: 0.8644933572238426 and parameters: {'max_depth': 48, 'min_samples_leaf': 4, 'n_estimators': 164}. Best is trial 14 with value: 0.8750617849574512.\u001b[0m\n",
            "\u001b[32m[I 2023-01-15 10:32:38,701]\u001b[0m Trial 68 finished with value: 0.8512381034770641 and parameters: {'max_depth': 63, 'min_samples_leaf': 9, 'n_estimators': 131}. Best is trial 14 with value: 0.8750617849574512.\u001b[0m\n",
            "\u001b[32m[I 2023-01-15 10:32:43,426]\u001b[0m Trial 67 finished with value: 0.8610555423817611 and parameters: {'max_depth': 48, 'min_samples_leaf': 5, 'n_estimators': 289}. Best is trial 14 with value: 0.8750617849574512.\u001b[0m\n",
            "\u001b[32m[I 2023-01-15 10:32:51,433]\u001b[0m Trial 69 finished with value: 0.8748999888789267 and parameters: {'max_depth': 21, 'min_samples_leaf': 2, 'n_estimators': 229}. Best is trial 14 with value: 0.8750617849574512.\u001b[0m\n",
            "\u001b[32m[I 2023-01-15 10:32:53,775]\u001b[0m Trial 70 finished with value: 0.8742826056858116 and parameters: {'max_depth': 44, 'min_samples_leaf': 2, 'n_estimators': 185}. Best is trial 14 with value: 0.8750617849574512.\u001b[0m\n",
            "\u001b[32m[I 2023-01-15 10:33:03,113]\u001b[0m Trial 71 finished with value: 0.857144433377833 and parameters: {'max_depth': 22, 'min_samples_leaf': 7, 'n_estimators': 231}. Best is trial 14 with value: 0.8750617849574512.\u001b[0m\n",
            "\u001b[32m[I 2023-01-15 10:33:06,177]\u001b[0m Trial 72 finished with value: 0.869010683497684 and parameters: {'max_depth': 19, 'min_samples_leaf': 3, 'n_estimators': 229}. Best is trial 14 with value: 0.8750617849574512.\u001b[0m\n",
            "\u001b[32m[I 2023-01-15 10:33:11,479]\u001b[0m Trial 73 finished with value: 0.843478771354445 and parameters: {'max_depth': 8, 'min_samples_leaf': 4, 'n_estimators': 197}. Best is trial 14 with value: 0.8750617849574512.\u001b[0m\n",
            "\u001b[32m[I 2023-01-15 10:33:17,664]\u001b[0m Trial 74 finished with value: 0.8475426780823329 and parameters: {'max_depth': 9, 'min_samples_leaf': 5, 'n_estimators': 257}. Best is trial 14 with value: 0.8750617849574512.\u001b[0m\n",
            "\u001b[32m[I 2023-01-15 10:33:25,149]\u001b[0m Trial 75 finished with value: 0.8607046708077627 and parameters: {'max_depth': 44, 'min_samples_leaf': 5, 'n_estimators': 266}. Best is trial 14 with value: 0.8750617849574512.\u001b[0m\n",
            "\u001b[32m[I 2023-01-15 10:33:29,337]\u001b[0m Trial 77 finished with value: 0.8744858419842503 and parameters: {'max_depth': 38, 'min_samples_leaf': 2, 'n_estimators': 75}. Best is trial 14 with value: 0.8750617849574512.\u001b[0m\n",
            "\u001b[32m[I 2023-01-15 10:33:32,485]\u001b[0m Trial 78 finished with value: 0.8395103426682397 and parameters: {'max_depth': 36, 'min_samples_leaf': 19, 'n_estimators': 73}. Best is trial 14 with value: 0.8750617849574512.\u001b[0m\n",
            "\u001b[32m[I 2023-01-15 10:33:32,763]\u001b[0m Trial 76 finished with value: 0.8689144685762327 and parameters: {'max_depth': 44, 'min_samples_leaf': 3, 'n_estimators': 280}. Best is trial 14 with value: 0.8750617849574512.\u001b[0m\n",
            "\u001b[32m[I 2023-01-15 10:33:44,109]\u001b[0m Trial 80 finished with value: 0.8743438510556936 and parameters: {'max_depth': 29, 'min_samples_leaf': 2, 'n_estimators': 207}. Best is trial 14 with value: 0.8750617849574512.\u001b[0m\n",
            "\u001b[32m[I 2023-01-15 10:33:47,755]\u001b[0m Trial 79 finished with value: 0.8687687463166481 and parameters: {'max_depth': 32, 'min_samples_leaf': 3, 'n_estimators': 281}. Best is trial 14 with value: 0.8750617849574512.\u001b[0m\n",
            "\u001b[32m[I 2023-01-15 10:33:54,214]\u001b[0m Trial 81 finished with value: 0.8506504329351627 and parameters: {'max_depth': 28, 'min_samples_leaf': 9, 'n_estimators': 209}. Best is trial 14 with value: 0.8750617849574512.\u001b[0m\n",
            "\u001b[32m[I 2023-01-15 10:33:59,621]\u001b[0m Trial 82 finished with value: 0.874375768280618 and parameters: {'max_depth': 27, 'min_samples_leaf': 2, 'n_estimators': 213}. Best is trial 14 with value: 0.8750617849574512.\u001b[0m\n",
            "\u001b[32m[I 2023-01-15 10:34:07,868]\u001b[0m Trial 83 finished with value: 0.8748988914759961 and parameters: {'max_depth': 25, 'min_samples_leaf': 2, 'n_estimators': 245}. Best is trial 14 with value: 0.8750617849574512.\u001b[0m\n",
            "\u001b[32m[I 2023-01-15 10:34:12,596]\u001b[0m Trial 84 finished with value: 0.8655286355218452 and parameters: {'max_depth': 20, 'min_samples_leaf': 4, 'n_estimators': 243}. Best is trial 14 with value: 0.8750617849574512.\u001b[0m\n",
            "\u001b[32m[I 2023-01-15 10:34:17,481]\u001b[0m Trial 85 finished with value: 0.8240405682806385 and parameters: {'max_depth': 24, 'min_samples_leaf': 40, 'n_estimators': 246}. Best is trial 14 with value: 0.8750617849574512.\u001b[0m\n",
            "\u001b[32m[I 2023-01-15 10:34:28,331]\u001b[0m Trial 86 finished with value: 0.8590849651523752 and parameters: {'max_depth': 22, 'min_samples_leaf': 6, 'n_estimators': 308}. Best is trial 14 with value: 0.8750617849574512.\u001b[0m\n",
            "\u001b[32m[I 2023-01-15 10:34:28,792]\u001b[0m Trial 87 finished with value: 0.8595763468768002 and parameters: {'max_depth': 16, 'min_samples_leaf': 6, 'n_estimators': 220}. Best is trial 14 with value: 0.8750617849574512.\u001b[0m\n",
            "\u001b[32m[I 2023-01-15 10:34:42,864]\u001b[0m Trial 89 finished with value: 0.8687906090098383 and parameters: {'max_depth': 26, 'min_samples_leaf': 3, 'n_estimators': 264}. Best is trial 14 with value: 0.8750617849574512.\u001b[0m\n",
            "\u001b[32m[I 2023-01-15 10:34:46,002]\u001b[0m Trial 88 finished with value: 0.8695030994725061 and parameters: {'max_depth': 25, 'min_samples_leaf': 3, 'n_estimators': 327}. Best is trial 14 with value: 0.8750617849574512.\u001b[0m\n",
            "\u001b[32m[I 2023-01-15 10:34:52,064]\u001b[0m Trial 90 finished with value: 0.8649221749341957 and parameters: {'max_depth': 31, 'min_samples_leaf': 4, 'n_estimators': 173}. Best is trial 14 with value: 0.8750617849574512.\u001b[0m\n",
            "\u001b[32m[I 2023-01-15 10:34:53,544]\u001b[0m Trial 91 finished with value: 0.8642915915024664 and parameters: {'max_depth': 31, 'min_samples_leaf': 4, 'n_estimators': 142}. Best is trial 14 with value: 0.8750617849574512.\u001b[0m\n",
            "\u001b[32m[I 2023-01-15 10:35:03,135]\u001b[0m Trial 92 finished with value: 0.8743960063631407 and parameters: {'max_depth': 29, 'min_samples_leaf': 2, 'n_estimators': 196}. Best is trial 14 with value: 0.8750617849574512.\u001b[0m\n",
            "\u001b[32m[I 2023-01-15 10:35:20,743]\u001b[0m Trial 93 finished with value: 0.875609981588083 and parameters: {'max_depth': 38, 'min_samples_leaf': 2, 'n_estimators': 492}. Best is trial 93 with value: 0.875609981588083.\u001b[0m\n",
            "\u001b[32m[I 2023-01-15 10:35:30,722]\u001b[0m Trial 94 finished with value: 0.8753921690254421 and parameters: {'max_depth': 37, 'min_samples_leaf': 2, 'n_estimators': 499}. Best is trial 93 with value: 0.875609981588083.\u001b[0m\n",
            "\u001b[32m[I 2023-01-15 10:35:43,653]\u001b[0m Trial 95 finished with value: 0.8749271297581226 and parameters: {'max_depth': 34, 'min_samples_leaf': 2, 'n_estimators': 419}. Best is trial 93 with value: 0.875609981588083.\u001b[0m\n",
            "\u001b[32m[I 2023-01-15 10:35:54,985]\u001b[0m Trial 96 finished with value: 0.8623664601594215 and parameters: {'max_depth': 35, 'min_samples_leaf': 5, 'n_estimators': 472}. Best is trial 93 with value: 0.875609981588083.\u001b[0m\n",
            "\u001b[32m[I 2023-01-15 10:36:08,656]\u001b[0m Trial 97 finished with value: 0.8622694608442089 and parameters: {'max_depth': 37, 'min_samples_leaf': 5, 'n_estimators': 483}. Best is trial 93 with value: 0.875609981588083.\u001b[0m\n",
            "\u001b[32m[I 2023-01-15 10:36:20,845]\u001b[0m Trial 98 finished with value: 0.8661529173372796 and parameters: {'max_depth': 38, 'min_samples_leaf': 4, 'n_estimators': 493}. Best is trial 93 with value: 0.875609981588083.\u001b[0m\n",
            "\u001b[32m[I 2023-01-15 10:36:27,686]\u001b[0m Trial 99 finished with value: 0.8566745605064506 and parameters: {'max_depth': 39, 'min_samples_leaf': 7, 'n_estimators': 453}. Best is trial 93 with value: 0.875609981588083.\u001b[0m\n"
          ]
        },
        {
          "output_type": "execute_result",
          "data": {
            "text/plain": [
              "OptunaSearchCV(cv=3, estimator=RandomForestClassifier(random_state=42),\n",
              "               n_jobs=-1, n_trials=100,\n",
              "               param_distributions={'max_depth': IntDistribution(high=80, log=False, low=2, step=1),\n",
              "                                    'min_samples_leaf': IntDistribution(high=40, log=False, low=2, step=1),\n",
              "                                    'n_estimators': IntDistribution(high=500, log=False, low=50, step=1)},\n",
              "               scoring='f1')"
            ]
          },
          "metadata": {},
          "execution_count": 60
        }
      ]
    },
    {
      "cell_type": "code",
      "source": [
        "optuna_search.best_score_"
      ],
      "metadata": {
        "colab": {
          "base_uri": "https://localhost:8080/"
        },
        "id": "N1_cEw5Za1g8",
        "outputId": "a3b445a8-9a7a-4f2b-a05e-1e8680606d45"
      },
      "execution_count": 61,
      "outputs": [
        {
          "output_type": "execute_result",
          "data": {
            "text/plain": [
              "0.875609981588083"
            ]
          },
          "metadata": {},
          "execution_count": 61
        }
      ]
    },
    {
      "cell_type": "markdown",
      "source": [
        "Получили f1 еще лучше, будем использовать гиперпараметры полученные в ней"
      ],
      "metadata": {
        "id": "xc-qNwymbfPT"
      }
    },
    {
      "cell_type": "code",
      "source": [
        "rf_best_params = optuna_search.best_params_"
      ],
      "metadata": {
        "id": "8e49or7zbW5c"
      },
      "execution_count": 62,
      "outputs": []
    },
    {
      "cell_type": "code",
      "source": [
        "rf_optuna = RandomForestClassifier(random_state=42, **rf_best_params)"
      ],
      "metadata": {
        "id": "6fEx2S5UY8Se"
      },
      "execution_count": 63,
      "outputs": []
    },
    {
      "cell_type": "code",
      "source": [
        "rf_optuna.fit(features_train,target_train)\n",
        "pred_rf = rf_optuna.predict(features_test)"
      ],
      "metadata": {
        "id": "0jjwhwYVY8wU"
      },
      "execution_count": 64,
      "outputs": []
    },
    {
      "cell_type": "code",
      "source": [
        "print(classification_report(target_test, pred_rf))"
      ],
      "metadata": {
        "colab": {
          "base_uri": "https://localhost:8080/"
        },
        "outputId": "7e8824f3-d730-4af0-dd2f-96b78469b566",
        "id": "DK-VAUTpY8wW"
      },
      "execution_count": 65,
      "outputs": [
        {
          "output_type": "stream",
          "name": "stdout",
          "text": [
            "              precision    recall  f1-score   support\n",
            "\n",
            "           0       0.89      0.88      0.89      2036\n",
            "           1       0.88      0.89      0.88      1946\n",
            "\n",
            "    accuracy                           0.89      3982\n",
            "   macro avg       0.89      0.89      0.89      3982\n",
            "weighted avg       0.89      0.89      0.89      3982\n",
            "\n"
          ]
        }
      ]
    },
    {
      "cell_type": "code",
      "source": [
        "rf_accuracy = accuracy_score(target_test, pred_rf)\n",
        "rf_precision = precision_score(target_test, pred_rf)\n",
        "rf_recall = recall_score(target_test, pred_rf)\n",
        "rf_f1 = f1_score(target_test, pred_rf)"
      ],
      "metadata": {
        "id": "NhRGuIbIY8wY"
      },
      "execution_count": 66,
      "outputs": []
    },
    {
      "cell_type": "code",
      "source": [
        "print(f'Random Forrest \\n accuracy: {rf_accuracy} \\n precision: {rf_precision} \\n recall: {rf_recall} \\n f1: {rf_f1}')"
      ],
      "metadata": {
        "colab": {
          "base_uri": "https://localhost:8080/"
        },
        "outputId": "93538b2c-12ca-4061-fb81-3f80a902805d",
        "id": "47yJIjM2Y8wY"
      },
      "execution_count": 67,
      "outputs": [
        {
          "output_type": "stream",
          "name": "stdout",
          "text": [
            "Random Forrest \n",
            " accuracy: 0.8852335509794074 \n",
            " precision: 0.8765806777946383 \n",
            " recall: 0.8905447070914697 \n",
            " f1: 0.8835075197552894\n"
          ]
        }
      ]
    },
    {
      "cell_type": "markdown",
      "source": [
        "Получили довольно высокие значение метрик, посмотрим результаты на другой модели"
      ],
      "metadata": {
        "id": "pANqDiKwbvBi"
      }
    },
    {
      "cell_type": "code",
      "source": [
        "confusion_matrix(target_test, pred_rf)\n",
        "\n",
        "\n",
        "cf_matrix_rf = confusion_matrix(target_test, pred_rf)\n",
        "print(cf_matrix_rf)\n",
        "\n",
        "ax = sns.heatmap(cf_matrix_rf/np.sum(cf_matrix_rf), annot=True, fmt='.2%', cmap='binary')\n",
        "ax.set_title('Random Forrest\\n\\n');\n",
        "ax.set_xlabel('\\nPredicted Values')\n",
        "ax.set_ylabel('Actual Values ');\n",
        "\n",
        "ax.xaxis.set_ticklabels(['0','1'])\n",
        "ax.yaxis.set_ticklabels(['0','1'])\n",
        "\n",
        "plt.show()"
      ],
      "metadata": {
        "colab": {
          "base_uri": "https://localhost:8080/",
          "height": 380
        },
        "outputId": "1bc82562-0183-43d8-9c7d-40b94f2779cf",
        "id": "xYUzqKHlY8wZ"
      },
      "execution_count": 68,
      "outputs": [
        {
          "output_type": "stream",
          "name": "stdout",
          "text": [
            "[[1792  244]\n",
            " [ 213 1733]]\n"
          ]
        },
        {
          "output_type": "display_data",
          "data": {
            "text/plain": [
              "<Figure size 432x288 with 2 Axes>"
            ],
            "image/png": "[encoded data removed]"
          },
          "metadata": {}
        }
      ]
    },
    {
      "cell_type": "code",
      "source": [
        "rf_optuna_auc_score=roc_auc_score(target_test,rf_optuna.predict(features_test))\n",
        "fpr,tpr,thresholds=roc_curve(target_test,rf_optuna.predict_proba(features_test)[:,1])\n",
        "plt.figure(figsize=(10,7))\n",
        "plt.plot(fpr,tpr,label=\"AUC(Area=%0.2f)\"%rf_optuna_auc_score)\n",
        "plt.plot([0,1],\"r--\")\n",
        "plt.xlim([0.0,1.0])\n",
        "plt.ylim([0.0,1.05])\n",
        "plt.xlabel(\"False Positive\")\n",
        "plt.ylabel(\"True Positive\")\n",
        "plt.title(\"ROC Random Forrest\")\n",
        "plt.show()"
      ],
      "metadata": {
        "colab": {
          "base_uri": "https://localhost:8080/",
          "height": 464
        },
        "id": "1gMFN8VUol_I",
        "outputId": "47a1b298-1a9b-44a5-da30-24103216fdfc"
      },
      "execution_count": 69,
      "outputs": [
        {
          "output_type": "display_data",
          "data": {
            "text/plain": [
              "<Figure size 720x504 with 1 Axes>"
            ],
            "image/png": "[encoded data removed]"
          },
          "metadata": {}
        }
      ]
    },
    {
      "cell_type": "code",
      "source": [
        "rf_optuna_auc_score"
      ],
      "metadata": {
        "colab": {
          "base_uri": "https://localhost:8080/"
        },
        "id": "2850i3s-b8pv",
        "outputId": "8f49ae64-ab3c-4d76-913e-aa794b0d116b"
      },
      "execution_count": 70,
      "outputs": [
        {
          "output_type": "execute_result",
          "data": {
            "text/plain": [
              "0.8853509390074243"
            ]
          },
          "metadata": {},
          "execution_count": 70
        }
      ]
    },
    {
      "cell_type": "markdown",
      "source": [
        "Получили roc_auc значительно выше"
      ],
      "metadata": {
        "id": "3SI-yVjtcIxX"
      }
    },
    {
      "cell_type": "markdown",
      "source": [
        "## LGBMClassifier"
      ],
      "metadata": {
        "id": "Afz6Uw_tEjCv"
      }
    },
    {
      "cell_type": "code",
      "source": [
        "import optuna"
      ],
      "metadata": {
        "id": "s_VwEtcGAR4G"
      },
      "execution_count": 71,
      "outputs": []
    },
    {
      "cell_type": "code",
      "source": [
        "import lightgbm as lgb\n",
        "lgbm = lgb.LGBMClassifier()"
      ],
      "metadata": {
        "id": "BRUm5o3KBc6X"
      },
      "execution_count": 72,
      "outputs": []
    },
    {
      "cell_type": "code",
      "source": [
        "\n",
        "param = {\n",
        "        \"lambda_l1\": optuna.distributions.FloatDistribution(1e-8, 10.0, log=True),\n",
        "        \"lambda_l2\": optuna.distributions.FloatDistribution(1e-8, 10.0, log=True),\n",
        "        \"num_leaves\": optuna.distributions.IntDistribution(2, 256),\n",
        "        \"feature_fraction\": optuna.distributions.FloatDistribution(0.4, 1.0),\n",
        "        \"bagging_fraction\": optuna.distributions.FloatDistribution(0.4, 1.0),\n",
        "        \"bagging_freq\": optuna.distributions.IntDistribution(1, 7),\n",
        "        \"min_child_samples\": optuna.distributions.IntDistribution(5, 100)}\n",
        "\n",
        "optuna_search = optuna.integration.OptunaSearchCV(lgbm,param, cv=3, scoring='f1',n_jobs=-1,n_trials=100)\n",
        "optuna_search.fit(features_train, target_train)"
      ],
      "metadata": {
        "colab": {
          "base_uri": "https://localhost:8080/"
        },
        "id": "_zitNDFtjNXe",
        "outputId": "c5ec6aec-78ce-4ed0-d4bb-5d5fadcf8ebe"
      },
      "execution_count": 73,
      "outputs": [
        {
          "output_type": "stream",
          "name": "stderr",
          "text": [
            "<ipython-input-73-3b570e74ed1d>:10: ExperimentalWarning: OptunaSearchCV is experimental (supported from v0.17.0). The interface can change in the future.\n",
            "  optuna_search = optuna.integration.OptunaSearchCV(lgbm,param, cv=3, scoring='f1',n_jobs=-1,n_trials=100)\n",
            "\u001b[32m[I 2023-01-15 10:36:51,678]\u001b[0m A new study created in memory with name: no-name-f3b6ea48-1995-4c3a-a1d7-0801024c9e3a\u001b[0m\n",
            "\u001b[32m[I 2023-01-15 10:36:55,585]\u001b[0m Trial 0 finished with value: 0.8733841488515689 and parameters: {'lambda_l1': 0.36611057722354456, 'lambda_l2': 5.064328942570145, 'num_leaves': 235, 'feature_fraction': 0.6245335721536521, 'bagging_fraction': 0.720556240764823, 'bagging_freq': 7, 'min_child_samples': 86}. Best is trial 0 with value: 0.8733841488515689.\u001b[0m\n",
            "\u001b[32m[I 2023-01-15 10:36:57,812]\u001b[0m Trial 1 finished with value: 0.8870024770843602 and parameters: {'lambda_l1': 1.490670091764306e-07, 'lambda_l2': 0.008244244829284344, 'num_leaves': 238, 'feature_fraction': 0.960670942109502, 'bagging_fraction': 0.8270189297424202, 'bagging_freq': 7, 'min_child_samples': 79}. Best is trial 1 with value: 0.8870024770843602.\u001b[0m\n",
            "\u001b[32m[I 2023-01-15 10:36:59,293]\u001b[0m Trial 2 finished with value: 0.8720193032612035 and parameters: {'lambda_l1': 1.2602305886591763e-06, 'lambda_l2': 0.002552847132065266, 'num_leaves': 116, 'feature_fraction': 0.545072460795287, 'bagging_fraction': 0.45189697173548304, 'bagging_freq': 6, 'min_child_samples': 64}. Best is trial 1 with value: 0.8870024770843602.\u001b[0m\n",
            "\u001b[32m[I 2023-01-15 10:37:02,522]\u001b[0m Trial 4 finished with value: 0.8842877224158298 and parameters: {'lambda_l1': 0.0074955254071147025, 'lambda_l2': 0.0032970069632003367, 'num_leaves': 30, 'feature_fraction': 0.583224360822423, 'bagging_fraction': 0.9357618067932487, 'bagging_freq': 1, 'min_child_samples': 52}. Best is trial 1 with value: 0.8870024770843602.\u001b[0m\n",
            "\u001b[32m[I 2023-01-15 10:37:02,575]\u001b[0m Trial 3 finished with value: 0.8742316241101461 and parameters: {'lambda_l1': 0.00019527245370292597, 'lambda_l2': 0.008157326806907596, 'num_leaves': 114, 'feature_fraction': 0.818396619085139, 'bagging_fraction': 0.47793755353860423, 'bagging_freq': 5, 'min_child_samples': 49}. Best is trial 1 with value: 0.8870024770843602.\u001b[0m\n",
            "\u001b[32m[I 2023-01-15 10:37:06,274]\u001b[0m Trial 5 finished with value: 0.8758912394937015 and parameters: {'lambda_l1': 2.4068695836811603e-05, 'lambda_l2': 0.004959591359016346, 'num_leaves': 29, 'feature_fraction': 0.6206742943557308, 'bagging_fraction': 0.5775682074866254, 'bagging_freq': 3, 'min_child_samples': 62}. Best is trial 1 with value: 0.8870024770843602.\u001b[0m\n",
            "\u001b[32m[I 2023-01-15 10:37:10,801]\u001b[0m Trial 7 finished with value: 0.8832052494511785 and parameters: {'lambda_l1': 3.2618473383755967e-07, 'lambda_l2': 1.4960519036390987, 'num_leaves': 144, 'feature_fraction': 0.4459812796932504, 'bagging_fraction': 0.5837949536627641, 'bagging_freq': 5, 'min_child_samples': 40}. Best is trial 1 with value: 0.8870024770843602.\u001b[0m\n",
            "\u001b[32m[I 2023-01-15 10:37:14,130]\u001b[0m Trial 8 finished with value: 0.8730144580356667 and parameters: {'lambda_l1': 0.0013990738614932804, 'lambda_l2': 0.019814089485576544, 'num_leaves': 90, 'feature_fraction': 0.8498716624647547, 'bagging_fraction': 0.6866286363579892, 'bagging_freq': 1, 'min_child_samples': 98}. Best is trial 1 with value: 0.8870024770843602.\u001b[0m\n",
            "\u001b[32m[I 2023-01-15 10:37:16,634]\u001b[0m Trial 6 finished with value: 0.8987043849222213 and parameters: {'lambda_l1': 1.189812390461816e-07, 'lambda_l2': 4.051070440972852e-06, 'num_leaves': 186, 'feature_fraction': 0.6228295779853285, 'bagging_fraction': 0.9858866162350028, 'bagging_freq': 2, 'min_child_samples': 6}. Best is trial 6 with value: 0.8987043849222213.\u001b[0m\n",
            "\u001b[32m[I 2023-01-15 10:37:23,118]\u001b[0m Trial 10 finished with value: 0.8912993498477499 and parameters: {'lambda_l1': 0.0007735842745244114, 'lambda_l2': 1.5664328943611617e-07, 'num_leaves': 85, 'feature_fraction': 0.9987850003738176, 'bagging_fraction': 0.6501734334423241, 'bagging_freq': 4, 'min_child_samples': 13}. Best is trial 6 with value: 0.8987043849222213.\u001b[0m\n",
            "\u001b[32m[I 2023-01-15 10:37:26,018]\u001b[0m Trial 9 finished with value: 0.8930926797927988 and parameters: {'lambda_l1': 1.0696509891119313e-06, 'lambda_l2': 0.0007874912537983374, 'num_leaves': 182, 'feature_fraction': 0.9140461882719316, 'bagging_fraction': 0.5342199217265062, 'bagging_freq': 2, 'min_child_samples': 8}. Best is trial 6 with value: 0.8987043849222213.\u001b[0m\n",
            "\u001b[32m[I 2023-01-15 10:37:31,573]\u001b[0m Trial 11 finished with value: 0.89657516790187 and parameters: {'lambda_l1': 1.0675626643031682e-08, 'lambda_l2': 1.7315871746506013e-06, 'num_leaves': 175, 'feature_fraction': 0.7626222908776084, 'bagging_fraction': 0.9927408031819097, 'bagging_freq': 2, 'min_child_samples': 17}. Best is trial 6 with value: 0.8987043849222213.\u001b[0m\n",
            "\u001b[32m[I 2023-01-15 10:37:34,936]\u001b[0m Trial 12 finished with value: 0.8971899236341049 and parameters: {'lambda_l1': 1.4801167588658229e-08, 'lambda_l2': 3.6006545088495802e-06, 'num_leaves': 182, 'feature_fraction': 0.7485857895286154, 'bagging_fraction': 0.9684750470551912, 'bagging_freq': 2, 'min_child_samples': 7}. Best is trial 6 with value: 0.8987043849222213.\u001b[0m\n",
            "\u001b[32m[I 2023-01-15 10:37:39,623]\u001b[0m Trial 13 finished with value: 0.897324000254279 and parameters: {'lambda_l1': 1.1211124952494143e-08, 'lambda_l2': 1.1062379221624993e-06, 'num_leaves': 183, 'feature_fraction': 0.7304644276722351, 'bagging_fraction': 0.989856649690897, 'bagging_freq': 3, 'min_child_samples': 27}. Best is trial 6 with value: 0.8987043849222213.\u001b[0m\n",
            "\u001b[32m[I 2023-01-15 10:37:42,048]\u001b[0m Trial 14 finished with value: 0.8946671144273628 and parameters: {'lambda_l1': 1.4468384277096265e-08, 'lambda_l2': 1.1938921259401517e-05, 'num_leaves': 195, 'feature_fraction': 0.7266091906321518, 'bagging_fraction': 0.8683581863161685, 'bagging_freq': 3, 'min_child_samples': 31}. Best is trial 6 with value: 0.8987043849222213.\u001b[0m\n",
            "\u001b[32m[I 2023-01-15 10:37:43,689]\u001b[0m Trial 16 finished with value: 0.8712047117457469 and parameters: {'lambda_l1': 9.113506804206553, 'lambda_l2': 1.0869214587103391e-08, 'num_leaves': 214, 'feature_fraction': 0.4436332059758527, 'bagging_fraction': 0.8287568259088856, 'bagging_freq': 3, 'min_child_samples': 27}. Best is trial 6 with value: 0.8987043849222213.\u001b[0m\n",
            "\u001b[32m[I 2023-01-15 10:37:47,760]\u001b[0m Trial 15 finished with value: 0.8956197960692817 and parameters: {'lambda_l1': 1.6563911457463297e-05, 'lambda_l2': 1.3145611865892592e-08, 'num_leaves': 209, 'feature_fraction': 0.6723445128551935, 'bagging_fraction': 0.8548775962535542, 'bagging_freq': 3, 'min_child_samples': 25}. Best is trial 6 with value: 0.8987043849222213.\u001b[0m\n",
            "\u001b[32m[I 2023-01-15 10:37:50,059]\u001b[0m Trial 17 finished with value: 0.8950294333037769 and parameters: {'lambda_l1': 9.926814340070436e-06, 'lambda_l2': 8.365155476612943e-05, 'num_leaves': 147, 'feature_fraction': 0.5276060990167356, 'bagging_fraction': 0.8951503457072356, 'bagging_freq': 4, 'min_child_samples': 21}. Best is trial 6 with value: 0.8987043849222213.\u001b[0m\n",
            "\u001b[32m[I 2023-01-15 10:37:53,688]\u001b[0m Trial 18 finished with value: 0.8938098163467618 and parameters: {'lambda_l1': 1.3591585102029519e-05, 'lambda_l2': 3.475890627715657e-05, 'num_leaves': 160, 'feature_fraction': 0.5341749863292778, 'bagging_fraction': 0.9104743338838929, 'bagging_freq': 4, 'min_child_samples': 36}. Best is trial 6 with value: 0.8987043849222213.\u001b[0m\n",
            "\u001b[32m[I 2023-01-15 10:37:54,708]\u001b[0m Trial 19 finished with value: 0.8904632842668107 and parameters: {'lambda_l1': 1.5901527877953313e-07, 'lambda_l2': 3.4315792011564894e-07, 'num_leaves': 160, 'feature_fraction': 0.6758817970315626, 'bagging_fraction': 0.7500788558875222, 'bagging_freq': 1, 'min_child_samples': 39}. Best is trial 6 with value: 0.8987043849222213.\u001b[0m\n",
            "\u001b[32m[I 2023-01-15 10:37:58,329]\u001b[0m Trial 20 finished with value: 0.8912713978955903 and parameters: {'lambda_l1': 1.246744492625815e-07, 'lambda_l2': 3.1467727386220195e-07, 'num_leaves': 248, 'feature_fraction': 0.7995019406233438, 'bagging_fraction': 0.7726020297729701, 'bagging_freq': 1, 'min_child_samples': 43}. Best is trial 6 with value: 0.8987043849222213.\u001b[0m\n",
            "\u001b[32m[I 2023-01-15 10:38:06,533]\u001b[0m Trial 21 finished with value: 0.8946741076599741 and parameters: {'lambda_l1': 7.467994451954877e-08, 'lambda_l2': 3.200270529614487e-07, 'num_leaves': 243, 'feature_fraction': 0.8197837954160648, 'bagging_fraction': 0.7715365873964343, 'bagging_freq': 2, 'min_child_samples': 5}. Best is trial 6 with value: 0.8987043849222213.\u001b[0m\n",
            "\u001b[32m[I 2023-01-15 10:38:08,243]\u001b[0m Trial 22 finished with value: 0.8974678758795958 and parameters: {'lambda_l1': 2.3372230195177494e-08, 'lambda_l2': 4.96208979482907e-06, 'num_leaves': 211, 'feature_fraction': 0.7322350937492753, 'bagging_fraction': 0.9981606873637947, 'bagging_freq': 2, 'min_child_samples': 8}. Best is trial 6 with value: 0.8987043849222213.\u001b[0m\n",
            "\u001b[32m[I 2023-01-15 10:38:15,984]\u001b[0m Trial 23 finished with value: 0.8973741355500465 and parameters: {'lambda_l1': 1.0814574744862517e-08, 'lambda_l2': 2.240194335803004e-06, 'num_leaves': 208, 'feature_fraction': 0.7382205998823096, 'bagging_fraction': 0.9846883698043493, 'bagging_freq': 2, 'min_child_samples': 14}. Best is trial 6 with value: 0.8987043849222213.\u001b[0m\n",
            "\u001b[32m[I 2023-01-15 10:38:17,370]\u001b[0m Trial 24 finished with value: 0.8972505843268496 and parameters: {'lambda_l1': 1.1821139886688134e-06, 'lambda_l2': 0.0001503483334398295, 'num_leaves': 211, 'feature_fraction': 0.6971468558392122, 'bagging_fraction': 0.9980527534237552, 'bagging_freq': 2, 'min_child_samples': 16}. Best is trial 6 with value: 0.8987043849222213.\u001b[0m\n",
            "\u001b[32m[I 2023-01-15 10:38:25,183]\u001b[0m Trial 25 finished with value: 0.8965119568763669 and parameters: {'lambda_l1': 1.7544235787412858e-06, 'lambda_l2': 0.00013601554397089143, 'num_leaves': 213, 'feature_fraction': 0.6539825077656303, 'bagging_fraction': 0.930056675239613, 'bagging_freq': 2, 'min_child_samples': 14}. Best is trial 6 with value: 0.8987043849222213.\u001b[0m\n",
            "\u001b[32m[I 2023-01-15 10:38:27,010]\u001b[0m Trial 26 finished with value: 0.8974013897316655 and parameters: {'lambda_l1': 2.5795253712328623e-06, 'lambda_l2': 1.0452615199329824e-05, 'num_leaves': 221, 'feature_fraction': 0.644124284681497, 'bagging_fraction': 0.9390458907456551, 'bagging_freq': 2, 'min_child_samples': 12}. Best is trial 6 with value: 0.8987043849222213.\u001b[0m\n",
            "\u001b[32m[I 2023-01-15 10:38:35,824]\u001b[0m Trial 27 finished with value: 0.8954634086963074 and parameters: {'lambda_l1': 4.850334320289821e-08, 'lambda_l2': 8.727193331364148e-06, 'num_leaves': 228, 'feature_fraction': 0.8570193297002645, 'bagging_fraction': 0.9455196777331349, 'bagging_freq': 1, 'min_child_samples': 6}. Best is trial 6 with value: 0.8987043849222213.\u001b[0m\n",
            "\u001b[32m[I 2023-01-15 10:38:36,339]\u001b[0m Trial 28 finished with value: 0.8968765708691134 and parameters: {'lambda_l1': 3.269600040925341e-06, 'lambda_l2': 1.795557743876837e-05, 'num_leaves': 228, 'feature_fraction': 0.5859574437376054, 'bagging_fraction': 0.9429211564867903, 'bagging_freq': 1, 'min_child_samples': 5}. Best is trial 6 with value: 0.8987043849222213.\u001b[0m\n",
            "\u001b[32m[I 2023-01-15 10:38:43,358]\u001b[0m Trial 30 finished with value: 0.8900492976774969 and parameters: {'lambda_l1': 9.470047513278214e-05, 'lambda_l2': 8.349787583886416e-08, 'num_leaves': 254, 'feature_fraction': 0.4919687938942844, 'bagging_fraction': 0.8126863201230793, 'bagging_freq': 5, 'min_child_samples': 22}. Best is trial 6 with value: 0.8987043849222213.\u001b[0m\n",
            "\u001b[32m[I 2023-01-15 10:38:44,919]\u001b[0m Trial 29 finished with value: 0.8946292130091722 and parameters: {'lambda_l1': 9.176182493696592e-05, 'lambda_l2': 2.9866568766402e-05, 'num_leaves': 254, 'feature_fraction': 0.58384210768346, 'bagging_fraction': 0.8859285457502776, 'bagging_freq': 5, 'min_child_samples': 20}. Best is trial 6 with value: 0.8987043849222213.\u001b[0m\n",
            "\u001b[32m[I 2023-01-15 10:38:47,169]\u001b[0m Trial 31 finished with value: 0.889069882799527 and parameters: {'lambda_l1': 0.01077290532620545, 'lambda_l2': 0.0005253254636287927, 'num_leaves': 195, 'feature_fraction': 0.6509763297682228, 'bagging_fraction': 0.8930054916555034, 'bagging_freq': 3, 'min_child_samples': 68}. Best is trial 6 with value: 0.8987043849222213.\u001b[0m\n",
            "\u001b[32m[I 2023-01-15 10:38:54,430]\u001b[0m Trial 32 finished with value: 0.8963300986198152 and parameters: {'lambda_l1': 3.865561952288713e-08, 'lambda_l2': 4.610137071345035e-06, 'num_leaves': 197, 'feature_fraction': 0.6335604978715542, 'bagging_fraction': 0.9615617174759109, 'bagging_freq': 2, 'min_child_samples': 12}. Best is trial 6 with value: 0.8987043849222213.\u001b[0m\n",
            "\u001b[32m[I 2023-01-15 10:38:57,813]\u001b[0m Trial 33 finished with value: 0.8955847061576826 and parameters: {'lambda_l1': 4.160297472346296e-07, 'lambda_l2': 3.829409136062735e-06, 'num_leaves': 227, 'feature_fraction': 0.6259704128294583, 'bagging_fraction': 0.9694791734575445, 'bagging_freq': 2, 'min_child_samples': 11}. Best is trial 6 with value: 0.8987043849222213.\u001b[0m\n",
            "\u001b[32m[I 2023-01-15 10:39:02,261]\u001b[0m Trial 34 finished with value: 0.894066607857671 and parameters: {'lambda_l1': 3.1276711828278226e-07, 'lambda_l2': 9.49115949211534e-07, 'num_leaves': 231, 'feature_fraction': 0.7828193177243787, 'bagging_fraction': 0.9959614220799994, 'bagging_freq': 7, 'min_child_samples': 32}. Best is trial 6 with value: 0.8987043849222213.\u001b[0m\n",
            "\u001b[32m[I 2023-01-15 10:39:04,970]\u001b[0m Trial 35 finished with value: 0.8938438282690099 and parameters: {'lambda_l1': 3.4472693083249434e-07, 'lambda_l2': 7.55410650340034e-07, 'num_leaves': 234, 'feature_fraction': 0.7771026291943699, 'bagging_fraction': 0.9158736563619605, 'bagging_freq': 3, 'min_child_samples': 33}. Best is trial 6 with value: 0.8987043849222213.\u001b[0m\n",
            "\u001b[32m[I 2023-01-15 10:39:08,057]\u001b[0m Trial 36 finished with value: 0.8849712077940084 and parameters: {'lambda_l1': 4.451775944750504e-08, 'lambda_l2': 7.159142492733895e-08, 'num_leaves': 162, 'feature_fraction': 0.7008912998246697, 'bagging_fraction': 0.40648823617487484, 'bagging_freq': 3, 'min_child_samples': 18}. Best is trial 6 with value: 0.8987043849222213.\u001b[0m\n",
            "\u001b[32m[I 2023-01-15 10:39:11,016]\u001b[0m Trial 38 finished with value: 0.8816378801073812 and parameters: {'lambda_l1': 2.875186017821771e-06, 'lambda_l2': 5.173397480407024, 'num_leaves': 139, 'feature_fraction': 0.7054223286806127, 'bagging_fraction': 0.8518348634746361, 'bagging_freq': 4, 'min_child_samples': 77}. Best is trial 6 with value: 0.8987043849222213.\u001b[0m\n",
            "\u001b[32m[I 2023-01-15 10:39:11,971]\u001b[0m Trial 39 finished with value: 0.8733039041779284 and parameters: {'lambda_l1': 2.8838951779690154e-08, 'lambda_l2': 5.436058463284891e-05, 'num_leaves': 10, 'feature_fraction': 0.5667020713039428, 'bagging_fraction': 0.931080329783203, 'bagging_freq': 1, 'min_child_samples': 11}. Best is trial 6 with value: 0.8987043849222213.\u001b[0m\n",
            "\u001b[32m[I 2023-01-15 10:39:12,546]\u001b[0m Trial 37 finished with value: 0.8960187171780376 and parameters: {'lambda_l1': 3.565928068207047e-08, 'lambda_l2': 5.6531570644659934e-05, 'num_leaves': 167, 'feature_fraction': 0.7152071648499312, 'bagging_fraction': 0.8313837876546328, 'bagging_freq': 6, 'min_child_samples': 19}. Best is trial 6 with value: 0.8987043849222213.\u001b[0m\n",
            "\u001b[32m[I 2023-01-15 10:39:15,845]\u001b[0m Trial 41 finished with value: 0.8860928633523715 and parameters: {'lambda_l1': 1.6113962638120937e-07, 'lambda_l2': 3.1005772109959e-08, 'num_leaves': 124, 'feature_fraction': 0.4865183421135386, 'bagging_fraction': 0.6678836633307652, 'bagging_freq': 2, 'min_child_samples': 48}. Best is trial 6 with value: 0.8987043849222213.\u001b[0m\n",
            "\u001b[32m[I 2023-01-15 10:39:16,225]\u001b[0m Trial 40 finished with value: 0.8887233514212571 and parameters: {'lambda_l1': 1.2336387253329936e-07, 'lambda_l2': 2.5426134914940103e-06, 'num_leaves': 118, 'feature_fraction': 0.8957960658934464, 'bagging_fraction': 0.8086234402943864, 'bagging_freq': 2, 'min_child_samples': 57}. Best is trial 6 with value: 0.8987043849222213.\u001b[0m\n",
            "\u001b[32m[I 2023-01-15 10:39:26,302]\u001b[0m Trial 43 finished with value: 0.8974317500997726 and parameters: {'lambda_l1': 1.0181406308569594e-08, 'lambda_l2': 1.093592027548084e-06, 'num_leaves': 197, 'feature_fraction': 0.7409436838634648, 'bagging_fraction': 0.9707113965314175, 'bagging_freq': 3, 'min_child_samples': 26}. Best is trial 6 with value: 0.8987043849222213.\u001b[0m\n",
            "\u001b[32m[I 2023-01-15 10:39:26,677]\u001b[0m Trial 42 finished with value: 0.8946840919549098 and parameters: {'lambda_l1': 1.0564860618977805e-08, 'lambda_l2': 1.8957074566115602e-06, 'num_leaves': 199, 'feature_fraction': 0.7483844257458692, 'bagging_fraction': 0.9704264386253545, 'bagging_freq': 2, 'min_child_samples': 10}. Best is trial 6 with value: 0.8987043849222213.\u001b[0m\n",
            "\u001b[32m[I 2023-01-15 10:39:31,478]\u001b[0m Trial 45 finished with value: 0.8961442385217504 and parameters: {'lambda_l1': 4.584510192175571e-07, 'lambda_l2': 0.0316607400821099, 'num_leaves': 97, 'feature_fraction': 0.6142618562909282, 'bagging_fraction': 0.95840353024729, 'bagging_freq': 3, 'min_child_samples': 25}. Best is trial 6 with value: 0.8987043849222213.\u001b[0m\n",
            "\u001b[32m[I 2023-01-15 10:39:35,626]\u001b[0m Trial 44 finished with value: 0.8967078447827311 and parameters: {'lambda_l1': 5.562593729168641e-07, 'lambda_l2': 8.39305306735052e-06, 'num_leaves': 200, 'feature_fraction': 0.7480398997976339, 'bagging_fraction': 0.962015893527445, 'bagging_freq': 2, 'min_child_samples': 11}. Best is trial 6 with value: 0.8987043849222213.\u001b[0m\n",
            "\u001b[32m[I 2023-01-15 10:39:38,489]\u001b[0m Trial 47 finished with value: 0.8837667522558849 and parameters: {'lambda_l1': 0.020749798577680216, 'lambda_l2': 0.22029430495733365, 'num_leaves': 221, 'feature_fraction': 0.8233699745947411, 'bagging_fraction': 0.9082011016566736, 'bagging_freq': 1, 'min_child_samples': 97}. Best is trial 6 with value: 0.8987043849222213.\u001b[0m\n",
            "\u001b[32m[I 2023-01-15 10:39:40,847]\u001b[0m Trial 46 finished with value: 0.8970615676490121 and parameters: {'lambda_l1': 2.622831501181955e-08, 'lambda_l2': 1.0233968996595328e-05, 'num_leaves': 218, 'feature_fraction': 0.6791437241246641, 'bagging_fraction': 0.9187893941215727, 'bagging_freq': 2, 'min_child_samples': 15}. Best is trial 6 with value: 0.8987043849222213.\u001b[0m\n",
            "\u001b[32m[I 2023-01-15 10:39:42,053]\u001b[0m Trial 48 finished with value: 0.8907963192887212 and parameters: {'lambda_l1': 5.521714558234189e-06, 'lambda_l2': 5.814480837205138e-07, 'num_leaves': 67, 'feature_fraction': 0.6744333251002445, 'bagging_fraction': 0.575664414780151, 'bagging_freq': 3, 'min_child_samples': 15}. Best is trial 6 with value: 0.8987043849222213.\u001b[0m\n",
            "\u001b[32m[I 2023-01-15 10:39:48,262]\u001b[0m Trial 50 finished with value: 0.8911867939979988 and parameters: {'lambda_l1': 9.079360276300337e-08, 'lambda_l2': 0.0013063763816525203, 'num_leaves': 186, 'feature_fraction': 0.40971660074618854, 'bagging_fraction': 0.8711427857678614, 'bagging_freq': 3, 'min_child_samples': 28}. Best is trial 6 with value: 0.8987043849222213.\u001b[0m\n",
            "\u001b[32m[I 2023-01-15 10:39:48,989]\u001b[0m Trial 49 finished with value: 0.8981881114201161 and parameters: {'lambda_l1': 5.457236180310537e-06, 'lambda_l2': 0.0011369401471062448, 'num_leaves': 188, 'feature_fraction': 0.603121512899227, 'bagging_fraction': 0.9988757546184293, 'bagging_freq': 3, 'min_child_samples': 22}. Best is trial 6 with value: 0.8987043849222213.\u001b[0m\n",
            "\u001b[32m[I 2023-01-15 10:39:55,350]\u001b[0m Trial 51 finished with value: 0.895425972105842 and parameters: {'lambda_l1': 0.1936562873294144, 'lambda_l2': 1.7287902016053438e-07, 'num_leaves': 177, 'feature_fraction': 0.6118199191776927, 'bagging_fraction': 0.997623188192378, 'bagging_freq': 1, 'min_child_samples': 23}. Best is trial 6 with value: 0.8987043849222213.\u001b[0m\n",
            "\u001b[32m[I 2023-01-15 10:39:56,533]\u001b[0m Trial 52 finished with value: 0.8965363231391157 and parameters: {'lambda_l1': 4.192875365090279e-05, 'lambda_l2': 0.0024003168927473175, 'num_leaves': 174, 'feature_fraction': 0.6116046794790964, 'bagging_fraction': 0.985441809616424, 'bagging_freq': 4, 'min_child_samples': 23}. Best is trial 6 with value: 0.8987043849222213.\u001b[0m\n",
            "\u001b[32m[I 2023-01-15 10:40:03,697]\u001b[0m Trial 53 finished with value: 0.8955561330452196 and parameters: {'lambda_l1': 5.003248949580737e-05, 'lambda_l2': 0.00029342686944413453, 'num_leaves': 187, 'feature_fraction': 0.5567058437254632, 'bagging_fraction': 0.984132788880869, 'bagging_freq': 4, 'min_child_samples': 8}. Best is trial 6 with value: 0.8987043849222213.\u001b[0m\n",
            "\u001b[32m[I 2023-01-15 10:40:05,545]\u001b[0m Trial 54 finished with value: 0.8956134443379479 and parameters: {'lambda_l1': 1.6753486772548378e-08, 'lambda_l2': 0.00019945375030704137, 'num_leaves': 207, 'feature_fraction': 0.5619190181948798, 'bagging_fraction': 0.9439634776047341, 'bagging_freq': 3, 'min_child_samples': 8}. Best is trial 6 with value: 0.8987043849222213.\u001b[0m\n",
            "\u001b[32m[I 2023-01-15 10:40:12,977]\u001b[0m Trial 55 finished with value: 0.8976608838354648 and parameters: {'lambda_l1': 1.862252085192667e-08, 'lambda_l2': 0.009987709907530545, 'num_leaves': 204, 'feature_fraction': 0.6453481589711982, 'bagging_fraction': 0.9420287843327376, 'bagging_freq': 3, 'min_child_samples': 18}. Best is trial 6 with value: 0.8987043849222213.\u001b[0m\n",
            "\u001b[32m[I 2023-01-15 10:40:13,190]\u001b[0m Trial 56 finished with value: 0.8964595015885176 and parameters: {'lambda_l1': 0.0004324074261963162, 'lambda_l2': 0.009225702535766569, 'num_leaves': 153, 'feature_fraction': 0.6463768720831546, 'bagging_fraction': 0.950933698252127, 'bagging_freq': 2, 'min_child_samples': 16}. Best is trial 6 with value: 0.8987043849222213.\u001b[0m\n",
            "\u001b[32m[I 2023-01-15 10:40:18,824]\u001b[0m Trial 57 finished with value: 0.8936916542930459 and parameters: {'lambda_l1': 0.00041927446720310696, 'lambda_l2': 0.016131540010745262, 'num_leaves': 150, 'feature_fraction': 0.6385956601531049, 'bagging_fraction': 0.7201915545618272, 'bagging_freq': 4, 'min_child_samples': 30}. Best is trial 6 with value: 0.8987043849222213.\u001b[0m\n",
            "\u001b[32m[I 2023-01-15 10:40:19,988]\u001b[0m Trial 58 finished with value: 0.8943085002824738 and parameters: {'lambda_l1': 8.156114727055317e-07, 'lambda_l2': 0.2180785958802238, 'num_leaves': 239, 'feature_fraction': 0.5944481985418419, 'bagging_fraction': 0.8793749273814317, 'bagging_freq': 4, 'min_child_samples': 28}. Best is trial 6 with value: 0.8987043849222213.\u001b[0m\n",
            "\u001b[32m[I 2023-01-15 10:40:26,039]\u001b[0m Trial 60 finished with value: 0.8950813383203471 and parameters: {'lambda_l1': 2.1089703389389187e-07, 'lambda_l2': 0.03417441816911637, 'num_leaves': 190, 'feature_fraction': 0.6676446888991207, 'bagging_fraction': 0.9222148303443742, 'bagging_freq': 3, 'min_child_samples': 38}. Best is trial 6 with value: 0.8987043849222213.\u001b[0m\n",
            "\u001b[32m[I 2023-01-15 10:40:27,762]\u001b[0m Trial 59 finished with value: 0.8956764854608794 and parameters: {'lambda_l1': 8.306454558192054e-07, 'lambda_l2': 0.08117473776374261, 'num_leaves': 237, 'feature_fraction': 0.5896018932601061, 'bagging_fraction': 0.9287307000089673, 'bagging_freq': 3, 'min_child_samples': 20}. Best is trial 6 with value: 0.8987043849222213.\u001b[0m\n",
            "\u001b[32m[I 2023-01-15 10:40:32,756]\u001b[0m Trial 61 finished with value: 0.8917075928281504 and parameters: {'lambda_l1': 7.918593513271157e-08, 'lambda_l2': 0.001020101601290464, 'num_leaves': 169, 'feature_fraction': 0.5124577832896722, 'bagging_fraction': 0.6361216098134478, 'bagging_freq': 3, 'min_child_samples': 19}. Best is trial 6 with value: 0.8987043849222213.\u001b[0m\n",
            "\u001b[32m[I 2023-01-15 10:40:37,295]\u001b[0m Trial 62 finished with value: 0.8972574936578982 and parameters: {'lambda_l1': 6.638549770236758e-08, 'lambda_l2': 0.0036926294488474824, 'num_leaves': 205, 'feature_fraction': 0.7320850283184557, 'bagging_fraction': 0.9725981612647964, 'bagging_freq': 2, 'min_child_samples': 14}. Best is trial 6 with value: 0.8987043849222213.\u001b[0m\n",
            "\u001b[32m[I 2023-01-15 10:40:42,895]\u001b[0m Trial 63 finished with value: 0.8966906329288356 and parameters: {'lambda_l1': 1.4838975559911125e-08, 'lambda_l2': 0.0036590692467384036, 'num_leaves': 207, 'feature_fraction': 0.729125712097245, 'bagging_fraction': 0.9708872445883749, 'bagging_freq': 2, 'min_child_samples': 5}. Best is trial 6 with value: 0.8987043849222213.\u001b[0m\n",
            "\u001b[32m[I 2023-01-15 10:40:47,174]\u001b[0m Trial 64 finished with value: 0.8959714116322613 and parameters: {'lambda_l1': 1.947719142036055e-08, 'lambda_l2': 1.356763316872947e-06, 'num_leaves': 220, 'feature_fraction': 0.6881331797179714, 'bagging_fraction': 0.9795123266424409, 'bagging_freq': 2, 'min_child_samples': 8}. Best is trial 6 with value: 0.8987043849222213.\u001b[0m\n",
            "\u001b[32m[I 2023-01-15 10:40:52,654]\u001b[0m Trial 66 finished with value: 0.8924114537257831 and parameters: {'lambda_l1': 7.561054945133871e-06, 'lambda_l2': 2.4342528561441182e-05, 'num_leaves': 191, 'feature_fraction': 0.790711438595772, 'bagging_fraction': 0.9040250511308169, 'bagging_freq': 3, 'min_child_samples': 44}. Best is trial 6 with value: 0.8987043849222213.\u001b[0m\n",
            "\u001b[32m[I 2023-01-15 10:40:52,865]\u001b[0m Trial 65 finished with value: 0.898001768579193 and parameters: {'lambda_l1': 2.1843698209228034e-08, 'lambda_l2': 2.1949537820310598e-05, 'num_leaves': 221, 'feature_fraction': 0.6948588034222576, 'bagging_fraction': 0.9980303767068545, 'bagging_freq': 2, 'min_child_samples': 9}. Best is trial 6 with value: 0.8987043849222213.\u001b[0m\n",
            "\u001b[32m[I 2023-01-15 10:41:01,351]\u001b[0m Trial 67 finished with value: 0.898329474160057 and parameters: {'lambda_l1': 2.1335053843330165e-06, 'lambda_l2': 6.381174361685062e-06, 'num_leaves': 221, 'feature_fraction': 0.7651496749263503, 'bagging_fraction': 0.9464139461466625, 'bagging_freq': 1, 'min_child_samples': 25}. Best is trial 6 with value: 0.8987043849222213.\u001b[0m\n",
            "\u001b[32m[I 2023-01-15 10:41:02,189]\u001b[0m Trial 68 finished with value: 0.8975118015755914 and parameters: {'lambda_l1': 2.061042573282969e-06, 'lambda_l2': 1.6389570617247472e-05, 'num_leaves': 222, 'feature_fraction': 0.6600351390199738, 'bagging_fraction': 0.9483934999788758, 'bagging_freq': 1, 'min_child_samples': 10}. Best is trial 6 with value: 0.8987043849222213.\u001b[0m\n",
            "\u001b[32m[I 2023-01-15 10:41:08,177]\u001b[0m Trial 69 finished with value: 0.895012036685161 and parameters: {'lambda_l1': 5.265466300805667e-08, 'lambda_l2': 0.0004528172422537655, 'num_leaves': 183, 'feature_fraction': 0.7743389314732833, 'bagging_fraction': 0.9977691874671092, 'bagging_freq': 1, 'min_child_samples': 35}. Best is trial 6 with value: 0.8987043849222213.\u001b[0m\n",
            "\u001b[32m[I 2023-01-15 10:41:12,445]\u001b[0m Trial 70 finished with value: 0.8955588848068077 and parameters: {'lambda_l1': 1.3793859126178032e-06, 'lambda_l2': 5.877508658435974e-06, 'num_leaves': 245, 'feature_fraction': 0.6599163580433692, 'bagging_fraction': 0.9989865377907047, 'bagging_freq': 1, 'min_child_samples': 9}. Best is trial 6 with value: 0.8987043849222213.\u001b[0m\n",
            "\u001b[32m[I 2023-01-15 10:41:19,898]\u001b[0m Trial 71 finished with value: 0.8945408236492192 and parameters: {'lambda_l1': 2.2155693127855364e-05, 'lambda_l2': 7.927368952576365e-05, 'num_leaves': 245, 'feature_fraction': 0.7097929041667813, 'bagging_fraction': 0.9566040328366435, 'bagging_freq': 1, 'min_child_samples': 9}. Best is trial 6 with value: 0.8987043849222213.\u001b[0m\n",
            "\u001b[32m[I 2023-01-15 10:41:23,016]\u001b[0m Trial 72 finished with value: 0.897085909529464 and parameters: {'lambda_l1': 0.0025426663145813205, 'lambda_l2': 8.855132850525918e-05, 'num_leaves': 213, 'feature_fraction': 0.7175774862573322, 'bagging_fraction': 0.9504604882445173, 'bagging_freq': 1, 'min_child_samples': 24}. Best is trial 6 with value: 0.8987043849222213.\u001b[0m\n",
            "\u001b[32m[I 2023-01-15 10:41:33,674]\u001b[0m Trial 73 finished with value: 0.8965492829072798 and parameters: {'lambda_l1': 2.5153881871599027e-08, 'lambda_l2': 1.584337774460751e-05, 'num_leaves': 214, 'feature_fraction': 0.7615168263755661, 'bagging_fraction': 0.9421717593391213, 'bagging_freq': 1, 'min_child_samples': 24}. Best is trial 6 with value: 0.8987043849222213.\u001b[0m\n",
            "\u001b[32m[I 2023-01-15 10:41:36,555]\u001b[0m Trial 74 finished with value: 0.8958063048798922 and parameters: {'lambda_l1': 2.3758210970691656e-07, 'lambda_l2': 4.917012233613555e-06, 'num_leaves': 225, 'feature_fraction': 0.7593971385680326, 'bagging_fraction': 0.9409624010954089, 'bagging_freq': 1, 'min_child_samples': 18}. Best is trial 6 with value: 0.8987043849222213.\u001b[0m\n",
            "\u001b[32m[I 2023-01-15 10:41:45,630]\u001b[0m Trial 75 finished with value: 0.8908234420465787 and parameters: {'lambda_l1': 2.0790242090195397e-07, 'lambda_l2': 3.57719384965671e-06, 'num_leaves': 224, 'feature_fraction': 0.8028810396456225, 'bagging_fraction': 0.49385396010318366, 'bagging_freq': 1, 'min_child_samples': 17}. Best is trial 6 with value: 0.8987043849222213.\u001b[0m\n",
            "\u001b[32m[I 2023-01-15 10:41:49,212]\u001b[0m Trial 76 finished with value: 0.8967990490297552 and parameters: {'lambda_l1': 5.36578812115446e-06, 'lambda_l2': 4.66480486778409e-07, 'num_leaves': 201, 'feature_fraction': 0.8376931217389997, 'bagging_fraction': 0.8929277686068927, 'bagging_freq': 2, 'min_child_samples': 17}. Best is trial 6 with value: 0.8987043849222213.\u001b[0m\n",
            "\u001b[32m[I 2023-01-15 10:41:54,585]\u001b[0m Trial 77 finished with value: 0.8978843075916415 and parameters: {'lambda_l1': 4.285208258525125e-06, 'lambda_l2': 3.0714965245243486e-05, 'num_leaves': 201, 'feature_fraction': 0.6309247988915504, 'bagging_fraction': 0.9739606237668986, 'bagging_freq': 2, 'min_child_samples': 13}. Best is trial 6 with value: 0.8987043849222213.\u001b[0m\n",
            "\u001b[32m[I 2023-01-15 10:41:59,783]\u001b[0m Trial 78 finished with value: 0.8970355738801153 and parameters: {'lambda_l1': 9.437566109973125e-08, 'lambda_l2': 2.6127447714728276e-05, 'num_leaves': 234, 'feature_fraction': 0.6935626840701822, 'bagging_fraction': 0.9807801466235445, 'bagging_freq': 2, 'min_child_samples': 5}. Best is trial 6 with value: 0.8987043849222213.\u001b[0m\n",
            "\u001b[32m[I 2023-01-15 10:42:04,542]\u001b[0m Trial 79 finished with value: 0.8966971778937678 and parameters: {'lambda_l1': 1.9137046554150928e-06, 'lambda_l2': 4.2159057995370334e-05, 'num_leaves': 216, 'feature_fraction': 0.6273491155102777, 'bagging_fraction': 0.979482902979636, 'bagging_freq': 2, 'min_child_samples': 5}. Best is trial 6 with value: 0.8987043849222213.\u001b[0m\n",
            "\u001b[32m[I 2023-01-15 10:42:07,708]\u001b[0m Trial 80 finished with value: 0.8951381007975355 and parameters: {'lambda_l1': 1.222282207876253e-05, 'lambda_l2': 3.458812617597515e-05, 'num_leaves': 177, 'feature_fraction': 0.6043849276435709, 'bagging_fraction': 0.9060858043505309, 'bagging_freq': 6, 'min_child_samples': 14}. Best is trial 6 with value: 0.8987043849222213.\u001b[0m\n",
            "\u001b[32m[I 2023-01-15 10:42:12,195]\u001b[0m Trial 81 finished with value: 0.8969401681974287 and parameters: {'lambda_l1': 1.4591186637233754e-05, 'lambda_l2': 1.4203409455545317e-05, 'num_leaves': 177, 'feature_fraction': 0.6007772952930208, 'bagging_fraction': 0.9274170363353411, 'bagging_freq': 1, 'min_child_samples': 13}. Best is trial 6 with value: 0.8987043849222213.\u001b[0m\n",
            "\u001b[32m[I 2023-01-15 10:42:16,267]\u001b[0m Trial 82 finished with value: 0.8970258890988934 and parameters: {'lambda_l1': 3.82054807216174e-08, 'lambda_l2': 1.3310369682964502e-05, 'num_leaves': 195, 'feature_fraction': 0.6542786620316486, 'bagging_fraction': 0.9625230621109698, 'bagging_freq': 3, 'min_child_samples': 13}. Best is trial 6 with value: 0.8987043849222213.\u001b[0m\n",
            "\u001b[32m[I 2023-01-15 10:42:20,651]\u001b[0m Trial 83 finished with value: 0.8969795155521777 and parameters: {'lambda_l1': 1.0327847757402722e-08, 'lambda_l2': 2.1677550209108638e-06, 'num_leaves': 198, 'feature_fraction': 0.6856897874005801, 'bagging_fraction': 0.9645271459686791, 'bagging_freq': 3, 'min_child_samples': 21}. Best is trial 6 with value: 0.8987043849222213.\u001b[0m\n",
            "\u001b[32m[I 2023-01-15 10:42:24,931]\u001b[0m Trial 84 finished with value: 0.8965238739527521 and parameters: {'lambda_l1': 5.226327046876111e-06, 'lambda_l2': 1.95644607808346e-06, 'num_leaves': 204, 'feature_fraction': 0.6852440890271386, 'bagging_fraction': 0.9613552094005506, 'bagging_freq': 2, 'min_child_samples': 20}. Best is trial 6 with value: 0.8987043849222213.\u001b[0m\n",
            "\u001b[32m[I 2023-01-15 10:42:29,752]\u001b[0m Trial 85 finished with value: 0.8986603922386887 and parameters: {'lambda_l1': 3.816435871780769e-06, 'lambda_l2': 6.560945702615604e-06, 'num_leaves': 205, 'feature_fraction': 0.6298327182609269, 'bagging_fraction': 0.9340121308515712, 'bagging_freq': 2, 'min_child_samples': 11}. Best is trial 6 with value: 0.8987043849222213.\u001b[0m\n",
            "\u001b[32m[I 2023-01-15 10:42:31,645]\u001b[0m Trial 86 finished with value: 0.8959466835079795 and parameters: {'lambda_l1': 7.00062352658801e-07, 'lambda_l2': 7.505498205619574e-06, 'num_leaves': 138, 'feature_fraction': 0.6328333815128347, 'bagging_fraction': 0.854027240780255, 'bagging_freq': 2, 'min_child_samples': 10}. Best is trial 6 with value: 0.8987043849222213.\u001b[0m\n",
            "\u001b[32m[I 2023-01-15 10:42:39,080]\u001b[0m Trial 87 finished with value: 0.8963013003092151 and parameters: {'lambda_l1': 6.849375230158897e-07, 'lambda_l2': 8.101807133891379e-06, 'num_leaves': 210, 'feature_fraction': 0.6259928613341577, 'bagging_fraction': 0.9331485022026255, 'bagging_freq': 2, 'min_child_samples': 11}. Best is trial 6 with value: 0.8987043849222213.\u001b[0m\n",
            "\u001b[32m[I 2023-01-15 10:42:41,338]\u001b[0m Trial 88 finished with value: 0.8962578935189948 and parameters: {'lambda_l1': 3.4572851527635196e-06, 'lambda_l2': 0.00011120077933322437, 'num_leaves': 229, 'feature_fraction': 0.5753900704600703, 'bagging_fraction': 0.9860868978060544, 'bagging_freq': 2, 'min_child_samples': 7}. Best is trial 6 with value: 0.8987043849222213.\u001b[0m\n",
            "\u001b[32m[I 2023-01-15 10:42:47,384]\u001b[0m Trial 89 finished with value: 0.8957958184165754 and parameters: {'lambda_l1': 3.613918566030552e-06, 'lambda_l2': 0.0001237062820228442, 'num_leaves': 190, 'feature_fraction': 0.5741488218894096, 'bagging_fraction': 0.9875611204561108, 'bagging_freq': 2, 'min_child_samples': 7}. Best is trial 6 with value: 0.8987043849222213.\u001b[0m\n",
            "\u001b[32m[I 2023-01-15 10:42:51,604]\u001b[0m Trial 90 finished with value: 0.8957984527529993 and parameters: {'lambda_l1': 4.018790145932071e-05, 'lambda_l2': 0.0014291875964814135, 'num_leaves': 251, 'feature_fraction': 0.6594409141210893, 'bagging_fraction': 0.9160374704426405, 'bagging_freq': 1, 'min_child_samples': 12}. Best is trial 6 with value: 0.8987043849222213.\u001b[0m\n",
            "\u001b[32m[I 2023-01-15 10:42:57,083]\u001b[0m Trial 91 finished with value: 0.8937620699774275 and parameters: {'lambda_l1': 1.50688678661409e-06, 'lambda_l2': 0.0016512009963630138, 'num_leaves': 250, 'feature_fraction': 0.5439280355986106, 'bagging_fraction': 0.9149084468715066, 'bagging_freq': 1, 'min_child_samples': 12}. Best is trial 6 with value: 0.8987043849222213.\u001b[0m\n",
            "\u001b[32m[I 2023-01-15 10:43:00,471]\u001b[0m Trial 92 finished with value: 0.8938964365852561 and parameters: {'lambda_l1': 2.3729496835773536e-08, 'lambda_l2': 3.4780349510248314e-06, 'num_leaves': 216, 'feature_fraction': 0.5390183020137023, 'bagging_fraction': 0.9744198575823426, 'bagging_freq': 3, 'min_child_samples': 15}. Best is trial 6 with value: 0.8987043849222213.\u001b[0m\n",
            "\u001b[32m[I 2023-01-15 10:43:04,296]\u001b[0m Trial 94 finished with value: 0.8886838158906037 and parameters: {'lambda_l1': 4.080071797935051, 'lambda_l2': 1.0405114469949084e-06, 'num_leaves': 193, 'feature_fraction': 0.7398798900989059, 'bagging_fraction': 0.9996997242665707, 'bagging_freq': 2, 'min_child_samples': 27}. Best is trial 6 with value: 0.8987043849222213.\u001b[0m\n",
            "\u001b[32m[I 2023-01-15 10:43:05,363]\u001b[0m Trial 93 finished with value: 0.8943792275716559 and parameters: {'lambda_l1': 2.3744177149316038e-08, 'lambda_l2': 9.558175420937686e-07, 'num_leaves': 194, 'feature_fraction': 0.7407347889698701, 'bagging_fraction': 0.9487595660481559, 'bagging_freq': 3, 'min_child_samples': 26}. Best is trial 6 with value: 0.8987043849222213.\u001b[0m\n",
            "\u001b[32m[I 2023-01-15 10:43:08,583]\u001b[0m Trial 96 finished with value: 0.8930282958473068 and parameters: {'lambda_l1': 1.3754745240481066e-07, 'lambda_l2': 2.040509667188608, 'num_leaves': 51, 'feature_fraction': 0.7185698908059482, 'bagging_fraction': 0.9521131963236782, 'bagging_freq': 2, 'min_child_samples': 22}. Best is trial 6 with value: 0.8987043849222213.\u001b[0m\n",
            "\u001b[32m[I 2023-01-15 10:43:12,854]\u001b[0m Trial 95 finished with value: 0.89729896620206 and parameters: {'lambda_l1': 1.306064203356312e-07, 'lambda_l2': 2.0101141854837375e-05, 'num_leaves': 203, 'feature_fraction': 0.7160948714142809, 'bagging_fraction': 0.9470237919775911, 'bagging_freq': 3, 'min_child_samples': 26}. Best is trial 6 with value: 0.8987043849222213.\u001b[0m\n",
            "\u001b[32m[I 2023-01-15 10:43:16,042]\u001b[0m Trial 97 finished with value: 0.897204814414775 and parameters: {'lambda_l1': 8.370032650375345e-06, 'lambda_l2': 0.007738476216084955, 'num_leaves': 203, 'feature_fraction': 0.6200938663655318, 'bagging_fraction': 0.9723383517602051, 'bagging_freq': 5, 'min_child_samples': 30}. Best is trial 6 with value: 0.8987043849222213.\u001b[0m\n",
            "\u001b[32m[I 2023-01-15 10:43:19,713]\u001b[0m Trial 99 finished with value: 0.8904102674720233 and parameters: {'lambda_l1': 2.0951877859058436e-06, 'lambda_l2': 2.106611533862962e-07, 'num_leaves': 222, 'feature_fraction': 0.6715059025343019, 'bagging_fraction': 0.9342546467469922, 'bagging_freq': 2, 'min_child_samples': 74}. Best is trial 6 with value: 0.8987043849222213.\u001b[0m\n",
            "\u001b[32m[I 2023-01-15 10:43:20,054]\u001b[0m Trial 98 finished with value: 0.8962746955682287 and parameters: {'lambda_l1': 0.00016580399999196725, 'lambda_l2': 0.008074797775752806, 'num_leaves': 221, 'feature_fraction': 0.6462956916950081, 'bagging_fraction': 0.9743735620746229, 'bagging_freq': 5, 'min_child_samples': 29}. Best is trial 6 with value: 0.8987043849222213.\u001b[0m\n"
          ]
        },
        {
          "output_type": "execute_result",
          "data": {
            "text/plain": [
              "OptunaSearchCV(cv=3, estimator=LGBMClassifier(), n_jobs=-1, n_trials=100,\n",
              "               param_distributions={'bagging_fraction': FloatDistribution(high=1.0, log=False, low=0.4, step=None),\n",
              "                                    'bagging_freq': IntDistribution(high=7, log=False, low=1, step=1),\n",
              "                                    'feature_fraction': FloatDistribution(high=1.0, log=False, low=0.4, step=None),\n",
              "                                    'lambda_l1': FloatDistribution(high=10.0, log=True, low=1e-08, step=None),\n",
              "                                    'lambda_l2': FloatDistribution(high=10.0, log=True, low=1e-08, step=None),\n",
              "                                    'min_child_samples': IntDistribution(high=100, log=False, low=5, step=1),\n",
              "                                    'num_leaves': IntDistribution(high=256, log=False, low=2, step=1)},\n",
              "               scoring='f1')"
            ]
          },
          "metadata": {},
          "execution_count": 73
        }
      ]
    },
    {
      "cell_type": "code",
      "source": [
        "optuna_search.best_score_"
      ],
      "metadata": {
        "colab": {
          "base_uri": "https://localhost:8080/"
        },
        "id": "SdyzvSzpiaG4",
        "outputId": "72e0db6c-515b-446d-ea22-20d01fc21584"
      },
      "execution_count": 74,
      "outputs": [
        {
          "output_type": "execute_result",
          "data": {
            "text/plain": [
              "0.8987043849222213"
            ]
          },
          "metadata": {},
          "execution_count": 74
        }
      ]
    },
    {
      "cell_type": "markdown",
      "source": [
        "Получили высокое значение f1 для модели"
      ],
      "metadata": {
        "id": "fNNu86JmcXTj"
      }
    },
    {
      "cell_type": "code",
      "source": [
        "lgbm_best_params = optuna_search.best_params_"
      ],
      "metadata": {
        "id": "yYBQp2Kmj6Tp"
      },
      "execution_count": 75,
      "outputs": []
    },
    {
      "cell_type": "code",
      "source": [
        "lgbm_optuna = lgb.LGBMClassifier(random_state=42, **lgbm_best_params)"
      ],
      "metadata": {
        "id": "amUvjrn8eo-c"
      },
      "execution_count": 76,
      "outputs": []
    },
    {
      "cell_type": "code",
      "source": [
        "lgbm_optuna.fit(features_train,target_train)\n",
        "pred_lgbm = lgbm_optuna.predict(features_test)"
      ],
      "metadata": {
        "id": "K9NBVBVPepSg"
      },
      "execution_count": 77,
      "outputs": []
    },
    {
      "cell_type": "code",
      "source": [
        "print(classification_report(target_test, pred_rf))"
      ],
      "metadata": {
        "colab": {
          "base_uri": "https://localhost:8080/"
        },
        "outputId": "33ed7d6c-9a29-4bc5-9ad3-d5f610479a8a",
        "id": "7EwErh1repSg"
      },
      "execution_count": 78,
      "outputs": [
        {
          "output_type": "stream",
          "name": "stdout",
          "text": [
            "              precision    recall  f1-score   support\n",
            "\n",
            "           0       0.89      0.88      0.89      2036\n",
            "           1       0.88      0.89      0.88      1946\n",
            "\n",
            "    accuracy                           0.89      3982\n",
            "   macro avg       0.89      0.89      0.89      3982\n",
            "weighted avg       0.89      0.89      0.89      3982\n",
            "\n"
          ]
        }
      ]
    },
    {
      "cell_type": "code",
      "source": [
        "lgbm_accuracy = accuracy_score(target_test, pred_lgbm)\n",
        "lgbm_precision = precision_score(target_test, pred_lgbm)\n",
        "lgbm_recall = recall_score(target_test, pred_lgbm)\n",
        "lgbm_f1 = f1_score(target_test, pred_lgbm)"
      ],
      "metadata": {
        "id": "F5lhFCWVepSi"
      },
      "execution_count": 79,
      "outputs": []
    },
    {
      "cell_type": "code",
      "source": [
        "print(f'LightGBM \\n accuracy: {lgbm_accuracy} \\n precision: {lgbm_precision} \\n recall: {lgbm_recall} \\n f1: {lgbm_f1}')"
      ],
      "metadata": {
        "colab": {
          "base_uri": "https://localhost:8080/"
        },
        "outputId": "dcb964bb-d1c2-47ed-87cf-8c5176b54380",
        "id": "DBKQrnuUepSi"
      },
      "execution_count": 80,
      "outputs": [
        {
          "output_type": "stream",
          "name": "stdout",
          "text": [
            "LightGBM \n",
            " accuracy: 0.9033149171270718 \n",
            " precision: 0.917156600748263 \n",
            " recall: 0.881808838643371 \n",
            " f1: 0.8991354466858789\n"
          ]
        }
      ]
    },
    {
      "cell_type": "markdown",
      "source": [
        "Значение на тестовой выборке еще немного лучше"
      ],
      "metadata": {
        "id": "iVJShx-GjEAU"
      }
    },
    {
      "cell_type": "code",
      "source": [
        "confusion_matrix(target_test, pred_lgbm)\n",
        "\n",
        "\n",
        "cf_matrix_lgbm = confusion_matrix(target_test, pred_lgbm)\n",
        "print(cf_matrix_lgbm)\n",
        "\n",
        "ax = sns.heatmap(cf_matrix_lgbm/np.sum(cf_matrix_lgbm), annot=True, fmt='.2%', cmap='binary')\n",
        "ax.set_title('LightGBM\\n\\n');\n",
        "ax.set_xlabel('\\nPredicted Values')\n",
        "ax.set_ylabel('Actual Values ');\n",
        "\n",
        "ax.xaxis.set_ticklabels(['0','1'])\n",
        "ax.yaxis.set_ticklabels(['0','1'])\n",
        "\n",
        "plt.show()"
      ],
      "metadata": {
        "colab": {
          "base_uri": "https://localhost:8080/",
          "height": 380
        },
        "outputId": "d7dc80ae-46a3-4d90-fe88-6cd448e76315",
        "id": "or1fJtaxepSj"
      },
      "execution_count": 81,
      "outputs": [
        {
          "output_type": "stream",
          "name": "stdout",
          "text": [
            "[[1881  155]\n",
            " [ 230 1716]]\n"
          ]
        },
        {
          "output_type": "display_data",
          "data": {
            "text/plain": [
              "<Figure size 432x288 with 2 Axes>"
            ],
            "image/png": "[encoded data removed]"
          },
          "metadata": {}
        }
      ]
    },
    {
      "cell_type": "code",
      "source": [
        "lgbm_auc_score=roc_auc_score(target_test,lgbm_optuna.predict(features_test))\n",
        "fpr,tpr,thresholds=roc_curve(target_test,lgbm_optuna.predict_proba(features_test)[:,1])\n",
        "plt.figure(figsize=(10,7))\n",
        "plt.plot(fpr,tpr,label=\"AUC(Area=%0.2f)\"%lgbm_auc_score)\n",
        "plt.plot([0,1],\"r--\")\n",
        "plt.xlim([0.0,1.0])\n",
        "plt.ylim([0.0,1.05])\n",
        "plt.xlabel(\"False Positive\")\n",
        "plt.ylabel(\"True Positive\")\n",
        "plt.title(\"ROC LGBM\")\n",
        "plt.show()"
      ],
      "metadata": {
        "colab": {
          "base_uri": "https://localhost:8080/",
          "height": 464
        },
        "id": "sq7fei0aoDP8",
        "outputId": "c098e465-7d9a-4a24-a01e-89636128c27d"
      },
      "execution_count": 82,
      "outputs": [
        {
          "output_type": "display_data",
          "data": {
            "text/plain": [
              "<Figure size 720x504 with 1 Axes>"
            ],
            "image/png": "[encoded data removed]"
          },
          "metadata": {}
        }
      ]
    },
    {
      "cell_type": "markdown",
      "source": [
        "# Свод по моделям"
      ],
      "metadata": {
        "id": "J1S8tB-al3sL"
      }
    },
    {
      "cell_type": "code",
      "source": [
        "model_1 = {'accuracy': lr_accuracy.round(2),\n",
        "           'precision': lr_precision.round(2),\n",
        "           'recall': lr_recall.round(2),\n",
        "           'f1': lr_f1.round(2)}\n",
        "model_2 = {'accuracy': lgbm_accuracy.round(2),\n",
        "           'precision': lgbm_precision.round(2),\n",
        "           'recall': lgbm_recall.round(2),\n",
        "           'f1': lgbm_f1.round(2)}\n",
        "model_3 = {'accuracy': rf_accuracy.round(2),\n",
        "           'precision': rf_precision.round(2),\n",
        "           'recall': rf_recall.round(2),\n",
        "           'f1': rf_f1.round(2)}\n"
      ],
      "metadata": {
        "id": "3Fe9BIDeHAtM"
      },
      "execution_count": 83,
      "outputs": []
    },
    {
      "cell_type": "code",
      "source": [
        "Models = pd.DataFrame([model_1, model_2, model_3], \n",
        "                      index=['Logistic Regression', 'Random Forrest', 'LightGBM'])"
      ],
      "metadata": {
        "id": "1hKh5nVCmE0h"
      },
      "execution_count": 84,
      "outputs": []
    },
    {
      "cell_type": "code",
      "source": [
        "Models"
      ],
      "metadata": {
        "colab": {
          "base_uri": "https://localhost:8080/",
          "height": 142
        },
        "id": "MeYkWA8xmFmD",
        "outputId": "3ff4d625-645a-41a0-84af-c0b66e38baa0"
      },
      "execution_count": 85,
      "outputs": [
        {
          "output_type": "execute_result",
          "data": {
            "text/plain": [
              "                     accuracy  precision  recall    f1\n",
              "Logistic Regression      0.72       0.71    0.72  0.72\n",
              "Random Forrest           0.90       0.92    0.88  0.90\n",
              "LightGBM                 0.89       0.88    0.89  0.88"
            ],
            "text/html": [
              "\n",
              "  <div id=\"df-680a8153-ecbf-43c7-b455-f93168d5a6b8\">\n",
              "    <div class=\"colab-df-container\">\n",
              "      <div>\n",
              "<style scoped>\n",
              "    .dataframe tbody tr th:only-of-type {\n",
              "        vertical-align: middle;\n",
              "    }\n",
              "\n",
              "    .dataframe tbody tr th {\n",
              "        vertical-align: top;\n",
              "    }\n",
              "\n",
              "    .dataframe thead th {\n",
              "        text-align: right;\n",
              "    }\n",
              "</style>\n",
              "<table border=\"1\" class=\"dataframe\">\n",
              "  <thead>\n",
              "    <tr style=\"text-align: right;\">\n",
              "      <th></th>\n",
              "      <th>accuracy</th>\n",
              "      <th>precision</th>\n",
              "      <th>recall</th>\n",
              "      <th>f1</th>\n",
              "    </tr>\n",
              "  </thead>\n",
              "  <tbody>\n",
              "    <tr>\n",
              "      <th>Logistic Regression</th>\n",
              "      <td>0.72</td>\n",
              "      <td>0.71</td>\n",
              "      <td>0.72</td>\n",
              "      <td>0.72</td>\n",
              "    </tr>\n",
              "    <tr>\n",
              "      <th>Random Forrest</th>\n",
              "      <td>0.90</td>\n",
              "      <td>0.92</td>\n",
              "      <td>0.88</td>\n",
              "      <td>0.90</td>\n",
              "    </tr>\n",
              "    <tr>\n",
              "      <th>LightGBM</th>\n",
              "      <td>0.89</td>\n",
              "      <td>0.88</td>\n",
              "      <td>0.89</td>\n",
              "      <td>0.88</td>\n",
              "    </tr>\n",
              "  </tbody>\n",
              "</table>\n",
              "</div>\n",
              "      <button class=\"colab-df-convert\" onclick=\"convertToInteractive('df-680a8153-ecbf-43c7-b455-f93168d5a6b8')\"\n",
              "              title=\"Convert this dataframe to an interactive table.\"\n",
              "              style=\"display:none;\">\n",
              "        \n",
              "  <svg xmlns=\"http://www.w3.org/2000/svg\" height=\"24px\"viewBox=\"0 0 24 24\"\n",
              "       width=\"24px\">\n",
              "    <path d=\"M0 0h24v24H0V0z\" fill=\"none\"/>\n",
              "    <path d=\"M18.56 5.44l.94 2.06.94-2.06 2.06-.94-2.06-.94-.94-2.06-.94 2.06-2.06.94zm-11 1L8.5 8.5l.94-2.06 2.06-.94-2.06-.94L8.5 2.5l-.94 2.06-2.06.94zm10 10l.94 2.06.94-2.06 2.06-.94-2.06-.94-.94-2.06-.94 2.06-2.06.94z\"/><path d=\"M17.41 7.96l-1.37-1.37c-.4-.4-.92-.59-1.43-.59-.52 0-1.04.2-1.43.59L10.3 9.45l-7.72 7.72c-.78.78-.78 2.05 0 2.83L4 21.41c.39.39.9.59 1.41.59.51 0 1.02-.2 1.41-.59l7.78-7.78 2.81-2.81c.8-.78.8-2.07 0-2.86zM5.41 20L4 18.59l7.72-7.72 1.47 1.35L5.41 20z\"/>\n",
              "  </svg>\n",
              "      </button>\n",
              "      \n",
              "  <style>\n",
              "    .colab-df-container {\n",
              "      display:flex;\n",
              "      flex-wrap:wrap;\n",
              "      gap: 12px;\n",
              "    }\n",
              "\n",
              "    .colab-df-convert {\n",
              "      background-color: #E8F0FE;\n",
              "      border: none;\n",
              "      border-radius: 50%;\n",
              "      cursor: pointer;\n",
              "      display: none;\n",
              "      fill: #1967D2;\n",
              "      height: 32px;\n",
              "      padding: 0 0 0 0;\n",
              "      width: 32px;\n",
              "    }\n",
              "\n",
              "    .colab-df-convert:hover {\n",
              "      background-color: #E2EBFA;\n",
              "      box-shadow: 0px 1px 2px rgba(60, 64, 67, 0.3), 0px 1px 3px 1px rgba(60, 64, 67, 0.15);\n",
              "      fill: #174EA6;\n",
              "    }\n",
              "\n",
              "    [theme=dark] .colab-df-convert {\n",
              "      background-color: #3B4455;\n",
              "      fill: #D2E3FC;\n",
              "    }\n",
              "\n",
              "    [theme=dark] .colab-df-convert:hover {\n",
              "      background-color: #434B5C;\n",
              "      box-shadow: 0px 1px 3px 1px rgba(0, 0, 0, 0.15);\n",
              "      filter: drop-shadow(0px 1px 2px rgba(0, 0, 0, 0.3));\n",
              "      fill: #FFFFFF;\n",
              "    }\n",
              "  </style>\n",
              "\n",
              "      <script>\n",
              "        const buttonEl =\n",
              "          document.querySelector('#df-680a8153-ecbf-43c7-b455-f93168d5a6b8 button.colab-df-convert');\n",
              "        buttonEl.style.display =\n",
              "          google.colab.kernel.accessAllowed ? 'block' : 'none';\n",
              "\n",
              "        async function convertToInteractive(key) {\n",
              "          const element = document.querySelector('#df-680a8153-ecbf-43c7-b455-f93168d5a6b8');\n",
              "          const dataTable =\n",
              "            await google.colab.kernel.invokeFunction('convertToInteractive',\n",
              "                                                     [key], {});\n",
              "          if (!dataTable) return;\n",
              "\n",
              "          const docLinkHtml = 'Like what you see? Visit the ' +\n",
              "            '<a target=\"_blank\" href=https://colab.research.google.com/notebooks/data_table.ipynb>data table notebook</a>'\n",
              "            + ' to learn more about interactive tables.';\n",
              "          element.innerHTML = '';\n",
              "          dataTable['output_type'] = 'display_data';\n",
              "          await google.colab.output.renderOutput(dataTable, element);\n",
              "          const docLink = document.createElement('div');\n",
              "          docLink.innerHTML = docLinkHtml;\n",
              "          element.appendChild(docLink);\n",
              "        }\n",
              "      </script>\n",
              "    </div>\n",
              "  </div>\n",
              "  "
            ]
          },
          "metadata": {},
          "execution_count": 85
        }
      ]
    },
    {
      "cell_type": "markdown",
      "source": [
        "# ВЫВОД"
      ],
      "metadata": {
        "id": "PazzFhDucor5"
      }
    },
    {
      "cell_type": "markdown",
      "source": [
        "Мы обучили три модели с подбором гиперпараметров двумя способами optuna и GridSearchCV. Optuna показала себя лучше. Лучшая модель среди всех оказалась RandomForrest по всем метрикам."
      ],
      "metadata": {
        "id": "jMM4dEiyctgf"
      }
    }
  ]
}