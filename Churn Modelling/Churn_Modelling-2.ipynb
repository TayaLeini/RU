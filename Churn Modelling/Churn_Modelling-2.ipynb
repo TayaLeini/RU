{
  "nbformat": 4,
  "nbformat_minor": 0,
  "metadata": {
    "colab": {
      "provenance": []
    },
    "kernelspec": {
      "name": "python3",
      "display_name": "Python 3"
    },
    "language_info": {
      "name": "python"
    }
  },
  "cells": [
    {
      "cell_type": "markdown",
      "source": [
        "# ОПИСАНИЕ ДАННЫХ"
      ],
      "metadata": {
        "id": "AyEvIdbU-ZFG"
      }
    },
    {
      "cell_type": "markdown",
      "source": [
        "Банки стремятся удержать как можно больше активных клиентов. Естественно, им любопытно узнать, удовлетворяются ли потребности их клиентской базы и планируют ли их клиенты покинуть компанию. Если банк подозревает, что его клиент потенциально может склониться к другой компании, банк может принять меры, чтобы убедить клиента остаться (целевая маркетинговая кампания, более личное отношение и т. д.).\n",
        "\n",
        "Цель этой записной книжки — найти наиболее точную и точную модель для прогнозирования того, какие клиенты (тестовые данные) останутся, а какие колеблются и могут планировать покинуть компанию. Мы используем набор данных клиентов банка (10000 строк) с атрибутами, указанными ниже."
      ],
      "metadata": {
        "id": "ER4LdeNz-d3v"
      }
    },
    {
      "cell_type": "markdown",
      "source": [
        "Набор данных имеет следующие атрибуты:\n",
        "\n",
        "* Rownumber: уникальный идентификатор для каждой строки.  \n",
        "* CustomerID: уникальный идентификатор для каждого клиента  \n",
        "* Surname: фамилия клиента  \n",
        "* CreditScore: кредитный рейтинг клиента  \n",
        "* Geography: Страна происхождения клиента  \n",
        "* Gender: Пол клиента  \n",
        "* Age: Возраст клиента  \n",
        "* Tenure: количество лет, в течение которых клиент работал в банке.  \n",
        "* Balance: Баланс клиента на счете  \n",
        "* NumOfProducts: количество продуктов клиента.  \n",
        "* HasCrCard: Отметьте, есть ли у клиента кредитная карта или нет  \n",
        "* IsActiveMember: отметьте, является ли клиент активным членом банка или нет  \n",
        "* EstimatedSalary: ориентировочная годовая зарплата клиента в евро.  \n",
        "* Exited: целевая переменная, флаг, покинул ли клиент банк или нет  "
      ],
      "metadata": {
        "id": "WsGjWpvD-gEw"
      }
    },
    {
      "cell_type": "markdown",
      "source": [
        "#ИССЛЕДУЕМ ДАННЫЕ"
      ],
      "metadata": {
        "id": "JVJIVVbXE7dj"
      }
    },
    {
      "cell_type": "code",
      "execution_count": 1,
      "metadata": {
        "id": "DHJqO-yBnGU6",
        "colab": {
          "base_uri": "https://localhost:8080/"
        },
        "outputId": "65e1fdf7-633f-41bf-b00f-c3fe104d6a69"
      },
      "outputs": [
        {
          "output_type": "stream",
          "name": "stdout",
          "text": [
            "Mounted at /content/gdrive\n"
          ]
        }
      ],
      "source": [
        "from google.colab import drive\n",
        "drive.mount('/content/gdrive')"
      ]
    },
    {
      "cell_type": "code",
      "source": [
        "pip install --q catboost"
      ],
      "metadata": {
        "id": "E-FBGkbTQ0qp",
        "colab": {
          "base_uri": "https://localhost:8080/"
        },
        "outputId": "3ab67e09-f887-4cb4-f3e7-6fa4728443d3"
      },
      "execution_count": 2,
      "outputs": [
        {
          "output_type": "stream",
          "name": "stdout",
          "text": [
            "\u001b[2K     \u001b[90m━━━━━━━━━━━━━━━━━━━━━━━━━━━━━━━━━━━━━━━━\u001b[0m \u001b[32m76.6/76.6 MB\u001b[0m \u001b[31m8.6 MB/s\u001b[0m eta \u001b[36m0:00:00\u001b[0m\n",
            "\u001b[?25h"
          ]
        }
      ]
    },
    {
      "cell_type": "code",
      "source": [
        "import lightgbm as lgb\n",
        "import matplotlib.pyplot as plt\n",
        "import numpy as np\n",
        "import pandas as pd\n",
        "import plotly.express as px\n",
        "import plotly.graph_objects as go\n",
        "import seaborn as sns\n",
        "import xgboost as xgb\n",
        "from catboost import CatBoostClassifier\n",
        "from imblearn.over_sampling  import SMOTE\n",
        "from sklearn.ensemble import RandomForestClassifier\n",
        "from sklearn.linear_model import LogisticRegression\n",
        "from sklearn.metrics import accuracy_score\n",
        "from sklearn.metrics import classification_report\n",
        "from sklearn.metrics import confusion_matrix\n",
        "from sklearn.metrics import f1_score\n",
        "from sklearn.metrics import f1_score\n",
        "from sklearn.metrics import fbeta_score, make_scorer\n",
        "from sklearn.metrics import precision_score\n",
        "from sklearn.metrics import recall_score\n",
        "from sklearn.metrics import roc_auc_score\n",
        "from sklearn.metrics import roc_curve\n",
        "from sklearn.model_selection import GridSearchCV\n",
        "from sklearn.model_selection import StratifiedKFold\n",
        "from sklearn.model_selection import cross_val_score\n",
        "from sklearn.model_selection import cross_validate\n",
        "from sklearn.model_selection import train_test_split\n",
        "from sklearn.preprocessing import OrdinalEncoder\n",
        "from sklearn.preprocessing import StandardScaler"
      ],
      "metadata": {
        "id": "dw0GUO9mqEks"
      },
      "execution_count": 3,
      "outputs": []
    },
    {
      "cell_type": "code",
      "source": [
        "df = pd.read_csv('/content/gdrive/MyDrive/Colab Notebooks/Churn_Modelling.csv')"
      ],
      "metadata": {
        "id": "Y1BuNNxhpwmK"
      },
      "execution_count": 4,
      "outputs": []
    },
    {
      "cell_type": "code",
      "source": [
        "df.info()\n",
        "df.head()"
      ],
      "metadata": {
        "id": "Yo-W1h8eqJ-L",
        "colab": {
          "base_uri": "https://localhost:8080/",
          "height": 605
        },
        "outputId": "1d78fa69-e317-4e30-ee4c-f99231e46c00"
      },
      "execution_count": 5,
      "outputs": [
        {
          "output_type": "stream",
          "name": "stdout",
          "text": [
            "<class 'pandas.core.frame.DataFrame'>\n",
            "RangeIndex: 10000 entries, 0 to 9999\n",
            "Data columns (total 14 columns):\n",
            " #   Column           Non-Null Count  Dtype  \n",
            "---  ------           --------------  -----  \n",
            " 0   RowNumber        10000 non-null  int64  \n",
            " 1   CustomerId       10000 non-null  int64  \n",
            " 2   Surname          10000 non-null  object \n",
            " 3   CreditScore      10000 non-null  int64  \n",
            " 4   Geography        10000 non-null  object \n",
            " 5   Gender           10000 non-null  object \n",
            " 6   Age              10000 non-null  int64  \n",
            " 7   Tenure           10000 non-null  int64  \n",
            " 8   Balance          10000 non-null  float64\n",
            " 9   NumOfProducts    10000 non-null  int64  \n",
            " 10  HasCrCard        10000 non-null  int64  \n",
            " 11  IsActiveMember   10000 non-null  int64  \n",
            " 12  EstimatedSalary  10000 non-null  float64\n",
            " 13  Exited           10000 non-null  int64  \n",
            "dtypes: float64(2), int64(9), object(3)\n",
            "memory usage: 1.1+ MB\n"
          ]
        },
        {
          "output_type": "execute_result",
          "data": {
            "text/plain": [
              "   RowNumber  CustomerId   Surname  CreditScore Geography  Gender  Age  \\\n",
              "0          1    15634602  Hargrave          619    France  Female   42   \n",
              "1          2    15647311      Hill          608     Spain  Female   41   \n",
              "2          3    15619304      Onio          502    France  Female   42   \n",
              "3          4    15701354      Boni          699    France  Female   39   \n",
              "4          5    15737888  Mitchell          850     Spain  Female   43   \n",
              "\n",
              "   Tenure    Balance  NumOfProducts  HasCrCard  IsActiveMember  \\\n",
              "0       2       0.00              1          1               1   \n",
              "1       1   83807.86              1          0               1   \n",
              "2       8  159660.80              3          1               0   \n",
              "3       1       0.00              2          0               0   \n",
              "4       2  125510.82              1          1               1   \n",
              "\n",
              "   EstimatedSalary  Exited  \n",
              "0        101348.88       1  \n",
              "1        112542.58       0  \n",
              "2        113931.57       1  \n",
              "3         93826.63       0  \n",
              "4         79084.10       0  "
            ],
            "text/html": [
              "\n",
              "  <div id=\"df-0c20c21b-d488-4508-bcb8-7d942d3d59e5\">\n",
              "    <div class=\"colab-df-container\">\n",
              "      <div>\n",
              "<style scoped>\n",
              "    .dataframe tbody tr th:only-of-type {\n",
              "        vertical-align: middle;\n",
              "    }\n",
              "\n",
              "    .dataframe tbody tr th {\n",
              "        vertical-align: top;\n",
              "    }\n",
              "\n",
              "    .dataframe thead th {\n",
              "        text-align: right;\n",
              "    }\n",
              "</style>\n",
              "<table border=\"1\" class=\"dataframe\">\n",
              "  <thead>\n",
              "    <tr style=\"text-align: right;\">\n",
              "      <th></th>\n",
              "      <th>RowNumber</th>\n",
              "      <th>CustomerId</th>\n",
              "      <th>Surname</th>\n",
              "      <th>CreditScore</th>\n",
              "      <th>Geography</th>\n",
              "      <th>Gender</th>\n",
              "      <th>Age</th>\n",
              "      <th>Tenure</th>\n",
              "      <th>Balance</th>\n",
              "      <th>NumOfProducts</th>\n",
              "      <th>HasCrCard</th>\n",
              "      <th>IsActiveMember</th>\n",
              "      <th>EstimatedSalary</th>\n",
              "      <th>Exited</th>\n",
              "    </tr>\n",
              "  </thead>\n",
              "  <tbody>\n",
              "    <tr>\n",
              "      <th>0</th>\n",
              "      <td>1</td>\n",
              "      <td>15634602</td>\n",
              "      <td>Hargrave</td>\n",
              "      <td>619</td>\n",
              "      <td>France</td>\n",
              "      <td>Female</td>\n",
              "      <td>42</td>\n",
              "      <td>2</td>\n",
              "      <td>0.00</td>\n",
              "      <td>1</td>\n",
              "      <td>1</td>\n",
              "      <td>1</td>\n",
              "      <td>101348.88</td>\n",
              "      <td>1</td>\n",
              "    </tr>\n",
              "    <tr>\n",
              "      <th>1</th>\n",
              "      <td>2</td>\n",
              "      <td>15647311</td>\n",
              "      <td>Hill</td>\n",
              "      <td>608</td>\n",
              "      <td>Spain</td>\n",
              "      <td>Female</td>\n",
              "      <td>41</td>\n",
              "      <td>1</td>\n",
              "      <td>83807.86</td>\n",
              "      <td>1</td>\n",
              "      <td>0</td>\n",
              "      <td>1</td>\n",
              "      <td>112542.58</td>\n",
              "      <td>0</td>\n",
              "    </tr>\n",
              "    <tr>\n",
              "      <th>2</th>\n",
              "      <td>3</td>\n",
              "      <td>15619304</td>\n",
              "      <td>Onio</td>\n",
              "      <td>502</td>\n",
              "      <td>France</td>\n",
              "      <td>Female</td>\n",
              "      <td>42</td>\n",
              "      <td>8</td>\n",
              "      <td>159660.80</td>\n",
              "      <td>3</td>\n",
              "      <td>1</td>\n",
              "      <td>0</td>\n",
              "      <td>113931.57</td>\n",
              "      <td>1</td>\n",
              "    </tr>\n",
              "    <tr>\n",
              "      <th>3</th>\n",
              "      <td>4</td>\n",
              "      <td>15701354</td>\n",
              "      <td>Boni</td>\n",
              "      <td>699</td>\n",
              "      <td>France</td>\n",
              "      <td>Female</td>\n",
              "      <td>39</td>\n",
              "      <td>1</td>\n",
              "      <td>0.00</td>\n",
              "      <td>2</td>\n",
              "      <td>0</td>\n",
              "      <td>0</td>\n",
              "      <td>93826.63</td>\n",
              "      <td>0</td>\n",
              "    </tr>\n",
              "    <tr>\n",
              "      <th>4</th>\n",
              "      <td>5</td>\n",
              "      <td>15737888</td>\n",
              "      <td>Mitchell</td>\n",
              "      <td>850</td>\n",
              "      <td>Spain</td>\n",
              "      <td>Female</td>\n",
              "      <td>43</td>\n",
              "      <td>2</td>\n",
              "      <td>125510.82</td>\n",
              "      <td>1</td>\n",
              "      <td>1</td>\n",
              "      <td>1</td>\n",
              "      <td>79084.10</td>\n",
              "      <td>0</td>\n",
              "    </tr>\n",
              "  </tbody>\n",
              "</table>\n",
              "</div>\n",
              "      <button class=\"colab-df-convert\" onclick=\"convertToInteractive('df-0c20c21b-d488-4508-bcb8-7d942d3d59e5')\"\n",
              "              title=\"Convert this dataframe to an interactive table.\"\n",
              "              style=\"display:none;\">\n",
              "        \n",
              "  <svg xmlns=\"http://www.w3.org/2000/svg\" height=\"24px\"viewBox=\"0 0 24 24\"\n",
              "       width=\"24px\">\n",
              "    <path d=\"M0 0h24v24H0V0z\" fill=\"none\"/>\n",
              "    <path d=\"M18.56 5.44l.94 2.06.94-2.06 2.06-.94-2.06-.94-.94-2.06-.94 2.06-2.06.94zm-11 1L8.5 8.5l.94-2.06 2.06-.94-2.06-.94L8.5 2.5l-.94 2.06-2.06.94zm10 10l.94 2.06.94-2.06 2.06-.94-2.06-.94-.94-2.06-.94 2.06-2.06.94z\"/><path d=\"M17.41 7.96l-1.37-1.37c-.4-.4-.92-.59-1.43-.59-.52 0-1.04.2-1.43.59L10.3 9.45l-7.72 7.72c-.78.78-.78 2.05 0 2.83L4 21.41c.39.39.9.59 1.41.59.51 0 1.02-.2 1.41-.59l7.78-7.78 2.81-2.81c.8-.78.8-2.07 0-2.86zM5.41 20L4 18.59l7.72-7.72 1.47 1.35L5.41 20z\"/>\n",
              "  </svg>\n",
              "      </button>\n",
              "      \n",
              "  <style>\n",
              "    .colab-df-container {\n",
              "      display:flex;\n",
              "      flex-wrap:wrap;\n",
              "      gap: 12px;\n",
              "    }\n",
              "\n",
              "    .colab-df-convert {\n",
              "      background-color: #E8F0FE;\n",
              "      border: none;\n",
              "      border-radius: 50%;\n",
              "      cursor: pointer;\n",
              "      display: none;\n",
              "      fill: #1967D2;\n",
              "      height: 32px;\n",
              "      padding: 0 0 0 0;\n",
              "      width: 32px;\n",
              "    }\n",
              "\n",
              "    .colab-df-convert:hover {\n",
              "      background-color: #E2EBFA;\n",
              "      box-shadow: 0px 1px 2px rgba(60, 64, 67, 0.3), 0px 1px 3px 1px rgba(60, 64, 67, 0.15);\n",
              "      fill: #174EA6;\n",
              "    }\n",
              "\n",
              "    [theme=dark] .colab-df-convert {\n",
              "      background-color: #3B4455;\n",
              "      fill: #D2E3FC;\n",
              "    }\n",
              "\n",
              "    [theme=dark] .colab-df-convert:hover {\n",
              "      background-color: #434B5C;\n",
              "      box-shadow: 0px 1px 3px 1px rgba(0, 0, 0, 0.15);\n",
              "      filter: drop-shadow(0px 1px 2px rgba(0, 0, 0, 0.3));\n",
              "      fill: #FFFFFF;\n",
              "    }\n",
              "  </style>\n",
              "\n",
              "      <script>\n",
              "        const buttonEl =\n",
              "          document.querySelector('#df-0c20c21b-d488-4508-bcb8-7d942d3d59e5 button.colab-df-convert');\n",
              "        buttonEl.style.display =\n",
              "          google.colab.kernel.accessAllowed ? 'block' : 'none';\n",
              "\n",
              "        async function convertToInteractive(key) {\n",
              "          const element = document.querySelector('#df-0c20c21b-d488-4508-bcb8-7d942d3d59e5');\n",
              "          const dataTable =\n",
              "            await google.colab.kernel.invokeFunction('convertToInteractive',\n",
              "                                                     [key], {});\n",
              "          if (!dataTable) return;\n",
              "\n",
              "          const docLinkHtml = 'Like what you see? Visit the ' +\n",
              "            '<a target=\"_blank\" href=https://colab.research.google.com/notebooks/data_table.ipynb>data table notebook</a>'\n",
              "            + ' to learn more about interactive tables.';\n",
              "          element.innerHTML = '';\n",
              "          dataTable['output_type'] = 'display_data';\n",
              "          await google.colab.output.renderOutput(dataTable, element);\n",
              "          const docLink = document.createElement('div');\n",
              "          docLink.innerHTML = docLinkHtml;\n",
              "          element.appendChild(docLink);\n",
              "        }\n",
              "      </script>\n",
              "    </div>\n",
              "  </div>\n",
              "  "
            ]
          },
          "metadata": {},
          "execution_count": 5
        }
      ]
    },
    {
      "cell_type": "code",
      "source": [
        "pip install --q phik"
      ],
      "metadata": {
        "id": "POo-fmY4qMmc",
        "colab": {
          "base_uri": "https://localhost:8080/"
        },
        "outputId": "787a2012-5990-429a-a457-552a11b88796"
      },
      "execution_count": 6,
      "outputs": [
        {
          "output_type": "stream",
          "name": "stdout",
          "text": [
            "\u001b[?25l     \u001b[90m━━━━━━━━━━━━━━━━━━━━━━━━━━━━━━━━━━━━━━━━\u001b[0m \u001b[32m0.0/679.5 KB\u001b[0m \u001b[31m?\u001b[0m eta \u001b[36m-:--:--\u001b[0m\r\u001b[2K     \u001b[90m━━━━━━━━━━━━━━━━━━━━━━━━━━━━━━━━━━━━━━\u001b[0m \u001b[32m679.5/679.5 KB\u001b[0m \u001b[31m26.6 MB/s\u001b[0m eta \u001b[36m0:00:00\u001b[0m\n",
            "\u001b[?25h"
          ]
        }
      ]
    },
    {
      "cell_type": "code",
      "source": [
        "import phik\n",
        "from phik.report import plot_correlation_matrix\n",
        "from phik import report"
      ],
      "metadata": {
        "id": "oAgPPtOuq-9w"
      },
      "execution_count": 7,
      "outputs": []
    },
    {
      "cell_type": "markdown",
      "source": [
        "## ИССЛЕДУЕМ ВАЖНОСТЬ ПАРАМЕТРОВ"
      ],
      "metadata": {
        "id": "VQnxQp2pFHko"
      }
    },
    {
      "cell_type": "code",
      "source": [
        "phik_overview = df.phik_matrix()\n",
        "phik_overview['Exited'].round(2).sort_values()"
      ],
      "metadata": {
        "id": "X1lAsiR_rVKB",
        "colab": {
          "base_uri": "https://localhost:8080/"
        },
        "outputId": "e511d333-b473-443e-a1cb-0eb82065d611"
      },
      "execution_count": 8,
      "outputs": [
        {
          "output_type": "stream",
          "name": "stdout",
          "text": [
            "interval columns not set, guessing: ['RowNumber', 'CustomerId', 'CreditScore', 'Age', 'Tenure', 'Balance', 'NumOfProducts', 'HasCrCard', 'IsActiveMember', 'EstimatedSalary', 'Exited']\n"
          ]
        },
        {
          "output_type": "stream",
          "name": "stderr",
          "text": [
            "/usr/local/lib/python3.8/dist-packages/phik/data_quality.py:59: UserWarning: The number of unique values of variable Surname is large: 2932. Are you sure this is not an interval variable? Analysis for pairs of variables including Surname can be slow.\n",
            "  warnings.warn(\n"
          ]
        },
        {
          "output_type": "execute_result",
          "data": {
            "text/plain": [
              "RowNumber          0.00\n",
              "Surname            0.00\n",
              "HasCrCard          0.00\n",
              "EstimatedSalary    0.00\n",
              "Tenure             0.02\n",
              "CustomerId         0.03\n",
              "CreditScore        0.10\n",
              "Geography          0.10\n",
              "Gender             0.17\n",
              "Balance            0.18\n",
              "IsActiveMember     0.24\n",
              "Age                0.49\n",
              "NumOfProducts      0.57\n",
              "Exited             1.00\n",
              "Name: Exited, dtype: float64"
            ]
          },
          "metadata": {},
          "execution_count": 8
        }
      ]
    },
    {
      "cell_type": "markdown",
      "source": [
        "## Определим наличие дубликатов"
      ],
      "metadata": {
        "id": "EFKprbc2FZld"
      }
    },
    {
      "cell_type": "code",
      "source": [
        "df.duplicated().sum()"
      ],
      "metadata": {
        "id": "Djn2ligqsqKT",
        "colab": {
          "base_uri": "https://localhost:8080/"
        },
        "outputId": "aff871d8-f3b7-42ee-da91-329a37b39679"
      },
      "execution_count": 9,
      "outputs": [
        {
          "output_type": "execute_result",
          "data": {
            "text/plain": [
              "0"
            ]
          },
          "metadata": {},
          "execution_count": 9
        }
      ]
    },
    {
      "cell_type": "code",
      "source": [
        "df = df.drop(['RowNumber','Surname','CustomerId'], axis=1)"
      ],
      "metadata": {
        "id": "NdNigoFVtsw6"
      },
      "execution_count": 10,
      "outputs": []
    },
    {
      "cell_type": "markdown",
      "source": [
        "## Посмотрим баланс классов на целевой выборке"
      ],
      "metadata": {
        "id": "UREgAecbFex3"
      }
    },
    {
      "cell_type": "code",
      "source": [
        "df['Exited'].value_counts(normalize=True)"
      ],
      "metadata": {
        "id": "6Gr4JUVJt_Uk",
        "colab": {
          "base_uri": "https://localhost:8080/"
        },
        "outputId": "f128929e-d6e5-4059-9ed5-3521df3fc229"
      },
      "execution_count": 11,
      "outputs": [
        {
          "output_type": "execute_result",
          "data": {
            "text/plain": [
              "0    0.7963\n",
              "1    0.2037\n",
              "Name: Exited, dtype: float64"
            ]
          },
          "metadata": {},
          "execution_count": 11
        }
      ]
    },
    {
      "cell_type": "markdown",
      "source": [
        "## Исследуем важные параметры"
      ],
      "metadata": {
        "id": "mOXN3Pj_Fkck"
      }
    },
    {
      "cell_type": "code",
      "source": [
        "df['NumOfProducts'].value_counts()"
      ],
      "metadata": {
        "id": "hy8AQ3yqsZqZ",
        "colab": {
          "base_uri": "https://localhost:8080/"
        },
        "outputId": "c88bc061-cb5e-4081-afe5-d76c6aa0f2e9"
      },
      "execution_count": 12,
      "outputs": [
        {
          "output_type": "execute_result",
          "data": {
            "text/plain": [
              "1    5084\n",
              "2    4590\n",
              "3     266\n",
              "4      60\n",
              "Name: NumOfProducts, dtype: int64"
            ]
          },
          "metadata": {},
          "execution_count": 12
        }
      ]
    },
    {
      "cell_type": "code",
      "source": [
        "df.groupby(['Exited','NumOfProducts'])['NumOfProducts'].count()"
      ],
      "metadata": {
        "id": "6JkkZ6HkuIuq",
        "colab": {
          "base_uri": "https://localhost:8080/"
        },
        "outputId": "c476289d-1b5f-48bc-ea19-f550411c83d2"
      },
      "execution_count": 13,
      "outputs": [
        {
          "output_type": "execute_result",
          "data": {
            "text/plain": [
              "Exited  NumOfProducts\n",
              "0       1                3675\n",
              "        2                4242\n",
              "        3                  46\n",
              "1       1                1409\n",
              "        2                 348\n",
              "        3                 220\n",
              "        4                  60\n",
              "Name: NumOfProducts, dtype: int64"
            ]
          },
          "metadata": {},
          "execution_count": 13
        }
      ]
    },
    {
      "cell_type": "code",
      "source": [
        "palette_features = ['#E56B51', '#409996']\n",
        "sns.set(rc={'axes.facecolor':'lightgray'}) #background color of all plots\n",
        "\n",
        "plt.figure(figsize=(12,6.5)) \n",
        "plt.title('NumOfProducts', fontsize=15, fontweight='bold', fontname='DejaVu Sans', ha='center')\n",
        "ax = sns.countplot(data = df, x = 'NumOfProducts', hue = 'Exited', palette=palette_features)"
      ],
      "metadata": {
        "id": "RMTbnwQKGlzx",
        "colab": {
          "base_uri": "https://localhost:8080/",
          "height": 439
        },
        "outputId": "d31e9ecf-bdde-4afd-a79c-49592799c086"
      },
      "execution_count": 14,
      "outputs": [
        {
          "output_type": "display_data",
          "data": {
            "text/plain": [
              "<Figure size 864x468 with 1 Axes>"
            ],
            "image/png": "[encoded data removed]"
          },
          "metadata": {}
        }
      ]
    },
    {
      "cell_type": "markdown",
      "source": [
        "Здесь видно, что клиенты кто остался имеют два продукта в банке"
      ],
      "metadata": {
        "id": "7IiS3WoyFwUq"
      }
    },
    {
      "cell_type": "code",
      "source": [
        "plt.figure(figsize=(8,8))\n",
        "df.NumOfProducts.hist()\n",
        "plt.xlabel('Number of products')\n",
        "plt.ylabel('Count')\n",
        "plt.title(r'Histogram Number of products distribution')\n",
        "plt.show()"
      ],
      "metadata": {
        "id": "FTZlp2qUwj9Q",
        "colab": {
          "base_uri": "https://localhost:8080/",
          "height": 518
        },
        "outputId": "bd44877d-1b22-419b-99de-9e0300f610a3"
      },
      "execution_count": 15,
      "outputs": [
        {
          "output_type": "display_data",
          "data": {
            "text/plain": [
              "<Figure size 576x576 with 1 Axes>"
            ],
            "image/png": "[encoded data removed]"
          },
          "metadata": {}
        }
      ]
    },
    {
      "cell_type": "code",
      "source": [
        "df.groupby(['Exited','HasCrCard'])['HasCrCard'].count()"
      ],
      "metadata": {
        "id": "1ieRiIuawqxn",
        "colab": {
          "base_uri": "https://localhost:8080/"
        },
        "outputId": "4aadb94a-ad0a-47b4-cfab-bb7d870322d9"
      },
      "execution_count": 16,
      "outputs": [
        {
          "output_type": "execute_result",
          "data": {
            "text/plain": [
              "Exited  HasCrCard\n",
              "0       0            2332\n",
              "        1            5631\n",
              "1       0             613\n",
              "        1            1424\n",
              "Name: HasCrCard, dtype: int64"
            ]
          },
          "metadata": {},
          "execution_count": 16
        }
      ]
    },
    {
      "cell_type": "code",
      "source": [
        "palette_features = ['#E56B51', '#409996']\n",
        "sns.set(rc={'axes.facecolor':'lightgray'}) #background color of all plots\n",
        "\n",
        "plt.figure(figsize=(12,6.5)) \n",
        "plt.title('Has Credit Card', fontsize=15, fontweight='bold', fontname='DejaVu Sans', ha='center')\n",
        "ax = sns.countplot(data = df, x = 'HasCrCard', hue = 'Exited', palette=palette_features)"
      ],
      "metadata": {
        "id": "micTHm0aHHKe",
        "colab": {
          "base_uri": "https://localhost:8080/",
          "height": 439
        },
        "outputId": "159b1420-1083-43f3-913c-a944878eb7a5"
      },
      "execution_count": 17,
      "outputs": [
        {
          "output_type": "display_data",
          "data": {
            "text/plain": [
              "<Figure size 864x468 with 1 Axes>"
            ],
            "image/png": "[encoded data removed]"
          },
          "metadata": {}
        }
      ]
    },
    {
      "cell_type": "markdown",
      "source": [
        "Видно, что количество клиентов ушедших имели меньше кредитных карт"
      ],
      "metadata": {
        "id": "VuPLGizxGKU-"
      }
    },
    {
      "cell_type": "code",
      "source": [
        "df.groupby(['Exited','IsActiveMember'])['IsActiveMember'].count()"
      ],
      "metadata": {
        "id": "BT4zjzNjwyBm",
        "colab": {
          "base_uri": "https://localhost:8080/"
        },
        "outputId": "0f4fa05d-9d45-40e9-8806-405a2a568e4f"
      },
      "execution_count": 18,
      "outputs": [
        {
          "output_type": "execute_result",
          "data": {
            "text/plain": [
              "Exited  IsActiveMember\n",
              "0       0                 3547\n",
              "        1                 4416\n",
              "1       0                 1302\n",
              "        1                  735\n",
              "Name: IsActiveMember, dtype: int64"
            ]
          },
          "metadata": {},
          "execution_count": 18
        }
      ]
    },
    {
      "cell_type": "code",
      "source": [
        "palette_features = ['#E56B51', '#409996']\n",
        "sns.set(rc={'axes.facecolor':'lightgray'}) #background color of all plots\n",
        "\n",
        "plt.figure(figsize=(12,6.5)) \n",
        "plt.title('Is Active Member', fontsize=15, fontweight='bold', fontname='DejaVu Sans', ha='center')\n",
        "ax = sns.countplot(data = df, x = 'IsActiveMember', hue = 'Exited', palette=palette_features)"
      ],
      "metadata": {
        "id": "ze7O7_BDHg-S",
        "colab": {
          "base_uri": "https://localhost:8080/",
          "height": 439
        },
        "outputId": "6ba8781e-3789-4494-898b-81a55463d396"
      },
      "execution_count": 19,
      "outputs": [
        {
          "output_type": "display_data",
          "data": {
            "text/plain": [
              "<Figure size 864x468 with 1 Axes>"
            ],
            "image/png": "[encoded data removed]"
          },
          "metadata": {}
        }
      ]
    },
    {
      "cell_type": "code",
      "source": [
        "plt.figure(figsize=(8,6.5))\n",
        "plt.title('Boxplot Estimated Salary', fontsize=15, fontweight='bold', fontname='DejaVu Sans', ha='center')\n",
        "sns.boxplot(data = df, y=\"EstimatedSalary\")\n",
        "plt.show()"
      ],
      "metadata": {
        "colab": {
          "base_uri": "https://localhost:8080/",
          "height": 402
        },
        "id": "wCI3V8NyV3IC",
        "outputId": "5706fa9a-d70c-405f-f108-add384521a14"
      },
      "execution_count": 20,
      "outputs": [
        {
          "output_type": "display_data",
          "data": {
            "text/plain": [
              "<Figure size 576x468 with 1 Axes>"
            ],
            "image/png": "[encoded data removed]"
          },
          "metadata": {}
        }
      ]
    },
    {
      "cell_type": "code",
      "source": [
        "fig, ax = plt.subplots(figsize =(8, 9))\n",
        "ax.pie(df['Geography'].value_counts(), labels=df['Geography'].value_counts().index, autopct='%1.1f%%',\n",
        "        shadow=True, startangle=90, pctdistance=0.8,labeldistance=0.1, rotatelabels=True,textprops={'fontsize': 14},radius=1.1)\n",
        "plt.title('Pie chart of clients Geography', fontsize=15, fontweight='bold', fontname='DejaVu Sans', ha='center')\n",
        "plt.show()"
      ],
      "metadata": {
        "colab": {
          "base_uri": "https://localhost:8080/",
          "height": 495
        },
        "id": "L-xixzzeWGJc",
        "outputId": "be64e2b9-13f3-40cc-85a3-bfb8eaa9643b"
      },
      "execution_count": 21,
      "outputs": [
        {
          "output_type": "display_data",
          "data": {
            "text/plain": [
              "<Figure size 576x648 with 1 Axes>"
            ],
            "image/png": "[encoded data removed]"
          },
          "metadata": {}
        }
      ]
    },
    {
      "cell_type": "code",
      "source": [
        "pd.pivot_table(df, index= ['Exited'], columns=['Geography'], values='Balance', aggfunc = ['median'])"
      ],
      "metadata": {
        "id": "z5MR4sOPy8BV",
        "colab": {
          "base_uri": "https://localhost:8080/",
          "height": 173
        },
        "outputId": "adaed052-60a5-46a4-ab5f-2534b945cd61"
      },
      "execution_count": 22,
      "outputs": [
        {
          "output_type": "execute_result",
          "data": {
            "text/plain": [
              "             median                     \n",
              "Geography    France    Germany     Spain\n",
              "Exited                                  \n",
              "0          49853.57  120252.02      0.00\n",
              "1          80376.46  118951.22  79035.95"
            ],
            "text/html": [
              "\n",
              "  <div id=\"df-c11a9c3d-aca3-49cf-8bb7-aa5a0231717f\">\n",
              "    <div class=\"colab-df-container\">\n",
              "      <div>\n",
              "<style scoped>\n",
              "    .dataframe tbody tr th:only-of-type {\n",
              "        vertical-align: middle;\n",
              "    }\n",
              "\n",
              "    .dataframe tbody tr th {\n",
              "        vertical-align: top;\n",
              "    }\n",
              "\n",
              "    .dataframe thead tr th {\n",
              "        text-align: left;\n",
              "    }\n",
              "\n",
              "    .dataframe thead tr:last-of-type th {\n",
              "        text-align: right;\n",
              "    }\n",
              "</style>\n",
              "<table border=\"1\" class=\"dataframe\">\n",
              "  <thead>\n",
              "    <tr>\n",
              "      <th></th>\n",
              "      <th colspan=\"3\" halign=\"left\">median</th>\n",
              "    </tr>\n",
              "    <tr>\n",
              "      <th>Geography</th>\n",
              "      <th>France</th>\n",
              "      <th>Germany</th>\n",
              "      <th>Spain</th>\n",
              "    </tr>\n",
              "    <tr>\n",
              "      <th>Exited</th>\n",
              "      <th></th>\n",
              "      <th></th>\n",
              "      <th></th>\n",
              "    </tr>\n",
              "  </thead>\n",
              "  <tbody>\n",
              "    <tr>\n",
              "      <th>0</th>\n",
              "      <td>49853.57</td>\n",
              "      <td>120252.02</td>\n",
              "      <td>0.00</td>\n",
              "    </tr>\n",
              "    <tr>\n",
              "      <th>1</th>\n",
              "      <td>80376.46</td>\n",
              "      <td>118951.22</td>\n",
              "      <td>79035.95</td>\n",
              "    </tr>\n",
              "  </tbody>\n",
              "</table>\n",
              "</div>\n",
              "      <button class=\"colab-df-convert\" onclick=\"convertToInteractive('df-c11a9c3d-aca3-49cf-8bb7-aa5a0231717f')\"\n",
              "              title=\"Convert this dataframe to an interactive table.\"\n",
              "              style=\"display:none;\">\n",
              "        \n",
              "  <svg xmlns=\"http://www.w3.org/2000/svg\" height=\"24px\"viewBox=\"0 0 24 24\"\n",
              "       width=\"24px\">\n",
              "    <path d=\"M0 0h24v24H0V0z\" fill=\"none\"/>\n",
              "    <path d=\"M18.56 5.44l.94 2.06.94-2.06 2.06-.94-2.06-.94-.94-2.06-.94 2.06-2.06.94zm-11 1L8.5 8.5l.94-2.06 2.06-.94-2.06-.94L8.5 2.5l-.94 2.06-2.06.94zm10 10l.94 2.06.94-2.06 2.06-.94-2.06-.94-.94-2.06-.94 2.06-2.06.94z\"/><path d=\"M17.41 7.96l-1.37-1.37c-.4-.4-.92-.59-1.43-.59-.52 0-1.04.2-1.43.59L10.3 9.45l-7.72 7.72c-.78.78-.78 2.05 0 2.83L4 21.41c.39.39.9.59 1.41.59.51 0 1.02-.2 1.41-.59l7.78-7.78 2.81-2.81c.8-.78.8-2.07 0-2.86zM5.41 20L4 18.59l7.72-7.72 1.47 1.35L5.41 20z\"/>\n",
              "  </svg>\n",
              "      </button>\n",
              "      \n",
              "  <style>\n",
              "    .colab-df-container {\n",
              "      display:flex;\n",
              "      flex-wrap:wrap;\n",
              "      gap: 12px;\n",
              "    }\n",
              "\n",
              "    .colab-df-convert {\n",
              "      background-color: #E8F0FE;\n",
              "      border: none;\n",
              "      border-radius: 50%;\n",
              "      cursor: pointer;\n",
              "      display: none;\n",
              "      fill: #1967D2;\n",
              "      height: 32px;\n",
              "      padding: 0 0 0 0;\n",
              "      width: 32px;\n",
              "    }\n",
              "\n",
              "    .colab-df-convert:hover {\n",
              "      background-color: #E2EBFA;\n",
              "      box-shadow: 0px 1px 2px rgba(60, 64, 67, 0.3), 0px 1px 3px 1px rgba(60, 64, 67, 0.15);\n",
              "      fill: #174EA6;\n",
              "    }\n",
              "\n",
              "    [theme=dark] .colab-df-convert {\n",
              "      background-color: #3B4455;\n",
              "      fill: #D2E3FC;\n",
              "    }\n",
              "\n",
              "    [theme=dark] .colab-df-convert:hover {\n",
              "      background-color: #434B5C;\n",
              "      box-shadow: 0px 1px 3px 1px rgba(0, 0, 0, 0.15);\n",
              "      filter: drop-shadow(0px 1px 2px rgba(0, 0, 0, 0.3));\n",
              "      fill: #FFFFFF;\n",
              "    }\n",
              "  </style>\n",
              "\n",
              "      <script>\n",
              "        const buttonEl =\n",
              "          document.querySelector('#df-c11a9c3d-aca3-49cf-8bb7-aa5a0231717f button.colab-df-convert');\n",
              "        buttonEl.style.display =\n",
              "          google.colab.kernel.accessAllowed ? 'block' : 'none';\n",
              "\n",
              "        async function convertToInteractive(key) {\n",
              "          const element = document.querySelector('#df-c11a9c3d-aca3-49cf-8bb7-aa5a0231717f');\n",
              "          const dataTable =\n",
              "            await google.colab.kernel.invokeFunction('convertToInteractive',\n",
              "                                                     [key], {});\n",
              "          if (!dataTable) return;\n",
              "\n",
              "          const docLinkHtml = 'Like what you see? Visit the ' +\n",
              "            '<a target=\"_blank\" href=https://colab.research.google.com/notebooks/data_table.ipynb>data table notebook</a>'\n",
              "            + ' to learn more about interactive tables.';\n",
              "          element.innerHTML = '';\n",
              "          dataTable['output_type'] = 'display_data';\n",
              "          await google.colab.output.renderOutput(dataTable, element);\n",
              "          const docLink = document.createElement('div');\n",
              "          docLink.innerHTML = docLinkHtml;\n",
              "          element.appendChild(docLink);\n",
              "        }\n",
              "      </script>\n",
              "    </div>\n",
              "  </div>\n",
              "  "
            ]
          },
          "metadata": {},
          "execution_count": 22
        }
      ]
    },
    {
      "cell_type": "markdown",
      "source": [
        "В Испании много клиентов с нулевым балансом"
      ],
      "metadata": {
        "id": "Rt3TQIYzUmUy"
      }
    },
    {
      "cell_type": "code",
      "source": [
        "palette_features = ['#E56B51', '#409996']\n",
        "sns.set(rc={'axes.facecolor':'lightgray'}) #background color of all plots\n",
        "\n",
        "plt.figure(figsize=(12,6.5)) \n",
        "plt.title('Geography', fontsize=15, fontweight='bold', fontname='DejaVu Sans', ha='center')\n",
        "ax = sns.countplot(data = df, x = 'Geography', hue = 'Exited', palette=palette_features)"
      ],
      "metadata": {
        "id": "7iyVik0_r67M",
        "colab": {
          "base_uri": "https://localhost:8080/",
          "height": 439
        },
        "outputId": "cef55ffb-436a-41fe-c3a0-e8a6deb33721"
      },
      "execution_count": 23,
      "outputs": [
        {
          "output_type": "display_data",
          "data": {
            "text/plain": [
              "<Figure size 864x468 with 1 Axes>"
            ],
            "image/png": "[encoded data removed]"
          },
          "metadata": {}
        }
      ]
    },
    {
      "cell_type": "markdown",
      "source": [
        "По графику видно, что больше всего клиентов банка из Франции, больший отток клиентов из Германии."
      ],
      "metadata": {
        "id": "x9-Ui6nSI7Fj"
      }
    },
    {
      "cell_type": "code",
      "source": [
        "df.groupby(['Exited'],as_index = False)['Age'].median()"
      ],
      "metadata": {
        "id": "ssHmuPTPtWF-",
        "colab": {
          "base_uri": "https://localhost:8080/",
          "height": 111
        },
        "outputId": "a82428df-75a3-4eef-adf9-8dae90b4e205"
      },
      "execution_count": 24,
      "outputs": [
        {
          "output_type": "execute_result",
          "data": {
            "text/plain": [
              "   Exited   Age\n",
              "0       0  36.0\n",
              "1       1  45.0"
            ],
            "text/html": [
              "\n",
              "  <div id=\"df-7f75e008-28a1-4897-a2eb-367792921fa6\">\n",
              "    <div class=\"colab-df-container\">\n",
              "      <div>\n",
              "<style scoped>\n",
              "    .dataframe tbody tr th:only-of-type {\n",
              "        vertical-align: middle;\n",
              "    }\n",
              "\n",
              "    .dataframe tbody tr th {\n",
              "        vertical-align: top;\n",
              "    }\n",
              "\n",
              "    .dataframe thead th {\n",
              "        text-align: right;\n",
              "    }\n",
              "</style>\n",
              "<table border=\"1\" class=\"dataframe\">\n",
              "  <thead>\n",
              "    <tr style=\"text-align: right;\">\n",
              "      <th></th>\n",
              "      <th>Exited</th>\n",
              "      <th>Age</th>\n",
              "    </tr>\n",
              "  </thead>\n",
              "  <tbody>\n",
              "    <tr>\n",
              "      <th>0</th>\n",
              "      <td>0</td>\n",
              "      <td>36.0</td>\n",
              "    </tr>\n",
              "    <tr>\n",
              "      <th>1</th>\n",
              "      <td>1</td>\n",
              "      <td>45.0</td>\n",
              "    </tr>\n",
              "  </tbody>\n",
              "</table>\n",
              "</div>\n",
              "      <button class=\"colab-df-convert\" onclick=\"convertToInteractive('df-7f75e008-28a1-4897-a2eb-367792921fa6')\"\n",
              "              title=\"Convert this dataframe to an interactive table.\"\n",
              "              style=\"display:none;\">\n",
              "        \n",
              "  <svg xmlns=\"http://www.w3.org/2000/svg\" height=\"24px\"viewBox=\"0 0 24 24\"\n",
              "       width=\"24px\">\n",
              "    <path d=\"M0 0h24v24H0V0z\" fill=\"none\"/>\n",
              "    <path d=\"M18.56 5.44l.94 2.06.94-2.06 2.06-.94-2.06-.94-.94-2.06-.94 2.06-2.06.94zm-11 1L8.5 8.5l.94-2.06 2.06-.94-2.06-.94L8.5 2.5l-.94 2.06-2.06.94zm10 10l.94 2.06.94-2.06 2.06-.94-2.06-.94-.94-2.06-.94 2.06-2.06.94z\"/><path d=\"M17.41 7.96l-1.37-1.37c-.4-.4-.92-.59-1.43-.59-.52 0-1.04.2-1.43.59L10.3 9.45l-7.72 7.72c-.78.78-.78 2.05 0 2.83L4 21.41c.39.39.9.59 1.41.59.51 0 1.02-.2 1.41-.59l7.78-7.78 2.81-2.81c.8-.78.8-2.07 0-2.86zM5.41 20L4 18.59l7.72-7.72 1.47 1.35L5.41 20z\"/>\n",
              "  </svg>\n",
              "      </button>\n",
              "      \n",
              "  <style>\n",
              "    .colab-df-container {\n",
              "      display:flex;\n",
              "      flex-wrap:wrap;\n",
              "      gap: 12px;\n",
              "    }\n",
              "\n",
              "    .colab-df-convert {\n",
              "      background-color: #E8F0FE;\n",
              "      border: none;\n",
              "      border-radius: 50%;\n",
              "      cursor: pointer;\n",
              "      display: none;\n",
              "      fill: #1967D2;\n",
              "      height: 32px;\n",
              "      padding: 0 0 0 0;\n",
              "      width: 32px;\n",
              "    }\n",
              "\n",
              "    .colab-df-convert:hover {\n",
              "      background-color: #E2EBFA;\n",
              "      box-shadow: 0px 1px 2px rgba(60, 64, 67, 0.3), 0px 1px 3px 1px rgba(60, 64, 67, 0.15);\n",
              "      fill: #174EA6;\n",
              "    }\n",
              "\n",
              "    [theme=dark] .colab-df-convert {\n",
              "      background-color: #3B4455;\n",
              "      fill: #D2E3FC;\n",
              "    }\n",
              "\n",
              "    [theme=dark] .colab-df-convert:hover {\n",
              "      background-color: #434B5C;\n",
              "      box-shadow: 0px 1px 3px 1px rgba(0, 0, 0, 0.15);\n",
              "      filter: drop-shadow(0px 1px 2px rgba(0, 0, 0, 0.3));\n",
              "      fill: #FFFFFF;\n",
              "    }\n",
              "  </style>\n",
              "\n",
              "      <script>\n",
              "        const buttonEl =\n",
              "          document.querySelector('#df-7f75e008-28a1-4897-a2eb-367792921fa6 button.colab-df-convert');\n",
              "        buttonEl.style.display =\n",
              "          google.colab.kernel.accessAllowed ? 'block' : 'none';\n",
              "\n",
              "        async function convertToInteractive(key) {\n",
              "          const element = document.querySelector('#df-7f75e008-28a1-4897-a2eb-367792921fa6');\n",
              "          const dataTable =\n",
              "            await google.colab.kernel.invokeFunction('convertToInteractive',\n",
              "                                                     [key], {});\n",
              "          if (!dataTable) return;\n",
              "\n",
              "          const docLinkHtml = 'Like what you see? Visit the ' +\n",
              "            '<a target=\"_blank\" href=https://colab.research.google.com/notebooks/data_table.ipynb>data table notebook</a>'\n",
              "            + ' to learn more about interactive tables.';\n",
              "          element.innerHTML = '';\n",
              "          dataTable['output_type'] = 'display_data';\n",
              "          await google.colab.output.renderOutput(dataTable, element);\n",
              "          const docLink = document.createElement('div');\n",
              "          docLink.innerHTML = docLinkHtml;\n",
              "          element.appendChild(docLink);\n",
              "        }\n",
              "      </script>\n",
              "    </div>\n",
              "  </div>\n",
              "  "
            ]
          },
          "metadata": {},
          "execution_count": 24
        }
      ]
    },
    {
      "cell_type": "code",
      "source": [
        "plt.figure(figsize=(8,8))\n",
        "df.Age.loc[df['Exited']==0].hist()\n",
        "df.Age.loc[df['Exited']==1].hist()\n",
        "plt.xlabel('Age')\n",
        "plt.ylabel('Count')\n",
        "plt.title(r'Histogram Age distribution')\n",
        "plt.legend(title='Legend', loc='upper right', labels=['Remaining clients', 'Exited clients'])\n",
        "plt.show()"
      ],
      "metadata": {
        "id": "d7EMNmSauabw",
        "colab": {
          "base_uri": "https://localhost:8080/",
          "height": 518
        },
        "outputId": "e8010a5f-ed98-4123-aeb2-b44ad0cebbfe"
      },
      "execution_count": 25,
      "outputs": [
        {
          "output_type": "display_data",
          "data": {
            "text/plain": [
              "<Figure size 576x576 with 1 Axes>"
            ],
            "image/png": "[encoded data removed]"
          },
          "metadata": {}
        }
      ]
    },
    {
      "cell_type": "code",
      "source": [
        "palette_features = ['#E56B51', '#409996']\n",
        "sns.set(rc={'axes.facecolor':'lightgray'})\n",
        "plt.figure(figsize=(12,6.5)) \n",
        "plt.title('Age', fontsize=15, fontweight='bold', fontname='DejaVu Sans', ha='center')\n",
        "ax = sns.boxplot(x = df['Exited'], y = 'Age', data = df, palette=palette_features)"
      ],
      "metadata": {
        "colab": {
          "base_uri": "https://localhost:8080/",
          "height": 439
        },
        "id": "Rn5a1ztMvpfI",
        "outputId": "a3d8bc6f-8c66-4361-ce5d-5c371d421d22"
      },
      "execution_count": 26,
      "outputs": [
        {
          "output_type": "display_data",
          "data": {
            "text/plain": [
              "<Figure size 864x468 with 1 Axes>"
            ],
            "image/png": "[encoded data removed]"
          },
          "metadata": {}
        }
      ]
    },
    {
      "cell_type": "markdown",
      "source": [
        "С банком остают всреднем более молодые люди"
      ],
      "metadata": {
        "id": "v3kaD379JYxm"
      }
    },
    {
      "cell_type": "code",
      "source": [
        "df.groupby(['Exited','Gender'])['Gender'].count()"
      ],
      "metadata": {
        "colab": {
          "base_uri": "https://localhost:8080/"
        },
        "id": "-pj-XLE0w7qO",
        "outputId": "88d817b3-9ea4-4119-c670-6e3fa4d97453"
      },
      "execution_count": 27,
      "outputs": [
        {
          "output_type": "execute_result",
          "data": {
            "text/plain": [
              "Exited  Gender\n",
              "0       Female    3404\n",
              "        Male      4559\n",
              "1       Female    1139\n",
              "        Male       898\n",
              "Name: Gender, dtype: int64"
            ]
          },
          "metadata": {},
          "execution_count": 27
        }
      ]
    },
    {
      "cell_type": "code",
      "source": [
        "df.groupby(['Gender'])[['Exited']].mean()"
      ],
      "metadata": {
        "id": "Terx1yzU6_-X",
        "colab": {
          "base_uri": "https://localhost:8080/",
          "height": 142
        },
        "outputId": "d0859a7e-3741-428c-ac11-7b536af7a213"
      },
      "execution_count": 28,
      "outputs": [
        {
          "output_type": "execute_result",
          "data": {
            "text/plain": [
              "          Exited\n",
              "Gender          \n",
              "Female  0.250715\n",
              "Male    0.164559"
            ],
            "text/html": [
              "\n",
              "  <div id=\"df-4bd9f4b4-cc31-42b2-b1b2-1ea3e7cd94ed\">\n",
              "    <div class=\"colab-df-container\">\n",
              "      <div>\n",
              "<style scoped>\n",
              "    .dataframe tbody tr th:only-of-type {\n",
              "        vertical-align: middle;\n",
              "    }\n",
              "\n",
              "    .dataframe tbody tr th {\n",
              "        vertical-align: top;\n",
              "    }\n",
              "\n",
              "    .dataframe thead th {\n",
              "        text-align: right;\n",
              "    }\n",
              "</style>\n",
              "<table border=\"1\" class=\"dataframe\">\n",
              "  <thead>\n",
              "    <tr style=\"text-align: right;\">\n",
              "      <th></th>\n",
              "      <th>Exited</th>\n",
              "    </tr>\n",
              "    <tr>\n",
              "      <th>Gender</th>\n",
              "      <th></th>\n",
              "    </tr>\n",
              "  </thead>\n",
              "  <tbody>\n",
              "    <tr>\n",
              "      <th>Female</th>\n",
              "      <td>0.250715</td>\n",
              "    </tr>\n",
              "    <tr>\n",
              "      <th>Male</th>\n",
              "      <td>0.164559</td>\n",
              "    </tr>\n",
              "  </tbody>\n",
              "</table>\n",
              "</div>\n",
              "      <button class=\"colab-df-convert\" onclick=\"convertToInteractive('df-4bd9f4b4-cc31-42b2-b1b2-1ea3e7cd94ed')\"\n",
              "              title=\"Convert this dataframe to an interactive table.\"\n",
              "              style=\"display:none;\">\n",
              "        \n",
              "  <svg xmlns=\"http://www.w3.org/2000/svg\" height=\"24px\"viewBox=\"0 0 24 24\"\n",
              "       width=\"24px\">\n",
              "    <path d=\"M0 0h24v24H0V0z\" fill=\"none\"/>\n",
              "    <path d=\"M18.56 5.44l.94 2.06.94-2.06 2.06-.94-2.06-.94-.94-2.06-.94 2.06-2.06.94zm-11 1L8.5 8.5l.94-2.06 2.06-.94-2.06-.94L8.5 2.5l-.94 2.06-2.06.94zm10 10l.94 2.06.94-2.06 2.06-.94-2.06-.94-.94-2.06-.94 2.06-2.06.94z\"/><path d=\"M17.41 7.96l-1.37-1.37c-.4-.4-.92-.59-1.43-.59-.52 0-1.04.2-1.43.59L10.3 9.45l-7.72 7.72c-.78.78-.78 2.05 0 2.83L4 21.41c.39.39.9.59 1.41.59.51 0 1.02-.2 1.41-.59l7.78-7.78 2.81-2.81c.8-.78.8-2.07 0-2.86zM5.41 20L4 18.59l7.72-7.72 1.47 1.35L5.41 20z\"/>\n",
              "  </svg>\n",
              "      </button>\n",
              "      \n",
              "  <style>\n",
              "    .colab-df-container {\n",
              "      display:flex;\n",
              "      flex-wrap:wrap;\n",
              "      gap: 12px;\n",
              "    }\n",
              "\n",
              "    .colab-df-convert {\n",
              "      background-color: #E8F0FE;\n",
              "      border: none;\n",
              "      border-radius: 50%;\n",
              "      cursor: pointer;\n",
              "      display: none;\n",
              "      fill: #1967D2;\n",
              "      height: 32px;\n",
              "      padding: 0 0 0 0;\n",
              "      width: 32px;\n",
              "    }\n",
              "\n",
              "    .colab-df-convert:hover {\n",
              "      background-color: #E2EBFA;\n",
              "      box-shadow: 0px 1px 2px rgba(60, 64, 67, 0.3), 0px 1px 3px 1px rgba(60, 64, 67, 0.15);\n",
              "      fill: #174EA6;\n",
              "    }\n",
              "\n",
              "    [theme=dark] .colab-df-convert {\n",
              "      background-color: #3B4455;\n",
              "      fill: #D2E3FC;\n",
              "    }\n",
              "\n",
              "    [theme=dark] .colab-df-convert:hover {\n",
              "      background-color: #434B5C;\n",
              "      box-shadow: 0px 1px 3px 1px rgba(0, 0, 0, 0.15);\n",
              "      filter: drop-shadow(0px 1px 2px rgba(0, 0, 0, 0.3));\n",
              "      fill: #FFFFFF;\n",
              "    }\n",
              "  </style>\n",
              "\n",
              "      <script>\n",
              "        const buttonEl =\n",
              "          document.querySelector('#df-4bd9f4b4-cc31-42b2-b1b2-1ea3e7cd94ed button.colab-df-convert');\n",
              "        buttonEl.style.display =\n",
              "          google.colab.kernel.accessAllowed ? 'block' : 'none';\n",
              "\n",
              "        async function convertToInteractive(key) {\n",
              "          const element = document.querySelector('#df-4bd9f4b4-cc31-42b2-b1b2-1ea3e7cd94ed');\n",
              "          const dataTable =\n",
              "            await google.colab.kernel.invokeFunction('convertToInteractive',\n",
              "                                                     [key], {});\n",
              "          if (!dataTable) return;\n",
              "\n",
              "          const docLinkHtml = 'Like what you see? Visit the ' +\n",
              "            '<a target=\"_blank\" href=https://colab.research.google.com/notebooks/data_table.ipynb>data table notebook</a>'\n",
              "            + ' to learn more about interactive tables.';\n",
              "          element.innerHTML = '';\n",
              "          dataTable['output_type'] = 'display_data';\n",
              "          await google.colab.output.renderOutput(dataTable, element);\n",
              "          const docLink = document.createElement('div');\n",
              "          docLink.innerHTML = docLinkHtml;\n",
              "          element.appendChild(docLink);\n",
              "        }\n",
              "      </script>\n",
              "    </div>\n",
              "  </div>\n",
              "  "
            ]
          },
          "metadata": {},
          "execution_count": 28
        }
      ]
    },
    {
      "cell_type": "code",
      "source": [
        "palette_features = ['#E56B51', '#409996']\n",
        "sns.set(rc={'axes.facecolor':'lightgray'}) #background color of all plots\n",
        "\n",
        "plt.figure(figsize=(12,6.5)) \n",
        "plt.title('Gender', fontsize=15, fontweight='bold', fontname='DejaVu Sans', ha='center')\n",
        "ax = sns.countplot(data = df, x = 'Gender', hue = 'Exited', palette=palette_features)"
      ],
      "metadata": {
        "colab": {
          "base_uri": "https://localhost:8080/",
          "height": 439
        },
        "id": "tf3QU6sqVD1X",
        "outputId": "c530a82f-ad2d-4b83-e539-100f91cc4fbd"
      },
      "execution_count": 29,
      "outputs": [
        {
          "output_type": "display_data",
          "data": {
            "text/plain": [
              "<Figure size 864x468 with 1 Axes>"
            ],
            "image/png": "[encoded data removed]"
          },
          "metadata": {}
        }
      ]
    },
    {
      "cell_type": "markdown",
      "source": [
        "Женщины чаще прекращают работу с банком. 25% женщин уходят, мужчин уходит 16%"
      ],
      "metadata": {
        "id": "4kwUmJNOU-VV"
      }
    },
    {
      "cell_type": "code",
      "source": [
        "plt.figure(figsize=(8,6.5))\n",
        "plt.title('Boxplot clients balance', fontsize=15, fontweight='bold', fontname='DejaVu Sans', ha='center')\n",
        "sns.boxplot(data = df, y=\"Balance\")\n",
        "plt.show()"
      ],
      "metadata": {
        "colab": {
          "base_uri": "https://localhost:8080/",
          "height": 402
        },
        "id": "G4fi9A5jW4so",
        "outputId": "4c044c91-0d6b-407e-e2d1-4fc972095643"
      },
      "execution_count": 30,
      "outputs": [
        {
          "output_type": "display_data",
          "data": {
            "text/plain": [
              "<Figure size 576x468 with 1 Axes>"
            ],
            "image/png": "[encoded data removed]"
          },
          "metadata": {}
        }
      ]
    },
    {
      "cell_type": "code",
      "source": [
        "plt.figure(figsize=(8,8))\n",
        "df.CreditScore.hist()\n",
        "df.CreditScore.loc[df['Exited']==1].hist()\n",
        "plt.xlabel('CreditScore')\n",
        "plt.ylabel('Count')\n",
        "plt.title(r'Histogram CreditScore distribution')\n",
        "plt.legend(title='Legend', loc='upper left', labels=['Total clients', 'Exited clients'])\n",
        "plt.show()"
      ],
      "metadata": {
        "colab": {
          "base_uri": "https://localhost:8080/",
          "height": 518
        },
        "id": "GT54-qHE7Pw6",
        "outputId": "2f97284f-0bd9-4592-d06b-c1b68845ba60"
      },
      "execution_count": 31,
      "outputs": [
        {
          "output_type": "display_data",
          "data": {
            "text/plain": [
              "<Figure size 576x576 with 1 Axes>"
            ],
            "image/png": "[encoded data removed]"
          },
          "metadata": {}
        }
      ]
    },
    {
      "cell_type": "markdown",
      "source": [
        "Люди уходят из банка с любым score, с самым низким уходят все"
      ],
      "metadata": {
        "id": "f5EaRnIAXYLu"
      }
    },
    {
      "cell_type": "markdown",
      "source": [
        "## Построим корреляцию"
      ],
      "metadata": {
        "id": "958ScZxpXn6F"
      }
    },
    {
      "cell_type": "code",
      "source": [
        "corr = df.corr().round(3)\n",
        "corr"
      ],
      "metadata": {
        "id": "V8Dhdtr58R-6",
        "colab": {
          "base_uri": "https://localhost:8080/",
          "height": 328
        },
        "outputId": "8eb4d54e-fcb6-48d3-a729-145ad554903d"
      },
      "execution_count": 32,
      "outputs": [
        {
          "output_type": "execute_result",
          "data": {
            "text/plain": [
              "                 CreditScore    Age  Tenure  Balance  NumOfProducts  \\\n",
              "CreditScore            1.000 -0.004   0.001    0.006          0.012   \n",
              "Age                   -0.004  1.000  -0.010    0.028         -0.031   \n",
              "Tenure                 0.001 -0.010   1.000   -0.012          0.013   \n",
              "Balance                0.006  0.028  -0.012    1.000         -0.304   \n",
              "NumOfProducts          0.012 -0.031   0.013   -0.304          1.000   \n",
              "HasCrCard             -0.005 -0.012   0.023   -0.015          0.003   \n",
              "IsActiveMember         0.026  0.085  -0.028   -0.010          0.010   \n",
              "EstimatedSalary       -0.001 -0.007   0.008    0.013          0.014   \n",
              "Exited                -0.027  0.285  -0.014    0.119         -0.048   \n",
              "\n",
              "                 HasCrCard  IsActiveMember  EstimatedSalary  Exited  \n",
              "CreditScore         -0.005           0.026           -0.001  -0.027  \n",
              "Age                 -0.012           0.085           -0.007   0.285  \n",
              "Tenure               0.023          -0.028            0.008  -0.014  \n",
              "Balance             -0.015          -0.010            0.013   0.119  \n",
              "NumOfProducts        0.003           0.010            0.014  -0.048  \n",
              "HasCrCard            1.000          -0.012           -0.010  -0.007  \n",
              "IsActiveMember      -0.012           1.000           -0.011  -0.156  \n",
              "EstimatedSalary     -0.010          -0.011            1.000   0.012  \n",
              "Exited              -0.007          -0.156            0.012   1.000  "
            ],
            "text/html": [
              "\n",
              "  <div id=\"df-76c4f704-9f7a-4ca5-801a-c8eb86f52429\">\n",
              "    <div class=\"colab-df-container\">\n",
              "      <div>\n",
              "<style scoped>\n",
              "    .dataframe tbody tr th:only-of-type {\n",
              "        vertical-align: middle;\n",
              "    }\n",
              "\n",
              "    .dataframe tbody tr th {\n",
              "        vertical-align: top;\n",
              "    }\n",
              "\n",
              "    .dataframe thead th {\n",
              "        text-align: right;\n",
              "    }\n",
              "</style>\n",
              "<table border=\"1\" class=\"dataframe\">\n",
              "  <thead>\n",
              "    <tr style=\"text-align: right;\">\n",
              "      <th></th>\n",
              "      <th>CreditScore</th>\n",
              "      <th>Age</th>\n",
              "      <th>Tenure</th>\n",
              "      <th>Balance</th>\n",
              "      <th>NumOfProducts</th>\n",
              "      <th>HasCrCard</th>\n",
              "      <th>IsActiveMember</th>\n",
              "      <th>EstimatedSalary</th>\n",
              "      <th>Exited</th>\n",
              "    </tr>\n",
              "  </thead>\n",
              "  <tbody>\n",
              "    <tr>\n",
              "      <th>CreditScore</th>\n",
              "      <td>1.000</td>\n",
              "      <td>-0.004</td>\n",
              "      <td>0.001</td>\n",
              "      <td>0.006</td>\n",
              "      <td>0.012</td>\n",
              "      <td>-0.005</td>\n",
              "      <td>0.026</td>\n",
              "      <td>-0.001</td>\n",
              "      <td>-0.027</td>\n",
              "    </tr>\n",
              "    <tr>\n",
              "      <th>Age</th>\n",
              "      <td>-0.004</td>\n",
              "      <td>1.000</td>\n",
              "      <td>-0.010</td>\n",
              "      <td>0.028</td>\n",
              "      <td>-0.031</td>\n",
              "      <td>-0.012</td>\n",
              "      <td>0.085</td>\n",
              "      <td>-0.007</td>\n",
              "      <td>0.285</td>\n",
              "    </tr>\n",
              "    <tr>\n",
              "      <th>Tenure</th>\n",
              "      <td>0.001</td>\n",
              "      <td>-0.010</td>\n",
              "      <td>1.000</td>\n",
              "      <td>-0.012</td>\n",
              "      <td>0.013</td>\n",
              "      <td>0.023</td>\n",
              "      <td>-0.028</td>\n",
              "      <td>0.008</td>\n",
              "      <td>-0.014</td>\n",
              "    </tr>\n",
              "    <tr>\n",
              "      <th>Balance</th>\n",
              "      <td>0.006</td>\n",
              "      <td>0.028</td>\n",
              "      <td>-0.012</td>\n",
              "      <td>1.000</td>\n",
              "      <td>-0.304</td>\n",
              "      <td>-0.015</td>\n",
              "      <td>-0.010</td>\n",
              "      <td>0.013</td>\n",
              "      <td>0.119</td>\n",
              "    </tr>\n",
              "    <tr>\n",
              "      <th>NumOfProducts</th>\n",
              "      <td>0.012</td>\n",
              "      <td>-0.031</td>\n",
              "      <td>0.013</td>\n",
              "      <td>-0.304</td>\n",
              "      <td>1.000</td>\n",
              "      <td>0.003</td>\n",
              "      <td>0.010</td>\n",
              "      <td>0.014</td>\n",
              "      <td>-0.048</td>\n",
              "    </tr>\n",
              "    <tr>\n",
              "      <th>HasCrCard</th>\n",
              "      <td>-0.005</td>\n",
              "      <td>-0.012</td>\n",
              "      <td>0.023</td>\n",
              "      <td>-0.015</td>\n",
              "      <td>0.003</td>\n",
              "      <td>1.000</td>\n",
              "      <td>-0.012</td>\n",
              "      <td>-0.010</td>\n",
              "      <td>-0.007</td>\n",
              "    </tr>\n",
              "    <tr>\n",
              "      <th>IsActiveMember</th>\n",
              "      <td>0.026</td>\n",
              "      <td>0.085</td>\n",
              "      <td>-0.028</td>\n",
              "      <td>-0.010</td>\n",
              "      <td>0.010</td>\n",
              "      <td>-0.012</td>\n",
              "      <td>1.000</td>\n",
              "      <td>-0.011</td>\n",
              "      <td>-0.156</td>\n",
              "    </tr>\n",
              "    <tr>\n",
              "      <th>EstimatedSalary</th>\n",
              "      <td>-0.001</td>\n",
              "      <td>-0.007</td>\n",
              "      <td>0.008</td>\n",
              "      <td>0.013</td>\n",
              "      <td>0.014</td>\n",
              "      <td>-0.010</td>\n",
              "      <td>-0.011</td>\n",
              "      <td>1.000</td>\n",
              "      <td>0.012</td>\n",
              "    </tr>\n",
              "    <tr>\n",
              "      <th>Exited</th>\n",
              "      <td>-0.027</td>\n",
              "      <td>0.285</td>\n",
              "      <td>-0.014</td>\n",
              "      <td>0.119</td>\n",
              "      <td>-0.048</td>\n",
              "      <td>-0.007</td>\n",
              "      <td>-0.156</td>\n",
              "      <td>0.012</td>\n",
              "      <td>1.000</td>\n",
              "    </tr>\n",
              "  </tbody>\n",
              "</table>\n",
              "</div>\n",
              "      <button class=\"colab-df-convert\" onclick=\"convertToInteractive('df-76c4f704-9f7a-4ca5-801a-c8eb86f52429')\"\n",
              "              title=\"Convert this dataframe to an interactive table.\"\n",
              "              style=\"display:none;\">\n",
              "        \n",
              "  <svg xmlns=\"http://www.w3.org/2000/svg\" height=\"24px\"viewBox=\"0 0 24 24\"\n",
              "       width=\"24px\">\n",
              "    <path d=\"M0 0h24v24H0V0z\" fill=\"none\"/>\n",
              "    <path d=\"M18.56 5.44l.94 2.06.94-2.06 2.06-.94-2.06-.94-.94-2.06-.94 2.06-2.06.94zm-11 1L8.5 8.5l.94-2.06 2.06-.94-2.06-.94L8.5 2.5l-.94 2.06-2.06.94zm10 10l.94 2.06.94-2.06 2.06-.94-2.06-.94-.94-2.06-.94 2.06-2.06.94z\"/><path d=\"M17.41 7.96l-1.37-1.37c-.4-.4-.92-.59-1.43-.59-.52 0-1.04.2-1.43.59L10.3 9.45l-7.72 7.72c-.78.78-.78 2.05 0 2.83L4 21.41c.39.39.9.59 1.41.59.51 0 1.02-.2 1.41-.59l7.78-7.78 2.81-2.81c.8-.78.8-2.07 0-2.86zM5.41 20L4 18.59l7.72-7.72 1.47 1.35L5.41 20z\"/>\n",
              "  </svg>\n",
              "      </button>\n",
              "      \n",
              "  <style>\n",
              "    .colab-df-container {\n",
              "      display:flex;\n",
              "      flex-wrap:wrap;\n",
              "      gap: 12px;\n",
              "    }\n",
              "\n",
              "    .colab-df-convert {\n",
              "      background-color: #E8F0FE;\n",
              "      border: none;\n",
              "      border-radius: 50%;\n",
              "      cursor: pointer;\n",
              "      display: none;\n",
              "      fill: #1967D2;\n",
              "      height: 32px;\n",
              "      padding: 0 0 0 0;\n",
              "      width: 32px;\n",
              "    }\n",
              "\n",
              "    .colab-df-convert:hover {\n",
              "      background-color: #E2EBFA;\n",
              "      box-shadow: 0px 1px 2px rgba(60, 64, 67, 0.3), 0px 1px 3px 1px rgba(60, 64, 67, 0.15);\n",
              "      fill: #174EA6;\n",
              "    }\n",
              "\n",
              "    [theme=dark] .colab-df-convert {\n",
              "      background-color: #3B4455;\n",
              "      fill: #D2E3FC;\n",
              "    }\n",
              "\n",
              "    [theme=dark] .colab-df-convert:hover {\n",
              "      background-color: #434B5C;\n",
              "      box-shadow: 0px 1px 3px 1px rgba(0, 0, 0, 0.15);\n",
              "      filter: drop-shadow(0px 1px 2px rgba(0, 0, 0, 0.3));\n",
              "      fill: #FFFFFF;\n",
              "    }\n",
              "  </style>\n",
              "\n",
              "      <script>\n",
              "        const buttonEl =\n",
              "          document.querySelector('#df-76c4f704-9f7a-4ca5-801a-c8eb86f52429 button.colab-df-convert');\n",
              "        buttonEl.style.display =\n",
              "          google.colab.kernel.accessAllowed ? 'block' : 'none';\n",
              "\n",
              "        async function convertToInteractive(key) {\n",
              "          const element = document.querySelector('#df-76c4f704-9f7a-4ca5-801a-c8eb86f52429');\n",
              "          const dataTable =\n",
              "            await google.colab.kernel.invokeFunction('convertToInteractive',\n",
              "                                                     [key], {});\n",
              "          if (!dataTable) return;\n",
              "\n",
              "          const docLinkHtml = 'Like what you see? Visit the ' +\n",
              "            '<a target=\"_blank\" href=https://colab.research.google.com/notebooks/data_table.ipynb>data table notebook</a>'\n",
              "            + ' to learn more about interactive tables.';\n",
              "          element.innerHTML = '';\n",
              "          dataTable['output_type'] = 'display_data';\n",
              "          await google.colab.output.renderOutput(dataTable, element);\n",
              "          const docLink = document.createElement('div');\n",
              "          docLink.innerHTML = docLinkHtml;\n",
              "          element.appendChild(docLink);\n",
              "        }\n",
              "      </script>\n",
              "    </div>\n",
              "  </div>\n",
              "  "
            ]
          },
          "metadata": {},
          "execution_count": 32
        }
      ]
    },
    {
      "cell_type": "code",
      "source": [
        "fig = px.imshow(corr, text_auto=True, height=800, width=800)\n",
        "fig.show()"
      ],
      "metadata": {
        "colab": {
          "base_uri": "https://localhost:8080/",
          "height": 817
        },
        "id": "q46N56Cj9xf2",
        "outputId": "80ef178f-5371-4419-8f09-22444c51621b"
      },
      "execution_count": 33,
      "outputs": [
        {
          "output_type": "display_data",
          "data": {
            "text/html": [
              "<html>\n",
              "<head><meta charset=\"utf-8\" /></head>\n",
              "<body>\n",
              "    <div>            <script src=\"https://cdnjs.cloudflare.com/ajax/libs/mathjax/2.7.5/MathJax.js?config=TeX-AMS-MML_SVG\"></script><script type=\"text/javascript\">if (window.MathJax) {MathJax.Hub.Config({SVG: {font: \"STIX-Web\"}});}</script>                <script type=\"text/javascript\">window.PlotlyConfig = {MathJaxConfig: 'local'};</script>\n",
              "        <script src=\"https://cdn.plot.ly/plotly-2.8.3.min.js\"></script>                <div id=\"c11cd185-1bdb-4b8c-93a6-227ed80fe702\" class=\"plotly-graph-div\" style=\"height:800px; width:800px;\"></div>            <script type=\"text/javascript\">                                    window.PLOTLYENV=window.PLOTLYENV || {};                                    if (document.getElementById(\"c11cd185-1bdb-4b8c-93a6-227ed80fe702\")) {                    Plotly.newPlot(                        \"c11cd185-1bdb-4b8c-93a6-227ed80fe702\",                        [{\"coloraxis\":\"coloraxis\",\"name\":\"0\",\"texttemplate\":\"%{z}\",\"x\":[\"CreditScore\",\"Age\",\"Tenure\",\"Balance\",\"NumOfProducts\",\"HasCrCard\",\"IsActiveMember\",\"EstimatedSalary\",\"Exited\"],\"y\":[\"CreditScore\",\"Age\",\"Tenure\",\"Balance\",\"NumOfProducts\",\"HasCrCard\",\"IsActiveMember\",\"EstimatedSalary\",\"Exited\"],\"z\":[[1.0,-0.004,0.001,0.006,0.012,-0.005,0.026,-0.001,-0.027],[-0.004,1.0,-0.01,0.028,-0.031,-0.012,0.085,-0.007,0.285],[0.001,-0.01,1.0,-0.012,0.013,0.023,-0.028,0.008,-0.014],[0.006,0.028,-0.012,1.0,-0.304,-0.015,-0.01,0.013,0.119],[0.012,-0.031,0.013,-0.304,1.0,0.003,0.01,0.014,-0.048],[-0.005,-0.012,0.023,-0.015,0.003,1.0,-0.012,-0.01,-0.007],[0.026,0.085,-0.028,-0.01,0.01,-0.012,1.0,-0.011,-0.156],[-0.001,-0.007,0.008,0.013,0.014,-0.01,-0.011,1.0,0.012],[-0.027,0.285,-0.014,0.119,-0.048,-0.007,-0.156,0.012,1.0]],\"type\":\"heatmap\",\"xaxis\":\"x\",\"yaxis\":\"y\",\"hovertemplate\":\"x: %{x}<br>y: %{y}<br>color: %{z}<extra></extra>\"}],                        {\"template\":{\"data\":{\"bar\":[{\"error_x\":{\"color\":\"#2a3f5f\"},\"error_y\":{\"color\":\"#2a3f5f\"},\"marker\":{\"line\":{\"color\":\"#E5ECF6\",\"width\":0.5},\"pattern\":{\"fillmode\":\"overlay\",\"size\":10,\"solidity\":0.2}},\"type\":\"bar\"}],\"barpolar\":[{\"marker\":{\"line\":{\"color\":\"#E5ECF6\",\"width\":0.5},\"pattern\":{\"fillmode\":\"overlay\",\"size\":10,\"solidity\":0.2}},\"type\":\"barpolar\"}],\"carpet\":[{\"aaxis\":{\"endlinecolor\":\"#2a3f5f\",\"gridcolor\":\"white\",\"linecolor\":\"white\",\"minorgridcolor\":\"white\",\"startlinecolor\":\"#2a3f5f\"},\"baxis\":{\"endlinecolor\":\"#2a3f5f\",\"gridcolor\":\"white\",\"linecolor\":\"white\",\"minorgridcolor\":\"white\",\"startlinecolor\":\"#2a3f5f\"},\"type\":\"carpet\"}],\"choropleth\":[{\"colorbar\":{\"outlinewidth\":0,\"ticks\":\"\"},\"type\":\"choropleth\"}],\"contour\":[{\"colorbar\":{\"outlinewidth\":0,\"ticks\":\"\"},\"colorscale\":[[0.0,\"#0d0887\"],[0.1111111111111111,\"#46039f\"],[0.2222222222222222,\"#7201a8\"],[0.3333333333333333,\"#9c179e\"],[0.4444444444444444,\"#bd3786\"],[0.5555555555555556,\"#d8576b\"],[0.6666666666666666,\"#ed7953\"],[0.7777777777777778,\"#fb9f3a\"],[0.8888888888888888,\"#fdca26\"],[1.0,\"#f0f921\"]],\"type\":\"contour\"}],\"contourcarpet\":[{\"colorbar\":{\"outlinewidth\":0,\"ticks\":\"\"},\"type\":\"contourcarpet\"}],\"heatmap\":[{\"colorbar\":{\"outlinewidth\":0,\"ticks\":\"\"},\"colorscale\":[[0.0,\"#0d0887\"],[0.1111111111111111,\"#46039f\"],[0.2222222222222222,\"#7201a8\"],[0.3333333333333333,\"#9c179e\"],[0.4444444444444444,\"#bd3786\"],[0.5555555555555556,\"#d8576b\"],[0.6666666666666666,\"#ed7953\"],[0.7777777777777778,\"#fb9f3a\"],[0.8888888888888888,\"#fdca26\"],[1.0,\"#f0f921\"]],\"type\":\"heatmap\"}],\"heatmapgl\":[{\"colorbar\":{\"outlinewidth\":0,\"ticks\":\"\"},\"colorscale\":[[0.0,\"#0d0887\"],[0.1111111111111111,\"#46039f\"],[0.2222222222222222,\"#7201a8\"],[0.3333333333333333,\"#9c179e\"],[0.4444444444444444,\"#bd3786\"],[0.5555555555555556,\"#d8576b\"],[0.6666666666666666,\"#ed7953\"],[0.7777777777777778,\"#fb9f3a\"],[0.8888888888888888,\"#fdca26\"],[1.0,\"#f0f921\"]],\"type\":\"heatmapgl\"}],\"histogram\":[{\"marker\":{\"pattern\":{\"fillmode\":\"overlay\",\"size\":10,\"solidity\":0.2}},\"type\":\"histogram\"}],\"histogram2d\":[{\"colorbar\":{\"outlinewidth\":0,\"ticks\":\"\"},\"colorscale\":[[0.0,\"#0d0887\"],[0.1111111111111111,\"#46039f\"],[0.2222222222222222,\"#7201a8\"],[0.3333333333333333,\"#9c179e\"],[0.4444444444444444,\"#bd3786\"],[0.5555555555555556,\"#d8576b\"],[0.6666666666666666,\"#ed7953\"],[0.7777777777777778,\"#fb9f3a\"],[0.8888888888888888,\"#fdca26\"],[1.0,\"#f0f921\"]],\"type\":\"histogram2d\"}],\"histogram2dcontour\":[{\"colorbar\":{\"outlinewidth\":0,\"ticks\":\"\"},\"colorscale\":[[0.0,\"#0d0887\"],[0.1111111111111111,\"#46039f\"],[0.2222222222222222,\"#7201a8\"],[0.3333333333333333,\"#9c179e\"],[0.4444444444444444,\"#bd3786\"],[0.5555555555555556,\"#d8576b\"],[0.6666666666666666,\"#ed7953\"],[0.7777777777777778,\"#fb9f3a\"],[0.8888888888888888,\"#fdca26\"],[1.0,\"#f0f921\"]],\"type\":\"histogram2dcontour\"}],\"mesh3d\":[{\"colorbar\":{\"outlinewidth\":0,\"ticks\":\"\"},\"type\":\"mesh3d\"}],\"parcoords\":[{\"line\":{\"colorbar\":{\"outlinewidth\":0,\"ticks\":\"\"}},\"type\":\"parcoords\"}],\"pie\":[{\"automargin\":true,\"type\":\"pie\"}],\"scatter\":[{\"marker\":{\"colorbar\":{\"outlinewidth\":0,\"ticks\":\"\"}},\"type\":\"scatter\"}],\"scatter3d\":[{\"line\":{\"colorbar\":{\"outlinewidth\":0,\"ticks\":\"\"}},\"marker\":{\"colorbar\":{\"outlinewidth\":0,\"ticks\":\"\"}},\"type\":\"scatter3d\"}],\"scattercarpet\":[{\"marker\":{\"colorbar\":{\"outlinewidth\":0,\"ticks\":\"\"}},\"type\":\"scattercarpet\"}],\"scattergeo\":[{\"marker\":{\"colorbar\":{\"outlinewidth\":0,\"ticks\":\"\"}},\"type\":\"scattergeo\"}],\"scattergl\":[{\"marker\":{\"colorbar\":{\"outlinewidth\":0,\"ticks\":\"\"}},\"type\":\"scattergl\"}],\"scattermapbox\":[{\"marker\":{\"colorbar\":{\"outlinewidth\":0,\"ticks\":\"\"}},\"type\":\"scattermapbox\"}],\"scatterpolar\":[{\"marker\":{\"colorbar\":{\"outlinewidth\":0,\"ticks\":\"\"}},\"type\":\"scatterpolar\"}],\"scatterpolargl\":[{\"marker\":{\"colorbar\":{\"outlinewidth\":0,\"ticks\":\"\"}},\"type\":\"scatterpolargl\"}],\"scatterternary\":[{\"marker\":{\"colorbar\":{\"outlinewidth\":0,\"ticks\":\"\"}},\"type\":\"scatterternary\"}],\"surface\":[{\"colorbar\":{\"outlinewidth\":0,\"ticks\":\"\"},\"colorscale\":[[0.0,\"#0d0887\"],[0.1111111111111111,\"#46039f\"],[0.2222222222222222,\"#7201a8\"],[0.3333333333333333,\"#9c179e\"],[0.4444444444444444,\"#bd3786\"],[0.5555555555555556,\"#d8576b\"],[0.6666666666666666,\"#ed7953\"],[0.7777777777777778,\"#fb9f3a\"],[0.8888888888888888,\"#fdca26\"],[1.0,\"#f0f921\"]],\"type\":\"surface\"}],\"table\":[{\"cells\":{\"fill\":{\"color\":\"#EBF0F8\"},\"line\":{\"color\":\"white\"}},\"header\":{\"fill\":{\"color\":\"#C8D4E3\"},\"line\":{\"color\":\"white\"}},\"type\":\"table\"}]},\"layout\":{\"annotationdefaults\":{\"arrowcolor\":\"#2a3f5f\",\"arrowhead\":0,\"arrowwidth\":1},\"autotypenumbers\":\"strict\",\"coloraxis\":{\"colorbar\":{\"outlinewidth\":0,\"ticks\":\"\"}},\"colorscale\":{\"diverging\":[[0,\"#8e0152\"],[0.1,\"#c51b7d\"],[0.2,\"#de77ae\"],[0.3,\"#f1b6da\"],[0.4,\"#fde0ef\"],[0.5,\"#f7f7f7\"],[0.6,\"#e6f5d0\"],[0.7,\"#b8e186\"],[0.8,\"#7fbc41\"],[0.9,\"#4d9221\"],[1,\"#276419\"]],\"sequential\":[[0.0,\"#0d0887\"],[0.1111111111111111,\"#46039f\"],[0.2222222222222222,\"#7201a8\"],[0.3333333333333333,\"#9c179e\"],[0.4444444444444444,\"#bd3786\"],[0.5555555555555556,\"#d8576b\"],[0.6666666666666666,\"#ed7953\"],[0.7777777777777778,\"#fb9f3a\"],[0.8888888888888888,\"#fdca26\"],[1.0,\"#f0f921\"]],\"sequentialminus\":[[0.0,\"#0d0887\"],[0.1111111111111111,\"#46039f\"],[0.2222222222222222,\"#7201a8\"],[0.3333333333333333,\"#9c179e\"],[0.4444444444444444,\"#bd3786\"],[0.5555555555555556,\"#d8576b\"],[0.6666666666666666,\"#ed7953\"],[0.7777777777777778,\"#fb9f3a\"],[0.8888888888888888,\"#fdca26\"],[1.0,\"#f0f921\"]]},\"colorway\":[\"#636efa\",\"#EF553B\",\"#00cc96\",\"#ab63fa\",\"#FFA15A\",\"#19d3f3\",\"#FF6692\",\"#B6E880\",\"#FF97FF\",\"#FECB52\"],\"font\":{\"color\":\"#2a3f5f\"},\"geo\":{\"bgcolor\":\"white\",\"lakecolor\":\"white\",\"landcolor\":\"#E5ECF6\",\"showlakes\":true,\"showland\":true,\"subunitcolor\":\"white\"},\"hoverlabel\":{\"align\":\"left\"},\"hovermode\":\"closest\",\"mapbox\":{\"style\":\"light\"},\"paper_bgcolor\":\"white\",\"plot_bgcolor\":\"#E5ECF6\",\"polar\":{\"angularaxis\":{\"gridcolor\":\"white\",\"linecolor\":\"white\",\"ticks\":\"\"},\"bgcolor\":\"#E5ECF6\",\"radialaxis\":{\"gridcolor\":\"white\",\"linecolor\":\"white\",\"ticks\":\"\"}},\"scene\":{\"xaxis\":{\"backgroundcolor\":\"#E5ECF6\",\"gridcolor\":\"white\",\"gridwidth\":2,\"linecolor\":\"white\",\"showbackground\":true,\"ticks\":\"\",\"zerolinecolor\":\"white\"},\"yaxis\":{\"backgroundcolor\":\"#E5ECF6\",\"gridcolor\":\"white\",\"gridwidth\":2,\"linecolor\":\"white\",\"showbackground\":true,\"ticks\":\"\",\"zerolinecolor\":\"white\"},\"zaxis\":{\"backgroundcolor\":\"#E5ECF6\",\"gridcolor\":\"white\",\"gridwidth\":2,\"linecolor\":\"white\",\"showbackground\":true,\"ticks\":\"\",\"zerolinecolor\":\"white\"}},\"shapedefaults\":{\"line\":{\"color\":\"#2a3f5f\"}},\"ternary\":{\"aaxis\":{\"gridcolor\":\"white\",\"linecolor\":\"white\",\"ticks\":\"\"},\"baxis\":{\"gridcolor\":\"white\",\"linecolor\":\"white\",\"ticks\":\"\"},\"bgcolor\":\"#E5ECF6\",\"caxis\":{\"gridcolor\":\"white\",\"linecolor\":\"white\",\"ticks\":\"\"}},\"title\":{\"x\":0.05},\"xaxis\":{\"automargin\":true,\"gridcolor\":\"white\",\"linecolor\":\"white\",\"ticks\":\"\",\"title\":{\"standoff\":15},\"zerolinecolor\":\"white\",\"zerolinewidth\":2},\"yaxis\":{\"automargin\":true,\"gridcolor\":\"white\",\"linecolor\":\"white\",\"ticks\":\"\",\"title\":{\"standoff\":15},\"zerolinecolor\":\"white\",\"zerolinewidth\":2}}},\"xaxis\":{\"anchor\":\"y\",\"domain\":[0.0,1.0],\"scaleanchor\":\"y\",\"constrain\":\"domain\"},\"yaxis\":{\"anchor\":\"x\",\"domain\":[0.0,1.0],\"autorange\":\"reversed\",\"constrain\":\"domain\"},\"coloraxis\":{\"colorscale\":[[0.0,\"#0d0887\"],[0.1111111111111111,\"#46039f\"],[0.2222222222222222,\"#7201a8\"],[0.3333333333333333,\"#9c179e\"],[0.4444444444444444,\"#bd3786\"],[0.5555555555555556,\"#d8576b\"],[0.6666666666666666,\"#ed7953\"],[0.7777777777777778,\"#fb9f3a\"],[0.8888888888888888,\"#fdca26\"],[1.0,\"#f0f921\"]]},\"margin\":{\"t\":60},\"height\":800,\"width\":800},                        {\"responsive\": true}                    ).then(function(){\n",
              "                            \n",
              "var gd = document.getElementById('c11cd185-1bdb-4b8c-93a6-227ed80fe702');\n",
              "var x = new MutationObserver(function (mutations, observer) {{\n",
              "        var display = window.getComputedStyle(gd).display;\n",
              "        if (!display || display === 'none') {{\n",
              "            console.log([gd, 'removed!']);\n",
              "            Plotly.purge(gd);\n",
              "            observer.disconnect();\n",
              "        }}\n",
              "}});\n",
              "\n",
              "// Listen for the removal of the full notebook cells\n",
              "var notebookContainer = gd.closest('#notebook-container');\n",
              "if (notebookContainer) {{\n",
              "    x.observe(notebookContainer, {childList: true});\n",
              "}}\n",
              "\n",
              "// Listen for the clearing of the current output cell\n",
              "var outputEl = gd.closest('.output');\n",
              "if (outputEl) {{\n",
              "    x.observe(outputEl, {childList: true});\n",
              "}}\n",
              "\n",
              "                        })                };                            </script>        </div>\n",
              "</body>\n",
              "</html>"
            ]
          },
          "metadata": {}
        }
      ]
    },
    {
      "cell_type": "markdown",
      "source": [
        "Корреляция целевого признака с остаольными слабая. Самая большая корреляция с возрастом."
      ],
      "metadata": {
        "id": "II-5ZaqrYTR0"
      }
    },
    {
      "cell_type": "markdown",
      "source": [
        "#Кодируем данные"
      ],
      "metadata": {
        "id": "VFoRSiV3NQGW"
      }
    },
    {
      "cell_type": "code",
      "source": [
        "cat_columns = list(df.select_dtypes(include=['object']).columns)"
      ],
      "metadata": {
        "id": "ydhPG6OgMWnW"
      },
      "execution_count": 34,
      "outputs": []
    },
    {
      "cell_type": "code",
      "source": [
        "enc = OrdinalEncoder()\n",
        "df.loc[:,cat_columns] = enc.fit_transform(df.loc[:,cat_columns])"
      ],
      "metadata": {
        "id": "ksD988DU90tY"
      },
      "execution_count": 35,
      "outputs": []
    },
    {
      "cell_type": "code",
      "source": [
        "df.info()\n",
        "df"
      ],
      "metadata": {
        "colab": {
          "base_uri": "https://localhost:8080/",
          "height": 725
        },
        "id": "ClR5k7SaNxPp",
        "outputId": "ac59ec90-67ce-471c-ab68-cb97c5fc18f9"
      },
      "execution_count": 36,
      "outputs": [
        {
          "output_type": "stream",
          "name": "stdout",
          "text": [
            "<class 'pandas.core.frame.DataFrame'>\n",
            "RangeIndex: 10000 entries, 0 to 9999\n",
            "Data columns (total 11 columns):\n",
            " #   Column           Non-Null Count  Dtype  \n",
            "---  ------           --------------  -----  \n",
            " 0   CreditScore      10000 non-null  int64  \n",
            " 1   Geography        10000 non-null  float64\n",
            " 2   Gender           10000 non-null  float64\n",
            " 3   Age              10000 non-null  int64  \n",
            " 4   Tenure           10000 non-null  int64  \n",
            " 5   Balance          10000 non-null  float64\n",
            " 6   NumOfProducts    10000 non-null  int64  \n",
            " 7   HasCrCard        10000 non-null  int64  \n",
            " 8   IsActiveMember   10000 non-null  int64  \n",
            " 9   EstimatedSalary  10000 non-null  float64\n",
            " 10  Exited           10000 non-null  int64  \n",
            "dtypes: float64(4), int64(7)\n",
            "memory usage: 859.5 KB\n"
          ]
        },
        {
          "output_type": "execute_result",
          "data": {
            "text/plain": [
              "      CreditScore  Geography  Gender  Age  Tenure    Balance  NumOfProducts  \\\n",
              "0             619        0.0     0.0   42       2       0.00              1   \n",
              "1             608        2.0     0.0   41       1   83807.86              1   \n",
              "2             502        0.0     0.0   42       8  159660.80              3   \n",
              "3             699        0.0     0.0   39       1       0.00              2   \n",
              "4             850        2.0     0.0   43       2  125510.82              1   \n",
              "...           ...        ...     ...  ...     ...        ...            ...   \n",
              "9995          771        0.0     1.0   39       5       0.00              2   \n",
              "9996          516        0.0     1.0   35      10   57369.61              1   \n",
              "9997          709        0.0     0.0   36       7       0.00              1   \n",
              "9998          772        1.0     1.0   42       3   75075.31              2   \n",
              "9999          792        0.0     0.0   28       4  130142.79              1   \n",
              "\n",
              "      HasCrCard  IsActiveMember  EstimatedSalary  Exited  \n",
              "0             1               1        101348.88       1  \n",
              "1             0               1        112542.58       0  \n",
              "2             1               0        113931.57       1  \n",
              "3             0               0         93826.63       0  \n",
              "4             1               1         79084.10       0  \n",
              "...         ...             ...              ...     ...  \n",
              "9995          1               0         96270.64       0  \n",
              "9996          1               1        101699.77       0  \n",
              "9997          0               1         42085.58       1  \n",
              "9998          1               0         92888.52       1  \n",
              "9999          1               0         38190.78       0  \n",
              "\n",
              "[10000 rows x 11 columns]"
            ],
            "text/html": [
              "\n",
              "  <div id=\"df-7fa704e7-448b-494d-82f7-09a84284ee02\">\n",
              "    <div class=\"colab-df-container\">\n",
              "      <div>\n",
              "<style scoped>\n",
              "    .dataframe tbody tr th:only-of-type {\n",
              "        vertical-align: middle;\n",
              "    }\n",
              "\n",
              "    .dataframe tbody tr th {\n",
              "        vertical-align: top;\n",
              "    }\n",
              "\n",
              "    .dataframe thead th {\n",
              "        text-align: right;\n",
              "    }\n",
              "</style>\n",
              "<table border=\"1\" class=\"dataframe\">\n",
              "  <thead>\n",
              "    <tr style=\"text-align: right;\">\n",
              "      <th></th>\n",
              "      <th>CreditScore</th>\n",
              "      <th>Geography</th>\n",
              "      <th>Gender</th>\n",
              "      <th>Age</th>\n",
              "      <th>Tenure</th>\n",
              "      <th>Balance</th>\n",
              "      <th>NumOfProducts</th>\n",
              "      <th>HasCrCard</th>\n",
              "      <th>IsActiveMember</th>\n",
              "      <th>EstimatedSalary</th>\n",
              "      <th>Exited</th>\n",
              "    </tr>\n",
              "  </thead>\n",
              "  <tbody>\n",
              "    <tr>\n",
              "      <th>0</th>\n",
              "      <td>619</td>\n",
              "      <td>0.0</td>\n",
              "      <td>0.0</td>\n",
              "      <td>42</td>\n",
              "      <td>2</td>\n",
              "      <td>0.00</td>\n",
              "      <td>1</td>\n",
              "      <td>1</td>\n",
              "      <td>1</td>\n",
              "      <td>101348.88</td>\n",
              "      <td>1</td>\n",
              "    </tr>\n",
              "    <tr>\n",
              "      <th>1</th>\n",
              "      <td>608</td>\n",
              "      <td>2.0</td>\n",
              "      <td>0.0</td>\n",
              "      <td>41</td>\n",
              "      <td>1</td>\n",
              "      <td>83807.86</td>\n",
              "      <td>1</td>\n",
              "      <td>0</td>\n",
              "      <td>1</td>\n",
              "      <td>112542.58</td>\n",
              "      <td>0</td>\n",
              "    </tr>\n",
              "    <tr>\n",
              "      <th>2</th>\n",
              "      <td>502</td>\n",
              "      <td>0.0</td>\n",
              "      <td>0.0</td>\n",
              "      <td>42</td>\n",
              "      <td>8</td>\n",
              "      <td>159660.80</td>\n",
              "      <td>3</td>\n",
              "      <td>1</td>\n",
              "      <td>0</td>\n",
              "      <td>113931.57</td>\n",
              "      <td>1</td>\n",
              "    </tr>\n",
              "    <tr>\n",
              "      <th>3</th>\n",
              "      <td>699</td>\n",
              "      <td>0.0</td>\n",
              "      <td>0.0</td>\n",
              "      <td>39</td>\n",
              "      <td>1</td>\n",
              "      <td>0.00</td>\n",
              "      <td>2</td>\n",
              "      <td>0</td>\n",
              "      <td>0</td>\n",
              "      <td>93826.63</td>\n",
              "      <td>0</td>\n",
              "    </tr>\n",
              "    <tr>\n",
              "      <th>4</th>\n",
              "      <td>850</td>\n",
              "      <td>2.0</td>\n",
              "      <td>0.0</td>\n",
              "      <td>43</td>\n",
              "      <td>2</td>\n",
              "      <td>125510.82</td>\n",
              "      <td>1</td>\n",
              "      <td>1</td>\n",
              "      <td>1</td>\n",
              "      <td>79084.10</td>\n",
              "      <td>0</td>\n",
              "    </tr>\n",
              "    <tr>\n",
              "      <th>...</th>\n",
              "      <td>...</td>\n",
              "      <td>...</td>\n",
              "      <td>...</td>\n",
              "      <td>...</td>\n",
              "      <td>...</td>\n",
              "      <td>...</td>\n",
              "      <td>...</td>\n",
              "      <td>...</td>\n",
              "      <td>...</td>\n",
              "      <td>...</td>\n",
              "      <td>...</td>\n",
              "    </tr>\n",
              "    <tr>\n",
              "      <th>9995</th>\n",
              "      <td>771</td>\n",
              "      <td>0.0</td>\n",
              "      <td>1.0</td>\n",
              "      <td>39</td>\n",
              "      <td>5</td>\n",
              "      <td>0.00</td>\n",
              "      <td>2</td>\n",
              "      <td>1</td>\n",
              "      <td>0</td>\n",
              "      <td>96270.64</td>\n",
              "      <td>0</td>\n",
              "    </tr>\n",
              "    <tr>\n",
              "      <th>9996</th>\n",
              "      <td>516</td>\n",
              "      <td>0.0</td>\n",
              "      <td>1.0</td>\n",
              "      <td>35</td>\n",
              "      <td>10</td>\n",
              "      <td>57369.61</td>\n",
              "      <td>1</td>\n",
              "      <td>1</td>\n",
              "      <td>1</td>\n",
              "      <td>101699.77</td>\n",
              "      <td>0</td>\n",
              "    </tr>\n",
              "    <tr>\n",
              "      <th>9997</th>\n",
              "      <td>709</td>\n",
              "      <td>0.0</td>\n",
              "      <td>0.0</td>\n",
              "      <td>36</td>\n",
              "      <td>7</td>\n",
              "      <td>0.00</td>\n",
              "      <td>1</td>\n",
              "      <td>0</td>\n",
              "      <td>1</td>\n",
              "      <td>42085.58</td>\n",
              "      <td>1</td>\n",
              "    </tr>\n",
              "    <tr>\n",
              "      <th>9998</th>\n",
              "      <td>772</td>\n",
              "      <td>1.0</td>\n",
              "      <td>1.0</td>\n",
              "      <td>42</td>\n",
              "      <td>3</td>\n",
              "      <td>75075.31</td>\n",
              "      <td>2</td>\n",
              "      <td>1</td>\n",
              "      <td>0</td>\n",
              "      <td>92888.52</td>\n",
              "      <td>1</td>\n",
              "    </tr>\n",
              "    <tr>\n",
              "      <th>9999</th>\n",
              "      <td>792</td>\n",
              "      <td>0.0</td>\n",
              "      <td>0.0</td>\n",
              "      <td>28</td>\n",
              "      <td>4</td>\n",
              "      <td>130142.79</td>\n",
              "      <td>1</td>\n",
              "      <td>1</td>\n",
              "      <td>0</td>\n",
              "      <td>38190.78</td>\n",
              "      <td>0</td>\n",
              "    </tr>\n",
              "  </tbody>\n",
              "</table>\n",
              "<p>10000 rows × 11 columns</p>\n",
              "</div>\n",
              "      <button class=\"colab-df-convert\" onclick=\"convertToInteractive('df-7fa704e7-448b-494d-82f7-09a84284ee02')\"\n",
              "              title=\"Convert this dataframe to an interactive table.\"\n",
              "              style=\"display:none;\">\n",
              "        \n",
              "  <svg xmlns=\"http://www.w3.org/2000/svg\" height=\"24px\"viewBox=\"0 0 24 24\"\n",
              "       width=\"24px\">\n",
              "    <path d=\"M0 0h24v24H0V0z\" fill=\"none\"/>\n",
              "    <path d=\"M18.56 5.44l.94 2.06.94-2.06 2.06-.94-2.06-.94-.94-2.06-.94 2.06-2.06.94zm-11 1L8.5 8.5l.94-2.06 2.06-.94-2.06-.94L8.5 2.5l-.94 2.06-2.06.94zm10 10l.94 2.06.94-2.06 2.06-.94-2.06-.94-.94-2.06-.94 2.06-2.06.94z\"/><path d=\"M17.41 7.96l-1.37-1.37c-.4-.4-.92-.59-1.43-.59-.52 0-1.04.2-1.43.59L10.3 9.45l-7.72 7.72c-.78.78-.78 2.05 0 2.83L4 21.41c.39.39.9.59 1.41.59.51 0 1.02-.2 1.41-.59l7.78-7.78 2.81-2.81c.8-.78.8-2.07 0-2.86zM5.41 20L4 18.59l7.72-7.72 1.47 1.35L5.41 20z\"/>\n",
              "  </svg>\n",
              "      </button>\n",
              "      \n",
              "  <style>\n",
              "    .colab-df-container {\n",
              "      display:flex;\n",
              "      flex-wrap:wrap;\n",
              "      gap: 12px;\n",
              "    }\n",
              "\n",
              "    .colab-df-convert {\n",
              "      background-color: #E8F0FE;\n",
              "      border: none;\n",
              "      border-radius: 50%;\n",
              "      cursor: pointer;\n",
              "      display: none;\n",
              "      fill: #1967D2;\n",
              "      height: 32px;\n",
              "      padding: 0 0 0 0;\n",
              "      width: 32px;\n",
              "    }\n",
              "\n",
              "    .colab-df-convert:hover {\n",
              "      background-color: #E2EBFA;\n",
              "      box-shadow: 0px 1px 2px rgba(60, 64, 67, 0.3), 0px 1px 3px 1px rgba(60, 64, 67, 0.15);\n",
              "      fill: #174EA6;\n",
              "    }\n",
              "\n",
              "    [theme=dark] .colab-df-convert {\n",
              "      background-color: #3B4455;\n",
              "      fill: #D2E3FC;\n",
              "    }\n",
              "\n",
              "    [theme=dark] .colab-df-convert:hover {\n",
              "      background-color: #434B5C;\n",
              "      box-shadow: 0px 1px 3px 1px rgba(0, 0, 0, 0.15);\n",
              "      filter: drop-shadow(0px 1px 2px rgba(0, 0, 0, 0.3));\n",
              "      fill: #FFFFFF;\n",
              "    }\n",
              "  </style>\n",
              "\n",
              "      <script>\n",
              "        const buttonEl =\n",
              "          document.querySelector('#df-7fa704e7-448b-494d-82f7-09a84284ee02 button.colab-df-convert');\n",
              "        buttonEl.style.display =\n",
              "          google.colab.kernel.accessAllowed ? 'block' : 'none';\n",
              "\n",
              "        async function convertToInteractive(key) {\n",
              "          const element = document.querySelector('#df-7fa704e7-448b-494d-82f7-09a84284ee02');\n",
              "          const dataTable =\n",
              "            await google.colab.kernel.invokeFunction('convertToInteractive',\n",
              "                                                     [key], {});\n",
              "          if (!dataTable) return;\n",
              "\n",
              "          const docLinkHtml = 'Like what you see? Visit the ' +\n",
              "            '<a target=\"_blank\" href=https://colab.research.google.com/notebooks/data_table.ipynb>data table notebook</a>'\n",
              "            + ' to learn more about interactive tables.';\n",
              "          element.innerHTML = '';\n",
              "          dataTable['output_type'] = 'display_data';\n",
              "          await google.colab.output.renderOutput(dataTable, element);\n",
              "          const docLink = document.createElement('div');\n",
              "          docLink.innerHTML = docLinkHtml;\n",
              "          element.appendChild(docLink);\n",
              "        }\n",
              "      </script>\n",
              "    </div>\n",
              "  </div>\n",
              "  "
            ]
          },
          "metadata": {},
          "execution_count": 36
        }
      ]
    },
    {
      "cell_type": "markdown",
      "source": [
        "## Масшатабируем данные"
      ],
      "metadata": {
        "id": "KNuq598uYquG"
      }
    },
    {
      "cell_type": "code",
      "source": [
        "pd.options.mode.chained_assignment = None\n",
        "\n",
        "numeric = ['CreditScore', 'Age', 'Balance', 'EstimatedSalary']\n",
        "\n",
        "scaler = StandardScaler()\n",
        "scaler.fit(df[numeric]) \n",
        "\n",
        "df[numeric] = scaler.transform(df[numeric])"
      ],
      "metadata": {
        "id": "ApidHJUSNMYA"
      },
      "execution_count": 37,
      "outputs": []
    },
    {
      "cell_type": "markdown",
      "source": [
        "## Делим данные для модели"
      ],
      "metadata": {
        "id": "WiJEAcUJYyLZ"
      }
    },
    {
      "cell_type": "code",
      "source": [
        "features = df.drop('Exited', axis=1)\n",
        "target = df['Exited']"
      ],
      "metadata": {
        "id": "PQcmeL_zOfxo"
      },
      "execution_count": 38,
      "outputs": []
    },
    {
      "cell_type": "markdown",
      "source": [
        "Доработаем баланс классов"
      ],
      "metadata": {
        "id": "N-C81mo0Y4G2"
      }
    },
    {
      "cell_type": "code",
      "source": [
        "smt = SMOTE()\n",
        "features_res , target_res  = smt.fit_resample(features,target)\n",
        "target_res.value_counts()"
      ],
      "metadata": {
        "colab": {
          "base_uri": "https://localhost:8080/"
        },
        "id": "xtOomoSq_ROf",
        "outputId": "163e6b42-842d-4abf-9c9a-115794b7f6e8"
      },
      "execution_count": 39,
      "outputs": [
        {
          "output_type": "execute_result",
          "data": {
            "text/plain": [
              "1    7963\n",
              "0    7963\n",
              "Name: Exited, dtype: int64"
            ]
          },
          "metadata": {},
          "execution_count": 39
        }
      ]
    },
    {
      "cell_type": "code",
      "source": [
        "features_train, features_test, target_train, target_test = train_test_split (features_res , target_res, random_state=42, test_size=0.25)"
      ],
      "metadata": {
        "id": "_9nrM_jtO-J-"
      },
      "execution_count": 40,
      "outputs": []
    },
    {
      "cell_type": "markdown",
      "source": [
        "#Построим модели"
      ],
      "metadata": {
        "id": "nhpKgqSDQTPs"
      }
    },
    {
      "cell_type": "markdown",
      "source": [
        "## LogisticRegression"
      ],
      "metadata": {
        "id": "nn0w0SfaEW8i"
      }
    },
    {
      "cell_type": "code",
      "source": [
        "skf = StratifiedKFold(n_splits=5, shuffle= True, random_state= 42)"
      ],
      "metadata": {
        "id": "J2hTgFMWpap9"
      },
      "execution_count": 41,
      "outputs": []
    },
    {
      "cell_type": "code",
      "source": [
        "lr = LogisticRegression(random_state=42)"
      ],
      "metadata": {
        "id": "yVjKWB8hUsDC"
      },
      "execution_count": 42,
      "outputs": []
    },
    {
      "cell_type": "markdown",
      "source": [
        "Подбираем гиперпараметры с помощью GridSearchCV"
      ],
      "metadata": {
        "id": "GoiCjimOdV26"
      }
    },
    {
      "cell_type": "code",
      "source": [
        "params_lr = {\"C\":np.logspace(-3,3,7)}\n",
        "best_lr = GridSearchCV(estimator= lr, param_grid= params_lr, \n",
        "                         cv= skf, verbose= True, n_jobs= -1,scoring='f1')"
      ],
      "metadata": {
        "id": "v8B7GWozpTq4"
      },
      "execution_count": 43,
      "outputs": []
    },
    {
      "cell_type": "code",
      "source": [
        "best_lr.fit(features_train, target_train)"
      ],
      "metadata": {
        "colab": {
          "base_uri": "https://localhost:8080/"
        },
        "outputId": "4abbc1c6-bac6-4b29-8dfc-409640489b9c",
        "id": "K67QWm5FpTq6"
      },
      "execution_count": 44,
      "outputs": [
        {
          "output_type": "stream",
          "name": "stdout",
          "text": [
            "Fitting 5 folds for each of 7 candidates, totalling 35 fits\n"
          ]
        },
        {
          "output_type": "execute_result",
          "data": {
            "text/plain": [
              "GridSearchCV(cv=StratifiedKFold(n_splits=5, random_state=42, shuffle=True),\n",
              "             estimator=LogisticRegression(random_state=42), n_jobs=-1,\n",
              "             param_grid={'C': array([1.e-03, 1.e-02, 1.e-01, 1.e+00, 1.e+01, 1.e+02, 1.e+03])},\n",
              "             scoring='f1', verbose=True)"
            ]
          },
          "metadata": {},
          "execution_count": 44
        }
      ]
    },
    {
      "cell_type": "code",
      "source": [
        "lr_gs_best_params = best_lr.best_params_"
      ],
      "metadata": {
        "id": "IgmqXAlepTq8"
      },
      "execution_count": 45,
      "outputs": []
    },
    {
      "cell_type": "code",
      "source": [
        "best_lr.best_score_"
      ],
      "metadata": {
        "colab": {
          "base_uri": "https://localhost:8080/"
        },
        "outputId": "cb77f04a-ff91-4b90-e8b0-bc7bff2809f7",
        "id": "F5heqgIopTq8"
      },
      "execution_count": 46,
      "outputs": [
        {
          "output_type": "execute_result",
          "data": {
            "text/plain": [
              "0.720996055769486"
            ]
          },
          "metadata": {},
          "execution_count": 46
        }
      ]
    },
    {
      "cell_type": "code",
      "source": [
        "lr = LogisticRegression(random_state=42, **lr_gs_best_params)"
      ],
      "metadata": {
        "id": "ptmEE9OaV3R7"
      },
      "execution_count": 47,
      "outputs": []
    },
    {
      "cell_type": "code",
      "source": [
        "lr.fit(features_train,target_train)\n",
        "pred_lr = lr.predict(features_test)"
      ],
      "metadata": {
        "id": "Coai2Io-j8A7"
      },
      "execution_count": 48,
      "outputs": []
    },
    {
      "cell_type": "code",
      "source": [
        "print(classification_report(target_test, pred_lr))"
      ],
      "metadata": {
        "colab": {
          "base_uri": "https://localhost:8080/"
        },
        "id": "fx1CfveSFFjn",
        "outputId": "7f06f0d8-0137-4c38-a8c5-ecad594e71a0"
      },
      "execution_count": 49,
      "outputs": [
        {
          "output_type": "stream",
          "name": "stdout",
          "text": [
            "              precision    recall  f1-score   support\n",
            "\n",
            "           0       0.72      0.72      0.72      2036\n",
            "           1       0.71      0.70      0.71      1946\n",
            "\n",
            "    accuracy                           0.71      3982\n",
            "   macro avg       0.71      0.71      0.71      3982\n",
            "weighted avg       0.71      0.71      0.71      3982\n",
            "\n"
          ]
        }
      ]
    },
    {
      "cell_type": "code",
      "source": [
        "lr_accuracy = accuracy_score(target_test, pred_lr)\n",
        "lr_precision = precision_score(target_test, pred_lr)\n",
        "lr_recall = recall_score(target_test, pred_lr)\n",
        "lr_f1 = f1_score(target_test, pred_lr)"
      ],
      "metadata": {
        "id": "Dyai_PkrFC8A"
      },
      "execution_count": 50,
      "outputs": []
    },
    {
      "cell_type": "code",
      "source": [
        "print(f'Logistic Redression \\n accuracy: {lr_accuracy} \\n precision: {lr_precision} \\n recall: {lr_recall} \\n f1: {lr_f1}')"
      ],
      "metadata": {
        "colab": {
          "base_uri": "https://localhost:8080/"
        },
        "id": "Yt9UKO_rGaJS",
        "outputId": "a1a97fea-3f18-4f50-a934-0e4b51796f2e"
      },
      "execution_count": 51,
      "outputs": [
        {
          "output_type": "stream",
          "name": "stdout",
          "text": [
            "Logistic Redression \n",
            " accuracy: 0.7134605725765947 \n",
            " precision: 0.7086573354069466 \n",
            " recall: 0.7024665981500514 \n",
            " f1: 0.7055483870967743\n"
          ]
        }
      ]
    },
    {
      "cell_type": "markdown",
      "source": [
        "Получили метрики на невысоком уровне"
      ],
      "metadata": {
        "id": "Xvz7iH6iZPv0"
      }
    },
    {
      "cell_type": "code",
      "source": [
        "confusion_matrix(target_test, pred_lr)\n",
        "\n",
        "\n",
        "cf_matrix_lr = confusion_matrix(target_test, pred_lr)\n",
        "print(cf_matrix_lr)\n",
        "\n",
        "ax = sns.heatmap(cf_matrix_lr/np.sum(cf_matrix_lr), annot=True, fmt='.2%', cmap='binary')\n",
        "ax.set_title('LogisticRegression\\n\\n');\n",
        "ax.set_xlabel('\\nPredicted Values')\n",
        "ax.set_ylabel('Actual Values ');\n",
        "\n",
        "ax.xaxis.set_ticklabels(['0','1'])\n",
        "ax.yaxis.set_ticklabels(['0','1'])\n",
        "\n",
        "plt.show()"
      ],
      "metadata": {
        "colab": {
          "base_uri": "https://localhost:8080/",
          "height": 380
        },
        "id": "LrPzUDmdF4za",
        "outputId": "b07d867c-1fb7-461b-eec0-a55439c948c3"
      },
      "execution_count": 52,
      "outputs": [
        {
          "output_type": "stream",
          "name": "stdout",
          "text": [
            "[[1474  562]\n",
            " [ 579 1367]]\n"
          ]
        },
        {
          "output_type": "display_data",
          "data": {
            "text/plain": [
              "<Figure size 432x288 with 2 Axes>"
            ],
            "image/png": "[encoded data removed]"
          },
          "metadata": {}
        }
      ]
    },
    {
      "cell_type": "code",
      "source": [
        "lr_auc_score=roc_auc_score(target_test,lr.predict(features_test))\n",
        "fpr,tpr,thresholds=roc_curve(target_test,lr.predict_proba(features_test)[:,1])\n",
        "plt.figure(figsize=(10,7))\n",
        "plt.plot(fpr,tpr,label=\"AUC(Area=%0.2f)\"%lr_auc_score)\n",
        "plt.plot([0,1],\"r--\")\n",
        "plt.xlim([0.0,1.0])\n",
        "plt.ylim([0.0,1.05])\n",
        "plt.xlabel(\"False Positive\")\n",
        "plt.ylabel(\"True Positive\")\n",
        "plt.title(\"ROC Random Forrest\")\n",
        "plt.show()"
      ],
      "metadata": {
        "colab": {
          "base_uri": "https://localhost:8080/",
          "height": 464
        },
        "id": "iFz_I3kco3wQ",
        "outputId": "a60b6f94-d932-4e5c-92b1-02342c9d017e"
      },
      "execution_count": 53,
      "outputs": [
        {
          "output_type": "display_data",
          "data": {
            "text/plain": [
              "<Figure size 720x504 with 1 Axes>"
            ],
            "image/png": "[encoded data removed]"
          },
          "metadata": {}
        }
      ]
    },
    {
      "cell_type": "code",
      "source": [
        "lr_auc_score"
      ],
      "metadata": {
        "colab": {
          "base_uri": "https://localhost:8080/"
        },
        "id": "v-0zfgHKaVYR",
        "outputId": "4d8b9541-6d7c-4115-bbf6-e0cfa5cc9b0f"
      },
      "execution_count": 54,
      "outputs": [
        {
          "output_type": "execute_result",
          "data": {
            "text/plain": [
              "0.7132175819826877"
            ]
          },
          "metadata": {},
          "execution_count": 54
        }
      ]
    },
    {
      "cell_type": "markdown",
      "source": [
        "Значение roc_auc так же на невымоком уровне"
      ],
      "metadata": {
        "id": "pJnHm5HRaOyE"
      }
    },
    {
      "cell_type": "markdown",
      "source": [
        "## RandomForestClassifier"
      ],
      "metadata": {
        "id": "4KR4lENKEbiO"
      }
    },
    {
      "cell_type": "markdown",
      "source": [
        "\n",
        "Подбираем параметры с помощь GridSearchCV"
      ],
      "metadata": {
        "id": "U5Ddx8nda2fx"
      }
    },
    {
      "cell_type": "code",
      "source": [
        "rf = RandomForestClassifier(random_state=42)\n",
        "params = {'max_depth': [10,20, 30,40,50],\n",
        "         'min_samples_leaf': [3,6,9],\n",
        "          'n_estimators': [100,200,300]}\n",
        "best_tree = GridSearchCV(estimator= rf, param_grid= params, \n",
        "                         cv= skf, verbose= True, n_jobs= -1,scoring='f1')"
      ],
      "metadata": {
        "id": "nzpl4HlJXZyR"
      },
      "execution_count": 55,
      "outputs": []
    },
    {
      "cell_type": "code",
      "source": [
        "best_tree.fit(features_train, target_train)"
      ],
      "metadata": {
        "colab": {
          "base_uri": "https://localhost:8080/"
        },
        "id": "izG54bbMYK8F",
        "outputId": "bb0b4395-f322-4b38-8897-83653d763f87"
      },
      "execution_count": 56,
      "outputs": [
        {
          "output_type": "stream",
          "name": "stdout",
          "text": [
            "Fitting 5 folds for each of 45 candidates, totalling 225 fits\n"
          ]
        },
        {
          "output_type": "execute_result",
          "data": {
            "text/plain": [
              "GridSearchCV(cv=StratifiedKFold(n_splits=5, random_state=42, shuffle=True),\n",
              "             estimator=RandomForestClassifier(random_state=42), n_jobs=-1,\n",
              "             param_grid={'max_depth': [10, 20, 30, 40, 50],\n",
              "                         'min_samples_leaf': [3, 6, 9],\n",
              "                         'n_estimators': [100, 200, 300]},\n",
              "             scoring='f1', verbose=True)"
            ]
          },
          "metadata": {},
          "execution_count": 56
        }
      ]
    },
    {
      "cell_type": "code",
      "source": [
        "rf_gs_best_params = best_tree.best_params_"
      ],
      "metadata": {
        "id": "WtN2OdM2YS1z"
      },
      "execution_count": 57,
      "outputs": []
    },
    {
      "cell_type": "code",
      "source": [
        "best_tree.best_score_"
      ],
      "metadata": {
        "colab": {
          "base_uri": "https://localhost:8080/"
        },
        "id": "Dn5rkpscYbGs",
        "outputId": "27baf6d2-5d62-46f2-8a3c-5bef41cf53cf"
      },
      "execution_count": 58,
      "outputs": [
        {
          "output_type": "execute_result",
          "data": {
            "text/plain": [
              "0.8743212130415203"
            ]
          },
          "metadata": {},
          "execution_count": 58
        }
      ]
    },
    {
      "cell_type": "markdown",
      "source": [
        "Получили значение f1 лучше чем на предыдущей модели"
      ],
      "metadata": {
        "id": "ttV1R28MbFZT"
      }
    },
    {
      "cell_type": "code",
      "source": [
        "pip install --q optuna"
      ],
      "metadata": {
        "colab": {
          "base_uri": "https://localhost:8080/"
        },
        "id": "NIsZumjcZfax",
        "outputId": "a893e93d-c019-4cf7-d53a-adfd13f3e8f9"
      },
      "execution_count": 59,
      "outputs": [
        {
          "output_type": "stream",
          "name": "stdout",
          "text": [
            "\u001b[2K     \u001b[90m━━━━━━━━━━━━━━━━━━━━━━━━━━━━━━━━━━━━━━\u001b[0m \u001b[32m348.5/348.5 KB\u001b[0m \u001b[31m20.9 MB/s\u001b[0m eta \u001b[36m0:00:00\u001b[0m\n",
            "\u001b[2K     \u001b[90m━━━━━━━━━━━━━━━━━━━━━━━━━━━━━━━━━━━━━━━━\u001b[0m \u001b[32m81.0/81.0 KB\u001b[0m \u001b[31m10.2 MB/s\u001b[0m eta \u001b[36m0:00:00\u001b[0m\n",
            "\u001b[2K     \u001b[90m━━━━━━━━━━━━━━━━━━━━━━━━━━━━━━━━━━━━━━\u001b[0m \u001b[32m210.6/210.6 KB\u001b[0m \u001b[31m23.9 MB/s\u001b[0m eta \u001b[36m0:00:00\u001b[0m\n",
            "\u001b[2K     \u001b[90m━━━━━━━━━━━━━━━━━━━━━━━━━━━━━━━━━━━━━━━━\u001b[0m \u001b[32m78.7/78.7 KB\u001b[0m \u001b[31m9.4 MB/s\u001b[0m eta \u001b[36m0:00:00\u001b[0m\n",
            "\u001b[2K     \u001b[90m━━━━━━━━━━━━━━━━━━━━━━━━━━━━━━━━━━━━━━━━\u001b[0m \u001b[32m50.0/50.0 KB\u001b[0m \u001b[31m6.3 MB/s\u001b[0m eta \u001b[36m0:00:00\u001b[0m\n",
            "\u001b[2K     \u001b[90m━━━━━━━━━━━━━━━━━━━━━━━━━━━━━━━━━━━━━━\u001b[0m \u001b[32m147.1/147.1 KB\u001b[0m \u001b[31m17.6 MB/s\u001b[0m eta \u001b[36m0:00:00\u001b[0m\n",
            "\u001b[?25h  Preparing metadata (setup.py) ... \u001b[?25l\u001b[?25hdone\n",
            "\u001b[2K     \u001b[90m━━━━━━━━━━━━━━━━━━━━━━━━━━━━━━━━━━━━━━\u001b[0m \u001b[32m112.7/112.7 KB\u001b[0m \u001b[31m12.7 MB/s\u001b[0m eta \u001b[36m0:00:00\u001b[0m\n",
            "\u001b[?25h  Building wheel for pyperclip (setup.py) ... \u001b[?25l\u001b[?25hdone\n"
          ]
        }
      ]
    },
    {
      "cell_type": "markdown",
      "source": [
        "Подбираем гиперпараметры с помощью optuna"
      ],
      "metadata": {
        "id": "FmVt8YNgbThb"
      }
    },
    {
      "cell_type": "code",
      "source": [
        "import optuna\n",
        "param_rf = {\n",
        "            \"max_depth\": optuna.distributions.IntDistribution (2, 80),\n",
        "            'min_samples_leaf': optuna.distributions.IntDistribution (2,40),\n",
        "            'n_estimators': optuna.distributions.IntDistribution (50,500)\n",
        "            }\n",
        "optuna_search = optuna.integration.OptunaSearchCV(rf,param_rf, cv=3, scoring='f1',n_jobs=-1,n_trials=100)\n",
        "optuna_search.fit(features_train, target_train)"
      ],
      "metadata": {
        "colab": {
          "base_uri": "https://localhost:8080/"
        },
        "id": "x2r-bpoMYdSk",
        "outputId": "454449e8-3cff-4711-8a56-ba861f407ee8"
      },
      "execution_count": 60,
      "outputs": [
        {
          "output_type": "stream",
          "name": "stderr",
          "text": [
            "<ipython-input-60-3ec0a18bed29>:7: ExperimentalWarning:\n",
            "\n",
            "OptunaSearchCV is experimental (supported from v0.17.0). The interface can change in the future.\n",
            "\n",
            "\u001b[32m[I 2023-01-14 22:31:42,827]\u001b[0m A new study created in memory with name: no-name-83b9b78d-2dac-4b26-ac4b-8afec0925495\u001b[0m\n",
            "\u001b[32m[I 2023-01-14 22:31:59,927]\u001b[0m Trial 1 finished with value: 0.8750530828325412 and parameters: {'max_depth': 53, 'min_samples_leaf': 2, 'n_estimators': 199}. Best is trial 1 with value: 0.8750530828325412.\u001b[0m\n",
            "\u001b[32m[I 2023-01-14 22:32:09,863]\u001b[0m Trial 0 finished with value: 0.833735167192605 and parameters: {'max_depth': 15, 'min_samples_leaf': 30, 'n_estimators': 403}. Best is trial 1 with value: 0.8750530828325412.\u001b[0m\n",
            "\u001b[32m[I 2023-01-14 22:32:17,335]\u001b[0m Trial 2 finished with value: 0.8412532560196682 and parameters: {'max_depth': 32, 'min_samples_leaf': 20, 'n_estimators': 204}. Best is trial 1 with value: 0.8750530828325412.\u001b[0m\n",
            "\u001b[32m[I 2023-01-14 22:32:21,611]\u001b[0m Trial 4 finished with value: 0.8301206965497249 and parameters: {'max_depth': 40, 'min_samples_leaf': 39, 'n_estimators': 76}. Best is trial 1 with value: 0.8750530828325412.\u001b[0m\n",
            "\u001b[32m[I 2023-01-14 22:32:26,298]\u001b[0m Trial 3 finished with value: 0.8525690048546589 and parameters: {'max_depth': 18, 'min_samples_leaf': 9, 'n_estimators': 248}. Best is trial 1 with value: 0.8750530828325412.\u001b[0m\n",
            "\u001b[32m[I 2023-01-14 22:32:35,069]\u001b[0m Trial 5 finished with value: 0.829088843134861 and parameters: {'max_depth': 9, 'min_samples_leaf': 36, 'n_estimators': 371}. Best is trial 1 with value: 0.8750530828325412.\u001b[0m\n",
            "\u001b[32m[I 2023-01-14 22:32:36,269]\u001b[0m Trial 6 finished with value: 0.8367272575765897 and parameters: {'max_depth': 56, 'min_samples_leaf': 24, 'n_estimators': 256}. Best is trial 1 with value: 0.8750530828325412.\u001b[0m\n",
            "\u001b[32m[I 2023-01-14 22:32:42,901]\u001b[0m Trial 8 finished with value: 0.8301219108086938 and parameters: {'max_depth': 41, 'min_samples_leaf': 37, 'n_estimators': 179}. Best is trial 1 with value: 0.8750530828325412.\u001b[0m\n",
            "\u001b[32m[I 2023-01-14 22:32:44,785]\u001b[0m Trial 7 finished with value: 0.8311370330732027 and parameters: {'max_depth': 20, 'min_samples_leaf': 32, 'n_estimators': 256}. Best is trial 1 with value: 0.8750530828325412.\u001b[0m\n",
            "\u001b[32m[I 2023-01-14 22:32:53,711]\u001b[0m Trial 10 finished with value: 0.8388584400748758 and parameters: {'max_depth': 18, 'min_samples_leaf': 21, 'n_estimators': 227}. Best is trial 1 with value: 0.8750530828325412.\u001b[0m\n",
            "\u001b[32m[I 2023-01-14 22:33:00,637]\u001b[0m Trial 9 finished with value: 0.8292952774986354 and parameters: {'max_depth': 62, 'min_samples_leaf': 37, 'n_estimators': 487}. Best is trial 1 with value: 0.8750530828325412.\u001b[0m\n",
            "\u001b[32m[I 2023-01-14 22:33:06,414]\u001b[0m Trial 12 finished with value: 0.8686842230059758 and parameters: {'max_depth': 79, 'min_samples_leaf': 3, 'n_estimators': 112}. Best is trial 1 with value: 0.8750530828325412.\u001b[0m\n",
            "\u001b[32m[I 2023-01-14 22:33:11,414]\u001b[0m Trial 13 finished with value: 0.8617379658069485 and parameters: {'max_depth': 78, 'min_samples_leaf': 5, 'n_estimators': 103}. Best is trial 1 with value: 0.8750530828325412.\u001b[0m\n",
            "\u001b[32m[I 2023-01-14 22:33:18,274]\u001b[0m Trial 14 finished with value: 0.8752594228746112 and parameters: {'max_depth': 80, 'min_samples_leaf': 2, 'n_estimators': 135}. Best is trial 14 with value: 0.8752594228746112.\u001b[0m\n",
            "\u001b[32m[I 2023-01-14 22:33:18,917]\u001b[0m Trial 11 finished with value: 0.8768955168538023 and parameters: {'max_depth': 78, 'min_samples_leaf': 2, 'n_estimators': 488}. Best is trial 11 with value: 0.8768955168538023.\u001b[0m\n",
            "\u001b[32m[I 2023-01-14 22:33:24,258]\u001b[0m Trial 15 finished with value: 0.848890721670041 and parameters: {'max_depth': 62, 'min_samples_leaf': 12, 'n_estimators': 135}. Best is trial 11 with value: 0.8768955168538023.\u001b[0m\n",
            "\u001b[32m[I 2023-01-14 22:33:33,938]\u001b[0m Trial 16 finished with value: 0.8485502561353441 and parameters: {'max_depth': 68, 'min_samples_leaf': 12, 'n_estimators': 348}. Best is trial 11 with value: 0.8768955168538023.\u001b[0m\n",
            "\u001b[32m[I 2023-01-14 22:33:37,863]\u001b[0m Trial 17 finished with value: 0.8479364028396427 and parameters: {'max_depth': 71, 'min_samples_leaf': 14, 'n_estimators': 319}. Best is trial 11 with value: 0.8768955168538023.\u001b[0m\n",
            "\u001b[32m[I 2023-01-14 22:33:58,896]\u001b[0m Trial 18 finished with value: 0.8544857242395653 and parameters: {'max_depth': 71, 'min_samples_leaf': 8, 'n_estimators': 494}. Best is trial 11 with value: 0.8768955168538023.\u001b[0m\n",
            "\u001b[32m[I 2023-01-14 22:34:01,985]\u001b[0m Trial 19 finished with value: 0.8539891380729658 and parameters: {'max_depth': 71, 'min_samples_leaf': 8, 'n_estimators': 472}. Best is trial 11 with value: 0.8768955168538023.\u001b[0m\n",
            "\u001b[32m[I 2023-01-14 22:34:04,089]\u001b[0m Trial 21 finished with value: 0.8422707773751276 and parameters: {'max_depth': 50, 'min_samples_leaf': 16, 'n_estimators': 51}. Best is trial 11 with value: 0.8768955168538023.\u001b[0m\n",
            "\u001b[32m[I 2023-01-14 22:34:12,818]\u001b[0m Trial 22 finished with value: 0.8754619564732279 and parameters: {'max_depth': 50, 'min_samples_leaf': 2, 'n_estimators': 167}. Best is trial 11 with value: 0.8768955168538023.\u001b[0m\n",
            "\u001b[32m[I 2023-01-14 22:34:16,678]\u001b[0m Trial 20 finished with value: 0.8451392114189051 and parameters: {'max_depth': 50, 'min_samples_leaf': 16, 'n_estimators': 435}. Best is trial 11 with value: 0.8768955168538023.\u001b[0m\n",
            "\u001b[32m[I 2023-01-14 22:34:20,447]\u001b[0m Trial 23 finished with value: 0.8615349822771984 and parameters: {'max_depth': 29, 'min_samples_leaf': 5, 'n_estimators': 160}. Best is trial 11 with value: 0.8768955168538023.\u001b[0m\n",
            "\u001b[32m[I 2023-01-14 22:34:24,688]\u001b[0m Trial 24 finished with value: 0.8614093712021343 and parameters: {'max_depth': 80, 'min_samples_leaf': 5, 'n_estimators': 168}. Best is trial 11 with value: 0.8768955168538023.\u001b[0m\n",
            "\u001b[32m[I 2023-01-14 22:34:35,157]\u001b[0m Trial 25 finished with value: 0.8758743263498953 and parameters: {'max_depth': 80, 'min_samples_leaf': 2, 'n_estimators': 285}. Best is trial 11 with value: 0.8768955168538023.\u001b[0m\n",
            "\u001b[32m[I 2023-01-14 22:34:40,101]\u001b[0m Trial 26 finished with value: 0.8765046906278281 and parameters: {'max_depth': 63, 'min_samples_leaf': 2, 'n_estimators': 298}. Best is trial 11 with value: 0.8768955168538023.\u001b[0m\n",
            "\u001b[32m[I 2023-01-14 22:34:48,442]\u001b[0m Trial 27 finished with value: 0.8519865422446906 and parameters: {'max_depth': 64, 'min_samples_leaf': 9, 'n_estimators': 301}. Best is trial 11 with value: 0.8768955168538023.\u001b[0m\n",
            "\u001b[32m[I 2023-01-14 22:34:53,606]\u001b[0m Trial 28 finished with value: 0.8527432955298654 and parameters: {'max_depth': 64, 'min_samples_leaf': 10, 'n_estimators': 305}. Best is trial 11 with value: 0.8768955168538023.\u001b[0m\n",
            "\u001b[32m[I 2023-01-14 22:35:02,172]\u001b[0m Trial 29 finished with value: 0.8597699457895519 and parameters: {'max_depth': 74, 'min_samples_leaf': 6, 'n_estimators': 292}. Best is trial 11 with value: 0.8768955168538023.\u001b[0m\n",
            "\u001b[32m[I 2023-01-14 22:35:08,817]\u001b[0m Trial 30 finished with value: 0.8340075762091043 and parameters: {'max_depth': 74, 'min_samples_leaf': 28, 'n_estimators': 399}. Best is trial 11 with value: 0.8768955168538023.\u001b[0m\n",
            "\u001b[32m[I 2023-01-14 22:35:16,826]\u001b[0m Trial 31 finished with value: 0.8359297836519269 and parameters: {'max_depth': 58, 'min_samples_leaf': 26, 'n_estimators': 379}. Best is trial 11 with value: 0.8768955168538023.\u001b[0m\n",
            "\u001b[32m[I 2023-01-14 22:35:26,478]\u001b[0m Trial 32 finished with value: 0.8762310278918027 and parameters: {'max_depth': 58, 'min_samples_leaf': 2, 'n_estimators': 343}. Best is trial 11 with value: 0.8768955168538023.\u001b[0m\n",
            "\u001b[32m[I 2023-01-14 22:35:34,626]\u001b[0m Trial 33 finished with value: 0.8761371809999842 and parameters: {'max_depth': 48, 'min_samples_leaf': 2, 'n_estimators': 346}. Best is trial 11 with value: 0.8768955168538023.\u001b[0m\n",
            "\u001b[32m[I 2023-01-14 22:35:47,568]\u001b[0m Trial 34 finished with value: 0.8657430111644966 and parameters: {'max_depth': 66, 'min_samples_leaf': 4, 'n_estimators': 437}. Best is trial 11 with value: 0.8768955168538023.\u001b[0m\n",
            "\u001b[32m[I 2023-01-14 22:35:54,963]\u001b[0m Trial 35 finished with value: 0.8587931259571242 and parameters: {'max_depth': 40, 'min_samples_leaf': 6, 'n_estimators': 436}. Best is trial 11 with value: 0.8768955168538023.\u001b[0m\n",
            "\u001b[32m[I 2023-01-14 22:36:02,782]\u001b[0m Trial 36 finished with value: 0.8571054807060015 and parameters: {'max_depth': 44, 'min_samples_leaf': 7, 'n_estimators': 329}. Best is trial 11 with value: 0.8768955168538023.\u001b[0m\n",
            "\u001b[32m[I 2023-01-14 22:36:09,929]\u001b[0m Trial 37 finished with value: 0.8507575839955103 and parameters: {'max_depth': 45, 'min_samples_leaf': 11, 'n_estimators': 344}. Best is trial 11 with value: 0.8768955168538023.\u001b[0m\n",
            "\u001b[32m[I 2023-01-14 22:36:18,094]\u001b[0m Trial 38 finished with value: 0.8509031701977379 and parameters: {'max_depth': 58, 'min_samples_leaf': 11, 'n_estimators': 352}. Best is trial 11 with value: 0.8768955168538023.\u001b[0m\n",
            "\u001b[32m[I 2023-01-14 22:36:27,838]\u001b[0m Trial 39 finished with value: 0.8665473428808733 and parameters: {'max_depth': 56, 'min_samples_leaf': 4, 'n_estimators': 368}. Best is trial 11 with value: 0.8768955168538023.\u001b[0m\n",
            "\u001b[32m[I 2023-01-14 22:36:32,105]\u001b[0m Trial 41 finished with value: 0.77822693375718 and parameters: {'max_depth': 2, 'min_samples_leaf': 19, 'n_estimators': 228}. Best is trial 11 with value: 0.8768955168538023.\u001b[0m\n",
            "\u001b[32m[I 2023-01-14 22:36:38,376]\u001b[0m Trial 40 finished with value: 0.8660715421058112 and parameters: {'max_depth': 35, 'min_samples_leaf': 4, 'n_estimators': 405}. Best is trial 11 with value: 0.8768955168538023.\u001b[0m\n",
            "\u001b[32m[I 2023-01-14 22:36:45,962]\u001b[0m Trial 42 finished with value: 0.8708283352428267 and parameters: {'max_depth': 35, 'min_samples_leaf': 3, 'n_estimators': 279}. Best is trial 11 with value: 0.8768955168538023.\u001b[0m\n",
            "\u001b[32m[I 2023-01-14 22:36:52,403]\u001b[0m Trial 43 finished with value: 0.8754925656512048 and parameters: {'max_depth': 53, 'min_samples_leaf': 2, 'n_estimators': 272}. Best is trial 11 with value: 0.8768955168538023.\u001b[0m\n",
            "\u001b[32m[I 2023-01-14 22:36:59,209]\u001b[0m Trial 44 finished with value: 0.8749287985140173 and parameters: {'max_depth': 76, 'min_samples_leaf': 2, 'n_estimators': 258}. Best is trial 11 with value: 0.8768955168538023.\u001b[0m\n",
            "\u001b[32m[I 2023-01-14 22:37:03,048]\u001b[0m Trial 45 finished with value: 0.8558425540286025 and parameters: {'max_depth': 75, 'min_samples_leaf': 7, 'n_estimators': 231}. Best is trial 11 with value: 0.8768955168538023.\u001b[0m\n",
            "\u001b[32m[I 2023-01-14 22:37:09,052]\u001b[0m Trial 46 finished with value: 0.8557288577742427 and parameters: {'max_depth': 68, 'min_samples_leaf': 7, 'n_estimators': 211}. Best is trial 11 with value: 0.8768955168538023.\u001b[0m\n",
            "\u001b[32m[I 2023-01-14 22:37:10,290]\u001b[0m Trial 47 finished with value: 0.8307846316621199 and parameters: {'max_depth': 68, 'min_samples_leaf': 33, 'n_estimators': 194}. Best is trial 11 with value: 0.8768955168538023.\u001b[0m\n",
            "\u001b[32m[I 2023-01-14 22:37:20,812]\u001b[0m Trial 48 finished with value: 0.8325565879802719 and parameters: {'max_depth': 60, 'min_samples_leaf': 31, 'n_estimators': 316}. Best is trial 11 with value: 0.8768955168538023.\u001b[0m\n",
            "\u001b[32m[I 2023-01-14 22:37:26,093]\u001b[0m Trial 49 finished with value: 0.866175085077324 and parameters: {'max_depth': 59, 'min_samples_leaf': 4, 'n_estimators': 324}. Best is trial 11 with value: 0.8768955168538023.\u001b[0m\n",
            "\u001b[32m[I 2023-01-14 22:37:43,009]\u001b[0m Trial 50 finished with value: 0.8659557986550949 and parameters: {'max_depth': 45, 'min_samples_leaf': 4, 'n_estimators': 456}. Best is trial 11 with value: 0.8768955168538023.\u001b[0m\n",
            "\u001b[32m[I 2023-01-14 22:37:46,108]\u001b[0m Trial 51 finished with value: 0.8769417779554963 and parameters: {'max_depth': 46, 'min_samples_leaf': 2, 'n_estimators': 391}. Best is trial 51 with value: 0.8769417779554963.\u001b[0m\n",
            "\u001b[32m[I 2023-01-14 22:37:57,371]\u001b[0m Trial 52 finished with value: 0.8757097108721084 and parameters: {'max_depth': 49, 'min_samples_leaf': 2, 'n_estimators': 277}. Best is trial 51 with value: 0.8769417779554963.\u001b[0m\n",
            "\u001b[32m[I 2023-01-14 22:38:05,290]\u001b[0m Trial 53 finished with value: 0.8765927630476629 and parameters: {'max_depth': 53, 'min_samples_leaf': 2, 'n_estimators': 373}. Best is trial 51 with value: 0.8769417779554963.\u001b[0m\n",
            "\u001b[32m[I 2023-01-14 22:38:15,888]\u001b[0m Trial 54 finished with value: 0.8587167810148909 and parameters: {'max_depth': 53, 'min_samples_leaf': 6, 'n_estimators': 397}. Best is trial 51 with value: 0.8769417779554963.\u001b[0m\n",
            "\u001b[32m[I 2023-01-14 22:38:23,956]\u001b[0m Trial 55 finished with value: 0.859172474618787 and parameters: {'max_depth': 54, 'min_samples_leaf': 6, 'n_estimators': 401}. Best is trial 51 with value: 0.8769417779554963.\u001b[0m\n",
            "\u001b[32m[I 2023-01-14 22:38:34,884]\u001b[0m Trial 56 finished with value: 0.8543950226714214 and parameters: {'max_depth': 53, 'min_samples_leaf': 8, 'n_estimators': 420}. Best is trial 51 with value: 0.8769417779554963.\u001b[0m\n",
            "\u001b[32m[I 2023-01-14 22:38:40,892]\u001b[0m Trial 57 finished with value: 0.8530845912895356 and parameters: {'max_depth': 47, 'min_samples_leaf': 9, 'n_estimators': 379}. Best is trial 51 with value: 0.8769417779554963.\u001b[0m\n",
            "\u001b[32m[I 2023-01-14 22:38:52,317]\u001b[0m Trial 58 finished with value: 0.8711811837208585 and parameters: {'max_depth': 46, 'min_samples_leaf': 3, 'n_estimators': 352}. Best is trial 51 with value: 0.8769417779554963.\u001b[0m\n",
            "\u001b[32m[I 2023-01-14 22:38:58,514]\u001b[0m Trial 59 finished with value: 0.8711524630101417 and parameters: {'max_depth': 42, 'min_samples_leaf': 3, 'n_estimators': 357}. Best is trial 51 with value: 0.8769417779554963.\u001b[0m\n",
            "\u001b[32m[I 2023-01-14 22:39:14,621]\u001b[0m Trial 60 finished with value: 0.8621398208964406 and parameters: {'max_depth': 36, 'min_samples_leaf': 5, 'n_estimators': 467}. Best is trial 51 with value: 0.8769417779554963.\u001b[0m\n",
            "\u001b[32m[I 2023-01-14 22:39:16,769]\u001b[0m Trial 61 finished with value: 0.8394052314465158 and parameters: {'max_depth': 26, 'min_samples_leaf': 22, 'n_estimators': 466}. Best is trial 51 with value: 0.8769417779554963.\u001b[0m\n",
            "\u001b[32m[I 2023-01-14 22:39:31,852]\u001b[0m Trial 62 finished with value: 0.8761801137359776 and parameters: {'max_depth': 29, 'min_samples_leaf': 2, 'n_estimators': 337}. Best is trial 51 with value: 0.8769417779554963.\u001b[0m\n",
            "\u001b[32m[I 2023-01-14 22:39:33,826]\u001b[0m Trial 63 finished with value: 0.8764006427045444 and parameters: {'max_depth': 77, 'min_samples_leaf': 2, 'n_estimators': 330}. Best is trial 51 with value: 0.8769417779554963.\u001b[0m\n",
            "\u001b[32m[I 2023-01-14 22:39:45,705]\u001b[0m Trial 65 finished with value: 0.8287337054850932 and parameters: {'max_depth': 24, 'min_samples_leaf': 40, 'n_estimators': 334}. Best is trial 51 with value: 0.8769417779554963.\u001b[0m\n",
            "\u001b[32m[I 2023-01-14 22:39:51,830]\u001b[0m Trial 64 finished with value: 0.8769444870714604 and parameters: {'max_depth': 26, 'min_samples_leaf': 2, 'n_estimators': 386}. Best is trial 64 with value: 0.8769444870714604.\u001b[0m\n",
            "\u001b[32m[I 2023-01-14 22:40:00,188]\u001b[0m Trial 66 finished with value: 0.8609209427826068 and parameters: {'max_depth': 15, 'min_samples_leaf': 5, 'n_estimators': 307}. Best is trial 64 with value: 0.8769444870714604.\u001b[0m\n",
            "\u001b[32m[I 2023-01-14 22:40:09,009]\u001b[0m Trial 67 finished with value: 0.8584639105835409 and parameters: {'max_depth': 11, 'min_samples_leaf': 4, 'n_estimators': 381}. Best is trial 64 with value: 0.8769444870714604.\u001b[0m\n",
            "\u001b[32m[I 2023-01-14 22:40:18,687]\u001b[0m Trial 68 finished with value: 0.8661177579477396 and parameters: {'max_depth': 61, 'min_samples_leaf': 4, 'n_estimators': 382}. Best is trial 64 with value: 0.8769444870714604.\u001b[0m\n",
            "\u001b[32m[I 2023-01-14 22:40:29,862]\u001b[0m Trial 69 finished with value: 0.8712942906719728 and parameters: {'max_depth': 62, 'min_samples_leaf': 3, 'n_estimators': 421}. Best is trial 64 with value: 0.8769444870714604.\u001b[0m\n",
            "\u001b[32m[I 2023-01-14 22:40:39,593]\u001b[0m Trial 70 finished with value: 0.8712942906719728 and parameters: {'max_depth': 71, 'min_samples_leaf': 3, 'n_estimators': 421}. Best is trial 64 with value: 0.8769444870714604.\u001b[0m\n",
            "\u001b[32m[I 2023-01-14 22:40:50,487]\u001b[0m Trial 71 finished with value: 0.848290686079748 and parameters: {'max_depth': 72, 'min_samples_leaf': 13, 'n_estimators': 490}. Best is trial 64 with value: 0.8769444870714604.\u001b[0m\n",
            "\u001b[32m[I 2023-01-14 22:40:58,623]\u001b[0m Trial 72 finished with value: 0.8759446760015853 and parameters: {'max_depth': 29, 'min_samples_leaf': 2, 'n_estimators': 370}. Best is trial 64 with value: 0.8769444870714604.\u001b[0m\n",
            "\u001b[32m[I 2023-01-14 22:41:09,237]\u001b[0m Trial 73 finished with value: 0.8762055778767127 and parameters: {'max_depth': 30, 'min_samples_leaf': 2, 'n_estimators': 366}. Best is trial 64 with value: 0.8769444870714604.\u001b[0m\n",
            "\u001b[32m[I 2023-01-14 22:41:14,251]\u001b[0m Trial 74 finished with value: 0.8595558143386873 and parameters: {'max_depth': 21, 'min_samples_leaf': 6, 'n_estimators': 336}. Best is trial 64 with value: 0.8769444870714604.\u001b[0m\n",
            "\u001b[32m[I 2023-01-14 22:41:26,180]\u001b[0m Trial 75 finished with value: 0.8593180598248527 and parameters: {'max_depth': 23, 'min_samples_leaf': 6, 'n_estimators': 363}. Best is trial 64 with value: 0.8769444870714604.\u001b[0m\n",
            "\u001b[32m[I 2023-01-14 22:41:31,255]\u001b[0m Trial 76 finished with value: 0.8619716975583341 and parameters: {'max_depth': 77, 'min_samples_leaf': 5, 'n_estimators': 360}. Best is trial 64 with value: 0.8769444870714604.\u001b[0m\n",
            "\u001b[32m[I 2023-01-14 22:41:44,684]\u001b[0m Trial 78 finished with value: 0.8534604657968758 and parameters: {'max_depth': 56, 'min_samples_leaf': 8, 'n_estimators': 295}. Best is trial 64 with value: 0.8769444870714604.\u001b[0m\n",
            "\u001b[32m[I 2023-01-14 22:41:46,544]\u001b[0m Trial 77 finished with value: 0.8544443203987565 and parameters: {'max_depth': 32, 'min_samples_leaf': 8, 'n_estimators': 448}. Best is trial 64 with value: 0.8769444870714604.\u001b[0m\n",
            "\u001b[32m[I 2023-01-14 22:42:02,500]\u001b[0m Trial 80 finished with value: 0.8711807088737991 and parameters: {'max_depth': 39, 'min_samples_leaf': 3, 'n_estimators': 320}. Best is trial 64 with value: 0.8769444870714604.\u001b[0m\n",
            "\u001b[32m[I 2023-01-14 22:42:04,264]\u001b[0m Trial 79 finished with value: 0.8717780605222084 and parameters: {'max_depth': 38, 'min_samples_leaf': 3, 'n_estimators': 390}. Best is trial 64 with value: 0.8769444870714604.\u001b[0m\n",
            "\u001b[32m[I 2023-01-14 22:42:15,064]\u001b[0m Trial 81 finished with value: 0.865805677444944 and parameters: {'max_depth': 64, 'min_samples_leaf': 4, 'n_estimators': 259}. Best is trial 64 with value: 0.8769444870714604.\u001b[0m\n",
            "\u001b[32m[I 2023-01-14 22:42:21,759]\u001b[0m Trial 82 finished with value: 0.8763802089227145 and parameters: {'max_depth': 28, 'min_samples_leaf': 2, 'n_estimators': 340}. Best is trial 64 with value: 0.8769444870714604.\u001b[0m\n",
            "\u001b[32m[I 2023-01-14 22:42:32,714]\u001b[0m Trial 83 finished with value: 0.8760450170993398 and parameters: {'max_depth': 28, 'min_samples_leaf': 2, 'n_estimators': 342}. Best is trial 64 with value: 0.8769444870714604.\u001b[0m\n",
            "\u001b[32m[I 2023-01-14 22:42:37,742]\u001b[0m Trial 84 finished with value: 0.8763597155387828 and parameters: {'max_depth': 43, 'min_samples_leaf': 2, 'n_estimators': 314}. Best is trial 64 with value: 0.8769444870714604.\u001b[0m\n",
            "\u001b[32m[I 2023-01-14 22:42:51,963]\u001b[0m Trial 86 finished with value: 0.8618954723373845 and parameters: {'max_depth': 42, 'min_samples_leaf': 5, 'n_estimators': 300}. Best is trial 64 with value: 0.8769444870714604.\u001b[0m\n",
            "\u001b[32m[I 2023-01-14 22:42:52,227]\u001b[0m Trial 85 finished with value: 0.8627796608181867 and parameters: {'max_depth': 31, 'min_samples_leaf': 5, 'n_estimators': 410}. Best is trial 64 with value: 0.8769444870714604.\u001b[0m\n",
            "\u001b[32m[I 2023-01-14 22:43:07,117]\u001b[0m Trial 87 finished with value: 0.8665080581425739 and parameters: {'max_depth': 51, 'min_samples_leaf': 4, 'n_estimators': 310}. Best is trial 64 with value: 0.8769444870714604.\u001b[0m\n",
            "\u001b[32m[I 2023-01-14 22:43:07,848]\u001b[0m Trial 88 finished with value: 0.8712789364639186 and parameters: {'max_depth': 78, 'min_samples_leaf': 3, 'n_estimators': 313}. Best is trial 64 with value: 0.8769444870714604.\u001b[0m\n",
            "\u001b[32m[I 2023-01-14 22:43:21,029]\u001b[0m Trial 90 finished with value: 0.8447659508795166 and parameters: {'max_depth': 51, 'min_samples_leaf': 16, 'n_estimators': 323}. Best is trial 64 with value: 0.8769444870714604.\u001b[0m\n",
            "\u001b[32m[I 2023-01-14 22:43:22,053]\u001b[0m Trial 89 finished with value: 0.8568914330651123 and parameters: {'max_depth': 66, 'min_samples_leaf': 7, 'n_estimators': 323}. Best is trial 64 with value: 0.8769444870714604.\u001b[0m\n",
            "\u001b[32m[I 2023-01-14 22:43:31,576]\u001b[0m Trial 91 finished with value: 0.8298038161489093 and parameters: {'max_depth': 68, 'min_samples_leaf': 35, 'n_estimators': 291}. Best is trial 64 with value: 0.8769444870714604.\u001b[0m\n",
            "\u001b[32m[I 2023-01-14 22:43:36,974]\u001b[0m Trial 92 finished with value: 0.876485962361587 and parameters: {'max_depth': 18, 'min_samples_leaf': 2, 'n_estimators': 290}. Best is trial 64 with value: 0.8769444870714604.\u001b[0m\n",
            "\u001b[32m[I 2023-01-14 22:43:50,961]\u001b[0m Trial 94 finished with value: 0.8762582663955971 and parameters: {'max_depth': 18, 'min_samples_leaf': 2, 'n_estimators': 273}. Best is trial 64 with value: 0.8769444870714604.\u001b[0m\n",
            "\u001b[32m[I 2023-01-14 22:43:51,557]\u001b[0m Trial 93 finished with value: 0.8768149825947166 and parameters: {'max_depth': 33, 'min_samples_leaf': 2, 'n_estimators': 388}. Best is trial 64 with value: 0.8769444870714604.\u001b[0m\n",
            "\u001b[32m[I 2023-01-14 22:44:03,165]\u001b[0m Trial 95 finished with value: 0.8767379187359204 and parameters: {'max_depth': 18, 'min_samples_leaf': 2, 'n_estimators': 239}. Best is trial 64 with value: 0.8769444870714604.\u001b[0m\n",
            "\u001b[32m[I 2023-01-14 22:44:03,530]\u001b[0m Trial 96 finished with value: 0.8653940411578861 and parameters: {'max_depth': 27, 'min_samples_leaf': 4, 'n_estimators': 245}. Best is trial 64 with value: 0.8769444870714604.\u001b[0m\n",
            "\u001b[32m[I 2023-01-14 22:44:14,988]\u001b[0m Trial 98 finished with value: 0.8612565421305397 and parameters: {'max_depth': 15, 'min_samples_leaf': 5, 'n_estimators': 245}. Best is trial 64 with value: 0.8769444870714604.\u001b[0m\n",
            "\u001b[32m[I 2023-01-14 22:44:15,200]\u001b[0m Trial 97 finished with value: 0.871710058052479 and parameters: {'max_depth': 17, 'min_samples_leaf': 3, 'n_estimators': 243}. Best is trial 64 with value: 0.8769444870714604.\u001b[0m\n",
            "\u001b[32m[I 2023-01-14 22:44:21,895]\u001b[0m Trial 99 finished with value: 0.8706076467652544 and parameters: {'max_depth': 25, 'min_samples_leaf': 3, 'n_estimators': 206}. Best is trial 64 with value: 0.8769444870714604.\u001b[0m\n"
          ]
        },
        {
          "output_type": "execute_result",
          "data": {
            "text/plain": [
              "OptunaSearchCV(cv=3, estimator=RandomForestClassifier(random_state=42),\n",
              "               n_jobs=-1, n_trials=100,\n",
              "               param_distributions={'max_depth': IntDistribution(high=80, log=False, low=2, step=1),\n",
              "                                    'min_samples_leaf': IntDistribution(high=40, log=False, low=2, step=1),\n",
              "                                    'n_estimators': IntDistribution(high=500, log=False, low=50, step=1)},\n",
              "               scoring='f1')"
            ]
          },
          "metadata": {},
          "execution_count": 60
        }
      ]
    },
    {
      "cell_type": "code",
      "source": [
        "optuna_search.best_score_"
      ],
      "metadata": {
        "colab": {
          "base_uri": "https://localhost:8080/"
        },
        "id": "N1_cEw5Za1g8",
        "outputId": "04c5e5c7-ff29-4ba9-dbd7-0f8aa1e933aa"
      },
      "execution_count": 61,
      "outputs": [
        {
          "output_type": "execute_result",
          "data": {
            "text/plain": [
              "0.8769444870714604"
            ]
          },
          "metadata": {},
          "execution_count": 61
        }
      ]
    },
    {
      "cell_type": "markdown",
      "source": [
        "Получили f1 еще лучше, будем использовать гиперпараметры полученные в ней"
      ],
      "metadata": {
        "id": "xc-qNwymbfPT"
      }
    },
    {
      "cell_type": "code",
      "source": [
        "rf_best_params = optuna_search.best_params_"
      ],
      "metadata": {
        "id": "8e49or7zbW5c"
      },
      "execution_count": 62,
      "outputs": []
    },
    {
      "cell_type": "code",
      "source": [
        "rf_optuna = RandomForestClassifier(random_state=42, **rf_best_params)"
      ],
      "metadata": {
        "id": "6fEx2S5UY8Se"
      },
      "execution_count": 63,
      "outputs": []
    },
    {
      "cell_type": "code",
      "source": [
        "rf_optuna.fit(features_train,target_train)\n",
        "pred_rf = rf_optuna.predict(features_test)"
      ],
      "metadata": {
        "id": "0jjwhwYVY8wU"
      },
      "execution_count": 64,
      "outputs": []
    },
    {
      "cell_type": "code",
      "source": [
        "print(classification_report(target_test, pred_rf))"
      ],
      "metadata": {
        "colab": {
          "base_uri": "https://localhost:8080/"
        },
        "outputId": "2c09ff3b-a7fd-4908-e23c-811256a83fa6",
        "id": "DK-VAUTpY8wW"
      },
      "execution_count": 65,
      "outputs": [
        {
          "output_type": "stream",
          "name": "stdout",
          "text": [
            "              precision    recall  f1-score   support\n",
            "\n",
            "           0       0.88      0.88      0.88      2036\n",
            "           1       0.87      0.88      0.88      1946\n",
            "\n",
            "    accuracy                           0.88      3982\n",
            "   macro avg       0.88      0.88      0.88      3982\n",
            "weighted avg       0.88      0.88      0.88      3982\n",
            "\n"
          ]
        }
      ]
    },
    {
      "cell_type": "code",
      "source": [
        "rf_accuracy = accuracy_score(target_test, pred_rf)\n",
        "rf_precision = precision_score(target_test, pred_rf)\n",
        "rf_recall = recall_score(target_test, pred_rf)\n",
        "rf_f1 = f1_score(target_test, pred_rf)"
      ],
      "metadata": {
        "id": "NhRGuIbIY8wY"
      },
      "execution_count": 66,
      "outputs": []
    },
    {
      "cell_type": "code",
      "source": [
        "print(f'Random Forrest \\n accuracy: {rf_accuracy} \\n precision: {rf_precision} \\n recall: {rf_recall} \\n f1: {rf_f1}')"
      ],
      "metadata": {
        "colab": {
          "base_uri": "https://localhost:8080/"
        },
        "outputId": "298f1a62-19ca-452e-fe9c-1d640a1f43ee",
        "id": "47yJIjM2Y8wY"
      },
      "execution_count": 67,
      "outputs": [
        {
          "output_type": "stream",
          "name": "stdout",
          "text": [
            "Random Forrest \n",
            " accuracy: 0.8789552988448016 \n",
            " precision: 0.8734693877551021 \n",
            " recall: 0.8797533401849948 \n",
            " f1: 0.8766001024065541\n"
          ]
        }
      ]
    },
    {
      "cell_type": "markdown",
      "source": [
        "Получили довольно высокие значение метрик, посмотрим результаты на другой модели"
      ],
      "metadata": {
        "id": "pANqDiKwbvBi"
      }
    },
    {
      "cell_type": "code",
      "source": [
        "confusion_matrix(target_test, pred_rf)\n",
        "\n",
        "\n",
        "cf_matrix_rf = confusion_matrix(target_test, pred_rf)\n",
        "print(cf_matrix_rf)\n",
        "\n",
        "ax = sns.heatmap(cf_matrix_rf/np.sum(cf_matrix_rf), annot=True, fmt='.2%', cmap='binary')\n",
        "ax.set_title('Random Forrest\\n\\n');\n",
        "ax.set_xlabel('\\nPredicted Values')\n",
        "ax.set_ylabel('Actual Values ');\n",
        "\n",
        "ax.xaxis.set_ticklabels(['0','1'])\n",
        "ax.yaxis.set_ticklabels(['0','1'])\n",
        "\n",
        "plt.show()"
      ],
      "metadata": {
        "colab": {
          "base_uri": "https://localhost:8080/",
          "height": 380
        },
        "outputId": "a4edf566-4135-40be-a6fa-2ff99267a07f",
        "id": "xYUzqKHlY8wZ"
      },
      "execution_count": 68,
      "outputs": [
        {
          "output_type": "stream",
          "name": "stdout",
          "text": [
            "[[1788  248]\n",
            " [ 234 1712]]\n"
          ]
        },
        {
          "output_type": "display_data",
          "data": {
            "text/plain": [
              "<Figure size 432x288 with 2 Axes>"
            ],
            "image/png": "[encoded data removed]"
          },
          "metadata": {}
        }
      ]
    },
    {
      "cell_type": "code",
      "source": [
        "rf_optuna_auc_score=roc_auc_score(target_test,rf_optuna.predict(features_test))\n",
        "fpr,tpr,thresholds=roc_curve(target_test,rf_optuna.predict_proba(features_test)[:,1])\n",
        "plt.figure(figsize=(10,7))\n",
        "plt.plot(fpr,tpr,label=\"AUC(Area=%0.2f)\"%rf_optuna_auc_score)\n",
        "plt.plot([0,1],\"r--\")\n",
        "plt.xlim([0.0,1.0])\n",
        "plt.ylim([0.0,1.05])\n",
        "plt.xlabel(\"False Positive\")\n",
        "plt.ylabel(\"True Positive\")\n",
        "plt.title(\"ROC Random Forrest\")\n",
        "plt.show()"
      ],
      "metadata": {
        "colab": {
          "base_uri": "https://localhost:8080/",
          "height": 464
        },
        "id": "1gMFN8VUol_I",
        "outputId": "a5a4829c-246d-4256-bf69-10fc38cf82e0"
      },
      "execution_count": 69,
      "outputs": [
        {
          "output_type": "display_data",
          "data": {
            "text/plain": [
              "<Figure size 720x504 with 1 Axes>"
            ],
            "image/png": "[encoded data removed]"
          },
          "metadata": {}
        }
      ]
    },
    {
      "cell_type": "code",
      "source": [
        "rf_optuna_auc_score"
      ],
      "metadata": {
        "colab": {
          "base_uri": "https://localhost:8080/"
        },
        "id": "2850i3s-b8pv",
        "outputId": "45912086-3c11-4c59-ddb1-ca0567ca2296"
      },
      "execution_count": 70,
      "outputs": [
        {
          "output_type": "execute_result",
          "data": {
            "text/plain": [
              "0.8789729372830672"
            ]
          },
          "metadata": {},
          "execution_count": 70
        }
      ]
    },
    {
      "cell_type": "markdown",
      "source": [
        "Получили roc_auc значительно выше"
      ],
      "metadata": {
        "id": "3SI-yVjtcIxX"
      }
    },
    {
      "cell_type": "markdown",
      "source": [
        "## LGBMClassifier"
      ],
      "metadata": {
        "id": "Afz6Uw_tEjCv"
      }
    },
    {
      "cell_type": "code",
      "source": [
        "import optuna"
      ],
      "metadata": {
        "id": "s_VwEtcGAR4G"
      },
      "execution_count": 71,
      "outputs": []
    },
    {
      "cell_type": "code",
      "source": [
        "import lightgbm as lgb\n",
        "lgbm = lgb.LGBMClassifier()"
      ],
      "metadata": {
        "id": "BRUm5o3KBc6X"
      },
      "execution_count": 72,
      "outputs": []
    },
    {
      "cell_type": "code",
      "source": [
        "\n",
        "param = {\n",
        "        \"lambda_l1\": optuna.distributions.FloatDistribution(1e-8, 10.0, log=True),\n",
        "        \"lambda_l2\": optuna.distributions.FloatDistribution(1e-8, 10.0, log=True),\n",
        "        \"num_leaves\": optuna.distributions.IntDistribution(2, 256),\n",
        "        \"feature_fraction\": optuna.distributions.FloatDistribution(0.4, 1.0),\n",
        "        \"bagging_fraction\": optuna.distributions.FloatDistribution(0.4, 1.0),\n",
        "        \"bagging_freq\": optuna.distributions.IntDistribution(1, 7),\n",
        "        \"min_child_samples\": optuna.distributions.IntDistribution(5, 100)}\n",
        "\n",
        "optuna_search = optuna.integration.OptunaSearchCV(lgbm,param, cv=3, scoring='f1',n_jobs=-1,n_trials=100)\n",
        "optuna_search.fit(features_train, target_train)"
      ],
      "metadata": {
        "colab": {
          "base_uri": "https://localhost:8080/"
        },
        "id": "_zitNDFtjNXe",
        "outputId": "8170c694-f60f-495b-8290-00bee3e2b2dc"
      },
      "execution_count": 73,
      "outputs": [
        {
          "output_type": "stream",
          "name": "stderr",
          "text": [
            "<ipython-input-73-3b570e74ed1d>:10: ExperimentalWarning:\n",
            "\n",
            "OptunaSearchCV is experimental (supported from v0.17.0). The interface can change in the future.\n",
            "\n",
            "\u001b[32m[I 2023-01-14 22:44:39,319]\u001b[0m A new study created in memory with name: no-name-22d57805-a53a-4782-8a69-8aca80262b73\u001b[0m\n",
            "\u001b[32m[I 2023-01-14 22:44:41,757]\u001b[0m Trial 0 finished with value: 0.873434958535074 and parameters: {'lambda_l1': 0.10913774309577971, 'lambda_l2': 5.132525473167896e-07, 'num_leaves': 23, 'feature_fraction': 0.5169958352394007, 'bagging_fraction': 0.6578416983772679, 'bagging_freq': 6, 'min_child_samples': 83}. Best is trial 0 with value: 0.873434958535074.\u001b[0m\n",
            "\u001b[32m[I 2023-01-14 22:44:43,318]\u001b[0m Trial 1 finished with value: 0.8781110253286751 and parameters: {'lambda_l1': 2.02977749641917, 'lambda_l2': 4.115906259545353e-06, 'num_leaves': 111, 'feature_fraction': 0.7995867943095553, 'bagging_fraction': 0.7203509779023871, 'bagging_freq': 3, 'min_child_samples': 55}. Best is trial 1 with value: 0.8781110253286751.\u001b[0m\n",
            "\u001b[32m[I 2023-01-14 22:44:46,501]\u001b[0m Trial 2 finished with value: 0.8893860525823416 and parameters: {'lambda_l1': 0.06197388993953069, 'lambda_l2': 3.6037909096021804e-05, 'num_leaves': 128, 'feature_fraction': 0.6289809032468289, 'bagging_fraction': 0.8615020248574359, 'bagging_freq': 5, 'min_child_samples': 71}. Best is trial 2 with value: 0.8893860525823416.\u001b[0m\n",
            "\u001b[32m[I 2023-01-14 22:44:47,001]\u001b[0m Trial 3 finished with value: 0.880710365012075 and parameters: {'lambda_l1': 0.1504298268686217, 'lambda_l2': 0.0029557091951798596, 'num_leaves': 134, 'feature_fraction': 0.9285032260524646, 'bagging_fraction': 0.5362465773151853, 'bagging_freq': 2, 'min_child_samples': 58}. Best is trial 2 with value: 0.8893860525823416.\u001b[0m\n",
            "\u001b[32m[I 2023-01-14 22:44:50,127]\u001b[0m Trial 4 finished with value: 0.8881827569853559 and parameters: {'lambda_l1': 4.748524752691157e-05, 'lambda_l2': 8.777747126108179e-08, 'num_leaves': 37, 'feature_fraction': 0.823874432443926, 'bagging_fraction': 0.816252839851517, 'bagging_freq': 6, 'min_child_samples': 38}. Best is trial 2 with value: 0.8893860525823416.\u001b[0m\n",
            "\u001b[32m[I 2023-01-14 22:44:50,889]\u001b[0m Trial 5 finished with value: 0.8811576066323966 and parameters: {'lambda_l1': 0.35198775682711675, 'lambda_l2': 0.03288197071505294, 'num_leaves': 44, 'feature_fraction': 0.8492500340730122, 'bagging_fraction': 0.4731015699001649, 'bagging_freq': 4, 'min_child_samples': 29}. Best is trial 2 with value: 0.8893860525823416.\u001b[0m\n",
            "\u001b[32m[I 2023-01-14 22:44:54,279]\u001b[0m Trial 6 finished with value: 0.8853689152649654 and parameters: {'lambda_l1': 2.672760779173739e-07, 'lambda_l2': 3.3280276554643082, 'num_leaves': 44, 'feature_fraction': 0.9973524554653367, 'bagging_fraction': 0.7985874647476321, 'bagging_freq': 7, 'min_child_samples': 36}. Best is trial 2 with value: 0.8893860525823416.\u001b[0m\n",
            "\u001b[32m[I 2023-01-14 22:44:56,818]\u001b[0m Trial 7 finished with value: 0.890262977846381 and parameters: {'lambda_l1': 0.0013784512297579478, 'lambda_l2': 2.725312820589138e-07, 'num_leaves': 69, 'feature_fraction': 0.9118511802623839, 'bagging_fraction': 0.9222170618089867, 'bagging_freq': 2, 'min_child_samples': 59}. Best is trial 7 with value: 0.890262977846381.\u001b[0m\n",
            "\u001b[32m[I 2023-01-14 22:45:00,315]\u001b[0m Trial 9 finished with value: 0.8819189238438989 and parameters: {'lambda_l1': 4.228189910798484, 'lambda_l2': 5.902831362503199e-08, 'num_leaves': 255, 'feature_fraction': 0.6269278854409496, 'bagging_fraction': 0.8595297680366853, 'bagging_freq': 6, 'min_child_samples': 46}. Best is trial 7 with value: 0.890262977846381.\u001b[0m\n",
            "\u001b[32m[I 2023-01-14 22:45:04,631]\u001b[0m Trial 10 finished with value: 0.8896535624473983 and parameters: {'lambda_l1': 4.3588765339859367e-07, 'lambda_l2': 8.874230277165697e-08, 'num_leaves': 58, 'feature_fraction': 0.8026791709679166, 'bagging_fraction': 0.7407682567737889, 'bagging_freq': 6, 'min_child_samples': 40}. Best is trial 7 with value: 0.890262977846381.\u001b[0m\n",
            "\u001b[32m[I 2023-01-14 22:45:07,065]\u001b[0m Trial 8 finished with value: 0.8911839079141496 and parameters: {'lambda_l1': 0.003476427596253658, 'lambda_l2': 1.7081992192554144e-07, 'num_leaves': 248, 'feature_fraction': 0.8747635345167766, 'bagging_fraction': 0.5123221506266743, 'bagging_freq': 3, 'min_child_samples': 10}. Best is trial 8 with value: 0.8911839079141496.\u001b[0m\n",
            "\u001b[32m[I 2023-01-14 22:45:13,268]\u001b[0m Trial 11 finished with value: 0.8948720987991997 and parameters: {'lambda_l1': 0.00040922766916212417, 'lambda_l2': 3.4057546788346435e-05, 'num_leaves': 210, 'feature_fraction': 0.41930686213768376, 'bagging_fraction': 0.9649593035469705, 'bagging_freq': 1, 'min_child_samples': 8}. Best is trial 11 with value: 0.8948720987991997.\u001b[0m\n",
            "\u001b[32m[I 2023-01-14 22:45:18,819]\u001b[0m Trial 12 finished with value: 0.8928319164030167 and parameters: {'lambda_l1': 0.0004747377613281467, 'lambda_l2': 3.24479954764101e-05, 'num_leaves': 254, 'feature_fraction': 0.9231112914178404, 'bagging_fraction': 0.9739663409446285, 'bagging_freq': 1, 'min_child_samples': 5}. Best is trial 11 with value: 0.8948720987991997.\u001b[0m\n",
            "\u001b[32m[I 2023-01-14 22:45:19,665]\u001b[0m Trial 13 finished with value: 0.8915428357455696 and parameters: {'lambda_l1': 0.00038013009135730026, 'lambda_l2': 9.392588899862913e-05, 'num_leaves': 241, 'feature_fraction': 0.4117530384040603, 'bagging_fraction': 0.5918381433226828, 'bagging_freq': 1, 'min_child_samples': 5}. Best is trial 11 with value: 0.8948720987991997.\u001b[0m\n",
            "\u001b[32m[I 2023-01-14 22:45:24,489]\u001b[0m Trial 14 finished with value: 0.8943596110177733 and parameters: {'lambda_l1': 2.3963896580467168e-05, 'lambda_l2': 0.0001994023073013119, 'num_leaves': 206, 'feature_fraction': 0.42322718851352087, 'bagging_fraction': 0.9768856075222295, 'bagging_freq': 1, 'min_child_samples': 5}. Best is trial 11 with value: 0.8948720987991997.\u001b[0m\n",
            "\u001b[32m[I 2023-01-14 22:45:25,577]\u001b[0m Trial 15 finished with value: 0.8964938762554815 and parameters: {'lambda_l1': 1.2235943314607303e-05, 'lambda_l2': 0.0049613619113310385, 'num_leaves': 190, 'feature_fraction': 0.6822869349478814, 'bagging_fraction': 0.9985667417160169, 'bagging_freq': 1, 'min_child_samples': 19}. Best is trial 15 with value: 0.8964938762554815.\u001b[0m\n",
            "\u001b[32m[I 2023-01-14 22:45:29,517]\u001b[0m Trial 16 finished with value: 0.8899361535632283 and parameters: {'lambda_l1': 1.6531729533745447e-05, 'lambda_l2': 0.002186247428240796, 'num_leaves': 194, 'feature_fraction': 0.41234837175741107, 'bagging_fraction': 0.989173177441278, 'bagging_freq': 1, 'min_child_samples': 20}. Best is trial 15 with value: 0.8964938762554815.\u001b[0m\n",
            "\u001b[32m[I 2023-01-14 22:45:31,872]\u001b[0m Trial 17 finished with value: 0.8978712969070086 and parameters: {'lambda_l1': 3.0082621818089177e-06, 'lambda_l2': 0.010611273197835468, 'num_leaves': 179, 'feature_fraction': 0.709038636494971, 'bagging_fraction': 0.9974054598618977, 'bagging_freq': 2, 'min_child_samples': 22}. Best is trial 17 with value: 0.8978712969070086.\u001b[0m\n",
            "\u001b[32m[I 2023-01-14 22:45:35,707]\u001b[0m Trial 18 finished with value: 0.8941654009141092 and parameters: {'lambda_l1': 2.5215507283035656e-08, 'lambda_l2': 0.09232642372376865, 'num_leaves': 177, 'feature_fraction': 0.7075025894766641, 'bagging_fraction': 0.9081440704726756, 'bagging_freq': 2, 'min_child_samples': 21}. Best is trial 17 with value: 0.8978712969070086.\u001b[0m\n",
            "\u001b[32m[I 2023-01-14 22:45:37,321]\u001b[0m Trial 19 finished with value: 0.8947191638359858 and parameters: {'lambda_l1': 1.9874321450117662e-08, 'lambda_l2': 0.5222867883307987, 'num_leaves': 164, 'feature_fraction': 0.6790801416501032, 'bagging_fraction': 0.9003191157439816, 'bagging_freq': 3, 'min_child_samples': 22}. Best is trial 17 with value: 0.8978712969070086.\u001b[0m\n",
            "\u001b[32m[I 2023-01-14 22:45:39,325]\u001b[0m Trial 21 finished with value: 0.8758610493131966 and parameters: {'lambda_l1': 1.9530320883341864e-06, 'lambda_l2': 0.005079953110516668, 'num_leaves': 156, 'feature_fraction': 0.7258724138488096, 'bagging_fraction': 0.6421264951609299, 'bagging_freq': 4, 'min_child_samples': 89}. Best is trial 17 with value: 0.8978712969070086.\u001b[0m\n",
            "\u001b[32m[I 2023-01-14 22:45:40,783]\u001b[0m Trial 20 finished with value: 0.8922126952008226 and parameters: {'lambda_l1': 2.4158394660290423e-06, 'lambda_l2': 0.6048652976958699, 'num_leaves': 172, 'feature_fraction': 0.7157134077167941, 'bagging_fraction': 0.6407606590011536, 'bagging_freq': 3, 'min_child_samples': 20}. Best is trial 17 with value: 0.8978712969070086.\u001b[0m\n",
            "\u001b[32m[I 2023-01-14 22:45:45,020]\u001b[0m Trial 23 finished with value: 0.8877778534706785 and parameters: {'lambda_l1': 0.011388809651091899, 'lambda_l2': 0.0007564354478327729, 'num_leaves': 211, 'feature_fraction': 0.5261861055821964, 'bagging_fraction': 0.4016887692034686, 'bagging_freq': 2, 'min_child_samples': 16}. Best is trial 17 with value: 0.8978712969070086.\u001b[0m\n",
            "\u001b[32m[I 2023-01-14 22:45:45,935]\u001b[0m Trial 22 finished with value: 0.8966474673357888 and parameters: {'lambda_l1': 3.6863046739725388e-06, 'lambda_l2': 0.0008245880130909466, 'num_leaves': 214, 'feature_fraction': 0.5268625192119123, 'bagging_fraction': 0.9994564983526131, 'bagging_freq': 2, 'min_child_samples': 15}. Best is trial 17 with value: 0.8978712969070086.\u001b[0m\n",
            "\u001b[32m[I 2023-01-14 22:45:49,843]\u001b[0m Trial 24 finished with value: 0.8945374562149094 and parameters: {'lambda_l1': 9.764907800904019e-05, 'lambda_l2': 0.02784903862511557, 'num_leaves': 231, 'feature_fraction': 0.5451074551048596, 'bagging_fraction': 0.9389628574810946, 'bagging_freq': 1, 'min_child_samples': 30}. Best is trial 17 with value: 0.8978712969070086.\u001b[0m\n",
            "\u001b[32m[I 2023-01-14 22:45:51,158]\u001b[0m Trial 25 finished with value: 0.8948288901321847 and parameters: {'lambda_l1': 3.818892000512066e-06, 'lambda_l2': 0.017639660207773532, 'num_leaves': 223, 'feature_fraction': 0.5643687383994029, 'bagging_fraction': 0.9394549985157458, 'bagging_freq': 2, 'min_child_samples': 30}. Best is trial 17 with value: 0.8978712969070086.\u001b[0m\n",
            "\u001b[32m[I 2023-01-14 22:45:54,416]\u001b[0m Trial 26 finished with value: 0.8932305046159827 and parameters: {'lambda_l1': 3.7517011407487262e-06, 'lambda_l2': 0.014254439066408725, 'num_leaves': 189, 'feature_fraction': 0.5999160469350335, 'bagging_fraction': 0.7862077121726571, 'bagging_freq': 2, 'min_child_samples': 30}. Best is trial 17 with value: 0.8978712969070086.\u001b[0m\n",
            "\u001b[32m[I 2023-01-14 22:45:57,519]\u001b[0m Trial 27 finished with value: 0.8939471163779138 and parameters: {'lambda_l1': 3.5553333549338074e-07, 'lambda_l2': 0.18522481671309382, 'num_leaves': 188, 'feature_fraction': 0.611317866545929, 'bagging_fraction': 0.8602477113641176, 'bagging_freq': 4, 'min_child_samples': 14}. Best is trial 17 with value: 0.8978712969070086.\u001b[0m\n",
            "\u001b[32m[I 2023-01-14 22:46:00,010]\u001b[0m Trial 28 finished with value: 0.893521461106401 and parameters: {'lambda_l1': 1.6277281158462503e-07, 'lambda_l2': 0.00047225259946332494, 'num_leaves': 152, 'feature_fraction': 0.7551925059756479, 'bagging_fraction': 0.8595022772394338, 'bagging_freq': 4, 'min_child_samples': 14}. Best is trial 17 with value: 0.8978712969070086.\u001b[0m\n",
            "\u001b[32m[I 2023-01-14 22:46:02,092]\u001b[0m Trial 29 finished with value: 0.8950792566139224 and parameters: {'lambda_l1': 8.654535417239185e-08, 'lambda_l2': 0.0009228877300111459, 'num_leaves': 148, 'feature_fraction': 0.7607307502363324, 'bagging_fraction': 0.9952800101396297, 'bagging_freq': 3, 'min_child_samples': 45}. Best is trial 17 with value: 0.8978712969070086.\u001b[0m\n",
            "\u001b[32m[I 2023-01-14 22:46:03,284]\u001b[0m Trial 30 finished with value: 0.8918126696232008 and parameters: {'lambda_l1': 1.3152768644625163e-05, 'lambda_l2': 2.158982448717444e-06, 'num_leaves': 101, 'feature_fraction': 0.6617011455753393, 'bagging_fraction': 0.999772197063175, 'bagging_freq': 3, 'min_child_samples': 67}. Best is trial 17 with value: 0.8978712969070086.\u001b[0m\n",
            "\u001b[32m[I 2023-01-14 22:46:04,005]\u001b[0m Trial 32 finished with value: 0.837176897595015 and parameters: {'lambda_l1': 6.623870566602143e-08, 'lambda_l2': 0.0011552894283011392, 'num_leaves': 4, 'feature_fraction': 0.7745212170271343, 'bagging_fraction': 0.9447540707189958, 'bagging_freq': 2, 'min_child_samples': 50}. Best is trial 17 with value: 0.8978712969070086.\u001b[0m\n",
            "\u001b[32m[I 2023-01-14 22:46:04,929]\u001b[0m Trial 31 finished with value: 0.8895553741625535 and parameters: {'lambda_l1': 1.2142050117965806e-05, 'lambda_l2': 1.9258979789464604e-06, 'num_leaves': 96, 'feature_fraction': 0.6711776131904843, 'bagging_fraction': 0.8949737282702828, 'bagging_freq': 2, 'min_child_samples': 73}. Best is trial 17 with value: 0.8978712969070086.\u001b[0m\n",
            "\u001b[32m[I 2023-01-14 22:46:09,186]\u001b[0m Trial 34 finished with value: 0.890462006326104 and parameters: {'lambda_l1': 9.474105306542121e-07, 'lambda_l2': 0.004370552256943494, 'num_leaves': 141, 'feature_fraction': 0.4694626341329797, 'bagging_fraction': 0.9952013774788302, 'bagging_freq': 3, 'min_child_samples': 25}. Best is trial 17 with value: 0.8978712969070086.\u001b[0m\n",
            "\u001b[32m[I 2023-01-14 22:46:09,465]\u001b[0m Trial 33 finished with value: 0.895540396110489 and parameters: {'lambda_l1': 9.970340783993168e-07, 'lambda_l2': 0.006320195316698533, 'num_leaves': 149, 'feature_fraction': 0.7580327411238021, 'bagging_fraction': 0.9986115116124774, 'bagging_freq': 3, 'min_child_samples': 26}. Best is trial 17 with value: 0.8978712969070086.\u001b[0m\n",
            "\u001b[32m[I 2023-01-14 22:46:13,034]\u001b[0m Trial 36 finished with value: 0.8895582304146433 and parameters: {'lambda_l1': 0.00011059875127679444, 'lambda_l2': 0.007090396125037338, 'num_leaves': 119, 'feature_fraction': 0.47402938432627295, 'bagging_fraction': 0.9529001943637472, 'bagging_freq': 5, 'min_child_samples': 35}. Best is trial 17 with value: 0.8978712969070086.\u001b[0m\n",
            "\u001b[32m[I 2023-01-14 22:46:13,518]\u001b[0m Trial 35 finished with value: 0.8940260540240622 and parameters: {'lambda_l1': 6.63899956056248e-08, 'lambda_l2': 1.1976379923366123e-08, 'num_leaves': 124, 'feature_fraction': 0.7488460640069475, 'bagging_fraction': 0.9545610144534219, 'bagging_freq': 3, 'min_child_samples': 44}. Best is trial 17 with value: 0.8978712969070086.\u001b[0m\n",
            "\u001b[32m[I 2023-01-14 22:46:15,693]\u001b[0m Trial 38 finished with value: 0.8800826616217002 and parameters: {'lambda_l1': 9.367591366510813e-07, 'lambda_l2': 0.08542900144185628, 'num_leaves': 181, 'feature_fraction': 0.5832364736143467, 'bagging_fraction': 0.8815541576072443, 'bagging_freq': 2, 'min_child_samples': 100}. Best is trial 17 with value: 0.8978712969070086.\u001b[0m\n",
            "\u001b[32m[I 2023-01-14 22:46:18,664]\u001b[0m Trial 37 finished with value: 0.8925658181757316 and parameters: {'lambda_l1': 6.865307598212845e-06, 'lambda_l2': 0.08302025326130637, 'num_leaves': 175, 'feature_fraction': 0.5793569928946595, 'bagging_fraction': 0.8847769748211975, 'bagging_freq': 2, 'min_child_samples': 15}. Best is trial 17 with value: 0.8978712969070086.\u001b[0m\n",
            "\u001b[32m[I 2023-01-14 22:46:19,049]\u001b[0m Trial 39 finished with value: 0.8838730387562633 and parameters: {'lambda_l1': 7.485679709673177e-06, 'lambda_l2': 7.154774427942869, 'num_leaves': 225, 'feature_fraction': 0.802626655037667, 'bagging_fraction': 0.6952094998374048, 'bagging_freq': 1, 'min_child_samples': 25}. Best is trial 17 with value: 0.8978712969070086.\u001b[0m\n",
            "\u001b[32m[I 2023-01-14 22:46:24,691]\u001b[0m Trial 40 finished with value: 0.8952041879173501 and parameters: {'lambda_l1': 6.23625432494165e-05, 'lambda_l2': 0.0001876208965860487, 'num_leaves': 220, 'feature_fraction': 0.8410474078845737, 'bagging_fraction': 0.8204037048564393, 'bagging_freq': 1, 'min_child_samples': 25}. Best is trial 17 with value: 0.8978712969070086.\u001b[0m\n",
            "\u001b[32m[I 2023-01-14 22:46:26,425]\u001b[0m Trial 41 finished with value: 0.8929270148342431 and parameters: {'lambda_l1': 4.571148968884101e-05, 'lambda_l2': 0.00012763184878158493, 'num_leaves': 202, 'feature_fraction': 0.8656023840808977, 'bagging_fraction': 0.7661507290491428, 'bagging_freq': 5, 'min_child_samples': 11}. Best is trial 17 with value: 0.8978712969070086.\u001b[0m\n",
            "\u001b[32m[I 2023-01-14 22:46:30,180]\u001b[0m Trial 42 finished with value: 0.8926685585123867 and parameters: {'lambda_l1': 4.690498738137115e-05, 'lambda_l2': 9.700459980788471e-05, 'num_leaves': 202, 'feature_fraction': 0.8629460457874958, 'bagging_fraction': 0.7540449472577416, 'bagging_freq': 1, 'min_child_samples': 26}. Best is trial 17 with value: 0.8978712969070086.\u001b[0m\n",
            "\u001b[32m[I 2023-01-14 22:46:31,230]\u001b[0m Trial 43 finished with value: 0.8937019244212788 and parameters: {'lambda_l1': 7.491606741854113e-05, 'lambda_l2': 1.0252970015728398e-05, 'num_leaves': 221, 'feature_fraction': 0.8267259365003632, 'bagging_fraction': 0.8273162446954301, 'bagging_freq': 1, 'min_child_samples': 34}. Best is trial 17 with value: 0.8978712969070086.\u001b[0m\n",
            "\u001b[32m[I 2023-01-14 22:46:34,923]\u001b[0m Trial 44 finished with value: 0.8941820743283806 and parameters: {'lambda_l1': 9.85414258738378e-07, 'lambda_l2': 0.0023113612801948197, 'num_leaves': 238, 'feature_fraction': 0.8376917640095344, 'bagging_fraction': 0.8255295781100925, 'bagging_freq': 1, 'min_child_samples': 34}. Best is trial 17 with value: 0.8978712969070086.\u001b[0m\n",
            "\u001b[32m[I 2023-01-14 22:46:38,785]\u001b[0m Trial 45 finished with value: 0.8974517361904472 and parameters: {'lambda_l1': 9.687012633282002e-07, 'lambda_l2': 0.0019486052369052664, 'num_leaves': 242, 'feature_fraction': 0.6455937141597907, 'bagging_fraction': 0.9222827469795734, 'bagging_freq': 2, 'min_child_samples': 17}. Best is trial 17 with value: 0.8978712969070086.\u001b[0m\n",
            "\u001b[32m[I 2023-01-14 22:46:40,005]\u001b[0m Trial 46 finished with value: 0.8925343517915513 and parameters: {'lambda_l1': 0.002711924577346421, 'lambda_l2': 0.0002568126163460573, 'num_leaves': 160, 'feature_fraction': 0.9983756084734701, 'bagging_fraction': 0.9280296117382127, 'bagging_freq': 2, 'min_child_samples': 40}. Best is trial 17 with value: 0.8978712969070086.\u001b[0m\n",
            "\u001b[32m[I 2023-01-14 22:46:46,908]\u001b[0m Trial 47 finished with value: 0.8951589508172174 and parameters: {'lambda_l1': 5.7040778137546e-07, 'lambda_l2': 0.01009388916033864, 'num_leaves': 162, 'feature_fraction': 0.6513223320164422, 'bagging_fraction': 0.9266189021929616, 'bagging_freq': 2, 'min_child_samples': 19}. Best is trial 17 with value: 0.8978712969070086.\u001b[0m\n",
            "\u001b[32m[I 2023-01-14 22:46:47,665]\u001b[0m Trial 48 finished with value: 0.8955613084818453 and parameters: {'lambda_l1': 5.472766928575912e-07, 'lambda_l2': 0.008158241341100715, 'num_leaves': 136, 'feature_fraction': 0.6607703788863891, 'bagging_fraction': 0.9624781601856798, 'bagging_freq': 2, 'min_child_samples': 17}. Best is trial 17 with value: 0.8978712969070086.\u001b[0m\n",
            "\u001b[32m[I 2023-01-14 22:46:50,882]\u001b[0m Trial 50 finished with value: 0.894999504316563 and parameters: {'lambda_l1': 2.9783501873199164e-07, 'lambda_l2': 0.0013053367718732266, 'num_leaves': 78, 'feature_fraction': 0.6903462215791069, 'bagging_fraction': 0.969719761308735, 'bagging_freq': 2, 'min_child_samples': 9}. Best is trial 17 with value: 0.8978712969070086.\u001b[0m\n",
            "\u001b[32m[I 2023-01-14 22:46:51,972]\u001b[0m Trial 49 finished with value: 0.8960793153070123 and parameters: {'lambda_l1': 1.4766656757400039e-07, 'lambda_l2': 0.0019276213590093394, 'num_leaves': 138, 'feature_fraction': 0.6280890239698578, 'bagging_fraction': 0.9713579813795288, 'bagging_freq': 3, 'min_child_samples': 10}. Best is trial 17 with value: 0.8978712969070086.\u001b[0m\n",
            "\u001b[32m[I 2023-01-14 22:46:56,084]\u001b[0m Trial 52 finished with value: 0.896417246398506 and parameters: {'lambda_l1': 1.7361816045955665e-07, 'lambda_l2': 0.00223425687147484, 'num_leaves': 110, 'feature_fraction': 0.6342568257073382, 'bagging_fraction': 0.9664457292584087, 'bagging_freq': 7, 'min_child_samples': 11}. Best is trial 17 with value: 0.8978712969070086.\u001b[0m\n",
            "\u001b[32m[I 2023-01-14 22:46:58,876]\u001b[0m Trial 51 finished with value: 0.8963459174046301 and parameters: {'lambda_l1': 2.0064830963996215e-06, 'lambda_l2': 0.054723613213917055, 'num_leaves': 247, 'feature_fraction': 0.6347351100101399, 'bagging_fraction': 0.9663606822228383, 'bagging_freq': 5, 'min_child_samples': 11}. Best is trial 17 with value: 0.8978712969070086.\u001b[0m\n",
            "\u001b[32m[I 2023-01-14 22:46:59,455]\u001b[0m Trial 53 finished with value: 0.8963469730895729 and parameters: {'lambda_l1': 1.2553888799045758e-08, 'lambda_l2': 0.0004237448259719679, 'num_leaves': 82, 'feature_fraction': 0.630390291409218, 'bagging_fraction': 0.9691949538883856, 'bagging_freq': 7, 'min_child_samples': 12}. Best is trial 17 with value: 0.8978712969070086.\u001b[0m\n",
            "\u001b[32m[I 2023-01-14 22:47:02,577]\u001b[0m Trial 55 finished with value: 0.8952274766047843 and parameters: {'lambda_l1': 1.668742316866201e-08, 'lambda_l2': 0.00040193171991099113, 'num_leaves': 75, 'feature_fraction': 0.6953049437236165, 'bagging_fraction': 0.9157313427159468, 'bagging_freq': 7, 'min_child_samples': 7}. Best is trial 17 with value: 0.8978712969070086.\u001b[0m\n",
            "\u001b[32m[I 2023-01-14 22:47:05,545]\u001b[0m Trial 56 finished with value: 0.8940170367265042 and parameters: {'lambda_l1': 1.0687752906290725e-08, 'lambda_l2': 0.0005467420758020325, 'num_leaves': 86, 'feature_fraction': 0.49394522324236895, 'bagging_fraction': 0.9120276306620083, 'bagging_freq': 7, 'min_child_samples': 14}. Best is trial 17 with value: 0.8978712969070086.\u001b[0m\n",
            "\u001b[32m[I 2023-01-14 22:47:06,582]\u001b[0m Trial 54 finished with value: 0.895443041129691 and parameters: {'lambda_l1': 1.0175608583705257e-08, 'lambda_l2': 0.03289530608784391, 'num_leaves': 241, 'feature_fraction': 0.6416702415367802, 'bagging_fraction': 0.9126183002234551, 'bagging_freq': 7, 'min_child_samples': 13}. Best is trial 17 with value: 0.8978712969070086.\u001b[0m\n",
            "\u001b[32m[I 2023-01-14 22:47:08,284]\u001b[0m Trial 57 finished with value: 0.8922936080292954 and parameters: {'lambda_l1': 2.51274885734212e-08, 'lambda_l2': 0.0030215895724787774, 'num_leaves': 58, 'feature_fraction': 0.7237431049997727, 'bagging_fraction': 0.9408761854983141, 'bagging_freq': 7, 'min_child_samples': 22}. Best is trial 17 with value: 0.8978712969070086.\u001b[0m\n",
            "\u001b[32m[I 2023-01-14 22:47:09,026]\u001b[0m Trial 58 finished with value: 0.8902853454156725 and parameters: {'lambda_l1': 6.145037687012766e-08, 'lambda_l2': 0.27862137357551486, 'num_leaves': 54, 'feature_fraction': 0.6121749560301242, 'bagging_fraction': 0.5762150967685665, 'bagging_freq': 6, 'min_child_samples': 21}. Best is trial 17 with value: 0.8978712969070086.\u001b[0m\n",
            "\u001b[32m[I 2023-01-14 22:47:11,758]\u001b[0m Trial 59 finished with value: 0.886980710101593 and parameters: {'lambda_l1': 3.457851555398688e-08, 'lambda_l2': 4.228780542760135e-05, 'num_leaves': 104, 'feature_fraction': 0.54113020949699, 'bagging_fraction': 0.5819948679451449, 'bagging_freq': 6, 'min_child_samples': 18}. Best is trial 17 with value: 0.8978712969070086.\u001b[0m\n",
            "\u001b[32m[I 2023-01-14 22:47:12,854]\u001b[0m Trial 60 finished with value: 0.8950778410251048 and parameters: {'lambda_l1': 1.3816498808180854e-07, 'lambda_l2': 5.9211360244428675e-05, 'num_leaves': 110, 'feature_fraction': 0.5686891373091093, 'bagging_fraction': 0.9787502337697188, 'bagging_freq': 6, 'min_child_samples': 18}. Best is trial 17 with value: 0.8978712969070086.\u001b[0m\n",
            "\u001b[32m[I 2023-01-14 22:47:18,086]\u001b[0m Trial 61 finished with value: 0.8949232405263583 and parameters: {'lambda_l1': 1.6120878280095462e-07, 'lambda_l2': 1.5669760913489232e-05, 'num_leaves': 194, 'feature_fraction': 0.5633652014978845, 'bagging_fraction': 0.9770411616626135, 'bagging_freq': 7, 'min_child_samples': 5}. Best is trial 17 with value: 0.8978712969070086.\u001b[0m\n",
            "\u001b[32m[I 2023-01-14 22:47:21,178]\u001b[0m Trial 62 finished with value: 0.8963178210245278 and parameters: {'lambda_l1': 1.909759007817901e-06, 'lambda_l2': 0.8721117053898965, 'num_leaves': 250, 'feature_fraction': 0.6393550834206638, 'bagging_fraction': 0.977552132110257, 'bagging_freq': 5, 'min_child_samples': 5}. Best is trial 17 with value: 0.8978712969070086.\u001b[0m\n",
            "\u001b[32m[I 2023-01-14 22:47:26,020]\u001b[0m Trial 63 finished with value: 0.8959767636130272 and parameters: {'lambda_l1': 2.555987089628623e-06, 'lambda_l2': 0.0032506537900675475, 'num_leaves': 246, 'feature_fraction': 0.6429626394751955, 'bagging_fraction': 0.9571100010538418, 'bagging_freq': 5, 'min_child_samples': 11}. Best is trial 17 with value: 0.8978712969070086.\u001b[0m\n",
            "\u001b[32m[I 2023-01-14 22:47:28,745]\u001b[0m Trial 64 finished with value: 0.8949091954888014 and parameters: {'lambda_l1': 3.951867588924136e-06, 'lambda_l2': 0.04276822960060529, 'num_leaves': 232, 'feature_fraction': 0.6774734919497812, 'bagging_fraction': 0.9518220182526452, 'bagging_freq': 5, 'min_child_samples': 11}. Best is trial 17 with value: 0.8978712969070086.\u001b[0m\n",
            "\u001b[32m[I 2023-01-14 22:47:33,058]\u001b[0m Trial 65 finished with value: 0.893627869190803 and parameters: {'lambda_l1': 0.4371450010178623, 'lambda_l2': 0.02176711239345753, 'num_leaves': 234, 'feature_fraction': 0.6868678762783083, 'bagging_fraction': 0.8764168968753374, 'bagging_freq': 7, 'min_child_samples': 9}. Best is trial 17 with value: 0.8978712969070086.\u001b[0m\n",
            "\u001b[32m[I 2023-01-14 22:47:36,056]\u001b[0m Trial 66 finished with value: 0.8951156713761651 and parameters: {'lambda_l1': 6.970725599920398e-06, 'lambda_l2': 0.019726620413606448, 'num_leaves': 216, 'feature_fraction': 0.6005592599648973, 'bagging_fraction': 0.9301000773903162, 'bagging_freq': 7, 'min_child_samples': 9}. Best is trial 17 with value: 0.8978712969070086.\u001b[0m\n",
            "\u001b[32m[I 2023-01-14 22:47:39,602]\u001b[0m Trial 67 finished with value: 0.8967637853254397 and parameters: {'lambda_l1': 7.82952187684795e-06, 'lambda_l2': 0.0010914091021974343, 'num_leaves': 212, 'feature_fraction': 0.5995521040194983, 'bagging_fraction': 0.9959337089237368, 'bagging_freq': 6, 'min_child_samples': 16}. Best is trial 17 with value: 0.8978712969070086.\u001b[0m\n",
            "\u001b[32m[I 2023-01-14 22:47:39,714]\u001b[0m Trial 68 finished with value: 0.895570272153563 and parameters: {'lambda_l1': 2.660021647307879e-05, 'lambda_l2': 0.0014021062690451505, 'num_leaves': 88, 'feature_fraction': 0.7040346774690023, 'bagging_fraction': 0.9996774886842249, 'bagging_freq': 6, 'min_child_samples': 15}. Best is trial 17 with value: 0.8978712969070086.\u001b[0m\n",
            "\u001b[32m[I 2023-01-14 22:47:43,116]\u001b[0m Trial 70 finished with value: 0.8914857092331628 and parameters: {'lambda_l1': 0.00015466577091643834, 'lambda_l2': 0.0005030332226958651, 'num_leaves': 213, 'feature_fraction': 0.5117120518432631, 'bagging_fraction': 0.9826556506709345, 'bagging_freq': 6, 'min_child_samples': 57}. Best is trial 17 with value: 0.8978712969070086.\u001b[0m\n",
            "\u001b[32m[I 2023-01-14 22:47:45,863]\u001b[0m Trial 69 finished with value: 0.8965928829260043 and parameters: {'lambda_l1': 1.4914865286252517e-05, 'lambda_l2': 0.000954616388854224, 'num_leaves': 211, 'feature_fraction': 0.5076829990902715, 'bagging_fraction': 0.9894724169095214, 'bagging_freq': 6, 'min_child_samples': 22}. Best is trial 17 with value: 0.8978712969070086.\u001b[0m\n",
            "\u001b[32m[I 2023-01-14 22:47:46,146]\u001b[0m Trial 71 finished with value: 0.8801200243197377 and parameters: {'lambda_l1': 0.00019627869347002317, 'lambda_l2': 0.011431291923669937, 'num_leaves': 196, 'feature_fraction': 0.6170047815101423, 'bagging_fraction': 0.43402537464225166, 'bagging_freq': 7, 'min_child_samples': 29}. Best is trial 17 with value: 0.8978712969070086.\u001b[0m\n",
            "\u001b[32m[I 2023-01-14 22:47:50,886]\u001b[0m Trial 72 finished with value: 0.8913391509050318 and parameters: {'lambda_l1': 2.2117346020894177e-05, 'lambda_l2': 0.0007773788921088923, 'num_leaves': 193, 'feature_fraction': 0.4413029832892256, 'bagging_fraction': 0.9840513033669908, 'bagging_freq': 7, 'min_child_samples': 28}. Best is trial 17 with value: 0.8978712969070086.\u001b[0m\n",
            "\u001b[32m[I 2023-01-14 22:47:52,439]\u001b[0m Trial 73 finished with value: 0.8952144845089265 and parameters: {'lambda_l1': 1.4909025070386665e-05, 'lambda_l2': 0.0006477286387814344, 'num_leaves': 183, 'feature_fraction': 0.7381657706609566, 'bagging_fraction': 0.9853034998639422, 'bagging_freq': 6, 'min_child_samples': 23}. Best is trial 17 with value: 0.8978712969070086.\u001b[0m\n",
            "\u001b[32m[I 2023-01-14 22:47:57,699]\u001b[0m Trial 74 finished with value: 0.8949445236369372 and parameters: {'lambda_l1': 1.0497163278079489e-05, 'lambda_l2': 0.00025967293584734516, 'num_leaves': 206, 'feature_fraction': 0.7357217167680375, 'bagging_fraction': 0.9495901847307048, 'bagging_freq': 6, 'min_child_samples': 22}. Best is trial 17 with value: 0.8978712969070086.\u001b[0m\n",
            "\u001b[32m[I 2023-01-14 22:47:58,779]\u001b[0m Trial 75 finished with value: 0.8939318246825207 and parameters: {'lambda_l1': 3.5448104951042553e-06, 'lambda_l2': 0.00030098239094830236, 'num_leaves': 206, 'feature_fraction': 0.593093332134478, 'bagging_fraction': 0.9451680192158742, 'bagging_freq': 6, 'min_child_samples': 17}. Best is trial 17 with value: 0.8978712969070086.\u001b[0m\n",
            "\u001b[32m[I 2023-01-14 22:47:59,439]\u001b[0m Trial 76 finished with value: 0.8704318789310804 and parameters: {'lambda_l1': 9.730292104359457, 'lambda_l2': 0.0016593029217609803, 'num_leaves': 227, 'feature_fraction': 0.5309380971867715, 'bagging_fraction': 0.8982042999096229, 'bagging_freq': 4, 'min_child_samples': 17}. Best is trial 17 with value: 0.8978712969070086.\u001b[0m\n",
            "\u001b[32m[I 2023-01-14 22:48:04,568]\u001b[0m Trial 78 finished with value: 0.8943593220488181 and parameters: {'lambda_l1': 1.5917947358168968e-06, 'lambda_l2': 0.00614276319788754, 'num_leaves': 173, 'feature_fraction': 0.5066748785011913, 'bagging_fraction': 0.9991472120334964, 'bagging_freq': 1, 'min_child_samples': 20}. Best is trial 17 with value: 0.8978712969070086.\u001b[0m\n",
            "\u001b[32m[I 2023-01-14 22:48:05,699]\u001b[0m Trial 77 finished with value: 0.8951312703286435 and parameters: {'lambda_l1': 1.2737986500409754e-06, 'lambda_l2': 0.004230748374967403, 'num_leaves': 227, 'feature_fraction': 0.5419090297581778, 'bagging_fraction': 0.9981926431343349, 'bagging_freq': 4, 'min_child_samples': 13}. Best is trial 17 with value: 0.8978712969070086.\u001b[0m\n",
            "\u001b[32m[I 2023-01-14 22:48:06,384]\u001b[0m Trial 79 finished with value: 0.8890494548628737 and parameters: {'lambda_l1': 5.1003397355234544e-06, 'lambda_l2': 0.004903310616737743, 'num_leaves': 35, 'feature_fraction': 0.5527606511903703, 'bagging_fraction': 0.6929219903409662, 'bagging_freq': 7, 'min_child_samples': 13}. Best is trial 17 with value: 0.8978712969070086.\u001b[0m\n",
            "\u001b[32m[I 2023-01-14 22:48:07,124]\u001b[0m Trial 80 finished with value: 0.8844908453220844 and parameters: {'lambda_l1': 0.0008528103177190147, 'lambda_l2': 0.0009253604246565879, 'num_leaves': 25, 'feature_fraction': 0.47645773042851075, 'bagging_fraction': 0.692530972489903, 'bagging_freq': 7, 'min_child_samples': 32}. Best is trial 17 with value: 0.8978712969070086.\u001b[0m\n",
            "\u001b[32m[I 2023-01-14 22:48:11,106]\u001b[0m Trial 81 finished with value: 0.8922132065062146 and parameters: {'lambda_l1': 0.0007686272534107438, 'lambda_l2': 0.0011597781533416293, 'num_leaves': 119, 'feature_fraction': 0.9524419796962365, 'bagging_fraction': 0.8458636259037835, 'bagging_freq': 2, 'min_child_samples': 31}. Best is trial 17 with value: 0.8978712969070086.\u001b[0m\n",
            "\u001b[32m[I 2023-01-14 22:48:14,756]\u001b[0m Trial 82 finished with value: 0.8947827522873985 and parameters: {'lambda_l1': 5.09598961108643e-07, 'lambda_l2': 0.00016128557741560553, 'num_leaves': 243, 'feature_fraction': 0.6625934249183494, 'bagging_fraction': 0.9649362165747185, 'bagging_freq': 5, 'min_child_samples': 16}. Best is trial 17 with value: 0.8978712969070086.\u001b[0m\n",
            "\u001b[32m[I 2023-01-14 22:48:17,717]\u001b[0m Trial 83 finished with value: 0.895876145566993 and parameters: {'lambda_l1': 5.520075076082923e-07, 'lambda_l2': 0.045039378610175415, 'num_leaves': 215, 'feature_fraction': 0.6554700412151097, 'bagging_fraction': 0.9664368800064703, 'bagging_freq': 5, 'min_child_samples': 23}. Best is trial 17 with value: 0.8978712969070086.\u001b[0m\n",
            "\u001b[32m[I 2023-01-14 22:48:23,097]\u001b[0m Trial 84 finished with value: 0.896255517837376 and parameters: {'lambda_l1': 3.0001346412338738e-05, 'lambda_l2': 0.0020589529847719764, 'num_leaves': 252, 'feature_fraction': 0.6229227423177234, 'bagging_fraction': 0.9310052031504629, 'bagging_freq': 5, 'min_child_samples': 8}. Best is trial 17 with value: 0.8978712969070086.\u001b[0m\n",
            "\u001b[32m[I 2023-01-14 22:48:25,479]\u001b[0m Trial 85 finished with value: 0.8963975769964302 and parameters: {'lambda_l1': 2.857430446131807e-05, 'lambda_l2': 0.00243353734476168, 'num_leaves': 253, 'feature_fraction': 0.5831721114955916, 'bagging_fraction': 0.9369818352355302, 'bagging_freq': 6, 'min_child_samples': 8}. Best is trial 17 with value: 0.8978712969070086.\u001b[0m\n",
            "\u001b[32m[I 2023-01-14 22:48:28,732]\u001b[0m Trial 86 finished with value: 0.8946639705425047 and parameters: {'lambda_l1': 2.1282239668260046e-06, 'lambda_l2': 0.12657567910447876, 'num_leaves': 200, 'feature_fraction': 0.5857410382917317, 'bagging_fraction': 0.9629750281585033, 'bagging_freq': 6, 'min_child_samples': 27}. Best is trial 17 with value: 0.8978712969070086.\u001b[0m\n",
            "\u001b[32m[I 2023-01-14 22:48:31,878]\u001b[0m Trial 87 finished with value: 0.895393192939236 and parameters: {'lambda_l1': 6.207220599148156e-06, 'lambda_l2': 0.0028174307325903292, 'num_leaves': 255, 'feature_fraction': 0.7809965072148792, 'bagging_fraction': 0.9368455377666126, 'bagging_freq': 6, 'min_child_samples': 27}. Best is trial 17 with value: 0.8978712969070086.\u001b[0m\n",
            "\u001b[32m[I 2023-01-14 22:48:33,316]\u001b[0m Trial 88 finished with value: 0.8912201487609455 and parameters: {'lambda_l1': 3.514751961553162e-05, 'lambda_l2': 0.012472752248897701, 'num_leaves': 167, 'feature_fraction': 0.49666078604267583, 'bagging_fraction': 0.9370134750372761, 'bagging_freq': 1, 'min_child_samples': 20}. Best is trial 17 with value: 0.8978712969070086.\u001b[0m\n",
            "\u001b[32m[I 2023-01-14 22:48:34,481]\u001b[0m Trial 89 finished with value: 0.8888115775308923 and parameters: {'lambda_l1': 9.8247748137383e-06, 'lambda_l2': 0.012590135899446414, 'num_leaves': 185, 'feature_fraction': 0.5741876975133383, 'bagging_fraction': 0.8984785759535758, 'bagging_freq': 1, 'min_child_samples': 64}. Best is trial 17 with value: 0.8978712969070086.\u001b[0m\n",
            "\u001b[32m[I 2023-01-14 22:48:36,346]\u001b[0m Trial 90 finished with value: 0.8888406643280483 and parameters: {'lambda_l1': 1.1426361979885751e-05, 'lambda_l2': 8.388216608882135e-05, 'num_leaves': 187, 'feature_fraction': 0.6047683914847335, 'bagging_fraction': 0.894104676902967, 'bagging_freq': 2, 'min_child_samples': 66}. Best is trial 17 with value: 0.8978712969070086.\u001b[0m\n",
            "\u001b[32m[I 2023-01-14 22:48:41,999]\u001b[0m Trial 91 finished with value: 0.898087276194005 and parameters: {'lambda_l1': 1.7671645597935708e-05, 'lambda_l2': 0.0003703320410636243, 'num_leaves': 220, 'feature_fraction': 0.6057374411483961, 'bagging_fraction': 0.9871973729839113, 'bagging_freq': 3, 'min_child_samples': 7}. Best is trial 91 with value: 0.898087276194005.\u001b[0m\n",
            "\u001b[32m[I 2023-01-14 22:48:44,542]\u001b[0m Trial 92 finished with value: 0.8978568831248017 and parameters: {'lambda_l1': 3.3063053189851857e-06, 'lambda_l2': 0.0003563995825743488, 'num_leaves': 238, 'feature_fraction': 0.7108314501147456, 'bagging_fraction': 0.9856551432815139, 'bagging_freq': 6, 'min_child_samples': 12}. Best is trial 91 with value: 0.898087276194005.\u001b[0m\n",
            "\u001b[32m[I 2023-01-14 22:48:49,281]\u001b[0m Trial 93 finished with value: 0.8964879057741314 and parameters: {'lambda_l1': 1.9368706850189127e-05, 'lambda_l2': 0.0002616905520966265, 'num_leaves': 232, 'feature_fraction': 0.5266314871773995, 'bagging_fraction': 0.9891395288366931, 'bagging_freq': 3, 'min_child_samples': 6}. Best is trial 91 with value: 0.898087276194005.\u001b[0m\n",
            "\u001b[32m[I 2023-01-14 22:48:53,004]\u001b[0m Trial 94 finished with value: 0.8954589998391898 and parameters: {'lambda_l1': 1.9686576361220917e-05, 'lambda_l2': 0.0008921874608971119, 'num_leaves': 238, 'feature_fraction': 0.7103367528963821, 'bagging_fraction': 0.9885684719245745, 'bagging_freq': 3, 'min_child_samples': 7}. Best is trial 91 with value: 0.898087276194005.\u001b[0m\n",
            "\u001b[32m[I 2023-01-14 22:48:55,899]\u001b[0m Trial 95 finished with value: 0.8924080501194854 and parameters: {'lambda_l1': 1.6907720983707892e-05, 'lambda_l2': 0.00015307764271287456, 'num_leaves': 236, 'feature_fraction': 0.4460758286244527, 'bagging_fraction': 0.9868594345097108, 'bagging_freq': 3, 'min_child_samples': 7}. Best is trial 91 with value: 0.898087276194005.\u001b[0m\n",
            "\u001b[32m[I 2023-01-14 22:48:58,624]\u001b[0m Trial 97 finished with value: 0.8881400131616738 and parameters: {'lambda_l1': 3.016915342959936e-06, 'lambda_l2': 0.00027999285739017715, 'num_leaves': 229, 'feature_fraction': 0.5250586129092043, 'bagging_fraction': 0.9560971940310266, 'bagging_freq': 3, 'min_child_samples': 80}. Best is trial 91 with value: 0.898087276194005.\u001b[0m\n",
            "\u001b[32m[I 2023-01-14 22:49:00,232]\u001b[0m Trial 96 finished with value: 0.8959888204115375 and parameters: {'lambda_l1': 3.354121575467699e-06, 'lambda_l2': 0.00015077898115575092, 'num_leaves': 219, 'feature_fraction': 0.675899370537676, 'bagging_fraction': 0.984624624771851, 'bagging_freq': 3, 'min_child_samples': 15}. Best is trial 91 with value: 0.898087276194005.\u001b[0m\n",
            "\u001b[32m[I 2023-01-14 22:49:05,761]\u001b[0m Trial 98 finished with value: 0.8966483222911976 and parameters: {'lambda_l1': 3.177847575586947e-07, 'lambda_l2': 7.033399913069348e-05, 'num_leaves': 220, 'feature_fraction': 0.6823831511666363, 'bagging_fraction': 0.9781595052654144, 'bagging_freq': 4, 'min_child_samples': 15}. Best is trial 91 with value: 0.898087276194005.\u001b[0m\n",
            "\u001b[32m[I 2023-01-14 22:49:06,067]\u001b[0m Trial 99 finished with value: 0.8950942619830994 and parameters: {'lambda_l1': 7.967524148880306e-07, 'lambda_l2': 1.9210555087782906e-05, 'num_leaves': 210, 'feature_fraction': 0.45888139201127753, 'bagging_fraction': 0.9749704074344981, 'bagging_freq': 4, 'min_child_samples': 5}. Best is trial 91 with value: 0.898087276194005.\u001b[0m\n"
          ]
        },
        {
          "output_type": "execute_result",
          "data": {
            "text/plain": [
              "OptunaSearchCV(cv=3, estimator=LGBMClassifier(), n_jobs=-1, n_trials=100,\n",
              "               param_distributions={'bagging_fraction': FloatDistribution(high=1.0, log=False, low=0.4, step=None),\n",
              "                                    'bagging_freq': IntDistribution(high=7, log=False, low=1, step=1),\n",
              "                                    'feature_fraction': FloatDistribution(high=1.0, log=False, low=0.4, step=None),\n",
              "                                    'lambda_l1': FloatDistribution(high=10.0, log=True, low=1e-08, step=None),\n",
              "                                    'lambda_l2': FloatDistribution(high=10.0, log=True, low=1e-08, step=None),\n",
              "                                    'min_child_samples': IntDistribution(high=100, log=False, low=5, step=1),\n",
              "                                    'num_leaves': IntDistribution(high=256, log=False, low=2, step=1)},\n",
              "               scoring='f1')"
            ]
          },
          "metadata": {},
          "execution_count": 73
        }
      ]
    },
    {
      "cell_type": "code",
      "source": [
        "optuna_search.best_score_"
      ],
      "metadata": {
        "colab": {
          "base_uri": "https://localhost:8080/"
        },
        "id": "SdyzvSzpiaG4",
        "outputId": "7f0f3683-6096-4a20-f63f-def2cd75166b"
      },
      "execution_count": 74,
      "outputs": [
        {
          "output_type": "execute_result",
          "data": {
            "text/plain": [
              "0.898087276194005"
            ]
          },
          "metadata": {},
          "execution_count": 74
        }
      ]
    },
    {
      "cell_type": "markdown",
      "source": [
        "Получили высокое значение f1 для модели"
      ],
      "metadata": {
        "id": "fNNu86JmcXTj"
      }
    },
    {
      "cell_type": "code",
      "source": [
        "lgbm_best_params = optuna_search.best_params_"
      ],
      "metadata": {
        "id": "yYBQp2Kmj6Tp"
      },
      "execution_count": 75,
      "outputs": []
    },
    {
      "cell_type": "code",
      "source": [
        "lgbm_optuna = lgb.LGBMClassifier(random_state=42, **lgbm_best_params)"
      ],
      "metadata": {
        "id": "amUvjrn8eo-c"
      },
      "execution_count": 76,
      "outputs": []
    },
    {
      "cell_type": "code",
      "source": [
        "lgbm_optuna.fit(features_train,target_train)\n",
        "pred_lgbm = lgbm_optuna.predict(features_test)"
      ],
      "metadata": {
        "id": "K9NBVBVPepSg"
      },
      "execution_count": 77,
      "outputs": []
    },
    {
      "cell_type": "code",
      "source": [
        "print(classification_report(target_test, pred_rf))"
      ],
      "metadata": {
        "colab": {
          "base_uri": "https://localhost:8080/"
        },
        "outputId": "2fc291e0-c51a-42ca-9622-dd9204dcce56",
        "id": "7EwErh1repSg"
      },
      "execution_count": 78,
      "outputs": [
        {
          "output_type": "stream",
          "name": "stdout",
          "text": [
            "              precision    recall  f1-score   support\n",
            "\n",
            "           0       0.88      0.88      0.88      2036\n",
            "           1       0.87      0.88      0.88      1946\n",
            "\n",
            "    accuracy                           0.88      3982\n",
            "   macro avg       0.88      0.88      0.88      3982\n",
            "weighted avg       0.88      0.88      0.88      3982\n",
            "\n"
          ]
        }
      ]
    },
    {
      "cell_type": "code",
      "source": [
        "lgbm_accuracy = accuracy_score(target_test, pred_lgbm)\n",
        "lgbm_precision = precision_score(target_test, pred_lgbm)\n",
        "lgbm_recall = recall_score(target_test, pred_lgbm)\n",
        "lgbm_f1 = f1_score(target_test, pred_lgbm)"
      ],
      "metadata": {
        "id": "F5lhFCWVepSi"
      },
      "execution_count": 79,
      "outputs": []
    },
    {
      "cell_type": "code",
      "source": [
        "print(f'LightGBM \\n accuracy: {lgbm_accuracy} \\n precision: {lgbm_precision} \\n recall: {lgbm_recall} \\n f1: {lgbm_f1}')"
      ],
      "metadata": {
        "colab": {
          "base_uri": "https://localhost:8080/"
        },
        "outputId": "f91700c7-3742-4eac-eb32-df438c7fa82c",
        "id": "DBKQrnuUepSi"
      },
      "execution_count": 80,
      "outputs": [
        {
          "output_type": "stream",
          "name": "stdout",
          "text": [
            "LightGBM \n",
            " accuracy: 0.9113510798593671 \n",
            " precision: 0.9279957012358947 \n",
            " recall: 0.8874614594039054 \n",
            " f1: 0.9072760703966378\n"
          ]
        }
      ]
    },
    {
      "cell_type": "markdown",
      "source": [
        "Значение на тестовой выборке еще немного лучше"
      ],
      "metadata": {
        "id": "iVJShx-GjEAU"
      }
    },
    {
      "cell_type": "code",
      "source": [
        "confusion_matrix(target_test, pred_lgbm)\n",
        "\n",
        "\n",
        "cf_matrix_lgbm = confusion_matrix(target_test, pred_lgbm)\n",
        "print(cf_matrix_lgbm)\n",
        "\n",
        "ax = sns.heatmap(cf_matrix_lgbm/np.sum(cf_matrix_lgbm), annot=True, fmt='.2%', cmap='binary')\n",
        "ax.set_title('LightGBM\\n\\n');\n",
        "ax.set_xlabel('\\nPredicted Values')\n",
        "ax.set_ylabel('Actual Values ');\n",
        "\n",
        "ax.xaxis.set_ticklabels(['0','1'])\n",
        "ax.yaxis.set_ticklabels(['0','1'])\n",
        "\n",
        "plt.show()"
      ],
      "metadata": {
        "colab": {
          "base_uri": "https://localhost:8080/",
          "height": 380
        },
        "outputId": "0f0af67b-f284-4fc0-e7b8-18b4312dfff9",
        "id": "or1fJtaxepSj"
      },
      "execution_count": 81,
      "outputs": [
        {
          "output_type": "stream",
          "name": "stdout",
          "text": [
            "[[1902  134]\n",
            " [ 219 1727]]\n"
          ]
        },
        {
          "output_type": "display_data",
          "data": {
            "text/plain": [
              "<Figure size 432x288 with 2 Axes>"
            ],
            "image/png": "[encoded data removed]"
          },
          "metadata": {}
        }
      ]
    },
    {
      "cell_type": "code",
      "source": [
        "lgbm_auc_score=roc_auc_score(target_test,lgbm_optuna.predict(features_test))\n",
        "fpr,tpr,thresholds=roc_curve(target_test,lgbm_optuna.predict_proba(features_test)[:,1])\n",
        "plt.figure(figsize=(10,7))\n",
        "plt.plot(fpr,tpr,label=\"AUC(Area=%0.2f)\"%lgbm_auc_score)\n",
        "plt.plot([0,1],\"r--\")\n",
        "plt.xlim([0.0,1.0])\n",
        "plt.ylim([0.0,1.05])\n",
        "plt.xlabel(\"False Positive\")\n",
        "plt.ylabel(\"True Positive\")\n",
        "plt.title(\"ROC LGBM\")\n",
        "plt.show()"
      ],
      "metadata": {
        "colab": {
          "base_uri": "https://localhost:8080/",
          "height": 464
        },
        "id": "sq7fei0aoDP8",
        "outputId": "5b1ae678-a6d7-402d-cb53-3907c2124f22"
      },
      "execution_count": 82,
      "outputs": [
        {
          "output_type": "display_data",
          "data": {
            "text/plain": [
              "<Figure size 720x504 with 1 Axes>"
            ],
            "image/png": "[encoded data removed]"
          },
          "metadata": {}
        }
      ]
    },
    {
      "cell_type": "markdown",
      "source": [
        "# Свод по моделям"
      ],
      "metadata": {
        "id": "J1S8tB-al3sL"
      }
    },
    {
      "cell_type": "code",
      "source": [
        "model_1 = {'accuracy': lr_accuracy.round(2),\n",
        "           'precision': lr_precision.round(2),\n",
        "           'recall': lr_recall.round(2),\n",
        "           'f1': lr_f1.round(2)}\n",
        "model_2 = {'accuracy': lgbm_accuracy.round(2),\n",
        "           'precision': lgbm_precision.round(2),\n",
        "           'recall': lgbm_recall.round(2),\n",
        "           'f1': lgbm_f1.round(2)}\n",
        "model_3 = {'accuracy': rf_accuracy.round(2),\n",
        "           'precision': rf_precision.round(2),\n",
        "           'recall': rf_recall.round(2),\n",
        "           'f1': rf_f1.round(2)}\n"
      ],
      "metadata": {
        "id": "3Fe9BIDeHAtM"
      },
      "execution_count": 83,
      "outputs": []
    },
    {
      "cell_type": "code",
      "source": [
        "Models = pd.DataFrame([model_1, model_2, model_3], \n",
        "                      index=['Logistic Regression', 'Random Forrest', 'LightGBM'])"
      ],
      "metadata": {
        "id": "1hKh5nVCmE0h"
      },
      "execution_count": 84,
      "outputs": []
    },
    {
      "cell_type": "code",
      "source": [
        "Models"
      ],
      "metadata": {
        "colab": {
          "base_uri": "https://localhost:8080/",
          "height": 142
        },
        "id": "MeYkWA8xmFmD",
        "outputId": "ed2e8ed3-7c1b-4a00-a8a6-4d43db63fc54"
      },
      "execution_count": 85,
      "outputs": [
        {
          "output_type": "execute_result",
          "data": {
            "text/plain": [
              "                     accuracy  precision  recall    f1\n",
              "Logistic Regression      0.71       0.71    0.70  0.71\n",
              "Random Forrest           0.91       0.93    0.89  0.91\n",
              "LightGBM                 0.88       0.87    0.88  0.88"
            ],
            "text/html": [
              "\n",
              "  <div id=\"df-7ae66c6a-c31b-4192-9673-b5196facdd1c\">\n",
              "    <div class=\"colab-df-container\">\n",
              "      <div>\n",
              "<style scoped>\n",
              "    .dataframe tbody tr th:only-of-type {\n",
              "        vertical-align: middle;\n",
              "    }\n",
              "\n",
              "    .dataframe tbody tr th {\n",
              "        vertical-align: top;\n",
              "    }\n",
              "\n",
              "    .dataframe thead th {\n",
              "        text-align: right;\n",
              "    }\n",
              "</style>\n",
              "<table border=\"1\" class=\"dataframe\">\n",
              "  <thead>\n",
              "    <tr style=\"text-align: right;\">\n",
              "      <th></th>\n",
              "      <th>accuracy</th>\n",
              "      <th>precision</th>\n",
              "      <th>recall</th>\n",
              "      <th>f1</th>\n",
              "    </tr>\n",
              "  </thead>\n",
              "  <tbody>\n",
              "    <tr>\n",
              "      <th>Logistic Regression</th>\n",
              "      <td>0.71</td>\n",
              "      <td>0.71</td>\n",
              "      <td>0.70</td>\n",
              "      <td>0.71</td>\n",
              "    </tr>\n",
              "    <tr>\n",
              "      <th>Random Forrest</th>\n",
              "      <td>0.91</td>\n",
              "      <td>0.93</td>\n",
              "      <td>0.89</td>\n",
              "      <td>0.91</td>\n",
              "    </tr>\n",
              "    <tr>\n",
              "      <th>LightGBM</th>\n",
              "      <td>0.88</td>\n",
              "      <td>0.87</td>\n",
              "      <td>0.88</td>\n",
              "      <td>0.88</td>\n",
              "    </tr>\n",
              "  </tbody>\n",
              "</table>\n",
              "</div>\n",
              "      <button class=\"colab-df-convert\" onclick=\"convertToInteractive('df-7ae66c6a-c31b-4192-9673-b5196facdd1c')\"\n",
              "              title=\"Convert this dataframe to an interactive table.\"\n",
              "              style=\"display:none;\">\n",
              "        \n",
              "  <svg xmlns=\"http://www.w3.org/2000/svg\" height=\"24px\"viewBox=\"0 0 24 24\"\n",
              "       width=\"24px\">\n",
              "    <path d=\"M0 0h24v24H0V0z\" fill=\"none\"/>\n",
              "    <path d=\"M18.56 5.44l.94 2.06.94-2.06 2.06-.94-2.06-.94-.94-2.06-.94 2.06-2.06.94zm-11 1L8.5 8.5l.94-2.06 2.06-.94-2.06-.94L8.5 2.5l-.94 2.06-2.06.94zm10 10l.94 2.06.94-2.06 2.06-.94-2.06-.94-.94-2.06-.94 2.06-2.06.94z\"/><path d=\"M17.41 7.96l-1.37-1.37c-.4-.4-.92-.59-1.43-.59-.52 0-1.04.2-1.43.59L10.3 9.45l-7.72 7.72c-.78.78-.78 2.05 0 2.83L4 21.41c.39.39.9.59 1.41.59.51 0 1.02-.2 1.41-.59l7.78-7.78 2.81-2.81c.8-.78.8-2.07 0-2.86zM5.41 20L4 18.59l7.72-7.72 1.47 1.35L5.41 20z\"/>\n",
              "  </svg>\n",
              "      </button>\n",
              "      \n",
              "  <style>\n",
              "    .colab-df-container {\n",
              "      display:flex;\n",
              "      flex-wrap:wrap;\n",
              "      gap: 12px;\n",
              "    }\n",
              "\n",
              "    .colab-df-convert {\n",
              "      background-color: #E8F0FE;\n",
              "      border: none;\n",
              "      border-radius: 50%;\n",
              "      cursor: pointer;\n",
              "      display: none;\n",
              "      fill: #1967D2;\n",
              "      height: 32px;\n",
              "      padding: 0 0 0 0;\n",
              "      width: 32px;\n",
              "    }\n",
              "\n",
              "    .colab-df-convert:hover {\n",
              "      background-color: #E2EBFA;\n",
              "      box-shadow: 0px 1px 2px rgba(60, 64, 67, 0.3), 0px 1px 3px 1px rgba(60, 64, 67, 0.15);\n",
              "      fill: #174EA6;\n",
              "    }\n",
              "\n",
              "    [theme=dark] .colab-df-convert {\n",
              "      background-color: #3B4455;\n",
              "      fill: #D2E3FC;\n",
              "    }\n",
              "\n",
              "    [theme=dark] .colab-df-convert:hover {\n",
              "      background-color: #434B5C;\n",
              "      box-shadow: 0px 1px 3px 1px rgba(0, 0, 0, 0.15);\n",
              "      filter: drop-shadow(0px 1px 2px rgba(0, 0, 0, 0.3));\n",
              "      fill: #FFFFFF;\n",
              "    }\n",
              "  </style>\n",
              "\n",
              "      <script>\n",
              "        const buttonEl =\n",
              "          document.querySelector('#df-7ae66c6a-c31b-4192-9673-b5196facdd1c button.colab-df-convert');\n",
              "        buttonEl.style.display =\n",
              "          google.colab.kernel.accessAllowed ? 'block' : 'none';\n",
              "\n",
              "        async function convertToInteractive(key) {\n",
              "          const element = document.querySelector('#df-7ae66c6a-c31b-4192-9673-b5196facdd1c');\n",
              "          const dataTable =\n",
              "            await google.colab.kernel.invokeFunction('convertToInteractive',\n",
              "                                                     [key], {});\n",
              "          if (!dataTable) return;\n",
              "\n",
              "          const docLinkHtml = 'Like what you see? Visit the ' +\n",
              "            '<a target=\"_blank\" href=https://colab.research.google.com/notebooks/data_table.ipynb>data table notebook</a>'\n",
              "            + ' to learn more about interactive tables.';\n",
              "          element.innerHTML = '';\n",
              "          dataTable['output_type'] = 'display_data';\n",
              "          await google.colab.output.renderOutput(dataTable, element);\n",
              "          const docLink = document.createElement('div');\n",
              "          docLink.innerHTML = docLinkHtml;\n",
              "          element.appendChild(docLink);\n",
              "        }\n",
              "      </script>\n",
              "    </div>\n",
              "  </div>\n",
              "  "
            ]
          },
          "metadata": {},
          "execution_count": 85
        }
      ]
    },
    {
      "cell_type": "markdown",
      "source": [
        "# ВЫВОД"
      ],
      "metadata": {
        "id": "PazzFhDucor5"
      }
    },
    {
      "cell_type": "markdown",
      "source": [
        "Мы обучили три модели с подбором гиперпараметров двумя способами optuna и GridSearchCV. Optuna показала себя лучше. Лучшая модель среди всех оказалась RandomForrest по всем метрикам."
      ],
      "metadata": {
        "id": "jMM4dEiyctgf"
      }
    }
  ]
}