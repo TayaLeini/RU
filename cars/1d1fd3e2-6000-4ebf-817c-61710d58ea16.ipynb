{
 "cells": [
  {
   "cell_type": "markdown",
   "metadata": {},
   "source": [
    "<div style=\"border:solid Chocolate 2px; padding: 40px\">\n",
    "\n",
    "<b>Таисия,\n",
    "привет!👋</b>\n",
    "\n",
    "Меня зовут Александр Куимов, я буду ревьюером твоего проекта. Ты можешь обращаться ко мне на \"ты\"😏 Надеюсь, тебя также не смутит, если я буду обращаться к тебе на \"ты\", но если это неудобно, обязательно скажи об этом!\n",
    "\n",
    "Пожалуйста, не удаляй мои комментарии, они будут особенно полезны для нашей работы в случае повторной проверки проекта. \n",
    "\n",
    "Ты также можешь реагировать на мои комментарии своими, выделяя их цветами и наиболее понравившимся тебе способом оформления, но явно  отличающимся от моих комментариев. Это нужно, чтобы не создавалась путаница😉\n",
    "\n",
    "Ты можешь найти мои комментарии, обозначенные <font color='green'>зеленым</font>, <font color='gold'>желтым</font> и <font color='red'>красным</font> цветами, например:\n",
    "\n",
    "<br/>\n",
    "\n",
    "<div class=\"alert alert-success\">\n",
    "<h2> Комментарий ревьюера <a class=\"tocSkip\"> </h2>\n",
    "\n",
    "<b>Все отлично!👍:</b> В случае, если решение на отдельном шаге является полностью правильным.\n",
    "</div>\n",
    "\n",
    "<br/>\n",
    "\n",
    "<div class=\"alert alert-warning\">\n",
    "    <h2> Комментарий ревьюера <a class=\"tocSkip\"> </h2>\n",
    "    \n",
    "<b>Некоторые замечания и рекомендации💡:</b> В случае, когда решение на отдельном шаге станет еще лучше, если внести небольшие коррективы.\n",
    "</div>\n",
    "\n",
    "\n",
    "<br/>\n",
    "<div class=\"alert alert-block alert-danger\">\n",
    "<h2> Комментарий ревьюера <a class=\"tocSkip\"></h2>\n",
    "\n",
    "    \n",
    "<b>На доработку🤔:</b>\n",
    " В случае, когда решение на отдельном шаге требует существенной переработки и внесения правок. Напоминаю, что проект не может быть принят с первого раза, если ревью содержит комментарии, рекомендующие доработать шаги.\n",
    "</div>\n",
    "    \n",
    "    \n",
    "<br/>    \n",
    "<div class=\"alert alert-info\">\n",
    "<h2> Комментарий студента: <a class=\"tocSkip\"> </h2>\n",
    "\n",
    "<b>👋:</b> В такой цветовой ячейке я прошу тебя оставлять свои комментарии. Если исправляешь проект на второй итерации и выше, не забывай пожалуйста указывать номер итерации, например, \"Комментарий студента v.2\".\n",
    "</div> \n",
    "\n",
    "<br/>    \n",
    "    \n",
    "Увидев у тебя неточность, в первый раз я лишь укажу на ее наличие и дам тебе возможность самому найти и исправить ее. На реальной работе твой руководитель будет поступать также, и я пытаюсь подготовить тебя именно к работе датасаентистом. Но если ты пока не справишься с такой задачей - при следующей проверке я дам более точную подсказку!🤓"
   ]
  },
  {
   "cell_type": "markdown",
   "metadata": {},
   "source": [
    "# Определение стоимости автомобилей"
   ]
  },
  {
   "cell_type": "markdown",
   "metadata": {},
   "source": [
    "Сервис по продаже автомобилей с пробегом «Не бит, не крашен» разрабатывает приложение для привлечения новых клиентов. В нём можно быстро узнать рыночную стоимость своего автомобиля. В вашем распоряжении исторические данные: технические характеристики, комплектации и цены автомобилей. Вам нужно построить модель для определения стоимости. \n",
    "\n",
    "Заказчику важны:\n",
    "\n",
    "- качество предсказания;\n",
    "- скорость предсказания;\n",
    "- время обучения."
   ]
  },
  {
   "cell_type": "markdown",
   "metadata": {},
   "source": [
    "<div class=\"alert alert-success\">\n",
    "<h2> Комментарий ревьюера <a class=\"tocSkip\"> </h2>\n",
    "\n",
    "<b>Все отлично!👍:</b> \n",
    "    \n",
    "Вижу твое добавленное описание проекта. Молодец! Это поможет тебе расставлять акценты в выводах."
   ]
  },
  {
   "cell_type": "markdown",
   "metadata": {},
   "source": [
    "## Подготовка данных"
   ]
  },
  {
   "cell_type": "markdown",
   "metadata": {},
   "source": [
    "### Загрузите данные, путь к файлу"
   ]
  },
  {
   "cell_type": "code",
   "execution_count": 1,
   "metadata": {},
   "outputs": [],
   "source": [
    "import pandas as pd\n",
    "import numpy as np\n",
    "import lightgbm\n",
    "import time\n",
    "from sklearn.datasets import make_regression\n",
    "from lightgbm import LGBMRegressor\n",
    "import lightgbm\n",
    "import matplotlib.pyplot as plt \n",
    "from sklearn.ensemble import RandomForestRegressor\n",
    "from sklearn.linear_model import LinearRegression\n",
    "from sklearn.metrics import mean_squared_error\n",
    "from sklearn.model_selection import cross_val_score\n",
    "from sklearn.model_selection import train_test_split\n",
    "from sklearn.preprocessing import OneHotEncoder\n",
    "from sklearn.preprocessing import StandardScaler"
   ]
  },
  {
   "cell_type": "code",
   "execution_count": 2,
   "metadata": {},
   "outputs": [
    {
     "name": "stdout",
     "output_type": "stream",
     "text": [
      "<class 'pandas.core.frame.DataFrame'>\n",
      "RangeIndex: 354369 entries, 0 to 354368\n",
      "Data columns (total 16 columns):\n",
      " #   Column             Non-Null Count   Dtype \n",
      "---  ------             --------------   ----- \n",
      " 0   DateCrawled        354369 non-null  object\n",
      " 1   Price              354369 non-null  int64 \n",
      " 2   VehicleType        316879 non-null  object\n",
      " 3   RegistrationYear   354369 non-null  int64 \n",
      " 4   Gearbox            334536 non-null  object\n",
      " 5   Power              354369 non-null  int64 \n",
      " 6   Model              334664 non-null  object\n",
      " 7   Kilometer          354369 non-null  int64 \n",
      " 8   RegistrationMonth  354369 non-null  int64 \n",
      " 9   FuelType           321474 non-null  object\n",
      " 10  Brand              354369 non-null  object\n",
      " 11  NotRepaired        283215 non-null  object\n",
      " 12  DateCreated        354369 non-null  object\n",
      " 13  NumberOfPictures   354369 non-null  int64 \n",
      " 14  PostalCode         354369 non-null  int64 \n",
      " 15  LastSeen           354369 non-null  object\n",
      "dtypes: int64(7), object(9)\n",
      "memory usage: 43.3+ MB\n"
     ]
    },
    {
     "data": {
      "text/html": [
       "<div>\n",
       "<style scoped>\n",
       "    .dataframe tbody tr th:only-of-type {\n",
       "        vertical-align: middle;\n",
       "    }\n",
       "\n",
       "    .dataframe tbody tr th {\n",
       "        vertical-align: top;\n",
       "    }\n",
       "\n",
       "    .dataframe thead th {\n",
       "        text-align: right;\n",
       "    }\n",
       "</style>\n",
       "<table border=\"1\" class=\"dataframe\">\n",
       "  <thead>\n",
       "    <tr style=\"text-align: right;\">\n",
       "      <th></th>\n",
       "      <th>DateCrawled</th>\n",
       "      <th>Price</th>\n",
       "      <th>VehicleType</th>\n",
       "      <th>RegistrationYear</th>\n",
       "      <th>Gearbox</th>\n",
       "      <th>Power</th>\n",
       "      <th>Model</th>\n",
       "      <th>Kilometer</th>\n",
       "      <th>RegistrationMonth</th>\n",
       "      <th>FuelType</th>\n",
       "      <th>Brand</th>\n",
       "      <th>NotRepaired</th>\n",
       "      <th>DateCreated</th>\n",
       "      <th>NumberOfPictures</th>\n",
       "      <th>PostalCode</th>\n",
       "      <th>LastSeen</th>\n",
       "    </tr>\n",
       "  </thead>\n",
       "  <tbody>\n",
       "    <tr>\n",
       "      <th>0</th>\n",
       "      <td>2016-03-24 11:52:17</td>\n",
       "      <td>480</td>\n",
       "      <td>NaN</td>\n",
       "      <td>1993</td>\n",
       "      <td>manual</td>\n",
       "      <td>0</td>\n",
       "      <td>golf</td>\n",
       "      <td>150000</td>\n",
       "      <td>0</td>\n",
       "      <td>petrol</td>\n",
       "      <td>volkswagen</td>\n",
       "      <td>NaN</td>\n",
       "      <td>2016-03-24 00:00:00</td>\n",
       "      <td>0</td>\n",
       "      <td>70435</td>\n",
       "      <td>2016-04-07 03:16:57</td>\n",
       "    </tr>\n",
       "    <tr>\n",
       "      <th>1</th>\n",
       "      <td>2016-03-24 10:58:45</td>\n",
       "      <td>18300</td>\n",
       "      <td>coupe</td>\n",
       "      <td>2011</td>\n",
       "      <td>manual</td>\n",
       "      <td>190</td>\n",
       "      <td>NaN</td>\n",
       "      <td>125000</td>\n",
       "      <td>5</td>\n",
       "      <td>gasoline</td>\n",
       "      <td>audi</td>\n",
       "      <td>yes</td>\n",
       "      <td>2016-03-24 00:00:00</td>\n",
       "      <td>0</td>\n",
       "      <td>66954</td>\n",
       "      <td>2016-04-07 01:46:50</td>\n",
       "    </tr>\n",
       "    <tr>\n",
       "      <th>2</th>\n",
       "      <td>2016-03-14 12:52:21</td>\n",
       "      <td>9800</td>\n",
       "      <td>suv</td>\n",
       "      <td>2004</td>\n",
       "      <td>auto</td>\n",
       "      <td>163</td>\n",
       "      <td>grand</td>\n",
       "      <td>125000</td>\n",
       "      <td>8</td>\n",
       "      <td>gasoline</td>\n",
       "      <td>jeep</td>\n",
       "      <td>NaN</td>\n",
       "      <td>2016-03-14 00:00:00</td>\n",
       "      <td>0</td>\n",
       "      <td>90480</td>\n",
       "      <td>2016-04-05 12:47:46</td>\n",
       "    </tr>\n",
       "    <tr>\n",
       "      <th>3</th>\n",
       "      <td>2016-03-17 16:54:04</td>\n",
       "      <td>1500</td>\n",
       "      <td>small</td>\n",
       "      <td>2001</td>\n",
       "      <td>manual</td>\n",
       "      <td>75</td>\n",
       "      <td>golf</td>\n",
       "      <td>150000</td>\n",
       "      <td>6</td>\n",
       "      <td>petrol</td>\n",
       "      <td>volkswagen</td>\n",
       "      <td>no</td>\n",
       "      <td>2016-03-17 00:00:00</td>\n",
       "      <td>0</td>\n",
       "      <td>91074</td>\n",
       "      <td>2016-03-17 17:40:17</td>\n",
       "    </tr>\n",
       "    <tr>\n",
       "      <th>4</th>\n",
       "      <td>2016-03-31 17:25:20</td>\n",
       "      <td>3600</td>\n",
       "      <td>small</td>\n",
       "      <td>2008</td>\n",
       "      <td>manual</td>\n",
       "      <td>69</td>\n",
       "      <td>fabia</td>\n",
       "      <td>90000</td>\n",
       "      <td>7</td>\n",
       "      <td>gasoline</td>\n",
       "      <td>skoda</td>\n",
       "      <td>no</td>\n",
       "      <td>2016-03-31 00:00:00</td>\n",
       "      <td>0</td>\n",
       "      <td>60437</td>\n",
       "      <td>2016-04-06 10:17:21</td>\n",
       "    </tr>\n",
       "  </tbody>\n",
       "</table>\n",
       "</div>"
      ],
      "text/plain": [
       "           DateCrawled  Price VehicleType  RegistrationYear Gearbox  Power  \\\n",
       "0  2016-03-24 11:52:17    480         NaN              1993  manual      0   \n",
       "1  2016-03-24 10:58:45  18300       coupe              2011  manual    190   \n",
       "2  2016-03-14 12:52:21   9800         suv              2004    auto    163   \n",
       "3  2016-03-17 16:54:04   1500       small              2001  manual     75   \n",
       "4  2016-03-31 17:25:20   3600       small              2008  manual     69   \n",
       "\n",
       "   Model  Kilometer  RegistrationMonth  FuelType       Brand NotRepaired  \\\n",
       "0   golf     150000                  0    petrol  volkswagen         NaN   \n",
       "1    NaN     125000                  5  gasoline        audi         yes   \n",
       "2  grand     125000                  8  gasoline        jeep         NaN   \n",
       "3   golf     150000                  6    petrol  volkswagen          no   \n",
       "4  fabia      90000                  7  gasoline       skoda          no   \n",
       "\n",
       "           DateCreated  NumberOfPictures  PostalCode             LastSeen  \n",
       "0  2016-03-24 00:00:00                 0       70435  2016-04-07 03:16:57  \n",
       "1  2016-03-24 00:00:00                 0       66954  2016-04-07 01:46:50  \n",
       "2  2016-03-14 00:00:00                 0       90480  2016-04-05 12:47:46  \n",
       "3  2016-03-17 00:00:00                 0       91074  2016-03-17 17:40:17  \n",
       "4  2016-03-31 00:00:00                 0       60437  2016-04-06 10:17:21  "
      ]
     },
     "execution_count": 2,
     "metadata": {},
     "output_type": "execute_result"
    }
   ],
   "source": [
    "df = pd.read_csv('/datasets/autos.csv')\n",
    "df.info()\n",
    "df.head()"
   ]
  },
  {
   "cell_type": "markdown",
   "metadata": {},
   "source": [
    "### Изучите данные. Заполните пропущенные значения и обработайте аномалии в столбцах. Если среди признаков имеются неинформативные, удалите их."
   ]
  },
  {
   "cell_type": "code",
   "execution_count": 3,
   "metadata": {},
   "outputs": [
    {
     "data": {
      "text/plain": [
       "4"
      ]
     },
     "execution_count": 3,
     "metadata": {},
     "output_type": "execute_result"
    }
   ],
   "source": [
    "df.duplicated().sum()"
   ]
  },
  {
   "cell_type": "code",
   "execution_count": 4,
   "metadata": {},
   "outputs": [],
   "source": [
    "df.drop_duplicates(inplace=True)"
   ]
  },
  {
   "cell_type": "code",
   "execution_count": 5,
   "metadata": {},
   "outputs": [
    {
     "data": {
      "text/plain": [
       "0"
      ]
     },
     "execution_count": 5,
     "metadata": {},
     "output_type": "execute_result"
    }
   ],
   "source": [
    "df.duplicated().sum()"
   ]
  },
  {
   "cell_type": "code",
   "execution_count": 6,
   "metadata": {},
   "outputs": [
    {
     "data": {
      "text/plain": [
       "0        40225\n",
       "75       24023\n",
       "60       15897\n",
       "150      14590\n",
       "101      13298\n",
       "         ...  \n",
       "323          1\n",
       "3454         1\n",
       "1056         1\n",
       "13636        1\n",
       "1158         1\n",
       "Name: Power, Length: 712, dtype: int64"
      ]
     },
     "execution_count": 6,
     "metadata": {},
     "output_type": "execute_result"
    }
   ],
   "source": [
    "df['Power'].value_counts()"
   ]
  },
  {
   "cell_type": "code",
   "execution_count": 7,
   "metadata": {},
   "outputs": [
    {
     "data": {
      "image/png": "[encoded data removed]",
      "text/plain": [
       "<Figure size 432x288 with 1 Axes>"
      ]
     },
     "metadata": {
      "needs_background": "light"
     },
     "output_type": "display_data"
    }
   ],
   "source": [
    "data_power = df['Power']\n",
    "plt.boxplot(data_power)\n",
    "plt.ylim(0, 1000)\n",
    "plt.show()"
   ]
  },
  {
   "cell_type": "code",
   "execution_count": 8,
   "metadata": {},
   "outputs": [],
   "source": [
    "new_df = df.loc[(df['Power'] >= 30) & (df['Power'] <= 600)]"
   ]
  },
  {
   "cell_type": "markdown",
   "metadata": {},
   "source": [
    "<div class=\"alert alert-info\">\n",
    "<h2> Комментарий студента: \n",
    "    <a class=\"tocSkip\"> </h2>\n",
    "    Сформировала ящик с усами. По нему видно выбросы их много."
   ]
  },
  {
   "cell_type": "markdown",
   "metadata": {},
   "source": [
    "<div class=\"alert alert-success\">\n",
    "<h2> Комментарий ревьюера v.2 <a class=\"tocSkip\"> </h2>\n",
    "\n",
    "<b>Все отлично!👍:</b> Молодец)"
   ]
  },
  {
   "cell_type": "code",
   "execution_count": 9,
   "metadata": {},
   "outputs": [],
   "source": [
    "# x = new_df['Power'].mean()\n",
    "# new_df.loc[(new_df.Power == 0), 'Power'] = x"
   ]
  },
  {
   "cell_type": "markdown",
   "metadata": {},
   "source": [
    "<div class=\"alert alert-block alert-danger\">\n",
    "<h2> Комментарий ревьюера <a class=\"tocSkip\"></h2>\n",
    "\n",
    "<b>На доработку🤔:</b>\n",
    "\n",
    "- Здесь еще предполагается удалить объекты с высокими значениями у мощности. Там и корабли есть)\n",
    "- А если у авто мощность 1, 2 ... Это корректно?    \n",
    "        \n",
    "Рекомендую построить ящики с усами для корректного отсечения аномалий. \n",
    "</div>"
   ]
  },
  {
   "cell_type": "code",
   "execution_count": 10,
   "metadata": {},
   "outputs": [
    {
     "data": {
      "text/plain": [
       "75     24023\n",
       "60     15897\n",
       "150    14590\n",
       "101    13298\n",
       "140    12852\n",
       "       ...  \n",
       "574        1\n",
       "361        1\n",
       "282        1\n",
       "489        1\n",
       "356        1\n",
       "Name: Power, Length: 411, dtype: int64"
      ]
     },
     "execution_count": 10,
     "metadata": {},
     "output_type": "execute_result"
    }
   ],
   "source": [
    "new_df['Power'].value_counts()"
   ]
  },
  {
   "cell_type": "code",
   "execution_count": 11,
   "metadata": {},
   "outputs": [],
   "source": [
    "# new_df = new_df.drop(['DateCrawled', 'NumberOfPictures', 'PostalCode', 'LastSeen'], axis = 1)\n",
    "# new_df.head()"
   ]
  },
  {
   "cell_type": "markdown",
   "metadata": {},
   "source": [
    "<br/>\n",
    "<div class=\"alert alert-block alert-danger\">\n",
    "<h2> Комментарий ревьюера v.2 <a class=\"tocSkip\"></h2>\n",
    "\n",
    "    \n",
    "<b>На доработку🤔:</b>\n",
    "    \n",
    "Вижу, что ты обрабатываешь признаки у двух разных датафреймов: df и new_df. Следует определиться и работать только с одним из них. Исправь, пожалуйста.\n",
    "</div>"
   ]
  },
  {
   "cell_type": "markdown",
   "metadata": {},
   "source": [
    "<div class=\"alert alert-info\">\n",
    "<h2> Комментарий студента v.2: \n",
    "    <a class=\"tocSkip\"> </h2>\n",
    "    Скорректировала."
   ]
  },
  {
   "cell_type": "markdown",
   "metadata": {},
   "source": [
    "<div class=\"alert alert-success\">\n",
    "<h2> Комментарий ревьюера v.3 <a class=\"tocSkip\"> </h2>\n",
    "\n",
    "<b>Все отлично!👍:</b>"
   ]
  },
  {
   "cell_type": "markdown",
   "metadata": {},
   "source": [
    "<div class=\"alert alert-success\">\n",
    "<h2> Комментарий ревьюера <a class=\"tocSkip\"> </h2>\n",
    "\n",
    "<b>Все отлично!👍:</b> \n",
    "        \n",
    "Молодец, что замечаешь неважные, константный признаки и удаляешь их."
   ]
  },
  {
   "cell_type": "code",
   "execution_count": 12,
   "metadata": {},
   "outputs": [
    {
     "data": {
      "text/plain": [
       "DateCrawled              0\n",
       "Price                    0\n",
       "VehicleType          22699\n",
       "RegistrationYear         0\n",
       "Gearbox               6409\n",
       "Power                    0\n",
       "Model                13084\n",
       "Kilometer                0\n",
       "RegistrationMonth        0\n",
       "FuelType             21007\n",
       "Brand                    0\n",
       "NotRepaired          49361\n",
       "DateCreated              0\n",
       "NumberOfPictures         0\n",
       "PostalCode               0\n",
       "LastSeen                 0\n",
       "dtype: int64"
      ]
     },
     "execution_count": 12,
     "metadata": {},
     "output_type": "execute_result"
    }
   ],
   "source": [
    "new_df.isna().sum()"
   ]
  },
  {
   "cell_type": "code",
   "execution_count": 13,
   "metadata": {},
   "outputs": [],
   "source": [
    "df['VehicleType'] = df['VehicleType'].fillna('other')\n",
    "df['Gearbox'] = df['Gearbox'].fillna('other')\n",
    "df['Model'] = df['Model'].fillna('other')\n",
    "df['FuelType'] = df['FuelType'].fillna('other')\n",
    "df['NotRepaired'] = df['NotRepaired'].fillna('other')"
   ]
  },
  {
   "cell_type": "markdown",
   "metadata": {},
   "source": [
    "<div class=\"alert alert-success\">\n",
    "<h2> Комментарий ревьюера <a class=\"tocSkip\"> </h2>\n",
    "\n",
    "<b>Все отлично!👍:  </b>\n",
    "        \n",
    "Допустимый способ заполнения пропусков. Молодец, что используешь заглушки."
   ]
  },
  {
   "cell_type": "code",
   "execution_count": 14,
   "metadata": {},
   "outputs": [
    {
     "data": {
      "text/plain": [
       "DateCrawled              0\n",
       "Price                    0\n",
       "VehicleType          22699\n",
       "RegistrationYear         0\n",
       "Gearbox               6409\n",
       "Power                    0\n",
       "Model                13084\n",
       "Kilometer                0\n",
       "RegistrationMonth        0\n",
       "FuelType             21007\n",
       "Brand                    0\n",
       "NotRepaired          49361\n",
       "DateCreated              0\n",
       "NumberOfPictures         0\n",
       "PostalCode               0\n",
       "LastSeen                 0\n",
       "dtype: int64"
      ]
     },
     "execution_count": 14,
     "metadata": {},
     "output_type": "execute_result"
    }
   ],
   "source": [
    "new_df.isna().sum()"
   ]
  },
  {
   "cell_type": "markdown",
   "metadata": {},
   "source": [
    "В данных удалила дубликаты и в столбце мощность автомобиля заменила нули на среднее значение. Не может автомобиль быть совсем без мощности. Так же удалила столбцы, которые не помогут в обучении модели. Заполнила пропуски значением other."
   ]
  },
  {
   "cell_type": "code",
   "execution_count": 15,
   "metadata": {},
   "outputs": [
    {
     "data": {
      "text/html": [
       "<div>\n",
       "<style scoped>\n",
       "    .dataframe tbody tr th:only-of-type {\n",
       "        vertical-align: middle;\n",
       "    }\n",
       "\n",
       "    .dataframe tbody tr th {\n",
       "        vertical-align: top;\n",
       "    }\n",
       "\n",
       "    .dataframe thead th {\n",
       "        text-align: right;\n",
       "    }\n",
       "</style>\n",
       "<table border=\"1\" class=\"dataframe\">\n",
       "  <thead>\n",
       "    <tr style=\"text-align: right;\">\n",
       "      <th></th>\n",
       "      <th>Price</th>\n",
       "      <th>RegistrationYear</th>\n",
       "      <th>Power</th>\n",
       "      <th>Kilometer</th>\n",
       "      <th>RegistrationMonth</th>\n",
       "      <th>NumberOfPictures</th>\n",
       "      <th>PostalCode</th>\n",
       "    </tr>\n",
       "  </thead>\n",
       "  <tbody>\n",
       "    <tr>\n",
       "      <th>count</th>\n",
       "      <td>312848.000000</td>\n",
       "      <td>312848.000000</td>\n",
       "      <td>312848.000000</td>\n",
       "      <td>312848.000000</td>\n",
       "      <td>312848.000000</td>\n",
       "      <td>312848.0</td>\n",
       "      <td>312848.000000</td>\n",
       "    </tr>\n",
       "    <tr>\n",
       "      <th>mean</th>\n",
       "      <td>4708.928512</td>\n",
       "      <td>2003.531296</td>\n",
       "      <td>120.423263</td>\n",
       "      <td>128698.137754</td>\n",
       "      <td>5.937212</td>\n",
       "      <td>0.0</td>\n",
       "      <td>51047.545405</td>\n",
       "    </tr>\n",
       "    <tr>\n",
       "      <th>std</th>\n",
       "      <td>4592.819650</td>\n",
       "      <td>34.755680</td>\n",
       "      <td>53.686241</td>\n",
       "      <td>36598.136174</td>\n",
       "      <td>3.614626</td>\n",
       "      <td>0.0</td>\n",
       "      <td>25782.859307</td>\n",
       "    </tr>\n",
       "    <tr>\n",
       "      <th>min</th>\n",
       "      <td>0.000000</td>\n",
       "      <td>1000.000000</td>\n",
       "      <td>30.000000</td>\n",
       "      <td>5000.000000</td>\n",
       "      <td>0.000000</td>\n",
       "      <td>0.0</td>\n",
       "      <td>1067.000000</td>\n",
       "    </tr>\n",
       "    <tr>\n",
       "      <th>25%</th>\n",
       "      <td>1250.000000</td>\n",
       "      <td>1999.000000</td>\n",
       "      <td>75.000000</td>\n",
       "      <td>125000.000000</td>\n",
       "      <td>3.000000</td>\n",
       "      <td>0.0</td>\n",
       "      <td>30855.000000</td>\n",
       "    </tr>\n",
       "    <tr>\n",
       "      <th>50%</th>\n",
       "      <td>2999.000000</td>\n",
       "      <td>2003.000000</td>\n",
       "      <td>110.000000</td>\n",
       "      <td>150000.000000</td>\n",
       "      <td>6.000000</td>\n",
       "      <td>0.0</td>\n",
       "      <td>49832.000000</td>\n",
       "    </tr>\n",
       "    <tr>\n",
       "      <th>75%</th>\n",
       "      <td>6899.000000</td>\n",
       "      <td>2008.000000</td>\n",
       "      <td>150.000000</td>\n",
       "      <td>150000.000000</td>\n",
       "      <td>9.000000</td>\n",
       "      <td>0.0</td>\n",
       "      <td>71672.000000</td>\n",
       "    </tr>\n",
       "    <tr>\n",
       "      <th>max</th>\n",
       "      <td>20000.000000</td>\n",
       "      <td>9999.000000</td>\n",
       "      <td>600.000000</td>\n",
       "      <td>150000.000000</td>\n",
       "      <td>12.000000</td>\n",
       "      <td>0.0</td>\n",
       "      <td>99998.000000</td>\n",
       "    </tr>\n",
       "  </tbody>\n",
       "</table>\n",
       "</div>"
      ],
      "text/plain": [
       "               Price  RegistrationYear          Power      Kilometer  \\\n",
       "count  312848.000000     312848.000000  312848.000000  312848.000000   \n",
       "mean     4708.928512       2003.531296     120.423263  128698.137754   \n",
       "std      4592.819650         34.755680      53.686241   36598.136174   \n",
       "min         0.000000       1000.000000      30.000000    5000.000000   \n",
       "25%      1250.000000       1999.000000      75.000000  125000.000000   \n",
       "50%      2999.000000       2003.000000     110.000000  150000.000000   \n",
       "75%      6899.000000       2008.000000     150.000000  150000.000000   \n",
       "max     20000.000000       9999.000000     600.000000  150000.000000   \n",
       "\n",
       "       RegistrationMonth  NumberOfPictures     PostalCode  \n",
       "count      312848.000000          312848.0  312848.000000  \n",
       "mean            5.937212               0.0   51047.545405  \n",
       "std             3.614626               0.0   25782.859307  \n",
       "min             0.000000               0.0    1067.000000  \n",
       "25%             3.000000               0.0   30855.000000  \n",
       "50%             6.000000               0.0   49832.000000  \n",
       "75%             9.000000               0.0   71672.000000  \n",
       "max            12.000000               0.0   99998.000000  "
      ]
     },
     "execution_count": 15,
     "metadata": {},
     "output_type": "execute_result"
    }
   ],
   "source": [
    "new_df.describe()"
   ]
  },
  {
   "cell_type": "markdown",
   "metadata": {},
   "source": [
    "В столбце Price есть аномальное значение в 0.\n",
    "\n",
    "Так же в столбце RegistrationMonth есть 0 значение, которое скорее всего говорит о том, что данные не указаны или потеряны.\n",
    "\n",
    "В столбце Kilometer слишком округлённые значения и максимальные значение 150 000 км, учитывая, что в выборке есть автомобили прошлого тысячелетия. Скорее всего при заполнении объявления на сайте есть готовые шаблоны.\n",
    "\n",
    "В столбце RegistrationYear есть аномальные значения, а именно, минимальный год выпуска 1000 год, а максимальный 9999"
   ]
  },
  {
   "cell_type": "markdown",
   "metadata": {},
   "source": [
    "<div class=\"alert alert-block alert-danger\">\n",
    "<h2> Комментарий ревьюера <a class=\"tocSkip\"></h2>\n",
    "\n",
    "<b>На доработку🤔:</b> \n",
    "    \n",
    "Аномальные значения в цене придется удалить.  \n",
    "\n",
    "Рекомендую построить ящики с усами для корректного отсечения аномалий.\n",
    "    \n",
    "\n",
    "</div>"
   ]
  },
  {
   "cell_type": "code",
   "execution_count": 16,
   "metadata": {},
   "outputs": [
    {
     "data": {
      "image/png": "[encoded data removed]",
      "text/plain": [
       "<Figure size 432x288 with 1 Axes>"
      ]
     },
     "metadata": {
      "needs_background": "light"
     },
     "output_type": "display_data"
    }
   ],
   "source": [
    "data_price = new_df['Price']\n",
    "plt.boxplot(data_price)\n",
    "plt.show()"
   ]
  },
  {
   "cell_type": "code",
   "execution_count": 17,
   "metadata": {},
   "outputs": [],
   "source": [
    "new_df = df.loc[df['Price'] != 0]"
   ]
  },
  {
   "cell_type": "markdown",
   "metadata": {},
   "source": [
    "<div class=\"alert alert-info\">\n",
    "<h2> Комментарий студента: \n",
    "    <a class=\"tocSkip\"> </h2>\n",
    "    Сформировала ящик с усами. Итак, видим, что тут у нас представлен типичный правый длинный хвост. Учитывая, какие года выпуска присутствуют в нашей выборке, то не будем считать это аномальными значениями и оставим эти данные для дальнейшего обучения модели. Но вот обратим внимание, что довольно много значений вокруг 0. Уберём их."
   ]
  },
  {
   "cell_type": "markdown",
   "metadata": {},
   "source": [
    "<div class=\"alert alert-success\">\n",
    "<h2> Комментарий ревьюера v.2 <a class=\"tocSkip\"> </h2>\n",
    "\n",
    "<b>Все отлично!👍:</b> Вижу, хорошо."
   ]
  },
  {
   "cell_type": "markdown",
   "metadata": {},
   "source": [
    "<div class=\"alert alert-warning\">\n",
    "    <h2> Комментарий ревьюера <a class=\"tocSkip\"> </h2>\n",
    "    \n",
    "<b>Некоторые замечания и рекомендации💡:</b> \n",
    "    \n",
    "Отлично, что замечаешь нули в месяце регистрации, но с этим что-то придется сделать."
   ]
  },
  {
   "cell_type": "code",
   "execution_count": 18,
   "metadata": {},
   "outputs": [],
   "source": [
    "#new_df[new_df['RegistrationYear'] < 1900].RegistrationYear.value_counts()"
   ]
  },
  {
   "cell_type": "markdown",
   "metadata": {},
   "source": [
    "Мы знаем, что серийное производство автомобилей началось приблизительно в 1900 годах. Предположим, что теоретически такие автомобили живы и могут появляться на площадках. Так что 1900 будет нашей отправной точкой. С другой стороны, это раритетные автомобили, у которых потенциально другое ценообразование, но тем не менее пусть наша модель знает и их. Так как дата выгрузки составляет на период 2016 года, то и предел отсавим 2016 год."
   ]
  },
  {
   "cell_type": "code",
   "execution_count": 19,
   "metadata": {},
   "outputs": [],
   "source": [
    "new_df = new_df.loc[(new_df['RegistrationYear'] >= 1900) & (new_df['RegistrationYear'] <= 2016)]"
   ]
  },
  {
   "cell_type": "code",
   "execution_count": 20,
   "metadata": {},
   "outputs": [
    {
     "data": {
      "text/html": [
       "<div>\n",
       "<style scoped>\n",
       "    .dataframe tbody tr th:only-of-type {\n",
       "        vertical-align: middle;\n",
       "    }\n",
       "\n",
       "    .dataframe tbody tr th {\n",
       "        vertical-align: top;\n",
       "    }\n",
       "\n",
       "    .dataframe thead th {\n",
       "        text-align: right;\n",
       "    }\n",
       "</style>\n",
       "<table border=\"1\" class=\"dataframe\">\n",
       "  <thead>\n",
       "    <tr style=\"text-align: right;\">\n",
       "      <th></th>\n",
       "      <th>Price</th>\n",
       "      <th>VehicleType</th>\n",
       "      <th>RegistrationYear</th>\n",
       "      <th>Gearbox</th>\n",
       "      <th>Power</th>\n",
       "      <th>Model</th>\n",
       "      <th>Kilometer</th>\n",
       "      <th>RegistrationMonth</th>\n",
       "      <th>FuelType</th>\n",
       "      <th>Brand</th>\n",
       "      <th>NotRepaired</th>\n",
       "    </tr>\n",
       "  </thead>\n",
       "  <tbody>\n",
       "    <tr>\n",
       "      <th>0</th>\n",
       "      <td>480</td>\n",
       "      <td>other</td>\n",
       "      <td>1993</td>\n",
       "      <td>manual</td>\n",
       "      <td>0</td>\n",
       "      <td>golf</td>\n",
       "      <td>150000</td>\n",
       "      <td>0</td>\n",
       "      <td>petrol</td>\n",
       "      <td>volkswagen</td>\n",
       "      <td>other</td>\n",
       "    </tr>\n",
       "    <tr>\n",
       "      <th>1</th>\n",
       "      <td>18300</td>\n",
       "      <td>coupe</td>\n",
       "      <td>2011</td>\n",
       "      <td>manual</td>\n",
       "      <td>190</td>\n",
       "      <td>other</td>\n",
       "      <td>125000</td>\n",
       "      <td>5</td>\n",
       "      <td>gasoline</td>\n",
       "      <td>audi</td>\n",
       "      <td>yes</td>\n",
       "    </tr>\n",
       "    <tr>\n",
       "      <th>2</th>\n",
       "      <td>9800</td>\n",
       "      <td>suv</td>\n",
       "      <td>2004</td>\n",
       "      <td>auto</td>\n",
       "      <td>163</td>\n",
       "      <td>grand</td>\n",
       "      <td>125000</td>\n",
       "      <td>8</td>\n",
       "      <td>gasoline</td>\n",
       "      <td>jeep</td>\n",
       "      <td>other</td>\n",
       "    </tr>\n",
       "    <tr>\n",
       "      <th>3</th>\n",
       "      <td>1500</td>\n",
       "      <td>small</td>\n",
       "      <td>2001</td>\n",
       "      <td>manual</td>\n",
       "      <td>75</td>\n",
       "      <td>golf</td>\n",
       "      <td>150000</td>\n",
       "      <td>6</td>\n",
       "      <td>petrol</td>\n",
       "      <td>volkswagen</td>\n",
       "      <td>no</td>\n",
       "    </tr>\n",
       "    <tr>\n",
       "      <th>4</th>\n",
       "      <td>3600</td>\n",
       "      <td>small</td>\n",
       "      <td>2008</td>\n",
       "      <td>manual</td>\n",
       "      <td>69</td>\n",
       "      <td>fabia</td>\n",
       "      <td>90000</td>\n",
       "      <td>7</td>\n",
       "      <td>gasoline</td>\n",
       "      <td>skoda</td>\n",
       "      <td>no</td>\n",
       "    </tr>\n",
       "  </tbody>\n",
       "</table>\n",
       "</div>"
      ],
      "text/plain": [
       "   Price VehicleType  RegistrationYear Gearbox  Power  Model  Kilometer  \\\n",
       "0    480       other              1993  manual      0   golf     150000   \n",
       "1  18300       coupe              2011  manual    190  other     125000   \n",
       "2   9800         suv              2004    auto    163  grand     125000   \n",
       "3   1500       small              2001  manual     75   golf     150000   \n",
       "4   3600       small              2008  manual     69  fabia      90000   \n",
       "\n",
       "   RegistrationMonth  FuelType       Brand NotRepaired  \n",
       "0                  0    petrol  volkswagen       other  \n",
       "1                  5  gasoline        audi         yes  \n",
       "2                  8  gasoline        jeep       other  \n",
       "3                  6    petrol  volkswagen          no  \n",
       "4                  7  gasoline       skoda          no  "
      ]
     },
     "execution_count": 20,
     "metadata": {},
     "output_type": "execute_result"
    }
   ],
   "source": [
    "new_df = new_df.drop(['DateCrawled', 'NumberOfPictures', 'PostalCode', 'LastSeen', 'DateCreated'], axis = 1)\n",
    "new_df.head()"
   ]
  },
  {
   "cell_type": "markdown",
   "metadata": {},
   "source": [
    "<div class=\"alert alert-success\">\n",
    "<h2> Комментарий ревьюера <a class=\"tocSkip\"> </h2>\n",
    "\n",
    "<b>Все отлично!👍:</b> \n",
    "        \n",
    "Согласен)"
   ]
  },
  {
   "cell_type": "markdown",
   "metadata": {},
   "source": [
    "### Подготовьте выборки для обучения моделей."
   ]
  },
  {
   "cell_type": "markdown",
   "metadata": {},
   "source": [
    "Трансформируем категориальные значения в числовые."
   ]
  },
  {
   "cell_type": "code",
   "execution_count": 21,
   "metadata": {},
   "outputs": [
    {
     "name": "stdout",
     "output_type": "stream",
     "text": [
      "<class 'pandas.core.frame.DataFrame'>\n",
      "Int64Index: 329761 entries, 0 to 354368\n",
      "Columns: 310 entries, Price to NotRepaired_yes\n",
      "dtypes: int64(5), uint8(305)\n",
      "memory usage: 111.0 MB\n"
     ]
    }
   ],
   "source": [
    "df_ohe = pd.get_dummies(new_df, drop_first=True)\n",
    "df_ohe.info()"
   ]
  },
  {
   "cell_type": "markdown",
   "metadata": {},
   "source": [
    "<div class=\"alert alert-info\">\n",
    "<h2> Комментарий студента v.3: \n",
    "    <a class=\"tocSkip\"> </h2>\n",
    "    Не понимаю почему здесь есть все те столбцы что я уже удалила?"
   ]
  },
  {
   "cell_type": "markdown",
   "metadata": {},
   "source": [
    "<br/>\n",
    "<div class=\"alert alert-block alert-danger\">\n",
    "<h2> Комментарий ревьюера v.3 <a class=\"tocSkip\"></h2>\n",
    "\n",
    "    \n",
    "<b>На доработку🤔:</b>\n",
    "    \n",
    "Ты не удалила выше одну из дат, поэтому она закодировалась.  Исправь, пожалуйста.\n",
    "</div>"
   ]
  },
  {
   "cell_type": "markdown",
   "metadata": {},
   "source": [
    "<div class=\"alert alert-success\">\n",
    "<h2> Комментарий ревьюера v.5 <a class=\"tocSkip\"> </h2>\n",
    "\n",
    "<b>Все отлично!👍:</b>"
   ]
  },
  {
   "cell_type": "markdown",
   "metadata": {},
   "source": [
    "<div class=\"alert alert-success\">\n",
    "<h2> Комментарий ревьюера <a class=\"tocSkip\"> </h2>\n",
    "\n",
    "<b>Все отлично!👍:</b> \n",
    "    \n",
    "Кодирование категориальных признаков проведено."
   ]
  },
  {
   "cell_type": "code",
   "execution_count": 22,
   "metadata": {},
   "outputs": [],
   "source": [
    "for c in new_df.columns:\n",
    "    col_type = new_df[c].dtype\n",
    "    if col_type == 'object' or col_type.name == 'category':\n",
    "        new_df[c] = new_df[c].astype('category')"
   ]
  },
  {
   "cell_type": "code",
   "execution_count": 23,
   "metadata": {},
   "outputs": [],
   "source": [
    "features_new_df = new_df.drop(['Price'], axis=1) \n",
    "target_new_df = new_df['Price']"
   ]
  },
  {
   "cell_type": "code",
   "execution_count": 24,
   "metadata": {},
   "outputs": [],
   "source": [
    "features_train_new_df, x_valid_new_df, target_train_new_df, y_valid_new_df = train_test_split(\n",
    "   features_new_df, target_new_df, test_size = 0.4, random_state=42)"
   ]
  },
  {
   "cell_type": "code",
   "execution_count": 25,
   "metadata": {},
   "outputs": [],
   "source": [
    "features_valid_new_df, features_test_new_df, target_valid_new_df, target_test_new_df = train_test_split(x_valid_new_df,y_valid_new_df,\n",
    "                                                                            test_size=0.5, random_state=42)"
   ]
  },
  {
   "cell_type": "code",
   "execution_count": 26,
   "metadata": {},
   "outputs": [
    {
     "name": "stdout",
     "output_type": "stream",
     "text": [
      "<class 'pandas.core.frame.DataFrame'>\n",
      "Int64Index: 329761 entries, 0 to 354368\n",
      "Data columns (total 10 columns):\n",
      " #   Column             Non-Null Count   Dtype   \n",
      "---  ------             --------------   -----   \n",
      " 0   VehicleType        329761 non-null  category\n",
      " 1   RegistrationYear   329761 non-null  int64   \n",
      " 2   Gearbox            329761 non-null  category\n",
      " 3   Power              329761 non-null  int64   \n",
      " 4   Model              329761 non-null  category\n",
      " 5   Kilometer          329761 non-null  int64   \n",
      " 6   RegistrationMonth  329761 non-null  int64   \n",
      " 7   FuelType           329761 non-null  category\n",
      " 8   Brand              329761 non-null  category\n",
      " 9   NotRepaired        329761 non-null  category\n",
      "dtypes: category(6), int64(4)\n",
      "memory usage: 14.8 MB\n"
     ]
    }
   ],
   "source": [
    "features_new_df.info()"
   ]
  },
  {
   "cell_type": "markdown",
   "metadata": {},
   "source": [
    "Подготовила данные для работы с LightGBM"
   ]
  },
  {
   "cell_type": "code",
   "execution_count": 27,
   "metadata": {},
   "outputs": [],
   "source": [
    "features = df_ohe.drop(['Price'], axis=1) \n",
    "target = df_ohe['Price']"
   ]
  },
  {
   "cell_type": "markdown",
   "metadata": {},
   "source": [
    "Делим данные на три выборки для других моделей."
   ]
  },
  {
   "cell_type": "code",
   "execution_count": 28,
   "metadata": {},
   "outputs": [],
   "source": [
    "features_train, x_valid, target_train, y_valid = train_test_split(\n",
    "   features, target, test_size = 0.4, random_state=42)"
   ]
  },
  {
   "cell_type": "code",
   "execution_count": 29,
   "metadata": {},
   "outputs": [],
   "source": [
    "features_valid, features_test, target_valid, target_test = train_test_split(x_valid,y_valid,\n",
    "                                                                            test_size=0.5, random_state=42)"
   ]
  },
  {
   "cell_type": "code",
   "execution_count": 30,
   "metadata": {},
   "outputs": [
    {
     "name": "stdout",
     "output_type": "stream",
     "text": [
      "Размер обучающей выборки составляет: 55.8%\n",
      "Размер валидной выборки составляет: 18.6%\n",
      "Размер тестовой выборки составляет: 18.6%\n"
     ]
    }
   ],
   "source": [
    "print(f'Размер обучающей выборки составляет: {features_train.shape[0] / len(df):.1%}')\n",
    "print(f'Размер валидной выборки составляет: {features_valid.shape[0] / len(df):.1%}')\n",
    "print(f'Размер тестовой выборки составляет: {features_test.shape[0] / len(df):.1%}')"
   ]
  },
  {
   "cell_type": "code",
   "execution_count": 31,
   "metadata": {},
   "outputs": [
    {
     "name": "stdout",
     "output_type": "stream",
     "text": [
      "(197856, 309)\n",
      "(197856,)\n",
      "(65952, 309)\n",
      "(65952,)\n"
     ]
    }
   ],
   "source": [
    "print(features_train.shape)\n",
    "print(target_train.shape)\n",
    "print(features_valid.shape)\n",
    "print(target_valid.shape)"
   ]
  },
  {
   "cell_type": "markdown",
   "metadata": {},
   "source": [
    "<div class=\"alert alert-success\">\n",
    "<h2> Комментарий ревьюера <a class=\"tocSkip\"> </h2>\n",
    "\n",
    "<b>Все отлично!👍:</b> \n",
    "\n",
    "Хорошо, разбиение на выборки корректное."
   ]
  },
  {
   "cell_type": "code",
   "execution_count": 32,
   "metadata": {},
   "outputs": [],
   "source": [
    "pd.options.mode.chained_assignment = None\n",
    "\n",
    "numeric = ['RegistrationYear', 'Power', 'Kilometer', 'RegistrationMonth']\n",
    "\n",
    "scaler = StandardScaler()\n",
    "scaler.fit(features_train[numeric]) \n",
    "\n",
    "features_train[numeric] = scaler.transform(features_train[numeric])\n",
    "features_valid[numeric] = scaler.transform(features_valid[numeric]) \n",
    "features_test[numeric] = scaler.transform(features_test[numeric])"
   ]
  },
  {
   "cell_type": "markdown",
   "metadata": {},
   "source": [
    "Масштабировала данные."
   ]
  },
  {
   "cell_type": "markdown",
   "metadata": {},
   "source": [
    "<div class=\"alert alert-success\">\n",
    "<h2> Комментарий ревьюера <a class=\"tocSkip\"> </h2>\n",
    "\n",
    "<b>Все отлично!👍:</b> \n",
    "\n",
    "Признаки масштабированы верным способом, это хорошо)"
   ]
  },
  {
   "cell_type": "markdown",
   "metadata": {},
   "source": [
    "## Обучите модели"
   ]
  },
  {
   "cell_type": "code",
   "execution_count": 33,
   "metadata": {},
   "outputs": [],
   "source": [
    "# train_data = lightgbm.Dataset(features_train.to_numpy(), label=target_train)\n",
    "# valid_data = lightgbm.Dataset(features_valid.to_numpy(), label=target_valid)"
   ]
  },
  {
   "cell_type": "code",
   "execution_count": 34,
   "metadata": {},
   "outputs": [],
   "source": [
    "# parameters = {'metric' : 'rmse',\n",
    "#               'verbose': -1,\n",
    "#              'objective': 'regression',\n",
    "#              'boosting': 'gbdt'}"
   ]
  },
  {
   "cell_type": "code",
   "execution_count": 35,
   "metadata": {},
   "outputs": [],
   "source": [
    "#cat_features = df_ohe.select_dtypes(['object']).columns.to_list()"
   ]
  },
  {
   "cell_type": "code",
   "execution_count": 36,
   "metadata": {},
   "outputs": [],
   "source": [
    "categorical_feature = ['VehicleType','Gearbox', 'Model', 'FuelType', 'NotRepaired', 'Brand']  "
   ]
  },
  {
   "cell_type": "code",
   "execution_count": 37,
   "metadata": {},
   "outputs": [
    {
     "name": "stderr",
     "output_type": "stream",
     "text": [
      "/opt/conda/lib/python3.9/site-packages/lightgbm/sklearn.py:736: UserWarning: 'verbose' argument is deprecated and will be removed in a future release of LightGBM. Pass 'log_evaluation()' callback via 'callbacks' argument instead.\n",
      "  _log_warning(\"'verbose' argument is deprecated and will be removed in a future release of LightGBM. \"\n",
      "/opt/conda/lib/python3.9/site-packages/lightgbm/engine.py:177: UserWarning: Found `num_boost_round` in params. Will use it instead of argument\n",
      "  _log_warning(f\"Found `{alias}` in params. Will use it instead of argument\")\n",
      "/opt/conda/lib/python3.9/site-packages/lightgbm/basic.py:2065: UserWarning: Using categorical_feature in Dataset.\n",
      "  _log_warning('Using categorical_feature in Dataset.')\n"
     ]
    },
    {
     "name": "stdout",
     "output_type": "stream",
     "text": [
      "[LightGBM] [Warning] num_iterations is set=1000, num_boost_round=1000 will be ignored. Current value: num_iterations=1000\n",
      "[LightGBM] [Debug] Dataset::GetMultiBinFromSparseFeatures: sparse rate 0.740367\n",
      "[LightGBM] [Info] Total Bins 885\n",
      "[LightGBM] [Info] Number of data points in the train set: 197856, number of used features: 10\n",
      "[LightGBM] [Info] Start training from score 4597.914170\n",
      "[LightGBM] [Debug] Trained a tree with leaves = 128 and depth = 8\n",
      "[LightGBM] [Debug] Trained a tree with leaves = 128 and depth = 8\n",
      "[LightGBM] [Debug] Trained a tree with leaves = 128 and depth = 8\n",
      "[LightGBM] [Debug] Trained a tree with leaves = 128 and depth = 8\n",
      "[LightGBM] [Debug] Trained a tree with leaves = 128 and depth = 8\n",
      "[LightGBM] [Debug] Trained a tree with leaves = 128 and depth = 8\n",
      "[LightGBM] [Debug] Trained a tree with leaves = 128 and depth = 8\n",
      "[LightGBM] [Debug] Trained a tree with leaves = 128 and depth = 8\n",
      "[LightGBM] [Debug] Trained a tree with leaves = 128 and depth = 8\n",
      "[LightGBM] [Debug] Trained a tree with leaves = 128 and depth = 8\n",
      "[LightGBM] [Debug] Trained a tree with leaves = 128 and depth = 8\n",
      "[LightGBM] [Debug] Trained a tree with leaves = 128 and depth = 8\n",
      "[LightGBM] [Debug] Trained a tree with leaves = 128 and depth = 8\n",
      "[LightGBM] [Debug] Trained a tree with leaves = 128 and depth = 8\n",
      "[LightGBM] [Debug] Trained a tree with leaves = 128 and depth = 8\n",
      "[LightGBM] [Debug] Trained a tree with leaves = 128 and depth = 8\n",
      "[LightGBM] [Debug] Trained a tree with leaves = 128 and depth = 8\n",
      "[LightGBM] [Debug] Trained a tree with leaves = 128 and depth = 8\n",
      "[LightGBM] [Debug] Trained a tree with leaves = 128 and depth = 8\n",
      "[LightGBM] [Debug] Trained a tree with leaves = 128 and depth = 8\n",
      "[LightGBM] [Debug] Trained a tree with leaves = 128 and depth = 8\n",
      "[LightGBM] [Debug] Trained a tree with leaves = 128 and depth = 8\n",
      "[LightGBM] [Debug] Trained a tree with leaves = 128 and depth = 8\n",
      "[LightGBM] [Debug] Trained a tree with leaves = 128 and depth = 8\n",
      "[LightGBM] [Debug] Trained a tree with leaves = 128 and depth = 8\n",
      "[LightGBM] [Debug] Trained a tree with leaves = 128 and depth = 8\n",
      "[LightGBM] [Debug] Trained a tree with leaves = 128 and depth = 8\n",
      "[LightGBM] [Debug] Trained a tree with leaves = 128 and depth = 8\n",
      "[LightGBM] [Debug] Trained a tree with leaves = 128 and depth = 8\n",
      "[LightGBM] [Debug] Trained a tree with leaves = 128 and depth = 8\n",
      "[LightGBM] [Debug] Trained a tree with leaves = 128 and depth = 8\n",
      "[LightGBM] [Debug] Trained a tree with leaves = 128 and depth = 8\n",
      "[LightGBM] [Debug] Trained a tree with leaves = 128 and depth = 8\n",
      "[LightGBM] [Debug] Trained a tree with leaves = 128 and depth = 8\n",
      "[LightGBM] [Debug] Trained a tree with leaves = 128 and depth = 8\n",
      "[LightGBM] [Debug] Trained a tree with leaves = 128 and depth = 8\n",
      "[LightGBM] [Debug] Trained a tree with leaves = 128 and depth = 8\n",
      "[LightGBM] [Debug] Trained a tree with leaves = 128 and depth = 8\n",
      "[LightGBM] [Debug] Trained a tree with leaves = 128 and depth = 8\n",
      "[LightGBM] [Debug] Trained a tree with leaves = 128 and depth = 8\n",
      "[LightGBM] [Debug] Trained a tree with leaves = 128 and depth = 8\n",
      "[LightGBM] [Debug] Trained a tree with leaves = 128 and depth = 8\n",
      "[LightGBM] [Debug] Trained a tree with leaves = 128 and depth = 8\n",
      "[LightGBM] [Debug] Trained a tree with leaves = 128 and depth = 8\n",
      "[LightGBM] [Debug] Trained a tree with leaves = 128 and depth = 8\n",
      "[LightGBM] [Debug] Trained a tree with leaves = 128 and depth = 8\n",
      "[LightGBM] [Debug] Trained a tree with leaves = 128 and depth = 8\n",
      "[LightGBM] [Debug] Trained a tree with leaves = 128 and depth = 8\n",
      "[LightGBM] [Debug] Trained a tree with leaves = 128 and depth = 8\n",
      "[LightGBM] [Debug] Trained a tree with leaves = 128 and depth = 8\n",
      "[LightGBM] [Debug] Trained a tree with leaves = 128 and depth = 8\n",
      "[LightGBM] [Debug] Trained a tree with leaves = 128 and depth = 8\n",
      "[LightGBM] [Debug] Trained a tree with leaves = 128 and depth = 8\n",
      "[LightGBM] [Debug] Trained a tree with leaves = 128 and depth = 8\n",
      "[LightGBM] [Debug] Trained a tree with leaves = 128 and depth = 8\n",
      "[LightGBM] [Debug] Trained a tree with leaves = 128 and depth = 8\n",
      "[LightGBM] [Debug] Trained a tree with leaves = 128 and depth = 8\n",
      "[LightGBM] [Debug] Trained a tree with leaves = 128 and depth = 8\n",
      "[LightGBM] [Debug] Trained a tree with leaves = 128 and depth = 8\n",
      "[LightGBM] [Debug] Trained a tree with leaves = 128 and depth = 8\n",
      "[LightGBM] [Debug] Trained a tree with leaves = 128 and depth = 8\n",
      "[LightGBM] [Debug] Trained a tree with leaves = 128 and depth = 8\n",
      "[LightGBM] [Debug] Trained a tree with leaves = 128 and depth = 8\n",
      "[LightGBM] [Debug] Trained a tree with leaves = 128 and depth = 8\n",
      "[LightGBM] [Debug] Trained a tree with leaves = 128 and depth = 8\n",
      "[LightGBM] [Debug] Trained a tree with leaves = 128 and depth = 8\n",
      "[LightGBM] [Debug] Trained a tree with leaves = 128 and depth = 8\n",
      "[LightGBM] [Debug] Trained a tree with leaves = 128 and depth = 8\n",
      "[LightGBM] [Debug] Trained a tree with leaves = 128 and depth = 8\n",
      "[LightGBM] [Debug] Trained a tree with leaves = 128 and depth = 8\n",
      "[LightGBM] [Debug] Trained a tree with leaves = 128 and depth = 8\n",
      "[LightGBM] [Debug] Trained a tree with leaves = 128 and depth = 8\n",
      "[LightGBM] [Debug] Trained a tree with leaves = 128 and depth = 8\n",
      "[LightGBM] [Debug] Trained a tree with leaves = 128 and depth = 8\n",
      "[LightGBM] [Debug] Trained a tree with leaves = 128 and depth = 8\n",
      "[LightGBM] [Debug] Trained a tree with leaves = 128 and depth = 8\n",
      "[LightGBM] [Debug] Trained a tree with leaves = 128 and depth = 8\n",
      "[LightGBM] [Debug] Trained a tree with leaves = 128 and depth = 8\n",
      "[LightGBM] [Debug] Trained a tree with leaves = 128 and depth = 8\n",
      "[LightGBM] [Debug] Trained a tree with leaves = 128 and depth = 8\n",
      "[LightGBM] [Debug] Trained a tree with leaves = 128 and depth = 8\n",
      "[LightGBM] [Debug] Trained a tree with leaves = 128 and depth = 8\n",
      "[LightGBM] [Debug] Trained a tree with leaves = 128 and depth = 8\n",
      "[LightGBM] [Debug] Trained a tree with leaves = 128 and depth = 8\n",
      "[LightGBM] [Debug] Trained a tree with leaves = 128 and depth = 8\n",
      "[LightGBM] [Debug] Trained a tree with leaves = 128 and depth = 8\n",
      "[LightGBM] [Debug] Trained a tree with leaves = 128 and depth = 8\n",
      "[LightGBM] [Debug] Trained a tree with leaves = 128 and depth = 8\n",
      "[LightGBM] [Debug] Trained a tree with leaves = 128 and depth = 8\n",
      "[LightGBM] [Debug] Trained a tree with leaves = 128 and depth = 8\n",
      "[LightGBM] [Debug] Trained a tree with leaves = 128 and depth = 8\n",
      "[LightGBM] [Debug] Trained a tree with leaves = 128 and depth = 8\n",
      "[LightGBM] [Debug] Trained a tree with leaves = 128 and depth = 8\n",
      "[LightGBM] [Debug] Trained a tree with leaves = 128 and depth = 8\n",
      "[LightGBM] [Debug] Trained a tree with leaves = 128 and depth = 8\n",
      "[LightGBM] [Debug] Trained a tree with leaves = 128 and depth = 8\n",
      "[LightGBM] [Debug] Trained a tree with leaves = 128 and depth = 8\n",
      "[LightGBM] [Debug] Trained a tree with leaves = 128 and depth = 8\n",
      "[LightGBM] [Debug] Trained a tree with leaves = 128 and depth = 8\n",
      "[LightGBM] [Debug] Trained a tree with leaves = 128 and depth = 8\n",
      "[LightGBM] [Debug] Trained a tree with leaves = 128 and depth = 8\n",
      "[LightGBM] [Debug] Trained a tree with leaves = 128 and depth = 8\n",
      "[LightGBM] [Debug] Trained a tree with leaves = 128 and depth = 8\n",
      "[LightGBM] [Debug] Trained a tree with leaves = 128 and depth = 8\n",
      "[LightGBM] [Debug] Trained a tree with leaves = 128 and depth = 8\n",
      "[LightGBM] [Debug] Trained a tree with leaves = 128 and depth = 8\n",
      "[LightGBM] [Debug] Trained a tree with leaves = 128 and depth = 8\n",
      "[LightGBM] [Debug] Trained a tree with leaves = 128 and depth = 8\n",
      "[LightGBM] [Debug] Trained a tree with leaves = 128 and depth = 8\n",
      "[LightGBM] [Debug] Trained a tree with leaves = 128 and depth = 8\n",
      "[LightGBM] [Debug] Trained a tree with leaves = 128 and depth = 8\n",
      "[LightGBM] [Debug] Trained a tree with leaves = 128 and depth = 8\n",
      "[LightGBM] [Debug] Trained a tree with leaves = 128 and depth = 8\n",
      "[LightGBM] [Debug] Trained a tree with leaves = 128 and depth = 8\n",
      "[LightGBM] [Debug] Trained a tree with leaves = 128 and depth = 8\n",
      "[LightGBM] [Debug] Trained a tree with leaves = 128 and depth = 8\n",
      "[LightGBM] [Debug] Trained a tree with leaves = 128 and depth = 8\n",
      "[LightGBM] [Debug] Trained a tree with leaves = 128 and depth = 8\n",
      "[LightGBM] [Debug] Trained a tree with leaves = 128 and depth = 8\n",
      "[LightGBM] [Debug] Trained a tree with leaves = 128 and depth = 8\n",
      "[LightGBM] [Debug] Trained a tree with leaves = 128 and depth = 8\n",
      "[LightGBM] [Debug] Trained a tree with leaves = 128 and depth = 8\n",
      "[LightGBM] [Debug] Trained a tree with leaves = 128 and depth = 8\n",
      "[LightGBM] [Debug] Trained a tree with leaves = 128 and depth = 8\n",
      "[LightGBM] [Debug] Trained a tree with leaves = 128 and depth = 8\n",
      "[LightGBM] [Debug] Trained a tree with leaves = 128 and depth = 8\n",
      "[LightGBM] [Debug] Trained a tree with leaves = 128 and depth = 8\n",
      "[LightGBM] [Debug] Trained a tree with leaves = 128 and depth = 8\n",
      "[LightGBM] [Debug] Trained a tree with leaves = 128 and depth = 8\n",
      "[LightGBM] [Debug] Trained a tree with leaves = 128 and depth = 8\n",
      "[LightGBM] [Debug] Trained a tree with leaves = 128 and depth = 8\n",
      "[LightGBM] [Debug] Trained a tree with leaves = 128 and depth = 8\n",
      "[LightGBM] [Debug] Trained a tree with leaves = 128 and depth = 8\n",
      "[LightGBM] [Debug] Trained a tree with leaves = 128 and depth = 8\n",
      "[LightGBM] [Debug] Trained a tree with leaves = 128 and depth = 8\n",
      "[LightGBM] [Debug] Trained a tree with leaves = 128 and depth = 8\n",
      "[LightGBM] [Debug] Trained a tree with leaves = 128 and depth = 8\n",
      "[LightGBM] [Debug] Trained a tree with leaves = 128 and depth = 8\n",
      "[LightGBM] [Debug] Trained a tree with leaves = 128 and depth = 8\n",
      "[LightGBM] [Debug] Trained a tree with leaves = 128 and depth = 8\n",
      "[LightGBM] [Debug] Trained a tree with leaves = 128 and depth = 8\n",
      "[LightGBM] [Debug] Trained a tree with leaves = 128 and depth = 8\n",
      "[LightGBM] [Debug] Trained a tree with leaves = 128 and depth = 8\n",
      "[LightGBM] [Debug] Trained a tree with leaves = 128 and depth = 8\n",
      "[LightGBM] [Debug] Trained a tree with leaves = 128 and depth = 8\n",
      "[LightGBM] [Debug] Trained a tree with leaves = 128 and depth = 8\n",
      "[LightGBM] [Debug] Trained a tree with leaves = 128 and depth = 8\n",
      "[LightGBM] [Debug] Trained a tree with leaves = 128 and depth = 8\n",
      "[LightGBM] [Debug] Trained a tree with leaves = 128 and depth = 8\n",
      "[LightGBM] [Debug] Trained a tree with leaves = 128 and depth = 8\n",
      "[LightGBM] [Debug] Trained a tree with leaves = 128 and depth = 8\n",
      "[LightGBM] [Debug] Trained a tree with leaves = 128 and depth = 8\n",
      "[LightGBM] [Debug] Trained a tree with leaves = 128 and depth = 8\n",
      "[LightGBM] [Debug] Trained a tree with leaves = 128 and depth = 8\n",
      "[LightGBM] [Debug] Trained a tree with leaves = 128 and depth = 8\n",
      "[LightGBM] [Debug] Trained a tree with leaves = 128 and depth = 8\n",
      "[LightGBM] [Debug] Trained a tree with leaves = 128 and depth = 8\n",
      "[LightGBM] [Debug] Trained a tree with leaves = 128 and depth = 8\n",
      "[LightGBM] [Debug] Trained a tree with leaves = 128 and depth = 8\n",
      "[LightGBM] [Debug] Trained a tree with leaves = 128 and depth = 8\n",
      "[LightGBM] [Debug] Trained a tree with leaves = 128 and depth = 8\n",
      "[LightGBM] [Debug] Trained a tree with leaves = 128 and depth = 8\n",
      "[LightGBM] [Debug] Trained a tree with leaves = 128 and depth = 8\n",
      "[LightGBM] [Debug] Trained a tree with leaves = 128 and depth = 8\n",
      "[LightGBM] [Debug] Trained a tree with leaves = 128 and depth = 8\n",
      "[LightGBM] [Debug] Trained a tree with leaves = 128 and depth = 8\n",
      "[LightGBM] [Debug] Trained a tree with leaves = 128 and depth = 8\n",
      "[LightGBM] [Debug] Trained a tree with leaves = 128 and depth = 8\n",
      "[LightGBM] [Debug] Trained a tree with leaves = 128 and depth = 8\n",
      "[LightGBM] [Debug] Trained a tree with leaves = 128 and depth = 8\n",
      "[LightGBM] [Debug] Trained a tree with leaves = 128 and depth = 8\n",
      "[LightGBM] [Debug] Trained a tree with leaves = 128 and depth = 8\n",
      "[LightGBM] [Debug] Trained a tree with leaves = 128 and depth = 8\n",
      "[LightGBM] [Debug] Trained a tree with leaves = 128 and depth = 8\n",
      "[LightGBM] [Debug] Trained a tree with leaves = 128 and depth = 8\n",
      "[LightGBM] [Debug] Trained a tree with leaves = 128 and depth = 8\n",
      "[LightGBM] [Debug] Trained a tree with leaves = 128 and depth = 8\n",
      "[LightGBM] [Debug] Trained a tree with leaves = 128 and depth = 8\n",
      "[LightGBM] [Debug] Trained a tree with leaves = 128 and depth = 8\n",
      "[LightGBM] [Debug] Trained a tree with leaves = 128 and depth = 8\n",
      "[LightGBM] [Debug] Trained a tree with leaves = 128 and depth = 8\n",
      "[LightGBM] [Debug] Trained a tree with leaves = 128 and depth = 8\n",
      "[LightGBM] [Debug] Trained a tree with leaves = 128 and depth = 8\n",
      "[LightGBM] [Debug] Trained a tree with leaves = 128 and depth = 8\n",
      "[LightGBM] [Debug] Trained a tree with leaves = 128 and depth = 8\n",
      "[LightGBM] [Debug] Trained a tree with leaves = 128 and depth = 8\n",
      "[LightGBM] [Debug] Trained a tree with leaves = 128 and depth = 8\n",
      "[LightGBM] [Debug] Trained a tree with leaves = 128 and depth = 8\n",
      "[LightGBM] [Debug] Trained a tree with leaves = 128 and depth = 8\n",
      "[LightGBM] [Debug] Trained a tree with leaves = 128 and depth = 8\n",
      "[LightGBM] [Debug] Trained a tree with leaves = 128 and depth = 8\n",
      "[LightGBM] [Debug] Trained a tree with leaves = 128 and depth = 8\n",
      "[LightGBM] [Debug] Trained a tree with leaves = 128 and depth = 8\n",
      "[LightGBM] [Debug] Trained a tree with leaves = 128 and depth = 8\n",
      "[LightGBM] [Debug] Trained a tree with leaves = 128 and depth = 8\n",
      "[LightGBM] [Debug] Trained a tree with leaves = 128 and depth = 8\n",
      "[LightGBM] [Debug] Trained a tree with leaves = 128 and depth = 8\n",
      "[LightGBM] [Debug] Trained a tree with leaves = 128 and depth = 8\n",
      "[LightGBM] [Debug] Trained a tree with leaves = 128 and depth = 8\n",
      "[LightGBM] [Debug] Trained a tree with leaves = 128 and depth = 8\n",
      "[LightGBM] [Debug] Trained a tree with leaves = 128 and depth = 8\n",
      "[LightGBM] [Debug] Trained a tree with leaves = 128 and depth = 8\n",
      "[LightGBM] [Debug] Trained a tree with leaves = 128 and depth = 8\n",
      "[LightGBM] [Debug] Trained a tree with leaves = 128 and depth = 8\n",
      "[LightGBM] [Debug] Trained a tree with leaves = 128 and depth = 8\n",
      "[LightGBM] [Debug] Trained a tree with leaves = 128 and depth = 8\n",
      "[LightGBM] [Debug] Trained a tree with leaves = 128 and depth = 8\n",
      "[LightGBM] [Debug] Trained a tree with leaves = 128 and depth = 8\n",
      "[LightGBM] [Debug] Trained a tree with leaves = 128 and depth = 8\n",
      "[LightGBM] [Debug] Trained a tree with leaves = 128 and depth = 8\n",
      "[LightGBM] [Debug] Trained a tree with leaves = 128 and depth = 8\n",
      "[LightGBM] [Debug] Trained a tree with leaves = 128 and depth = 8\n",
      "[LightGBM] [Debug] Trained a tree with leaves = 128 and depth = 8\n",
      "[LightGBM] [Debug] Trained a tree with leaves = 128 and depth = 8\n",
      "[LightGBM] [Debug] Trained a tree with leaves = 128 and depth = 8\n",
      "[LightGBM] [Debug] Trained a tree with leaves = 128 and depth = 8\n",
      "[LightGBM] [Debug] Trained a tree with leaves = 128 and depth = 8\n",
      "[LightGBM] [Debug] Trained a tree with leaves = 128 and depth = 8\n",
      "[LightGBM] [Debug] Trained a tree with leaves = 128 and depth = 8\n",
      "[LightGBM] [Debug] Trained a tree with leaves = 128 and depth = 8\n",
      "[LightGBM] [Debug] Trained a tree with leaves = 128 and depth = 8\n",
      "[LightGBM] [Debug] Trained a tree with leaves = 128 and depth = 8\n",
      "[LightGBM] [Debug] Trained a tree with leaves = 128 and depth = 8\n",
      "[LightGBM] [Debug] Trained a tree with leaves = 128 and depth = 8\n",
      "[LightGBM] [Debug] Trained a tree with leaves = 128 and depth = 8\n",
      "[LightGBM] [Debug] Trained a tree with leaves = 128 and depth = 8\n",
      "[LightGBM] [Debug] Trained a tree with leaves = 128 and depth = 8\n",
      "[LightGBM] [Debug] Trained a tree with leaves = 128 and depth = 8\n",
      "[LightGBM] [Debug] Trained a tree with leaves = 128 and depth = 8\n",
      "[LightGBM] [Debug] Trained a tree with leaves = 128 and depth = 8\n",
      "[LightGBM] [Debug] Trained a tree with leaves = 128 and depth = 8\n",
      "[LightGBM] [Debug] Trained a tree with leaves = 128 and depth = 8\n",
      "[LightGBM] [Debug] Trained a tree with leaves = 128 and depth = 8\n",
      "[LightGBM] [Debug] Trained a tree with leaves = 128 and depth = 8\n",
      "[LightGBM] [Debug] Trained a tree with leaves = 128 and depth = 8\n",
      "[LightGBM] [Debug] Trained a tree with leaves = 128 and depth = 8\n",
      "[LightGBM] [Debug] Trained a tree with leaves = 128 and depth = 8\n",
      "[LightGBM] [Debug] Trained a tree with leaves = 128 and depth = 8\n",
      "[LightGBM] [Debug] Trained a tree with leaves = 128 and depth = 8\n",
      "[LightGBM] [Debug] Trained a tree with leaves = 128 and depth = 8\n",
      "[LightGBM] [Debug] Trained a tree with leaves = 128 and depth = 8\n",
      "[LightGBM] [Debug] Trained a tree with leaves = 128 and depth = 8\n",
      "[LightGBM] [Debug] Trained a tree with leaves = 128 and depth = 8\n",
      "[LightGBM] [Debug] Trained a tree with leaves = 128 and depth = 8\n",
      "[LightGBM] [Debug] Trained a tree with leaves = 128 and depth = 8\n",
      "[LightGBM] [Debug] Trained a tree with leaves = 128 and depth = 8\n",
      "[LightGBM] [Debug] Trained a tree with leaves = 128 and depth = 8\n",
      "[LightGBM] [Debug] Trained a tree with leaves = 128 and depth = 8\n",
      "[LightGBM] [Debug] Trained a tree with leaves = 128 and depth = 8\n",
      "[LightGBM] [Debug] Trained a tree with leaves = 128 and depth = 8\n",
      "[LightGBM] [Debug] Trained a tree with leaves = 128 and depth = 8\n",
      "[LightGBM] [Debug] Trained a tree with leaves = 128 and depth = 8\n",
      "[LightGBM] [Debug] Trained a tree with leaves = 128 and depth = 8\n",
      "[LightGBM] [Debug] Trained a tree with leaves = 128 and depth = 8\n",
      "[LightGBM] [Debug] Trained a tree with leaves = 128 and depth = 8\n",
      "[LightGBM] [Debug] Trained a tree with leaves = 128 and depth = 8\n",
      "[LightGBM] [Debug] Trained a tree with leaves = 128 and depth = 8\n",
      "[LightGBM] [Debug] Trained a tree with leaves = 128 and depth = 8\n",
      "[LightGBM] [Debug] Trained a tree with leaves = 128 and depth = 8\n",
      "[LightGBM] [Debug] Trained a tree with leaves = 128 and depth = 8\n",
      "[LightGBM] [Debug] Trained a tree with leaves = 128 and depth = 8\n",
      "[LightGBM] [Debug] Trained a tree with leaves = 128 and depth = 8\n",
      "[LightGBM] [Debug] Trained a tree with leaves = 128 and depth = 8\n",
      "[LightGBM] [Debug] Trained a tree with leaves = 128 and depth = 8\n",
      "[LightGBM] [Debug] Trained a tree with leaves = 128 and depth = 8\n",
      "[LightGBM] [Debug] Trained a tree with leaves = 128 and depth = 8\n",
      "[LightGBM] [Debug] Trained a tree with leaves = 128 and depth = 8\n",
      "[LightGBM] [Debug] Trained a tree with leaves = 128 and depth = 8\n",
      "[LightGBM] [Debug] Trained a tree with leaves = 128 and depth = 8\n",
      "[LightGBM] [Debug] Trained a tree with leaves = 128 and depth = 8\n",
      "[LightGBM] [Debug] Trained a tree with leaves = 128 and depth = 8\n",
      "[LightGBM] [Debug] Trained a tree with leaves = 128 and depth = 8\n",
      "[LightGBM] [Debug] Trained a tree with leaves = 128 and depth = 8\n",
      "[LightGBM] [Debug] Trained a tree with leaves = 128 and depth = 8\n",
      "[LightGBM] [Debug] Trained a tree with leaves = 128 and depth = 8\n",
      "[LightGBM] [Debug] Trained a tree with leaves = 128 and depth = 8\n",
      "[LightGBM] [Debug] Trained a tree with leaves = 128 and depth = 8\n",
      "[LightGBM] [Debug] Trained a tree with leaves = 128 and depth = 8\n",
      "[LightGBM] [Debug] Trained a tree with leaves = 128 and depth = 8\n",
      "[LightGBM] [Debug] Trained a tree with leaves = 128 and depth = 8\n",
      "[LightGBM] [Debug] Trained a tree with leaves = 128 and depth = 8\n",
      "[LightGBM] [Debug] Trained a tree with leaves = 128 and depth = 8\n",
      "[LightGBM] [Debug] Trained a tree with leaves = 128 and depth = 8\n",
      "[LightGBM] [Debug] Trained a tree with leaves = 128 and depth = 8\n",
      "[LightGBM] [Debug] Trained a tree with leaves = 128 and depth = 8\n",
      "[LightGBM] [Debug] Trained a tree with leaves = 128 and depth = 8\n",
      "[LightGBM] [Debug] Trained a tree with leaves = 128 and depth = 8\n",
      "[LightGBM] [Debug] Trained a tree with leaves = 128 and depth = 8\n",
      "[LightGBM] [Debug] Trained a tree with leaves = 128 and depth = 8\n",
      "[LightGBM] [Debug] Trained a tree with leaves = 128 and depth = 8\n",
      "[LightGBM] [Debug] Trained a tree with leaves = 128 and depth = 8\n",
      "[LightGBM] [Debug] Trained a tree with leaves = 128 and depth = 8\n",
      "[LightGBM] [Debug] Trained a tree with leaves = 128 and depth = 8\n",
      "[LightGBM] [Debug] Trained a tree with leaves = 128 and depth = 8\n",
      "[LightGBM] [Debug] Trained a tree with leaves = 128 and depth = 8\n",
      "[LightGBM] [Debug] Trained a tree with leaves = 128 and depth = 8\n",
      "[LightGBM] [Debug] Trained a tree with leaves = 128 and depth = 8\n",
      "[LightGBM] [Debug] Trained a tree with leaves = 128 and depth = 8\n",
      "[LightGBM] [Debug] Trained a tree with leaves = 128 and depth = 8\n",
      "[LightGBM] [Debug] Trained a tree with leaves = 128 and depth = 8\n",
      "[LightGBM] [Debug] Trained a tree with leaves = 128 and depth = 8\n",
      "[LightGBM] [Debug] Trained a tree with leaves = 128 and depth = 8\n",
      "[LightGBM] [Debug] Trained a tree with leaves = 128 and depth = 8\n",
      "[LightGBM] [Debug] Trained a tree with leaves = 128 and depth = 8\n",
      "[LightGBM] [Debug] Trained a tree with leaves = 128 and depth = 8\n",
      "[LightGBM] [Debug] Trained a tree with leaves = 128 and depth = 8\n",
      "[LightGBM] [Debug] Trained a tree with leaves = 128 and depth = 8\n",
      "[LightGBM] [Debug] Trained a tree with leaves = 128 and depth = 8\n",
      "[LightGBM] [Debug] Trained a tree with leaves = 128 and depth = 8\n",
      "[LightGBM] [Debug] Trained a tree with leaves = 128 and depth = 8\n",
      "[LightGBM] [Debug] Trained a tree with leaves = 128 and depth = 8\n",
      "[LightGBM] [Debug] Trained a tree with leaves = 128 and depth = 8\n",
      "[LightGBM] [Debug] Trained a tree with leaves = 128 and depth = 8\n",
      "[LightGBM] [Debug] Trained a tree with leaves = 128 and depth = 8\n",
      "[LightGBM] [Debug] Trained a tree with leaves = 128 and depth = 8\n",
      "[LightGBM] [Debug] Trained a tree with leaves = 128 and depth = 8\n",
      "[LightGBM] [Debug] Trained a tree with leaves = 128 and depth = 8\n",
      "[LightGBM] [Debug] Trained a tree with leaves = 128 and depth = 8\n",
      "[LightGBM] [Debug] Trained a tree with leaves = 128 and depth = 8\n",
      "[LightGBM] [Debug] Trained a tree with leaves = 128 and depth = 8\n",
      "[LightGBM] [Debug] Trained a tree with leaves = 128 and depth = 8\n",
      "[LightGBM] [Debug] Trained a tree with leaves = 128 and depth = 8\n",
      "[LightGBM] [Debug] Trained a tree with leaves = 128 and depth = 8\n",
      "[LightGBM] [Debug] Trained a tree with leaves = 128 and depth = 8\n",
      "[LightGBM] [Debug] Trained a tree with leaves = 128 and depth = 8\n",
      "[LightGBM] [Debug] Trained a tree with leaves = 128 and depth = 8\n",
      "[LightGBM] [Debug] Trained a tree with leaves = 128 and depth = 8\n",
      "[LightGBM] [Debug] Trained a tree with leaves = 128 and depth = 8\n",
      "[LightGBM] [Debug] Trained a tree with leaves = 128 and depth = 8\n",
      "[LightGBM] [Debug] Trained a tree with leaves = 128 and depth = 8\n",
      "[LightGBM] [Debug] Trained a tree with leaves = 128 and depth = 8\n",
      "[LightGBM] [Debug] Trained a tree with leaves = 128 and depth = 8\n",
      "[LightGBM] [Debug] Trained a tree with leaves = 128 and depth = 8\n",
      "[LightGBM] [Debug] Trained a tree with leaves = 128 and depth = 8\n",
      "[LightGBM] [Debug] Trained a tree with leaves = 128 and depth = 8\n",
      "[LightGBM] [Debug] Trained a tree with leaves = 128 and depth = 8\n",
      "[LightGBM] [Debug] Trained a tree with leaves = 128 and depth = 8\n",
      "[LightGBM] [Debug] Trained a tree with leaves = 128 and depth = 8\n",
      "[LightGBM] [Debug] Trained a tree with leaves = 128 and depth = 8\n",
      "[LightGBM] [Debug] Trained a tree with leaves = 128 and depth = 8\n",
      "[LightGBM] [Debug] Trained a tree with leaves = 128 and depth = 8\n",
      "[LightGBM] [Debug] Trained a tree with leaves = 128 and depth = 8\n",
      "[LightGBM] [Debug] Trained a tree with leaves = 128 and depth = 8\n",
      "[LightGBM] [Debug] Trained a tree with leaves = 128 and depth = 8\n",
      "[LightGBM] [Debug] Trained a tree with leaves = 128 and depth = 8\n",
      "[LightGBM] [Debug] Trained a tree with leaves = 128 and depth = 8\n",
      "[LightGBM] [Debug] Trained a tree with leaves = 128 and depth = 8\n",
      "[LightGBM] [Debug] Trained a tree with leaves = 128 and depth = 8\n",
      "[LightGBM] [Debug] Trained a tree with leaves = 128 and depth = 8\n",
      "[LightGBM] [Debug] Trained a tree with leaves = 128 and depth = 8\n",
      "[LightGBM] [Debug] Trained a tree with leaves = 128 and depth = 8\n",
      "[LightGBM] [Debug] Trained a tree with leaves = 128 and depth = 8\n",
      "[LightGBM] [Debug] Trained a tree with leaves = 128 and depth = 8\n",
      "[LightGBM] [Debug] Trained a tree with leaves = 128 and depth = 8\n",
      "[LightGBM] [Debug] Trained a tree with leaves = 128 and depth = 8\n",
      "[LightGBM] [Debug] Trained a tree with leaves = 128 and depth = 8\n",
      "[LightGBM] [Debug] Trained a tree with leaves = 128 and depth = 8\n",
      "[LightGBM] [Debug] Trained a tree with leaves = 128 and depth = 8\n",
      "[LightGBM] [Debug] Trained a tree with leaves = 128 and depth = 8\n",
      "[LightGBM] [Debug] Trained a tree with leaves = 128 and depth = 8\n",
      "[LightGBM] [Debug] Trained a tree with leaves = 128 and depth = 8\n",
      "[LightGBM] [Debug] Trained a tree with leaves = 128 and depth = 8\n",
      "[LightGBM] [Debug] Trained a tree with leaves = 128 and depth = 8\n",
      "[LightGBM] [Debug] Trained a tree with leaves = 128 and depth = 8\n",
      "[LightGBM] [Debug] Trained a tree with leaves = 128 and depth = 8\n",
      "[LightGBM] [Debug] Trained a tree with leaves = 128 and depth = 8\n",
      "[LightGBM] [Debug] Trained a tree with leaves = 128 and depth = 8\n",
      "[LightGBM] [Debug] Trained a tree with leaves = 128 and depth = 8\n",
      "[LightGBM] [Debug] Trained a tree with leaves = 128 and depth = 8\n",
      "[LightGBM] [Debug] Trained a tree with leaves = 128 and depth = 8\n",
      "[LightGBM] [Debug] Trained a tree with leaves = 128 and depth = 8\n",
      "[LightGBM] [Debug] Trained a tree with leaves = 128 and depth = 8\n",
      "[LightGBM] [Debug] Trained a tree with leaves = 128 and depth = 8\n",
      "[LightGBM] [Debug] Trained a tree with leaves = 128 and depth = 8\n",
      "[LightGBM] [Debug] Trained a tree with leaves = 128 and depth = 8\n",
      "[LightGBM] [Debug] Trained a tree with leaves = 128 and depth = 8\n",
      "[LightGBM] [Debug] Trained a tree with leaves = 128 and depth = 8\n",
      "[LightGBM] [Debug] Trained a tree with leaves = 128 and depth = 8\n",
      "[LightGBM] [Debug] Trained a tree with leaves = 128 and depth = 8\n",
      "[LightGBM] [Debug] Trained a tree with leaves = 128 and depth = 8\n",
      "[LightGBM] [Debug] Trained a tree with leaves = 128 and depth = 8\n",
      "[LightGBM] [Debug] Trained a tree with leaves = 128 and depth = 8\n",
      "[LightGBM] [Debug] Trained a tree with leaves = 128 and depth = 8\n",
      "[LightGBM] [Debug] Trained a tree with leaves = 128 and depth = 8\n",
      "[LightGBM] [Debug] Trained a tree with leaves = 128 and depth = 8\n",
      "[LightGBM] [Debug] Trained a tree with leaves = 128 and depth = 8\n",
      "[LightGBM] [Debug] Trained a tree with leaves = 128 and depth = 8\n",
      "[LightGBM] [Debug] Trained a tree with leaves = 128 and depth = 8\n",
      "[LightGBM] [Debug] Trained a tree with leaves = 128 and depth = 8\n",
      "[LightGBM] [Debug] Trained a tree with leaves = 128 and depth = 8\n",
      "[LightGBM] [Debug] Trained a tree with leaves = 128 and depth = 8\n",
      "[LightGBM] [Debug] Trained a tree with leaves = 128 and depth = 8\n",
      "[LightGBM] [Debug] Trained a tree with leaves = 128 and depth = 8\n",
      "[LightGBM] [Debug] Trained a tree with leaves = 128 and depth = 8\n",
      "[LightGBM] [Debug] Trained a tree with leaves = 128 and depth = 8\n",
      "[LightGBM] [Debug] Trained a tree with leaves = 128 and depth = 8\n",
      "[LightGBM] [Debug] Trained a tree with leaves = 128 and depth = 8\n",
      "[LightGBM] [Debug] Trained a tree with leaves = 128 and depth = 8\n",
      "[LightGBM] [Debug] Trained a tree with leaves = 128 and depth = 8\n",
      "[LightGBM] [Debug] Trained a tree with leaves = 128 and depth = 8\n",
      "[LightGBM] [Debug] Trained a tree with leaves = 128 and depth = 8\n",
      "[LightGBM] [Debug] Trained a tree with leaves = 128 and depth = 8\n",
      "[LightGBM] [Debug] Trained a tree with leaves = 128 and depth = 8\n",
      "[LightGBM] [Debug] Trained a tree with leaves = 128 and depth = 8\n",
      "[LightGBM] [Debug] Trained a tree with leaves = 128 and depth = 8\n",
      "[LightGBM] [Debug] Trained a tree with leaves = 128 and depth = 8\n",
      "[LightGBM] [Debug] Trained a tree with leaves = 128 and depth = 8\n",
      "[LightGBM] [Debug] Trained a tree with leaves = 128 and depth = 8\n",
      "[LightGBM] [Debug] Trained a tree with leaves = 128 and depth = 8\n",
      "[LightGBM] [Debug] Trained a tree with leaves = 128 and depth = 8\n",
      "[LightGBM] [Debug] Trained a tree with leaves = 128 and depth = 8\n",
      "[LightGBM] [Debug] Trained a tree with leaves = 128 and depth = 8\n",
      "[LightGBM] [Debug] Trained a tree with leaves = 128 and depth = 8\n",
      "[LightGBM] [Debug] Trained a tree with leaves = 128 and depth = 8\n",
      "[LightGBM] [Debug] Trained a tree with leaves = 128 and depth = 8\n",
      "[LightGBM] [Debug] Trained a tree with leaves = 128 and depth = 8\n",
      "[LightGBM] [Debug] Trained a tree with leaves = 128 and depth = 8\n",
      "[LightGBM] [Debug] Trained a tree with leaves = 128 and depth = 8\n",
      "[LightGBM] [Debug] Trained a tree with leaves = 128 and depth = 8\n",
      "[LightGBM] [Debug] Trained a tree with leaves = 128 and depth = 8\n",
      "[LightGBM] [Debug] Trained a tree with leaves = 128 and depth = 8\n",
      "[LightGBM] [Debug] Trained a tree with leaves = 128 and depth = 8\n",
      "[LightGBM] [Debug] Trained a tree with leaves = 128 and depth = 8\n",
      "[LightGBM] [Debug] Trained a tree with leaves = 128 and depth = 8\n",
      "[LightGBM] [Debug] Trained a tree with leaves = 128 and depth = 8\n",
      "[LightGBM] [Debug] Trained a tree with leaves = 128 and depth = 8\n",
      "[LightGBM] [Debug] Trained a tree with leaves = 128 and depth = 8\n",
      "[LightGBM] [Debug] Trained a tree with leaves = 128 and depth = 8\n",
      "[LightGBM] [Debug] Trained a tree with leaves = 128 and depth = 8\n",
      "[LightGBM] [Debug] Trained a tree with leaves = 128 and depth = 8\n",
      "[LightGBM] [Debug] Trained a tree with leaves = 128 and depth = 8\n",
      "[LightGBM] [Debug] Trained a tree with leaves = 128 and depth = 8\n",
      "[LightGBM] [Debug] Trained a tree with leaves = 128 and depth = 8\n",
      "[LightGBM] [Debug] Trained a tree with leaves = 128 and depth = 8\n",
      "[LightGBM] [Debug] Trained a tree with leaves = 128 and depth = 8\n",
      "[LightGBM] [Debug] Trained a tree with leaves = 128 and depth = 8\n",
      "[LightGBM] [Debug] Trained a tree with leaves = 128 and depth = 8\n",
      "[LightGBM] [Debug] Trained a tree with leaves = 128 and depth = 8\n",
      "[LightGBM] [Debug] Trained a tree with leaves = 128 and depth = 8\n",
      "[LightGBM] [Debug] Trained a tree with leaves = 128 and depth = 8\n",
      "[LightGBM] [Debug] Trained a tree with leaves = 128 and depth = 8\n",
      "[LightGBM] [Debug] Trained a tree with leaves = 128 and depth = 8\n",
      "[LightGBM] [Debug] Trained a tree with leaves = 128 and depth = 8\n",
      "[LightGBM] [Debug] Trained a tree with leaves = 128 and depth = 8\n",
      "[LightGBM] [Debug] Trained a tree with leaves = 128 and depth = 8\n",
      "[LightGBM] [Debug] Trained a tree with leaves = 128 and depth = 8\n",
      "[LightGBM] [Debug] Trained a tree with leaves = 128 and depth = 8\n",
      "[LightGBM] [Debug] Trained a tree with leaves = 128 and depth = 8\n",
      "[LightGBM] [Debug] Trained a tree with leaves = 128 and depth = 8\n",
      "[LightGBM] [Debug] Trained a tree with leaves = 128 and depth = 8\n",
      "[LightGBM] [Debug] Trained a tree with leaves = 128 and depth = 8\n",
      "[LightGBM] [Debug] Trained a tree with leaves = 128 and depth = 8\n",
      "[LightGBM] [Debug] Trained a tree with leaves = 128 and depth = 8\n",
      "[LightGBM] [Debug] Trained a tree with leaves = 128 and depth = 8\n",
      "[LightGBM] [Debug] Trained a tree with leaves = 128 and depth = 8\n",
      "[LightGBM] [Debug] Trained a tree with leaves = 128 and depth = 8\n",
      "[LightGBM] [Debug] Trained a tree with leaves = 128 and depth = 8\n",
      "[LightGBM] [Debug] Trained a tree with leaves = 128 and depth = 8\n",
      "[LightGBM] [Debug] Trained a tree with leaves = 128 and depth = 8\n",
      "[LightGBM] [Debug] Trained a tree with leaves = 128 and depth = 8\n",
      "[LightGBM] [Debug] Trained a tree with leaves = 128 and depth = 8\n",
      "[LightGBM] [Debug] Trained a tree with leaves = 128 and depth = 8\n",
      "[LightGBM] [Debug] Trained a tree with leaves = 128 and depth = 8\n",
      "[LightGBM] [Debug] Trained a tree with leaves = 128 and depth = 8\n",
      "[LightGBM] [Debug] Trained a tree with leaves = 128 and depth = 8\n",
      "[LightGBM] [Debug] Trained a tree with leaves = 128 and depth = 8\n",
      "[LightGBM] [Debug] Trained a tree with leaves = 128 and depth = 8\n",
      "[LightGBM] [Debug] Trained a tree with leaves = 128 and depth = 8\n",
      "[LightGBM] [Debug] Trained a tree with leaves = 128 and depth = 8\n",
      "[LightGBM] [Debug] Trained a tree with leaves = 128 and depth = 8\n",
      "[LightGBM] [Debug] Trained a tree with leaves = 128 and depth = 8\n",
      "[LightGBM] [Debug] Trained a tree with leaves = 128 and depth = 8\n",
      "[LightGBM] [Debug] Trained a tree with leaves = 128 and depth = 8\n",
      "[LightGBM] [Debug] Trained a tree with leaves = 128 and depth = 8\n",
      "[LightGBM] [Debug] Trained a tree with leaves = 128 and depth = 8\n",
      "[LightGBM] [Debug] Trained a tree with leaves = 128 and depth = 8\n",
      "[LightGBM] [Debug] Trained a tree with leaves = 128 and depth = 8\n",
      "[LightGBM] [Debug] Trained a tree with leaves = 128 and depth = 8\n",
      "[LightGBM] [Debug] Trained a tree with leaves = 128 and depth = 8\n",
      "[LightGBM] [Debug] Trained a tree with leaves = 128 and depth = 8\n",
      "[LightGBM] [Debug] Trained a tree with leaves = 128 and depth = 8\n",
      "[LightGBM] [Debug] Trained a tree with leaves = 128 and depth = 8\n",
      "[LightGBM] [Debug] Trained a tree with leaves = 128 and depth = 8\n",
      "[LightGBM] [Debug] Trained a tree with leaves = 128 and depth = 8\n",
      "[LightGBM] [Debug] Trained a tree with leaves = 128 and depth = 8\n",
      "[LightGBM] [Debug] Trained a tree with leaves = 128 and depth = 8\n",
      "[LightGBM] [Debug] Trained a tree with leaves = 128 and depth = 8\n",
      "[LightGBM] [Debug] Trained a tree with leaves = 128 and depth = 8\n",
      "[LightGBM] [Debug] Trained a tree with leaves = 128 and depth = 8\n",
      "[LightGBM] [Debug] Trained a tree with leaves = 128 and depth = 8\n",
      "[LightGBM] [Debug] Trained a tree with leaves = 128 and depth = 8\n",
      "[LightGBM] [Debug] Trained a tree with leaves = 128 and depth = 8\n",
      "[LightGBM] [Debug] Trained a tree with leaves = 128 and depth = 8\n",
      "[LightGBM] [Debug] Trained a tree with leaves = 128 and depth = 8\n",
      "[LightGBM] [Debug] Trained a tree with leaves = 128 and depth = 8\n",
      "[LightGBM] [Debug] Trained a tree with leaves = 128 and depth = 8\n",
      "[LightGBM] [Debug] Trained a tree with leaves = 128 and depth = 8\n",
      "[LightGBM] [Debug] Trained a tree with leaves = 128 and depth = 8\n",
      "[LightGBM] [Debug] Trained a tree with leaves = 128 and depth = 8\n",
      "[LightGBM] [Debug] Trained a tree with leaves = 128 and depth = 8\n",
      "[LightGBM] [Debug] Trained a tree with leaves = 128 and depth = 8\n",
      "[LightGBM] [Debug] Trained a tree with leaves = 128 and depth = 8\n",
      "[LightGBM] [Debug] Trained a tree with leaves = 128 and depth = 8\n",
      "[LightGBM] [Debug] Trained a tree with leaves = 128 and depth = 8\n",
      "[LightGBM] [Debug] Trained a tree with leaves = 128 and depth = 8\n",
      "[LightGBM] [Debug] Trained a tree with leaves = 128 and depth = 8\n",
      "[LightGBM] [Debug] Trained a tree with leaves = 128 and depth = 8\n",
      "[LightGBM] [Debug] Trained a tree with leaves = 128 and depth = 8\n",
      "[LightGBM] [Debug] Trained a tree with leaves = 128 and depth = 8\n",
      "[LightGBM] [Debug] Trained a tree with leaves = 128 and depth = 8\n",
      "[LightGBM] [Debug] Trained a tree with leaves = 128 and depth = 8\n",
      "[LightGBM] [Debug] Trained a tree with leaves = 128 and depth = 8\n",
      "[LightGBM] [Debug] Trained a tree with leaves = 128 and depth = 8\n",
      "[LightGBM] [Debug] Trained a tree with leaves = 128 and depth = 8\n",
      "[LightGBM] [Debug] Trained a tree with leaves = 128 and depth = 8\n",
      "[LightGBM] [Debug] Trained a tree with leaves = 128 and depth = 8\n",
      "[LightGBM] [Debug] Trained a tree with leaves = 128 and depth = 8\n",
      "[LightGBM] [Debug] Trained a tree with leaves = 128 and depth = 8\n",
      "[LightGBM] [Debug] Trained a tree with leaves = 128 and depth = 8\n",
      "[LightGBM] [Debug] Trained a tree with leaves = 128 and depth = 8\n",
      "[LightGBM] [Debug] Trained a tree with leaves = 128 and depth = 8\n",
      "[LightGBM] [Debug] Trained a tree with leaves = 128 and depth = 8\n",
      "[LightGBM] [Debug] Trained a tree with leaves = 128 and depth = 8\n",
      "[LightGBM] [Debug] Trained a tree with leaves = 128 and depth = 8\n",
      "[LightGBM] [Debug] Trained a tree with leaves = 128 and depth = 8\n",
      "[LightGBM] [Debug] Trained a tree with leaves = 128 and depth = 8\n",
      "[LightGBM] [Debug] Trained a tree with leaves = 128 and depth = 8\n",
      "[LightGBM] [Debug] Trained a tree with leaves = 128 and depth = 8\n",
      "[LightGBM] [Debug] Trained a tree with leaves = 128 and depth = 8\n",
      "[LightGBM] [Debug] Trained a tree with leaves = 128 and depth = 8\n",
      "[LightGBM] [Debug] Trained a tree with leaves = 128 and depth = 8\n",
      "[LightGBM] [Debug] Trained a tree with leaves = 128 and depth = 8\n",
      "[LightGBM] [Debug] Trained a tree with leaves = 128 and depth = 8\n",
      "[LightGBM] [Debug] Trained a tree with leaves = 128 and depth = 8\n",
      "[LightGBM] [Debug] Trained a tree with leaves = 128 and depth = 8\n",
      "[LightGBM] [Debug] Trained a tree with leaves = 128 and depth = 8\n",
      "[LightGBM] [Debug] Trained a tree with leaves = 128 and depth = 8\n",
      "[LightGBM] [Debug] Trained a tree with leaves = 128 and depth = 8\n",
      "[LightGBM] [Debug] Trained a tree with leaves = 128 and depth = 8\n",
      "[LightGBM] [Debug] Trained a tree with leaves = 128 and depth = 8\n",
      "[LightGBM] [Debug] Trained a tree with leaves = 128 and depth = 8\n",
      "[LightGBM] [Debug] Trained a tree with leaves = 128 and depth = 8\n",
      "[LightGBM] [Debug] Trained a tree with leaves = 128 and depth = 8\n",
      "[LightGBM] [Debug] Trained a tree with leaves = 128 and depth = 8\n",
      "[LightGBM] [Debug] Trained a tree with leaves = 128 and depth = 8\n",
      "[LightGBM] [Debug] Trained a tree with leaves = 128 and depth = 8\n",
      "[LightGBM] [Debug] Trained a tree with leaves = 128 and depth = 8\n",
      "[LightGBM] [Debug] Trained a tree with leaves = 128 and depth = 8\n",
      "[LightGBM] [Debug] Trained a tree with leaves = 128 and depth = 8\n",
      "[LightGBM] [Debug] Trained a tree with leaves = 128 and depth = 8\n",
      "[LightGBM] [Debug] Trained a tree with leaves = 128 and depth = 8\n",
      "[LightGBM] [Debug] Trained a tree with leaves = 128 and depth = 8\n",
      "[LightGBM] [Debug] Trained a tree with leaves = 128 and depth = 8\n",
      "[LightGBM] [Debug] Trained a tree with leaves = 128 and depth = 8\n",
      "[LightGBM] [Debug] Trained a tree with leaves = 128 and depth = 8\n",
      "[LightGBM] [Debug] Trained a tree with leaves = 128 and depth = 8\n",
      "[LightGBM] [Debug] Trained a tree with leaves = 128 and depth = 8\n",
      "[LightGBM] [Debug] Trained a tree with leaves = 128 and depth = 8\n",
      "[LightGBM] [Debug] Trained a tree with leaves = 128 and depth = 8\n",
      "[LightGBM] [Debug] Trained a tree with leaves = 128 and depth = 8\n",
      "[LightGBM] [Debug] Trained a tree with leaves = 128 and depth = 8\n",
      "[LightGBM] [Debug] Trained a tree with leaves = 128 and depth = 8\n",
      "[LightGBM] [Debug] Trained a tree with leaves = 128 and depth = 8\n",
      "[LightGBM] [Debug] Trained a tree with leaves = 128 and depth = 8\n",
      "[LightGBM] [Debug] Trained a tree with leaves = 128 and depth = 8\n",
      "[LightGBM] [Debug] Trained a tree with leaves = 128 and depth = 8\n",
      "[LightGBM] [Debug] Trained a tree with leaves = 128 and depth = 8\n",
      "[LightGBM] [Debug] Trained a tree with leaves = 128 and depth = 8\n",
      "[LightGBM] [Debug] Trained a tree with leaves = 128 and depth = 8\n",
      "[LightGBM] [Debug] Trained a tree with leaves = 128 and depth = 8\n",
      "[LightGBM] [Debug] Trained a tree with leaves = 128 and depth = 8\n",
      "[LightGBM] [Debug] Trained a tree with leaves = 128 and depth = 8\n",
      "[LightGBM] [Debug] Trained a tree with leaves = 128 and depth = 8\n",
      "[LightGBM] [Debug] Trained a tree with leaves = 128 and depth = 8\n",
      "[LightGBM] [Debug] Trained a tree with leaves = 128 and depth = 8\n",
      "[LightGBM] [Debug] Trained a tree with leaves = 128 and depth = 8\n",
      "[LightGBM] [Debug] Trained a tree with leaves = 128 and depth = 8\n",
      "[LightGBM] [Debug] Trained a tree with leaves = 128 and depth = 8\n",
      "[LightGBM] [Debug] Trained a tree with leaves = 128 and depth = 8\n",
      "[LightGBM] [Debug] Trained a tree with leaves = 128 and depth = 8\n",
      "[LightGBM] [Debug] Trained a tree with leaves = 128 and depth = 8\n",
      "[LightGBM] [Debug] Trained a tree with leaves = 128 and depth = 8\n",
      "[LightGBM] [Debug] Trained a tree with leaves = 128 and depth = 8\n",
      "[LightGBM] [Debug] Trained a tree with leaves = 128 and depth = 8\n",
      "[LightGBM] [Debug] Trained a tree with leaves = 128 and depth = 8\n",
      "[LightGBM] [Debug] Trained a tree with leaves = 128 and depth = 8\n",
      "[LightGBM] [Debug] Trained a tree with leaves = 128 and depth = 8\n",
      "[LightGBM] [Debug] Trained a tree with leaves = 128 and depth = 8\n",
      "[LightGBM] [Debug] Trained a tree with leaves = 128 and depth = 8\n",
      "[LightGBM] [Debug] Trained a tree with leaves = 128 and depth = 8\n",
      "[LightGBM] [Debug] Trained a tree with leaves = 128 and depth = 8\n",
      "[LightGBM] [Debug] Trained a tree with leaves = 128 and depth = 8\n",
      "[LightGBM] [Debug] Trained a tree with leaves = 128 and depth = 8\n",
      "[LightGBM] [Debug] Trained a tree with leaves = 128 and depth = 8\n",
      "[LightGBM] [Debug] Trained a tree with leaves = 128 and depth = 8\n",
      "[LightGBM] [Debug] Trained a tree with leaves = 128 and depth = 8\n",
      "[LightGBM] [Debug] Trained a tree with leaves = 128 and depth = 8\n",
      "[LightGBM] [Debug] Trained a tree with leaves = 128 and depth = 8\n",
      "[LightGBM] [Debug] Trained a tree with leaves = 128 and depth = 8\n",
      "[LightGBM] [Debug] Trained a tree with leaves = 128 and depth = 8\n",
      "[LightGBM] [Debug] Trained a tree with leaves = 128 and depth = 8\n",
      "[LightGBM] [Debug] Trained a tree with leaves = 128 and depth = 8\n",
      "[LightGBM] [Debug] Trained a tree with leaves = 128 and depth = 8\n",
      "[LightGBM] [Debug] Trained a tree with leaves = 128 and depth = 8\n",
      "[LightGBM] [Debug] Trained a tree with leaves = 128 and depth = 8\n",
      "[LightGBM] [Debug] Trained a tree with leaves = 128 and depth = 8\n",
      "[LightGBM] [Debug] Trained a tree with leaves = 128 and depth = 8\n",
      "[LightGBM] [Debug] Trained a tree with leaves = 128 and depth = 8\n",
      "[LightGBM] [Debug] Trained a tree with leaves = 128 and depth = 8\n",
      "[LightGBM] [Debug] Trained a tree with leaves = 128 and depth = 8\n",
      "[LightGBM] [Debug] Trained a tree with leaves = 128 and depth = 8\n",
      "[LightGBM] [Debug] Trained a tree with leaves = 128 and depth = 8\n",
      "[LightGBM] [Debug] Trained a tree with leaves = 128 and depth = 8\n",
      "[LightGBM] [Debug] Trained a tree with leaves = 128 and depth = 8\n",
      "[LightGBM] [Debug] Trained a tree with leaves = 128 and depth = 8\n",
      "[LightGBM] [Debug] Trained a tree with leaves = 128 and depth = 8\n",
      "[LightGBM] [Debug] Trained a tree with leaves = 128 and depth = 8\n",
      "[LightGBM] [Debug] Trained a tree with leaves = 128 and depth = 8\n",
      "[LightGBM] [Debug] Trained a tree with leaves = 128 and depth = 8\n",
      "[LightGBM] [Debug] Trained a tree with leaves = 128 and depth = 8\n",
      "[LightGBM] [Debug] Trained a tree with leaves = 128 and depth = 8\n",
      "[LightGBM] [Debug] Trained a tree with leaves = 128 and depth = 8\n",
      "[LightGBM] [Debug] Trained a tree with leaves = 128 and depth = 8\n",
      "[LightGBM] [Debug] Trained a tree with leaves = 128 and depth = 8\n",
      "[LightGBM] [Debug] Trained a tree with leaves = 128 and depth = 8\n",
      "[LightGBM] [Debug] Trained a tree with leaves = 128 and depth = 8\n",
      "[LightGBM] [Debug] Trained a tree with leaves = 128 and depth = 8\n",
      "[LightGBM] [Debug] Trained a tree with leaves = 128 and depth = 8\n",
      "[LightGBM] [Debug] Trained a tree with leaves = 128 and depth = 8\n",
      "[LightGBM] [Debug] Trained a tree with leaves = 128 and depth = 8\n",
      "[LightGBM] [Debug] Trained a tree with leaves = 128 and depth = 8\n",
      "[LightGBM] [Debug] Trained a tree with leaves = 128 and depth = 8\n",
      "[LightGBM] [Debug] Trained a tree with leaves = 128 and depth = 8\n",
      "[LightGBM] [Debug] Trained a tree with leaves = 128 and depth = 8\n",
      "[LightGBM] [Debug] Trained a tree with leaves = 128 and depth = 8\n",
      "[LightGBM] [Debug] Trained a tree with leaves = 128 and depth = 8\n",
      "[LightGBM] [Debug] Trained a tree with leaves = 128 and depth = 8\n",
      "[LightGBM] [Debug] Trained a tree with leaves = 128 and depth = 8\n",
      "[LightGBM] [Debug] Trained a tree with leaves = 128 and depth = 8\n",
      "[LightGBM] [Debug] Trained a tree with leaves = 128 and depth = 8\n",
      "[LightGBM] [Debug] Trained a tree with leaves = 128 and depth = 8\n",
      "[LightGBM] [Debug] Trained a tree with leaves = 128 and depth = 8\n",
      "[LightGBM] [Debug] Trained a tree with leaves = 128 and depth = 8\n",
      "[LightGBM] [Debug] Trained a tree with leaves = 128 and depth = 8\n",
      "[LightGBM] [Debug] Trained a tree with leaves = 128 and depth = 8\n",
      "[LightGBM] [Debug] Trained a tree with leaves = 128 and depth = 8\n",
      "[LightGBM] [Debug] Trained a tree with leaves = 128 and depth = 8\n",
      "[LightGBM] [Debug] Trained a tree with leaves = 128 and depth = 8\n",
      "[LightGBM] [Debug] Trained a tree with leaves = 128 and depth = 8\n",
      "[LightGBM] [Debug] Trained a tree with leaves = 128 and depth = 8\n",
      "[LightGBM] [Debug] Trained a tree with leaves = 128 and depth = 8\n",
      "[LightGBM] [Debug] Trained a tree with leaves = 128 and depth = 8\n",
      "[LightGBM] [Debug] Trained a tree with leaves = 128 and depth = 8\n",
      "[LightGBM] [Debug] Trained a tree with leaves = 128 and depth = 8\n",
      "[LightGBM] [Debug] Trained a tree with leaves = 128 and depth = 8\n",
      "[LightGBM] [Debug] Trained a tree with leaves = 128 and depth = 8\n",
      "[LightGBM] [Debug] Trained a tree with leaves = 128 and depth = 8\n",
      "[LightGBM] [Debug] Trained a tree with leaves = 128 and depth = 8\n",
      "[LightGBM] [Debug] Trained a tree with leaves = 128 and depth = 8\n",
      "[LightGBM] [Debug] Trained a tree with leaves = 128 and depth = 8\n",
      "[LightGBM] [Debug] Trained a tree with leaves = 128 and depth = 8\n",
      "[LightGBM] [Debug] Trained a tree with leaves = 128 and depth = 8\n",
      "[LightGBM] [Debug] Trained a tree with leaves = 128 and depth = 8\n",
      "[LightGBM] [Debug] Trained a tree with leaves = 128 and depth = 8\n",
      "[LightGBM] [Debug] Trained a tree with leaves = 128 and depth = 8\n",
      "[LightGBM] [Debug] Trained a tree with leaves = 128 and depth = 8\n",
      "[LightGBM] [Debug] Trained a tree with leaves = 128 and depth = 8\n",
      "[LightGBM] [Debug] Trained a tree with leaves = 128 and depth = 8\n",
      "[LightGBM] [Debug] Trained a tree with leaves = 128 and depth = 8\n",
      "[LightGBM] [Debug] Trained a tree with leaves = 128 and depth = 8\n",
      "[LightGBM] [Debug] Trained a tree with leaves = 128 and depth = 8\n",
      "[LightGBM] [Debug] Trained a tree with leaves = 128 and depth = 8\n",
      "[LightGBM] [Debug] Trained a tree with leaves = 128 and depth = 8\n",
      "[LightGBM] [Debug] Trained a tree with leaves = 128 and depth = 8\n",
      "[LightGBM] [Debug] Trained a tree with leaves = 128 and depth = 8\n",
      "[LightGBM] [Debug] Trained a tree with leaves = 128 and depth = 8\n",
      "[LightGBM] [Debug] Trained a tree with leaves = 128 and depth = 8\n",
      "[LightGBM] [Debug] Trained a tree with leaves = 128 and depth = 8\n",
      "[LightGBM] [Debug] Trained a tree with leaves = 128 and depth = 8\n",
      "[LightGBM] [Debug] Trained a tree with leaves = 128 and depth = 8\n",
      "[LightGBM] [Debug] Trained a tree with leaves = 128 and depth = 8\n",
      "[LightGBM] [Debug] Trained a tree with leaves = 128 and depth = 8\n",
      "[LightGBM] [Debug] Trained a tree with leaves = 128 and depth = 8\n",
      "[LightGBM] [Debug] Trained a tree with leaves = 128 and depth = 8\n",
      "[LightGBM] [Debug] Trained a tree with leaves = 128 and depth = 8\n",
      "[LightGBM] [Debug] Trained a tree with leaves = 128 and depth = 8\n",
      "[LightGBM] [Debug] Trained a tree with leaves = 128 and depth = 8\n",
      "[LightGBM] [Debug] Trained a tree with leaves = 128 and depth = 8\n",
      "[LightGBM] [Debug] Trained a tree with leaves = 128 and depth = 8\n",
      "[LightGBM] [Debug] Trained a tree with leaves = 128 and depth = 8\n",
      "[LightGBM] [Debug] Trained a tree with leaves = 128 and depth = 8\n",
      "[LightGBM] [Debug] Trained a tree with leaves = 128 and depth = 8\n",
      "[LightGBM] [Debug] Trained a tree with leaves = 128 and depth = 8\n",
      "[LightGBM] [Debug] Trained a tree with leaves = 128 and depth = 8\n",
      "[LightGBM] [Debug] Trained a tree with leaves = 128 and depth = 8\n",
      "[LightGBM] [Debug] Trained a tree with leaves = 128 and depth = 8\n",
      "[LightGBM] [Debug] Trained a tree with leaves = 128 and depth = 8\n",
      "[LightGBM] [Debug] Trained a tree with leaves = 128 and depth = 8\n",
      "[LightGBM] [Debug] Trained a tree with leaves = 128 and depth = 8\n",
      "[LightGBM] [Debug] Trained a tree with leaves = 128 and depth = 8\n",
      "[LightGBM] [Debug] Trained a tree with leaves = 128 and depth = 8\n",
      "[LightGBM] [Debug] Trained a tree with leaves = 128 and depth = 8\n",
      "[LightGBM] [Debug] Trained a tree with leaves = 128 and depth = 8\n",
      "[LightGBM] [Debug] Trained a tree with leaves = 128 and depth = 8\n",
      "[LightGBM] [Debug] Trained a tree with leaves = 128 and depth = 8\n",
      "[LightGBM] [Debug] Trained a tree with leaves = 128 and depth = 8\n",
      "[LightGBM] [Debug] Trained a tree with leaves = 128 and depth = 8\n",
      "[LightGBM] [Debug] Trained a tree with leaves = 128 and depth = 8\n",
      "[LightGBM] [Debug] Trained a tree with leaves = 128 and depth = 8\n",
      "[LightGBM] [Debug] Trained a tree with leaves = 128 and depth = 8\n",
      "[LightGBM] [Debug] Trained a tree with leaves = 128 and depth = 8\n",
      "[LightGBM] [Debug] Trained a tree with leaves = 128 and depth = 8\n",
      "[LightGBM] [Debug] Trained a tree with leaves = 128 and depth = 8\n",
      "[LightGBM] [Debug] Trained a tree with leaves = 128 and depth = 8\n",
      "[LightGBM] [Debug] Trained a tree with leaves = 128 and depth = 8\n",
      "[LightGBM] [Debug] Trained a tree with leaves = 128 and depth = 8\n",
      "[LightGBM] [Debug] Trained a tree with leaves = 128 and depth = 8\n",
      "[LightGBM] [Debug] Trained a tree with leaves = 128 and depth = 8\n",
      "[LightGBM] [Debug] Trained a tree with leaves = 128 and depth = 8\n",
      "[LightGBM] [Debug] Trained a tree with leaves = 128 and depth = 8\n",
      "[LightGBM] [Debug] Trained a tree with leaves = 128 and depth = 8\n",
      "[LightGBM] [Debug] Trained a tree with leaves = 128 and depth = 8\n",
      "[LightGBM] [Debug] Trained a tree with leaves = 128 and depth = 8\n",
      "[LightGBM] [Debug] Trained a tree with leaves = 128 and depth = 8\n",
      "[LightGBM] [Debug] Trained a tree with leaves = 128 and depth = 8\n",
      "[LightGBM] [Debug] Trained a tree with leaves = 128 and depth = 8\n",
      "[LightGBM] [Debug] Trained a tree with leaves = 128 and depth = 8\n",
      "[LightGBM] [Debug] Trained a tree with leaves = 128 and depth = 8\n",
      "[LightGBM] [Debug] Trained a tree with leaves = 128 and depth = 8\n",
      "[LightGBM] [Debug] Trained a tree with leaves = 128 and depth = 8\n",
      "[LightGBM] [Debug] Trained a tree with leaves = 128 and depth = 8\n",
      "[LightGBM] [Debug] Trained a tree with leaves = 128 and depth = 8\n",
      "[LightGBM] [Debug] Trained a tree with leaves = 128 and depth = 8\n",
      "[LightGBM] [Debug] Trained a tree with leaves = 128 and depth = 8\n",
      "[LightGBM] [Debug] Trained a tree with leaves = 128 and depth = 8\n",
      "[LightGBM] [Debug] Trained a tree with leaves = 128 and depth = 8\n",
      "[LightGBM] [Debug] Trained a tree with leaves = 128 and depth = 8\n",
      "[LightGBM] [Debug] Trained a tree with leaves = 128 and depth = 8\n",
      "[LightGBM] [Debug] Trained a tree with leaves = 128 and depth = 8\n",
      "[LightGBM] [Debug] Trained a tree with leaves = 128 and depth = 8\n",
      "[LightGBM] [Debug] Trained a tree with leaves = 128 and depth = 8\n",
      "[LightGBM] [Debug] Trained a tree with leaves = 128 and depth = 8\n",
      "[LightGBM] [Debug] Trained a tree with leaves = 128 and depth = 8\n",
      "[LightGBM] [Debug] Trained a tree with leaves = 128 and depth = 8\n",
      "[LightGBM] [Debug] Trained a tree with leaves = 128 and depth = 8\n",
      "[LightGBM] [Debug] Trained a tree with leaves = 128 and depth = 8\n",
      "[LightGBM] [Debug] Trained a tree with leaves = 128 and depth = 8\n",
      "[LightGBM] [Debug] Trained a tree with leaves = 128 and depth = 8\n",
      "[LightGBM] [Debug] Trained a tree with leaves = 128 and depth = 8\n",
      "[LightGBM] [Debug] Trained a tree with leaves = 128 and depth = 8\n",
      "[LightGBM] [Debug] Trained a tree with leaves = 128 and depth = 8\n",
      "[LightGBM] [Debug] Trained a tree with leaves = 128 and depth = 8\n",
      "[LightGBM] [Debug] Trained a tree with leaves = 128 and depth = 8\n",
      "[LightGBM] [Debug] Trained a tree with leaves = 128 and depth = 8\n",
      "[LightGBM] [Debug] Trained a tree with leaves = 128 and depth = 8\n",
      "[LightGBM] [Debug] Trained a tree with leaves = 128 and depth = 8\n",
      "[LightGBM] [Debug] Trained a tree with leaves = 128 and depth = 8\n",
      "[LightGBM] [Debug] Trained a tree with leaves = 128 and depth = 8\n",
      "[LightGBM] [Debug] Trained a tree with leaves = 128 and depth = 8\n",
      "[LightGBM] [Debug] Trained a tree with leaves = 128 and depth = 8\n",
      "[LightGBM] [Debug] Trained a tree with leaves = 128 and depth = 8\n",
      "[LightGBM] [Debug] Trained a tree with leaves = 128 and depth = 8\n",
      "[LightGBM] [Debug] Trained a tree with leaves = 128 and depth = 8\n",
      "[LightGBM] [Debug] Trained a tree with leaves = 128 and depth = 8\n",
      "[LightGBM] [Debug] Trained a tree with leaves = 128 and depth = 8\n",
      "[LightGBM] [Debug] Trained a tree with leaves = 128 and depth = 8\n",
      "[LightGBM] [Debug] Trained a tree with leaves = 128 and depth = 8\n",
      "[LightGBM] [Debug] Trained a tree with leaves = 128 and depth = 8\n",
      "[LightGBM] [Debug] Trained a tree with leaves = 128 and depth = 8\n",
      "[LightGBM] [Debug] Trained a tree with leaves = 128 and depth = 8\n",
      "[LightGBM] [Debug] Trained a tree with leaves = 128 and depth = 8\n",
      "[LightGBM] [Debug] Trained a tree with leaves = 128 and depth = 8\n",
      "[LightGBM] [Debug] Trained a tree with leaves = 128 and depth = 8\n",
      "[LightGBM] [Debug] Trained a tree with leaves = 128 and depth = 8\n",
      "[LightGBM] [Debug] Trained a tree with leaves = 128 and depth = 8\n",
      "[LightGBM] [Debug] Trained a tree with leaves = 128 and depth = 8\n",
      "[LightGBM] [Debug] Trained a tree with leaves = 128 and depth = 8\n",
      "[LightGBM] [Debug] Trained a tree with leaves = 128 and depth = 8\n",
      "[LightGBM] [Debug] Trained a tree with leaves = 128 and depth = 8\n",
      "[LightGBM] [Debug] Trained a tree with leaves = 128 and depth = 8\n",
      "[LightGBM] [Debug] Trained a tree with leaves = 128 and depth = 8\n",
      "[LightGBM] [Debug] Trained a tree with leaves = 128 and depth = 8\n",
      "[LightGBM] [Debug] Trained a tree with leaves = 128 and depth = 8\n",
      "[LightGBM] [Debug] Trained a tree with leaves = 128 and depth = 8\n",
      "[LightGBM] [Debug] Trained a tree with leaves = 128 and depth = 8\n",
      "[LightGBM] [Debug] Trained a tree with leaves = 128 and depth = 8\n",
      "[LightGBM] [Debug] Trained a tree with leaves = 128 and depth = 8\n",
      "[LightGBM] [Debug] Trained a tree with leaves = 128 and depth = 8\n",
      "[LightGBM] [Debug] Trained a tree with leaves = 128 and depth = 8\n",
      "[LightGBM] [Debug] Trained a tree with leaves = 128 and depth = 8\n",
      "[LightGBM] [Debug] Trained a tree with leaves = 128 and depth = 8\n",
      "[LightGBM] [Debug] Trained a tree with leaves = 128 and depth = 8\n",
      "[LightGBM] [Debug] Trained a tree with leaves = 128 and depth = 8\n",
      "[LightGBM] [Debug] Trained a tree with leaves = 128 and depth = 8\n",
      "[LightGBM] [Debug] Trained a tree with leaves = 128 and depth = 8\n",
      "[LightGBM] [Debug] Trained a tree with leaves = 128 and depth = 8\n",
      "[LightGBM] [Debug] Trained a tree with leaves = 128 and depth = 8\n",
      "[LightGBM] [Debug] Trained a tree with leaves = 128 and depth = 8\n",
      "[LightGBM] [Debug] Trained a tree with leaves = 128 and depth = 8\n",
      "[LightGBM] [Debug] Trained a tree with leaves = 128 and depth = 8\n",
      "[LightGBM] [Debug] Trained a tree with leaves = 128 and depth = 8\n",
      "[LightGBM] [Debug] Trained a tree with leaves = 128 and depth = 8\n",
      "[LightGBM] [Debug] Trained a tree with leaves = 128 and depth = 8\n",
      "[LightGBM] [Debug] Trained a tree with leaves = 128 and depth = 8\n",
      "[LightGBM] [Debug] Trained a tree with leaves = 128 and depth = 8\n",
      "[LightGBM] [Debug] Trained a tree with leaves = 128 and depth = 8\n",
      "[LightGBM] [Debug] Trained a tree with leaves = 128 and depth = 8\n",
      "[LightGBM] [Debug] Trained a tree with leaves = 128 and depth = 8\n",
      "[LightGBM] [Debug] Trained a tree with leaves = 128 and depth = 8\n",
      "[LightGBM] [Debug] Trained a tree with leaves = 128 and depth = 8\n",
      "[LightGBM] [Debug] Trained a tree with leaves = 128 and depth = 8\n",
      "[LightGBM] [Debug] Trained a tree with leaves = 128 and depth = 8\n",
      "[LightGBM] [Debug] Trained a tree with leaves = 128 and depth = 8\n",
      "[LightGBM] [Debug] Trained a tree with leaves = 128 and depth = 8\n",
      "[LightGBM] [Debug] Trained a tree with leaves = 128 and depth = 8\n",
      "[LightGBM] [Debug] Trained a tree with leaves = 128 and depth = 8\n",
      "[LightGBM] [Debug] Trained a tree with leaves = 128 and depth = 8\n",
      "[LightGBM] [Debug] Trained a tree with leaves = 128 and depth = 8\n",
      "[LightGBM] [Debug] Trained a tree with leaves = 128 and depth = 8\n",
      "[LightGBM] [Debug] Trained a tree with leaves = 128 and depth = 8\n",
      "[LightGBM] [Debug] Trained a tree with leaves = 128 and depth = 8\n",
      "[LightGBM] [Debug] Trained a tree with leaves = 128 and depth = 8\n",
      "[LightGBM] [Debug] Trained a tree with leaves = 128 and depth = 8\n",
      "[LightGBM] [Debug] Trained a tree with leaves = 128 and depth = 8\n",
      "[LightGBM] [Debug] Trained a tree with leaves = 128 and depth = 8\n",
      "[LightGBM] [Debug] Trained a tree with leaves = 128 and depth = 8\n",
      "[LightGBM] [Debug] Trained a tree with leaves = 128 and depth = 8\n",
      "[LightGBM] [Debug] Trained a tree with leaves = 128 and depth = 8\n",
      "[LightGBM] [Debug] Trained a tree with leaves = 128 and depth = 8\n",
      "[LightGBM] [Debug] Trained a tree with leaves = 128 and depth = 8\n",
      "[LightGBM] [Debug] Trained a tree with leaves = 128 and depth = 8\n",
      "[LightGBM] [Debug] Trained a tree with leaves = 128 and depth = 8\n",
      "[LightGBM] [Debug] Trained a tree with leaves = 128 and depth = 8\n",
      "[LightGBM] [Debug] Trained a tree with leaves = 128 and depth = 8\n",
      "[LightGBM] [Debug] Trained a tree with leaves = 128 and depth = 8\n",
      "[LightGBM] [Debug] Trained a tree with leaves = 128 and depth = 8\n",
      "[LightGBM] [Debug] Trained a tree with leaves = 128 and depth = 8\n",
      "[LightGBM] [Debug] Trained a tree with leaves = 128 and depth = 8\n",
      "[LightGBM] [Debug] Trained a tree with leaves = 128 and depth = 8\n",
      "[LightGBM] [Debug] Trained a tree with leaves = 128 and depth = 8\n",
      "[LightGBM] [Debug] Trained a tree with leaves = 128 and depth = 8\n",
      "[LightGBM] [Debug] Trained a tree with leaves = 128 and depth = 8\n",
      "[LightGBM] [Debug] Trained a tree with leaves = 128 and depth = 8\n",
      "[LightGBM] [Debug] Trained a tree with leaves = 128 and depth = 8\n",
      "[LightGBM] [Debug] Trained a tree with leaves = 128 and depth = 8\n",
      "[LightGBM] [Debug] Trained a tree with leaves = 128 and depth = 8\n",
      "[LightGBM] [Debug] Trained a tree with leaves = 128 and depth = 8\n",
      "[LightGBM] [Debug] Trained a tree with leaves = 128 and depth = 8\n",
      "[LightGBM] [Debug] Trained a tree with leaves = 128 and depth = 8\n",
      "[LightGBM] [Debug] Trained a tree with leaves = 128 and depth = 8\n",
      "[LightGBM] [Debug] Trained a tree with leaves = 128 and depth = 8\n",
      "[LightGBM] [Debug] Trained a tree with leaves = 128 and depth = 8\n",
      "[LightGBM] [Debug] Trained a tree with leaves = 128 and depth = 8\n",
      "[LightGBM] [Debug] Trained a tree with leaves = 128 and depth = 8\n",
      "[LightGBM] [Debug] Trained a tree with leaves = 128 and depth = 8\n",
      "[LightGBM] [Debug] Trained a tree with leaves = 128 and depth = 8\n",
      "[LightGBM] [Debug] Trained a tree with leaves = 128 and depth = 8\n",
      "[LightGBM] [Debug] Trained a tree with leaves = 128 and depth = 8\n",
      "[LightGBM] [Debug] Trained a tree with leaves = 128 and depth = 8\n",
      "[LightGBM] [Debug] Trained a tree with leaves = 128 and depth = 8\n",
      "[LightGBM] [Debug] Trained a tree with leaves = 128 and depth = 8\n",
      "[LightGBM] [Debug] Trained a tree with leaves = 128 and depth = 8\n",
      "[LightGBM] [Debug] Trained a tree with leaves = 128 and depth = 8\n",
      "[LightGBM] [Debug] Trained a tree with leaves = 128 and depth = 8\n",
      "[LightGBM] [Debug] Trained a tree with leaves = 128 and depth = 8\n",
      "[LightGBM] [Debug] Trained a tree with leaves = 128 and depth = 8\n",
      "[LightGBM] [Debug] Trained a tree with leaves = 128 and depth = 8\n",
      "[LightGBM] [Debug] Trained a tree with leaves = 128 and depth = 8\n",
      "[LightGBM] [Debug] Trained a tree with leaves = 128 and depth = 8\n",
      "[LightGBM] [Debug] Trained a tree with leaves = 128 and depth = 8\n",
      "[LightGBM] [Debug] Trained a tree with leaves = 128 and depth = 8\n",
      "[LightGBM] [Debug] Trained a tree with leaves = 128 and depth = 8\n",
      "[LightGBM] [Debug] Trained a tree with leaves = 128 and depth = 8\n",
      "[LightGBM] [Debug] Trained a tree with leaves = 128 and depth = 8\n",
      "[LightGBM] [Debug] Trained a tree with leaves = 128 and depth = 8\n",
      "[LightGBM] [Debug] Trained a tree with leaves = 128 and depth = 8\n",
      "[LightGBM] [Debug] Trained a tree with leaves = 128 and depth = 8\n",
      "[LightGBM] [Debug] Trained a tree with leaves = 128 and depth = 8\n",
      "[LightGBM] [Debug] Trained a tree with leaves = 128 and depth = 8\n",
      "[LightGBM] [Debug] Trained a tree with leaves = 128 and depth = 8\n",
      "[LightGBM] [Debug] Trained a tree with leaves = 128 and depth = 8\n",
      "[LightGBM] [Debug] Trained a tree with leaves = 128 and depth = 8\n",
      "[LightGBM] [Debug] Trained a tree with leaves = 128 and depth = 8\n",
      "[LightGBM] [Debug] Trained a tree with leaves = 128 and depth = 8\n",
      "[LightGBM] [Debug] Trained a tree with leaves = 128 and depth = 8\n",
      "[LightGBM] [Debug] Trained a tree with leaves = 128 and depth = 8\n",
      "[LightGBM] [Debug] Trained a tree with leaves = 128 and depth = 8\n",
      "[LightGBM] [Debug] Trained a tree with leaves = 128 and depth = 8\n",
      "[LightGBM] [Debug] Trained a tree with leaves = 128 and depth = 8\n",
      "[LightGBM] [Debug] Trained a tree with leaves = 128 and depth = 8\n",
      "[LightGBM] [Debug] Trained a tree with leaves = 128 and depth = 8\n",
      "[LightGBM] [Debug] Trained a tree with leaves = 128 and depth = 8\n",
      "[LightGBM] [Debug] Trained a tree with leaves = 128 and depth = 8\n",
      "[LightGBM] [Debug] Trained a tree with leaves = 128 and depth = 8\n",
      "[LightGBM] [Debug] Trained a tree with leaves = 128 and depth = 8\n",
      "[LightGBM] [Debug] Trained a tree with leaves = 128 and depth = 8\n",
      "[LightGBM] [Debug] Trained a tree with leaves = 128 and depth = 8\n",
      "[LightGBM] [Debug] Trained a tree with leaves = 128 and depth = 8\n",
      "[LightGBM] [Debug] Trained a tree with leaves = 128 and depth = 8\n",
      "[LightGBM] [Debug] Trained a tree with leaves = 128 and depth = 8\n",
      "[LightGBM] [Debug] Trained a tree with leaves = 128 and depth = 8\n",
      "[LightGBM] [Debug] Trained a tree with leaves = 128 and depth = 8\n",
      "[LightGBM] [Debug] Trained a tree with leaves = 128 and depth = 8\n",
      "[LightGBM] [Debug] Trained a tree with leaves = 128 and depth = 8\n",
      "[LightGBM] [Debug] Trained a tree with leaves = 128 and depth = 8\n",
      "[LightGBM] [Debug] Trained a tree with leaves = 128 and depth = 8\n",
      "[LightGBM] [Debug] Trained a tree with leaves = 128 and depth = 8\n",
      "[LightGBM] [Debug] Trained a tree with leaves = 128 and depth = 8\n",
      "[LightGBM] [Debug] Trained a tree with leaves = 128 and depth = 8\n",
      "[LightGBM] [Debug] Trained a tree with leaves = 128 and depth = 8\n",
      "[LightGBM] [Debug] Trained a tree with leaves = 128 and depth = 8\n",
      "[LightGBM] [Debug] Trained a tree with leaves = 128 and depth = 8\n",
      "[LightGBM] [Debug] Trained a tree with leaves = 128 and depth = 8\n",
      "[LightGBM] [Debug] Trained a tree with leaves = 128 and depth = 8\n",
      "[LightGBM] [Debug] Trained a tree with leaves = 128 and depth = 8\n",
      "[LightGBM] [Debug] Trained a tree with leaves = 128 and depth = 8\n",
      "[LightGBM] [Debug] Trained a tree with leaves = 128 and depth = 8\n",
      "[LightGBM] [Debug] Trained a tree with leaves = 128 and depth = 8\n",
      "[LightGBM] [Debug] Trained a tree with leaves = 128 and depth = 8\n",
      "[LightGBM] [Debug] Trained a tree with leaves = 128 and depth = 8\n",
      "[LightGBM] [Debug] Trained a tree with leaves = 128 and depth = 8\n",
      "[LightGBM] [Debug] Trained a tree with leaves = 128 and depth = 8\n",
      "[LightGBM] [Debug] Trained a tree with leaves = 128 and depth = 8\n",
      "[LightGBM] [Debug] Trained a tree with leaves = 128 and depth = 8\n",
      "[LightGBM] [Debug] Trained a tree with leaves = 128 and depth = 8\n",
      "[LightGBM] [Debug] Trained a tree with leaves = 128 and depth = 8\n",
      "[LightGBM] [Debug] Trained a tree with leaves = 128 and depth = 8\n",
      "[LightGBM] [Debug] Trained a tree with leaves = 128 and depth = 8\n",
      "[LightGBM] [Debug] Trained a tree with leaves = 128 and depth = 8\n",
      "[LightGBM] [Debug] Trained a tree with leaves = 128 and depth = 8\n",
      "[LightGBM] [Debug] Trained a tree with leaves = 128 and depth = 8\n",
      "[LightGBM] [Debug] Trained a tree with leaves = 128 and depth = 8\n",
      "[LightGBM] [Debug] Trained a tree with leaves = 128 and depth = 8\n",
      "[LightGBM] [Debug] Trained a tree with leaves = 128 and depth = 8\n",
      "[LightGBM] [Debug] Trained a tree with leaves = 128 and depth = 8\n",
      "[LightGBM] [Debug] Trained a tree with leaves = 128 and depth = 8\n",
      "[LightGBM] [Debug] Trained a tree with leaves = 128 and depth = 8\n",
      "[LightGBM] [Debug] Trained a tree with leaves = 128 and depth = 8\n",
      "[LightGBM] [Debug] Trained a tree with leaves = 128 and depth = 8\n",
      "[LightGBM] [Debug] Trained a tree with leaves = 128 and depth = 8\n",
      "[LightGBM] [Debug] Trained a tree with leaves = 128 and depth = 8\n",
      "[LightGBM] [Debug] Trained a tree with leaves = 128 and depth = 8\n",
      "[LightGBM] [Debug] Trained a tree with leaves = 128 and depth = 8\n",
      "[LightGBM] [Debug] Trained a tree with leaves = 128 and depth = 8\n",
      "[LightGBM] [Debug] Trained a tree with leaves = 128 and depth = 8\n",
      "[LightGBM] [Debug] Trained a tree with leaves = 128 and depth = 8\n",
      "[LightGBM] [Debug] Trained a tree with leaves = 128 and depth = 8\n",
      "[LightGBM] [Debug] Trained a tree with leaves = 128 and depth = 8\n",
      "[LightGBM] [Debug] Trained a tree with leaves = 128 and depth = 8\n",
      "[LightGBM] [Debug] Trained a tree with leaves = 128 and depth = 8\n",
      "[LightGBM] [Debug] Trained a tree with leaves = 128 and depth = 8\n",
      "[LightGBM] [Debug] Trained a tree with leaves = 128 and depth = 8\n",
      "[LightGBM] [Debug] Trained a tree with leaves = 128 and depth = 8\n",
      "[LightGBM] [Debug] Trained a tree with leaves = 128 and depth = 8\n",
      "[LightGBM] [Debug] Trained a tree with leaves = 128 and depth = 8\n",
      "[LightGBM] [Debug] Trained a tree with leaves = 128 and depth = 8\n",
      "[LightGBM] [Debug] Trained a tree with leaves = 128 and depth = 8\n",
      "[LightGBM] [Debug] Trained a tree with leaves = 128 and depth = 8\n",
      "[LightGBM] [Debug] Trained a tree with leaves = 128 and depth = 8\n",
      "[LightGBM] [Debug] Trained a tree with leaves = 128 and depth = 8\n",
      "[LightGBM] [Debug] Trained a tree with leaves = 128 and depth = 8\n",
      "[LightGBM] [Warning] No further splits with positive gain, best gain: -inf\n",
      "[LightGBM] [Debug] Trained a tree with leaves = 111 and depth = 8\n",
      "[LightGBM] [Debug] Trained a tree with leaves = 128 and depth = 8\n",
      "[LightGBM] [Debug] Trained a tree with leaves = 128 and depth = 8\n",
      "[LightGBM] [Warning] No further splits with positive gain, best gain: -inf\n",
      "[LightGBM] [Debug] Trained a tree with leaves = 117 and depth = 8\n",
      "[LightGBM] [Debug] Trained a tree with leaves = 128 and depth = 8\n",
      "[LightGBM] [Debug] Trained a tree with leaves = 128 and depth = 8\n",
      "[LightGBM] [Debug] Trained a tree with leaves = 128 and depth = 8\n",
      "[LightGBM] [Debug] Trained a tree with leaves = 128 and depth = 8\n",
      "[LightGBM] [Debug] Trained a tree with leaves = 128 and depth = 8\n",
      "[LightGBM] [Warning] No further splits with positive gain, best gain: -inf\n",
      "[LightGBM] [Debug] Trained a tree with leaves = 125 and depth = 8\n",
      "[LightGBM] [Debug] Trained a tree with leaves = 128 and depth = 8\n",
      "[LightGBM] [Warning] No further splits with positive gain, best gain: -inf\n",
      "[LightGBM] [Debug] Trained a tree with leaves = 110 and depth = 8\n",
      "[LightGBM] [Debug] Trained a tree with leaves = 128 and depth = 8\n",
      "[LightGBM] [Warning] No further splits with positive gain, best gain: -inf\n",
      "[LightGBM] [Debug] Trained a tree with leaves = 124 and depth = 8\n",
      "[LightGBM] [Debug] Trained a tree with leaves = 128 and depth = 8\n",
      "[LightGBM] [Debug] Trained a tree with leaves = 128 and depth = 8\n",
      "[LightGBM] [Warning] No further splits with positive gain, best gain: -inf\n",
      "[LightGBM] [Debug] Trained a tree with leaves = 114 and depth = 8\n",
      "[LightGBM] [Debug] Trained a tree with leaves = 128 and depth = 8\n",
      "[LightGBM] [Debug] Trained a tree with leaves = 128 and depth = 8\n",
      "[LightGBM] [Debug] Trained a tree with leaves = 128 and depth = 8\n",
      "[LightGBM] [Warning] No further splits with positive gain, best gain: -inf\n",
      "[LightGBM] [Debug] Trained a tree with leaves = 110 and depth = 8\n",
      "[LightGBM] [Debug] Trained a tree with leaves = 128 and depth = 8\n",
      "[LightGBM] [Debug] Trained a tree with leaves = 128 and depth = 8\n",
      "[LightGBM] [Debug] Trained a tree with leaves = 128 and depth = 8\n",
      "[LightGBM] [Debug] Trained a tree with leaves = 128 and depth = 8\n",
      "[LightGBM] [Debug] Trained a tree with leaves = 128 and depth = 8\n",
      "[LightGBM] [Debug] Trained a tree with leaves = 128 and depth = 8\n",
      "[LightGBM] [Debug] Trained a tree with leaves = 128 and depth = 8\n",
      "[LightGBM] [Debug] Trained a tree with leaves = 128 and depth = 8\n",
      "[LightGBM] [Debug] Trained a tree with leaves = 128 and depth = 8\n",
      "[LightGBM] [Debug] Trained a tree with leaves = 128 and depth = 8\n",
      "[LightGBM] [Debug] Trained a tree with leaves = 128 and depth = 8\n",
      "[LightGBM] [Warning] No further splits with positive gain, best gain: -inf\n",
      "[LightGBM] [Debug] Trained a tree with leaves = 127 and depth = 8\n",
      "[LightGBM] [Debug] Trained a tree with leaves = 128 and depth = 8\n",
      "[LightGBM] [Debug] Trained a tree with leaves = 128 and depth = 8\n",
      "[LightGBM] [Debug] Trained a tree with leaves = 128 and depth = 8\n",
      "[LightGBM] [Warning] No further splits with positive gain, best gain: -inf\n",
      "[LightGBM] [Debug] Trained a tree with leaves = 117 and depth = 8\n",
      "[LightGBM] [Debug] Trained a tree with leaves = 128 and depth = 8\n",
      "[LightGBM] [Debug] Trained a tree with leaves = 128 and depth = 8\n",
      "CPU times: user 2min 21s, sys: 667 ms, total: 2min 22s\n",
      "Wall time: 2min 25s\n"
     ]
    },
    {
     "data": {
      "text/plain": [
       "LGBMRegressor(force_col_wise='true', learning_rate=0.005, max_bin=512,\n",
       "              max_depth=8, metric=['rmse'], num_boost_round=1000,\n",
       "              num_leaves=128, objective='regression', task='train', verbose=10)"
      ]
     },
     "execution_count": 37,
     "metadata": {},
     "output_type": "execute_result"
    }
   ],
   "source": [
    " %%time\n",
    "\n",
    "    hyper_params = {\n",
    "     'task': 'train',\n",
    "     'boosting_type': 'gbdt',\n",
    "     'objective': 'regression',\n",
    "     'metric': ['rmse'],\n",
    "     'learning_rate': 0.005,\n",
    "     'verbose': 10,\n",
    "     \"max_depth\": 8,\n",
    "     \"num_leaves\": 128,  \n",
    "     \"max_bin\": 512,\n",
    "     'num_boost_round': 1000,\n",
    "     'force_col_wise': 'true'\n",
    " }\n",
    "\n",
    "LGBM_model = LGBMRegressor(**hyper_params)\n",
    "LGBM_model.fit(features_train_new_df, target_train_new_df, categorical_feature=categorical_feature, verbose=False)"
   ]
  },
  {
   "cell_type": "markdown",
   "metadata": {},
   "source": [
    "<div class=\"alert alert-info\">\n",
    "<h2> Комментарий студента v.4: \n",
    "    <a class=\"tocSkip\"> </h2>\n",
    "    Модель обучается слишком долго, подскажешь что нужно поменять?"
   ]
  },
  {
   "cell_type": "markdown",
   "metadata": {},
   "source": [
    "<div class=\"alert alert-warning\">\n",
    "    <h2> Комментарий ревьюера v.4 <a class=\"tocSkip\"> </h2>\n",
    "    \n",
    "<b>Некоторые замечания и рекомендации💡:</b> \n",
    "        \n",
    "Если модель обучается слишком долго, можно уменьшить значения num_boost_round и early_stopping_rounds."
   ]
  },
  {
   "cell_type": "markdown",
   "metadata": {},
   "source": [
    " <br/>\n",
    "<div class=\"alert alert-block alert-danger\">\n",
    "<h2> Комментарий ревьюера v.2 <a class=\"tocSkip\"></h2>\n",
    "    \n",
    "<b>На доработку🤔:</b>\n",
    "\n",
    "</b> Ячейка выше не отработала. Перед отправкой проекта стоит проверять работоспособность кода - это можно сделать, нажав на панели Jupiter Hub `Kernel` и `Restart & Run All`. Исправь, пожалуйста."
   ]
  },
  {
   "cell_type": "markdown",
   "metadata": {},
   "source": [
    "<div class=\"alert alert-info\">\n",
    "<h2> Комментарий студента v.3: \n",
    "    <a class=\"tocSkip\"> </h2>\n",
    "    Все та же ошибка, я каждый раз делаю Restart & Run All не помогает. Если посмотреть на ячейку выше то там видно что столбцы поменяли свой тип дынных."
   ]
  },
  {
   "cell_type": "markdown",
   "metadata": {},
   "source": [
    "<div class=\"alert alert-success\">\n",
    "<h2> Комментарий ревьюера v.5 <a class=\"tocSkip\"> </h2>\n",
    "\n",
    "<b>Все отлично!👍:</b>"
   ]
  },
  {
   "cell_type": "code",
   "execution_count": 38,
   "metadata": {
    "scrolled": true
   },
   "outputs": [],
   "source": [
    "# %%time\n",
    "\n",
    "# model_lgbm = lightgbm.train(parameters,\n",
    "#                        features_train_new_df, \n",
    "#                        valid_sets=target_train_new_df,\n",
    "#                        num_boost_round = 1000,\n",
    "#                         early_stopping_rounds = 100,\n",
    "#                         categorical_feature=categorical_feature)"
   ]
  },
  {
   "cell_type": "markdown",
   "metadata": {},
   "source": [
    "<div class=\"alert alert-info\">\n",
    "<h2> Комментарий студента: \n",
    "    <a class=\"tocSkip\"> </h2>\n",
    "    Не понимаю почему вылезает ошибка. Мне нужно было делать второе деление на выборки без учета кодирования? Какая разница между модеями с  fit и train? Функция потерь же встроена как параметр в модели, как отделить время на обучение без подбора гиперпараметров?"
   ]
  },
  {
   "cell_type": "markdown",
   "metadata": {},
   "source": [
    "<br/>\n",
    "<div class=\"alert alert-block alert-danger\">\n",
    "<h2> Комментарий ревьюера v.2 <a class=\"tocSkip\"></h2>\n",
    "\n",
    "    \n",
    "<b>На доработку🤔:</b>\n",
    "    \n",
    "- features_train_new_df содержит признаки с типом 'object', их следует перевести в тип 'category'.\n",
    "- Да, нужно делать второе деление на выборки без учета кодирования и с правильными типами.\n",
    "- В целом разницы быть не должно, lightgbm умеет работать с двумя этими методами. В случае fit нам придется еще вызывать predict(X_valid).\n",
    "- Если не получается обучение с некодированной выборкой, можешь использовать взамен OE-кодированную выборку.    \n",
    "</div>"
   ]
  },
  {
   "cell_type": "markdown",
   "metadata": {},
   "source": [
    "<div class=\"alert alert-success\">\n",
    "<h2> Комментарий ревьюера v.5 <a class=\"tocSkip\"> </h2>\n",
    "\n",
    "<b>Все отлично!👍:</b>"
   ]
  },
  {
   "cell_type": "markdown",
   "metadata": {},
   "source": [
    "<br/>\n",
    "<div class=\"alert alert-block alert-danger\">\n",
    "<h2> Комментарий ревьюера <a class=\"tocSkip\"></h2>\n",
    "    \n",
    "<b>На доработку🤔:</b>\n",
    "    \n",
    "Нам следует выбрать лучшую модель по соотношению время/качество, а для этого нужно получить как время обучения на обучающей выборке (без учета времени на подбор гиперпараметров), так и время предсказания на валидационной выборке и RMSE на валидационной выборке, занести всё в табличку и выбрать лучшую модель.\n",
    "    \n",
    "    \n",
    "Если валидациционной выборки нет, то анализ моделей должен выглядеть так:\n",
    "\n",
    "1. RMSE вычисляется на валидационной выборке.\n",
    "2. Время обучения = время model.fit(X_train, y_train)\n",
    "3. Время предсказания = model.predict(X_valid)\n",
    "</div>"
   ]
  },
  {
   "cell_type": "markdown",
   "metadata": {},
   "source": [
    "<div class=\"alert alert-success\">\n",
    "<h2> Комментарий ревьюера v.5 <a class=\"tocSkip\"> </h2>\n",
    "\n",
    "<b>Все отлично!👍:</b>"
   ]
  },
  {
   "cell_type": "markdown",
   "metadata": {},
   "source": [
    "Обучила модель LightGBM, значение RMSE мельше 2500."
   ]
  },
  {
   "cell_type": "markdown",
   "metadata": {},
   "source": [
    " <br/>\n",
    "<div class=\"alert alert-block alert-danger\">\n",
    "<h2> Комментарий ревьюера  <a class=\"tocSkip\"></h2>\n",
    "    \n",
    "<b>На доработку🤔:</b>\n",
    "\n",
    "Есть такой момент, что бустинговые модели плохо работают с ОНЕ-выборками. В помощь датасаентистам модели CatBoost и LightGBM умеют работать с данными как есть, сырые данные для них можно не категоризовать. И в этом спринте есть возможность отработать и попробовать этот способ. Также можно потом сравнить такую модель с аналогичной бустинговой моделью, обученной на OE-признаках. Привожу пример ниже:\n",
    "        \n",
    "Код ревьюера:\n",
    "```python\n",
    "cat_features = ['VehicleType', 'Gearbox', 'Model', 'FuelType', 'NotRepaired', 'Brand']  \n",
    "#(нужно их перевести в category)\n",
    "\n",
    "LGBM_model = LGBMRegressor(...)\n",
    "LGBM_model.fit(X_train, y_train, cat_features=cat_features, verbose=False)\n",
    "\n",
    "```\n"
   ]
  },
  {
   "cell_type": "markdown",
   "metadata": {},
   "source": [
    "<div class=\"alert alert-success\">\n",
    "<h2> Комментарий ревьюера v.5 <a class=\"tocSkip\"> </h2>\n",
    "\n",
    "<b>Все отлично!👍:</b>"
   ]
  },
  {
   "cell_type": "code",
   "execution_count": 39,
   "metadata": {},
   "outputs": [
    {
     "name": "stdout",
     "output_type": "stream",
     "text": [
      "CPU times: user 17.2 s, sys: 4.34 ms, total: 17.2 s\n",
      "Wall time: 17.1 s\n"
     ]
    },
    {
     "data": {
      "text/plain": [
       "1631.363658741122"
      ]
     },
     "execution_count": 39,
     "metadata": {},
     "output_type": "execute_result"
    }
   ],
   "source": [
    "%%time\n",
    "\n",
    "predictions_valid_LGBM = LGBM_model.predict(features_valid_new_df)\n",
    "RMSE = mean_squared_error(target_valid, predictions_valid_LGBM)**0.5\n",
    "RMSE"
   ]
  },
  {
   "cell_type": "markdown",
   "metadata": {},
   "source": [
    "Хорошее качество, однако много времени на предсказание."
   ]
  },
  {
   "cell_type": "code",
   "execution_count": 40,
   "metadata": {},
   "outputs": [],
   "source": [
    "LRmodel = LinearRegression()"
   ]
  },
  {
   "cell_type": "code",
   "execution_count": 41,
   "metadata": {},
   "outputs": [
    {
     "name": "stdout",
     "output_type": "stream",
     "text": [
      "CPU times: user 13.2 s, sys: 4 s, total: 17.2 s\n",
      "Wall time: 17.2 s\n"
     ]
    },
    {
     "data": {
      "text/plain": [
       "LinearRegression()"
      ]
     },
     "execution_count": 41,
     "metadata": {},
     "output_type": "execute_result"
    }
   ],
   "source": [
    "%%time\n",
    "\n",
    "LRmodel.fit(features_train, target_train)"
   ]
  },
  {
   "cell_type": "code",
   "execution_count": 42,
   "metadata": {},
   "outputs": [
    {
     "name": "stdout",
     "output_type": "stream",
     "text": [
      "CPU times: user 97.8 ms, sys: 51.4 ms, total: 149 ms\n",
      "Wall time: 120 ms\n"
     ]
    },
    {
     "data": {
      "text/plain": [
       "2872.980169417151"
      ]
     },
     "execution_count": 42,
     "metadata": {},
     "output_type": "execute_result"
    }
   ],
   "source": [
    "%%time\n",
    "\n",
    "predictions_valid_LR = LRmodel.predict(features_valid)\n",
    "RMSE = mean_squared_error(target_valid, predictions_valid_LR)**0.5\n",
    "RMSE"
   ]
  },
  {
   "cell_type": "markdown",
   "metadata": {},
   "source": [
    "<div class=\"alert alert-info\">\n",
    "<h2> Комментарий студента v.4: \n",
    "    <a class=\"tocSkip\"> </h2>\n",
    "    Не понимаю почему такая огромная ошибка?"
   ]
  },
  {
   "cell_type": "markdown",
   "metadata": {},
   "source": [
    "<div class=\"alert alert-warning\">\n",
    "    <h2> Комментарий ревьюера v.4 <a class=\"tocSkip\"> </h2>\n",
    "    \n",
    "<b>Некоторые замечания и рекомендации💡:</b> \n",
    "        \n",
    "Не могу запустить код в этом месте, т.к. выше по проекту умирает ядро. Возможная причина - мультиколлениарность признаков. Такие признаки исключают перед обучением линейной регрессии. "
   ]
  },
  {
   "cell_type": "markdown",
   "metadata": {},
   "source": [
    "<div class=\"alert alert-info\">\n",
    "<h2> Комментарий студента v.5: \n",
    "    <a class=\"tocSkip\"> </h2>\n",
    "    У меня больше не вылезают ошибки и код везде запускается."
   ]
  },
  {
   "cell_type": "markdown",
   "metadata": {},
   "source": [
    "<div class=\"alert alert-success\">\n",
    "<h2> Комментарий ревьюера v.5 <a class=\"tocSkip\"> </h2>\n",
    "\n",
    "<b>Все отлично!👍:</b>"
   ]
  },
  {
   "cell_type": "markdown",
   "metadata": {},
   "source": [
    "На модели линейной регресси получили плохой результат. Попробуем другую модель."
   ]
  },
  {
   "cell_type": "code",
   "execution_count": 43,
   "metadata": {},
   "outputs": [],
   "source": [
    "RFmodel_1 = RandomForestRegressor(random_state=42, n_estimators=10, max_depth = 10)"
   ]
  },
  {
   "cell_type": "code",
   "execution_count": 44,
   "metadata": {},
   "outputs": [
    {
     "name": "stdout",
     "output_type": "stream",
     "text": [
      "CPU times: user 24.7 s, sys: 216 ms, total: 24.9 s\n",
      "Wall time: 24.9 s\n"
     ]
    },
    {
     "data": {
      "text/plain": [
       "RandomForestRegressor(max_depth=10, n_estimators=10, random_state=42)"
      ]
     },
     "execution_count": 44,
     "metadata": {},
     "output_type": "execute_result"
    }
   ],
   "source": [
    "%%time\n",
    "\n",
    "RFmodel_1.fit(features_train, target_train)"
   ]
  },
  {
   "cell_type": "code",
   "execution_count": 45,
   "metadata": {},
   "outputs": [
    {
     "name": "stdout",
     "output_type": "stream",
     "text": [
      "CPU times: user 111 ms, sys: 67.7 ms, total: 179 ms\n",
      "Wall time: 182 ms\n"
     ]
    },
    {
     "data": {
      "text/plain": [
       "1952.497405878999"
      ]
     },
     "execution_count": 45,
     "metadata": {},
     "output_type": "execute_result"
    }
   ],
   "source": [
    "%%time\n",
    "\n",
    "predictions_valid_RF = RFmodel_1.predict(features_valid)\n",
    "RMSE = mean_squared_error(target_valid, predictions_valid_RF)**0.5\n",
    "RMSE"
   ]
  },
  {
   "cell_type": "markdown",
   "metadata": {},
   "source": [
    "На модели случайный лес получили ошибку меньше 2500. Попробуем туже модель с другими параметрами."
   ]
  },
  {
   "cell_type": "code",
   "execution_count": 46,
   "metadata": {},
   "outputs": [],
   "source": [
    "RFmodel_2 = RandomForestRegressor(random_state=42, n_estimators=15, max_depth = 20)"
   ]
  },
  {
   "cell_type": "code",
   "execution_count": 47,
   "metadata": {},
   "outputs": [
    {
     "name": "stdout",
     "output_type": "stream",
     "text": [
      "CPU times: user 55.7 s, sys: 319 ms, total: 56.1 s\n",
      "Wall time: 56.3 s\n"
     ]
    },
    {
     "data": {
      "text/plain": [
       "RandomForestRegressor(max_depth=20, n_estimators=15, random_state=42)"
      ]
     },
     "execution_count": 47,
     "metadata": {},
     "output_type": "execute_result"
    }
   ],
   "source": [
    "%%time\n",
    "\n",
    "RFmodel_2.fit(features_train, target_train)"
   ]
  },
  {
   "cell_type": "code",
   "execution_count": 48,
   "metadata": {},
   "outputs": [
    {
     "name": "stdout",
     "output_type": "stream",
     "text": [
      "CPU times: user 344 ms, sys: 47.7 ms, total: 392 ms\n",
      "Wall time: 399 ms\n"
     ]
    },
    {
     "data": {
      "text/plain": [
       "1682.9042374331202"
      ]
     },
     "execution_count": 48,
     "metadata": {},
     "output_type": "execute_result"
    }
   ],
   "source": [
    "%%time\n",
    "\n",
    "predictions_valid_RF = RFmodel_2.predict(features_valid)\n",
    "RMSE = mean_squared_error(target_valid, predictions_valid_RF)**0.5\n",
    "RMSE"
   ]
  },
  {
   "cell_type": "markdown",
   "metadata": {},
   "source": [
    "Ошибка модели стала ниже благодаря другим гиперпараметрам, но она стала медленнее работать."
   ]
  },
  {
   "cell_type": "markdown",
   "metadata": {},
   "source": [
    "<br/>\n",
    "<div class=\"alert alert-block alert-danger\">\n",
    "<h2> Комментарий ревьюера <a class=\"tocSkip\"></h2>\n",
    "\n",
    "    \n",
    "<b>На доработку🤔:</b>\n",
    "\n",
    "Хотя бы для одной модели следует подбирать не менее двух наборов гиперпараметров."
   ]
  },
  {
   "cell_type": "markdown",
   "metadata": {},
   "source": [
    "<div class=\"alert alert-success\">\n",
    "<h2> Комментарий ревьюера v.5 <a class=\"tocSkip\"> </h2>\n",
    "\n",
    "<b>Все отлично!👍:</b>"
   ]
  },
  {
   "cell_type": "markdown",
   "metadata": {},
   "source": [
    "<div class=\"alert alert-warning\">\n",
    "    <h2> Комментарий ревьюера <a class=\"tocSkip\"> </h2>\n",
    "    \n",
    "<b>Некоторые замечания и рекомендации💡:</b>\n",
    "\n",
    "Если используешь модели на основе деревьев, то в данном случае категориальные признаки следует кодировать методом OE. (для линейных моделей применяют OHE-кодирование). Напомню, что если проводишь кодирование признаков, то кодировать следует только категориальные признаки, без численных.\n",
    "                \n",
    "</div>"
   ]
  },
  {
   "cell_type": "markdown",
   "metadata": {},
   "source": [
    "## Анализ моделей"
   ]
  },
  {
   "cell_type": "code",
   "execution_count": 49,
   "metadata": {},
   "outputs": [],
   "source": [
    "model_1 = {'Время обучения, сек': 174,\n",
    "            'Время предсказания, сек': 17.5,\n",
    "            'RMSE': 1651.36}\n",
    "model_2 = {'Время обучения, сек': 20.8,\n",
    "              'Время предсказания, сек': 0.199,\n",
    "              'RMSE': 2872.98}\n",
    "model_3 = {'Время обучения, сек': 49.6,\n",
    "              'Время предсказания, сек': 0.364 ,\n",
    "              'RMSE': 1682.9}"
   ]
  },
  {
   "cell_type": "code",
   "execution_count": 50,
   "metadata": {},
   "outputs": [],
   "source": [
    "Models = pd.DataFrame([model_1, model_2, model_3], \n",
    "                      index=['LightGBM', 'LinearRegression', 'RandomForest'])"
   ]
  },
  {
   "cell_type": "code",
   "execution_count": 51,
   "metadata": {},
   "outputs": [
    {
     "data": {
      "text/html": [
       "<div>\n",
       "<style scoped>\n",
       "    .dataframe tbody tr th:only-of-type {\n",
       "        vertical-align: middle;\n",
       "    }\n",
       "\n",
       "    .dataframe tbody tr th {\n",
       "        vertical-align: top;\n",
       "    }\n",
       "\n",
       "    .dataframe thead th {\n",
       "        text-align: right;\n",
       "    }\n",
       "</style>\n",
       "<table border=\"1\" class=\"dataframe\">\n",
       "  <thead>\n",
       "    <tr style=\"text-align: right;\">\n",
       "      <th></th>\n",
       "      <th>Время обучения, сек</th>\n",
       "      <th>Время предсказания, сек</th>\n",
       "      <th>RMSE</th>\n",
       "    </tr>\n",
       "  </thead>\n",
       "  <tbody>\n",
       "    <tr>\n",
       "      <th>LightGBM</th>\n",
       "      <td>174.0</td>\n",
       "      <td>17.500</td>\n",
       "      <td>1651.36</td>\n",
       "    </tr>\n",
       "    <tr>\n",
       "      <th>LinearRegression</th>\n",
       "      <td>20.8</td>\n",
       "      <td>0.199</td>\n",
       "      <td>2872.98</td>\n",
       "    </tr>\n",
       "    <tr>\n",
       "      <th>RandomForest</th>\n",
       "      <td>49.6</td>\n",
       "      <td>0.364</td>\n",
       "      <td>1682.90</td>\n",
       "    </tr>\n",
       "  </tbody>\n",
       "</table>\n",
       "</div>"
      ],
      "text/plain": [
       "                  Время обучения, сек  Время предсказания, сек     RMSE\n",
       "LightGBM                        174.0                   17.500  1651.36\n",
       "LinearRegression                 20.8                    0.199  2872.98\n",
       "RandomForest                     49.6                    0.364  1682.90"
      ]
     },
     "execution_count": 51,
     "metadata": {},
     "output_type": "execute_result"
    }
   ],
   "source": [
    "Models"
   ]
  },
  {
   "cell_type": "markdown",
   "metadata": {},
   "source": [
    "Итак, модели обучены. Исходя из таблице выше можно сделать вывод, что:\n",
    "\n",
    "Самое высокое качество предсказания у модели LightGBM\n",
    "\n",
    "Самое быстрое время обучения и предсказания у модели LinearRegression, но при этом низкое качество\n",
    "\n",
    "Исходя из таблицы, то по всем трём параметрам выигрывает RandomForest, хоть и время обучения у неё выше, но качество и скорость предсказания достаточно высокие. Так что можно сделать вывод, что наилучшая модель для заказчика это RandomForest."
   ]
  },
  {
   "cell_type": "markdown",
   "metadata": {},
   "source": [
    "### Опираясь на критерии заказчика, выберете лучшую модель, проверьте её качество на тестовой выборке."
   ]
  },
  {
   "cell_type": "code",
   "execution_count": 52,
   "metadata": {},
   "outputs": [
    {
     "name": "stdout",
     "output_type": "stream",
     "text": [
      "CPU times: user 317 ms, sys: 75.5 ms, total: 393 ms\n",
      "Wall time: 405 ms\n"
     ]
    },
    {
     "data": {
      "text/plain": [
       "1684.2118908523464"
      ]
     },
     "execution_count": 52,
     "metadata": {},
     "output_type": "execute_result"
    }
   ],
   "source": [
    "%%time\n",
    "\n",
    "predictions_test_RF = RFmodel_2.predict(features_test)\n",
    "RMSE = mean_squared_error(target_test, predictions_test_RF)**0.5\n",
    "RMSE"
   ]
  },
  {
   "cell_type": "markdown",
   "metadata": {},
   "source": [
    "RMSE на тестовой выборке показало практически такой же результат, как и на валидационной."
   ]
  },
  {
   "cell_type": "markdown",
   "metadata": {},
   "source": [
    "<br/>\n",
    "<div class=\"alert alert-block alert-danger\">\n",
    "<h2> Комментарий ревьюера v.5 <a class=\"tocSkip\"></h2>\n",
    "    \n",
    "<b>На доработку🤔:</b>\n",
    "    \n",
    "Некорректно проводить обучение на тесте. Так модель обучается заново. Следует лишь сделать предсказание методом `predict` на тестовой выборке. Исправь, пожалуйста.\n",
    " </div>"
   ]
  },
  {
   "cell_type": "markdown",
   "metadata": {},
   "source": [
    "<div class=\"alert alert-info\">\n",
    "<h2> Комментарий студента v.6: \n",
    "    <a class=\"tocSkip\"> </h2>\n",
    "    Скорректировала, спасибо. "
   ]
  },
  {
   "cell_type": "markdown",
   "metadata": {},
   "source": [
    "<div class=\"alert alert-success\">\n",
    "<h2> Комментарий ревьюера v.6 <a class=\"tocSkip\"> </h2>\n",
    "\n",
    "<b>Все отлично!👍:</b>"
   ]
  },
  {
   "cell_type": "markdown",
   "metadata": {},
   "source": [
    "<div style=\"border:solid Chocolate 2px; padding: 40px\">\n",
    "\n",
    "\n",
    "<h2> Итоговый комментарий ревьюера v.1 <a class=\"tocSkip\"> </h2>    \n",
    "    \n",
    "  \n",
    "У меня сложилось хорошее общее впечатление о проекте, тебе удалось неплохо справиться с таким сложным проектом. Молодец! Подготовлены данные для анализа и проанализированы, изучен каждый параметр. Построено несколько моделей регрессии, оценены их качество и скорость работы. Осмысленная аналитика и дельная модельная работа - многое удалось как надо)\n",
    "    \n",
    "Отмечу отдельные положительные моменты проекта🙂:\n",
    "    \n",
    "- используется кодирование категориальных признаков;\n",
    "- при обучении моделей использована валидация.\n",
    "- аномалии обрабатываются в проекте.\n",
    "    \n",
    "\n",
    "    \n",
    "Есть несколько моментов всего, на которые стоит ещё раз взглянуть, их я обзначил тебе в комментариях по ходу проекта. \n",
    "Предлагаю тебе доработать проект по моим комментариям, чтобы довести его до совершенства.\n",
    "\n",
    "    \n",
    "Если будут вопросы, обращайся, с удовольствием на них отвечу.  \n",
    "</div>"
   ]
  },
  {
   "cell_type": "markdown",
   "metadata": {},
   "source": [
    "<div style=\"border:solid Chocolate 2px; padding: 40px\">\n",
    "\n",
    "\n",
    "<h2> Итоговый комментарий ревьюера v.2 <a class=\"tocSkip\"> </h2>    \n",
    "    \n",
    "  \n",
    "Есть несколько моментов всего, на которые стоит ещё раз взглянуть, их я обзначил тебе в комментариях по ходу проекта. \n",
    "Предлагаю тебе доработать проект по моим комментариям, чтобы довести его до совершенства.\n",
    "\n",
    "    \n",
    "Если будут вопросы, обращайся, с удовольствием на них отвечу.  \n",
    "</div>"
   ]
  },
  {
   "cell_type": "markdown",
   "metadata": {},
   "source": [
    "<div style=\"border:solid Chocolate 2px; padding: 40px\">\n",
    "\n",
    "\n",
    "<h2> Итоговый комментарий ревьюера v.3 <a class=\"tocSkip\"> </h2>    \n",
    "    \n",
    "  \n",
    "Есть несколько моментов всего, на которые стоит ещё раз взглянуть, их я обзначил тебе в комментариях по ходу проекта с v.1-3: (ты не удалила выше одну из дат, поэтому она закодировалась; исправить неотработавшие ячейки и все красные комментарии после нее. )\n",
    "Предлагаю тебе доработать проект по моим комментариям, чтобы довести его до совершенства.\n",
    "\n",
    "    \n",
    "Если будут вопросы, обращайся, с удовольствием на них отвечу.  \n",
    "</div>"
   ]
  },
  {
   "cell_type": "markdown",
   "metadata": {},
   "source": [
    "<div style=\"border:solid Chocolate 2px; padding: 40px\">\n",
    "\n",
    "\n",
    "<h2> Итоговый комментарий ревьюера v.4 <a class=\"tocSkip\"> </h2>    \n",
    "    \n",
    "  \n",
    "Прошу тебя не удалять мои комментарии. Есть несколько моментов всего, на которые стоит ещё раз взглянуть, их я обзначил тебе в комментариях по ходу проекта с v.1-4, (ты не удалила выше одну из дат, поэтому она закодировалась; исправить неотработавшие ячейки и все красные комментарии после нее. Не все ячейки отработали)\n",
    "Предлагаю тебе доработать проект по моим комментариям, чтобы довести его до совершенства.\n",
    "\n",
    "    \n",
    "Если будут вопросы, обращайся, с удовольствием на них отвечу.  \n",
    "</div>"
   ]
  },
  {
   "cell_type": "markdown",
   "metadata": {},
   "source": [
    "<div style=\"border:solid Chocolate 2px; padding: 40px\">\n",
    "\n",
    "\n",
    "<h2> Итоговый комментарий ревьюера v.5 <a class=\"tocSkip\"> </h2>    \n",
    "    \n",
    "  \n",
    "Осталось поправить проверку на тесте и проект будет зачтен.\n",
    "\n",
    "    \n",
    "Если будут вопросы, обращайся, с удовольствием на них отвечу.  \n",
    "</div>"
   ]
  },
  {
   "cell_type": "markdown",
   "metadata": {},
   "source": [
    "<div class=\"alert alert-success\">\n",
    "<h2> Комментарий ревьюера v.6 <a class=\"tocSkip\"> </h2>\n",
    "\n",
    "<b>Все отлично!👍:</b> \n",
    "\n",
    "Если хочешь лучше разобраться в спринте, то могу посоветовать тебе учебник по ML от ШАД: https://ml-handbook.ru/chapters/grad_boost/intro\n",
    "    \n",
    "статью на Хабре: https://habr.com/ru/company/ods/blog/327250/\n",
    "    \n",
    "и видео: https://www.youtube.com/watch?v=xl1fwCza9C8\n",
    "    \n",
    "а также статью про подбор гиперпараметров с Optuna: https://www.kaggle.com/code/hamzaghanmi/lgbm-hyperparameter-tuning-using-optuna/notebook"
   ]
  },
  {
   "cell_type": "markdown",
   "metadata": {},
   "source": [
    "<div style=\"border:solid Chocolate 2px; padding: 40px\">\n",
    "\n",
    "\n",
    "<h2> Итоговый комментарий ревьюера v.6 <a class=\"tocSkip\"> </h2>    \n",
    "    \n",
    "     \n",
    "  \n",
    "Теперь почти идеально, молодец! Принимаю твой проект)\n",
    "    \n",
    "    \n",
    "В этом проекте много шагов отработано. С интересом читал твои размышления, код и выводы. Что ещё для дальнейшего улучшения качества/скорости моделирования возможно сделать?\n",
    "    \n",
    "Опишу здесь некоторые идеи:\n",
    "    \n",
    "1. Качество данных на входе: ещё раз оценить аномалии, пропуски, проверить согласованность временных признаков.\n",
    "2. Генерация новых полезных признаков (features engineering), например категории возраста автомобиля и т.д.  \n",
    "3. Оценить важность признаков при моделировании, например с использованием feature_importances_, вывести график.    \n",
    "4. Оптимизация подбора гиперпараметров (OptunaSearchCV, RandomizedSearchCV, BayesSearchCV и т.д.)\n",
    "5. Изменение типов данных признаков для ускорения вычислений.\n",
    "6. Анализ остатков (разницы между прогнозом и фактом): выявить, в каких случаях чаще всего ошибается, а в каких выдает наиболее точный результат... \n",
    "    \n",
    "Но цель нашего проекта достигнута: пройдены основные этапы построения модели с учетом ее качества и скорости работы.\n",
    "    \n",
    "Рад был тебе помочь)\n",
    "\n",
    "Преподаватель в Slack будет рад помочь, если у тебя появятся вопросы. Удачи!\n",
    "  \n",
    "</div>"
   ]
  },
  {
   "cell_type": "markdown",
   "metadata": {},
   "source": [
    "## Чек-лист проверки"
   ]
  },
  {
   "cell_type": "markdown",
   "metadata": {},
   "source": [
    "Поставьте 'x' в выполненных пунктах. Далее нажмите Shift+Enter."
   ]
  },
  {
   "cell_type": "markdown",
   "metadata": {},
   "source": [
    "- [x]  Jupyter Notebook открыт\n",
    "- [ ]  Весь код выполняется без ошибок\n",
    "- [ ]  Ячейки с кодом расположены в порядке исполнения\n",
    "- [ ]  Выполнена загрузка и подготовка данных\n",
    "- [ ]  Выполнено обучение моделей\n",
    "- [ ]  Есть анализ скорости работы и качества моделей"
   ]
  },
  {
   "cell_type": "code",
   "execution_count": null,
   "metadata": {},
   "outputs": [],
   "source": []
  }
 ],
 "metadata": {
  "ExecuteTimeLog": [
   {
    "duration": 1076,
    "start_time": "2022-09-08T07:08:11.576Z"
   },
   {
    "duration": 2973,
    "start_time": "2022-09-08T07:08:50.730Z"
   },
   {
    "duration": 956,
    "start_time": "2022-09-08T07:09:03.970Z"
   },
   {
    "duration": 100,
    "start_time": "2022-09-08T07:12:10.254Z"
   },
   {
    "duration": 9,
    "start_time": "2022-09-08T07:12:17.908Z"
   },
   {
    "duration": 471,
    "start_time": "2022-09-08T07:12:36.140Z"
   },
   {
    "duration": 444,
    "start_time": "2022-09-08T07:13:50.525Z"
   },
   {
    "duration": 441,
    "start_time": "2022-09-08T07:13:58.245Z"
   },
   {
    "duration": 78,
    "start_time": "2022-09-08T07:16:30.720Z"
   },
   {
    "duration": 9,
    "start_time": "2022-09-08T07:16:34.221Z"
   },
   {
    "duration": 4,
    "start_time": "2022-09-08T07:20:38.504Z"
   },
   {
    "duration": 12,
    "start_time": "2022-09-08T07:23:46.690Z"
   },
   {
    "duration": 12,
    "start_time": "2022-09-08T07:26:47.843Z"
   },
   {
    "duration": 11,
    "start_time": "2022-09-08T07:27:00.865Z"
   },
   {
    "duration": 12,
    "start_time": "2022-09-08T07:28:53.251Z"
   },
   {
    "duration": 7,
    "start_time": "2022-09-08T07:29:02.836Z"
   },
   {
    "duration": 11,
    "start_time": "2022-09-08T07:29:16.186Z"
   },
   {
    "duration": 10,
    "start_time": "2022-09-08T07:37:37.776Z"
   },
   {
    "duration": 10,
    "start_time": "2022-09-08T07:38:03.064Z"
   },
   {
    "duration": 7,
    "start_time": "2022-09-08T07:39:53.528Z"
   },
   {
    "duration": 32,
    "start_time": "2022-09-08T07:44:37.585Z"
   },
   {
    "duration": 15,
    "start_time": "2022-09-08T07:44:48.497Z"
   },
   {
    "duration": 49,
    "start_time": "2022-09-08T07:45:00.042Z"
   },
   {
    "duration": 34,
    "start_time": "2022-09-08T07:45:47.468Z"
   },
   {
    "duration": 12,
    "start_time": "2022-09-08T07:46:09.275Z"
   },
   {
    "duration": 35,
    "start_time": "2022-09-08T07:46:16.099Z"
   },
   {
    "duration": 12,
    "start_time": "2022-09-08T07:46:20.669Z"
   },
   {
    "duration": 1114,
    "start_time": "2022-09-08T07:46:48.072Z"
   },
   {
    "duration": 918,
    "start_time": "2022-09-08T07:46:49.188Z"
   },
   {
    "duration": 473,
    "start_time": "2022-09-08T07:46:50.108Z"
   },
   {
    "duration": 518,
    "start_time": "2022-09-08T07:46:50.583Z"
   },
   {
    "duration": 487,
    "start_time": "2022-09-08T07:46:51.104Z"
   },
   {
    "duration": 10,
    "start_time": "2022-09-08T07:46:51.593Z"
   },
   {
    "duration": 22,
    "start_time": "2022-09-08T07:46:51.605Z"
   },
   {
    "duration": 14,
    "start_time": "2022-09-08T07:46:51.629Z"
   },
   {
    "duration": 51,
    "start_time": "2022-09-08T07:46:51.669Z"
   },
   {
    "duration": 91,
    "start_time": "2022-09-08T07:48:20.519Z"
   },
   {
    "duration": 80,
    "start_time": "2022-09-08T07:48:57.769Z"
   },
   {
    "duration": 102,
    "start_time": "2022-09-08T07:54:07.688Z"
   },
   {
    "duration": 27,
    "start_time": "2022-09-08T07:54:12.753Z"
   },
   {
    "duration": 214,
    "start_time": "2022-09-08T07:56:49.233Z"
   },
   {
    "duration": 19,
    "start_time": "2022-09-08T08:00:23.972Z"
   },
   {
    "duration": 19,
    "start_time": "2022-09-08T08:00:35.115Z"
   },
   {
    "duration": 82,
    "start_time": "2022-09-08T08:02:01.203Z"
   },
   {
    "duration": 83,
    "start_time": "2022-09-08T08:02:25.451Z"
   },
   {
    "duration": 77,
    "start_time": "2022-09-08T08:03:06.980Z"
   },
   {
    "duration": 21,
    "start_time": "2022-09-08T08:03:09.514Z"
   },
   {
    "duration": 4129,
    "start_time": "2022-09-08T08:03:10.019Z"
   },
   {
    "duration": 22,
    "start_time": "2022-09-08T08:04:21.148Z"
   },
   {
    "duration": 4022,
    "start_time": "2022-09-08T08:04:21.388Z"
   },
   {
    "duration": 4111,
    "start_time": "2022-09-08T08:05:13.008Z"
   },
   {
    "duration": 99,
    "start_time": "2022-09-08T08:06:34.469Z"
   },
   {
    "duration": 10,
    "start_time": "2022-09-08T08:07:21.751Z"
   },
   {
    "duration": 109,
    "start_time": "2022-09-08T08:07:32.373Z"
   },
   {
    "duration": 13,
    "start_time": "2022-09-08T08:21:15.643Z"
   },
   {
    "duration": 26,
    "start_time": "2022-09-08T08:21:16.539Z"
   },
   {
    "duration": 38,
    "start_time": "2022-09-08T08:21:41.699Z"
   },
   {
    "duration": 23,
    "start_time": "2022-09-08T08:21:42.730Z"
   },
   {
    "duration": 40,
    "start_time": "2022-09-08T08:22:15.779Z"
   },
   {
    "duration": 106,
    "start_time": "2022-09-08T08:22:23.508Z"
   },
   {
    "duration": 23,
    "start_time": "2022-09-08T08:22:24.666Z"
   },
   {
    "duration": 3,
    "start_time": "2022-09-08T08:22:30.868Z"
   },
   {
    "duration": 1173,
    "start_time": "2022-09-08T08:22:30.874Z"
   },
   {
    "duration": 459,
    "start_time": "2022-09-08T08:22:32.049Z"
   },
   {
    "duration": 485,
    "start_time": "2022-09-08T08:22:32.511Z"
   },
   {
    "duration": 438,
    "start_time": "2022-09-08T08:22:32.997Z"
   },
   {
    "duration": 10,
    "start_time": "2022-09-08T08:22:33.437Z"
   },
   {
    "duration": 29,
    "start_time": "2022-09-08T08:22:33.449Z"
   },
   {
    "duration": 12,
    "start_time": "2022-09-08T08:22:33.479Z"
   },
   {
    "duration": 43,
    "start_time": "2022-09-08T08:22:33.493Z"
   },
   {
    "duration": 111,
    "start_time": "2022-09-08T08:22:33.538Z"
   },
   {
    "duration": 127,
    "start_time": "2022-09-08T08:22:33.651Z"
   },
   {
    "duration": 95,
    "start_time": "2022-09-08T08:22:33.781Z"
   },
   {
    "duration": 23,
    "start_time": "2022-09-08T08:22:33.877Z"
   },
   {
    "duration": 109,
    "start_time": "2022-09-08T08:22:33.901Z"
   },
   {
    "duration": 23,
    "start_time": "2022-09-08T08:22:34.012Z"
   },
   {
    "duration": 1317,
    "start_time": "2022-09-08T08:22:55.583Z"
   },
   {
    "duration": 1030,
    "start_time": "2022-09-08T08:22:56.903Z"
   },
   {
    "duration": 525,
    "start_time": "2022-09-08T08:22:57.935Z"
   },
   {
    "duration": 534,
    "start_time": "2022-09-08T08:22:58.462Z"
   },
   {
    "duration": 506,
    "start_time": "2022-09-08T08:22:58.998Z"
   },
   {
    "duration": 12,
    "start_time": "2022-09-08T08:22:59.506Z"
   },
   {
    "duration": 21,
    "start_time": "2022-09-08T08:22:59.520Z"
   },
   {
    "duration": 42,
    "start_time": "2022-09-08T08:22:59.543Z"
   },
   {
    "duration": 81,
    "start_time": "2022-09-08T08:22:59.587Z"
   },
   {
    "duration": 105,
    "start_time": "2022-09-08T08:22:59.670Z"
   },
   {
    "duration": 91,
    "start_time": "2022-09-08T08:22:59.777Z"
   },
   {
    "duration": 79,
    "start_time": "2022-09-08T08:22:59.870Z"
   },
   {
    "duration": 47,
    "start_time": "2022-09-08T08:22:59.951Z"
   },
   {
    "duration": 130,
    "start_time": "2022-09-08T08:23:00.001Z"
   },
   {
    "duration": 125,
    "start_time": "2022-09-08T08:23:00.133Z"
   },
   {
    "duration": 66,
    "start_time": "2022-09-08T08:23:06.503Z"
   },
   {
    "duration": 4,
    "start_time": "2022-09-08T08:24:13.521Z"
   },
   {
    "duration": 100,
    "start_time": "2022-09-08T08:38:41.759Z"
   },
   {
    "duration": 3,
    "start_time": "2022-09-08T08:38:45.308Z"
   },
   {
    "duration": 933,
    "start_time": "2022-09-08T08:38:45.314Z"
   },
   {
    "duration": 481,
    "start_time": "2022-09-08T08:38:46.249Z"
   },
   {
    "duration": 435,
    "start_time": "2022-09-08T08:38:46.732Z"
   },
   {
    "duration": 432,
    "start_time": "2022-09-08T08:38:47.170Z"
   },
   {
    "duration": 7,
    "start_time": "2022-09-08T08:38:47.604Z"
   },
   {
    "duration": 11,
    "start_time": "2022-09-08T08:38:47.613Z"
   },
   {
    "duration": 11,
    "start_time": "2022-09-08T08:38:47.625Z"
   },
   {
    "duration": 65,
    "start_time": "2022-09-08T08:38:47.637Z"
   },
   {
    "duration": 92,
    "start_time": "2022-09-08T08:38:47.704Z"
   },
   {
    "duration": 99,
    "start_time": "2022-09-08T08:38:47.798Z"
   },
   {
    "duration": 80,
    "start_time": "2022-09-08T08:38:47.898Z"
   },
   {
    "duration": 27,
    "start_time": "2022-09-08T08:38:47.980Z"
   },
   {
    "duration": 97,
    "start_time": "2022-09-08T08:38:48.010Z"
   },
   {
    "duration": 35,
    "start_time": "2022-09-08T08:38:48.109Z"
   },
   {
    "duration": 4,
    "start_time": "2022-09-08T08:38:48.145Z"
   },
   {
    "duration": 21,
    "start_time": "2022-09-08T08:44:14.008Z"
   },
   {
    "duration": 4,
    "start_time": "2022-09-08T08:54:40.342Z"
   },
   {
    "duration": 83,
    "start_time": "2022-09-08T09:02:31.724Z"
   },
   {
    "duration": 0,
    "start_time": "2022-09-08T09:02:31.809Z"
   },
   {
    "duration": 0,
    "start_time": "2022-09-08T09:02:31.810Z"
   },
   {
    "duration": 0,
    "start_time": "2022-09-08T09:02:31.812Z"
   },
   {
    "duration": 0,
    "start_time": "2022-09-08T09:02:31.813Z"
   },
   {
    "duration": 0,
    "start_time": "2022-09-08T09:02:31.814Z"
   },
   {
    "duration": 1,
    "start_time": "2022-09-08T09:02:31.814Z"
   },
   {
    "duration": 0,
    "start_time": "2022-09-08T09:02:31.815Z"
   },
   {
    "duration": 1,
    "start_time": "2022-09-08T09:02:31.816Z"
   },
   {
    "duration": 0,
    "start_time": "2022-09-08T09:02:31.818Z"
   },
   {
    "duration": 0,
    "start_time": "2022-09-08T09:02:31.819Z"
   },
   {
    "duration": 0,
    "start_time": "2022-09-08T09:02:31.820Z"
   },
   {
    "duration": 0,
    "start_time": "2022-09-08T09:02:31.821Z"
   },
   {
    "duration": 1,
    "start_time": "2022-09-08T09:02:31.822Z"
   },
   {
    "duration": 0,
    "start_time": "2022-09-08T09:02:31.824Z"
   },
   {
    "duration": 0,
    "start_time": "2022-09-08T09:02:31.825Z"
   },
   {
    "duration": 0,
    "start_time": "2022-09-08T09:02:31.826Z"
   },
   {
    "duration": 0,
    "start_time": "2022-09-08T09:02:31.827Z"
   },
   {
    "duration": 96,
    "start_time": "2022-09-08T09:03:56.985Z"
   },
   {
    "duration": 0,
    "start_time": "2022-09-08T09:03:57.083Z"
   },
   {
    "duration": 0,
    "start_time": "2022-09-08T09:03:57.084Z"
   },
   {
    "duration": 0,
    "start_time": "2022-09-08T09:03:57.085Z"
   },
   {
    "duration": 0,
    "start_time": "2022-09-08T09:03:57.086Z"
   },
   {
    "duration": 0,
    "start_time": "2022-09-08T09:03:57.088Z"
   },
   {
    "duration": 0,
    "start_time": "2022-09-08T09:03:57.089Z"
   },
   {
    "duration": 0,
    "start_time": "2022-09-08T09:03:57.091Z"
   },
   {
    "duration": 0,
    "start_time": "2022-09-08T09:03:57.092Z"
   },
   {
    "duration": 0,
    "start_time": "2022-09-08T09:03:57.093Z"
   },
   {
    "duration": 0,
    "start_time": "2022-09-08T09:03:57.094Z"
   },
   {
    "duration": 0,
    "start_time": "2022-09-08T09:03:57.096Z"
   },
   {
    "duration": 0,
    "start_time": "2022-09-08T09:03:57.097Z"
   },
   {
    "duration": 0,
    "start_time": "2022-09-08T09:03:57.098Z"
   },
   {
    "duration": 0,
    "start_time": "2022-09-08T09:03:57.099Z"
   },
   {
    "duration": 0,
    "start_time": "2022-09-08T09:03:57.100Z"
   },
   {
    "duration": 0,
    "start_time": "2022-09-08T09:03:57.101Z"
   },
   {
    "duration": 0,
    "start_time": "2022-09-08T09:03:57.102Z"
   },
   {
    "duration": 9,
    "start_time": "2022-09-08T09:08:01.242Z"
   },
   {
    "duration": 10,
    "start_time": "2022-09-08T09:08:02.153Z"
   },
   {
    "duration": 130,
    "start_time": "2022-09-08T09:08:12.400Z"
   },
   {
    "duration": 0,
    "start_time": "2022-09-08T09:08:12.533Z"
   },
   {
    "duration": 0,
    "start_time": "2022-09-08T09:08:12.534Z"
   },
   {
    "duration": 0,
    "start_time": "2022-09-08T09:08:12.535Z"
   },
   {
    "duration": 0,
    "start_time": "2022-09-08T09:08:12.537Z"
   },
   {
    "duration": 0,
    "start_time": "2022-09-08T09:08:12.538Z"
   },
   {
    "duration": 0,
    "start_time": "2022-09-08T09:08:12.539Z"
   },
   {
    "duration": 0,
    "start_time": "2022-09-08T09:08:12.540Z"
   },
   {
    "duration": 0,
    "start_time": "2022-09-08T09:08:12.541Z"
   },
   {
    "duration": 0,
    "start_time": "2022-09-08T09:08:12.542Z"
   },
   {
    "duration": 1,
    "start_time": "2022-09-08T09:08:12.543Z"
   },
   {
    "duration": 0,
    "start_time": "2022-09-08T09:08:12.545Z"
   },
   {
    "duration": 0,
    "start_time": "2022-09-08T09:08:12.547Z"
   },
   {
    "duration": 0,
    "start_time": "2022-09-08T09:08:12.548Z"
   },
   {
    "duration": 0,
    "start_time": "2022-09-08T09:08:12.550Z"
   },
   {
    "duration": 0,
    "start_time": "2022-09-08T09:08:12.551Z"
   },
   {
    "duration": 0,
    "start_time": "2022-09-08T09:08:12.552Z"
   },
   {
    "duration": 0,
    "start_time": "2022-09-08T09:08:12.554Z"
   },
   {
    "duration": 0,
    "start_time": "2022-09-08T09:08:12.555Z"
   },
   {
    "duration": 0,
    "start_time": "2022-09-08T09:08:12.557Z"
   },
   {
    "duration": 1213,
    "start_time": "2022-09-08T09:08:41.590Z"
   },
   {
    "duration": 998,
    "start_time": "2022-09-08T09:08:42.804Z"
   },
   {
    "duration": 451,
    "start_time": "2022-09-08T09:08:43.804Z"
   },
   {
    "duration": 485,
    "start_time": "2022-09-08T09:08:44.257Z"
   },
   {
    "duration": 471,
    "start_time": "2022-09-08T09:08:44.744Z"
   },
   {
    "duration": 12,
    "start_time": "2022-09-08T09:08:45.217Z"
   },
   {
    "duration": 21,
    "start_time": "2022-09-08T09:08:45.230Z"
   },
   {
    "duration": 16,
    "start_time": "2022-09-08T09:08:45.268Z"
   },
   {
    "duration": 85,
    "start_time": "2022-09-08T09:08:45.286Z"
   },
   {
    "duration": 101,
    "start_time": "2022-09-08T09:08:45.373Z"
   },
   {
    "duration": 92,
    "start_time": "2022-09-08T09:08:45.476Z"
   },
   {
    "duration": 85,
    "start_time": "2022-09-08T09:08:45.569Z"
   },
   {
    "duration": 29,
    "start_time": "2022-09-08T09:08:45.667Z"
   },
   {
    "duration": 107,
    "start_time": "2022-09-08T09:08:45.699Z"
   },
   {
    "duration": 42,
    "start_time": "2022-09-08T09:08:45.808Z"
   },
   {
    "duration": 4,
    "start_time": "2022-09-08T09:08:45.851Z"
   },
   {
    "duration": 3,
    "start_time": "2022-09-08T09:08:45.867Z"
   },
   {
    "duration": 82,
    "start_time": "2022-09-08T09:08:45.871Z"
   },
   {
    "duration": 0,
    "start_time": "2022-09-08T09:08:45.955Z"
   },
   {
    "duration": 1,
    "start_time": "2022-09-08T09:08:45.955Z"
   },
   {
    "duration": 2,
    "start_time": "2022-09-08T09:08:52.084Z"
   },
   {
    "duration": 115,
    "start_time": "2022-09-08T09:08:52.514Z"
   },
   {
    "duration": 110,
    "start_time": "2022-09-08T09:11:21.732Z"
   },
   {
    "duration": 99,
    "start_time": "2022-09-08T09:11:35.208Z"
   },
   {
    "duration": 1268,
    "start_time": "2022-09-08T09:13:01.349Z"
   },
   {
    "duration": 951,
    "start_time": "2022-09-08T09:13:02.619Z"
   },
   {
    "duration": 515,
    "start_time": "2022-09-08T09:13:03.571Z"
   },
   {
    "duration": 538,
    "start_time": "2022-09-08T09:13:04.089Z"
   },
   {
    "duration": 489,
    "start_time": "2022-09-08T09:13:04.629Z"
   },
   {
    "duration": 9,
    "start_time": "2022-09-08T09:13:05.119Z"
   },
   {
    "duration": 16,
    "start_time": "2022-09-08T09:13:05.130Z"
   },
   {
    "duration": 27,
    "start_time": "2022-09-08T09:13:05.148Z"
   },
   {
    "duration": 53,
    "start_time": "2022-09-08T09:13:05.177Z"
   },
   {
    "duration": 99,
    "start_time": "2022-09-08T09:13:05.233Z"
   },
   {
    "duration": 91,
    "start_time": "2022-09-08T09:13:05.334Z"
   },
   {
    "duration": 88,
    "start_time": "2022-09-08T09:13:05.427Z"
   },
   {
    "duration": 32,
    "start_time": "2022-09-08T09:13:05.517Z"
   },
   {
    "duration": 133,
    "start_time": "2022-09-08T09:13:05.550Z"
   },
   {
    "duration": 43,
    "start_time": "2022-09-08T09:13:05.685Z"
   },
   {
    "duration": 4,
    "start_time": "2022-09-08T09:13:05.729Z"
   },
   {
    "duration": 7,
    "start_time": "2022-09-08T09:13:05.734Z"
   },
   {
    "duration": 93,
    "start_time": "2022-09-08T09:13:05.742Z"
   },
   {
    "duration": 0,
    "start_time": "2022-09-08T09:13:05.837Z"
   },
   {
    "duration": 0,
    "start_time": "2022-09-08T09:13:05.838Z"
   },
   {
    "duration": 110,
    "start_time": "2022-09-08T09:16:23.207Z"
   },
   {
    "duration": 107,
    "start_time": "2022-09-08T09:16:36.717Z"
   },
   {
    "duration": 3,
    "start_time": "2022-09-08T09:17:52.326Z"
   },
   {
    "duration": 102,
    "start_time": "2022-09-08T09:21:28.816Z"
   },
   {
    "duration": 11,
    "start_time": "2022-09-08T09:22:23.720Z"
   },
   {
    "duration": 1180,
    "start_time": "2022-09-08T09:22:49.103Z"
   },
   {
    "duration": 982,
    "start_time": "2022-09-08T09:22:50.286Z"
   },
   {
    "duration": 486,
    "start_time": "2022-09-08T09:22:51.269Z"
   },
   {
    "duration": 505,
    "start_time": "2022-09-08T09:22:51.757Z"
   },
   {
    "duration": 455,
    "start_time": "2022-09-08T09:22:52.264Z"
   },
   {
    "duration": 8,
    "start_time": "2022-09-08T09:22:52.721Z"
   },
   {
    "duration": 16,
    "start_time": "2022-09-08T09:22:52.731Z"
   },
   {
    "duration": 27,
    "start_time": "2022-09-08T09:22:52.748Z"
   },
   {
    "duration": 52,
    "start_time": "2022-09-08T09:22:52.777Z"
   },
   {
    "duration": 102,
    "start_time": "2022-09-08T09:22:52.831Z"
   },
   {
    "duration": 92,
    "start_time": "2022-09-08T09:22:52.935Z"
   },
   {
    "duration": 87,
    "start_time": "2022-09-08T09:22:53.028Z"
   },
   {
    "duration": 31,
    "start_time": "2022-09-08T09:22:53.117Z"
   },
   {
    "duration": 119,
    "start_time": "2022-09-08T09:22:53.150Z"
   },
   {
    "duration": 42,
    "start_time": "2022-09-08T09:22:53.270Z"
   },
   {
    "duration": 4,
    "start_time": "2022-09-08T09:22:53.314Z"
   },
   {
    "duration": 4,
    "start_time": "2022-09-08T09:22:53.320Z"
   },
   {
    "duration": 76,
    "start_time": "2022-09-08T09:22:53.326Z"
   },
   {
    "duration": 0,
    "start_time": "2022-09-08T09:22:53.403Z"
   },
   {
    "duration": 3,
    "start_time": "2022-09-08T09:22:59.140Z"
   },
   {
    "duration": 105,
    "start_time": "2022-09-08T09:22:59.592Z"
   },
   {
    "duration": 1257,
    "start_time": "2022-09-08T09:23:41.748Z"
   },
   {
    "duration": 984,
    "start_time": "2022-09-08T09:23:43.007Z"
   },
   {
    "duration": 493,
    "start_time": "2022-09-08T09:23:43.995Z"
   },
   {
    "duration": 518,
    "start_time": "2022-09-08T09:23:44.490Z"
   },
   {
    "duration": 484,
    "start_time": "2022-09-08T09:23:45.010Z"
   },
   {
    "duration": 9,
    "start_time": "2022-09-08T09:23:45.495Z"
   },
   {
    "duration": 19,
    "start_time": "2022-09-08T09:23:45.506Z"
   },
   {
    "duration": 16,
    "start_time": "2022-09-08T09:23:45.526Z"
   },
   {
    "duration": 55,
    "start_time": "2022-09-08T09:23:45.569Z"
   },
   {
    "duration": 96,
    "start_time": "2022-09-08T09:23:45.626Z"
   },
   {
    "duration": 96,
    "start_time": "2022-09-08T09:23:45.724Z"
   },
   {
    "duration": 88,
    "start_time": "2022-09-08T09:23:45.822Z"
   },
   {
    "duration": 31,
    "start_time": "2022-09-08T09:23:45.913Z"
   },
   {
    "duration": 131,
    "start_time": "2022-09-08T09:23:45.946Z"
   },
   {
    "duration": 50,
    "start_time": "2022-09-08T09:23:46.079Z"
   },
   {
    "duration": 6,
    "start_time": "2022-09-08T09:23:46.131Z"
   },
   {
    "duration": 129,
    "start_time": "2022-09-08T09:23:46.140Z"
   },
   {
    "duration": 0,
    "start_time": "2022-09-08T09:23:46.271Z"
   },
   {
    "duration": 0,
    "start_time": "2022-09-08T09:23:46.272Z"
   },
   {
    "duration": 2,
    "start_time": "2022-09-08T09:24:54.249Z"
   },
   {
    "duration": 13,
    "start_time": "2022-09-08T09:24:54.864Z"
   },
   {
    "duration": 457,
    "start_time": "2022-09-08T09:25:16.977Z"
   },
   {
    "duration": 394,
    "start_time": "2022-09-08T09:25:42.922Z"
   },
   {
    "duration": 494,
    "start_time": "2022-09-08T09:25:45.770Z"
   },
   {
    "duration": 15,
    "start_time": "2022-09-08T11:23:16.648Z"
   },
   {
    "duration": 10,
    "start_time": "2022-09-08T11:25:18.479Z"
   },
   {
    "duration": 2,
    "start_time": "2022-09-08T11:25:18.783Z"
   },
   {
    "duration": 8,
    "start_time": "2022-09-08T11:25:19.408Z"
   },
   {
    "duration": 4,
    "start_time": "2022-09-08T11:26:14.824Z"
   },
   {
    "duration": 5,
    "start_time": "2022-09-08T11:26:19.378Z"
   },
   {
    "duration": 949,
    "start_time": "2022-09-08T11:26:19.385Z"
   },
   {
    "duration": 439,
    "start_time": "2022-09-08T11:26:20.335Z"
   },
   {
    "duration": 450,
    "start_time": "2022-09-08T11:26:20.776Z"
   },
   {
    "duration": 471,
    "start_time": "2022-09-08T11:26:21.228Z"
   },
   {
    "duration": 9,
    "start_time": "2022-09-08T11:26:21.702Z"
   },
   {
    "duration": 11,
    "start_time": "2022-09-08T11:26:21.713Z"
   },
   {
    "duration": 11,
    "start_time": "2022-09-08T11:26:21.726Z"
   },
   {
    "duration": 71,
    "start_time": "2022-09-08T11:26:21.739Z"
   },
   {
    "duration": 90,
    "start_time": "2022-09-08T11:26:21.812Z"
   },
   {
    "duration": 95,
    "start_time": "2022-09-08T11:26:21.903Z"
   },
   {
    "duration": 84,
    "start_time": "2022-09-08T11:26:22.002Z"
   },
   {
    "duration": 25,
    "start_time": "2022-09-08T11:26:22.088Z"
   },
   {
    "duration": 120,
    "start_time": "2022-09-08T11:26:22.115Z"
   },
   {
    "duration": 48,
    "start_time": "2022-09-08T11:26:22.237Z"
   },
   {
    "duration": 4,
    "start_time": "2022-09-08T11:26:22.287Z"
   },
   {
    "duration": 12,
    "start_time": "2022-09-08T11:26:22.293Z"
   },
   {
    "duration": 0,
    "start_time": "2022-09-08T11:26:22.306Z"
   },
   {
    "duration": 0,
    "start_time": "2022-09-08T11:26:22.307Z"
   },
   {
    "duration": 3,
    "start_time": "2022-09-08T11:28:01.881Z"
   },
   {
    "duration": 2,
    "start_time": "2022-09-08T11:28:03.442Z"
   },
   {
    "duration": 10,
    "start_time": "2022-09-08T11:28:03.784Z"
   },
   {
    "duration": 2,
    "start_time": "2022-09-08T11:30:10.690Z"
   },
   {
    "duration": 10,
    "start_time": "2022-09-08T11:30:19.851Z"
   },
   {
    "duration": 9,
    "start_time": "2022-09-08T11:30:57.562Z"
   },
   {
    "duration": 23,
    "start_time": "2022-09-08T11:31:07.834Z"
   },
   {
    "duration": 27,
    "start_time": "2022-09-08T11:35:36.670Z"
   },
   {
    "duration": 37,
    "start_time": "2022-09-08T11:35:43.509Z"
   },
   {
    "duration": 11,
    "start_time": "2022-09-08T11:36:05.734Z"
   },
   {
    "duration": 4,
    "start_time": "2022-09-08T11:37:46.573Z"
   },
   {
    "duration": 9,
    "start_time": "2022-09-08T11:37:46.965Z"
   },
   {
    "duration": 9,
    "start_time": "2022-09-08T11:39:45.021Z"
   },
   {
    "duration": 4,
    "start_time": "2022-09-08T11:40:19.238Z"
   },
   {
    "duration": 2,
    "start_time": "2022-09-08T11:40:20.358Z"
   },
   {
    "duration": 11,
    "start_time": "2022-09-08T11:40:21.007Z"
   },
   {
    "duration": 37,
    "start_time": "2022-09-08T11:42:15.296Z"
   },
   {
    "duration": 3,
    "start_time": "2022-09-08T11:58:23.689Z"
   },
   {
    "duration": 916,
    "start_time": "2022-09-08T11:58:23.694Z"
   },
   {
    "duration": 445,
    "start_time": "2022-09-08T11:58:24.612Z"
   },
   {
    "duration": 504,
    "start_time": "2022-09-08T11:58:25.060Z"
   },
   {
    "duration": 445,
    "start_time": "2022-09-08T11:58:25.566Z"
   },
   {
    "duration": 9,
    "start_time": "2022-09-08T11:58:26.013Z"
   },
   {
    "duration": 12,
    "start_time": "2022-09-08T11:58:26.024Z"
   },
   {
    "duration": 35,
    "start_time": "2022-09-08T11:58:26.038Z"
   },
   {
    "duration": 49,
    "start_time": "2022-09-08T11:58:26.074Z"
   },
   {
    "duration": 98,
    "start_time": "2022-09-08T11:58:26.126Z"
   },
   {
    "duration": 83,
    "start_time": "2022-09-08T11:58:26.226Z"
   },
   {
    "duration": 84,
    "start_time": "2022-09-08T11:58:26.311Z"
   },
   {
    "duration": 23,
    "start_time": "2022-09-08T11:58:26.397Z"
   },
   {
    "duration": 111,
    "start_time": "2022-09-08T11:58:26.421Z"
   },
   {
    "duration": 57,
    "start_time": "2022-09-08T11:58:26.536Z"
   },
   {
    "duration": 5,
    "start_time": "2022-09-08T11:58:26.595Z"
   },
   {
    "duration": 7,
    "start_time": "2022-09-08T11:58:26.602Z"
   },
   {
    "duration": 9,
    "start_time": "2022-09-08T11:58:26.611Z"
   },
   {
    "duration": 33,
    "start_time": "2022-09-08T11:58:26.622Z"
   },
   {
    "duration": 78,
    "start_time": "2022-09-08T12:13:57.396Z"
   },
   {
    "duration": 414,
    "start_time": "2022-09-08T12:14:04.508Z"
   },
   {
    "duration": 388,
    "start_time": "2022-09-08T12:14:12.172Z"
   },
   {
    "duration": 419,
    "start_time": "2022-09-08T12:14:29.316Z"
   },
   {
    "duration": 15,
    "start_time": "2022-09-08T12:14:45.452Z"
   },
   {
    "duration": 20,
    "start_time": "2022-09-08T12:15:57.477Z"
   },
   {
    "duration": 12,
    "start_time": "2022-09-08T12:24:53.664Z"
   },
   {
    "duration": 1244,
    "start_time": "2022-09-08T12:25:01.365Z"
   },
   {
    "duration": 1008,
    "start_time": "2022-09-08T12:25:02.612Z"
   },
   {
    "duration": 503,
    "start_time": "2022-09-08T12:25:03.621Z"
   },
   {
    "duration": 530,
    "start_time": "2022-09-08T12:25:04.127Z"
   },
   {
    "duration": 489,
    "start_time": "2022-09-08T12:25:04.659Z"
   },
   {
    "duration": 19,
    "start_time": "2022-09-08T12:25:05.149Z"
   },
   {
    "duration": 17,
    "start_time": "2022-09-08T12:25:05.170Z"
   },
   {
    "duration": 12,
    "start_time": "2022-09-08T12:25:05.189Z"
   },
   {
    "duration": 76,
    "start_time": "2022-09-08T12:25:05.203Z"
   },
   {
    "duration": 94,
    "start_time": "2022-09-08T12:25:05.282Z"
   },
   {
    "duration": 94,
    "start_time": "2022-09-08T12:25:05.377Z"
   },
   {
    "duration": 102,
    "start_time": "2022-09-08T12:25:05.473Z"
   },
   {
    "duration": 29,
    "start_time": "2022-09-08T12:25:05.577Z"
   },
   {
    "duration": 114,
    "start_time": "2022-09-08T12:25:05.607Z"
   },
   {
    "duration": 51,
    "start_time": "2022-09-08T12:25:05.723Z"
   },
   {
    "duration": 4,
    "start_time": "2022-09-08T12:25:05.775Z"
   },
   {
    "duration": 2480,
    "start_time": "2022-09-08T12:25:05.780Z"
   },
   {
    "duration": 0,
    "start_time": "2022-09-08T12:25:08.262Z"
   },
   {
    "duration": 0,
    "start_time": "2022-09-08T12:25:08.263Z"
   },
   {
    "duration": 0,
    "start_time": "2022-09-08T12:25:08.265Z"
   },
   {
    "duration": 1244,
    "start_time": "2022-09-08T12:27:20.966Z"
   },
   {
    "duration": 1274,
    "start_time": "2022-09-08T12:27:41.569Z"
   },
   {
    "duration": 932,
    "start_time": "2022-09-08T12:27:42.845Z"
   },
   {
    "duration": 467,
    "start_time": "2022-09-08T12:27:43.779Z"
   },
   {
    "duration": 513,
    "start_time": "2022-09-08T12:27:44.248Z"
   },
   {
    "duration": 475,
    "start_time": "2022-09-08T12:27:44.767Z"
   },
   {
    "duration": 10,
    "start_time": "2022-09-08T12:27:45.244Z"
   },
   {
    "duration": 17,
    "start_time": "2022-09-08T12:27:45.268Z"
   },
   {
    "duration": 13,
    "start_time": "2022-09-08T12:27:45.287Z"
   },
   {
    "duration": 77,
    "start_time": "2022-09-08T12:27:45.301Z"
   },
   {
    "duration": 98,
    "start_time": "2022-09-08T12:27:45.380Z"
   },
   {
    "duration": 111,
    "start_time": "2022-09-08T12:27:45.480Z"
   },
   {
    "duration": 81,
    "start_time": "2022-09-08T12:27:45.593Z"
   },
   {
    "duration": 29,
    "start_time": "2022-09-08T12:27:45.676Z"
   },
   {
    "duration": 122,
    "start_time": "2022-09-08T12:27:45.708Z"
   },
   {
    "duration": 49,
    "start_time": "2022-09-08T12:27:45.832Z"
   },
   {
    "duration": 4,
    "start_time": "2022-09-08T12:27:45.883Z"
   },
   {
    "duration": 1156,
    "start_time": "2022-09-08T12:27:45.888Z"
   },
   {
    "duration": 3,
    "start_time": "2022-09-08T12:27:47.046Z"
   },
   {
    "duration": 8,
    "start_time": "2022-09-08T12:27:47.051Z"
   },
   {
    "duration": 122,
    "start_time": "2022-09-08T12:27:47.068Z"
   },
   {
    "duration": 291,
    "start_time": "2022-09-08T12:28:35.326Z"
   },
   {
    "duration": 465,
    "start_time": "2022-09-08T12:28:35.726Z"
   },
   {
    "duration": 165,
    "start_time": "2022-09-08T12:28:36.193Z"
   },
   {
    "duration": 8,
    "start_time": "2022-09-08T12:28:36.360Z"
   },
   {
    "duration": 3,
    "start_time": "2022-09-08T12:28:36.965Z"
   },
   {
    "duration": 3,
    "start_time": "2022-09-08T12:28:37.237Z"
   },
   {
    "duration": 2866,
    "start_time": "2022-09-08T12:28:37.525Z"
   },
   {
    "duration": 10,
    "start_time": "2022-09-08T12:29:48.998Z"
   },
   {
    "duration": 1178,
    "start_time": "2022-09-08T12:29:57.191Z"
   },
   {
    "duration": 1378,
    "start_time": "2022-09-08T12:30:10.725Z"
   },
   {
    "duration": 963,
    "start_time": "2022-09-08T12:30:12.106Z"
   },
   {
    "duration": 492,
    "start_time": "2022-09-08T12:30:13.071Z"
   },
   {
    "duration": 528,
    "start_time": "2022-09-08T12:30:13.565Z"
   },
   {
    "duration": 517,
    "start_time": "2022-09-08T12:30:14.095Z"
   },
   {
    "duration": 11,
    "start_time": "2022-09-08T12:30:14.615Z"
   },
   {
    "duration": 19,
    "start_time": "2022-09-08T12:30:14.628Z"
   },
   {
    "duration": 28,
    "start_time": "2022-09-08T12:30:14.649Z"
   },
   {
    "duration": 54,
    "start_time": "2022-09-08T12:30:14.679Z"
   },
   {
    "duration": 105,
    "start_time": "2022-09-08T12:30:14.736Z"
   },
   {
    "duration": 100,
    "start_time": "2022-09-08T12:30:14.842Z"
   },
   {
    "duration": 86,
    "start_time": "2022-09-08T12:30:14.944Z"
   },
   {
    "duration": 1216,
    "start_time": "2022-09-08T12:30:15.032Z"
   },
   {
    "duration": 308,
    "start_time": "2022-09-08T12:30:16.250Z"
   },
   {
    "duration": 548,
    "start_time": "2022-09-08T12:30:16.560Z"
   },
   {
    "duration": 174,
    "start_time": "2022-09-08T12:30:17.110Z"
   },
   {
    "duration": 4,
    "start_time": "2022-09-08T12:30:17.286Z"
   },
   {
    "duration": 19,
    "start_time": "2022-09-08T12:30:17.292Z"
   },
   {
    "duration": 14,
    "start_time": "2022-09-08T12:30:17.313Z"
   },
   {
    "duration": 3135,
    "start_time": "2022-09-08T12:30:17.329Z"
   },
   {
    "duration": 3,
    "start_time": "2022-09-08T12:33:40.289Z"
   },
   {
    "duration": 1203,
    "start_time": "2022-09-08T12:33:41.080Z"
   },
   {
    "duration": 2,
    "start_time": "2022-09-08T12:33:55.602Z"
   },
   {
    "duration": 13,
    "start_time": "2022-09-08T12:33:56.071Z"
   },
   {
    "duration": 3,
    "start_time": "2022-09-08T12:35:29.736Z"
   },
   {
    "duration": 15,
    "start_time": "2022-09-08T12:35:30.232Z"
   },
   {
    "duration": 15,
    "start_time": "2022-09-08T12:36:22.383Z"
   },
   {
    "duration": 3,
    "start_time": "2022-09-08T12:36:26.601Z"
   },
   {
    "duration": 14,
    "start_time": "2022-09-08T12:36:27.113Z"
   },
   {
    "duration": 17,
    "start_time": "2022-09-08T12:37:17.713Z"
   },
   {
    "duration": 14,
    "start_time": "2022-09-08T12:38:14.457Z"
   },
   {
    "duration": 16,
    "start_time": "2022-09-08T12:39:39.267Z"
   },
   {
    "duration": 3,
    "start_time": "2022-09-08T12:39:42.167Z"
   },
   {
    "duration": 21,
    "start_time": "2022-09-08T12:39:42.508Z"
   },
   {
    "duration": 15,
    "start_time": "2022-09-08T12:40:20.994Z"
   },
   {
    "duration": 1312,
    "start_time": "2022-09-08T12:40:28.483Z"
   },
   {
    "duration": 995,
    "start_time": "2022-09-08T12:40:29.797Z"
   },
   {
    "duration": 501,
    "start_time": "2022-09-08T12:40:30.794Z"
   },
   {
    "duration": 548,
    "start_time": "2022-09-08T12:40:31.297Z"
   },
   {
    "duration": 471,
    "start_time": "2022-09-08T12:40:31.847Z"
   },
   {
    "duration": 8,
    "start_time": "2022-09-08T12:40:32.320Z"
   },
   {
    "duration": 17,
    "start_time": "2022-09-08T12:40:32.330Z"
   },
   {
    "duration": 23,
    "start_time": "2022-09-08T12:40:32.349Z"
   },
   {
    "duration": 53,
    "start_time": "2022-09-08T12:40:32.374Z"
   },
   {
    "duration": 98,
    "start_time": "2022-09-08T12:40:32.429Z"
   },
   {
    "duration": 88,
    "start_time": "2022-09-08T12:40:32.529Z"
   },
   {
    "duration": 83,
    "start_time": "2022-09-08T12:40:32.620Z"
   },
   {
    "duration": 1207,
    "start_time": "2022-09-08T12:40:32.705Z"
   },
   {
    "duration": 306,
    "start_time": "2022-09-08T12:40:33.914Z"
   },
   {
    "duration": 492,
    "start_time": "2022-09-08T12:40:34.221Z"
   },
   {
    "duration": 170,
    "start_time": "2022-09-08T12:40:34.716Z"
   },
   {
    "duration": 4,
    "start_time": "2022-09-08T12:40:34.888Z"
   },
   {
    "duration": 6,
    "start_time": "2022-09-08T12:40:34.893Z"
   },
   {
    "duration": 5,
    "start_time": "2022-09-08T12:40:34.900Z"
   },
   {
    "duration": 3141,
    "start_time": "2022-09-08T12:40:34.906Z"
   },
   {
    "duration": 1161,
    "start_time": "2022-09-09T09:19:06.632Z"
   },
   {
    "duration": 947,
    "start_time": "2022-09-09T09:19:07.795Z"
   },
   {
    "duration": 512,
    "start_time": "2022-09-09T09:19:08.744Z"
   },
   {
    "duration": 478,
    "start_time": "2022-09-09T09:19:09.258Z"
   },
   {
    "duration": 441,
    "start_time": "2022-09-09T09:19:09.738Z"
   },
   {
    "duration": 8,
    "start_time": "2022-09-09T09:19:10.181Z"
   },
   {
    "duration": 16,
    "start_time": "2022-09-09T09:19:10.190Z"
   },
   {
    "duration": 12,
    "start_time": "2022-09-09T09:19:10.220Z"
   },
   {
    "duration": 55,
    "start_time": "2022-09-09T09:19:10.234Z"
   },
   {
    "duration": 104,
    "start_time": "2022-09-09T09:19:10.291Z"
   },
   {
    "duration": 91,
    "start_time": "2022-09-09T09:19:10.397Z"
   },
   {
    "duration": 85,
    "start_time": "2022-09-09T09:19:10.490Z"
   },
   {
    "duration": 1120,
    "start_time": "2022-09-09T09:19:10.577Z"
   },
   {
    "duration": 298,
    "start_time": "2022-09-09T09:19:11.700Z"
   },
   {
    "duration": 467,
    "start_time": "2022-09-09T09:19:12.000Z"
   },
   {
    "duration": 169,
    "start_time": "2022-09-09T09:19:12.469Z"
   },
   {
    "duration": 4,
    "start_time": "2022-09-09T09:19:12.640Z"
   },
   {
    "duration": 317,
    "start_time": "2022-09-09T09:19:12.647Z"
   },
   {
    "duration": 3,
    "start_time": "2022-09-09T09:19:12.966Z"
   },
   {
    "duration": 7,
    "start_time": "2022-09-09T09:19:12.970Z"
   },
   {
    "duration": 302,
    "start_time": "2022-09-09T09:19:37.431Z"
   },
   {
    "duration": 2,
    "start_time": "2022-09-09T09:19:37.896Z"
   },
   {
    "duration": 65433,
    "start_time": "2022-09-09T09:19:38.399Z"
   },
   {
    "duration": 3,
    "start_time": "2022-09-09T09:22:42.912Z"
   },
   {
    "duration": 67487,
    "start_time": "2022-09-09T09:22:43.434Z"
   },
   {
    "duration": 2,
    "start_time": "2022-09-09T09:26:08.418Z"
   },
   {
    "duration": 67925,
    "start_time": "2022-09-09T09:26:08.818Z"
   },
   {
    "duration": 24,
    "start_time": "2022-09-09T10:19:44.008Z"
   },
   {
    "duration": 967,
    "start_time": "2022-09-09T10:19:44.034Z"
   },
   {
    "duration": 426,
    "start_time": "2022-09-09T10:19:45.002Z"
   },
   {
    "duration": 437,
    "start_time": "2022-09-09T10:19:45.431Z"
   },
   {
    "duration": 502,
    "start_time": "2022-09-09T10:19:45.870Z"
   },
   {
    "duration": 9,
    "start_time": "2022-09-09T10:19:46.373Z"
   },
   {
    "duration": 15,
    "start_time": "2022-09-09T10:19:46.383Z"
   },
   {
    "duration": 31,
    "start_time": "2022-09-09T10:19:46.400Z"
   },
   {
    "duration": 45,
    "start_time": "2022-09-09T10:19:46.433Z"
   },
   {
    "duration": 103,
    "start_time": "2022-09-09T10:19:46.481Z"
   },
   {
    "duration": 97,
    "start_time": "2022-09-09T10:19:46.585Z"
   },
   {
    "duration": 83,
    "start_time": "2022-09-09T10:19:46.684Z"
   },
   {
    "duration": 1182,
    "start_time": "2022-09-09T10:19:46.769Z"
   },
   {
    "duration": 322,
    "start_time": "2022-09-09T10:19:47.953Z"
   },
   {
    "duration": 495,
    "start_time": "2022-09-09T10:19:48.277Z"
   },
   {
    "duration": 176,
    "start_time": "2022-09-09T10:19:48.774Z"
   },
   {
    "duration": 5,
    "start_time": "2022-09-09T10:19:48.952Z"
   },
   {
    "duration": 335,
    "start_time": "2022-09-09T10:19:48.959Z"
   },
   {
    "duration": 3,
    "start_time": "2022-09-09T10:19:49.296Z"
   },
   {
    "duration": 62833,
    "start_time": "2022-09-09T10:19:49.300Z"
   },
   {
    "duration": 108,
    "start_time": "2022-09-09T10:30:41.077Z"
   },
   {
    "duration": 3,
    "start_time": "2022-09-09T10:30:43.267Z"
   },
   {
    "duration": 10,
    "start_time": "2022-09-09T10:30:43.707Z"
   },
   {
    "duration": 9,
    "start_time": "2022-09-09T10:30:44.219Z"
   },
   {
    "duration": 407,
    "start_time": "2022-09-09T10:31:10.508Z"
   },
   {
    "duration": 9,
    "start_time": "2022-09-09T10:33:11.686Z"
   },
   {
    "duration": 5,
    "start_time": "2022-09-09T10:33:18.926Z"
   },
   {
    "duration": 4,
    "start_time": "2022-09-09T10:33:37.972Z"
   },
   {
    "duration": 3,
    "start_time": "2022-09-09T10:33:54.557Z"
   },
   {
    "duration": 4,
    "start_time": "2022-09-09T10:34:45.997Z"
   },
   {
    "duration": 229,
    "start_time": "2022-09-09T10:36:47.350Z"
   },
   {
    "duration": 18,
    "start_time": "2022-09-09T10:36:54.110Z"
   },
   {
    "duration": 18,
    "start_time": "2022-09-09T10:37:18.719Z"
   },
   {
    "duration": 4,
    "start_time": "2022-09-09T10:37:27.966Z"
   },
   {
    "duration": 14,
    "start_time": "2022-09-09T10:38:19.442Z"
   },
   {
    "duration": 1170,
    "start_time": "2022-09-09T10:39:12.453Z"
   },
   {
    "duration": 966,
    "start_time": "2022-09-09T10:39:13.625Z"
   },
   {
    "duration": 472,
    "start_time": "2022-09-09T10:39:14.593Z"
   },
   {
    "duration": 523,
    "start_time": "2022-09-09T10:39:15.067Z"
   },
   {
    "duration": 470,
    "start_time": "2022-09-09T10:39:15.592Z"
   },
   {
    "duration": 10,
    "start_time": "2022-09-09T10:39:16.063Z"
   },
   {
    "duration": 16,
    "start_time": "2022-09-09T10:39:16.074Z"
   },
   {
    "duration": 32,
    "start_time": "2022-09-09T10:39:16.092Z"
   },
   {
    "duration": 51,
    "start_time": "2022-09-09T10:39:16.126Z"
   },
   {
    "duration": 99,
    "start_time": "2022-09-09T10:39:16.180Z"
   },
   {
    "duration": 92,
    "start_time": "2022-09-09T10:39:16.280Z"
   },
   {
    "duration": 83,
    "start_time": "2022-09-09T10:39:16.374Z"
   },
   {
    "duration": 1188,
    "start_time": "2022-09-09T10:39:16.458Z"
   },
   {
    "duration": 303,
    "start_time": "2022-09-09T10:39:17.647Z"
   },
   {
    "duration": 481,
    "start_time": "2022-09-09T10:39:17.952Z"
   },
   {
    "duration": 169,
    "start_time": "2022-09-09T10:39:18.434Z"
   },
   {
    "duration": 4,
    "start_time": "2022-09-09T10:39:18.604Z"
   },
   {
    "duration": 3,
    "start_time": "2022-09-09T10:39:18.620Z"
   },
   {
    "duration": 316,
    "start_time": "2022-09-09T10:39:18.625Z"
   },
   {
    "duration": 2,
    "start_time": "2022-09-09T10:39:18.943Z"
   },
   {
    "duration": 9,
    "start_time": "2022-09-09T10:39:18.947Z"
   },
   {
    "duration": 6,
    "start_time": "2022-09-09T10:39:18.958Z"
   },
   {
    "duration": 580,
    "start_time": "2022-09-09T10:39:18.967Z"
   },
   {
    "duration": 0,
    "start_time": "2022-09-09T10:39:19.548Z"
   },
   {
    "duration": 1193,
    "start_time": "2022-09-09T10:42:04.437Z"
   },
   {
    "duration": 1245,
    "start_time": "2022-09-09T10:42:17.843Z"
   },
   {
    "duration": 1091,
    "start_time": "2022-09-09T10:43:27.100Z"
   },
   {
    "duration": 1130,
    "start_time": "2022-09-09T10:43:36.883Z"
   },
   {
    "duration": 1151,
    "start_time": "2022-09-09T10:43:52.196Z"
   },
   {
    "duration": 1299,
    "start_time": "2022-09-09T10:44:07.675Z"
   },
   {
    "duration": 17,
    "start_time": "2022-09-09T10:44:13.261Z"
   },
   {
    "duration": 4,
    "start_time": "2022-09-09T10:44:22.284Z"
   },
   {
    "duration": 9,
    "start_time": "2022-09-09T10:50:27.429Z"
   },
   {
    "duration": 4,
    "start_time": "2022-09-09T11:03:45.270Z"
   },
   {
    "duration": 926,
    "start_time": "2022-09-09T11:03:45.276Z"
   },
   {
    "duration": 422,
    "start_time": "2022-09-09T11:03:46.203Z"
   },
   {
    "duration": 462,
    "start_time": "2022-09-09T11:03:46.627Z"
   },
   {
    "duration": 487,
    "start_time": "2022-09-09T11:03:47.092Z"
   },
   {
    "duration": 9,
    "start_time": "2022-09-09T11:03:47.581Z"
   },
   {
    "duration": 40,
    "start_time": "2022-09-09T11:03:47.591Z"
   },
   {
    "duration": 19,
    "start_time": "2022-09-09T11:03:47.632Z"
   },
   {
    "duration": 51,
    "start_time": "2022-09-09T11:03:47.653Z"
   },
   {
    "duration": 84,
    "start_time": "2022-09-09T11:03:47.707Z"
   },
   {
    "duration": 110,
    "start_time": "2022-09-09T11:03:47.793Z"
   },
   {
    "duration": 94,
    "start_time": "2022-09-09T11:03:47.905Z"
   },
   {
    "duration": 1253,
    "start_time": "2022-09-09T11:04:14.255Z"
   },
   {
    "duration": 1264,
    "start_time": "2022-09-09T11:04:15.510Z"
   },
   {
    "duration": 485,
    "start_time": "2022-09-09T11:04:16.776Z"
   },
   {
    "duration": 514,
    "start_time": "2022-09-09T11:04:17.263Z"
   },
   {
    "duration": 475,
    "start_time": "2022-09-09T11:04:17.780Z"
   },
   {
    "duration": 9,
    "start_time": "2022-09-09T11:04:18.257Z"
   },
   {
    "duration": 17,
    "start_time": "2022-09-09T11:04:18.268Z"
   },
   {
    "duration": 35,
    "start_time": "2022-09-09T11:04:18.287Z"
   },
   {
    "duration": 52,
    "start_time": "2022-09-09T11:04:18.324Z"
   },
   {
    "duration": 113,
    "start_time": "2022-09-09T11:04:18.377Z"
   },
   {
    "duration": 106,
    "start_time": "2022-09-09T11:04:18.492Z"
   },
   {
    "duration": 89,
    "start_time": "2022-09-09T11:04:18.600Z"
   },
   {
    "duration": 1392,
    "start_time": "2022-09-09T11:04:18.691Z"
   },
   {
    "duration": 305,
    "start_time": "2022-09-09T11:04:20.085Z"
   },
   {
    "duration": 464,
    "start_time": "2022-09-09T11:04:20.392Z"
   },
   {
    "duration": 166,
    "start_time": "2022-09-09T11:04:20.859Z"
   },
   {
    "duration": 4,
    "start_time": "2022-09-09T11:04:21.027Z"
   },
   {
    "duration": 5,
    "start_time": "2022-09-09T11:04:21.032Z"
   },
   {
    "duration": 129,
    "start_time": "2022-09-09T11:04:21.039Z"
   },
   {
    "duration": 0,
    "start_time": "2022-09-09T11:04:21.170Z"
   },
   {
    "duration": 0,
    "start_time": "2022-09-09T11:04:21.171Z"
   },
   {
    "duration": 0,
    "start_time": "2022-09-09T11:04:21.172Z"
   },
   {
    "duration": 0,
    "start_time": "2022-09-09T11:04:21.173Z"
   },
   {
    "duration": 0,
    "start_time": "2022-09-09T11:04:21.175Z"
   },
   {
    "duration": 0,
    "start_time": "2022-09-09T11:04:21.176Z"
   },
   {
    "duration": 15,
    "start_time": "2022-09-09T12:23:17.342Z"
   },
   {
    "duration": 14,
    "start_time": "2022-09-09T12:24:35.060Z"
   },
   {
    "duration": 336,
    "start_time": "2022-09-09T12:24:49.029Z"
   },
   {
    "duration": 311,
    "start_time": "2022-09-09T12:24:53.460Z"
   },
   {
    "duration": 3,
    "start_time": "2022-09-09T12:24:53.836Z"
   },
   {
    "duration": 2,
    "start_time": "2022-09-09T12:24:54.244Z"
   },
   {
    "duration": 3,
    "start_time": "2022-09-09T12:24:55.563Z"
   },
   {
    "duration": 415,
    "start_time": "2022-09-09T12:24:56.324Z"
   },
   {
    "duration": 0,
    "start_time": "2022-09-09T12:24:56.740Z"
   },
   {
    "duration": 15,
    "start_time": "2022-09-09T12:25:18.532Z"
   },
   {
    "duration": 18,
    "start_time": "2022-09-09T12:25:39.862Z"
   },
   {
    "duration": 18,
    "start_time": "2022-09-09T12:26:07.037Z"
   },
   {
    "duration": 313,
    "start_time": "2022-09-09T12:26:07.356Z"
   },
   {
    "duration": 310,
    "start_time": "2022-09-09T12:26:08.428Z"
   },
   {
    "duration": 3,
    "start_time": "2022-09-09T12:26:08.740Z"
   },
   {
    "duration": 3,
    "start_time": "2022-09-09T12:26:09.069Z"
   },
   {
    "duration": 3,
    "start_time": "2022-09-09T12:26:09.860Z"
   },
   {
    "duration": 52,
    "start_time": "2022-09-09T12:26:12.313Z"
   },
   {
    "duration": 1174,
    "start_time": "2022-09-09T12:26:23.760Z"
   },
   {
    "duration": 1231,
    "start_time": "2022-09-09T12:26:24.936Z"
   },
   {
    "duration": 463,
    "start_time": "2022-09-09T12:26:26.169Z"
   },
   {
    "duration": 493,
    "start_time": "2022-09-09T12:26:26.633Z"
   },
   {
    "duration": 452,
    "start_time": "2022-09-09T12:26:27.128Z"
   },
   {
    "duration": 10,
    "start_time": "2022-09-09T12:26:27.581Z"
   },
   {
    "duration": 32,
    "start_time": "2022-09-09T12:26:27.593Z"
   },
   {
    "duration": 12,
    "start_time": "2022-09-09T12:26:27.627Z"
   },
   {
    "duration": 52,
    "start_time": "2022-09-09T12:26:27.640Z"
   },
   {
    "duration": 84,
    "start_time": "2022-09-09T12:26:27.721Z"
   },
   {
    "duration": 93,
    "start_time": "2022-09-09T12:26:27.807Z"
   },
   {
    "duration": 91,
    "start_time": "2022-09-09T12:26:27.902Z"
   },
   {
    "duration": 1313,
    "start_time": "2022-09-09T12:26:27.995Z"
   },
   {
    "duration": 298,
    "start_time": "2022-09-09T12:26:29.311Z"
   },
   {
    "duration": 486,
    "start_time": "2022-09-09T12:26:29.611Z"
   },
   {
    "duration": 166,
    "start_time": "2022-09-09T12:26:30.099Z"
   },
   {
    "duration": 5,
    "start_time": "2022-09-09T12:26:30.267Z"
   },
   {
    "duration": 20,
    "start_time": "2022-09-09T12:26:30.274Z"
   },
   {
    "duration": 30,
    "start_time": "2022-09-09T12:26:30.296Z"
   },
   {
    "duration": 322,
    "start_time": "2022-09-09T12:26:30.328Z"
   },
   {
    "duration": 315,
    "start_time": "2022-09-09T12:26:30.651Z"
   },
   {
    "duration": 2,
    "start_time": "2022-09-09T12:26:30.968Z"
   },
   {
    "duration": 17,
    "start_time": "2022-09-09T12:26:30.972Z"
   },
   {
    "duration": 21,
    "start_time": "2022-09-09T12:26:30.991Z"
   },
   {
    "duration": 519,
    "start_time": "2022-09-09T12:26:31.014Z"
   },
   {
    "duration": 0,
    "start_time": "2022-09-09T12:26:31.535Z"
   },
   {
    "duration": 48,
    "start_time": "2022-09-09T12:27:08.558Z"
   },
   {
    "duration": 1161,
    "start_time": "2022-09-09T12:27:35.469Z"
   },
   {
    "duration": 1254,
    "start_time": "2022-09-09T12:27:36.632Z"
   },
   {
    "duration": 482,
    "start_time": "2022-09-09T12:27:37.888Z"
   },
   {
    "duration": 525,
    "start_time": "2022-09-09T12:27:38.371Z"
   },
   {
    "duration": 509,
    "start_time": "2022-09-09T12:27:38.899Z"
   },
   {
    "duration": 11,
    "start_time": "2022-09-09T12:27:39.410Z"
   },
   {
    "duration": 16,
    "start_time": "2022-09-09T12:27:39.423Z"
   },
   {
    "duration": 10,
    "start_time": "2022-09-09T12:27:39.441Z"
   },
   {
    "duration": 74,
    "start_time": "2022-09-09T12:27:39.453Z"
   },
   {
    "duration": 97,
    "start_time": "2022-09-09T12:27:39.529Z"
   },
   {
    "duration": 94,
    "start_time": "2022-09-09T12:27:39.628Z"
   },
   {
    "duration": 81,
    "start_time": "2022-09-09T12:27:39.723Z"
   },
   {
    "duration": 1251,
    "start_time": "2022-09-09T12:27:39.805Z"
   },
   {
    "duration": 306,
    "start_time": "2022-09-09T12:27:41.059Z"
   },
   {
    "duration": 471,
    "start_time": "2022-09-09T12:27:41.367Z"
   },
   {
    "duration": 167,
    "start_time": "2022-09-09T12:27:41.840Z"
   },
   {
    "duration": 5,
    "start_time": "2022-09-09T12:27:42.009Z"
   },
   {
    "duration": 7,
    "start_time": "2022-09-09T12:27:42.021Z"
   },
   {
    "duration": 18,
    "start_time": "2022-09-09T12:27:42.030Z"
   },
   {
    "duration": 327,
    "start_time": "2022-09-09T12:27:42.050Z"
   },
   {
    "duration": 324,
    "start_time": "2022-09-09T12:27:42.379Z"
   },
   {
    "duration": 3,
    "start_time": "2022-09-09T12:27:42.705Z"
   },
   {
    "duration": 7,
    "start_time": "2022-09-09T12:27:42.720Z"
   },
   {
    "duration": 21,
    "start_time": "2022-09-09T12:27:42.728Z"
   },
   {
    "duration": 496,
    "start_time": "2022-09-09T12:27:42.751Z"
   },
   {
    "duration": 0,
    "start_time": "2022-09-09T12:27:43.249Z"
   },
   {
    "duration": 48,
    "start_time": "2022-09-09T12:28:09.347Z"
   },
   {
    "duration": 2710,
    "start_time": "2022-09-09T12:28:20.991Z"
   },
   {
    "duration": 1242,
    "start_time": "2022-09-09T12:28:23.704Z"
   },
   {
    "duration": 480,
    "start_time": "2022-09-09T12:28:24.948Z"
   },
   {
    "duration": 532,
    "start_time": "2022-09-09T12:28:25.429Z"
   },
   {
    "duration": 457,
    "start_time": "2022-09-09T12:28:25.964Z"
   },
   {
    "duration": 9,
    "start_time": "2022-09-09T12:28:26.423Z"
   },
   {
    "duration": 24,
    "start_time": "2022-09-09T12:28:26.434Z"
   },
   {
    "duration": 13,
    "start_time": "2022-09-09T12:28:26.460Z"
   },
   {
    "duration": 74,
    "start_time": "2022-09-09T12:28:26.475Z"
   },
   {
    "duration": 91,
    "start_time": "2022-09-09T12:28:26.551Z"
   },
   {
    "duration": 91,
    "start_time": "2022-09-09T12:28:26.644Z"
   },
   {
    "duration": 88,
    "start_time": "2022-09-09T12:28:26.737Z"
   },
   {
    "duration": 1232,
    "start_time": "2022-09-09T12:28:26.827Z"
   },
   {
    "duration": 305,
    "start_time": "2022-09-09T12:28:28.062Z"
   },
   {
    "duration": 471,
    "start_time": "2022-09-09T12:28:28.369Z"
   },
   {
    "duration": 204,
    "start_time": "2022-09-09T12:28:28.842Z"
   },
   {
    "duration": 5,
    "start_time": "2022-09-09T12:28:29.048Z"
   },
   {
    "duration": 18,
    "start_time": "2022-09-09T12:28:29.055Z"
   },
   {
    "duration": 30,
    "start_time": "2022-09-09T12:28:29.075Z"
   },
   {
    "duration": 329,
    "start_time": "2022-09-09T12:28:29.107Z"
   },
   {
    "duration": 313,
    "start_time": "2022-09-09T12:28:29.438Z"
   },
   {
    "duration": 3,
    "start_time": "2022-09-09T12:28:29.753Z"
   },
   {
    "duration": 8,
    "start_time": "2022-09-09T12:28:29.758Z"
   },
   {
    "duration": 6,
    "start_time": "2022-09-09T12:28:29.768Z"
   },
   {
    "duration": 512,
    "start_time": "2022-09-09T12:28:29.775Z"
   },
   {
    "duration": 0,
    "start_time": "2022-09-09T12:28:30.288Z"
   },
   {
    "duration": 12,
    "start_time": "2022-09-09T12:38:14.517Z"
   },
   {
    "duration": 43,
    "start_time": "2022-09-12T05:58:01.255Z"
   },
   {
    "duration": 1121,
    "start_time": "2022-09-12T05:58:15.563Z"
   },
   {
    "duration": 2950,
    "start_time": "2022-09-12T05:58:16.686Z"
   },
   {
    "duration": 416,
    "start_time": "2022-09-12T05:58:19.637Z"
   },
   {
    "duration": 459,
    "start_time": "2022-09-12T05:58:20.055Z"
   },
   {
    "duration": 414,
    "start_time": "2022-09-12T05:58:20.516Z"
   },
   {
    "duration": 9,
    "start_time": "2022-09-12T05:58:20.931Z"
   },
   {
    "duration": 22,
    "start_time": "2022-09-12T05:58:20.941Z"
   },
   {
    "duration": 12,
    "start_time": "2022-09-12T05:58:20.964Z"
   },
   {
    "duration": 48,
    "start_time": "2022-09-12T05:58:20.977Z"
   },
   {
    "duration": 97,
    "start_time": "2022-09-12T05:58:21.027Z"
   },
   {
    "duration": 78,
    "start_time": "2022-09-12T05:58:21.125Z"
   },
   {
    "duration": 82,
    "start_time": "2022-09-12T05:58:21.205Z"
   },
   {
    "duration": 1012,
    "start_time": "2022-09-12T05:58:21.289Z"
   },
   {
    "duration": 294,
    "start_time": "2022-09-12T05:58:22.304Z"
   },
   {
    "duration": 431,
    "start_time": "2022-09-12T05:58:22.600Z"
   },
   {
    "duration": 156,
    "start_time": "2022-09-12T05:58:23.033Z"
   },
   {
    "duration": 4,
    "start_time": "2022-09-12T05:58:23.190Z"
   },
   {
    "duration": 5,
    "start_time": "2022-09-12T05:58:23.196Z"
   },
   {
    "duration": 18,
    "start_time": "2022-09-12T05:58:23.203Z"
   },
   {
    "duration": 302,
    "start_time": "2022-09-12T05:58:23.222Z"
   },
   {
    "duration": 271,
    "start_time": "2022-09-12T05:58:23.526Z"
   },
   {
    "duration": 0,
    "start_time": "2022-09-12T05:58:23.798Z"
   },
   {
    "duration": 0,
    "start_time": "2022-09-12T05:58:23.799Z"
   },
   {
    "duration": 0,
    "start_time": "2022-09-12T05:58:23.800Z"
   },
   {
    "duration": 0,
    "start_time": "2022-09-12T05:58:23.801Z"
   },
   {
    "duration": 0,
    "start_time": "2022-09-12T05:58:23.802Z"
   },
   {
    "duration": 0,
    "start_time": "2022-09-12T05:58:23.803Z"
   },
   {
    "duration": 276,
    "start_time": "2022-09-12T05:58:56.185Z"
   },
   {
    "duration": 3,
    "start_time": "2022-09-12T05:59:12.322Z"
   },
   {
    "duration": 14,
    "start_time": "2022-09-12T05:59:13.185Z"
   },
   {
    "duration": 254,
    "start_time": "2022-09-12T05:59:13.833Z"
   },
   {
    "duration": 172,
    "start_time": "2022-09-12T05:59:15.089Z"
   },
   {
    "duration": 168,
    "start_time": "2022-09-12T06:00:14.386Z"
   },
   {
    "duration": 188,
    "start_time": "2022-09-12T06:01:49.443Z"
   },
   {
    "duration": 168,
    "start_time": "2022-09-12T06:02:57.620Z"
   },
   {
    "duration": 160,
    "start_time": "2022-09-12T06:03:09.019Z"
   },
   {
    "duration": 19,
    "start_time": "2022-09-12T06:07:57.282Z"
   },
   {
    "duration": 1151,
    "start_time": "2022-09-12T06:08:06.933Z"
   },
   {
    "duration": 837,
    "start_time": "2022-09-12T06:08:08.086Z"
   },
   {
    "duration": 448,
    "start_time": "2022-09-12T06:08:08.925Z"
   },
   {
    "duration": 458,
    "start_time": "2022-09-12T06:08:09.376Z"
   },
   {
    "duration": 423,
    "start_time": "2022-09-12T06:08:09.836Z"
   },
   {
    "duration": 8,
    "start_time": "2022-09-12T06:08:10.261Z"
   },
   {
    "duration": 19,
    "start_time": "2022-09-12T06:08:10.271Z"
   },
   {
    "duration": 13,
    "start_time": "2022-09-12T06:08:10.291Z"
   },
   {
    "duration": 78,
    "start_time": "2022-09-12T06:08:10.305Z"
   },
   {
    "duration": 83,
    "start_time": "2022-09-12T06:08:10.386Z"
   },
   {
    "duration": 92,
    "start_time": "2022-09-12T06:08:10.471Z"
   },
   {
    "duration": 67,
    "start_time": "2022-09-12T06:08:10.565Z"
   },
   {
    "duration": 1198,
    "start_time": "2022-09-12T06:08:10.634Z"
   },
   {
    "duration": 296,
    "start_time": "2022-09-12T06:08:11.835Z"
   },
   {
    "duration": 435,
    "start_time": "2022-09-12T06:08:12.133Z"
   },
   {
    "duration": 150,
    "start_time": "2022-09-12T06:08:12.570Z"
   },
   {
    "duration": 4,
    "start_time": "2022-09-12T06:08:12.721Z"
   },
   {
    "duration": 5,
    "start_time": "2022-09-12T06:08:12.726Z"
   },
   {
    "duration": 28,
    "start_time": "2022-09-12T06:08:12.733Z"
   },
   {
    "duration": 101,
    "start_time": "2022-09-12T06:08:12.762Z"
   },
   {
    "duration": 0,
    "start_time": "2022-09-12T06:08:12.864Z"
   },
   {
    "duration": 0,
    "start_time": "2022-09-12T06:08:12.865Z"
   },
   {
    "duration": 0,
    "start_time": "2022-09-12T06:08:12.866Z"
   },
   {
    "duration": 0,
    "start_time": "2022-09-12T06:08:12.867Z"
   },
   {
    "duration": 0,
    "start_time": "2022-09-12T06:08:12.868Z"
   },
   {
    "duration": 0,
    "start_time": "2022-09-12T06:08:12.870Z"
   },
   {
    "duration": 0,
    "start_time": "2022-09-12T06:08:12.871Z"
   },
   {
    "duration": 82,
    "start_time": "2022-09-12T06:09:06.741Z"
   },
   {
    "duration": 6,
    "start_time": "2022-09-12T06:17:55.474Z"
   },
   {
    "duration": 9,
    "start_time": "2022-09-12T06:18:43.642Z"
   },
   {
    "duration": 9,
    "start_time": "2022-09-12T06:20:56.290Z"
   },
   {
    "duration": 9,
    "start_time": "2022-09-12T06:21:06.042Z"
   },
   {
    "duration": 6,
    "start_time": "2022-09-12T06:21:27.915Z"
   },
   {
    "duration": 6,
    "start_time": "2022-09-12T06:21:28.283Z"
   },
   {
    "duration": 21,
    "start_time": "2022-09-12T06:23:45.589Z"
   },
   {
    "duration": 6,
    "start_time": "2022-09-12T06:24:02.492Z"
   },
   {
    "duration": 3,
    "start_time": "2022-09-12T06:24:11.316Z"
   },
   {
    "duration": 9,
    "start_time": "2022-09-12T06:24:11.652Z"
   },
   {
    "duration": 8,
    "start_time": "2022-09-12T06:24:12.547Z"
   },
   {
    "duration": 10,
    "start_time": "2022-09-12T06:43:59.565Z"
   },
   {
    "duration": 6,
    "start_time": "2022-09-12T06:44:22.459Z"
   },
   {
    "duration": 6,
    "start_time": "2022-09-12T06:45:12.654Z"
   },
   {
    "duration": 10,
    "start_time": "2022-09-12T06:45:56.134Z"
   },
   {
    "duration": 11,
    "start_time": "2022-09-12T06:46:18.139Z"
   },
   {
    "duration": 40,
    "start_time": "2022-09-12T06:46:23.711Z"
   },
   {
    "duration": 9,
    "start_time": "2022-09-12T06:47:18.143Z"
   },
   {
    "duration": 9,
    "start_time": "2022-09-12T06:47:23.231Z"
   },
   {
    "duration": 9,
    "start_time": "2022-09-12T06:48:02.248Z"
   },
   {
    "duration": 14,
    "start_time": "2022-09-12T06:48:30.552Z"
   },
   {
    "duration": 7,
    "start_time": "2022-09-12T06:48:38.799Z"
   },
   {
    "duration": 45,
    "start_time": "2022-09-12T06:49:42.584Z"
   },
   {
    "duration": 36,
    "start_time": "2022-09-12T06:50:00.889Z"
   },
   {
    "duration": 10,
    "start_time": "2022-09-12T06:53:30.153Z"
   },
   {
    "duration": 20,
    "start_time": "2022-09-12T06:53:35.068Z"
   },
   {
    "duration": 29,
    "start_time": "2022-09-12T06:53:37.665Z"
   },
   {
    "duration": 38,
    "start_time": "2022-09-12T06:56:49.499Z"
   },
   {
    "duration": 32,
    "start_time": "2022-09-12T06:58:34.124Z"
   },
   {
    "duration": 13,
    "start_time": "2022-09-12T07:00:30.753Z"
   },
   {
    "duration": 79,
    "start_time": "2022-09-12T07:00:32.677Z"
   },
   {
    "duration": 1162,
    "start_time": "2022-09-12T07:00:39.070Z"
   },
   {
    "duration": 839,
    "start_time": "2022-09-12T07:00:40.235Z"
   },
   {
    "duration": 408,
    "start_time": "2022-09-12T07:00:41.075Z"
   },
   {
    "duration": 434,
    "start_time": "2022-09-12T07:00:41.485Z"
   },
   {
    "duration": 388,
    "start_time": "2022-09-12T07:00:41.921Z"
   },
   {
    "duration": 8,
    "start_time": "2022-09-12T07:00:42.311Z"
   },
   {
    "duration": 17,
    "start_time": "2022-09-12T07:00:42.321Z"
   },
   {
    "duration": 21,
    "start_time": "2022-09-12T07:00:42.340Z"
   },
   {
    "duration": 54,
    "start_time": "2022-09-12T07:00:42.362Z"
   },
   {
    "duration": 69,
    "start_time": "2022-09-12T07:00:42.417Z"
   },
   {
    "duration": 70,
    "start_time": "2022-09-12T07:00:42.487Z"
   },
   {
    "duration": 59,
    "start_time": "2022-09-12T07:00:42.559Z"
   },
   {
    "duration": 89,
    "start_time": "2022-09-12T07:00:42.620Z"
   },
   {
    "duration": 6,
    "start_time": "2022-09-12T07:00:42.712Z"
   },
   {
    "duration": 101,
    "start_time": "2022-09-12T07:00:42.720Z"
   },
   {
    "duration": 0,
    "start_time": "2022-09-12T07:00:42.823Z"
   },
   {
    "duration": 0,
    "start_time": "2022-09-12T07:00:42.824Z"
   },
   {
    "duration": 0,
    "start_time": "2022-09-12T07:00:42.825Z"
   },
   {
    "duration": 0,
    "start_time": "2022-09-12T07:00:42.826Z"
   },
   {
    "duration": 0,
    "start_time": "2022-09-12T07:00:42.827Z"
   },
   {
    "duration": 0,
    "start_time": "2022-09-12T07:00:42.828Z"
   },
   {
    "duration": 0,
    "start_time": "2022-09-12T07:00:42.829Z"
   },
   {
    "duration": 0,
    "start_time": "2022-09-12T07:00:42.830Z"
   },
   {
    "duration": 0,
    "start_time": "2022-09-12T07:00:42.831Z"
   },
   {
    "duration": 0,
    "start_time": "2022-09-12T07:00:42.832Z"
   },
   {
    "duration": 0,
    "start_time": "2022-09-12T07:00:42.833Z"
   },
   {
    "duration": 0,
    "start_time": "2022-09-12T07:00:42.833Z"
   },
   {
    "duration": 0,
    "start_time": "2022-09-12T07:00:42.834Z"
   },
   {
    "duration": 0,
    "start_time": "2022-09-12T07:00:42.855Z"
   },
   {
    "duration": 0,
    "start_time": "2022-09-12T07:00:42.855Z"
   },
   {
    "duration": 25,
    "start_time": "2022-09-12T07:01:21.741Z"
   },
   {
    "duration": 865,
    "start_time": "2022-09-12T07:01:26.300Z"
   },
   {
    "duration": 728,
    "start_time": "2022-09-12T07:03:31.640Z"
   },
   {
    "duration": 1120,
    "start_time": "2022-09-12T07:03:53.365Z"
   },
   {
    "duration": 827,
    "start_time": "2022-09-12T07:03:54.487Z"
   },
   {
    "duration": 421,
    "start_time": "2022-09-12T07:03:55.316Z"
   },
   {
    "duration": 495,
    "start_time": "2022-09-12T07:03:55.738Z"
   },
   {
    "duration": 419,
    "start_time": "2022-09-12T07:03:56.234Z"
   },
   {
    "duration": 10,
    "start_time": "2022-09-12T07:03:56.655Z"
   },
   {
    "duration": 17,
    "start_time": "2022-09-12T07:03:56.668Z"
   },
   {
    "duration": 15,
    "start_time": "2022-09-12T07:03:56.687Z"
   },
   {
    "duration": 88,
    "start_time": "2022-09-12T07:03:56.704Z"
   },
   {
    "duration": 74,
    "start_time": "2022-09-12T07:03:56.795Z"
   },
   {
    "duration": 69,
    "start_time": "2022-09-12T07:03:56.871Z"
   },
   {
    "duration": 81,
    "start_time": "2022-09-12T07:03:56.941Z"
   },
   {
    "duration": 87,
    "start_time": "2022-09-12T07:03:57.023Z"
   },
   {
    "duration": 6,
    "start_time": "2022-09-12T07:03:57.112Z"
   },
   {
    "duration": 41,
    "start_time": "2022-09-12T07:03:57.120Z"
   },
   {
    "duration": 901,
    "start_time": "2022-09-12T07:03:57.162Z"
   },
   {
    "duration": 217,
    "start_time": "2022-09-12T07:03:58.065Z"
   },
   {
    "duration": 312,
    "start_time": "2022-09-12T07:03:58.284Z"
   },
   {
    "duration": 106,
    "start_time": "2022-09-12T07:03:58.597Z"
   },
   {
    "duration": 3,
    "start_time": "2022-09-12T07:03:58.705Z"
   },
   {
    "duration": 9,
    "start_time": "2022-09-12T07:03:58.709Z"
   },
   {
    "duration": 15,
    "start_time": "2022-09-12T07:03:58.719Z"
   },
   {
    "duration": 109,
    "start_time": "2022-09-12T07:03:58.735Z"
   },
   {
    "duration": 0,
    "start_time": "2022-09-12T07:03:58.854Z"
   },
   {
    "duration": 0,
    "start_time": "2022-09-12T07:03:58.855Z"
   },
   {
    "duration": 0,
    "start_time": "2022-09-12T07:03:58.857Z"
   },
   {
    "duration": 0,
    "start_time": "2022-09-12T07:03:58.858Z"
   },
   {
    "duration": 0,
    "start_time": "2022-09-12T07:03:58.859Z"
   },
   {
    "duration": 0,
    "start_time": "2022-09-12T07:03:58.860Z"
   },
   {
    "duration": 0,
    "start_time": "2022-09-12T07:03:58.861Z"
   },
   {
    "duration": 187,
    "start_time": "2022-09-12T07:04:30.107Z"
   },
   {
    "duration": 137,
    "start_time": "2022-09-12T07:04:31.354Z"
   },
   {
    "duration": 225,
    "start_time": "2022-09-12T07:04:50.850Z"
   },
   {
    "duration": 3,
    "start_time": "2022-09-12T07:04:51.162Z"
   },
   {
    "duration": 3,
    "start_time": "2022-09-12T07:04:52.618Z"
   },
   {
    "duration": 3,
    "start_time": "2022-09-12T07:04:53.370Z"
   },
   {
    "duration": 273,
    "start_time": "2022-09-12T07:04:53.690Z"
   },
   {
    "duration": 8,
    "start_time": "2022-09-12T07:04:54.054Z"
   },
   {
    "duration": 119,
    "start_time": "2022-09-12T07:05:52.627Z"
   },
   {
    "duration": 303,
    "start_time": "2022-09-12T07:05:53.226Z"
   },
   {
    "duration": 100,
    "start_time": "2022-09-12T07:05:53.826Z"
   },
   {
    "duration": 3,
    "start_time": "2022-09-12T07:05:54.947Z"
   },
   {
    "duration": 4,
    "start_time": "2022-09-12T07:05:56.739Z"
   },
   {
    "duration": 164,
    "start_time": "2022-09-12T07:06:45.124Z"
   },
   {
    "duration": 4,
    "start_time": "2022-09-12T07:07:49.484Z"
   },
   {
    "duration": 1754,
    "start_time": "2022-09-12T07:13:04.703Z"
   },
   {
    "duration": 1720,
    "start_time": "2022-09-12T07:13:06.458Z"
   },
   {
    "duration": 818,
    "start_time": "2022-09-12T07:13:08.180Z"
   },
   {
    "duration": 846,
    "start_time": "2022-09-12T07:13:09.055Z"
   },
   {
    "duration": 863,
    "start_time": "2022-09-12T07:13:09.903Z"
   },
   {
    "duration": 14,
    "start_time": "2022-09-12T07:13:10.767Z"
   },
   {
    "duration": 73,
    "start_time": "2022-09-12T07:13:10.783Z"
   },
   {
    "duration": 11,
    "start_time": "2022-09-12T07:13:10.858Z"
   },
   {
    "duration": 97,
    "start_time": "2022-09-12T07:13:10.870Z"
   },
   {
    "duration": 119,
    "start_time": "2022-09-12T07:13:10.969Z"
   },
   {
    "duration": 175,
    "start_time": "2022-09-12T07:13:11.089Z"
   },
   {
    "duration": 113,
    "start_time": "2022-09-12T07:13:11.265Z"
   },
   {
    "duration": 124,
    "start_time": "2022-09-12T07:13:11.380Z"
   },
   {
    "duration": 6,
    "start_time": "2022-09-12T07:13:11.555Z"
   },
   {
    "duration": 33,
    "start_time": "2022-09-12T07:13:11.563Z"
   },
   {
    "duration": 1869,
    "start_time": "2022-09-12T07:13:11.598Z"
   },
   {
    "duration": 405,
    "start_time": "2022-09-12T07:13:13.469Z"
   },
   {
    "duration": 613,
    "start_time": "2022-09-12T07:13:13.876Z"
   },
   {
    "duration": 206,
    "start_time": "2022-09-12T07:13:14.490Z"
   },
   {
    "duration": 58,
    "start_time": "2022-09-12T07:13:14.697Z"
   },
   {
    "duration": 4,
    "start_time": "2022-09-12T07:13:14.758Z"
   },
   {
    "duration": 16,
    "start_time": "2022-09-12T07:13:14.763Z"
   },
   {
    "duration": 387,
    "start_time": "2022-09-12T07:13:14.780Z"
   },
   {
    "duration": 406,
    "start_time": "2022-09-12T07:13:15.169Z"
   },
   {
    "duration": 3,
    "start_time": "2022-09-12T07:13:15.576Z"
   },
   {
    "duration": 7,
    "start_time": "2022-09-12T07:13:15.580Z"
   },
   {
    "duration": 4,
    "start_time": "2022-09-12T07:13:15.588Z"
   },
   {
    "duration": 707,
    "start_time": "2022-09-12T07:13:15.595Z"
   },
   {
    "duration": 0,
    "start_time": "2022-09-12T07:13:16.355Z"
   },
   {
    "duration": 20041,
    "start_time": "2022-09-12T07:15:03.438Z"
   },
   {
    "duration": 17892,
    "start_time": "2022-09-12T07:15:33.468Z"
   },
   {
    "duration": 27,
    "start_time": "2022-09-12T07:20:08.352Z"
   },
   {
    "duration": 761,
    "start_time": "2022-09-12T07:20:08.381Z"
   },
   {
    "duration": 355,
    "start_time": "2022-09-12T07:20:09.144Z"
   },
   {
    "duration": 363,
    "start_time": "2022-09-12T07:20:09.502Z"
   },
   {
    "duration": 371,
    "start_time": "2022-09-12T07:20:09.867Z"
   },
   {
    "duration": 8,
    "start_time": "2022-09-12T07:20:10.239Z"
   },
   {
    "duration": 12,
    "start_time": "2022-09-12T07:20:10.255Z"
   },
   {
    "duration": 10,
    "start_time": "2022-09-12T07:20:10.269Z"
   },
   {
    "duration": 31,
    "start_time": "2022-09-12T07:20:10.281Z"
   },
   {
    "duration": 90,
    "start_time": "2022-09-12T07:20:10.315Z"
   },
   {
    "duration": 86,
    "start_time": "2022-09-12T07:20:10.406Z"
   },
   {
    "duration": 63,
    "start_time": "2022-09-12T07:20:10.493Z"
   },
   {
    "duration": 62,
    "start_time": "2022-09-12T07:20:10.557Z"
   },
   {
    "duration": 5,
    "start_time": "2022-09-12T07:20:10.621Z"
   },
   {
    "duration": 41,
    "start_time": "2022-09-12T07:20:10.628Z"
   },
   {
    "duration": 690,
    "start_time": "2022-09-12T07:20:10.670Z"
   },
   {
    "duration": 215,
    "start_time": "2022-09-12T07:20:11.361Z"
   },
   {
    "duration": 309,
    "start_time": "2022-09-12T07:20:11.577Z"
   },
   {
    "duration": 106,
    "start_time": "2022-09-12T07:20:11.888Z"
   },
   {
    "duration": 3,
    "start_time": "2022-09-12T07:20:11.996Z"
   },
   {
    "duration": 10,
    "start_time": "2022-09-12T07:20:12.001Z"
   },
   {
    "duration": 17,
    "start_time": "2022-09-12T07:20:12.012Z"
   },
   {
    "duration": 173,
    "start_time": "2022-09-12T07:20:12.030Z"
   },
   {
    "duration": 217,
    "start_time": "2022-09-12T07:20:12.204Z"
   },
   {
    "duration": 2,
    "start_time": "2022-09-12T07:20:12.423Z"
   },
   {
    "duration": 45730,
    "start_time": "2022-09-12T07:20:12.426Z"
   },
   {
    "duration": 2,
    "start_time": "2022-09-12T07:20:58.157Z"
   },
   {
    "duration": 15900,
    "start_time": "2022-09-12T07:20:58.161Z"
   },
   {
    "duration": 2,
    "start_time": "2022-09-12T07:25:42.152Z"
   },
   {
    "duration": 16436,
    "start_time": "2022-09-12T07:25:43.224Z"
   },
   {
    "duration": 17494,
    "start_time": "2022-09-12T07:26:51.265Z"
   },
   {
    "duration": 11,
    "start_time": "2022-09-12T07:27:21.393Z"
   },
   {
    "duration": 15125,
    "start_time": "2022-09-12T07:27:52.634Z"
   },
   {
    "duration": 4,
    "start_time": "2022-09-12T07:34:52.246Z"
   },
   {
    "duration": 807,
    "start_time": "2022-09-12T07:34:52.252Z"
   },
   {
    "duration": 344,
    "start_time": "2022-09-12T07:34:53.060Z"
   },
   {
    "duration": 364,
    "start_time": "2022-09-12T07:34:53.406Z"
   },
   {
    "duration": 362,
    "start_time": "2022-09-12T07:34:53.771Z"
   },
   {
    "duration": 7,
    "start_time": "2022-09-12T07:34:54.134Z"
   },
   {
    "duration": 17,
    "start_time": "2022-09-12T07:34:54.142Z"
   },
   {
    "duration": 9,
    "start_time": "2022-09-12T07:34:54.160Z"
   },
   {
    "duration": 35,
    "start_time": "2022-09-12T07:34:54.171Z"
   },
   {
    "duration": 75,
    "start_time": "2022-09-12T07:34:54.207Z"
   },
   {
    "duration": 81,
    "start_time": "2022-09-12T07:34:54.284Z"
   },
   {
    "duration": 61,
    "start_time": "2022-09-12T07:34:54.366Z"
   },
   {
    "duration": 73,
    "start_time": "2022-09-12T07:34:54.429Z"
   },
   {
    "duration": 5,
    "start_time": "2022-09-12T07:34:54.504Z"
   },
   {
    "duration": 24,
    "start_time": "2022-09-12T07:34:54.511Z"
   },
   {
    "duration": 682,
    "start_time": "2022-09-12T07:34:54.537Z"
   },
   {
    "duration": 210,
    "start_time": "2022-09-12T07:34:55.221Z"
   },
   {
    "duration": 306,
    "start_time": "2022-09-12T07:34:55.433Z"
   },
   {
    "duration": 106,
    "start_time": "2022-09-12T07:34:55.740Z"
   },
   {
    "duration": 7,
    "start_time": "2022-09-12T07:34:55.848Z"
   },
   {
    "duration": 3,
    "start_time": "2022-09-12T07:34:55.857Z"
   },
   {
    "duration": 17,
    "start_time": "2022-09-12T07:34:55.861Z"
   },
   {
    "duration": 187,
    "start_time": "2022-09-12T07:34:55.879Z"
   },
   {
    "duration": 216,
    "start_time": "2022-09-12T07:34:56.069Z"
   },
   {
    "duration": 3,
    "start_time": "2022-09-12T07:34:56.287Z"
   },
   {
    "duration": 1461,
    "start_time": "2022-09-12T07:54:13.953Z"
   },
   {
    "duration": 1077,
    "start_time": "2022-09-12T07:54:15.416Z"
   },
   {
    "duration": 479,
    "start_time": "2022-09-12T07:54:16.494Z"
   },
   {
    "duration": 467,
    "start_time": "2022-09-12T07:54:16.975Z"
   },
   {
    "duration": 435,
    "start_time": "2022-09-12T07:54:17.445Z"
   },
   {
    "duration": 10,
    "start_time": "2022-09-12T07:54:17.882Z"
   },
   {
    "duration": 25,
    "start_time": "2022-09-12T07:54:17.893Z"
   },
   {
    "duration": 11,
    "start_time": "2022-09-12T07:54:17.919Z"
   },
   {
    "duration": 60,
    "start_time": "2022-09-12T07:54:17.932Z"
   },
   {
    "duration": 77,
    "start_time": "2022-09-12T07:54:17.994Z"
   },
   {
    "duration": 68,
    "start_time": "2022-09-12T07:54:18.073Z"
   },
   {
    "duration": 68,
    "start_time": "2022-09-12T07:54:18.143Z"
   },
   {
    "duration": 80,
    "start_time": "2022-09-12T07:54:18.212Z"
   },
   {
    "duration": 5,
    "start_time": "2022-09-12T07:54:18.294Z"
   },
   {
    "duration": 27,
    "start_time": "2022-09-12T07:54:18.300Z"
   },
   {
    "duration": 879,
    "start_time": "2022-09-12T07:54:18.328Z"
   },
   {
    "duration": 340,
    "start_time": "2022-09-12T07:54:19.208Z"
   },
   {
    "duration": 337,
    "start_time": "2022-09-12T07:54:19.550Z"
   },
   {
    "duration": 122,
    "start_time": "2022-09-12T07:54:19.889Z"
   },
   {
    "duration": 4,
    "start_time": "2022-09-12T07:54:20.012Z"
   },
   {
    "duration": 8,
    "start_time": "2022-09-12T07:54:20.018Z"
   },
   {
    "duration": 17,
    "start_time": "2022-09-12T07:54:20.028Z"
   },
   {
    "duration": 235,
    "start_time": "2022-09-12T07:54:20.047Z"
   },
   {
    "duration": 584,
    "start_time": "2022-09-12T07:54:20.284Z"
   },
   {
    "duration": 4,
    "start_time": "2022-09-12T07:54:20.869Z"
   },
   {
    "duration": 4,
    "start_time": "2022-09-12T07:54:20.876Z"
   },
   {
    "duration": 129,
    "start_time": "2022-09-12T07:54:20.882Z"
   },
   {
    "duration": 0,
    "start_time": "2022-09-12T07:54:21.013Z"
   },
   {
    "duration": 0,
    "start_time": "2022-09-12T07:54:21.014Z"
   },
   {
    "duration": 0,
    "start_time": "2022-09-12T07:54:21.015Z"
   },
   {
    "duration": 3,
    "start_time": "2022-09-12T07:54:30.957Z"
   },
   {
    "duration": 20802,
    "start_time": "2022-09-12T07:54:31.733Z"
   },
   {
    "duration": 19892,
    "start_time": "2022-09-12T07:55:03.669Z"
   },
   {
    "duration": 3,
    "start_time": "2022-09-12T07:55:37.438Z"
   },
   {
    "duration": 25505,
    "start_time": "2022-09-12T07:55:37.870Z"
   },
   {
    "duration": 24172,
    "start_time": "2022-09-12T07:57:49.191Z"
   },
   {
    "duration": 191,
    "start_time": "2022-09-12T07:58:13.365Z"
   },
   {
    "duration": 3,
    "start_time": "2022-09-12T07:59:07.413Z"
   },
   {
    "duration": 23987,
    "start_time": "2022-09-12T07:59:07.417Z"
   },
   {
    "duration": 177,
    "start_time": "2022-09-12T07:59:31.405Z"
   },
   {
    "duration": 1182,
    "start_time": "2022-09-12T08:07:00.292Z"
   },
   {
    "duration": 874,
    "start_time": "2022-09-12T08:07:01.476Z"
   },
   {
    "duration": 442,
    "start_time": "2022-09-12T08:07:02.354Z"
   },
   {
    "duration": 530,
    "start_time": "2022-09-12T08:07:02.797Z"
   },
   {
    "duration": 443,
    "start_time": "2022-09-12T08:07:03.329Z"
   },
   {
    "duration": 9,
    "start_time": "2022-09-12T08:07:03.774Z"
   },
   {
    "duration": 24,
    "start_time": "2022-09-12T08:07:03.784Z"
   },
   {
    "duration": 11,
    "start_time": "2022-09-12T08:07:03.809Z"
   },
   {
    "duration": 56,
    "start_time": "2022-09-12T08:07:03.822Z"
   },
   {
    "duration": 84,
    "start_time": "2022-09-12T08:07:03.879Z"
   },
   {
    "duration": 79,
    "start_time": "2022-09-12T08:07:03.965Z"
   },
   {
    "duration": 70,
    "start_time": "2022-09-12T08:07:04.046Z"
   },
   {
    "duration": 80,
    "start_time": "2022-09-12T08:07:04.118Z"
   },
   {
    "duration": 6,
    "start_time": "2022-09-12T08:07:04.201Z"
   },
   {
    "duration": 28,
    "start_time": "2022-09-12T08:07:04.208Z"
   },
   {
    "duration": 744,
    "start_time": "2022-09-12T08:07:04.254Z"
   },
   {
    "duration": 221,
    "start_time": "2022-09-12T08:07:04.999Z"
   },
   {
    "duration": 308,
    "start_time": "2022-09-12T08:07:05.222Z"
   },
   {
    "duration": 111,
    "start_time": "2022-09-12T08:07:05.532Z"
   },
   {
    "duration": 4,
    "start_time": "2022-09-12T08:07:05.645Z"
   },
   {
    "duration": 7,
    "start_time": "2022-09-12T08:07:05.650Z"
   },
   {
    "duration": 18,
    "start_time": "2022-09-12T08:07:05.659Z"
   },
   {
    "duration": 218,
    "start_time": "2022-09-12T08:07:05.679Z"
   },
   {
    "duration": 228,
    "start_time": "2022-09-12T08:07:05.899Z"
   },
   {
    "duration": 4,
    "start_time": "2022-09-12T08:07:06.129Z"
   },
   {
    "duration": 1257,
    "start_time": "2022-09-12T08:16:45.603Z"
   },
   {
    "duration": 864,
    "start_time": "2022-09-12T08:16:46.861Z"
   },
   {
    "duration": 427,
    "start_time": "2022-09-12T08:16:47.727Z"
   },
   {
    "duration": 440,
    "start_time": "2022-09-12T08:16:48.155Z"
   },
   {
    "duration": 392,
    "start_time": "2022-09-12T08:16:48.597Z"
   },
   {
    "duration": 18,
    "start_time": "2022-09-12T08:16:48.990Z"
   },
   {
    "duration": 16,
    "start_time": "2022-09-12T08:16:49.010Z"
   },
   {
    "duration": 11,
    "start_time": "2022-09-12T08:16:49.027Z"
   },
   {
    "duration": 45,
    "start_time": "2022-09-12T08:16:49.040Z"
   },
   {
    "duration": 80,
    "start_time": "2022-09-12T08:16:49.086Z"
   },
   {
    "duration": 80,
    "start_time": "2022-09-12T08:16:49.167Z"
   },
   {
    "duration": 61,
    "start_time": "2022-09-12T08:16:49.249Z"
   },
   {
    "duration": 68,
    "start_time": "2022-09-12T08:16:49.312Z"
   },
   {
    "duration": 6,
    "start_time": "2022-09-12T08:16:49.383Z"
   },
   {
    "duration": 25,
    "start_time": "2022-09-12T08:16:49.405Z"
   },
   {
    "duration": 750,
    "start_time": "2022-09-12T08:16:49.432Z"
   },
   {
    "duration": 214,
    "start_time": "2022-09-12T08:16:50.184Z"
   },
   {
    "duration": 319,
    "start_time": "2022-09-12T08:16:50.399Z"
   },
   {
    "duration": 103,
    "start_time": "2022-09-12T08:16:50.720Z"
   },
   {
    "duration": 4,
    "start_time": "2022-09-12T08:16:50.824Z"
   },
   {
    "duration": 12,
    "start_time": "2022-09-12T08:16:50.829Z"
   },
   {
    "duration": 20,
    "start_time": "2022-09-12T08:16:50.842Z"
   },
   {
    "duration": 172,
    "start_time": "2022-09-12T08:16:50.863Z"
   },
   {
    "duration": 215,
    "start_time": "2022-09-12T08:16:51.036Z"
   },
   {
    "duration": 2,
    "start_time": "2022-09-12T08:16:51.253Z"
   },
   {
    "duration": 1178,
    "start_time": "2022-09-12T08:29:04.764Z"
   },
   {
    "duration": 849,
    "start_time": "2022-09-12T08:29:05.944Z"
   },
   {
    "duration": 430,
    "start_time": "2022-09-12T08:29:06.794Z"
   },
   {
    "duration": 509,
    "start_time": "2022-09-12T08:29:07.226Z"
   },
   {
    "duration": 498,
    "start_time": "2022-09-12T08:29:07.737Z"
   },
   {
    "duration": 9,
    "start_time": "2022-09-12T08:29:08.236Z"
   },
   {
    "duration": 18,
    "start_time": "2022-09-12T08:29:08.254Z"
   },
   {
    "duration": 13,
    "start_time": "2022-09-12T08:29:08.274Z"
   },
   {
    "duration": 41,
    "start_time": "2022-09-12T08:29:08.305Z"
   },
   {
    "duration": 73,
    "start_time": "2022-09-12T08:29:08.348Z"
   },
   {
    "duration": 83,
    "start_time": "2022-09-12T08:29:08.422Z"
   },
   {
    "duration": 59,
    "start_time": "2022-09-12T08:29:08.507Z"
   },
   {
    "duration": 82,
    "start_time": "2022-09-12T08:29:08.568Z"
   },
   {
    "duration": 6,
    "start_time": "2022-09-12T08:29:08.653Z"
   },
   {
    "duration": 29,
    "start_time": "2022-09-12T08:29:08.660Z"
   },
   {
    "duration": 704,
    "start_time": "2022-09-12T08:29:08.691Z"
   },
   {
    "duration": 209,
    "start_time": "2022-09-12T08:29:09.396Z"
   },
   {
    "duration": 312,
    "start_time": "2022-09-12T08:29:09.607Z"
   },
   {
    "duration": 106,
    "start_time": "2022-09-12T08:29:09.920Z"
   },
   {
    "duration": 4,
    "start_time": "2022-09-12T08:29:10.028Z"
   },
   {
    "duration": 8,
    "start_time": "2022-09-12T08:29:10.034Z"
   },
   {
    "duration": 17,
    "start_time": "2022-09-12T08:29:10.043Z"
   },
   {
    "duration": 196,
    "start_time": "2022-09-12T08:29:10.061Z"
   },
   {
    "duration": 222,
    "start_time": "2022-09-12T08:29:10.258Z"
   },
   {
    "duration": 3,
    "start_time": "2022-09-12T08:29:10.483Z"
   },
   {
    "duration": 6,
    "start_time": "2022-09-12T08:29:10.487Z"
   },
   {
    "duration": 12,
    "start_time": "2022-09-12T08:29:10.494Z"
   },
   {
    "duration": 19900,
    "start_time": "2022-09-12T08:29:10.508Z"
   },
   {
    "duration": 198,
    "start_time": "2022-09-12T08:29:30.410Z"
   },
   {
    "duration": 4,
    "start_time": "2022-09-12T08:29:30.610Z"
   },
   {
    "duration": 23190,
    "start_time": "2022-09-12T08:29:30.617Z"
   },
   {
    "duration": 168,
    "start_time": "2022-09-12T08:29:53.808Z"
   },
   {
    "duration": 1229,
    "start_time": "2022-09-12T08:33:17.668Z"
   },
   {
    "duration": 882,
    "start_time": "2022-09-12T08:33:18.899Z"
   },
   {
    "duration": 451,
    "start_time": "2022-09-12T08:33:19.782Z"
   },
   {
    "duration": 480,
    "start_time": "2022-09-12T08:33:20.235Z"
   },
   {
    "duration": 446,
    "start_time": "2022-09-12T08:33:20.717Z"
   },
   {
    "duration": 8,
    "start_time": "2022-09-12T08:33:21.165Z"
   },
   {
    "duration": 14,
    "start_time": "2022-09-12T08:33:21.174Z"
   },
   {
    "duration": 32,
    "start_time": "2022-09-12T08:33:21.190Z"
   },
   {
    "duration": 42,
    "start_time": "2022-09-12T08:33:21.223Z"
   },
   {
    "duration": 85,
    "start_time": "2022-09-12T08:33:21.267Z"
   },
   {
    "duration": 87,
    "start_time": "2022-09-12T08:33:21.354Z"
   },
   {
    "duration": 67,
    "start_time": "2022-09-12T08:33:21.443Z"
   },
   {
    "duration": 104,
    "start_time": "2022-09-12T08:33:21.512Z"
   },
   {
    "duration": 8,
    "start_time": "2022-09-12T08:33:21.618Z"
   },
   {
    "duration": 28,
    "start_time": "2022-09-12T08:33:21.628Z"
   },
   {
    "duration": 887,
    "start_time": "2022-09-12T08:33:21.658Z"
   },
   {
    "duration": 222,
    "start_time": "2022-09-12T08:33:22.547Z"
   },
   {
    "duration": 365,
    "start_time": "2022-09-12T08:33:22.772Z"
   },
   {
    "duration": 143,
    "start_time": "2022-09-12T08:33:23.139Z"
   },
   {
    "duration": 4,
    "start_time": "2022-09-12T08:33:23.284Z"
   },
   {
    "duration": 38,
    "start_time": "2022-09-12T08:33:23.290Z"
   },
   {
    "duration": 41,
    "start_time": "2022-09-12T08:33:23.330Z"
   },
   {
    "duration": 214,
    "start_time": "2022-09-12T08:33:23.373Z"
   },
   {
    "duration": 229,
    "start_time": "2022-09-12T08:33:23.589Z"
   },
   {
    "duration": 3,
    "start_time": "2022-09-12T08:33:23.820Z"
   },
   {
    "duration": 1211,
    "start_time": "2022-09-12T08:36:13.753Z"
   },
   {
    "duration": 812,
    "start_time": "2022-09-12T08:36:14.966Z"
   },
   {
    "duration": 410,
    "start_time": "2022-09-12T08:36:15.779Z"
   },
   {
    "duration": 442,
    "start_time": "2022-09-12T08:36:16.190Z"
   },
   {
    "duration": 395,
    "start_time": "2022-09-12T08:36:16.634Z"
   },
   {
    "duration": 9,
    "start_time": "2022-09-12T08:36:17.030Z"
   },
   {
    "duration": 15,
    "start_time": "2022-09-12T08:36:17.040Z"
   },
   {
    "duration": 11,
    "start_time": "2022-09-12T08:36:17.057Z"
   },
   {
    "duration": 63,
    "start_time": "2022-09-12T08:36:17.069Z"
   },
   {
    "duration": 71,
    "start_time": "2022-09-12T08:36:17.134Z"
   },
   {
    "duration": 74,
    "start_time": "2022-09-12T08:36:17.206Z"
   },
   {
    "duration": 124,
    "start_time": "2022-09-12T08:36:17.282Z"
   },
   {
    "duration": 88,
    "start_time": "2022-09-12T08:36:17.408Z"
   },
   {
    "duration": 8,
    "start_time": "2022-09-12T08:36:17.506Z"
   },
   {
    "duration": 29,
    "start_time": "2022-09-12T08:36:17.516Z"
   },
   {
    "duration": 761,
    "start_time": "2022-09-12T08:36:17.546Z"
   },
   {
    "duration": 214,
    "start_time": "2022-09-12T08:36:18.309Z"
   },
   {
    "duration": 307,
    "start_time": "2022-09-12T08:36:18.524Z"
   },
   {
    "duration": 114,
    "start_time": "2022-09-12T08:36:18.833Z"
   },
   {
    "duration": 3,
    "start_time": "2022-09-12T08:36:18.949Z"
   },
   {
    "duration": 16,
    "start_time": "2022-09-12T08:36:18.953Z"
   },
   {
    "duration": 16,
    "start_time": "2022-09-12T08:36:18.970Z"
   },
   {
    "duration": 184,
    "start_time": "2022-09-12T08:36:18.987Z"
   },
   {
    "duration": 220,
    "start_time": "2022-09-12T08:36:19.172Z"
   },
   {
    "duration": 3,
    "start_time": "2022-09-12T08:36:19.394Z"
   },
   {
    "duration": 482002,
    "start_time": "2022-09-12T08:36:19.405Z"
   },
   {
    "duration": 4,
    "start_time": "2022-09-12T08:44:21.408Z"
   },
   {
    "duration": 20797,
    "start_time": "2022-09-12T08:44:21.413Z"
   },
   {
    "duration": 196,
    "start_time": "2022-09-12T08:44:42.211Z"
   },
   {
    "duration": 4,
    "start_time": "2022-09-12T08:44:42.409Z"
   },
   {
    "duration": 23638,
    "start_time": "2022-09-12T08:44:42.417Z"
   },
   {
    "duration": 194,
    "start_time": "2022-09-12T08:45:06.057Z"
   },
   {
    "duration": 715,
    "start_time": "2022-09-12T08:50:25.623Z"
   },
   {
    "duration": 760,
    "start_time": "2022-09-12T08:50:45.046Z"
   },
   {
    "duration": 111,
    "start_time": "2022-09-12T08:54:32.962Z"
   },
   {
    "duration": 26,
    "start_time": "2022-09-12T09:02:42.919Z"
   },
   {
    "duration": 80,
    "start_time": "2022-09-12T09:06:02.156Z"
   },
   {
    "duration": 76,
    "start_time": "2022-09-12T09:06:10.036Z"
   },
   {
    "duration": 75,
    "start_time": "2022-09-12T09:06:36.217Z"
   },
   {
    "duration": 78,
    "start_time": "2022-09-12T09:07:26.462Z"
   },
   {
    "duration": 132,
    "start_time": "2022-09-12T09:07:37.109Z"
   },
   {
    "duration": 4,
    "start_time": "2022-09-12T09:07:41.612Z"
   },
   {
    "duration": 14,
    "start_time": "2022-09-12T09:07:44.061Z"
   },
   {
    "duration": 4,
    "start_time": "2022-09-12T09:10:09.318Z"
   },
   {
    "duration": 4,
    "start_time": "2022-09-12T09:10:09.855Z"
   },
   {
    "duration": 9,
    "start_time": "2022-09-12T09:10:25.030Z"
   },
   {
    "duration": 105,
    "start_time": "2022-09-12T09:10:58.872Z"
   },
   {
    "duration": 4,
    "start_time": "2022-09-12T09:10:59.181Z"
   },
   {
    "duration": 10,
    "start_time": "2022-09-12T09:10:59.830Z"
   },
   {
    "duration": 140,
    "start_time": "2022-09-12T09:14:08.888Z"
   },
   {
    "duration": 85,
    "start_time": "2022-09-12T09:14:20.584Z"
   },
   {
    "duration": 76,
    "start_time": "2022-09-12T09:15:21.824Z"
   },
   {
    "duration": 4,
    "start_time": "2022-09-12T09:15:22.408Z"
   },
   {
    "duration": 9,
    "start_time": "2022-09-12T09:15:22.935Z"
   },
   {
    "duration": 107,
    "start_time": "2022-09-12T09:15:46.313Z"
   },
   {
    "duration": 3,
    "start_time": "2022-09-12T09:15:46.584Z"
   },
   {
    "duration": 8,
    "start_time": "2022-09-12T09:15:47.021Z"
   },
   {
    "duration": 4,
    "start_time": "2022-09-12T09:39:15.647Z"
   },
   {
    "duration": 5,
    "start_time": "2022-09-12T09:39:15.973Z"
   },
   {
    "duration": 8,
    "start_time": "2022-09-12T09:39:16.654Z"
   },
   {
    "duration": 3,
    "start_time": "2022-09-12T09:39:43.773Z"
   },
   {
    "duration": 8,
    "start_time": "2022-09-12T09:39:44.308Z"
   },
   {
    "duration": 363663,
    "start_time": "2022-09-12T10:51:14.365Z"
   },
   {
    "duration": 4,
    "start_time": "2022-09-12T10:57:18.030Z"
   },
   {
    "duration": 74,
    "start_time": "2022-09-12T10:57:18.035Z"
   },
   {
    "duration": 741,
    "start_time": "2022-09-12T10:57:58.186Z"
   },
   {
    "duration": 710,
    "start_time": "2022-09-12T10:58:01.332Z"
   },
   {
    "duration": 3,
    "start_time": "2022-09-12T10:58:10.505Z"
   },
   {
    "duration": 3,
    "start_time": "2022-09-12T10:58:10.913Z"
   },
   {
    "duration": 7,
    "start_time": "2022-09-12T10:58:11.465Z"
   },
   {
    "duration": 685,
    "start_time": "2022-09-12T10:58:25.850Z"
   },
   {
    "duration": 3,
    "start_time": "2022-09-12T10:58:28.097Z"
   },
   {
    "duration": 17613,
    "start_time": "2022-09-12T10:58:29.594Z"
   },
   {
    "duration": 4,
    "start_time": "2022-09-12T10:59:04.043Z"
   },
   {
    "duration": 4,
    "start_time": "2022-09-12T10:59:04.332Z"
   },
   {
    "duration": 7,
    "start_time": "2022-09-12T10:59:04.650Z"
   },
   {
    "duration": 766,
    "start_time": "2022-09-12T10:59:14.940Z"
   },
   {
    "duration": 720,
    "start_time": "2022-09-12T10:59:18.411Z"
   },
   {
    "duration": 4,
    "start_time": "2022-09-12T10:59:27.936Z"
   },
   {
    "duration": 3,
    "start_time": "2022-09-12T10:59:28.275Z"
   },
   {
    "duration": 8,
    "start_time": "2022-09-12T10:59:28.610Z"
   },
   {
    "duration": 742,
    "start_time": "2022-09-12T11:01:43.772Z"
   },
   {
    "duration": 58,
    "start_time": "2022-09-12T11:03:59.124Z"
   },
   {
    "duration": 57,
    "start_time": "2022-09-12T11:04:09.731Z"
   },
   {
    "duration": 1199,
    "start_time": "2022-09-12T11:06:38.542Z"
   },
   {
    "duration": 911,
    "start_time": "2022-09-12T11:06:39.743Z"
   },
   {
    "duration": 427,
    "start_time": "2022-09-12T11:06:40.656Z"
   },
   {
    "duration": 461,
    "start_time": "2022-09-12T11:06:41.084Z"
   },
   {
    "duration": 450,
    "start_time": "2022-09-12T11:06:41.548Z"
   },
   {
    "duration": 12,
    "start_time": "2022-09-12T11:06:42.000Z"
   },
   {
    "duration": 17,
    "start_time": "2022-09-12T11:06:42.013Z"
   },
   {
    "duration": 12,
    "start_time": "2022-09-12T11:06:42.031Z"
   },
   {
    "duration": 90,
    "start_time": "2022-09-12T11:06:42.044Z"
   },
   {
    "duration": 76,
    "start_time": "2022-09-12T11:06:42.136Z"
   },
   {
    "duration": 92,
    "start_time": "2022-09-12T11:06:42.213Z"
   },
   {
    "duration": 61,
    "start_time": "2022-09-12T11:06:42.307Z"
   },
   {
    "duration": 98,
    "start_time": "2022-09-12T11:06:42.370Z"
   },
   {
    "duration": 7,
    "start_time": "2022-09-12T11:06:42.471Z"
   },
   {
    "duration": 48,
    "start_time": "2022-09-12T11:06:42.480Z"
   },
   {
    "duration": 868,
    "start_time": "2022-09-12T11:06:42.531Z"
   },
   {
    "duration": 325,
    "start_time": "2022-09-12T11:06:43.401Z"
   },
   {
    "duration": 320,
    "start_time": "2022-09-12T11:06:43.728Z"
   },
   {
    "duration": 110,
    "start_time": "2022-09-12T11:06:44.050Z"
   },
   {
    "duration": 4,
    "start_time": "2022-09-12T11:06:44.162Z"
   },
   {
    "duration": 12,
    "start_time": "2022-09-12T11:06:44.167Z"
   },
   {
    "duration": 34,
    "start_time": "2022-09-12T11:06:44.180Z"
   },
   {
    "duration": 279,
    "start_time": "2022-09-12T11:06:44.216Z"
   },
   {
    "duration": 238,
    "start_time": "2022-09-12T11:06:44.496Z"
   },
   {
    "duration": 3,
    "start_time": "2022-09-12T11:06:44.736Z"
   },
   {
    "duration": 35028,
    "start_time": "2022-09-12T11:06:44.743Z"
   },
   {
    "duration": 89,
    "start_time": "2022-09-12T11:07:19.773Z"
   },
   {
    "duration": 2,
    "start_time": "2022-09-12T11:07:19.864Z"
   },
   {
    "duration": 19746,
    "start_time": "2022-09-12T11:07:19.868Z"
   },
   {
    "duration": 433,
    "start_time": "2022-09-12T11:07:39.616Z"
   },
   {
    "duration": 3,
    "start_time": "2022-09-12T11:07:40.050Z"
   },
   {
    "duration": 1302,
    "start_time": "2022-09-12T11:07:46.506Z"
   },
   {
    "duration": 834,
    "start_time": "2022-09-12T11:07:47.810Z"
   },
   {
    "duration": 414,
    "start_time": "2022-09-12T11:07:48.646Z"
   },
   {
    "duration": 432,
    "start_time": "2022-09-12T11:07:49.062Z"
   },
   {
    "duration": 389,
    "start_time": "2022-09-12T11:07:49.496Z"
   },
   {
    "duration": 8,
    "start_time": "2022-09-12T11:07:49.886Z"
   },
   {
    "duration": 15,
    "start_time": "2022-09-12T11:07:49.905Z"
   },
   {
    "duration": 10,
    "start_time": "2022-09-12T11:07:49.921Z"
   },
   {
    "duration": 40,
    "start_time": "2022-09-12T11:07:49.932Z"
   },
   {
    "duration": 81,
    "start_time": "2022-09-12T11:07:49.973Z"
   },
   {
    "duration": 77,
    "start_time": "2022-09-12T11:07:50.056Z"
   },
   {
    "duration": 59,
    "start_time": "2022-09-12T11:07:50.135Z"
   },
   {
    "duration": 81,
    "start_time": "2022-09-12T11:07:50.195Z"
   },
   {
    "duration": 5,
    "start_time": "2022-09-12T11:07:50.279Z"
   },
   {
    "duration": 40,
    "start_time": "2022-09-12T11:07:50.285Z"
   },
   {
    "duration": 682,
    "start_time": "2022-09-12T11:07:50.326Z"
   },
   {
    "duration": 205,
    "start_time": "2022-09-12T11:07:51.010Z"
   },
   {
    "duration": 305,
    "start_time": "2022-09-12T11:07:51.217Z"
   },
   {
    "duration": 103,
    "start_time": "2022-09-12T11:07:51.524Z"
   },
   {
    "duration": 4,
    "start_time": "2022-09-12T11:07:51.629Z"
   },
   {
    "duration": 8,
    "start_time": "2022-09-12T11:07:51.634Z"
   },
   {
    "duration": 16,
    "start_time": "2022-09-12T11:07:51.643Z"
   },
   {
    "duration": 189,
    "start_time": "2022-09-12T11:07:51.660Z"
   },
   {
    "duration": 218,
    "start_time": "2022-09-12T11:07:51.851Z"
   },
   {
    "duration": 3,
    "start_time": "2022-09-12T11:07:52.072Z"
   },
   {
    "duration": 383741,
    "start_time": "2022-09-12T11:07:52.076Z"
   },
   {
    "duration": 808,
    "start_time": "2022-09-12T11:14:15.818Z"
   },
   {
    "duration": 2,
    "start_time": "2022-09-12T11:14:16.628Z"
   },
   {
    "duration": 22182,
    "start_time": "2022-09-12T11:14:16.631Z"
   },
   {
    "duration": 422,
    "start_time": "2022-09-12T11:14:38.814Z"
   },
   {
    "duration": 2,
    "start_time": "2022-09-12T11:14:39.238Z"
   },
   {
    "duration": 23350,
    "start_time": "2022-09-12T11:14:39.241Z"
   },
   {
    "duration": 439,
    "start_time": "2022-09-12T11:15:02.592Z"
   },
   {
    "duration": 3,
    "start_time": "2022-09-12T11:15:03.032Z"
   },
   {
    "duration": 7,
    "start_time": "2022-09-12T11:15:03.037Z"
   },
   {
    "duration": 10,
    "start_time": "2022-09-12T11:15:03.045Z"
   },
   {
    "duration": 750,
    "start_time": "2022-09-12T11:15:03.057Z"
   },
   {
    "duration": 713,
    "start_time": "2022-09-12T11:20:11.424Z"
   },
   {
    "duration": 9,
    "start_time": "2022-09-12T11:20:12.139Z"
   },
   {
    "duration": 4,
    "start_time": "2022-09-12T11:21:08.489Z"
   },
   {
    "duration": 4,
    "start_time": "2022-09-12T11:21:32.162Z"
   },
   {
    "duration": 1205,
    "start_time": "2022-09-12T12:54:57.568Z"
   },
   {
    "duration": 843,
    "start_time": "2022-09-12T12:54:58.775Z"
   },
   {
    "duration": 428,
    "start_time": "2022-09-12T12:54:59.620Z"
   },
   {
    "duration": 498,
    "start_time": "2022-09-12T12:55:00.049Z"
   },
   {
    "duration": 437,
    "start_time": "2022-09-12T12:55:00.550Z"
   },
   {
    "duration": 17,
    "start_time": "2022-09-12T12:55:00.989Z"
   },
   {
    "duration": 16,
    "start_time": "2022-09-12T12:55:01.008Z"
   },
   {
    "duration": 11,
    "start_time": "2022-09-12T12:55:01.026Z"
   },
   {
    "duration": 67,
    "start_time": "2022-09-12T12:55:01.039Z"
   },
   {
    "duration": 65,
    "start_time": "2022-09-12T12:55:01.108Z"
   },
   {
    "duration": 88,
    "start_time": "2022-09-12T12:55:01.175Z"
   },
   {
    "duration": 65,
    "start_time": "2022-09-12T12:55:01.266Z"
   },
   {
    "duration": 84,
    "start_time": "2022-09-12T12:55:01.333Z"
   },
   {
    "duration": 6,
    "start_time": "2022-09-12T12:55:01.420Z"
   },
   {
    "duration": 34,
    "start_time": "2022-09-12T12:55:01.428Z"
   },
   {
    "duration": 825,
    "start_time": "2022-09-12T12:55:01.464Z"
   },
   {
    "duration": 215,
    "start_time": "2022-09-12T12:55:02.290Z"
   },
   {
    "duration": 318,
    "start_time": "2022-09-12T12:55:02.506Z"
   },
   {
    "duration": 105,
    "start_time": "2022-09-12T12:55:02.825Z"
   },
   {
    "duration": 4,
    "start_time": "2022-09-12T12:55:02.931Z"
   },
   {
    "duration": 7,
    "start_time": "2022-09-12T12:55:02.936Z"
   },
   {
    "duration": 16,
    "start_time": "2022-09-12T12:55:02.944Z"
   },
   {
    "duration": 218,
    "start_time": "2022-09-12T12:55:02.961Z"
   },
   {
    "duration": 220,
    "start_time": "2022-09-12T12:55:03.180Z"
   },
   {
    "duration": 4,
    "start_time": "2022-09-12T12:55:03.402Z"
   },
   {
    "duration": 216701,
    "start_time": "2022-09-12T12:55:03.407Z"
   },
   {
    "duration": 721,
    "start_time": "2022-09-12T12:58:40.109Z"
   },
   {
    "duration": 3,
    "start_time": "2022-09-12T12:58:40.906Z"
   },
   {
    "duration": 15797,
    "start_time": "2022-09-12T12:58:40.910Z"
   },
   {
    "duration": 426,
    "start_time": "2022-09-12T12:58:56.708Z"
   },
   {
    "duration": 3,
    "start_time": "2022-09-12T12:58:57.135Z"
   },
   {
    "duration": 23692,
    "start_time": "2022-09-12T12:58:57.139Z"
   },
   {
    "duration": 271,
    "start_time": "2022-09-12T12:59:20.832Z"
   },
   {
    "duration": 3,
    "start_time": "2022-09-12T12:59:21.104Z"
   },
   {
    "duration": 7,
    "start_time": "2022-09-12T12:59:21.109Z"
   },
   {
    "duration": 10,
    "start_time": "2022-09-12T12:59:21.117Z"
   },
   {
    "duration": 691,
    "start_time": "2022-09-12T12:59:21.129Z"
   },
   {
    "duration": 5,
    "start_time": "2022-09-12T12:59:21.822Z"
   },
   {
    "duration": 84,
    "start_time": "2022-09-13T05:29:40.525Z"
   },
   {
    "duration": 1324,
    "start_time": "2022-09-13T05:29:53.744Z"
   },
   {
    "duration": 1285,
    "start_time": "2022-09-13T05:29:55.069Z"
   },
   {
    "duration": 484,
    "start_time": "2022-09-13T05:29:56.355Z"
   },
   {
    "duration": 465,
    "start_time": "2022-09-13T05:29:56.841Z"
   },
   {
    "duration": 429,
    "start_time": "2022-09-13T05:29:57.309Z"
   },
   {
    "duration": 10,
    "start_time": "2022-09-13T05:29:57.739Z"
   },
   {
    "duration": 24,
    "start_time": "2022-09-13T05:29:57.750Z"
   },
   {
    "duration": 12,
    "start_time": "2022-09-13T05:29:57.776Z"
   },
   {
    "duration": 68,
    "start_time": "2022-09-13T05:29:57.789Z"
   },
   {
    "duration": 97,
    "start_time": "2022-09-13T05:29:57.859Z"
   },
   {
    "duration": 111,
    "start_time": "2022-09-13T05:29:57.958Z"
   },
   {
    "duration": 81,
    "start_time": "2022-09-13T05:29:58.071Z"
   },
   {
    "duration": 71,
    "start_time": "2022-09-13T05:29:58.153Z"
   },
   {
    "duration": 20,
    "start_time": "2022-09-13T05:29:58.227Z"
   },
   {
    "duration": 50,
    "start_time": "2022-09-13T05:29:58.248Z"
   },
   {
    "duration": 759,
    "start_time": "2022-09-13T05:29:58.299Z"
   },
   {
    "duration": 219,
    "start_time": "2022-09-13T05:29:59.060Z"
   },
   {
    "duration": 318,
    "start_time": "2022-09-13T05:29:59.281Z"
   },
   {
    "duration": 107,
    "start_time": "2022-09-13T05:29:59.601Z"
   },
   {
    "duration": 4,
    "start_time": "2022-09-13T05:29:59.709Z"
   },
   {
    "duration": 6,
    "start_time": "2022-09-13T05:29:59.715Z"
   },
   {
    "duration": 33,
    "start_time": "2022-09-13T05:29:59.723Z"
   },
   {
    "duration": 205,
    "start_time": "2022-09-13T05:29:59.757Z"
   },
   {
    "duration": 226,
    "start_time": "2022-09-13T05:29:59.964Z"
   },
   {
    "duration": 2,
    "start_time": "2022-09-13T05:30:00.192Z"
   },
   {
    "duration": 387861,
    "start_time": "2022-09-13T05:30:00.196Z"
   },
   {
    "duration": 893,
    "start_time": "2022-09-13T05:36:28.059Z"
   },
   {
    "duration": 3,
    "start_time": "2022-09-13T05:36:28.953Z"
   },
   {
    "duration": 24694,
    "start_time": "2022-09-13T05:36:28.958Z"
   },
   {
    "duration": 407,
    "start_time": "2022-09-13T05:36:53.654Z"
   },
   {
    "duration": 3,
    "start_time": "2022-09-13T05:36:54.063Z"
   },
   {
    "duration": 24714,
    "start_time": "2022-09-13T05:36:54.067Z"
   },
   {
    "duration": 262,
    "start_time": "2022-09-13T05:37:18.783Z"
   },
   {
    "duration": 4,
    "start_time": "2022-09-13T05:37:19.047Z"
   },
   {
    "duration": 13,
    "start_time": "2022-09-13T05:37:19.052Z"
   },
   {
    "duration": 13,
    "start_time": "2022-09-13T05:37:19.067Z"
   },
   {
    "duration": 869,
    "start_time": "2022-09-13T05:37:19.082Z"
   },
   {
    "duration": 4,
    "start_time": "2022-09-13T05:37:19.953Z"
   },
   {
    "duration": 123,
    "start_time": "2022-09-13T05:52:34.030Z"
   },
   {
    "duration": 172,
    "start_time": "2022-09-13T06:25:50.510Z"
   },
   {
    "duration": 750,
    "start_time": "2022-09-13T06:26:53.120Z"
   },
   {
    "duration": 773,
    "start_time": "2022-09-13T06:26:57.996Z"
   },
   {
    "duration": 830,
    "start_time": "2022-09-13T06:27:01.826Z"
   },
   {
    "duration": 823,
    "start_time": "2022-09-13T06:27:04.632Z"
   },
   {
    "duration": 251,
    "start_time": "2022-09-13T06:27:14.297Z"
   },
   {
    "duration": 3,
    "start_time": "2022-09-13T06:27:24.209Z"
   },
   {
    "duration": 4,
    "start_time": "2022-09-13T06:27:25.287Z"
   },
   {
    "duration": 8,
    "start_time": "2022-09-13T06:27:25.761Z"
   },
   {
    "duration": 3,
    "start_time": "2022-09-13T06:27:31.618Z"
   },
   {
    "duration": 5,
    "start_time": "2022-09-13T06:27:31.984Z"
   },
   {
    "duration": 3,
    "start_time": "2022-09-13T06:27:42.729Z"
   },
   {
    "duration": 4,
    "start_time": "2022-09-13T06:27:43.034Z"
   },
   {
    "duration": 8,
    "start_time": "2022-09-13T06:27:43.744Z"
   },
   {
    "duration": 4,
    "start_time": "2022-09-13T06:28:02.970Z"
   },
   {
    "duration": 4,
    "start_time": "2022-09-13T06:28:03.696Z"
   },
   {
    "duration": 10,
    "start_time": "2022-09-13T06:28:04.033Z"
   },
   {
    "duration": 1967,
    "start_time": "2022-09-13T09:03:33.559Z"
   },
   {
    "duration": 1239,
    "start_time": "2022-09-13T09:03:35.528Z"
   },
   {
    "duration": 442,
    "start_time": "2022-09-13T09:03:36.769Z"
   },
   {
    "duration": 504,
    "start_time": "2022-09-13T09:03:37.212Z"
   },
   {
    "duration": 419,
    "start_time": "2022-09-13T09:03:37.718Z"
   },
   {
    "duration": 7,
    "start_time": "2022-09-13T09:03:38.138Z"
   },
   {
    "duration": 12,
    "start_time": "2022-09-13T09:03:38.146Z"
   },
   {
    "duration": 9,
    "start_time": "2022-09-13T09:03:38.160Z"
   },
   {
    "duration": 60,
    "start_time": "2022-09-13T09:03:38.170Z"
   },
   {
    "duration": 71,
    "start_time": "2022-09-13T09:03:38.232Z"
   },
   {
    "duration": 76,
    "start_time": "2022-09-13T09:03:38.305Z"
   },
   {
    "duration": 71,
    "start_time": "2022-09-13T09:03:38.383Z"
   },
   {
    "duration": 83,
    "start_time": "2022-09-13T09:03:38.457Z"
   },
   {
    "duration": 5,
    "start_time": "2022-09-13T09:03:38.543Z"
   },
   {
    "duration": 32,
    "start_time": "2022-09-13T09:03:38.550Z"
   },
   {
    "duration": 740,
    "start_time": "2022-09-13T09:03:38.583Z"
   },
   {
    "duration": 222,
    "start_time": "2022-09-13T09:03:39.325Z"
   },
   {
    "duration": 345,
    "start_time": "2022-09-13T09:03:39.549Z"
   },
   {
    "duration": 108,
    "start_time": "2022-09-13T09:03:39.895Z"
   },
   {
    "duration": 5,
    "start_time": "2022-09-13T09:03:40.004Z"
   },
   {
    "duration": 25,
    "start_time": "2022-09-13T09:03:40.010Z"
   },
   {
    "duration": 30,
    "start_time": "2022-09-13T09:03:40.036Z"
   },
   {
    "duration": 186,
    "start_time": "2022-09-13T09:03:40.068Z"
   },
   {
    "duration": 222,
    "start_time": "2022-09-13T09:03:40.255Z"
   },
   {
    "duration": 4,
    "start_time": "2022-09-13T09:03:40.478Z"
   },
   {
    "duration": 7,
    "start_time": "2022-09-13T09:03:40.483Z"
   },
   {
    "duration": 371,
    "start_time": "2022-09-13T09:03:40.491Z"
   },
   {
    "duration": 3,
    "start_time": "2022-09-13T09:03:40.863Z"
   },
   {
    "duration": 19941,
    "start_time": "2022-09-13T09:03:40.867Z"
   },
   {
    "duration": 293,
    "start_time": "2022-09-13T09:04:00.810Z"
   },
   {
    "duration": 4,
    "start_time": "2022-09-13T09:04:01.104Z"
   },
   {
    "duration": 25103,
    "start_time": "2022-09-13T09:04:01.109Z"
   },
   {
    "duration": 181,
    "start_time": "2022-09-13T09:04:26.213Z"
   },
   {
    "duration": 3,
    "start_time": "2022-09-13T09:04:26.401Z"
   },
   {
    "duration": 9,
    "start_time": "2022-09-13T09:04:26.406Z"
   },
   {
    "duration": 12,
    "start_time": "2022-09-13T09:04:26.417Z"
   },
   {
    "duration": 69,
    "start_time": "2022-09-13T09:04:26.432Z"
   },
   {
    "duration": 14,
    "start_time": "2022-09-13T09:04:26.504Z"
   },
   {
    "duration": 16,
    "start_time": "2022-09-13T09:04:37.367Z"
   },
   {
    "duration": 9,
    "start_time": "2022-09-13T09:04:55.967Z"
   },
   {
    "duration": 10,
    "start_time": "2022-09-13T09:07:09.655Z"
   },
   {
    "duration": 124,
    "start_time": "2022-09-13T09:09:42.536Z"
   },
   {
    "duration": 27,
    "start_time": "2022-09-13T09:12:11.124Z"
   },
   {
    "duration": 96,
    "start_time": "2022-09-13T09:16:40.595Z"
   },
   {
    "duration": 24,
    "start_time": "2022-09-13T09:18:49.567Z"
   },
   {
    "duration": 3,
    "start_time": "2022-09-13T09:18:58.897Z"
   },
   {
    "duration": 829,
    "start_time": "2022-09-13T09:18:58.902Z"
   },
   {
    "duration": 409,
    "start_time": "2022-09-13T09:18:59.733Z"
   },
   {
    "duration": 390,
    "start_time": "2022-09-13T09:19:00.143Z"
   },
   {
    "duration": 415,
    "start_time": "2022-09-13T09:19:00.536Z"
   },
   {
    "duration": 7,
    "start_time": "2022-09-13T09:19:00.953Z"
   },
   {
    "duration": 113,
    "start_time": "2022-09-13T09:19:00.962Z"
   },
   {
    "duration": 37,
    "start_time": "2022-09-13T09:19:01.076Z"
   },
   {
    "duration": 31,
    "start_time": "2022-09-13T09:19:01.115Z"
   },
   {
    "duration": 37,
    "start_time": "2022-09-13T09:19:01.148Z"
   },
   {
    "duration": 49,
    "start_time": "2022-09-13T09:19:01.187Z"
   },
   {
    "duration": 114,
    "start_time": "2022-09-13T09:19:01.238Z"
   },
   {
    "duration": 90,
    "start_time": "2022-09-13T09:19:01.354Z"
   },
   {
    "duration": 72,
    "start_time": "2022-09-13T09:19:01.447Z"
   },
   {
    "duration": 160,
    "start_time": "2022-09-13T09:19:01.521Z"
   },
   {
    "duration": 7,
    "start_time": "2022-09-13T09:19:01.683Z"
   },
   {
    "duration": 24,
    "start_time": "2022-09-13T09:19:01.707Z"
   },
   {
    "duration": 708,
    "start_time": "2022-09-13T09:19:01.733Z"
   },
   {
    "duration": 212,
    "start_time": "2022-09-13T09:19:02.443Z"
   },
   {
    "duration": 338,
    "start_time": "2022-09-13T09:19:02.657Z"
   },
   {
    "duration": 115,
    "start_time": "2022-09-13T09:19:02.997Z"
   },
   {
    "duration": 5,
    "start_time": "2022-09-13T09:19:03.116Z"
   },
   {
    "duration": 15,
    "start_time": "2022-09-13T09:19:03.123Z"
   },
   {
    "duration": 17,
    "start_time": "2022-09-13T09:19:03.139Z"
   },
   {
    "duration": 205,
    "start_time": "2022-09-13T09:19:03.158Z"
   },
   {
    "duration": 227,
    "start_time": "2022-09-13T09:19:03.365Z"
   },
   {
    "duration": 4,
    "start_time": "2022-09-13T09:19:03.593Z"
   },
   {
    "duration": 11,
    "start_time": "2022-09-13T09:19:03.600Z"
   },
   {
    "duration": 92,
    "start_time": "2022-09-13T09:19:03.615Z"
   },
   {
    "duration": 3,
    "start_time": "2022-09-13T09:19:03.709Z"
   },
   {
    "duration": 59589,
    "start_time": "2022-09-13T09:19:03.714Z"
   },
   {
    "duration": 208,
    "start_time": "2022-09-13T09:20:03.308Z"
   },
   {
    "duration": 80,
    "start_time": "2022-09-13T09:20:03.519Z"
   },
   {
    "duration": 27130,
    "start_time": "2022-09-13T09:20:03.607Z"
   },
   {
    "duration": 198,
    "start_time": "2022-09-13T09:20:30.738Z"
   },
   {
    "duration": 3,
    "start_time": "2022-09-13T09:20:30.937Z"
   },
   {
    "duration": 20,
    "start_time": "2022-09-13T09:20:30.942Z"
   },
   {
    "duration": 21,
    "start_time": "2022-09-13T09:20:30.963Z"
   },
   {
    "duration": 101,
    "start_time": "2022-09-13T09:20:30.985Z"
   },
   {
    "duration": 9,
    "start_time": "2022-09-13T09:20:31.088Z"
   },
   {
    "duration": 146,
    "start_time": "2022-09-13T09:21:38.254Z"
   },
   {
    "duration": 96,
    "start_time": "2022-09-13T09:22:29.239Z"
   },
   {
    "duration": 22,
    "start_time": "2022-09-13T09:22:30.023Z"
   },
   {
    "duration": 136,
    "start_time": "2022-09-13T09:22:36.062Z"
   },
   {
    "duration": 22,
    "start_time": "2022-09-13T09:24:52.480Z"
   },
   {
    "duration": 3,
    "start_time": "2022-09-13T09:24:55.795Z"
   },
   {
    "duration": 768,
    "start_time": "2022-09-13T09:24:55.800Z"
   },
   {
    "duration": 365,
    "start_time": "2022-09-13T09:24:56.569Z"
   },
   {
    "duration": 384,
    "start_time": "2022-09-13T09:24:56.936Z"
   },
   {
    "duration": 387,
    "start_time": "2022-09-13T09:24:57.322Z"
   },
   {
    "duration": 9,
    "start_time": "2022-09-13T09:24:57.710Z"
   },
   {
    "duration": 101,
    "start_time": "2022-09-13T09:24:57.720Z"
   },
   {
    "duration": 23,
    "start_time": "2022-09-13T09:24:57.823Z"
   },
   {
    "duration": 12,
    "start_time": "2022-09-13T09:24:57.848Z"
   },
   {
    "duration": 10,
    "start_time": "2022-09-13T09:24:57.862Z"
   },
   {
    "duration": 54,
    "start_time": "2022-09-13T09:24:57.874Z"
   },
   {
    "duration": 87,
    "start_time": "2022-09-13T09:24:57.930Z"
   },
   {
    "duration": 88,
    "start_time": "2022-09-13T09:24:58.019Z"
   },
   {
    "duration": 71,
    "start_time": "2022-09-13T09:24:58.109Z"
   },
   {
    "duration": 83,
    "start_time": "2022-09-13T09:24:58.182Z"
   },
   {
    "duration": 150,
    "start_time": "2022-09-13T09:24:58.267Z"
   },
   {
    "duration": 23,
    "start_time": "2022-09-13T09:24:58.419Z"
   },
   {
    "duration": 7,
    "start_time": "2022-09-13T09:24:58.444Z"
   },
   {
    "duration": 25,
    "start_time": "2022-09-13T09:24:58.452Z"
   },
   {
    "duration": 760,
    "start_time": "2022-09-13T09:24:58.479Z"
   },
   {
    "duration": 208,
    "start_time": "2022-09-13T09:24:59.241Z"
   },
   {
    "duration": 327,
    "start_time": "2022-09-13T09:24:59.451Z"
   },
   {
    "duration": 110,
    "start_time": "2022-09-13T09:24:59.780Z"
   },
   {
    "duration": 4,
    "start_time": "2022-09-13T09:24:59.891Z"
   },
   {
    "duration": 14,
    "start_time": "2022-09-13T09:24:59.900Z"
   },
   {
    "duration": 24,
    "start_time": "2022-09-13T09:24:59.916Z"
   },
   {
    "duration": 193,
    "start_time": "2022-09-13T09:24:59.941Z"
   },
   {
    "duration": 223,
    "start_time": "2022-09-13T09:25:00.136Z"
   },
   {
    "duration": 3,
    "start_time": "2022-09-13T09:25:00.362Z"
   },
   {
    "duration": 23,
    "start_time": "2022-09-13T09:25:00.367Z"
   },
   {
    "duration": 453,
    "start_time": "2022-09-13T09:25:00.392Z"
   },
   {
    "duration": 3,
    "start_time": "2022-09-13T09:25:00.847Z"
   },
   {
    "duration": 38366,
    "start_time": "2022-09-13T09:25:00.852Z"
   },
   {
    "duration": 188,
    "start_time": "2022-09-13T09:25:39.220Z"
   },
   {
    "duration": 7,
    "start_time": "2022-09-13T09:25:39.410Z"
   },
   {
    "duration": 25834,
    "start_time": "2022-09-13T09:25:39.419Z"
   },
   {
    "duration": 172,
    "start_time": "2022-09-13T09:26:05.254Z"
   },
   {
    "duration": 4,
    "start_time": "2022-09-13T09:26:05.428Z"
   },
   {
    "duration": 5,
    "start_time": "2022-09-13T09:26:05.434Z"
   },
   {
    "duration": 32,
    "start_time": "2022-09-13T09:26:05.441Z"
   },
   {
    "duration": 66,
    "start_time": "2022-09-13T09:26:05.475Z"
   },
   {
    "duration": 7,
    "start_time": "2022-09-13T09:26:05.543Z"
   },
   {
    "duration": 2,
    "start_time": "2022-09-13T09:46:52.696Z"
   },
   {
    "duration": 4,
    "start_time": "2022-09-13T09:46:53.135Z"
   },
   {
    "duration": 16,
    "start_time": "2022-09-13T09:46:56.998Z"
   },
   {
    "duration": 72,
    "start_time": "2022-09-13T10:45:26.062Z"
   },
   {
    "duration": 109,
    "start_time": "2022-09-13T10:45:31.356Z"
   },
   {
    "duration": 291,
    "start_time": "2022-09-13T10:48:57.224Z"
   },
   {
    "duration": 751,
    "start_time": "2022-09-13T10:49:12.271Z"
   },
   {
    "duration": 5,
    "start_time": "2022-09-13T10:50:45.583Z"
   },
   {
    "duration": 56,
    "start_time": "2022-09-13T10:50:46.160Z"
   },
   {
    "duration": 62,
    "start_time": "2022-09-13T10:55:50.441Z"
   },
   {
    "duration": 67,
    "start_time": "2022-09-13T10:56:23.252Z"
   },
   {
    "duration": 149,
    "start_time": "2022-09-13T10:56:32.156Z"
   },
   {
    "duration": 30,
    "start_time": "2022-09-13T10:59:55.326Z"
   },
   {
    "duration": 56,
    "start_time": "2022-09-13T11:00:12.003Z"
   },
   {
    "duration": 10087,
    "start_time": "2022-09-13T11:03:00.915Z"
   },
   {
    "duration": 47454,
    "start_time": "2022-09-13T11:03:31.952Z"
   },
   {
    "duration": 4,
    "start_time": "2022-09-13T11:04:36.988Z"
   },
   {
    "duration": 3,
    "start_time": "2022-09-13T11:04:37.412Z"
   },
   {
    "duration": 9,
    "start_time": "2022-09-13T11:04:37.860Z"
   },
   {
    "duration": 7047,
    "start_time": "2022-09-13T11:05:03.870Z"
   },
   {
    "duration": 7191,
    "start_time": "2022-09-13T11:05:42.934Z"
   },
   {
    "duration": 1357,
    "start_time": "2022-09-13T11:12:00.262Z"
   },
   {
    "duration": 882,
    "start_time": "2022-09-13T11:12:01.621Z"
   },
   {
    "duration": 449,
    "start_time": "2022-09-13T11:12:02.505Z"
   },
   {
    "duration": 483,
    "start_time": "2022-09-13T11:12:02.956Z"
   },
   {
    "duration": 405,
    "start_time": "2022-09-13T11:12:03.441Z"
   },
   {
    "duration": 8,
    "start_time": "2022-09-13T11:12:03.848Z"
   },
   {
    "duration": 118,
    "start_time": "2022-09-13T11:12:03.858Z"
   },
   {
    "duration": 123,
    "start_time": "2022-09-13T11:12:03.978Z"
   },
   {
    "duration": 0,
    "start_time": "2022-09-13T11:12:04.104Z"
   },
   {
    "duration": 0,
    "start_time": "2022-09-13T11:12:04.105Z"
   },
   {
    "duration": 1,
    "start_time": "2022-09-13T11:12:04.106Z"
   },
   {
    "duration": 0,
    "start_time": "2022-09-13T11:12:04.108Z"
   },
   {
    "duration": 0,
    "start_time": "2022-09-13T11:12:04.109Z"
   },
   {
    "duration": 0,
    "start_time": "2022-09-13T11:12:04.111Z"
   },
   {
    "duration": 0,
    "start_time": "2022-09-13T11:12:04.113Z"
   },
   {
    "duration": 0,
    "start_time": "2022-09-13T11:12:04.114Z"
   },
   {
    "duration": 0,
    "start_time": "2022-09-13T11:12:04.116Z"
   },
   {
    "duration": 0,
    "start_time": "2022-09-13T11:12:04.118Z"
   },
   {
    "duration": 0,
    "start_time": "2022-09-13T11:12:04.119Z"
   },
   {
    "duration": 0,
    "start_time": "2022-09-13T11:12:04.120Z"
   },
   {
    "duration": 0,
    "start_time": "2022-09-13T11:12:04.122Z"
   },
   {
    "duration": 0,
    "start_time": "2022-09-13T11:12:04.123Z"
   },
   {
    "duration": 0,
    "start_time": "2022-09-13T11:12:04.124Z"
   },
   {
    "duration": 0,
    "start_time": "2022-09-13T11:12:04.125Z"
   },
   {
    "duration": 0,
    "start_time": "2022-09-13T11:12:04.126Z"
   },
   {
    "duration": 0,
    "start_time": "2022-09-13T11:12:04.127Z"
   },
   {
    "duration": 0,
    "start_time": "2022-09-13T11:12:04.128Z"
   },
   {
    "duration": 0,
    "start_time": "2022-09-13T11:12:04.129Z"
   },
   {
    "duration": 0,
    "start_time": "2022-09-13T11:12:04.130Z"
   },
   {
    "duration": 0,
    "start_time": "2022-09-13T11:12:04.131Z"
   },
   {
    "duration": 0,
    "start_time": "2022-09-13T11:12:04.132Z"
   },
   {
    "duration": 0,
    "start_time": "2022-09-13T11:12:04.133Z"
   },
   {
    "duration": 0,
    "start_time": "2022-09-13T11:12:04.135Z"
   },
   {
    "duration": 0,
    "start_time": "2022-09-13T11:12:04.136Z"
   },
   {
    "duration": 0,
    "start_time": "2022-09-13T11:12:04.137Z"
   },
   {
    "duration": 0,
    "start_time": "2022-09-13T11:12:04.139Z"
   },
   {
    "duration": 0,
    "start_time": "2022-09-13T11:12:04.140Z"
   },
   {
    "duration": 0,
    "start_time": "2022-09-13T11:12:04.141Z"
   },
   {
    "duration": 0,
    "start_time": "2022-09-13T11:12:04.142Z"
   },
   {
    "duration": 0,
    "start_time": "2022-09-13T11:12:04.142Z"
   },
   {
    "duration": 0,
    "start_time": "2022-09-13T11:12:04.143Z"
   },
   {
    "duration": 0,
    "start_time": "2022-09-13T11:12:04.143Z"
   },
   {
    "duration": 0,
    "start_time": "2022-09-13T11:12:04.144Z"
   },
   {
    "duration": 0,
    "start_time": "2022-09-13T11:12:04.144Z"
   },
   {
    "duration": 0,
    "start_time": "2022-09-13T11:12:04.145Z"
   },
   {
    "duration": 0,
    "start_time": "2022-09-13T11:12:04.145Z"
   },
   {
    "duration": 9,
    "start_time": "2022-09-13T11:12:37.108Z"
   },
   {
    "duration": 9,
    "start_time": "2022-09-13T11:12:43.044Z"
   },
   {
    "duration": 9,
    "start_time": "2022-09-13T11:12:46.796Z"
   },
   {
    "duration": 45,
    "start_time": "2022-09-13T11:12:52.158Z"
   },
   {
    "duration": 1303,
    "start_time": "2022-09-13T11:13:04.008Z"
   },
   {
    "duration": 869,
    "start_time": "2022-09-13T11:13:05.313Z"
   },
   {
    "duration": 442,
    "start_time": "2022-09-13T11:13:06.183Z"
   },
   {
    "duration": 462,
    "start_time": "2022-09-13T11:13:06.628Z"
   },
   {
    "duration": 408,
    "start_time": "2022-09-13T11:13:07.092Z"
   },
   {
    "duration": 7,
    "start_time": "2022-09-13T11:13:07.502Z"
   },
   {
    "duration": 113,
    "start_time": "2022-09-13T11:13:07.511Z"
   },
   {
    "duration": 41,
    "start_time": "2022-09-13T11:13:07.625Z"
   },
   {
    "duration": 32,
    "start_time": "2022-09-13T11:13:07.668Z"
   },
   {
    "duration": 10,
    "start_time": "2022-09-13T11:13:07.703Z"
   },
   {
    "duration": 47,
    "start_time": "2022-09-13T11:13:07.715Z"
   },
   {
    "duration": 79,
    "start_time": "2022-09-13T11:13:07.763Z"
   },
   {
    "duration": 83,
    "start_time": "2022-09-13T11:13:07.845Z"
   },
   {
    "duration": 71,
    "start_time": "2022-09-13T11:13:07.929Z"
   },
   {
    "duration": 67,
    "start_time": "2022-09-13T11:13:08.002Z"
   },
   {
    "duration": 123,
    "start_time": "2022-09-13T11:13:08.070Z"
   },
   {
    "duration": 33,
    "start_time": "2022-09-13T11:13:08.195Z"
   },
   {
    "duration": 6,
    "start_time": "2022-09-13T11:13:08.230Z"
   },
   {
    "duration": 31,
    "start_time": "2022-09-13T11:13:08.237Z"
   },
   {
    "duration": 700,
    "start_time": "2022-09-13T11:13:08.269Z"
   },
   {
    "duration": 210,
    "start_time": "2022-09-13T11:13:08.971Z"
   },
   {
    "duration": 314,
    "start_time": "2022-09-13T11:13:09.183Z"
   },
   {
    "duration": 109,
    "start_time": "2022-09-13T11:13:09.500Z"
   },
   {
    "duration": 4,
    "start_time": "2022-09-13T11:13:09.610Z"
   },
   {
    "duration": 7,
    "start_time": "2022-09-13T11:13:09.615Z"
   },
   {
    "duration": 16,
    "start_time": "2022-09-13T11:13:09.623Z"
   },
   {
    "duration": 198,
    "start_time": "2022-09-13T11:13:09.640Z"
   },
   {
    "duration": 2,
    "start_time": "2022-09-13T11:13:09.841Z"
   },
   {
    "duration": 5,
    "start_time": "2022-09-13T11:13:09.845Z"
   },
   {
    "duration": 7,
    "start_time": "2022-09-13T11:13:09.852Z"
   },
   {
    "duration": 135,
    "start_time": "2022-09-13T11:13:09.860Z"
   },
   {
    "duration": 0,
    "start_time": "2022-09-13T11:13:09.996Z"
   },
   {
    "duration": 0,
    "start_time": "2022-09-13T11:13:10.000Z"
   },
   {
    "duration": 0,
    "start_time": "2022-09-13T11:13:10.002Z"
   },
   {
    "duration": 0,
    "start_time": "2022-09-13T11:13:10.003Z"
   },
   {
    "duration": 0,
    "start_time": "2022-09-13T11:13:10.004Z"
   },
   {
    "duration": 0,
    "start_time": "2022-09-13T11:13:10.005Z"
   },
   {
    "duration": 0,
    "start_time": "2022-09-13T11:13:10.007Z"
   },
   {
    "duration": 0,
    "start_time": "2022-09-13T11:13:10.008Z"
   },
   {
    "duration": 0,
    "start_time": "2022-09-13T11:13:10.010Z"
   },
   {
    "duration": 0,
    "start_time": "2022-09-13T11:13:10.011Z"
   },
   {
    "duration": 0,
    "start_time": "2022-09-13T11:13:10.012Z"
   },
   {
    "duration": 0,
    "start_time": "2022-09-13T11:13:10.014Z"
   },
   {
    "duration": 1,
    "start_time": "2022-09-13T11:13:10.014Z"
   },
   {
    "duration": 0,
    "start_time": "2022-09-13T11:13:10.015Z"
   },
   {
    "duration": 0,
    "start_time": "2022-09-13T11:13:10.016Z"
   },
   {
    "duration": 5,
    "start_time": "2022-09-13T11:13:26.580Z"
   },
   {
    "duration": 89,
    "start_time": "2022-09-13T11:13:27.451Z"
   },
   {
    "duration": 3,
    "start_time": "2022-09-13T11:13:52.300Z"
   },
   {
    "duration": 2,
    "start_time": "2022-09-13T11:13:53.117Z"
   },
   {
    "duration": 57,
    "start_time": "2022-09-13T11:13:53.469Z"
   },
   {
    "duration": 1310,
    "start_time": "2022-09-13T11:14:36.499Z"
   },
   {
    "duration": 881,
    "start_time": "2022-09-13T11:14:37.811Z"
   },
   {
    "duration": 463,
    "start_time": "2022-09-13T11:14:38.694Z"
   },
   {
    "duration": 505,
    "start_time": "2022-09-13T11:14:39.159Z"
   },
   {
    "duration": 425,
    "start_time": "2022-09-13T11:14:39.665Z"
   },
   {
    "duration": 10,
    "start_time": "2022-09-13T11:14:40.092Z"
   },
   {
    "duration": 110,
    "start_time": "2022-09-13T11:14:40.104Z"
   },
   {
    "duration": 42,
    "start_time": "2022-09-13T11:14:40.216Z"
   },
   {
    "duration": 14,
    "start_time": "2022-09-13T11:14:40.260Z"
   },
   {
    "duration": 27,
    "start_time": "2022-09-13T11:14:40.276Z"
   },
   {
    "duration": 43,
    "start_time": "2022-09-13T11:14:40.304Z"
   },
   {
    "duration": 80,
    "start_time": "2022-09-13T11:14:40.348Z"
   },
   {
    "duration": 82,
    "start_time": "2022-09-13T11:14:40.430Z"
   },
   {
    "duration": 60,
    "start_time": "2022-09-13T11:14:40.514Z"
   },
   {
    "duration": 136,
    "start_time": "2022-09-13T11:14:40.575Z"
   },
   {
    "duration": 231,
    "start_time": "2022-09-13T11:14:40.713Z"
   },
   {
    "duration": 42,
    "start_time": "2022-09-13T11:14:41.000Z"
   },
   {
    "duration": 61,
    "start_time": "2022-09-13T11:14:41.043Z"
   },
   {
    "duration": 38,
    "start_time": "2022-09-13T11:14:41.105Z"
   },
   {
    "duration": 1443,
    "start_time": "2022-09-13T11:14:41.144Z"
   },
   {
    "duration": 214,
    "start_time": "2022-09-13T11:14:42.588Z"
   },
   {
    "duration": 325,
    "start_time": "2022-09-13T11:14:42.803Z"
   },
   {
    "duration": 106,
    "start_time": "2022-09-13T11:14:43.129Z"
   },
   {
    "duration": 3,
    "start_time": "2022-09-13T11:14:43.237Z"
   },
   {
    "duration": 20,
    "start_time": "2022-09-13T11:14:43.242Z"
   },
   {
    "duration": 16,
    "start_time": "2022-09-13T11:14:43.264Z"
   },
   {
    "duration": 192,
    "start_time": "2022-09-13T11:14:43.281Z"
   },
   {
    "duration": 2,
    "start_time": "2022-09-13T11:14:43.476Z"
   },
   {
    "duration": 7,
    "start_time": "2022-09-13T11:14:43.479Z"
   },
   {
    "duration": 14,
    "start_time": "2022-09-13T11:14:43.487Z"
   },
   {
    "duration": 5,
    "start_time": "2022-09-13T11:14:43.502Z"
   },
   {
    "duration": 150,
    "start_time": "2022-09-13T11:14:43.509Z"
   },
   {
    "duration": 2,
    "start_time": "2022-09-13T11:14:43.661Z"
   },
   {
    "duration": 69,
    "start_time": "2022-09-13T11:14:43.665Z"
   },
   {
    "duration": 2,
    "start_time": "2022-09-13T11:14:43.735Z"
   },
   {
    "duration": 18570,
    "start_time": "2022-09-13T11:14:43.739Z"
   },
   {
    "duration": 204,
    "start_time": "2022-09-13T11:15:02.310Z"
   },
   {
    "duration": 90,
    "start_time": "2022-09-13T11:15:02.515Z"
   },
   {
    "duration": 24562,
    "start_time": "2022-09-13T11:15:02.608Z"
   },
   {
    "duration": 180,
    "start_time": "2022-09-13T11:15:27.172Z"
   },
   {
    "duration": 3,
    "start_time": "2022-09-13T11:15:27.353Z"
   },
   {
    "duration": 7,
    "start_time": "2022-09-13T11:15:27.358Z"
   },
   {
    "duration": 11,
    "start_time": "2022-09-13T11:15:27.367Z"
   },
   {
    "duration": 68,
    "start_time": "2022-09-13T11:15:27.380Z"
   },
   {
    "duration": 11,
    "start_time": "2022-09-13T11:15:27.449Z"
   },
   {
    "duration": 117,
    "start_time": "2022-09-13T11:17:26.746Z"
   },
   {
    "duration": 64,
    "start_time": "2022-09-13T11:18:27.280Z"
   },
   {
    "duration": 142,
    "start_time": "2022-09-13T12:37:22.989Z"
   },
   {
    "duration": 74,
    "start_time": "2022-09-13T12:37:42.290Z"
   },
   {
    "duration": 77,
    "start_time": "2022-09-13T12:37:51.802Z"
   },
   {
    "duration": 1778,
    "start_time": "2022-09-13T12:38:04.973Z"
   },
   {
    "duration": 2726,
    "start_time": "2022-09-13T12:38:06.753Z"
   },
   {
    "duration": 421,
    "start_time": "2022-09-13T12:38:09.481Z"
   },
   {
    "duration": 431,
    "start_time": "2022-09-13T12:38:09.905Z"
   },
   {
    "duration": 407,
    "start_time": "2022-09-13T12:38:10.338Z"
   },
   {
    "duration": 8,
    "start_time": "2022-09-13T12:38:10.746Z"
   },
   {
    "duration": 110,
    "start_time": "2022-09-13T12:38:10.755Z"
   },
   {
    "duration": 38,
    "start_time": "2022-09-13T12:38:10.868Z"
   },
   {
    "duration": 13,
    "start_time": "2022-09-13T12:38:10.908Z"
   },
   {
    "duration": 10,
    "start_time": "2022-09-13T12:38:10.924Z"
   },
   {
    "duration": 65,
    "start_time": "2022-09-13T12:38:10.936Z"
   },
   {
    "duration": 63,
    "start_time": "2022-09-13T12:38:11.003Z"
   },
   {
    "duration": 75,
    "start_time": "2022-09-13T12:38:11.068Z"
   },
   {
    "duration": 65,
    "start_time": "2022-09-13T12:38:11.144Z"
   },
   {
    "duration": 78,
    "start_time": "2022-09-13T12:38:11.211Z"
   },
   {
    "duration": 123,
    "start_time": "2022-09-13T12:38:11.291Z"
   },
   {
    "duration": 32,
    "start_time": "2022-09-13T12:38:11.415Z"
   },
   {
    "duration": 6,
    "start_time": "2022-09-13T12:38:11.448Z"
   },
   {
    "duration": 43,
    "start_time": "2022-09-13T12:38:11.455Z"
   },
   {
    "duration": 820,
    "start_time": "2022-09-13T12:38:11.500Z"
   },
   {
    "duration": 549,
    "start_time": "2022-09-13T12:38:12.321Z"
   },
   {
    "duration": 353,
    "start_time": "2022-09-13T12:38:12.872Z"
   },
   {
    "duration": 132,
    "start_time": "2022-09-13T12:38:13.227Z"
   },
   {
    "duration": 4,
    "start_time": "2022-09-13T12:38:13.360Z"
   },
   {
    "duration": 4,
    "start_time": "2022-09-13T12:38:13.376Z"
   },
   {
    "duration": 17,
    "start_time": "2022-09-13T12:38:13.382Z"
   },
   {
    "duration": 193,
    "start_time": "2022-09-13T12:38:13.400Z"
   },
   {
    "duration": 2,
    "start_time": "2022-09-13T12:38:13.596Z"
   },
   {
    "duration": 10,
    "start_time": "2022-09-13T12:38:13.599Z"
   },
   {
    "duration": 5,
    "start_time": "2022-09-13T12:38:13.611Z"
   },
   {
    "duration": 10,
    "start_time": "2022-09-13T12:38:13.618Z"
   },
   {
    "duration": 365,
    "start_time": "2022-09-13T12:38:13.630Z"
   },
   {
    "duration": 3,
    "start_time": "2022-09-13T12:38:13.996Z"
   },
   {
    "duration": 141,
    "start_time": "2022-09-13T12:38:14.000Z"
   },
   {
    "duration": 2,
    "start_time": "2022-09-13T12:38:14.143Z"
   },
   {
    "duration": 25560,
    "start_time": "2022-09-13T12:38:14.146Z"
   },
   {
    "duration": 471,
    "start_time": "2022-09-13T12:38:39.708Z"
   },
   {
    "duration": 3,
    "start_time": "2022-09-13T12:38:40.181Z"
   },
   {
    "duration": 24276,
    "start_time": "2022-09-13T12:38:40.186Z"
   },
   {
    "duration": 358,
    "start_time": "2022-09-13T12:39:04.463Z"
   },
   {
    "duration": 4,
    "start_time": "2022-09-13T12:39:04.823Z"
   },
   {
    "duration": 11,
    "start_time": "2022-09-13T12:39:04.828Z"
   },
   {
    "duration": 12,
    "start_time": "2022-09-13T12:39:04.841Z"
   },
   {
    "duration": 129,
    "start_time": "2022-09-13T12:39:04.855Z"
   },
   {
    "duration": 9,
    "start_time": "2022-09-13T12:39:04.985Z"
   },
   {
    "duration": 0,
    "start_time": "2022-09-13T12:39:04.996Z"
   },
   {
    "duration": 859,
    "start_time": "2022-09-13T12:40:02.582Z"
   },
   {
    "duration": 1425,
    "start_time": "2022-09-13T12:41:08.791Z"
   },
   {
    "duration": 1048,
    "start_time": "2022-09-13T12:41:10.218Z"
   },
   {
    "duration": 423,
    "start_time": "2022-09-13T12:41:11.268Z"
   },
   {
    "duration": 461,
    "start_time": "2022-09-13T12:41:11.693Z"
   },
   {
    "duration": 391,
    "start_time": "2022-09-13T12:41:12.156Z"
   },
   {
    "duration": 8,
    "start_time": "2022-09-13T12:41:12.548Z"
   },
   {
    "duration": 121,
    "start_time": "2022-09-13T12:41:12.558Z"
   },
   {
    "duration": 44,
    "start_time": "2022-09-13T12:41:12.681Z"
   },
   {
    "duration": 17,
    "start_time": "2022-09-13T12:41:12.727Z"
   },
   {
    "duration": 34,
    "start_time": "2022-09-13T12:41:12.747Z"
   },
   {
    "duration": 44,
    "start_time": "2022-09-13T12:41:12.783Z"
   },
   {
    "duration": 73,
    "start_time": "2022-09-13T12:41:12.829Z"
   },
   {
    "duration": 76,
    "start_time": "2022-09-13T12:41:12.903Z"
   },
   {
    "duration": 61,
    "start_time": "2022-09-13T12:41:12.981Z"
   },
   {
    "duration": 85,
    "start_time": "2022-09-13T12:41:13.044Z"
   },
   {
    "duration": 120,
    "start_time": "2022-09-13T12:41:13.130Z"
   },
   {
    "duration": 38,
    "start_time": "2022-09-13T12:41:13.252Z"
   },
   {
    "duration": 7,
    "start_time": "2022-09-13T12:41:13.292Z"
   },
   {
    "duration": 32,
    "start_time": "2022-09-13T12:41:13.300Z"
   },
   {
    "duration": 777,
    "start_time": "2022-09-13T12:41:13.333Z"
   },
   {
    "duration": 515,
    "start_time": "2022-09-13T12:41:14.111Z"
   },
   {
    "duration": 340,
    "start_time": "2022-09-13T12:41:14.628Z"
   },
   {
    "duration": 121,
    "start_time": "2022-09-13T12:41:14.970Z"
   },
   {
    "duration": 4,
    "start_time": "2022-09-13T12:41:15.092Z"
   },
   {
    "duration": 26,
    "start_time": "2022-09-13T12:41:15.097Z"
   },
   {
    "duration": 18,
    "start_time": "2022-09-13T12:41:15.125Z"
   },
   {
    "duration": 188,
    "start_time": "2022-09-13T12:41:15.145Z"
   },
   {
    "duration": 2,
    "start_time": "2022-09-13T12:41:15.336Z"
   },
   {
    "duration": 10,
    "start_time": "2022-09-13T12:41:15.339Z"
   },
   {
    "duration": 6,
    "start_time": "2022-09-13T12:41:15.350Z"
   },
   {
    "duration": 7,
    "start_time": "2022-09-13T12:41:15.357Z"
   },
   {
    "duration": 781,
    "start_time": "2022-09-13T12:41:15.365Z"
   },
   {
    "duration": 2,
    "start_time": "2022-09-13T12:41:16.148Z"
   },
   {
    "duration": 99,
    "start_time": "2022-09-13T12:41:16.151Z"
   },
   {
    "duration": 2,
    "start_time": "2022-09-13T12:41:16.251Z"
   },
   {
    "duration": 22625,
    "start_time": "2022-09-13T12:41:16.255Z"
   },
   {
    "duration": 305,
    "start_time": "2022-09-13T12:41:38.882Z"
   },
   {
    "duration": 3,
    "start_time": "2022-09-13T12:41:39.278Z"
   },
   {
    "duration": 24346,
    "start_time": "2022-09-13T12:41:39.282Z"
   },
   {
    "duration": 344,
    "start_time": "2022-09-13T12:42:03.629Z"
   },
   {
    "duration": 3,
    "start_time": "2022-09-13T12:42:03.975Z"
   },
   {
    "duration": 8,
    "start_time": "2022-09-13T12:42:03.979Z"
   },
   {
    "duration": 13,
    "start_time": "2022-09-13T12:42:03.988Z"
   },
   {
    "duration": 116,
    "start_time": "2022-09-13T12:42:04.002Z"
   },
   {
    "duration": 10,
    "start_time": "2022-09-13T12:42:04.120Z"
   },
   {
    "duration": 5,
    "start_time": "2022-09-13T12:43:18.802Z"
   },
   {
    "duration": 1350,
    "start_time": "2022-09-13T12:47:28.464Z"
   },
   {
    "duration": 855,
    "start_time": "2022-09-13T12:47:29.816Z"
   },
   {
    "duration": 438,
    "start_time": "2022-09-13T12:47:30.672Z"
   },
   {
    "duration": 461,
    "start_time": "2022-09-13T12:47:31.112Z"
   },
   {
    "duration": 406,
    "start_time": "2022-09-13T12:47:31.575Z"
   },
   {
    "duration": 7,
    "start_time": "2022-09-13T12:47:31.982Z"
   },
   {
    "duration": 107,
    "start_time": "2022-09-13T12:47:31.990Z"
   },
   {
    "duration": 47,
    "start_time": "2022-09-13T12:47:32.099Z"
   },
   {
    "duration": 15,
    "start_time": "2022-09-13T12:47:32.148Z"
   },
   {
    "duration": 10,
    "start_time": "2022-09-13T12:47:32.176Z"
   },
   {
    "duration": 44,
    "start_time": "2022-09-13T12:47:32.187Z"
   },
   {
    "duration": 76,
    "start_time": "2022-09-13T12:47:32.232Z"
   },
   {
    "duration": 82,
    "start_time": "2022-09-13T12:47:32.310Z"
   },
   {
    "duration": 59,
    "start_time": "2022-09-13T12:47:32.393Z"
   },
   {
    "duration": 79,
    "start_time": "2022-09-13T12:47:32.453Z"
   },
   {
    "duration": 126,
    "start_time": "2022-09-13T12:47:32.534Z"
   },
   {
    "duration": 40,
    "start_time": "2022-09-13T12:47:32.662Z"
   },
   {
    "duration": 5,
    "start_time": "2022-09-13T12:47:32.704Z"
   },
   {
    "duration": 38,
    "start_time": "2022-09-13T12:47:32.710Z"
   },
   {
    "duration": 797,
    "start_time": "2022-09-13T12:47:32.750Z"
   },
   {
    "duration": 212,
    "start_time": "2022-09-13T12:47:33.549Z"
   },
   {
    "duration": 321,
    "start_time": "2022-09-13T12:47:33.763Z"
   },
   {
    "duration": 101,
    "start_time": "2022-09-13T12:47:34.085Z"
   },
   {
    "duration": 3,
    "start_time": "2022-09-13T12:47:34.188Z"
   },
   {
    "duration": 6,
    "start_time": "2022-09-13T12:47:34.192Z"
   },
   {
    "duration": 16,
    "start_time": "2022-09-13T12:47:34.199Z"
   },
   {
    "duration": 193,
    "start_time": "2022-09-13T12:47:34.217Z"
   },
   {
    "duration": 2,
    "start_time": "2022-09-13T12:47:34.414Z"
   },
   {
    "duration": 4,
    "start_time": "2022-09-13T12:47:34.417Z"
   },
   {
    "duration": 4,
    "start_time": "2022-09-13T12:47:34.423Z"
   },
   {
    "duration": 6,
    "start_time": "2022-09-13T12:47:34.428Z"
   },
   {
    "duration": 1377,
    "start_time": "2022-09-13T12:48:52.963Z"
   },
   {
    "duration": 816,
    "start_time": "2022-09-13T12:48:54.341Z"
   },
   {
    "duration": 418,
    "start_time": "2022-09-13T12:48:55.159Z"
   },
   {
    "duration": 437,
    "start_time": "2022-09-13T12:48:55.578Z"
   },
   {
    "duration": 422,
    "start_time": "2022-09-13T12:48:56.017Z"
   },
   {
    "duration": 7,
    "start_time": "2022-09-13T12:48:56.440Z"
   },
   {
    "duration": 104,
    "start_time": "2022-09-13T12:48:56.449Z"
   },
   {
    "duration": 54,
    "start_time": "2022-09-13T12:48:56.555Z"
   },
   {
    "duration": 14,
    "start_time": "2022-09-13T12:48:56.611Z"
   },
   {
    "duration": 10,
    "start_time": "2022-09-13T12:48:56.626Z"
   },
   {
    "duration": 58,
    "start_time": "2022-09-13T12:48:56.638Z"
   },
   {
    "duration": 67,
    "start_time": "2022-09-13T12:48:56.697Z"
   },
   {
    "duration": 76,
    "start_time": "2022-09-13T12:48:56.765Z"
   },
   {
    "duration": 66,
    "start_time": "2022-09-13T12:48:56.844Z"
   },
   {
    "duration": 77,
    "start_time": "2022-09-13T12:48:56.912Z"
   },
   {
    "duration": 117,
    "start_time": "2022-09-13T12:48:56.990Z"
   },
   {
    "duration": 34,
    "start_time": "2022-09-13T12:48:57.109Z"
   },
   {
    "duration": 6,
    "start_time": "2022-09-13T12:48:57.145Z"
   },
   {
    "duration": 47,
    "start_time": "2022-09-13T12:48:57.153Z"
   },
   {
    "duration": 817,
    "start_time": "2022-09-13T12:48:57.202Z"
   },
   {
    "duration": 213,
    "start_time": "2022-09-13T12:48:58.020Z"
   },
   {
    "duration": 317,
    "start_time": "2022-09-13T12:48:58.235Z"
   },
   {
    "duration": 105,
    "start_time": "2022-09-13T12:48:58.554Z"
   },
   {
    "duration": 4,
    "start_time": "2022-09-13T12:48:58.660Z"
   },
   {
    "duration": 5,
    "start_time": "2022-09-13T12:48:58.666Z"
   },
   {
    "duration": 14,
    "start_time": "2022-09-13T12:48:58.677Z"
   },
   {
    "duration": 193,
    "start_time": "2022-09-13T12:48:58.692Z"
   },
   {
    "duration": 2,
    "start_time": "2022-09-13T12:48:58.887Z"
   },
   {
    "duration": 6,
    "start_time": "2022-09-13T12:48:58.891Z"
   },
   {
    "duration": 4,
    "start_time": "2022-09-13T12:48:58.900Z"
   },
   {
    "duration": 6,
    "start_time": "2022-09-13T12:48:58.906Z"
   },
   {
    "duration": 430,
    "start_time": "2022-09-13T12:48:58.913Z"
   },
   {
    "duration": 2,
    "start_time": "2022-09-13T12:48:59.344Z"
   },
   {
    "duration": 120,
    "start_time": "2022-09-13T12:48:59.347Z"
   },
   {
    "duration": 2,
    "start_time": "2022-09-13T12:48:59.469Z"
   },
   {
    "duration": 15415,
    "start_time": "2022-09-13T12:48:59.472Z"
   },
   {
    "duration": 121,
    "start_time": "2022-09-13T12:49:14.978Z"
   },
   {
    "duration": 5,
    "start_time": "2022-09-13T12:49:15.179Z"
   },
   {
    "duration": 1430,
    "start_time": "2022-09-13T12:49:36.127Z"
   },
   {
    "duration": 953,
    "start_time": "2022-09-13T12:49:37.559Z"
   },
   {
    "duration": 504,
    "start_time": "2022-09-13T12:49:38.513Z"
   },
   {
    "duration": 471,
    "start_time": "2022-09-13T12:49:39.020Z"
   },
   {
    "duration": 391,
    "start_time": "2022-09-13T12:49:39.492Z"
   },
   {
    "duration": 10,
    "start_time": "2022-09-13T12:49:39.885Z"
   },
   {
    "duration": 119,
    "start_time": "2022-09-13T12:49:39.896Z"
   },
   {
    "duration": 45,
    "start_time": "2022-09-13T12:49:40.016Z"
   },
   {
    "duration": 26,
    "start_time": "2022-09-13T12:49:40.062Z"
   },
   {
    "duration": 10,
    "start_time": "2022-09-13T12:49:40.092Z"
   },
   {
    "duration": 54,
    "start_time": "2022-09-13T12:49:40.104Z"
   },
   {
    "duration": 80,
    "start_time": "2022-09-13T12:49:40.159Z"
   },
   {
    "duration": 83,
    "start_time": "2022-09-13T12:49:40.241Z"
   },
   {
    "duration": 64,
    "start_time": "2022-09-13T12:49:40.325Z"
   },
   {
    "duration": 68,
    "start_time": "2022-09-13T12:49:40.390Z"
   },
   {
    "duration": 132,
    "start_time": "2022-09-13T12:49:40.459Z"
   },
   {
    "duration": 36,
    "start_time": "2022-09-13T12:49:40.593Z"
   },
   {
    "duration": 6,
    "start_time": "2022-09-13T12:49:40.630Z"
   },
   {
    "duration": 48,
    "start_time": "2022-09-13T12:49:40.637Z"
   },
   {
    "duration": 713,
    "start_time": "2022-09-13T12:49:40.686Z"
   },
   {
    "duration": 206,
    "start_time": "2022-09-13T12:49:41.401Z"
   },
   {
    "duration": 328,
    "start_time": "2022-09-13T12:49:41.609Z"
   },
   {
    "duration": 107,
    "start_time": "2022-09-13T12:49:41.938Z"
   },
   {
    "duration": 3,
    "start_time": "2022-09-13T12:49:42.047Z"
   },
   {
    "duration": 5,
    "start_time": "2022-09-13T12:49:42.052Z"
   },
   {
    "duration": 27,
    "start_time": "2022-09-13T12:49:42.058Z"
   },
   {
    "duration": 177,
    "start_time": "2022-09-13T12:49:42.086Z"
   },
   {
    "duration": 2,
    "start_time": "2022-09-13T12:49:42.266Z"
   },
   {
    "duration": 9,
    "start_time": "2022-09-13T12:49:42.269Z"
   },
   {
    "duration": 4,
    "start_time": "2022-09-13T12:49:42.279Z"
   },
   {
    "duration": 3,
    "start_time": "2022-09-13T12:49:42.285Z"
   },
   {
    "duration": 511,
    "start_time": "2022-09-13T12:49:42.290Z"
   },
   {
    "duration": 3,
    "start_time": "2022-09-13T12:49:42.802Z"
   },
   {
    "duration": 172,
    "start_time": "2022-09-13T12:49:42.806Z"
   },
   {
    "duration": 3,
    "start_time": "2022-09-13T12:49:42.979Z"
   },
   {
    "duration": 16403,
    "start_time": "2022-09-13T12:49:42.983Z"
   },
   {
    "duration": 120,
    "start_time": "2022-09-13T12:49:59.478Z"
   },
   {
    "duration": 3,
    "start_time": "2022-09-13T12:49:59.678Z"
   },
   {
    "duration": 23806,
    "start_time": "2022-09-13T12:49:59.684Z"
   },
   {
    "duration": 174,
    "start_time": "2022-09-13T12:50:23.491Z"
   },
   {
    "duration": 3,
    "start_time": "2022-09-13T12:50:23.667Z"
   },
   {
    "duration": 5,
    "start_time": "2022-09-13T12:50:23.676Z"
   },
   {
    "duration": 11,
    "start_time": "2022-09-13T12:50:23.682Z"
   },
   {
    "duration": 76,
    "start_time": "2022-09-13T12:50:23.695Z"
   },
   {
    "duration": 10,
    "start_time": "2022-09-13T12:50:23.773Z"
   },
   {
    "duration": 19,
    "start_time": "2022-09-13T12:53:44.855Z"
   },
   {
    "duration": 77,
    "start_time": "2022-09-13T12:53:45.266Z"
   },
   {
    "duration": 28,
    "start_time": "2022-09-13T12:53:46.101Z"
   },
   {
    "duration": 18,
    "start_time": "2022-09-13T12:55:52.124Z"
   },
   {
    "duration": 78,
    "start_time": "2022-09-13T12:55:52.463Z"
   },
   {
    "duration": 42,
    "start_time": "2022-09-13T12:55:52.771Z"
   },
   {
    "duration": 365,
    "start_time": "2022-09-13T12:57:46.103Z"
   },
   {
    "duration": 2,
    "start_time": "2022-09-13T12:57:46.471Z"
   },
   {
    "duration": 3,
    "start_time": "2022-09-13T12:57:58.392Z"
   },
   {
    "duration": 2,
    "start_time": "2022-09-13T12:57:59.059Z"
   },
   {
    "duration": 199,
    "start_time": "2022-09-13T12:57:59.491Z"
   },
   {
    "duration": 3,
    "start_time": "2022-09-13T12:58:50.507Z"
   },
   {
    "duration": 2,
    "start_time": "2022-09-13T12:58:51.167Z"
   },
   {
    "duration": 112,
    "start_time": "2022-09-13T12:58:51.520Z"
   },
   {
    "duration": 2,
    "start_time": "2022-09-13T12:58:51.994Z"
   },
   {
    "duration": 2,
    "start_time": "2022-09-13T12:59:08.890Z"
   },
   {
    "duration": 2,
    "start_time": "2022-09-13T12:59:10.010Z"
   },
   {
    "duration": 98,
    "start_time": "2022-09-13T12:59:10.664Z"
   },
   {
    "duration": 3,
    "start_time": "2022-09-13T13:01:07.704Z"
   },
   {
    "duration": 2,
    "start_time": "2022-09-13T13:01:09.270Z"
   },
   {
    "duration": 141,
    "start_time": "2022-09-13T13:01:09.670Z"
   },
   {
    "duration": 3,
    "start_time": "2022-09-13T13:02:43.670Z"
   },
   {
    "duration": 100,
    "start_time": "2022-09-13T13:02:44.152Z"
   },
   {
    "duration": 120,
    "start_time": "2022-09-13T13:08:23.007Z"
   },
   {
    "duration": 108,
    "start_time": "2022-09-13T13:08:59.574Z"
   },
   {
    "duration": 95,
    "start_time": "2022-09-13T13:09:17.978Z"
   },
   {
    "duration": 141,
    "start_time": "2022-09-13T13:11:44.688Z"
   },
   {
    "duration": 191,
    "start_time": "2022-09-13T13:11:47.583Z"
   },
   {
    "duration": 21,
    "start_time": "2022-09-13T13:12:18.591Z"
   },
   {
    "duration": 1292,
    "start_time": "2022-09-13T13:12:40.618Z"
   },
   {
    "duration": 834,
    "start_time": "2022-09-13T13:12:41.911Z"
   },
   {
    "duration": 421,
    "start_time": "2022-09-13T13:12:42.747Z"
   },
   {
    "duration": 440,
    "start_time": "2022-09-13T13:12:43.170Z"
   },
   {
    "duration": 403,
    "start_time": "2022-09-13T13:12:43.612Z"
   },
   {
    "duration": 7,
    "start_time": "2022-09-13T13:12:44.017Z"
   },
   {
    "duration": 111,
    "start_time": "2022-09-13T13:12:44.026Z"
   },
   {
    "duration": 50,
    "start_time": "2022-09-13T13:12:44.138Z"
   },
   {
    "duration": 15,
    "start_time": "2022-09-13T13:12:44.189Z"
   },
   {
    "duration": 10,
    "start_time": "2022-09-13T13:12:44.206Z"
   },
   {
    "duration": 44,
    "start_time": "2022-09-13T13:12:44.217Z"
   },
   {
    "duration": 62,
    "start_time": "2022-09-13T13:12:44.276Z"
   },
   {
    "duration": 83,
    "start_time": "2022-09-13T13:12:44.339Z"
   },
   {
    "duration": 62,
    "start_time": "2022-09-13T13:12:44.423Z"
   },
   {
    "duration": 73,
    "start_time": "2022-09-13T13:12:44.486Z"
   },
   {
    "duration": 118,
    "start_time": "2022-09-13T13:12:44.561Z"
   },
   {
    "duration": 36,
    "start_time": "2022-09-13T13:12:44.681Z"
   },
   {
    "duration": 5,
    "start_time": "2022-09-13T13:12:44.719Z"
   },
   {
    "duration": 51,
    "start_time": "2022-09-13T13:12:44.726Z"
   },
   {
    "duration": 693,
    "start_time": "2022-09-13T13:12:44.779Z"
   },
   {
    "duration": 16,
    "start_time": "2022-09-13T13:12:45.474Z"
   },
   {
    "duration": 86,
    "start_time": "2022-09-13T13:12:45.491Z"
   },
   {
    "duration": 31,
    "start_time": "2022-09-13T13:12:45.579Z"
   },
   {
    "duration": 218,
    "start_time": "2022-09-13T13:12:45.611Z"
   },
   {
    "duration": 325,
    "start_time": "2022-09-13T13:12:45.831Z"
   },
   {
    "duration": 103,
    "start_time": "2022-09-13T13:12:46.158Z"
   },
   {
    "duration": 3,
    "start_time": "2022-09-13T13:12:46.263Z"
   },
   {
    "duration": 3,
    "start_time": "2022-09-13T13:12:46.278Z"
   },
   {
    "duration": 23,
    "start_time": "2022-09-13T13:12:46.283Z"
   },
   {
    "duration": 192,
    "start_time": "2022-09-13T13:12:46.307Z"
   },
   {
    "duration": 2,
    "start_time": "2022-09-13T13:12:46.500Z"
   },
   {
    "duration": 16,
    "start_time": "2022-09-13T13:12:46.504Z"
   },
   {
    "duration": 11,
    "start_time": "2022-09-13T13:12:46.522Z"
   },
   {
    "duration": 147,
    "start_time": "2022-09-13T13:12:46.534Z"
   },
   {
    "duration": 216,
    "start_time": "2022-09-13T13:12:46.683Z"
   },
   {
    "duration": 1,
    "start_time": "2022-09-13T13:12:46.901Z"
   },
   {
    "duration": 125,
    "start_time": "2022-09-13T13:12:46.904Z"
   },
   {
    "duration": 3,
    "start_time": "2022-09-13T13:12:47.030Z"
   },
   {
    "duration": 15451,
    "start_time": "2022-09-13T13:12:47.034Z"
   },
   {
    "duration": 200,
    "start_time": "2022-09-13T13:13:02.578Z"
   },
   {
    "duration": 4,
    "start_time": "2022-09-13T13:13:02.779Z"
   },
   {
    "duration": 23653,
    "start_time": "2022-09-13T13:13:02.784Z"
   },
   {
    "duration": 170,
    "start_time": "2022-09-13T13:13:26.439Z"
   },
   {
    "duration": 3,
    "start_time": "2022-09-13T13:13:26.610Z"
   },
   {
    "duration": 7,
    "start_time": "2022-09-13T13:13:26.614Z"
   },
   {
    "duration": 10,
    "start_time": "2022-09-13T13:13:26.622Z"
   },
   {
    "duration": 188,
    "start_time": "2022-09-13T13:13:26.633Z"
   },
   {
    "duration": 8,
    "start_time": "2022-09-13T13:13:26.823Z"
   },
   {
    "duration": 3410,
    "start_time": "2022-09-13T13:13:39.583Z"
   },
   {
    "duration": 0,
    "start_time": "2022-09-13T13:13:42.995Z"
   },
   {
    "duration": 2,
    "start_time": "2022-09-13T13:14:05.675Z"
   },
   {
    "duration": 3,
    "start_time": "2022-09-13T13:14:10.889Z"
   },
   {
    "duration": 253,
    "start_time": "2022-09-13T13:14:11.212Z"
   },
   {
    "duration": 23,
    "start_time": "2022-09-13T13:15:00.065Z"
   },
   {
    "duration": 7,
    "start_time": "2022-09-13T13:29:16.941Z"
   },
   {
    "duration": 2,
    "start_time": "2022-09-13T13:29:17.112Z"
   },
   {
    "duration": 4,
    "start_time": "2022-09-13T13:29:17.970Z"
   },
   {
    "duration": 81,
    "start_time": "2022-09-13T13:29:18.150Z"
   },
   {
    "duration": 12,
    "start_time": "2022-09-13T13:30:43.547Z"
   },
   {
    "duration": 167,
    "start_time": "2022-09-13T13:30:44.001Z"
   },
   {
    "duration": 113,
    "start_time": "2022-09-13T13:31:03.612Z"
   },
   {
    "duration": 1310,
    "start_time": "2022-09-13T13:36:04.426Z"
   },
   {
    "duration": 848,
    "start_time": "2022-09-13T13:36:05.738Z"
   },
   {
    "duration": 446,
    "start_time": "2022-09-13T13:36:06.587Z"
   },
   {
    "duration": 473,
    "start_time": "2022-09-13T13:36:07.035Z"
   },
   {
    "duration": 451,
    "start_time": "2022-09-13T13:36:07.510Z"
   },
   {
    "duration": 20,
    "start_time": "2022-09-13T13:36:07.963Z"
   },
   {
    "duration": 123,
    "start_time": "2022-09-13T13:36:07.985Z"
   },
   {
    "duration": 42,
    "start_time": "2022-09-13T13:36:08.110Z"
   },
   {
    "duration": 24,
    "start_time": "2022-09-13T13:36:08.154Z"
   },
   {
    "duration": 10,
    "start_time": "2022-09-13T13:36:08.181Z"
   },
   {
    "duration": 46,
    "start_time": "2022-09-13T13:36:08.192Z"
   },
   {
    "duration": 85,
    "start_time": "2022-09-13T13:36:08.239Z"
   },
   {
    "duration": 82,
    "start_time": "2022-09-13T13:36:08.326Z"
   },
   {
    "duration": 68,
    "start_time": "2022-09-13T13:36:08.410Z"
   },
   {
    "duration": 70,
    "start_time": "2022-09-13T13:36:08.480Z"
   },
   {
    "duration": 120,
    "start_time": "2022-09-13T13:36:08.551Z"
   },
   {
    "duration": 36,
    "start_time": "2022-09-13T13:36:08.676Z"
   },
   {
    "duration": 7,
    "start_time": "2022-09-13T13:36:08.713Z"
   },
   {
    "duration": 32,
    "start_time": "2022-09-13T13:36:08.722Z"
   },
   {
    "duration": 832,
    "start_time": "2022-09-13T13:36:08.756Z"
   },
   {
    "duration": 14,
    "start_time": "2022-09-13T13:36:09.589Z"
   },
   {
    "duration": 90,
    "start_time": "2022-09-13T13:36:09.605Z"
   },
   {
    "duration": 35,
    "start_time": "2022-09-13T13:36:09.696Z"
   },
   {
    "duration": 223,
    "start_time": "2022-09-13T13:36:09.733Z"
   },
   {
    "duration": 324,
    "start_time": "2022-09-13T13:36:09.957Z"
   },
   {
    "duration": 110,
    "start_time": "2022-09-13T13:36:10.282Z"
   },
   {
    "duration": 3,
    "start_time": "2022-09-13T13:36:10.393Z"
   },
   {
    "duration": 9,
    "start_time": "2022-09-13T13:36:10.399Z"
   },
   {
    "duration": 18,
    "start_time": "2022-09-13T13:36:10.410Z"
   },
   {
    "duration": 202,
    "start_time": "2022-09-13T13:36:10.430Z"
   },
   {
    "duration": 3,
    "start_time": "2022-09-13T13:36:10.634Z"
   },
   {
    "duration": 5,
    "start_time": "2022-09-13T13:36:10.639Z"
   },
   {
    "duration": 6,
    "start_time": "2022-09-13T13:36:10.646Z"
   },
   {
    "duration": 147,
    "start_time": "2022-09-13T13:36:10.654Z"
   },
   {
    "duration": 3,
    "start_time": "2022-09-13T13:36:10.802Z"
   },
   {
    "duration": 5,
    "start_time": "2022-09-13T13:36:10.807Z"
   },
   {
    "duration": 61,
    "start_time": "2022-09-13T13:36:10.813Z"
   },
   {
    "duration": 0,
    "start_time": "2022-09-13T13:36:10.876Z"
   },
   {
    "duration": 0,
    "start_time": "2022-09-13T13:36:10.877Z"
   },
   {
    "duration": 0,
    "start_time": "2022-09-13T13:36:10.879Z"
   },
   {
    "duration": 0,
    "start_time": "2022-09-13T13:36:10.879Z"
   },
   {
    "duration": 0,
    "start_time": "2022-09-13T13:36:10.880Z"
   },
   {
    "duration": 0,
    "start_time": "2022-09-13T13:36:10.881Z"
   },
   {
    "duration": 0,
    "start_time": "2022-09-13T13:36:10.882Z"
   },
   {
    "duration": 0,
    "start_time": "2022-09-13T13:36:10.883Z"
   },
   {
    "duration": 0,
    "start_time": "2022-09-13T13:36:10.883Z"
   },
   {
    "duration": 0,
    "start_time": "2022-09-13T13:36:10.884Z"
   },
   {
    "duration": 0,
    "start_time": "2022-09-13T13:36:10.885Z"
   },
   {
    "duration": 0,
    "start_time": "2022-09-13T13:36:10.886Z"
   },
   {
    "duration": 47,
    "start_time": "2022-09-13T13:36:42.869Z"
   },
   {
    "duration": 57,
    "start_time": "2022-09-13T13:37:26.829Z"
   },
   {
    "duration": 83,
    "start_time": "2022-09-13T13:38:25.074Z"
   },
   {
    "duration": 214,
    "start_time": "2022-09-13T13:41:24.012Z"
   },
   {
    "duration": 2,
    "start_time": "2022-09-13T13:41:24.299Z"
   },
   {
    "duration": 3,
    "start_time": "2022-09-13T13:41:24.666Z"
   },
   {
    "duration": 7,
    "start_time": "2022-09-13T13:41:25.059Z"
   },
   {
    "duration": 3,
    "start_time": "2022-09-13T13:41:25.459Z"
   },
   {
    "duration": 2,
    "start_time": "2022-09-13T13:41:26.159Z"
   },
   {
    "duration": 162,
    "start_time": "2022-09-13T13:41:26.857Z"
   },
   {
    "duration": 190,
    "start_time": "2022-09-13T13:41:54.714Z"
   },
   {
    "duration": 78,
    "start_time": "2022-09-13T13:45:57.554Z"
   },
   {
    "duration": 121,
    "start_time": "2022-09-13T13:49:22.055Z"
   },
   {
    "duration": 3,
    "start_time": "2022-09-13T13:49:27.753Z"
   },
   {
    "duration": 91,
    "start_time": "2022-09-13T15:48:32.997Z"
   },
   {
    "duration": 2112,
    "start_time": "2022-09-13T15:48:50.704Z"
   },
   {
    "duration": 1169,
    "start_time": "2022-09-13T15:48:52.818Z"
   },
   {
    "duration": 468,
    "start_time": "2022-09-13T15:48:53.989Z"
   },
   {
    "duration": 494,
    "start_time": "2022-09-13T15:48:54.459Z"
   },
   {
    "duration": 476,
    "start_time": "2022-09-13T15:48:54.955Z"
   },
   {
    "duration": 11,
    "start_time": "2022-09-13T15:48:55.433Z"
   },
   {
    "duration": 121,
    "start_time": "2022-09-13T15:48:55.445Z"
   },
   {
    "duration": 50,
    "start_time": "2022-09-13T15:48:55.568Z"
   },
   {
    "duration": 15,
    "start_time": "2022-09-13T15:48:55.620Z"
   },
   {
    "duration": 11,
    "start_time": "2022-09-13T15:48:55.636Z"
   },
   {
    "duration": 61,
    "start_time": "2022-09-13T15:48:55.648Z"
   },
   {
    "duration": 108,
    "start_time": "2022-09-13T15:48:55.712Z"
   },
   {
    "duration": 84,
    "start_time": "2022-09-13T15:48:55.822Z"
   },
   {
    "duration": 77,
    "start_time": "2022-09-13T15:48:55.908Z"
   },
   {
    "duration": 73,
    "start_time": "2022-09-13T15:48:56.100Z"
   },
   {
    "duration": 115,
    "start_time": "2022-09-13T15:48:57.288Z"
   },
   {
    "duration": 35,
    "start_time": "2022-09-13T15:48:57.405Z"
   },
   {
    "duration": 8,
    "start_time": "2022-09-13T15:48:58.180Z"
   },
   {
    "duration": 33,
    "start_time": "2022-09-13T15:48:59.188Z"
   },
   {
    "duration": 748,
    "start_time": "2022-09-13T15:49:09.283Z"
   },
   {
    "duration": 4,
    "start_time": "2022-09-13T15:57:32.464Z"
   },
   {
    "duration": 168,
    "start_time": "2022-09-13T15:57:41.101Z"
   },
   {
    "duration": 45,
    "start_time": "2022-09-14T09:54:08.695Z"
   },
   {
    "duration": 6,
    "start_time": "2022-09-14T09:54:23.339Z"
   },
   {
    "duration": 5,
    "start_time": "2022-09-14T09:54:41.010Z"
   },
   {
    "duration": 1468,
    "start_time": "2022-09-14T09:55:00.529Z"
   },
   {
    "duration": 4896,
    "start_time": "2022-09-14T09:55:01.999Z"
   },
   {
    "duration": 402,
    "start_time": "2022-09-14T09:55:06.896Z"
   },
   {
    "duration": 475,
    "start_time": "2022-09-14T09:55:07.300Z"
   },
   {
    "duration": 413,
    "start_time": "2022-09-14T09:55:07.777Z"
   },
   {
    "duration": 13,
    "start_time": "2022-09-14T09:55:08.192Z"
   },
   {
    "duration": 112,
    "start_time": "2022-09-14T09:55:08.206Z"
   },
   {
    "duration": 41,
    "start_time": "2022-09-14T09:55:08.319Z"
   },
   {
    "duration": 13,
    "start_time": "2022-09-14T09:55:08.362Z"
   },
   {
    "duration": 28,
    "start_time": "2022-09-14T09:55:08.378Z"
   },
   {
    "duration": 41,
    "start_time": "2022-09-14T09:55:08.407Z"
   },
   {
    "duration": 100,
    "start_time": "2022-09-14T09:55:08.449Z"
   },
   {
    "duration": 73,
    "start_time": "2022-09-14T09:55:08.550Z"
   },
   {
    "duration": 91,
    "start_time": "2022-09-14T09:55:08.625Z"
   },
   {
    "duration": 95,
    "start_time": "2022-09-14T09:55:08.718Z"
   },
   {
    "duration": 120,
    "start_time": "2022-09-14T09:55:08.814Z"
   },
   {
    "duration": 40,
    "start_time": "2022-09-14T09:55:08.935Z"
   },
   {
    "duration": 6,
    "start_time": "2022-09-14T09:55:08.976Z"
   },
   {
    "duration": 68,
    "start_time": "2022-09-14T09:55:08.984Z"
   },
   {
    "duration": 1350,
    "start_time": "2022-09-14T09:55:25.247Z"
   },
   {
    "duration": 3174,
    "start_time": "2022-09-14T09:55:26.598Z"
   },
   {
    "duration": 420,
    "start_time": "2022-09-14T09:55:29.773Z"
   },
   {
    "duration": 471,
    "start_time": "2022-09-14T09:55:30.195Z"
   },
   {
    "duration": 388,
    "start_time": "2022-09-14T09:55:30.668Z"
   },
   {
    "duration": 8,
    "start_time": "2022-09-14T09:55:31.057Z"
   },
   {
    "duration": 109,
    "start_time": "2022-09-14T09:55:31.066Z"
   },
   {
    "duration": 42,
    "start_time": "2022-09-14T09:55:31.177Z"
   },
   {
    "duration": 14,
    "start_time": "2022-09-14T09:55:31.220Z"
   },
   {
    "duration": 10,
    "start_time": "2022-09-14T09:55:31.236Z"
   },
   {
    "duration": 59,
    "start_time": "2022-09-14T09:55:31.247Z"
   },
   {
    "duration": 98,
    "start_time": "2022-09-14T09:55:31.308Z"
   },
   {
    "duration": 68,
    "start_time": "2022-09-14T09:55:31.407Z"
   },
   {
    "duration": 101,
    "start_time": "2022-09-14T09:55:31.476Z"
   },
   {
    "duration": 94,
    "start_time": "2022-09-14T09:55:31.578Z"
   },
   {
    "duration": 111,
    "start_time": "2022-09-14T09:55:31.673Z"
   },
   {
    "duration": 45,
    "start_time": "2022-09-14T09:55:31.786Z"
   },
   {
    "duration": 6,
    "start_time": "2022-09-14T09:55:31.832Z"
   },
   {
    "duration": 50,
    "start_time": "2022-09-14T09:55:31.840Z"
   },
   {
    "duration": 1350,
    "start_time": "2022-09-14T09:56:48.847Z"
   },
   {
    "duration": 2958,
    "start_time": "2022-09-14T09:56:50.199Z"
   },
   {
    "duration": 385,
    "start_time": "2022-09-14T09:56:53.158Z"
   },
   {
    "duration": 405,
    "start_time": "2022-09-14T09:56:53.545Z"
   },
   {
    "duration": 369,
    "start_time": "2022-09-14T09:56:53.951Z"
   },
   {
    "duration": 9,
    "start_time": "2022-09-14T09:56:54.321Z"
   },
   {
    "duration": 112,
    "start_time": "2022-09-14T09:56:54.332Z"
   },
   {
    "duration": 42,
    "start_time": "2022-09-14T09:56:54.446Z"
   },
   {
    "duration": 25,
    "start_time": "2022-09-14T09:56:54.490Z"
   },
   {
    "duration": 11,
    "start_time": "2022-09-14T09:56:54.517Z"
   },
   {
    "duration": 40,
    "start_time": "2022-09-14T09:56:54.529Z"
   },
   {
    "duration": 115,
    "start_time": "2022-09-14T09:56:54.571Z"
   },
   {
    "duration": 72,
    "start_time": "2022-09-14T09:56:54.688Z"
   },
   {
    "duration": 95,
    "start_time": "2022-09-14T09:56:54.762Z"
   },
   {
    "duration": 95,
    "start_time": "2022-09-14T09:56:54.858Z"
   },
   {
    "duration": 116,
    "start_time": "2022-09-14T09:56:54.954Z"
   },
   {
    "duration": 45,
    "start_time": "2022-09-14T09:56:55.071Z"
   },
   {
    "duration": 6,
    "start_time": "2022-09-14T09:56:55.118Z"
   },
   {
    "duration": 49,
    "start_time": "2022-09-14T09:56:55.125Z"
   },
   {
    "duration": 1321,
    "start_time": "2022-09-14T10:00:27.923Z"
   },
   {
    "duration": 2951,
    "start_time": "2022-09-14T10:00:29.246Z"
   },
   {
    "duration": 395,
    "start_time": "2022-09-14T10:00:32.198Z"
   },
   {
    "duration": 421,
    "start_time": "2022-09-14T10:00:32.595Z"
   },
   {
    "duration": 366,
    "start_time": "2022-09-14T10:00:33.018Z"
   },
   {
    "duration": 7,
    "start_time": "2022-09-14T10:00:33.385Z"
   },
   {
    "duration": 98,
    "start_time": "2022-09-14T10:00:33.394Z"
   },
   {
    "duration": 49,
    "start_time": "2022-09-14T10:00:33.493Z"
   },
   {
    "duration": 14,
    "start_time": "2022-09-14T10:00:33.544Z"
   },
   {
    "duration": 9,
    "start_time": "2022-09-14T10:00:33.559Z"
   },
   {
    "duration": 50,
    "start_time": "2022-09-14T10:00:33.570Z"
   },
   {
    "duration": 100,
    "start_time": "2022-09-14T10:00:33.621Z"
   },
   {
    "duration": 76,
    "start_time": "2022-09-14T10:00:33.722Z"
   },
   {
    "duration": 102,
    "start_time": "2022-09-14T10:00:33.807Z"
   },
   {
    "duration": 85,
    "start_time": "2022-09-14T10:00:33.910Z"
   },
   {
    "duration": 116,
    "start_time": "2022-09-14T10:00:34.005Z"
   },
   {
    "duration": 38,
    "start_time": "2022-09-14T10:00:34.123Z"
   },
   {
    "duration": 6,
    "start_time": "2022-09-14T10:00:34.163Z"
   },
   {
    "duration": 65,
    "start_time": "2022-09-14T10:00:34.170Z"
   },
   {
    "duration": 1323,
    "start_time": "2022-09-14T10:00:44.437Z"
   },
   {
    "duration": 3040,
    "start_time": "2022-09-14T10:00:45.762Z"
   },
   {
    "duration": 1246,
    "start_time": "2022-09-14T10:00:50.475Z"
   },
   {
    "duration": 795,
    "start_time": "2022-09-14T10:00:51.723Z"
   },
   {
    "duration": 388,
    "start_time": "2022-09-14T10:00:52.520Z"
   },
   {
    "duration": 421,
    "start_time": "2022-09-14T10:00:52.909Z"
   },
   {
    "duration": 379,
    "start_time": "2022-09-14T10:00:53.332Z"
   },
   {
    "duration": 8,
    "start_time": "2022-09-14T10:00:53.713Z"
   },
   {
    "duration": 108,
    "start_time": "2022-09-14T10:00:53.722Z"
   },
   {
    "duration": 41,
    "start_time": "2022-09-14T10:00:53.832Z"
   },
   {
    "duration": 14,
    "start_time": "2022-09-14T10:00:53.875Z"
   },
   {
    "duration": 11,
    "start_time": "2022-09-14T10:00:53.913Z"
   },
   {
    "duration": 38,
    "start_time": "2022-09-14T10:00:53.926Z"
   },
   {
    "duration": 107,
    "start_time": "2022-09-14T10:00:53.965Z"
   },
   {
    "duration": 73,
    "start_time": "2022-09-14T10:00:54.073Z"
   },
   {
    "duration": 91,
    "start_time": "2022-09-14T10:00:54.149Z"
   },
   {
    "duration": 98,
    "start_time": "2022-09-14T10:00:54.241Z"
   },
   {
    "duration": 117,
    "start_time": "2022-09-14T10:00:54.341Z"
   },
   {
    "duration": 49,
    "start_time": "2022-09-14T10:00:54.460Z"
   },
   {
    "duration": 8,
    "start_time": "2022-09-14T10:00:54.510Z"
   },
   {
    "duration": 53,
    "start_time": "2022-09-14T10:00:54.519Z"
   },
   {
    "duration": 1367,
    "start_time": "2022-09-14T10:05:07.496Z"
   },
   {
    "duration": 3091,
    "start_time": "2022-09-14T10:05:08.865Z"
   },
   {
    "duration": 486,
    "start_time": "2022-09-14T10:05:11.957Z"
   },
   {
    "duration": 481,
    "start_time": "2022-09-14T10:05:12.445Z"
   },
   {
    "duration": 432,
    "start_time": "2022-09-14T10:05:12.928Z"
   },
   {
    "duration": 8,
    "start_time": "2022-09-14T10:05:13.362Z"
   },
   {
    "duration": 110,
    "start_time": "2022-09-14T10:05:13.371Z"
   },
   {
    "duration": 53,
    "start_time": "2022-09-14T10:05:13.483Z"
   },
   {
    "duration": 14,
    "start_time": "2022-09-14T10:05:13.537Z"
   },
   {
    "duration": 11,
    "start_time": "2022-09-14T10:05:13.552Z"
   },
   {
    "duration": 56,
    "start_time": "2022-09-14T10:05:13.564Z"
   },
   {
    "duration": 128,
    "start_time": "2022-09-14T10:05:13.622Z"
   },
   {
    "duration": 84,
    "start_time": "2022-09-14T10:05:13.751Z"
   },
   {
    "duration": 102,
    "start_time": "2022-09-14T10:05:13.839Z"
   },
   {
    "duration": 116,
    "start_time": "2022-09-14T10:05:13.943Z"
   },
   {
    "duration": 118,
    "start_time": "2022-09-14T10:05:14.061Z"
   },
   {
    "duration": 52,
    "start_time": "2022-09-14T10:05:14.181Z"
   },
   {
    "duration": 8,
    "start_time": "2022-09-14T10:05:14.234Z"
   },
   {
    "duration": 66,
    "start_time": "2022-09-14T10:05:14.244Z"
   },
   {
    "duration": 2458,
    "start_time": "2022-09-14T10:20:06.922Z"
   },
   {
    "duration": 3137,
    "start_time": "2022-09-14T10:20:09.382Z"
   },
   {
    "duration": 414,
    "start_time": "2022-09-14T10:20:12.521Z"
   },
   {
    "duration": 448,
    "start_time": "2022-09-14T10:20:12.937Z"
   },
   {
    "duration": 399,
    "start_time": "2022-09-14T10:20:13.387Z"
   },
   {
    "duration": 7,
    "start_time": "2022-09-14T10:20:13.787Z"
   },
   {
    "duration": 129,
    "start_time": "2022-09-14T10:20:13.795Z"
   },
   {
    "duration": 42,
    "start_time": "2022-09-14T10:20:13.925Z"
   },
   {
    "duration": 13,
    "start_time": "2022-09-14T10:20:13.969Z"
   },
   {
    "duration": 26,
    "start_time": "2022-09-14T10:20:13.984Z"
   },
   {
    "duration": 41,
    "start_time": "2022-09-14T10:20:14.011Z"
   },
   {
    "duration": 117,
    "start_time": "2022-09-14T10:20:14.054Z"
   },
   {
    "duration": 80,
    "start_time": "2022-09-14T10:20:14.173Z"
   },
   {
    "duration": 108,
    "start_time": "2022-09-14T10:20:14.256Z"
   },
   {
    "duration": 99,
    "start_time": "2022-09-14T10:20:14.365Z"
   },
   {
    "duration": 116,
    "start_time": "2022-09-14T10:20:14.465Z"
   },
   {
    "duration": 50,
    "start_time": "2022-09-14T10:20:14.583Z"
   },
   {
    "duration": 6,
    "start_time": "2022-09-14T10:20:14.635Z"
   },
   {
    "duration": 62,
    "start_time": "2022-09-14T10:20:14.643Z"
   },
   {
    "duration": 1503,
    "start_time": "2022-09-14T10:33:19.486Z"
   },
   {
    "duration": 3001,
    "start_time": "2022-09-14T10:33:20.991Z"
   },
   {
    "duration": 460,
    "start_time": "2022-09-14T10:33:23.994Z"
   },
   {
    "duration": 461,
    "start_time": "2022-09-14T10:33:24.456Z"
   },
   {
    "duration": 438,
    "start_time": "2022-09-14T10:33:24.919Z"
   },
   {
    "duration": 10,
    "start_time": "2022-09-14T10:33:25.359Z"
   },
   {
    "duration": 122,
    "start_time": "2022-09-14T10:33:25.371Z"
   },
   {
    "duration": 52,
    "start_time": "2022-09-14T10:33:25.494Z"
   },
   {
    "duration": 15,
    "start_time": "2022-09-14T10:33:25.547Z"
   },
   {
    "duration": 11,
    "start_time": "2022-09-14T10:33:25.564Z"
   },
   {
    "duration": 61,
    "start_time": "2022-09-14T10:33:25.576Z"
   },
   {
    "duration": 105,
    "start_time": "2022-09-14T10:33:25.639Z"
   },
   {
    "duration": 80,
    "start_time": "2022-09-14T10:33:25.745Z"
   },
   {
    "duration": 110,
    "start_time": "2022-09-14T10:33:25.826Z"
   },
   {
    "duration": 102,
    "start_time": "2022-09-14T10:33:25.938Z"
   },
   {
    "duration": 125,
    "start_time": "2022-09-14T10:33:26.041Z"
   },
   {
    "duration": 53,
    "start_time": "2022-09-14T10:33:26.168Z"
   },
   {
    "duration": 6,
    "start_time": "2022-09-14T10:33:26.222Z"
   },
   {
    "duration": 58,
    "start_time": "2022-09-14T10:33:26.230Z"
   },
   {
    "duration": 1412,
    "start_time": "2022-09-14T11:23:05.081Z"
   },
   {
    "duration": 3421,
    "start_time": "2022-09-14T11:23:06.495Z"
   },
   {
    "duration": 424,
    "start_time": "2022-09-14T11:23:09.918Z"
   },
   {
    "duration": 419,
    "start_time": "2022-09-14T11:23:10.343Z"
   },
   {
    "duration": 375,
    "start_time": "2022-09-14T11:23:10.764Z"
   },
   {
    "duration": 7,
    "start_time": "2022-09-14T11:23:11.141Z"
   },
   {
    "duration": 112,
    "start_time": "2022-09-14T11:23:11.149Z"
   },
   {
    "duration": 44,
    "start_time": "2022-09-14T11:23:11.263Z"
   },
   {
    "duration": 14,
    "start_time": "2022-09-14T11:23:11.309Z"
   },
   {
    "duration": 11,
    "start_time": "2022-09-14T11:23:11.325Z"
   },
   {
    "duration": 40,
    "start_time": "2022-09-14T11:23:11.338Z"
   },
   {
    "duration": 101,
    "start_time": "2022-09-14T11:23:11.405Z"
   },
   {
    "duration": 70,
    "start_time": "2022-09-14T11:23:11.508Z"
   },
   {
    "duration": 115,
    "start_time": "2022-09-14T11:23:11.582Z"
   },
   {
    "duration": 108,
    "start_time": "2022-09-14T11:23:11.705Z"
   },
   {
    "duration": 127,
    "start_time": "2022-09-14T11:23:11.814Z"
   },
   {
    "duration": 40,
    "start_time": "2022-09-14T11:23:11.943Z"
   },
   {
    "duration": 22,
    "start_time": "2022-09-14T11:23:11.985Z"
   },
   {
    "duration": 52,
    "start_time": "2022-09-14T11:23:12.008Z"
   },
   {
    "duration": 1394,
    "start_time": "2022-09-14T11:23:27.720Z"
   },
   {
    "duration": 3378,
    "start_time": "2022-09-14T11:23:29.115Z"
   },
   {
    "duration": 424,
    "start_time": "2022-09-14T11:23:32.494Z"
   },
   {
    "duration": 445,
    "start_time": "2022-09-14T11:23:32.920Z"
   },
   {
    "duration": 398,
    "start_time": "2022-09-14T11:23:33.366Z"
   },
   {
    "duration": 9,
    "start_time": "2022-09-14T11:23:33.765Z"
   },
   {
    "duration": 108,
    "start_time": "2022-09-14T11:23:33.775Z"
   },
   {
    "duration": 49,
    "start_time": "2022-09-14T11:23:33.885Z"
   },
   {
    "duration": 15,
    "start_time": "2022-09-14T11:23:33.935Z"
   },
   {
    "duration": 12,
    "start_time": "2022-09-14T11:23:33.952Z"
   },
   {
    "duration": 61,
    "start_time": "2022-09-14T11:23:33.965Z"
   },
   {
    "duration": 106,
    "start_time": "2022-09-14T11:23:34.027Z"
   },
   {
    "duration": 77,
    "start_time": "2022-09-14T11:23:34.134Z"
   },
   {
    "duration": 104,
    "start_time": "2022-09-14T11:23:34.213Z"
   },
   {
    "duration": 104,
    "start_time": "2022-09-14T11:23:34.319Z"
   },
   {
    "duration": 120,
    "start_time": "2022-09-14T11:23:34.424Z"
   },
   {
    "duration": 41,
    "start_time": "2022-09-14T11:23:34.545Z"
   },
   {
    "duration": 19,
    "start_time": "2022-09-14T11:23:34.587Z"
   },
   {
    "duration": 69,
    "start_time": "2022-09-14T11:23:34.608Z"
   },
   {
    "duration": 1595,
    "start_time": "2022-09-14T12:13:39.020Z"
   },
   {
    "duration": 2948,
    "start_time": "2022-09-14T12:13:40.618Z"
   },
   {
    "duration": 398,
    "start_time": "2022-09-14T12:13:43.568Z"
   },
   {
    "duration": 431,
    "start_time": "2022-09-14T12:13:43.968Z"
   },
   {
    "duration": 368,
    "start_time": "2022-09-14T12:13:44.401Z"
   },
   {
    "duration": 7,
    "start_time": "2022-09-14T12:13:44.771Z"
   },
   {
    "duration": 112,
    "start_time": "2022-09-14T12:13:44.780Z"
   },
   {
    "duration": 42,
    "start_time": "2022-09-14T12:13:44.894Z"
   },
   {
    "duration": 14,
    "start_time": "2022-09-14T12:13:44.938Z"
   },
   {
    "duration": 11,
    "start_time": "2022-09-14T12:13:44.955Z"
   },
   {
    "duration": 60,
    "start_time": "2022-09-14T12:13:44.968Z"
   },
   {
    "duration": 99,
    "start_time": "2022-09-14T12:13:45.030Z"
   },
   {
    "duration": 83,
    "start_time": "2022-09-14T12:13:45.131Z"
   },
   {
    "duration": 99,
    "start_time": "2022-09-14T12:13:45.215Z"
   },
   {
    "duration": 94,
    "start_time": "2022-09-14T12:13:45.316Z"
   },
   {
    "duration": 121,
    "start_time": "2022-09-14T12:13:45.412Z"
   },
   {
    "duration": 40,
    "start_time": "2022-09-14T12:13:45.535Z"
   },
   {
    "duration": 7,
    "start_time": "2022-09-14T12:13:45.576Z"
   },
   {
    "duration": 66,
    "start_time": "2022-09-14T12:13:45.585Z"
   },
   {
    "duration": 42,
    "start_time": "2022-09-14T13:09:50.578Z"
   },
   {
    "duration": 1435,
    "start_time": "2022-09-14T13:10:05.075Z"
   },
   {
    "duration": 3014,
    "start_time": "2022-09-14T13:10:06.512Z"
   },
   {
    "duration": 376,
    "start_time": "2022-09-14T13:10:09.527Z"
   },
   {
    "duration": 421,
    "start_time": "2022-09-14T13:10:09.906Z"
   },
   {
    "duration": 388,
    "start_time": "2022-09-14T13:10:10.328Z"
   },
   {
    "duration": 7,
    "start_time": "2022-09-14T13:10:10.718Z"
   },
   {
    "duration": 115,
    "start_time": "2022-09-14T13:10:10.726Z"
   },
   {
    "duration": 41,
    "start_time": "2022-09-14T13:10:10.842Z"
   },
   {
    "duration": 20,
    "start_time": "2022-09-14T13:10:10.885Z"
   },
   {
    "duration": 10,
    "start_time": "2022-09-14T13:10:10.908Z"
   },
   {
    "duration": 40,
    "start_time": "2022-09-14T13:10:10.920Z"
   },
   {
    "duration": 115,
    "start_time": "2022-09-14T13:10:10.962Z"
   },
   {
    "duration": 77,
    "start_time": "2022-09-14T13:10:11.079Z"
   },
   {
    "duration": 92,
    "start_time": "2022-09-14T13:10:11.158Z"
   },
   {
    "duration": 99,
    "start_time": "2022-09-14T13:10:11.251Z"
   },
   {
    "duration": 118,
    "start_time": "2022-09-14T13:10:11.351Z"
   },
   {
    "duration": 46,
    "start_time": "2022-09-14T13:10:11.470Z"
   },
   {
    "duration": 7,
    "start_time": "2022-09-14T13:10:11.517Z"
   },
   {
    "duration": 58,
    "start_time": "2022-09-14T13:10:11.526Z"
   },
   {
    "duration": 42,
    "start_time": "2022-09-14T13:10:41.761Z"
   },
   {
    "duration": 1422,
    "start_time": "2022-09-14T13:11:00.842Z"
   },
   {
    "duration": 2982,
    "start_time": "2022-09-14T13:11:02.266Z"
   },
   {
    "duration": 404,
    "start_time": "2022-09-14T13:11:05.249Z"
   },
   {
    "duration": 449,
    "start_time": "2022-09-14T13:11:05.654Z"
   },
   {
    "duration": 400,
    "start_time": "2022-09-14T13:11:06.105Z"
   },
   {
    "duration": 7,
    "start_time": "2022-09-14T13:11:06.506Z"
   },
   {
    "duration": 105,
    "start_time": "2022-09-14T13:11:06.514Z"
   },
   {
    "duration": 40,
    "start_time": "2022-09-14T13:11:06.620Z"
   },
   {
    "duration": 14,
    "start_time": "2022-09-14T13:11:06.662Z"
   },
   {
    "duration": 28,
    "start_time": "2022-09-14T13:11:06.679Z"
   },
   {
    "duration": 41,
    "start_time": "2022-09-14T13:11:06.709Z"
   },
   {
    "duration": 115,
    "start_time": "2022-09-14T13:11:06.752Z"
   },
   {
    "duration": 82,
    "start_time": "2022-09-14T13:11:06.869Z"
   },
   {
    "duration": 98,
    "start_time": "2022-09-14T13:11:06.953Z"
   },
   {
    "duration": 103,
    "start_time": "2022-09-14T13:11:07.052Z"
   },
   {
    "duration": 120,
    "start_time": "2022-09-14T13:11:07.157Z"
   },
   {
    "duration": 45,
    "start_time": "2022-09-14T13:11:07.279Z"
   },
   {
    "duration": 9,
    "start_time": "2022-09-14T13:11:07.326Z"
   },
   {
    "duration": 71,
    "start_time": "2022-09-14T13:11:07.337Z"
   },
   {
    "duration": 1525,
    "start_time": "2022-09-14T13:11:36.890Z"
   },
   {
    "duration": 2928,
    "start_time": "2022-09-14T13:11:38.417Z"
   },
   {
    "duration": 416,
    "start_time": "2022-09-14T13:11:41.347Z"
   },
   {
    "duration": 378,
    "start_time": "2022-09-14T13:11:41.765Z"
   },
   {
    "duration": 362,
    "start_time": "2022-09-14T13:11:42.144Z"
   },
   {
    "duration": 7,
    "start_time": "2022-09-14T13:11:42.507Z"
   },
   {
    "duration": 105,
    "start_time": "2022-09-14T13:11:42.516Z"
   },
   {
    "duration": 41,
    "start_time": "2022-09-14T13:11:42.622Z"
   },
   {
    "duration": 14,
    "start_time": "2022-09-14T13:11:42.664Z"
   },
   {
    "duration": 28,
    "start_time": "2022-09-14T13:11:42.681Z"
   },
   {
    "duration": 41,
    "start_time": "2022-09-14T13:11:42.711Z"
   },
   {
    "duration": 103,
    "start_time": "2022-09-14T13:11:42.753Z"
   },
   {
    "duration": 79,
    "start_time": "2022-09-14T13:11:42.857Z"
   },
   {
    "duration": 90,
    "start_time": "2022-09-14T13:11:42.937Z"
   },
   {
    "duration": 91,
    "start_time": "2022-09-14T13:11:43.029Z"
   },
   {
    "duration": 115,
    "start_time": "2022-09-14T13:11:43.122Z"
   },
   {
    "duration": 37,
    "start_time": "2022-09-14T13:11:43.238Z"
   },
   {
    "duration": 6,
    "start_time": "2022-09-14T13:11:43.277Z"
   },
   {
    "duration": 63,
    "start_time": "2022-09-14T13:11:43.284Z"
   },
   {
    "duration": 3,
    "start_time": "2022-09-14T13:11:43.348Z"
   },
   {
    "duration": 34,
    "start_time": "2022-09-14T13:11:43.352Z"
   },
   {
    "duration": 155,
    "start_time": "2022-09-14T13:11:43.388Z"
   },
   {
    "duration": 50,
    "start_time": "2022-09-14T13:11:43.545Z"
   },
   {
    "duration": 111,
    "start_time": "2022-09-14T13:11:43.597Z"
   },
   {
    "duration": 0,
    "start_time": "2022-09-14T13:11:43.710Z"
   },
   {
    "duration": 0,
    "start_time": "2022-09-14T13:11:43.712Z"
   },
   {
    "duration": 0,
    "start_time": "2022-09-14T13:11:43.712Z"
   },
   {
    "duration": 0,
    "start_time": "2022-09-14T13:11:43.713Z"
   },
   {
    "duration": 0,
    "start_time": "2022-09-14T13:11:43.715Z"
   },
   {
    "duration": 0,
    "start_time": "2022-09-14T13:11:43.716Z"
   },
   {
    "duration": 0,
    "start_time": "2022-09-14T13:11:43.717Z"
   },
   {
    "duration": 0,
    "start_time": "2022-09-14T13:11:43.718Z"
   },
   {
    "duration": 0,
    "start_time": "2022-09-14T13:11:43.719Z"
   },
   {
    "duration": 0,
    "start_time": "2022-09-14T13:11:43.720Z"
   },
   {
    "duration": 0,
    "start_time": "2022-09-14T13:11:43.721Z"
   },
   {
    "duration": 0,
    "start_time": "2022-09-14T13:11:43.722Z"
   },
   {
    "duration": 0,
    "start_time": "2022-09-14T13:11:43.723Z"
   },
   {
    "duration": 0,
    "start_time": "2022-09-14T13:11:43.724Z"
   },
   {
    "duration": 0,
    "start_time": "2022-09-14T13:11:43.725Z"
   },
   {
    "duration": 0,
    "start_time": "2022-09-14T13:11:43.726Z"
   },
   {
    "duration": 0,
    "start_time": "2022-09-14T13:11:43.727Z"
   },
   {
    "duration": 0,
    "start_time": "2022-09-14T13:11:43.728Z"
   },
   {
    "duration": 0,
    "start_time": "2022-09-14T13:11:43.729Z"
   },
   {
    "duration": 0,
    "start_time": "2022-09-14T13:11:43.730Z"
   },
   {
    "duration": 0,
    "start_time": "2022-09-14T13:11:43.731Z"
   },
   {
    "duration": 0,
    "start_time": "2022-09-14T13:11:43.732Z"
   },
   {
    "duration": 0,
    "start_time": "2022-09-14T13:11:43.733Z"
   },
   {
    "duration": 0,
    "start_time": "2022-09-14T13:11:43.734Z"
   },
   {
    "duration": 0,
    "start_time": "2022-09-14T13:11:43.735Z"
   },
   {
    "duration": 42,
    "start_time": "2022-09-14T13:12:14.830Z"
   },
   {
    "duration": 7,
    "start_time": "2022-09-14T13:18:47.048Z"
   },
   {
    "duration": 5,
    "start_time": "2022-09-14T13:19:01.576Z"
   },
   {
    "duration": 6,
    "start_time": "2022-09-14T13:19:11.320Z"
   },
   {
    "duration": 8,
    "start_time": "2022-09-14T13:19:17.449Z"
   },
   {
    "duration": 1426,
    "start_time": "2022-09-14T13:19:29.149Z"
   },
   {
    "duration": 2973,
    "start_time": "2022-09-14T13:19:30.577Z"
   },
   {
    "duration": 408,
    "start_time": "2022-09-14T13:19:33.551Z"
   },
   {
    "duration": 423,
    "start_time": "2022-09-14T13:19:33.960Z"
   },
   {
    "duration": 368,
    "start_time": "2022-09-14T13:19:34.386Z"
   },
   {
    "duration": 10,
    "start_time": "2022-09-14T13:19:34.756Z"
   },
   {
    "duration": 120,
    "start_time": "2022-09-14T13:19:34.767Z"
   },
   {
    "duration": 48,
    "start_time": "2022-09-14T13:19:34.889Z"
   },
   {
    "duration": 14,
    "start_time": "2022-09-14T13:19:34.939Z"
   },
   {
    "duration": 12,
    "start_time": "2022-09-14T13:19:34.955Z"
   },
   {
    "duration": 58,
    "start_time": "2022-09-14T13:19:34.969Z"
   },
   {
    "duration": 109,
    "start_time": "2022-09-14T13:19:35.028Z"
   },
   {
    "duration": 73,
    "start_time": "2022-09-14T13:19:35.139Z"
   },
   {
    "duration": 95,
    "start_time": "2022-09-14T13:19:35.216Z"
   },
   {
    "duration": 102,
    "start_time": "2022-09-14T13:19:35.313Z"
   },
   {
    "duration": 131,
    "start_time": "2022-09-14T13:19:35.417Z"
   },
   {
    "duration": 40,
    "start_time": "2022-09-14T13:19:35.550Z"
   },
   {
    "duration": 22,
    "start_time": "2022-09-14T13:19:35.592Z"
   },
   {
    "duration": 56,
    "start_time": "2022-09-14T13:19:35.617Z"
   },
   {
    "duration": 42,
    "start_time": "2022-09-14T13:19:46.089Z"
   },
   {
    "duration": 1504,
    "start_time": "2022-09-14T13:19:58.280Z"
   },
   {
    "duration": 3272,
    "start_time": "2022-09-14T13:19:59.786Z"
   },
   {
    "duration": 377,
    "start_time": "2022-09-14T13:20:05.753Z"
   },
   {
    "duration": 438,
    "start_time": "2022-09-14T13:20:06.202Z"
   },
   {
    "duration": 378,
    "start_time": "2022-09-14T13:20:06.641Z"
   },
   {
    "duration": 8,
    "start_time": "2022-09-14T13:20:07.020Z"
   },
   {
    "duration": 123,
    "start_time": "2022-09-14T13:20:07.303Z"
   },
   {
    "duration": 40,
    "start_time": "2022-09-14T13:20:07.655Z"
   },
   {
    "duration": 14,
    "start_time": "2022-09-14T13:20:08.694Z"
   },
   {
    "duration": 12,
    "start_time": "2022-09-14T13:20:09.439Z"
   },
   {
    "duration": 41,
    "start_time": "2022-09-14T13:20:10.074Z"
   },
   {
    "duration": 98,
    "start_time": "2022-09-14T13:20:11.645Z"
   },
   {
    "duration": 69,
    "start_time": "2022-09-14T13:20:11.982Z"
   },
   {
    "duration": 91,
    "start_time": "2022-09-14T13:20:12.736Z"
   },
   {
    "duration": 88,
    "start_time": "2022-09-14T13:20:13.575Z"
   },
   {
    "duration": 110,
    "start_time": "2022-09-14T13:20:14.886Z"
   },
   {
    "duration": 39,
    "start_time": "2022-09-14T13:20:15.303Z"
   },
   {
    "duration": 8,
    "start_time": "2022-09-14T13:20:16.998Z"
   },
   {
    "duration": 56,
    "start_time": "2022-09-14T13:20:17.974Z"
   },
   {
    "duration": 42,
    "start_time": "2022-09-14T13:20:33.599Z"
   },
   {
    "duration": 6,
    "start_time": "2022-09-14T13:20:37.215Z"
   },
   {
    "duration": 6,
    "start_time": "2022-09-14T13:22:43.801Z"
   },
   {
    "duration": 5,
    "start_time": "2022-09-14T13:22:50.041Z"
   },
   {
    "duration": 1395,
    "start_time": "2022-09-14T13:22:58.297Z"
   },
   {
    "duration": 3072,
    "start_time": "2022-09-14T13:22:59.694Z"
   },
   {
    "duration": 422,
    "start_time": "2022-09-14T13:23:02.768Z"
   },
   {
    "duration": 448,
    "start_time": "2022-09-14T13:23:03.192Z"
   },
   {
    "duration": 395,
    "start_time": "2022-09-14T13:23:03.641Z"
   },
   {
    "duration": 7,
    "start_time": "2022-09-14T13:23:04.037Z"
   },
   {
    "duration": 103,
    "start_time": "2022-09-14T13:23:04.046Z"
   },
   {
    "duration": 41,
    "start_time": "2022-09-14T13:23:04.151Z"
   },
   {
    "duration": 15,
    "start_time": "2022-09-14T13:23:04.204Z"
   },
   {
    "duration": 23,
    "start_time": "2022-09-14T13:23:04.220Z"
   },
   {
    "duration": 42,
    "start_time": "2022-09-14T13:23:04.721Z"
   },
   {
    "duration": 98,
    "start_time": "2022-09-14T13:23:05.935Z"
   },
   {
    "duration": 78,
    "start_time": "2022-09-14T13:23:06.312Z"
   },
   {
    "duration": 101,
    "start_time": "2022-09-14T13:23:06.952Z"
   },
   {
    "duration": 90,
    "start_time": "2022-09-14T13:23:07.720Z"
   },
   {
    "duration": 108,
    "start_time": "2022-09-14T13:23:09.359Z"
   },
   {
    "duration": 43,
    "start_time": "2022-09-14T13:23:09.920Z"
   },
   {
    "duration": 7,
    "start_time": "2022-09-14T13:23:11.720Z"
   },
   {
    "duration": 51,
    "start_time": "2022-09-14T13:23:14.143Z"
   },
   {
    "duration": 57,
    "start_time": "2022-09-14T13:23:16.391Z"
   },
   {
    "duration": 46,
    "start_time": "2022-09-14T13:23:23.736Z"
   },
   {
    "duration": 6,
    "start_time": "2022-09-14T13:44:52.049Z"
   },
   {
    "duration": 1426,
    "start_time": "2022-09-14T13:45:00.939Z"
   },
   {
    "duration": 3018,
    "start_time": "2022-09-14T13:45:02.367Z"
   },
   {
    "duration": 395,
    "start_time": "2022-09-14T13:45:05.386Z"
   },
   {
    "duration": 474,
    "start_time": "2022-09-14T13:45:05.783Z"
   },
   {
    "duration": 404,
    "start_time": "2022-09-14T13:45:06.259Z"
   },
   {
    "duration": 7,
    "start_time": "2022-09-14T13:45:06.665Z"
   },
   {
    "duration": 109,
    "start_time": "2022-09-14T13:45:06.674Z"
   },
   {
    "duration": 48,
    "start_time": "2022-09-14T13:45:06.784Z"
   },
   {
    "duration": 14,
    "start_time": "2022-09-14T13:45:06.833Z"
   },
   {
    "duration": 10,
    "start_time": "2022-09-14T13:45:06.850Z"
   },
   {
    "duration": 55,
    "start_time": "2022-09-14T13:45:06.861Z"
   },
   {
    "duration": 105,
    "start_time": "2022-09-14T13:45:06.918Z"
   },
   {
    "duration": 120,
    "start_time": "2022-09-14T13:45:07.025Z"
   },
   {
    "duration": 96,
    "start_time": "2022-09-14T13:45:07.147Z"
   },
   {
    "duration": 109,
    "start_time": "2022-09-14T13:45:07.244Z"
   },
   {
    "duration": 158,
    "start_time": "2022-09-14T13:45:07.361Z"
   },
   {
    "duration": 46,
    "start_time": "2022-09-14T13:45:07.521Z"
   },
   {
    "duration": 8,
    "start_time": "2022-09-14T13:45:07.569Z"
   },
   {
    "duration": 76,
    "start_time": "2022-09-14T13:45:07.579Z"
   },
   {
    "duration": 1653,
    "start_time": "2022-09-14T18:52:40.045Z"
   },
   {
    "duration": 1232,
    "start_time": "2022-09-14T18:52:41.700Z"
   },
   {
    "duration": 453,
    "start_time": "2022-09-14T18:52:42.933Z"
   },
   {
    "duration": 517,
    "start_time": "2022-09-14T18:52:43.387Z"
   },
   {
    "duration": 483,
    "start_time": "2022-09-14T18:52:43.908Z"
   },
   {
    "duration": 15,
    "start_time": "2022-09-14T18:52:44.394Z"
   },
   {
    "duration": 152,
    "start_time": "2022-09-14T18:52:44.412Z"
   },
   {
    "duration": 66,
    "start_time": "2022-09-14T18:52:44.566Z"
   },
   {
    "duration": 16,
    "start_time": "2022-09-14T18:52:44.635Z"
   },
   {
    "duration": 17,
    "start_time": "2022-09-14T18:52:44.652Z"
   },
   {
    "duration": 72,
    "start_time": "2022-09-14T18:52:44.671Z"
   },
   {
    "duration": 111,
    "start_time": "2022-09-14T18:52:44.745Z"
   },
   {
    "duration": 86,
    "start_time": "2022-09-14T18:52:44.858Z"
   },
   {
    "duration": 107,
    "start_time": "2022-09-14T18:52:44.947Z"
   },
   {
    "duration": 111,
    "start_time": "2022-09-14T18:52:45.055Z"
   },
   {
    "duration": 128,
    "start_time": "2022-09-14T18:52:45.168Z"
   },
   {
    "duration": 50,
    "start_time": "2022-09-14T18:52:45.300Z"
   },
   {
    "duration": 7,
    "start_time": "2022-09-14T18:52:45.351Z"
   },
   {
    "duration": 76,
    "start_time": "2022-09-14T18:52:45.359Z"
   },
   {
    "duration": 1475,
    "start_time": "2022-09-15T06:57:33.765Z"
   },
   {
    "duration": 1247,
    "start_time": "2022-09-15T06:57:35.242Z"
   },
   {
    "duration": 455,
    "start_time": "2022-09-15T06:57:36.490Z"
   },
   {
    "duration": 445,
    "start_time": "2022-09-15T06:57:36.947Z"
   },
   {
    "duration": 409,
    "start_time": "2022-09-15T06:57:37.394Z"
   },
   {
    "duration": 8,
    "start_time": "2022-09-15T06:57:37.809Z"
   },
   {
    "duration": 121,
    "start_time": "2022-09-15T06:57:37.818Z"
   },
   {
    "duration": 42,
    "start_time": "2022-09-15T06:57:37.940Z"
   },
   {
    "duration": 26,
    "start_time": "2022-09-15T06:57:37.984Z"
   },
   {
    "duration": 11,
    "start_time": "2022-09-15T06:57:38.013Z"
   },
   {
    "duration": 44,
    "start_time": "2022-09-15T06:57:38.025Z"
   },
   {
    "duration": 134,
    "start_time": "2022-09-15T06:57:38.070Z"
   },
   {
    "duration": 87,
    "start_time": "2022-09-15T06:57:38.206Z"
   },
   {
    "duration": 122,
    "start_time": "2022-09-15T06:57:38.294Z"
   },
   {
    "duration": 107,
    "start_time": "2022-09-15T06:57:38.418Z"
   },
   {
    "duration": 123,
    "start_time": "2022-09-15T06:57:38.527Z"
   },
   {
    "duration": 42,
    "start_time": "2022-09-15T06:57:38.652Z"
   },
   {
    "duration": 17,
    "start_time": "2022-09-15T06:57:38.696Z"
   },
   {
    "duration": 64,
    "start_time": "2022-09-15T06:57:38.714Z"
   },
   {
    "duration": 1581,
    "start_time": "2022-09-15T06:59:02.887Z"
   },
   {
    "duration": 1203,
    "start_time": "2022-09-15T06:59:04.470Z"
   },
   {
    "duration": 468,
    "start_time": "2022-09-15T06:59:05.675Z"
   },
   {
    "duration": 429,
    "start_time": "2022-09-15T06:59:06.145Z"
   },
   {
    "duration": 378,
    "start_time": "2022-09-15T06:59:06.576Z"
   },
   {
    "duration": 8,
    "start_time": "2022-09-15T06:59:06.955Z"
   },
   {
    "duration": 125,
    "start_time": "2022-09-15T06:59:06.965Z"
   },
   {
    "duration": 50,
    "start_time": "2022-09-15T06:59:07.092Z"
   },
   {
    "duration": 14,
    "start_time": "2022-09-15T06:59:07.144Z"
   },
   {
    "duration": 19,
    "start_time": "2022-09-15T06:59:07.161Z"
   },
   {
    "duration": 55,
    "start_time": "2022-09-15T06:59:07.182Z"
   },
   {
    "duration": 140,
    "start_time": "2022-09-15T06:59:07.239Z"
   },
   {
    "duration": 101,
    "start_time": "2022-09-15T06:59:07.380Z"
   },
   {
    "duration": 143,
    "start_time": "2022-09-15T06:59:07.483Z"
   },
   {
    "duration": 106,
    "start_time": "2022-09-15T06:59:07.627Z"
   },
   {
    "duration": 157,
    "start_time": "2022-09-15T06:59:07.735Z"
   },
   {
    "duration": 51,
    "start_time": "2022-09-15T06:59:07.894Z"
   },
   {
    "duration": 8,
    "start_time": "2022-09-15T06:59:07.947Z"
   },
   {
    "duration": 72,
    "start_time": "2022-09-15T06:59:07.957Z"
   },
   {
    "duration": 50,
    "start_time": "2022-09-15T06:59:29.730Z"
   },
   {
    "duration": 6,
    "start_time": "2022-09-15T07:00:54.953Z"
   },
   {
    "duration": 1512,
    "start_time": "2022-09-15T07:00:59.899Z"
   },
   {
    "duration": 1150,
    "start_time": "2022-09-15T07:01:01.413Z"
   },
   {
    "duration": 441,
    "start_time": "2022-09-15T07:01:02.564Z"
   },
   {
    "duration": 433,
    "start_time": "2022-09-15T07:01:03.008Z"
   },
   {
    "duration": 403,
    "start_time": "2022-09-15T07:01:03.443Z"
   },
   {
    "duration": 9,
    "start_time": "2022-09-15T07:01:03.847Z"
   },
   {
    "duration": 122,
    "start_time": "2022-09-15T07:01:03.857Z"
   },
   {
    "duration": 53,
    "start_time": "2022-09-15T07:01:03.980Z"
   },
   {
    "duration": 15,
    "start_time": "2022-09-15T07:01:04.034Z"
   },
   {
    "duration": 13,
    "start_time": "2022-09-15T07:01:04.051Z"
   },
   {
    "duration": 61,
    "start_time": "2022-09-15T07:01:04.066Z"
   },
   {
    "duration": 122,
    "start_time": "2022-09-15T07:01:04.128Z"
   },
   {
    "duration": 86,
    "start_time": "2022-09-15T07:01:04.251Z"
   },
   {
    "duration": 99,
    "start_time": "2022-09-15T07:01:04.339Z"
   },
   {
    "duration": 111,
    "start_time": "2022-09-15T07:01:04.440Z"
   },
   {
    "duration": 123,
    "start_time": "2022-09-15T07:01:04.553Z"
   },
   {
    "duration": 50,
    "start_time": "2022-09-15T07:01:04.677Z"
   },
   {
    "duration": 6,
    "start_time": "2022-09-15T07:01:04.729Z"
   },
   {
    "duration": 56,
    "start_time": "2022-09-15T07:01:04.736Z"
   },
   {
    "duration": 131,
    "start_time": "2022-09-15T07:01:04.794Z"
   },
   {
    "duration": 51,
    "start_time": "2022-09-15T07:02:11.930Z"
   },
   {
    "duration": 1792,
    "start_time": "2022-09-15T10:35:57.505Z"
   },
   {
    "duration": 3274,
    "start_time": "2022-09-15T10:35:59.300Z"
   },
   {
    "duration": 458,
    "start_time": "2022-09-15T10:36:02.577Z"
   },
   {
    "duration": 463,
    "start_time": "2022-09-15T10:36:03.037Z"
   },
   {
    "duration": 427,
    "start_time": "2022-09-15T10:36:03.502Z"
   },
   {
    "duration": 9,
    "start_time": "2022-09-15T10:36:03.931Z"
   },
   {
    "duration": 118,
    "start_time": "2022-09-15T10:36:03.942Z"
   },
   {
    "duration": 50,
    "start_time": "2022-09-15T10:36:04.062Z"
   },
   {
    "duration": 14,
    "start_time": "2022-09-15T10:36:04.114Z"
   },
   {
    "duration": 11,
    "start_time": "2022-09-15T10:36:04.131Z"
   },
   {
    "duration": 69,
    "start_time": "2022-09-15T10:36:04.144Z"
   },
   {
    "duration": 103,
    "start_time": "2022-09-15T10:36:04.215Z"
   },
   {
    "duration": 83,
    "start_time": "2022-09-15T10:36:04.320Z"
   },
   {
    "duration": 102,
    "start_time": "2022-09-15T10:36:04.405Z"
   },
   {
    "duration": 111,
    "start_time": "2022-09-15T10:36:04.508Z"
   },
   {
    "duration": 131,
    "start_time": "2022-09-15T10:36:04.621Z"
   },
   {
    "duration": 49,
    "start_time": "2022-09-15T10:36:04.754Z"
   },
   {
    "duration": 8,
    "start_time": "2022-09-15T10:36:04.805Z"
   },
   {
    "duration": 76,
    "start_time": "2022-09-15T10:36:04.815Z"
   },
   {
    "duration": 1387,
    "start_time": "2022-09-15T10:49:34.253Z"
   },
   {
    "duration": 3199,
    "start_time": "2022-09-15T10:49:35.642Z"
   },
   {
    "duration": 413,
    "start_time": "2022-09-15T10:49:38.843Z"
   },
   {
    "duration": 448,
    "start_time": "2022-09-15T10:49:39.258Z"
   },
   {
    "duration": 431,
    "start_time": "2022-09-15T10:49:39.708Z"
   },
   {
    "duration": 7,
    "start_time": "2022-09-15T10:49:40.140Z"
   },
   {
    "duration": 118,
    "start_time": "2022-09-15T10:49:40.149Z"
   },
   {
    "duration": 48,
    "start_time": "2022-09-15T10:49:40.269Z"
   },
   {
    "duration": 14,
    "start_time": "2022-09-15T10:49:40.318Z"
   },
   {
    "duration": 12,
    "start_time": "2022-09-15T10:49:40.335Z"
   },
   {
    "duration": 58,
    "start_time": "2022-09-15T10:49:40.348Z"
   },
   {
    "duration": 120,
    "start_time": "2022-09-15T10:49:40.408Z"
   },
   {
    "duration": 100,
    "start_time": "2022-09-15T10:49:40.530Z"
   },
   {
    "duration": 111,
    "start_time": "2022-09-15T10:49:40.632Z"
   },
   {
    "duration": 106,
    "start_time": "2022-09-15T10:49:40.745Z"
   },
   {
    "duration": 138,
    "start_time": "2022-09-15T10:49:40.853Z"
   },
   {
    "duration": 40,
    "start_time": "2022-09-15T10:49:40.992Z"
   },
   {
    "duration": 7,
    "start_time": "2022-09-15T10:49:41.033Z"
   },
   {
    "duration": 61,
    "start_time": "2022-09-15T10:49:41.042Z"
   },
   {
    "duration": 44,
    "start_time": "2022-09-15T16:35:00.136Z"
   },
   {
    "duration": 1533,
    "start_time": "2022-09-15T16:35:16.393Z"
   },
   {
    "duration": 1393,
    "start_time": "2022-09-15T16:35:17.928Z"
   },
   {
    "duration": 464,
    "start_time": "2022-09-15T16:35:19.323Z"
   },
   {
    "duration": 509,
    "start_time": "2022-09-15T16:35:19.789Z"
   },
   {
    "duration": 432,
    "start_time": "2022-09-15T16:35:20.299Z"
   },
   {
    "duration": 7,
    "start_time": "2022-09-15T16:35:20.733Z"
   },
   {
    "duration": 142,
    "start_time": "2022-09-15T16:35:20.742Z"
   },
   {
    "duration": 56,
    "start_time": "2022-09-15T16:35:20.886Z"
   },
   {
    "duration": 15,
    "start_time": "2022-09-15T16:35:20.944Z"
   },
   {
    "duration": 29,
    "start_time": "2022-09-15T16:35:20.962Z"
   },
   {
    "duration": 59,
    "start_time": "2022-09-15T16:35:20.993Z"
   },
   {
    "duration": 161,
    "start_time": "2022-09-15T16:35:21.054Z"
   },
   {
    "duration": 112,
    "start_time": "2022-09-15T16:35:21.217Z"
   },
   {
    "duration": 126,
    "start_time": "2022-09-15T16:35:21.331Z"
   },
   {
    "duration": 130,
    "start_time": "2022-09-15T16:35:21.458Z"
   },
   {
    "duration": 119,
    "start_time": "2022-09-15T16:35:21.590Z"
   },
   {
    "duration": 50,
    "start_time": "2022-09-15T16:35:21.711Z"
   },
   {
    "duration": 6,
    "start_time": "2022-09-15T16:35:21.763Z"
   },
   {
    "duration": 71,
    "start_time": "2022-09-15T16:35:21.771Z"
   },
   {
    "duration": 13,
    "start_time": "2022-09-15T16:35:21.844Z"
   },
   {
    "duration": 21,
    "start_time": "2022-09-15T16:35:21.858Z"
   },
   {
    "duration": 39,
    "start_time": "2022-09-15T16:35:21.881Z"
   },
   {
    "duration": 175,
    "start_time": "2022-09-15T16:35:21.922Z"
   },
   {
    "duration": 61,
    "start_time": "2022-09-15T16:35:22.098Z"
   },
   {
    "duration": 122,
    "start_time": "2022-09-15T16:35:22.161Z"
   },
   {
    "duration": 0,
    "start_time": "2022-09-15T16:35:22.285Z"
   },
   {
    "duration": 0,
    "start_time": "2022-09-15T16:35:22.287Z"
   },
   {
    "duration": 0,
    "start_time": "2022-09-15T16:35:22.288Z"
   },
   {
    "duration": 0,
    "start_time": "2022-09-15T16:35:22.291Z"
   },
   {
    "duration": 0,
    "start_time": "2022-09-15T16:35:22.292Z"
   },
   {
    "duration": 0,
    "start_time": "2022-09-15T16:35:22.294Z"
   },
   {
    "duration": 0,
    "start_time": "2022-09-15T16:35:22.295Z"
   },
   {
    "duration": 0,
    "start_time": "2022-09-15T16:35:22.321Z"
   },
   {
    "duration": 0,
    "start_time": "2022-09-15T16:35:22.323Z"
   },
   {
    "duration": 0,
    "start_time": "2022-09-15T16:35:22.325Z"
   },
   {
    "duration": 0,
    "start_time": "2022-09-15T16:35:22.327Z"
   },
   {
    "duration": 0,
    "start_time": "2022-09-15T16:35:22.328Z"
   },
   {
    "duration": 0,
    "start_time": "2022-09-15T16:35:22.330Z"
   },
   {
    "duration": 0,
    "start_time": "2022-09-15T16:35:22.331Z"
   },
   {
    "duration": 1,
    "start_time": "2022-09-15T16:35:22.332Z"
   },
   {
    "duration": 0,
    "start_time": "2022-09-15T16:35:22.334Z"
   },
   {
    "duration": 0,
    "start_time": "2022-09-15T16:35:22.338Z"
   },
   {
    "duration": 0,
    "start_time": "2022-09-15T16:35:22.340Z"
   },
   {
    "duration": 0,
    "start_time": "2022-09-15T16:35:22.342Z"
   },
   {
    "duration": 0,
    "start_time": "2022-09-15T16:35:22.343Z"
   },
   {
    "duration": 0,
    "start_time": "2022-09-15T16:35:22.345Z"
   },
   {
    "duration": 0,
    "start_time": "2022-09-15T16:35:22.346Z"
   },
   {
    "duration": 0,
    "start_time": "2022-09-15T16:35:22.347Z"
   },
   {
    "duration": 0,
    "start_time": "2022-09-15T16:35:22.349Z"
   },
   {
    "duration": 0,
    "start_time": "2022-09-15T16:35:22.350Z"
   },
   {
    "duration": 7,
    "start_time": "2022-09-15T16:37:38.625Z"
   },
   {
    "duration": 40,
    "start_time": "2022-09-15T16:37:39.215Z"
   },
   {
    "duration": 2646,
    "start_time": "2022-09-15T16:37:56.070Z"
   },
   {
    "duration": 1293,
    "start_time": "2022-09-15T16:37:58.718Z"
   },
   {
    "duration": 459,
    "start_time": "2022-09-15T16:38:00.013Z"
   },
   {
    "duration": 502,
    "start_time": "2022-09-15T16:38:00.474Z"
   },
   {
    "duration": 492,
    "start_time": "2022-09-15T16:38:00.978Z"
   },
   {
    "duration": 10,
    "start_time": "2022-09-15T16:38:01.471Z"
   },
   {
    "duration": 126,
    "start_time": "2022-09-15T16:38:01.482Z"
   },
   {
    "duration": 49,
    "start_time": "2022-09-15T16:38:01.610Z"
   },
   {
    "duration": 16,
    "start_time": "2022-09-15T16:38:01.660Z"
   },
   {
    "duration": 14,
    "start_time": "2022-09-15T16:38:01.679Z"
   },
   {
    "duration": 60,
    "start_time": "2022-09-15T16:38:01.695Z"
   },
   {
    "duration": 142,
    "start_time": "2022-09-15T16:38:01.757Z"
   },
   {
    "duration": 90,
    "start_time": "2022-09-15T16:38:01.901Z"
   },
   {
    "duration": 122,
    "start_time": "2022-09-15T16:38:01.993Z"
   },
   {
    "duration": 116,
    "start_time": "2022-09-15T16:38:02.116Z"
   },
   {
    "duration": 121,
    "start_time": "2022-09-15T16:38:02.234Z"
   },
   {
    "duration": 45,
    "start_time": "2022-09-15T16:38:02.357Z"
   },
   {
    "duration": 19,
    "start_time": "2022-09-15T16:38:02.404Z"
   },
   {
    "duration": 64,
    "start_time": "2022-09-15T16:38:02.425Z"
   },
   {
    "duration": 13,
    "start_time": "2022-09-15T16:38:02.490Z"
   },
   {
    "duration": 17,
    "start_time": "2022-09-15T16:38:02.505Z"
   },
   {
    "duration": 5,
    "start_time": "2022-09-15T16:38:02.523Z"
   },
   {
    "duration": 108,
    "start_time": "2022-09-15T16:38:02.530Z"
   },
   {
    "duration": 0,
    "start_time": "2022-09-15T16:38:02.640Z"
   },
   {
    "duration": 0,
    "start_time": "2022-09-15T16:38:02.641Z"
   },
   {
    "duration": 0,
    "start_time": "2022-09-15T16:38:02.642Z"
   },
   {
    "duration": 0,
    "start_time": "2022-09-15T16:38:02.643Z"
   },
   {
    "duration": 0,
    "start_time": "2022-09-15T16:38:02.644Z"
   },
   {
    "duration": 0,
    "start_time": "2022-09-15T16:38:02.645Z"
   },
   {
    "duration": 0,
    "start_time": "2022-09-15T16:38:02.646Z"
   },
   {
    "duration": 0,
    "start_time": "2022-09-15T16:38:02.647Z"
   },
   {
    "duration": 0,
    "start_time": "2022-09-15T16:38:02.648Z"
   },
   {
    "duration": 0,
    "start_time": "2022-09-15T16:38:02.649Z"
   },
   {
    "duration": 0,
    "start_time": "2022-09-15T16:38:02.650Z"
   },
   {
    "duration": 0,
    "start_time": "2022-09-15T16:38:02.651Z"
   },
   {
    "duration": 0,
    "start_time": "2022-09-15T16:38:02.652Z"
   },
   {
    "duration": 0,
    "start_time": "2022-09-15T16:38:02.653Z"
   },
   {
    "duration": 0,
    "start_time": "2022-09-15T16:38:02.654Z"
   },
   {
    "duration": 0,
    "start_time": "2022-09-15T16:38:02.655Z"
   },
   {
    "duration": 0,
    "start_time": "2022-09-15T16:38:02.656Z"
   },
   {
    "duration": 0,
    "start_time": "2022-09-15T16:38:02.657Z"
   },
   {
    "duration": 0,
    "start_time": "2022-09-15T16:38:02.658Z"
   },
   {
    "duration": 0,
    "start_time": "2022-09-15T16:38:02.659Z"
   },
   {
    "duration": 0,
    "start_time": "2022-09-15T16:38:02.659Z"
   },
   {
    "duration": 0,
    "start_time": "2022-09-15T16:38:02.661Z"
   },
   {
    "duration": 0,
    "start_time": "2022-09-15T16:38:02.662Z"
   },
   {
    "duration": 0,
    "start_time": "2022-09-15T16:38:02.662Z"
   },
   {
    "duration": 0,
    "start_time": "2022-09-15T16:38:02.663Z"
   },
   {
    "duration": 0,
    "start_time": "2022-09-15T16:38:02.664Z"
   },
   {
    "duration": 0,
    "start_time": "2022-09-15T16:38:02.665Z"
   },
   {
    "duration": 0,
    "start_time": "2022-09-15T16:38:02.666Z"
   },
   {
    "duration": 8,
    "start_time": "2022-09-15T16:38:19.008Z"
   },
   {
    "duration": 15,
    "start_time": "2022-09-15T16:38:26.975Z"
   },
   {
    "duration": 3,
    "start_time": "2022-09-15T16:44:17.401Z"
   },
   {
    "duration": 4,
    "start_time": "2022-09-15T16:44:31.222Z"
   },
   {
    "duration": 2,
    "start_time": "2022-09-15T16:44:31.606Z"
   },
   {
    "duration": 13,
    "start_time": "2022-09-15T16:44:35.348Z"
   },
   {
    "duration": 1426,
    "start_time": "2022-09-15T16:44:53.294Z"
   },
   {
    "duration": 961,
    "start_time": "2022-09-15T16:44:54.721Z"
   },
   {
    "duration": 517,
    "start_time": "2022-09-15T16:44:55.684Z"
   },
   {
    "duration": 524,
    "start_time": "2022-09-15T16:44:56.204Z"
   },
   {
    "duration": 458,
    "start_time": "2022-09-15T16:44:56.730Z"
   },
   {
    "duration": 8,
    "start_time": "2022-09-15T16:44:57.190Z"
   },
   {
    "duration": 125,
    "start_time": "2022-09-15T16:44:57.199Z"
   },
   {
    "duration": 46,
    "start_time": "2022-09-15T16:44:57.325Z"
   },
   {
    "duration": 14,
    "start_time": "2022-09-15T16:44:57.373Z"
   },
   {
    "duration": 11,
    "start_time": "2022-09-15T16:44:57.390Z"
   },
   {
    "duration": 67,
    "start_time": "2022-09-15T16:44:57.422Z"
   },
   {
    "duration": 151,
    "start_time": "2022-09-15T16:44:57.492Z"
   },
   {
    "duration": 94,
    "start_time": "2022-09-15T16:44:57.645Z"
   },
   {
    "duration": 120,
    "start_time": "2022-09-15T16:44:57.740Z"
   },
   {
    "duration": 119,
    "start_time": "2022-09-15T16:44:57.862Z"
   },
   {
    "duration": 124,
    "start_time": "2022-09-15T16:44:57.983Z"
   },
   {
    "duration": 52,
    "start_time": "2022-09-15T16:44:58.108Z"
   },
   {
    "duration": 7,
    "start_time": "2022-09-15T16:44:58.161Z"
   },
   {
    "duration": 72,
    "start_time": "2022-09-15T16:44:58.170Z"
   },
   {
    "duration": 14,
    "start_time": "2022-09-15T16:44:58.244Z"
   },
   {
    "duration": 4,
    "start_time": "2022-09-15T16:44:58.260Z"
   },
   {
    "duration": 6,
    "start_time": "2022-09-15T16:44:58.265Z"
   },
   {
    "duration": 5,
    "start_time": "2022-09-15T16:44:58.273Z"
   },
   {
    "duration": 52,
    "start_time": "2022-09-15T16:44:58.279Z"
   },
   {
    "duration": 175,
    "start_time": "2022-09-15T16:44:58.332Z"
   },
   {
    "duration": 67,
    "start_time": "2022-09-15T16:44:58.509Z"
   },
   {
    "duration": 112,
    "start_time": "2022-09-15T16:44:58.578Z"
   },
   {
    "duration": 0,
    "start_time": "2022-09-15T16:44:58.692Z"
   },
   {
    "duration": 0,
    "start_time": "2022-09-15T16:44:58.694Z"
   },
   {
    "duration": 0,
    "start_time": "2022-09-15T16:44:58.695Z"
   },
   {
    "duration": 0,
    "start_time": "2022-09-15T16:44:58.696Z"
   },
   {
    "duration": 0,
    "start_time": "2022-09-15T16:44:58.697Z"
   },
   {
    "duration": 0,
    "start_time": "2022-09-15T16:44:58.698Z"
   },
   {
    "duration": 0,
    "start_time": "2022-09-15T16:44:58.699Z"
   },
   {
    "duration": 0,
    "start_time": "2022-09-15T16:44:58.700Z"
   },
   {
    "duration": 0,
    "start_time": "2022-09-15T16:44:58.701Z"
   },
   {
    "duration": 0,
    "start_time": "2022-09-15T16:44:58.702Z"
   },
   {
    "duration": 0,
    "start_time": "2022-09-15T16:44:58.703Z"
   },
   {
    "duration": 0,
    "start_time": "2022-09-15T16:44:58.704Z"
   },
   {
    "duration": 0,
    "start_time": "2022-09-15T16:44:58.705Z"
   },
   {
    "duration": 0,
    "start_time": "2022-09-15T16:44:58.722Z"
   },
   {
    "duration": 0,
    "start_time": "2022-09-15T16:44:58.724Z"
   },
   {
    "duration": 0,
    "start_time": "2022-09-15T16:44:58.725Z"
   },
   {
    "duration": 0,
    "start_time": "2022-09-15T16:44:58.726Z"
   },
   {
    "duration": 0,
    "start_time": "2022-09-15T16:44:58.727Z"
   },
   {
    "duration": 0,
    "start_time": "2022-09-15T16:44:58.728Z"
   },
   {
    "duration": 0,
    "start_time": "2022-09-15T16:44:58.729Z"
   },
   {
    "duration": 0,
    "start_time": "2022-09-15T16:44:58.730Z"
   },
   {
    "duration": 0,
    "start_time": "2022-09-15T16:44:58.731Z"
   },
   {
    "duration": 0,
    "start_time": "2022-09-15T16:44:58.732Z"
   },
   {
    "duration": 0,
    "start_time": "2022-09-15T16:44:58.733Z"
   },
   {
    "duration": 0,
    "start_time": "2022-09-15T16:44:58.733Z"
   },
   {
    "duration": 52,
    "start_time": "2022-09-16T07:55:53.137Z"
   },
   {
    "duration": 6,
    "start_time": "2022-09-16T07:56:01.289Z"
   },
   {
    "duration": 1535,
    "start_time": "2022-09-16T07:56:14.082Z"
   },
   {
    "duration": 3068,
    "start_time": "2022-09-16T07:56:15.620Z"
   },
   {
    "duration": 418,
    "start_time": "2022-09-16T07:56:18.690Z"
   },
   {
    "duration": 440,
    "start_time": "2022-09-16T07:56:19.110Z"
   },
   {
    "duration": 388,
    "start_time": "2022-09-16T07:56:19.552Z"
   },
   {
    "duration": 7,
    "start_time": "2022-09-16T07:56:19.942Z"
   },
   {
    "duration": 118,
    "start_time": "2022-09-16T07:56:19.950Z"
   },
   {
    "duration": 59,
    "start_time": "2022-09-16T07:56:20.069Z"
   },
   {
    "duration": 15,
    "start_time": "2022-09-16T07:56:20.130Z"
   },
   {
    "duration": 10,
    "start_time": "2022-09-16T07:56:20.148Z"
   },
   {
    "duration": 71,
    "start_time": "2022-09-16T07:56:20.160Z"
   },
   {
    "duration": 118,
    "start_time": "2022-09-16T07:56:20.232Z"
   },
   {
    "duration": 77,
    "start_time": "2022-09-16T07:56:20.352Z"
   },
   {
    "duration": 91,
    "start_time": "2022-09-16T07:56:20.431Z"
   },
   {
    "duration": 97,
    "start_time": "2022-09-16T07:56:20.523Z"
   },
   {
    "duration": 115,
    "start_time": "2022-09-16T07:56:20.621Z"
   },
   {
    "duration": 39,
    "start_time": "2022-09-16T07:56:20.737Z"
   },
   {
    "duration": 6,
    "start_time": "2022-09-16T07:56:20.778Z"
   },
   {
    "duration": 68,
    "start_time": "2022-09-16T07:56:20.786Z"
   },
   {
    "duration": 16,
    "start_time": "2022-09-16T07:56:20.856Z"
   },
   {
    "duration": 10,
    "start_time": "2022-09-16T07:56:20.874Z"
   },
   {
    "duration": 20,
    "start_time": "2022-09-16T07:56:20.885Z"
   },
   {
    "duration": 3,
    "start_time": "2022-09-16T07:56:20.906Z"
   },
   {
    "duration": 33,
    "start_time": "2022-09-16T07:56:20.910Z"
   },
   {
    "duration": 162,
    "start_time": "2022-09-16T07:56:20.944Z"
   },
   {
    "duration": 53,
    "start_time": "2022-09-16T07:56:21.107Z"
   },
   {
    "duration": 88,
    "start_time": "2022-09-16T07:56:21.162Z"
   },
   {
    "duration": 1,
    "start_time": "2022-09-16T07:56:21.251Z"
   },
   {
    "duration": 0,
    "start_time": "2022-09-16T07:56:21.253Z"
   },
   {
    "duration": 0,
    "start_time": "2022-09-16T07:56:21.254Z"
   },
   {
    "duration": 0,
    "start_time": "2022-09-16T07:56:21.255Z"
   },
   {
    "duration": 0,
    "start_time": "2022-09-16T07:56:21.256Z"
   },
   {
    "duration": 0,
    "start_time": "2022-09-16T07:56:21.257Z"
   },
   {
    "duration": 0,
    "start_time": "2022-09-16T07:56:21.258Z"
   },
   {
    "duration": 0,
    "start_time": "2022-09-16T07:56:21.259Z"
   },
   {
    "duration": 0,
    "start_time": "2022-09-16T07:56:21.259Z"
   },
   {
    "duration": 0,
    "start_time": "2022-09-16T07:56:21.260Z"
   },
   {
    "duration": 0,
    "start_time": "2022-09-16T07:56:21.261Z"
   },
   {
    "duration": 0,
    "start_time": "2022-09-16T07:56:21.263Z"
   },
   {
    "duration": 1,
    "start_time": "2022-09-16T07:56:21.263Z"
   },
   {
    "duration": 0,
    "start_time": "2022-09-16T07:56:21.264Z"
   },
   {
    "duration": 0,
    "start_time": "2022-09-16T07:56:21.265Z"
   },
   {
    "duration": 0,
    "start_time": "2022-09-16T07:56:21.266Z"
   },
   {
    "duration": 0,
    "start_time": "2022-09-16T07:56:21.267Z"
   },
   {
    "duration": 0,
    "start_time": "2022-09-16T07:56:21.268Z"
   },
   {
    "duration": 0,
    "start_time": "2022-09-16T07:56:21.268Z"
   },
   {
    "duration": 0,
    "start_time": "2022-09-16T07:56:21.269Z"
   },
   {
    "duration": 0,
    "start_time": "2022-09-16T07:56:21.270Z"
   },
   {
    "duration": 0,
    "start_time": "2022-09-16T07:56:21.271Z"
   },
   {
    "duration": 0,
    "start_time": "2022-09-16T07:56:21.272Z"
   },
   {
    "duration": 0,
    "start_time": "2022-09-16T07:56:21.273Z"
   },
   {
    "duration": 1,
    "start_time": "2022-09-16T07:56:21.304Z"
   },
   {
    "duration": 8,
    "start_time": "2022-09-16T08:03:29.635Z"
   },
   {
    "duration": 18,
    "start_time": "2022-09-16T08:03:39.792Z"
   },
   {
    "duration": 2,
    "start_time": "2022-09-16T08:04:02.211Z"
   },
   {
    "duration": 12,
    "start_time": "2022-09-16T08:04:29.335Z"
   },
   {
    "duration": 35,
    "start_time": "2022-09-16T08:04:37.554Z"
   },
   {
    "duration": 16,
    "start_time": "2022-09-16T08:05:11.171Z"
   },
   {
    "duration": 42,
    "start_time": "2022-09-16T08:05:32.836Z"
   },
   {
    "duration": 84,
    "start_time": "2022-09-16T08:05:50.098Z"
   },
   {
    "duration": 13,
    "start_time": "2022-09-16T08:05:57.097Z"
   },
   {
    "duration": 12,
    "start_time": "2022-09-16T08:09:05.595Z"
   },
   {
    "duration": 1380,
    "start_time": "2022-09-16T08:10:25.268Z"
   },
   {
    "duration": 850,
    "start_time": "2022-09-16T08:10:26.649Z"
   },
   {
    "duration": 407,
    "start_time": "2022-09-16T08:10:27.504Z"
   },
   {
    "duration": 467,
    "start_time": "2022-09-16T08:10:27.913Z"
   },
   {
    "duration": 373,
    "start_time": "2022-09-16T08:10:28.382Z"
   },
   {
    "duration": 8,
    "start_time": "2022-09-16T08:10:28.756Z"
   },
   {
    "duration": 107,
    "start_time": "2022-09-16T08:10:28.765Z"
   },
   {
    "duration": 48,
    "start_time": "2022-09-16T08:10:28.874Z"
   },
   {
    "duration": 2,
    "start_time": "2022-09-16T08:10:28.924Z"
   },
   {
    "duration": 9,
    "start_time": "2022-09-16T08:10:28.929Z"
   },
   {
    "duration": 13,
    "start_time": "2022-09-16T08:10:28.939Z"
   },
   {
    "duration": 114,
    "start_time": "2022-09-16T08:10:28.954Z"
   },
   {
    "duration": 82,
    "start_time": "2022-09-16T08:10:29.070Z"
   },
   {
    "duration": 96,
    "start_time": "2022-09-16T08:10:29.153Z"
   },
   {
    "duration": 89,
    "start_time": "2022-09-16T08:10:29.250Z"
   },
   {
    "duration": 114,
    "start_time": "2022-09-16T08:10:29.340Z"
   },
   {
    "duration": 50,
    "start_time": "2022-09-16T08:10:29.455Z"
   },
   {
    "duration": 6,
    "start_time": "2022-09-16T08:10:29.507Z"
   },
   {
    "duration": 51,
    "start_time": "2022-09-16T08:10:29.514Z"
   },
   {
    "duration": 13,
    "start_time": "2022-09-16T08:10:29.566Z"
   },
   {
    "duration": 8,
    "start_time": "2022-09-16T08:10:29.580Z"
   },
   {
    "duration": 18,
    "start_time": "2022-09-16T08:10:29.590Z"
   },
   {
    "duration": 5,
    "start_time": "2022-09-16T08:10:29.610Z"
   },
   {
    "duration": 41,
    "start_time": "2022-09-16T08:10:29.617Z"
   },
   {
    "duration": 154,
    "start_time": "2022-09-16T08:10:29.660Z"
   },
   {
    "duration": 53,
    "start_time": "2022-09-16T08:10:29.816Z"
   },
   {
    "duration": 112,
    "start_time": "2022-09-16T08:10:29.871Z"
   },
   {
    "duration": 0,
    "start_time": "2022-09-16T08:10:29.985Z"
   },
   {
    "duration": 0,
    "start_time": "2022-09-16T08:10:29.986Z"
   },
   {
    "duration": 0,
    "start_time": "2022-09-16T08:10:29.987Z"
   },
   {
    "duration": 0,
    "start_time": "2022-09-16T08:10:29.988Z"
   },
   {
    "duration": 0,
    "start_time": "2022-09-16T08:10:29.989Z"
   },
   {
    "duration": 0,
    "start_time": "2022-09-16T08:10:29.990Z"
   },
   {
    "duration": 0,
    "start_time": "2022-09-16T08:10:30.004Z"
   },
   {
    "duration": 1,
    "start_time": "2022-09-16T08:10:30.005Z"
   },
   {
    "duration": 0,
    "start_time": "2022-09-16T08:10:30.007Z"
   },
   {
    "duration": 0,
    "start_time": "2022-09-16T08:10:30.007Z"
   },
   {
    "duration": 0,
    "start_time": "2022-09-16T08:10:30.008Z"
   },
   {
    "duration": 0,
    "start_time": "2022-09-16T08:10:30.010Z"
   },
   {
    "duration": 0,
    "start_time": "2022-09-16T08:10:30.011Z"
   },
   {
    "duration": 0,
    "start_time": "2022-09-16T08:10:30.011Z"
   },
   {
    "duration": 0,
    "start_time": "2022-09-16T08:10:30.013Z"
   },
   {
    "duration": 0,
    "start_time": "2022-09-16T08:10:30.013Z"
   },
   {
    "duration": 0,
    "start_time": "2022-09-16T08:10:30.015Z"
   },
   {
    "duration": 0,
    "start_time": "2022-09-16T08:10:30.015Z"
   },
   {
    "duration": 0,
    "start_time": "2022-09-16T08:10:30.016Z"
   },
   {
    "duration": 0,
    "start_time": "2022-09-16T08:10:30.017Z"
   },
   {
    "duration": 0,
    "start_time": "2022-09-16T08:10:30.018Z"
   },
   {
    "duration": 0,
    "start_time": "2022-09-16T08:10:30.019Z"
   },
   {
    "duration": 0,
    "start_time": "2022-09-16T08:10:30.020Z"
   },
   {
    "duration": 0,
    "start_time": "2022-09-16T08:10:30.020Z"
   },
   {
    "duration": 0,
    "start_time": "2022-09-16T08:10:30.021Z"
   },
   {
    "duration": 35,
    "start_time": "2022-09-16T08:10:41.955Z"
   },
   {
    "duration": 90,
    "start_time": "2022-09-16T08:10:57.999Z"
   },
   {
    "duration": 1285,
    "start_time": "2022-09-16T08:11:11.461Z"
   },
   {
    "duration": 825,
    "start_time": "2022-09-16T08:11:12.748Z"
   },
   {
    "duration": 408,
    "start_time": "2022-09-16T08:11:13.575Z"
   },
   {
    "duration": 414,
    "start_time": "2022-09-16T08:11:13.985Z"
   },
   {
    "duration": 366,
    "start_time": "2022-09-16T08:11:14.401Z"
   },
   {
    "duration": 7,
    "start_time": "2022-09-16T08:11:14.769Z"
   },
   {
    "duration": 113,
    "start_time": "2022-09-16T08:11:14.778Z"
   },
   {
    "duration": 43,
    "start_time": "2022-09-16T08:11:14.892Z"
   },
   {
    "duration": 2,
    "start_time": "2022-09-16T08:11:14.936Z"
   },
   {
    "duration": 9,
    "start_time": "2022-09-16T08:11:14.940Z"
   },
   {
    "duration": 39,
    "start_time": "2022-09-16T08:11:14.951Z"
   },
   {
    "duration": 63,
    "start_time": "2022-09-16T08:11:15.005Z"
   },
   {
    "duration": 82,
    "start_time": "2022-09-16T08:11:15.069Z"
   },
   {
    "duration": 91,
    "start_time": "2022-09-16T08:11:15.152Z"
   },
   {
    "duration": 95,
    "start_time": "2022-09-16T08:11:15.244Z"
   },
   {
    "duration": 115,
    "start_time": "2022-09-16T08:11:15.340Z"
   },
   {
    "duration": 35,
    "start_time": "2022-09-16T08:11:15.456Z"
   },
   {
    "duration": 17,
    "start_time": "2022-09-16T08:11:15.493Z"
   },
   {
    "duration": 49,
    "start_time": "2022-09-16T08:11:15.511Z"
   },
   {
    "duration": 13,
    "start_time": "2022-09-16T08:11:15.562Z"
   },
   {
    "duration": 4,
    "start_time": "2022-09-16T08:11:15.577Z"
   },
   {
    "duration": 25,
    "start_time": "2022-09-16T08:11:15.583Z"
   },
   {
    "duration": 5,
    "start_time": "2022-09-16T08:11:15.610Z"
   },
   {
    "duration": 35,
    "start_time": "2022-09-16T08:11:15.617Z"
   },
   {
    "duration": 162,
    "start_time": "2022-09-16T08:11:15.653Z"
   },
   {
    "duration": 52,
    "start_time": "2022-09-16T08:11:15.816Z"
   },
   {
    "duration": 112,
    "start_time": "2022-09-16T08:11:15.870Z"
   },
   {
    "duration": 0,
    "start_time": "2022-09-16T08:11:15.984Z"
   },
   {
    "duration": 0,
    "start_time": "2022-09-16T08:11:15.985Z"
   },
   {
    "duration": 0,
    "start_time": "2022-09-16T08:11:15.986Z"
   },
   {
    "duration": 0,
    "start_time": "2022-09-16T08:11:15.987Z"
   },
   {
    "duration": 0,
    "start_time": "2022-09-16T08:11:15.987Z"
   },
   {
    "duration": 0,
    "start_time": "2022-09-16T08:11:15.988Z"
   },
   {
    "duration": 0,
    "start_time": "2022-09-16T08:11:15.990Z"
   },
   {
    "duration": 0,
    "start_time": "2022-09-16T08:11:15.991Z"
   },
   {
    "duration": 0,
    "start_time": "2022-09-16T08:11:16.005Z"
   },
   {
    "duration": 0,
    "start_time": "2022-09-16T08:11:16.006Z"
   },
   {
    "duration": 0,
    "start_time": "2022-09-16T08:11:16.007Z"
   },
   {
    "duration": 0,
    "start_time": "2022-09-16T08:11:16.008Z"
   },
   {
    "duration": 0,
    "start_time": "2022-09-16T08:11:16.008Z"
   },
   {
    "duration": 0,
    "start_time": "2022-09-16T08:11:16.009Z"
   },
   {
    "duration": 0,
    "start_time": "2022-09-16T08:11:16.010Z"
   },
   {
    "duration": 0,
    "start_time": "2022-09-16T08:11:16.011Z"
   },
   {
    "duration": 0,
    "start_time": "2022-09-16T08:11:16.012Z"
   },
   {
    "duration": 0,
    "start_time": "2022-09-16T08:11:16.013Z"
   },
   {
    "duration": 0,
    "start_time": "2022-09-16T08:11:16.013Z"
   },
   {
    "duration": 0,
    "start_time": "2022-09-16T08:11:16.015Z"
   },
   {
    "duration": 0,
    "start_time": "2022-09-16T08:11:16.015Z"
   },
   {
    "duration": 0,
    "start_time": "2022-09-16T08:11:16.016Z"
   },
   {
    "duration": 0,
    "start_time": "2022-09-16T08:11:16.017Z"
   },
   {
    "duration": 0,
    "start_time": "2022-09-16T08:11:16.018Z"
   },
   {
    "duration": 0,
    "start_time": "2022-09-16T08:11:16.018Z"
   },
   {
    "duration": 90,
    "start_time": "2022-09-16T08:11:33.793Z"
   },
   {
    "duration": 91,
    "start_time": "2022-09-16T08:11:54.564Z"
   },
   {
    "duration": 113,
    "start_time": "2022-09-16T08:12:02.292Z"
   },
   {
    "duration": 6,
    "start_time": "2022-09-16T08:12:16.924Z"
   },
   {
    "duration": 2,
    "start_time": "2022-09-16T08:12:37.652Z"
   },
   {
    "duration": 13,
    "start_time": "2022-09-16T08:12:51.331Z"
   },
   {
    "duration": 49,
    "start_time": "2022-09-16T08:13:39.307Z"
   },
   {
    "duration": 1416,
    "start_time": "2022-09-16T08:13:50.477Z"
   },
   {
    "duration": 892,
    "start_time": "2022-09-16T08:13:51.895Z"
   },
   {
    "duration": 451,
    "start_time": "2022-09-16T08:13:52.789Z"
   },
   {
    "duration": 468,
    "start_time": "2022-09-16T08:13:53.242Z"
   },
   {
    "duration": 452,
    "start_time": "2022-09-16T08:13:53.712Z"
   },
   {
    "duration": 8,
    "start_time": "2022-09-16T08:13:54.166Z"
   },
   {
    "duration": 113,
    "start_time": "2022-09-16T08:13:54.175Z"
   },
   {
    "duration": 49,
    "start_time": "2022-09-16T08:13:54.290Z"
   },
   {
    "duration": 2,
    "start_time": "2022-09-16T08:13:54.341Z"
   },
   {
    "duration": 12,
    "start_time": "2022-09-16T08:13:54.345Z"
   },
   {
    "duration": 55,
    "start_time": "2022-09-16T08:13:54.358Z"
   },
   {
    "duration": 64,
    "start_time": "2022-09-16T08:13:54.415Z"
   },
   {
    "duration": 81,
    "start_time": "2022-09-16T08:13:54.480Z"
   },
   {
    "duration": 68,
    "start_time": "2022-09-16T08:13:54.562Z"
   },
   {
    "duration": 77,
    "start_time": "2022-09-16T08:13:54.632Z"
   },
   {
    "duration": 106,
    "start_time": "2022-09-16T08:13:54.711Z"
   },
   {
    "duration": 43,
    "start_time": "2022-09-16T08:13:54.818Z"
   },
   {
    "duration": 2,
    "start_time": "2022-09-16T08:13:54.862Z"
   },
   {
    "duration": 154,
    "start_time": "2022-09-16T08:13:54.866Z"
   },
   {
    "duration": 0,
    "start_time": "2022-09-16T08:13:55.022Z"
   },
   {
    "duration": 0,
    "start_time": "2022-09-16T08:13:55.024Z"
   },
   {
    "duration": 0,
    "start_time": "2022-09-16T08:13:55.025Z"
   },
   {
    "duration": 0,
    "start_time": "2022-09-16T08:13:55.026Z"
   },
   {
    "duration": 0,
    "start_time": "2022-09-16T08:13:55.027Z"
   },
   {
    "duration": 0,
    "start_time": "2022-09-16T08:13:55.028Z"
   },
   {
    "duration": 0,
    "start_time": "2022-09-16T08:13:55.029Z"
   },
   {
    "duration": 0,
    "start_time": "2022-09-16T08:13:55.030Z"
   },
   {
    "duration": 0,
    "start_time": "2022-09-16T08:13:55.031Z"
   },
   {
    "duration": 0,
    "start_time": "2022-09-16T08:13:55.032Z"
   },
   {
    "duration": 0,
    "start_time": "2022-09-16T08:13:55.033Z"
   },
   {
    "duration": 0,
    "start_time": "2022-09-16T08:13:55.034Z"
   },
   {
    "duration": 0,
    "start_time": "2022-09-16T08:13:55.035Z"
   },
   {
    "duration": 0,
    "start_time": "2022-09-16T08:13:55.036Z"
   },
   {
    "duration": 0,
    "start_time": "2022-09-16T08:13:55.037Z"
   },
   {
    "duration": 0,
    "start_time": "2022-09-16T08:13:55.038Z"
   },
   {
    "duration": 0,
    "start_time": "2022-09-16T08:13:55.039Z"
   },
   {
    "duration": 0,
    "start_time": "2022-09-16T08:13:55.040Z"
   },
   {
    "duration": 0,
    "start_time": "2022-09-16T08:13:55.041Z"
   },
   {
    "duration": 0,
    "start_time": "2022-09-16T08:13:55.042Z"
   },
   {
    "duration": 0,
    "start_time": "2022-09-16T08:13:55.043Z"
   },
   {
    "duration": 0,
    "start_time": "2022-09-16T08:13:55.044Z"
   },
   {
    "duration": 0,
    "start_time": "2022-09-16T08:13:55.045Z"
   },
   {
    "duration": 0,
    "start_time": "2022-09-16T08:13:55.045Z"
   },
   {
    "duration": 0,
    "start_time": "2022-09-16T08:13:55.046Z"
   },
   {
    "duration": 0,
    "start_time": "2022-09-16T08:13:55.047Z"
   },
   {
    "duration": 0,
    "start_time": "2022-09-16T08:13:55.048Z"
   },
   {
    "duration": 0,
    "start_time": "2022-09-16T08:13:55.049Z"
   },
   {
    "duration": 0,
    "start_time": "2022-09-16T08:13:55.050Z"
   },
   {
    "duration": 0,
    "start_time": "2022-09-16T08:13:55.051Z"
   },
   {
    "duration": 0,
    "start_time": "2022-09-16T08:13:55.052Z"
   },
   {
    "duration": 0,
    "start_time": "2022-09-16T08:13:55.053Z"
   },
   {
    "duration": 0,
    "start_time": "2022-09-16T08:13:55.105Z"
   },
   {
    "duration": 55,
    "start_time": "2022-09-16T08:14:24.560Z"
   },
   {
    "duration": 12,
    "start_time": "2022-09-16T08:14:33.733Z"
   },
   {
    "duration": 3,
    "start_time": "2022-09-16T08:15:16.626Z"
   },
   {
    "duration": 5,
    "start_time": "2022-09-16T08:15:17.368Z"
   },
   {
    "duration": 9,
    "start_time": "2022-09-16T08:15:32.537Z"
   },
   {
    "duration": 3,
    "start_time": "2022-09-16T08:16:29.662Z"
   },
   {
    "duration": 793,
    "start_time": "2022-09-16T08:16:29.667Z"
   },
   {
    "duration": 386,
    "start_time": "2022-09-16T08:16:30.462Z"
   },
   {
    "duration": 399,
    "start_time": "2022-09-16T08:16:30.850Z"
   },
   {
    "duration": 368,
    "start_time": "2022-09-16T08:16:31.250Z"
   },
   {
    "duration": 8,
    "start_time": "2022-09-16T08:16:31.620Z"
   },
   {
    "duration": 103,
    "start_time": "2022-09-16T08:16:31.630Z"
   },
   {
    "duration": 36,
    "start_time": "2022-09-16T08:16:31.735Z"
   },
   {
    "duration": 3,
    "start_time": "2022-09-16T08:16:31.773Z"
   },
   {
    "duration": 11,
    "start_time": "2022-09-16T08:16:31.777Z"
   },
   {
    "duration": 36,
    "start_time": "2022-09-16T08:16:31.805Z"
   },
   {
    "duration": 86,
    "start_time": "2022-09-16T08:16:31.843Z"
   },
   {
    "duration": 78,
    "start_time": "2022-09-16T08:16:31.930Z"
   },
   {
    "duration": 64,
    "start_time": "2022-09-16T08:16:32.009Z"
   },
   {
    "duration": 73,
    "start_time": "2022-09-16T08:16:32.075Z"
   },
   {
    "duration": 118,
    "start_time": "2022-09-16T08:16:32.150Z"
   },
   {
    "duration": 42,
    "start_time": "2022-09-16T08:16:32.270Z"
   },
   {
    "duration": 10,
    "start_time": "2022-09-16T08:16:32.314Z"
   },
   {
    "duration": 51,
    "start_time": "2022-09-16T08:16:32.325Z"
   },
   {
    "duration": 13,
    "start_time": "2022-09-16T08:16:32.378Z"
   },
   {
    "duration": 8,
    "start_time": "2022-09-16T08:16:32.393Z"
   },
   {
    "duration": 13,
    "start_time": "2022-09-16T08:16:32.405Z"
   },
   {
    "duration": 39,
    "start_time": "2022-09-16T08:16:32.420Z"
   },
   {
    "duration": 144,
    "start_time": "2022-09-16T08:16:32.463Z"
   },
   {
    "duration": 53,
    "start_time": "2022-09-16T08:16:32.608Z"
   },
   {
    "duration": 16,
    "start_time": "2022-09-16T08:16:32.662Z"
   },
   {
    "duration": 0,
    "start_time": "2022-09-16T08:16:32.680Z"
   },
   {
    "duration": 0,
    "start_time": "2022-09-16T08:16:32.681Z"
   },
   {
    "duration": 0,
    "start_time": "2022-09-16T08:16:32.787Z"
   },
   {
    "duration": 0,
    "start_time": "2022-09-16T08:16:32.788Z"
   },
   {
    "duration": 0,
    "start_time": "2022-09-16T08:16:32.789Z"
   },
   {
    "duration": 0,
    "start_time": "2022-09-16T08:16:32.790Z"
   },
   {
    "duration": 0,
    "start_time": "2022-09-16T08:16:32.805Z"
   },
   {
    "duration": 0,
    "start_time": "2022-09-16T08:16:32.806Z"
   },
   {
    "duration": 0,
    "start_time": "2022-09-16T08:16:32.807Z"
   },
   {
    "duration": 0,
    "start_time": "2022-09-16T08:16:32.807Z"
   },
   {
    "duration": 0,
    "start_time": "2022-09-16T08:16:32.808Z"
   },
   {
    "duration": 0,
    "start_time": "2022-09-16T08:16:32.809Z"
   },
   {
    "duration": 0,
    "start_time": "2022-09-16T08:16:32.810Z"
   },
   {
    "duration": 0,
    "start_time": "2022-09-16T08:16:32.811Z"
   },
   {
    "duration": 0,
    "start_time": "2022-09-16T08:16:32.812Z"
   },
   {
    "duration": 0,
    "start_time": "2022-09-16T08:16:32.813Z"
   },
   {
    "duration": 0,
    "start_time": "2022-09-16T08:16:32.814Z"
   },
   {
    "duration": 0,
    "start_time": "2022-09-16T08:16:32.814Z"
   },
   {
    "duration": 0,
    "start_time": "2022-09-16T08:16:32.815Z"
   },
   {
    "duration": 0,
    "start_time": "2022-09-16T08:16:32.816Z"
   },
   {
    "duration": 0,
    "start_time": "2022-09-16T08:16:32.817Z"
   },
   {
    "duration": 0,
    "start_time": "2022-09-16T08:16:32.818Z"
   },
   {
    "duration": 0,
    "start_time": "2022-09-16T08:16:32.819Z"
   },
   {
    "duration": 0,
    "start_time": "2022-09-16T08:16:32.820Z"
   },
   {
    "duration": 0,
    "start_time": "2022-09-16T08:16:32.821Z"
   },
   {
    "duration": 33,
    "start_time": "2022-09-16T08:17:28.492Z"
   },
   {
    "duration": 10,
    "start_time": "2022-09-16T08:17:34.329Z"
   },
   {
    "duration": 938,
    "start_time": "2022-09-16T08:18:00.734Z"
   },
   {
    "duration": 13,
    "start_time": "2022-09-16T08:18:24.034Z"
   },
   {
    "duration": 13,
    "start_time": "2022-09-16T08:19:02.899Z"
   },
   {
    "duration": 1292,
    "start_time": "2022-09-16T08:19:13.756Z"
   },
   {
    "duration": 839,
    "start_time": "2022-09-16T08:19:15.051Z"
   },
   {
    "duration": 431,
    "start_time": "2022-09-16T08:19:15.892Z"
   },
   {
    "duration": 450,
    "start_time": "2022-09-16T08:19:16.325Z"
   },
   {
    "duration": 391,
    "start_time": "2022-09-16T08:19:16.777Z"
   },
   {
    "duration": 7,
    "start_time": "2022-09-16T08:19:17.169Z"
   },
   {
    "duration": 135,
    "start_time": "2022-09-16T08:19:17.178Z"
   },
   {
    "duration": 62,
    "start_time": "2022-09-16T08:19:17.315Z"
   },
   {
    "duration": 4,
    "start_time": "2022-09-16T08:19:17.379Z"
   },
   {
    "duration": 22,
    "start_time": "2022-09-16T08:19:17.387Z"
   },
   {
    "duration": 2,
    "start_time": "2022-09-16T08:19:17.411Z"
   },
   {
    "duration": 117,
    "start_time": "2022-09-16T08:19:17.416Z"
   },
   {
    "duration": 84,
    "start_time": "2022-09-16T08:19:17.535Z"
   },
   {
    "duration": 95,
    "start_time": "2022-09-16T08:19:17.620Z"
   },
   {
    "duration": 92,
    "start_time": "2022-09-16T08:19:17.717Z"
   },
   {
    "duration": 123,
    "start_time": "2022-09-16T08:19:17.811Z"
   },
   {
    "duration": 54,
    "start_time": "2022-09-16T08:19:17.936Z"
   },
   {
    "duration": 15,
    "start_time": "2022-09-16T08:19:17.992Z"
   },
   {
    "duration": 70,
    "start_time": "2022-09-16T08:19:18.009Z"
   },
   {
    "duration": 51,
    "start_time": "2022-09-16T08:19:18.081Z"
   },
   {
    "duration": 850,
    "start_time": "2022-09-16T08:19:18.133Z"
   },
   {
    "duration": 14,
    "start_time": "2022-09-16T08:19:18.984Z"
   },
   {
    "duration": 21,
    "start_time": "2022-09-16T08:19:18.999Z"
   },
   {
    "duration": 72,
    "start_time": "2022-09-16T08:19:19.021Z"
   },
   {
    "duration": 32,
    "start_time": "2022-09-16T08:19:19.105Z"
   },
   {
    "duration": 270,
    "start_time": "2022-09-16T08:19:19.138Z"
   },
   {
    "duration": 391,
    "start_time": "2022-09-16T08:19:19.410Z"
   },
   {
    "duration": 144,
    "start_time": "2022-09-16T08:19:19.805Z"
   },
   {
    "duration": 3,
    "start_time": "2022-09-16T08:19:19.951Z"
   },
   {
    "duration": 5,
    "start_time": "2022-09-16T08:19:19.956Z"
   },
   {
    "duration": 22,
    "start_time": "2022-09-16T08:19:19.963Z"
   },
   {
    "duration": 185,
    "start_time": "2022-09-16T08:19:19.986Z"
   },
   {
    "duration": 2,
    "start_time": "2022-09-16T08:19:20.173Z"
   },
   {
    "duration": 25,
    "start_time": "2022-09-16T08:19:20.176Z"
   },
   {
    "duration": 6,
    "start_time": "2022-09-16T08:19:20.203Z"
   },
   {
    "duration": 160,
    "start_time": "2022-09-16T08:19:20.210Z"
   },
   {
    "duration": 2,
    "start_time": "2022-09-16T08:19:20.372Z"
   },
   {
    "duration": 194,
    "start_time": "2022-09-16T08:19:20.376Z"
   },
   {
    "duration": 2,
    "start_time": "2022-09-16T08:19:20.572Z"
   },
   {
    "duration": 89,
    "start_time": "2022-09-16T08:19:20.575Z"
   },
   {
    "duration": 2,
    "start_time": "2022-09-16T08:19:20.665Z"
   },
   {
    "duration": 38137,
    "start_time": "2022-09-16T08:19:20.669Z"
   },
   {
    "duration": 396,
    "start_time": "2022-09-16T08:19:58.809Z"
   },
   {
    "duration": 3,
    "start_time": "2022-09-16T08:19:59.207Z"
   },
   {
    "duration": 30278,
    "start_time": "2022-09-16T08:19:59.212Z"
   },
   {
    "duration": 210,
    "start_time": "2022-09-16T08:20:29.492Z"
   },
   {
    "duration": 3,
    "start_time": "2022-09-16T08:20:29.706Z"
   },
   {
    "duration": 7,
    "start_time": "2022-09-16T08:20:29.711Z"
   },
   {
    "duration": 10,
    "start_time": "2022-09-16T08:20:29.720Z"
   },
   {
    "duration": 81,
    "start_time": "2022-09-16T08:20:29.732Z"
   },
   {
    "duration": 10,
    "start_time": "2022-09-16T08:20:29.814Z"
   },
   {
    "duration": 94,
    "start_time": "2022-09-16T08:22:34.648Z"
   },
   {
    "duration": 1326,
    "start_time": "2022-09-16T08:22:52.177Z"
   },
   {
    "duration": 859,
    "start_time": "2022-09-16T08:22:53.505Z"
   },
   {
    "duration": 455,
    "start_time": "2022-09-16T08:22:54.366Z"
   },
   {
    "duration": 456,
    "start_time": "2022-09-16T08:22:54.823Z"
   },
   {
    "duration": 405,
    "start_time": "2022-09-16T08:22:55.281Z"
   },
   {
    "duration": 8,
    "start_time": "2022-09-16T08:22:55.688Z"
   },
   {
    "duration": 94,
    "start_time": "2022-09-16T08:22:55.705Z"
   },
   {
    "duration": 45,
    "start_time": "2022-09-16T08:22:55.805Z"
   },
   {
    "duration": 2,
    "start_time": "2022-09-16T08:22:55.852Z"
   },
   {
    "duration": 10,
    "start_time": "2022-09-16T08:22:55.856Z"
   },
   {
    "duration": 2,
    "start_time": "2022-09-16T08:22:55.867Z"
   },
   {
    "duration": 112,
    "start_time": "2022-09-16T08:22:55.870Z"
   },
   {
    "duration": 76,
    "start_time": "2022-09-16T08:22:55.984Z"
   },
   {
    "duration": 90,
    "start_time": "2022-09-16T08:22:56.061Z"
   },
   {
    "duration": 113,
    "start_time": "2022-09-16T08:22:56.153Z"
   },
   {
    "duration": 114,
    "start_time": "2022-09-16T08:22:56.267Z"
   },
   {
    "duration": 60,
    "start_time": "2022-09-16T08:22:56.383Z"
   },
   {
    "duration": 3,
    "start_time": "2022-09-16T08:22:56.445Z"
   },
   {
    "duration": 67,
    "start_time": "2022-09-16T08:22:56.449Z"
   },
   {
    "duration": 43,
    "start_time": "2022-09-16T08:22:56.517Z"
   },
   {
    "duration": 894,
    "start_time": "2022-09-16T08:22:56.562Z"
   },
   {
    "duration": 21,
    "start_time": "2022-09-16T08:22:57.459Z"
   },
   {
    "duration": 33,
    "start_time": "2022-09-16T08:22:57.482Z"
   },
   {
    "duration": 105,
    "start_time": "2022-09-16T08:22:57.517Z"
   },
   {
    "duration": 34,
    "start_time": "2022-09-16T08:22:57.623Z"
   },
   {
    "duration": 281,
    "start_time": "2022-09-16T08:22:57.659Z"
   },
   {
    "duration": 452,
    "start_time": "2022-09-16T08:22:57.942Z"
   },
   {
    "duration": 143,
    "start_time": "2022-09-16T08:22:58.397Z"
   },
   {
    "duration": 4,
    "start_time": "2022-09-16T08:22:58.542Z"
   },
   {
    "duration": 6,
    "start_time": "2022-09-16T08:22:58.547Z"
   },
   {
    "duration": 192,
    "start_time": "2022-09-16T08:22:58.555Z"
   },
   {
    "duration": 2,
    "start_time": "2022-09-16T08:22:58.749Z"
   },
   {
    "duration": 6,
    "start_time": "2022-09-16T08:22:58.753Z"
   },
   {
    "duration": 4,
    "start_time": "2022-09-16T08:22:58.761Z"
   },
   {
    "duration": 212,
    "start_time": "2022-09-16T08:22:58.767Z"
   },
   {
    "duration": 2,
    "start_time": "2022-09-16T08:22:58.981Z"
   },
   {
    "duration": 226,
    "start_time": "2022-09-16T08:22:58.985Z"
   },
   {
    "duration": 2,
    "start_time": "2022-09-16T08:22:59.212Z"
   },
   {
    "duration": 86,
    "start_time": "2022-09-16T08:22:59.216Z"
   },
   {
    "duration": 3,
    "start_time": "2022-09-16T08:22:59.303Z"
   },
   {
    "duration": 30200,
    "start_time": "2022-09-16T08:22:59.307Z"
   },
   {
    "duration": 207,
    "start_time": "2022-09-16T08:23:29.508Z"
   },
   {
    "duration": 4,
    "start_time": "2022-09-16T08:23:29.810Z"
   },
   {
    "duration": 29367,
    "start_time": "2022-09-16T08:23:29.816Z"
   },
   {
    "duration": 218,
    "start_time": "2022-09-16T08:23:59.185Z"
   },
   {
    "duration": 5,
    "start_time": "2022-09-16T08:23:59.405Z"
   },
   {
    "duration": 11,
    "start_time": "2022-09-16T08:23:59.412Z"
   },
   {
    "duration": 12,
    "start_time": "2022-09-16T08:23:59.425Z"
   },
   {
    "duration": 85,
    "start_time": "2022-09-16T08:23:59.439Z"
   },
   {
    "duration": 10,
    "start_time": "2022-09-16T08:23:59.526Z"
   },
   {
    "duration": 104,
    "start_time": "2022-09-16T08:24:45.912Z"
   },
   {
    "duration": 4,
    "start_time": "2022-09-16T08:24:50.197Z"
   },
   {
    "duration": 22,
    "start_time": "2022-09-16T08:25:15.503Z"
   },
   {
    "duration": 126,
    "start_time": "2022-09-16T08:26:16.935Z"
   },
   {
    "duration": 1343,
    "start_time": "2022-09-16T08:27:04.283Z"
   },
   {
    "duration": 881,
    "start_time": "2022-09-16T08:27:05.627Z"
   },
   {
    "duration": 444,
    "start_time": "2022-09-16T08:27:06.509Z"
   },
   {
    "duration": 503,
    "start_time": "2022-09-16T08:27:06.954Z"
   },
   {
    "duration": 403,
    "start_time": "2022-09-16T08:27:07.459Z"
   },
   {
    "duration": 8,
    "start_time": "2022-09-16T08:27:07.864Z"
   },
   {
    "duration": 120,
    "start_time": "2022-09-16T08:27:07.874Z"
   },
   {
    "duration": 52,
    "start_time": "2022-09-16T08:27:07.996Z"
   },
   {
    "duration": 2,
    "start_time": "2022-09-16T08:27:08.050Z"
   },
   {
    "duration": 11,
    "start_time": "2022-09-16T08:27:08.054Z"
   },
   {
    "duration": 2,
    "start_time": "2022-09-16T08:27:08.067Z"
   },
   {
    "duration": 99,
    "start_time": "2022-09-16T08:27:08.072Z"
   },
   {
    "duration": 88,
    "start_time": "2022-09-16T08:27:08.172Z"
   },
   {
    "duration": 86,
    "start_time": "2022-09-16T08:27:08.262Z"
   },
   {
    "duration": 95,
    "start_time": "2022-09-16T08:27:08.350Z"
   },
   {
    "duration": 106,
    "start_time": "2022-09-16T08:27:08.447Z"
   },
   {
    "duration": 62,
    "start_time": "2022-09-16T08:27:08.554Z"
   },
   {
    "duration": 3,
    "start_time": "2022-09-16T08:27:08.617Z"
   },
   {
    "duration": 53,
    "start_time": "2022-09-16T08:27:08.621Z"
   },
   {
    "duration": 53,
    "start_time": "2022-09-16T08:27:08.676Z"
   },
   {
    "duration": 887,
    "start_time": "2022-09-16T08:27:08.730Z"
   },
   {
    "duration": 12,
    "start_time": "2022-09-16T08:27:09.619Z"
   },
   {
    "duration": 19,
    "start_time": "2022-09-16T08:27:09.633Z"
   },
   {
    "duration": 81,
    "start_time": "2022-09-16T08:27:09.653Z"
   },
   {
    "duration": 30,
    "start_time": "2022-09-16T08:27:09.736Z"
   },
   {
    "duration": 276,
    "start_time": "2022-09-16T08:27:09.768Z"
   },
   {
    "duration": 404,
    "start_time": "2022-09-16T08:27:10.045Z"
   },
   {
    "duration": 140,
    "start_time": "2022-09-16T08:27:10.452Z"
   },
   {
    "duration": 3,
    "start_time": "2022-09-16T08:27:10.594Z"
   },
   {
    "duration": 3,
    "start_time": "2022-09-16T08:27:10.605Z"
   },
   {
    "duration": 183,
    "start_time": "2022-09-16T08:27:10.610Z"
   },
   {
    "duration": 2,
    "start_time": "2022-09-16T08:27:10.795Z"
   },
   {
    "duration": 2,
    "start_time": "2022-09-16T08:27:10.805Z"
   },
   {
    "duration": 6,
    "start_time": "2022-09-16T08:27:10.808Z"
   },
   {
    "duration": 5,
    "start_time": "2022-09-16T08:27:10.815Z"
   },
   {
    "duration": 4,
    "start_time": "2022-09-16T08:27:10.821Z"
   },
   {
    "duration": 85,
    "start_time": "2022-09-16T08:27:10.826Z"
   },
   {
    "duration": 202,
    "start_time": "2022-09-16T08:27:10.912Z"
   },
   {
    "duration": 2,
    "start_time": "2022-09-16T08:27:11.116Z"
   },
   {
    "duration": 97,
    "start_time": "2022-09-16T08:27:11.120Z"
   },
   {
    "duration": 2,
    "start_time": "2022-09-16T08:27:11.219Z"
   },
   {
    "duration": 31687,
    "start_time": "2022-09-16T08:27:11.224Z"
   },
   {
    "duration": 394,
    "start_time": "2022-09-16T08:27:42.913Z"
   },
   {
    "duration": 3,
    "start_time": "2022-09-16T08:27:43.308Z"
   },
   {
    "duration": 29059,
    "start_time": "2022-09-16T08:27:43.313Z"
   },
   {
    "duration": 205,
    "start_time": "2022-09-16T08:28:12.374Z"
   },
   {
    "duration": 4,
    "start_time": "2022-09-16T08:28:12.580Z"
   },
   {
    "duration": 7,
    "start_time": "2022-09-16T08:28:12.585Z"
   },
   {
    "duration": 16,
    "start_time": "2022-09-16T08:28:12.593Z"
   },
   {
    "duration": 89,
    "start_time": "2022-09-16T08:28:12.610Z"
   },
   {
    "duration": 10,
    "start_time": "2022-09-16T08:28:12.700Z"
   },
   {
    "duration": 0,
    "start_time": "2022-09-16T08:28:12.712Z"
   },
   {
    "duration": 0,
    "start_time": "2022-09-16T08:28:12.712Z"
   },
   {
    "duration": 0,
    "start_time": "2022-09-16T08:28:12.714Z"
   },
   {
    "duration": 0,
    "start_time": "2022-09-16T08:28:12.715Z"
   },
   {
    "duration": 173,
    "start_time": "2022-09-16T08:28:33.624Z"
   },
   {
    "duration": 3,
    "start_time": "2022-09-16T08:28:34.592Z"
   },
   {
    "duration": 22,
    "start_time": "2022-09-16T08:28:35.286Z"
   },
   {
    "duration": 102,
    "start_time": "2022-09-16T08:28:36.336Z"
   },
   {
    "duration": 45,
    "start_time": "2022-09-17T08:07:34.756Z"
   },
   {
    "duration": 1564,
    "start_time": "2022-09-17T08:07:42.347Z"
   },
   {
    "duration": 3005,
    "start_time": "2022-09-17T08:07:43.913Z"
   },
   {
    "duration": 473,
    "start_time": "2022-09-17T08:07:46.919Z"
   },
   {
    "duration": 489,
    "start_time": "2022-09-17T08:07:47.395Z"
   },
   {
    "duration": 435,
    "start_time": "2022-09-17T08:07:47.885Z"
   },
   {
    "duration": 8,
    "start_time": "2022-09-17T08:07:48.322Z"
   },
   {
    "duration": 127,
    "start_time": "2022-09-17T08:07:48.332Z"
   },
   {
    "duration": 48,
    "start_time": "2022-09-17T08:07:48.460Z"
   },
   {
    "duration": 3,
    "start_time": "2022-09-17T08:07:48.510Z"
   },
   {
    "duration": 11,
    "start_time": "2022-09-17T08:07:48.515Z"
   },
   {
    "duration": 3,
    "start_time": "2022-09-17T08:07:48.528Z"
   },
   {
    "duration": 111,
    "start_time": "2022-09-17T08:07:48.532Z"
   },
   {
    "duration": 95,
    "start_time": "2022-09-17T08:07:48.644Z"
   },
   {
    "duration": 103,
    "start_time": "2022-09-17T08:07:48.741Z"
   },
   {
    "duration": 99,
    "start_time": "2022-09-17T08:07:48.846Z"
   },
   {
    "duration": 126,
    "start_time": "2022-09-17T08:07:48.946Z"
   },
   {
    "duration": 61,
    "start_time": "2022-09-17T08:07:49.073Z"
   },
   {
    "duration": 2,
    "start_time": "2022-09-17T08:07:49.136Z"
   },
   {
    "duration": 64,
    "start_time": "2022-09-17T08:07:49.139Z"
   },
   {
    "duration": 46,
    "start_time": "2022-09-17T08:07:49.205Z"
   },
   {
    "duration": 930,
    "start_time": "2022-09-17T08:07:49.252Z"
   },
   {
    "duration": 26,
    "start_time": "2022-09-17T08:07:50.184Z"
   },
   {
    "duration": 19,
    "start_time": "2022-09-17T08:07:50.212Z"
   },
   {
    "duration": 102,
    "start_time": "2022-09-17T08:07:50.233Z"
   },
   {
    "duration": 38,
    "start_time": "2022-09-17T08:07:50.337Z"
   },
   {
    "duration": 282,
    "start_time": "2022-09-17T08:07:50.377Z"
   },
   {
    "duration": 443,
    "start_time": "2022-09-17T08:07:50.661Z"
   },
   {
    "duration": 164,
    "start_time": "2022-09-17T08:07:51.107Z"
   },
   {
    "duration": 4,
    "start_time": "2022-09-17T08:07:51.272Z"
   },
   {
    "duration": 10,
    "start_time": "2022-09-17T08:07:51.278Z"
   },
   {
    "duration": 217,
    "start_time": "2022-09-17T08:07:51.296Z"
   },
   {
    "duration": 3,
    "start_time": "2022-09-17T08:07:51.515Z"
   },
   {
    "duration": 8,
    "start_time": "2022-09-17T08:07:51.520Z"
   },
   {
    "duration": 4,
    "start_time": "2022-09-17T08:07:51.530Z"
   },
   {
    "duration": 196,
    "start_time": "2022-09-17T08:07:51.536Z"
   },
   {
    "duration": 4,
    "start_time": "2022-09-17T08:07:51.733Z"
   },
   {
    "duration": 207,
    "start_time": "2022-09-17T08:07:51.738Z"
   },
   {
    "duration": 3,
    "start_time": "2022-09-17T08:07:51.946Z"
   },
   {
    "duration": 84,
    "start_time": "2022-09-17T08:07:51.951Z"
   },
   {
    "duration": 3,
    "start_time": "2022-09-17T08:07:52.037Z"
   },
   {
    "duration": 30664,
    "start_time": "2022-09-17T08:07:52.041Z"
   },
   {
    "duration": 200,
    "start_time": "2022-09-17T08:08:22.796Z"
   },
   {
    "duration": 5,
    "start_time": "2022-09-17T08:08:22.999Z"
   },
   {
    "duration": 31402,
    "start_time": "2022-09-17T08:08:23.005Z"
   },
   {
    "duration": 220,
    "start_time": "2022-09-17T08:08:54.409Z"
   },
   {
    "duration": 3,
    "start_time": "2022-09-17T08:08:54.631Z"
   },
   {
    "duration": 27,
    "start_time": "2022-09-17T08:08:54.635Z"
   },
   {
    "duration": 11,
    "start_time": "2022-09-17T08:08:54.664Z"
   },
   {
    "duration": 104,
    "start_time": "2022-09-17T08:08:54.677Z"
   },
   {
    "duration": 10,
    "start_time": "2022-09-17T08:08:54.783Z"
   },
   {
    "duration": 0,
    "start_time": "2022-09-17T08:08:54.795Z"
   },
   {
    "duration": 1835,
    "start_time": "2022-09-17T08:09:31.915Z"
   },
   {
    "duration": 801,
    "start_time": "2022-09-17T08:11:38.948Z"
   },
   {
    "duration": 83,
    "start_time": "2022-09-17T08:36:31.168Z"
   },
   {
    "duration": 368,
    "start_time": "2022-09-17T08:38:58.313Z"
   },
   {
    "duration": 129,
    "start_time": "2022-09-17T08:40:34.543Z"
   },
   {
    "duration": 2,
    "start_time": "2022-09-17T08:43:19.917Z"
   },
   {
    "duration": 3,
    "start_time": "2022-09-17T08:43:20.351Z"
   },
   {
    "duration": 119,
    "start_time": "2022-09-17T08:43:20.916Z"
   },
   {
    "duration": 1446,
    "start_time": "2022-09-17T08:43:26.842Z"
   },
   {
    "duration": 1007,
    "start_time": "2022-09-17T08:43:28.290Z"
   },
   {
    "duration": 504,
    "start_time": "2022-09-17T08:43:29.303Z"
   },
   {
    "duration": 514,
    "start_time": "2022-09-17T08:43:29.814Z"
   },
   {
    "duration": 487,
    "start_time": "2022-09-17T08:43:30.329Z"
   },
   {
    "duration": 12,
    "start_time": "2022-09-17T08:43:30.818Z"
   },
   {
    "duration": 135,
    "start_time": "2022-09-17T08:43:30.832Z"
   },
   {
    "duration": 62,
    "start_time": "2022-09-17T08:43:30.969Z"
   },
   {
    "duration": 3,
    "start_time": "2022-09-17T08:43:31.034Z"
   },
   {
    "duration": 18,
    "start_time": "2022-09-17T08:43:31.040Z"
   },
   {
    "duration": 5,
    "start_time": "2022-09-17T08:43:31.059Z"
   },
   {
    "duration": 120,
    "start_time": "2022-09-17T08:43:31.066Z"
   },
   {
    "duration": 91,
    "start_time": "2022-09-17T08:43:31.188Z"
   },
   {
    "duration": 119,
    "start_time": "2022-09-17T08:43:31.281Z"
   },
   {
    "duration": 111,
    "start_time": "2022-09-17T08:43:31.403Z"
   },
   {
    "duration": 136,
    "start_time": "2022-09-17T08:43:31.517Z"
   },
   {
    "duration": 71,
    "start_time": "2022-09-17T08:43:31.654Z"
   },
   {
    "duration": 2,
    "start_time": "2022-09-17T08:43:31.727Z"
   },
   {
    "duration": 98,
    "start_time": "2022-09-17T08:43:31.731Z"
   },
   {
    "duration": 47,
    "start_time": "2022-09-17T08:43:31.831Z"
   },
   {
    "duration": 1147,
    "start_time": "2022-09-17T08:43:31.880Z"
   },
   {
    "duration": 17,
    "start_time": "2022-09-17T08:43:33.028Z"
   },
   {
    "duration": 109,
    "start_time": "2022-09-17T08:43:33.046Z"
   },
   {
    "duration": 50,
    "start_time": "2022-09-17T08:43:33.157Z"
   },
   {
    "duration": 105,
    "start_time": "2022-09-17T08:43:33.209Z"
   },
   {
    "duration": 298,
    "start_time": "2022-09-17T08:43:33.316Z"
   },
   {
    "duration": 466,
    "start_time": "2022-09-17T08:43:33.616Z"
   },
   {
    "duration": 176,
    "start_time": "2022-09-17T08:43:34.086Z"
   },
   {
    "duration": 5,
    "start_time": "2022-09-17T08:43:34.264Z"
   },
   {
    "duration": 13,
    "start_time": "2022-09-17T08:43:34.271Z"
   },
   {
    "duration": 219,
    "start_time": "2022-09-17T08:43:34.286Z"
   },
   {
    "duration": 3,
    "start_time": "2022-09-17T08:43:34.511Z"
   },
   {
    "duration": 18,
    "start_time": "2022-09-17T08:43:34.520Z"
   },
   {
    "duration": 16,
    "start_time": "2022-09-17T08:43:34.540Z"
   },
   {
    "duration": 23,
    "start_time": "2022-09-17T08:43:34.558Z"
   },
   {
    "duration": 13,
    "start_time": "2022-09-17T08:43:34.584Z"
   },
   {
    "duration": 310,
    "start_time": "2022-09-17T08:43:34.599Z"
   },
   {
    "duration": 5,
    "start_time": "2022-09-17T08:43:34.910Z"
   },
   {
    "duration": 111,
    "start_time": "2022-09-17T08:43:34.916Z"
   },
   {
    "duration": 4,
    "start_time": "2022-09-17T08:43:35.029Z"
   },
   {
    "duration": 61,
    "start_time": "2022-09-17T13:47:33.104Z"
   },
   {
    "duration": 1765,
    "start_time": "2022-09-17T13:47:48.810Z"
   },
   {
    "duration": 3732,
    "start_time": "2022-09-17T13:47:50.578Z"
   },
   {
    "duration": 538,
    "start_time": "2022-09-17T13:47:54.312Z"
   },
   {
    "duration": 554,
    "start_time": "2022-09-17T13:47:54.853Z"
   },
   {
    "duration": 507,
    "start_time": "2022-09-17T13:47:55.409Z"
   },
   {
    "duration": 9,
    "start_time": "2022-09-17T13:47:55.918Z"
   },
   {
    "duration": 134,
    "start_time": "2022-09-17T13:47:55.929Z"
   },
   {
    "duration": 54,
    "start_time": "2022-09-17T13:47:56.065Z"
   },
   {
    "duration": 2,
    "start_time": "2022-09-17T13:47:56.121Z"
   },
   {
    "duration": 13,
    "start_time": "2022-09-17T13:47:56.126Z"
   },
   {
    "duration": 3,
    "start_time": "2022-09-17T13:47:56.142Z"
   },
   {
    "duration": 149,
    "start_time": "2022-09-17T13:47:56.147Z"
   },
   {
    "duration": 108,
    "start_time": "2022-09-17T13:47:56.298Z"
   },
   {
    "duration": 105,
    "start_time": "2022-09-17T13:47:56.408Z"
   },
   {
    "duration": 129,
    "start_time": "2022-09-17T13:47:56.515Z"
   },
   {
    "duration": 173,
    "start_time": "2022-09-17T13:47:56.648Z"
   },
   {
    "duration": 70,
    "start_time": "2022-09-17T13:47:56.826Z"
   },
   {
    "duration": 3,
    "start_time": "2022-09-17T13:47:56.898Z"
   },
   {
    "duration": 71,
    "start_time": "2022-09-17T13:47:56.903Z"
   },
   {
    "duration": 46,
    "start_time": "2022-09-17T13:47:56.976Z"
   },
   {
    "duration": 1050,
    "start_time": "2022-09-17T13:47:57.024Z"
   },
   {
    "duration": 193,
    "start_time": "2022-09-17T13:47:58.077Z"
   },
   {
    "duration": 7,
    "start_time": "2022-09-17T13:47:58.272Z"
   },
   {
    "duration": 55,
    "start_time": "2022-09-17T13:47:58.280Z"
   },
   {
    "duration": 30,
    "start_time": "2022-09-17T13:47:58.337Z"
   },
   {
    "duration": 49,
    "start_time": "2022-09-17T13:47:58.370Z"
   },
   {
    "duration": 282,
    "start_time": "2022-09-17T13:47:58.422Z"
   },
   {
    "duration": 455,
    "start_time": "2022-09-17T13:47:58.709Z"
   },
   {
    "duration": 152,
    "start_time": "2022-09-17T13:47:59.166Z"
   },
   {
    "duration": 4,
    "start_time": "2022-09-17T13:47:59.320Z"
   },
   {
    "duration": 6,
    "start_time": "2022-09-17T13:47:59.326Z"
   },
   {
    "duration": 229,
    "start_time": "2022-09-17T13:47:59.334Z"
   },
   {
    "duration": 2,
    "start_time": "2022-09-17T13:47:59.565Z"
   },
   {
    "duration": 7,
    "start_time": "2022-09-17T13:47:59.569Z"
   },
   {
    "duration": 6,
    "start_time": "2022-09-17T13:47:59.577Z"
   },
   {
    "duration": 8,
    "start_time": "2022-09-17T13:47:59.596Z"
   },
   {
    "duration": 1524,
    "start_time": "2022-09-17T13:56:34.606Z"
   },
   {
    "duration": 1085,
    "start_time": "2022-09-17T13:56:36.133Z"
   },
   {
    "duration": 565,
    "start_time": "2022-09-17T13:56:37.220Z"
   },
   {
    "duration": 579,
    "start_time": "2022-09-17T13:56:37.787Z"
   },
   {
    "duration": 524,
    "start_time": "2022-09-17T13:56:38.368Z"
   },
   {
    "duration": 12,
    "start_time": "2022-09-17T13:56:38.897Z"
   },
   {
    "duration": 139,
    "start_time": "2022-09-17T13:56:38.911Z"
   },
   {
    "duration": 65,
    "start_time": "2022-09-17T13:56:39.052Z"
   },
   {
    "duration": 3,
    "start_time": "2022-09-17T13:56:39.118Z"
   },
   {
    "duration": 35,
    "start_time": "2022-09-17T13:56:39.124Z"
   },
   {
    "duration": 19,
    "start_time": "2022-09-17T13:56:39.161Z"
   },
   {
    "duration": 145,
    "start_time": "2022-09-17T13:56:39.182Z"
   },
   {
    "duration": 122,
    "start_time": "2022-09-17T13:56:39.328Z"
   },
   {
    "duration": 110,
    "start_time": "2022-09-17T13:56:39.451Z"
   },
   {
    "duration": 112,
    "start_time": "2022-09-17T13:56:39.562Z"
   },
   {
    "duration": 158,
    "start_time": "2022-09-17T13:56:39.676Z"
   },
   {
    "duration": 62,
    "start_time": "2022-09-17T13:56:39.836Z"
   },
   {
    "duration": 3,
    "start_time": "2022-09-17T13:56:39.900Z"
   },
   {
    "duration": 70,
    "start_time": "2022-09-17T13:56:39.904Z"
   },
   {
    "duration": 54,
    "start_time": "2022-09-17T13:56:39.976Z"
   },
   {
    "duration": 1129,
    "start_time": "2022-09-17T13:56:40.033Z"
   },
   {
    "duration": 200,
    "start_time": "2022-09-17T13:56:41.164Z"
   },
   {
    "duration": 6,
    "start_time": "2022-09-17T13:56:41.366Z"
   },
   {
    "duration": 59,
    "start_time": "2022-09-17T13:56:41.374Z"
   },
   {
    "duration": 22,
    "start_time": "2022-09-17T13:56:41.435Z"
   },
   {
    "duration": 45,
    "start_time": "2022-09-17T13:56:41.459Z"
   },
   {
    "duration": 286,
    "start_time": "2022-09-17T13:56:41.506Z"
   },
   {
    "duration": 493,
    "start_time": "2022-09-17T13:56:41.797Z"
   },
   {
    "duration": 194,
    "start_time": "2022-09-17T13:56:42.292Z"
   },
   {
    "duration": 8,
    "start_time": "2022-09-17T13:56:42.487Z"
   },
   {
    "duration": 6,
    "start_time": "2022-09-17T13:56:42.496Z"
   },
   {
    "duration": 232,
    "start_time": "2022-09-17T13:56:42.503Z"
   },
   {
    "duration": 2,
    "start_time": "2022-09-17T13:56:42.737Z"
   },
   {
    "duration": 11,
    "start_time": "2022-09-17T13:56:42.741Z"
   },
   {
    "duration": 7,
    "start_time": "2022-09-17T13:56:42.754Z"
   },
   {
    "duration": 7,
    "start_time": "2022-09-17T13:56:42.763Z"
   },
   {
    "duration": 1627,
    "start_time": "2022-09-17T13:57:30.470Z"
   },
   {
    "duration": 1599,
    "start_time": "2022-09-17T13:57:32.099Z"
   },
   {
    "duration": 1416,
    "start_time": "2022-09-17T13:57:33.701Z"
   },
   {
    "duration": 608,
    "start_time": "2022-09-17T13:57:35.119Z"
   },
   {
    "duration": 474,
    "start_time": "2022-09-17T13:57:35.729Z"
   },
   {
    "duration": 12,
    "start_time": "2022-09-17T13:57:36.205Z"
   },
   {
    "duration": 139,
    "start_time": "2022-09-17T13:57:36.219Z"
   },
   {
    "duration": 61,
    "start_time": "2022-09-17T13:57:36.360Z"
   },
   {
    "duration": 3,
    "start_time": "2022-09-17T13:57:36.423Z"
   },
   {
    "duration": 16,
    "start_time": "2022-09-17T13:57:36.428Z"
   },
   {
    "duration": 3,
    "start_time": "2022-09-17T13:57:36.447Z"
   },
   {
    "duration": 201,
    "start_time": "2022-09-17T13:57:36.452Z"
   },
   {
    "duration": 145,
    "start_time": "2022-09-17T13:57:36.656Z"
   },
   {
    "duration": 154,
    "start_time": "2022-09-17T13:57:36.806Z"
   },
   {
    "duration": 130,
    "start_time": "2022-09-17T13:57:36.963Z"
   },
   {
    "duration": 148,
    "start_time": "2022-09-17T13:57:37.095Z"
   },
   {
    "duration": 71,
    "start_time": "2022-09-17T13:57:37.245Z"
   },
   {
    "duration": 3,
    "start_time": "2022-09-17T13:57:37.318Z"
   },
   {
    "duration": 73,
    "start_time": "2022-09-17T13:57:37.322Z"
   },
   {
    "duration": 50,
    "start_time": "2022-09-17T13:57:37.397Z"
   },
   {
    "duration": 1184,
    "start_time": "2022-09-17T13:57:37.449Z"
   },
   {
    "duration": 200,
    "start_time": "2022-09-17T13:57:38.634Z"
   },
   {
    "duration": 6,
    "start_time": "2022-09-17T13:57:38.836Z"
   },
   {
    "duration": 60,
    "start_time": "2022-09-17T13:57:38.844Z"
   },
   {
    "duration": 22,
    "start_time": "2022-09-17T13:57:38.906Z"
   },
   {
    "duration": 25,
    "start_time": "2022-09-17T13:57:38.930Z"
   },
   {
    "duration": 311,
    "start_time": "2022-09-17T13:57:38.958Z"
   },
   {
    "duration": 504,
    "start_time": "2022-09-17T13:57:39.271Z"
   },
   {
    "duration": 187,
    "start_time": "2022-09-17T13:57:39.778Z"
   },
   {
    "duration": 5,
    "start_time": "2022-09-17T13:57:39.966Z"
   },
   {
    "duration": 7,
    "start_time": "2022-09-17T13:57:39.973Z"
   },
   {
    "duration": 214,
    "start_time": "2022-09-17T13:57:40.011Z"
   },
   {
    "duration": 3,
    "start_time": "2022-09-17T13:57:40.226Z"
   },
   {
    "duration": 9,
    "start_time": "2022-09-17T13:57:40.231Z"
   },
   {
    "duration": 8,
    "start_time": "2022-09-17T13:57:40.241Z"
   },
   {
    "duration": 6,
    "start_time": "2022-09-17T13:57:40.251Z"
   },
   {
    "duration": 2474,
    "start_time": "2022-09-17T13:58:45.933Z"
   },
   {
    "duration": 2108,
    "start_time": "2022-09-17T13:58:48.410Z"
   },
   {
    "duration": 600,
    "start_time": "2022-09-17T13:58:50.520Z"
   },
   {
    "duration": 578,
    "start_time": "2022-09-17T13:58:51.122Z"
   },
   {
    "duration": 471,
    "start_time": "2022-09-17T13:58:51.704Z"
   },
   {
    "duration": 9,
    "start_time": "2022-09-17T13:58:52.177Z"
   },
   {
    "duration": 138,
    "start_time": "2022-09-17T13:58:52.194Z"
   },
   {
    "duration": 65,
    "start_time": "2022-09-17T13:58:52.335Z"
   },
   {
    "duration": 3,
    "start_time": "2022-09-17T13:58:52.403Z"
   },
   {
    "duration": 13,
    "start_time": "2022-09-17T13:58:52.408Z"
   },
   {
    "duration": 6,
    "start_time": "2022-09-17T13:58:52.424Z"
   },
   {
    "duration": 165,
    "start_time": "2022-09-17T13:58:52.432Z"
   },
   {
    "duration": 152,
    "start_time": "2022-09-17T13:58:52.599Z"
   },
   {
    "duration": 156,
    "start_time": "2022-09-17T13:58:52.758Z"
   },
   {
    "duration": 158,
    "start_time": "2022-09-17T13:58:52.916Z"
   },
   {
    "duration": 178,
    "start_time": "2022-09-17T13:58:53.075Z"
   },
   {
    "duration": 75,
    "start_time": "2022-09-17T13:58:53.256Z"
   },
   {
    "duration": 3,
    "start_time": "2022-09-17T13:58:53.334Z"
   },
   {
    "duration": 76,
    "start_time": "2022-09-17T13:58:53.339Z"
   },
   {
    "duration": 52,
    "start_time": "2022-09-17T13:58:53.417Z"
   },
   {
    "duration": 1148,
    "start_time": "2022-09-17T13:58:53.471Z"
   },
   {
    "duration": 248,
    "start_time": "2022-09-17T13:58:54.622Z"
   },
   {
    "duration": 6,
    "start_time": "2022-09-17T13:58:54.872Z"
   },
   {
    "duration": 69,
    "start_time": "2022-09-17T13:58:54.880Z"
   },
   {
    "duration": 20,
    "start_time": "2022-09-17T13:58:54.952Z"
   },
   {
    "duration": 47,
    "start_time": "2022-09-17T13:58:54.974Z"
   },
   {
    "duration": 285,
    "start_time": "2022-09-17T13:58:55.024Z"
   },
   {
    "duration": 502,
    "start_time": "2022-09-17T13:58:55.311Z"
   },
   {
    "duration": 157,
    "start_time": "2022-09-17T13:58:55.816Z"
   },
   {
    "duration": 6,
    "start_time": "2022-09-17T13:58:55.976Z"
   },
   {
    "duration": 8,
    "start_time": "2022-09-17T13:58:55.995Z"
   },
   {
    "duration": 207,
    "start_time": "2022-09-17T13:58:56.005Z"
   },
   {
    "duration": 7,
    "start_time": "2022-09-17T13:58:56.214Z"
   },
   {
    "duration": 10,
    "start_time": "2022-09-17T13:58:56.223Z"
   },
   {
    "duration": 7,
    "start_time": "2022-09-17T13:58:56.235Z"
   },
   {
    "duration": 7,
    "start_time": "2022-09-17T13:58:56.244Z"
   },
   {
    "duration": 1668,
    "start_time": "2022-09-17T14:01:47.915Z"
   },
   {
    "duration": 1058,
    "start_time": "2022-09-17T14:01:49.585Z"
   },
   {
    "duration": 554,
    "start_time": "2022-09-17T14:01:50.645Z"
   },
   {
    "duration": 568,
    "start_time": "2022-09-17T14:01:51.202Z"
   },
   {
    "duration": 506,
    "start_time": "2022-09-17T14:01:51.771Z"
   },
   {
    "duration": 23,
    "start_time": "2022-09-17T14:01:52.279Z"
   },
   {
    "duration": 127,
    "start_time": "2022-09-17T14:01:52.304Z"
   },
   {
    "duration": 46,
    "start_time": "2022-09-17T14:01:52.433Z"
   },
   {
    "duration": 3,
    "start_time": "2022-09-17T14:01:52.480Z"
   },
   {
    "duration": 33,
    "start_time": "2022-09-17T14:01:52.496Z"
   },
   {
    "duration": 5,
    "start_time": "2022-09-17T14:01:52.531Z"
   },
   {
    "duration": 112,
    "start_time": "2022-09-17T14:01:52.538Z"
   },
   {
    "duration": 94,
    "start_time": "2022-09-17T14:01:52.652Z"
   },
   {
    "duration": 129,
    "start_time": "2022-09-17T14:01:52.748Z"
   },
   {
    "duration": 129,
    "start_time": "2022-09-17T14:01:52.879Z"
   },
   {
    "duration": 144,
    "start_time": "2022-09-17T14:01:53.011Z"
   },
   {
    "duration": 67,
    "start_time": "2022-09-17T14:01:53.157Z"
   },
   {
    "duration": 3,
    "start_time": "2022-09-17T14:01:53.225Z"
   },
   {
    "duration": 69,
    "start_time": "2022-09-17T14:01:53.230Z"
   },
   {
    "duration": 49,
    "start_time": "2022-09-17T14:01:53.301Z"
   },
   {
    "duration": 1115,
    "start_time": "2022-09-17T14:01:53.352Z"
   },
   {
    "duration": 199,
    "start_time": "2022-09-17T14:01:54.469Z"
   },
   {
    "duration": 7,
    "start_time": "2022-09-17T14:01:54.669Z"
   },
   {
    "duration": 61,
    "start_time": "2022-09-17T14:01:54.677Z"
   },
   {
    "duration": 20,
    "start_time": "2022-09-17T14:01:54.740Z"
   },
   {
    "duration": 43,
    "start_time": "2022-09-17T14:01:54.762Z"
   },
   {
    "duration": 293,
    "start_time": "2022-09-17T14:01:54.807Z"
   },
   {
    "duration": 456,
    "start_time": "2022-09-17T14:01:55.104Z"
   },
   {
    "duration": 178,
    "start_time": "2022-09-17T14:01:55.562Z"
   },
   {
    "duration": 4,
    "start_time": "2022-09-17T14:01:55.741Z"
   },
   {
    "duration": 8,
    "start_time": "2022-09-17T14:01:55.747Z"
   },
   {
    "duration": 232,
    "start_time": "2022-09-17T14:01:55.758Z"
   },
   {
    "duration": 5,
    "start_time": "2022-09-17T14:01:55.992Z"
   },
   {
    "duration": 20,
    "start_time": "2022-09-17T14:01:55.998Z"
   },
   {
    "duration": 7,
    "start_time": "2022-09-17T14:01:56.019Z"
   },
   {
    "duration": 7,
    "start_time": "2022-09-17T14:01:56.028Z"
   },
   {
    "duration": 2783,
    "start_time": "2022-09-17T14:05:35.088Z"
   },
   {
    "duration": 2244,
    "start_time": "2022-09-17T14:05:37.873Z"
   },
   {
    "duration": 944,
    "start_time": "2022-09-17T14:05:40.119Z"
   },
   {
    "duration": 571,
    "start_time": "2022-09-17T14:05:41.065Z"
   },
   {
    "duration": 546,
    "start_time": "2022-09-17T14:05:41.638Z"
   },
   {
    "duration": 13,
    "start_time": "2022-09-17T14:05:42.186Z"
   },
   {
    "duration": 144,
    "start_time": "2022-09-17T14:05:42.201Z"
   },
   {
    "duration": 50,
    "start_time": "2022-09-17T14:05:42.347Z"
   },
   {
    "duration": 3,
    "start_time": "2022-09-17T14:05:42.399Z"
   },
   {
    "duration": 26,
    "start_time": "2022-09-17T14:05:42.406Z"
   },
   {
    "duration": 3,
    "start_time": "2022-09-17T14:05:42.434Z"
   },
   {
    "duration": 122,
    "start_time": "2022-09-17T14:05:42.439Z"
   },
   {
    "duration": 106,
    "start_time": "2022-09-17T14:05:42.564Z"
   },
   {
    "duration": 126,
    "start_time": "2022-09-17T14:05:42.672Z"
   },
   {
    "duration": 127,
    "start_time": "2022-09-17T14:05:42.800Z"
   },
   {
    "duration": 147,
    "start_time": "2022-09-17T14:05:42.931Z"
   },
   {
    "duration": 66,
    "start_time": "2022-09-17T14:05:43.079Z"
   },
   {
    "duration": 3,
    "start_time": "2022-09-17T14:05:43.147Z"
   },
   {
    "duration": 79,
    "start_time": "2022-09-17T14:05:43.152Z"
   },
   {
    "duration": 48,
    "start_time": "2022-09-17T14:05:43.234Z"
   },
   {
    "duration": 1157,
    "start_time": "2022-09-17T14:05:43.295Z"
   },
   {
    "duration": 213,
    "start_time": "2022-09-17T14:05:44.453Z"
   },
   {
    "duration": 6,
    "start_time": "2022-09-17T14:05:44.668Z"
   },
   {
    "duration": 84,
    "start_time": "2022-09-17T14:05:44.675Z"
   },
   {
    "duration": 21,
    "start_time": "2022-09-17T14:05:44.761Z"
   },
   {
    "duration": 39,
    "start_time": "2022-09-17T14:05:44.784Z"
   },
   {
    "duration": 292,
    "start_time": "2022-09-17T14:05:44.826Z"
   },
   {
    "duration": 473,
    "start_time": "2022-09-17T14:05:45.123Z"
   },
   {
    "duration": 159,
    "start_time": "2022-09-17T14:05:45.605Z"
   },
   {
    "duration": 4,
    "start_time": "2022-09-17T14:05:45.766Z"
   },
   {
    "duration": 11,
    "start_time": "2022-09-17T14:05:45.772Z"
   },
   {
    "duration": 234,
    "start_time": "2022-09-17T14:05:45.785Z"
   },
   {
    "duration": 3,
    "start_time": "2022-09-17T14:05:46.023Z"
   },
   {
    "duration": 7,
    "start_time": "2022-09-17T14:05:46.029Z"
   },
   {
    "duration": 6,
    "start_time": "2022-09-17T14:05:46.038Z"
   },
   {
    "duration": 8,
    "start_time": "2022-09-17T14:05:46.046Z"
   },
   {
    "duration": 1613,
    "start_time": "2022-09-17T14:07:46.714Z"
   },
   {
    "duration": 991,
    "start_time": "2022-09-17T14:07:48.329Z"
   },
   {
    "duration": 513,
    "start_time": "2022-09-17T14:07:49.322Z"
   },
   {
    "duration": 966,
    "start_time": "2022-09-17T14:07:49.836Z"
   },
   {
    "duration": 1123,
    "start_time": "2022-09-17T14:07:50.805Z"
   },
   {
    "duration": 10,
    "start_time": "2022-09-17T14:07:51.929Z"
   },
   {
    "duration": 324,
    "start_time": "2022-09-17T14:07:51.940Z"
   },
   {
    "duration": 57,
    "start_time": "2022-09-17T14:07:52.266Z"
   },
   {
    "duration": 3,
    "start_time": "2022-09-17T14:07:52.325Z"
   },
   {
    "duration": 17,
    "start_time": "2022-09-17T14:07:52.329Z"
   },
   {
    "duration": 11,
    "start_time": "2022-09-17T14:07:52.348Z"
   },
   {
    "duration": 176,
    "start_time": "2022-09-17T14:07:52.364Z"
   },
   {
    "duration": 104,
    "start_time": "2022-09-17T14:07:52.542Z"
   },
   {
    "duration": 112,
    "start_time": "2022-09-17T14:07:52.649Z"
   },
   {
    "duration": 138,
    "start_time": "2022-09-17T14:07:52.763Z"
   },
   {
    "duration": 161,
    "start_time": "2022-09-17T14:07:52.903Z"
   },
   {
    "duration": 71,
    "start_time": "2022-09-17T14:07:53.066Z"
   },
   {
    "duration": 4,
    "start_time": "2022-09-17T14:07:53.140Z"
   },
   {
    "duration": 73,
    "start_time": "2022-09-17T14:07:53.146Z"
   },
   {
    "duration": 48,
    "start_time": "2022-09-17T14:07:53.223Z"
   },
   {
    "duration": 1127,
    "start_time": "2022-09-17T14:07:53.273Z"
   },
   {
    "duration": 193,
    "start_time": "2022-09-17T14:07:54.402Z"
   },
   {
    "duration": 125,
    "start_time": "2022-09-17T14:07:54.597Z"
   },
   {
    "duration": 46,
    "start_time": "2022-09-17T14:07:54.723Z"
   },
   {
    "duration": 21,
    "start_time": "2022-09-17T14:07:54.771Z"
   },
   {
    "duration": 34,
    "start_time": "2022-09-17T14:07:54.793Z"
   },
   {
    "duration": 293,
    "start_time": "2022-09-17T14:07:54.829Z"
   },
   {
    "duration": 454,
    "start_time": "2022-09-17T14:07:55.123Z"
   },
   {
    "duration": 159,
    "start_time": "2022-09-17T14:07:55.579Z"
   },
   {
    "duration": 4,
    "start_time": "2022-09-17T14:07:55.739Z"
   },
   {
    "duration": 6,
    "start_time": "2022-09-17T14:07:55.745Z"
   },
   {
    "duration": 219,
    "start_time": "2022-09-17T14:07:55.753Z"
   },
   {
    "duration": 2,
    "start_time": "2022-09-17T14:07:55.974Z"
   },
   {
    "duration": 8,
    "start_time": "2022-09-17T14:07:55.977Z"
   },
   {
    "duration": 9,
    "start_time": "2022-09-17T14:07:55.986Z"
   },
   {
    "duration": 20,
    "start_time": "2022-09-17T14:07:55.997Z"
   },
   {
    "duration": 611,
    "start_time": "2022-09-17T14:07:56.019Z"
   },
   {
    "duration": 3,
    "start_time": "2022-09-17T14:07:56.632Z"
   },
   {
    "duration": 184,
    "start_time": "2022-09-17T14:07:56.637Z"
   },
   {
    "duration": 4,
    "start_time": "2022-09-17T14:07:56.825Z"
   },
   {
    "duration": 31777,
    "start_time": "2022-09-17T14:07:56.834Z"
   },
   {
    "duration": 303,
    "start_time": "2022-09-17T14:08:28.700Z"
   },
   {
    "duration": 87,
    "start_time": "2022-09-17T14:08:29.010Z"
   },
   {
    "duration": 33176,
    "start_time": "2022-09-17T14:08:29.100Z"
   },
   {
    "duration": 243,
    "start_time": "2022-09-17T14:09:02.278Z"
   },
   {
    "duration": 4,
    "start_time": "2022-09-17T14:09:02.524Z"
   },
   {
    "duration": 9,
    "start_time": "2022-09-17T14:09:02.530Z"
   },
   {
    "duration": 16,
    "start_time": "2022-09-17T14:09:02.541Z"
   },
   {
    "duration": 116,
    "start_time": "2022-09-17T14:09:02.559Z"
   },
   {
    "duration": 14,
    "start_time": "2022-09-17T14:09:02.677Z"
   },
   {
    "duration": 228,
    "start_time": "2022-09-17T14:09:49.865Z"
   },
   {
    "duration": 3,
    "start_time": "2022-09-17T14:10:05.916Z"
   },
   {
    "duration": 1681303,
    "start_time": "2022-09-17T14:10:06.411Z"
   },
   {
    "duration": 157,
    "start_time": "2022-09-17T15:12:09.451Z"
   },
   {
    "duration": 697,
    "start_time": "2022-09-17T15:14:02.511Z"
   },
   {
    "duration": 4,
    "start_time": "2022-09-17T15:19:31.772Z"
   },
   {
    "duration": 77260,
    "start_time": "2022-09-17T15:19:44.866Z"
   },
   {
    "duration": 452,
    "start_time": "2022-09-17T15:21:02.128Z"
   },
   {
    "duration": 3,
    "start_time": "2022-09-17T15:21:02.581Z"
   },
   {
    "duration": 32914,
    "start_time": "2022-09-17T15:21:02.595Z"
   },
   {
    "duration": 3,
    "start_time": "2022-09-17T15:21:35.511Z"
   },
   {
    "duration": 1719,
    "start_time": "2022-09-17T15:22:49.385Z"
   },
   {
    "duration": 1016,
    "start_time": "2022-09-17T15:22:51.106Z"
   },
   {
    "duration": 513,
    "start_time": "2022-09-17T15:22:52.124Z"
   },
   {
    "duration": 425,
    "start_time": "2022-09-17T15:22:52.640Z"
   },
   {
    "duration": 0,
    "start_time": "2022-09-17T15:22:53.068Z"
   },
   {
    "duration": 0,
    "start_time": "2022-09-17T15:22:53.069Z"
   },
   {
    "duration": 0,
    "start_time": "2022-09-17T15:22:53.071Z"
   },
   {
    "duration": 0,
    "start_time": "2022-09-17T15:22:53.072Z"
   },
   {
    "duration": 0,
    "start_time": "2022-09-17T15:22:53.073Z"
   },
   {
    "duration": 0,
    "start_time": "2022-09-17T15:22:53.074Z"
   },
   {
    "duration": 0,
    "start_time": "2022-09-17T15:22:53.075Z"
   },
   {
    "duration": 0,
    "start_time": "2022-09-17T15:22:53.076Z"
   },
   {
    "duration": 0,
    "start_time": "2022-09-17T15:22:53.077Z"
   },
   {
    "duration": 0,
    "start_time": "2022-09-17T15:22:53.078Z"
   },
   {
    "duration": 0,
    "start_time": "2022-09-17T15:22:53.079Z"
   },
   {
    "duration": 0,
    "start_time": "2022-09-17T15:22:53.099Z"
   },
   {
    "duration": 0,
    "start_time": "2022-09-17T15:22:53.100Z"
   },
   {
    "duration": 0,
    "start_time": "2022-09-17T15:22:53.101Z"
   },
   {
    "duration": 0,
    "start_time": "2022-09-17T15:22:53.102Z"
   },
   {
    "duration": 0,
    "start_time": "2022-09-17T15:22:53.103Z"
   },
   {
    "duration": 0,
    "start_time": "2022-09-17T15:22:53.104Z"
   },
   {
    "duration": 0,
    "start_time": "2022-09-17T15:22:53.105Z"
   },
   {
    "duration": 0,
    "start_time": "2022-09-17T15:22:53.106Z"
   },
   {
    "duration": 0,
    "start_time": "2022-09-17T15:22:53.106Z"
   },
   {
    "duration": 0,
    "start_time": "2022-09-17T15:22:53.111Z"
   },
   {
    "duration": 0,
    "start_time": "2022-09-17T15:22:53.112Z"
   },
   {
    "duration": 0,
    "start_time": "2022-09-17T15:22:53.113Z"
   },
   {
    "duration": 0,
    "start_time": "2022-09-17T15:22:53.114Z"
   },
   {
    "duration": 0,
    "start_time": "2022-09-17T15:22:53.116Z"
   },
   {
    "duration": 0,
    "start_time": "2022-09-17T15:22:53.117Z"
   },
   {
    "duration": 0,
    "start_time": "2022-09-17T15:22:53.118Z"
   },
   {
    "duration": 0,
    "start_time": "2022-09-17T15:22:53.119Z"
   },
   {
    "duration": 0,
    "start_time": "2022-09-17T15:22:53.121Z"
   },
   {
    "duration": 0,
    "start_time": "2022-09-17T15:22:53.121Z"
   },
   {
    "duration": 1,
    "start_time": "2022-09-17T15:22:53.122Z"
   },
   {
    "duration": 0,
    "start_time": "2022-09-17T15:22:53.124Z"
   },
   {
    "duration": 0,
    "start_time": "2022-09-17T15:22:53.125Z"
   },
   {
    "duration": 0,
    "start_time": "2022-09-17T15:22:53.126Z"
   },
   {
    "duration": 0,
    "start_time": "2022-09-17T15:22:53.127Z"
   },
   {
    "duration": 0,
    "start_time": "2022-09-17T15:22:53.128Z"
   },
   {
    "duration": 0,
    "start_time": "2022-09-17T15:22:53.129Z"
   },
   {
    "duration": 0,
    "start_time": "2022-09-17T15:22:53.130Z"
   },
   {
    "duration": 0,
    "start_time": "2022-09-17T15:22:53.131Z"
   },
   {
    "duration": 0,
    "start_time": "2022-09-17T15:22:53.132Z"
   },
   {
    "duration": 0,
    "start_time": "2022-09-17T15:22:53.134Z"
   },
   {
    "duration": 0,
    "start_time": "2022-09-17T15:22:53.135Z"
   },
   {
    "duration": 0,
    "start_time": "2022-09-17T15:22:53.136Z"
   },
   {
    "duration": 0,
    "start_time": "2022-09-17T15:22:53.137Z"
   },
   {
    "duration": 0,
    "start_time": "2022-09-17T15:22:53.196Z"
   },
   {
    "duration": 0,
    "start_time": "2022-09-17T15:22:53.197Z"
   },
   {
    "duration": 0,
    "start_time": "2022-09-17T15:22:53.198Z"
   },
   {
    "duration": 0,
    "start_time": "2022-09-17T15:22:53.206Z"
   },
   {
    "duration": 0,
    "start_time": "2022-09-17T15:22:53.207Z"
   },
   {
    "duration": 1746,
    "start_time": "2022-09-17T15:23:11.122Z"
   },
   {
    "duration": 1098,
    "start_time": "2022-09-17T15:23:12.871Z"
   },
   {
    "duration": 542,
    "start_time": "2022-09-17T15:23:13.971Z"
   },
   {
    "duration": 589,
    "start_time": "2022-09-17T15:23:14.515Z"
   },
   {
    "duration": 536,
    "start_time": "2022-09-17T15:23:15.106Z"
   },
   {
    "duration": 10,
    "start_time": "2022-09-17T15:23:15.644Z"
   },
   {
    "duration": 160,
    "start_time": "2022-09-17T15:23:15.656Z"
   },
   {
    "duration": 47,
    "start_time": "2022-09-17T15:23:15.818Z"
   },
   {
    "duration": 2,
    "start_time": "2022-09-17T15:23:15.867Z"
   },
   {
    "duration": 14,
    "start_time": "2022-09-17T15:23:15.872Z"
   },
   {
    "duration": 4,
    "start_time": "2022-09-17T15:23:15.904Z"
   },
   {
    "duration": 108,
    "start_time": "2022-09-17T15:23:15.910Z"
   },
   {
    "duration": 98,
    "start_time": "2022-09-17T15:23:16.019Z"
   },
   {
    "duration": 107,
    "start_time": "2022-09-17T15:23:16.119Z"
   },
   {
    "duration": 111,
    "start_time": "2022-09-17T15:23:16.228Z"
   },
   {
    "duration": 148,
    "start_time": "2022-09-17T15:23:16.341Z"
   },
   {
    "duration": 73,
    "start_time": "2022-09-17T15:23:16.492Z"
   },
   {
    "duration": 8,
    "start_time": "2022-09-17T15:23:16.568Z"
   },
   {
    "duration": 84,
    "start_time": "2022-09-17T15:23:16.578Z"
   },
   {
    "duration": 63,
    "start_time": "2022-09-17T15:23:16.664Z"
   },
   {
    "duration": 1242,
    "start_time": "2022-09-17T15:23:16.730Z"
   },
   {
    "duration": 212,
    "start_time": "2022-09-17T15:23:17.973Z"
   },
   {
    "duration": 22,
    "start_time": "2022-09-17T15:23:18.186Z"
   },
   {
    "duration": 44,
    "start_time": "2022-09-17T15:23:18.210Z"
   },
   {
    "duration": 21,
    "start_time": "2022-09-17T15:23:18.256Z"
   },
   {
    "duration": 45,
    "start_time": "2022-09-17T15:23:18.279Z"
   },
   {
    "duration": 283,
    "start_time": "2022-09-17T15:23:18.327Z"
   },
   {
    "duration": 449,
    "start_time": "2022-09-17T15:23:18.614Z"
   },
   {
    "duration": 166,
    "start_time": "2022-09-17T15:23:19.065Z"
   },
   {
    "duration": 4,
    "start_time": "2022-09-17T15:23:19.233Z"
   },
   {
    "duration": 7,
    "start_time": "2022-09-17T15:23:19.238Z"
   },
   {
    "duration": 214,
    "start_time": "2022-09-17T15:23:19.247Z"
   },
   {
    "duration": 2,
    "start_time": "2022-09-17T15:23:19.464Z"
   },
   {
    "duration": 9,
    "start_time": "2022-09-17T15:23:19.468Z"
   },
   {
    "duration": 4,
    "start_time": "2022-09-17T15:23:19.479Z"
   },
   {
    "duration": 10,
    "start_time": "2022-09-17T15:23:19.485Z"
   },
   {
    "duration": 7,
    "start_time": "2022-09-17T15:23:19.497Z"
   },
   {
    "duration": 7,
    "start_time": "2022-09-17T15:23:19.507Z"
   },
   {
    "duration": 285,
    "start_time": "2022-09-17T15:23:19.516Z"
   },
   {
    "duration": 3,
    "start_time": "2022-09-17T15:23:19.802Z"
   },
   {
    "duration": 1484,
    "start_time": "2022-09-17T15:23:48.984Z"
   },
   {
    "duration": 1069,
    "start_time": "2022-09-17T15:23:50.470Z"
   },
   {
    "duration": 566,
    "start_time": "2022-09-17T15:23:51.541Z"
   },
   {
    "duration": 1116,
    "start_time": "2022-09-17T15:23:52.111Z"
   },
   {
    "duration": 951,
    "start_time": "2022-09-17T15:23:53.229Z"
   },
   {
    "duration": 26,
    "start_time": "2022-09-17T15:23:54.182Z"
   },
   {
    "duration": 117,
    "start_time": "2022-09-17T15:23:54.210Z"
   },
   {
    "duration": 47,
    "start_time": "2022-09-17T15:23:54.329Z"
   },
   {
    "duration": 2,
    "start_time": "2022-09-17T15:23:54.378Z"
   },
   {
    "duration": 22,
    "start_time": "2022-09-17T15:23:54.397Z"
   },
   {
    "duration": 2,
    "start_time": "2022-09-17T15:23:54.421Z"
   },
   {
    "duration": 105,
    "start_time": "2022-09-17T15:23:54.424Z"
   },
   {
    "duration": 95,
    "start_time": "2022-09-17T15:23:54.530Z"
   },
   {
    "duration": 110,
    "start_time": "2022-09-17T15:23:54.627Z"
   },
   {
    "duration": 110,
    "start_time": "2022-09-17T15:23:54.739Z"
   },
   {
    "duration": 133,
    "start_time": "2022-09-17T15:23:54.851Z"
   },
   {
    "duration": 69,
    "start_time": "2022-09-17T15:23:54.986Z"
   },
   {
    "duration": 2,
    "start_time": "2022-09-17T15:23:55.057Z"
   },
   {
    "duration": 71,
    "start_time": "2022-09-17T15:23:55.061Z"
   },
   {
    "duration": 47,
    "start_time": "2022-09-17T15:23:55.138Z"
   },
   {
    "duration": 1057,
    "start_time": "2022-09-17T15:23:55.187Z"
   },
   {
    "duration": 186,
    "start_time": "2022-09-17T15:23:56.246Z"
   },
   {
    "duration": 6,
    "start_time": "2022-09-17T15:23:56.433Z"
   },
   {
    "duration": 46,
    "start_time": "2022-09-17T15:23:56.440Z"
   },
   {
    "duration": 40,
    "start_time": "2022-09-17T15:23:56.488Z"
   },
   {
    "duration": 31,
    "start_time": "2022-09-17T15:23:56.531Z"
   },
   {
    "duration": 281,
    "start_time": "2022-09-17T15:23:56.565Z"
   },
   {
    "duration": 457,
    "start_time": "2022-09-17T15:23:56.850Z"
   },
   {
    "duration": 157,
    "start_time": "2022-09-17T15:23:57.309Z"
   },
   {
    "duration": 5,
    "start_time": "2022-09-17T15:23:57.468Z"
   },
   {
    "duration": 13,
    "start_time": "2022-09-17T15:23:57.474Z"
   },
   {
    "duration": 214,
    "start_time": "2022-09-17T15:23:57.489Z"
   },
   {
    "duration": 3,
    "start_time": "2022-09-17T15:23:57.712Z"
   },
   {
    "duration": 23,
    "start_time": "2022-09-17T15:23:57.716Z"
   },
   {
    "duration": 26,
    "start_time": "2022-09-17T15:23:57.740Z"
   },
   {
    "duration": 14,
    "start_time": "2022-09-17T15:23:57.768Z"
   },
   {
    "duration": 37,
    "start_time": "2022-09-17T15:23:57.784Z"
   },
   {
    "duration": 17,
    "start_time": "2022-09-17T15:23:57.823Z"
   },
   {
    "duration": 11,
    "start_time": "2022-09-17T15:23:57.841Z"
   },
   {
    "duration": 31,
    "start_time": "2022-09-17T15:23:57.854Z"
   },
   {
    "duration": 43426,
    "start_time": "2022-09-17T15:23:57.887Z"
   },
   {
    "duration": 300,
    "start_time": "2022-09-17T15:24:41.315Z"
   },
   {
    "duration": 85,
    "start_time": "2022-09-17T15:24:41.616Z"
   },
   {
    "duration": 33161,
    "start_time": "2022-09-17T15:24:41.707Z"
   },
   {
    "duration": 246,
    "start_time": "2022-09-17T15:25:14.870Z"
   },
   {
    "duration": 3,
    "start_time": "2022-09-17T15:25:15.118Z"
   },
   {
    "duration": 77029,
    "start_time": "2022-09-17T15:25:15.122Z"
   },
   {
    "duration": 471,
    "start_time": "2022-09-17T15:26:32.153Z"
   },
   {
    "duration": 4,
    "start_time": "2022-09-17T15:26:32.626Z"
   },
   {
    "duration": 21,
    "start_time": "2022-09-17T15:26:32.632Z"
   },
   {
    "duration": 14,
    "start_time": "2022-09-17T15:26:32.655Z"
   },
   {
    "duration": 605,
    "start_time": "2022-09-17T15:26:32.670Z"
   },
   {
    "duration": 10,
    "start_time": "2022-09-17T15:26:33.277Z"
   },
   {
    "duration": 0,
    "start_time": "2022-09-17T15:26:33.289Z"
   },
   {
    "duration": 129,
    "start_time": "2022-09-17T15:26:40.381Z"
   },
   {
    "duration": 2429,
    "start_time": "2022-09-18T11:45:11.354Z"
   },
   {
    "duration": 3116,
    "start_time": "2022-09-18T11:45:13.785Z"
   },
   {
    "duration": 476,
    "start_time": "2022-09-18T11:45:16.902Z"
   },
   {
    "duration": 501,
    "start_time": "2022-09-18T11:45:17.380Z"
   },
   {
    "duration": 465,
    "start_time": "2022-09-18T11:45:17.883Z"
   },
   {
    "duration": 8,
    "start_time": "2022-09-18T11:45:18.350Z"
   },
   {
    "duration": 123,
    "start_time": "2022-09-18T11:45:18.360Z"
   },
   {
    "duration": 48,
    "start_time": "2022-09-18T11:45:18.484Z"
   },
   {
    "duration": 2,
    "start_time": "2022-09-18T11:45:18.533Z"
   },
   {
    "duration": 12,
    "start_time": "2022-09-18T11:45:18.537Z"
   },
   {
    "duration": 2,
    "start_time": "2022-09-18T11:45:18.551Z"
   },
   {
    "duration": 124,
    "start_time": "2022-09-18T11:45:18.555Z"
   },
   {
    "duration": 101,
    "start_time": "2022-09-18T11:45:18.681Z"
   },
   {
    "duration": 119,
    "start_time": "2022-09-18T11:45:18.785Z"
   },
   {
    "duration": 104,
    "start_time": "2022-09-18T11:45:18.906Z"
   },
   {
    "duration": 146,
    "start_time": "2022-09-18T11:45:19.012Z"
   },
   {
    "duration": 60,
    "start_time": "2022-09-18T11:45:19.160Z"
   },
   {
    "duration": 2,
    "start_time": "2022-09-18T11:45:19.222Z"
   },
   {
    "duration": 58,
    "start_time": "2022-09-18T11:45:19.226Z"
   },
   {
    "duration": 48,
    "start_time": "2022-09-18T11:45:19.286Z"
   },
   {
    "duration": 174,
    "start_time": "2022-09-18T11:45:25.901Z"
   },
   {
    "duration": 6,
    "start_time": "2022-09-18T11:45:27.775Z"
   },
   {
    "duration": 42,
    "start_time": "2022-09-18T11:45:29.846Z"
   },
   {
    "duration": 21,
    "start_time": "2022-09-18T11:45:30.396Z"
   },
   {
    "duration": 27,
    "start_time": "2022-09-18T11:45:31.004Z"
   },
   {
    "duration": 133,
    "start_time": "2022-09-18T11:45:36.668Z"
   },
   {
    "duration": 28,
    "start_time": "2022-09-18T11:46:27.078Z"
   },
   {
    "duration": 21,
    "start_time": "2022-09-18T11:46:58.741Z"
   },
   {
    "duration": 8,
    "start_time": "2022-09-18T11:55:12.619Z"
   },
   {
    "duration": 1696,
    "start_time": "2022-09-18T12:08:50.557Z"
   },
   {
    "duration": 961,
    "start_time": "2022-09-18T12:08:52.255Z"
   },
   {
    "duration": 451,
    "start_time": "2022-09-18T12:08:53.218Z"
   },
   {
    "duration": 494,
    "start_time": "2022-09-18T12:08:53.671Z"
   },
   {
    "duration": 446,
    "start_time": "2022-09-18T12:08:54.167Z"
   },
   {
    "duration": 8,
    "start_time": "2022-09-18T12:08:54.615Z"
   },
   {
    "duration": 129,
    "start_time": "2022-09-18T12:08:54.624Z"
   },
   {
    "duration": 51,
    "start_time": "2022-09-18T12:08:54.755Z"
   },
   {
    "duration": 4,
    "start_time": "2022-09-18T12:08:54.808Z"
   },
   {
    "duration": 14,
    "start_time": "2022-09-18T12:08:54.814Z"
   },
   {
    "duration": 3,
    "start_time": "2022-09-18T12:08:54.830Z"
   },
   {
    "duration": 116,
    "start_time": "2022-09-18T12:08:54.835Z"
   },
   {
    "duration": 107,
    "start_time": "2022-09-18T12:08:54.953Z"
   },
   {
    "duration": 100,
    "start_time": "2022-09-18T12:08:55.064Z"
   },
   {
    "duration": 103,
    "start_time": "2022-09-18T12:08:55.166Z"
   },
   {
    "duration": 134,
    "start_time": "2022-09-18T12:08:55.271Z"
   },
   {
    "duration": 51,
    "start_time": "2022-09-18T12:08:55.407Z"
   },
   {
    "duration": 3,
    "start_time": "2022-09-18T12:08:55.460Z"
   },
   {
    "duration": 71,
    "start_time": "2022-09-18T12:08:55.465Z"
   },
   {
    "duration": 45,
    "start_time": "2022-09-18T12:08:55.538Z"
   },
   {
    "duration": 895,
    "start_time": "2022-09-18T12:08:55.584Z"
   },
   {
    "duration": 206,
    "start_time": "2022-09-18T12:08:56.481Z"
   },
   {
    "duration": 11,
    "start_time": "2022-09-18T12:08:56.689Z"
   },
   {
    "duration": 61,
    "start_time": "2022-09-18T12:08:56.702Z"
   },
   {
    "duration": 30,
    "start_time": "2022-09-18T12:08:56.765Z"
   },
   {
    "duration": 29,
    "start_time": "2022-09-18T12:08:56.797Z"
   },
   {
    "duration": 279,
    "start_time": "2022-09-18T12:08:56.829Z"
   },
   {
    "duration": 424,
    "start_time": "2022-09-18T12:08:57.110Z"
   },
   {
    "duration": 149,
    "start_time": "2022-09-18T12:08:57.536Z"
   },
   {
    "duration": 4,
    "start_time": "2022-09-18T12:08:57.687Z"
   },
   {
    "duration": 7,
    "start_time": "2022-09-18T12:08:57.695Z"
   },
   {
    "duration": 199,
    "start_time": "2022-09-18T12:08:57.704Z"
   },
   {
    "duration": 2,
    "start_time": "2022-09-18T12:08:57.905Z"
   },
   {
    "duration": 6,
    "start_time": "2022-09-18T12:08:57.909Z"
   },
   {
    "duration": 5,
    "start_time": "2022-09-18T12:08:57.917Z"
   },
   {
    "duration": 10,
    "start_time": "2022-09-18T12:08:57.923Z"
   },
   {
    "duration": 5,
    "start_time": "2022-09-18T12:08:57.934Z"
   },
   {
    "duration": 5,
    "start_time": "2022-09-18T12:08:57.941Z"
   },
   {
    "duration": 7,
    "start_time": "2022-09-18T12:08:57.947Z"
   },
   {
    "duration": 4,
    "start_time": "2022-09-18T12:08:57.956Z"
   },
   {
    "duration": 44,
    "start_time": "2022-09-18T13:09:05.256Z"
   },
   {
    "duration": 1528,
    "start_time": "2022-09-18T13:09:16.428Z"
   },
   {
    "duration": 1208,
    "start_time": "2022-09-18T13:09:17.958Z"
   },
   {
    "duration": 421,
    "start_time": "2022-09-18T13:09:19.168Z"
   },
   {
    "duration": 454,
    "start_time": "2022-09-18T13:09:19.590Z"
   },
   {
    "duration": 393,
    "start_time": "2022-09-18T13:09:20.046Z"
   },
   {
    "duration": 8,
    "start_time": "2022-09-18T13:09:20.440Z"
   },
   {
    "duration": 108,
    "start_time": "2022-09-18T13:09:20.449Z"
   },
   {
    "duration": 42,
    "start_time": "2022-09-18T13:09:20.559Z"
   },
   {
    "duration": 2,
    "start_time": "2022-09-18T13:09:20.603Z"
   },
   {
    "duration": 22,
    "start_time": "2022-09-18T13:09:20.607Z"
   },
   {
    "duration": 9,
    "start_time": "2022-09-18T13:09:20.630Z"
   },
   {
    "duration": 105,
    "start_time": "2022-09-18T13:09:20.640Z"
   },
   {
    "duration": 89,
    "start_time": "2022-09-18T13:09:20.747Z"
   },
   {
    "duration": 105,
    "start_time": "2022-09-18T13:09:20.838Z"
   },
   {
    "duration": 97,
    "start_time": "2022-09-18T13:09:20.945Z"
   },
   {
    "duration": 108,
    "start_time": "2022-09-18T13:09:21.044Z"
   },
   {
    "duration": 50,
    "start_time": "2022-09-18T13:09:21.154Z"
   },
   {
    "duration": 16,
    "start_time": "2022-09-18T13:09:21.205Z"
   },
   {
    "duration": 56,
    "start_time": "2022-09-18T13:09:21.222Z"
   },
   {
    "duration": 45,
    "start_time": "2022-09-18T13:09:21.280Z"
   },
   {
    "duration": 641,
    "start_time": "2022-09-18T13:09:21.327Z"
   },
   {
    "duration": 134,
    "start_time": "2022-09-18T13:09:21.970Z"
   },
   {
    "duration": 5,
    "start_time": "2022-09-18T13:09:22.106Z"
   },
   {
    "duration": 63,
    "start_time": "2022-09-18T13:09:22.112Z"
   },
   {
    "duration": 16,
    "start_time": "2022-09-18T13:09:22.177Z"
   },
   {
    "duration": 33,
    "start_time": "2022-09-18T13:09:22.194Z"
   },
   {
    "duration": 193,
    "start_time": "2022-09-18T13:09:22.229Z"
   },
   {
    "duration": 304,
    "start_time": "2022-09-18T13:09:22.425Z"
   },
   {
    "duration": 102,
    "start_time": "2022-09-18T13:09:22.731Z"
   },
   {
    "duration": 4,
    "start_time": "2022-09-18T13:09:22.835Z"
   },
   {
    "duration": 24,
    "start_time": "2022-09-18T13:09:22.840Z"
   },
   {
    "duration": 195,
    "start_time": "2022-09-18T13:09:22.865Z"
   },
   {
    "duration": 2,
    "start_time": "2022-09-18T13:09:23.062Z"
   },
   {
    "duration": 39,
    "start_time": "2022-09-18T13:09:23.066Z"
   },
   {
    "duration": 43,
    "start_time": "2022-09-18T13:09:23.106Z"
   },
   {
    "duration": 15,
    "start_time": "2022-09-18T13:09:23.150Z"
   },
   {
    "duration": 30,
    "start_time": "2022-09-18T13:09:23.166Z"
   },
   {
    "duration": 32,
    "start_time": "2022-09-18T13:09:23.198Z"
   },
   {
    "duration": 12,
    "start_time": "2022-09-18T13:09:23.232Z"
   },
   {
    "duration": 31,
    "start_time": "2022-09-18T13:09:23.246Z"
   },
   {
    "duration": 20854,
    "start_time": "2022-09-18T13:09:23.278Z"
   },
   {
    "duration": 290,
    "start_time": "2022-09-18T13:09:44.133Z"
   },
   {
    "duration": 3,
    "start_time": "2022-09-18T13:09:44.425Z"
   },
   {
    "duration": 23190,
    "start_time": "2022-09-18T13:09:44.432Z"
   },
   {
    "duration": 163,
    "start_time": "2022-09-18T13:10:07.623Z"
   },
   {
    "duration": 3,
    "start_time": "2022-09-18T13:10:07.788Z"
   },
   {
    "duration": 49637,
    "start_time": "2022-09-18T13:10:07.792Z"
   },
   {
    "duration": 369,
    "start_time": "2022-09-18T13:10:57.430Z"
   },
   {
    "duration": 3,
    "start_time": "2022-09-18T13:10:57.800Z"
   },
   {
    "duration": 6,
    "start_time": "2022-09-18T13:10:57.805Z"
   },
   {
    "duration": 18,
    "start_time": "2022-09-18T13:10:57.812Z"
   },
   {
    "duration": 165,
    "start_time": "2022-09-18T13:10:57.831Z"
   },
   {
    "duration": 9,
    "start_time": "2022-09-18T13:10:57.998Z"
   },
   {
    "duration": 38,
    "start_time": "2022-09-18T13:17:26.907Z"
   },
   {
    "duration": 616,
    "start_time": "2022-09-18T13:17:41.372Z"
   },
   {
    "duration": 174228,
    "start_time": "2022-09-18T13:18:06.097Z"
   },
   {
    "duration": 17626,
    "start_time": "2022-09-18T13:22:16.804Z"
   },
   {
    "duration": 17542,
    "start_time": "2022-09-18T13:25:37.309Z"
   },
   {
    "duration": 46,
    "start_time": "2022-09-18T13:31:50.250Z"
   },
   {
    "duration": 3,
    "start_time": "2022-09-18T13:31:56.530Z"
   },
   {
    "duration": 3,
    "start_time": "2022-09-18T13:31:57.764Z"
   },
   {
    "duration": 8,
    "start_time": "2022-09-18T13:31:58.474Z"
   },
   {
    "duration": 12818,
    "start_time": "2022-09-18T13:34:14.092Z"
   },
   {
    "duration": 13231,
    "start_time": "2022-09-18T13:35:28.247Z"
   },
   {
    "duration": 1302,
    "start_time": "2022-09-18T13:36:40.408Z"
   },
   {
    "duration": 849,
    "start_time": "2022-09-18T13:36:41.712Z"
   },
   {
    "duration": 416,
    "start_time": "2022-09-18T13:36:42.562Z"
   },
   {
    "duration": 444,
    "start_time": "2022-09-18T13:36:42.979Z"
   },
   {
    "duration": 412,
    "start_time": "2022-09-18T13:36:43.425Z"
   },
   {
    "duration": 7,
    "start_time": "2022-09-18T13:36:43.839Z"
   },
   {
    "duration": 107,
    "start_time": "2022-09-18T13:36:43.847Z"
   },
   {
    "duration": 43,
    "start_time": "2022-09-18T13:36:43.955Z"
   },
   {
    "duration": 2,
    "start_time": "2022-09-18T13:36:44.000Z"
   },
   {
    "duration": 31,
    "start_time": "2022-09-18T13:36:44.003Z"
   },
   {
    "duration": 2,
    "start_time": "2022-09-18T13:36:44.035Z"
   },
   {
    "duration": 117,
    "start_time": "2022-09-18T13:36:44.039Z"
   },
   {
    "duration": 95,
    "start_time": "2022-09-18T13:36:44.157Z"
   },
   {
    "duration": 102,
    "start_time": "2022-09-18T13:36:44.255Z"
   },
   {
    "duration": 87,
    "start_time": "2022-09-18T13:36:44.359Z"
   },
   {
    "duration": 115,
    "start_time": "2022-09-18T13:36:44.448Z"
   },
   {
    "duration": 57,
    "start_time": "2022-09-18T13:36:44.565Z"
   },
   {
    "duration": 3,
    "start_time": "2022-09-18T13:36:44.623Z"
   },
   {
    "duration": 58,
    "start_time": "2022-09-18T13:36:44.627Z"
   },
   {
    "duration": 47,
    "start_time": "2022-09-18T13:36:44.687Z"
   },
   {
    "duration": 671,
    "start_time": "2022-09-18T13:36:44.736Z"
   },
   {
    "duration": 126,
    "start_time": "2022-09-18T13:36:45.409Z"
   },
   {
    "duration": 5,
    "start_time": "2022-09-18T13:36:45.536Z"
   },
   {
    "duration": 35,
    "start_time": "2022-09-18T13:36:45.543Z"
   },
   {
    "duration": 15,
    "start_time": "2022-09-18T13:36:45.580Z"
   },
   {
    "duration": 37,
    "start_time": "2022-09-18T13:36:45.597Z"
   },
   {
    "duration": 205,
    "start_time": "2022-09-18T13:36:45.636Z"
   },
   {
    "duration": 310,
    "start_time": "2022-09-18T13:36:45.843Z"
   },
   {
    "duration": 102,
    "start_time": "2022-09-18T13:36:46.154Z"
   },
   {
    "duration": 3,
    "start_time": "2022-09-18T13:36:46.258Z"
   },
   {
    "duration": 13,
    "start_time": "2022-09-18T13:36:46.262Z"
   },
   {
    "duration": 182,
    "start_time": "2022-09-18T13:36:46.276Z"
   },
   {
    "duration": 2,
    "start_time": "2022-09-18T13:36:46.460Z"
   },
   {
    "duration": 8,
    "start_time": "2022-09-18T13:36:46.463Z"
   },
   {
    "duration": 5,
    "start_time": "2022-09-18T13:36:46.472Z"
   },
   {
    "duration": 8,
    "start_time": "2022-09-18T13:36:46.478Z"
   },
   {
    "duration": 144759,
    "start_time": "2022-09-18T13:36:46.487Z"
   },
   {
    "duration": 3,
    "start_time": "2022-09-18T13:39:11.247Z"
   },
   {
    "duration": 17690,
    "start_time": "2022-09-18T13:39:11.251Z"
   },
   {
    "duration": 3,
    "start_time": "2022-09-18T13:39:28.943Z"
   },
   {
    "duration": 15191,
    "start_time": "2022-09-18T13:39:28.950Z"
   },
   {
    "duration": 202,
    "start_time": "2022-09-18T13:39:44.223Z"
   },
   {
    "duration": 3,
    "start_time": "2022-09-18T13:39:44.427Z"
   },
   {
    "duration": 23301,
    "start_time": "2022-09-18T13:39:44.432Z"
   },
   {
    "duration": 167,
    "start_time": "2022-09-18T13:40:07.734Z"
   },
   {
    "duration": 3,
    "start_time": "2022-09-18T13:40:07.902Z"
   },
   {
    "duration": 49946,
    "start_time": "2022-09-18T13:40:07.906Z"
   },
   {
    "duration": 372,
    "start_time": "2022-09-18T13:40:57.854Z"
   },
   {
    "duration": 3,
    "start_time": "2022-09-18T13:40:58.228Z"
   },
   {
    "duration": 10,
    "start_time": "2022-09-18T13:40:58.232Z"
   },
   {
    "duration": 15,
    "start_time": "2022-09-18T13:40:58.244Z"
   },
   {
    "duration": 13409,
    "start_time": "2022-09-18T13:40:58.260Z"
   },
   {
    "duration": 213,
    "start_time": "2022-09-19T12:41:49.761Z"
   },
   {
    "duration": 1746,
    "start_time": "2022-09-19T12:42:04.214Z"
   },
   {
    "duration": 3302,
    "start_time": "2022-09-19T12:42:05.962Z"
   },
   {
    "duration": 468,
    "start_time": "2022-09-19T12:42:09.265Z"
   },
   {
    "duration": 496,
    "start_time": "2022-09-19T12:42:09.734Z"
   },
   {
    "duration": 480,
    "start_time": "2022-09-19T12:42:10.232Z"
   },
   {
    "duration": 8,
    "start_time": "2022-09-19T12:42:10.714Z"
   },
   {
    "duration": 129,
    "start_time": "2022-09-19T12:42:10.724Z"
   },
   {
    "duration": 50,
    "start_time": "2022-09-19T12:42:10.854Z"
   },
   {
    "duration": 2,
    "start_time": "2022-09-19T12:42:10.906Z"
   },
   {
    "duration": 26,
    "start_time": "2022-09-19T12:42:10.909Z"
   },
   {
    "duration": 15,
    "start_time": "2022-09-19T12:42:10.936Z"
   },
   {
    "duration": 125,
    "start_time": "2022-09-19T12:42:10.953Z"
   },
   {
    "duration": 109,
    "start_time": "2022-09-19T12:42:11.080Z"
   },
   {
    "duration": 116,
    "start_time": "2022-09-19T12:42:11.192Z"
   },
   {
    "duration": 100,
    "start_time": "2022-09-19T12:42:11.310Z"
   },
   {
    "duration": 125,
    "start_time": "2022-09-19T12:42:11.412Z"
   },
   {
    "duration": 76,
    "start_time": "2022-09-19T12:42:11.539Z"
   },
   {
    "duration": 2,
    "start_time": "2022-09-19T12:42:11.617Z"
   },
   {
    "duration": 85,
    "start_time": "2022-09-19T12:42:11.621Z"
   },
   {
    "duration": 44,
    "start_time": "2022-09-19T12:42:11.708Z"
   },
   {
    "duration": 999,
    "start_time": "2022-09-19T12:42:11.754Z"
   },
   {
    "duration": 163,
    "start_time": "2022-09-19T12:42:12.755Z"
   },
   {
    "duration": 5,
    "start_time": "2022-09-19T12:42:12.920Z"
   },
   {
    "duration": 44,
    "start_time": "2022-09-19T12:42:12.927Z"
   },
   {
    "duration": 32,
    "start_time": "2022-09-19T12:42:12.973Z"
   },
   {
    "duration": 22,
    "start_time": "2022-09-19T12:42:13.007Z"
   },
   {
    "duration": 309,
    "start_time": "2022-09-19T12:42:13.031Z"
   },
   {
    "duration": 354,
    "start_time": "2022-09-19T12:42:13.342Z"
   },
   {
    "duration": 132,
    "start_time": "2022-09-19T12:42:13.698Z"
   },
   {
    "duration": 3,
    "start_time": "2022-09-19T12:42:13.832Z"
   },
   {
    "duration": 7,
    "start_time": "2022-09-19T12:42:13.837Z"
   },
   {
    "duration": 230,
    "start_time": "2022-09-19T12:42:13.846Z"
   },
   {
    "duration": 2,
    "start_time": "2022-09-19T12:42:14.078Z"
   },
   {
    "duration": 6,
    "start_time": "2022-09-19T12:42:14.082Z"
   },
   {
    "duration": 9,
    "start_time": "2022-09-19T12:42:14.089Z"
   },
   {
    "duration": 7,
    "start_time": "2022-09-19T12:42:14.100Z"
   },
   {
    "duration": 145610,
    "start_time": "2022-09-19T12:42:14.108Z"
   },
   {
    "duration": 78,
    "start_time": "2022-09-19T12:44:39.719Z"
   },
   {
    "duration": 17145,
    "start_time": "2022-09-19T12:44:39.799Z"
   },
   {
    "duration": 3,
    "start_time": "2022-09-19T12:44:56.996Z"
   },
   {
    "duration": 17291,
    "start_time": "2022-09-19T12:44:57.005Z"
   },
   {
    "duration": 127,
    "start_time": "2022-09-19T12:45:14.298Z"
   },
   {
    "duration": 4,
    "start_time": "2022-09-19T12:45:14.502Z"
   },
   {
    "duration": 24938,
    "start_time": "2022-09-19T12:45:14.596Z"
   },
   {
    "duration": 186,
    "start_time": "2022-09-19T12:45:39.536Z"
   },
   {
    "duration": 4,
    "start_time": "2022-09-19T12:45:39.724Z"
   },
   {
    "duration": 56284,
    "start_time": "2022-09-19T12:45:39.729Z"
   },
   {
    "duration": 405,
    "start_time": "2022-09-19T12:46:36.014Z"
   },
   {
    "duration": 4,
    "start_time": "2022-09-19T12:46:36.420Z"
   },
   {
    "duration": 6,
    "start_time": "2022-09-19T12:46:36.426Z"
   },
   {
    "duration": 14,
    "start_time": "2022-09-19T12:46:36.433Z"
   },
   {
    "duration": 412,
    "start_time": "2022-09-19T12:46:36.449Z"
   }
  ],
  "kernelspec": {
   "display_name": "Python 3 (ipykernel)",
   "language": "python",
   "name": "python3"
  },
  "language_info": {
   "codemirror_mode": {
    "name": "ipython",
    "version": 3
   },
   "file_extension": ".py",
   "mimetype": "text/x-python",
   "name": "python",
   "nbconvert_exporter": "python",
   "pygments_lexer": "ipython3",
   "version": "3.9.5"
  },
  "toc": {
   "base_numbering": 1,
   "nav_menu": {},
   "number_sections": true,
   "sideBar": true,
   "skip_h1_title": true,
   "title_cell": "Table of Contents",
   "title_sidebar": "Contents",
   "toc_cell": false,
   "toc_position": {
    "height": "calc(100% - 180px)",
    "left": "10px",
    "top": "150px",
    "width": "165px"
   },
   "toc_section_display": true,
   "toc_window_display": true
  }
 },
 "nbformat": 4,
 "nbformat_minor": 2
}
