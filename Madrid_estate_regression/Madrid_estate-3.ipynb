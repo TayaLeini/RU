{
  "nbformat": 4,
  "nbformat_minor": 0,
  "metadata": {
    "colab": {
      "provenance": []
    },
    "kernelspec": {
      "name": "python3",
      "display_name": "Python 3"
    },
    "language_info": {
      "name": "python"
    }
  },
  "cells": [
    {
      "cell_type": "markdown",
      "source": [
        "#Описание данных\n",
        "\n",
        "Набор данных состоит из списка популярных порталов недвижимости Мадрида с объектами недвижимости.\n",
        "\n",
        "МЕСТО НАХОЖДЕНИЯ\n",
        "Мадрид — один из самых посещаемых городов Европы как туристами, так и бизнесменами, здесь расположены штаб-квартиры многих крупных местных и транснациональных компаний. Поэтому Мадрид пользуется большим притоком как туристов, так и людей, стремящихся жить и работать в городе, чтобы повысить свою профессиональную карьеру.\n",
        "\n",
        "ПРИВЛЕКАТЕЛЬНЫЕ ЦЕНЫ\n",
        "Рынок недвижимости уже несколько лет находится в стадии роста, а это означает, что вы все еще можете найти объекты по очень привлекательным ценам (особенно по сравнению с другими европейскими столицами), но с хорошими шансами на повышение их стоимости в будущем.\n",
        "\n",
        "ТИПЫ ДОМОВ\n",
        "Индивидуальные дома не распространены в центре города, но есть в пригородах. В Мадриде также есть как новостройки, так и существующие квартиры. Цены на недвижимость в столицах, как правило, самые высокие в стране, но не в Испании. Стоимость недвижимости в Мадриде значительно ниже, чем в Барселоне и прибрежных районах."
      ],
      "metadata": {
        "id": "IeeF230GtumG"
      }
    },
    {
      "cell_type": "markdown",
      "source": [
        "#Подготовка данных"
      ],
      "metadata": {
        "id": "9yK1QGlLt5as"
      }
    },
    {
      "cell_type": "code",
      "source": [
        "!pip install --quiet shap\n",
        "!pip install --quiet catboost"
      ],
      "metadata": {
        "colab": {
          "base_uri": "https://localhost:8080/"
        },
        "id": "Pu_lU1jhGbd4",
        "outputId": "09aaccca-3bfa-4361-e460-761f1e1d36c3"
      },
      "execution_count": 1,
      "outputs": [
        {
          "output_type": "stream",
          "name": "stdout",
          "text": [
            "\u001b[2K     \u001b[90m━━━━━━━━━━━━━━━━━━━━━━━━━━━━━━━━━━━━━━\u001b[0m \u001b[32m575.9/575.9 KB\u001b[0m \u001b[31m19.1 MB/s\u001b[0m eta \u001b[36m0:00:00\u001b[0m\n",
            "\u001b[2K     \u001b[90m━━━━━━━━━━━━━━━━━━━━━━━━━━━━━━━━━━━━━━━━\u001b[0m \u001b[32m76.6/76.6 MB\u001b[0m \u001b[31m11.0 MB/s\u001b[0m eta \u001b[36m0:00:00\u001b[0m\n",
            "\u001b[?25h"
          ]
        }
      ]
    },
    {
      "cell_type": "code",
      "source": [
        "import matplotlib.pyplot as plt\n",
        "import pandas as pd\n",
        "import plotly.express as px\n",
        "import plotly.graph_objects as go\n",
        "import seaborn as sns\n",
        "import xgboost as xgb\n",
        "from catboost import CatBoostRegressor\n",
        "from lightgbm import LGBMRegressor\n",
        "from mlxtend.regressor import StackingRegressor\n",
        "from sklearn.ensemble import GradientBoostingRegressor\n",
        "from sklearn.ensemble import RandomForestRegressor\n",
        "from sklearn.linear_model import LinearRegression, BayesianRidge\n",
        "from sklearn.metrics import mean_absolute_error\n",
        "from sklearn.metrics import mean_squared_error, mean_absolute_error, mean_squared_log_error\n",
        "from sklearn.model_selection import KFold, cross_val_score\n",
        "from sklearn.model_selection import RepeatedKFold\n",
        "from sklearn.model_selection import train_test_split\n",
        "from sklearn.naive_bayes import GaussianNB\n",
        "from sklearn.preprocessing import OrdinalEncoder\n",
        "from sklearn.tree import DecisionTreeRegressor"
      ],
      "metadata": {
        "id": "b7i5efujlbx5"
      },
      "execution_count": 2,
      "outputs": []
    },
    {
      "cell_type": "code",
      "execution_count": 3,
      "metadata": {
        "colab": {
          "base_uri": "https://localhost:8080/"
        },
        "id": "lLnafOmtk_M2",
        "outputId": "28956a34-1f99-4e78-9da7-a8288bab29c0"
      },
      "outputs": [
        {
          "output_type": "stream",
          "name": "stdout",
          "text": [
            "Mounted at /content/gdrive\n"
          ]
        }
      ],
      "source": [
        "from google.colab import drive\n",
        "drive.mount('/content/gdrive')"
      ]
    },
    {
      "cell_type": "code",
      "source": [
        "df = pd.read_csv('/content/gdrive/MyDrive/Colab Notebooks/houses_Madrid.csv')"
      ],
      "metadata": {
        "id": "By8ouVJ7lW_-"
      },
      "execution_count": 4,
      "outputs": []
    },
    {
      "cell_type": "code",
      "source": [
        "pd.set_option('display.max_columns', None)"
      ],
      "metadata": {
        "id": "GOmuHlAzllp1"
      },
      "execution_count": 5,
      "outputs": []
    },
    {
      "cell_type": "code",
      "source": [
        "df.head(5)"
      ],
      "metadata": {
        "colab": {
          "base_uri": "https://localhost:8080/",
          "height": 642
        },
        "id": "E1ncdnwrl6cH",
        "outputId": "245aa233-9689-45d2-a614-aac321386b52"
      },
      "execution_count": 6,
      "outputs": [
        {
          "output_type": "execute_result",
          "data": {
            "text/plain": [
              "   Unnamed: 0     id                                              title  \\\n",
              "0           0  21742              Piso en venta en calle de Godella, 64   \n",
              "1           1  21741   Piso en venta en calle de la del Manojo de Rosas   \n",
              "2           2  21740               Piso en venta en calle del Talco, 68   \n",
              "3           3  21739               Piso en venta en calle Pedro Jiménez   \n",
              "4           4  21738  Piso en venta en carretera de Villaverde a Val...   \n",
              "\n",
              "                subtitle  sq_mt_built  sq_mt_useful  n_rooms  n_bathrooms  \\\n",
              "0  San Cristóbal, Madrid         64.0          60.0        2          1.0   \n",
              "1    Los Ángeles, Madrid         70.0           NaN        3          1.0   \n",
              "2     San Andrés, Madrid         94.0          54.0        2          2.0   \n",
              "3     San Andrés, Madrid         64.0           NaN        2          1.0   \n",
              "4    Los Rosales, Madrid        108.0          90.0        2          2.0   \n",
              "\n",
              "   n_floors  sq_mt_allotment  latitude  longitude  \\\n",
              "0       NaN              NaN       NaN        NaN   \n",
              "1       NaN              NaN       NaN        NaN   \n",
              "2       NaN              NaN       NaN        NaN   \n",
              "3       NaN              NaN       NaN        NaN   \n",
              "4       NaN              NaN       NaN        NaN   \n",
              "\n",
              "                          raw_address  is_exact_address_hidden  \\\n",
              "0                Calle de Godella, 64                    False   \n",
              "1     Calle de la del Manojo de Rosas                     True   \n",
              "2                 Calle del Talco, 68                    False   \n",
              "3                 Calle Pedro Jiménez                     True   \n",
              "4  Carretera de Villaverde a Vallecas                     True   \n",
              "\n",
              "                          street_name street_number  portal floor  \\\n",
              "0                    Calle de Godella            64     NaN     3   \n",
              "1     Calle de la del Manojo de Rosas           NaN     NaN     4   \n",
              "2                     Calle del Talco            68     NaN     1   \n",
              "3                 Calle Pedro Jiménez           NaN     NaN  Bajo   \n",
              "4  Carretera de Villaverde a Vallecas           NaN     NaN     4   \n",
              "\n",
              "  is_floor_under  door                                    neighborhood_id  \\\n",
              "0          False   NaN  Neighborhood 135: San Cristóbal (1308.89 €/m2)...   \n",
              "1          False   NaN  Neighborhood 132: Los Ángeles (1796.68 €/m2) -...   \n",
              "2          False   NaN  Neighborhood 134: San Andrés (1617.18 €/m2) - ...   \n",
              "3           True   NaN  Neighborhood 134: San Andrés (1617.18 €/m2) - ...   \n",
              "4          False   NaN  Neighborhood 133: Los Rosales (1827.79 €/m2) -...   \n",
              "\n",
              "  operation  rent_price  rent_price_by_area  is_rent_price_known  buy_price  \\\n",
              "0      sale         471                 NaN                False      85000   \n",
              "1      sale         666                 NaN                False     129900   \n",
              "2      sale         722                 NaN                False     144247   \n",
              "3      sale         583                 NaN                False     109900   \n",
              "4      sale        1094                 NaN                False     260000   \n",
              "\n",
              "   buy_price_by_area  is_buy_price_known       house_type_id  \\\n",
              "0               1328                True  HouseType 1: Pisos   \n",
              "1               1856                True  HouseType 1: Pisos   \n",
              "2               1535                True  HouseType 1: Pisos   \n",
              "3               1717                True  HouseType 1: Pisos   \n",
              "4               2407                True  HouseType 1: Pisos   \n",
              "\n",
              "   is_renewal_needed is_new_development  built_year has_central_heating  \\\n",
              "0              False              False      1960.0                 NaN   \n",
              "1               True              False         NaN                 NaN   \n",
              "2              False              False         NaN               False   \n",
              "3              False              False      1955.0                 NaN   \n",
              "4              False              False      2003.0                 NaN   \n",
              "\n",
              "  has_individual_heating  are_pets_allowed has_ac has_fitted_wardrobes  \\\n",
              "0                    NaN               NaN   True                  NaN   \n",
              "1                    NaN               NaN    NaN                 True   \n",
              "2                   True               NaN    NaN                 True   \n",
              "3                    NaN               NaN    NaN                  NaN   \n",
              "4                    NaN               NaN   True                 True   \n",
              "\n",
              "  has_lift is_exterior has_garden has_pool has_terrace has_balcony  \\\n",
              "0    False        True        NaN      NaN         NaN         NaN   \n",
              "1     True        True        NaN      NaN        True         NaN   \n",
              "2     True        True        NaN      NaN         NaN         NaN   \n",
              "3     True        True        NaN      NaN         NaN         NaN   \n",
              "4     True        True        NaN     True         NaN         NaN   \n",
              "\n",
              "  has_storage_room  is_furnished  is_kitchen_equipped is_accessible  \\\n",
              "0              NaN           NaN                  NaN           NaN   \n",
              "1              NaN           NaN                  NaN           NaN   \n",
              "2             True           NaN                  NaN           NaN   \n",
              "3             True           NaN                  NaN          True   \n",
              "4             True           NaN                  NaN           NaN   \n",
              "\n",
              "  has_green_zones energy_certificate  has_parking  has_private_parking  \\\n",
              "0             NaN                  D        False                  NaN   \n",
              "1             NaN         en trámite        False                  NaN   \n",
              "2             NaN        no indicado        False                  NaN   \n",
              "3             NaN         en trámite        False                  NaN   \n",
              "4            True         en trámite         True                  NaN   \n",
              "\n",
              "   has_public_parking is_parking_included_in_price  parking_price  \\\n",
              "0                 NaN                          NaN            NaN   \n",
              "1                 NaN                          NaN            NaN   \n",
              "2                 NaN                          NaN            NaN   \n",
              "3                 NaN                          NaN            NaN   \n",
              "4                 NaN                         True            0.0   \n",
              "\n",
              "  is_orientation_north is_orientation_west is_orientation_south  \\\n",
              "0                False                True                False   \n",
              "1                  NaN                 NaN                  NaN   \n",
              "2                  NaN                 NaN                  NaN   \n",
              "3                False               False                 True   \n",
              "4                 True                True                 True   \n",
              "\n",
              "  is_orientation_east  \n",
              "0               False  \n",
              "1                 NaN  \n",
              "2                 NaN  \n",
              "3               False  \n",
              "4                True  "
            ],
            "text/html": [
              "\n",
              "  <div id=\"df-f13e32a3-a46b-4c27-955a-532d5f8184a6\">\n",
              "    <div class=\"colab-df-container\">\n",
              "      <div>\n",
              "<style scoped>\n",
              "    .dataframe tbody tr th:only-of-type {\n",
              "        vertical-align: middle;\n",
              "    }\n",
              "\n",
              "    .dataframe tbody tr th {\n",
              "        vertical-align: top;\n",
              "    }\n",
              "\n",
              "    .dataframe thead th {\n",
              "        text-align: right;\n",
              "    }\n",
              "</style>\n",
              "<table border=\"1\" class=\"dataframe\">\n",
              "  <thead>\n",
              "    <tr style=\"text-align: right;\">\n",
              "      <th></th>\n",
              "      <th>Unnamed: 0</th>\n",
              "      <th>id</th>\n",
              "      <th>title</th>\n",
              "      <th>subtitle</th>\n",
              "      <th>sq_mt_built</th>\n",
              "      <th>sq_mt_useful</th>\n",
              "      <th>n_rooms</th>\n",
              "      <th>n_bathrooms</th>\n",
              "      <th>n_floors</th>\n",
              "      <th>sq_mt_allotment</th>\n",
              "      <th>latitude</th>\n",
              "      <th>longitude</th>\n",
              "      <th>raw_address</th>\n",
              "      <th>is_exact_address_hidden</th>\n",
              "      <th>street_name</th>\n",
              "      <th>street_number</th>\n",
              "      <th>portal</th>\n",
              "      <th>floor</th>\n",
              "      <th>is_floor_under</th>\n",
              "      <th>door</th>\n",
              "      <th>neighborhood_id</th>\n",
              "      <th>operation</th>\n",
              "      <th>rent_price</th>\n",
              "      <th>rent_price_by_area</th>\n",
              "      <th>is_rent_price_known</th>\n",
              "      <th>buy_price</th>\n",
              "      <th>buy_price_by_area</th>\n",
              "      <th>is_buy_price_known</th>\n",
              "      <th>house_type_id</th>\n",
              "      <th>is_renewal_needed</th>\n",
              "      <th>is_new_development</th>\n",
              "      <th>built_year</th>\n",
              "      <th>has_central_heating</th>\n",
              "      <th>has_individual_heating</th>\n",
              "      <th>are_pets_allowed</th>\n",
              "      <th>has_ac</th>\n",
              "      <th>has_fitted_wardrobes</th>\n",
              "      <th>has_lift</th>\n",
              "      <th>is_exterior</th>\n",
              "      <th>has_garden</th>\n",
              "      <th>has_pool</th>\n",
              "      <th>has_terrace</th>\n",
              "      <th>has_balcony</th>\n",
              "      <th>has_storage_room</th>\n",
              "      <th>is_furnished</th>\n",
              "      <th>is_kitchen_equipped</th>\n",
              "      <th>is_accessible</th>\n",
              "      <th>has_green_zones</th>\n",
              "      <th>energy_certificate</th>\n",
              "      <th>has_parking</th>\n",
              "      <th>has_private_parking</th>\n",
              "      <th>has_public_parking</th>\n",
              "      <th>is_parking_included_in_price</th>\n",
              "      <th>parking_price</th>\n",
              "      <th>is_orientation_north</th>\n",
              "      <th>is_orientation_west</th>\n",
              "      <th>is_orientation_south</th>\n",
              "      <th>is_orientation_east</th>\n",
              "    </tr>\n",
              "  </thead>\n",
              "  <tbody>\n",
              "    <tr>\n",
              "      <th>0</th>\n",
              "      <td>0</td>\n",
              "      <td>21742</td>\n",
              "      <td>Piso en venta en calle de Godella, 64</td>\n",
              "      <td>San Cristóbal, Madrid</td>\n",
              "      <td>64.0</td>\n",
              "      <td>60.0</td>\n",
              "      <td>2</td>\n",
              "      <td>1.0</td>\n",
              "      <td>NaN</td>\n",
              "      <td>NaN</td>\n",
              "      <td>NaN</td>\n",
              "      <td>NaN</td>\n",
              "      <td>Calle de Godella, 64</td>\n",
              "      <td>False</td>\n",
              "      <td>Calle de Godella</td>\n",
              "      <td>64</td>\n",
              "      <td>NaN</td>\n",
              "      <td>3</td>\n",
              "      <td>False</td>\n",
              "      <td>NaN</td>\n",
              "      <td>Neighborhood 135: San Cristóbal (1308.89 €/m2)...</td>\n",
              "      <td>sale</td>\n",
              "      <td>471</td>\n",
              "      <td>NaN</td>\n",
              "      <td>False</td>\n",
              "      <td>85000</td>\n",
              "      <td>1328</td>\n",
              "      <td>True</td>\n",
              "      <td>HouseType 1: Pisos</td>\n",
              "      <td>False</td>\n",
              "      <td>False</td>\n",
              "      <td>1960.0</td>\n",
              "      <td>NaN</td>\n",
              "      <td>NaN</td>\n",
              "      <td>NaN</td>\n",
              "      <td>True</td>\n",
              "      <td>NaN</td>\n",
              "      <td>False</td>\n",
              "      <td>True</td>\n",
              "      <td>NaN</td>\n",
              "      <td>NaN</td>\n",
              "      <td>NaN</td>\n",
              "      <td>NaN</td>\n",
              "      <td>NaN</td>\n",
              "      <td>NaN</td>\n",
              "      <td>NaN</td>\n",
              "      <td>NaN</td>\n",
              "      <td>NaN</td>\n",
              "      <td>D</td>\n",
              "      <td>False</td>\n",
              "      <td>NaN</td>\n",
              "      <td>NaN</td>\n",
              "      <td>NaN</td>\n",
              "      <td>NaN</td>\n",
              "      <td>False</td>\n",
              "      <td>True</td>\n",
              "      <td>False</td>\n",
              "      <td>False</td>\n",
              "    </tr>\n",
              "    <tr>\n",
              "      <th>1</th>\n",
              "      <td>1</td>\n",
              "      <td>21741</td>\n",
              "      <td>Piso en venta en calle de la del Manojo de Rosas</td>\n",
              "      <td>Los Ángeles, Madrid</td>\n",
              "      <td>70.0</td>\n",
              "      <td>NaN</td>\n",
              "      <td>3</td>\n",
              "      <td>1.0</td>\n",
              "      <td>NaN</td>\n",
              "      <td>NaN</td>\n",
              "      <td>NaN</td>\n",
              "      <td>NaN</td>\n",
              "      <td>Calle de la del Manojo de Rosas</td>\n",
              "      <td>True</td>\n",
              "      <td>Calle de la del Manojo de Rosas</td>\n",
              "      <td>NaN</td>\n",
              "      <td>NaN</td>\n",
              "      <td>4</td>\n",
              "      <td>False</td>\n",
              "      <td>NaN</td>\n",
              "      <td>Neighborhood 132: Los Ángeles (1796.68 €/m2) -...</td>\n",
              "      <td>sale</td>\n",
              "      <td>666</td>\n",
              "      <td>NaN</td>\n",
              "      <td>False</td>\n",
              "      <td>129900</td>\n",
              "      <td>1856</td>\n",
              "      <td>True</td>\n",
              "      <td>HouseType 1: Pisos</td>\n",
              "      <td>True</td>\n",
              "      <td>False</td>\n",
              "      <td>NaN</td>\n",
              "      <td>NaN</td>\n",
              "      <td>NaN</td>\n",
              "      <td>NaN</td>\n",
              "      <td>NaN</td>\n",
              "      <td>True</td>\n",
              "      <td>True</td>\n",
              "      <td>True</td>\n",
              "      <td>NaN</td>\n",
              "      <td>NaN</td>\n",
              "      <td>True</td>\n",
              "      <td>NaN</td>\n",
              "      <td>NaN</td>\n",
              "      <td>NaN</td>\n",
              "      <td>NaN</td>\n",
              "      <td>NaN</td>\n",
              "      <td>NaN</td>\n",
              "      <td>en trámite</td>\n",
              "      <td>False</td>\n",
              "      <td>NaN</td>\n",
              "      <td>NaN</td>\n",
              "      <td>NaN</td>\n",
              "      <td>NaN</td>\n",
              "      <td>NaN</td>\n",
              "      <td>NaN</td>\n",
              "      <td>NaN</td>\n",
              "      <td>NaN</td>\n",
              "    </tr>\n",
              "    <tr>\n",
              "      <th>2</th>\n",
              "      <td>2</td>\n",
              "      <td>21740</td>\n",
              "      <td>Piso en venta en calle del Talco, 68</td>\n",
              "      <td>San Andrés, Madrid</td>\n",
              "      <td>94.0</td>\n",
              "      <td>54.0</td>\n",
              "      <td>2</td>\n",
              "      <td>2.0</td>\n",
              "      <td>NaN</td>\n",
              "      <td>NaN</td>\n",
              "      <td>NaN</td>\n",
              "      <td>NaN</td>\n",
              "      <td>Calle del Talco, 68</td>\n",
              "      <td>False</td>\n",
              "      <td>Calle del Talco</td>\n",
              "      <td>68</td>\n",
              "      <td>NaN</td>\n",
              "      <td>1</td>\n",
              "      <td>False</td>\n",
              "      <td>NaN</td>\n",
              "      <td>Neighborhood 134: San Andrés (1617.18 €/m2) - ...</td>\n",
              "      <td>sale</td>\n",
              "      <td>722</td>\n",
              "      <td>NaN</td>\n",
              "      <td>False</td>\n",
              "      <td>144247</td>\n",
              "      <td>1535</td>\n",
              "      <td>True</td>\n",
              "      <td>HouseType 1: Pisos</td>\n",
              "      <td>False</td>\n",
              "      <td>False</td>\n",
              "      <td>NaN</td>\n",
              "      <td>False</td>\n",
              "      <td>True</td>\n",
              "      <td>NaN</td>\n",
              "      <td>NaN</td>\n",
              "      <td>True</td>\n",
              "      <td>True</td>\n",
              "      <td>True</td>\n",
              "      <td>NaN</td>\n",
              "      <td>NaN</td>\n",
              "      <td>NaN</td>\n",
              "      <td>NaN</td>\n",
              "      <td>True</td>\n",
              "      <td>NaN</td>\n",
              "      <td>NaN</td>\n",
              "      <td>NaN</td>\n",
              "      <td>NaN</td>\n",
              "      <td>no indicado</td>\n",
              "      <td>False</td>\n",
              "      <td>NaN</td>\n",
              "      <td>NaN</td>\n",
              "      <td>NaN</td>\n",
              "      <td>NaN</td>\n",
              "      <td>NaN</td>\n",
              "      <td>NaN</td>\n",
              "      <td>NaN</td>\n",
              "      <td>NaN</td>\n",
              "    </tr>\n",
              "    <tr>\n",
              "      <th>3</th>\n",
              "      <td>3</td>\n",
              "      <td>21739</td>\n",
              "      <td>Piso en venta en calle Pedro Jiménez</td>\n",
              "      <td>San Andrés, Madrid</td>\n",
              "      <td>64.0</td>\n",
              "      <td>NaN</td>\n",
              "      <td>2</td>\n",
              "      <td>1.0</td>\n",
              "      <td>NaN</td>\n",
              "      <td>NaN</td>\n",
              "      <td>NaN</td>\n",
              "      <td>NaN</td>\n",
              "      <td>Calle Pedro Jiménez</td>\n",
              "      <td>True</td>\n",
              "      <td>Calle Pedro Jiménez</td>\n",
              "      <td>NaN</td>\n",
              "      <td>NaN</td>\n",
              "      <td>Bajo</td>\n",
              "      <td>True</td>\n",
              "      <td>NaN</td>\n",
              "      <td>Neighborhood 134: San Andrés (1617.18 €/m2) - ...</td>\n",
              "      <td>sale</td>\n",
              "      <td>583</td>\n",
              "      <td>NaN</td>\n",
              "      <td>False</td>\n",
              "      <td>109900</td>\n",
              "      <td>1717</td>\n",
              "      <td>True</td>\n",
              "      <td>HouseType 1: Pisos</td>\n",
              "      <td>False</td>\n",
              "      <td>False</td>\n",
              "      <td>1955.0</td>\n",
              "      <td>NaN</td>\n",
              "      <td>NaN</td>\n",
              "      <td>NaN</td>\n",
              "      <td>NaN</td>\n",
              "      <td>NaN</td>\n",
              "      <td>True</td>\n",
              "      <td>True</td>\n",
              "      <td>NaN</td>\n",
              "      <td>NaN</td>\n",
              "      <td>NaN</td>\n",
              "      <td>NaN</td>\n",
              "      <td>True</td>\n",
              "      <td>NaN</td>\n",
              "      <td>NaN</td>\n",
              "      <td>True</td>\n",
              "      <td>NaN</td>\n",
              "      <td>en trámite</td>\n",
              "      <td>False</td>\n",
              "      <td>NaN</td>\n",
              "      <td>NaN</td>\n",
              "      <td>NaN</td>\n",
              "      <td>NaN</td>\n",
              "      <td>False</td>\n",
              "      <td>False</td>\n",
              "      <td>True</td>\n",
              "      <td>False</td>\n",
              "    </tr>\n",
              "    <tr>\n",
              "      <th>4</th>\n",
              "      <td>4</td>\n",
              "      <td>21738</td>\n",
              "      <td>Piso en venta en carretera de Villaverde a Val...</td>\n",
              "      <td>Los Rosales, Madrid</td>\n",
              "      <td>108.0</td>\n",
              "      <td>90.0</td>\n",
              "      <td>2</td>\n",
              "      <td>2.0</td>\n",
              "      <td>NaN</td>\n",
              "      <td>NaN</td>\n",
              "      <td>NaN</td>\n",
              "      <td>NaN</td>\n",
              "      <td>Carretera de Villaverde a Vallecas</td>\n",
              "      <td>True</td>\n",
              "      <td>Carretera de Villaverde a Vallecas</td>\n",
              "      <td>NaN</td>\n",
              "      <td>NaN</td>\n",
              "      <td>4</td>\n",
              "      <td>False</td>\n",
              "      <td>NaN</td>\n",
              "      <td>Neighborhood 133: Los Rosales (1827.79 €/m2) -...</td>\n",
              "      <td>sale</td>\n",
              "      <td>1094</td>\n",
              "      <td>NaN</td>\n",
              "      <td>False</td>\n",
              "      <td>260000</td>\n",
              "      <td>2407</td>\n",
              "      <td>True</td>\n",
              "      <td>HouseType 1: Pisos</td>\n",
              "      <td>False</td>\n",
              "      <td>False</td>\n",
              "      <td>2003.0</td>\n",
              "      <td>NaN</td>\n",
              "      <td>NaN</td>\n",
              "      <td>NaN</td>\n",
              "      <td>True</td>\n",
              "      <td>True</td>\n",
              "      <td>True</td>\n",
              "      <td>True</td>\n",
              "      <td>NaN</td>\n",
              "      <td>True</td>\n",
              "      <td>NaN</td>\n",
              "      <td>NaN</td>\n",
              "      <td>True</td>\n",
              "      <td>NaN</td>\n",
              "      <td>NaN</td>\n",
              "      <td>NaN</td>\n",
              "      <td>True</td>\n",
              "      <td>en trámite</td>\n",
              "      <td>True</td>\n",
              "      <td>NaN</td>\n",
              "      <td>NaN</td>\n",
              "      <td>True</td>\n",
              "      <td>0.0</td>\n",
              "      <td>True</td>\n",
              "      <td>True</td>\n",
              "      <td>True</td>\n",
              "      <td>True</td>\n",
              "    </tr>\n",
              "  </tbody>\n",
              "</table>\n",
              "</div>\n",
              "      <button class=\"colab-df-convert\" onclick=\"convertToInteractive('df-f13e32a3-a46b-4c27-955a-532d5f8184a6')\"\n",
              "              title=\"Convert this dataframe to an interactive table.\"\n",
              "              style=\"display:none;\">\n",
              "        \n",
              "  <svg xmlns=\"http://www.w3.org/2000/svg\" height=\"24px\"viewBox=\"0 0 24 24\"\n",
              "       width=\"24px\">\n",
              "    <path d=\"M0 0h24v24H0V0z\" fill=\"none\"/>\n",
              "    <path d=\"M18.56 5.44l.94 2.06.94-2.06 2.06-.94-2.06-.94-.94-2.06-.94 2.06-2.06.94zm-11 1L8.5 8.5l.94-2.06 2.06-.94-2.06-.94L8.5 2.5l-.94 2.06-2.06.94zm10 10l.94 2.06.94-2.06 2.06-.94-2.06-.94-.94-2.06-.94 2.06-2.06.94z\"/><path d=\"M17.41 7.96l-1.37-1.37c-.4-.4-.92-.59-1.43-.59-.52 0-1.04.2-1.43.59L10.3 9.45l-7.72 7.72c-.78.78-.78 2.05 0 2.83L4 21.41c.39.39.9.59 1.41.59.51 0 1.02-.2 1.41-.59l7.78-7.78 2.81-2.81c.8-.78.8-2.07 0-2.86zM5.41 20L4 18.59l7.72-7.72 1.47 1.35L5.41 20z\"/>\n",
              "  </svg>\n",
              "      </button>\n",
              "      \n",
              "  <style>\n",
              "    .colab-df-container {\n",
              "      display:flex;\n",
              "      flex-wrap:wrap;\n",
              "      gap: 12px;\n",
              "    }\n",
              "\n",
              "    .colab-df-convert {\n",
              "      background-color: #E8F0FE;\n",
              "      border: none;\n",
              "      border-radius: 50%;\n",
              "      cursor: pointer;\n",
              "      display: none;\n",
              "      fill: #1967D2;\n",
              "      height: 32px;\n",
              "      padding: 0 0 0 0;\n",
              "      width: 32px;\n",
              "    }\n",
              "\n",
              "    .colab-df-convert:hover {\n",
              "      background-color: #E2EBFA;\n",
              "      box-shadow: 0px 1px 2px rgba(60, 64, 67, 0.3), 0px 1px 3px 1px rgba(60, 64, 67, 0.15);\n",
              "      fill: #174EA6;\n",
              "    }\n",
              "\n",
              "    [theme=dark] .colab-df-convert {\n",
              "      background-color: #3B4455;\n",
              "      fill: #D2E3FC;\n",
              "    }\n",
              "\n",
              "    [theme=dark] .colab-df-convert:hover {\n",
              "      background-color: #434B5C;\n",
              "      box-shadow: 0px 1px 3px 1px rgba(0, 0, 0, 0.15);\n",
              "      filter: drop-shadow(0px 1px 2px rgba(0, 0, 0, 0.3));\n",
              "      fill: #FFFFFF;\n",
              "    }\n",
              "  </style>\n",
              "\n",
              "      <script>\n",
              "        const buttonEl =\n",
              "          document.querySelector('#df-f13e32a3-a46b-4c27-955a-532d5f8184a6 button.colab-df-convert');\n",
              "        buttonEl.style.display =\n",
              "          google.colab.kernel.accessAllowed ? 'block' : 'none';\n",
              "\n",
              "        async function convertToInteractive(key) {\n",
              "          const element = document.querySelector('#df-f13e32a3-a46b-4c27-955a-532d5f8184a6');\n",
              "          const dataTable =\n",
              "            await google.colab.kernel.invokeFunction('convertToInteractive',\n",
              "                                                     [key], {});\n",
              "          if (!dataTable) return;\n",
              "\n",
              "          const docLinkHtml = 'Like what you see? Visit the ' +\n",
              "            '<a target=\"_blank\" href=https://colab.research.google.com/notebooks/data_table.ipynb>data table notebook</a>'\n",
              "            + ' to learn more about interactive tables.';\n",
              "          element.innerHTML = '';\n",
              "          dataTable['output_type'] = 'display_data';\n",
              "          await google.colab.output.renderOutput(dataTable, element);\n",
              "          const docLink = document.createElement('div');\n",
              "          docLink.innerHTML = docLinkHtml;\n",
              "          element.appendChild(docLink);\n",
              "        }\n",
              "      </script>\n",
              "    </div>\n",
              "  </div>\n",
              "  "
            ]
          },
          "metadata": {},
          "execution_count": 6
        }
      ]
    },
    {
      "cell_type": "markdown",
      "source": [
        "#Удаляем не нужные признаки:"
      ],
      "metadata": {
        "id": "yiv68YxyuEGt"
      }
    },
    {
      "cell_type": "code",
      "source": [
        "df = df.drop(['Unnamed: 0', 'id', 'title', 'latitude','longitude','raw_address',\n",
        "              'is_exact_address_hidden','street_number','portal', 'door',\n",
        "              'rent_price_by_area','is_buy_price_known','are_pets_allowed',\n",
        "              'is_furnished','is_kitchen_equipped','has_private_parking',\n",
        "              'has_public_parking','operation','n_floors','sq_mt_allotment','sq_mt_useful',\n",
        "              'rent_price','is_rent_price_known'],axis=1)"
      ],
      "metadata": {
        "id": "6h37G7HRmBp_"
      },
      "execution_count": 7,
      "outputs": []
    },
    {
      "cell_type": "code",
      "source": [
        "df.info()"
      ],
      "metadata": {
        "colab": {
          "base_uri": "https://localhost:8080/"
        },
        "id": "YCSqjlhdlmdC",
        "outputId": "501b214e-49df-41ca-d4d0-5fdffc37e745"
      },
      "execution_count": 8,
      "outputs": [
        {
          "output_type": "stream",
          "name": "stdout",
          "text": [
            "<class 'pandas.core.frame.DataFrame'>\n",
            "RangeIndex: 21742 entries, 0 to 21741\n",
            "Data columns (total 35 columns):\n",
            " #   Column                        Non-Null Count  Dtype  \n",
            "---  ------                        --------------  -----  \n",
            " 0   subtitle                      21742 non-null  object \n",
            " 1   sq_mt_built                   21616 non-null  float64\n",
            " 2   n_rooms                       21742 non-null  int64  \n",
            " 3   n_bathrooms                   21726 non-null  float64\n",
            " 4   street_name                   15837 non-null  object \n",
            " 5   floor                         19135 non-null  object \n",
            " 6   is_floor_under                20572 non-null  object \n",
            " 7   neighborhood_id               21742 non-null  object \n",
            " 8   buy_price                     21742 non-null  int64  \n",
            " 9   buy_price_by_area             21742 non-null  int64  \n",
            " 10  house_type_id                 21351 non-null  object \n",
            " 11  is_renewal_needed             21742 non-null  bool   \n",
            " 12  is_new_development            20750 non-null  object \n",
            " 13  built_year                    10000 non-null  float64\n",
            " 14  has_central_heating           13608 non-null  object \n",
            " 15  has_individual_heating        13608 non-null  object \n",
            " 16  has_ac                        11211 non-null  object \n",
            " 17  has_fitted_wardrobes          13399 non-null  object \n",
            " 18  has_lift                      19356 non-null  object \n",
            " 19  is_exterior                   18699 non-null  object \n",
            " 20  has_garden                    1556 non-null   object \n",
            " 21  has_pool                      5171 non-null   object \n",
            " 22  has_terrace                   9548 non-null   object \n",
            " 23  has_balcony                   3321 non-null   object \n",
            " 24  has_storage_room              7698 non-null   object \n",
            " 25  is_accessible                 4074 non-null   object \n",
            " 26  has_green_zones               4057 non-null   object \n",
            " 27  energy_certificate            21742 non-null  object \n",
            " 28  has_parking                   21742 non-null  bool   \n",
            " 29  is_parking_included_in_price  7719 non-null   object \n",
            " 30  parking_price                 7719 non-null   float64\n",
            " 31  is_orientation_north          11358 non-null  object \n",
            " 32  is_orientation_west           11358 non-null  object \n",
            " 33  is_orientation_south          11358 non-null  object \n",
            " 34  is_orientation_east           11358 non-null  object \n",
            "dtypes: bool(2), float64(4), int64(3), object(26)\n",
            "memory usage: 5.5+ MB\n"
          ]
        }
      ]
    },
    {
      "cell_type": "markdown",
      "source": [
        "#Проверяем данные на пропуски:"
      ],
      "metadata": {
        "id": "wvqTzxYMuQUc"
      }
    },
    {
      "cell_type": "code",
      "source": [
        "df.isna().mean()"
      ],
      "metadata": {
        "colab": {
          "base_uri": "https://localhost:8080/"
        },
        "id": "bM5hvhWpoiwe",
        "outputId": "b401792f-7b00-427e-9d26-9ad21309d8d4"
      },
      "execution_count": 9,
      "outputs": [
        {
          "output_type": "execute_result",
          "data": {
            "text/plain": [
              "subtitle                        0.000000\n",
              "sq_mt_built                     0.005795\n",
              "n_rooms                         0.000000\n",
              "n_bathrooms                     0.000736\n",
              "street_name                     0.271594\n",
              "floor                           0.119906\n",
              "is_floor_under                  0.053813\n",
              "neighborhood_id                 0.000000\n",
              "buy_price                       0.000000\n",
              "buy_price_by_area               0.000000\n",
              "house_type_id                   0.017984\n",
              "is_renewal_needed               0.000000\n",
              "is_new_development              0.045626\n",
              "built_year                      0.540061\n",
              "has_central_heating             0.374115\n",
              "has_individual_heating          0.374115\n",
              "has_ac                          0.484362\n",
              "has_fitted_wardrobes            0.383727\n",
              "has_lift                        0.109742\n",
              "is_exterior                     0.139960\n",
              "has_garden                      0.928433\n",
              "has_pool                        0.762165\n",
              "has_terrace                     0.560850\n",
              "has_balcony                     0.847254\n",
              "has_storage_room                0.645939\n",
              "is_accessible                   0.812621\n",
              "has_green_zones                 0.813403\n",
              "energy_certificate              0.000000\n",
              "has_parking                     0.000000\n",
              "is_parking_included_in_price    0.644973\n",
              "parking_price                   0.644973\n",
              "is_orientation_north            0.477601\n",
              "is_orientation_west             0.477601\n",
              "is_orientation_south            0.477601\n",
              "is_orientation_east             0.477601\n",
              "dtype: float64"
            ]
          },
          "metadata": {},
          "execution_count": 9
        }
      ]
    },
    {
      "cell_type": "markdown",
      "source": [
        "#Исследуем отдельные признаки"
      ],
      "metadata": {
        "id": "rQ7pjlRButUf"
      }
    },
    {
      "cell_type": "code",
      "source": [
        "sns.displot (data = df['sq_mt_built'], kde= True, height=8.27, aspect=11.7/8.27)\n",
        "plt.show()"
      ],
      "metadata": {
        "colab": {
          "base_uri": "https://localhost:8080/",
          "height": 605
        },
        "id": "77Qs3XH8qunn",
        "outputId": "2cac31f2-9baf-43b2-d7c8-10130a46f7e2"
      },
      "execution_count": 10,
      "outputs": [
        {
          "output_type": "display_data",
          "data": {
            "text/plain": [
              "<Figure size 842.4x595.44 with 1 Axes>"
            ],
            "image/png": "[encoded data removed]"
          },
          "metadata": {
            "needs_background": "light"
          }
        }
      ]
    },
    {
      "cell_type": "code",
      "source": [
        "plt.figure(figsize=(8,6.5))\n",
        "plt.title('Boxplot Square meters per flat', fontsize=15, fontweight='bold', fontname='DejaVu Sans', ha='center')\n",
        "sns.boxplot(data = df, y=\"sq_mt_built\",width = 0.8,\n",
        "                    color = \"skyblue\",\n",
        "                    linewidth = 2)\n",
        "plt.show()"
      ],
      "metadata": {
        "colab": {
          "base_uri": "https://localhost:8080/",
          "height": 406
        },
        "id": "YauZ-YmkdctS",
        "outputId": "e71711ff-020c-47c4-9c68-3325ecd6ae6e"
      },
      "execution_count": 11,
      "outputs": [
        {
          "output_type": "display_data",
          "data": {
            "text/plain": [
              "<Figure size 576x468 with 1 Axes>"
            ],
            "image/png": "[encoded data removed]"
          },
          "metadata": {
            "needs_background": "light"
          }
        }
      ]
    },
    {
      "cell_type": "markdown",
      "source": [
        "В признаке площади квартиры есть выбросы, удалим их."
      ],
      "metadata": {
        "id": "uH1-Ccpcu4BF"
      }
    },
    {
      "cell_type": "code",
      "source": [
        "df = df.loc[df['sq_mt_built']<400]"
      ],
      "metadata": {
        "id": "WLff2M7uu2Ch"
      },
      "execution_count": 12,
      "outputs": []
    },
    {
      "cell_type": "code",
      "source": [
        "plt.figure(figsize=(8,6.5))\n",
        "plt.title('Boxplot number of rooms per flat', fontsize=15, fontweight='bold', fontname='DejaVu Sans', ha='center')\n",
        "sns.boxplot(data = df, y=\"n_rooms\",width = 0.8,\n",
        "                    color = \"skyblue\",\n",
        "                    linewidth = 2)\n",
        "plt.show()"
      ],
      "metadata": {
        "colab": {
          "base_uri": "https://localhost:8080/",
          "height": 406
        },
        "id": "OUz9EvXatC15",
        "outputId": "8fe0de6f-d833-4298-a0b8-7bc3707b35d7"
      },
      "execution_count": 13,
      "outputs": [
        {
          "output_type": "display_data",
          "data": {
            "text/plain": [
              "<Figure size 576x468 with 1 Axes>"
            ],
            "image/png": "[encoded data removed]"
          },
          "metadata": {
            "needs_background": "light"
          }
        }
      ]
    },
    {
      "cell_type": "markdown",
      "source": [
        "В признаке количество комнат так же обнаружили выбросы, удалим их"
      ],
      "metadata": {
        "id": "YNDr2Ds8vDuu"
      }
    },
    {
      "cell_type": "code",
      "source": [
        "df = df.loc[df['n_rooms']<10]"
      ],
      "metadata": {
        "id": "STkFWtRpvR_i"
      },
      "execution_count": 14,
      "outputs": []
    },
    {
      "cell_type": "code",
      "source": [
        "plt.figure(figsize=(8,6.5))\n",
        "plt.title('Boxplot number of bathrooms per flat', fontsize=15, fontweight='bold', fontname='DejaVu Sans', ha='center')\n",
        "sns.boxplot(data = df, y=\"n_bathrooms\",width = 0.8,\n",
        "                    color = \"skyblue\",\n",
        "                    linewidth = 2)\n",
        "plt.show()"
      ],
      "metadata": {
        "colab": {
          "base_uri": "https://localhost:8080/",
          "height": 406
        },
        "id": "y-zniRVqkOec",
        "outputId": "574ef0e1-341c-4851-a7ca-59a1e9f908b4"
      },
      "execution_count": 15,
      "outputs": [
        {
          "output_type": "display_data",
          "data": {
            "text/plain": [
              "<Figure size 576x468 with 1 Axes>"
            ],
            "image/png": "[encoded data removed]"
          },
          "metadata": {
            "needs_background": "light"
          }
        }
      ]
    },
    {
      "cell_type": "markdown",
      "source": [
        "В признаке количество ванных комнат обнаружены выбросы, удалим их"
      ],
      "metadata": {
        "id": "hwc5U7ftvLFO"
      }
    },
    {
      "cell_type": "code",
      "source": [
        "df = df.loc[df['n_bathrooms']<5]"
      ],
      "metadata": {
        "id": "4ZLRxcUYusQy"
      },
      "execution_count": 16,
      "outputs": []
    },
    {
      "cell_type": "code",
      "source": [
        "plt.figure(figsize=(8,6.5))\n",
        "plt.title('Boxplot price per flat', fontsize=15, fontweight='bold', fontname='DejaVu Sans', ha='center')\n",
        "sns.boxplot(data = df, y=\"buy_price\",width = 0.8,\n",
        "                    color = \"skyblue\",\n",
        "                    linewidth = 2)\n",
        "plt.show()"
      ],
      "metadata": {
        "colab": {
          "base_uri": "https://localhost:8080/",
          "height": 406
        },
        "id": "lcgSr4UekXM2",
        "outputId": "e7fc370f-71c7-4d2d-b53b-b09494442d57"
      },
      "execution_count": 17,
      "outputs": [
        {
          "output_type": "display_data",
          "data": {
            "text/plain": [
              "<Figure size 576x468 with 1 Axes>"
            ],
            "image/png": "[encoded data removed]"
          },
          "metadata": {
            "needs_background": "light"
          }
        }
      ]
    },
    {
      "cell_type": "markdown",
      "source": [
        "В целевом признаке есть выбросы, отбросим их"
      ],
      "metadata": {
        "id": "XcaYABrDvv32"
      }
    },
    {
      "cell_type": "code",
      "source": [
        "df = df.loc[df['buy_price']<2000000]"
      ],
      "metadata": {
        "id": "Bwg9Hofd83uu"
      },
      "execution_count": 18,
      "outputs": []
    },
    {
      "cell_type": "code",
      "source": [
        "plt.figure(figsize=(8,6.5))\n",
        "plt.title('Boxplot price by area where flat is', fontsize=15, fontweight='bold', fontname='DejaVu Sans', ha='center')\n",
        "sns.boxplot(data = df, y=\"buy_price_by_area\",width = 0.8,\n",
        "                    color = \"skyblue\",\n",
        "                    linewidth = 2)\n",
        "plt.show()"
      ],
      "metadata": {
        "colab": {
          "base_uri": "https://localhost:8080/",
          "height": 406
        },
        "id": "kTE5Q5izkcqn",
        "outputId": "1eeb604f-9944-4639-c3c9-2bd5978dcc05"
      },
      "execution_count": 19,
      "outputs": [
        {
          "output_type": "display_data",
          "data": {
            "text/plain": [
              "<Figure size 576x468 with 1 Axes>"
            ],
            "image/png": "[encoded data removed]"
          },
          "metadata": {
            "needs_background": "light"
          }
        }
      ]
    },
    {
      "cell_type": "markdown",
      "source": [
        "#Создадим список из категориальных данных и заполним пропуски"
      ],
      "metadata": {
        "id": "vpxHlIoZv7S7"
      }
    },
    {
      "cell_type": "code",
      "source": [
        "cat_columns = list(df.select_dtypes(include=['object']).columns)"
      ],
      "metadata": {
        "id": "gx5kbRJ_yJYB"
      },
      "execution_count": 20,
      "outputs": []
    },
    {
      "cell_type": "code",
      "source": [
        "df[cat_columns] = df[cat_columns].fillna('no_info')"
      ],
      "metadata": {
        "id": "2mFF_dN61Scv"
      },
      "execution_count": 21,
      "outputs": []
    },
    {
      "cell_type": "code",
      "source": [
        "df.info()"
      ],
      "metadata": {
        "colab": {
          "base_uri": "https://localhost:8080/"
        },
        "id": "rZkOPUYr0jZw",
        "outputId": "dba90bc3-161c-4c9d-d034-6139e1ccf686"
      },
      "execution_count": 22,
      "outputs": [
        {
          "output_type": "stream",
          "name": "stdout",
          "text": [
            "<class 'pandas.core.frame.DataFrame'>\n",
            "Int64Index: 19397 entries, 0 to 21741\n",
            "Data columns (total 35 columns):\n",
            " #   Column                        Non-Null Count  Dtype  \n",
            "---  ------                        --------------  -----  \n",
            " 0   subtitle                      19397 non-null  object \n",
            " 1   sq_mt_built                   19397 non-null  float64\n",
            " 2   n_rooms                       19397 non-null  int64  \n",
            " 3   n_bathrooms                   19397 non-null  float64\n",
            " 4   street_name                   19397 non-null  object \n",
            " 5   floor                         19397 non-null  object \n",
            " 6   is_floor_under                19397 non-null  object \n",
            " 7   neighborhood_id               19397 non-null  object \n",
            " 8   buy_price                     19397 non-null  int64  \n",
            " 9   buy_price_by_area             19397 non-null  int64  \n",
            " 10  house_type_id                 19397 non-null  object \n",
            " 11  is_renewal_needed             19397 non-null  bool   \n",
            " 12  is_new_development            19397 non-null  object \n",
            " 13  built_year                    8866 non-null   float64\n",
            " 14  has_central_heating           19397 non-null  object \n",
            " 15  has_individual_heating        19397 non-null  object \n",
            " 16  has_ac                        19397 non-null  object \n",
            " 17  has_fitted_wardrobes          19397 non-null  object \n",
            " 18  has_lift                      19397 non-null  object \n",
            " 19  is_exterior                   19397 non-null  object \n",
            " 20  has_garden                    19397 non-null  object \n",
            " 21  has_pool                      19397 non-null  object \n",
            " 22  has_terrace                   19397 non-null  object \n",
            " 23  has_balcony                   19397 non-null  object \n",
            " 24  has_storage_room              19397 non-null  object \n",
            " 25  is_accessible                 19397 non-null  object \n",
            " 26  has_green_zones               19397 non-null  object \n",
            " 27  energy_certificate            19397 non-null  object \n",
            " 28  has_parking                   19397 non-null  bool   \n",
            " 29  is_parking_included_in_price  19397 non-null  object \n",
            " 30  parking_price                 5990 non-null   float64\n",
            " 31  is_orientation_north          19397 non-null  object \n",
            " 32  is_orientation_west           19397 non-null  object \n",
            " 33  is_orientation_south          19397 non-null  object \n",
            " 34  is_orientation_east           19397 non-null  object \n",
            "dtypes: bool(2), float64(4), int64(3), object(26)\n",
            "memory usage: 5.1+ MB\n"
          ]
        }
      ]
    },
    {
      "cell_type": "markdown",
      "source": [
        "По графику видно, что большинство дешевых квартир было построено псле 1950 года. Как правило старые дома находятся в центре города, а значит и цена на них выше."
      ],
      "metadata": {
        "id": "C6tr5ueywpTk"
      }
    },
    {
      "cell_type": "code",
      "source": [
        "df['built_year'].describe()"
      ],
      "metadata": {
        "colab": {
          "base_uri": "https://localhost:8080/"
        },
        "id": "ezKKoqOb4FMf",
        "outputId": "0fe6779a-4932-4c57-9358-6c1ec50de036"
      },
      "execution_count": 23,
      "outputs": [
        {
          "output_type": "execute_result",
          "data": {
            "text/plain": [
              "count    8866.000000\n",
              "mean     1969.105685\n",
              "std        72.865863\n",
              "min      1723.000000\n",
              "25%      1956.000000\n",
              "50%      1970.000000\n",
              "75%      1992.000000\n",
              "max      8170.000000\n",
              "Name: built_year, dtype: float64"
            ]
          },
          "metadata": {},
          "execution_count": 23
        }
      ]
    },
    {
      "cell_type": "markdown",
      "source": [
        "В признаках года постройки дома и цена за парковочное место слишом много пропусков, которые нельзя заполнить."
      ],
      "metadata": {
        "id": "WsIZP9FyxAuj"
      }
    },
    {
      "cell_type": "code",
      "source": [
        "df = df.drop(['built_year','parking_price'], axis=1)"
      ],
      "metadata": {
        "id": "2vIZ2pR64Kvh"
      },
      "execution_count": 24,
      "outputs": []
    },
    {
      "cell_type": "markdown",
      "source": [
        "# Исследуем признак этажность квартиры"
      ],
      "metadata": {
        "id": "GRe6853bxU-7"
      }
    },
    {
      "cell_type": "code",
      "source": [
        "df['floor'].value_counts()"
      ],
      "metadata": {
        "colab": {
          "base_uri": "https://localhost:8080/"
        },
        "id": "spnbvVQCwGdD",
        "outputId": "362be6b4-f71c-4c1a-80a2-b7d43cf27eb0"
      },
      "execution_count": 25,
      "outputs": [
        {
          "output_type": "execute_result",
          "data": {
            "text/plain": [
              "1                       4228\n",
              "2                       3321\n",
              "3                       2828\n",
              "4                       2178\n",
              "Bajo                    2090\n",
              "no_info                 1309\n",
              "5                       1216\n",
              "6                        849\n",
              "7                        520\n",
              "8                        304\n",
              "Entreplanta exterior     227\n",
              "9                        170\n",
              "Semi-sótano exterior      54\n",
              "Semi-sótano interior      36\n",
              "Entreplanta interior      31\n",
              "Sótano interior           23\n",
              "Sótano                     5\n",
              "Sótano exterior            4\n",
              "Entreplanta                3\n",
              "Semi-sótano                1\n",
              "Name: floor, dtype: int64"
            ]
          },
          "metadata": {},
          "execution_count": 25
        }
      ]
    },
    {
      "cell_type": "code",
      "source": [
        "list_floors_to_replace = ['Entreplanta exterior', 'Semi-sótano exterior',\n",
        "       'Semi-sótano interior', 'Sótano interior', 'Entreplanta interior',\n",
        "       'Sótano', 'Sótano exterior', 'Entreplanta','Semi-sótano']"
      ],
      "metadata": {
        "id": "vlDxvTGTHQa9"
      },
      "execution_count": 26,
      "outputs": []
    },
    {
      "cell_type": "markdown",
      "source": [
        "Заменим дупликаты в столбце с этажами квартир"
      ],
      "metadata": {
        "id": "2RDCCU6yxhmc"
      }
    },
    {
      "cell_type": "code",
      "source": [
        "for i in list_floors_to_replace:\n",
        "  df.loc[df['floor']==i,'floor'] = 'Bajo'"
      ],
      "metadata": {
        "id": "XCv7AKGKK_--"
      },
      "execution_count": 27,
      "outputs": []
    },
    {
      "cell_type": "code",
      "source": [
        "df.info()"
      ],
      "metadata": {
        "colab": {
          "base_uri": "https://localhost:8080/"
        },
        "id": "TnXYe2hWN6XC",
        "outputId": "7250ddb8-be7e-4cb1-83a5-91913f45d102"
      },
      "execution_count": 28,
      "outputs": [
        {
          "output_type": "stream",
          "name": "stdout",
          "text": [
            "<class 'pandas.core.frame.DataFrame'>\n",
            "Int64Index: 19397 entries, 0 to 21741\n",
            "Data columns (total 33 columns):\n",
            " #   Column                        Non-Null Count  Dtype  \n",
            "---  ------                        --------------  -----  \n",
            " 0   subtitle                      19397 non-null  object \n",
            " 1   sq_mt_built                   19397 non-null  float64\n",
            " 2   n_rooms                       19397 non-null  int64  \n",
            " 3   n_bathrooms                   19397 non-null  float64\n",
            " 4   street_name                   19397 non-null  object \n",
            " 5   floor                         19397 non-null  object \n",
            " 6   is_floor_under                19397 non-null  object \n",
            " 7   neighborhood_id               19397 non-null  object \n",
            " 8   buy_price                     19397 non-null  int64  \n",
            " 9   buy_price_by_area             19397 non-null  int64  \n",
            " 10  house_type_id                 19397 non-null  object \n",
            " 11  is_renewal_needed             19397 non-null  bool   \n",
            " 12  is_new_development            19397 non-null  object \n",
            " 13  has_central_heating           19397 non-null  object \n",
            " 14  has_individual_heating        19397 non-null  object \n",
            " 15  has_ac                        19397 non-null  object \n",
            " 16  has_fitted_wardrobes          19397 non-null  object \n",
            " 17  has_lift                      19397 non-null  object \n",
            " 18  is_exterior                   19397 non-null  object \n",
            " 19  has_garden                    19397 non-null  object \n",
            " 20  has_pool                      19397 non-null  object \n",
            " 21  has_terrace                   19397 non-null  object \n",
            " 22  has_balcony                   19397 non-null  object \n",
            " 23  has_storage_room              19397 non-null  object \n",
            " 24  is_accessible                 19397 non-null  object \n",
            " 25  has_green_zones               19397 non-null  object \n",
            " 26  energy_certificate            19397 non-null  object \n",
            " 27  has_parking                   19397 non-null  bool   \n",
            " 28  is_parking_included_in_price  19397 non-null  object \n",
            " 29  is_orientation_north          19397 non-null  object \n",
            " 30  is_orientation_west           19397 non-null  object \n",
            " 31  is_orientation_south          19397 non-null  object \n",
            " 32  is_orientation_east           19397 non-null  object \n",
            "dtypes: bool(2), float64(2), int64(3), object(26)\n",
            "memory usage: 4.8+ MB\n"
          ]
        }
      ]
    },
    {
      "cell_type": "code",
      "source": [
        "df['floor'].value_counts()"
      ],
      "metadata": {
        "colab": {
          "base_uri": "https://localhost:8080/"
        },
        "id": "L4v3fYwKJC-f",
        "outputId": "35904302-685f-401d-b56b-afeeaca20fae"
      },
      "execution_count": 29,
      "outputs": [
        {
          "output_type": "execute_result",
          "data": {
            "text/plain": [
              "1          4228\n",
              "2          3321\n",
              "3          2828\n",
              "Bajo       2474\n",
              "4          2178\n",
              "no_info    1309\n",
              "5          1216\n",
              "6           849\n",
              "7           520\n",
              "8           304\n",
              "9           170\n",
              "Name: floor, dtype: int64"
            ]
          },
          "metadata": {},
          "execution_count": 29
        }
      ]
    },
    {
      "cell_type": "code",
      "source": [
        "fig, ax = plt.subplots(figsize =(8, 9))\n",
        "ax.pie(df['floor'].value_counts().head(8), labels=df['floor'].value_counts().head(8).index, autopct='%1.1f%%',\n",
        "        shadow=True, startangle=90, pctdistance=0.7,labeldistance=1.1, rotatelabels=False,textprops={'fontsize': 14},radius=1.1)\n",
        "plt.title('Floors of flats', fontsize=15, fontweight='bold', fontname='DejaVu Sans', ha='center')\n",
        "plt.show()"
      ],
      "metadata": {
        "colab": {
          "base_uri": "https://localhost:8080/",
          "height": 495
        },
        "id": "CuDokqmbkvSQ",
        "outputId": "41028e4b-003b-490c-ddd9-d351cf18154a"
      },
      "execution_count": 30,
      "outputs": [
        {
          "output_type": "display_data",
          "data": {
            "text/plain": [
              "<Figure size 576x648 with 1 Axes>"
            ],
            "image/png": "[encoded data removed]"
          },
          "metadata": {}
        }
      ]
    },
    {
      "cell_type": "markdown",
      "source": [
        "По графику видно, что большинство квартир находится на первых трех этажах"
      ],
      "metadata": {
        "id": "lfuhA3xLzsp1"
      }
    },
    {
      "cell_type": "code",
      "source": [
        "df.groupby(['floor'])['buy_price'].agg({'count', 'median'}).reset_index()"
      ],
      "metadata": {
        "colab": {
          "base_uri": "https://localhost:8080/",
          "height": 390
        },
        "id": "KS2FmRqR6ycX",
        "outputId": "0e1fd2ea-21c6-4710-e6af-ba7f3bbc357a"
      },
      "execution_count": 31,
      "outputs": [
        {
          "output_type": "execute_result",
          "data": {
            "text/plain": [
              "      floor  count    median\n",
              "0         1   4228  340000.0\n",
              "1         2   3321  299000.0\n",
              "2         3   2828  290000.0\n",
              "3         4   2178  340000.0\n",
              "4         5   1216  415000.0\n",
              "5         6    849  499000.0\n",
              "6         7    520  450000.0\n",
              "7         8    304  495750.0\n",
              "8         9    170  532500.0\n",
              "9      Bajo   2474  199997.0\n",
              "10  no_info   1309  450000.0"
            ],
            "text/html": [
              "\n",
              "  <div id=\"df-f844b065-5b6b-4a8d-98d9-8561b1e6b6a1\">\n",
              "    <div class=\"colab-df-container\">\n",
              "      <div>\n",
              "<style scoped>\n",
              "    .dataframe tbody tr th:only-of-type {\n",
              "        vertical-align: middle;\n",
              "    }\n",
              "\n",
              "    .dataframe tbody tr th {\n",
              "        vertical-align: top;\n",
              "    }\n",
              "\n",
              "    .dataframe thead th {\n",
              "        text-align: right;\n",
              "    }\n",
              "</style>\n",
              "<table border=\"1\" class=\"dataframe\">\n",
              "  <thead>\n",
              "    <tr style=\"text-align: right;\">\n",
              "      <th></th>\n",
              "      <th>floor</th>\n",
              "      <th>count</th>\n",
              "      <th>median</th>\n",
              "    </tr>\n",
              "  </thead>\n",
              "  <tbody>\n",
              "    <tr>\n",
              "      <th>0</th>\n",
              "      <td>1</td>\n",
              "      <td>4228</td>\n",
              "      <td>340000.0</td>\n",
              "    </tr>\n",
              "    <tr>\n",
              "      <th>1</th>\n",
              "      <td>2</td>\n",
              "      <td>3321</td>\n",
              "      <td>299000.0</td>\n",
              "    </tr>\n",
              "    <tr>\n",
              "      <th>2</th>\n",
              "      <td>3</td>\n",
              "      <td>2828</td>\n",
              "      <td>290000.0</td>\n",
              "    </tr>\n",
              "    <tr>\n",
              "      <th>3</th>\n",
              "      <td>4</td>\n",
              "      <td>2178</td>\n",
              "      <td>340000.0</td>\n",
              "    </tr>\n",
              "    <tr>\n",
              "      <th>4</th>\n",
              "      <td>5</td>\n",
              "      <td>1216</td>\n",
              "      <td>415000.0</td>\n",
              "    </tr>\n",
              "    <tr>\n",
              "      <th>5</th>\n",
              "      <td>6</td>\n",
              "      <td>849</td>\n",
              "      <td>499000.0</td>\n",
              "    </tr>\n",
              "    <tr>\n",
              "      <th>6</th>\n",
              "      <td>7</td>\n",
              "      <td>520</td>\n",
              "      <td>450000.0</td>\n",
              "    </tr>\n",
              "    <tr>\n",
              "      <th>7</th>\n",
              "      <td>8</td>\n",
              "      <td>304</td>\n",
              "      <td>495750.0</td>\n",
              "    </tr>\n",
              "    <tr>\n",
              "      <th>8</th>\n",
              "      <td>9</td>\n",
              "      <td>170</td>\n",
              "      <td>532500.0</td>\n",
              "    </tr>\n",
              "    <tr>\n",
              "      <th>9</th>\n",
              "      <td>Bajo</td>\n",
              "      <td>2474</td>\n",
              "      <td>199997.0</td>\n",
              "    </tr>\n",
              "    <tr>\n",
              "      <th>10</th>\n",
              "      <td>no_info</td>\n",
              "      <td>1309</td>\n",
              "      <td>450000.0</td>\n",
              "    </tr>\n",
              "  </tbody>\n",
              "</table>\n",
              "</div>\n",
              "      <button class=\"colab-df-convert\" onclick=\"convertToInteractive('df-f844b065-5b6b-4a8d-98d9-8561b1e6b6a1')\"\n",
              "              title=\"Convert this dataframe to an interactive table.\"\n",
              "              style=\"display:none;\">\n",
              "        \n",
              "  <svg xmlns=\"http://www.w3.org/2000/svg\" height=\"24px\"viewBox=\"0 0 24 24\"\n",
              "       width=\"24px\">\n",
              "    <path d=\"M0 0h24v24H0V0z\" fill=\"none\"/>\n",
              "    <path d=\"M18.56 5.44l.94 2.06.94-2.06 2.06-.94-2.06-.94-.94-2.06-.94 2.06-2.06.94zm-11 1L8.5 8.5l.94-2.06 2.06-.94-2.06-.94L8.5 2.5l-.94 2.06-2.06.94zm10 10l.94 2.06.94-2.06 2.06-.94-2.06-.94-.94-2.06-.94 2.06-2.06.94z\"/><path d=\"M17.41 7.96l-1.37-1.37c-.4-.4-.92-.59-1.43-.59-.52 0-1.04.2-1.43.59L10.3 9.45l-7.72 7.72c-.78.78-.78 2.05 0 2.83L4 21.41c.39.39.9.59 1.41.59.51 0 1.02-.2 1.41-.59l7.78-7.78 2.81-2.81c.8-.78.8-2.07 0-2.86zM5.41 20L4 18.59l7.72-7.72 1.47 1.35L5.41 20z\"/>\n",
              "  </svg>\n",
              "      </button>\n",
              "      \n",
              "  <style>\n",
              "    .colab-df-container {\n",
              "      display:flex;\n",
              "      flex-wrap:wrap;\n",
              "      gap: 12px;\n",
              "    }\n",
              "\n",
              "    .colab-df-convert {\n",
              "      background-color: #E8F0FE;\n",
              "      border: none;\n",
              "      border-radius: 50%;\n",
              "      cursor: pointer;\n",
              "      display: none;\n",
              "      fill: #1967D2;\n",
              "      height: 32px;\n",
              "      padding: 0 0 0 0;\n",
              "      width: 32px;\n",
              "    }\n",
              "\n",
              "    .colab-df-convert:hover {\n",
              "      background-color: #E2EBFA;\n",
              "      box-shadow: 0px 1px 2px rgba(60, 64, 67, 0.3), 0px 1px 3px 1px rgba(60, 64, 67, 0.15);\n",
              "      fill: #174EA6;\n",
              "    }\n",
              "\n",
              "    [theme=dark] .colab-df-convert {\n",
              "      background-color: #3B4455;\n",
              "      fill: #D2E3FC;\n",
              "    }\n",
              "\n",
              "    [theme=dark] .colab-df-convert:hover {\n",
              "      background-color: #434B5C;\n",
              "      box-shadow: 0px 1px 3px 1px rgba(0, 0, 0, 0.15);\n",
              "      filter: drop-shadow(0px 1px 2px rgba(0, 0, 0, 0.3));\n",
              "      fill: #FFFFFF;\n",
              "    }\n",
              "  </style>\n",
              "\n",
              "      <script>\n",
              "        const buttonEl =\n",
              "          document.querySelector('#df-f844b065-5b6b-4a8d-98d9-8561b1e6b6a1 button.colab-df-convert');\n",
              "        buttonEl.style.display =\n",
              "          google.colab.kernel.accessAllowed ? 'block' : 'none';\n",
              "\n",
              "        async function convertToInteractive(key) {\n",
              "          const element = document.querySelector('#df-f844b065-5b6b-4a8d-98d9-8561b1e6b6a1');\n",
              "          const dataTable =\n",
              "            await google.colab.kernel.invokeFunction('convertToInteractive',\n",
              "                                                     [key], {});\n",
              "          if (!dataTable) return;\n",
              "\n",
              "          const docLinkHtml = 'Like what you see? Visit the ' +\n",
              "            '<a target=\"_blank\" href=https://colab.research.google.com/notebooks/data_table.ipynb>data table notebook</a>'\n",
              "            + ' to learn more about interactive tables.';\n",
              "          element.innerHTML = '';\n",
              "          dataTable['output_type'] = 'display_data';\n",
              "          await google.colab.output.renderOutput(dataTable, element);\n",
              "          const docLink = document.createElement('div');\n",
              "          docLink.innerHTML = docLinkHtml;\n",
              "          element.appendChild(docLink);\n",
              "        }\n",
              "      </script>\n",
              "    </div>\n",
              "  </div>\n",
              "  "
            ]
          },
          "metadata": {},
          "execution_count": 31
        }
      ]
    },
    {
      "cell_type": "code",
      "source": [
        "df.groupby(['floor'])['sq_mt_built'].agg({'count', 'median'}).reset_index()"
      ],
      "metadata": {
        "colab": {
          "base_uri": "https://localhost:8080/",
          "height": 390
        },
        "id": "mK_RTUFu7DTJ",
        "outputId": "9281277e-2f77-4b01-ecb9-fc1e6dc6034e"
      },
      "execution_count": 32,
      "outputs": [
        {
          "output_type": "execute_result",
          "data": {
            "text/plain": [
              "      floor  count  median\n",
              "0         1   4228    93.0\n",
              "1         2   3321    90.0\n",
              "2         3   2828    86.0\n",
              "3         4   2178    91.0\n",
              "4         5   1216   105.0\n",
              "5         6    849   113.0\n",
              "6         7    520   110.5\n",
              "7         8    304   120.5\n",
              "8         9    170   138.5\n",
              "9      Bajo   2474    72.0\n",
              "10  no_info   1309   137.0"
            ],
            "text/html": [
              "\n",
              "  <div id=\"df-f96d9577-d6e4-4064-adcc-104c564ca6d4\">\n",
              "    <div class=\"colab-df-container\">\n",
              "      <div>\n",
              "<style scoped>\n",
              "    .dataframe tbody tr th:only-of-type {\n",
              "        vertical-align: middle;\n",
              "    }\n",
              "\n",
              "    .dataframe tbody tr th {\n",
              "        vertical-align: top;\n",
              "    }\n",
              "\n",
              "    .dataframe thead th {\n",
              "        text-align: right;\n",
              "    }\n",
              "</style>\n",
              "<table border=\"1\" class=\"dataframe\">\n",
              "  <thead>\n",
              "    <tr style=\"text-align: right;\">\n",
              "      <th></th>\n",
              "      <th>floor</th>\n",
              "      <th>count</th>\n",
              "      <th>median</th>\n",
              "    </tr>\n",
              "  </thead>\n",
              "  <tbody>\n",
              "    <tr>\n",
              "      <th>0</th>\n",
              "      <td>1</td>\n",
              "      <td>4228</td>\n",
              "      <td>93.0</td>\n",
              "    </tr>\n",
              "    <tr>\n",
              "      <th>1</th>\n",
              "      <td>2</td>\n",
              "      <td>3321</td>\n",
              "      <td>90.0</td>\n",
              "    </tr>\n",
              "    <tr>\n",
              "      <th>2</th>\n",
              "      <td>3</td>\n",
              "      <td>2828</td>\n",
              "      <td>86.0</td>\n",
              "    </tr>\n",
              "    <tr>\n",
              "      <th>3</th>\n",
              "      <td>4</td>\n",
              "      <td>2178</td>\n",
              "      <td>91.0</td>\n",
              "    </tr>\n",
              "    <tr>\n",
              "      <th>4</th>\n",
              "      <td>5</td>\n",
              "      <td>1216</td>\n",
              "      <td>105.0</td>\n",
              "    </tr>\n",
              "    <tr>\n",
              "      <th>5</th>\n",
              "      <td>6</td>\n",
              "      <td>849</td>\n",
              "      <td>113.0</td>\n",
              "    </tr>\n",
              "    <tr>\n",
              "      <th>6</th>\n",
              "      <td>7</td>\n",
              "      <td>520</td>\n",
              "      <td>110.5</td>\n",
              "    </tr>\n",
              "    <tr>\n",
              "      <th>7</th>\n",
              "      <td>8</td>\n",
              "      <td>304</td>\n",
              "      <td>120.5</td>\n",
              "    </tr>\n",
              "    <tr>\n",
              "      <th>8</th>\n",
              "      <td>9</td>\n",
              "      <td>170</td>\n",
              "      <td>138.5</td>\n",
              "    </tr>\n",
              "    <tr>\n",
              "      <th>9</th>\n",
              "      <td>Bajo</td>\n",
              "      <td>2474</td>\n",
              "      <td>72.0</td>\n",
              "    </tr>\n",
              "    <tr>\n",
              "      <th>10</th>\n",
              "      <td>no_info</td>\n",
              "      <td>1309</td>\n",
              "      <td>137.0</td>\n",
              "    </tr>\n",
              "  </tbody>\n",
              "</table>\n",
              "</div>\n",
              "      <button class=\"colab-df-convert\" onclick=\"convertToInteractive('df-f96d9577-d6e4-4064-adcc-104c564ca6d4')\"\n",
              "              title=\"Convert this dataframe to an interactive table.\"\n",
              "              style=\"display:none;\">\n",
              "        \n",
              "  <svg xmlns=\"http://www.w3.org/2000/svg\" height=\"24px\"viewBox=\"0 0 24 24\"\n",
              "       width=\"24px\">\n",
              "    <path d=\"M0 0h24v24H0V0z\" fill=\"none\"/>\n",
              "    <path d=\"M18.56 5.44l.94 2.06.94-2.06 2.06-.94-2.06-.94-.94-2.06-.94 2.06-2.06.94zm-11 1L8.5 8.5l.94-2.06 2.06-.94-2.06-.94L8.5 2.5l-.94 2.06-2.06.94zm10 10l.94 2.06.94-2.06 2.06-.94-2.06-.94-.94-2.06-.94 2.06-2.06.94z\"/><path d=\"M17.41 7.96l-1.37-1.37c-.4-.4-.92-.59-1.43-.59-.52 0-1.04.2-1.43.59L10.3 9.45l-7.72 7.72c-.78.78-.78 2.05 0 2.83L4 21.41c.39.39.9.59 1.41.59.51 0 1.02-.2 1.41-.59l7.78-7.78 2.81-2.81c.8-.78.8-2.07 0-2.86zM5.41 20L4 18.59l7.72-7.72 1.47 1.35L5.41 20z\"/>\n",
              "  </svg>\n",
              "      </button>\n",
              "      \n",
              "  <style>\n",
              "    .colab-df-container {\n",
              "      display:flex;\n",
              "      flex-wrap:wrap;\n",
              "      gap: 12px;\n",
              "    }\n",
              "\n",
              "    .colab-df-convert {\n",
              "      background-color: #E8F0FE;\n",
              "      border: none;\n",
              "      border-radius: 50%;\n",
              "      cursor: pointer;\n",
              "      display: none;\n",
              "      fill: #1967D2;\n",
              "      height: 32px;\n",
              "      padding: 0 0 0 0;\n",
              "      width: 32px;\n",
              "    }\n",
              "\n",
              "    .colab-df-convert:hover {\n",
              "      background-color: #E2EBFA;\n",
              "      box-shadow: 0px 1px 2px rgba(60, 64, 67, 0.3), 0px 1px 3px 1px rgba(60, 64, 67, 0.15);\n",
              "      fill: #174EA6;\n",
              "    }\n",
              "\n",
              "    [theme=dark] .colab-df-convert {\n",
              "      background-color: #3B4455;\n",
              "      fill: #D2E3FC;\n",
              "    }\n",
              "\n",
              "    [theme=dark] .colab-df-convert:hover {\n",
              "      background-color: #434B5C;\n",
              "      box-shadow: 0px 1px 3px 1px rgba(0, 0, 0, 0.15);\n",
              "      filter: drop-shadow(0px 1px 2px rgba(0, 0, 0, 0.3));\n",
              "      fill: #FFFFFF;\n",
              "    }\n",
              "  </style>\n",
              "\n",
              "      <script>\n",
              "        const buttonEl =\n",
              "          document.querySelector('#df-f96d9577-d6e4-4064-adcc-104c564ca6d4 button.colab-df-convert');\n",
              "        buttonEl.style.display =\n",
              "          google.colab.kernel.accessAllowed ? 'block' : 'none';\n",
              "\n",
              "        async function convertToInteractive(key) {\n",
              "          const element = document.querySelector('#df-f96d9577-d6e4-4064-adcc-104c564ca6d4');\n",
              "          const dataTable =\n",
              "            await google.colab.kernel.invokeFunction('convertToInteractive',\n",
              "                                                     [key], {});\n",
              "          if (!dataTable) return;\n",
              "\n",
              "          const docLinkHtml = 'Like what you see? Visit the ' +\n",
              "            '<a target=\"_blank\" href=https://colab.research.google.com/notebooks/data_table.ipynb>data table notebook</a>'\n",
              "            + ' to learn more about interactive tables.';\n",
              "          element.innerHTML = '';\n",
              "          dataTable['output_type'] = 'display_data';\n",
              "          await google.colab.output.renderOutput(dataTable, element);\n",
              "          const docLink = document.createElement('div');\n",
              "          docLink.innerHTML = docLinkHtml;\n",
              "          element.appendChild(docLink);\n",
              "        }\n",
              "      </script>\n",
              "    </div>\n",
              "  </div>\n",
              "  "
            ]
          },
          "metadata": {},
          "execution_count": 32
        }
      ]
    },
    {
      "cell_type": "code",
      "source": [
        "#Seaborn Horizontal barplot\n",
        "sns.set_style(\"whitegrid\")\n",
        "bar,ax = plt.subplots(figsize=(12,8))\n",
        "ax = sns.barplot(x=df.groupby(['floor'])['buy_price'].median(), y=df.groupby(['floor'])['buy_price'].median().index, data=df,\n",
        "palette=\"muted\", errwidth=0)\n",
        "ax.set_title(\"Flat median price  by floors\", fontsize=15)\n",
        "ax.set_xlabel (\"Price\")\n",
        "ax.set_ylabel (\"Floor\")\n",
        "plt.show()"
      ],
      "metadata": {
        "colab": {
          "base_uri": "https://localhost:8080/",
          "height": 515
        },
        "id": "rvcY-j44oDpO",
        "outputId": "b186fcbc-4512-4b02-c994-dd8d63cb4358"
      },
      "execution_count": 33,
      "outputs": [
        {
          "output_type": "display_data",
          "data": {
            "text/plain": [
              "<Figure size 864x576 with 1 Axes>"
            ],
            "image/png": "[encoded data removed]"
          },
          "metadata": {}
        }
      ]
    },
    {
      "cell_type": "markdown",
      "source": [
        "Из графика видно, что первые этажи стоят меньше чем более высокие, не считая подвальных."
      ],
      "metadata": {
        "id": "H17WoHZIBHIZ"
      }
    },
    {
      "cell_type": "code",
      "source": [
        "#Seaborn Horizontal barplot\n",
        "sns.set_style(\"whitegrid\")\n",
        "bar,ax = plt.subplots(figsize=(12,8))\n",
        "ax = sns.barplot(x=df.groupby(['floor'])['sq_mt_built'].median(), y=df.groupby(['floor'])['sq_mt_built'].median().index, data=df,\n",
        "palette=\"muted\", errwidth=0)\n",
        "ax.set_title(\"Flat median price by square meters\", fontsize=15)\n",
        "ax.set_xlabel (\"Square meters\")\n",
        "ax.set_ylabel (\"Floors\")\n",
        "plt.show()"
      ],
      "metadata": {
        "colab": {
          "base_uri": "https://localhost:8080/",
          "height": 515
        },
        "id": "381pxu9vwf2I",
        "outputId": "a515e744-874c-4e22-c5d7-111fd1fc10b2"
      },
      "execution_count": 34,
      "outputs": [
        {
          "output_type": "display_data",
          "data": {
            "text/plain": [
              "<Figure size 864x576 with 1 Axes>"
            ],
            "image/png": "[encoded data removed]"
          },
          "metadata": {}
        }
      ]
    },
    {
      "cell_type": "markdown",
      "source": [
        "Здесь видна зависимость площади квартиры от этажа. Чем выше этиж тем больше средняя площадь. "
      ],
      "metadata": {
        "id": "l5tbTxMF18xd"
      }
    },
    {
      "cell_type": "code",
      "source": [
        "df.groupby('floor')['buy_price_by_area'].median()"
      ],
      "metadata": {
        "colab": {
          "base_uri": "https://localhost:8080/"
        },
        "id": "pWx2TM1WCrcm",
        "outputId": "23672878-871f-494f-866f-66f5d6197632"
      },
      "execution_count": 35,
      "outputs": [
        {
          "output_type": "execute_result",
          "data": {
            "text/plain": [
              "floor\n",
              "1          3750.0\n",
              "2          3635.0\n",
              "3          3560.0\n",
              "4          3841.0\n",
              "5          4182.0\n",
              "6          4286.0\n",
              "7          4167.0\n",
              "8          3971.0\n",
              "9          3838.5\n",
              "Bajo       2955.0\n",
              "no_info    3097.0\n",
              "Name: buy_price_by_area, dtype: float64"
            ]
          },
          "metadata": {},
          "execution_count": 35
        }
      ]
    },
    {
      "cell_type": "markdown",
      "source": [
        "Из данных понятно, что цена за квадратный метр больше всего на 5-7 этажах, самые дешевые квартиры на цокольном этаже."
      ],
      "metadata": {
        "id": "wSEiPW-mCtjJ"
      }
    },
    {
      "cell_type": "code",
      "source": [
        "\n",
        "fig, ax = plt.subplots(figsize =(5, 5))\n",
        "ax.pie(df['is_renewal_needed'].value_counts(), labels=df['is_renewal_needed'].value_counts().index, autopct='%1.1f%%',\n",
        "        shadow=True, startangle=90, pctdistance=0.8,labeldistance=0.1, rotatelabels=True,textprops={'fontsize': 14},radius=1.1)\n",
        "plt.title('Pie chart is renewal needed', fontsize=15, fontweight='bold', fontname='DejaVu Sans', ha='center')\n",
        "plt.show()"
      ],
      "metadata": {
        "colab": {
          "base_uri": "https://localhost:8080/",
          "height": 321
        },
        "id": "jb9RIBYDB3V4",
        "outputId": "62ebb743-2459-4853-fe66-74c4134abe7b"
      },
      "execution_count": 36,
      "outputs": [
        {
          "output_type": "display_data",
          "data": {
            "text/plain": [
              "<Figure size 360x360 with 1 Axes>"
            ],
            "image/png": "[encoded data removed]"
          },
          "metadata": {}
        }
      ]
    },
    {
      "cell_type": "markdown",
      "source": [
        "По графику видно, что около 25 процентов домов нуждаются в реновации."
      ],
      "metadata": {
        "id": "ib2ELFYO2C1l"
      }
    },
    {
      "cell_type": "markdown",
      "source": [
        "#Проверим данные на наличие явных дубликатов и удалим их"
      ],
      "metadata": {
        "id": "m33rY6OJ2lq2"
      }
    },
    {
      "cell_type": "code",
      "source": [
        "df = df.drop_duplicates(keep='first')"
      ],
      "metadata": {
        "id": "ySTn_IWV7Czy"
      },
      "execution_count": 37,
      "outputs": []
    },
    {
      "cell_type": "code",
      "source": [
        "df.duplicated().sum()"
      ],
      "metadata": {
        "colab": {
          "base_uri": "https://localhost:8080/"
        },
        "id": "7Ij8nIDy9Go7",
        "outputId": "228857b2-7120-45a5-c698-e65888afbe57"
      },
      "execution_count": 38,
      "outputs": [
        {
          "output_type": "execute_result",
          "data": {
            "text/plain": [
              "0"
            ]
          },
          "metadata": {},
          "execution_count": 38
        }
      ]
    },
    {
      "cell_type": "markdown",
      "source": [
        "#Построим корреляцию между признаками"
      ],
      "metadata": {
        "id": "9nqF-37S2ss0"
      }
    },
    {
      "cell_type": "code",
      "source": [
        "plt.figure(figsize=(16, 6))\n",
        "heatmap = sns.heatmap(df.corr(), vmin=-1, vmax=1, annot=True, cmap='BrBG')\n",
        "heatmap.set_title('Correlation Heatmap', fontdict={'fontsize':18}, pad=12);"
      ],
      "metadata": {
        "colab": {
          "base_uri": "https://localhost:8080/",
          "height": 401
        },
        "id": "bgINDHKzxwiG",
        "outputId": "e87a4a08-d172-41a7-dd12-26bb2b6803da"
      },
      "execution_count": 39,
      "outputs": [
        {
          "output_type": "display_data",
          "data": {
            "text/plain": [
              "<Figure size 1152x432 with 2 Axes>"
            ],
            "image/png": "[encoded data removed]"
          },
          "metadata": {}
        }
      ]
    },
    {
      "cell_type": "code",
      "source": [
        "plt.figure(figsize=(5, 7))\n",
        "heatmap = sns.heatmap(df.corr()[['buy_price']].sort_values(by='buy_price', ascending=False), vmin=-1, vmax=1, annot=True, cmap='BrBG')\n",
        "heatmap.set_title('Features Correlating with Buy Price', fontdict={'fontsize':18}, pad=16);"
      ],
      "metadata": {
        "colab": {
          "base_uri": "https://localhost:8080/",
          "height": 459
        },
        "id": "-ma3613zxe2u",
        "outputId": "7d7c6273-7bd4-4b2c-9b11-566d7e41f998"
      },
      "execution_count": 40,
      "outputs": [
        {
          "output_type": "display_data",
          "data": {
            "text/plain": [
              "<Figure size 360x504 with 2 Axes>"
            ],
            "image/png": "[encoded data removed]"
          },
          "metadata": {}
        }
      ]
    },
    {
      "cell_type": "markdown",
      "source": [
        "По данным из корреляции видно, что на целевой признак больше всего влияют цена за квадратный метр, площадь квартиры, количество ванных комнах и общее число комнат."
      ],
      "metadata": {
        "id": "LD2yyH9g205S"
      }
    },
    {
      "cell_type": "code",
      "source": [
        "df[['is_renewal_needed','has_parking']] = df[['is_renewal_needed','has_parking']].astype(int)"
      ],
      "metadata": {
        "id": "QC31GuL9Pr4Q"
      },
      "execution_count": 41,
      "outputs": []
    },
    {
      "cell_type": "markdown",
      "source": [
        "# Подготовим данные для кодирования и проведем его"
      ],
      "metadata": {
        "id": "BLEpS3jYDlrZ"
      }
    },
    {
      "cell_type": "code",
      "source": [
        "cat_columns = list(df.select_dtypes(include=['object']).columns)"
      ],
      "metadata": {
        "id": "MQD3pjg5PLLp"
      },
      "execution_count": 42,
      "outputs": []
    },
    {
      "cell_type": "code",
      "source": [
        "df.loc[:,cat_columns] = df.loc[:,cat_columns].astype(str)"
      ],
      "metadata": {
        "id": "14lqDgTrP3rg"
      },
      "execution_count": 43,
      "outputs": []
    },
    {
      "cell_type": "code",
      "source": [
        "enc = OrdinalEncoder()\n",
        "df.loc[:,cat_columns] = enc.fit_transform(df.loc[:,cat_columns])"
      ],
      "metadata": {
        "id": "4CLiOFnvBxIm"
      },
      "execution_count": 44,
      "outputs": []
    },
    {
      "cell_type": "markdown",
      "source": [
        "# Разделим данных для работы с моделью"
      ],
      "metadata": {
        "id": "IOU6L0P6DuFs"
      }
    },
    {
      "cell_type": "code",
      "source": [
        "features = df.drop('buy_price',axis=1)\n",
        "target = df['buy_price']"
      ],
      "metadata": {
        "id": "d-hl7klFFM_2"
      },
      "execution_count": 45,
      "outputs": []
    },
    {
      "cell_type": "code",
      "source": [
        "features_train, features_test, target_train, target_test = train_test_split(features, target, test_size=0.25, random_state=42)"
      ],
      "metadata": {
        "id": "ofeW-8xlFpI_"
      },
      "execution_count": 46,
      "outputs": []
    },
    {
      "cell_type": "markdown",
      "source": [
        "# Построим модели, с помощью валидации проверим их эффективность"
      ],
      "metadata": {
        "id": "MXLGHS0bEB-R"
      }
    },
    {
      "cell_type": "code",
      "source": [
        "def mae(y, y_pred):\n",
        "    return (mean_absolute_error(y, y_pred))\n",
        "\n",
        "def cv_mae(model):\n",
        "    mae = -cross_val_score(model, features_train, target_train, scoring=\"neg_mean_absolute_error\", cv=kf)\n",
        "    return (mae)"
      ],
      "metadata": {
        "id": "rwfek86nG4QO"
      },
      "execution_count": 47,
      "outputs": []
    },
    {
      "cell_type": "code",
      "source": [
        "kf = KFold(n_splits=3, random_state=42, shuffle=True)\n",
        "\n",
        "cv_scores = []\n",
        "cv_std = []\n",
        "\n",
        "baseline_models = ['Linear_Reg.','Bayesian_Ridge_Reg.','LGBM_Reg.',\n",
        "                   'Dec_Tree_Reg.','Random_Forest_Reg.', 'XGB_Reg.',\n",
        "                   'Grad_Boost_Reg.','Cat_Boost_Reg.','Stacked_Reg.']\n",
        "\n",
        "# Linear Regression\n",
        "\n",
        "lreg = LinearRegression()\n",
        "score_lreg = cv_mae(lreg)\n",
        "cv_scores.append(score_lreg.mean())\n",
        "cv_std.append(score_lreg.std())\n",
        "\n",
        "# Bayesian Ridge Regression\n",
        "\n",
        "brr = BayesianRidge(compute_score=True)\n",
        "score_brr = cv_mae(brr)\n",
        "cv_scores.append(score_brr.mean())\n",
        "cv_std.append(score_brr.std())\n",
        "\n",
        "# Light Gradient Boost Regressor\n",
        "\n",
        "l_gbm = LGBMRegressor(objective='regression')\n",
        "score_l_gbm = cv_mae(l_gbm)\n",
        "cv_scores.append(score_l_gbm.mean())\n",
        "cv_std.append(score_l_gbm.std())\n",
        "\n",
        "\n",
        "# Decision Tree Regressor\n",
        "\n",
        "dtr = DecisionTreeRegressor()\n",
        "score_dtr = cv_mae(dtr)\n",
        "cv_scores.append(score_dtr.mean())\n",
        "cv_std.append(score_dtr.std())\n",
        "\n",
        "# Random Forest Regressor\n",
        "\n",
        "rfr = RandomForestRegressor()\n",
        "score_rfr = cv_mae(rfr)\n",
        "cv_scores.append(score_rfr.mean())\n",
        "cv_std.append(score_rfr.std())\n",
        "\n",
        "# XGB Regressor\n",
        "\n",
        "xgb = xgb.XGBRegressor()\n",
        "score_xgb = cv_mae(xgb)\n",
        "cv_scores.append(score_xgb.mean())\n",
        "cv_std.append(score_xgb.std())\n",
        "\n",
        "# Gradient Boost Regressor\n",
        "\n",
        "gbr = GradientBoostingRegressor()\n",
        "score_gbr = cv_mae(gbr)\n",
        "cv_scores.append(score_gbr.mean())\n",
        "cv_std.append(score_gbr.std())\n",
        "\n",
        "# Cat Boost Regressor\n",
        "\n",
        "catb = CatBoostRegressor(verbose=False)\n",
        "score_catb = cv_mae(catb)\n",
        "cv_scores.append(score_catb.mean())\n",
        "cv_std.append(score_catb.std())\n",
        "\n",
        "# Stacked Regressor\n",
        "\n",
        "stack_gen = StackingRegressor(regressors=(CatBoostRegressor(verbose=False),\n",
        "                                          LinearRegression(),\n",
        "                                          BayesianRidge(),\n",
        "                                          GradientBoostingRegressor()),\n",
        "                              meta_regressor = CatBoostRegressor(verbose=False),\n",
        "                              use_features_in_secondary = True)\n",
        "\n",
        "score_stack_gen = cv_mae(stack_gen)\n",
        "cv_scores.append(score_stack_gen.mean())\n",
        "cv_std.append(score_stack_gen.std())\n",
        "\n",
        "final_cv_score = pd.DataFrame(baseline_models, columns = ['Regressors'])\n",
        "final_cv_score['MAE_mean'] = cv_scores\n",
        "final_cv_score['MAE_std'] = cv_std"
      ],
      "metadata": {
        "colab": {
          "base_uri": "https://localhost:8080/"
        },
        "id": "vTPYwPuhHBD6",
        "outputId": "cf52980d-3455-4064-d0e3-f8d5509a29f3"
      },
      "execution_count": 48,
      "outputs": [
        {
          "output_type": "stream",
          "name": "stdout",
          "text": [
            "[11:22:13] WARNING: /workspace/src/objective/regression_obj.cu:152: reg:linear is now deprecated in favor of reg:squarederror.\n",
            "[11:22:15] WARNING: /workspace/src/objective/regression_obj.cu:152: reg:linear is now deprecated in favor of reg:squarederror.\n",
            "[11:22:15] WARNING: /workspace/src/objective/regression_obj.cu:152: reg:linear is now deprecated in favor of reg:squarederror.\n"
          ]
        }
      ]
    },
    {
      "cell_type": "code",
      "source": [
        "final_cv_score.sort_values(by='MAE_mean')"
      ],
      "metadata": {
        "colab": {
          "base_uri": "https://localhost:8080/",
          "height": 328
        },
        "id": "ySsvYTyjI6uL",
        "outputId": "010b3f5e-e1da-45e7-d2f6-a2bb3e09e651"
      },
      "execution_count": 49,
      "outputs": [
        {
          "output_type": "execute_result",
          "data": {
            "text/plain": [
              "            Regressors      MAE_mean     MAE_std\n",
              "7       Cat_Boost_Reg.   4335.353455    5.372060\n",
              "8         Stacked_Reg.   4717.091410  121.496626\n",
              "4   Random_Forest_Reg.   4893.173331  172.804969\n",
              "2            LGBM_Reg.   7281.114508  106.146876\n",
              "3        Dec_Tree_Reg.  10189.362518  259.686671\n",
              "6      Grad_Boost_Reg.  13082.144908  217.286769\n",
              "5             XGB_Reg.  13244.717444  507.296831\n",
              "1  Bayesian_Ridge_Reg.  62895.141966  866.716260\n",
              "0          Linear_Reg.  62929.463422  854.038449"
            ],
            "text/html": [
              "\n",
              "  <div id=\"df-16a030c6-d4cc-413b-81a7-dab085712f12\">\n",
              "    <div class=\"colab-df-container\">\n",
              "      <div>\n",
              "<style scoped>\n",
              "    .dataframe tbody tr th:only-of-type {\n",
              "        vertical-align: middle;\n",
              "    }\n",
              "\n",
              "    .dataframe tbody tr th {\n",
              "        vertical-align: top;\n",
              "    }\n",
              "\n",
              "    .dataframe thead th {\n",
              "        text-align: right;\n",
              "    }\n",
              "</style>\n",
              "<table border=\"1\" class=\"dataframe\">\n",
              "  <thead>\n",
              "    <tr style=\"text-align: right;\">\n",
              "      <th></th>\n",
              "      <th>Regressors</th>\n",
              "      <th>MAE_mean</th>\n",
              "      <th>MAE_std</th>\n",
              "    </tr>\n",
              "  </thead>\n",
              "  <tbody>\n",
              "    <tr>\n",
              "      <th>7</th>\n",
              "      <td>Cat_Boost_Reg.</td>\n",
              "      <td>4335.353455</td>\n",
              "      <td>5.372060</td>\n",
              "    </tr>\n",
              "    <tr>\n",
              "      <th>8</th>\n",
              "      <td>Stacked_Reg.</td>\n",
              "      <td>4717.091410</td>\n",
              "      <td>121.496626</td>\n",
              "    </tr>\n",
              "    <tr>\n",
              "      <th>4</th>\n",
              "      <td>Random_Forest_Reg.</td>\n",
              "      <td>4893.173331</td>\n",
              "      <td>172.804969</td>\n",
              "    </tr>\n",
              "    <tr>\n",
              "      <th>2</th>\n",
              "      <td>LGBM_Reg.</td>\n",
              "      <td>7281.114508</td>\n",
              "      <td>106.146876</td>\n",
              "    </tr>\n",
              "    <tr>\n",
              "      <th>3</th>\n",
              "      <td>Dec_Tree_Reg.</td>\n",
              "      <td>10189.362518</td>\n",
              "      <td>259.686671</td>\n",
              "    </tr>\n",
              "    <tr>\n",
              "      <th>6</th>\n",
              "      <td>Grad_Boost_Reg.</td>\n",
              "      <td>13082.144908</td>\n",
              "      <td>217.286769</td>\n",
              "    </tr>\n",
              "    <tr>\n",
              "      <th>5</th>\n",
              "      <td>XGB_Reg.</td>\n",
              "      <td>13244.717444</td>\n",
              "      <td>507.296831</td>\n",
              "    </tr>\n",
              "    <tr>\n",
              "      <th>1</th>\n",
              "      <td>Bayesian_Ridge_Reg.</td>\n",
              "      <td>62895.141966</td>\n",
              "      <td>866.716260</td>\n",
              "    </tr>\n",
              "    <tr>\n",
              "      <th>0</th>\n",
              "      <td>Linear_Reg.</td>\n",
              "      <td>62929.463422</td>\n",
              "      <td>854.038449</td>\n",
              "    </tr>\n",
              "  </tbody>\n",
              "</table>\n",
              "</div>\n",
              "      <button class=\"colab-df-convert\" onclick=\"convertToInteractive('df-16a030c6-d4cc-413b-81a7-dab085712f12')\"\n",
              "              title=\"Convert this dataframe to an interactive table.\"\n",
              "              style=\"display:none;\">\n",
              "        \n",
              "  <svg xmlns=\"http://www.w3.org/2000/svg\" height=\"24px\"viewBox=\"0 0 24 24\"\n",
              "       width=\"24px\">\n",
              "    <path d=\"M0 0h24v24H0V0z\" fill=\"none\"/>\n",
              "    <path d=\"M18.56 5.44l.94 2.06.94-2.06 2.06-.94-2.06-.94-.94-2.06-.94 2.06-2.06.94zm-11 1L8.5 8.5l.94-2.06 2.06-.94-2.06-.94L8.5 2.5l-.94 2.06-2.06.94zm10 10l.94 2.06.94-2.06 2.06-.94-2.06-.94-.94-2.06-.94 2.06-2.06.94z\"/><path d=\"M17.41 7.96l-1.37-1.37c-.4-.4-.92-.59-1.43-.59-.52 0-1.04.2-1.43.59L10.3 9.45l-7.72 7.72c-.78.78-.78 2.05 0 2.83L4 21.41c.39.39.9.59 1.41.59.51 0 1.02-.2 1.41-.59l7.78-7.78 2.81-2.81c.8-.78.8-2.07 0-2.86zM5.41 20L4 18.59l7.72-7.72 1.47 1.35L5.41 20z\"/>\n",
              "  </svg>\n",
              "      </button>\n",
              "      \n",
              "  <style>\n",
              "    .colab-df-container {\n",
              "      display:flex;\n",
              "      flex-wrap:wrap;\n",
              "      gap: 12px;\n",
              "    }\n",
              "\n",
              "    .colab-df-convert {\n",
              "      background-color: #E8F0FE;\n",
              "      border: none;\n",
              "      border-radius: 50%;\n",
              "      cursor: pointer;\n",
              "      display: none;\n",
              "      fill: #1967D2;\n",
              "      height: 32px;\n",
              "      padding: 0 0 0 0;\n",
              "      width: 32px;\n",
              "    }\n",
              "\n",
              "    .colab-df-convert:hover {\n",
              "      background-color: #E2EBFA;\n",
              "      box-shadow: 0px 1px 2px rgba(60, 64, 67, 0.3), 0px 1px 3px 1px rgba(60, 64, 67, 0.15);\n",
              "      fill: #174EA6;\n",
              "    }\n",
              "\n",
              "    [theme=dark] .colab-df-convert {\n",
              "      background-color: #3B4455;\n",
              "      fill: #D2E3FC;\n",
              "    }\n",
              "\n",
              "    [theme=dark] .colab-df-convert:hover {\n",
              "      background-color: #434B5C;\n",
              "      box-shadow: 0px 1px 3px 1px rgba(0, 0, 0, 0.15);\n",
              "      filter: drop-shadow(0px 1px 2px rgba(0, 0, 0, 0.3));\n",
              "      fill: #FFFFFF;\n",
              "    }\n",
              "  </style>\n",
              "\n",
              "      <script>\n",
              "        const buttonEl =\n",
              "          document.querySelector('#df-16a030c6-d4cc-413b-81a7-dab085712f12 button.colab-df-convert');\n",
              "        buttonEl.style.display =\n",
              "          google.colab.kernel.accessAllowed ? 'block' : 'none';\n",
              "\n",
              "        async function convertToInteractive(key) {\n",
              "          const element = document.querySelector('#df-16a030c6-d4cc-413b-81a7-dab085712f12');\n",
              "          const dataTable =\n",
              "            await google.colab.kernel.invokeFunction('convertToInteractive',\n",
              "                                                     [key], {});\n",
              "          if (!dataTable) return;\n",
              "\n",
              "          const docLinkHtml = 'Like what you see? Visit the ' +\n",
              "            '<a target=\"_blank\" href=https://colab.research.google.com/notebooks/data_table.ipynb>data table notebook</a>'\n",
              "            + ' to learn more about interactive tables.';\n",
              "          element.innerHTML = '';\n",
              "          dataTable['output_type'] = 'display_data';\n",
              "          await google.colab.output.renderOutput(dataTable, element);\n",
              "          const docLink = document.createElement('div');\n",
              "          docLink.innerHTML = docLinkHtml;\n",
              "          element.appendChild(docLink);\n",
              "        }\n",
              "      </script>\n",
              "    </div>\n",
              "  </div>\n",
              "  "
            ]
          },
          "metadata": {},
          "execution_count": 49
        }
      ]
    },
    {
      "cell_type": "markdown",
      "source": [
        "Из таблицы видно, что самая результативная модель CatBoost, подберем параметры и оптимизируем модель"
      ],
      "metadata": {
        "id": "FxXN7IajEsZ8"
      }
    },
    {
      "cell_type": "code",
      "source": [
        "pip install --q optuna"
      ],
      "metadata": {
        "id": "AKZQeOzoRZkv",
        "colab": {
          "base_uri": "https://localhost:8080/"
        },
        "outputId": "4dbffd7c-d68c-48df-8e1f-d88d87a96e5b"
      },
      "execution_count": 50,
      "outputs": [
        {
          "output_type": "stream",
          "name": "stdout",
          "text": [
            "\u001b[2K     \u001b[90m━━━━━━━━━━━━━━━━━━━━━━━━━━━━━━━━━━━━━━\u001b[0m \u001b[32m348.5/348.5 KB\u001b[0m \u001b[31m25.6 MB/s\u001b[0m eta \u001b[36m0:00:00\u001b[0m\n",
            "\u001b[2K     \u001b[90m━━━━━━━━━━━━━━━━━━━━━━━━━━━━━━━━━━━━━━━━\u001b[0m \u001b[32m81.0/81.0 KB\u001b[0m \u001b[31m12.1 MB/s\u001b[0m eta \u001b[36m0:00:00\u001b[0m\n",
            "\u001b[2K     \u001b[90m━━━━━━━━━━━━━━━━━━━━━━━━━━━━━━━━━━━━━━\u001b[0m \u001b[32m210.6/210.6 KB\u001b[0m \u001b[31m26.2 MB/s\u001b[0m eta \u001b[36m0:00:00\u001b[0m\n",
            "\u001b[2K     \u001b[90m━━━━━━━━━━━━━━━━━━━━━━━━━━━━━━━━━━━━━━━━\u001b[0m \u001b[32m78.7/78.7 KB\u001b[0m \u001b[31m10.1 MB/s\u001b[0m eta \u001b[36m0:00:00\u001b[0m\n",
            "\u001b[2K     \u001b[90m━━━━━━━━━━━━━━━━━━━━━━━━━━━━━━━━━━━━━━━━\u001b[0m \u001b[32m50.0/50.0 KB\u001b[0m \u001b[31m6.7 MB/s\u001b[0m eta \u001b[36m0:00:00\u001b[0m\n",
            "\u001b[2K     \u001b[90m━━━━━━━━━━━━━━━━━━━━━━━━━━━━━━━━━━━━━━\u001b[0m \u001b[32m147.1/147.1 KB\u001b[0m \u001b[31m19.1 MB/s\u001b[0m eta \u001b[36m0:00:00\u001b[0m\n",
            "\u001b[?25h  Preparing metadata (setup.py) ... \u001b[?25l\u001b[?25hdone\n",
            "\u001b[2K     \u001b[90m━━━━━━━━━━━━━━━━━━━━━━━━━━━━━━━━━━━━━━\u001b[0m \u001b[32m112.7/112.7 KB\u001b[0m \u001b[31m17.0 MB/s\u001b[0m eta \u001b[36m0:00:00\u001b[0m\n",
            "\u001b[?25h  Building wheel for pyperclip (setup.py) ... \u001b[?25l\u001b[?25hdone\n"
          ]
        }
      ]
    },
    {
      "cell_type": "code",
      "source": [
        "import optuna"
      ],
      "metadata": {
        "id": "Hcgi3UVPRXmr"
      },
      "execution_count": 51,
      "outputs": []
    },
    {
      "cell_type": "code",
      "source": [
        "param_cb = {\n",
        "            \"subsample\": optuna.distributions.FloatDistribution (0.5, 0.99),\n",
        "            'learning_rate': optuna.distributions.FloatDistribution (0.0001, 0.1)\n",
        "            }\n",
        "catb = CatBoostRegressor(verbose=False)\n",
        "optuna_search = optuna.integration.OptunaSearchCV(catb,param_cb, cv=3, scoring='neg_mean_absolute_error',n_jobs=-1,n_trials=100)\n",
        "optuna_search.fit(features_train, target_train)"
      ],
      "metadata": {
        "colab": {
          "base_uri": "https://localhost:8080/"
        },
        "id": "8LuGkk04QryD",
        "outputId": "83732b9b-fe76-4f43-b23f-e5294d79095a"
      },
      "execution_count": 52,
      "outputs": [
        {
          "output_type": "stream",
          "name": "stderr",
          "text": [
            "<ipython-input-52-4d2e8df6602e>:6: ExperimentalWarning: OptunaSearchCV is experimental (supported from v0.17.0). The interface can change in the future.\n",
            "  optuna_search = optuna.integration.OptunaSearchCV(catb,param_cb, cv=3, scoring='neg_mean_absolute_error',n_jobs=-1,n_trials=100)\n",
            "\u001b[32m[I 2023-01-15 11:23:01,332]\u001b[0m A new study created in memory with name: no-name-ba71c431-1a39-4fe4-89dd-18a39339fbc8\u001b[0m\n",
            "\u001b[32m[I 2023-01-15 11:23:28,804]\u001b[0m Trial 1 finished with value: -4113.667301235529 and parameters: {'subsample': 0.7810585791715927, 'learning_rate': 0.0876262546651594}. Best is trial 1 with value: -4113.667301235529.\u001b[0m\n",
            "\u001b[32m[I 2023-01-15 11:23:28,915]\u001b[0m Trial 0 finished with value: -4245.955695786718 and parameters: {'subsample': 0.898083191294391, 'learning_rate': 0.06043983346223722}. Best is trial 1 with value: -4113.667301235529.\u001b[0m\n",
            "\u001b[32m[I 2023-01-15 11:23:44,437]\u001b[0m Trial 2 finished with value: -4418.6596922209455 and parameters: {'subsample': 0.587711593222549, 'learning_rate': 0.039832737161346984}. Best is trial 1 with value: -4113.667301235529.\u001b[0m\n",
            "\u001b[32m[I 2023-01-15 11:23:46,362]\u001b[0m Trial 3 finished with value: -4385.5912204741635 and parameters: {'subsample': 0.7805222266871817, 'learning_rate': 0.040383678950206135}. Best is trial 1 with value: -4113.667301235529.\u001b[0m\n",
            "\u001b[32m[I 2023-01-15 11:24:00,349]\u001b[0m Trial 4 finished with value: -22377.770049705126 and parameters: {'subsample': 0.5932275861238355, 'learning_rate': 0.0031507348949242975}. Best is trial 1 with value: -4113.667301235529.\u001b[0m\n",
            "\u001b[32m[I 2023-01-15 11:24:02,206]\u001b[0m Trial 5 finished with value: -4196.044890823914 and parameters: {'subsample': 0.6297547010883495, 'learning_rate': 0.05663162089713295}. Best is trial 1 with value: -4113.667301235529.\u001b[0m\n",
            "\u001b[32m[I 2023-01-15 11:24:16,127]\u001b[0m Trial 6 finished with value: -4427.538244308951 and parameters: {'subsample': 0.8119864141619071, 'learning_rate': 0.03679210678468575}. Best is trial 1 with value: -4113.667301235529.\u001b[0m\n",
            "\u001b[32m[I 2023-01-15 11:24:17,897]\u001b[0m Trial 7 finished with value: -4501.618013436998 and parameters: {'subsample': 0.5838500672941401, 'learning_rate': 0.03207771440714307}. Best is trial 1 with value: -4113.667301235529.\u001b[0m\n",
            "\u001b[32m[I 2023-01-15 11:24:33,706]\u001b[0m Trial 8 finished with value: -4824.356708171196 and parameters: {'subsample': 0.7601751771721188, 'learning_rate': 0.0247601037363455}. Best is trial 1 with value: -4113.667301235529.\u001b[0m\n",
            "\u001b[32m[I 2023-01-15 11:24:36,195]\u001b[0m Trial 9 finished with value: -4283.0719084625825 and parameters: {'subsample': 0.7127145849643469, 'learning_rate': 0.05053205845446248}. Best is trial 1 with value: -4113.667301235529.\u001b[0m\n",
            "\u001b[32m[I 2023-01-15 11:24:49,174]\u001b[0m Trial 10 finished with value: -4311.815937939683 and parameters: {'subsample': 0.6906018565680223, 'learning_rate': 0.046813497044711334}. Best is trial 1 with value: -4113.667301235529.\u001b[0m\n",
            "\u001b[32m[I 2023-01-15 11:24:52,288]\u001b[0m Trial 11 finished with value: -4120.961757678534 and parameters: {'subsample': 0.9706781996041602, 'learning_rate': 0.09974114781950338}. Best is trial 1 with value: -4113.667301235529.\u001b[0m\n",
            "\u001b[32m[I 2023-01-15 11:25:05,469]\u001b[0m Trial 12 finished with value: -4185.942105023593 and parameters: {'subsample': 0.9284879167089823, 'learning_rate': 0.09425953875572249}. Best is trial 1 with value: -4113.667301235529.\u001b[0m\n",
            "\u001b[32m[I 2023-01-15 11:25:08,304]\u001b[0m Trial 13 finished with value: -4033.213801463867 and parameters: {'subsample': 0.9886453619326036, 'learning_rate': 0.0990846445280113}. Best is trial 13 with value: -4033.213801463867.\u001b[0m\n",
            "\u001b[32m[I 2023-01-15 11:25:22,195]\u001b[0m Trial 14 finished with value: -4074.7247726406918 and parameters: {'subsample': 0.9858733798031748, 'learning_rate': 0.09953945455866854}. Best is trial 13 with value: -4033.213801463867.\u001b[0m\n",
            "\u001b[32m[I 2023-01-15 11:25:24,086]\u001b[0m Trial 15 finished with value: -4069.279375384274 and parameters: {'subsample': 0.848707287852269, 'learning_rate': 0.07965617150567252}. Best is trial 13 with value: -4033.213801463867.\u001b[0m\n",
            "\u001b[32m[I 2023-01-15 11:25:37,795]\u001b[0m Trial 16 finished with value: -4199.157395495947 and parameters: {'subsample': 0.8707021087579148, 'learning_rate': 0.07585544003051396}. Best is trial 13 with value: -4033.213801463867.\u001b[0m\n",
            "\u001b[32m[I 2023-01-15 11:25:40,483]\u001b[0m Trial 17 finished with value: -4135.6083831000215 and parameters: {'subsample': 0.8608533944350553, 'learning_rate': 0.07708826674633182}. Best is trial 13 with value: -4033.213801463867.\u001b[0m\n",
            "\u001b[32m[I 2023-01-15 11:25:54,076]\u001b[0m Trial 18 finished with value: -4088.926692752617 and parameters: {'subsample': 0.8549887980150274, 'learning_rate': 0.07530858139920996}. Best is trial 13 with value: -4033.213801463867.\u001b[0m\n",
            "\u001b[32m[I 2023-01-15 11:25:56,231]\u001b[0m Trial 19 finished with value: -4156.466258224544 and parameters: {'subsample': 0.8319409670873291, 'learning_rate': 0.07539869018910703}. Best is trial 13 with value: -4033.213801463867.\u001b[0m\n",
            "\u001b[32m[I 2023-01-15 11:26:10,667]\u001b[0m Trial 20 finished with value: -4123.601754662307 and parameters: {'subsample': 0.9339947904112083, 'learning_rate': 0.08551624645691319}. Best is trial 13 with value: -4033.213801463867.\u001b[0m\n",
            "\u001b[32m[I 2023-01-15 11:26:11,196]\u001b[0m Trial 21 finished with value: -4161.045943021039 and parameters: {'subsample': 0.5030755835653486, 'learning_rate': 0.08895818060996541}. Best is trial 13 with value: -4033.213801463867.\u001b[0m\n",
            "\u001b[32m[I 2023-01-15 11:26:26,592]\u001b[0m Trial 22 finished with value: -4088.3008678296924 and parameters: {'subsample': 0.9802131741527917, 'learning_rate': 0.09979431958513593}. Best is trial 13 with value: -4033.213801463867.\u001b[0m\n",
            "\u001b[32m[I 2023-01-15 11:26:27,256]\u001b[0m Trial 23 finished with value: -4037.2248986518352 and parameters: {'subsample': 0.9889359645720197, 'learning_rate': 0.0988920994897994}. Best is trial 13 with value: -4033.213801463867.\u001b[0m\n",
            "\u001b[32m[I 2023-01-15 11:26:42,768]\u001b[0m Trial 24 finished with value: -4257.307387431905 and parameters: {'subsample': 0.9459931528547334, 'learning_rate': 0.06616921766505232}. Best is trial 13 with value: -4033.213801463867.\u001b[0m\n",
            "\u001b[32m[I 2023-01-15 11:26:43,220]\u001b[0m Trial 25 finished with value: -4298.433752962785 and parameters: {'subsample': 0.920274963856943, 'learning_rate': 0.06720161418052845}. Best is trial 13 with value: -4033.213801463867.\u001b[0m\n",
            "\u001b[32m[I 2023-01-15 11:26:58,996]\u001b[0m Trial 26 finished with value: -4198.652651770765 and parameters: {'subsample': 0.9029932313576974, 'learning_rate': 0.08906890039383143}. Best is trial 13 with value: -4033.213801463867.\u001b[0m\n",
            "\u001b[32m[I 2023-01-15 11:26:59,540]\u001b[0m Trial 27 finished with value: -4125.242494189887 and parameters: {'subsample': 0.8952676326170586, 'learning_rate': 0.08326184730070847}. Best is trial 13 with value: -4033.213801463867.\u001b[0m\n",
            "\u001b[32m[I 2023-01-15 11:27:14,656]\u001b[0m Trial 28 finished with value: -4092.6661998908335 and parameters: {'subsample': 0.9577874234558438, 'learning_rate': 0.08353753253884773}. Best is trial 13 with value: -4033.213801463867.\u001b[0m\n",
            "\u001b[32m[I 2023-01-15 11:27:16,056]\u001b[0m Trial 29 finished with value: -4146.483008851364 and parameters: {'subsample': 0.9564750313592287, 'learning_rate': 0.09231378448013414}. Best is trial 13 with value: -4033.213801463867.\u001b[0m\n",
            "\u001b[32m[I 2023-01-15 11:27:31,400]\u001b[0m Trial 30 finished with value: -4105.642806415315 and parameters: {'subsample': 0.8894860486775853, 'learning_rate': 0.09389736718786602}. Best is trial 13 with value: -4033.213801463867.\u001b[0m\n",
            "\u001b[32m[I 2023-01-15 11:27:33,964]\u001b[0m Trial 31 finished with value: -4212.6914271983405 and parameters: {'subsample': 0.8918854388877653, 'learning_rate': 0.06959336963260646}. Best is trial 13 with value: -4033.213801463867.\u001b[0m\n",
            "\u001b[32m[I 2023-01-15 11:27:48,121]\u001b[0m Trial 32 finished with value: -4051.923437066626 and parameters: {'subsample': 0.9874472581895646, 'learning_rate': 0.09901468819869652}. Best is trial 13 with value: -4033.213801463867.\u001b[0m\n",
            "\u001b[32m[I 2023-01-15 11:27:50,399]\u001b[0m Trial 33 finished with value: -4039.391284604388 and parameters: {'subsample': 0.989635730009848, 'learning_rate': 0.0992957774587935}. Best is trial 13 with value: -4033.213801463867.\u001b[0m\n",
            "\u001b[32m[I 2023-01-15 11:28:04,527]\u001b[0m Trial 34 finished with value: -4110.020445307876 and parameters: {'subsample': 0.9887230218475683, 'learning_rate': 0.08328286609066066}. Best is trial 13 with value: -4033.213801463867.\u001b[0m\n",
            "\u001b[32m[I 2023-01-15 11:28:07,438]\u001b[0m Trial 35 finished with value: -4144.09540647431 and parameters: {'subsample': 0.9847961213503611, 'learning_rate': 0.09439491828807696}. Best is trial 13 with value: -4033.213801463867.\u001b[0m\n",
            "\u001b[32m[I 2023-01-15 11:28:20,687]\u001b[0m Trial 36 finished with value: -4158.492563090341 and parameters: {'subsample': 0.9410982004737581, 'learning_rate': 0.09396727428062182}. Best is trial 13 with value: -4033.213801463867.\u001b[0m\n",
            "\u001b[32m[I 2023-01-15 11:28:23,491]\u001b[0m Trial 37 finished with value: -5547.761621119084 and parameters: {'subsample': 0.9218258123336422, 'learning_rate': 0.015553824213731832}. Best is trial 13 with value: -4033.213801463867.\u001b[0m\n",
            "\u001b[32m[I 2023-01-15 11:28:36,641]\u001b[0m Trial 38 finished with value: -5941.028952862344 and parameters: {'subsample': 0.9175518471253208, 'learning_rate': 0.012950964963660355}. Best is trial 13 with value: -4033.213801463867.\u001b[0m\n",
            "\u001b[32m[I 2023-01-15 11:28:39,653]\u001b[0m Trial 39 finished with value: -4118.5492926594825 and parameters: {'subsample': 0.7923463828241263, 'learning_rate': 0.08897258347089683}. Best is trial 13 with value: -4033.213801463867.\u001b[0m\n",
            "\u001b[32m[I 2023-01-15 11:28:52,700]\u001b[0m Trial 40 finished with value: -4190.689797622388 and parameters: {'subsample': 0.8174846090840168, 'learning_rate': 0.08982030771479559}. Best is trial 13 with value: -4033.213801463867.\u001b[0m\n",
            "\u001b[32m[I 2023-01-15 11:28:56,554]\u001b[0m Trial 41 finished with value: -4312.3530634858425 and parameters: {'subsample': 0.9593162330191558, 'learning_rate': 0.06022018362116719}. Best is trial 13 with value: -4033.213801463867.\u001b[0m\n",
            "\u001b[32m[I 2023-01-15 11:29:09,529]\u001b[0m Trial 42 finished with value: -4126.3601550577 and parameters: {'subsample': 0.9556593732343214, 'learning_rate': 0.07994874306577049}. Best is trial 13 with value: -4033.213801463867.\u001b[0m\n",
            "\u001b[32m[I 2023-01-15 11:29:12,635]\u001b[0m Trial 43 finished with value: -4217.608877737758 and parameters: {'subsample': 0.7221753076885484, 'learning_rate': 0.08019450325577612}. Best is trial 13 with value: -4033.213801463867.\u001b[0m\n",
            "\u001b[32m[I 2023-01-15 11:29:25,925]\u001b[0m Trial 44 finished with value: -4135.728415460126 and parameters: {'subsample': 0.6515625721181455, 'learning_rate': 0.09463366418879762}. Best is trial 13 with value: -4033.213801463867.\u001b[0m\n",
            "\u001b[32m[I 2023-01-15 11:29:28,441]\u001b[0m Trial 45 finished with value: -4107.731441569684 and parameters: {'subsample': 0.6476433860526003, 'learning_rate': 0.09353178759308681}. Best is trial 13 with value: -4033.213801463867.\u001b[0m\n",
            "\u001b[32m[I 2023-01-15 11:29:42,459]\u001b[0m Trial 46 finished with value: -4106.001039566491 and parameters: {'subsample': 0.9692739582055676, 'learning_rate': 0.09803347885038974}. Best is trial 13 with value: -4033.213801463867.\u001b[0m\n",
            "\u001b[32m[I 2023-01-15 11:29:44,482]\u001b[0m Trial 47 finished with value: -4099.473409715129 and parameters: {'subsample': 0.9610025862612751, 'learning_rate': 0.09817734724230737}. Best is trial 13 with value: -4033.213801463867.\u001b[0m\n",
            "\u001b[32m[I 2023-01-15 11:29:58,895]\u001b[0m Trial 48 finished with value: -4086.0490264499654 and parameters: {'subsample': 0.8745044914006059, 'learning_rate': 0.09980886980561848}. Best is trial 13 with value: -4033.213801463867.\u001b[0m\n",
            "\u001b[32m[I 2023-01-15 11:30:00,927]\u001b[0m Trial 49 finished with value: -4156.387169925487 and parameters: {'subsample': 0.938110949175417, 'learning_rate': 0.07157420361152847}. Best is trial 13 with value: -4033.213801463867.\u001b[0m\n",
            "\u001b[32m[I 2023-01-15 11:30:15,292]\u001b[0m Trial 50 finished with value: -4341.978780638543 and parameters: {'subsample': 0.8471125698905002, 'learning_rate': 0.05247920390632951}. Best is trial 13 with value: -4033.213801463867.\u001b[0m\n",
            "\u001b[32m[I 2023-01-15 11:30:17,477]\u001b[0m Trial 51 finished with value: -4330.245013648963 and parameters: {'subsample': 0.8357870660328343, 'learning_rate': 0.052256439079321704}. Best is trial 13 with value: -4033.213801463867.\u001b[0m\n",
            "\u001b[32m[I 2023-01-15 11:30:31,196]\u001b[0m Trial 52 finished with value: -4071.9977850188984 and parameters: {'subsample': 0.9880102455053664, 'learning_rate': 0.08611555195950525}. Best is trial 13 with value: -4033.213801463867.\u001b[0m\n",
            "\u001b[32m[I 2023-01-15 11:30:33,871]\u001b[0m Trial 53 finished with value: -4135.921430507355 and parameters: {'subsample': 0.9887365293729231, 'learning_rate': 0.08612488914002715}. Best is trial 13 with value: -4033.213801463867.\u001b[0m\n",
            "\u001b[32m[I 2023-01-15 11:30:47,309]\u001b[0m Trial 54 finished with value: -4088.5831241948385 and parameters: {'subsample': 0.9707858225189627, 'learning_rate': 0.08679146095181912}. Best is trial 13 with value: -4033.213801463867.\u001b[0m\n",
            "\u001b[32m[I 2023-01-15 11:30:50,497]\u001b[0m Trial 55 finished with value: -4120.165265419585 and parameters: {'subsample': 0.909323944732795, 'learning_rate': 0.09100670286452663}. Best is trial 13 with value: -4033.213801463867.\u001b[0m\n",
            "\u001b[32m[I 2023-01-15 11:31:03,860]\u001b[0m Trial 56 finished with value: -4156.992567350063 and parameters: {'subsample': 0.7529416225982565, 'learning_rate': 0.09609423455924317}. Best is trial 13 with value: -4033.213801463867.\u001b[0m\n",
            "\u001b[32m[I 2023-01-15 11:31:06,613]\u001b[0m Trial 57 finished with value: -4120.676131637245 and parameters: {'subsample': 0.763053831432804, 'learning_rate': 0.09575951148739698}. Best is trial 13 with value: -4033.213801463867.\u001b[0m\n",
            "\u001b[32m[I 2023-01-15 11:31:19,831]\u001b[0m Trial 58 finished with value: -4138.169229482186 and parameters: {'subsample': 0.9399555229315707, 'learning_rate': 0.08149880462015054}. Best is trial 13 with value: -4033.213801463867.\u001b[0m\n",
            "\u001b[32m[I 2023-01-15 11:31:23,063]\u001b[0m Trial 59 finished with value: -4192.772397706254 and parameters: {'subsample': 0.9364643063963028, 'learning_rate': 0.08091486745845405}. Best is trial 13 with value: -4033.213801463867.\u001b[0m\n",
            "\u001b[32m[I 2023-01-15 11:31:35,668]\u001b[0m Trial 60 finished with value: -4351.068579839489 and parameters: {'subsample': 0.9721383441345223, 'learning_rate': 0.040750454255139096}. Best is trial 13 with value: -4033.213801463867.\u001b[0m\n",
            "\u001b[32m[I 2023-01-15 11:31:39,993]\u001b[0m Trial 61 finished with value: -4103.6761101359025 and parameters: {'subsample': 0.9744114601536832, 'learning_rate': 0.08768471476509802}. Best is trial 13 with value: -4033.213801463867.\u001b[0m\n",
            "\u001b[32m[I 2023-01-15 11:31:52,165]\u001b[0m Trial 62 finished with value: -4050.5348776784977 and parameters: {'subsample': 0.987196780000348, 'learning_rate': 0.0986235995981718}. Best is trial 13 with value: -4033.213801463867.\u001b[0m\n",
            "\u001b[32m[I 2023-01-15 11:31:56,429]\u001b[0m Trial 63 finished with value: -4085.958853352009 and parameters: {'subsample': 0.9890114378239755, 'learning_rate': 0.09940107068912}. Best is trial 13 with value: -4033.213801463867.\u001b[0m\n",
            "\u001b[32m[I 2023-01-15 11:32:08,386]\u001b[0m Trial 64 finished with value: -4116.332543729516 and parameters: {'subsample': 0.9572048875437881, 'learning_rate': 0.09677109329265636}. Best is trial 13 with value: -4033.213801463867.\u001b[0m\n",
            "\u001b[32m[I 2023-01-15 11:32:12,933]\u001b[0m Trial 65 finished with value: -4152.035401100583 and parameters: {'subsample': 0.9464756156678209, 'learning_rate': 0.09152511634044114}. Best is trial 13 with value: -4033.213801463867.\u001b[0m\n",
            "\u001b[32m[I 2023-01-15 11:32:25,135]\u001b[0m Trial 66 finished with value: -4096.636933221206 and parameters: {'subsample': 0.9270210278136994, 'learning_rate': 0.09098683641989035}. Best is trial 13 with value: -4033.213801463867.\u001b[0m\n",
            "\u001b[32m[I 2023-01-15 11:32:29,058]\u001b[0m Trial 67 finished with value: -4123.756297278264 and parameters: {'subsample': 0.8801125173427045, 'learning_rate': 0.09081879463449126}. Best is trial 13 with value: -4033.213801463867.\u001b[0m\n",
            "\u001b[32m[I 2023-01-15 11:32:41,426]\u001b[0m Trial 68 finished with value: -4180.327170469028 and parameters: {'subsample': 0.8775059291487723, 'learning_rate': 0.08580339326957584}. Best is trial 13 with value: -4033.213801463867.\u001b[0m\n",
            "\u001b[32m[I 2023-01-15 11:32:43,815]\u001b[0m Trial 69 finished with value: -4152.913481054081 and parameters: {'subsample': 0.503886492652482, 'learning_rate': 0.0858936143051067}. Best is trial 13 with value: -4033.213801463867.\u001b[0m\n",
            "\u001b[32m[I 2023-01-15 11:32:56,843]\u001b[0m Trial 70 finished with value: -4133.465407226999 and parameters: {'subsample': 0.5525485430977508, 'learning_rate': 0.07662055099753198}. Best is trial 13 with value: -4033.213801463867.\u001b[0m\n",
            "\u001b[32m[I 2023-01-15 11:33:00,255]\u001b[0m Trial 71 finished with value: -4147.282012589483 and parameters: {'subsample': 0.9070857644911728, 'learning_rate': 0.07744872667093654}. Best is trial 13 with value: -4033.213801463867.\u001b[0m\n",
            "\u001b[32m[I 2023-01-15 11:33:13,145]\u001b[0m Trial 72 finished with value: -4046.9630605721127 and parameters: {'subsample': 0.9761850983413549, 'learning_rate': 0.09660502299851488}. Best is trial 13 with value: -4033.213801463867.\u001b[0m\n",
            "\u001b[32m[I 2023-01-15 11:33:16,649]\u001b[0m Trial 73 finished with value: -4056.6424849798555 and parameters: {'subsample': 0.9782517835678299, 'learning_rate': 0.09994350499885711}. Best is trial 13 with value: -4033.213801463867.\u001b[0m\n",
            "\u001b[32m[I 2023-01-15 11:33:29,597]\u001b[0m Trial 74 finished with value: -4120.931741907473 and parameters: {'subsample': 0.9769442670403055, 'learning_rate': 0.09653803210342918}. Best is trial 13 with value: -4033.213801463867.\u001b[0m\n",
            "\u001b[32m[I 2023-01-15 11:33:32,611]\u001b[0m Trial 75 finished with value: -4139.576737996067 and parameters: {'subsample': 0.9707373610259039, 'learning_rate': 0.09651580757295387}. Best is trial 13 with value: -4033.213801463867.\u001b[0m\n",
            "\u001b[32m[I 2023-01-15 11:33:45,767]\u001b[0m Trial 76 finished with value: -4097.788518938234 and parameters: {'subsample': 0.9511950521453445, 'learning_rate': 0.09305686148068527}. Best is trial 13 with value: -4033.213801463867.\u001b[0m\n",
            "\u001b[32m[I 2023-01-15 11:33:49,223]\u001b[0m Trial 77 finished with value: -4136.018882375805 and parameters: {'subsample': 0.951667822289018, 'learning_rate': 0.09995347482021051}. Best is trial 13 with value: -4033.213801463867.\u001b[0m\n",
            "\u001b[32m[I 2023-01-15 11:34:02,231]\u001b[0m Trial 78 finished with value: -4071.2257102975905 and parameters: {'subsample': 0.9227570831187626, 'learning_rate': 0.09912376103015627}. Best is trial 13 with value: -4033.213801463867.\u001b[0m\n",
            "\u001b[32m[I 2023-01-15 11:34:05,055]\u001b[0m Trial 79 finished with value: -4522.676711960453 and parameters: {'subsample': 0.9292402842640761, 'learning_rate': 0.02936747145358832}. Best is trial 13 with value: -4033.213801463867.\u001b[0m\n",
            "\u001b[32m[I 2023-01-15 11:34:19,257]\u001b[0m Trial 80 finished with value: -4061.5717593320983 and parameters: {'subsample': 0.9657243743723397, 'learning_rate': 0.0933036415931498}. Best is trial 13 with value: -4033.213801463867.\u001b[0m\n",
            "\u001b[32m[I 2023-01-15 11:34:20,670]\u001b[0m Trial 81 finished with value: -4212.400266948841 and parameters: {'subsample': 0.9681946115862289, 'learning_rate': 0.0935059046284451}. Best is trial 13 with value: -4033.213801463867.\u001b[0m\n",
            "\u001b[32m[I 2023-01-15 11:34:35,068]\u001b[0m Trial 82 finished with value: -4118.146166247218 and parameters: {'subsample': 0.9656471033122037, 'learning_rate': 0.09421340926517643}. Best is trial 13 with value: -4033.213801463867.\u001b[0m\n",
            "\u001b[32m[I 2023-01-15 11:34:37,193]\u001b[0m Trial 83 finished with value: -4087.5784520532848 and parameters: {'subsample': 0.9608293480328495, 'learning_rate': 0.0965334453127385}. Best is trial 13 with value: -4033.213801463867.\u001b[0m\n",
            "\u001b[32m[I 2023-01-15 11:34:51,410]\u001b[0m Trial 84 finished with value: -4116.948159081631 and parameters: {'subsample': 0.9805613649145575, 'learning_rate': 0.09537691745651351}. Best is trial 13 with value: -4033.213801463867.\u001b[0m\n",
            "\u001b[32m[I 2023-01-15 11:34:52,729]\u001b[0m Trial 85 finished with value: -4144.770218087989 and parameters: {'subsample': 0.9794861502938808, 'learning_rate': 0.08936662353393876}. Best is trial 13 with value: -4033.213801463867.\u001b[0m\n",
            "\u001b[32m[I 2023-01-15 11:35:07,538]\u001b[0m Trial 86 finished with value: -4132.317839034159 and parameters: {'subsample': 0.9898327306217866, 'learning_rate': 0.09038937238086572}. Best is trial 13 with value: -4033.213801463867.\u001b[0m\n",
            "\u001b[32m[I 2023-01-15 11:35:09,096]\u001b[0m Trial 87 finished with value: -4075.6638529893885 and parameters: {'subsample': 0.9473558377644047, 'learning_rate': 0.09782387280241606}. Best is trial 13 with value: -4033.213801463867.\u001b[0m\n",
            "\u001b[32m[I 2023-01-15 11:35:24,589]\u001b[0m Trial 88 finished with value: -4073.8590743124946 and parameters: {'subsample': 0.9476238945443152, 'learning_rate': 0.09776189830210014}. Best is trial 13 with value: -4033.213801463867.\u001b[0m\n",
            "\u001b[32m[I 2023-01-15 11:35:24,846]\u001b[0m Trial 89 finished with value: -4156.629426974679 and parameters: {'subsample': 0.791358470881994, 'learning_rate': 0.09229214939439408}. Best is trial 13 with value: -4033.213801463867.\u001b[0m\n",
            "\u001b[32m[I 2023-01-15 11:35:40,836]\u001b[0m Trial 90 finished with value: -4129.398795110922 and parameters: {'subsample': 0.7939304909643776, 'learning_rate': 0.08335371992410112}. Best is trial 13 with value: -4033.213801463867.\u001b[0m\n",
            "\u001b[32m[I 2023-01-15 11:35:41,861]\u001b[0m Trial 91 finished with value: -4133.751473602947 and parameters: {'subsample': 0.9146471446474567, 'learning_rate': 0.0839130295061254}. Best is trial 13 with value: -4033.213801463867.\u001b[0m\n",
            "\u001b[32m[I 2023-01-15 11:35:56,878]\u001b[0m Trial 92 finished with value: -4091.041340010574 and parameters: {'subsample': 0.9162106951310116, 'learning_rate': 0.0995635291520982}. Best is trial 13 with value: -4033.213801463867.\u001b[0m\n",
            "\u001b[32m[I 2023-01-15 11:35:58,187]\u001b[0m Trial 93 finished with value: -4055.8445996454066 and parameters: {'subsample': 0.9792005644559668, 'learning_rate': 0.0989018011474886}. Best is trial 13 with value: -4033.213801463867.\u001b[0m\n",
            "\u001b[32m[I 2023-01-15 11:36:11,921]\u001b[0m Trial 94 finished with value: -4091.068504409212 and parameters: {'subsample': 0.9779893548987044, 'learning_rate': 0.0884601483573249}. Best is trial 13 with value: -4033.213801463867.\u001b[0m\n",
            "\u001b[32m[I 2023-01-15 11:36:15,040]\u001b[0m Trial 95 finished with value: -4144.020843785432 and parameters: {'subsample': 0.9743322502455887, 'learning_rate': 0.09477355145030451}. Best is trial 13 with value: -4033.213801463867.\u001b[0m\n",
            "\u001b[32m[I 2023-01-15 11:36:28,105]\u001b[0m Trial 96 finished with value: -4115.495101917407 and parameters: {'subsample': 0.963444472693142, 'learning_rate': 0.0940499703147091}. Best is trial 13 with value: -4033.213801463867.\u001b[0m\n",
            "\u001b[32m[I 2023-01-15 11:36:31,381]\u001b[0m Trial 97 finished with value: -21751.197907349004 and parameters: {'subsample': 0.9612485187237548, 'learning_rate': 0.0032037262200709793}. Best is trial 13 with value: -4033.213801463867.\u001b[0m\n",
            "\u001b[32m[I 2023-01-15 11:36:45,083]\u001b[0m Trial 98 finished with value: -4016.9361118268826 and parameters: {'subsample': 0.9345166117490031, 'learning_rate': 0.09791295847378352}. Best is trial 98 with value: -4016.9361118268826.\u001b[0m\n",
            "\u001b[32m[I 2023-01-15 11:36:46,278]\u001b[0m Trial 99 finished with value: -4280.680996045175 and parameters: {'subsample': 0.9352872912161149, 'learning_rate': 0.06157716161058696}. Best is trial 98 with value: -4016.9361118268826.\u001b[0m\n"
          ]
        },
        {
          "output_type": "execute_result",
          "data": {
            "text/plain": [
              "OptunaSearchCV(cv=3,\n",
              "               estimator=<catboost.core.CatBoostRegressor object at 0x7fb7aaf1aa00>,\n",
              "               n_jobs=-1, n_trials=100,\n",
              "               param_distributions={'learning_rate': FloatDistribution(high=0.1, log=False, low=0.0001, step=None),\n",
              "                                    'subsample': FloatDistribution(high=0.99, log=False, low=0.5, step=None)},\n",
              "               scoring='neg_mean_absolute_error')"
            ]
          },
          "metadata": {},
          "execution_count": 52
        }
      ]
    },
    {
      "cell_type": "code",
      "source": [
        "-optuna_search.best_score_"
      ],
      "metadata": {
        "colab": {
          "base_uri": "https://localhost:8080/"
        },
        "id": "KteuyPQBVZi3",
        "outputId": "6ac1d0e9-1cfb-4da8-9dda-7df6c7e7a954"
      },
      "execution_count": 53,
      "outputs": [
        {
          "output_type": "execute_result",
          "data": {
            "text/plain": [
              "4016.9361118268826"
            ]
          },
          "metadata": {},
          "execution_count": 53
        }
      ]
    },
    {
      "cell_type": "code",
      "source": [
        "best_params = optuna_search.best_params_"
      ],
      "metadata": {
        "id": "rAQRzOmSVvQb"
      },
      "execution_count": 54,
      "outputs": []
    },
    {
      "cell_type": "code",
      "source": [
        "best_params"
      ],
      "metadata": {
        "colab": {
          "base_uri": "https://localhost:8080/"
        },
        "id": "A9yM5vzCZ0PE",
        "outputId": "8f75369a-2553-47e3-82d5-6b0a615f6c7b"
      },
      "execution_count": 55,
      "outputs": [
        {
          "output_type": "execute_result",
          "data": {
            "text/plain": [
              "{'subsample': 0.9345166117490031, 'learning_rate': 0.09791295847378352}"
            ]
          },
          "metadata": {},
          "execution_count": 55
        }
      ]
    },
    {
      "cell_type": "markdown",
      "source": [
        "Проверка на тестовой выборке с подобранными параметрами"
      ],
      "metadata": {
        "id": "vB4e14M8FA7-"
      }
    },
    {
      "cell_type": "code",
      "source": [
        "catb_fin_model = CatBoostRegressor(verbose=100,\n",
        "                                   random_seed=42,\n",
        "                                   **best_params)\n",
        "catb_fin_model.fit(features_train, target_train)\n",
        "pred = catb_fin_model.predict(features_test)"
      ],
      "metadata": {
        "colab": {
          "base_uri": "https://localhost:8080/"
        },
        "id": "tYb_Er92JdB7",
        "outputId": "f23986e9-24d9-4324-e094-7ee865039579"
      },
      "execution_count": 56,
      "outputs": [
        {
          "output_type": "stream",
          "name": "stdout",
          "text": [
            "0:\tlearn: 337826.2702090\ttotal: 4.19ms\tremaining: 4.19s\n",
            "100:\tlearn: 13604.5025664\ttotal: 318ms\tremaining: 2.83s\n",
            "200:\tlearn: 9785.7523996\ttotal: 642ms\tremaining: 2.55s\n",
            "300:\tlearn: 7923.8384910\ttotal: 948ms\tremaining: 2.2s\n",
            "400:\tlearn: 6813.1834991\ttotal: 1.45s\tremaining: 2.17s\n",
            "500:\tlearn: 6003.6194912\ttotal: 1.76s\tremaining: 1.76s\n",
            "600:\tlearn: 5358.4229999\ttotal: 2.07s\tremaining: 1.38s\n",
            "700:\tlearn: 4870.4401338\ttotal: 2.45s\tremaining: 1.05s\n",
            "800:\tlearn: 4464.8447503\ttotal: 2.88s\tremaining: 715ms\n",
            "900:\tlearn: 4129.8420563\ttotal: 3.2s\tremaining: 352ms\n",
            "999:\tlearn: 3842.9363428\ttotal: 3.54s\tremaining: 0us\n"
          ]
        }
      ]
    },
    {
      "cell_type": "code",
      "source": [
        "mae(target_test, pred)"
      ],
      "metadata": {
        "colab": {
          "base_uri": "https://localhost:8080/"
        },
        "id": "JTmJbz28KweM",
        "outputId": "a621b7ff-a5c1-4498-be1d-a7575c9b9140"
      },
      "execution_count": 57,
      "outputs": [
        {
          "output_type": "execute_result",
          "data": {
            "text/plain": [
              "3775.75970672423"
            ]
          },
          "metadata": {},
          "execution_count": 57
        }
      ]
    },
    {
      "cell_type": "markdown",
      "source": [
        "Ошибка в модели с подобранными параметрами optuna оказалась ниже"
      ],
      "metadata": {
        "id": "tXzZxv9cFSZ8"
      }
    },
    {
      "cell_type": "code",
      "source": [
        "catb.fit(features_train, target_train)\n",
        "pred1 = catb.predict(features_test)"
      ],
      "metadata": {
        "id": "8u8n599VaU-9"
      },
      "execution_count": 58,
      "outputs": []
    },
    {
      "cell_type": "code",
      "source": [
        "mae(target_test, pred1)"
      ],
      "metadata": {
        "colab": {
          "base_uri": "https://localhost:8080/"
        },
        "id": "w3H5tx9VadW-",
        "outputId": "a8101f67-2847-498a-c4da-f46a2fc8ce41"
      },
      "execution_count": 59,
      "outputs": [
        {
          "output_type": "execute_result",
          "data": {
            "text/plain": [
              "4053.978814788158"
            ]
          },
          "metadata": {},
          "execution_count": 59
        }
      ]
    },
    {
      "cell_type": "markdown",
      "source": [
        "#Общий вывод"
      ],
      "metadata": {
        "id": "M0ovfHzldalm"
      }
    },
    {
      "cell_type": "markdown",
      "source": [
        "Были выполнены шаги:\n",
        "\n",
        "1) Выполнена предобработка: \n",
        "* удалены дубликаты\n",
        "* обработаны аномалии, связанные с выбросами\n",
        "* удалены признаки, не влияющие на цену или с большим количеством пропусков\n",
        "* заполнены пропуски  \n",
        "\n",
        "2) Проведен анализ признаков  \n",
        "3) С помощью кросс-валидации выбрана лучшая модель и проведен поиск оптимальных параметров  \n",
        "4) Проведено обучение и предсказание модели с параметрами по умолчанию и дополнительно с оптимизированными гиперпараметрами.\n",
        "\n",
        "В качестве использования модели для предсказания цен на недвижимость рекомендуется выбрать CatBoost Regressor.\n",
        "\n"
      ],
      "metadata": {
        "id": "XCzg9JrDdeSA"
      }
    }
  ]
}